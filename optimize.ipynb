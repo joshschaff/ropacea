{
 "cells": [
  {
   "cell_type": "code",
   "execution_count": 9,
   "metadata": {},
   "outputs": [
    {
     "name": "stdout",
     "output_type": "stream",
     "text": [
      "Collecting nbformat\n",
      "  Obtaining dependency information for nbformat from https://files.pythonhosted.org/packages/f4/e7/ef30a90b70eba39e675689b9eaaa92530a71d7435ab8f9cae520814e0caf/nbformat-5.9.2-py3-none-any.whl.metadata\n",
      "  Using cached nbformat-5.9.2-py3-none-any.whl.metadata (3.4 kB)\n",
      "Collecting fastjsonschema (from nbformat)\n",
      "  Obtaining dependency information for fastjsonschema from https://files.pythonhosted.org/packages/63/e9/d3dca06ea6b8e58e65716973bc7d9bee9bc39ce233595aa04d04e89a1089/fastjsonschema-2.19.0-py3-none-any.whl.metadata\n",
      "  Using cached fastjsonschema-2.19.0-py3-none-any.whl.metadata (2.0 kB)\n",
      "Collecting jsonschema>=2.6 (from nbformat)\n",
      "  Obtaining dependency information for jsonschema>=2.6 from https://files.pythonhosted.org/packages/0f/ed/0058234d8dd2b1fc6beeea8eab945191a05e9d391a63202f49fe23327586/jsonschema-4.20.0-py3-none-any.whl.metadata\n",
      "  Using cached jsonschema-4.20.0-py3-none-any.whl.metadata (8.1 kB)\n",
      "Requirement already satisfied: jupyter-core in /home/josh/cmor462/ropacea/.venv/lib/python3.11/site-packages (from nbformat) (5.5.0)\n",
      "Requirement already satisfied: traitlets>=5.1 in /home/josh/cmor462/ropacea/.venv/lib/python3.11/site-packages (from nbformat) (5.14.0)\n",
      "Collecting attrs>=22.2.0 (from jsonschema>=2.6->nbformat)\n",
      "  Using cached attrs-23.1.0-py3-none-any.whl (61 kB)\n",
      "Collecting jsonschema-specifications>=2023.03.6 (from jsonschema>=2.6->nbformat)\n",
      "  Obtaining dependency information for jsonschema-specifications>=2023.03.6 from https://files.pythonhosted.org/packages/d7/48/b62ccba8f4ac91817d6a11b340e63806175dafb10234a8cf7140bd389da5/jsonschema_specifications-2023.11.2-py3-none-any.whl.metadata\n",
      "  Downloading jsonschema_specifications-2023.11.2-py3-none-any.whl.metadata (3.0 kB)\n",
      "Collecting referencing>=0.28.4 (from jsonschema>=2.6->nbformat)\n",
      "  Obtaining dependency information for referencing>=0.28.4 from https://files.pythonhosted.org/packages/b4/11/d121780c173336c9bc3a5b8240ed31f518957cc22f6311c76259cb0fcf32/referencing-0.32.0-py3-none-any.whl.metadata\n",
      "  Downloading referencing-0.32.0-py3-none-any.whl.metadata (2.7 kB)\n",
      "Collecting rpds-py>=0.7.1 (from jsonschema>=2.6->nbformat)\n",
      "  Obtaining dependency information for rpds-py>=0.7.1 from https://files.pythonhosted.org/packages/9b/8c/070ffa64e7e27dbeab360e624d51baf8dbaeb0d9e9b52db3000a876cf970/rpds_py-0.13.2-cp311-cp311-manylinux_2_17_x86_64.manylinux2014_x86_64.whl.metadata\n",
      "  Using cached rpds_py-0.13.2-cp311-cp311-manylinux_2_17_x86_64.manylinux2014_x86_64.whl.metadata (3.9 kB)\n",
      "Requirement already satisfied: platformdirs>=2.5 in /home/josh/cmor462/ropacea/.venv/lib/python3.11/site-packages (from jupyter-core->nbformat) (4.1.0)\n",
      "Using cached nbformat-5.9.2-py3-none-any.whl (77 kB)\n",
      "Using cached jsonschema-4.20.0-py3-none-any.whl (84 kB)\n",
      "Using cached fastjsonschema-2.19.0-py3-none-any.whl (23 kB)\n",
      "Downloading jsonschema_specifications-2023.11.2-py3-none-any.whl (17 kB)\n",
      "Downloading referencing-0.32.0-py3-none-any.whl (26 kB)\n",
      "Using cached rpds_py-0.13.2-cp311-cp311-manylinux_2_17_x86_64.manylinux2014_x86_64.whl (1.2 MB)\n",
      "Installing collected packages: fastjsonschema, rpds-py, attrs, referencing, jsonschema-specifications, jsonschema, nbformat\n",
      "Successfully installed attrs-23.1.0 fastjsonschema-2.19.0 jsonschema-4.20.0 jsonschema-specifications-2023.11.2 nbformat-5.9.2 referencing-0.32.0 rpds-py-0.13.2\n",
      "\n",
      "\u001b[1m[\u001b[0m\u001b[34;49mnotice\u001b[0m\u001b[1;39;49m]\u001b[0m\u001b[39;49m A new release of pip is available: \u001b[0m\u001b[31;49m23.2.1\u001b[0m\u001b[39;49m -> \u001b[0m\u001b[32;49m23.3.1\u001b[0m\n",
      "\u001b[1m[\u001b[0m\u001b[34;49mnotice\u001b[0m\u001b[1;39;49m]\u001b[0m\u001b[39;49m To update, run: \u001b[0m\u001b[32;49mpip install --upgrade pip\u001b[0m\n",
      "Note: you may need to restart the kernel to use updated packages.\n"
     ]
    }
   ],
   "source": [
    "pip install nbformat "
   ]
  },
  {
   "cell_type": "code",
   "execution_count": 1,
   "metadata": {},
   "outputs": [],
   "source": [
    "from ropacea.backtest import BacktestResult, backtest_loop, summarize_results\n",
    "from ropacea.portfolios import PortfolioStrategy\n",
    "\n",
    "import pandas as pd\n",
    "import numpy as np\n",
    "\n",
    "import plotly.express as px \n",
    "from datetime import date\n",
    "\n",
    "\n",
    "START_DATE = date(2017, 1, 1)\n",
    "END_DATE = date(2022, 1, 1)"
   ]
  },
  {
   "cell_type": "code",
   "execution_count": 2,
   "metadata": {},
   "outputs": [],
   "source": [
    "\n",
    "\n",
    "def param_tune(min, max, num, strategy):\n",
    "    min_return_ratios = np.linspace(min, max, num)\n",
    "\n",
    "\n",
    "    results_df = pd.DataFrame({'Minimum Return Ratio': min_return_ratios})\n",
    "    sharpe_ratios = []\n",
    "\n",
    "    for mrr in min_return_ratios:\n",
    "        backtest_results = backtest_loop(\n",
    "            start_date=START_DATE,\n",
    "            end_date=END_DATE,\n",
    "            strategy=strategy,\n",
    "            min_return_ratio=mrr\n",
    "        )\n",
    "        backtest_summary = summarize_results(backtest_results)\n",
    "        sharpe_ratios.append(backtest_summary.sharpe_ratio)\n",
    "\n",
    "\n",
    "    results_df['Sharpe Ratio'] = sharpe_ratios\n",
    "\n",
    "    return results_df\n"
   ]
  },
  {
   "cell_type": "code",
   "execution_count": 3,
   "metadata": {},
   "outputs": [
    {
     "name": "stdout",
     "output_type": "stream",
     "text": [
      "mark_date = datetime.date(2017, 1, 1)\n",
      "Set parameter Username\n",
      "monthly_portfolio_return = 0.0297\n",
      "risk_free_return = 0.0022\n",
      "mark_date = datetime.date(2017, 2, 1)\n",
      "monthly_portfolio_return = 0.0271\n",
      "risk_free_return = 0.0074\n",
      "mark_date = datetime.date(2017, 3, 1)\n"
     ]
    },
    {
     "name": "stderr",
     "output_type": "stream",
     "text": [
      "/home/josh/cmor462/ropacea/ropacea/scs.py:32: RuntimeWarning: divide by zero encountered in scalar divide\n",
      "  alpha = max(0, (gamma - n_assets) / (delta * n_obs))\n",
      "/home/josh/cmor462/ropacea/ropacea/scs.py:32: RuntimeWarning: divide by zero encountered in scalar divide\n",
      "  alpha = max(0, (gamma - n_assets) / (delta * n_obs))\n",
      "/home/josh/cmor462/ropacea/ropacea/scs.py:32: RuntimeWarning: divide by zero encountered in scalar divide\n",
      "  alpha = max(0, (gamma - n_assets) / (delta * n_obs))\n",
      "/home/josh/cmor462/ropacea/ropacea/scs.py:32: RuntimeWarning: divide by zero encountered in scalar divide\n",
      "  alpha = max(0, (gamma - n_assets) / (delta * n_obs))\n"
     ]
    },
    {
     "name": "stdout",
     "output_type": "stream",
     "text": [
      "monthly_portfolio_return = 0.0341\n",
      "risk_free_return = 0.0024\n",
      "mark_date = datetime.date(2017, 4, 1)\n",
      "monthly_portfolio_return = -0.0116\n",
      "risk_free_return = 0.0111\n",
      "mark_date = datetime.date(2017, 5, 1)\n",
      "monthly_portfolio_return = 0.0882\n",
      "risk_free_return = 0.0079\n",
      "mark_date = datetime.date(2017, 6, 1)\n",
      "monthly_portfolio_return = 0.0198\n",
      "risk_free_return = -0.0013\n",
      "mark_date = datetime.date(2017, 7, 1)\n"
     ]
    },
    {
     "name": "stderr",
     "output_type": "stream",
     "text": [
      "/home/josh/cmor462/ropacea/ropacea/scs.py:32: RuntimeWarning: divide by zero encountered in scalar divide\n",
      "  alpha = max(0, (gamma - n_assets) / (delta * n_obs))\n",
      "/home/josh/cmor462/ropacea/ropacea/scs.py:32: RuntimeWarning: divide by zero encountered in scalar divide\n",
      "  alpha = max(0, (gamma - n_assets) / (delta * n_obs))\n",
      "/home/josh/cmor462/ropacea/ropacea/scs.py:32: RuntimeWarning: divide by zero encountered in scalar divide\n",
      "  alpha = max(0, (gamma - n_assets) / (delta * n_obs))\n"
     ]
    },
    {
     "name": "stdout",
     "output_type": "stream",
     "text": [
      "monthly_portfolio_return = 0.0336\n",
      "risk_free_return = -0.0000\n",
      "mark_date = datetime.date(2017, 8, 1)\n",
      "monthly_portfolio_return = 0.0200\n",
      "risk_free_return = 0.0171\n",
      "mark_date = datetime.date(2017, 9, 1)\n",
      "monthly_portfolio_return = 0.0201\n",
      "risk_free_return = -0.0172\n",
      "mark_date = datetime.date(2017, 10, 1)\n",
      "monthly_portfolio_return = 0.0665\n",
      "risk_free_return = -0.0011\n",
      "mark_date = datetime.date(2017, 11, 1)\n"
     ]
    },
    {
     "name": "stderr",
     "output_type": "stream",
     "text": [
      "/home/josh/cmor462/ropacea/ropacea/scs.py:32: RuntimeWarning: divide by zero encountered in scalar divide\n",
      "  alpha = max(0, (gamma - n_assets) / (delta * n_obs))\n",
      "/home/josh/cmor462/ropacea/ropacea/scs.py:32: RuntimeWarning: divide by zero encountered in scalar divide\n",
      "  alpha = max(0, (gamma - n_assets) / (delta * n_obs))\n",
      "/home/josh/cmor462/ropacea/ropacea/scs.py:32: RuntimeWarning: divide by zero encountered in scalar divide\n",
      "  alpha = max(0, (gamma - n_assets) / (delta * n_obs))\n",
      "/home/josh/cmor462/ropacea/ropacea/scs.py:32: RuntimeWarning: divide by zero encountered in scalar divide\n",
      "  alpha = max(0, (gamma - n_assets) / (delta * n_obs))\n"
     ]
    },
    {
     "name": "stdout",
     "output_type": "stream",
     "text": [
      "monthly_portfolio_return = 0.0216\n",
      "risk_free_return = -0.0026\n",
      "mark_date = datetime.date(2017, 12, 1)\n",
      "monthly_portfolio_return = -0.0059\n",
      "risk_free_return = 0.0022\n",
      "mark_date = datetime.date(2018, 1, 1)\n",
      "monthly_portfolio_return = 0.0875\n",
      "risk_free_return = -0.0236\n",
      "mark_date = datetime.date(2018, 2, 1)\n",
      "monthly_portfolio_return = -0.0348\n",
      "risk_free_return = -0.0130\n",
      "mark_date = datetime.date(2018, 3, 1)\n"
     ]
    },
    {
     "name": "stderr",
     "output_type": "stream",
     "text": [
      "/home/josh/cmor462/ropacea/ropacea/scs.py:32: RuntimeWarning: divide by zero encountered in scalar divide\n",
      "  alpha = max(0, (gamma - n_assets) / (delta * n_obs))\n",
      "/home/josh/cmor462/ropacea/ropacea/scs.py:32: RuntimeWarning: divide by zero encountered in scalar divide\n",
      "  alpha = max(0, (gamma - n_assets) / (delta * n_obs))\n",
      "/home/josh/cmor462/ropacea/ropacea/scs.py:32: RuntimeWarning: divide by zero encountered in scalar divide\n",
      "  alpha = max(0, (gamma - n_assets) / (delta * n_obs))\n",
      "/home/josh/cmor462/ropacea/ropacea/scs.py:32: RuntimeWarning: divide by zero encountered in scalar divide\n",
      "  alpha = max(0, (gamma - n_assets) / (delta * n_obs))\n"
     ]
    },
    {
     "name": "stdout",
     "output_type": "stream",
     "text": [
      "monthly_portfolio_return = -0.0117\n",
      "risk_free_return = 0.0128\n",
      "mark_date = datetime.date(2018, 4, 1)\n",
      "monthly_portfolio_return = 0.0273\n",
      "risk_free_return = -0.0155\n",
      "mark_date = datetime.date(2018, 5, 1)\n",
      "monthly_portfolio_return = 0.0474\n",
      "risk_free_return = 0.0096\n",
      "mark_date = datetime.date(2018, 6, 1)\n",
      "monthly_portfolio_return = -0.0077\n",
      "risk_free_return = 0.0023\n",
      "mark_date = datetime.date(2018, 7, 1)\n"
     ]
    },
    {
     "name": "stderr",
     "output_type": "stream",
     "text": [
      "/home/josh/cmor462/ropacea/ropacea/scs.py:32: RuntimeWarning: divide by zero encountered in scalar divide\n",
      "  alpha = max(0, (gamma - n_assets) / (delta * n_obs))\n",
      "/home/josh/cmor462/ropacea/ropacea/scs.py:32: RuntimeWarning: divide by zero encountered in scalar divide\n",
      "  alpha = max(0, (gamma - n_assets) / (delta * n_obs))\n",
      "/home/josh/cmor462/ropacea/ropacea/scs.py:32: RuntimeWarning: divide by zero encountered in scalar divide\n",
      "  alpha = max(0, (gamma - n_assets) / (delta * n_obs))\n",
      "/home/josh/cmor462/ropacea/ropacea/scs.py:32: RuntimeWarning: divide by zero encountered in scalar divide\n",
      "  alpha = max(0, (gamma - n_assets) / (delta * n_obs))\n"
     ]
    },
    {
     "name": "stdout",
     "output_type": "stream",
     "text": [
      "monthly_portfolio_return = 0.0729\n",
      "risk_free_return = -0.0051\n",
      "mark_date = datetime.date(2018, 8, 1)\n",
      "monthly_portfolio_return = 0.0810\n",
      "risk_free_return = 0.0101\n",
      "mark_date = datetime.date(2018, 9, 1)\n",
      "monthly_portfolio_return = 0.0167\n",
      "risk_free_return = -0.0148\n",
      "mark_date = datetime.date(2018, 10, 1)\n",
      "monthly_portfolio_return = -0.0509\n",
      "risk_free_return = -0.0043\n",
      "mark_date = datetime.date(2018, 11, 1)\n"
     ]
    },
    {
     "name": "stderr",
     "output_type": "stream",
     "text": [
      "/home/josh/cmor462/ropacea/ropacea/scs.py:32: RuntimeWarning: divide by zero encountered in scalar divide\n",
      "  alpha = max(0, (gamma - n_assets) / (delta * n_obs))\n",
      "/home/josh/cmor462/ropacea/ropacea/scs.py:32: RuntimeWarning: divide by zero encountered in scalar divide\n",
      "  alpha = max(0, (gamma - n_assets) / (delta * n_obs))\n",
      "/home/josh/cmor462/ropacea/ropacea/scs.py:32: RuntimeWarning: divide by zero encountered in scalar divide\n",
      "  alpha = max(0, (gamma - n_assets) / (delta * n_obs))\n",
      "/home/josh/cmor462/ropacea/ropacea/scs.py:32: RuntimeWarning: divide by zero encountered in scalar divide\n",
      "  alpha = max(0, (gamma - n_assets) / (delta * n_obs))\n"
     ]
    },
    {
     "name": "stdout",
     "output_type": "stream",
     "text": [
      "monthly_portfolio_return = 0.0312\n",
      "risk_free_return = 0.0149\n",
      "mark_date = datetime.date(2018, 12, 1)\n",
      "monthly_portfolio_return = -0.0702\n",
      "risk_free_return = 0.0286\n",
      "mark_date = datetime.date(2019, 1, 1)\n",
      "monthly_portfolio_return = 0.0394\n",
      "risk_free_return = 0.0071\n",
      "mark_date = datetime.date(2019, 2, 1)\n",
      "monthly_portfolio_return = 0.0574\n",
      "risk_free_return = -0.0043\n",
      "mark_date = datetime.date(2019, 3, 1)\n"
     ]
    },
    {
     "name": "stderr",
     "output_type": "stream",
     "text": [
      "/home/josh/cmor462/ropacea/ropacea/scs.py:32: RuntimeWarning: divide by zero encountered in scalar divide\n",
      "  alpha = max(0, (gamma - n_assets) / (delta * n_obs))\n",
      "/home/josh/cmor462/ropacea/ropacea/scs.py:32: RuntimeWarning: divide by zero encountered in scalar divide\n",
      "  alpha = max(0, (gamma - n_assets) / (delta * n_obs))\n",
      "/home/josh/cmor462/ropacea/ropacea/scs.py:32: RuntimeWarning: divide by zero encountered in scalar divide\n",
      "  alpha = max(0, (gamma - n_assets) / (delta * n_obs))\n",
      "/home/josh/cmor462/ropacea/ropacea/scs.py:32: RuntimeWarning: divide by zero encountered in scalar divide\n",
      "  alpha = max(0, (gamma - n_assets) / (delta * n_obs))\n"
     ]
    },
    {
     "name": "stdout",
     "output_type": "stream",
     "text": [
      "monthly_portfolio_return = 0.0511\n",
      "risk_free_return = 0.0294\n",
      "mark_date = datetime.date(2019, 4, 1)\n",
      "monthly_portfolio_return = -0.0104\n",
      "risk_free_return = -0.0062\n",
      "mark_date = datetime.date(2019, 5, 1)\n",
      "monthly_portfolio_return = -0.0411\n",
      "risk_free_return = 0.0319\n",
      "mark_date = datetime.date(2019, 6, 1)\n",
      "monthly_portfolio_return = 0.0375\n",
      "risk_free_return = 0.0121\n",
      "mark_date = datetime.date(2019, 7, 1)\n"
     ]
    },
    {
     "name": "stderr",
     "output_type": "stream",
     "text": [
      "/home/josh/cmor462/ropacea/ropacea/scs.py:32: RuntimeWarning: divide by zero encountered in scalar divide\n",
      "  alpha = max(0, (gamma - n_assets) / (delta * n_obs))\n",
      "/home/josh/cmor462/ropacea/ropacea/scs.py:32: RuntimeWarning: divide by zero encountered in scalar divide\n",
      "  alpha = max(0, (gamma - n_assets) / (delta * n_obs))\n",
      "/home/josh/cmor462/ropacea/ropacea/scs.py:32: RuntimeWarning: divide by zero encountered in scalar divide\n",
      "  alpha = max(0, (gamma - n_assets) / (delta * n_obs))\n",
      "/home/josh/cmor462/ropacea/ropacea/scs.py:32: RuntimeWarning: divide by zero encountered in scalar divide\n",
      "  alpha = max(0, (gamma - n_assets) / (delta * n_obs))\n"
     ]
    },
    {
     "name": "stdout",
     "output_type": "stream",
     "text": [
      "monthly_portfolio_return = 0.0118\n",
      "risk_free_return = 0.0034\n",
      "mark_date = datetime.date(2019, 8, 1)\n",
      "monthly_portfolio_return = 0.0288\n",
      "risk_free_return = 0.0403\n",
      "mark_date = datetime.date(2019, 9, 1)\n",
      "monthly_portfolio_return = -0.0119\n",
      "risk_free_return = -0.0139\n",
      "mark_date = datetime.date(2019, 10, 1)\n",
      "monthly_portfolio_return = -0.0027\n",
      "risk_free_return = -0.0007\n",
      "mark_date = datetime.date(2019, 11, 1)\n"
     ]
    },
    {
     "name": "stderr",
     "output_type": "stream",
     "text": [
      "/home/josh/cmor462/ropacea/ropacea/scs.py:32: RuntimeWarning: divide by zero encountered in scalar divide\n",
      "  alpha = max(0, (gamma - n_assets) / (delta * n_obs))\n",
      "/home/josh/cmor462/ropacea/ropacea/scs.py:32: RuntimeWarning: divide by zero encountered in scalar divide\n",
      "  alpha = max(0, (gamma - n_assets) / (delta * n_obs))\n",
      "/home/josh/cmor462/ropacea/ropacea/scs.py:32: RuntimeWarning: divide by zero encountered in scalar divide\n",
      "  alpha = max(0, (gamma - n_assets) / (delta * n_obs))\n",
      "/home/josh/cmor462/ropacea/ropacea/scs.py:32: RuntimeWarning: divide by zero encountered in scalar divide\n",
      "  alpha = max(0, (gamma - n_assets) / (delta * n_obs))\n"
     ]
    },
    {
     "name": "stdout",
     "output_type": "stream",
     "text": [
      "monthly_portfolio_return = 0.0344\n",
      "risk_free_return = -0.0074\n",
      "mark_date = datetime.date(2019, 12, 1)\n",
      "monthly_portfolio_return = 0.0604\n",
      "risk_free_return = -0.0113\n",
      "mark_date = datetime.date(2020, 1, 1)\n",
      "monthly_portfolio_return = 0.0608\n",
      "risk_free_return = 0.0392\n",
      "mark_date = datetime.date(2020, 2, 1)\n",
      "monthly_portfolio_return = -0.0538\n",
      "risk_free_return = 0.0299\n",
      "mark_date = datetime.date(2020, 3, 1)\n"
     ]
    },
    {
     "name": "stderr",
     "output_type": "stream",
     "text": [
      "/home/josh/cmor462/ropacea/ropacea/scs.py:32: RuntimeWarning: divide by zero encountered in scalar divide\n",
      "  alpha = max(0, (gamma - n_assets) / (delta * n_obs))\n",
      "/home/josh/cmor462/ropacea/ropacea/scs.py:32: RuntimeWarning: divide by zero encountered in scalar divide\n",
      "  alpha = max(0, (gamma - n_assets) / (delta * n_obs))\n",
      "/home/josh/cmor462/ropacea/ropacea/scs.py:32: RuntimeWarning: divide by zero encountered in scalar divide\n",
      "  alpha = max(0, (gamma - n_assets) / (delta * n_obs))\n",
      "/home/josh/cmor462/ropacea/ropacea/scs.py:32: RuntimeWarning: divide by zero encountered in scalar divide\n",
      "  alpha = max(0, (gamma - n_assets) / (delta * n_obs))\n"
     ]
    },
    {
     "name": "stdout",
     "output_type": "stream",
     "text": [
      "monthly_portfolio_return = -0.0503\n",
      "risk_free_return = 0.0397\n",
      "mark_date = datetime.date(2020, 4, 1)\n",
      "monthly_portfolio_return = 0.1050\n",
      "risk_free_return = 0.0050\n",
      "mark_date = datetime.date(2020, 5, 1)\n",
      "monthly_portfolio_return = 0.0362\n",
      "risk_free_return = 0.0007\n",
      "mark_date = datetime.date(2020, 6, 1)\n",
      "monthly_portfolio_return = 0.0453\n",
      "risk_free_return = 0.0004\n",
      "mark_date = datetime.date(2020, 7, 1)\n"
     ]
    },
    {
     "name": "stderr",
     "output_type": "stream",
     "text": [
      "/home/josh/cmor462/ropacea/ropacea/scs.py:32: RuntimeWarning: divide by zero encountered in scalar divide\n",
      "  alpha = max(0, (gamma - n_assets) / (delta * n_obs))\n",
      "/home/josh/cmor462/ropacea/ropacea/scs.py:32: RuntimeWarning: divide by zero encountered in scalar divide\n",
      "  alpha = max(0, (gamma - n_assets) / (delta * n_obs))\n",
      "/home/josh/cmor462/ropacea/ropacea/scs.py:32: RuntimeWarning: divide by zero encountered in scalar divide\n",
      "  alpha = max(0, (gamma - n_assets) / (delta * n_obs))\n",
      "/home/josh/cmor462/ropacea/ropacea/scs.py:32: RuntimeWarning: divide by zero encountered in scalar divide\n",
      "  alpha = max(0, (gamma - n_assets) / (delta * n_obs))\n"
     ]
    },
    {
     "name": "stdout",
     "output_type": "stream",
     "text": [
      "monthly_portfolio_return = 0.0365\n",
      "risk_free_return = 0.0128\n",
      "mark_date = datetime.date(2020, 8, 1)\n",
      "monthly_portfolio_return = 0.0917\n",
      "risk_free_return = -0.0147\n",
      "mark_date = datetime.date(2020, 9, 1)\n",
      "monthly_portfolio_return = -0.0095\n",
      "risk_free_return = 0.0026\n",
      "mark_date = datetime.date(2020, 10, 1)\n",
      "monthly_portfolio_return = -0.0541\n",
      "risk_free_return = -0.0173\n",
      "mark_date = datetime.date(2020, 11, 1)\n"
     ]
    },
    {
     "name": "stderr",
     "output_type": "stream",
     "text": [
      "/home/josh/cmor462/ropacea/ropacea/scs.py:32: RuntimeWarning: divide by zero encountered in scalar divide\n",
      "  alpha = max(0, (gamma - n_assets) / (delta * n_obs))\n",
      "/home/josh/cmor462/ropacea/ropacea/scs.py:32: RuntimeWarning: divide by zero encountered in scalar divide\n",
      "  alpha = max(0, (gamma - n_assets) / (delta * n_obs))\n",
      "/home/josh/cmor462/ropacea/ropacea/scs.py:32: RuntimeWarning: divide by zero encountered in scalar divide\n",
      "  alpha = max(0, (gamma - n_assets) / (delta * n_obs))\n",
      "/home/josh/cmor462/ropacea/ropacea/scs.py:32: RuntimeWarning: divide by zero encountered in scalar divide\n",
      "  alpha = max(0, (gamma - n_assets) / (delta * n_obs))\n"
     ]
    },
    {
     "name": "stdout",
     "output_type": "stream",
     "text": [
      "monthly_portfolio_return = 0.0600\n",
      "risk_free_return = 0.0040\n",
      "mark_date = datetime.date(2020, 12, 1)\n",
      "monthly_portfolio_return = 0.0138\n",
      "risk_free_return = -0.0050\n",
      "mark_date = datetime.date(2021, 1, 1)\n",
      "monthly_portfolio_return = 0.0216\n",
      "risk_free_return = -0.0107\n",
      "mark_date = datetime.date(2021, 2, 1)\n",
      "monthly_portfolio_return = -0.0147\n",
      "risk_free_return = -0.0254\n",
      "mark_date = datetime.date(2021, 3, 1)\n"
     ]
    },
    {
     "name": "stderr",
     "output_type": "stream",
     "text": [
      "/home/josh/cmor462/ropacea/ropacea/scs.py:32: RuntimeWarning: divide by zero encountered in scalar divide\n",
      "  alpha = max(0, (gamma - n_assets) / (delta * n_obs))\n",
      "/home/josh/cmor462/ropacea/ropacea/scs.py:32: RuntimeWarning: divide by zero encountered in scalar divide\n",
      "  alpha = max(0, (gamma - n_assets) / (delta * n_obs))\n",
      "/home/josh/cmor462/ropacea/ropacea/scs.py:32: RuntimeWarning: divide by zero encountered in scalar divide\n",
      "  alpha = max(0, (gamma - n_assets) / (delta * n_obs))\n",
      "/home/josh/cmor462/ropacea/ropacea/scs.py:32: RuntimeWarning: divide by zero encountered in scalar divide\n",
      "  alpha = max(0, (gamma - n_assets) / (delta * n_obs))\n"
     ]
    },
    {
     "name": "stdout",
     "output_type": "stream",
     "text": [
      "monthly_portfolio_return = -0.0024\n",
      "risk_free_return = -0.0293\n",
      "mark_date = datetime.date(2021, 4, 1)\n",
      "monthly_portfolio_return = 0.0448\n",
      "risk_free_return = 0.0119\n",
      "mark_date = datetime.date(2021, 5, 1)\n",
      "monthly_portfolio_return = 0.0300\n",
      "risk_free_return = 0.0034\n",
      "mark_date = datetime.date(2021, 6, 1)\n",
      "monthly_portfolio_return = 0.0909\n",
      "risk_free_return = 0.0141\n",
      "mark_date = datetime.date(2021, 7, 1)\n"
     ]
    },
    {
     "name": "stderr",
     "output_type": "stream",
     "text": [
      "/home/josh/cmor462/ropacea/ropacea/scs.py:32: RuntimeWarning: divide by zero encountered in scalar divide\n",
      "  alpha = max(0, (gamma - n_assets) / (delta * n_obs))\n",
      "/home/josh/cmor462/ropacea/ropacea/scs.py:32: RuntimeWarning: divide by zero encountered in scalar divide\n",
      "  alpha = max(0, (gamma - n_assets) / (delta * n_obs))\n",
      "/home/josh/cmor462/ropacea/ropacea/scs.py:32: RuntimeWarning: divide by zero encountered in scalar divide\n",
      "  alpha = max(0, (gamma - n_assets) / (delta * n_obs))\n",
      "/home/josh/cmor462/ropacea/ropacea/scs.py:32: RuntimeWarning: divide by zero encountered in scalar divide\n",
      "  alpha = max(0, (gamma - n_assets) / (delta * n_obs))\n"
     ]
    },
    {
     "name": "stdout",
     "output_type": "stream",
     "text": [
      "monthly_portfolio_return = 0.0423\n",
      "risk_free_return = 0.0238\n",
      "mark_date = datetime.date(2021, 8, 1)\n",
      "monthly_portfolio_return = 0.0610\n",
      "risk_free_return = -0.0048\n",
      "mark_date = datetime.date(2021, 9, 1)\n",
      "monthly_portfolio_return = -0.0681\n",
      "risk_free_return = -0.0154\n",
      "mark_date = datetime.date(2021, 10, 1)\n",
      "monthly_portfolio_return = 0.1193\n",
      "risk_free_return = -0.0049\n",
      "mark_date = datetime.date(2021, 11, 1)\n"
     ]
    },
    {
     "name": "stderr",
     "output_type": "stream",
     "text": [
      "/home/josh/cmor462/ropacea/ropacea/scs.py:32: RuntimeWarning: divide by zero encountered in scalar divide\n",
      "  alpha = max(0, (gamma - n_assets) / (delta * n_obs))\n",
      "/home/josh/cmor462/ropacea/ropacea/scs.py:32: RuntimeWarning: divide by zero encountered in scalar divide\n",
      "  alpha = max(0, (gamma - n_assets) / (delta * n_obs))\n",
      "/home/josh/cmor462/ropacea/ropacea/scs.py:32: RuntimeWarning: divide by zero encountered in scalar divide\n",
      "  alpha = max(0, (gamma - n_assets) / (delta * n_obs))\n",
      "/home/josh/cmor462/ropacea/ropacea/scs.py:32: RuntimeWarning: divide by zero encountered in scalar divide\n",
      "  alpha = max(0, (gamma - n_assets) / (delta * n_obs))\n"
     ]
    },
    {
     "name": "stdout",
     "output_type": "stream",
     "text": [
      "monthly_portfolio_return = 0.0358\n",
      "risk_free_return = 0.0125\n",
      "mark_date = datetime.date(2021, 12, 1)\n",
      "monthly_portfolio_return = 0.0524\n",
      "risk_free_return = -0.0047\n",
      "========== SUMMARY ==========\n",
      "monthly_returns_bp_mean = 217.14\n",
      "monthly_returns_bp_std = 470.22\n",
      "annualized_mean_pct = 29.41\n",
      "annualized_std_pct = 16.29\n",
      "sharpe_ratio = 1.81\n",
      "mark_date = datetime.date(2017, 1, 1)\n",
      "monthly_portfolio_return = 0.0309\n",
      "risk_free_return = 0.0022\n",
      "mark_date = datetime.date(2017, 2, 1)\n",
      "monthly_portfolio_return = 0.0262\n",
      "risk_free_return = 0.0074\n",
      "mark_date = datetime.date(2017, 3, 1)\n"
     ]
    },
    {
     "name": "stderr",
     "output_type": "stream",
     "text": [
      "/home/josh/cmor462/ropacea/ropacea/scs.py:32: RuntimeWarning: divide by zero encountered in scalar divide\n",
      "  alpha = max(0, (gamma - n_assets) / (delta * n_obs))\n",
      "/home/josh/cmor462/ropacea/ropacea/scs.py:32: RuntimeWarning: divide by zero encountered in scalar divide\n",
      "  alpha = max(0, (gamma - n_assets) / (delta * n_obs))\n",
      "/home/josh/cmor462/ropacea/ropacea/scs.py:32: RuntimeWarning: divide by zero encountered in scalar divide\n",
      "  alpha = max(0, (gamma - n_assets) / (delta * n_obs))\n",
      "/home/josh/cmor462/ropacea/ropacea/scs.py:32: RuntimeWarning: divide by zero encountered in scalar divide\n",
      "  alpha = max(0, (gamma - n_assets) / (delta * n_obs))\n"
     ]
    },
    {
     "name": "stdout",
     "output_type": "stream",
     "text": [
      "monthly_portfolio_return = 0.0350\n",
      "risk_free_return = 0.0024\n",
      "mark_date = datetime.date(2017, 4, 1)\n",
      "monthly_portfolio_return = -0.0116\n",
      "risk_free_return = 0.0111\n",
      "mark_date = datetime.date(2017, 5, 1)\n",
      "monthly_portfolio_return = 0.0903\n",
      "risk_free_return = 0.0079\n",
      "mark_date = datetime.date(2017, 6, 1)\n",
      "monthly_portfolio_return = 0.0202\n",
      "risk_free_return = -0.0013\n",
      "mark_date = datetime.date(2017, 7, 1)\n"
     ]
    },
    {
     "name": "stderr",
     "output_type": "stream",
     "text": [
      "/home/josh/cmor462/ropacea/ropacea/scs.py:32: RuntimeWarning: divide by zero encountered in scalar divide\n",
      "  alpha = max(0, (gamma - n_assets) / (delta * n_obs))\n",
      "/home/josh/cmor462/ropacea/ropacea/scs.py:32: RuntimeWarning: divide by zero encountered in scalar divide\n",
      "  alpha = max(0, (gamma - n_assets) / (delta * n_obs))\n",
      "/home/josh/cmor462/ropacea/ropacea/scs.py:32: RuntimeWarning: divide by zero encountered in scalar divide\n",
      "  alpha = max(0, (gamma - n_assets) / (delta * n_obs))\n",
      "/home/josh/cmor462/ropacea/ropacea/scs.py:32: RuntimeWarning: divide by zero encountered in scalar divide\n",
      "  alpha = max(0, (gamma - n_assets) / (delta * n_obs))\n"
     ]
    },
    {
     "name": "stdout",
     "output_type": "stream",
     "text": [
      "monthly_portfolio_return = 0.0339\n",
      "risk_free_return = -0.0000\n",
      "mark_date = datetime.date(2017, 8, 1)\n",
      "monthly_portfolio_return = 0.0204\n",
      "risk_free_return = 0.0171\n",
      "mark_date = datetime.date(2017, 9, 1)\n",
      "monthly_portfolio_return = 0.0198\n",
      "risk_free_return = -0.0172\n",
      "mark_date = datetime.date(2017, 10, 1)\n",
      "monthly_portfolio_return = 0.0675\n",
      "risk_free_return = -0.0011\n",
      "mark_date = datetime.date(2017, 11, 1)\n"
     ]
    },
    {
     "name": "stderr",
     "output_type": "stream",
     "text": [
      "/home/josh/cmor462/ropacea/ropacea/scs.py:32: RuntimeWarning: divide by zero encountered in scalar divide\n",
      "  alpha = max(0, (gamma - n_assets) / (delta * n_obs))\n",
      "/home/josh/cmor462/ropacea/ropacea/scs.py:32: RuntimeWarning: divide by zero encountered in scalar divide\n",
      "  alpha = max(0, (gamma - n_assets) / (delta * n_obs))\n",
      "/home/josh/cmor462/ropacea/ropacea/scs.py:32: RuntimeWarning: divide by zero encountered in scalar divide\n",
      "  alpha = max(0, (gamma - n_assets) / (delta * n_obs))\n",
      "/home/josh/cmor462/ropacea/ropacea/scs.py:32: RuntimeWarning: divide by zero encountered in scalar divide\n",
      "  alpha = max(0, (gamma - n_assets) / (delta * n_obs))\n"
     ]
    },
    {
     "name": "stdout",
     "output_type": "stream",
     "text": [
      "monthly_portfolio_return = 0.0214\n",
      "risk_free_return = -0.0026\n",
      "mark_date = datetime.date(2017, 12, 1)\n",
      "monthly_portfolio_return = -0.0067\n",
      "risk_free_return = 0.0022\n",
      "mark_date = datetime.date(2018, 1, 1)\n",
      "monthly_portfolio_return = 0.0891\n",
      "risk_free_return = -0.0236\n",
      "mark_date = datetime.date(2018, 2, 1)\n",
      "monthly_portfolio_return = -0.0334\n",
      "risk_free_return = -0.0130\n",
      "mark_date = datetime.date(2018, 3, 1)\n"
     ]
    },
    {
     "name": "stderr",
     "output_type": "stream",
     "text": [
      "/home/josh/cmor462/ropacea/ropacea/scs.py:32: RuntimeWarning: divide by zero encountered in scalar divide\n",
      "  alpha = max(0, (gamma - n_assets) / (delta * n_obs))\n",
      "/home/josh/cmor462/ropacea/ropacea/scs.py:32: RuntimeWarning: divide by zero encountered in scalar divide\n",
      "  alpha = max(0, (gamma - n_assets) / (delta * n_obs))\n",
      "/home/josh/cmor462/ropacea/ropacea/scs.py:32: RuntimeWarning: divide by zero encountered in scalar divide\n",
      "  alpha = max(0, (gamma - n_assets) / (delta * n_obs))\n",
      "/home/josh/cmor462/ropacea/ropacea/scs.py:32: RuntimeWarning: divide by zero encountered in scalar divide\n",
      "  alpha = max(0, (gamma - n_assets) / (delta * n_obs))\n"
     ]
    },
    {
     "name": "stdout",
     "output_type": "stream",
     "text": [
      "monthly_portfolio_return = -0.0116\n",
      "risk_free_return = 0.0128\n",
      "mark_date = datetime.date(2018, 4, 1)\n",
      "monthly_portfolio_return = 0.0268\n",
      "risk_free_return = -0.0155\n",
      "mark_date = datetime.date(2018, 5, 1)\n",
      "monthly_portfolio_return = 0.0489\n",
      "risk_free_return = 0.0096\n",
      "mark_date = datetime.date(2018, 6, 1)\n",
      "monthly_portfolio_return = -0.0083\n",
      "risk_free_return = 0.0023\n",
      "mark_date = datetime.date(2018, 7, 1)\n"
     ]
    },
    {
     "name": "stderr",
     "output_type": "stream",
     "text": [
      "/home/josh/cmor462/ropacea/ropacea/scs.py:32: RuntimeWarning: divide by zero encountered in scalar divide\n",
      "  alpha = max(0, (gamma - n_assets) / (delta * n_obs))\n",
      "/home/josh/cmor462/ropacea/ropacea/scs.py:32: RuntimeWarning: divide by zero encountered in scalar divide\n",
      "  alpha = max(0, (gamma - n_assets) / (delta * n_obs))\n",
      "/home/josh/cmor462/ropacea/ropacea/scs.py:32: RuntimeWarning: divide by zero encountered in scalar divide\n",
      "  alpha = max(0, (gamma - n_assets) / (delta * n_obs))\n",
      "/home/josh/cmor462/ropacea/ropacea/scs.py:32: RuntimeWarning: divide by zero encountered in scalar divide\n",
      "  alpha = max(0, (gamma - n_assets) / (delta * n_obs))\n"
     ]
    },
    {
     "name": "stdout",
     "output_type": "stream",
     "text": [
      "monthly_portfolio_return = 0.0729\n",
      "risk_free_return = -0.0051\n",
      "mark_date = datetime.date(2018, 8, 1)\n",
      "monthly_portfolio_return = 0.0814\n",
      "risk_free_return = 0.0101\n",
      "mark_date = datetime.date(2018, 9, 1)\n",
      "monthly_portfolio_return = 0.0168\n",
      "risk_free_return = -0.0148\n",
      "mark_date = datetime.date(2018, 10, 1)\n",
      "monthly_portfolio_return = -0.0528\n",
      "risk_free_return = -0.0043\n",
      "mark_date = datetime.date(2018, 11, 1)\n"
     ]
    },
    {
     "name": "stderr",
     "output_type": "stream",
     "text": [
      "/home/josh/cmor462/ropacea/ropacea/scs.py:32: RuntimeWarning: divide by zero encountered in scalar divide\n",
      "  alpha = max(0, (gamma - n_assets) / (delta * n_obs))\n",
      "/home/josh/cmor462/ropacea/ropacea/scs.py:32: RuntimeWarning: divide by zero encountered in scalar divide\n",
      "  alpha = max(0, (gamma - n_assets) / (delta * n_obs))\n",
      "/home/josh/cmor462/ropacea/ropacea/scs.py:32: RuntimeWarning: divide by zero encountered in scalar divide\n",
      "  alpha = max(0, (gamma - n_assets) / (delta * n_obs))\n",
      "/home/josh/cmor462/ropacea/ropacea/scs.py:32: RuntimeWarning: divide by zero encountered in scalar divide\n",
      "  alpha = max(0, (gamma - n_assets) / (delta * n_obs))\n"
     ]
    },
    {
     "name": "stdout",
     "output_type": "stream",
     "text": [
      "monthly_portfolio_return = 0.0294\n",
      "risk_free_return = 0.0149\n",
      "mark_date = datetime.date(2018, 12, 1)\n",
      "monthly_portfolio_return = -0.0709\n",
      "risk_free_return = 0.0286\n",
      "mark_date = datetime.date(2019, 1, 1)\n",
      "monthly_portfolio_return = 0.0393\n",
      "risk_free_return = 0.0071\n",
      "mark_date = datetime.date(2019, 2, 1)\n",
      "monthly_portfolio_return = 0.0577\n",
      "risk_free_return = -0.0043\n",
      "mark_date = datetime.date(2019, 3, 1)\n"
     ]
    },
    {
     "name": "stderr",
     "output_type": "stream",
     "text": [
      "/home/josh/cmor462/ropacea/ropacea/scs.py:32: RuntimeWarning: divide by zero encountered in scalar divide\n",
      "  alpha = max(0, (gamma - n_assets) / (delta * n_obs))\n",
      "/home/josh/cmor462/ropacea/ropacea/scs.py:32: RuntimeWarning: divide by zero encountered in scalar divide\n",
      "  alpha = max(0, (gamma - n_assets) / (delta * n_obs))\n",
      "/home/josh/cmor462/ropacea/ropacea/scs.py:32: RuntimeWarning: divide by zero encountered in scalar divide\n",
      "  alpha = max(0, (gamma - n_assets) / (delta * n_obs))\n",
      "/home/josh/cmor462/ropacea/ropacea/scs.py:32: RuntimeWarning: divide by zero encountered in scalar divide\n",
      "  alpha = max(0, (gamma - n_assets) / (delta * n_obs))\n"
     ]
    },
    {
     "name": "stdout",
     "output_type": "stream",
     "text": [
      "monthly_portfolio_return = 0.0520\n",
      "risk_free_return = 0.0294\n",
      "mark_date = datetime.date(2019, 4, 1)\n",
      "monthly_portfolio_return = -0.0111\n",
      "risk_free_return = -0.0062\n",
      "mark_date = datetime.date(2019, 5, 1)\n",
      "monthly_portfolio_return = -0.0428\n",
      "risk_free_return = 0.0319\n",
      "mark_date = datetime.date(2019, 6, 1)\n",
      "monthly_portfolio_return = 0.0388\n",
      "risk_free_return = 0.0121\n",
      "mark_date = datetime.date(2019, 7, 1)\n"
     ]
    },
    {
     "name": "stderr",
     "output_type": "stream",
     "text": [
      "/home/josh/cmor462/ropacea/ropacea/scs.py:32: RuntimeWarning: divide by zero encountered in scalar divide\n",
      "  alpha = max(0, (gamma - n_assets) / (delta * n_obs))\n",
      "/home/josh/cmor462/ropacea/ropacea/scs.py:32: RuntimeWarning: divide by zero encountered in scalar divide\n",
      "  alpha = max(0, (gamma - n_assets) / (delta * n_obs))\n",
      "/home/josh/cmor462/ropacea/ropacea/scs.py:32: RuntimeWarning: divide by zero encountered in scalar divide\n",
      "  alpha = max(0, (gamma - n_assets) / (delta * n_obs))\n",
      "/home/josh/cmor462/ropacea/ropacea/scs.py:32: RuntimeWarning: divide by zero encountered in scalar divide\n",
      "  alpha = max(0, (gamma - n_assets) / (delta * n_obs))\n"
     ]
    },
    {
     "name": "stdout",
     "output_type": "stream",
     "text": [
      "monthly_portfolio_return = 0.0120\n",
      "risk_free_return = 0.0034\n",
      "mark_date = datetime.date(2019, 8, 1)\n",
      "monthly_portfolio_return = 0.0279\n",
      "risk_free_return = 0.0403\n",
      "mark_date = datetime.date(2019, 9, 1)\n",
      "monthly_portfolio_return = -0.0126\n",
      "risk_free_return = -0.0139\n",
      "mark_date = datetime.date(2019, 10, 1)\n",
      "monthly_portfolio_return = -0.0022\n",
      "risk_free_return = -0.0007\n",
      "mark_date = datetime.date(2019, 11, 1)\n"
     ]
    },
    {
     "name": "stderr",
     "output_type": "stream",
     "text": [
      "/home/josh/cmor462/ropacea/ropacea/scs.py:32: RuntimeWarning: divide by zero encountered in scalar divide\n",
      "  alpha = max(0, (gamma - n_assets) / (delta * n_obs))\n",
      "/home/josh/cmor462/ropacea/ropacea/scs.py:32: RuntimeWarning: divide by zero encountered in scalar divide\n",
      "  alpha = max(0, (gamma - n_assets) / (delta * n_obs))\n",
      "/home/josh/cmor462/ropacea/ropacea/scs.py:32: RuntimeWarning: divide by zero encountered in scalar divide\n",
      "  alpha = max(0, (gamma - n_assets) / (delta * n_obs))\n",
      "/home/josh/cmor462/ropacea/ropacea/scs.py:32: RuntimeWarning: divide by zero encountered in scalar divide\n",
      "  alpha = max(0, (gamma - n_assets) / (delta * n_obs))\n"
     ]
    },
    {
     "name": "stdout",
     "output_type": "stream",
     "text": [
      "monthly_portfolio_return = 0.0354\n",
      "risk_free_return = -0.0074\n",
      "mark_date = datetime.date(2019, 12, 1)\n",
      "monthly_portfolio_return = 0.0610\n",
      "risk_free_return = -0.0113\n",
      "mark_date = datetime.date(2020, 1, 1)\n",
      "monthly_portfolio_return = 0.0606\n",
      "risk_free_return = 0.0392\n",
      "mark_date = datetime.date(2020, 2, 1)\n",
      "monthly_portfolio_return = -0.0521\n",
      "risk_free_return = 0.0299\n",
      "mark_date = datetime.date(2020, 3, 1)\n"
     ]
    },
    {
     "name": "stderr",
     "output_type": "stream",
     "text": [
      "/home/josh/cmor462/ropacea/ropacea/scs.py:32: RuntimeWarning: divide by zero encountered in scalar divide\n",
      "  alpha = max(0, (gamma - n_assets) / (delta * n_obs))\n",
      "/home/josh/cmor462/ropacea/ropacea/scs.py:32: RuntimeWarning: divide by zero encountered in scalar divide\n",
      "  alpha = max(0, (gamma - n_assets) / (delta * n_obs))\n",
      "/home/josh/cmor462/ropacea/ropacea/scs.py:32: RuntimeWarning: divide by zero encountered in scalar divide\n",
      "  alpha = max(0, (gamma - n_assets) / (delta * n_obs))\n",
      "/home/josh/cmor462/ropacea/ropacea/scs.py:32: RuntimeWarning: divide by zero encountered in scalar divide\n",
      "  alpha = max(0, (gamma - n_assets) / (delta * n_obs))\n"
     ]
    },
    {
     "name": "stdout",
     "output_type": "stream",
     "text": [
      "monthly_portfolio_return = -0.0504\n",
      "risk_free_return = 0.0397\n",
      "mark_date = datetime.date(2020, 4, 1)\n",
      "monthly_portfolio_return = 0.1057\n",
      "risk_free_return = 0.0050\n",
      "mark_date = datetime.date(2020, 5, 1)\n",
      "monthly_portfolio_return = 0.0371\n",
      "risk_free_return = 0.0007\n",
      "mark_date = datetime.date(2020, 6, 1)\n",
      "monthly_portfolio_return = 0.0467\n",
      "risk_free_return = 0.0004\n",
      "mark_date = datetime.date(2020, 7, 1)\n"
     ]
    },
    {
     "name": "stderr",
     "output_type": "stream",
     "text": [
      "/home/josh/cmor462/ropacea/ropacea/scs.py:32: RuntimeWarning: divide by zero encountered in scalar divide\n",
      "  alpha = max(0, (gamma - n_assets) / (delta * n_obs))\n",
      "/home/josh/cmor462/ropacea/ropacea/scs.py:32: RuntimeWarning: divide by zero encountered in scalar divide\n",
      "  alpha = max(0, (gamma - n_assets) / (delta * n_obs))\n",
      "/home/josh/cmor462/ropacea/ropacea/scs.py:32: RuntimeWarning: divide by zero encountered in scalar divide\n",
      "  alpha = max(0, (gamma - n_assets) / (delta * n_obs))\n",
      "/home/josh/cmor462/ropacea/ropacea/scs.py:32: RuntimeWarning: divide by zero encountered in scalar divide\n",
      "  alpha = max(0, (gamma - n_assets) / (delta * n_obs))\n"
     ]
    },
    {
     "name": "stdout",
     "output_type": "stream",
     "text": [
      "monthly_portfolio_return = 0.0359\n",
      "risk_free_return = 0.0128\n",
      "mark_date = datetime.date(2020, 8, 1)\n",
      "monthly_portfolio_return = 0.0927\n",
      "risk_free_return = -0.0147\n",
      "mark_date = datetime.date(2020, 9, 1)\n",
      "monthly_portfolio_return = -0.0098\n",
      "risk_free_return = 0.0026\n",
      "mark_date = datetime.date(2020, 10, 1)\n",
      "monthly_portfolio_return = -0.0540\n",
      "risk_free_return = -0.0173\n",
      "mark_date = datetime.date(2020, 11, 1)\n"
     ]
    },
    {
     "name": "stderr",
     "output_type": "stream",
     "text": [
      "/home/josh/cmor462/ropacea/ropacea/scs.py:32: RuntimeWarning: divide by zero encountered in scalar divide\n",
      "  alpha = max(0, (gamma - n_assets) / (delta * n_obs))\n",
      "/home/josh/cmor462/ropacea/ropacea/scs.py:32: RuntimeWarning: divide by zero encountered in scalar divide\n",
      "  alpha = max(0, (gamma - n_assets) / (delta * n_obs))\n",
      "/home/josh/cmor462/ropacea/ropacea/scs.py:32: RuntimeWarning: divide by zero encountered in scalar divide\n",
      "  alpha = max(0, (gamma - n_assets) / (delta * n_obs))\n",
      "/home/josh/cmor462/ropacea/ropacea/scs.py:32: RuntimeWarning: divide by zero encountered in scalar divide\n",
      "  alpha = max(0, (gamma - n_assets) / (delta * n_obs))\n"
     ]
    },
    {
     "name": "stdout",
     "output_type": "stream",
     "text": [
      "monthly_portfolio_return = 0.0595\n",
      "risk_free_return = 0.0040\n",
      "mark_date = datetime.date(2020, 12, 1)\n",
      "monthly_portfolio_return = 0.0133\n",
      "risk_free_return = -0.0050\n",
      "mark_date = datetime.date(2021, 1, 1)\n",
      "monthly_portfolio_return = 0.0222\n",
      "risk_free_return = -0.0107\n",
      "mark_date = datetime.date(2021, 2, 1)\n",
      "monthly_portfolio_return = -0.0145\n",
      "risk_free_return = -0.0254\n",
      "mark_date = datetime.date(2021, 3, 1)\n"
     ]
    },
    {
     "name": "stderr",
     "output_type": "stream",
     "text": [
      "/home/josh/cmor462/ropacea/ropacea/scs.py:32: RuntimeWarning: divide by zero encountered in scalar divide\n",
      "  alpha = max(0, (gamma - n_assets) / (delta * n_obs))\n",
      "/home/josh/cmor462/ropacea/ropacea/scs.py:32: RuntimeWarning: divide by zero encountered in scalar divide\n",
      "  alpha = max(0, (gamma - n_assets) / (delta * n_obs))\n",
      "/home/josh/cmor462/ropacea/ropacea/scs.py:32: RuntimeWarning: divide by zero encountered in scalar divide\n",
      "  alpha = max(0, (gamma - n_assets) / (delta * n_obs))\n",
      "/home/josh/cmor462/ropacea/ropacea/scs.py:32: RuntimeWarning: divide by zero encountered in scalar divide\n",
      "  alpha = max(0, (gamma - n_assets) / (delta * n_obs))\n"
     ]
    },
    {
     "name": "stdout",
     "output_type": "stream",
     "text": [
      "monthly_portfolio_return = -0.0040\n",
      "risk_free_return = -0.0293\n",
      "mark_date = datetime.date(2021, 4, 1)\n",
      "monthly_portfolio_return = 0.0460\n",
      "risk_free_return = 0.0119\n",
      "mark_date = datetime.date(2021, 5, 1)\n",
      "monthly_portfolio_return = 0.0300\n",
      "risk_free_return = 0.0034\n",
      "mark_date = datetime.date(2021, 6, 1)\n",
      "monthly_portfolio_return = 0.0935\n",
      "risk_free_return = 0.0141\n",
      "mark_date = datetime.date(2021, 7, 1)\n"
     ]
    },
    {
     "name": "stderr",
     "output_type": "stream",
     "text": [
      "/home/josh/cmor462/ropacea/ropacea/scs.py:32: RuntimeWarning: divide by zero encountered in scalar divide\n",
      "  alpha = max(0, (gamma - n_assets) / (delta * n_obs))\n",
      "/home/josh/cmor462/ropacea/ropacea/scs.py:32: RuntimeWarning: divide by zero encountered in scalar divide\n",
      "  alpha = max(0, (gamma - n_assets) / (delta * n_obs))\n",
      "/home/josh/cmor462/ropacea/ropacea/scs.py:32: RuntimeWarning: divide by zero encountered in scalar divide\n",
      "  alpha = max(0, (gamma - n_assets) / (delta * n_obs))\n",
      "/home/josh/cmor462/ropacea/ropacea/scs.py:32: RuntimeWarning: divide by zero encountered in scalar divide\n",
      "  alpha = max(0, (gamma - n_assets) / (delta * n_obs))\n"
     ]
    },
    {
     "name": "stdout",
     "output_type": "stream",
     "text": [
      "monthly_portfolio_return = 0.0424\n",
      "risk_free_return = 0.0238\n",
      "mark_date = datetime.date(2021, 8, 1)\n",
      "monthly_portfolio_return = 0.0625\n",
      "risk_free_return = -0.0048\n",
      "mark_date = datetime.date(2021, 9, 1)\n",
      "monthly_portfolio_return = -0.0690\n",
      "risk_free_return = -0.0154\n",
      "mark_date = datetime.date(2021, 10, 1)\n",
      "monthly_portfolio_return = 0.1217\n",
      "risk_free_return = -0.0049\n",
      "mark_date = datetime.date(2021, 11, 1)\n"
     ]
    },
    {
     "name": "stderr",
     "output_type": "stream",
     "text": [
      "/home/josh/cmor462/ropacea/ropacea/scs.py:32: RuntimeWarning: divide by zero encountered in scalar divide\n",
      "  alpha = max(0, (gamma - n_assets) / (delta * n_obs))\n",
      "/home/josh/cmor462/ropacea/ropacea/scs.py:32: RuntimeWarning: divide by zero encountered in scalar divide\n",
      "  alpha = max(0, (gamma - n_assets) / (delta * n_obs))\n",
      "/home/josh/cmor462/ropacea/ropacea/scs.py:32: RuntimeWarning: divide by zero encountered in scalar divide\n",
      "  alpha = max(0, (gamma - n_assets) / (delta * n_obs))\n",
      "/home/josh/cmor462/ropacea/ropacea/scs.py:32: RuntimeWarning: divide by zero encountered in scalar divide\n",
      "  alpha = max(0, (gamma - n_assets) / (delta * n_obs))\n"
     ]
    },
    {
     "name": "stdout",
     "output_type": "stream",
     "text": [
      "monthly_portfolio_return = 0.0371\n",
      "risk_free_return = 0.0125\n",
      "mark_date = datetime.date(2021, 12, 1)\n",
      "monthly_portfolio_return = 0.0502\n",
      "risk_free_return = -0.0047\n",
      "========== SUMMARY ==========\n",
      "monthly_returns_bp_mean = 219.38\n",
      "monthly_returns_bp_std = 474.91\n",
      "annualized_mean_pct = 29.75\n",
      "annualized_std_pct = 16.45\n",
      "sharpe_ratio = 1.81\n",
      "mark_date = datetime.date(2017, 1, 1)\n",
      "monthly_portfolio_return = 0.0321\n",
      "risk_free_return = 0.0022\n",
      "mark_date = datetime.date(2017, 2, 1)\n",
      "monthly_portfolio_return = 0.0253\n",
      "risk_free_return = 0.0074\n",
      "mark_date = datetime.date(2017, 3, 1)\n"
     ]
    },
    {
     "name": "stderr",
     "output_type": "stream",
     "text": [
      "/home/josh/cmor462/ropacea/ropacea/scs.py:32: RuntimeWarning: divide by zero encountered in scalar divide\n",
      "  alpha = max(0, (gamma - n_assets) / (delta * n_obs))\n",
      "/home/josh/cmor462/ropacea/ropacea/scs.py:32: RuntimeWarning: divide by zero encountered in scalar divide\n",
      "  alpha = max(0, (gamma - n_assets) / (delta * n_obs))\n",
      "/home/josh/cmor462/ropacea/ropacea/scs.py:32: RuntimeWarning: divide by zero encountered in scalar divide\n",
      "  alpha = max(0, (gamma - n_assets) / (delta * n_obs))\n",
      "/home/josh/cmor462/ropacea/ropacea/scs.py:32: RuntimeWarning: divide by zero encountered in scalar divide\n",
      "  alpha = max(0, (gamma - n_assets) / (delta * n_obs))\n"
     ]
    },
    {
     "name": "stdout",
     "output_type": "stream",
     "text": [
      "monthly_portfolio_return = 0.0358\n",
      "risk_free_return = 0.0024\n",
      "mark_date = datetime.date(2017, 4, 1)\n",
      "monthly_portfolio_return = -0.0116\n",
      "risk_free_return = 0.0111\n",
      "mark_date = datetime.date(2017, 5, 1)\n",
      "monthly_portfolio_return = 0.0924\n",
      "risk_free_return = 0.0079\n",
      "mark_date = datetime.date(2017, 6, 1)\n",
      "monthly_portfolio_return = 0.0204\n",
      "risk_free_return = -0.0013\n",
      "mark_date = datetime.date(2017, 7, 1)\n"
     ]
    },
    {
     "name": "stderr",
     "output_type": "stream",
     "text": [
      "/home/josh/cmor462/ropacea/ropacea/scs.py:32: RuntimeWarning: divide by zero encountered in scalar divide\n",
      "  alpha = max(0, (gamma - n_assets) / (delta * n_obs))\n",
      "/home/josh/cmor462/ropacea/ropacea/scs.py:32: RuntimeWarning: divide by zero encountered in scalar divide\n",
      "  alpha = max(0, (gamma - n_assets) / (delta * n_obs))\n",
      "/home/josh/cmor462/ropacea/ropacea/scs.py:32: RuntimeWarning: divide by zero encountered in scalar divide\n",
      "  alpha = max(0, (gamma - n_assets) / (delta * n_obs))\n",
      "/home/josh/cmor462/ropacea/ropacea/scs.py:32: RuntimeWarning: divide by zero encountered in scalar divide\n",
      "  alpha = max(0, (gamma - n_assets) / (delta * n_obs))\n"
     ]
    },
    {
     "name": "stdout",
     "output_type": "stream",
     "text": [
      "monthly_portfolio_return = 0.0345\n",
      "risk_free_return = -0.0000\n",
      "mark_date = datetime.date(2017, 8, 1)\n",
      "monthly_portfolio_return = 0.0208\n",
      "risk_free_return = 0.0171\n",
      "mark_date = datetime.date(2017, 9, 1)\n",
      "monthly_portfolio_return = 0.0196\n",
      "risk_free_return = -0.0172\n",
      "mark_date = datetime.date(2017, 10, 1)\n",
      "monthly_portfolio_return = 0.0683\n",
      "risk_free_return = -0.0011\n",
      "mark_date = datetime.date(2017, 11, 1)\n"
     ]
    },
    {
     "name": "stderr",
     "output_type": "stream",
     "text": [
      "/home/josh/cmor462/ropacea/ropacea/scs.py:32: RuntimeWarning: divide by zero encountered in scalar divide\n",
      "  alpha = max(0, (gamma - n_assets) / (delta * n_obs))\n",
      "/home/josh/cmor462/ropacea/ropacea/scs.py:32: RuntimeWarning: divide by zero encountered in scalar divide\n",
      "  alpha = max(0, (gamma - n_assets) / (delta * n_obs))\n",
      "/home/josh/cmor462/ropacea/ropacea/scs.py:32: RuntimeWarning: divide by zero encountered in scalar divide\n",
      "  alpha = max(0, (gamma - n_assets) / (delta * n_obs))\n",
      "/home/josh/cmor462/ropacea/ropacea/scs.py:32: RuntimeWarning: divide by zero encountered in scalar divide\n",
      "  alpha = max(0, (gamma - n_assets) / (delta * n_obs))\n"
     ]
    },
    {
     "name": "stdout",
     "output_type": "stream",
     "text": [
      "monthly_portfolio_return = 0.0212\n",
      "risk_free_return = -0.0026\n",
      "mark_date = datetime.date(2017, 12, 1)\n",
      "monthly_portfolio_return = -0.0076\n",
      "risk_free_return = 0.0022\n",
      "mark_date = datetime.date(2018, 1, 1)\n",
      "monthly_portfolio_return = 0.0908\n",
      "risk_free_return = -0.0236\n",
      "mark_date = datetime.date(2018, 2, 1)\n",
      "monthly_portfolio_return = -0.0320\n",
      "risk_free_return = -0.0130\n",
      "mark_date = datetime.date(2018, 3, 1)\n"
     ]
    },
    {
     "name": "stderr",
     "output_type": "stream",
     "text": [
      "/home/josh/cmor462/ropacea/ropacea/scs.py:32: RuntimeWarning: divide by zero encountered in scalar divide\n",
      "  alpha = max(0, (gamma - n_assets) / (delta * n_obs))\n",
      "/home/josh/cmor462/ropacea/ropacea/scs.py:32: RuntimeWarning: divide by zero encountered in scalar divide\n",
      "  alpha = max(0, (gamma - n_assets) / (delta * n_obs))\n",
      "/home/josh/cmor462/ropacea/ropacea/scs.py:32: RuntimeWarning: divide by zero encountered in scalar divide\n",
      "  alpha = max(0, (gamma - n_assets) / (delta * n_obs))\n",
      "/home/josh/cmor462/ropacea/ropacea/scs.py:32: RuntimeWarning: divide by zero encountered in scalar divide\n",
      "  alpha = max(0, (gamma - n_assets) / (delta * n_obs))\n"
     ]
    },
    {
     "name": "stdout",
     "output_type": "stream",
     "text": [
      "monthly_portfolio_return = -0.0116\n",
      "risk_free_return = 0.0128\n",
      "mark_date = datetime.date(2018, 4, 1)\n",
      "monthly_portfolio_return = 0.0263\n",
      "risk_free_return = -0.0155\n",
      "mark_date = datetime.date(2018, 5, 1)\n",
      "monthly_portfolio_return = 0.0503\n",
      "risk_free_return = 0.0096\n",
      "mark_date = datetime.date(2018, 6, 1)\n",
      "monthly_portfolio_return = -0.0088\n",
      "risk_free_return = 0.0023\n",
      "mark_date = datetime.date(2018, 7, 1)\n"
     ]
    },
    {
     "name": "stderr",
     "output_type": "stream",
     "text": [
      "/home/josh/cmor462/ropacea/ropacea/scs.py:32: RuntimeWarning: divide by zero encountered in scalar divide\n",
      "  alpha = max(0, (gamma - n_assets) / (delta * n_obs))\n",
      "/home/josh/cmor462/ropacea/ropacea/scs.py:32: RuntimeWarning: divide by zero encountered in scalar divide\n",
      "  alpha = max(0, (gamma - n_assets) / (delta * n_obs))\n",
      "/home/josh/cmor462/ropacea/ropacea/scs.py:32: RuntimeWarning: divide by zero encountered in scalar divide\n",
      "  alpha = max(0, (gamma - n_assets) / (delta * n_obs))\n",
      "/home/josh/cmor462/ropacea/ropacea/scs.py:32: RuntimeWarning: divide by zero encountered in scalar divide\n",
      "  alpha = max(0, (gamma - n_assets) / (delta * n_obs))\n"
     ]
    },
    {
     "name": "stdout",
     "output_type": "stream",
     "text": [
      "monthly_portfolio_return = 0.0729\n",
      "risk_free_return = -0.0051\n",
      "mark_date = datetime.date(2018, 8, 1)\n",
      "monthly_portfolio_return = 0.0817\n",
      "risk_free_return = 0.0101\n",
      "mark_date = datetime.date(2018, 9, 1)\n",
      "monthly_portfolio_return = 0.0170\n",
      "risk_free_return = -0.0148\n",
      "mark_date = datetime.date(2018, 10, 1)\n",
      "monthly_portfolio_return = -0.0546\n",
      "risk_free_return = -0.0043\n",
      "mark_date = datetime.date(2018, 11, 1)\n"
     ]
    },
    {
     "name": "stderr",
     "output_type": "stream",
     "text": [
      "/home/josh/cmor462/ropacea/ropacea/scs.py:32: RuntimeWarning: divide by zero encountered in scalar divide\n",
      "  alpha = max(0, (gamma - n_assets) / (delta * n_obs))\n",
      "/home/josh/cmor462/ropacea/ropacea/scs.py:32: RuntimeWarning: divide by zero encountered in scalar divide\n",
      "  alpha = max(0, (gamma - n_assets) / (delta * n_obs))\n",
      "/home/josh/cmor462/ropacea/ropacea/scs.py:32: RuntimeWarning: divide by zero encountered in scalar divide\n",
      "  alpha = max(0, (gamma - n_assets) / (delta * n_obs))\n",
      "/home/josh/cmor462/ropacea/ropacea/scs.py:32: RuntimeWarning: divide by zero encountered in scalar divide\n",
      "  alpha = max(0, (gamma - n_assets) / (delta * n_obs))\n"
     ]
    },
    {
     "name": "stdout",
     "output_type": "stream",
     "text": [
      "monthly_portfolio_return = 0.0276\n",
      "risk_free_return = 0.0149\n",
      "mark_date = datetime.date(2018, 12, 1)\n",
      "monthly_portfolio_return = -0.0718\n",
      "risk_free_return = 0.0286\n",
      "mark_date = datetime.date(2019, 1, 1)\n",
      "monthly_portfolio_return = 0.0391\n",
      "risk_free_return = 0.0071\n",
      "mark_date = datetime.date(2019, 2, 1)\n",
      "monthly_portfolio_return = 0.0579\n",
      "risk_free_return = -0.0043\n",
      "mark_date = datetime.date(2019, 3, 1)\n"
     ]
    },
    {
     "name": "stderr",
     "output_type": "stream",
     "text": [
      "/home/josh/cmor462/ropacea/ropacea/scs.py:32: RuntimeWarning: divide by zero encountered in scalar divide\n",
      "  alpha = max(0, (gamma - n_assets) / (delta * n_obs))\n",
      "/home/josh/cmor462/ropacea/ropacea/scs.py:32: RuntimeWarning: divide by zero encountered in scalar divide\n",
      "  alpha = max(0, (gamma - n_assets) / (delta * n_obs))\n",
      "/home/josh/cmor462/ropacea/ropacea/scs.py:32: RuntimeWarning: divide by zero encountered in scalar divide\n",
      "  alpha = max(0, (gamma - n_assets) / (delta * n_obs))\n",
      "/home/josh/cmor462/ropacea/ropacea/scs.py:32: RuntimeWarning: divide by zero encountered in scalar divide\n",
      "  alpha = max(0, (gamma - n_assets) / (delta * n_obs))\n"
     ]
    },
    {
     "name": "stdout",
     "output_type": "stream",
     "text": [
      "monthly_portfolio_return = 0.0529\n",
      "risk_free_return = 0.0294\n",
      "mark_date = datetime.date(2019, 4, 1)\n",
      "monthly_portfolio_return = -0.0117\n",
      "risk_free_return = -0.0062\n",
      "mark_date = datetime.date(2019, 5, 1)\n",
      "monthly_portfolio_return = -0.0445\n",
      "risk_free_return = 0.0319\n",
      "mark_date = datetime.date(2019, 6, 1)\n",
      "monthly_portfolio_return = 0.0404\n",
      "risk_free_return = 0.0121\n",
      "mark_date = datetime.date(2019, 7, 1)\n"
     ]
    },
    {
     "name": "stderr",
     "output_type": "stream",
     "text": [
      "/home/josh/cmor462/ropacea/ropacea/scs.py:32: RuntimeWarning: divide by zero encountered in scalar divide\n",
      "  alpha = max(0, (gamma - n_assets) / (delta * n_obs))\n",
      "/home/josh/cmor462/ropacea/ropacea/scs.py:32: RuntimeWarning: divide by zero encountered in scalar divide\n",
      "  alpha = max(0, (gamma - n_assets) / (delta * n_obs))\n",
      "/home/josh/cmor462/ropacea/ropacea/scs.py:32: RuntimeWarning: divide by zero encountered in scalar divide\n",
      "  alpha = max(0, (gamma - n_assets) / (delta * n_obs))\n",
      "/home/josh/cmor462/ropacea/ropacea/scs.py:32: RuntimeWarning: divide by zero encountered in scalar divide\n",
      "  alpha = max(0, (gamma - n_assets) / (delta * n_obs))\n"
     ]
    },
    {
     "name": "stdout",
     "output_type": "stream",
     "text": [
      "monthly_portfolio_return = 0.0123\n",
      "risk_free_return = 0.0034\n",
      "mark_date = datetime.date(2019, 8, 1)\n",
      "monthly_portfolio_return = 0.0271\n",
      "risk_free_return = 0.0403\n",
      "mark_date = datetime.date(2019, 9, 1)\n",
      "monthly_portfolio_return = -0.0130\n",
      "risk_free_return = -0.0139\n",
      "mark_date = datetime.date(2019, 10, 1)\n",
      "monthly_portfolio_return = -0.0013\n",
      "risk_free_return = -0.0007\n",
      "mark_date = datetime.date(2019, 11, 1)\n"
     ]
    },
    {
     "name": "stderr",
     "output_type": "stream",
     "text": [
      "/home/josh/cmor462/ropacea/ropacea/scs.py:32: RuntimeWarning: divide by zero encountered in scalar divide\n",
      "  alpha = max(0, (gamma - n_assets) / (delta * n_obs))\n",
      "/home/josh/cmor462/ropacea/ropacea/scs.py:32: RuntimeWarning: divide by zero encountered in scalar divide\n",
      "  alpha = max(0, (gamma - n_assets) / (delta * n_obs))\n",
      "/home/josh/cmor462/ropacea/ropacea/scs.py:32: RuntimeWarning: divide by zero encountered in scalar divide\n",
      "  alpha = max(0, (gamma - n_assets) / (delta * n_obs))\n",
      "/home/josh/cmor462/ropacea/ropacea/scs.py:32: RuntimeWarning: divide by zero encountered in scalar divide\n",
      "  alpha = max(0, (gamma - n_assets) / (delta * n_obs))\n"
     ]
    },
    {
     "name": "stdout",
     "output_type": "stream",
     "text": [
      "monthly_portfolio_return = 0.0364\n",
      "risk_free_return = -0.0074\n",
      "mark_date = datetime.date(2019, 12, 1)\n",
      "monthly_portfolio_return = 0.0615\n",
      "risk_free_return = -0.0113\n",
      "mark_date = datetime.date(2020, 1, 1)\n",
      "monthly_portfolio_return = 0.0600\n",
      "risk_free_return = 0.0392\n",
      "mark_date = datetime.date(2020, 2, 1)\n",
      "monthly_portfolio_return = -0.0504\n",
      "risk_free_return = 0.0299\n",
      "mark_date = datetime.date(2020, 3, 1)\n"
     ]
    },
    {
     "name": "stderr",
     "output_type": "stream",
     "text": [
      "/home/josh/cmor462/ropacea/ropacea/scs.py:32: RuntimeWarning: divide by zero encountered in scalar divide\n",
      "  alpha = max(0, (gamma - n_assets) / (delta * n_obs))\n",
      "/home/josh/cmor462/ropacea/ropacea/scs.py:32: RuntimeWarning: divide by zero encountered in scalar divide\n",
      "  alpha = max(0, (gamma - n_assets) / (delta * n_obs))\n",
      "/home/josh/cmor462/ropacea/ropacea/scs.py:32: RuntimeWarning: divide by zero encountered in scalar divide\n",
      "  alpha = max(0, (gamma - n_assets) / (delta * n_obs))\n",
      "/home/josh/cmor462/ropacea/ropacea/scs.py:32: RuntimeWarning: divide by zero encountered in scalar divide\n",
      "  alpha = max(0, (gamma - n_assets) / (delta * n_obs))\n"
     ]
    },
    {
     "name": "stdout",
     "output_type": "stream",
     "text": [
      "monthly_portfolio_return = -0.0506\n",
      "risk_free_return = 0.0397\n",
      "mark_date = datetime.date(2020, 4, 1)\n",
      "monthly_portfolio_return = 0.1064\n",
      "risk_free_return = 0.0050\n",
      "mark_date = datetime.date(2020, 5, 1)\n",
      "monthly_portfolio_return = 0.0381\n",
      "risk_free_return = 0.0007\n",
      "mark_date = datetime.date(2020, 6, 1)\n",
      "monthly_portfolio_return = 0.0480\n",
      "risk_free_return = 0.0004\n",
      "mark_date = datetime.date(2020, 7, 1)\n"
     ]
    },
    {
     "name": "stderr",
     "output_type": "stream",
     "text": [
      "/home/josh/cmor462/ropacea/ropacea/scs.py:32: RuntimeWarning: divide by zero encountered in scalar divide\n",
      "  alpha = max(0, (gamma - n_assets) / (delta * n_obs))\n",
      "/home/josh/cmor462/ropacea/ropacea/scs.py:32: RuntimeWarning: divide by zero encountered in scalar divide\n",
      "  alpha = max(0, (gamma - n_assets) / (delta * n_obs))\n",
      "/home/josh/cmor462/ropacea/ropacea/scs.py:32: RuntimeWarning: divide by zero encountered in scalar divide\n",
      "  alpha = max(0, (gamma - n_assets) / (delta * n_obs))\n",
      "/home/josh/cmor462/ropacea/ropacea/scs.py:32: RuntimeWarning: divide by zero encountered in scalar divide\n",
      "  alpha = max(0, (gamma - n_assets) / (delta * n_obs))\n"
     ]
    },
    {
     "name": "stdout",
     "output_type": "stream",
     "text": [
      "monthly_portfolio_return = 0.0354\n",
      "risk_free_return = 0.0128\n",
      "mark_date = datetime.date(2020, 8, 1)\n",
      "monthly_portfolio_return = 0.0936\n",
      "risk_free_return = -0.0147\n",
      "mark_date = datetime.date(2020, 9, 1)\n",
      "monthly_portfolio_return = -0.0100\n",
      "risk_free_return = 0.0026\n",
      "mark_date = datetime.date(2020, 10, 1)\n",
      "monthly_portfolio_return = -0.0539\n",
      "risk_free_return = -0.0173\n",
      "mark_date = datetime.date(2020, 11, 1)\n"
     ]
    },
    {
     "name": "stderr",
     "output_type": "stream",
     "text": [
      "/home/josh/cmor462/ropacea/ropacea/scs.py:32: RuntimeWarning: divide by zero encountered in scalar divide\n",
      "  alpha = max(0, (gamma - n_assets) / (delta * n_obs))\n",
      "/home/josh/cmor462/ropacea/ropacea/scs.py:32: RuntimeWarning: divide by zero encountered in scalar divide\n",
      "  alpha = max(0, (gamma - n_assets) / (delta * n_obs))\n",
      "/home/josh/cmor462/ropacea/ropacea/scs.py:32: RuntimeWarning: divide by zero encountered in scalar divide\n",
      "  alpha = max(0, (gamma - n_assets) / (delta * n_obs))\n",
      "/home/josh/cmor462/ropacea/ropacea/scs.py:32: RuntimeWarning: divide by zero encountered in scalar divide\n",
      "  alpha = max(0, (gamma - n_assets) / (delta * n_obs))\n"
     ]
    },
    {
     "name": "stdout",
     "output_type": "stream",
     "text": [
      "monthly_portfolio_return = 0.0590\n",
      "risk_free_return = 0.0040\n",
      "mark_date = datetime.date(2020, 12, 1)\n",
      "monthly_portfolio_return = 0.0127\n",
      "risk_free_return = -0.0050\n",
      "mark_date = datetime.date(2021, 1, 1)\n",
      "monthly_portfolio_return = 0.0228\n",
      "risk_free_return = -0.0107\n",
      "mark_date = datetime.date(2021, 2, 1)\n",
      "monthly_portfolio_return = -0.0143\n",
      "risk_free_return = -0.0254\n",
      "mark_date = datetime.date(2021, 3, 1)\n"
     ]
    },
    {
     "name": "stderr",
     "output_type": "stream",
     "text": [
      "/home/josh/cmor462/ropacea/ropacea/scs.py:32: RuntimeWarning: divide by zero encountered in scalar divide\n",
      "  alpha = max(0, (gamma - n_assets) / (delta * n_obs))\n",
      "/home/josh/cmor462/ropacea/ropacea/scs.py:32: RuntimeWarning: divide by zero encountered in scalar divide\n",
      "  alpha = max(0, (gamma - n_assets) / (delta * n_obs))\n",
      "/home/josh/cmor462/ropacea/ropacea/scs.py:32: RuntimeWarning: divide by zero encountered in scalar divide\n",
      "  alpha = max(0, (gamma - n_assets) / (delta * n_obs))\n",
      "/home/josh/cmor462/ropacea/ropacea/scs.py:32: RuntimeWarning: divide by zero encountered in scalar divide\n",
      "  alpha = max(0, (gamma - n_assets) / (delta * n_obs))\n"
     ]
    },
    {
     "name": "stdout",
     "output_type": "stream",
     "text": [
      "monthly_portfolio_return = -0.0056\n",
      "risk_free_return = -0.0293\n",
      "mark_date = datetime.date(2021, 4, 1)\n",
      "monthly_portfolio_return = 0.0473\n",
      "risk_free_return = 0.0119\n",
      "mark_date = datetime.date(2021, 5, 1)\n",
      "monthly_portfolio_return = 0.0301\n",
      "risk_free_return = 0.0034\n",
      "mark_date = datetime.date(2021, 6, 1)\n",
      "monthly_portfolio_return = 0.0960\n",
      "risk_free_return = 0.0141\n",
      "mark_date = datetime.date(2021, 7, 1)\n"
     ]
    },
    {
     "name": "stderr",
     "output_type": "stream",
     "text": [
      "/home/josh/cmor462/ropacea/ropacea/scs.py:32: RuntimeWarning: divide by zero encountered in scalar divide\n",
      "  alpha = max(0, (gamma - n_assets) / (delta * n_obs))\n",
      "/home/josh/cmor462/ropacea/ropacea/scs.py:32: RuntimeWarning: divide by zero encountered in scalar divide\n",
      "  alpha = max(0, (gamma - n_assets) / (delta * n_obs))\n",
      "/home/josh/cmor462/ropacea/ropacea/scs.py:32: RuntimeWarning: divide by zero encountered in scalar divide\n",
      "  alpha = max(0, (gamma - n_assets) / (delta * n_obs))\n",
      "/home/josh/cmor462/ropacea/ropacea/scs.py:32: RuntimeWarning: divide by zero encountered in scalar divide\n",
      "  alpha = max(0, (gamma - n_assets) / (delta * n_obs))\n"
     ]
    },
    {
     "name": "stdout",
     "output_type": "stream",
     "text": [
      "monthly_portfolio_return = 0.0424\n",
      "risk_free_return = 0.0238\n",
      "mark_date = datetime.date(2021, 8, 1)\n",
      "monthly_portfolio_return = 0.0641\n",
      "risk_free_return = -0.0048\n",
      "mark_date = datetime.date(2021, 9, 1)\n",
      "monthly_portfolio_return = -0.0698\n",
      "risk_free_return = -0.0154\n",
      "mark_date = datetime.date(2021, 10, 1)\n"
     ]
    },
    {
     "name": "stderr",
     "output_type": "stream",
     "text": [
      "/home/josh/cmor462/ropacea/ropacea/scs.py:32: RuntimeWarning: divide by zero encountered in scalar divide\n",
      "  alpha = max(0, (gamma - n_assets) / (delta * n_obs))\n",
      "/home/josh/cmor462/ropacea/ropacea/scs.py:32: RuntimeWarning: divide by zero encountered in scalar divide\n",
      "  alpha = max(0, (gamma - n_assets) / (delta * n_obs))\n",
      "/home/josh/cmor462/ropacea/ropacea/scs.py:32: RuntimeWarning: divide by zero encountered in scalar divide\n",
      "  alpha = max(0, (gamma - n_assets) / (delta * n_obs))\n"
     ]
    },
    {
     "name": "stdout",
     "output_type": "stream",
     "text": [
      "monthly_portfolio_return = 0.1241\n",
      "risk_free_return = -0.0049\n",
      "mark_date = datetime.date(2021, 11, 1)\n",
      "monthly_portfolio_return = 0.0385\n",
      "risk_free_return = 0.0125\n",
      "mark_date = datetime.date(2021, 12, 1)\n",
      "monthly_portfolio_return = 0.0480\n",
      "risk_free_return = -0.0047\n",
      "========== SUMMARY ==========\n",
      "monthly_returns_bp_mean = 221.67\n",
      "monthly_returns_bp_std = 479.86\n",
      "annualized_mean_pct = 30.10\n",
      "annualized_std_pct = 16.62\n",
      "sharpe_ratio = 1.81\n",
      "mark_date = datetime.date(2017, 1, 1)\n",
      "monthly_portfolio_return = 0.0335\n",
      "risk_free_return = 0.0022\n",
      "mark_date = datetime.date(2017, 2, 1)\n"
     ]
    },
    {
     "name": "stderr",
     "output_type": "stream",
     "text": [
      "/home/josh/cmor462/ropacea/ropacea/scs.py:32: RuntimeWarning: divide by zero encountered in scalar divide\n",
      "  alpha = max(0, (gamma - n_assets) / (delta * n_obs))\n",
      "/home/josh/cmor462/ropacea/ropacea/scs.py:32: RuntimeWarning: divide by zero encountered in scalar divide\n",
      "  alpha = max(0, (gamma - n_assets) / (delta * n_obs))\n",
      "/home/josh/cmor462/ropacea/ropacea/scs.py:32: RuntimeWarning: divide by zero encountered in scalar divide\n",
      "  alpha = max(0, (gamma - n_assets) / (delta * n_obs))\n",
      "/home/josh/cmor462/ropacea/ropacea/scs.py:32: RuntimeWarning: divide by zero encountered in scalar divide\n",
      "  alpha = max(0, (gamma - n_assets) / (delta * n_obs))\n"
     ]
    },
    {
     "name": "stdout",
     "output_type": "stream",
     "text": [
      "monthly_portfolio_return = 0.0244\n",
      "risk_free_return = 0.0074\n",
      "mark_date = datetime.date(2017, 3, 1)\n",
      "monthly_portfolio_return = 0.0365\n",
      "risk_free_return = 0.0024\n",
      "mark_date = datetime.date(2017, 4, 1)\n",
      "monthly_portfolio_return = -0.0120\n",
      "risk_free_return = 0.0111\n",
      "mark_date = datetime.date(2017, 5, 1)\n",
      "monthly_portfolio_return = 0.0945\n",
      "risk_free_return = 0.0079\n",
      "mark_date = datetime.date(2017, 6, 1)\n"
     ]
    },
    {
     "name": "stderr",
     "output_type": "stream",
     "text": [
      "/home/josh/cmor462/ropacea/ropacea/scs.py:32: RuntimeWarning: divide by zero encountered in scalar divide\n",
      "  alpha = max(0, (gamma - n_assets) / (delta * n_obs))\n",
      "/home/josh/cmor462/ropacea/ropacea/scs.py:32: RuntimeWarning: divide by zero encountered in scalar divide\n",
      "  alpha = max(0, (gamma - n_assets) / (delta * n_obs))\n",
      "/home/josh/cmor462/ropacea/ropacea/scs.py:32: RuntimeWarning: divide by zero encountered in scalar divide\n",
      "  alpha = max(0, (gamma - n_assets) / (delta * n_obs))\n",
      "/home/josh/cmor462/ropacea/ropacea/scs.py:32: RuntimeWarning: divide by zero encountered in scalar divide\n",
      "  alpha = max(0, (gamma - n_assets) / (delta * n_obs))\n"
     ]
    },
    {
     "name": "stdout",
     "output_type": "stream",
     "text": [
      "monthly_portfolio_return = 0.0204\n",
      "risk_free_return = -0.0013\n",
      "mark_date = datetime.date(2017, 7, 1)\n",
      "monthly_portfolio_return = 0.0352\n",
      "risk_free_return = -0.0000\n",
      "mark_date = datetime.date(2017, 8, 1)\n",
      "monthly_portfolio_return = 0.0210\n",
      "risk_free_return = 0.0171\n",
      "mark_date = datetime.date(2017, 9, 1)\n",
      "monthly_portfolio_return = 0.0195\n",
      "risk_free_return = -0.0172\n",
      "mark_date = datetime.date(2017, 10, 1)\n"
     ]
    },
    {
     "name": "stderr",
     "output_type": "stream",
     "text": [
      "/home/josh/cmor462/ropacea/ropacea/scs.py:32: RuntimeWarning: divide by zero encountered in scalar divide\n",
      "  alpha = max(0, (gamma - n_assets) / (delta * n_obs))\n",
      "/home/josh/cmor462/ropacea/ropacea/scs.py:32: RuntimeWarning: divide by zero encountered in scalar divide\n",
      "  alpha = max(0, (gamma - n_assets) / (delta * n_obs))\n",
      "/home/josh/cmor462/ropacea/ropacea/scs.py:32: RuntimeWarning: divide by zero encountered in scalar divide\n",
      "  alpha = max(0, (gamma - n_assets) / (delta * n_obs))\n",
      "/home/josh/cmor462/ropacea/ropacea/scs.py:32: RuntimeWarning: divide by zero encountered in scalar divide\n",
      "  alpha = max(0, (gamma - n_assets) / (delta * n_obs))\n"
     ]
    },
    {
     "name": "stdout",
     "output_type": "stream",
     "text": [
      "monthly_portfolio_return = 0.0697\n",
      "risk_free_return = -0.0011\n",
      "mark_date = datetime.date(2017, 11, 1)\n",
      "monthly_portfolio_return = 0.0211\n",
      "risk_free_return = -0.0026\n",
      "mark_date = datetime.date(2017, 12, 1)\n",
      "monthly_portfolio_return = -0.0084\n",
      "risk_free_return = 0.0022\n",
      "mark_date = datetime.date(2018, 1, 1)\n"
     ]
    },
    {
     "name": "stderr",
     "output_type": "stream",
     "text": [
      "/home/josh/cmor462/ropacea/ropacea/scs.py:32: RuntimeWarning: divide by zero encountered in scalar divide\n",
      "  alpha = max(0, (gamma - n_assets) / (delta * n_obs))\n",
      "/home/josh/cmor462/ropacea/ropacea/scs.py:32: RuntimeWarning: divide by zero encountered in scalar divide\n",
      "  alpha = max(0, (gamma - n_assets) / (delta * n_obs))\n",
      "/home/josh/cmor462/ropacea/ropacea/scs.py:32: RuntimeWarning: divide by zero encountered in scalar divide\n",
      "  alpha = max(0, (gamma - n_assets) / (delta * n_obs))\n"
     ]
    },
    {
     "name": "stdout",
     "output_type": "stream",
     "text": [
      "monthly_portfolio_return = 0.0924\n",
      "risk_free_return = -0.0236\n",
      "mark_date = datetime.date(2018, 2, 1)\n",
      "monthly_portfolio_return = -0.0306\n",
      "risk_free_return = -0.0130\n",
      "mark_date = datetime.date(2018, 3, 1)\n",
      "monthly_portfolio_return = -0.0115\n",
      "risk_free_return = 0.0128\n",
      "mark_date = datetime.date(2018, 4, 1)\n"
     ]
    },
    {
     "name": "stderr",
     "output_type": "stream",
     "text": [
      "/home/josh/cmor462/ropacea/ropacea/scs.py:32: RuntimeWarning: divide by zero encountered in scalar divide\n",
      "  alpha = max(0, (gamma - n_assets) / (delta * n_obs))\n",
      "/home/josh/cmor462/ropacea/ropacea/scs.py:32: RuntimeWarning: divide by zero encountered in scalar divide\n",
      "  alpha = max(0, (gamma - n_assets) / (delta * n_obs))\n",
      "/home/josh/cmor462/ropacea/ropacea/scs.py:32: RuntimeWarning: divide by zero encountered in scalar divide\n",
      "  alpha = max(0, (gamma - n_assets) / (delta * n_obs))\n",
      "/home/josh/cmor462/ropacea/ropacea/scs.py:32: RuntimeWarning: divide by zero encountered in scalar divide\n",
      "  alpha = max(0, (gamma - n_assets) / (delta * n_obs))\n"
     ]
    },
    {
     "name": "stdout",
     "output_type": "stream",
     "text": [
      "monthly_portfolio_return = 0.0258\n",
      "risk_free_return = -0.0155\n",
      "mark_date = datetime.date(2018, 5, 1)\n",
      "monthly_portfolio_return = 0.0518\n",
      "risk_free_return = 0.0096\n",
      "mark_date = datetime.date(2018, 6, 1)\n",
      "monthly_portfolio_return = -0.0094\n",
      "risk_free_return = 0.0023\n",
      "mark_date = datetime.date(2018, 7, 1)\n",
      "monthly_portfolio_return = 0.0728\n",
      "risk_free_return = -0.0051\n",
      "mark_date = datetime.date(2018, 8, 1)\n"
     ]
    },
    {
     "name": "stderr",
     "output_type": "stream",
     "text": [
      "/home/josh/cmor462/ropacea/ropacea/scs.py:32: RuntimeWarning: divide by zero encountered in scalar divide\n",
      "  alpha = max(0, (gamma - n_assets) / (delta * n_obs))\n",
      "/home/josh/cmor462/ropacea/ropacea/scs.py:32: RuntimeWarning: divide by zero encountered in scalar divide\n",
      "  alpha = max(0, (gamma - n_assets) / (delta * n_obs))\n",
      "/home/josh/cmor462/ropacea/ropacea/scs.py:32: RuntimeWarning: divide by zero encountered in scalar divide\n",
      "  alpha = max(0, (gamma - n_assets) / (delta * n_obs))\n",
      "/home/josh/cmor462/ropacea/ropacea/scs.py:32: RuntimeWarning: divide by zero encountered in scalar divide\n",
      "  alpha = max(0, (gamma - n_assets) / (delta * n_obs))\n"
     ]
    },
    {
     "name": "stdout",
     "output_type": "stream",
     "text": [
      "monthly_portfolio_return = 0.0822\n",
      "risk_free_return = 0.0101\n",
      "mark_date = datetime.date(2018, 9, 1)\n",
      "monthly_portfolio_return = 0.0172\n",
      "risk_free_return = -0.0148\n",
      "mark_date = datetime.date(2018, 10, 1)\n",
      "monthly_portfolio_return = -0.0567\n",
      "risk_free_return = -0.0043\n",
      "mark_date = datetime.date(2018, 11, 1)\n"
     ]
    },
    {
     "name": "stderr",
     "output_type": "stream",
     "text": [
      "/home/josh/cmor462/ropacea/ropacea/scs.py:32: RuntimeWarning: divide by zero encountered in scalar divide\n",
      "  alpha = max(0, (gamma - n_assets) / (delta * n_obs))\n",
      "/home/josh/cmor462/ropacea/ropacea/scs.py:32: RuntimeWarning: divide by zero encountered in scalar divide\n",
      "  alpha = max(0, (gamma - n_assets) / (delta * n_obs))\n",
      "/home/josh/cmor462/ropacea/ropacea/scs.py:32: RuntimeWarning: divide by zero encountered in scalar divide\n",
      "  alpha = max(0, (gamma - n_assets) / (delta * n_obs))\n",
      "/home/josh/cmor462/ropacea/ropacea/scs.py:32: RuntimeWarning: divide by zero encountered in scalar divide\n",
      "  alpha = max(0, (gamma - n_assets) / (delta * n_obs))\n"
     ]
    },
    {
     "name": "stdout",
     "output_type": "stream",
     "text": [
      "monthly_portfolio_return = 0.0257\n",
      "risk_free_return = 0.0149\n",
      "mark_date = datetime.date(2018, 12, 1)\n",
      "monthly_portfolio_return = -0.0728\n",
      "risk_free_return = 0.0286\n",
      "mark_date = datetime.date(2019, 1, 1)\n",
      "monthly_portfolio_return = 0.0388\n",
      "risk_free_return = 0.0071\n",
      "mark_date = datetime.date(2019, 2, 1)\n",
      "monthly_portfolio_return = 0.0582\n",
      "risk_free_return = -0.0043\n",
      "mark_date = datetime.date(2019, 3, 1)\n"
     ]
    },
    {
     "name": "stderr",
     "output_type": "stream",
     "text": [
      "/home/josh/cmor462/ropacea/ropacea/scs.py:32: RuntimeWarning: divide by zero encountered in scalar divide\n",
      "  alpha = max(0, (gamma - n_assets) / (delta * n_obs))\n",
      "/home/josh/cmor462/ropacea/ropacea/scs.py:32: RuntimeWarning: divide by zero encountered in scalar divide\n",
      "  alpha = max(0, (gamma - n_assets) / (delta * n_obs))\n",
      "/home/josh/cmor462/ropacea/ropacea/scs.py:32: RuntimeWarning: divide by zero encountered in scalar divide\n",
      "  alpha = max(0, (gamma - n_assets) / (delta * n_obs))\n",
      "/home/josh/cmor462/ropacea/ropacea/scs.py:32: RuntimeWarning: divide by zero encountered in scalar divide\n",
      "  alpha = max(0, (gamma - n_assets) / (delta * n_obs))\n"
     ]
    },
    {
     "name": "stdout",
     "output_type": "stream",
     "text": [
      "monthly_portfolio_return = 0.0539\n",
      "risk_free_return = 0.0294\n",
      "mark_date = datetime.date(2019, 4, 1)\n",
      "monthly_portfolio_return = -0.0124\n",
      "risk_free_return = -0.0062\n",
      "mark_date = datetime.date(2019, 5, 1)\n",
      "monthly_portfolio_return = -0.0465\n",
      "risk_free_return = 0.0319\n",
      "mark_date = datetime.date(2019, 6, 1)\n",
      "monthly_portfolio_return = 0.0420\n",
      "risk_free_return = 0.0121\n",
      "mark_date = datetime.date(2019, 7, 1)\n"
     ]
    },
    {
     "name": "stderr",
     "output_type": "stream",
     "text": [
      "/home/josh/cmor462/ropacea/ropacea/scs.py:32: RuntimeWarning: divide by zero encountered in scalar divide\n",
      "  alpha = max(0, (gamma - n_assets) / (delta * n_obs))\n",
      "/home/josh/cmor462/ropacea/ropacea/scs.py:32: RuntimeWarning: divide by zero encountered in scalar divide\n",
      "  alpha = max(0, (gamma - n_assets) / (delta * n_obs))\n",
      "/home/josh/cmor462/ropacea/ropacea/scs.py:32: RuntimeWarning: divide by zero encountered in scalar divide\n",
      "  alpha = max(0, (gamma - n_assets) / (delta * n_obs))\n",
      "/home/josh/cmor462/ropacea/ropacea/scs.py:32: RuntimeWarning: divide by zero encountered in scalar divide\n",
      "  alpha = max(0, (gamma - n_assets) / (delta * n_obs))\n"
     ]
    },
    {
     "name": "stdout",
     "output_type": "stream",
     "text": [
      "monthly_portfolio_return = 0.0126\n",
      "risk_free_return = 0.0034\n",
      "mark_date = datetime.date(2019, 8, 1)\n",
      "monthly_portfolio_return = 0.0262\n",
      "risk_free_return = 0.0403\n",
      "mark_date = datetime.date(2019, 9, 1)\n",
      "monthly_portfolio_return = -0.0131\n",
      "risk_free_return = -0.0139\n",
      "mark_date = datetime.date(2019, 10, 1)\n",
      "monthly_portfolio_return = 0.0004\n",
      "risk_free_return = -0.0007\n",
      "mark_date = datetime.date(2019, 11, 1)\n"
     ]
    },
    {
     "name": "stderr",
     "output_type": "stream",
     "text": [
      "/home/josh/cmor462/ropacea/ropacea/scs.py:32: RuntimeWarning: divide by zero encountered in scalar divide\n",
      "  alpha = max(0, (gamma - n_assets) / (delta * n_obs))\n",
      "/home/josh/cmor462/ropacea/ropacea/scs.py:32: RuntimeWarning: divide by zero encountered in scalar divide\n",
      "  alpha = max(0, (gamma - n_assets) / (delta * n_obs))\n",
      "/home/josh/cmor462/ropacea/ropacea/scs.py:32: RuntimeWarning: divide by zero encountered in scalar divide\n",
      "  alpha = max(0, (gamma - n_assets) / (delta * n_obs))\n",
      "/home/josh/cmor462/ropacea/ropacea/scs.py:32: RuntimeWarning: divide by zero encountered in scalar divide\n",
      "  alpha = max(0, (gamma - n_assets) / (delta * n_obs))\n"
     ]
    },
    {
     "name": "stdout",
     "output_type": "stream",
     "text": [
      "monthly_portfolio_return = 0.0375\n",
      "risk_free_return = -0.0074\n",
      "mark_date = datetime.date(2019, 12, 1)\n",
      "monthly_portfolio_return = 0.0620\n",
      "risk_free_return = -0.0113\n",
      "mark_date = datetime.date(2020, 1, 1)\n",
      "monthly_portfolio_return = 0.0595\n",
      "risk_free_return = 0.0392\n",
      "mark_date = datetime.date(2020, 2, 1)\n",
      "monthly_portfolio_return = -0.0487\n",
      "risk_free_return = 0.0299\n",
      "mark_date = datetime.date(2020, 3, 1)\n"
     ]
    },
    {
     "name": "stderr",
     "output_type": "stream",
     "text": [
      "/home/josh/cmor462/ropacea/ropacea/scs.py:32: RuntimeWarning: divide by zero encountered in scalar divide\n",
      "  alpha = max(0, (gamma - n_assets) / (delta * n_obs))\n",
      "/home/josh/cmor462/ropacea/ropacea/scs.py:32: RuntimeWarning: divide by zero encountered in scalar divide\n",
      "  alpha = max(0, (gamma - n_assets) / (delta * n_obs))\n",
      "/home/josh/cmor462/ropacea/ropacea/scs.py:32: RuntimeWarning: divide by zero encountered in scalar divide\n",
      "  alpha = max(0, (gamma - n_assets) / (delta * n_obs))\n",
      "/home/josh/cmor462/ropacea/ropacea/scs.py:32: RuntimeWarning: divide by zero encountered in scalar divide\n",
      "  alpha = max(0, (gamma - n_assets) / (delta * n_obs))\n"
     ]
    },
    {
     "name": "stdout",
     "output_type": "stream",
     "text": [
      "monthly_portfolio_return = -0.0507\n",
      "risk_free_return = 0.0397\n",
      "mark_date = datetime.date(2020, 4, 1)\n",
      "monthly_portfolio_return = 0.1070\n",
      "risk_free_return = 0.0050\n",
      "mark_date = datetime.date(2020, 5, 1)\n",
      "monthly_portfolio_return = 0.0390\n",
      "risk_free_return = 0.0007\n",
      "mark_date = datetime.date(2020, 6, 1)\n",
      "monthly_portfolio_return = 0.0493\n",
      "risk_free_return = 0.0004\n",
      "mark_date = datetime.date(2020, 7, 1)\n"
     ]
    },
    {
     "name": "stderr",
     "output_type": "stream",
     "text": [
      "/home/josh/cmor462/ropacea/ropacea/scs.py:32: RuntimeWarning: divide by zero encountered in scalar divide\n",
      "  alpha = max(0, (gamma - n_assets) / (delta * n_obs))\n",
      "/home/josh/cmor462/ropacea/ropacea/scs.py:32: RuntimeWarning: divide by zero encountered in scalar divide\n",
      "  alpha = max(0, (gamma - n_assets) / (delta * n_obs))\n",
      "/home/josh/cmor462/ropacea/ropacea/scs.py:32: RuntimeWarning: divide by zero encountered in scalar divide\n",
      "  alpha = max(0, (gamma - n_assets) / (delta * n_obs))\n",
      "/home/josh/cmor462/ropacea/ropacea/scs.py:32: RuntimeWarning: divide by zero encountered in scalar divide\n",
      "  alpha = max(0, (gamma - n_assets) / (delta * n_obs))\n"
     ]
    },
    {
     "name": "stdout",
     "output_type": "stream",
     "text": [
      "monthly_portfolio_return = 0.0348\n",
      "risk_free_return = 0.0128\n",
      "mark_date = datetime.date(2020, 8, 1)\n",
      "monthly_portfolio_return = 0.0945\n",
      "risk_free_return = -0.0147\n",
      "mark_date = datetime.date(2020, 9, 1)\n",
      "monthly_portfolio_return = -0.0102\n",
      "risk_free_return = 0.0026\n",
      "mark_date = datetime.date(2020, 10, 1)\n",
      "monthly_portfolio_return = -0.0537\n",
      "risk_free_return = -0.0173\n",
      "mark_date = datetime.date(2020, 11, 1)\n"
     ]
    },
    {
     "name": "stderr",
     "output_type": "stream",
     "text": [
      "/home/josh/cmor462/ropacea/ropacea/scs.py:32: RuntimeWarning: divide by zero encountered in scalar divide\n",
      "  alpha = max(0, (gamma - n_assets) / (delta * n_obs))\n",
      "/home/josh/cmor462/ropacea/ropacea/scs.py:32: RuntimeWarning: divide by zero encountered in scalar divide\n",
      "  alpha = max(0, (gamma - n_assets) / (delta * n_obs))\n",
      "/home/josh/cmor462/ropacea/ropacea/scs.py:32: RuntimeWarning: divide by zero encountered in scalar divide\n",
      "  alpha = max(0, (gamma - n_assets) / (delta * n_obs))\n",
      "/home/josh/cmor462/ropacea/ropacea/scs.py:32: RuntimeWarning: divide by zero encountered in scalar divide\n",
      "  alpha = max(0, (gamma - n_assets) / (delta * n_obs))\n"
     ]
    },
    {
     "name": "stdout",
     "output_type": "stream",
     "text": [
      "monthly_portfolio_return = 0.0585\n",
      "risk_free_return = 0.0040\n",
      "mark_date = datetime.date(2020, 12, 1)\n",
      "monthly_portfolio_return = 0.0121\n",
      "risk_free_return = -0.0050\n",
      "mark_date = datetime.date(2021, 1, 1)\n",
      "monthly_portfolio_return = 0.0234\n",
      "risk_free_return = -0.0107\n",
      "mark_date = datetime.date(2021, 2, 1)\n",
      "monthly_portfolio_return = -0.0141\n",
      "risk_free_return = -0.0254\n",
      "mark_date = datetime.date(2021, 3, 1)\n"
     ]
    },
    {
     "name": "stderr",
     "output_type": "stream",
     "text": [
      "/home/josh/cmor462/ropacea/ropacea/scs.py:32: RuntimeWarning: divide by zero encountered in scalar divide\n",
      "  alpha = max(0, (gamma - n_assets) / (delta * n_obs))\n",
      "/home/josh/cmor462/ropacea/ropacea/scs.py:32: RuntimeWarning: divide by zero encountered in scalar divide\n",
      "  alpha = max(0, (gamma - n_assets) / (delta * n_obs))\n",
      "/home/josh/cmor462/ropacea/ropacea/scs.py:32: RuntimeWarning: divide by zero encountered in scalar divide\n",
      "  alpha = max(0, (gamma - n_assets) / (delta * n_obs))\n",
      "/home/josh/cmor462/ropacea/ropacea/scs.py:32: RuntimeWarning: divide by zero encountered in scalar divide\n",
      "  alpha = max(0, (gamma - n_assets) / (delta * n_obs))\n"
     ]
    },
    {
     "name": "stdout",
     "output_type": "stream",
     "text": [
      "monthly_portfolio_return = -0.0072\n",
      "risk_free_return = -0.0293\n",
      "mark_date = datetime.date(2021, 4, 1)\n",
      "monthly_portfolio_return = 0.0486\n",
      "risk_free_return = 0.0119\n",
      "mark_date = datetime.date(2021, 5, 1)\n",
      "monthly_portfolio_return = 0.0301\n",
      "risk_free_return = 0.0034\n",
      "mark_date = datetime.date(2021, 6, 1)\n",
      "monthly_portfolio_return = 0.0985\n",
      "risk_free_return = 0.0141\n",
      "mark_date = datetime.date(2021, 7, 1)\n"
     ]
    },
    {
     "name": "stderr",
     "output_type": "stream",
     "text": [
      "/home/josh/cmor462/ropacea/ropacea/scs.py:32: RuntimeWarning: divide by zero encountered in scalar divide\n",
      "  alpha = max(0, (gamma - n_assets) / (delta * n_obs))\n",
      "/home/josh/cmor462/ropacea/ropacea/scs.py:32: RuntimeWarning: divide by zero encountered in scalar divide\n",
      "  alpha = max(0, (gamma - n_assets) / (delta * n_obs))\n",
      "/home/josh/cmor462/ropacea/ropacea/scs.py:32: RuntimeWarning: divide by zero encountered in scalar divide\n",
      "  alpha = max(0, (gamma - n_assets) / (delta * n_obs))\n",
      "/home/josh/cmor462/ropacea/ropacea/scs.py:32: RuntimeWarning: divide by zero encountered in scalar divide\n",
      "  alpha = max(0, (gamma - n_assets) / (delta * n_obs))\n"
     ]
    },
    {
     "name": "stdout",
     "output_type": "stream",
     "text": [
      "monthly_portfolio_return = 0.0425\n",
      "risk_free_return = 0.0238\n",
      "mark_date = datetime.date(2021, 8, 1)\n",
      "monthly_portfolio_return = 0.0658\n",
      "risk_free_return = -0.0048\n",
      "mark_date = datetime.date(2021, 9, 1)\n",
      "monthly_portfolio_return = -0.0706\n",
      "risk_free_return = -0.0154\n",
      "mark_date = datetime.date(2021, 10, 1)\n",
      "monthly_portfolio_return = 0.1265\n",
      "risk_free_return = -0.0049\n",
      "mark_date = datetime.date(2021, 11, 1)\n"
     ]
    },
    {
     "name": "stderr",
     "output_type": "stream",
     "text": [
      "/home/josh/cmor462/ropacea/ropacea/scs.py:32: RuntimeWarning: divide by zero encountered in scalar divide\n",
      "  alpha = max(0, (gamma - n_assets) / (delta * n_obs))\n",
      "/home/josh/cmor462/ropacea/ropacea/scs.py:32: RuntimeWarning: divide by zero encountered in scalar divide\n",
      "  alpha = max(0, (gamma - n_assets) / (delta * n_obs))\n",
      "/home/josh/cmor462/ropacea/ropacea/scs.py:32: RuntimeWarning: divide by zero encountered in scalar divide\n",
      "  alpha = max(0, (gamma - n_assets) / (delta * n_obs))\n",
      "/home/josh/cmor462/ropacea/ropacea/scs.py:32: RuntimeWarning: divide by zero encountered in scalar divide\n",
      "  alpha = max(0, (gamma - n_assets) / (delta * n_obs))\n"
     ]
    },
    {
     "name": "stdout",
     "output_type": "stream",
     "text": [
      "monthly_portfolio_return = 0.0398\n",
      "risk_free_return = 0.0125\n",
      "mark_date = datetime.date(2021, 12, 1)\n",
      "monthly_portfolio_return = 0.0458\n",
      "risk_free_return = -0.0047\n",
      "========== SUMMARY ==========\n",
      "monthly_returns_bp_mean = 224.05\n",
      "monthly_returns_bp_std = 485.18\n",
      "annualized_mean_pct = 30.46\n",
      "annualized_std_pct = 16.81\n",
      "sharpe_ratio = 1.81\n",
      "mark_date = datetime.date(2017, 1, 1)\n",
      "monthly_portfolio_return = 0.0348\n",
      "risk_free_return = 0.0022\n",
      "mark_date = datetime.date(2017, 2, 1)\n",
      "monthly_portfolio_return = 0.0236\n",
      "risk_free_return = 0.0074\n",
      "mark_date = datetime.date(2017, 3, 1)\n"
     ]
    },
    {
     "name": "stderr",
     "output_type": "stream",
     "text": [
      "/home/josh/cmor462/ropacea/ropacea/scs.py:32: RuntimeWarning: divide by zero encountered in scalar divide\n",
      "  alpha = max(0, (gamma - n_assets) / (delta * n_obs))\n",
      "/home/josh/cmor462/ropacea/ropacea/scs.py:32: RuntimeWarning: divide by zero encountered in scalar divide\n",
      "  alpha = max(0, (gamma - n_assets) / (delta * n_obs))\n",
      "/home/josh/cmor462/ropacea/ropacea/scs.py:32: RuntimeWarning: divide by zero encountered in scalar divide\n",
      "  alpha = max(0, (gamma - n_assets) / (delta * n_obs))\n"
     ]
    },
    {
     "name": "stdout",
     "output_type": "stream",
     "text": [
      "monthly_portfolio_return = 0.0373\n",
      "risk_free_return = 0.0024\n",
      "mark_date = datetime.date(2017, 4, 1)\n",
      "monthly_portfolio_return = -0.0126\n",
      "risk_free_return = 0.0111\n",
      "mark_date = datetime.date(2017, 5, 1)\n",
      "monthly_portfolio_return = 0.0967\n",
      "risk_free_return = 0.0079\n",
      "mark_date = datetime.date(2017, 6, 1)\n"
     ]
    },
    {
     "name": "stderr",
     "output_type": "stream",
     "text": [
      "/home/josh/cmor462/ropacea/ropacea/scs.py:32: RuntimeWarning: divide by zero encountered in scalar divide\n",
      "  alpha = max(0, (gamma - n_assets) / (delta * n_obs))\n",
      "/home/josh/cmor462/ropacea/ropacea/scs.py:32: RuntimeWarning: divide by zero encountered in scalar divide\n",
      "  alpha = max(0, (gamma - n_assets) / (delta * n_obs))\n",
      "/home/josh/cmor462/ropacea/ropacea/scs.py:32: RuntimeWarning: divide by zero encountered in scalar divide\n",
      "  alpha = max(0, (gamma - n_assets) / (delta * n_obs))\n",
      "/home/josh/cmor462/ropacea/ropacea/scs.py:32: RuntimeWarning: divide by zero encountered in scalar divide\n",
      "  alpha = max(0, (gamma - n_assets) / (delta * n_obs))\n"
     ]
    },
    {
     "name": "stdout",
     "output_type": "stream",
     "text": [
      "monthly_portfolio_return = 0.0202\n",
      "risk_free_return = -0.0013\n",
      "mark_date = datetime.date(2017, 7, 1)\n",
      "monthly_portfolio_return = 0.0359\n",
      "risk_free_return = -0.0000\n",
      "mark_date = datetime.date(2017, 8, 1)\n",
      "monthly_portfolio_return = 0.0213\n",
      "risk_free_return = 0.0171\n",
      "mark_date = datetime.date(2017, 9, 1)\n",
      "monthly_portfolio_return = 0.0195\n",
      "risk_free_return = -0.0172\n",
      "mark_date = datetime.date(2017, 10, 1)\n"
     ]
    },
    {
     "name": "stderr",
     "output_type": "stream",
     "text": [
      "/home/josh/cmor462/ropacea/ropacea/scs.py:32: RuntimeWarning: divide by zero encountered in scalar divide\n",
      "  alpha = max(0, (gamma - n_assets) / (delta * n_obs))\n",
      "/home/josh/cmor462/ropacea/ropacea/scs.py:32: RuntimeWarning: divide by zero encountered in scalar divide\n",
      "  alpha = max(0, (gamma - n_assets) / (delta * n_obs))\n",
      "/home/josh/cmor462/ropacea/ropacea/scs.py:32: RuntimeWarning: divide by zero encountered in scalar divide\n",
      "  alpha = max(0, (gamma - n_assets) / (delta * n_obs))\n",
      "/home/josh/cmor462/ropacea/ropacea/scs.py:32: RuntimeWarning: divide by zero encountered in scalar divide\n",
      "  alpha = max(0, (gamma - n_assets) / (delta * n_obs))\n"
     ]
    },
    {
     "name": "stdout",
     "output_type": "stream",
     "text": [
      "monthly_portfolio_return = 0.0711\n",
      "risk_free_return = -0.0011\n",
      "mark_date = datetime.date(2017, 11, 1)\n",
      "monthly_portfolio_return = 0.0209\n",
      "risk_free_return = -0.0026\n",
      "mark_date = datetime.date(2017, 12, 1)\n",
      "monthly_portfolio_return = -0.0090\n",
      "risk_free_return = 0.0022\n",
      "mark_date = datetime.date(2018, 1, 1)\n",
      "monthly_portfolio_return = 0.0940\n",
      "risk_free_return = -0.0236\n",
      "mark_date = datetime.date(2018, 2, 1)\n"
     ]
    },
    {
     "name": "stderr",
     "output_type": "stream",
     "text": [
      "/home/josh/cmor462/ropacea/ropacea/scs.py:32: RuntimeWarning: divide by zero encountered in scalar divide\n",
      "  alpha = max(0, (gamma - n_assets) / (delta * n_obs))\n",
      "/home/josh/cmor462/ropacea/ropacea/scs.py:32: RuntimeWarning: divide by zero encountered in scalar divide\n",
      "  alpha = max(0, (gamma - n_assets) / (delta * n_obs))\n",
      "/home/josh/cmor462/ropacea/ropacea/scs.py:32: RuntimeWarning: divide by zero encountered in scalar divide\n",
      "  alpha = max(0, (gamma - n_assets) / (delta * n_obs))\n",
      "/home/josh/cmor462/ropacea/ropacea/scs.py:32: RuntimeWarning: divide by zero encountered in scalar divide\n",
      "  alpha = max(0, (gamma - n_assets) / (delta * n_obs))\n"
     ]
    },
    {
     "name": "stdout",
     "output_type": "stream",
     "text": [
      "monthly_portfolio_return = -0.0291\n",
      "risk_free_return = -0.0130\n",
      "mark_date = datetime.date(2018, 3, 1)\n",
      "monthly_portfolio_return = -0.0115\n",
      "risk_free_return = 0.0128\n",
      "mark_date = datetime.date(2018, 4, 1)\n",
      "monthly_portfolio_return = 0.0253\n",
      "risk_free_return = -0.0155\n",
      "mark_date = datetime.date(2018, 5, 1)\n",
      "monthly_portfolio_return = 0.0532\n",
      "risk_free_return = 0.0096\n",
      "mark_date = datetime.date(2018, 6, 1)\n"
     ]
    },
    {
     "name": "stderr",
     "output_type": "stream",
     "text": [
      "/home/josh/cmor462/ropacea/ropacea/scs.py:32: RuntimeWarning: divide by zero encountered in scalar divide\n",
      "  alpha = max(0, (gamma - n_assets) / (delta * n_obs))\n",
      "/home/josh/cmor462/ropacea/ropacea/scs.py:32: RuntimeWarning: divide by zero encountered in scalar divide\n",
      "  alpha = max(0, (gamma - n_assets) / (delta * n_obs))\n",
      "/home/josh/cmor462/ropacea/ropacea/scs.py:32: RuntimeWarning: divide by zero encountered in scalar divide\n",
      "  alpha = max(0, (gamma - n_assets) / (delta * n_obs))\n",
      "/home/josh/cmor462/ropacea/ropacea/scs.py:32: RuntimeWarning: divide by zero encountered in scalar divide\n",
      "  alpha = max(0, (gamma - n_assets) / (delta * n_obs))\n"
     ]
    },
    {
     "name": "stdout",
     "output_type": "stream",
     "text": [
      "monthly_portfolio_return = -0.0100\n",
      "risk_free_return = 0.0023\n",
      "mark_date = datetime.date(2018, 7, 1)\n",
      "monthly_portfolio_return = 0.0728\n",
      "risk_free_return = -0.0051\n",
      "mark_date = datetime.date(2018, 8, 1)\n",
      "monthly_portfolio_return = 0.0826\n",
      "risk_free_return = 0.0101\n",
      "mark_date = datetime.date(2018, 9, 1)\n",
      "monthly_portfolio_return = 0.0173\n",
      "risk_free_return = -0.0148\n",
      "mark_date = datetime.date(2018, 10, 1)\n"
     ]
    },
    {
     "name": "stderr",
     "output_type": "stream",
     "text": [
      "/home/josh/cmor462/ropacea/ropacea/scs.py:32: RuntimeWarning: divide by zero encountered in scalar divide\n",
      "  alpha = max(0, (gamma - n_assets) / (delta * n_obs))\n",
      "/home/josh/cmor462/ropacea/ropacea/scs.py:32: RuntimeWarning: divide by zero encountered in scalar divide\n",
      "  alpha = max(0, (gamma - n_assets) / (delta * n_obs))\n",
      "/home/josh/cmor462/ropacea/ropacea/scs.py:32: RuntimeWarning: divide by zero encountered in scalar divide\n",
      "  alpha = max(0, (gamma - n_assets) / (delta * n_obs))\n",
      "/home/josh/cmor462/ropacea/ropacea/scs.py:32: RuntimeWarning: divide by zero encountered in scalar divide\n",
      "  alpha = max(0, (gamma - n_assets) / (delta * n_obs))\n"
     ]
    },
    {
     "name": "stdout",
     "output_type": "stream",
     "text": [
      "monthly_portfolio_return = -0.0589\n",
      "risk_free_return = -0.0043\n",
      "mark_date = datetime.date(2018, 11, 1)\n",
      "monthly_portfolio_return = 0.0238\n",
      "risk_free_return = 0.0149\n",
      "mark_date = datetime.date(2018, 12, 1)\n",
      "monthly_portfolio_return = -0.0737\n",
      "risk_free_return = 0.0286\n",
      "mark_date = datetime.date(2019, 1, 1)\n",
      "monthly_portfolio_return = 0.0393\n",
      "risk_free_return = 0.0071\n",
      "mark_date = datetime.date(2019, 2, 1)\n"
     ]
    },
    {
     "name": "stderr",
     "output_type": "stream",
     "text": [
      "/home/josh/cmor462/ropacea/ropacea/scs.py:32: RuntimeWarning: divide by zero encountered in scalar divide\n",
      "  alpha = max(0, (gamma - n_assets) / (delta * n_obs))\n",
      "/home/josh/cmor462/ropacea/ropacea/scs.py:32: RuntimeWarning: divide by zero encountered in scalar divide\n",
      "  alpha = max(0, (gamma - n_assets) / (delta * n_obs))\n",
      "/home/josh/cmor462/ropacea/ropacea/scs.py:32: RuntimeWarning: divide by zero encountered in scalar divide\n",
      "  alpha = max(0, (gamma - n_assets) / (delta * n_obs))\n",
      "/home/josh/cmor462/ropacea/ropacea/scs.py:32: RuntimeWarning: divide by zero encountered in scalar divide\n",
      "  alpha = max(0, (gamma - n_assets) / (delta * n_obs))\n"
     ]
    },
    {
     "name": "stdout",
     "output_type": "stream",
     "text": [
      "monthly_portfolio_return = 0.0585\n",
      "risk_free_return = -0.0043\n",
      "mark_date = datetime.date(2019, 3, 1)\n",
      "monthly_portfolio_return = 0.0549\n",
      "risk_free_return = 0.0294\n",
      "mark_date = datetime.date(2019, 4, 1)\n",
      "monthly_portfolio_return = -0.0130\n",
      "risk_free_return = -0.0062\n",
      "mark_date = datetime.date(2019, 5, 1)\n",
      "monthly_portfolio_return = -0.0487\n",
      "risk_free_return = 0.0319\n",
      "mark_date = datetime.date(2019, 6, 1)\n"
     ]
    },
    {
     "name": "stderr",
     "output_type": "stream",
     "text": [
      "/home/josh/cmor462/ropacea/ropacea/scs.py:32: RuntimeWarning: divide by zero encountered in scalar divide\n",
      "  alpha = max(0, (gamma - n_assets) / (delta * n_obs))\n",
      "/home/josh/cmor462/ropacea/ropacea/scs.py:32: RuntimeWarning: divide by zero encountered in scalar divide\n",
      "  alpha = max(0, (gamma - n_assets) / (delta * n_obs))\n",
      "/home/josh/cmor462/ropacea/ropacea/scs.py:32: RuntimeWarning: divide by zero encountered in scalar divide\n",
      "  alpha = max(0, (gamma - n_assets) / (delta * n_obs))\n",
      "/home/josh/cmor462/ropacea/ropacea/scs.py:32: RuntimeWarning: divide by zero encountered in scalar divide\n",
      "  alpha = max(0, (gamma - n_assets) / (delta * n_obs))\n"
     ]
    },
    {
     "name": "stdout",
     "output_type": "stream",
     "text": [
      "monthly_portfolio_return = 0.0436\n",
      "risk_free_return = 0.0121\n",
      "mark_date = datetime.date(2019, 7, 1)\n",
      "monthly_portfolio_return = 0.0128\n",
      "risk_free_return = 0.0034\n",
      "mark_date = datetime.date(2019, 8, 1)\n",
      "monthly_portfolio_return = 0.0253\n",
      "risk_free_return = 0.0403\n",
      "mark_date = datetime.date(2019, 9, 1)\n",
      "monthly_portfolio_return = -0.0128\n",
      "risk_free_return = -0.0139\n",
      "mark_date = datetime.date(2019, 10, 1)\n"
     ]
    },
    {
     "name": "stderr",
     "output_type": "stream",
     "text": [
      "/home/josh/cmor462/ropacea/ropacea/scs.py:32: RuntimeWarning: divide by zero encountered in scalar divide\n",
      "  alpha = max(0, (gamma - n_assets) / (delta * n_obs))\n",
      "/home/josh/cmor462/ropacea/ropacea/scs.py:32: RuntimeWarning: divide by zero encountered in scalar divide\n",
      "  alpha = max(0, (gamma - n_assets) / (delta * n_obs))\n",
      "/home/josh/cmor462/ropacea/ropacea/scs.py:32: RuntimeWarning: divide by zero encountered in scalar divide\n",
      "  alpha = max(0, (gamma - n_assets) / (delta * n_obs))\n",
      "/home/josh/cmor462/ropacea/ropacea/scs.py:32: RuntimeWarning: divide by zero encountered in scalar divide\n",
      "  alpha = max(0, (gamma - n_assets) / (delta * n_obs))\n"
     ]
    },
    {
     "name": "stdout",
     "output_type": "stream",
     "text": [
      "monthly_portfolio_return = 0.0021\n",
      "risk_free_return = -0.0007\n",
      "mark_date = datetime.date(2019, 11, 1)\n",
      "monthly_portfolio_return = 0.0384\n",
      "risk_free_return = -0.0074\n",
      "mark_date = datetime.date(2019, 12, 1)\n",
      "monthly_portfolio_return = 0.0624\n",
      "risk_free_return = -0.0113\n",
      "mark_date = datetime.date(2020, 1, 1)\n",
      "monthly_portfolio_return = 0.0590\n",
      "risk_free_return = 0.0392\n",
      "mark_date = datetime.date(2020, 2, 1)\n"
     ]
    },
    {
     "name": "stderr",
     "output_type": "stream",
     "text": [
      "/home/josh/cmor462/ropacea/ropacea/scs.py:32: RuntimeWarning: divide by zero encountered in scalar divide\n",
      "  alpha = max(0, (gamma - n_assets) / (delta * n_obs))\n",
      "/home/josh/cmor462/ropacea/ropacea/scs.py:32: RuntimeWarning: divide by zero encountered in scalar divide\n",
      "  alpha = max(0, (gamma - n_assets) / (delta * n_obs))\n",
      "/home/josh/cmor462/ropacea/ropacea/scs.py:32: RuntimeWarning: divide by zero encountered in scalar divide\n",
      "  alpha = max(0, (gamma - n_assets) / (delta * n_obs))\n",
      "/home/josh/cmor462/ropacea/ropacea/scs.py:32: RuntimeWarning: divide by zero encountered in scalar divide\n",
      "  alpha = max(0, (gamma - n_assets) / (delta * n_obs))\n"
     ]
    },
    {
     "name": "stdout",
     "output_type": "stream",
     "text": [
      "monthly_portfolio_return = -0.0472\n",
      "risk_free_return = 0.0299\n",
      "mark_date = datetime.date(2020, 3, 1)\n",
      "monthly_portfolio_return = -0.0510\n",
      "risk_free_return = 0.0397\n",
      "mark_date = datetime.date(2020, 4, 1)\n",
      "monthly_portfolio_return = 0.1075\n",
      "risk_free_return = 0.0050\n",
      "mark_date = datetime.date(2020, 5, 1)\n",
      "monthly_portfolio_return = 0.0400\n",
      "risk_free_return = 0.0007\n",
      "mark_date = datetime.date(2020, 6, 1)\n"
     ]
    },
    {
     "name": "stderr",
     "output_type": "stream",
     "text": [
      "/home/josh/cmor462/ropacea/ropacea/scs.py:32: RuntimeWarning: divide by zero encountered in scalar divide\n",
      "  alpha = max(0, (gamma - n_assets) / (delta * n_obs))\n",
      "/home/josh/cmor462/ropacea/ropacea/scs.py:32: RuntimeWarning: divide by zero encountered in scalar divide\n",
      "  alpha = max(0, (gamma - n_assets) / (delta * n_obs))\n",
      "/home/josh/cmor462/ropacea/ropacea/scs.py:32: RuntimeWarning: divide by zero encountered in scalar divide\n",
      "  alpha = max(0, (gamma - n_assets) / (delta * n_obs))\n",
      "/home/josh/cmor462/ropacea/ropacea/scs.py:32: RuntimeWarning: divide by zero encountered in scalar divide\n",
      "  alpha = max(0, (gamma - n_assets) / (delta * n_obs))\n"
     ]
    },
    {
     "name": "stdout",
     "output_type": "stream",
     "text": [
      "monthly_portfolio_return = 0.0503\n",
      "risk_free_return = 0.0004\n",
      "mark_date = datetime.date(2020, 7, 1)\n",
      "monthly_portfolio_return = 0.0342\n",
      "risk_free_return = 0.0128\n",
      "mark_date = datetime.date(2020, 8, 1)\n",
      "monthly_portfolio_return = 0.0954\n",
      "risk_free_return = -0.0147\n",
      "mark_date = datetime.date(2020, 9, 1)\n",
      "monthly_portfolio_return = -0.0104\n",
      "risk_free_return = 0.0026\n",
      "mark_date = datetime.date(2020, 10, 1)\n"
     ]
    },
    {
     "name": "stderr",
     "output_type": "stream",
     "text": [
      "/home/josh/cmor462/ropacea/ropacea/scs.py:32: RuntimeWarning: divide by zero encountered in scalar divide\n",
      "  alpha = max(0, (gamma - n_assets) / (delta * n_obs))\n",
      "/home/josh/cmor462/ropacea/ropacea/scs.py:32: RuntimeWarning: divide by zero encountered in scalar divide\n",
      "  alpha = max(0, (gamma - n_assets) / (delta * n_obs))\n",
      "/home/josh/cmor462/ropacea/ropacea/scs.py:32: RuntimeWarning: divide by zero encountered in scalar divide\n",
      "  alpha = max(0, (gamma - n_assets) / (delta * n_obs))\n",
      "/home/josh/cmor462/ropacea/ropacea/scs.py:32: RuntimeWarning: divide by zero encountered in scalar divide\n",
      "  alpha = max(0, (gamma - n_assets) / (delta * n_obs))\n"
     ]
    },
    {
     "name": "stdout",
     "output_type": "stream",
     "text": [
      "monthly_portfolio_return = -0.0537\n",
      "risk_free_return = -0.0173\n",
      "mark_date = datetime.date(2020, 11, 1)\n",
      "monthly_portfolio_return = 0.0580\n",
      "risk_free_return = 0.0040\n",
      "mark_date = datetime.date(2020, 12, 1)\n",
      "monthly_portfolio_return = 0.0116\n",
      "risk_free_return = -0.0050\n",
      "mark_date = datetime.date(2021, 1, 1)\n",
      "monthly_portfolio_return = 0.0240\n",
      "risk_free_return = -0.0107\n",
      "mark_date = datetime.date(2021, 2, 1)\n"
     ]
    },
    {
     "name": "stderr",
     "output_type": "stream",
     "text": [
      "/home/josh/cmor462/ropacea/ropacea/scs.py:32: RuntimeWarning: divide by zero encountered in scalar divide\n",
      "  alpha = max(0, (gamma - n_assets) / (delta * n_obs))\n",
      "/home/josh/cmor462/ropacea/ropacea/scs.py:32: RuntimeWarning: divide by zero encountered in scalar divide\n",
      "  alpha = max(0, (gamma - n_assets) / (delta * n_obs))\n",
      "/home/josh/cmor462/ropacea/ropacea/scs.py:32: RuntimeWarning: divide by zero encountered in scalar divide\n",
      "  alpha = max(0, (gamma - n_assets) / (delta * n_obs))\n",
      "/home/josh/cmor462/ropacea/ropacea/scs.py:32: RuntimeWarning: divide by zero encountered in scalar divide\n",
      "  alpha = max(0, (gamma - n_assets) / (delta * n_obs))\n"
     ]
    },
    {
     "name": "stdout",
     "output_type": "stream",
     "text": [
      "monthly_portfolio_return = -0.0140\n",
      "risk_free_return = -0.0254\n",
      "mark_date = datetime.date(2021, 3, 1)\n",
      "monthly_portfolio_return = -0.0088\n",
      "risk_free_return = -0.0293\n",
      "mark_date = datetime.date(2021, 4, 1)\n",
      "monthly_portfolio_return = 0.0499\n",
      "risk_free_return = 0.0119\n",
      "mark_date = datetime.date(2021, 5, 1)\n",
      "monthly_portfolio_return = 0.0302\n",
      "risk_free_return = 0.0034\n",
      "mark_date = datetime.date(2021, 6, 1)\n"
     ]
    },
    {
     "name": "stderr",
     "output_type": "stream",
     "text": [
      "/home/josh/cmor462/ropacea/ropacea/scs.py:32: RuntimeWarning: divide by zero encountered in scalar divide\n",
      "  alpha = max(0, (gamma - n_assets) / (delta * n_obs))\n",
      "/home/josh/cmor462/ropacea/ropacea/scs.py:32: RuntimeWarning: divide by zero encountered in scalar divide\n",
      "  alpha = max(0, (gamma - n_assets) / (delta * n_obs))\n",
      "/home/josh/cmor462/ropacea/ropacea/scs.py:32: RuntimeWarning: divide by zero encountered in scalar divide\n",
      "  alpha = max(0, (gamma - n_assets) / (delta * n_obs))\n",
      "/home/josh/cmor462/ropacea/ropacea/scs.py:32: RuntimeWarning: divide by zero encountered in scalar divide\n",
      "  alpha = max(0, (gamma - n_assets) / (delta * n_obs))\n"
     ]
    },
    {
     "name": "stdout",
     "output_type": "stream",
     "text": [
      "monthly_portfolio_return = 0.1009\n",
      "risk_free_return = 0.0141\n",
      "mark_date = datetime.date(2021, 7, 1)\n",
      "monthly_portfolio_return = 0.0426\n",
      "risk_free_return = 0.0238\n",
      "mark_date = datetime.date(2021, 8, 1)\n",
      "monthly_portfolio_return = 0.0675\n",
      "risk_free_return = -0.0048\n",
      "mark_date = datetime.date(2021, 9, 1)\n",
      "monthly_portfolio_return = -0.0715\n",
      "risk_free_return = -0.0154\n",
      "mark_date = datetime.date(2021, 10, 1)\n"
     ]
    },
    {
     "name": "stderr",
     "output_type": "stream",
     "text": [
      "/home/josh/cmor462/ropacea/ropacea/scs.py:32: RuntimeWarning: divide by zero encountered in scalar divide\n",
      "  alpha = max(0, (gamma - n_assets) / (delta * n_obs))\n",
      "/home/josh/cmor462/ropacea/ropacea/scs.py:32: RuntimeWarning: divide by zero encountered in scalar divide\n",
      "  alpha = max(0, (gamma - n_assets) / (delta * n_obs))\n",
      "/home/josh/cmor462/ropacea/ropacea/scs.py:32: RuntimeWarning: divide by zero encountered in scalar divide\n",
      "  alpha = max(0, (gamma - n_assets) / (delta * n_obs))\n",
      "/home/josh/cmor462/ropacea/ropacea/scs.py:32: RuntimeWarning: divide by zero encountered in scalar divide\n",
      "  alpha = max(0, (gamma - n_assets) / (delta * n_obs))\n"
     ]
    },
    {
     "name": "stdout",
     "output_type": "stream",
     "text": [
      "monthly_portfolio_return = 0.1289\n",
      "risk_free_return = -0.0049\n",
      "mark_date = datetime.date(2021, 11, 1)\n",
      "monthly_portfolio_return = 0.0411\n",
      "risk_free_return = 0.0125\n",
      "mark_date = datetime.date(2021, 12, 1)\n",
      "monthly_portfolio_return = 0.0436\n",
      "risk_free_return = -0.0047\n",
      "========== SUMMARY ==========\n",
      "monthly_returns_bp_mean = 226.45\n",
      "monthly_returns_bp_std = 490.85\n",
      "annualized_mean_pct = 30.83\n",
      "annualized_std_pct = 17.00\n",
      "sharpe_ratio = 1.81\n",
      "mark_date = datetime.date(2017, 1, 1)\n",
      "monthly_portfolio_return = 0.0361\n",
      "risk_free_return = 0.0022\n",
      "mark_date = datetime.date(2017, 2, 1)\n"
     ]
    },
    {
     "name": "stderr",
     "output_type": "stream",
     "text": [
      "/home/josh/cmor462/ropacea/ropacea/scs.py:32: RuntimeWarning: divide by zero encountered in scalar divide\n",
      "  alpha = max(0, (gamma - n_assets) / (delta * n_obs))\n",
      "/home/josh/cmor462/ropacea/ropacea/scs.py:32: RuntimeWarning: divide by zero encountered in scalar divide\n",
      "  alpha = max(0, (gamma - n_assets) / (delta * n_obs))\n",
      "/home/josh/cmor462/ropacea/ropacea/scs.py:32: RuntimeWarning: divide by zero encountered in scalar divide\n",
      "  alpha = max(0, (gamma - n_assets) / (delta * n_obs))\n",
      "/home/josh/cmor462/ropacea/ropacea/scs.py:32: RuntimeWarning: divide by zero encountered in scalar divide\n",
      "  alpha = max(0, (gamma - n_assets) / (delta * n_obs))\n"
     ]
    },
    {
     "name": "stdout",
     "output_type": "stream",
     "text": [
      "monthly_portfolio_return = 0.0226\n",
      "risk_free_return = 0.0074\n",
      "mark_date = datetime.date(2017, 3, 1)\n",
      "monthly_portfolio_return = 0.0380\n",
      "risk_free_return = 0.0024\n",
      "mark_date = datetime.date(2017, 4, 1)\n",
      "monthly_portfolio_return = -0.0132\n",
      "risk_free_return = 0.0111\n",
      "mark_date = datetime.date(2017, 5, 1)\n",
      "monthly_portfolio_return = 0.0989\n",
      "risk_free_return = 0.0079\n",
      "mark_date = datetime.date(2017, 6, 1)\n"
     ]
    },
    {
     "name": "stderr",
     "output_type": "stream",
     "text": [
      "/home/josh/cmor462/ropacea/ropacea/scs.py:32: RuntimeWarning: divide by zero encountered in scalar divide\n",
      "  alpha = max(0, (gamma - n_assets) / (delta * n_obs))\n",
      "/home/josh/cmor462/ropacea/ropacea/scs.py:32: RuntimeWarning: divide by zero encountered in scalar divide\n",
      "  alpha = max(0, (gamma - n_assets) / (delta * n_obs))\n",
      "/home/josh/cmor462/ropacea/ropacea/scs.py:32: RuntimeWarning: divide by zero encountered in scalar divide\n",
      "  alpha = max(0, (gamma - n_assets) / (delta * n_obs))\n",
      "/home/josh/cmor462/ropacea/ropacea/scs.py:32: RuntimeWarning: divide by zero encountered in scalar divide\n",
      "  alpha = max(0, (gamma - n_assets) / (delta * n_obs))\n"
     ]
    },
    {
     "name": "stdout",
     "output_type": "stream",
     "text": [
      "monthly_portfolio_return = 0.0201\n",
      "risk_free_return = -0.0013\n",
      "mark_date = datetime.date(2017, 7, 1)\n",
      "monthly_portfolio_return = 0.0366\n",
      "risk_free_return = -0.0000\n",
      "mark_date = datetime.date(2017, 8, 1)\n",
      "monthly_portfolio_return = 0.0215\n",
      "risk_free_return = 0.0171\n",
      "mark_date = datetime.date(2017, 9, 1)\n"
     ]
    },
    {
     "name": "stderr",
     "output_type": "stream",
     "text": [
      "/home/josh/cmor462/ropacea/ropacea/scs.py:32: RuntimeWarning: divide by zero encountered in scalar divide\n",
      "  alpha = max(0, (gamma - n_assets) / (delta * n_obs))\n",
      "/home/josh/cmor462/ropacea/ropacea/scs.py:32: RuntimeWarning: divide by zero encountered in scalar divide\n",
      "  alpha = max(0, (gamma - n_assets) / (delta * n_obs))\n",
      "/home/josh/cmor462/ropacea/ropacea/scs.py:32: RuntimeWarning: divide by zero encountered in scalar divide\n",
      "  alpha = max(0, (gamma - n_assets) / (delta * n_obs))\n",
      "/home/josh/cmor462/ropacea/ropacea/scs.py:32: RuntimeWarning: divide by zero encountered in scalar divide\n",
      "  alpha = max(0, (gamma - n_assets) / (delta * n_obs))\n"
     ]
    },
    {
     "name": "stdout",
     "output_type": "stream",
     "text": [
      "monthly_portfolio_return = 0.0195\n",
      "risk_free_return = -0.0172\n",
      "mark_date = datetime.date(2017, 10, 1)\n",
      "monthly_portfolio_return = 0.0725\n",
      "risk_free_return = -0.0011\n",
      "mark_date = datetime.date(2017, 11, 1)\n",
      "monthly_portfolio_return = 0.0206\n",
      "risk_free_return = -0.0026\n",
      "mark_date = datetime.date(2017, 12, 1)\n",
      "monthly_portfolio_return = -0.0095\n",
      "risk_free_return = 0.0022\n",
      "mark_date = datetime.date(2018, 1, 1)\n"
     ]
    },
    {
     "name": "stderr",
     "output_type": "stream",
     "text": [
      "/home/josh/cmor462/ropacea/ropacea/scs.py:32: RuntimeWarning: divide by zero encountered in scalar divide\n",
      "  alpha = max(0, (gamma - n_assets) / (delta * n_obs))\n",
      "/home/josh/cmor462/ropacea/ropacea/scs.py:32: RuntimeWarning: divide by zero encountered in scalar divide\n",
      "  alpha = max(0, (gamma - n_assets) / (delta * n_obs))\n",
      "/home/josh/cmor462/ropacea/ropacea/scs.py:32: RuntimeWarning: divide by zero encountered in scalar divide\n",
      "  alpha = max(0, (gamma - n_assets) / (delta * n_obs))\n",
      "/home/josh/cmor462/ropacea/ropacea/scs.py:32: RuntimeWarning: divide by zero encountered in scalar divide\n",
      "  alpha = max(0, (gamma - n_assets) / (delta * n_obs))\n"
     ]
    },
    {
     "name": "stdout",
     "output_type": "stream",
     "text": [
      "monthly_portfolio_return = 0.0957\n",
      "risk_free_return = -0.0236\n",
      "mark_date = datetime.date(2018, 2, 1)\n",
      "monthly_portfolio_return = -0.0277\n",
      "risk_free_return = -0.0130\n",
      "mark_date = datetime.date(2018, 3, 1)\n",
      "monthly_portfolio_return = -0.0114\n",
      "risk_free_return = 0.0128\n",
      "mark_date = datetime.date(2018, 4, 1)\n",
      "monthly_portfolio_return = 0.0248\n",
      "risk_free_return = -0.0155\n",
      "mark_date = datetime.date(2018, 5, 1)\n"
     ]
    },
    {
     "name": "stderr",
     "output_type": "stream",
     "text": [
      "/home/josh/cmor462/ropacea/ropacea/scs.py:32: RuntimeWarning: divide by zero encountered in scalar divide\n",
      "  alpha = max(0, (gamma - n_assets) / (delta * n_obs))\n",
      "/home/josh/cmor462/ropacea/ropacea/scs.py:32: RuntimeWarning: divide by zero encountered in scalar divide\n",
      "  alpha = max(0, (gamma - n_assets) / (delta * n_obs))\n",
      "/home/josh/cmor462/ropacea/ropacea/scs.py:32: RuntimeWarning: divide by zero encountered in scalar divide\n",
      "  alpha = max(0, (gamma - n_assets) / (delta * n_obs))\n",
      "/home/josh/cmor462/ropacea/ropacea/scs.py:32: RuntimeWarning: divide by zero encountered in scalar divide\n",
      "  alpha = max(0, (gamma - n_assets) / (delta * n_obs))\n"
     ]
    },
    {
     "name": "stdout",
     "output_type": "stream",
     "text": [
      "monthly_portfolio_return = 0.0546\n",
      "risk_free_return = 0.0096\n",
      "mark_date = datetime.date(2018, 6, 1)\n",
      "monthly_portfolio_return = -0.0106\n",
      "risk_free_return = 0.0023\n",
      "mark_date = datetime.date(2018, 7, 1)\n",
      "monthly_portfolio_return = 0.0728\n",
      "risk_free_return = -0.0051\n",
      "mark_date = datetime.date(2018, 8, 1)\n",
      "monthly_portfolio_return = 0.0831\n",
      "risk_free_return = 0.0101\n",
      "mark_date = datetime.date(2018, 9, 1)\n"
     ]
    },
    {
     "name": "stderr",
     "output_type": "stream",
     "text": [
      "/home/josh/cmor462/ropacea/ropacea/scs.py:32: RuntimeWarning: divide by zero encountered in scalar divide\n",
      "  alpha = max(0, (gamma - n_assets) / (delta * n_obs))\n",
      "/home/josh/cmor462/ropacea/ropacea/scs.py:32: RuntimeWarning: divide by zero encountered in scalar divide\n",
      "  alpha = max(0, (gamma - n_assets) / (delta * n_obs))\n",
      "/home/josh/cmor462/ropacea/ropacea/scs.py:32: RuntimeWarning: divide by zero encountered in scalar divide\n",
      "  alpha = max(0, (gamma - n_assets) / (delta * n_obs))\n",
      "/home/josh/cmor462/ropacea/ropacea/scs.py:32: RuntimeWarning: divide by zero encountered in scalar divide\n",
      "  alpha = max(0, (gamma - n_assets) / (delta * n_obs))\n"
     ]
    },
    {
     "name": "stdout",
     "output_type": "stream",
     "text": [
      "monthly_portfolio_return = 0.0175\n",
      "risk_free_return = -0.0148\n",
      "mark_date = datetime.date(2018, 10, 1)\n",
      "monthly_portfolio_return = -0.0611\n",
      "risk_free_return = -0.0043\n",
      "mark_date = datetime.date(2018, 11, 1)\n",
      "monthly_portfolio_return = 0.0218\n",
      "risk_free_return = 0.0149\n",
      "mark_date = datetime.date(2018, 12, 1)\n",
      "monthly_portfolio_return = -0.0746\n",
      "risk_free_return = 0.0286\n",
      "mark_date = datetime.date(2019, 1, 1)\n"
     ]
    },
    {
     "name": "stderr",
     "output_type": "stream",
     "text": [
      "/home/josh/cmor462/ropacea/ropacea/scs.py:32: RuntimeWarning: divide by zero encountered in scalar divide\n",
      "  alpha = max(0, (gamma - n_assets) / (delta * n_obs))\n",
      "/home/josh/cmor462/ropacea/ropacea/scs.py:32: RuntimeWarning: divide by zero encountered in scalar divide\n",
      "  alpha = max(0, (gamma - n_assets) / (delta * n_obs))\n",
      "/home/josh/cmor462/ropacea/ropacea/scs.py:32: RuntimeWarning: divide by zero encountered in scalar divide\n",
      "  alpha = max(0, (gamma - n_assets) / (delta * n_obs))\n",
      "/home/josh/cmor462/ropacea/ropacea/scs.py:32: RuntimeWarning: divide by zero encountered in scalar divide\n",
      "  alpha = max(0, (gamma - n_assets) / (delta * n_obs))\n"
     ]
    },
    {
     "name": "stdout",
     "output_type": "stream",
     "text": [
      "monthly_portfolio_return = 0.0397\n",
      "risk_free_return = 0.0071\n",
      "mark_date = datetime.date(2019, 2, 1)\n",
      "monthly_portfolio_return = 0.0587\n",
      "risk_free_return = -0.0043\n",
      "mark_date = datetime.date(2019, 3, 1)\n",
      "monthly_portfolio_return = 0.0559\n",
      "risk_free_return = 0.0294\n",
      "mark_date = datetime.date(2019, 4, 1)\n",
      "monthly_portfolio_return = -0.0136\n",
      "risk_free_return = -0.0062\n",
      "mark_date = datetime.date(2019, 5, 1)\n"
     ]
    },
    {
     "name": "stderr",
     "output_type": "stream",
     "text": [
      "/home/josh/cmor462/ropacea/ropacea/scs.py:32: RuntimeWarning: divide by zero encountered in scalar divide\n",
      "  alpha = max(0, (gamma - n_assets) / (delta * n_obs))\n",
      "/home/josh/cmor462/ropacea/ropacea/scs.py:32: RuntimeWarning: divide by zero encountered in scalar divide\n",
      "  alpha = max(0, (gamma - n_assets) / (delta * n_obs))\n",
      "/home/josh/cmor462/ropacea/ropacea/scs.py:32: RuntimeWarning: divide by zero encountered in scalar divide\n",
      "  alpha = max(0, (gamma - n_assets) / (delta * n_obs))\n",
      "/home/josh/cmor462/ropacea/ropacea/scs.py:32: RuntimeWarning: divide by zero encountered in scalar divide\n",
      "  alpha = max(0, (gamma - n_assets) / (delta * n_obs))\n"
     ]
    },
    {
     "name": "stdout",
     "output_type": "stream",
     "text": [
      "monthly_portfolio_return = -0.0509\n",
      "risk_free_return = 0.0319\n",
      "mark_date = datetime.date(2019, 6, 1)\n",
      "monthly_portfolio_return = 0.0453\n",
      "risk_free_return = 0.0121\n",
      "mark_date = datetime.date(2019, 7, 1)\n",
      "monthly_portfolio_return = 0.0131\n",
      "risk_free_return = 0.0034\n",
      "mark_date = datetime.date(2019, 8, 1)\n",
      "monthly_portfolio_return = 0.0244\n",
      "risk_free_return = 0.0403\n",
      "mark_date = datetime.date(2019, 9, 1)\n"
     ]
    },
    {
     "name": "stderr",
     "output_type": "stream",
     "text": [
      "/home/josh/cmor462/ropacea/ropacea/scs.py:32: RuntimeWarning: divide by zero encountered in scalar divide\n",
      "  alpha = max(0, (gamma - n_assets) / (delta * n_obs))\n",
      "/home/josh/cmor462/ropacea/ropacea/scs.py:32: RuntimeWarning: divide by zero encountered in scalar divide\n",
      "  alpha = max(0, (gamma - n_assets) / (delta * n_obs))\n",
      "/home/josh/cmor462/ropacea/ropacea/scs.py:32: RuntimeWarning: divide by zero encountered in scalar divide\n",
      "  alpha = max(0, (gamma - n_assets) / (delta * n_obs))\n",
      "/home/josh/cmor462/ropacea/ropacea/scs.py:32: RuntimeWarning: divide by zero encountered in scalar divide\n",
      "  alpha = max(0, (gamma - n_assets) / (delta * n_obs))\n"
     ]
    },
    {
     "name": "stdout",
     "output_type": "stream",
     "text": [
      "monthly_portfolio_return = -0.0125\n",
      "risk_free_return = -0.0139\n",
      "mark_date = datetime.date(2019, 10, 1)\n",
      "monthly_portfolio_return = 0.0037\n",
      "risk_free_return = -0.0007\n",
      "mark_date = datetime.date(2019, 11, 1)\n",
      "monthly_portfolio_return = 0.0392\n",
      "risk_free_return = -0.0074\n",
      "mark_date = datetime.date(2019, 12, 1)\n",
      "monthly_portfolio_return = 0.0628\n",
      "risk_free_return = -0.0113\n",
      "mark_date = datetime.date(2020, 1, 1)\n"
     ]
    },
    {
     "name": "stderr",
     "output_type": "stream",
     "text": [
      "/home/josh/cmor462/ropacea/ropacea/scs.py:32: RuntimeWarning: divide by zero encountered in scalar divide\n",
      "  alpha = max(0, (gamma - n_assets) / (delta * n_obs))\n",
      "/home/josh/cmor462/ropacea/ropacea/scs.py:32: RuntimeWarning: divide by zero encountered in scalar divide\n",
      "  alpha = max(0, (gamma - n_assets) / (delta * n_obs))\n",
      "/home/josh/cmor462/ropacea/ropacea/scs.py:32: RuntimeWarning: divide by zero encountered in scalar divide\n",
      "  alpha = max(0, (gamma - n_assets) / (delta * n_obs))\n",
      "/home/josh/cmor462/ropacea/ropacea/scs.py:32: RuntimeWarning: divide by zero encountered in scalar divide\n",
      "  alpha = max(0, (gamma - n_assets) / (delta * n_obs))\n"
     ]
    },
    {
     "name": "stdout",
     "output_type": "stream",
     "text": [
      "monthly_portfolio_return = 0.0584\n",
      "risk_free_return = 0.0392\n",
      "mark_date = datetime.date(2020, 2, 1)\n",
      "monthly_portfolio_return = -0.0454\n",
      "risk_free_return = 0.0299\n",
      "mark_date = datetime.date(2020, 3, 1)\n",
      "monthly_portfolio_return = -0.0516\n",
      "risk_free_return = 0.0397\n",
      "mark_date = datetime.date(2020, 4, 1)\n",
      "monthly_portfolio_return = 0.1081\n",
      "risk_free_return = 0.0050\n",
      "mark_date = datetime.date(2020, 5, 1)\n"
     ]
    },
    {
     "name": "stderr",
     "output_type": "stream",
     "text": [
      "/home/josh/cmor462/ropacea/ropacea/scs.py:32: RuntimeWarning: divide by zero encountered in scalar divide\n",
      "  alpha = max(0, (gamma - n_assets) / (delta * n_obs))\n",
      "/home/josh/cmor462/ropacea/ropacea/scs.py:32: RuntimeWarning: divide by zero encountered in scalar divide\n",
      "  alpha = max(0, (gamma - n_assets) / (delta * n_obs))\n",
      "/home/josh/cmor462/ropacea/ropacea/scs.py:32: RuntimeWarning: divide by zero encountered in scalar divide\n",
      "  alpha = max(0, (gamma - n_assets) / (delta * n_obs))\n"
     ]
    },
    {
     "name": "stdout",
     "output_type": "stream",
     "text": [
      "monthly_portfolio_return = 0.0413\n",
      "risk_free_return = 0.0007\n",
      "mark_date = datetime.date(2020, 6, 1)\n",
      "monthly_portfolio_return = 0.0513\n",
      "risk_free_return = 0.0004\n",
      "mark_date = datetime.date(2020, 7, 1)\n",
      "monthly_portfolio_return = 0.0337\n",
      "risk_free_return = 0.0128\n",
      "mark_date = datetime.date(2020, 8, 1)\n"
     ]
    },
    {
     "name": "stderr",
     "output_type": "stream",
     "text": [
      "/home/josh/cmor462/ropacea/ropacea/scs.py:32: RuntimeWarning: divide by zero encountered in scalar divide\n",
      "  alpha = max(0, (gamma - n_assets) / (delta * n_obs))\n",
      "/home/josh/cmor462/ropacea/ropacea/scs.py:32: RuntimeWarning: divide by zero encountered in scalar divide\n",
      "  alpha = max(0, (gamma - n_assets) / (delta * n_obs))\n",
      "/home/josh/cmor462/ropacea/ropacea/scs.py:32: RuntimeWarning: divide by zero encountered in scalar divide\n",
      "  alpha = max(0, (gamma - n_assets) / (delta * n_obs))\n",
      "/home/josh/cmor462/ropacea/ropacea/scs.py:32: RuntimeWarning: divide by zero encountered in scalar divide\n",
      "  alpha = max(0, (gamma - n_assets) / (delta * n_obs))\n"
     ]
    },
    {
     "name": "stdout",
     "output_type": "stream",
     "text": [
      "monthly_portfolio_return = 0.0963\n",
      "risk_free_return = -0.0147\n",
      "mark_date = datetime.date(2020, 9, 1)\n",
      "monthly_portfolio_return = -0.0106\n",
      "risk_free_return = 0.0026\n",
      "mark_date = datetime.date(2020, 10, 1)\n",
      "monthly_portfolio_return = -0.0539\n",
      "risk_free_return = -0.0173\n",
      "mark_date = datetime.date(2020, 11, 1)\n",
      "monthly_portfolio_return = 0.0575\n",
      "risk_free_return = 0.0040\n",
      "mark_date = datetime.date(2020, 12, 1)\n"
     ]
    },
    {
     "name": "stderr",
     "output_type": "stream",
     "text": [
      "/home/josh/cmor462/ropacea/ropacea/scs.py:32: RuntimeWarning: divide by zero encountered in scalar divide\n",
      "  alpha = max(0, (gamma - n_assets) / (delta * n_obs))\n",
      "/home/josh/cmor462/ropacea/ropacea/scs.py:32: RuntimeWarning: divide by zero encountered in scalar divide\n",
      "  alpha = max(0, (gamma - n_assets) / (delta * n_obs))\n",
      "/home/josh/cmor462/ropacea/ropacea/scs.py:32: RuntimeWarning: divide by zero encountered in scalar divide\n",
      "  alpha = max(0, (gamma - n_assets) / (delta * n_obs))\n",
      "/home/josh/cmor462/ropacea/ropacea/scs.py:32: RuntimeWarning: divide by zero encountered in scalar divide\n",
      "  alpha = max(0, (gamma - n_assets) / (delta * n_obs))\n"
     ]
    },
    {
     "name": "stdout",
     "output_type": "stream",
     "text": [
      "monthly_portfolio_return = 0.0112\n",
      "risk_free_return = -0.0050\n",
      "mark_date = datetime.date(2021, 1, 1)\n",
      "monthly_portfolio_return = 0.0246\n",
      "risk_free_return = -0.0107\n",
      "mark_date = datetime.date(2021, 2, 1)\n",
      "monthly_portfolio_return = -0.0138\n",
      "risk_free_return = -0.0254\n",
      "mark_date = datetime.date(2021, 3, 1)\n",
      "monthly_portfolio_return = -0.0104\n",
      "risk_free_return = -0.0293\n",
      "mark_date = datetime.date(2021, 4, 1)\n"
     ]
    },
    {
     "name": "stderr",
     "output_type": "stream",
     "text": [
      "/home/josh/cmor462/ropacea/ropacea/scs.py:32: RuntimeWarning: divide by zero encountered in scalar divide\n",
      "  alpha = max(0, (gamma - n_assets) / (delta * n_obs))\n",
      "/home/josh/cmor462/ropacea/ropacea/scs.py:32: RuntimeWarning: divide by zero encountered in scalar divide\n",
      "  alpha = max(0, (gamma - n_assets) / (delta * n_obs))\n",
      "/home/josh/cmor462/ropacea/ropacea/scs.py:32: RuntimeWarning: divide by zero encountered in scalar divide\n",
      "  alpha = max(0, (gamma - n_assets) / (delta * n_obs))\n",
      "/home/josh/cmor462/ropacea/ropacea/scs.py:32: RuntimeWarning: divide by zero encountered in scalar divide\n",
      "  alpha = max(0, (gamma - n_assets) / (delta * n_obs))\n"
     ]
    },
    {
     "name": "stdout",
     "output_type": "stream",
     "text": [
      "monthly_portfolio_return = 0.0512\n",
      "risk_free_return = 0.0119\n",
      "mark_date = datetime.date(2021, 5, 1)\n",
      "monthly_portfolio_return = 0.0303\n",
      "risk_free_return = 0.0034\n",
      "mark_date = datetime.date(2021, 6, 1)\n",
      "monthly_portfolio_return = 0.1034\n",
      "risk_free_return = 0.0141\n",
      "mark_date = datetime.date(2021, 7, 1)\n",
      "monthly_portfolio_return = 0.0425\n",
      "risk_free_return = 0.0238\n",
      "mark_date = datetime.date(2021, 8, 1)\n"
     ]
    },
    {
     "name": "stderr",
     "output_type": "stream",
     "text": [
      "/home/josh/cmor462/ropacea/ropacea/scs.py:32: RuntimeWarning: divide by zero encountered in scalar divide\n",
      "  alpha = max(0, (gamma - n_assets) / (delta * n_obs))\n",
      "/home/josh/cmor462/ropacea/ropacea/scs.py:32: RuntimeWarning: divide by zero encountered in scalar divide\n",
      "  alpha = max(0, (gamma - n_assets) / (delta * n_obs))\n",
      "/home/josh/cmor462/ropacea/ropacea/scs.py:32: RuntimeWarning: divide by zero encountered in scalar divide\n",
      "  alpha = max(0, (gamma - n_assets) / (delta * n_obs))\n",
      "/home/josh/cmor462/ropacea/ropacea/scs.py:32: RuntimeWarning: divide by zero encountered in scalar divide\n",
      "  alpha = max(0, (gamma - n_assets) / (delta * n_obs))\n"
     ]
    },
    {
     "name": "stdout",
     "output_type": "stream",
     "text": [
      "monthly_portfolio_return = 0.0690\n",
      "risk_free_return = -0.0048\n",
      "mark_date = datetime.date(2021, 9, 1)\n",
      "monthly_portfolio_return = -0.0723\n",
      "risk_free_return = -0.0154\n",
      "mark_date = datetime.date(2021, 10, 1)\n",
      "monthly_portfolio_return = 0.1313\n",
      "risk_free_return = -0.0049\n",
      "mark_date = datetime.date(2021, 11, 1)\n",
      "monthly_portfolio_return = 0.0423\n",
      "risk_free_return = 0.0125\n",
      "mark_date = datetime.date(2021, 12, 1)\n"
     ]
    },
    {
     "name": "stderr",
     "output_type": "stream",
     "text": [
      "/home/josh/cmor462/ropacea/ropacea/scs.py:32: RuntimeWarning: divide by zero encountered in scalar divide\n",
      "  alpha = max(0, (gamma - n_assets) / (delta * n_obs))\n",
      "/home/josh/cmor462/ropacea/ropacea/scs.py:32: RuntimeWarning: divide by zero encountered in scalar divide\n",
      "  alpha = max(0, (gamma - n_assets) / (delta * n_obs))\n",
      "/home/josh/cmor462/ropacea/ropacea/scs.py:32: RuntimeWarning: divide by zero encountered in scalar divide\n",
      "  alpha = max(0, (gamma - n_assets) / (delta * n_obs))\n"
     ]
    },
    {
     "name": "stdout",
     "output_type": "stream",
     "text": [
      "monthly_portfolio_return = 0.0414\n",
      "risk_free_return = -0.0047\n",
      "========== SUMMARY ==========\n",
      "monthly_returns_bp_mean = 228.78\n",
      "monthly_returns_bp_std = 496.87\n",
      "annualized_mean_pct = 31.19\n",
      "annualized_std_pct = 17.21\n",
      "sharpe_ratio = 1.81\n",
      "mark_date = datetime.date(2017, 1, 1)\n",
      "monthly_portfolio_return = 0.0375\n",
      "risk_free_return = 0.0022\n",
      "mark_date = datetime.date(2017, 2, 1)\n",
      "monthly_portfolio_return = 0.0216\n",
      "risk_free_return = 0.0074\n",
      "mark_date = datetime.date(2017, 3, 1)\n",
      "monthly_portfolio_return = 0.0388\n",
      "risk_free_return = 0.0024\n",
      "mark_date = datetime.date(2017, 4, 1)\n"
     ]
    },
    {
     "name": "stderr",
     "output_type": "stream",
     "text": [
      "/home/josh/cmor462/ropacea/ropacea/scs.py:32: RuntimeWarning: divide by zero encountered in scalar divide\n",
      "  alpha = max(0, (gamma - n_assets) / (delta * n_obs))\n",
      "/home/josh/cmor462/ropacea/ropacea/scs.py:32: RuntimeWarning: divide by zero encountered in scalar divide\n",
      "  alpha = max(0, (gamma - n_assets) / (delta * n_obs))\n",
      "/home/josh/cmor462/ropacea/ropacea/scs.py:32: RuntimeWarning: divide by zero encountered in scalar divide\n",
      "  alpha = max(0, (gamma - n_assets) / (delta * n_obs))\n",
      "/home/josh/cmor462/ropacea/ropacea/scs.py:32: RuntimeWarning: divide by zero encountered in scalar divide\n",
      "  alpha = max(0, (gamma - n_assets) / (delta * n_obs))\n"
     ]
    },
    {
     "name": "stdout",
     "output_type": "stream",
     "text": [
      "monthly_portfolio_return = -0.0135\n",
      "risk_free_return = 0.0111\n",
      "mark_date = datetime.date(2017, 5, 1)\n",
      "monthly_portfolio_return = 0.1012\n",
      "risk_free_return = 0.0079\n",
      "mark_date = datetime.date(2017, 6, 1)\n",
      "monthly_portfolio_return = 0.0200\n",
      "risk_free_return = -0.0013\n",
      "mark_date = datetime.date(2017, 7, 1)\n",
      "monthly_portfolio_return = 0.0373\n",
      "risk_free_return = -0.0000\n",
      "mark_date = datetime.date(2017, 8, 1)\n"
     ]
    },
    {
     "name": "stderr",
     "output_type": "stream",
     "text": [
      "/home/josh/cmor462/ropacea/ropacea/scs.py:32: RuntimeWarning: divide by zero encountered in scalar divide\n",
      "  alpha = max(0, (gamma - n_assets) / (delta * n_obs))\n",
      "/home/josh/cmor462/ropacea/ropacea/scs.py:32: RuntimeWarning: divide by zero encountered in scalar divide\n",
      "  alpha = max(0, (gamma - n_assets) / (delta * n_obs))\n",
      "/home/josh/cmor462/ropacea/ropacea/scs.py:32: RuntimeWarning: divide by zero encountered in scalar divide\n",
      "  alpha = max(0, (gamma - n_assets) / (delta * n_obs))\n",
      "/home/josh/cmor462/ropacea/ropacea/scs.py:32: RuntimeWarning: divide by zero encountered in scalar divide\n",
      "  alpha = max(0, (gamma - n_assets) / (delta * n_obs))\n"
     ]
    },
    {
     "name": "stdout",
     "output_type": "stream",
     "text": [
      "monthly_portfolio_return = 0.0218\n",
      "risk_free_return = 0.0171\n",
      "mark_date = datetime.date(2017, 9, 1)\n",
      "monthly_portfolio_return = 0.0195\n",
      "risk_free_return = -0.0172\n",
      "mark_date = datetime.date(2017, 10, 1)\n",
      "monthly_portfolio_return = 0.0740\n",
      "risk_free_return = -0.0011\n",
      "mark_date = datetime.date(2017, 11, 1)\n",
      "monthly_portfolio_return = 0.0202\n",
      "risk_free_return = -0.0026\n",
      "mark_date = datetime.date(2017, 12, 1)\n"
     ]
    },
    {
     "name": "stderr",
     "output_type": "stream",
     "text": [
      "/home/josh/cmor462/ropacea/ropacea/scs.py:32: RuntimeWarning: divide by zero encountered in scalar divide\n",
      "  alpha = max(0, (gamma - n_assets) / (delta * n_obs))\n",
      "/home/josh/cmor462/ropacea/ropacea/scs.py:32: RuntimeWarning: divide by zero encountered in scalar divide\n",
      "  alpha = max(0, (gamma - n_assets) / (delta * n_obs))\n",
      "/home/josh/cmor462/ropacea/ropacea/scs.py:32: RuntimeWarning: divide by zero encountered in scalar divide\n",
      "  alpha = max(0, (gamma - n_assets) / (delta * n_obs))\n"
     ]
    },
    {
     "name": "stdout",
     "output_type": "stream",
     "text": [
      "monthly_portfolio_return = -0.0100\n",
      "risk_free_return = 0.0022\n",
      "mark_date = datetime.date(2018, 1, 1)\n",
      "monthly_portfolio_return = 0.0977\n",
      "risk_free_return = -0.0236\n",
      "mark_date = datetime.date(2018, 2, 1)\n",
      "monthly_portfolio_return = -0.0264\n",
      "risk_free_return = -0.0130\n",
      "mark_date = datetime.date(2018, 3, 1)\n",
      "monthly_portfolio_return = -0.0114\n",
      "risk_free_return = 0.0128\n",
      "mark_date = datetime.date(2018, 4, 1)\n"
     ]
    },
    {
     "name": "stderr",
     "output_type": "stream",
     "text": [
      "/home/josh/cmor462/ropacea/ropacea/scs.py:32: RuntimeWarning: divide by zero encountered in scalar divide\n",
      "  alpha = max(0, (gamma - n_assets) / (delta * n_obs))\n",
      "/home/josh/cmor462/ropacea/ropacea/scs.py:32: RuntimeWarning: divide by zero encountered in scalar divide\n",
      "  alpha = max(0, (gamma - n_assets) / (delta * n_obs))\n",
      "/home/josh/cmor462/ropacea/ropacea/scs.py:32: RuntimeWarning: divide by zero encountered in scalar divide\n",
      "  alpha = max(0, (gamma - n_assets) / (delta * n_obs))\n",
      "/home/josh/cmor462/ropacea/ropacea/scs.py:32: RuntimeWarning: divide by zero encountered in scalar divide\n",
      "  alpha = max(0, (gamma - n_assets) / (delta * n_obs))\n"
     ]
    },
    {
     "name": "stdout",
     "output_type": "stream",
     "text": [
      "monthly_portfolio_return = 0.0243\n",
      "risk_free_return = -0.0155\n",
      "mark_date = datetime.date(2018, 5, 1)\n",
      "monthly_portfolio_return = 0.0561\n",
      "risk_free_return = 0.0096\n",
      "mark_date = datetime.date(2018, 6, 1)\n",
      "monthly_portfolio_return = -0.0111\n",
      "risk_free_return = 0.0023\n",
      "mark_date = datetime.date(2018, 7, 1)\n"
     ]
    },
    {
     "name": "stderr",
     "output_type": "stream",
     "text": [
      "/home/josh/cmor462/ropacea/ropacea/scs.py:32: RuntimeWarning: divide by zero encountered in scalar divide\n",
      "  alpha = max(0, (gamma - n_assets) / (delta * n_obs))\n",
      "/home/josh/cmor462/ropacea/ropacea/scs.py:32: RuntimeWarning: divide by zero encountered in scalar divide\n",
      "  alpha = max(0, (gamma - n_assets) / (delta * n_obs))\n",
      "/home/josh/cmor462/ropacea/ropacea/scs.py:32: RuntimeWarning: divide by zero encountered in scalar divide\n",
      "  alpha = max(0, (gamma - n_assets) / (delta * n_obs))\n"
     ]
    },
    {
     "name": "stdout",
     "output_type": "stream",
     "text": [
      "monthly_portfolio_return = 0.0728\n",
      "risk_free_return = -0.0051\n",
      "mark_date = datetime.date(2018, 8, 1)\n",
      "monthly_portfolio_return = 0.0836\n",
      "risk_free_return = 0.0101\n",
      "mark_date = datetime.date(2018, 9, 1)\n",
      "monthly_portfolio_return = 0.0176\n",
      "risk_free_return = -0.0148\n",
      "mark_date = datetime.date(2018, 10, 1)\n"
     ]
    },
    {
     "name": "stderr",
     "output_type": "stream",
     "text": [
      "/home/josh/cmor462/ropacea/ropacea/scs.py:32: RuntimeWarning: divide by zero encountered in scalar divide\n",
      "  alpha = max(0, (gamma - n_assets) / (delta * n_obs))\n",
      "/home/josh/cmor462/ropacea/ropacea/scs.py:32: RuntimeWarning: divide by zero encountered in scalar divide\n",
      "  alpha = max(0, (gamma - n_assets) / (delta * n_obs))\n",
      "/home/josh/cmor462/ropacea/ropacea/scs.py:32: RuntimeWarning: divide by zero encountered in scalar divide\n",
      "  alpha = max(0, (gamma - n_assets) / (delta * n_obs))\n",
      "/home/josh/cmor462/ropacea/ropacea/scs.py:32: RuntimeWarning: divide by zero encountered in scalar divide\n",
      "  alpha = max(0, (gamma - n_assets) / (delta * n_obs))\n"
     ]
    },
    {
     "name": "stdout",
     "output_type": "stream",
     "text": [
      "monthly_portfolio_return = -0.0633\n",
      "risk_free_return = -0.0043\n",
      "mark_date = datetime.date(2018, 11, 1)\n",
      "monthly_portfolio_return = 0.0199\n",
      "risk_free_return = 0.0149\n",
      "mark_date = datetime.date(2018, 12, 1)\n",
      "monthly_portfolio_return = -0.0756\n",
      "risk_free_return = 0.0286\n",
      "mark_date = datetime.date(2019, 1, 1)\n",
      "monthly_portfolio_return = 0.0402\n",
      "risk_free_return = 0.0071\n",
      "mark_date = datetime.date(2019, 2, 1)\n"
     ]
    },
    {
     "name": "stderr",
     "output_type": "stream",
     "text": [
      "/home/josh/cmor462/ropacea/ropacea/scs.py:32: RuntimeWarning: divide by zero encountered in scalar divide\n",
      "  alpha = max(0, (gamma - n_assets) / (delta * n_obs))\n",
      "/home/josh/cmor462/ropacea/ropacea/scs.py:32: RuntimeWarning: divide by zero encountered in scalar divide\n",
      "  alpha = max(0, (gamma - n_assets) / (delta * n_obs))\n",
      "/home/josh/cmor462/ropacea/ropacea/scs.py:32: RuntimeWarning: divide by zero encountered in scalar divide\n",
      "  alpha = max(0, (gamma - n_assets) / (delta * n_obs))\n",
      "/home/josh/cmor462/ropacea/ropacea/scs.py:32: RuntimeWarning: divide by zero encountered in scalar divide\n",
      "  alpha = max(0, (gamma - n_assets) / (delta * n_obs))\n"
     ]
    },
    {
     "name": "stdout",
     "output_type": "stream",
     "text": [
      "monthly_portfolio_return = 0.0590\n",
      "risk_free_return = -0.0043\n",
      "mark_date = datetime.date(2019, 3, 1)\n",
      "monthly_portfolio_return = 0.0569\n",
      "risk_free_return = 0.0294\n",
      "mark_date = datetime.date(2019, 4, 1)\n",
      "monthly_portfolio_return = -0.0142\n",
      "risk_free_return = -0.0062\n",
      "mark_date = datetime.date(2019, 5, 1)\n",
      "monthly_portfolio_return = -0.0532\n",
      "risk_free_return = 0.0319\n",
      "mark_date = datetime.date(2019, 6, 1)\n"
     ]
    },
    {
     "name": "stderr",
     "output_type": "stream",
     "text": [
      "/home/josh/cmor462/ropacea/ropacea/scs.py:32: RuntimeWarning: divide by zero encountered in scalar divide\n",
      "  alpha = max(0, (gamma - n_assets) / (delta * n_obs))\n",
      "/home/josh/cmor462/ropacea/ropacea/scs.py:32: RuntimeWarning: divide by zero encountered in scalar divide\n",
      "  alpha = max(0, (gamma - n_assets) / (delta * n_obs))\n",
      "/home/josh/cmor462/ropacea/ropacea/scs.py:32: RuntimeWarning: divide by zero encountered in scalar divide\n",
      "  alpha = max(0, (gamma - n_assets) / (delta * n_obs))\n"
     ]
    },
    {
     "name": "stdout",
     "output_type": "stream",
     "text": [
      "monthly_portfolio_return = 0.0469\n",
      "risk_free_return = 0.0121\n",
      "mark_date = datetime.date(2019, 7, 1)\n",
      "monthly_portfolio_return = 0.0133\n",
      "risk_free_return = 0.0034\n",
      "mark_date = datetime.date(2019, 8, 1)\n",
      "monthly_portfolio_return = 0.0236\n",
      "risk_free_return = 0.0403\n",
      "mark_date = datetime.date(2019, 9, 1)\n"
     ]
    },
    {
     "name": "stderr",
     "output_type": "stream",
     "text": [
      "/home/josh/cmor462/ropacea/ropacea/scs.py:32: RuntimeWarning: divide by zero encountered in scalar divide\n",
      "  alpha = max(0, (gamma - n_assets) / (delta * n_obs))\n",
      "/home/josh/cmor462/ropacea/ropacea/scs.py:32: RuntimeWarning: divide by zero encountered in scalar divide\n",
      "  alpha = max(0, (gamma - n_assets) / (delta * n_obs))\n",
      "/home/josh/cmor462/ropacea/ropacea/scs.py:32: RuntimeWarning: divide by zero encountered in scalar divide\n",
      "  alpha = max(0, (gamma - n_assets) / (delta * n_obs))\n",
      "/home/josh/cmor462/ropacea/ropacea/scs.py:32: RuntimeWarning: divide by zero encountered in scalar divide\n",
      "  alpha = max(0, (gamma - n_assets) / (delta * n_obs))\n"
     ]
    },
    {
     "name": "stdout",
     "output_type": "stream",
     "text": [
      "monthly_portfolio_return = -0.0122\n",
      "risk_free_return = -0.0139\n",
      "mark_date = datetime.date(2019, 10, 1)\n",
      "monthly_portfolio_return = 0.0054\n",
      "risk_free_return = -0.0007\n",
      "mark_date = datetime.date(2019, 11, 1)\n",
      "monthly_portfolio_return = 0.0401\n",
      "risk_free_return = -0.0074\n",
      "mark_date = datetime.date(2019, 12, 1)\n",
      "monthly_portfolio_return = 0.0632\n",
      "risk_free_return = -0.0113\n",
      "mark_date = datetime.date(2020, 1, 1)\n"
     ]
    },
    {
     "name": "stderr",
     "output_type": "stream",
     "text": [
      "/home/josh/cmor462/ropacea/ropacea/scs.py:32: RuntimeWarning: divide by zero encountered in scalar divide\n",
      "  alpha = max(0, (gamma - n_assets) / (delta * n_obs))\n",
      "/home/josh/cmor462/ropacea/ropacea/scs.py:32: RuntimeWarning: divide by zero encountered in scalar divide\n",
      "  alpha = max(0, (gamma - n_assets) / (delta * n_obs))\n",
      "/home/josh/cmor462/ropacea/ropacea/scs.py:32: RuntimeWarning: divide by zero encountered in scalar divide\n",
      "  alpha = max(0, (gamma - n_assets) / (delta * n_obs))\n",
      "/home/josh/cmor462/ropacea/ropacea/scs.py:32: RuntimeWarning: divide by zero encountered in scalar divide\n",
      "  alpha = max(0, (gamma - n_assets) / (delta * n_obs))\n"
     ]
    },
    {
     "name": "stdout",
     "output_type": "stream",
     "text": [
      "monthly_portfolio_return = 0.0579\n",
      "risk_free_return = 0.0392\n",
      "mark_date = datetime.date(2020, 2, 1)\n",
      "monthly_portfolio_return = -0.0432\n",
      "risk_free_return = 0.0299\n",
      "mark_date = datetime.date(2020, 3, 1)\n",
      "monthly_portfolio_return = -0.0522\n",
      "risk_free_return = 0.0397\n",
      "mark_date = datetime.date(2020, 4, 1)\n",
      "monthly_portfolio_return = 0.1085\n",
      "risk_free_return = 0.0050\n",
      "mark_date = datetime.date(2020, 5, 1)\n"
     ]
    },
    {
     "name": "stderr",
     "output_type": "stream",
     "text": [
      "/home/josh/cmor462/ropacea/ropacea/scs.py:32: RuntimeWarning: divide by zero encountered in scalar divide\n",
      "  alpha = max(0, (gamma - n_assets) / (delta * n_obs))\n",
      "/home/josh/cmor462/ropacea/ropacea/scs.py:32: RuntimeWarning: divide by zero encountered in scalar divide\n",
      "  alpha = max(0, (gamma - n_assets) / (delta * n_obs))\n",
      "/home/josh/cmor462/ropacea/ropacea/scs.py:32: RuntimeWarning: divide by zero encountered in scalar divide\n",
      "  alpha = max(0, (gamma - n_assets) / (delta * n_obs))\n"
     ]
    },
    {
     "name": "stdout",
     "output_type": "stream",
     "text": [
      "monthly_portfolio_return = 0.0426\n",
      "risk_free_return = 0.0007\n",
      "mark_date = datetime.date(2020, 6, 1)\n",
      "monthly_portfolio_return = 0.0522\n",
      "risk_free_return = 0.0004\n",
      "mark_date = datetime.date(2020, 7, 1)\n",
      "monthly_portfolio_return = 0.0331\n",
      "risk_free_return = 0.0128\n",
      "mark_date = datetime.date(2020, 8, 1)\n"
     ]
    },
    {
     "name": "stderr",
     "output_type": "stream",
     "text": [
      "/home/josh/cmor462/ropacea/ropacea/scs.py:32: RuntimeWarning: divide by zero encountered in scalar divide\n",
      "  alpha = max(0, (gamma - n_assets) / (delta * n_obs))\n",
      "/home/josh/cmor462/ropacea/ropacea/scs.py:32: RuntimeWarning: divide by zero encountered in scalar divide\n",
      "  alpha = max(0, (gamma - n_assets) / (delta * n_obs))\n",
      "/home/josh/cmor462/ropacea/ropacea/scs.py:32: RuntimeWarning: divide by zero encountered in scalar divide\n",
      "  alpha = max(0, (gamma - n_assets) / (delta * n_obs))\n",
      "/home/josh/cmor462/ropacea/ropacea/scs.py:32: RuntimeWarning: divide by zero encountered in scalar divide\n",
      "  alpha = max(0, (gamma - n_assets) / (delta * n_obs))\n"
     ]
    },
    {
     "name": "stdout",
     "output_type": "stream",
     "text": [
      "monthly_portfolio_return = 0.0973\n",
      "risk_free_return = -0.0147\n",
      "mark_date = datetime.date(2020, 9, 1)\n",
      "monthly_portfolio_return = -0.0111\n",
      "risk_free_return = 0.0026\n",
      "mark_date = datetime.date(2020, 10, 1)\n",
      "monthly_portfolio_return = -0.0543\n",
      "risk_free_return = -0.0173\n",
      "mark_date = datetime.date(2020, 11, 1)\n",
      "monthly_portfolio_return = 0.0570\n",
      "risk_free_return = 0.0040\n",
      "mark_date = datetime.date(2020, 12, 1)\n"
     ]
    },
    {
     "name": "stderr",
     "output_type": "stream",
     "text": [
      "/home/josh/cmor462/ropacea/ropacea/scs.py:32: RuntimeWarning: divide by zero encountered in scalar divide\n",
      "  alpha = max(0, (gamma - n_assets) / (delta * n_obs))\n",
      "/home/josh/cmor462/ropacea/ropacea/scs.py:32: RuntimeWarning: divide by zero encountered in scalar divide\n",
      "  alpha = max(0, (gamma - n_assets) / (delta * n_obs))\n",
      "/home/josh/cmor462/ropacea/ropacea/scs.py:32: RuntimeWarning: divide by zero encountered in scalar divide\n",
      "  alpha = max(0, (gamma - n_assets) / (delta * n_obs))\n",
      "/home/josh/cmor462/ropacea/ropacea/scs.py:32: RuntimeWarning: divide by zero encountered in scalar divide\n",
      "  alpha = max(0, (gamma - n_assets) / (delta * n_obs))\n"
     ]
    },
    {
     "name": "stdout",
     "output_type": "stream",
     "text": [
      "monthly_portfolio_return = 0.0109\n",
      "risk_free_return = -0.0050\n",
      "mark_date = datetime.date(2021, 1, 1)\n",
      "monthly_portfolio_return = 0.0252\n",
      "risk_free_return = -0.0107\n",
      "mark_date = datetime.date(2021, 2, 1)\n",
      "monthly_portfolio_return = -0.0136\n",
      "risk_free_return = -0.0254\n",
      "mark_date = datetime.date(2021, 3, 1)\n",
      "monthly_portfolio_return = -0.0120\n",
      "risk_free_return = -0.0293\n",
      "mark_date = datetime.date(2021, 4, 1)\n"
     ]
    },
    {
     "name": "stderr",
     "output_type": "stream",
     "text": [
      "/home/josh/cmor462/ropacea/ropacea/scs.py:32: RuntimeWarning: divide by zero encountered in scalar divide\n",
      "  alpha = max(0, (gamma - n_assets) / (delta * n_obs))\n",
      "/home/josh/cmor462/ropacea/ropacea/scs.py:32: RuntimeWarning: divide by zero encountered in scalar divide\n",
      "  alpha = max(0, (gamma - n_assets) / (delta * n_obs))\n",
      "/home/josh/cmor462/ropacea/ropacea/scs.py:32: RuntimeWarning: divide by zero encountered in scalar divide\n",
      "  alpha = max(0, (gamma - n_assets) / (delta * n_obs))\n",
      "/home/josh/cmor462/ropacea/ropacea/scs.py:32: RuntimeWarning: divide by zero encountered in scalar divide\n",
      "  alpha = max(0, (gamma - n_assets) / (delta * n_obs))\n"
     ]
    },
    {
     "name": "stdout",
     "output_type": "stream",
     "text": [
      "monthly_portfolio_return = 0.0525\n",
      "risk_free_return = 0.0119\n",
      "mark_date = datetime.date(2021, 5, 1)\n",
      "monthly_portfolio_return = 0.0304\n",
      "risk_free_return = 0.0034\n",
      "mark_date = datetime.date(2021, 6, 1)\n",
      "monthly_portfolio_return = 0.1058\n",
      "risk_free_return = 0.0141\n",
      "mark_date = datetime.date(2021, 7, 1)\n",
      "monthly_portfolio_return = 0.0423\n",
      "risk_free_return = 0.0238\n",
      "mark_date = datetime.date(2021, 8, 1)\n"
     ]
    },
    {
     "name": "stderr",
     "output_type": "stream",
     "text": [
      "/home/josh/cmor462/ropacea/ropacea/scs.py:32: RuntimeWarning: divide by zero encountered in scalar divide\n",
      "  alpha = max(0, (gamma - n_assets) / (delta * n_obs))\n",
      "/home/josh/cmor462/ropacea/ropacea/scs.py:32: RuntimeWarning: divide by zero encountered in scalar divide\n",
      "  alpha = max(0, (gamma - n_assets) / (delta * n_obs))\n",
      "/home/josh/cmor462/ropacea/ropacea/scs.py:32: RuntimeWarning: divide by zero encountered in scalar divide\n",
      "  alpha = max(0, (gamma - n_assets) / (delta * n_obs))\n",
      "/home/josh/cmor462/ropacea/ropacea/scs.py:32: RuntimeWarning: divide by zero encountered in scalar divide\n",
      "  alpha = max(0, (gamma - n_assets) / (delta * n_obs))\n"
     ]
    },
    {
     "name": "stdout",
     "output_type": "stream",
     "text": [
      "monthly_portfolio_return = 0.0705\n",
      "risk_free_return = -0.0048\n",
      "mark_date = datetime.date(2021, 9, 1)\n",
      "monthly_portfolio_return = -0.0731\n",
      "risk_free_return = -0.0154\n",
      "mark_date = datetime.date(2021, 10, 1)\n",
      "monthly_portfolio_return = 0.1337\n",
      "risk_free_return = -0.0049\n",
      "mark_date = datetime.date(2021, 11, 1)\n"
     ]
    },
    {
     "name": "stderr",
     "output_type": "stream",
     "text": [
      "/home/josh/cmor462/ropacea/ropacea/scs.py:32: RuntimeWarning: divide by zero encountered in scalar divide\n",
      "  alpha = max(0, (gamma - n_assets) / (delta * n_obs))\n",
      "/home/josh/cmor462/ropacea/ropacea/scs.py:32: RuntimeWarning: divide by zero encountered in scalar divide\n",
      "  alpha = max(0, (gamma - n_assets) / (delta * n_obs))\n",
      "/home/josh/cmor462/ropacea/ropacea/scs.py:32: RuntimeWarning: divide by zero encountered in scalar divide\n",
      "  alpha = max(0, (gamma - n_assets) / (delta * n_obs))\n",
      "/home/josh/cmor462/ropacea/ropacea/scs.py:32: RuntimeWarning: divide by zero encountered in scalar divide\n",
      "  alpha = max(0, (gamma - n_assets) / (delta * n_obs))\n"
     ]
    },
    {
     "name": "stdout",
     "output_type": "stream",
     "text": [
      "monthly_portfolio_return = 0.0437\n",
      "risk_free_return = 0.0125\n",
      "mark_date = datetime.date(2021, 12, 1)\n",
      "monthly_portfolio_return = 0.0392\n",
      "risk_free_return = -0.0047\n",
      "========== SUMMARY ==========\n",
      "monthly_returns_bp_mean = 231.16\n",
      "monthly_returns_bp_std = 503.05\n",
      "annualized_mean_pct = 31.55\n",
      "annualized_std_pct = 17.43\n",
      "sharpe_ratio = 1.81\n",
      "mark_date = datetime.date(2017, 1, 1)\n",
      "monthly_portfolio_return = 0.0388\n",
      "risk_free_return = 0.0022\n",
      "mark_date = datetime.date(2017, 2, 1)\n",
      "monthly_portfolio_return = 0.0206\n",
      "risk_free_return = 0.0074\n",
      "mark_date = datetime.date(2017, 3, 1)\n"
     ]
    },
    {
     "name": "stderr",
     "output_type": "stream",
     "text": [
      "/home/josh/cmor462/ropacea/ropacea/scs.py:32: RuntimeWarning: divide by zero encountered in scalar divide\n",
      "  alpha = max(0, (gamma - n_assets) / (delta * n_obs))\n",
      "/home/josh/cmor462/ropacea/ropacea/scs.py:32: RuntimeWarning: divide by zero encountered in scalar divide\n",
      "  alpha = max(0, (gamma - n_assets) / (delta * n_obs))\n",
      "/home/josh/cmor462/ropacea/ropacea/scs.py:32: RuntimeWarning: divide by zero encountered in scalar divide\n",
      "  alpha = max(0, (gamma - n_assets) / (delta * n_obs))\n",
      "/home/josh/cmor462/ropacea/ropacea/scs.py:32: RuntimeWarning: divide by zero encountered in scalar divide\n",
      "  alpha = max(0, (gamma - n_assets) / (delta * n_obs))\n"
     ]
    },
    {
     "name": "stdout",
     "output_type": "stream",
     "text": [
      "monthly_portfolio_return = 0.0396\n",
      "risk_free_return = 0.0024\n",
      "mark_date = datetime.date(2017, 4, 1)\n",
      "monthly_portfolio_return = -0.0137\n",
      "risk_free_return = 0.0111\n",
      "mark_date = datetime.date(2017, 5, 1)\n",
      "monthly_portfolio_return = 0.1035\n",
      "risk_free_return = 0.0079\n",
      "mark_date = datetime.date(2017, 6, 1)\n",
      "monthly_portfolio_return = 0.0199\n",
      "risk_free_return = -0.0013\n",
      "mark_date = datetime.date(2017, 7, 1)\n"
     ]
    },
    {
     "name": "stderr",
     "output_type": "stream",
     "text": [
      "/home/josh/cmor462/ropacea/ropacea/scs.py:32: RuntimeWarning: divide by zero encountered in scalar divide\n",
      "  alpha = max(0, (gamma - n_assets) / (delta * n_obs))\n",
      "/home/josh/cmor462/ropacea/ropacea/scs.py:32: RuntimeWarning: divide by zero encountered in scalar divide\n",
      "  alpha = max(0, (gamma - n_assets) / (delta * n_obs))\n",
      "/home/josh/cmor462/ropacea/ropacea/scs.py:32: RuntimeWarning: divide by zero encountered in scalar divide\n",
      "  alpha = max(0, (gamma - n_assets) / (delta * n_obs))\n",
      "/home/josh/cmor462/ropacea/ropacea/scs.py:32: RuntimeWarning: divide by zero encountered in scalar divide\n",
      "  alpha = max(0, (gamma - n_assets) / (delta * n_obs))\n"
     ]
    },
    {
     "name": "stdout",
     "output_type": "stream",
     "text": [
      "monthly_portfolio_return = 0.0380\n",
      "risk_free_return = -0.0000\n",
      "mark_date = datetime.date(2017, 8, 1)\n",
      "monthly_portfolio_return = 0.0220\n",
      "risk_free_return = 0.0171\n",
      "mark_date = datetime.date(2017, 9, 1)\n",
      "monthly_portfolio_return = 0.0195\n",
      "risk_free_return = -0.0172\n",
      "mark_date = datetime.date(2017, 10, 1)\n",
      "monthly_portfolio_return = 0.0754\n",
      "risk_free_return = -0.0011\n",
      "mark_date = datetime.date(2017, 11, 1)\n"
     ]
    },
    {
     "name": "stderr",
     "output_type": "stream",
     "text": [
      "/home/josh/cmor462/ropacea/ropacea/scs.py:32: RuntimeWarning: divide by zero encountered in scalar divide\n",
      "  alpha = max(0, (gamma - n_assets) / (delta * n_obs))\n",
      "/home/josh/cmor462/ropacea/ropacea/scs.py:32: RuntimeWarning: divide by zero encountered in scalar divide\n",
      "  alpha = max(0, (gamma - n_assets) / (delta * n_obs))\n",
      "/home/josh/cmor462/ropacea/ropacea/scs.py:32: RuntimeWarning: divide by zero encountered in scalar divide\n",
      "  alpha = max(0, (gamma - n_assets) / (delta * n_obs))\n",
      "/home/josh/cmor462/ropacea/ropacea/scs.py:32: RuntimeWarning: divide by zero encountered in scalar divide\n",
      "  alpha = max(0, (gamma - n_assets) / (delta * n_obs))\n"
     ]
    },
    {
     "name": "stdout",
     "output_type": "stream",
     "text": [
      "monthly_portfolio_return = 0.0198\n",
      "risk_free_return = -0.0026\n",
      "mark_date = datetime.date(2017, 12, 1)\n",
      "monthly_portfolio_return = -0.0105\n",
      "risk_free_return = 0.0022\n",
      "mark_date = datetime.date(2018, 1, 1)\n",
      "monthly_portfolio_return = 0.0998\n",
      "risk_free_return = -0.0236\n",
      "mark_date = datetime.date(2018, 2, 1)\n",
      "monthly_portfolio_return = -0.0253\n",
      "risk_free_return = -0.0130\n",
      "mark_date = datetime.date(2018, 3, 1)\n"
     ]
    },
    {
     "name": "stderr",
     "output_type": "stream",
     "text": [
      "/home/josh/cmor462/ropacea/ropacea/scs.py:32: RuntimeWarning: divide by zero encountered in scalar divide\n",
      "  alpha = max(0, (gamma - n_assets) / (delta * n_obs))\n",
      "/home/josh/cmor462/ropacea/ropacea/scs.py:32: RuntimeWarning: divide by zero encountered in scalar divide\n",
      "  alpha = max(0, (gamma - n_assets) / (delta * n_obs))\n",
      "/home/josh/cmor462/ropacea/ropacea/scs.py:32: RuntimeWarning: divide by zero encountered in scalar divide\n",
      "  alpha = max(0, (gamma - n_assets) / (delta * n_obs))\n",
      "/home/josh/cmor462/ropacea/ropacea/scs.py:32: RuntimeWarning: divide by zero encountered in scalar divide\n",
      "  alpha = max(0, (gamma - n_assets) / (delta * n_obs))\n"
     ]
    },
    {
     "name": "stdout",
     "output_type": "stream",
     "text": [
      "monthly_portfolio_return = -0.0114\n",
      "risk_free_return = 0.0128\n",
      "mark_date = datetime.date(2018, 4, 1)\n",
      "monthly_portfolio_return = 0.0238\n",
      "risk_free_return = -0.0155\n",
      "mark_date = datetime.date(2018, 5, 1)\n",
      "monthly_portfolio_return = 0.0575\n",
      "risk_free_return = 0.0096\n",
      "mark_date = datetime.date(2018, 6, 1)\n",
      "monthly_portfolio_return = -0.0115\n",
      "risk_free_return = 0.0023\n",
      "mark_date = datetime.date(2018, 7, 1)\n"
     ]
    },
    {
     "name": "stderr",
     "output_type": "stream",
     "text": [
      "/home/josh/cmor462/ropacea/ropacea/scs.py:32: RuntimeWarning: divide by zero encountered in scalar divide\n",
      "  alpha = max(0, (gamma - n_assets) / (delta * n_obs))\n",
      "/home/josh/cmor462/ropacea/ropacea/scs.py:32: RuntimeWarning: divide by zero encountered in scalar divide\n",
      "  alpha = max(0, (gamma - n_assets) / (delta * n_obs))\n",
      "/home/josh/cmor462/ropacea/ropacea/scs.py:32: RuntimeWarning: divide by zero encountered in scalar divide\n",
      "  alpha = max(0, (gamma - n_assets) / (delta * n_obs))\n",
      "/home/josh/cmor462/ropacea/ropacea/scs.py:32: RuntimeWarning: divide by zero encountered in scalar divide\n",
      "  alpha = max(0, (gamma - n_assets) / (delta * n_obs))\n"
     ]
    },
    {
     "name": "stdout",
     "output_type": "stream",
     "text": [
      "monthly_portfolio_return = 0.0728\n",
      "risk_free_return = -0.0051\n",
      "mark_date = datetime.date(2018, 8, 1)\n",
      "monthly_portfolio_return = 0.0841\n",
      "risk_free_return = 0.0101\n",
      "mark_date = datetime.date(2018, 9, 1)\n",
      "monthly_portfolio_return = 0.0176\n",
      "risk_free_return = -0.0148\n",
      "mark_date = datetime.date(2018, 10, 1)\n",
      "monthly_portfolio_return = -0.0655\n",
      "risk_free_return = -0.0043\n",
      "mark_date = datetime.date(2018, 11, 1)\n"
     ]
    },
    {
     "name": "stderr",
     "output_type": "stream",
     "text": [
      "/home/josh/cmor462/ropacea/ropacea/scs.py:32: RuntimeWarning: divide by zero encountered in scalar divide\n",
      "  alpha = max(0, (gamma - n_assets) / (delta * n_obs))\n",
      "/home/josh/cmor462/ropacea/ropacea/scs.py:32: RuntimeWarning: divide by zero encountered in scalar divide\n",
      "  alpha = max(0, (gamma - n_assets) / (delta * n_obs))\n",
      "/home/josh/cmor462/ropacea/ropacea/scs.py:32: RuntimeWarning: divide by zero encountered in scalar divide\n",
      "  alpha = max(0, (gamma - n_assets) / (delta * n_obs))\n"
     ]
    },
    {
     "name": "stdout",
     "output_type": "stream",
     "text": [
      "monthly_portfolio_return = 0.0180\n",
      "risk_free_return = 0.0149\n",
      "mark_date = datetime.date(2018, 12, 1)\n",
      "monthly_portfolio_return = -0.0765\n",
      "risk_free_return = 0.0286\n",
      "mark_date = datetime.date(2019, 1, 1)\n",
      "monthly_portfolio_return = 0.0406\n",
      "risk_free_return = 0.0071\n",
      "mark_date = datetime.date(2019, 2, 1)\n"
     ]
    },
    {
     "name": "stderr",
     "output_type": "stream",
     "text": [
      "/home/josh/cmor462/ropacea/ropacea/scs.py:32: RuntimeWarning: divide by zero encountered in scalar divide\n",
      "  alpha = max(0, (gamma - n_assets) / (delta * n_obs))\n",
      "/home/josh/cmor462/ropacea/ropacea/scs.py:32: RuntimeWarning: divide by zero encountered in scalar divide\n",
      "  alpha = max(0, (gamma - n_assets) / (delta * n_obs))\n",
      "/home/josh/cmor462/ropacea/ropacea/scs.py:32: RuntimeWarning: divide by zero encountered in scalar divide\n",
      "  alpha = max(0, (gamma - n_assets) / (delta * n_obs))\n",
      "/home/josh/cmor462/ropacea/ropacea/scs.py:32: RuntimeWarning: divide by zero encountered in scalar divide\n",
      "  alpha = max(0, (gamma - n_assets) / (delta * n_obs))\n"
     ]
    },
    {
     "name": "stdout",
     "output_type": "stream",
     "text": [
      "monthly_portfolio_return = 0.0592\n",
      "risk_free_return = -0.0043\n",
      "mark_date = datetime.date(2019, 3, 1)\n",
      "monthly_portfolio_return = 0.0580\n",
      "risk_free_return = 0.0294\n",
      "mark_date = datetime.date(2019, 4, 1)\n",
      "monthly_portfolio_return = -0.0148\n",
      "risk_free_return = -0.0062\n",
      "mark_date = datetime.date(2019, 5, 1)\n",
      "monthly_portfolio_return = -0.0555\n",
      "risk_free_return = 0.0319\n",
      "mark_date = datetime.date(2019, 6, 1)\n"
     ]
    },
    {
     "name": "stderr",
     "output_type": "stream",
     "text": [
      "/home/josh/cmor462/ropacea/ropacea/scs.py:32: RuntimeWarning: divide by zero encountered in scalar divide\n",
      "  alpha = max(0, (gamma - n_assets) / (delta * n_obs))\n",
      "/home/josh/cmor462/ropacea/ropacea/scs.py:32: RuntimeWarning: divide by zero encountered in scalar divide\n",
      "  alpha = max(0, (gamma - n_assets) / (delta * n_obs))\n",
      "/home/josh/cmor462/ropacea/ropacea/scs.py:32: RuntimeWarning: divide by zero encountered in scalar divide\n",
      "  alpha = max(0, (gamma - n_assets) / (delta * n_obs))\n",
      "/home/josh/cmor462/ropacea/ropacea/scs.py:32: RuntimeWarning: divide by zero encountered in scalar divide\n",
      "  alpha = max(0, (gamma - n_assets) / (delta * n_obs))\n"
     ]
    },
    {
     "name": "stdout",
     "output_type": "stream",
     "text": [
      "monthly_portfolio_return = 0.0485\n",
      "risk_free_return = 0.0121\n",
      "mark_date = datetime.date(2019, 7, 1)\n",
      "monthly_portfolio_return = 0.0136\n",
      "risk_free_return = 0.0034\n",
      "mark_date = datetime.date(2019, 8, 1)\n",
      "monthly_portfolio_return = 0.0227\n",
      "risk_free_return = 0.0403\n",
      "mark_date = datetime.date(2019, 9, 1)\n",
      "monthly_portfolio_return = -0.0120\n",
      "risk_free_return = -0.0139\n",
      "mark_date = datetime.date(2019, 10, 1)\n"
     ]
    },
    {
     "name": "stderr",
     "output_type": "stream",
     "text": [
      "/home/josh/cmor462/ropacea/ropacea/scs.py:32: RuntimeWarning: divide by zero encountered in scalar divide\n",
      "  alpha = max(0, (gamma - n_assets) / (delta * n_obs))\n",
      "/home/josh/cmor462/ropacea/ropacea/scs.py:32: RuntimeWarning: divide by zero encountered in scalar divide\n",
      "  alpha = max(0, (gamma - n_assets) / (delta * n_obs))\n",
      "/home/josh/cmor462/ropacea/ropacea/scs.py:32: RuntimeWarning: divide by zero encountered in scalar divide\n",
      "  alpha = max(0, (gamma - n_assets) / (delta * n_obs))\n",
      "/home/josh/cmor462/ropacea/ropacea/scs.py:32: RuntimeWarning: divide by zero encountered in scalar divide\n",
      "  alpha = max(0, (gamma - n_assets) / (delta * n_obs))\n"
     ]
    },
    {
     "name": "stdout",
     "output_type": "stream",
     "text": [
      "monthly_portfolio_return = 0.0070\n",
      "risk_free_return = -0.0007\n",
      "mark_date = datetime.date(2019, 11, 1)\n",
      "monthly_portfolio_return = 0.0410\n",
      "risk_free_return = -0.0074\n",
      "mark_date = datetime.date(2019, 12, 1)\n",
      "monthly_portfolio_return = 0.0637\n",
      "risk_free_return = -0.0113\n",
      "mark_date = datetime.date(2020, 1, 1)\n",
      "monthly_portfolio_return = 0.0574\n",
      "risk_free_return = 0.0392\n",
      "mark_date = datetime.date(2020, 2, 1)\n"
     ]
    },
    {
     "name": "stderr",
     "output_type": "stream",
     "text": [
      "/home/josh/cmor462/ropacea/ropacea/scs.py:32: RuntimeWarning: divide by zero encountered in scalar divide\n",
      "  alpha = max(0, (gamma - n_assets) / (delta * n_obs))\n",
      "/home/josh/cmor462/ropacea/ropacea/scs.py:32: RuntimeWarning: divide by zero encountered in scalar divide\n",
      "  alpha = max(0, (gamma - n_assets) / (delta * n_obs))\n",
      "/home/josh/cmor462/ropacea/ropacea/scs.py:32: RuntimeWarning: divide by zero encountered in scalar divide\n",
      "  alpha = max(0, (gamma - n_assets) / (delta * n_obs))\n",
      "/home/josh/cmor462/ropacea/ropacea/scs.py:32: RuntimeWarning: divide by zero encountered in scalar divide\n",
      "  alpha = max(0, (gamma - n_assets) / (delta * n_obs))\n"
     ]
    },
    {
     "name": "stdout",
     "output_type": "stream",
     "text": [
      "monthly_portfolio_return = -0.0410\n",
      "risk_free_return = 0.0299\n",
      "mark_date = datetime.date(2020, 3, 1)\n",
      "monthly_portfolio_return = -0.0529\n",
      "risk_free_return = 0.0397\n",
      "mark_date = datetime.date(2020, 4, 1)\n",
      "monthly_portfolio_return = 0.1087\n",
      "risk_free_return = 0.0050\n",
      "mark_date = datetime.date(2020, 5, 1)\n",
      "monthly_portfolio_return = 0.0439\n",
      "risk_free_return = 0.0007\n",
      "mark_date = datetime.date(2020, 6, 1)\n"
     ]
    },
    {
     "name": "stderr",
     "output_type": "stream",
     "text": [
      "/home/josh/cmor462/ropacea/ropacea/scs.py:32: RuntimeWarning: divide by zero encountered in scalar divide\n",
      "  alpha = max(0, (gamma - n_assets) / (delta * n_obs))\n",
      "/home/josh/cmor462/ropacea/ropacea/scs.py:32: RuntimeWarning: divide by zero encountered in scalar divide\n",
      "  alpha = max(0, (gamma - n_assets) / (delta * n_obs))\n",
      "/home/josh/cmor462/ropacea/ropacea/scs.py:32: RuntimeWarning: divide by zero encountered in scalar divide\n",
      "  alpha = max(0, (gamma - n_assets) / (delta * n_obs))\n",
      "/home/josh/cmor462/ropacea/ropacea/scs.py:32: RuntimeWarning: divide by zero encountered in scalar divide\n",
      "  alpha = max(0, (gamma - n_assets) / (delta * n_obs))\n"
     ]
    },
    {
     "name": "stdout",
     "output_type": "stream",
     "text": [
      "monthly_portfolio_return = 0.0532\n",
      "risk_free_return = 0.0004\n",
      "mark_date = datetime.date(2020, 7, 1)\n",
      "monthly_portfolio_return = 0.0326\n",
      "risk_free_return = 0.0128\n",
      "mark_date = datetime.date(2020, 8, 1)\n",
      "monthly_portfolio_return = 0.0984\n",
      "risk_free_return = -0.0147\n",
      "mark_date = datetime.date(2020, 9, 1)\n",
      "monthly_portfolio_return = -0.0116\n",
      "risk_free_return = 0.0026\n",
      "mark_date = datetime.date(2020, 10, 1)\n"
     ]
    },
    {
     "name": "stderr",
     "output_type": "stream",
     "text": [
      "/home/josh/cmor462/ropacea/ropacea/scs.py:32: RuntimeWarning: divide by zero encountered in scalar divide\n",
      "  alpha = max(0, (gamma - n_assets) / (delta * n_obs))\n",
      "/home/josh/cmor462/ropacea/ropacea/scs.py:32: RuntimeWarning: divide by zero encountered in scalar divide\n",
      "  alpha = max(0, (gamma - n_assets) / (delta * n_obs))\n",
      "/home/josh/cmor462/ropacea/ropacea/scs.py:32: RuntimeWarning: divide by zero encountered in scalar divide\n",
      "  alpha = max(0, (gamma - n_assets) / (delta * n_obs))\n",
      "/home/josh/cmor462/ropacea/ropacea/scs.py:32: RuntimeWarning: divide by zero encountered in scalar divide\n",
      "  alpha = max(0, (gamma - n_assets) / (delta * n_obs))\n"
     ]
    },
    {
     "name": "stdout",
     "output_type": "stream",
     "text": [
      "monthly_portfolio_return = -0.0547\n",
      "risk_free_return = -0.0173\n",
      "mark_date = datetime.date(2020, 11, 1)\n",
      "monthly_portfolio_return = 0.0565\n",
      "risk_free_return = 0.0040\n",
      "mark_date = datetime.date(2020, 12, 1)\n",
      "monthly_portfolio_return = 0.0105\n",
      "risk_free_return = -0.0050\n",
      "mark_date = datetime.date(2021, 1, 1)\n",
      "monthly_portfolio_return = 0.0258\n",
      "risk_free_return = -0.0107\n",
      "mark_date = datetime.date(2021, 2, 1)\n"
     ]
    },
    {
     "name": "stderr",
     "output_type": "stream",
     "text": [
      "/home/josh/cmor462/ropacea/ropacea/scs.py:32: RuntimeWarning: divide by zero encountered in scalar divide\n",
      "  alpha = max(0, (gamma - n_assets) / (delta * n_obs))\n",
      "/home/josh/cmor462/ropacea/ropacea/scs.py:32: RuntimeWarning: divide by zero encountered in scalar divide\n",
      "  alpha = max(0, (gamma - n_assets) / (delta * n_obs))\n",
      "/home/josh/cmor462/ropacea/ropacea/scs.py:32: RuntimeWarning: divide by zero encountered in scalar divide\n",
      "  alpha = max(0, (gamma - n_assets) / (delta * n_obs))\n",
      "/home/josh/cmor462/ropacea/ropacea/scs.py:32: RuntimeWarning: divide by zero encountered in scalar divide\n",
      "  alpha = max(0, (gamma - n_assets) / (delta * n_obs))\n"
     ]
    },
    {
     "name": "stdout",
     "output_type": "stream",
     "text": [
      "monthly_portfolio_return = -0.0134\n",
      "risk_free_return = -0.0254\n",
      "mark_date = datetime.date(2021, 3, 1)\n",
      "monthly_portfolio_return = -0.0136\n",
      "risk_free_return = -0.0293\n",
      "mark_date = datetime.date(2021, 4, 1)\n",
      "monthly_portfolio_return = 0.0538\n",
      "risk_free_return = 0.0119\n",
      "mark_date = datetime.date(2021, 5, 1)\n",
      "monthly_portfolio_return = 0.0306\n",
      "risk_free_return = 0.0034\n",
      "mark_date = datetime.date(2021, 6, 1)\n"
     ]
    },
    {
     "name": "stderr",
     "output_type": "stream",
     "text": [
      "/home/josh/cmor462/ropacea/ropacea/scs.py:32: RuntimeWarning: divide by zero encountered in scalar divide\n",
      "  alpha = max(0, (gamma - n_assets) / (delta * n_obs))\n",
      "/home/josh/cmor462/ropacea/ropacea/scs.py:32: RuntimeWarning: divide by zero encountered in scalar divide\n",
      "  alpha = max(0, (gamma - n_assets) / (delta * n_obs))\n",
      "/home/josh/cmor462/ropacea/ropacea/scs.py:32: RuntimeWarning: divide by zero encountered in scalar divide\n",
      "  alpha = max(0, (gamma - n_assets) / (delta * n_obs))\n",
      "/home/josh/cmor462/ropacea/ropacea/scs.py:32: RuntimeWarning: divide by zero encountered in scalar divide\n",
      "  alpha = max(0, (gamma - n_assets) / (delta * n_obs))\n"
     ]
    },
    {
     "name": "stdout",
     "output_type": "stream",
     "text": [
      "monthly_portfolio_return = 0.1083\n",
      "risk_free_return = 0.0141\n",
      "mark_date = datetime.date(2021, 7, 1)\n",
      "monthly_portfolio_return = 0.0420\n",
      "risk_free_return = 0.0238\n",
      "mark_date = datetime.date(2021, 8, 1)\n",
      "monthly_portfolio_return = 0.0719\n",
      "risk_free_return = -0.0048\n",
      "mark_date = datetime.date(2021, 9, 1)\n",
      "monthly_portfolio_return = -0.0740\n",
      "risk_free_return = -0.0154\n",
      "mark_date = datetime.date(2021, 10, 1)\n"
     ]
    },
    {
     "name": "stderr",
     "output_type": "stream",
     "text": [
      "/home/josh/cmor462/ropacea/ropacea/scs.py:32: RuntimeWarning: divide by zero encountered in scalar divide\n",
      "  alpha = max(0, (gamma - n_assets) / (delta * n_obs))\n",
      "/home/josh/cmor462/ropacea/ropacea/scs.py:32: RuntimeWarning: divide by zero encountered in scalar divide\n",
      "  alpha = max(0, (gamma - n_assets) / (delta * n_obs))\n",
      "/home/josh/cmor462/ropacea/ropacea/scs.py:32: RuntimeWarning: divide by zero encountered in scalar divide\n",
      "  alpha = max(0, (gamma - n_assets) / (delta * n_obs))\n",
      "/home/josh/cmor462/ropacea/ropacea/scs.py:32: RuntimeWarning: divide by zero encountered in scalar divide\n",
      "  alpha = max(0, (gamma - n_assets) / (delta * n_obs))\n"
     ]
    },
    {
     "name": "stdout",
     "output_type": "stream",
     "text": [
      "monthly_portfolio_return = 0.1362\n",
      "risk_free_return = -0.0049\n",
      "mark_date = datetime.date(2021, 11, 1)\n",
      "monthly_portfolio_return = 0.0456\n",
      "risk_free_return = 0.0125\n",
      "mark_date = datetime.date(2021, 12, 1)\n",
      "monthly_portfolio_return = 0.0370\n",
      "risk_free_return = -0.0047\n",
      "========== SUMMARY ==========\n",
      "monthly_returns_bp_mean = 233.60\n",
      "monthly_returns_bp_std = 509.44\n",
      "annualized_mean_pct = 31.93\n",
      "annualized_std_pct = 17.65\n",
      "sharpe_ratio = 1.81\n",
      "mark_date = datetime.date(2017, 1, 1)\n",
      "monthly_portfolio_return = 0.0402\n",
      "risk_free_return = 0.0022\n",
      "mark_date = datetime.date(2017, 2, 1)\n"
     ]
    },
    {
     "name": "stderr",
     "output_type": "stream",
     "text": [
      "/home/josh/cmor462/ropacea/ropacea/scs.py:32: RuntimeWarning: divide by zero encountered in scalar divide\n",
      "  alpha = max(0, (gamma - n_assets) / (delta * n_obs))\n",
      "/home/josh/cmor462/ropacea/ropacea/scs.py:32: RuntimeWarning: divide by zero encountered in scalar divide\n",
      "  alpha = max(0, (gamma - n_assets) / (delta * n_obs))\n",
      "/home/josh/cmor462/ropacea/ropacea/scs.py:32: RuntimeWarning: divide by zero encountered in scalar divide\n",
      "  alpha = max(0, (gamma - n_assets) / (delta * n_obs))\n",
      "/home/josh/cmor462/ropacea/ropacea/scs.py:32: RuntimeWarning: divide by zero encountered in scalar divide\n",
      "  alpha = max(0, (gamma - n_assets) / (delta * n_obs))\n"
     ]
    },
    {
     "name": "stdout",
     "output_type": "stream",
     "text": [
      "monthly_portfolio_return = 0.0196\n",
      "risk_free_return = 0.0074\n",
      "mark_date = datetime.date(2017, 3, 1)\n",
      "monthly_portfolio_return = 0.0403\n",
      "risk_free_return = 0.0024\n",
      "mark_date = datetime.date(2017, 4, 1)\n",
      "monthly_portfolio_return = -0.0135\n",
      "risk_free_return = 0.0111\n",
      "mark_date = datetime.date(2017, 5, 1)\n",
      "monthly_portfolio_return = 0.1058\n",
      "risk_free_return = 0.0079\n",
      "mark_date = datetime.date(2017, 6, 1)\n"
     ]
    },
    {
     "name": "stderr",
     "output_type": "stream",
     "text": [
      "/home/josh/cmor462/ropacea/ropacea/scs.py:32: RuntimeWarning: divide by zero encountered in scalar divide\n",
      "  alpha = max(0, (gamma - n_assets) / (delta * n_obs))\n",
      "/home/josh/cmor462/ropacea/ropacea/scs.py:32: RuntimeWarning: divide by zero encountered in scalar divide\n",
      "  alpha = max(0, (gamma - n_assets) / (delta * n_obs))\n",
      "/home/josh/cmor462/ropacea/ropacea/scs.py:32: RuntimeWarning: divide by zero encountered in scalar divide\n",
      "  alpha = max(0, (gamma - n_assets) / (delta * n_obs))\n",
      "/home/josh/cmor462/ropacea/ropacea/scs.py:32: RuntimeWarning: divide by zero encountered in scalar divide\n",
      "  alpha = max(0, (gamma - n_assets) / (delta * n_obs))\n"
     ]
    },
    {
     "name": "stdout",
     "output_type": "stream",
     "text": [
      "monthly_portfolio_return = 0.0198\n",
      "risk_free_return = -0.0013\n",
      "mark_date = datetime.date(2017, 7, 1)\n",
      "monthly_portfolio_return = 0.0387\n",
      "risk_free_return = -0.0000\n",
      "mark_date = datetime.date(2017, 8, 1)\n",
      "monthly_portfolio_return = 0.0223\n",
      "risk_free_return = 0.0171\n",
      "mark_date = datetime.date(2017, 9, 1)\n",
      "monthly_portfolio_return = 0.0195\n",
      "risk_free_return = -0.0172\n",
      "mark_date = datetime.date(2017, 10, 1)\n"
     ]
    },
    {
     "name": "stderr",
     "output_type": "stream",
     "text": [
      "/home/josh/cmor462/ropacea/ropacea/scs.py:32: RuntimeWarning: divide by zero encountered in scalar divide\n",
      "  alpha = max(0, (gamma - n_assets) / (delta * n_obs))\n",
      "/home/josh/cmor462/ropacea/ropacea/scs.py:32: RuntimeWarning: divide by zero encountered in scalar divide\n",
      "  alpha = max(0, (gamma - n_assets) / (delta * n_obs))\n",
      "/home/josh/cmor462/ropacea/ropacea/scs.py:32: RuntimeWarning: divide by zero encountered in scalar divide\n",
      "  alpha = max(0, (gamma - n_assets) / (delta * n_obs))\n",
      "/home/josh/cmor462/ropacea/ropacea/scs.py:32: RuntimeWarning: divide by zero encountered in scalar divide\n",
      "  alpha = max(0, (gamma - n_assets) / (delta * n_obs))\n"
     ]
    },
    {
     "name": "stdout",
     "output_type": "stream",
     "text": [
      "monthly_portfolio_return = 0.0768\n",
      "risk_free_return = -0.0011\n",
      "mark_date = datetime.date(2017, 11, 1)\n",
      "monthly_portfolio_return = 0.0194\n",
      "risk_free_return = -0.0026\n",
      "mark_date = datetime.date(2017, 12, 1)\n",
      "monthly_portfolio_return = -0.0110\n",
      "risk_free_return = 0.0022\n",
      "mark_date = datetime.date(2018, 1, 1)\n",
      "monthly_portfolio_return = 0.1018\n",
      "risk_free_return = -0.0236\n",
      "mark_date = datetime.date(2018, 2, 1)\n"
     ]
    },
    {
     "name": "stderr",
     "output_type": "stream",
     "text": [
      "/home/josh/cmor462/ropacea/ropacea/scs.py:32: RuntimeWarning: divide by zero encountered in scalar divide\n",
      "  alpha = max(0, (gamma - n_assets) / (delta * n_obs))\n",
      "/home/josh/cmor462/ropacea/ropacea/scs.py:32: RuntimeWarning: divide by zero encountered in scalar divide\n",
      "  alpha = max(0, (gamma - n_assets) / (delta * n_obs))\n",
      "/home/josh/cmor462/ropacea/ropacea/scs.py:32: RuntimeWarning: divide by zero encountered in scalar divide\n",
      "  alpha = max(0, (gamma - n_assets) / (delta * n_obs))\n",
      "/home/josh/cmor462/ropacea/ropacea/scs.py:32: RuntimeWarning: divide by zero encountered in scalar divide\n",
      "  alpha = max(0, (gamma - n_assets) / (delta * n_obs))\n"
     ]
    },
    {
     "name": "stdout",
     "output_type": "stream",
     "text": [
      "monthly_portfolio_return = -0.0241\n",
      "risk_free_return = -0.0130\n",
      "mark_date = datetime.date(2018, 3, 1)\n",
      "monthly_portfolio_return = -0.0113\n",
      "risk_free_return = 0.0128\n",
      "mark_date = datetime.date(2018, 4, 1)\n",
      "monthly_portfolio_return = 0.0233\n",
      "risk_free_return = -0.0155\n",
      "mark_date = datetime.date(2018, 5, 1)\n",
      "monthly_portfolio_return = 0.0589\n",
      "risk_free_return = 0.0096\n",
      "mark_date = datetime.date(2018, 6, 1)\n"
     ]
    },
    {
     "name": "stderr",
     "output_type": "stream",
     "text": [
      "/home/josh/cmor462/ropacea/ropacea/scs.py:32: RuntimeWarning: divide by zero encountered in scalar divide\n",
      "  alpha = max(0, (gamma - n_assets) / (delta * n_obs))\n",
      "/home/josh/cmor462/ropacea/ropacea/scs.py:32: RuntimeWarning: divide by zero encountered in scalar divide\n",
      "  alpha = max(0, (gamma - n_assets) / (delta * n_obs))\n",
      "/home/josh/cmor462/ropacea/ropacea/scs.py:32: RuntimeWarning: divide by zero encountered in scalar divide\n",
      "  alpha = max(0, (gamma - n_assets) / (delta * n_obs))\n",
      "/home/josh/cmor462/ropacea/ropacea/scs.py:32: RuntimeWarning: divide by zero encountered in scalar divide\n",
      "  alpha = max(0, (gamma - n_assets) / (delta * n_obs))\n"
     ]
    },
    {
     "name": "stdout",
     "output_type": "stream",
     "text": [
      "monthly_portfolio_return = -0.0119\n",
      "risk_free_return = 0.0023\n",
      "mark_date = datetime.date(2018, 7, 1)\n",
      "monthly_portfolio_return = 0.0728\n",
      "risk_free_return = -0.0051\n",
      "mark_date = datetime.date(2018, 8, 1)\n",
      "monthly_portfolio_return = 0.0846\n",
      "risk_free_return = 0.0101\n",
      "mark_date = datetime.date(2018, 9, 1)\n",
      "monthly_portfolio_return = 0.0174\n",
      "risk_free_return = -0.0148\n",
      "mark_date = datetime.date(2018, 10, 1)\n"
     ]
    },
    {
     "name": "stderr",
     "output_type": "stream",
     "text": [
      "/home/josh/cmor462/ropacea/ropacea/scs.py:32: RuntimeWarning: divide by zero encountered in scalar divide\n",
      "  alpha = max(0, (gamma - n_assets) / (delta * n_obs))\n",
      "/home/josh/cmor462/ropacea/ropacea/scs.py:32: RuntimeWarning: divide by zero encountered in scalar divide\n",
      "  alpha = max(0, (gamma - n_assets) / (delta * n_obs))\n",
      "/home/josh/cmor462/ropacea/ropacea/scs.py:32: RuntimeWarning: divide by zero encountered in scalar divide\n",
      "  alpha = max(0, (gamma - n_assets) / (delta * n_obs))\n",
      "/home/josh/cmor462/ropacea/ropacea/scs.py:32: RuntimeWarning: divide by zero encountered in scalar divide\n",
      "  alpha = max(0, (gamma - n_assets) / (delta * n_obs))\n"
     ]
    },
    {
     "name": "stdout",
     "output_type": "stream",
     "text": [
      "monthly_portfolio_return = -0.0677\n",
      "risk_free_return = -0.0043\n",
      "mark_date = datetime.date(2018, 11, 1)\n",
      "monthly_portfolio_return = 0.0161\n",
      "risk_free_return = 0.0149\n",
      "mark_date = datetime.date(2018, 12, 1)\n",
      "monthly_portfolio_return = -0.0775\n",
      "risk_free_return = 0.0286\n",
      "mark_date = datetime.date(2019, 1, 1)\n",
      "monthly_portfolio_return = 0.0411\n",
      "risk_free_return = 0.0071\n",
      "mark_date = datetime.date(2019, 2, 1)\n"
     ]
    },
    {
     "name": "stderr",
     "output_type": "stream",
     "text": [
      "/home/josh/cmor462/ropacea/ropacea/scs.py:32: RuntimeWarning: divide by zero encountered in scalar divide\n",
      "  alpha = max(0, (gamma - n_assets) / (delta * n_obs))\n",
      "/home/josh/cmor462/ropacea/ropacea/scs.py:32: RuntimeWarning: divide by zero encountered in scalar divide\n",
      "  alpha = max(0, (gamma - n_assets) / (delta * n_obs))\n",
      "/home/josh/cmor462/ropacea/ropacea/scs.py:32: RuntimeWarning: divide by zero encountered in scalar divide\n",
      "  alpha = max(0, (gamma - n_assets) / (delta * n_obs))\n",
      "/home/josh/cmor462/ropacea/ropacea/scs.py:32: RuntimeWarning: divide by zero encountered in scalar divide\n",
      "  alpha = max(0, (gamma - n_assets) / (delta * n_obs))\n"
     ]
    },
    {
     "name": "stdout",
     "output_type": "stream",
     "text": [
      "monthly_portfolio_return = 0.0594\n",
      "risk_free_return = -0.0043\n",
      "mark_date = datetime.date(2019, 3, 1)\n",
      "monthly_portfolio_return = 0.0590\n",
      "risk_free_return = 0.0294\n",
      "mark_date = datetime.date(2019, 4, 1)\n",
      "monthly_portfolio_return = -0.0155\n",
      "risk_free_return = -0.0062\n",
      "mark_date = datetime.date(2019, 5, 1)\n",
      "monthly_portfolio_return = -0.0578\n",
      "risk_free_return = 0.0319\n",
      "mark_date = datetime.date(2019, 6, 1)\n"
     ]
    },
    {
     "name": "stderr",
     "output_type": "stream",
     "text": [
      "/home/josh/cmor462/ropacea/ropacea/scs.py:32: RuntimeWarning: divide by zero encountered in scalar divide\n",
      "  alpha = max(0, (gamma - n_assets) / (delta * n_obs))\n",
      "/home/josh/cmor462/ropacea/ropacea/scs.py:32: RuntimeWarning: divide by zero encountered in scalar divide\n",
      "  alpha = max(0, (gamma - n_assets) / (delta * n_obs))\n",
      "/home/josh/cmor462/ropacea/ropacea/scs.py:32: RuntimeWarning: divide by zero encountered in scalar divide\n",
      "  alpha = max(0, (gamma - n_assets) / (delta * n_obs))\n"
     ]
    },
    {
     "name": "stdout",
     "output_type": "stream",
     "text": [
      "monthly_portfolio_return = 0.0502\n",
      "risk_free_return = 0.0121\n",
      "mark_date = datetime.date(2019, 7, 1)\n",
      "monthly_portfolio_return = 0.0138\n",
      "risk_free_return = 0.0034\n",
      "mark_date = datetime.date(2019, 8, 1)\n",
      "monthly_portfolio_return = 0.0218\n",
      "risk_free_return = 0.0403\n",
      "mark_date = datetime.date(2019, 9, 1)\n"
     ]
    },
    {
     "name": "stderr",
     "output_type": "stream",
     "text": [
      "/home/josh/cmor462/ropacea/ropacea/scs.py:32: RuntimeWarning: divide by zero encountered in scalar divide\n",
      "  alpha = max(0, (gamma - n_assets) / (delta * n_obs))\n",
      "/home/josh/cmor462/ropacea/ropacea/scs.py:32: RuntimeWarning: divide by zero encountered in scalar divide\n",
      "  alpha = max(0, (gamma - n_assets) / (delta * n_obs))\n",
      "/home/josh/cmor462/ropacea/ropacea/scs.py:32: RuntimeWarning: divide by zero encountered in scalar divide\n",
      "  alpha = max(0, (gamma - n_assets) / (delta * n_obs))\n"
     ]
    },
    {
     "name": "stdout",
     "output_type": "stream",
     "text": [
      "monthly_portfolio_return = -0.0117\n",
      "risk_free_return = -0.0139\n",
      "mark_date = datetime.date(2019, 10, 1)\n",
      "monthly_portfolio_return = 0.0087\n",
      "risk_free_return = -0.0007\n",
      "mark_date = datetime.date(2019, 11, 1)\n",
      "monthly_portfolio_return = 0.0418\n",
      "risk_free_return = -0.0074\n",
      "mark_date = datetime.date(2019, 12, 1)\n",
      "monthly_portfolio_return = 0.0641\n",
      "risk_free_return = -0.0113\n",
      "mark_date = datetime.date(2020, 1, 1)\n"
     ]
    },
    {
     "name": "stderr",
     "output_type": "stream",
     "text": [
      "/home/josh/cmor462/ropacea/ropacea/scs.py:32: RuntimeWarning: divide by zero encountered in scalar divide\n",
      "  alpha = max(0, (gamma - n_assets) / (delta * n_obs))\n",
      "/home/josh/cmor462/ropacea/ropacea/scs.py:32: RuntimeWarning: divide by zero encountered in scalar divide\n",
      "  alpha = max(0, (gamma - n_assets) / (delta * n_obs))\n",
      "/home/josh/cmor462/ropacea/ropacea/scs.py:32: RuntimeWarning: divide by zero encountered in scalar divide\n",
      "  alpha = max(0, (gamma - n_assets) / (delta * n_obs))\n",
      "/home/josh/cmor462/ropacea/ropacea/scs.py:32: RuntimeWarning: divide by zero encountered in scalar divide\n",
      "  alpha = max(0, (gamma - n_assets) / (delta * n_obs))\n"
     ]
    },
    {
     "name": "stdout",
     "output_type": "stream",
     "text": [
      "monthly_portfolio_return = 0.0568\n",
      "risk_free_return = 0.0392\n",
      "mark_date = datetime.date(2020, 2, 1)\n",
      "monthly_portfolio_return = -0.0389\n",
      "risk_free_return = 0.0299\n",
      "mark_date = datetime.date(2020, 3, 1)\n",
      "monthly_portfolio_return = -0.0534\n",
      "risk_free_return = 0.0397\n",
      "mark_date = datetime.date(2020, 4, 1)\n",
      "monthly_portfolio_return = 0.1090\n",
      "risk_free_return = 0.0050\n",
      "mark_date = datetime.date(2020, 5, 1)\n"
     ]
    },
    {
     "name": "stderr",
     "output_type": "stream",
     "text": [
      "/home/josh/cmor462/ropacea/ropacea/scs.py:32: RuntimeWarning: divide by zero encountered in scalar divide\n",
      "  alpha = max(0, (gamma - n_assets) / (delta * n_obs))\n",
      "/home/josh/cmor462/ropacea/ropacea/scs.py:32: RuntimeWarning: divide by zero encountered in scalar divide\n",
      "  alpha = max(0, (gamma - n_assets) / (delta * n_obs))\n",
      "/home/josh/cmor462/ropacea/ropacea/scs.py:32: RuntimeWarning: divide by zero encountered in scalar divide\n",
      "  alpha = max(0, (gamma - n_assets) / (delta * n_obs))\n",
      "/home/josh/cmor462/ropacea/ropacea/scs.py:32: RuntimeWarning: divide by zero encountered in scalar divide\n",
      "  alpha = max(0, (gamma - n_assets) / (delta * n_obs))\n"
     ]
    },
    {
     "name": "stdout",
     "output_type": "stream",
     "text": [
      "monthly_portfolio_return = 0.0452\n",
      "risk_free_return = 0.0007\n",
      "mark_date = datetime.date(2020, 6, 1)\n",
      "monthly_portfolio_return = 0.0543\n",
      "risk_free_return = 0.0004\n",
      "mark_date = datetime.date(2020, 7, 1)\n",
      "monthly_portfolio_return = 0.0320\n",
      "risk_free_return = 0.0128\n",
      "mark_date = datetime.date(2020, 8, 1)\n",
      "monthly_portfolio_return = 0.0995\n",
      "risk_free_return = -0.0147\n",
      "mark_date = datetime.date(2020, 9, 1)\n"
     ]
    },
    {
     "name": "stderr",
     "output_type": "stream",
     "text": [
      "/home/josh/cmor462/ropacea/ropacea/scs.py:32: RuntimeWarning: divide by zero encountered in scalar divide\n",
      "  alpha = max(0, (gamma - n_assets) / (delta * n_obs))\n",
      "/home/josh/cmor462/ropacea/ropacea/scs.py:32: RuntimeWarning: divide by zero encountered in scalar divide\n",
      "  alpha = max(0, (gamma - n_assets) / (delta * n_obs))\n",
      "/home/josh/cmor462/ropacea/ropacea/scs.py:32: RuntimeWarning: divide by zero encountered in scalar divide\n",
      "  alpha = max(0, (gamma - n_assets) / (delta * n_obs))\n"
     ]
    },
    {
     "name": "stdout",
     "output_type": "stream",
     "text": [
      "monthly_portfolio_return = -0.0121\n",
      "risk_free_return = 0.0026\n",
      "mark_date = datetime.date(2020, 10, 1)\n",
      "monthly_portfolio_return = -0.0551\n",
      "risk_free_return = -0.0173\n",
      "mark_date = datetime.date(2020, 11, 1)\n",
      "monthly_portfolio_return = 0.0560\n",
      "risk_free_return = 0.0040\n",
      "mark_date = datetime.date(2020, 12, 1)\n"
     ]
    },
    {
     "name": "stderr",
     "output_type": "stream",
     "text": [
      "/home/josh/cmor462/ropacea/ropacea/scs.py:32: RuntimeWarning: divide by zero encountered in scalar divide\n",
      "  alpha = max(0, (gamma - n_assets) / (delta * n_obs))\n",
      "/home/josh/cmor462/ropacea/ropacea/scs.py:32: RuntimeWarning: divide by zero encountered in scalar divide\n",
      "  alpha = max(0, (gamma - n_assets) / (delta * n_obs))\n",
      "/home/josh/cmor462/ropacea/ropacea/scs.py:32: RuntimeWarning: divide by zero encountered in scalar divide\n",
      "  alpha = max(0, (gamma - n_assets) / (delta * n_obs))\n",
      "/home/josh/cmor462/ropacea/ropacea/scs.py:32: RuntimeWarning: divide by zero encountered in scalar divide\n",
      "  alpha = max(0, (gamma - n_assets) / (delta * n_obs))\n"
     ]
    },
    {
     "name": "stdout",
     "output_type": "stream",
     "text": [
      "monthly_portfolio_return = 0.0102\n",
      "risk_free_return = -0.0050\n",
      "mark_date = datetime.date(2021, 1, 1)\n",
      "monthly_portfolio_return = 0.0264\n",
      "risk_free_return = -0.0107\n",
      "mark_date = datetime.date(2021, 2, 1)\n",
      "monthly_portfolio_return = -0.0132\n",
      "risk_free_return = -0.0254\n",
      "mark_date = datetime.date(2021, 3, 1)\n",
      "monthly_portfolio_return = -0.0153\n",
      "risk_free_return = -0.0293\n",
      "mark_date = datetime.date(2021, 4, 1)\n"
     ]
    },
    {
     "name": "stderr",
     "output_type": "stream",
     "text": [
      "/home/josh/cmor462/ropacea/ropacea/scs.py:32: RuntimeWarning: divide by zero encountered in scalar divide\n",
      "  alpha = max(0, (gamma - n_assets) / (delta * n_obs))\n",
      "/home/josh/cmor462/ropacea/ropacea/scs.py:32: RuntimeWarning: divide by zero encountered in scalar divide\n",
      "  alpha = max(0, (gamma - n_assets) / (delta * n_obs))\n",
      "/home/josh/cmor462/ropacea/ropacea/scs.py:32: RuntimeWarning: divide by zero encountered in scalar divide\n",
      "  alpha = max(0, (gamma - n_assets) / (delta * n_obs))\n"
     ]
    },
    {
     "name": "stdout",
     "output_type": "stream",
     "text": [
      "monthly_portfolio_return = 0.0551\n",
      "risk_free_return = 0.0119\n",
      "mark_date = datetime.date(2021, 5, 1)\n",
      "monthly_portfolio_return = 0.0307\n",
      "risk_free_return = 0.0034\n",
      "mark_date = datetime.date(2021, 6, 1)\n",
      "monthly_portfolio_return = 0.1108\n",
      "risk_free_return = 0.0141\n",
      "mark_date = datetime.date(2021, 7, 1)\n"
     ]
    },
    {
     "name": "stderr",
     "output_type": "stream",
     "text": [
      "/home/josh/cmor462/ropacea/ropacea/scs.py:32: RuntimeWarning: divide by zero encountered in scalar divide\n",
      "  alpha = max(0, (gamma - n_assets) / (delta * n_obs))\n",
      "/home/josh/cmor462/ropacea/ropacea/scs.py:32: RuntimeWarning: divide by zero encountered in scalar divide\n",
      "  alpha = max(0, (gamma - n_assets) / (delta * n_obs))\n",
      "/home/josh/cmor462/ropacea/ropacea/scs.py:32: RuntimeWarning: divide by zero encountered in scalar divide\n",
      "  alpha = max(0, (gamma - n_assets) / (delta * n_obs))\n",
      "/home/josh/cmor462/ropacea/ropacea/scs.py:32: RuntimeWarning: divide by zero encountered in scalar divide\n",
      "  alpha = max(0, (gamma - n_assets) / (delta * n_obs))\n"
     ]
    },
    {
     "name": "stdout",
     "output_type": "stream",
     "text": [
      "monthly_portfolio_return = 0.0418\n",
      "risk_free_return = 0.0238\n",
      "mark_date = datetime.date(2021, 8, 1)\n",
      "monthly_portfolio_return = 0.0734\n",
      "risk_free_return = -0.0048\n",
      "mark_date = datetime.date(2021, 9, 1)\n",
      "monthly_portfolio_return = -0.0748\n",
      "risk_free_return = -0.0154\n",
      "mark_date = datetime.date(2021, 10, 1)\n",
      "monthly_portfolio_return = 0.1388\n",
      "risk_free_return = -0.0049\n",
      "mark_date = datetime.date(2021, 11, 1)\n"
     ]
    },
    {
     "name": "stderr",
     "output_type": "stream",
     "text": [
      "/home/josh/cmor462/ropacea/ropacea/scs.py:32: RuntimeWarning: divide by zero encountered in scalar divide\n",
      "  alpha = max(0, (gamma - n_assets) / (delta * n_obs))\n",
      "/home/josh/cmor462/ropacea/ropacea/scs.py:32: RuntimeWarning: divide by zero encountered in scalar divide\n",
      "  alpha = max(0, (gamma - n_assets) / (delta * n_obs))\n",
      "/home/josh/cmor462/ropacea/ropacea/scs.py:32: RuntimeWarning: divide by zero encountered in scalar divide\n",
      "  alpha = max(0, (gamma - n_assets) / (delta * n_obs))\n",
      "/home/josh/cmor462/ropacea/ropacea/scs.py:32: RuntimeWarning: divide by zero encountered in scalar divide\n",
      "  alpha = max(0, (gamma - n_assets) / (delta * n_obs))\n"
     ]
    },
    {
     "name": "stdout",
     "output_type": "stream",
     "text": [
      "monthly_portfolio_return = 0.0475\n",
      "risk_free_return = 0.0125\n",
      "mark_date = datetime.date(2021, 12, 1)\n",
      "monthly_portfolio_return = 0.0348\n",
      "risk_free_return = -0.0047\n",
      "========== SUMMARY ==========\n",
      "monthly_returns_bp_mean = 236.11\n",
      "monthly_returns_bp_std = 516.02\n",
      "annualized_mean_pct = 32.32\n",
      "annualized_std_pct = 17.88\n",
      "sharpe_ratio = 1.81\n",
      "mark_date = datetime.date(2017, 1, 1)\n",
      "monthly_portfolio_return = 0.0415\n",
      "risk_free_return = 0.0022\n",
      "mark_date = datetime.date(2017, 2, 1)\n",
      "monthly_portfolio_return = 0.0186\n",
      "risk_free_return = 0.0074\n",
      "mark_date = datetime.date(2017, 3, 1)\n"
     ]
    },
    {
     "name": "stderr",
     "output_type": "stream",
     "text": [
      "/home/josh/cmor462/ropacea/ropacea/scs.py:32: RuntimeWarning: divide by zero encountered in scalar divide\n",
      "  alpha = max(0, (gamma - n_assets) / (delta * n_obs))\n",
      "/home/josh/cmor462/ropacea/ropacea/scs.py:32: RuntimeWarning: divide by zero encountered in scalar divide\n",
      "  alpha = max(0, (gamma - n_assets) / (delta * n_obs))\n",
      "/home/josh/cmor462/ropacea/ropacea/scs.py:32: RuntimeWarning: divide by zero encountered in scalar divide\n",
      "  alpha = max(0, (gamma - n_assets) / (delta * n_obs))\n",
      "/home/josh/cmor462/ropacea/ropacea/scs.py:32: RuntimeWarning: divide by zero encountered in scalar divide\n",
      "  alpha = max(0, (gamma - n_assets) / (delta * n_obs))\n"
     ]
    },
    {
     "name": "stdout",
     "output_type": "stream",
     "text": [
      "monthly_portfolio_return = 0.0411\n",
      "risk_free_return = 0.0024\n",
      "mark_date = datetime.date(2017, 4, 1)\n",
      "monthly_portfolio_return = -0.0133\n",
      "risk_free_return = 0.0111\n",
      "mark_date = datetime.date(2017, 5, 1)\n",
      "monthly_portfolio_return = 0.1080\n",
      "risk_free_return = 0.0079\n",
      "mark_date = datetime.date(2017, 6, 1)\n",
      "monthly_portfolio_return = 0.0197\n",
      "risk_free_return = -0.0013\n",
      "mark_date = datetime.date(2017, 7, 1)\n"
     ]
    },
    {
     "name": "stderr",
     "output_type": "stream",
     "text": [
      "/home/josh/cmor462/ropacea/ropacea/scs.py:32: RuntimeWarning: divide by zero encountered in scalar divide\n",
      "  alpha = max(0, (gamma - n_assets) / (delta * n_obs))\n",
      "/home/josh/cmor462/ropacea/ropacea/scs.py:32: RuntimeWarning: divide by zero encountered in scalar divide\n",
      "  alpha = max(0, (gamma - n_assets) / (delta * n_obs))\n",
      "/home/josh/cmor462/ropacea/ropacea/scs.py:32: RuntimeWarning: divide by zero encountered in scalar divide\n",
      "  alpha = max(0, (gamma - n_assets) / (delta * n_obs))\n",
      "/home/josh/cmor462/ropacea/ropacea/scs.py:32: RuntimeWarning: divide by zero encountered in scalar divide\n",
      "  alpha = max(0, (gamma - n_assets) / (delta * n_obs))\n"
     ]
    },
    {
     "name": "stdout",
     "output_type": "stream",
     "text": [
      "monthly_portfolio_return = 0.0393\n",
      "risk_free_return = -0.0000\n",
      "mark_date = datetime.date(2017, 8, 1)\n",
      "monthly_portfolio_return = 0.0225\n",
      "risk_free_return = 0.0171\n",
      "mark_date = datetime.date(2017, 9, 1)\n",
      "monthly_portfolio_return = 0.0195\n",
      "risk_free_return = -0.0172\n",
      "mark_date = datetime.date(2017, 10, 1)\n",
      "monthly_portfolio_return = 0.0783\n",
      "risk_free_return = -0.0011\n",
      "mark_date = datetime.date(2017, 11, 1)\n"
     ]
    },
    {
     "name": "stderr",
     "output_type": "stream",
     "text": [
      "/home/josh/cmor462/ropacea/ropacea/scs.py:32: RuntimeWarning: divide by zero encountered in scalar divide\n",
      "  alpha = max(0, (gamma - n_assets) / (delta * n_obs))\n",
      "/home/josh/cmor462/ropacea/ropacea/scs.py:32: RuntimeWarning: divide by zero encountered in scalar divide\n",
      "  alpha = max(0, (gamma - n_assets) / (delta * n_obs))\n",
      "/home/josh/cmor462/ropacea/ropacea/scs.py:32: RuntimeWarning: divide by zero encountered in scalar divide\n",
      "  alpha = max(0, (gamma - n_assets) / (delta * n_obs))\n",
      "/home/josh/cmor462/ropacea/ropacea/scs.py:32: RuntimeWarning: divide by zero encountered in scalar divide\n",
      "  alpha = max(0, (gamma - n_assets) / (delta * n_obs))\n"
     ]
    },
    {
     "name": "stdout",
     "output_type": "stream",
     "text": [
      "monthly_portfolio_return = 0.0190\n",
      "risk_free_return = -0.0026\n",
      "mark_date = datetime.date(2017, 12, 1)\n",
      "monthly_portfolio_return = -0.0115\n",
      "risk_free_return = 0.0022\n",
      "mark_date = datetime.date(2018, 1, 1)\n",
      "monthly_portfolio_return = 0.1038\n",
      "risk_free_return = -0.0236\n",
      "mark_date = datetime.date(2018, 2, 1)\n",
      "monthly_portfolio_return = -0.0230\n",
      "risk_free_return = -0.0130\n",
      "mark_date = datetime.date(2018, 3, 1)\n"
     ]
    },
    {
     "name": "stderr",
     "output_type": "stream",
     "text": [
      "/home/josh/cmor462/ropacea/ropacea/scs.py:32: RuntimeWarning: divide by zero encountered in scalar divide\n",
      "  alpha = max(0, (gamma - n_assets) / (delta * n_obs))\n",
      "/home/josh/cmor462/ropacea/ropacea/scs.py:32: RuntimeWarning: divide by zero encountered in scalar divide\n",
      "  alpha = max(0, (gamma - n_assets) / (delta * n_obs))\n",
      "/home/josh/cmor462/ropacea/ropacea/scs.py:32: RuntimeWarning: divide by zero encountered in scalar divide\n",
      "  alpha = max(0, (gamma - n_assets) / (delta * n_obs))\n",
      "/home/josh/cmor462/ropacea/ropacea/scs.py:32: RuntimeWarning: divide by zero encountered in scalar divide\n",
      "  alpha = max(0, (gamma - n_assets) / (delta * n_obs))\n"
     ]
    },
    {
     "name": "stdout",
     "output_type": "stream",
     "text": [
      "monthly_portfolio_return = -0.0113\n",
      "risk_free_return = 0.0128\n",
      "mark_date = datetime.date(2018, 4, 1)\n",
      "monthly_portfolio_return = 0.0228\n",
      "risk_free_return = -0.0155\n",
      "mark_date = datetime.date(2018, 5, 1)\n",
      "monthly_portfolio_return = 0.0604\n",
      "risk_free_return = 0.0096\n",
      "mark_date = datetime.date(2018, 6, 1)\n",
      "monthly_portfolio_return = -0.0123\n",
      "risk_free_return = 0.0023\n",
      "mark_date = datetime.date(2018, 7, 1)\n"
     ]
    },
    {
     "name": "stderr",
     "output_type": "stream",
     "text": [
      "/home/josh/cmor462/ropacea/ropacea/scs.py:32: RuntimeWarning: divide by zero encountered in scalar divide\n",
      "  alpha = max(0, (gamma - n_assets) / (delta * n_obs))\n",
      "/home/josh/cmor462/ropacea/ropacea/scs.py:32: RuntimeWarning: divide by zero encountered in scalar divide\n",
      "  alpha = max(0, (gamma - n_assets) / (delta * n_obs))\n",
      "/home/josh/cmor462/ropacea/ropacea/scs.py:32: RuntimeWarning: divide by zero encountered in scalar divide\n",
      "  alpha = max(0, (gamma - n_assets) / (delta * n_obs))\n",
      "/home/josh/cmor462/ropacea/ropacea/scs.py:32: RuntimeWarning: divide by zero encountered in scalar divide\n",
      "  alpha = max(0, (gamma - n_assets) / (delta * n_obs))\n"
     ]
    },
    {
     "name": "stdout",
     "output_type": "stream",
     "text": [
      "monthly_portfolio_return = 0.0728\n",
      "risk_free_return = -0.0051\n",
      "mark_date = datetime.date(2018, 8, 1)\n",
      "monthly_portfolio_return = 0.0851\n",
      "risk_free_return = 0.0101\n",
      "mark_date = datetime.date(2018, 9, 1)\n",
      "monthly_portfolio_return = 0.0173\n",
      "risk_free_return = -0.0148\n",
      "mark_date = datetime.date(2018, 10, 1)\n"
     ]
    },
    {
     "name": "stderr",
     "output_type": "stream",
     "text": [
      "/home/josh/cmor462/ropacea/ropacea/scs.py:32: RuntimeWarning: divide by zero encountered in scalar divide\n",
      "  alpha = max(0, (gamma - n_assets) / (delta * n_obs))\n",
      "/home/josh/cmor462/ropacea/ropacea/scs.py:32: RuntimeWarning: divide by zero encountered in scalar divide\n",
      "  alpha = max(0, (gamma - n_assets) / (delta * n_obs))\n",
      "/home/josh/cmor462/ropacea/ropacea/scs.py:32: RuntimeWarning: divide by zero encountered in scalar divide\n",
      "  alpha = max(0, (gamma - n_assets) / (delta * n_obs))\n",
      "/home/josh/cmor462/ropacea/ropacea/scs.py:32: RuntimeWarning: divide by zero encountered in scalar divide\n",
      "  alpha = max(0, (gamma - n_assets) / (delta * n_obs))\n"
     ]
    },
    {
     "name": "stdout",
     "output_type": "stream",
     "text": [
      "monthly_portfolio_return = -0.0699\n",
      "risk_free_return = -0.0043\n",
      "mark_date = datetime.date(2018, 11, 1)\n",
      "monthly_portfolio_return = 0.0142\n",
      "risk_free_return = 0.0149\n",
      "mark_date = datetime.date(2018, 12, 1)\n",
      "monthly_portfolio_return = -0.0784\n",
      "risk_free_return = 0.0286\n",
      "mark_date = datetime.date(2019, 1, 1)\n",
      "monthly_portfolio_return = 0.0415\n",
      "risk_free_return = 0.0071\n",
      "mark_date = datetime.date(2019, 2, 1)\n"
     ]
    },
    {
     "name": "stderr",
     "output_type": "stream",
     "text": [
      "/home/josh/cmor462/ropacea/ropacea/scs.py:32: RuntimeWarning: divide by zero encountered in scalar divide\n",
      "  alpha = max(0, (gamma - n_assets) / (delta * n_obs))\n",
      "/home/josh/cmor462/ropacea/ropacea/scs.py:32: RuntimeWarning: divide by zero encountered in scalar divide\n",
      "  alpha = max(0, (gamma - n_assets) / (delta * n_obs))\n",
      "/home/josh/cmor462/ropacea/ropacea/scs.py:32: RuntimeWarning: divide by zero encountered in scalar divide\n",
      "  alpha = max(0, (gamma - n_assets) / (delta * n_obs))\n",
      "/home/josh/cmor462/ropacea/ropacea/scs.py:32: RuntimeWarning: divide by zero encountered in scalar divide\n",
      "  alpha = max(0, (gamma - n_assets) / (delta * n_obs))\n"
     ]
    },
    {
     "name": "stdout",
     "output_type": "stream",
     "text": [
      "monthly_portfolio_return = 0.0596\n",
      "risk_free_return = -0.0043\n",
      "mark_date = datetime.date(2019, 3, 1)\n",
      "monthly_portfolio_return = 0.0600\n",
      "risk_free_return = 0.0294\n",
      "mark_date = datetime.date(2019, 4, 1)\n",
      "monthly_portfolio_return = -0.0161\n",
      "risk_free_return = -0.0062\n",
      "mark_date = datetime.date(2019, 5, 1)\n",
      "monthly_portfolio_return = -0.0601\n",
      "risk_free_return = 0.0319\n",
      "mark_date = datetime.date(2019, 6, 1)\n"
     ]
    },
    {
     "name": "stderr",
     "output_type": "stream",
     "text": [
      "/home/josh/cmor462/ropacea/ropacea/scs.py:32: RuntimeWarning: divide by zero encountered in scalar divide\n",
      "  alpha = max(0, (gamma - n_assets) / (delta * n_obs))\n",
      "/home/josh/cmor462/ropacea/ropacea/scs.py:32: RuntimeWarning: divide by zero encountered in scalar divide\n",
      "  alpha = max(0, (gamma - n_assets) / (delta * n_obs))\n",
      "/home/josh/cmor462/ropacea/ropacea/scs.py:32: RuntimeWarning: divide by zero encountered in scalar divide\n",
      "  alpha = max(0, (gamma - n_assets) / (delta * n_obs))\n",
      "/home/josh/cmor462/ropacea/ropacea/scs.py:32: RuntimeWarning: divide by zero encountered in scalar divide\n",
      "  alpha = max(0, (gamma - n_assets) / (delta * n_obs))\n"
     ]
    },
    {
     "name": "stdout",
     "output_type": "stream",
     "text": [
      "monthly_portfolio_return = 0.0518\n",
      "risk_free_return = 0.0121\n",
      "mark_date = datetime.date(2019, 7, 1)\n",
      "monthly_portfolio_return = 0.0141\n",
      "risk_free_return = 0.0034\n",
      "mark_date = datetime.date(2019, 8, 1)\n",
      "monthly_portfolio_return = 0.0210\n",
      "risk_free_return = 0.0403\n",
      "mark_date = datetime.date(2019, 9, 1)\n",
      "monthly_portfolio_return = -0.0114\n",
      "risk_free_return = -0.0139\n",
      "mark_date = datetime.date(2019, 10, 1)\n"
     ]
    },
    {
     "name": "stderr",
     "output_type": "stream",
     "text": [
      "/home/josh/cmor462/ropacea/ropacea/scs.py:32: RuntimeWarning: divide by zero encountered in scalar divide\n",
      "  alpha = max(0, (gamma - n_assets) / (delta * n_obs))\n",
      "/home/josh/cmor462/ropacea/ropacea/scs.py:32: RuntimeWarning: divide by zero encountered in scalar divide\n",
      "  alpha = max(0, (gamma - n_assets) / (delta * n_obs))\n",
      "/home/josh/cmor462/ropacea/ropacea/scs.py:32: RuntimeWarning: divide by zero encountered in scalar divide\n",
      "  alpha = max(0, (gamma - n_assets) / (delta * n_obs))\n",
      "/home/josh/cmor462/ropacea/ropacea/scs.py:32: RuntimeWarning: divide by zero encountered in scalar divide\n",
      "  alpha = max(0, (gamma - n_assets) / (delta * n_obs))\n"
     ]
    },
    {
     "name": "stdout",
     "output_type": "stream",
     "text": [
      "monthly_portfolio_return = 0.0104\n",
      "risk_free_return = -0.0007\n",
      "mark_date = datetime.date(2019, 11, 1)\n",
      "monthly_portfolio_return = 0.0427\n",
      "risk_free_return = -0.0074\n",
      "mark_date = datetime.date(2019, 12, 1)\n",
      "monthly_portfolio_return = 0.0645\n",
      "risk_free_return = -0.0113\n",
      "mark_date = datetime.date(2020, 1, 1)\n",
      "monthly_portfolio_return = 0.0563\n",
      "risk_free_return = 0.0392\n",
      "mark_date = datetime.date(2020, 2, 1)\n"
     ]
    },
    {
     "name": "stderr",
     "output_type": "stream",
     "text": [
      "/home/josh/cmor462/ropacea/ropacea/scs.py:32: RuntimeWarning: divide by zero encountered in scalar divide\n",
      "  alpha = max(0, (gamma - n_assets) / (delta * n_obs))\n",
      "/home/josh/cmor462/ropacea/ropacea/scs.py:32: RuntimeWarning: divide by zero encountered in scalar divide\n",
      "  alpha = max(0, (gamma - n_assets) / (delta * n_obs))\n",
      "/home/josh/cmor462/ropacea/ropacea/scs.py:32: RuntimeWarning: divide by zero encountered in scalar divide\n",
      "  alpha = max(0, (gamma - n_assets) / (delta * n_obs))\n",
      "/home/josh/cmor462/ropacea/ropacea/scs.py:32: RuntimeWarning: divide by zero encountered in scalar divide\n",
      "  alpha = max(0, (gamma - n_assets) / (delta * n_obs))\n"
     ]
    },
    {
     "name": "stdout",
     "output_type": "stream",
     "text": [
      "monthly_portfolio_return = -0.0367\n",
      "risk_free_return = 0.0299\n",
      "mark_date = datetime.date(2020, 3, 1)\n",
      "monthly_portfolio_return = -0.0533\n",
      "risk_free_return = 0.0397\n",
      "mark_date = datetime.date(2020, 4, 1)\n",
      "monthly_portfolio_return = 0.1092\n",
      "risk_free_return = 0.0050\n",
      "mark_date = datetime.date(2020, 5, 1)\n",
      "monthly_portfolio_return = 0.0465\n",
      "risk_free_return = 0.0007\n",
      "mark_date = datetime.date(2020, 6, 1)\n"
     ]
    },
    {
     "name": "stderr",
     "output_type": "stream",
     "text": [
      "/home/josh/cmor462/ropacea/ropacea/scs.py:32: RuntimeWarning: divide by zero encountered in scalar divide\n",
      "  alpha = max(0, (gamma - n_assets) / (delta * n_obs))\n",
      "/home/josh/cmor462/ropacea/ropacea/scs.py:32: RuntimeWarning: divide by zero encountered in scalar divide\n",
      "  alpha = max(0, (gamma - n_assets) / (delta * n_obs))\n",
      "/home/josh/cmor462/ropacea/ropacea/scs.py:32: RuntimeWarning: divide by zero encountered in scalar divide\n",
      "  alpha = max(0, (gamma - n_assets) / (delta * n_obs))\n"
     ]
    },
    {
     "name": "stdout",
     "output_type": "stream",
     "text": [
      "monthly_portfolio_return = 0.0553\n",
      "risk_free_return = 0.0004\n",
      "mark_date = datetime.date(2020, 7, 1)\n",
      "monthly_portfolio_return = 0.0314\n",
      "risk_free_return = 0.0128\n",
      "mark_date = datetime.date(2020, 8, 1)\n",
      "monthly_portfolio_return = 0.1007\n",
      "risk_free_return = -0.0147\n",
      "mark_date = datetime.date(2020, 9, 1)\n"
     ]
    },
    {
     "name": "stderr",
     "output_type": "stream",
     "text": [
      "/home/josh/cmor462/ropacea/ropacea/scs.py:32: RuntimeWarning: divide by zero encountered in scalar divide\n",
      "  alpha = max(0, (gamma - n_assets) / (delta * n_obs))\n",
      "/home/josh/cmor462/ropacea/ropacea/scs.py:32: RuntimeWarning: divide by zero encountered in scalar divide\n",
      "  alpha = max(0, (gamma - n_assets) / (delta * n_obs))\n",
      "/home/josh/cmor462/ropacea/ropacea/scs.py:32: RuntimeWarning: divide by zero encountered in scalar divide\n",
      "  alpha = max(0, (gamma - n_assets) / (delta * n_obs))\n",
      "/home/josh/cmor462/ropacea/ropacea/scs.py:32: RuntimeWarning: divide by zero encountered in scalar divide\n",
      "  alpha = max(0, (gamma - n_assets) / (delta * n_obs))\n"
     ]
    },
    {
     "name": "stdout",
     "output_type": "stream",
     "text": [
      "monthly_portfolio_return = -0.0126\n",
      "risk_free_return = 0.0026\n",
      "mark_date = datetime.date(2020, 10, 1)\n",
      "monthly_portfolio_return = -0.0555\n",
      "risk_free_return = -0.0173\n",
      "mark_date = datetime.date(2020, 11, 1)\n",
      "monthly_portfolio_return = 0.0555\n",
      "risk_free_return = 0.0040\n",
      "mark_date = datetime.date(2020, 12, 1)\n",
      "monthly_portfolio_return = 0.0098\n",
      "risk_free_return = -0.0050\n",
      "mark_date = datetime.date(2021, 1, 1)\n"
     ]
    },
    {
     "name": "stderr",
     "output_type": "stream",
     "text": [
      "/home/josh/cmor462/ropacea/ropacea/scs.py:32: RuntimeWarning: divide by zero encountered in scalar divide\n",
      "  alpha = max(0, (gamma - n_assets) / (delta * n_obs))\n",
      "/home/josh/cmor462/ropacea/ropacea/scs.py:32: RuntimeWarning: divide by zero encountered in scalar divide\n",
      "  alpha = max(0, (gamma - n_assets) / (delta * n_obs))\n",
      "/home/josh/cmor462/ropacea/ropacea/scs.py:32: RuntimeWarning: divide by zero encountered in scalar divide\n",
      "  alpha = max(0, (gamma - n_assets) / (delta * n_obs))\n",
      "/home/josh/cmor462/ropacea/ropacea/scs.py:32: RuntimeWarning: divide by zero encountered in scalar divide\n",
      "  alpha = max(0, (gamma - n_assets) / (delta * n_obs))\n"
     ]
    },
    {
     "name": "stdout",
     "output_type": "stream",
     "text": [
      "monthly_portfolio_return = 0.0269\n",
      "risk_free_return = -0.0107\n",
      "mark_date = datetime.date(2021, 2, 1)\n",
      "monthly_portfolio_return = -0.0131\n",
      "risk_free_return = -0.0254\n",
      "mark_date = datetime.date(2021, 3, 1)\n",
      "monthly_portfolio_return = -0.0171\n",
      "risk_free_return = -0.0293\n",
      "mark_date = datetime.date(2021, 4, 1)\n",
      "monthly_portfolio_return = 0.0565\n",
      "risk_free_return = 0.0119\n",
      "mark_date = datetime.date(2021, 5, 1)\n"
     ]
    },
    {
     "name": "stderr",
     "output_type": "stream",
     "text": [
      "/home/josh/cmor462/ropacea/ropacea/scs.py:32: RuntimeWarning: divide by zero encountered in scalar divide\n",
      "  alpha = max(0, (gamma - n_assets) / (delta * n_obs))\n",
      "/home/josh/cmor462/ropacea/ropacea/scs.py:32: RuntimeWarning: divide by zero encountered in scalar divide\n",
      "  alpha = max(0, (gamma - n_assets) / (delta * n_obs))\n",
      "/home/josh/cmor462/ropacea/ropacea/scs.py:32: RuntimeWarning: divide by zero encountered in scalar divide\n",
      "  alpha = max(0, (gamma - n_assets) / (delta * n_obs))\n",
      "/home/josh/cmor462/ropacea/ropacea/scs.py:32: RuntimeWarning: divide by zero encountered in scalar divide\n",
      "  alpha = max(0, (gamma - n_assets) / (delta * n_obs))\n"
     ]
    },
    {
     "name": "stdout",
     "output_type": "stream",
     "text": [
      "monthly_portfolio_return = 0.0308\n",
      "risk_free_return = 0.0034\n",
      "mark_date = datetime.date(2021, 6, 1)\n",
      "monthly_portfolio_return = 0.1132\n",
      "risk_free_return = 0.0141\n",
      "mark_date = datetime.date(2021, 7, 1)\n",
      "monthly_portfolio_return = 0.0415\n",
      "risk_free_return = 0.0238\n",
      "mark_date = datetime.date(2021, 8, 1)\n",
      "monthly_portfolio_return = 0.0748\n",
      "risk_free_return = -0.0048\n",
      "mark_date = datetime.date(2021, 9, 1)\n"
     ]
    },
    {
     "name": "stderr",
     "output_type": "stream",
     "text": [
      "/home/josh/cmor462/ropacea/ropacea/scs.py:32: RuntimeWarning: divide by zero encountered in scalar divide\n",
      "  alpha = max(0, (gamma - n_assets) / (delta * n_obs))\n",
      "/home/josh/cmor462/ropacea/ropacea/scs.py:32: RuntimeWarning: divide by zero encountered in scalar divide\n",
      "  alpha = max(0, (gamma - n_assets) / (delta * n_obs))\n",
      "/home/josh/cmor462/ropacea/ropacea/scs.py:32: RuntimeWarning: divide by zero encountered in scalar divide\n",
      "  alpha = max(0, (gamma - n_assets) / (delta * n_obs))\n",
      "/home/josh/cmor462/ropacea/ropacea/scs.py:32: RuntimeWarning: divide by zero encountered in scalar divide\n",
      "  alpha = max(0, (gamma - n_assets) / (delta * n_obs))\n"
     ]
    },
    {
     "name": "stdout",
     "output_type": "stream",
     "text": [
      "monthly_portfolio_return = -0.0755\n",
      "risk_free_return = -0.0154\n",
      "mark_date = datetime.date(2021, 10, 1)\n",
      "monthly_portfolio_return = 0.1418\n",
      "risk_free_return = -0.0049\n",
      "mark_date = datetime.date(2021, 11, 1)\n",
      "monthly_portfolio_return = 0.0493\n",
      "risk_free_return = 0.0125\n",
      "mark_date = datetime.date(2021, 12, 1)\n",
      "monthly_portfolio_return = 0.0326\n",
      "risk_free_return = -0.0047\n",
      "========== SUMMARY ==========\n",
      "monthly_returns_bp_mean = 238.77\n",
      "monthly_returns_bp_std = 522.66\n",
      "annualized_mean_pct = 32.73\n",
      "annualized_std_pct = 18.11\n",
      "sharpe_ratio = 1.81\n"
     ]
    }
   ],
   "source": [
    "results_df = param_tune(1.6,1.8, 10, PortfolioStrategy.SAMPLE_COVARIANCE)\n"
   ]
  },
  {
   "cell_type": "code",
   "execution_count": 5,
   "metadata": {},
   "outputs": [
    {
     "data": {
      "application/vnd.plotly.v1+json": {
       "config": {
        "plotlyServerURL": "https://plot.ly"
       },
       "data": [
        {
         "hovertemplate": "Minimum Return Ratio=%{x}<br>Sharpe Ratio=%{y}<extra></extra>",
         "legendgroup": "",
         "line": {
          "color": "#636efa",
          "dash": "solid"
         },
         "marker": {
          "symbol": "circle"
         },
         "mode": "lines",
         "name": "",
         "orientation": "v",
         "showlegend": false,
         "type": "scatter",
         "x": [
          1.6,
          1.6222222222222222,
          1.6444444444444446,
          1.6666666666666667,
          1.6888888888888889,
          1.7111111111111112,
          1.7333333333333334,
          1.7555555555555555,
          1.777777777777778,
          1.8
         ],
         "xaxis": "x",
         "y": [
          1.8052449769104235,
          1.8081321708903422,
          1.8105364567078444,
          1.8123355998195148,
          1.8130357460710922,
          1.8118941650990847,
          1.8106470772125218,
          1.8093059624874162,
          1.8079818476344374,
          1.807844495744359
         ],
         "yaxis": "y"
        }
       ],
       "layout": {
        "legend": {
         "tracegroupgap": 0
        },
        "template": {
         "data": {
          "bar": [
           {
            "error_x": {
             "color": "#2a3f5f"
            },
            "error_y": {
             "color": "#2a3f5f"
            },
            "marker": {
             "line": {
              "color": "#E5ECF6",
              "width": 0.5
             },
             "pattern": {
              "fillmode": "overlay",
              "size": 10,
              "solidity": 0.2
             }
            },
            "type": "bar"
           }
          ],
          "barpolar": [
           {
            "marker": {
             "line": {
              "color": "#E5ECF6",
              "width": 0.5
             },
             "pattern": {
              "fillmode": "overlay",
              "size": 10,
              "solidity": 0.2
             }
            },
            "type": "barpolar"
           }
          ],
          "carpet": [
           {
            "aaxis": {
             "endlinecolor": "#2a3f5f",
             "gridcolor": "white",
             "linecolor": "white",
             "minorgridcolor": "white",
             "startlinecolor": "#2a3f5f"
            },
            "baxis": {
             "endlinecolor": "#2a3f5f",
             "gridcolor": "white",
             "linecolor": "white",
             "minorgridcolor": "white",
             "startlinecolor": "#2a3f5f"
            },
            "type": "carpet"
           }
          ],
          "choropleth": [
           {
            "colorbar": {
             "outlinewidth": 0,
             "ticks": ""
            },
            "type": "choropleth"
           }
          ],
          "contour": [
           {
            "colorbar": {
             "outlinewidth": 0,
             "ticks": ""
            },
            "colorscale": [
             [
              0,
              "#0d0887"
             ],
             [
              0.1111111111111111,
              "#46039f"
             ],
             [
              0.2222222222222222,
              "#7201a8"
             ],
             [
              0.3333333333333333,
              "#9c179e"
             ],
             [
              0.4444444444444444,
              "#bd3786"
             ],
             [
              0.5555555555555556,
              "#d8576b"
             ],
             [
              0.6666666666666666,
              "#ed7953"
             ],
             [
              0.7777777777777778,
              "#fb9f3a"
             ],
             [
              0.8888888888888888,
              "#fdca26"
             ],
             [
              1,
              "#f0f921"
             ]
            ],
            "type": "contour"
           }
          ],
          "contourcarpet": [
           {
            "colorbar": {
             "outlinewidth": 0,
             "ticks": ""
            },
            "type": "contourcarpet"
           }
          ],
          "heatmap": [
           {
            "colorbar": {
             "outlinewidth": 0,
             "ticks": ""
            },
            "colorscale": [
             [
              0,
              "#0d0887"
             ],
             [
              0.1111111111111111,
              "#46039f"
             ],
             [
              0.2222222222222222,
              "#7201a8"
             ],
             [
              0.3333333333333333,
              "#9c179e"
             ],
             [
              0.4444444444444444,
              "#bd3786"
             ],
             [
              0.5555555555555556,
              "#d8576b"
             ],
             [
              0.6666666666666666,
              "#ed7953"
             ],
             [
              0.7777777777777778,
              "#fb9f3a"
             ],
             [
              0.8888888888888888,
              "#fdca26"
             ],
             [
              1,
              "#f0f921"
             ]
            ],
            "type": "heatmap"
           }
          ],
          "heatmapgl": [
           {
            "colorbar": {
             "outlinewidth": 0,
             "ticks": ""
            },
            "colorscale": [
             [
              0,
              "#0d0887"
             ],
             [
              0.1111111111111111,
              "#46039f"
             ],
             [
              0.2222222222222222,
              "#7201a8"
             ],
             [
              0.3333333333333333,
              "#9c179e"
             ],
             [
              0.4444444444444444,
              "#bd3786"
             ],
             [
              0.5555555555555556,
              "#d8576b"
             ],
             [
              0.6666666666666666,
              "#ed7953"
             ],
             [
              0.7777777777777778,
              "#fb9f3a"
             ],
             [
              0.8888888888888888,
              "#fdca26"
             ],
             [
              1,
              "#f0f921"
             ]
            ],
            "type": "heatmapgl"
           }
          ],
          "histogram": [
           {
            "marker": {
             "pattern": {
              "fillmode": "overlay",
              "size": 10,
              "solidity": 0.2
             }
            },
            "type": "histogram"
           }
          ],
          "histogram2d": [
           {
            "colorbar": {
             "outlinewidth": 0,
             "ticks": ""
            },
            "colorscale": [
             [
              0,
              "#0d0887"
             ],
             [
              0.1111111111111111,
              "#46039f"
             ],
             [
              0.2222222222222222,
              "#7201a8"
             ],
             [
              0.3333333333333333,
              "#9c179e"
             ],
             [
              0.4444444444444444,
              "#bd3786"
             ],
             [
              0.5555555555555556,
              "#d8576b"
             ],
             [
              0.6666666666666666,
              "#ed7953"
             ],
             [
              0.7777777777777778,
              "#fb9f3a"
             ],
             [
              0.8888888888888888,
              "#fdca26"
             ],
             [
              1,
              "#f0f921"
             ]
            ],
            "type": "histogram2d"
           }
          ],
          "histogram2dcontour": [
           {
            "colorbar": {
             "outlinewidth": 0,
             "ticks": ""
            },
            "colorscale": [
             [
              0,
              "#0d0887"
             ],
             [
              0.1111111111111111,
              "#46039f"
             ],
             [
              0.2222222222222222,
              "#7201a8"
             ],
             [
              0.3333333333333333,
              "#9c179e"
             ],
             [
              0.4444444444444444,
              "#bd3786"
             ],
             [
              0.5555555555555556,
              "#d8576b"
             ],
             [
              0.6666666666666666,
              "#ed7953"
             ],
             [
              0.7777777777777778,
              "#fb9f3a"
             ],
             [
              0.8888888888888888,
              "#fdca26"
             ],
             [
              1,
              "#f0f921"
             ]
            ],
            "type": "histogram2dcontour"
           }
          ],
          "mesh3d": [
           {
            "colorbar": {
             "outlinewidth": 0,
             "ticks": ""
            },
            "type": "mesh3d"
           }
          ],
          "parcoords": [
           {
            "line": {
             "colorbar": {
              "outlinewidth": 0,
              "ticks": ""
             }
            },
            "type": "parcoords"
           }
          ],
          "pie": [
           {
            "automargin": true,
            "type": "pie"
           }
          ],
          "scatter": [
           {
            "fillpattern": {
             "fillmode": "overlay",
             "size": 10,
             "solidity": 0.2
            },
            "type": "scatter"
           }
          ],
          "scatter3d": [
           {
            "line": {
             "colorbar": {
              "outlinewidth": 0,
              "ticks": ""
             }
            },
            "marker": {
             "colorbar": {
              "outlinewidth": 0,
              "ticks": ""
             }
            },
            "type": "scatter3d"
           }
          ],
          "scattercarpet": [
           {
            "marker": {
             "colorbar": {
              "outlinewidth": 0,
              "ticks": ""
             }
            },
            "type": "scattercarpet"
           }
          ],
          "scattergeo": [
           {
            "marker": {
             "colorbar": {
              "outlinewidth": 0,
              "ticks": ""
             }
            },
            "type": "scattergeo"
           }
          ],
          "scattergl": [
           {
            "marker": {
             "colorbar": {
              "outlinewidth": 0,
              "ticks": ""
             }
            },
            "type": "scattergl"
           }
          ],
          "scattermapbox": [
           {
            "marker": {
             "colorbar": {
              "outlinewidth": 0,
              "ticks": ""
             }
            },
            "type": "scattermapbox"
           }
          ],
          "scatterpolar": [
           {
            "marker": {
             "colorbar": {
              "outlinewidth": 0,
              "ticks": ""
             }
            },
            "type": "scatterpolar"
           }
          ],
          "scatterpolargl": [
           {
            "marker": {
             "colorbar": {
              "outlinewidth": 0,
              "ticks": ""
             }
            },
            "type": "scatterpolargl"
           }
          ],
          "scatterternary": [
           {
            "marker": {
             "colorbar": {
              "outlinewidth": 0,
              "ticks": ""
             }
            },
            "type": "scatterternary"
           }
          ],
          "surface": [
           {
            "colorbar": {
             "outlinewidth": 0,
             "ticks": ""
            },
            "colorscale": [
             [
              0,
              "#0d0887"
             ],
             [
              0.1111111111111111,
              "#46039f"
             ],
             [
              0.2222222222222222,
              "#7201a8"
             ],
             [
              0.3333333333333333,
              "#9c179e"
             ],
             [
              0.4444444444444444,
              "#bd3786"
             ],
             [
              0.5555555555555556,
              "#d8576b"
             ],
             [
              0.6666666666666666,
              "#ed7953"
             ],
             [
              0.7777777777777778,
              "#fb9f3a"
             ],
             [
              0.8888888888888888,
              "#fdca26"
             ],
             [
              1,
              "#f0f921"
             ]
            ],
            "type": "surface"
           }
          ],
          "table": [
           {
            "cells": {
             "fill": {
              "color": "#EBF0F8"
             },
             "line": {
              "color": "white"
             }
            },
            "header": {
             "fill": {
              "color": "#C8D4E3"
             },
             "line": {
              "color": "white"
             }
            },
            "type": "table"
           }
          ]
         },
         "layout": {
          "annotationdefaults": {
           "arrowcolor": "#2a3f5f",
           "arrowhead": 0,
           "arrowwidth": 1
          },
          "autotypenumbers": "strict",
          "coloraxis": {
           "colorbar": {
            "outlinewidth": 0,
            "ticks": ""
           }
          },
          "colorscale": {
           "diverging": [
            [
             0,
             "#8e0152"
            ],
            [
             0.1,
             "#c51b7d"
            ],
            [
             0.2,
             "#de77ae"
            ],
            [
             0.3,
             "#f1b6da"
            ],
            [
             0.4,
             "#fde0ef"
            ],
            [
             0.5,
             "#f7f7f7"
            ],
            [
             0.6,
             "#e6f5d0"
            ],
            [
             0.7,
             "#b8e186"
            ],
            [
             0.8,
             "#7fbc41"
            ],
            [
             0.9,
             "#4d9221"
            ],
            [
             1,
             "#276419"
            ]
           ],
           "sequential": [
            [
             0,
             "#0d0887"
            ],
            [
             0.1111111111111111,
             "#46039f"
            ],
            [
             0.2222222222222222,
             "#7201a8"
            ],
            [
             0.3333333333333333,
             "#9c179e"
            ],
            [
             0.4444444444444444,
             "#bd3786"
            ],
            [
             0.5555555555555556,
             "#d8576b"
            ],
            [
             0.6666666666666666,
             "#ed7953"
            ],
            [
             0.7777777777777778,
             "#fb9f3a"
            ],
            [
             0.8888888888888888,
             "#fdca26"
            ],
            [
             1,
             "#f0f921"
            ]
           ],
           "sequentialminus": [
            [
             0,
             "#0d0887"
            ],
            [
             0.1111111111111111,
             "#46039f"
            ],
            [
             0.2222222222222222,
             "#7201a8"
            ],
            [
             0.3333333333333333,
             "#9c179e"
            ],
            [
             0.4444444444444444,
             "#bd3786"
            ],
            [
             0.5555555555555556,
             "#d8576b"
            ],
            [
             0.6666666666666666,
             "#ed7953"
            ],
            [
             0.7777777777777778,
             "#fb9f3a"
            ],
            [
             0.8888888888888888,
             "#fdca26"
            ],
            [
             1,
             "#f0f921"
            ]
           ]
          },
          "colorway": [
           "#636efa",
           "#EF553B",
           "#00cc96",
           "#ab63fa",
           "#FFA15A",
           "#19d3f3",
           "#FF6692",
           "#B6E880",
           "#FF97FF",
           "#FECB52"
          ],
          "font": {
           "color": "#2a3f5f"
          },
          "geo": {
           "bgcolor": "white",
           "lakecolor": "white",
           "landcolor": "#E5ECF6",
           "showlakes": true,
           "showland": true,
           "subunitcolor": "white"
          },
          "hoverlabel": {
           "align": "left"
          },
          "hovermode": "closest",
          "mapbox": {
           "style": "light"
          },
          "paper_bgcolor": "white",
          "plot_bgcolor": "#E5ECF6",
          "polar": {
           "angularaxis": {
            "gridcolor": "white",
            "linecolor": "white",
            "ticks": ""
           },
           "bgcolor": "#E5ECF6",
           "radialaxis": {
            "gridcolor": "white",
            "linecolor": "white",
            "ticks": ""
           }
          },
          "scene": {
           "xaxis": {
            "backgroundcolor": "#E5ECF6",
            "gridcolor": "white",
            "gridwidth": 2,
            "linecolor": "white",
            "showbackground": true,
            "ticks": "",
            "zerolinecolor": "white"
           },
           "yaxis": {
            "backgroundcolor": "#E5ECF6",
            "gridcolor": "white",
            "gridwidth": 2,
            "linecolor": "white",
            "showbackground": true,
            "ticks": "",
            "zerolinecolor": "white"
           },
           "zaxis": {
            "backgroundcolor": "#E5ECF6",
            "gridcolor": "white",
            "gridwidth": 2,
            "linecolor": "white",
            "showbackground": true,
            "ticks": "",
            "zerolinecolor": "white"
           }
          },
          "shapedefaults": {
           "line": {
            "color": "#2a3f5f"
           }
          },
          "ternary": {
           "aaxis": {
            "gridcolor": "white",
            "linecolor": "white",
            "ticks": ""
           },
           "baxis": {
            "gridcolor": "white",
            "linecolor": "white",
            "ticks": ""
           },
           "bgcolor": "#E5ECF6",
           "caxis": {
            "gridcolor": "white",
            "linecolor": "white",
            "ticks": ""
           }
          },
          "title": {
           "x": 0.05
          },
          "xaxis": {
           "automargin": true,
           "gridcolor": "white",
           "linecolor": "white",
           "ticks": "",
           "title": {
            "standoff": 15
           },
           "zerolinecolor": "white",
           "zerolinewidth": 2
          },
          "yaxis": {
           "automargin": true,
           "gridcolor": "white",
           "linecolor": "white",
           "ticks": "",
           "title": {
            "standoff": 15
           },
           "zerolinecolor": "white",
           "zerolinewidth": 2
          }
         }
        },
        "title": {
         "text": "Sharpe Ratio vs. Minimum Return Ratio (Constant Correlation)"
        },
        "xaxis": {
         "anchor": "y",
         "domain": [
          0,
          1
         ],
         "title": {
          "text": "Minimum Return Ratio"
         }
        },
        "yaxis": {
         "anchor": "x",
         "domain": [
          0,
          1
         ],
         "title": {
          "text": "Sharpe Ratio"
         }
        }
       }
      }
     },
     "metadata": {},
     "output_type": "display_data"
    }
   ],
   "source": [
    "\n",
    "fig = px.line(results_df, \n",
    "              x='Minimum Return Ratio', \n",
    "              y=\"Sharpe Ratio\", \n",
    "              title=\"Sharpe Ratio vs. Minimum Return Ratio (Sample Covariance w/ Shrinkage)\")\n",
    "fig.show()"
   ]
  },
  {
   "cell_type": "code",
   "execution_count": 13,
   "metadata": {},
   "outputs": [
    {
     "name": "stdout",
     "output_type": "stream",
     "text": [
      "mark_date = datetime.date(2017, 1, 1)\n"
     ]
    },
    {
     "name": "stderr",
     "output_type": "stream",
     "text": [
      "/home/josh/cmor462/ropacea/ropacea/Single_factor.py:67: FutureWarning:\n",
      "\n",
      "The behavior of DataFrame concatenation with empty or all-NA entries is deprecated. In a future version, this will no longer exclude empty or all-NA columns when determining the result dtypes. To retain the old behavior, exclude the relevant entries before the concat operation.\n",
      "\n"
     ]
    },
    {
     "name": "stdout",
     "output_type": "stream",
     "text": [
      "monthly_portfolio_return = 0.0435\n",
      "risk_free_return = 0.0022\n",
      "mark_date = datetime.date(2017, 2, 1)\n",
      "monthly_portfolio_return = 0.0348\n",
      "risk_free_return = 0.0074\n",
      "mark_date = datetime.date(2017, 3, 1)\n"
     ]
    },
    {
     "name": "stderr",
     "output_type": "stream",
     "text": [
      "/home/josh/cmor462/ropacea/ropacea/Single_factor.py:67: FutureWarning:\n",
      "\n",
      "The behavior of DataFrame concatenation with empty or all-NA entries is deprecated. In a future version, this will no longer exclude empty or all-NA columns when determining the result dtypes. To retain the old behavior, exclude the relevant entries before the concat operation.\n",
      "\n",
      "/home/josh/cmor462/ropacea/ropacea/Single_factor.py:67: FutureWarning:\n",
      "\n",
      "The behavior of DataFrame concatenation with empty or all-NA entries is deprecated. In a future version, this will no longer exclude empty or all-NA columns when determining the result dtypes. To retain the old behavior, exclude the relevant entries before the concat operation.\n",
      "\n"
     ]
    },
    {
     "name": "stdout",
     "output_type": "stream",
     "text": [
      "monthly_portfolio_return = 0.0235\n",
      "risk_free_return = 0.0024\n",
      "mark_date = datetime.date(2017, 4, 1)\n",
      "monthly_portfolio_return = 0.0010\n",
      "risk_free_return = 0.0111\n",
      "mark_date = datetime.date(2017, 5, 1)\n"
     ]
    },
    {
     "name": "stderr",
     "output_type": "stream",
     "text": [
      "/home/josh/cmor462/ropacea/ropacea/Single_factor.py:67: FutureWarning:\n",
      "\n",
      "The behavior of DataFrame concatenation with empty or all-NA entries is deprecated. In a future version, this will no longer exclude empty or all-NA columns when determining the result dtypes. To retain the old behavior, exclude the relevant entries before the concat operation.\n",
      "\n",
      "/home/josh/cmor462/ropacea/ropacea/Single_factor.py:67: FutureWarning:\n",
      "\n",
      "The behavior of DataFrame concatenation with empty or all-NA entries is deprecated. In a future version, this will no longer exclude empty or all-NA columns when determining the result dtypes. To retain the old behavior, exclude the relevant entries before the concat operation.\n",
      "\n"
     ]
    },
    {
     "name": "stdout",
     "output_type": "stream",
     "text": [
      "monthly_portfolio_return = 0.0432\n",
      "risk_free_return = 0.0079\n",
      "mark_date = datetime.date(2017, 6, 1)\n",
      "monthly_portfolio_return = 0.0045\n",
      "risk_free_return = -0.0013\n",
      "mark_date = datetime.date(2017, 7, 1)\n"
     ]
    },
    {
     "name": "stderr",
     "output_type": "stream",
     "text": [
      "/home/josh/cmor462/ropacea/ropacea/Single_factor.py:67: FutureWarning:\n",
      "\n",
      "The behavior of DataFrame concatenation with empty or all-NA entries is deprecated. In a future version, this will no longer exclude empty or all-NA columns when determining the result dtypes. To retain the old behavior, exclude the relevant entries before the concat operation.\n",
      "\n",
      "/home/josh/cmor462/ropacea/ropacea/Single_factor.py:67: FutureWarning:\n",
      "\n",
      "The behavior of DataFrame concatenation with empty or all-NA entries is deprecated. In a future version, this will no longer exclude empty or all-NA columns when determining the result dtypes. To retain the old behavior, exclude the relevant entries before the concat operation.\n",
      "\n"
     ]
    },
    {
     "name": "stdout",
     "output_type": "stream",
     "text": [
      "monthly_portfolio_return = 0.0326\n",
      "risk_free_return = -0.0000\n",
      "mark_date = datetime.date(2017, 8, 1)\n",
      "monthly_portfolio_return = 0.0182\n",
      "risk_free_return = 0.0171\n",
      "mark_date = datetime.date(2017, 9, 1)\n"
     ]
    },
    {
     "name": "stderr",
     "output_type": "stream",
     "text": [
      "/home/josh/cmor462/ropacea/ropacea/Single_factor.py:67: FutureWarning:\n",
      "\n",
      "The behavior of DataFrame concatenation with empty or all-NA entries is deprecated. In a future version, this will no longer exclude empty or all-NA columns when determining the result dtypes. To retain the old behavior, exclude the relevant entries before the concat operation.\n",
      "\n",
      "/home/josh/cmor462/ropacea/ropacea/Single_factor.py:67: FutureWarning:\n",
      "\n",
      "The behavior of DataFrame concatenation with empty or all-NA entries is deprecated. In a future version, this will no longer exclude empty or all-NA columns when determining the result dtypes. To retain the old behavior, exclude the relevant entries before the concat operation.\n",
      "\n"
     ]
    },
    {
     "name": "stdout",
     "output_type": "stream",
     "text": [
      "monthly_portfolio_return = 0.0235\n",
      "risk_free_return = -0.0172\n",
      "mark_date = datetime.date(2017, 10, 1)\n",
      "monthly_portfolio_return = 0.0769\n",
      "risk_free_return = -0.0011\n",
      "mark_date = datetime.date(2017, 11, 1)\n"
     ]
    },
    {
     "name": "stderr",
     "output_type": "stream",
     "text": [
      "/home/josh/cmor462/ropacea/ropacea/Single_factor.py:67: FutureWarning:\n",
      "\n",
      "The behavior of DataFrame concatenation with empty or all-NA entries is deprecated. In a future version, this will no longer exclude empty or all-NA columns when determining the result dtypes. To retain the old behavior, exclude the relevant entries before the concat operation.\n",
      "\n",
      "/home/josh/cmor462/ropacea/ropacea/Single_factor.py:67: FutureWarning:\n",
      "\n",
      "The behavior of DataFrame concatenation with empty or all-NA entries is deprecated. In a future version, this will no longer exclude empty or all-NA columns when determining the result dtypes. To retain the old behavior, exclude the relevant entries before the concat operation.\n",
      "\n"
     ]
    },
    {
     "name": "stdout",
     "output_type": "stream",
     "text": [
      "monthly_portfolio_return = 0.0204\n",
      "risk_free_return = -0.0026\n",
      "mark_date = datetime.date(2017, 12, 1)\n",
      "monthly_portfolio_return = 0.0150\n",
      "risk_free_return = 0.0022\n",
      "mark_date = datetime.date(2018, 1, 1)\n"
     ]
    },
    {
     "name": "stderr",
     "output_type": "stream",
     "text": [
      "/home/josh/cmor462/ropacea/ropacea/Single_factor.py:67: FutureWarning:\n",
      "\n",
      "The behavior of DataFrame concatenation with empty or all-NA entries is deprecated. In a future version, this will no longer exclude empty or all-NA columns when determining the result dtypes. To retain the old behavior, exclude the relevant entries before the concat operation.\n",
      "\n",
      "/home/josh/cmor462/ropacea/ropacea/Single_factor.py:67: FutureWarning:\n",
      "\n",
      "The behavior of DataFrame concatenation with empty or all-NA entries is deprecated. In a future version, this will no longer exclude empty or all-NA columns when determining the result dtypes. To retain the old behavior, exclude the relevant entries before the concat operation.\n",
      "\n"
     ]
    },
    {
     "name": "stdout",
     "output_type": "stream",
     "text": [
      "monthly_portfolio_return = 0.0880\n",
      "risk_free_return = -0.0236\n",
      "mark_date = datetime.date(2018, 2, 1)\n",
      "monthly_portfolio_return = -0.0024\n",
      "risk_free_return = -0.0130\n",
      "mark_date = datetime.date(2018, 3, 1)\n"
     ]
    },
    {
     "name": "stderr",
     "output_type": "stream",
     "text": [
      "/home/josh/cmor462/ropacea/ropacea/Single_factor.py:67: FutureWarning:\n",
      "\n",
      "The behavior of DataFrame concatenation with empty or all-NA entries is deprecated. In a future version, this will no longer exclude empty or all-NA columns when determining the result dtypes. To retain the old behavior, exclude the relevant entries before the concat operation.\n",
      "\n",
      "/home/josh/cmor462/ropacea/ropacea/Single_factor.py:67: FutureWarning:\n",
      "\n",
      "The behavior of DataFrame concatenation with empty or all-NA entries is deprecated. In a future version, this will no longer exclude empty or all-NA columns when determining the result dtypes. To retain the old behavior, exclude the relevant entries before the concat operation.\n",
      "\n"
     ]
    },
    {
     "name": "stdout",
     "output_type": "stream",
     "text": [
      "monthly_portfolio_return = -0.0217\n",
      "risk_free_return = 0.0128\n",
      "mark_date = datetime.date(2018, 4, 1)\n",
      "monthly_portfolio_return = 0.0034\n",
      "risk_free_return = -0.0155\n",
      "mark_date = datetime.date(2018, 5, 1)\n"
     ]
    },
    {
     "name": "stderr",
     "output_type": "stream",
     "text": [
      "/home/josh/cmor462/ropacea/ropacea/Single_factor.py:67: FutureWarning:\n",
      "\n",
      "The behavior of DataFrame concatenation with empty or all-NA entries is deprecated. In a future version, this will no longer exclude empty or all-NA columns when determining the result dtypes. To retain the old behavior, exclude the relevant entries before the concat operation.\n",
      "\n",
      "/home/josh/cmor462/ropacea/ropacea/Single_factor.py:67: FutureWarning:\n",
      "\n",
      "The behavior of DataFrame concatenation with empty or all-NA entries is deprecated. In a future version, this will no longer exclude empty or all-NA columns when determining the result dtypes. To retain the old behavior, exclude the relevant entries before the concat operation.\n",
      "\n",
      "/home/josh/cmor462/ropacea/ropacea/Single_factor.py:67: FutureWarning:\n",
      "\n",
      "The behavior of DataFrame concatenation with empty or all-NA entries is deprecated. In a future version, this will no longer exclude empty or all-NA columns when determining the result dtypes. To retain the old behavior, exclude the relevant entries before the concat operation.\n",
      "\n"
     ]
    },
    {
     "name": "stdout",
     "output_type": "stream",
     "text": [
      "monthly_portfolio_return = 0.0501\n",
      "risk_free_return = 0.0096\n",
      "mark_date = datetime.date(2018, 6, 1)\n",
      "monthly_portfolio_return = -0.0120\n",
      "risk_free_return = 0.0023\n",
      "mark_date = datetime.date(2018, 7, 1)\n"
     ]
    },
    {
     "name": "stderr",
     "output_type": "stream",
     "text": [
      "/home/josh/cmor462/ropacea/ropacea/Single_factor.py:67: FutureWarning:\n",
      "\n",
      "The behavior of DataFrame concatenation with empty or all-NA entries is deprecated. In a future version, this will no longer exclude empty or all-NA columns when determining the result dtypes. To retain the old behavior, exclude the relevant entries before the concat operation.\n",
      "\n",
      "/home/josh/cmor462/ropacea/ropacea/Single_factor.py:67: FutureWarning:\n",
      "\n",
      "The behavior of DataFrame concatenation with empty or all-NA entries is deprecated. In a future version, this will no longer exclude empty or all-NA columns when determining the result dtypes. To retain the old behavior, exclude the relevant entries before the concat operation.\n",
      "\n"
     ]
    },
    {
     "name": "stdout",
     "output_type": "stream",
     "text": [
      "monthly_portfolio_return = 0.0404\n",
      "risk_free_return = -0.0051\n",
      "mark_date = datetime.date(2018, 8, 1)\n",
      "monthly_portfolio_return = 0.0525\n",
      "risk_free_return = 0.0101\n",
      "mark_date = datetime.date(2018, 9, 1)\n"
     ]
    },
    {
     "name": "stderr",
     "output_type": "stream",
     "text": [
      "/home/josh/cmor462/ropacea/ropacea/Single_factor.py:67: FutureWarning:\n",
      "\n",
      "The behavior of DataFrame concatenation with empty or all-NA entries is deprecated. In a future version, this will no longer exclude empty or all-NA columns when determining the result dtypes. To retain the old behavior, exclude the relevant entries before the concat operation.\n",
      "\n"
     ]
    },
    {
     "name": "stdout",
     "output_type": "stream",
     "text": [
      "monthly_portfolio_return = 0.0147\n",
      "risk_free_return = -0.0148\n",
      "mark_date = datetime.date(2018, 10, 1)\n"
     ]
    },
    {
     "name": "stderr",
     "output_type": "stream",
     "text": [
      "/home/josh/cmor462/ropacea/ropacea/Single_factor.py:67: FutureWarning:\n",
      "\n",
      "The behavior of DataFrame concatenation with empty or all-NA entries is deprecated. In a future version, this will no longer exclude empty or all-NA columns when determining the result dtypes. To retain the old behavior, exclude the relevant entries before the concat operation.\n",
      "\n"
     ]
    },
    {
     "name": "stdout",
     "output_type": "stream",
     "text": [
      "monthly_portfolio_return = -0.0796\n",
      "risk_free_return = -0.0043\n",
      "mark_date = datetime.date(2018, 11, 1)\n"
     ]
    },
    {
     "name": "stderr",
     "output_type": "stream",
     "text": [
      "/home/josh/cmor462/ropacea/ropacea/Single_factor.py:67: FutureWarning:\n",
      "\n",
      "The behavior of DataFrame concatenation with empty or all-NA entries is deprecated. In a future version, this will no longer exclude empty or all-NA columns when determining the result dtypes. To retain the old behavior, exclude the relevant entries before the concat operation.\n",
      "\n"
     ]
    },
    {
     "name": "stdout",
     "output_type": "stream",
     "text": [
      "monthly_portfolio_return = 0.0191\n",
      "risk_free_return = 0.0149\n",
      "mark_date = datetime.date(2018, 12, 1)\n",
      "monthly_portfolio_return = -0.0786\n",
      "risk_free_return = 0.0286\n",
      "mark_date = datetime.date(2019, 1, 1)\n"
     ]
    },
    {
     "name": "stderr",
     "output_type": "stream",
     "text": [
      "/home/josh/cmor462/ropacea/ropacea/Single_factor.py:67: FutureWarning:\n",
      "\n",
      "The behavior of DataFrame concatenation with empty or all-NA entries is deprecated. In a future version, this will no longer exclude empty or all-NA columns when determining the result dtypes. To retain the old behavior, exclude the relevant entries before the concat operation.\n",
      "\n",
      "/home/josh/cmor462/ropacea/ropacea/Single_factor.py:67: FutureWarning:\n",
      "\n",
      "The behavior of DataFrame concatenation with empty or all-NA entries is deprecated. In a future version, this will no longer exclude empty or all-NA columns when determining the result dtypes. To retain the old behavior, exclude the relevant entries before the concat operation.\n",
      "\n"
     ]
    },
    {
     "name": "stdout",
     "output_type": "stream",
     "text": [
      "monthly_portfolio_return = 0.0548\n",
      "risk_free_return = 0.0071\n",
      "mark_date = datetime.date(2019, 2, 1)\n",
      "monthly_portfolio_return = 0.0660\n",
      "risk_free_return = -0.0043\n",
      "mark_date = datetime.date(2019, 3, 1)\n"
     ]
    },
    {
     "name": "stderr",
     "output_type": "stream",
     "text": [
      "/home/josh/cmor462/ropacea/ropacea/Single_factor.py:67: FutureWarning:\n",
      "\n",
      "The behavior of DataFrame concatenation with empty or all-NA entries is deprecated. In a future version, this will no longer exclude empty or all-NA columns when determining the result dtypes. To retain the old behavior, exclude the relevant entries before the concat operation.\n",
      "\n",
      "/home/josh/cmor462/ropacea/ropacea/Single_factor.py:67: FutureWarning:\n",
      "\n",
      "The behavior of DataFrame concatenation with empty or all-NA entries is deprecated. In a future version, this will no longer exclude empty or all-NA columns when determining the result dtypes. To retain the old behavior, exclude the relevant entries before the concat operation.\n",
      "\n"
     ]
    },
    {
     "name": "stdout",
     "output_type": "stream",
     "text": [
      "monthly_portfolio_return = 0.0364\n",
      "risk_free_return = 0.0294\n",
      "mark_date = datetime.date(2019, 4, 1)\n",
      "monthly_portfolio_return = 0.0471\n",
      "risk_free_return = -0.0062\n",
      "mark_date = datetime.date(2019, 5, 1)\n"
     ]
    },
    {
     "name": "stderr",
     "output_type": "stream",
     "text": [
      "/home/josh/cmor462/ropacea/ropacea/Single_factor.py:67: FutureWarning:\n",
      "\n",
      "The behavior of DataFrame concatenation with empty or all-NA entries is deprecated. In a future version, this will no longer exclude empty or all-NA columns when determining the result dtypes. To retain the old behavior, exclude the relevant entries before the concat operation.\n",
      "\n",
      "/home/josh/cmor462/ropacea/ropacea/Single_factor.py:67: FutureWarning:\n",
      "\n",
      "The behavior of DataFrame concatenation with empty or all-NA entries is deprecated. In a future version, this will no longer exclude empty or all-NA columns when determining the result dtypes. To retain the old behavior, exclude the relevant entries before the concat operation.\n",
      "\n",
      "/home/josh/cmor462/ropacea/ropacea/Single_factor.py:67: FutureWarning:\n",
      "\n",
      "The behavior of DataFrame concatenation with empty or all-NA entries is deprecated. In a future version, this will no longer exclude empty or all-NA columns when determining the result dtypes. To retain the old behavior, exclude the relevant entries before the concat operation.\n",
      "\n"
     ]
    },
    {
     "name": "stdout",
     "output_type": "stream",
     "text": [
      "monthly_portfolio_return = -0.0601\n",
      "risk_free_return = 0.0319\n",
      "mark_date = datetime.date(2019, 6, 1)\n",
      "monthly_portfolio_return = 0.0754\n",
      "risk_free_return = 0.0121\n",
      "mark_date = datetime.date(2019, 7, 1)\n"
     ]
    },
    {
     "name": "stderr",
     "output_type": "stream",
     "text": [
      "/home/josh/cmor462/ropacea/ropacea/Single_factor.py:67: FutureWarning:\n",
      "\n",
      "The behavior of DataFrame concatenation with empty or all-NA entries is deprecated. In a future version, this will no longer exclude empty or all-NA columns when determining the result dtypes. To retain the old behavior, exclude the relevant entries before the concat operation.\n",
      "\n",
      "/home/josh/cmor462/ropacea/ropacea/Single_factor.py:67: FutureWarning:\n",
      "\n",
      "The behavior of DataFrame concatenation with empty or all-NA entries is deprecated. In a future version, this will no longer exclude empty or all-NA columns when determining the result dtypes. To retain the old behavior, exclude the relevant entries before the concat operation.\n",
      "\n"
     ]
    },
    {
     "name": "stdout",
     "output_type": "stream",
     "text": [
      "monthly_portfolio_return = 0.0242\n",
      "risk_free_return = 0.0034\n",
      "mark_date = datetime.date(2019, 8, 1)\n",
      "monthly_portfolio_return = -0.0096\n",
      "risk_free_return = 0.0403\n",
      "mark_date = datetime.date(2019, 9, 1)\n"
     ]
    },
    {
     "name": "stderr",
     "output_type": "stream",
     "text": [
      "/home/josh/cmor462/ropacea/ropacea/Single_factor.py:67: FutureWarning:\n",
      "\n",
      "The behavior of DataFrame concatenation with empty or all-NA entries is deprecated. In a future version, this will no longer exclude empty or all-NA columns when determining the result dtypes. To retain the old behavior, exclude the relevant entries before the concat operation.\n",
      "\n",
      "/home/josh/cmor462/ropacea/ropacea/Single_factor.py:67: FutureWarning:\n",
      "\n",
      "The behavior of DataFrame concatenation with empty or all-NA entries is deprecated. In a future version, this will no longer exclude empty or all-NA columns when determining the result dtypes. To retain the old behavior, exclude the relevant entries before the concat operation.\n",
      "\n"
     ]
    },
    {
     "name": "stdout",
     "output_type": "stream",
     "text": [
      "monthly_portfolio_return = 0.0068\n",
      "risk_free_return = -0.0139\n",
      "mark_date = datetime.date(2019, 10, 1)\n",
      "monthly_portfolio_return = 0.0036\n",
      "risk_free_return = -0.0007\n",
      "mark_date = datetime.date(2019, 11, 1)\n"
     ]
    },
    {
     "name": "stderr",
     "output_type": "stream",
     "text": [
      "/home/josh/cmor462/ropacea/ropacea/Single_factor.py:67: FutureWarning:\n",
      "\n",
      "The behavior of DataFrame concatenation with empty or all-NA entries is deprecated. In a future version, this will no longer exclude empty or all-NA columns when determining the result dtypes. To retain the old behavior, exclude the relevant entries before the concat operation.\n",
      "\n"
     ]
    },
    {
     "name": "stdout",
     "output_type": "stream",
     "text": [
      "monthly_portfolio_return = 0.0468\n",
      "risk_free_return = -0.0074\n",
      "mark_date = datetime.date(2019, 12, 1)\n"
     ]
    },
    {
     "name": "stderr",
     "output_type": "stream",
     "text": [
      "/home/josh/cmor462/ropacea/ropacea/Single_factor.py:67: FutureWarning:\n",
      "\n",
      "The behavior of DataFrame concatenation with empty or all-NA entries is deprecated. In a future version, this will no longer exclude empty or all-NA columns when determining the result dtypes. To retain the old behavior, exclude the relevant entries before the concat operation.\n",
      "\n",
      "/home/josh/cmor462/ropacea/ropacea/Single_factor.py:67: FutureWarning:\n",
      "\n",
      "The behavior of DataFrame concatenation with empty or all-NA entries is deprecated. In a future version, this will no longer exclude empty or all-NA columns when determining the result dtypes. To retain the old behavior, exclude the relevant entries before the concat operation.\n",
      "\n"
     ]
    },
    {
     "name": "stdout",
     "output_type": "stream",
     "text": [
      "monthly_portfolio_return = 0.0462\n",
      "risk_free_return = -0.0113\n",
      "mark_date = datetime.date(2020, 1, 1)\n",
      "monthly_portfolio_return = 0.0262\n",
      "risk_free_return = 0.0392\n",
      "mark_date = datetime.date(2020, 2, 1)\n"
     ]
    },
    {
     "name": "stderr",
     "output_type": "stream",
     "text": [
      "/home/josh/cmor462/ropacea/ropacea/Single_factor.py:67: FutureWarning:\n",
      "\n",
      "The behavior of DataFrame concatenation with empty or all-NA entries is deprecated. In a future version, this will no longer exclude empty or all-NA columns when determining the result dtypes. To retain the old behavior, exclude the relevant entries before the concat operation.\n",
      "\n",
      "/home/josh/cmor462/ropacea/ropacea/Single_factor.py:67: FutureWarning:\n",
      "\n",
      "The behavior of DataFrame concatenation with empty or all-NA entries is deprecated. In a future version, this will no longer exclude empty or all-NA columns when determining the result dtypes. To retain the old behavior, exclude the relevant entries before the concat operation.\n",
      "\n"
     ]
    },
    {
     "name": "stdout",
     "output_type": "stream",
     "text": [
      "monthly_portfolio_return = -0.0710\n",
      "risk_free_return = 0.0299\n",
      "mark_date = datetime.date(2020, 3, 1)\n",
      "monthly_portfolio_return = -0.0780\n",
      "risk_free_return = 0.0397\n",
      "mark_date = datetime.date(2020, 4, 1)\n",
      "monthly_portfolio_return = 0.1218\n",
      "risk_free_return = 0.0050\n",
      "mark_date = datetime.date(2020, 5, 1)\n"
     ]
    },
    {
     "name": "stderr",
     "output_type": "stream",
     "text": [
      "/home/josh/cmor462/ropacea/ropacea/Single_factor.py:67: FutureWarning:\n",
      "\n",
      "The behavior of DataFrame concatenation with empty or all-NA entries is deprecated. In a future version, this will no longer exclude empty or all-NA columns when determining the result dtypes. To retain the old behavior, exclude the relevant entries before the concat operation.\n",
      "\n",
      "/home/josh/cmor462/ropacea/ropacea/Single_factor.py:67: FutureWarning:\n",
      "\n",
      "The behavior of DataFrame concatenation with empty or all-NA entries is deprecated. In a future version, this will no longer exclude empty or all-NA columns when determining the result dtypes. To retain the old behavior, exclude the relevant entries before the concat operation.\n",
      "\n"
     ]
    },
    {
     "name": "stdout",
     "output_type": "stream",
     "text": [
      "monthly_portfolio_return = 0.0416\n",
      "risk_free_return = 0.0007\n",
      "mark_date = datetime.date(2020, 6, 1)\n",
      "monthly_portfolio_return = 0.0364\n",
      "risk_free_return = 0.0004\n",
      "mark_date = datetime.date(2020, 7, 1)\n"
     ]
    },
    {
     "name": "stderr",
     "output_type": "stream",
     "text": [
      "/home/josh/cmor462/ropacea/ropacea/Single_factor.py:67: FutureWarning:\n",
      "\n",
      "The behavior of DataFrame concatenation with empty or all-NA entries is deprecated. In a future version, this will no longer exclude empty or all-NA columns when determining the result dtypes. To retain the old behavior, exclude the relevant entries before the concat operation.\n",
      "\n",
      "/home/josh/cmor462/ropacea/ropacea/Single_factor.py:67: FutureWarning:\n",
      "\n",
      "The behavior of DataFrame concatenation with empty or all-NA entries is deprecated. In a future version, this will no longer exclude empty or all-NA columns when determining the result dtypes. To retain the old behavior, exclude the relevant entries before the concat operation.\n",
      "\n"
     ]
    },
    {
     "name": "stdout",
     "output_type": "stream",
     "text": [
      "monthly_portfolio_return = 0.0437\n",
      "risk_free_return = 0.0128\n",
      "mark_date = datetime.date(2020, 8, 1)\n",
      "monthly_portfolio_return = 0.0900\n",
      "risk_free_return = -0.0147\n",
      "mark_date = datetime.date(2020, 9, 1)\n"
     ]
    },
    {
     "name": "stderr",
     "output_type": "stream",
     "text": [
      "/home/josh/cmor462/ropacea/ropacea/Single_factor.py:67: FutureWarning:\n",
      "\n",
      "The behavior of DataFrame concatenation with empty or all-NA entries is deprecated. In a future version, this will no longer exclude empty or all-NA columns when determining the result dtypes. To retain the old behavior, exclude the relevant entries before the concat operation.\n",
      "\n",
      "/home/josh/cmor462/ropacea/ropacea/Single_factor.py:67: FutureWarning:\n",
      "\n",
      "The behavior of DataFrame concatenation with empty or all-NA entries is deprecated. In a future version, this will no longer exclude empty or all-NA columns when determining the result dtypes. To retain the old behavior, exclude the relevant entries before the concat operation.\n",
      "\n"
     ]
    },
    {
     "name": "stdout",
     "output_type": "stream",
     "text": [
      "monthly_portfolio_return = -0.0198\n",
      "risk_free_return = 0.0026\n",
      "mark_date = datetime.date(2020, 10, 1)\n",
      "monthly_portfolio_return = -0.0425\n",
      "risk_free_return = -0.0173\n",
      "mark_date = datetime.date(2020, 11, 1)\n"
     ]
    },
    {
     "name": "stderr",
     "output_type": "stream",
     "text": [
      "/home/josh/cmor462/ropacea/ropacea/Single_factor.py:67: FutureWarning:\n",
      "\n",
      "The behavior of DataFrame concatenation with empty or all-NA entries is deprecated. In a future version, this will no longer exclude empty or all-NA columns when determining the result dtypes. To retain the old behavior, exclude the relevant entries before the concat operation.\n",
      "\n",
      "/home/josh/cmor462/ropacea/ropacea/Single_factor.py:67: FutureWarning:\n",
      "\n",
      "The behavior of DataFrame concatenation with empty or all-NA entries is deprecated. In a future version, this will no longer exclude empty or all-NA columns when determining the result dtypes. To retain the old behavior, exclude the relevant entries before the concat operation.\n",
      "\n"
     ]
    },
    {
     "name": "stdout",
     "output_type": "stream",
     "text": [
      "monthly_portfolio_return = 0.0761\n",
      "risk_free_return = 0.0040\n",
      "mark_date = datetime.date(2020, 12, 1)\n"
     ]
    },
    {
     "name": "stderr",
     "output_type": "stream",
     "text": [
      "/home/josh/cmor462/ropacea/ropacea/Single_factor.py:67: FutureWarning:\n",
      "\n",
      "The behavior of DataFrame concatenation with empty or all-NA entries is deprecated. In a future version, this will no longer exclude empty or all-NA columns when determining the result dtypes. To retain the old behavior, exclude the relevant entries before the concat operation.\n",
      "\n"
     ]
    },
    {
     "name": "stdout",
     "output_type": "stream",
     "text": [
      "monthly_portfolio_return = 0.0318\n",
      "risk_free_return = -0.0050\n",
      "mark_date = datetime.date(2021, 1, 1)\n"
     ]
    },
    {
     "name": "stderr",
     "output_type": "stream",
     "text": [
      "/home/josh/cmor462/ropacea/ropacea/Single_factor.py:67: FutureWarning:\n",
      "\n",
      "The behavior of DataFrame concatenation with empty or all-NA entries is deprecated. In a future version, this will no longer exclude empty or all-NA columns when determining the result dtypes. To retain the old behavior, exclude the relevant entries before the concat operation.\n",
      "\n"
     ]
    },
    {
     "name": "stdout",
     "output_type": "stream",
     "text": [
      "monthly_portfolio_return = -0.0011\n",
      "risk_free_return = -0.0107\n",
      "mark_date = datetime.date(2021, 2, 1)\n"
     ]
    },
    {
     "name": "stderr",
     "output_type": "stream",
     "text": [
      "/home/josh/cmor462/ropacea/ropacea/Single_factor.py:67: FutureWarning:\n",
      "\n",
      "The behavior of DataFrame concatenation with empty or all-NA entries is deprecated. In a future version, this will no longer exclude empty or all-NA columns when determining the result dtypes. To retain the old behavior, exclude the relevant entries before the concat operation.\n",
      "\n"
     ]
    },
    {
     "name": "stdout",
     "output_type": "stream",
     "text": [
      "monthly_portfolio_return = 0.0225\n",
      "risk_free_return = -0.0254\n",
      "mark_date = datetime.date(2021, 3, 1)\n",
      "monthly_portfolio_return = 0.0321\n",
      "risk_free_return = -0.0293\n",
      "mark_date = datetime.date(2021, 4, 1)\n"
     ]
    },
    {
     "name": "stderr",
     "output_type": "stream",
     "text": [
      "/home/josh/cmor462/ropacea/ropacea/Single_factor.py:67: FutureWarning:\n",
      "\n",
      "The behavior of DataFrame concatenation with empty or all-NA entries is deprecated. In a future version, this will no longer exclude empty or all-NA columns when determining the result dtypes. To retain the old behavior, exclude the relevant entries before the concat operation.\n",
      "\n",
      "/home/josh/cmor462/ropacea/ropacea/Single_factor.py:67: FutureWarning:\n",
      "\n",
      "The behavior of DataFrame concatenation with empty or all-NA entries is deprecated. In a future version, this will no longer exclude empty or all-NA columns when determining the result dtypes. To retain the old behavior, exclude the relevant entries before the concat operation.\n",
      "\n"
     ]
    },
    {
     "name": "stdout",
     "output_type": "stream",
     "text": [
      "monthly_portfolio_return = 0.0417\n",
      "risk_free_return = 0.0119\n",
      "mark_date = datetime.date(2021, 5, 1)\n"
     ]
    },
    {
     "name": "stderr",
     "output_type": "stream",
     "text": [
      "/home/josh/cmor462/ropacea/ropacea/Single_factor.py:67: FutureWarning:\n",
      "\n",
      "The behavior of DataFrame concatenation with empty or all-NA entries is deprecated. In a future version, this will no longer exclude empty or all-NA columns when determining the result dtypes. To retain the old behavior, exclude the relevant entries before the concat operation.\n",
      "\n"
     ]
    },
    {
     "name": "stdout",
     "output_type": "stream",
     "text": [
      "monthly_portfolio_return = 0.0085\n",
      "risk_free_return = 0.0034\n",
      "mark_date = datetime.date(2021, 6, 1)\n",
      "monthly_portfolio_return = 0.0469\n",
      "risk_free_return = 0.0141\n",
      "mark_date = datetime.date(2021, 7, 1)\n"
     ]
    },
    {
     "name": "stderr",
     "output_type": "stream",
     "text": [
      "/home/josh/cmor462/ropacea/ropacea/Single_factor.py:67: FutureWarning:\n",
      "\n",
      "The behavior of DataFrame concatenation with empty or all-NA entries is deprecated. In a future version, this will no longer exclude empty or all-NA columns when determining the result dtypes. To retain the old behavior, exclude the relevant entries before the concat operation.\n",
      "\n",
      "/home/josh/cmor462/ropacea/ropacea/Single_factor.py:67: FutureWarning:\n",
      "\n",
      "The behavior of DataFrame concatenation with empty or all-NA entries is deprecated. In a future version, this will no longer exclude empty or all-NA columns when determining the result dtypes. To retain the old behavior, exclude the relevant entries before the concat operation.\n",
      "\n"
     ]
    },
    {
     "name": "stdout",
     "output_type": "stream",
     "text": [
      "monthly_portfolio_return = 0.0335\n",
      "risk_free_return = 0.0238\n",
      "mark_date = datetime.date(2021, 8, 1)\n"
     ]
    },
    {
     "name": "stderr",
     "output_type": "stream",
     "text": [
      "/home/josh/cmor462/ropacea/ropacea/Single_factor.py:67: FutureWarning:\n",
      "\n",
      "The behavior of DataFrame concatenation with empty or all-NA entries is deprecated. In a future version, this will no longer exclude empty or all-NA columns when determining the result dtypes. To retain the old behavior, exclude the relevant entries before the concat operation.\n",
      "\n"
     ]
    },
    {
     "name": "stdout",
     "output_type": "stream",
     "text": [
      "monthly_portfolio_return = 0.0382\n",
      "risk_free_return = -0.0048\n",
      "mark_date = datetime.date(2021, 9, 1)\n"
     ]
    },
    {
     "name": "stderr",
     "output_type": "stream",
     "text": [
      "/home/josh/cmor462/ropacea/ropacea/Single_factor.py:67: FutureWarning:\n",
      "\n",
      "The behavior of DataFrame concatenation with empty or all-NA entries is deprecated. In a future version, this will no longer exclude empty or all-NA columns when determining the result dtypes. To retain the old behavior, exclude the relevant entries before the concat operation.\n",
      "\n"
     ]
    },
    {
     "name": "stdout",
     "output_type": "stream",
     "text": [
      "monthly_portfolio_return = -0.0493\n",
      "risk_free_return = -0.0154\n",
      "mark_date = datetime.date(2021, 10, 1)\n",
      "monthly_portfolio_return = 0.0872\n",
      "risk_free_return = -0.0049\n",
      "mark_date = datetime.date(2021, 11, 1)\n"
     ]
    },
    {
     "name": "stderr",
     "output_type": "stream",
     "text": [
      "/home/josh/cmor462/ropacea/ropacea/Single_factor.py:67: FutureWarning:\n",
      "\n",
      "The behavior of DataFrame concatenation with empty or all-NA entries is deprecated. In a future version, this will no longer exclude empty or all-NA columns when determining the result dtypes. To retain the old behavior, exclude the relevant entries before the concat operation.\n",
      "\n",
      "/home/josh/cmor462/ropacea/ropacea/Single_factor.py:67: FutureWarning:\n",
      "\n",
      "The behavior of DataFrame concatenation with empty or all-NA entries is deprecated. In a future version, this will no longer exclude empty or all-NA columns when determining the result dtypes. To retain the old behavior, exclude the relevant entries before the concat operation.\n",
      "\n"
     ]
    },
    {
     "name": "stdout",
     "output_type": "stream",
     "text": [
      "monthly_portfolio_return = 0.0068\n",
      "risk_free_return = 0.0125\n",
      "mark_date = datetime.date(2021, 12, 1)\n"
     ]
    },
    {
     "name": "stderr",
     "output_type": "stream",
     "text": [
      "/home/josh/cmor462/ropacea/ropacea/Single_factor.py:67: FutureWarning:\n",
      "\n",
      "The behavior of DataFrame concatenation with empty or all-NA entries is deprecated. In a future version, this will no longer exclude empty or all-NA columns when determining the result dtypes. To retain the old behavior, exclude the relevant entries before the concat operation.\n",
      "\n"
     ]
    },
    {
     "name": "stdout",
     "output_type": "stream",
     "text": [
      "monthly_portfolio_return = 0.0273\n",
      "risk_free_return = -0.0047\n",
      "========== SUMMARY ==========\n",
      "monthly_returns_bp_mean = 186.81\n",
      "monthly_returns_bp_std = 494.20\n",
      "annualized_mean_pct = 24.87\n",
      "annualized_std_pct = 17.12\n",
      "sharpe_ratio = 1.45\n",
      "mark_date = datetime.date(2017, 1, 1)\n"
     ]
    },
    {
     "name": "stderr",
     "output_type": "stream",
     "text": [
      "/home/josh/cmor462/ropacea/ropacea/Single_factor.py:67: FutureWarning:\n",
      "\n",
      "The behavior of DataFrame concatenation with empty or all-NA entries is deprecated. In a future version, this will no longer exclude empty or all-NA columns when determining the result dtypes. To retain the old behavior, exclude the relevant entries before the concat operation.\n",
      "\n"
     ]
    },
    {
     "name": "stdout",
     "output_type": "stream",
     "text": [
      "monthly_portfolio_return = 0.0459\n",
      "risk_free_return = 0.0022\n",
      "mark_date = datetime.date(2017, 2, 1)\n"
     ]
    },
    {
     "name": "stderr",
     "output_type": "stream",
     "text": [
      "/home/josh/cmor462/ropacea/ropacea/Single_factor.py:67: FutureWarning:\n",
      "\n",
      "The behavior of DataFrame concatenation with empty or all-NA entries is deprecated. In a future version, this will no longer exclude empty or all-NA columns when determining the result dtypes. To retain the old behavior, exclude the relevant entries before the concat operation.\n",
      "\n"
     ]
    },
    {
     "name": "stdout",
     "output_type": "stream",
     "text": [
      "monthly_portfolio_return = 0.0286\n",
      "risk_free_return = 0.0074\n",
      "mark_date = datetime.date(2017, 3, 1)\n"
     ]
    },
    {
     "name": "stderr",
     "output_type": "stream",
     "text": [
      "/home/josh/cmor462/ropacea/ropacea/Single_factor.py:67: FutureWarning:\n",
      "\n",
      "The behavior of DataFrame concatenation with empty or all-NA entries is deprecated. In a future version, this will no longer exclude empty or all-NA columns when determining the result dtypes. To retain the old behavior, exclude the relevant entries before the concat operation.\n",
      "\n"
     ]
    },
    {
     "name": "stdout",
     "output_type": "stream",
     "text": [
      "monthly_portfolio_return = 0.0287\n",
      "risk_free_return = 0.0024\n",
      "mark_date = datetime.date(2017, 4, 1)\n",
      "monthly_portfolio_return = 0.0023\n",
      "risk_free_return = 0.0111\n",
      "mark_date = datetime.date(2017, 5, 1)\n"
     ]
    },
    {
     "name": "stderr",
     "output_type": "stream",
     "text": [
      "/home/josh/cmor462/ropacea/ropacea/Single_factor.py:67: FutureWarning:\n",
      "\n",
      "The behavior of DataFrame concatenation with empty or all-NA entries is deprecated. In a future version, this will no longer exclude empty or all-NA columns when determining the result dtypes. To retain the old behavior, exclude the relevant entries before the concat operation.\n",
      "\n",
      "/home/josh/cmor462/ropacea/ropacea/Single_factor.py:67: FutureWarning:\n",
      "\n",
      "The behavior of DataFrame concatenation with empty or all-NA entries is deprecated. In a future version, this will no longer exclude empty or all-NA columns when determining the result dtypes. To retain the old behavior, exclude the relevant entries before the concat operation.\n",
      "\n"
     ]
    },
    {
     "name": "stdout",
     "output_type": "stream",
     "text": [
      "monthly_portfolio_return = 0.0525\n",
      "risk_free_return = 0.0079\n",
      "mark_date = datetime.date(2017, 6, 1)\n"
     ]
    },
    {
     "name": "stderr",
     "output_type": "stream",
     "text": [
      "/home/josh/cmor462/ropacea/ropacea/Single_factor.py:67: FutureWarning:\n",
      "\n",
      "The behavior of DataFrame concatenation with empty or all-NA entries is deprecated. In a future version, this will no longer exclude empty or all-NA columns when determining the result dtypes. To retain the old behavior, exclude the relevant entries before the concat operation.\n",
      "\n"
     ]
    },
    {
     "name": "stdout",
     "output_type": "stream",
     "text": [
      "monthly_portfolio_return = 0.0034\n",
      "risk_free_return = -0.0013\n",
      "mark_date = datetime.date(2017, 7, 1)\n"
     ]
    },
    {
     "name": "stderr",
     "output_type": "stream",
     "text": [
      "/home/josh/cmor462/ropacea/ropacea/Single_factor.py:67: FutureWarning:\n",
      "\n",
      "The behavior of DataFrame concatenation with empty or all-NA entries is deprecated. In a future version, this will no longer exclude empty or all-NA columns when determining the result dtypes. To retain the old behavior, exclude the relevant entries before the concat operation.\n",
      "\n"
     ]
    },
    {
     "name": "stdout",
     "output_type": "stream",
     "text": [
      "monthly_portfolio_return = 0.0386\n",
      "risk_free_return = -0.0000\n",
      "mark_date = datetime.date(2017, 8, 1)\n",
      "monthly_portfolio_return = 0.0203\n",
      "risk_free_return = 0.0171\n",
      "mark_date = datetime.date(2017, 9, 1)\n"
     ]
    },
    {
     "name": "stderr",
     "output_type": "stream",
     "text": [
      "/home/josh/cmor462/ropacea/ropacea/Single_factor.py:67: FutureWarning:\n",
      "\n",
      "The behavior of DataFrame concatenation with empty or all-NA entries is deprecated. In a future version, this will no longer exclude empty or all-NA columns when determining the result dtypes. To retain the old behavior, exclude the relevant entries before the concat operation.\n",
      "\n",
      "/home/josh/cmor462/ropacea/ropacea/Single_factor.py:67: FutureWarning:\n",
      "\n",
      "The behavior of DataFrame concatenation with empty or all-NA entries is deprecated. In a future version, this will no longer exclude empty or all-NA columns when determining the result dtypes. To retain the old behavior, exclude the relevant entries before the concat operation.\n",
      "\n"
     ]
    },
    {
     "name": "stdout",
     "output_type": "stream",
     "text": [
      "monthly_portfolio_return = 0.0255\n",
      "risk_free_return = -0.0172\n",
      "mark_date = datetime.date(2017, 10, 1)\n",
      "monthly_portfolio_return = 0.0849\n",
      "risk_free_return = -0.0011\n",
      "mark_date = datetime.date(2017, 11, 1)\n"
     ]
    },
    {
     "name": "stderr",
     "output_type": "stream",
     "text": [
      "/home/josh/cmor462/ropacea/ropacea/Single_factor.py:67: FutureWarning:\n",
      "\n",
      "The behavior of DataFrame concatenation with empty or all-NA entries is deprecated. In a future version, this will no longer exclude empty or all-NA columns when determining the result dtypes. To retain the old behavior, exclude the relevant entries before the concat operation.\n",
      "\n",
      "/home/josh/cmor462/ropacea/ropacea/Single_factor.py:67: FutureWarning:\n",
      "\n",
      "The behavior of DataFrame concatenation with empty or all-NA entries is deprecated. In a future version, this will no longer exclude empty or all-NA columns when determining the result dtypes. To retain the old behavior, exclude the relevant entries before the concat operation.\n",
      "\n"
     ]
    },
    {
     "name": "stdout",
     "output_type": "stream",
     "text": [
      "monthly_portfolio_return = 0.0183\n",
      "risk_free_return = -0.0026\n",
      "mark_date = datetime.date(2017, 12, 1)\n"
     ]
    },
    {
     "name": "stderr",
     "output_type": "stream",
     "text": [
      "/home/josh/cmor462/ropacea/ropacea/Single_factor.py:67: FutureWarning:\n",
      "\n",
      "The behavior of DataFrame concatenation with empty or all-NA entries is deprecated. In a future version, this will no longer exclude empty or all-NA columns when determining the result dtypes. To retain the old behavior, exclude the relevant entries before the concat operation.\n",
      "\n"
     ]
    },
    {
     "name": "stdout",
     "output_type": "stream",
     "text": [
      "monthly_portfolio_return = 0.0137\n",
      "risk_free_return = 0.0022\n",
      "mark_date = datetime.date(2018, 1, 1)\n"
     ]
    },
    {
     "name": "stderr",
     "output_type": "stream",
     "text": [
      "/home/josh/cmor462/ropacea/ropacea/Single_factor.py:67: FutureWarning:\n",
      "\n",
      "The behavior of DataFrame concatenation with empty or all-NA entries is deprecated. In a future version, this will no longer exclude empty or all-NA columns when determining the result dtypes. To retain the old behavior, exclude the relevant entries before the concat operation.\n",
      "\n"
     ]
    },
    {
     "name": "stdout",
     "output_type": "stream",
     "text": [
      "monthly_portfolio_return = 0.0978\n",
      "risk_free_return = -0.0236\n",
      "mark_date = datetime.date(2018, 2, 1)\n"
     ]
    },
    {
     "name": "stderr",
     "output_type": "stream",
     "text": [
      "/home/josh/cmor462/ropacea/ropacea/Single_factor.py:67: FutureWarning:\n",
      "\n",
      "The behavior of DataFrame concatenation with empty or all-NA entries is deprecated. In a future version, this will no longer exclude empty or all-NA columns when determining the result dtypes. To retain the old behavior, exclude the relevant entries before the concat operation.\n",
      "\n"
     ]
    },
    {
     "name": "stdout",
     "output_type": "stream",
     "text": [
      "monthly_portfolio_return = 0.0042\n",
      "risk_free_return = -0.0130\n",
      "mark_date = datetime.date(2018, 3, 1)\n",
      "monthly_portfolio_return = -0.0214\n",
      "risk_free_return = 0.0128\n",
      "mark_date = datetime.date(2018, 4, 1)\n"
     ]
    },
    {
     "name": "stderr",
     "output_type": "stream",
     "text": [
      "/home/josh/cmor462/ropacea/ropacea/Single_factor.py:67: FutureWarning:\n",
      "\n",
      "The behavior of DataFrame concatenation with empty or all-NA entries is deprecated. In a future version, this will no longer exclude empty or all-NA columns when determining the result dtypes. To retain the old behavior, exclude the relevant entries before the concat operation.\n",
      "\n",
      "/home/josh/cmor462/ropacea/ropacea/Single_factor.py:67: FutureWarning:\n",
      "\n",
      "The behavior of DataFrame concatenation with empty or all-NA entries is deprecated. In a future version, this will no longer exclude empty or all-NA columns when determining the result dtypes. To retain the old behavior, exclude the relevant entries before the concat operation.\n",
      "\n"
     ]
    },
    {
     "name": "stdout",
     "output_type": "stream",
     "text": [
      "monthly_portfolio_return = 0.0037\n",
      "risk_free_return = -0.0155\n",
      "mark_date = datetime.date(2018, 5, 1)\n",
      "monthly_portfolio_return = 0.0570\n",
      "risk_free_return = 0.0096\n",
      "mark_date = datetime.date(2018, 6, 1)\n"
     ]
    },
    {
     "name": "stderr",
     "output_type": "stream",
     "text": [
      "/home/josh/cmor462/ropacea/ropacea/Single_factor.py:67: FutureWarning:\n",
      "\n",
      "The behavior of DataFrame concatenation with empty or all-NA entries is deprecated. In a future version, this will no longer exclude empty or all-NA columns when determining the result dtypes. To retain the old behavior, exclude the relevant entries before the concat operation.\n",
      "\n",
      "/home/josh/cmor462/ropacea/ropacea/Single_factor.py:67: FutureWarning:\n",
      "\n",
      "The behavior of DataFrame concatenation with empty or all-NA entries is deprecated. In a future version, this will no longer exclude empty or all-NA columns when determining the result dtypes. To retain the old behavior, exclude the relevant entries before the concat operation.\n",
      "\n"
     ]
    },
    {
     "name": "stdout",
     "output_type": "stream",
     "text": [
      "monthly_portfolio_return = -0.0145\n",
      "risk_free_return = 0.0023\n",
      "mark_date = datetime.date(2018, 7, 1)\n"
     ]
    },
    {
     "name": "stderr",
     "output_type": "stream",
     "text": [
      "/home/josh/cmor462/ropacea/ropacea/Single_factor.py:67: FutureWarning:\n",
      "\n",
      "The behavior of DataFrame concatenation with empty or all-NA entries is deprecated. In a future version, this will no longer exclude empty or all-NA columns when determining the result dtypes. To retain the old behavior, exclude the relevant entries before the concat operation.\n",
      "\n"
     ]
    },
    {
     "name": "stdout",
     "output_type": "stream",
     "text": [
      "monthly_portfolio_return = 0.0366\n",
      "risk_free_return = -0.0051\n",
      "mark_date = datetime.date(2018, 8, 1)\n"
     ]
    },
    {
     "name": "stderr",
     "output_type": "stream",
     "text": [
      "/home/josh/cmor462/ropacea/ropacea/Single_factor.py:67: FutureWarning:\n",
      "\n",
      "The behavior of DataFrame concatenation with empty or all-NA entries is deprecated. In a future version, this will no longer exclude empty or all-NA columns when determining the result dtypes. To retain the old behavior, exclude the relevant entries before the concat operation.\n",
      "\n"
     ]
    },
    {
     "name": "stdout",
     "output_type": "stream",
     "text": [
      "monthly_portfolio_return = 0.0571\n",
      "risk_free_return = 0.0101\n",
      "mark_date = datetime.date(2018, 9, 1)\n"
     ]
    },
    {
     "name": "stderr",
     "output_type": "stream",
     "text": [
      "/home/josh/cmor462/ropacea/ropacea/Single_factor.py:67: FutureWarning:\n",
      "\n",
      "The behavior of DataFrame concatenation with empty or all-NA entries is deprecated. In a future version, this will no longer exclude empty or all-NA columns when determining the result dtypes. To retain the old behavior, exclude the relevant entries before the concat operation.\n",
      "\n"
     ]
    },
    {
     "name": "stdout",
     "output_type": "stream",
     "text": [
      "monthly_portfolio_return = 0.0118\n",
      "risk_free_return = -0.0148\n",
      "mark_date = datetime.date(2018, 10, 1)\n"
     ]
    },
    {
     "name": "stderr",
     "output_type": "stream",
     "text": [
      "/home/josh/cmor462/ropacea/ropacea/Single_factor.py:67: FutureWarning:\n",
      "\n",
      "The behavior of DataFrame concatenation with empty or all-NA entries is deprecated. In a future version, this will no longer exclude empty or all-NA columns when determining the result dtypes. To retain the old behavior, exclude the relevant entries before the concat operation.\n",
      "\n"
     ]
    },
    {
     "name": "stdout",
     "output_type": "stream",
     "text": [
      "monthly_portfolio_return = -0.0885\n",
      "risk_free_return = -0.0043\n",
      "mark_date = datetime.date(2018, 11, 1)\n"
     ]
    },
    {
     "name": "stderr",
     "output_type": "stream",
     "text": [
      "/home/josh/cmor462/ropacea/ropacea/Single_factor.py:67: FutureWarning:\n",
      "\n",
      "The behavior of DataFrame concatenation with empty or all-NA entries is deprecated. In a future version, this will no longer exclude empty or all-NA columns when determining the result dtypes. To retain the old behavior, exclude the relevant entries before the concat operation.\n",
      "\n"
     ]
    },
    {
     "name": "stdout",
     "output_type": "stream",
     "text": [
      "monthly_portfolio_return = 0.0092\n",
      "risk_free_return = 0.0149\n",
      "mark_date = datetime.date(2018, 12, 1)\n",
      "monthly_portfolio_return = -0.0830\n",
      "risk_free_return = 0.0286\n",
      "mark_date = datetime.date(2019, 1, 1)\n"
     ]
    },
    {
     "name": "stderr",
     "output_type": "stream",
     "text": [
      "/home/josh/cmor462/ropacea/ropacea/Single_factor.py:67: FutureWarning:\n",
      "\n",
      "The behavior of DataFrame concatenation with empty or all-NA entries is deprecated. In a future version, this will no longer exclude empty or all-NA columns when determining the result dtypes. To retain the old behavior, exclude the relevant entries before the concat operation.\n",
      "\n",
      "/home/josh/cmor462/ropacea/ropacea/Single_factor.py:67: FutureWarning:\n",
      "\n",
      "The behavior of DataFrame concatenation with empty or all-NA entries is deprecated. In a future version, this will no longer exclude empty or all-NA columns when determining the result dtypes. To retain the old behavior, exclude the relevant entries before the concat operation.\n",
      "\n"
     ]
    },
    {
     "name": "stdout",
     "output_type": "stream",
     "text": [
      "monthly_portfolio_return = 0.0585\n",
      "risk_free_return = 0.0071\n",
      "mark_date = datetime.date(2019, 2, 1)\n",
      "monthly_portfolio_return = 0.0660\n",
      "risk_free_return = -0.0043\n",
      "mark_date = datetime.date(2019, 3, 1)\n"
     ]
    },
    {
     "name": "stderr",
     "output_type": "stream",
     "text": [
      "/home/josh/cmor462/ropacea/ropacea/Single_factor.py:67: FutureWarning:\n",
      "\n",
      "The behavior of DataFrame concatenation with empty or all-NA entries is deprecated. In a future version, this will no longer exclude empty or all-NA columns when determining the result dtypes. To retain the old behavior, exclude the relevant entries before the concat operation.\n",
      "\n",
      "/home/josh/cmor462/ropacea/ropacea/Single_factor.py:67: FutureWarning:\n",
      "\n",
      "The behavior of DataFrame concatenation with empty or all-NA entries is deprecated. In a future version, this will no longer exclude empty or all-NA columns when determining the result dtypes. To retain the old behavior, exclude the relevant entries before the concat operation.\n",
      "\n"
     ]
    },
    {
     "name": "stdout",
     "output_type": "stream",
     "text": [
      "monthly_portfolio_return = 0.0423\n",
      "risk_free_return = 0.0294\n",
      "mark_date = datetime.date(2019, 4, 1)\n"
     ]
    },
    {
     "name": "stderr",
     "output_type": "stream",
     "text": [
      "/home/josh/cmor462/ropacea/ropacea/Single_factor.py:67: FutureWarning:\n",
      "\n",
      "The behavior of DataFrame concatenation with empty or all-NA entries is deprecated. In a future version, this will no longer exclude empty or all-NA columns when determining the result dtypes. To retain the old behavior, exclude the relevant entries before the concat operation.\n",
      "\n"
     ]
    },
    {
     "name": "stdout",
     "output_type": "stream",
     "text": [
      "monthly_portfolio_return = 0.0506\n",
      "risk_free_return = -0.0062\n",
      "mark_date = datetime.date(2019, 5, 1)\n",
      "monthly_portfolio_return = -0.0646\n",
      "risk_free_return = 0.0319\n",
      "mark_date = datetime.date(2019, 6, 1)\n"
     ]
    },
    {
     "name": "stderr",
     "output_type": "stream",
     "text": [
      "/home/josh/cmor462/ropacea/ropacea/Single_factor.py:67: FutureWarning:\n",
      "\n",
      "The behavior of DataFrame concatenation with empty or all-NA entries is deprecated. In a future version, this will no longer exclude empty or all-NA columns when determining the result dtypes. To retain the old behavior, exclude the relevant entries before the concat operation.\n",
      "\n",
      "/home/josh/cmor462/ropacea/ropacea/Single_factor.py:67: FutureWarning:\n",
      "\n",
      "The behavior of DataFrame concatenation with empty or all-NA entries is deprecated. In a future version, this will no longer exclude empty or all-NA columns when determining the result dtypes. To retain the old behavior, exclude the relevant entries before the concat operation.\n",
      "\n"
     ]
    },
    {
     "name": "stdout",
     "output_type": "stream",
     "text": [
      "monthly_portfolio_return = 0.0778\n",
      "risk_free_return = 0.0121\n",
      "mark_date = datetime.date(2019, 7, 1)\n",
      "monthly_portfolio_return = 0.0279\n",
      "risk_free_return = 0.0034\n",
      "mark_date = datetime.date(2019, 8, 1)\n"
     ]
    },
    {
     "name": "stderr",
     "output_type": "stream",
     "text": [
      "/home/josh/cmor462/ropacea/ropacea/Single_factor.py:67: FutureWarning:\n",
      "\n",
      "The behavior of DataFrame concatenation with empty or all-NA entries is deprecated. In a future version, this will no longer exclude empty or all-NA columns when determining the result dtypes. To retain the old behavior, exclude the relevant entries before the concat operation.\n",
      "\n",
      "/home/josh/cmor462/ropacea/ropacea/Single_factor.py:67: FutureWarning:\n",
      "\n",
      "The behavior of DataFrame concatenation with empty or all-NA entries is deprecated. In a future version, this will no longer exclude empty or all-NA columns when determining the result dtypes. To retain the old behavior, exclude the relevant entries before the concat operation.\n",
      "\n"
     ]
    },
    {
     "name": "stdout",
     "output_type": "stream",
     "text": [
      "monthly_portfolio_return = -0.0116\n",
      "risk_free_return = 0.0403\n",
      "mark_date = datetime.date(2019, 9, 1)\n"
     ]
    },
    {
     "name": "stderr",
     "output_type": "stream",
     "text": [
      "/home/josh/cmor462/ropacea/ropacea/Single_factor.py:67: FutureWarning:\n",
      "\n",
      "The behavior of DataFrame concatenation with empty or all-NA entries is deprecated. In a future version, this will no longer exclude empty or all-NA columns when determining the result dtypes. To retain the old behavior, exclude the relevant entries before the concat operation.\n",
      "\n"
     ]
    },
    {
     "name": "stdout",
     "output_type": "stream",
     "text": [
      "monthly_portfolio_return = 0.0055\n",
      "risk_free_return = -0.0139\n",
      "mark_date = datetime.date(2019, 10, 1)\n"
     ]
    },
    {
     "name": "stderr",
     "output_type": "stream",
     "text": [
      "/home/josh/cmor462/ropacea/ropacea/Single_factor.py:67: FutureWarning:\n",
      "\n",
      "The behavior of DataFrame concatenation with empty or all-NA entries is deprecated. In a future version, this will no longer exclude empty or all-NA columns when determining the result dtypes. To retain the old behavior, exclude the relevant entries before the concat operation.\n",
      "\n"
     ]
    },
    {
     "name": "stdout",
     "output_type": "stream",
     "text": [
      "monthly_portfolio_return = 0.0024\n",
      "risk_free_return = -0.0007\n",
      "mark_date = datetime.date(2019, 11, 1)\n"
     ]
    },
    {
     "name": "stderr",
     "output_type": "stream",
     "text": [
      "/home/josh/cmor462/ropacea/ropacea/Single_factor.py:67: FutureWarning:\n",
      "\n",
      "The behavior of DataFrame concatenation with empty or all-NA entries is deprecated. In a future version, this will no longer exclude empty or all-NA columns when determining the result dtypes. To retain the old behavior, exclude the relevant entries before the concat operation.\n",
      "\n"
     ]
    },
    {
     "name": "stdout",
     "output_type": "stream",
     "text": [
      "monthly_portfolio_return = 0.0510\n",
      "risk_free_return = -0.0074\n",
      "mark_date = datetime.date(2019, 12, 1)\n"
     ]
    },
    {
     "name": "stderr",
     "output_type": "stream",
     "text": [
      "/home/josh/cmor462/ropacea/ropacea/Single_factor.py:67: FutureWarning:\n",
      "\n",
      "The behavior of DataFrame concatenation with empty or all-NA entries is deprecated. In a future version, this will no longer exclude empty or all-NA columns when determining the result dtypes. To retain the old behavior, exclude the relevant entries before the concat operation.\n",
      "\n"
     ]
    },
    {
     "name": "stdout",
     "output_type": "stream",
     "text": [
      "monthly_portfolio_return = 0.0486\n",
      "risk_free_return = -0.0113\n",
      "mark_date = datetime.date(2020, 1, 1)\n",
      "monthly_portfolio_return = 0.0317\n",
      "risk_free_return = 0.0392\n",
      "mark_date = datetime.date(2020, 2, 1)\n"
     ]
    },
    {
     "name": "stderr",
     "output_type": "stream",
     "text": [
      "/home/josh/cmor462/ropacea/ropacea/Single_factor.py:67: FutureWarning:\n",
      "\n",
      "The behavior of DataFrame concatenation with empty or all-NA entries is deprecated. In a future version, this will no longer exclude empty or all-NA columns when determining the result dtypes. To retain the old behavior, exclude the relevant entries before the concat operation.\n",
      "\n",
      "/home/josh/cmor462/ropacea/ropacea/Single_factor.py:67: FutureWarning:\n",
      "\n",
      "The behavior of DataFrame concatenation with empty or all-NA entries is deprecated. In a future version, this will no longer exclude empty or all-NA columns when determining the result dtypes. To retain the old behavior, exclude the relevant entries before the concat operation.\n",
      "\n"
     ]
    },
    {
     "name": "stdout",
     "output_type": "stream",
     "text": [
      "monthly_portfolio_return = -0.0664\n",
      "risk_free_return = 0.0299\n",
      "mark_date = datetime.date(2020, 3, 1)\n",
      "monthly_portfolio_return = -0.0809\n",
      "risk_free_return = 0.0397\n",
      "mark_date = datetime.date(2020, 4, 1)\n"
     ]
    },
    {
     "name": "stderr",
     "output_type": "stream",
     "text": [
      "/home/josh/cmor462/ropacea/ropacea/Single_factor.py:67: FutureWarning:\n",
      "\n",
      "The behavior of DataFrame concatenation with empty or all-NA entries is deprecated. In a future version, this will no longer exclude empty or all-NA columns when determining the result dtypes. To retain the old behavior, exclude the relevant entries before the concat operation.\n",
      "\n",
      "/home/josh/cmor462/ropacea/ropacea/Single_factor.py:67: FutureWarning:\n",
      "\n",
      "The behavior of DataFrame concatenation with empty or all-NA entries is deprecated. In a future version, this will no longer exclude empty or all-NA columns when determining the result dtypes. To retain the old behavior, exclude the relevant entries before the concat operation.\n",
      "\n"
     ]
    },
    {
     "name": "stdout",
     "output_type": "stream",
     "text": [
      "monthly_portfolio_return = 0.1238\n",
      "risk_free_return = 0.0050\n",
      "mark_date = datetime.date(2020, 5, 1)\n",
      "monthly_portfolio_return = 0.0465\n",
      "risk_free_return = 0.0007\n",
      "mark_date = datetime.date(2020, 6, 1)\n"
     ]
    },
    {
     "name": "stderr",
     "output_type": "stream",
     "text": [
      "/home/josh/cmor462/ropacea/ropacea/Single_factor.py:67: FutureWarning:\n",
      "\n",
      "The behavior of DataFrame concatenation with empty or all-NA entries is deprecated. In a future version, this will no longer exclude empty or all-NA columns when determining the result dtypes. To retain the old behavior, exclude the relevant entries before the concat operation.\n",
      "\n",
      "/home/josh/cmor462/ropacea/ropacea/Single_factor.py:67: FutureWarning:\n",
      "\n",
      "The behavior of DataFrame concatenation with empty or all-NA entries is deprecated. In a future version, this will no longer exclude empty or all-NA columns when determining the result dtypes. To retain the old behavior, exclude the relevant entries before the concat operation.\n",
      "\n",
      "/home/josh/cmor462/ropacea/ropacea/Single_factor.py:67: FutureWarning:\n",
      "\n",
      "The behavior of DataFrame concatenation with empty or all-NA entries is deprecated. In a future version, this will no longer exclude empty or all-NA columns when determining the result dtypes. To retain the old behavior, exclude the relevant entries before the concat operation.\n",
      "\n"
     ]
    },
    {
     "name": "stdout",
     "output_type": "stream",
     "text": [
      "monthly_portfolio_return = 0.0441\n",
      "risk_free_return = 0.0004\n",
      "mark_date = datetime.date(2020, 7, 1)\n",
      "monthly_portfolio_return = 0.0438\n",
      "risk_free_return = 0.0128\n",
      "mark_date = datetime.date(2020, 8, 1)\n"
     ]
    },
    {
     "name": "stderr",
     "output_type": "stream",
     "text": [
      "/home/josh/cmor462/ropacea/ropacea/Single_factor.py:67: FutureWarning:\n",
      "\n",
      "The behavior of DataFrame concatenation with empty or all-NA entries is deprecated. In a future version, this will no longer exclude empty or all-NA columns when determining the result dtypes. To retain the old behavior, exclude the relevant entries before the concat operation.\n",
      "\n"
     ]
    },
    {
     "name": "stdout",
     "output_type": "stream",
     "text": [
      "monthly_portfolio_return = 0.0975\n",
      "risk_free_return = -0.0147\n",
      "mark_date = datetime.date(2020, 9, 1)\n"
     ]
    },
    {
     "name": "stderr",
     "output_type": "stream",
     "text": [
      "/home/josh/cmor462/ropacea/ropacea/Single_factor.py:67: FutureWarning:\n",
      "\n",
      "The behavior of DataFrame concatenation with empty or all-NA entries is deprecated. In a future version, this will no longer exclude empty or all-NA columns when determining the result dtypes. To retain the old behavior, exclude the relevant entries before the concat operation.\n",
      "\n"
     ]
    },
    {
     "name": "stdout",
     "output_type": "stream",
     "text": [
      "monthly_portfolio_return = -0.0221\n",
      "risk_free_return = 0.0026\n",
      "mark_date = datetime.date(2020, 10, 1)\n"
     ]
    },
    {
     "name": "stderr",
     "output_type": "stream",
     "text": [
      "/home/josh/cmor462/ropacea/ropacea/Single_factor.py:67: FutureWarning:\n",
      "\n",
      "The behavior of DataFrame concatenation with empty or all-NA entries is deprecated. In a future version, this will no longer exclude empty or all-NA columns when determining the result dtypes. To retain the old behavior, exclude the relevant entries before the concat operation.\n",
      "\n"
     ]
    },
    {
     "name": "stdout",
     "output_type": "stream",
     "text": [
      "monthly_portfolio_return = -0.0421\n",
      "risk_free_return = -0.0173\n",
      "mark_date = datetime.date(2020, 11, 1)\n",
      "monthly_portfolio_return = 0.0745\n",
      "risk_free_return = 0.0040\n",
      "mark_date = datetime.date(2020, 12, 1)\n"
     ]
    },
    {
     "name": "stderr",
     "output_type": "stream",
     "text": [
      "/home/josh/cmor462/ropacea/ropacea/Single_factor.py:67: FutureWarning:\n",
      "\n",
      "The behavior of DataFrame concatenation with empty or all-NA entries is deprecated. In a future version, this will no longer exclude empty or all-NA columns when determining the result dtypes. To retain the old behavior, exclude the relevant entries before the concat operation.\n",
      "\n",
      "/home/josh/cmor462/ropacea/ropacea/Single_factor.py:67: FutureWarning:\n",
      "\n",
      "The behavior of DataFrame concatenation with empty or all-NA entries is deprecated. In a future version, this will no longer exclude empty or all-NA columns when determining the result dtypes. To retain the old behavior, exclude the relevant entries before the concat operation.\n",
      "\n"
     ]
    },
    {
     "name": "stdout",
     "output_type": "stream",
     "text": [
      "monthly_portfolio_return = 0.0299\n",
      "risk_free_return = -0.0050\n",
      "mark_date = datetime.date(2021, 1, 1)\n",
      "monthly_portfolio_return = -0.0009\n",
      "risk_free_return = -0.0107\n",
      "mark_date = datetime.date(2021, 2, 1)\n"
     ]
    },
    {
     "name": "stderr",
     "output_type": "stream",
     "text": [
      "/home/josh/cmor462/ropacea/ropacea/Single_factor.py:67: FutureWarning:\n",
      "\n",
      "The behavior of DataFrame concatenation with empty or all-NA entries is deprecated. In a future version, this will no longer exclude empty or all-NA columns when determining the result dtypes. To retain the old behavior, exclude the relevant entries before the concat operation.\n",
      "\n",
      "/home/josh/cmor462/ropacea/ropacea/Single_factor.py:67: FutureWarning:\n",
      "\n",
      "The behavior of DataFrame concatenation with empty or all-NA entries is deprecated. In a future version, this will no longer exclude empty or all-NA columns when determining the result dtypes. To retain the old behavior, exclude the relevant entries before the concat operation.\n",
      "\n"
     ]
    },
    {
     "name": "stdout",
     "output_type": "stream",
     "text": [
      "monthly_portfolio_return = 0.0232\n",
      "risk_free_return = -0.0254\n",
      "mark_date = datetime.date(2021, 3, 1)\n",
      "monthly_portfolio_return = 0.0273\n",
      "risk_free_return = -0.0293\n",
      "mark_date = datetime.date(2021, 4, 1)\n"
     ]
    },
    {
     "name": "stderr",
     "output_type": "stream",
     "text": [
      "/home/josh/cmor462/ropacea/ropacea/Single_factor.py:67: FutureWarning:\n",
      "\n",
      "The behavior of DataFrame concatenation with empty or all-NA entries is deprecated. In a future version, this will no longer exclude empty or all-NA columns when determining the result dtypes. To retain the old behavior, exclude the relevant entries before the concat operation.\n",
      "\n",
      "/home/josh/cmor462/ropacea/ropacea/Single_factor.py:67: FutureWarning:\n",
      "\n",
      "The behavior of DataFrame concatenation with empty or all-NA entries is deprecated. In a future version, this will no longer exclude empty or all-NA columns when determining the result dtypes. To retain the old behavior, exclude the relevant entries before the concat operation.\n",
      "\n"
     ]
    },
    {
     "name": "stdout",
     "output_type": "stream",
     "text": [
      "monthly_portfolio_return = 0.0488\n",
      "risk_free_return = 0.0119\n",
      "mark_date = datetime.date(2021, 5, 1)\n",
      "monthly_portfolio_return = 0.0070\n",
      "risk_free_return = 0.0034\n",
      "mark_date = datetime.date(2021, 6, 1)\n"
     ]
    },
    {
     "name": "stderr",
     "output_type": "stream",
     "text": [
      "/home/josh/cmor462/ropacea/ropacea/Single_factor.py:67: FutureWarning:\n",
      "\n",
      "The behavior of DataFrame concatenation with empty or all-NA entries is deprecated. In a future version, this will no longer exclude empty or all-NA columns when determining the result dtypes. To retain the old behavior, exclude the relevant entries before the concat operation.\n",
      "\n",
      "/home/josh/cmor462/ropacea/ropacea/Single_factor.py:67: FutureWarning:\n",
      "\n",
      "The behavior of DataFrame concatenation with empty or all-NA entries is deprecated. In a future version, this will no longer exclude empty or all-NA columns when determining the result dtypes. To retain the old behavior, exclude the relevant entries before the concat operation.\n",
      "\n"
     ]
    },
    {
     "name": "stdout",
     "output_type": "stream",
     "text": [
      "monthly_portfolio_return = 0.0581\n",
      "risk_free_return = 0.0141\n",
      "mark_date = datetime.date(2021, 7, 1)\n",
      "monthly_portfolio_return = 0.0340\n",
      "risk_free_return = 0.0238\n",
      "mark_date = datetime.date(2021, 8, 1)\n"
     ]
    },
    {
     "name": "stderr",
     "output_type": "stream",
     "text": [
      "/home/josh/cmor462/ropacea/ropacea/Single_factor.py:67: FutureWarning:\n",
      "\n",
      "The behavior of DataFrame concatenation with empty or all-NA entries is deprecated. In a future version, this will no longer exclude empty or all-NA columns when determining the result dtypes. To retain the old behavior, exclude the relevant entries before the concat operation.\n",
      "\n",
      "/home/josh/cmor462/ropacea/ropacea/Single_factor.py:67: FutureWarning:\n",
      "\n",
      "The behavior of DataFrame concatenation with empty or all-NA entries is deprecated. In a future version, this will no longer exclude empty or all-NA columns when determining the result dtypes. To retain the old behavior, exclude the relevant entries before the concat operation.\n",
      "\n"
     ]
    },
    {
     "name": "stdout",
     "output_type": "stream",
     "text": [
      "monthly_portfolio_return = 0.0417\n",
      "risk_free_return = -0.0048\n",
      "mark_date = datetime.date(2021, 9, 1)\n",
      "monthly_portfolio_return = -0.0558\n",
      "risk_free_return = -0.0154\n",
      "mark_date = datetime.date(2021, 10, 1)\n"
     ]
    },
    {
     "name": "stderr",
     "output_type": "stream",
     "text": [
      "/home/josh/cmor462/ropacea/ropacea/Single_factor.py:67: FutureWarning:\n",
      "\n",
      "The behavior of DataFrame concatenation with empty or all-NA entries is deprecated. In a future version, this will no longer exclude empty or all-NA columns when determining the result dtypes. To retain the old behavior, exclude the relevant entries before the concat operation.\n",
      "\n",
      "/home/josh/cmor462/ropacea/ropacea/Single_factor.py:67: FutureWarning:\n",
      "\n",
      "The behavior of DataFrame concatenation with empty or all-NA entries is deprecated. In a future version, this will no longer exclude empty or all-NA columns when determining the result dtypes. To retain the old behavior, exclude the relevant entries before the concat operation.\n",
      "\n"
     ]
    },
    {
     "name": "stdout",
     "output_type": "stream",
     "text": [
      "monthly_portfolio_return = 0.0966\n",
      "risk_free_return = -0.0049\n",
      "mark_date = datetime.date(2021, 11, 1)\n",
      "monthly_portfolio_return = 0.0182\n",
      "risk_free_return = 0.0125\n",
      "mark_date = datetime.date(2021, 12, 1)\n"
     ]
    },
    {
     "name": "stderr",
     "output_type": "stream",
     "text": [
      "/home/josh/cmor462/ropacea/ropacea/Single_factor.py:67: FutureWarning:\n",
      "\n",
      "The behavior of DataFrame concatenation with empty or all-NA entries is deprecated. In a future version, this will no longer exclude empty or all-NA columns when determining the result dtypes. To retain the old behavior, exclude the relevant entries before the concat operation.\n",
      "\n",
      "/home/josh/cmor462/ropacea/ropacea/Single_factor.py:67: FutureWarning:\n",
      "\n",
      "The behavior of DataFrame concatenation with empty or all-NA entries is deprecated. In a future version, this will no longer exclude empty or all-NA columns when determining the result dtypes. To retain the old behavior, exclude the relevant entries before the concat operation.\n",
      "\n"
     ]
    },
    {
     "name": "stdout",
     "output_type": "stream",
     "text": [
      "monthly_portfolio_return = 0.0192\n",
      "risk_free_return = -0.0047\n",
      "========== SUMMARY ==========\n",
      "monthly_returns_bp_mean = 201.15\n",
      "monthly_returns_bp_std = 516.64\n",
      "annualized_mean_pct = 27.00\n",
      "annualized_std_pct = 17.90\n",
      "sharpe_ratio = 1.51\n",
      "mark_date = datetime.date(2017, 1, 1)\n",
      "monthly_portfolio_return = 0.0454\n",
      "risk_free_return = 0.0022\n",
      "mark_date = datetime.date(2017, 2, 1)\n"
     ]
    },
    {
     "name": "stderr",
     "output_type": "stream",
     "text": [
      "/home/josh/cmor462/ropacea/ropacea/Single_factor.py:67: FutureWarning:\n",
      "\n",
      "The behavior of DataFrame concatenation with empty or all-NA entries is deprecated. In a future version, this will no longer exclude empty or all-NA columns when determining the result dtypes. To retain the old behavior, exclude the relevant entries before the concat operation.\n",
      "\n",
      "/home/josh/cmor462/ropacea/ropacea/Single_factor.py:67: FutureWarning:\n",
      "\n",
      "The behavior of DataFrame concatenation with empty or all-NA entries is deprecated. In a future version, this will no longer exclude empty or all-NA columns when determining the result dtypes. To retain the old behavior, exclude the relevant entries before the concat operation.\n",
      "\n"
     ]
    },
    {
     "name": "stdout",
     "output_type": "stream",
     "text": [
      "monthly_portfolio_return = 0.0238\n",
      "risk_free_return = 0.0074\n",
      "mark_date = datetime.date(2017, 3, 1)\n",
      "monthly_portfolio_return = 0.0335\n",
      "risk_free_return = 0.0024\n",
      "mark_date = datetime.date(2017, 4, 1)\n"
     ]
    },
    {
     "name": "stderr",
     "output_type": "stream",
     "text": [
      "/home/josh/cmor462/ropacea/ropacea/Single_factor.py:67: FutureWarning:\n",
      "\n",
      "The behavior of DataFrame concatenation with empty or all-NA entries is deprecated. In a future version, this will no longer exclude empty or all-NA columns when determining the result dtypes. To retain the old behavior, exclude the relevant entries before the concat operation.\n",
      "\n",
      "/home/josh/cmor462/ropacea/ropacea/Single_factor.py:67: FutureWarning:\n",
      "\n",
      "The behavior of DataFrame concatenation with empty or all-NA entries is deprecated. In a future version, this will no longer exclude empty or all-NA columns when determining the result dtypes. To retain the old behavior, exclude the relevant entries before the concat operation.\n",
      "\n"
     ]
    },
    {
     "name": "stdout",
     "output_type": "stream",
     "text": [
      "monthly_portfolio_return = 0.0035\n",
      "risk_free_return = 0.0111\n",
      "mark_date = datetime.date(2017, 5, 1)\n"
     ]
    },
    {
     "name": "stderr",
     "output_type": "stream",
     "text": [
      "/home/josh/cmor462/ropacea/ropacea/Single_factor.py:67: FutureWarning:\n",
      "\n",
      "The behavior of DataFrame concatenation with empty or all-NA entries is deprecated. In a future version, this will no longer exclude empty or all-NA columns when determining the result dtypes. To retain the old behavior, exclude the relevant entries before the concat operation.\n",
      "\n"
     ]
    },
    {
     "name": "stdout",
     "output_type": "stream",
     "text": [
      "monthly_portfolio_return = 0.0635\n",
      "risk_free_return = 0.0079\n",
      "mark_date = datetime.date(2017, 6, 1)\n"
     ]
    },
    {
     "name": "stderr",
     "output_type": "stream",
     "text": [
      "/home/josh/cmor462/ropacea/ropacea/Single_factor.py:67: FutureWarning:\n",
      "\n",
      "The behavior of DataFrame concatenation with empty or all-NA entries is deprecated. In a future version, this will no longer exclude empty or all-NA columns when determining the result dtypes. To retain the old behavior, exclude the relevant entries before the concat operation.\n",
      "\n"
     ]
    },
    {
     "name": "stdout",
     "output_type": "stream",
     "text": [
      "monthly_portfolio_return = 0.0023\n",
      "risk_free_return = -0.0013\n",
      "mark_date = datetime.date(2017, 7, 1)\n"
     ]
    },
    {
     "name": "stderr",
     "output_type": "stream",
     "text": [
      "/home/josh/cmor462/ropacea/ropacea/Single_factor.py:67: FutureWarning:\n",
      "\n",
      "The behavior of DataFrame concatenation with empty or all-NA entries is deprecated. In a future version, this will no longer exclude empty or all-NA columns when determining the result dtypes. To retain the old behavior, exclude the relevant entries before the concat operation.\n",
      "\n"
     ]
    },
    {
     "name": "stdout",
     "output_type": "stream",
     "text": [
      "monthly_portfolio_return = 0.0449\n",
      "risk_free_return = -0.0000\n",
      "mark_date = datetime.date(2017, 8, 1)\n"
     ]
    },
    {
     "name": "stderr",
     "output_type": "stream",
     "text": [
      "/home/josh/cmor462/ropacea/ropacea/Single_factor.py:67: FutureWarning:\n",
      "\n",
      "The behavior of DataFrame concatenation with empty or all-NA entries is deprecated. In a future version, this will no longer exclude empty or all-NA columns when determining the result dtypes. To retain the old behavior, exclude the relevant entries before the concat operation.\n",
      "\n"
     ]
    },
    {
     "name": "stdout",
     "output_type": "stream",
     "text": [
      "monthly_portfolio_return = 0.0221\n",
      "risk_free_return = 0.0171\n",
      "mark_date = datetime.date(2017, 9, 1)\n"
     ]
    },
    {
     "name": "stderr",
     "output_type": "stream",
     "text": [
      "/home/josh/cmor462/ropacea/ropacea/Single_factor.py:67: FutureWarning:\n",
      "\n",
      "The behavior of DataFrame concatenation with empty or all-NA entries is deprecated. In a future version, this will no longer exclude empty or all-NA columns when determining the result dtypes. To retain the old behavior, exclude the relevant entries before the concat operation.\n",
      "\n"
     ]
    },
    {
     "name": "stdout",
     "output_type": "stream",
     "text": [
      "monthly_portfolio_return = 0.0279\n",
      "risk_free_return = -0.0172\n",
      "mark_date = datetime.date(2017, 10, 1)\n",
      "monthly_portfolio_return = 0.0909\n",
      "risk_free_return = -0.0011\n",
      "mark_date = datetime.date(2017, 11, 1)\n"
     ]
    },
    {
     "name": "stderr",
     "output_type": "stream",
     "text": [
      "/home/josh/cmor462/ropacea/ropacea/Single_factor.py:67: FutureWarning:\n",
      "\n",
      "The behavior of DataFrame concatenation with empty or all-NA entries is deprecated. In a future version, this will no longer exclude empty or all-NA columns when determining the result dtypes. To retain the old behavior, exclude the relevant entries before the concat operation.\n",
      "\n",
      "/home/josh/cmor462/ropacea/ropacea/Single_factor.py:67: FutureWarning:\n",
      "\n",
      "The behavior of DataFrame concatenation with empty or all-NA entries is deprecated. In a future version, this will no longer exclude empty or all-NA columns when determining the result dtypes. To retain the old behavior, exclude the relevant entries before the concat operation.\n",
      "\n"
     ]
    },
    {
     "name": "stdout",
     "output_type": "stream",
     "text": [
      "monthly_portfolio_return = 0.0160\n",
      "risk_free_return = -0.0026\n",
      "mark_date = datetime.date(2017, 12, 1)\n",
      "monthly_portfolio_return = 0.0134\n",
      "risk_free_return = 0.0022\n",
      "mark_date = datetime.date(2018, 1, 1)\n"
     ]
    },
    {
     "name": "stderr",
     "output_type": "stream",
     "text": [
      "/home/josh/cmor462/ropacea/ropacea/Single_factor.py:67: FutureWarning:\n",
      "\n",
      "The behavior of DataFrame concatenation with empty or all-NA entries is deprecated. In a future version, this will no longer exclude empty or all-NA columns when determining the result dtypes. To retain the old behavior, exclude the relevant entries before the concat operation.\n",
      "\n",
      "/home/josh/cmor462/ropacea/ropacea/Single_factor.py:67: FutureWarning:\n",
      "\n",
      "The behavior of DataFrame concatenation with empty or all-NA entries is deprecated. In a future version, this will no longer exclude empty or all-NA columns when determining the result dtypes. To retain the old behavior, exclude the relevant entries before the concat operation.\n",
      "\n"
     ]
    },
    {
     "name": "stdout",
     "output_type": "stream",
     "text": [
      "monthly_portfolio_return = 0.1077\n",
      "risk_free_return = -0.0236\n",
      "mark_date = datetime.date(2018, 2, 1)\n",
      "monthly_portfolio_return = 0.0100\n",
      "risk_free_return = -0.0130\n",
      "mark_date = datetime.date(2018, 3, 1)\n"
     ]
    },
    {
     "name": "stderr",
     "output_type": "stream",
     "text": [
      "/home/josh/cmor462/ropacea/ropacea/Single_factor.py:67: FutureWarning:\n",
      "\n",
      "The behavior of DataFrame concatenation with empty or all-NA entries is deprecated. In a future version, this will no longer exclude empty or all-NA columns when determining the result dtypes. To retain the old behavior, exclude the relevant entries before the concat operation.\n",
      "\n",
      "/home/josh/cmor462/ropacea/ropacea/Single_factor.py:67: FutureWarning:\n",
      "\n",
      "The behavior of DataFrame concatenation with empty or all-NA entries is deprecated. In a future version, this will no longer exclude empty or all-NA columns when determining the result dtypes. To retain the old behavior, exclude the relevant entries before the concat operation.\n",
      "\n"
     ]
    },
    {
     "name": "stdout",
     "output_type": "stream",
     "text": [
      "monthly_portfolio_return = -0.0209\n",
      "risk_free_return = 0.0128\n",
      "mark_date = datetime.date(2018, 4, 1)\n",
      "monthly_portfolio_return = 0.0028\n",
      "risk_free_return = -0.0155\n",
      "mark_date = datetime.date(2018, 5, 1)\n"
     ]
    },
    {
     "name": "stderr",
     "output_type": "stream",
     "text": [
      "/home/josh/cmor462/ropacea/ropacea/Single_factor.py:67: FutureWarning:\n",
      "\n",
      "The behavior of DataFrame concatenation with empty or all-NA entries is deprecated. In a future version, this will no longer exclude empty or all-NA columns when determining the result dtypes. To retain the old behavior, exclude the relevant entries before the concat operation.\n",
      "\n",
      "/home/josh/cmor462/ropacea/ropacea/Single_factor.py:67: FutureWarning:\n",
      "\n",
      "The behavior of DataFrame concatenation with empty or all-NA entries is deprecated. In a future version, this will no longer exclude empty or all-NA columns when determining the result dtypes. To retain the old behavior, exclude the relevant entries before the concat operation.\n",
      "\n"
     ]
    },
    {
     "name": "stdout",
     "output_type": "stream",
     "text": [
      "monthly_portfolio_return = 0.0648\n",
      "risk_free_return = 0.0096\n",
      "mark_date = datetime.date(2018, 6, 1)\n"
     ]
    },
    {
     "name": "stderr",
     "output_type": "stream",
     "text": [
      "/home/josh/cmor462/ropacea/ropacea/Single_factor.py:67: FutureWarning:\n",
      "\n",
      "The behavior of DataFrame concatenation with empty or all-NA entries is deprecated. In a future version, this will no longer exclude empty or all-NA columns when determining the result dtypes. To retain the old behavior, exclude the relevant entries before the concat operation.\n",
      "\n"
     ]
    },
    {
     "name": "stdout",
     "output_type": "stream",
     "text": [
      "monthly_portfolio_return = -0.0165\n",
      "risk_free_return = 0.0023\n",
      "mark_date = datetime.date(2018, 7, 1)\n",
      "monthly_portfolio_return = 0.0333\n"
     ]
    },
    {
     "name": "stderr",
     "output_type": "stream",
     "text": [
      "/home/josh/cmor462/ropacea/ropacea/Single_factor.py:67: FutureWarning:\n",
      "\n",
      "The behavior of DataFrame concatenation with empty or all-NA entries is deprecated. In a future version, this will no longer exclude empty or all-NA columns when determining the result dtypes. To retain the old behavior, exclude the relevant entries before the concat operation.\n",
      "\n",
      "/home/josh/cmor462/ropacea/ropacea/Single_factor.py:67: FutureWarning:\n",
      "\n",
      "The behavior of DataFrame concatenation with empty or all-NA entries is deprecated. In a future version, this will no longer exclude empty or all-NA columns when determining the result dtypes. To retain the old behavior, exclude the relevant entries before the concat operation.\n",
      "\n"
     ]
    },
    {
     "name": "stdout",
     "output_type": "stream",
     "text": [
      "risk_free_return = -0.0051\n",
      "mark_date = datetime.date(2018, 8, 1)\n",
      "monthly_portfolio_return = 0.0622\n",
      "risk_free_return = 0.0101\n",
      "mark_date = datetime.date(2018, 9, 1)\n"
     ]
    },
    {
     "name": "stderr",
     "output_type": "stream",
     "text": [
      "/home/josh/cmor462/ropacea/ropacea/Single_factor.py:67: FutureWarning:\n",
      "\n",
      "The behavior of DataFrame concatenation with empty or all-NA entries is deprecated. In a future version, this will no longer exclude empty or all-NA columns when determining the result dtypes. To retain the old behavior, exclude the relevant entries before the concat operation.\n",
      "\n",
      "/home/josh/cmor462/ropacea/ropacea/Single_factor.py:67: FutureWarning:\n",
      "\n",
      "The behavior of DataFrame concatenation with empty or all-NA entries is deprecated. In a future version, this will no longer exclude empty or all-NA columns when determining the result dtypes. To retain the old behavior, exclude the relevant entries before the concat operation.\n",
      "\n"
     ]
    },
    {
     "name": "stdout",
     "output_type": "stream",
     "text": [
      "monthly_portfolio_return = 0.0084\n",
      "risk_free_return = -0.0148\n",
      "mark_date = datetime.date(2018, 10, 1)\n",
      "monthly_portfolio_return = -0.0961\n",
      "risk_free_return = -0.0043\n",
      "mark_date = datetime.date(2018, 11, 1)\n"
     ]
    },
    {
     "name": "stderr",
     "output_type": "stream",
     "text": [
      "/home/josh/cmor462/ropacea/ropacea/Single_factor.py:67: FutureWarning:\n",
      "\n",
      "The behavior of DataFrame concatenation with empty or all-NA entries is deprecated. In a future version, this will no longer exclude empty or all-NA columns when determining the result dtypes. To retain the old behavior, exclude the relevant entries before the concat operation.\n",
      "\n",
      "/home/josh/cmor462/ropacea/ropacea/Single_factor.py:67: FutureWarning:\n",
      "\n",
      "The behavior of DataFrame concatenation with empty or all-NA entries is deprecated. In a future version, this will no longer exclude empty or all-NA columns when determining the result dtypes. To retain the old behavior, exclude the relevant entries before the concat operation.\n",
      "\n"
     ]
    },
    {
     "name": "stdout",
     "output_type": "stream",
     "text": [
      "monthly_portfolio_return = -0.0016\n",
      "risk_free_return = 0.0149\n",
      "mark_date = datetime.date(2018, 12, 1)\n",
      "monthly_portfolio_return = -0.0872\n",
      "risk_free_return = 0.0286\n",
      "mark_date = datetime.date(2019, 1, 1)\n"
     ]
    },
    {
     "name": "stderr",
     "output_type": "stream",
     "text": [
      "/home/josh/cmor462/ropacea/ropacea/Single_factor.py:67: FutureWarning:\n",
      "\n",
      "The behavior of DataFrame concatenation with empty or all-NA entries is deprecated. In a future version, this will no longer exclude empty or all-NA columns when determining the result dtypes. To retain the old behavior, exclude the relevant entries before the concat operation.\n",
      "\n",
      "/home/josh/cmor462/ropacea/ropacea/Single_factor.py:67: FutureWarning:\n",
      "\n",
      "The behavior of DataFrame concatenation with empty or all-NA entries is deprecated. In a future version, this will no longer exclude empty or all-NA columns when determining the result dtypes. To retain the old behavior, exclude the relevant entries before the concat operation.\n",
      "\n"
     ]
    },
    {
     "name": "stdout",
     "output_type": "stream",
     "text": [
      "monthly_portfolio_return = 0.0609\n",
      "risk_free_return = 0.0071\n",
      "mark_date = datetime.date(2019, 2, 1)\n",
      "monthly_portfolio_return = 0.0653\n",
      "risk_free_return = -0.0043\n",
      "mark_date = datetime.date(2019, 3, 1)\n"
     ]
    },
    {
     "name": "stderr",
     "output_type": "stream",
     "text": [
      "/home/josh/cmor462/ropacea/ropacea/Single_factor.py:67: FutureWarning:\n",
      "\n",
      "The behavior of DataFrame concatenation with empty or all-NA entries is deprecated. In a future version, this will no longer exclude empty or all-NA columns when determining the result dtypes. To retain the old behavior, exclude the relevant entries before the concat operation.\n",
      "\n",
      "/home/josh/cmor462/ropacea/ropacea/Single_factor.py:67: FutureWarning:\n",
      "\n",
      "The behavior of DataFrame concatenation with empty or all-NA entries is deprecated. In a future version, this will no longer exclude empty or all-NA columns when determining the result dtypes. To retain the old behavior, exclude the relevant entries before the concat operation.\n",
      "\n"
     ]
    },
    {
     "name": "stdout",
     "output_type": "stream",
     "text": [
      "monthly_portfolio_return = 0.0482\n",
      "risk_free_return = 0.0294\n",
      "mark_date = datetime.date(2019, 4, 1)\n",
      "monthly_portfolio_return = 0.0541\n",
      "risk_free_return = -0.0062\n",
      "mark_date = datetime.date(2019, 5, 1)\n"
     ]
    },
    {
     "name": "stderr",
     "output_type": "stream",
     "text": [
      "/home/josh/cmor462/ropacea/ropacea/Single_factor.py:67: FutureWarning:\n",
      "\n",
      "The behavior of DataFrame concatenation with empty or all-NA entries is deprecated. In a future version, this will no longer exclude empty or all-NA columns when determining the result dtypes. To retain the old behavior, exclude the relevant entries before the concat operation.\n",
      "\n",
      "/home/josh/cmor462/ropacea/ropacea/Single_factor.py:67: FutureWarning:\n",
      "\n",
      "The behavior of DataFrame concatenation with empty or all-NA entries is deprecated. In a future version, this will no longer exclude empty or all-NA columns when determining the result dtypes. To retain the old behavior, exclude the relevant entries before the concat operation.\n",
      "\n"
     ]
    },
    {
     "name": "stdout",
     "output_type": "stream",
     "text": [
      "monthly_portfolio_return = -0.0699\n",
      "risk_free_return = 0.0319\n",
      "mark_date = datetime.date(2019, 6, 1)\n",
      "monthly_portfolio_return = 0.0810\n",
      "risk_free_return = 0.0121\n",
      "mark_date = datetime.date(2019, 7, 1)\n"
     ]
    },
    {
     "name": "stderr",
     "output_type": "stream",
     "text": [
      "/home/josh/cmor462/ropacea/ropacea/Single_factor.py:67: FutureWarning:\n",
      "\n",
      "The behavior of DataFrame concatenation with empty or all-NA entries is deprecated. In a future version, this will no longer exclude empty or all-NA columns when determining the result dtypes. To retain the old behavior, exclude the relevant entries before the concat operation.\n",
      "\n",
      "/home/josh/cmor462/ropacea/ropacea/Single_factor.py:67: FutureWarning:\n",
      "\n",
      "The behavior of DataFrame concatenation with empty or all-NA entries is deprecated. In a future version, this will no longer exclude empty or all-NA columns when determining the result dtypes. To retain the old behavior, exclude the relevant entries before the concat operation.\n",
      "\n"
     ]
    },
    {
     "name": "stdout",
     "output_type": "stream",
     "text": [
      "monthly_portfolio_return = 0.0289\n",
      "risk_free_return = 0.0034\n",
      "mark_date = datetime.date(2019, 8, 1)\n",
      "monthly_portfolio_return = -0.0113\n",
      "risk_free_return = 0.0403\n",
      "mark_date = datetime.date(2019, 9, 1)\n"
     ]
    },
    {
     "name": "stderr",
     "output_type": "stream",
     "text": [
      "/home/josh/cmor462/ropacea/ropacea/Single_factor.py:67: FutureWarning:\n",
      "\n",
      "The behavior of DataFrame concatenation with empty or all-NA entries is deprecated. In a future version, this will no longer exclude empty or all-NA columns when determining the result dtypes. To retain the old behavior, exclude the relevant entries before the concat operation.\n",
      "\n",
      "/home/josh/cmor462/ropacea/ropacea/Single_factor.py:67: FutureWarning:\n",
      "\n",
      "The behavior of DataFrame concatenation with empty or all-NA entries is deprecated. In a future version, this will no longer exclude empty or all-NA columns when determining the result dtypes. To retain the old behavior, exclude the relevant entries before the concat operation.\n",
      "\n"
     ]
    },
    {
     "name": "stdout",
     "output_type": "stream",
     "text": [
      "monthly_portfolio_return = 0.0042\n",
      "risk_free_return = -0.0139\n",
      "mark_date = datetime.date(2019, 10, 1)\n",
      "monthly_portfolio_return = 0.0035\n",
      "risk_free_return = -0.0007\n",
      "mark_date = datetime.date(2019, 11, 1)\n",
      "monthly_portfolio_return = 0.0556\n",
      "risk_free_return = -0.0074\n",
      "mark_date = datetime.date(2019, 12, 1)\n"
     ]
    },
    {
     "name": "stderr",
     "output_type": "stream",
     "text": [
      "/home/josh/cmor462/ropacea/ropacea/Single_factor.py:67: FutureWarning:\n",
      "\n",
      "The behavior of DataFrame concatenation with empty or all-NA entries is deprecated. In a future version, this will no longer exclude empty or all-NA columns when determining the result dtypes. To retain the old behavior, exclude the relevant entries before the concat operation.\n",
      "\n",
      "/home/josh/cmor462/ropacea/ropacea/Single_factor.py:67: FutureWarning:\n",
      "\n",
      "The behavior of DataFrame concatenation with empty or all-NA entries is deprecated. In a future version, this will no longer exclude empty or all-NA columns when determining the result dtypes. To retain the old behavior, exclude the relevant entries before the concat operation.\n",
      "\n"
     ]
    },
    {
     "name": "stdout",
     "output_type": "stream",
     "text": [
      "monthly_portfolio_return = 0.0503\n",
      "risk_free_return = -0.0113\n",
      "mark_date = datetime.date(2020, 1, 1)\n",
      "monthly_portfolio_return = 0.0368\n",
      "risk_free_return = 0.0392\n",
      "mark_date = datetime.date(2020, 2, 1)\n"
     ]
    },
    {
     "name": "stderr",
     "output_type": "stream",
     "text": [
      "/home/josh/cmor462/ropacea/ropacea/Single_factor.py:67: FutureWarning:\n",
      "\n",
      "The behavior of DataFrame concatenation with empty or all-NA entries is deprecated. In a future version, this will no longer exclude empty or all-NA columns when determining the result dtypes. To retain the old behavior, exclude the relevant entries before the concat operation.\n",
      "\n",
      "/home/josh/cmor462/ropacea/ropacea/Single_factor.py:67: FutureWarning:\n",
      "\n",
      "The behavior of DataFrame concatenation with empty or all-NA entries is deprecated. In a future version, this will no longer exclude empty or all-NA columns when determining the result dtypes. To retain the old behavior, exclude the relevant entries before the concat operation.\n",
      "\n"
     ]
    },
    {
     "name": "stdout",
     "output_type": "stream",
     "text": [
      "monthly_portfolio_return = -0.0585\n",
      "risk_free_return = 0.0299\n",
      "mark_date = datetime.date(2020, 3, 1)\n",
      "monthly_portfolio_return = -0.0844\n",
      "risk_free_return = 0.0397\n",
      "mark_date = datetime.date(2020, 4, 1)\n"
     ]
    },
    {
     "name": "stderr",
     "output_type": "stream",
     "text": [
      "/home/josh/cmor462/ropacea/ropacea/Single_factor.py:67: FutureWarning:\n",
      "\n",
      "The behavior of DataFrame concatenation with empty or all-NA entries is deprecated. In a future version, this will no longer exclude empty or all-NA columns when determining the result dtypes. To retain the old behavior, exclude the relevant entries before the concat operation.\n",
      "\n",
      "/home/josh/cmor462/ropacea/ropacea/Single_factor.py:67: FutureWarning:\n",
      "\n",
      "The behavior of DataFrame concatenation with empty or all-NA entries is deprecated. In a future version, this will no longer exclude empty or all-NA columns when determining the result dtypes. To retain the old behavior, exclude the relevant entries before the concat operation.\n",
      "\n"
     ]
    },
    {
     "name": "stdout",
     "output_type": "stream",
     "text": [
      "monthly_portfolio_return = 0.1264\n",
      "risk_free_return = 0.0050\n",
      "mark_date = datetime.date(2020, 5, 1)\n",
      "monthly_portfolio_return = 0.0518\n",
      "risk_free_return = 0.0007\n",
      "mark_date = datetime.date(2020, 6, 1)\n"
     ]
    },
    {
     "name": "stderr",
     "output_type": "stream",
     "text": [
      "/home/josh/cmor462/ropacea/ropacea/Single_factor.py:67: FutureWarning:\n",
      "\n",
      "The behavior of DataFrame concatenation with empty or all-NA entries is deprecated. In a future version, this will no longer exclude empty or all-NA columns when determining the result dtypes. To retain the old behavior, exclude the relevant entries before the concat operation.\n",
      "\n",
      "/home/josh/cmor462/ropacea/ropacea/Single_factor.py:67: FutureWarning:\n",
      "\n",
      "The behavior of DataFrame concatenation with empty or all-NA entries is deprecated. In a future version, this will no longer exclude empty or all-NA columns when determining the result dtypes. To retain the old behavior, exclude the relevant entries before the concat operation.\n",
      "\n"
     ]
    },
    {
     "name": "stdout",
     "output_type": "stream",
     "text": [
      "monthly_portfolio_return = 0.0514\n",
      "risk_free_return = 0.0004\n",
      "mark_date = datetime.date(2020, 7, 1)\n"
     ]
    },
    {
     "name": "stderr",
     "output_type": "stream",
     "text": [
      "/home/josh/cmor462/ropacea/ropacea/Single_factor.py:67: FutureWarning:\n",
      "\n",
      "The behavior of DataFrame concatenation with empty or all-NA entries is deprecated. In a future version, this will no longer exclude empty or all-NA columns when determining the result dtypes. To retain the old behavior, exclude the relevant entries before the concat operation.\n",
      "\n"
     ]
    },
    {
     "name": "stdout",
     "output_type": "stream",
     "text": [
      "monthly_portfolio_return = 0.0441\n",
      "risk_free_return = 0.0128\n",
      "mark_date = datetime.date(2020, 8, 1)\n",
      "monthly_portfolio_return = 0.1052\n",
      "risk_free_return = -0.0147\n",
      "mark_date = datetime.date(2020, 9, 1)\n"
     ]
    },
    {
     "name": "stderr",
     "output_type": "stream",
     "text": [
      "/home/josh/cmor462/ropacea/ropacea/Single_factor.py:67: FutureWarning:\n",
      "\n",
      "The behavior of DataFrame concatenation with empty or all-NA entries is deprecated. In a future version, this will no longer exclude empty or all-NA columns when determining the result dtypes. To retain the old behavior, exclude the relevant entries before the concat operation.\n",
      "\n",
      "/home/josh/cmor462/ropacea/ropacea/Single_factor.py:67: FutureWarning:\n",
      "\n",
      "The behavior of DataFrame concatenation with empty or all-NA entries is deprecated. In a future version, this will no longer exclude empty or all-NA columns when determining the result dtypes. To retain the old behavior, exclude the relevant entries before the concat operation.\n",
      "\n"
     ]
    },
    {
     "name": "stdout",
     "output_type": "stream",
     "text": [
      "monthly_portfolio_return = -0.0245\n",
      "risk_free_return = 0.0026\n",
      "mark_date = datetime.date(2020, 10, 1)\n",
      "monthly_portfolio_return = -0.0416\n",
      "risk_free_return = -0.0173\n",
      "mark_date = datetime.date(2020, 11, 1)\n"
     ]
    },
    {
     "name": "stderr",
     "output_type": "stream",
     "text": [
      "/home/josh/cmor462/ropacea/ropacea/Single_factor.py:67: FutureWarning:\n",
      "\n",
      "The behavior of DataFrame concatenation with empty or all-NA entries is deprecated. In a future version, this will no longer exclude empty or all-NA columns when determining the result dtypes. To retain the old behavior, exclude the relevant entries before the concat operation.\n",
      "\n",
      "/home/josh/cmor462/ropacea/ropacea/Single_factor.py:67: FutureWarning:\n",
      "\n",
      "The behavior of DataFrame concatenation with empty or all-NA entries is deprecated. In a future version, this will no longer exclude empty or all-NA columns when determining the result dtypes. To retain the old behavior, exclude the relevant entries before the concat operation.\n",
      "\n"
     ]
    },
    {
     "name": "stdout",
     "output_type": "stream",
     "text": [
      "monthly_portfolio_return = 0.0736\n",
      "risk_free_return = 0.0040\n",
      "mark_date = datetime.date(2020, 12, 1)\n",
      "monthly_portfolio_return = 0.0296\n",
      "risk_free_return = -0.0050\n",
      "mark_date = datetime.date(2021, 1, 1)\n"
     ]
    },
    {
     "name": "stderr",
     "output_type": "stream",
     "text": [
      "/home/josh/cmor462/ropacea/ropacea/Single_factor.py:67: FutureWarning:\n",
      "\n",
      "The behavior of DataFrame concatenation with empty or all-NA entries is deprecated. In a future version, this will no longer exclude empty or all-NA columns when determining the result dtypes. To retain the old behavior, exclude the relevant entries before the concat operation.\n",
      "\n",
      "/home/josh/cmor462/ropacea/ropacea/Single_factor.py:67: FutureWarning:\n",
      "\n",
      "The behavior of DataFrame concatenation with empty or all-NA entries is deprecated. In a future version, this will no longer exclude empty or all-NA columns when determining the result dtypes. To retain the old behavior, exclude the relevant entries before the concat operation.\n",
      "\n"
     ]
    },
    {
     "name": "stdout",
     "output_type": "stream",
     "text": [
      "monthly_portfolio_return = -0.0018\n",
      "risk_free_return = -0.0107\n",
      "mark_date = datetime.date(2021, 2, 1)\n",
      "monthly_portfolio_return = 0.0198\n",
      "risk_free_return = -0.0254\n",
      "mark_date = datetime.date(2021, 3, 1)\n"
     ]
    },
    {
     "name": "stderr",
     "output_type": "stream",
     "text": [
      "/home/josh/cmor462/ropacea/ropacea/Single_factor.py:67: FutureWarning:\n",
      "\n",
      "The behavior of DataFrame concatenation with empty or all-NA entries is deprecated. In a future version, this will no longer exclude empty or all-NA columns when determining the result dtypes. To retain the old behavior, exclude the relevant entries before the concat operation.\n",
      "\n",
      "/home/josh/cmor462/ropacea/ropacea/Single_factor.py:67: FutureWarning:\n",
      "\n",
      "The behavior of DataFrame concatenation with empty or all-NA entries is deprecated. In a future version, this will no longer exclude empty or all-NA columns when determining the result dtypes. To retain the old behavior, exclude the relevant entries before the concat operation.\n",
      "\n"
     ]
    },
    {
     "name": "stdout",
     "output_type": "stream",
     "text": [
      "monthly_portfolio_return = 0.0248\n",
      "risk_free_return = -0.0293\n",
      "mark_date = datetime.date(2021, 4, 1)\n",
      "monthly_portfolio_return = 0.0560\n",
      "risk_free_return = 0.0119\n",
      "mark_date = datetime.date(2021, 5, 1)\n"
     ]
    },
    {
     "name": "stderr",
     "output_type": "stream",
     "text": [
      "/home/josh/cmor462/ropacea/ropacea/Single_factor.py:67: FutureWarning:\n",
      "\n",
      "The behavior of DataFrame concatenation with empty or all-NA entries is deprecated. In a future version, this will no longer exclude empty or all-NA columns when determining the result dtypes. To retain the old behavior, exclude the relevant entries before the concat operation.\n",
      "\n",
      "/home/josh/cmor462/ropacea/ropacea/Single_factor.py:67: FutureWarning:\n",
      "\n",
      "The behavior of DataFrame concatenation with empty or all-NA entries is deprecated. In a future version, this will no longer exclude empty or all-NA columns when determining the result dtypes. To retain the old behavior, exclude the relevant entries before the concat operation.\n",
      "\n"
     ]
    },
    {
     "name": "stdout",
     "output_type": "stream",
     "text": [
      "monthly_portfolio_return = 0.0038\n",
      "risk_free_return = 0.0034\n",
      "mark_date = datetime.date(2021, 6, 1)\n"
     ]
    },
    {
     "name": "stderr",
     "output_type": "stream",
     "text": [
      "/home/josh/cmor462/ropacea/ropacea/Single_factor.py:67: FutureWarning:\n",
      "\n",
      "The behavior of DataFrame concatenation with empty or all-NA entries is deprecated. In a future version, this will no longer exclude empty or all-NA columns when determining the result dtypes. To retain the old behavior, exclude the relevant entries before the concat operation.\n",
      "\n"
     ]
    },
    {
     "name": "stdout",
     "output_type": "stream",
     "text": [
      "monthly_portfolio_return = 0.0749\n",
      "risk_free_return = 0.0141\n",
      "mark_date = datetime.date(2021, 7, 1)\n",
      "monthly_portfolio_return = 0.0353\n",
      "risk_free_return = 0.0238\n",
      "mark_date = datetime.date(2021, 8, 1)\n"
     ]
    },
    {
     "name": "stderr",
     "output_type": "stream",
     "text": [
      "/home/josh/cmor462/ropacea/ropacea/Single_factor.py:67: FutureWarning:\n",
      "\n",
      "The behavior of DataFrame concatenation with empty or all-NA entries is deprecated. In a future version, this will no longer exclude empty or all-NA columns when determining the result dtypes. To retain the old behavior, exclude the relevant entries before the concat operation.\n",
      "\n",
      "/home/josh/cmor462/ropacea/ropacea/Single_factor.py:67: FutureWarning:\n",
      "\n",
      "The behavior of DataFrame concatenation with empty or all-NA entries is deprecated. In a future version, this will no longer exclude empty or all-NA columns when determining the result dtypes. To retain the old behavior, exclude the relevant entries before the concat operation.\n",
      "\n"
     ]
    },
    {
     "name": "stdout",
     "output_type": "stream",
     "text": [
      "monthly_portfolio_return = 0.0453\n",
      "risk_free_return = -0.0048\n",
      "mark_date = datetime.date(2021, 9, 1)\n",
      "monthly_portfolio_return = -0.0621\n",
      "risk_free_return = -0.0154\n",
      "mark_date = datetime.date(2021, 10, 1)\n"
     ]
    },
    {
     "name": "stderr",
     "output_type": "stream",
     "text": [
      "/home/josh/cmor462/ropacea/ropacea/Single_factor.py:67: FutureWarning:\n",
      "\n",
      "The behavior of DataFrame concatenation with empty or all-NA entries is deprecated. In a future version, this will no longer exclude empty or all-NA columns when determining the result dtypes. To retain the old behavior, exclude the relevant entries before the concat operation.\n",
      "\n",
      "/home/josh/cmor462/ropacea/ropacea/Single_factor.py:67: FutureWarning:\n",
      "\n",
      "The behavior of DataFrame concatenation with empty or all-NA entries is deprecated. In a future version, this will no longer exclude empty or all-NA columns when determining the result dtypes. To retain the old behavior, exclude the relevant entries before the concat operation.\n",
      "\n"
     ]
    },
    {
     "name": "stdout",
     "output_type": "stream",
     "text": [
      "monthly_portfolio_return = 0.1072\n",
      "risk_free_return = -0.0049\n",
      "mark_date = datetime.date(2021, 11, 1)\n",
      "monthly_portfolio_return = 0.0320\n",
      "risk_free_return = 0.0125\n",
      "mark_date = datetime.date(2021, 12, 1)\n"
     ]
    },
    {
     "name": "stderr",
     "output_type": "stream",
     "text": [
      "/home/josh/cmor462/ropacea/ropacea/Single_factor.py:67: FutureWarning:\n",
      "\n",
      "The behavior of DataFrame concatenation with empty or all-NA entries is deprecated. In a future version, this will no longer exclude empty or all-NA columns when determining the result dtypes. To retain the old behavior, exclude the relevant entries before the concat operation.\n",
      "\n",
      "/home/josh/cmor462/ropacea/ropacea/Single_factor.py:67: FutureWarning:\n",
      "\n",
      "The behavior of DataFrame concatenation with empty or all-NA entries is deprecated. In a future version, this will no longer exclude empty or all-NA columns when determining the result dtypes. To retain the old behavior, exclude the relevant entries before the concat operation.\n",
      "\n"
     ]
    },
    {
     "name": "stdout",
     "output_type": "stream",
     "text": [
      "monthly_portfolio_return = 0.0124\n",
      "risk_free_return = -0.0047\n",
      "========== SUMMARY ==========\n",
      "monthly_returns_bp_mean = 217.36\n",
      "monthly_returns_bp_std = 542.00\n",
      "annualized_mean_pct = 29.44\n",
      "annualized_std_pct = 18.78\n",
      "sharpe_ratio = 1.57\n",
      "mark_date = datetime.date(2017, 1, 1)\n",
      "monthly_portfolio_return = 0.0453\n",
      "risk_free_return = 0.0022\n",
      "mark_date = datetime.date(2017, 2, 1)\n"
     ]
    },
    {
     "name": "stderr",
     "output_type": "stream",
     "text": [
      "/home/josh/cmor462/ropacea/ropacea/Single_factor.py:67: FutureWarning:\n",
      "\n",
      "The behavior of DataFrame concatenation with empty or all-NA entries is deprecated. In a future version, this will no longer exclude empty or all-NA columns when determining the result dtypes. To retain the old behavior, exclude the relevant entries before the concat operation.\n",
      "\n",
      "/home/josh/cmor462/ropacea/ropacea/Single_factor.py:67: FutureWarning:\n",
      "\n",
      "The behavior of DataFrame concatenation with empty or all-NA entries is deprecated. In a future version, this will no longer exclude empty or all-NA columns when determining the result dtypes. To retain the old behavior, exclude the relevant entries before the concat operation.\n",
      "\n"
     ]
    },
    {
     "name": "stdout",
     "output_type": "stream",
     "text": [
      "monthly_portfolio_return = 0.0173\n",
      "risk_free_return = 0.0074\n",
      "mark_date = datetime.date(2017, 3, 1)\n",
      "monthly_portfolio_return = 0.0374\n",
      "risk_free_return = 0.0024\n",
      "mark_date = datetime.date(2017, 4, 1)\n"
     ]
    },
    {
     "name": "stderr",
     "output_type": "stream",
     "text": [
      "/home/josh/cmor462/ropacea/ropacea/Single_factor.py:67: FutureWarning:\n",
      "\n",
      "The behavior of DataFrame concatenation with empty or all-NA entries is deprecated. In a future version, this will no longer exclude empty or all-NA columns when determining the result dtypes. To retain the old behavior, exclude the relevant entries before the concat operation.\n",
      "\n",
      "/home/josh/cmor462/ropacea/ropacea/Single_factor.py:67: FutureWarning:\n",
      "\n",
      "The behavior of DataFrame concatenation with empty or all-NA entries is deprecated. In a future version, this will no longer exclude empty or all-NA columns when determining the result dtypes. To retain the old behavior, exclude the relevant entries before the concat operation.\n",
      "\n"
     ]
    },
    {
     "name": "stdout",
     "output_type": "stream",
     "text": [
      "monthly_portfolio_return = 0.0029\n",
      "risk_free_return = 0.0111\n",
      "mark_date = datetime.date(2017, 5, 1)\n",
      "monthly_portfolio_return = 0.0795\n",
      "risk_free_return = 0.0079\n",
      "mark_date = datetime.date(2017, 6, 1)\n"
     ]
    },
    {
     "name": "stderr",
     "output_type": "stream",
     "text": [
      "/home/josh/cmor462/ropacea/ropacea/Single_factor.py:67: FutureWarning:\n",
      "\n",
      "The behavior of DataFrame concatenation with empty or all-NA entries is deprecated. In a future version, this will no longer exclude empty or all-NA columns when determining the result dtypes. To retain the old behavior, exclude the relevant entries before the concat operation.\n",
      "\n",
      "/home/josh/cmor462/ropacea/ropacea/Single_factor.py:67: FutureWarning:\n",
      "\n",
      "The behavior of DataFrame concatenation with empty or all-NA entries is deprecated. In a future version, this will no longer exclude empty or all-NA columns when determining the result dtypes. To retain the old behavior, exclude the relevant entries before the concat operation.\n",
      "\n"
     ]
    },
    {
     "name": "stdout",
     "output_type": "stream",
     "text": [
      "monthly_portfolio_return = -0.0002\n",
      "risk_free_return = -0.0013\n",
      "mark_date = datetime.date(2017, 7, 1)\n",
      "monthly_portfolio_return = 0.0507\n",
      "risk_free_return = -0.0000\n",
      "mark_date = datetime.date(2017, 8, 1)\n"
     ]
    },
    {
     "name": "stderr",
     "output_type": "stream",
     "text": [
      "/home/josh/cmor462/ropacea/ropacea/Single_factor.py:67: FutureWarning:\n",
      "\n",
      "The behavior of DataFrame concatenation with empty or all-NA entries is deprecated. In a future version, this will no longer exclude empty or all-NA columns when determining the result dtypes. To retain the old behavior, exclude the relevant entries before the concat operation.\n",
      "\n",
      "/home/josh/cmor462/ropacea/ropacea/Single_factor.py:67: FutureWarning:\n",
      "\n",
      "The behavior of DataFrame concatenation with empty or all-NA entries is deprecated. In a future version, this will no longer exclude empty or all-NA columns when determining the result dtypes. To retain the old behavior, exclude the relevant entries before the concat operation.\n",
      "\n"
     ]
    },
    {
     "name": "stdout",
     "output_type": "stream",
     "text": [
      "monthly_portfolio_return = 0.0250\n",
      "risk_free_return = 0.0171\n",
      "mark_date = datetime.date(2017, 9, 1)\n",
      "monthly_portfolio_return = 0.0303\n",
      "risk_free_return = -0.0172\n",
      "mark_date = datetime.date(2017, 10, 1)\n"
     ]
    },
    {
     "name": "stderr",
     "output_type": "stream",
     "text": [
      "/home/josh/cmor462/ropacea/ropacea/Single_factor.py:67: FutureWarning:\n",
      "\n",
      "The behavior of DataFrame concatenation with empty or all-NA entries is deprecated. In a future version, this will no longer exclude empty or all-NA columns when determining the result dtypes. To retain the old behavior, exclude the relevant entries before the concat operation.\n",
      "\n",
      "/home/josh/cmor462/ropacea/ropacea/Single_factor.py:67: FutureWarning:\n",
      "\n",
      "The behavior of DataFrame concatenation with empty or all-NA entries is deprecated. In a future version, this will no longer exclude empty or all-NA columns when determining the result dtypes. To retain the old behavior, exclude the relevant entries before the concat operation.\n",
      "\n"
     ]
    },
    {
     "name": "stdout",
     "output_type": "stream",
     "text": [
      "monthly_portfolio_return = 0.0964\n",
      "risk_free_return = -0.0011\n",
      "mark_date = datetime.date(2017, 11, 1)\n",
      "monthly_portfolio_return = 0.0138\n",
      "risk_free_return = -0.0026\n",
      "mark_date = datetime.date(2017, 12, 1)\n"
     ]
    },
    {
     "name": "stderr",
     "output_type": "stream",
     "text": [
      "/home/josh/cmor462/ropacea/ropacea/Single_factor.py:67: FutureWarning:\n",
      "\n",
      "The behavior of DataFrame concatenation with empty or all-NA entries is deprecated. In a future version, this will no longer exclude empty or all-NA columns when determining the result dtypes. To retain the old behavior, exclude the relevant entries before the concat operation.\n",
      "\n",
      "/home/josh/cmor462/ropacea/ropacea/Single_factor.py:67: FutureWarning:\n",
      "\n",
      "The behavior of DataFrame concatenation with empty or all-NA entries is deprecated. In a future version, this will no longer exclude empty or all-NA columns when determining the result dtypes. To retain the old behavior, exclude the relevant entries before the concat operation.\n",
      "\n"
     ]
    },
    {
     "name": "stdout",
     "output_type": "stream",
     "text": [
      "monthly_portfolio_return = 0.0137\n",
      "risk_free_return = 0.0022\n",
      "mark_date = datetime.date(2018, 1, 1)\n"
     ]
    },
    {
     "name": "stderr",
     "output_type": "stream",
     "text": [
      "/home/josh/cmor462/ropacea/ropacea/Single_factor.py:67: FutureWarning:\n",
      "\n",
      "The behavior of DataFrame concatenation with empty or all-NA entries is deprecated. In a future version, this will no longer exclude empty or all-NA columns when determining the result dtypes. To retain the old behavior, exclude the relevant entries before the concat operation.\n",
      "\n"
     ]
    },
    {
     "name": "stdout",
     "output_type": "stream",
     "text": [
      "monthly_portfolio_return = 0.1190\n",
      "risk_free_return = -0.0236\n",
      "mark_date = datetime.date(2018, 2, 1)\n"
     ]
    },
    {
     "name": "stderr",
     "output_type": "stream",
     "text": [
      "/home/josh/cmor462/ropacea/ropacea/Single_factor.py:67: FutureWarning:\n",
      "\n",
      "The behavior of DataFrame concatenation with empty or all-NA entries is deprecated. In a future version, this will no longer exclude empty or all-NA columns when determining the result dtypes. To retain the old behavior, exclude the relevant entries before the concat operation.\n",
      "\n"
     ]
    },
    {
     "name": "stdout",
     "output_type": "stream",
     "text": [
      "monthly_portfolio_return = 0.0135\n",
      "risk_free_return = -0.0130\n",
      "mark_date = datetime.date(2018, 3, 1)\n",
      "monthly_portfolio_return = -0.0204\n",
      "risk_free_return = 0.0128\n",
      "mark_date = datetime.date(2018, 4, 1)\n"
     ]
    },
    {
     "name": "stderr",
     "output_type": "stream",
     "text": [
      "/home/josh/cmor462/ropacea/ropacea/Single_factor.py:67: FutureWarning:\n",
      "\n",
      "The behavior of DataFrame concatenation with empty or all-NA entries is deprecated. In a future version, this will no longer exclude empty or all-NA columns when determining the result dtypes. To retain the old behavior, exclude the relevant entries before the concat operation.\n",
      "\n",
      "/home/josh/cmor462/ropacea/ropacea/Single_factor.py:67: FutureWarning:\n",
      "\n",
      "The behavior of DataFrame concatenation with empty or all-NA entries is deprecated. In a future version, this will no longer exclude empty or all-NA columns when determining the result dtypes. To retain the old behavior, exclude the relevant entries before the concat operation.\n",
      "\n"
     ]
    },
    {
     "name": "stdout",
     "output_type": "stream",
     "text": [
      "monthly_portfolio_return = 0.0017\n",
      "risk_free_return = -0.0155\n",
      "mark_date = datetime.date(2018, 5, 1)\n",
      "monthly_portfolio_return = 0.0728\n",
      "risk_free_return = 0.0096\n",
      "mark_date = datetime.date(2018, 6, 1)\n"
     ]
    },
    {
     "name": "stderr",
     "output_type": "stream",
     "text": [
      "/home/josh/cmor462/ropacea/ropacea/Single_factor.py:67: FutureWarning:\n",
      "\n",
      "The behavior of DataFrame concatenation with empty or all-NA entries is deprecated. In a future version, this will no longer exclude empty or all-NA columns when determining the result dtypes. To retain the old behavior, exclude the relevant entries before the concat operation.\n",
      "\n",
      "/home/josh/cmor462/ropacea/ropacea/Single_factor.py:67: FutureWarning:\n",
      "\n",
      "The behavior of DataFrame concatenation with empty or all-NA entries is deprecated. In a future version, this will no longer exclude empty or all-NA columns when determining the result dtypes. To retain the old behavior, exclude the relevant entries before the concat operation.\n",
      "\n"
     ]
    },
    {
     "name": "stdout",
     "output_type": "stream",
     "text": [
      "monthly_portfolio_return = -0.0177\n",
      "risk_free_return = 0.0023\n",
      "mark_date = datetime.date(2018, 7, 1)\n",
      "monthly_portfolio_return = 0.0301\n",
      "risk_free_return = -0.0051\n",
      "mark_date = datetime.date(2018, 8, 1)\n"
     ]
    },
    {
     "name": "stderr",
     "output_type": "stream",
     "text": [
      "/home/josh/cmor462/ropacea/ropacea/Single_factor.py:67: FutureWarning:\n",
      "\n",
      "The behavior of DataFrame concatenation with empty or all-NA entries is deprecated. In a future version, this will no longer exclude empty or all-NA columns when determining the result dtypes. To retain the old behavior, exclude the relevant entries before the concat operation.\n",
      "\n",
      "/home/josh/cmor462/ropacea/ropacea/Single_factor.py:67: FutureWarning:\n",
      "\n",
      "The behavior of DataFrame concatenation with empty or all-NA entries is deprecated. In a future version, this will no longer exclude empty or all-NA columns when determining the result dtypes. To retain the old behavior, exclude the relevant entries before the concat operation.\n",
      "\n"
     ]
    },
    {
     "name": "stdout",
     "output_type": "stream",
     "text": [
      "monthly_portfolio_return = 0.0677\n",
      "risk_free_return = 0.0101\n",
      "mark_date = datetime.date(2018, 9, 1)\n"
     ]
    },
    {
     "name": "stderr",
     "output_type": "stream",
     "text": [
      "/home/josh/cmor462/ropacea/ropacea/Single_factor.py:67: FutureWarning:\n",
      "\n",
      "The behavior of DataFrame concatenation with empty or all-NA entries is deprecated. In a future version, this will no longer exclude empty or all-NA columns when determining the result dtypes. To retain the old behavior, exclude the relevant entries before the concat operation.\n",
      "\n",
      "/home/josh/cmor462/ropacea/ropacea/Single_factor.py:67: FutureWarning:\n",
      "\n",
      "The behavior of DataFrame concatenation with empty or all-NA entries is deprecated. In a future version, this will no longer exclude empty or all-NA columns when determining the result dtypes. To retain the old behavior, exclude the relevant entries before the concat operation.\n",
      "\n"
     ]
    },
    {
     "name": "stdout",
     "output_type": "stream",
     "text": [
      "monthly_portfolio_return = 0.0050\n",
      "risk_free_return = -0.0148\n",
      "mark_date = datetime.date(2018, 10, 1)\n",
      "monthly_portfolio_return = -0.1017\n",
      "risk_free_return = -0.0043\n",
      "mark_date = datetime.date(2018, 11, 1)\n"
     ]
    },
    {
     "name": "stderr",
     "output_type": "stream",
     "text": [
      "/home/josh/cmor462/ropacea/ropacea/Single_factor.py:67: FutureWarning:\n",
      "\n",
      "The behavior of DataFrame concatenation with empty or all-NA entries is deprecated. In a future version, this will no longer exclude empty or all-NA columns when determining the result dtypes. To retain the old behavior, exclude the relevant entries before the concat operation.\n",
      "\n"
     ]
    },
    {
     "name": "stdout",
     "output_type": "stream",
     "text": [
      "monthly_portfolio_return = -0.0129\n",
      "risk_free_return = 0.0149\n",
      "mark_date = datetime.date(2018, 12, 1)\n"
     ]
    },
    {
     "name": "stderr",
     "output_type": "stream",
     "text": [
      "/home/josh/cmor462/ropacea/ropacea/Single_factor.py:67: FutureWarning:\n",
      "\n",
      "The behavior of DataFrame concatenation with empty or all-NA entries is deprecated. In a future version, this will no longer exclude empty or all-NA columns when determining the result dtypes. To retain the old behavior, exclude the relevant entries before the concat operation.\n",
      "\n"
     ]
    },
    {
     "name": "stdout",
     "output_type": "stream",
     "text": [
      "monthly_portfolio_return = -0.0921\n",
      "risk_free_return = 0.0286\n",
      "mark_date = datetime.date(2019, 1, 1)\n",
      "monthly_portfolio_return = 0.0639\n",
      "risk_free_return = 0.0071\n",
      "mark_date = datetime.date(2019, 2, 1)\n"
     ]
    },
    {
     "name": "stderr",
     "output_type": "stream",
     "text": [
      "/home/josh/cmor462/ropacea/ropacea/Single_factor.py:67: FutureWarning:\n",
      "\n",
      "The behavior of DataFrame concatenation with empty or all-NA entries is deprecated. In a future version, this will no longer exclude empty or all-NA columns when determining the result dtypes. To retain the old behavior, exclude the relevant entries before the concat operation.\n",
      "\n",
      "/home/josh/cmor462/ropacea/ropacea/Single_factor.py:67: FutureWarning:\n",
      "\n",
      "The behavior of DataFrame concatenation with empty or all-NA entries is deprecated. In a future version, this will no longer exclude empty or all-NA columns when determining the result dtypes. To retain the old behavior, exclude the relevant entries before the concat operation.\n",
      "\n"
     ]
    },
    {
     "name": "stdout",
     "output_type": "stream",
     "text": [
      "monthly_portfolio_return = 0.0669\n",
      "risk_free_return = -0.0043\n",
      "mark_date = datetime.date(2019, 3, 1)\n",
      "monthly_portfolio_return = 0.0529\n",
      "risk_free_return = 0.0294\n",
      "mark_date = datetime.date(2019, 4, 1)\n"
     ]
    },
    {
     "name": "stderr",
     "output_type": "stream",
     "text": [
      "/home/josh/cmor462/ropacea/ropacea/Single_factor.py:67: FutureWarning:\n",
      "\n",
      "The behavior of DataFrame concatenation with empty or all-NA entries is deprecated. In a future version, this will no longer exclude empty or all-NA columns when determining the result dtypes. To retain the old behavior, exclude the relevant entries before the concat operation.\n",
      "\n",
      "/home/josh/cmor462/ropacea/ropacea/Single_factor.py:67: FutureWarning:\n",
      "\n",
      "The behavior of DataFrame concatenation with empty or all-NA entries is deprecated. In a future version, this will no longer exclude empty or all-NA columns when determining the result dtypes. To retain the old behavior, exclude the relevant entries before the concat operation.\n",
      "\n"
     ]
    },
    {
     "name": "stdout",
     "output_type": "stream",
     "text": [
      "monthly_portfolio_return = 0.0601\n",
      "risk_free_return = -0.0062\n",
      "mark_date = datetime.date(2019, 5, 1)\n",
      "monthly_portfolio_return = -0.0756\n",
      "risk_free_return = 0.0319\n",
      "mark_date = datetime.date(2019, 6, 1)\n"
     ]
    },
    {
     "name": "stderr",
     "output_type": "stream",
     "text": [
      "/home/josh/cmor462/ropacea/ropacea/Single_factor.py:67: FutureWarning:\n",
      "\n",
      "The behavior of DataFrame concatenation with empty or all-NA entries is deprecated. In a future version, this will no longer exclude empty or all-NA columns when determining the result dtypes. To retain the old behavior, exclude the relevant entries before the concat operation.\n",
      "\n",
      "/home/josh/cmor462/ropacea/ropacea/Single_factor.py:67: FutureWarning:\n",
      "\n",
      "The behavior of DataFrame concatenation with empty or all-NA entries is deprecated. In a future version, this will no longer exclude empty or all-NA columns when determining the result dtypes. To retain the old behavior, exclude the relevant entries before the concat operation.\n",
      "\n"
     ]
    },
    {
     "name": "stdout",
     "output_type": "stream",
     "text": [
      "monthly_portfolio_return = 0.0844\n",
      "risk_free_return = 0.0121\n",
      "mark_date = datetime.date(2019, 7, 1)\n",
      "monthly_portfolio_return = 0.0289\n",
      "risk_free_return = 0.0034\n",
      "mark_date = datetime.date(2019, 8, 1)\n"
     ]
    },
    {
     "name": "stderr",
     "output_type": "stream",
     "text": [
      "/home/josh/cmor462/ropacea/ropacea/Single_factor.py:67: FutureWarning:\n",
      "\n",
      "The behavior of DataFrame concatenation with empty or all-NA entries is deprecated. In a future version, this will no longer exclude empty or all-NA columns when determining the result dtypes. To retain the old behavior, exclude the relevant entries before the concat operation.\n",
      "\n",
      "/home/josh/cmor462/ropacea/ropacea/Single_factor.py:67: FutureWarning:\n",
      "\n",
      "The behavior of DataFrame concatenation with empty or all-NA entries is deprecated. In a future version, this will no longer exclude empty or all-NA columns when determining the result dtypes. To retain the old behavior, exclude the relevant entries before the concat operation.\n",
      "\n"
     ]
    },
    {
     "name": "stdout",
     "output_type": "stream",
     "text": [
      "monthly_portfolio_return = -0.0093\n",
      "risk_free_return = 0.0403\n",
      "mark_date = datetime.date(2019, 9, 1)\n",
      "monthly_portfolio_return = 0.0012\n",
      "risk_free_return = -0.0139\n",
      "mark_date = datetime.date(2019, 10, 1)\n"
     ]
    },
    {
     "name": "stderr",
     "output_type": "stream",
     "text": [
      "/home/josh/cmor462/ropacea/ropacea/Single_factor.py:67: FutureWarning:\n",
      "\n",
      "The behavior of DataFrame concatenation with empty or all-NA entries is deprecated. In a future version, this will no longer exclude empty or all-NA columns when determining the result dtypes. To retain the old behavior, exclude the relevant entries before the concat operation.\n",
      "\n",
      "/home/josh/cmor462/ropacea/ropacea/Single_factor.py:67: FutureWarning:\n",
      "\n",
      "The behavior of DataFrame concatenation with empty or all-NA entries is deprecated. In a future version, this will no longer exclude empty or all-NA columns when determining the result dtypes. To retain the old behavior, exclude the relevant entries before the concat operation.\n",
      "\n"
     ]
    },
    {
     "name": "stdout",
     "output_type": "stream",
     "text": [
      "monthly_portfolio_return = 0.0082\n",
      "risk_free_return = -0.0007\n",
      "mark_date = datetime.date(2019, 11, 1)\n",
      "monthly_portfolio_return = 0.0606\n",
      "risk_free_return = -0.0074\n",
      "mark_date = datetime.date(2019, 12, 1)\n"
     ]
    },
    {
     "name": "stderr",
     "output_type": "stream",
     "text": [
      "/home/josh/cmor462/ropacea/ropacea/Single_factor.py:67: FutureWarning:\n",
      "\n",
      "The behavior of DataFrame concatenation with empty or all-NA entries is deprecated. In a future version, this will no longer exclude empty or all-NA columns when determining the result dtypes. To retain the old behavior, exclude the relevant entries before the concat operation.\n",
      "\n",
      "/home/josh/cmor462/ropacea/ropacea/Single_factor.py:67: FutureWarning:\n",
      "\n",
      "The behavior of DataFrame concatenation with empty or all-NA entries is deprecated. In a future version, this will no longer exclude empty or all-NA columns when determining the result dtypes. To retain the old behavior, exclude the relevant entries before the concat operation.\n",
      "\n"
     ]
    },
    {
     "name": "stdout",
     "output_type": "stream",
     "text": [
      "monthly_portfolio_return = 0.0509\n",
      "risk_free_return = -0.0113\n",
      "mark_date = datetime.date(2020, 1, 1)\n"
     ]
    },
    {
     "name": "stderr",
     "output_type": "stream",
     "text": [
      "/home/josh/cmor462/ropacea/ropacea/Single_factor.py:67: FutureWarning:\n",
      "\n",
      "The behavior of DataFrame concatenation with empty or all-NA entries is deprecated. In a future version, this will no longer exclude empty or all-NA columns when determining the result dtypes. To retain the old behavior, exclude the relevant entries before the concat operation.\n",
      "\n"
     ]
    },
    {
     "name": "stdout",
     "output_type": "stream",
     "text": [
      "monthly_portfolio_return = 0.0409\n",
      "risk_free_return = 0.0392\n",
      "mark_date = datetime.date(2020, 2, 1)\n"
     ]
    },
    {
     "name": "stderr",
     "output_type": "stream",
     "text": [
      "/home/josh/cmor462/ropacea/ropacea/Single_factor.py:67: FutureWarning:\n",
      "\n",
      "The behavior of DataFrame concatenation with empty or all-NA entries is deprecated. In a future version, this will no longer exclude empty or all-NA columns when determining the result dtypes. To retain the old behavior, exclude the relevant entries before the concat operation.\n",
      "\n"
     ]
    },
    {
     "name": "stdout",
     "output_type": "stream",
     "text": [
      "monthly_portfolio_return = -0.0496\n",
      "risk_free_return = 0.0299\n",
      "mark_date = datetime.date(2020, 3, 1)\n"
     ]
    },
    {
     "name": "stderr",
     "output_type": "stream",
     "text": [
      "/home/josh/cmor462/ropacea/ropacea/Single_factor.py:67: FutureWarning:\n",
      "\n",
      "The behavior of DataFrame concatenation with empty or all-NA entries is deprecated. In a future version, this will no longer exclude empty or all-NA columns when determining the result dtypes. To retain the old behavior, exclude the relevant entries before the concat operation.\n",
      "\n"
     ]
    },
    {
     "name": "stdout",
     "output_type": "stream",
     "text": [
      "monthly_portfolio_return = -0.0884\n",
      "risk_free_return = 0.0397\n",
      "mark_date = datetime.date(2020, 4, 1)\n"
     ]
    },
    {
     "name": "stderr",
     "output_type": "stream",
     "text": [
      "/home/josh/cmor462/ropacea/ropacea/Single_factor.py:67: FutureWarning:\n",
      "\n",
      "The behavior of DataFrame concatenation with empty or all-NA entries is deprecated. In a future version, this will no longer exclude empty or all-NA columns when determining the result dtypes. To retain the old behavior, exclude the relevant entries before the concat operation.\n",
      "\n"
     ]
    },
    {
     "name": "stdout",
     "output_type": "stream",
     "text": [
      "monthly_portfolio_return = 0.1283\n",
      "risk_free_return = 0.0050\n",
      "mark_date = datetime.date(2020, 5, 1)\n"
     ]
    },
    {
     "name": "stderr",
     "output_type": "stream",
     "text": [
      "/home/josh/cmor462/ropacea/ropacea/Single_factor.py:67: FutureWarning:\n",
      "\n",
      "The behavior of DataFrame concatenation with empty or all-NA entries is deprecated. In a future version, this will no longer exclude empty or all-NA columns when determining the result dtypes. To retain the old behavior, exclude the relevant entries before the concat operation.\n",
      "\n"
     ]
    },
    {
     "name": "stdout",
     "output_type": "stream",
     "text": [
      "monthly_portfolio_return = 0.0572\n",
      "risk_free_return = 0.0007\n",
      "mark_date = datetime.date(2020, 6, 1)\n"
     ]
    },
    {
     "name": "stderr",
     "output_type": "stream",
     "text": [
      "/home/josh/cmor462/ropacea/ropacea/Single_factor.py:67: FutureWarning:\n",
      "\n",
      "The behavior of DataFrame concatenation with empty or all-NA entries is deprecated. In a future version, this will no longer exclude empty or all-NA columns when determining the result dtypes. To retain the old behavior, exclude the relevant entries before the concat operation.\n",
      "\n"
     ]
    },
    {
     "name": "stdout",
     "output_type": "stream",
     "text": [
      "monthly_portfolio_return = 0.0590\n",
      "risk_free_return = 0.0004\n",
      "mark_date = datetime.date(2020, 7, 1)\n"
     ]
    },
    {
     "name": "stderr",
     "output_type": "stream",
     "text": [
      "/home/josh/cmor462/ropacea/ropacea/Single_factor.py:67: FutureWarning:\n",
      "\n",
      "The behavior of DataFrame concatenation with empty or all-NA entries is deprecated. In a future version, this will no longer exclude empty or all-NA columns when determining the result dtypes. To retain the old behavior, exclude the relevant entries before the concat operation.\n",
      "\n"
     ]
    },
    {
     "name": "stdout",
     "output_type": "stream",
     "text": [
      "monthly_portfolio_return = 0.0440\n",
      "risk_free_return = 0.0128\n",
      "mark_date = datetime.date(2020, 8, 1)\n"
     ]
    },
    {
     "name": "stderr",
     "output_type": "stream",
     "text": [
      "/home/josh/cmor462/ropacea/ropacea/Single_factor.py:67: FutureWarning:\n",
      "\n",
      "The behavior of DataFrame concatenation with empty or all-NA entries is deprecated. In a future version, this will no longer exclude empty or all-NA columns when determining the result dtypes. To retain the old behavior, exclude the relevant entries before the concat operation.\n",
      "\n"
     ]
    },
    {
     "name": "stdout",
     "output_type": "stream",
     "text": [
      "monthly_portfolio_return = 0.1129\n",
      "risk_free_return = -0.0147\n",
      "mark_date = datetime.date(2020, 9, 1)\n"
     ]
    },
    {
     "name": "stderr",
     "output_type": "stream",
     "text": [
      "/home/josh/cmor462/ropacea/ropacea/Single_factor.py:67: FutureWarning:\n",
      "\n",
      "The behavior of DataFrame concatenation with empty or all-NA entries is deprecated. In a future version, this will no longer exclude empty or all-NA columns when determining the result dtypes. To retain the old behavior, exclude the relevant entries before the concat operation.\n",
      "\n"
     ]
    },
    {
     "name": "stdout",
     "output_type": "stream",
     "text": [
      "monthly_portfolio_return = -0.0269\n",
      "risk_free_return = 0.0026\n",
      "mark_date = datetime.date(2020, 10, 1)\n",
      "monthly_portfolio_return = -0.0422\n",
      "risk_free_return = -0.0173\n",
      "mark_date = datetime.date(2020, 11, 1)\n"
     ]
    },
    {
     "name": "stderr",
     "output_type": "stream",
     "text": [
      "/home/josh/cmor462/ropacea/ropacea/Single_factor.py:67: FutureWarning:\n",
      "\n",
      "The behavior of DataFrame concatenation with empty or all-NA entries is deprecated. In a future version, this will no longer exclude empty or all-NA columns when determining the result dtypes. To retain the old behavior, exclude the relevant entries before the concat operation.\n",
      "\n",
      "/home/josh/cmor462/ropacea/ropacea/Single_factor.py:67: FutureWarning:\n",
      "\n",
      "The behavior of DataFrame concatenation with empty or all-NA entries is deprecated. In a future version, this will no longer exclude empty or all-NA columns when determining the result dtypes. To retain the old behavior, exclude the relevant entries before the concat operation.\n",
      "\n"
     ]
    },
    {
     "name": "stdout",
     "output_type": "stream",
     "text": [
      "monthly_portfolio_return = 0.0728\n",
      "risk_free_return = 0.0040\n",
      "mark_date = datetime.date(2020, 12, 1)\n"
     ]
    },
    {
     "name": "stderr",
     "output_type": "stream",
     "text": [
      "/home/josh/cmor462/ropacea/ropacea/Single_factor.py:67: FutureWarning:\n",
      "\n",
      "The behavior of DataFrame concatenation with empty or all-NA entries is deprecated. In a future version, this will no longer exclude empty or all-NA columns when determining the result dtypes. To retain the old behavior, exclude the relevant entries before the concat operation.\n",
      "\n"
     ]
    },
    {
     "name": "stdout",
     "output_type": "stream",
     "text": [
      "monthly_portfolio_return = 0.0295\n",
      "risk_free_return = -0.0050\n",
      "mark_date = datetime.date(2021, 1, 1)\n",
      "monthly_portfolio_return = -0.0099\n",
      "risk_free_return = -0.0107\n",
      "mark_date = datetime.date(2021, 2, 1)\n"
     ]
    },
    {
     "name": "stderr",
     "output_type": "stream",
     "text": [
      "/home/josh/cmor462/ropacea/ropacea/Single_factor.py:67: FutureWarning:\n",
      "\n",
      "The behavior of DataFrame concatenation with empty or all-NA entries is deprecated. In a future version, this will no longer exclude empty or all-NA columns when determining the result dtypes. To retain the old behavior, exclude the relevant entries before the concat operation.\n",
      "\n",
      "/home/josh/cmor462/ropacea/ropacea/Single_factor.py:67: FutureWarning:\n",
      "\n",
      "The behavior of DataFrame concatenation with empty or all-NA entries is deprecated. In a future version, this will no longer exclude empty or all-NA columns when determining the result dtypes. To retain the old behavior, exclude the relevant entries before the concat operation.\n",
      "\n"
     ]
    },
    {
     "name": "stdout",
     "output_type": "stream",
     "text": [
      "monthly_portfolio_return = 0.0129\n",
      "risk_free_return = -0.0254\n",
      "mark_date = datetime.date(2021, 3, 1)\n"
     ]
    },
    {
     "name": "stderr",
     "output_type": "stream",
     "text": [
      "/home/josh/cmor462/ropacea/ropacea/Single_factor.py:67: FutureWarning:\n",
      "\n",
      "The behavior of DataFrame concatenation with empty or all-NA entries is deprecated. In a future version, this will no longer exclude empty or all-NA columns when determining the result dtypes. To retain the old behavior, exclude the relevant entries before the concat operation.\n",
      "\n"
     ]
    },
    {
     "name": "stdout",
     "output_type": "stream",
     "text": [
      "monthly_portfolio_return = 0.0219\n",
      "risk_free_return = -0.0293\n",
      "mark_date = datetime.date(2021, 4, 1)\n"
     ]
    },
    {
     "name": "stderr",
     "output_type": "stream",
     "text": [
      "/home/josh/cmor462/ropacea/ropacea/Single_factor.py:67: FutureWarning:\n",
      "\n",
      "The behavior of DataFrame concatenation with empty or all-NA entries is deprecated. In a future version, this will no longer exclude empty or all-NA columns when determining the result dtypes. To retain the old behavior, exclude the relevant entries before the concat operation.\n",
      "\n"
     ]
    },
    {
     "name": "stdout",
     "output_type": "stream",
     "text": [
      "monthly_portfolio_return = 0.0621\n",
      "risk_free_return = 0.0119\n",
      "mark_date = datetime.date(2021, 5, 1)\n"
     ]
    },
    {
     "name": "stderr",
     "output_type": "stream",
     "text": [
      "/home/josh/cmor462/ropacea/ropacea/Single_factor.py:67: FutureWarning:\n",
      "\n",
      "The behavior of DataFrame concatenation with empty or all-NA entries is deprecated. In a future version, this will no longer exclude empty or all-NA columns when determining the result dtypes. To retain the old behavior, exclude the relevant entries before the concat operation.\n",
      "\n"
     ]
    },
    {
     "name": "stdout",
     "output_type": "stream",
     "text": [
      "monthly_portfolio_return = 0.0001\n",
      "risk_free_return = 0.0034\n",
      "mark_date = datetime.date(2021, 6, 1)\n"
     ]
    },
    {
     "name": "stderr",
     "output_type": "stream",
     "text": [
      "/home/josh/cmor462/ropacea/ropacea/Single_factor.py:67: FutureWarning:\n",
      "\n",
      "The behavior of DataFrame concatenation with empty or all-NA entries is deprecated. In a future version, this will no longer exclude empty or all-NA columns when determining the result dtypes. To retain the old behavior, exclude the relevant entries before the concat operation.\n",
      "\n"
     ]
    },
    {
     "name": "stdout",
     "output_type": "stream",
     "text": [
      "monthly_portfolio_return = 0.0924\n",
      "risk_free_return = 0.0141\n",
      "mark_date = datetime.date(2021, 7, 1)\n",
      "monthly_portfolio_return = 0.0377\n",
      "risk_free_return = 0.0238\n",
      "mark_date = datetime.date(2021, 8, 1)\n"
     ]
    },
    {
     "name": "stderr",
     "output_type": "stream",
     "text": [
      "/home/josh/cmor462/ropacea/ropacea/Single_factor.py:67: FutureWarning:\n",
      "\n",
      "The behavior of DataFrame concatenation with empty or all-NA entries is deprecated. In a future version, this will no longer exclude empty or all-NA columns when determining the result dtypes. To retain the old behavior, exclude the relevant entries before the concat operation.\n",
      "\n",
      "/home/josh/cmor462/ropacea/ropacea/Single_factor.py:67: FutureWarning:\n",
      "\n",
      "The behavior of DataFrame concatenation with empty or all-NA entries is deprecated. In a future version, this will no longer exclude empty or all-NA columns when determining the result dtypes. To retain the old behavior, exclude the relevant entries before the concat operation.\n",
      "\n"
     ]
    },
    {
     "name": "stdout",
     "output_type": "stream",
     "text": [
      "monthly_portfolio_return = 0.0487\n",
      "risk_free_return = -0.0048\n",
      "mark_date = datetime.date(2021, 9, 1)\n",
      "monthly_portfolio_return = -0.0704\n",
      "risk_free_return = -0.0154\n",
      "mark_date = datetime.date(2021, 10, 1)\n"
     ]
    },
    {
     "name": "stderr",
     "output_type": "stream",
     "text": [
      "/home/josh/cmor462/ropacea/ropacea/Single_factor.py:67: FutureWarning:\n",
      "\n",
      "The behavior of DataFrame concatenation with empty or all-NA entries is deprecated. In a future version, this will no longer exclude empty or all-NA columns when determining the result dtypes. To retain the old behavior, exclude the relevant entries before the concat operation.\n",
      "\n",
      "/home/josh/cmor462/ropacea/ropacea/Single_factor.py:67: FutureWarning:\n",
      "\n",
      "The behavior of DataFrame concatenation with empty or all-NA entries is deprecated. In a future version, this will no longer exclude empty or all-NA columns when determining the result dtypes. To retain the old behavior, exclude the relevant entries before the concat operation.\n",
      "\n"
     ]
    },
    {
     "name": "stdout",
     "output_type": "stream",
     "text": [
      "monthly_portfolio_return = 0.1216\n",
      "risk_free_return = -0.0049\n",
      "mark_date = datetime.date(2021, 11, 1)\n"
     ]
    },
    {
     "name": "stderr",
     "output_type": "stream",
     "text": [
      "/home/josh/cmor462/ropacea/ropacea/Single_factor.py:67: FutureWarning:\n",
      "\n",
      "The behavior of DataFrame concatenation with empty or all-NA entries is deprecated. In a future version, this will no longer exclude empty or all-NA columns when determining the result dtypes. To retain the old behavior, exclude the relevant entries before the concat operation.\n",
      "\n"
     ]
    },
    {
     "name": "stdout",
     "output_type": "stream",
     "text": [
      "monthly_portfolio_return = 0.0468\n",
      "risk_free_return = 0.0125\n",
      "mark_date = datetime.date(2021, 12, 1)\n"
     ]
    },
    {
     "name": "stderr",
     "output_type": "stream",
     "text": [
      "/home/josh/cmor462/ropacea/ropacea/Single_factor.py:67: FutureWarning:\n",
      "\n",
      "The behavior of DataFrame concatenation with empty or all-NA entries is deprecated. In a future version, this will no longer exclude empty or all-NA columns when determining the result dtypes. To retain the old behavior, exclude the relevant entries before the concat operation.\n",
      "\n"
     ]
    },
    {
     "name": "stdout",
     "output_type": "stream",
     "text": [
      "monthly_portfolio_return = 0.0067\n",
      "risk_free_return = -0.0047\n",
      "========== SUMMARY ==========\n",
      "monthly_returns_bp_mean = 233.36\n",
      "monthly_returns_bp_std = 574.07\n",
      "annualized_mean_pct = 31.89\n",
      "annualized_std_pct = 19.89\n",
      "sharpe_ratio = 1.60\n",
      "mark_date = datetime.date(2017, 1, 1)\n"
     ]
    },
    {
     "name": "stderr",
     "output_type": "stream",
     "text": [
      "/home/josh/cmor462/ropacea/ropacea/Single_factor.py:67: FutureWarning:\n",
      "\n",
      "The behavior of DataFrame concatenation with empty or all-NA entries is deprecated. In a future version, this will no longer exclude empty or all-NA columns when determining the result dtypes. To retain the old behavior, exclude the relevant entries before the concat operation.\n",
      "\n"
     ]
    },
    {
     "name": "stdout",
     "output_type": "stream",
     "text": [
      "monthly_portfolio_return = 0.0444\n",
      "risk_free_return = 0.0022\n",
      "mark_date = datetime.date(2017, 2, 1)\n"
     ]
    },
    {
     "name": "stderr",
     "output_type": "stream",
     "text": [
      "/home/josh/cmor462/ropacea/ropacea/Single_factor.py:67: FutureWarning:\n",
      "\n",
      "The behavior of DataFrame concatenation with empty or all-NA entries is deprecated. In a future version, this will no longer exclude empty or all-NA columns when determining the result dtypes. To retain the old behavior, exclude the relevant entries before the concat operation.\n",
      "\n"
     ]
    },
    {
     "name": "stdout",
     "output_type": "stream",
     "text": [
      "monthly_portfolio_return = 0.0117\n",
      "risk_free_return = 0.0074\n",
      "mark_date = datetime.date(2017, 3, 1)\n"
     ]
    },
    {
     "name": "stderr",
     "output_type": "stream",
     "text": [
      "/home/josh/cmor462/ropacea/ropacea/Single_factor.py:67: FutureWarning:\n",
      "\n",
      "The behavior of DataFrame concatenation with empty or all-NA entries is deprecated. In a future version, this will no longer exclude empty or all-NA columns when determining the result dtypes. To retain the old behavior, exclude the relevant entries before the concat operation.\n",
      "\n"
     ]
    },
    {
     "name": "stdout",
     "output_type": "stream",
     "text": [
      "monthly_portfolio_return = 0.0417\n",
      "risk_free_return = 0.0024\n",
      "mark_date = datetime.date(2017, 4, 1)\n"
     ]
    },
    {
     "name": "stderr",
     "output_type": "stream",
     "text": [
      "/home/josh/cmor462/ropacea/ropacea/Single_factor.py:67: FutureWarning:\n",
      "\n",
      "The behavior of DataFrame concatenation with empty or all-NA entries is deprecated. In a future version, this will no longer exclude empty or all-NA columns when determining the result dtypes. To retain the old behavior, exclude the relevant entries before the concat operation.\n",
      "\n"
     ]
    },
    {
     "name": "stdout",
     "output_type": "stream",
     "text": [
      "monthly_portfolio_return = 0.0015\n",
      "risk_free_return = 0.0111\n",
      "mark_date = datetime.date(2017, 5, 1)\n"
     ]
    },
    {
     "name": "stderr",
     "output_type": "stream",
     "text": [
      "/home/josh/cmor462/ropacea/ropacea/Single_factor.py:67: FutureWarning:\n",
      "\n",
      "The behavior of DataFrame concatenation with empty or all-NA entries is deprecated. In a future version, this will no longer exclude empty or all-NA columns when determining the result dtypes. To retain the old behavior, exclude the relevant entries before the concat operation.\n",
      "\n"
     ]
    },
    {
     "name": "stdout",
     "output_type": "stream",
     "text": [
      "monthly_portfolio_return = 0.1007\n",
      "risk_free_return = 0.0079\n",
      "mark_date = datetime.date(2017, 6, 1)\n"
     ]
    },
    {
     "name": "stderr",
     "output_type": "stream",
     "text": [
      "/home/josh/cmor462/ropacea/ropacea/Single_factor.py:67: FutureWarning:\n",
      "\n",
      "The behavior of DataFrame concatenation with empty or all-NA entries is deprecated. In a future version, this will no longer exclude empty or all-NA columns when determining the result dtypes. To retain the old behavior, exclude the relevant entries before the concat operation.\n",
      "\n"
     ]
    },
    {
     "name": "stdout",
     "output_type": "stream",
     "text": [
      "monthly_portfolio_return = -0.0023\n",
      "risk_free_return = -0.0013\n",
      "mark_date = datetime.date(2017, 7, 1)\n"
     ]
    },
    {
     "name": "stderr",
     "output_type": "stream",
     "text": [
      "/home/josh/cmor462/ropacea/ropacea/Single_factor.py:67: FutureWarning:\n",
      "\n",
      "The behavior of DataFrame concatenation with empty or all-NA entries is deprecated. In a future version, this will no longer exclude empty or all-NA columns when determining the result dtypes. To retain the old behavior, exclude the relevant entries before the concat operation.\n",
      "\n"
     ]
    },
    {
     "name": "stdout",
     "output_type": "stream",
     "text": [
      "monthly_portfolio_return = 0.0541\n",
      "risk_free_return = -0.0000\n",
      "mark_date = datetime.date(2017, 8, 1)\n"
     ]
    },
    {
     "name": "stderr",
     "output_type": "stream",
     "text": [
      "/home/josh/cmor462/ropacea/ropacea/Single_factor.py:67: FutureWarning:\n",
      "\n",
      "The behavior of DataFrame concatenation with empty or all-NA entries is deprecated. In a future version, this will no longer exclude empty or all-NA columns when determining the result dtypes. To retain the old behavior, exclude the relevant entries before the concat operation.\n",
      "\n"
     ]
    },
    {
     "name": "stdout",
     "output_type": "stream",
     "text": [
      "monthly_portfolio_return = 0.0299\n",
      "risk_free_return = 0.0171\n",
      "mark_date = datetime.date(2017, 9, 1)\n"
     ]
    },
    {
     "name": "stderr",
     "output_type": "stream",
     "text": [
      "/home/josh/cmor462/ropacea/ropacea/Single_factor.py:67: FutureWarning:\n",
      "\n",
      "The behavior of DataFrame concatenation with empty or all-NA entries is deprecated. In a future version, this will no longer exclude empty or all-NA columns when determining the result dtypes. To retain the old behavior, exclude the relevant entries before the concat operation.\n",
      "\n"
     ]
    },
    {
     "name": "stdout",
     "output_type": "stream",
     "text": [
      "monthly_portfolio_return = 0.0329\n",
      "risk_free_return = -0.0172\n",
      "mark_date = datetime.date(2017, 10, 1)\n",
      "monthly_portfolio_return = 0.1035\n",
      "risk_free_return = -0.0011\n",
      "mark_date = datetime.date(2017, 11, 1)\n"
     ]
    },
    {
     "name": "stderr",
     "output_type": "stream",
     "text": [
      "/home/josh/cmor462/ropacea/ropacea/Single_factor.py:67: FutureWarning:\n",
      "\n",
      "The behavior of DataFrame concatenation with empty or all-NA entries is deprecated. In a future version, this will no longer exclude empty or all-NA columns when determining the result dtypes. To retain the old behavior, exclude the relevant entries before the concat operation.\n",
      "\n",
      "/home/josh/cmor462/ropacea/ropacea/Single_factor.py:67: FutureWarning:\n",
      "\n",
      "The behavior of DataFrame concatenation with empty or all-NA entries is deprecated. In a future version, this will no longer exclude empty or all-NA columns when determining the result dtypes. To retain the old behavior, exclude the relevant entries before the concat operation.\n",
      "\n"
     ]
    },
    {
     "name": "stdout",
     "output_type": "stream",
     "text": [
      "monthly_portfolio_return = 0.0118\n",
      "risk_free_return = -0.0026\n",
      "mark_date = datetime.date(2017, 12, 1)\n",
      "monthly_portfolio_return = 0.0120\n",
      "risk_free_return = 0.0022\n",
      "mark_date = datetime.date(2018, 1, 1)\n"
     ]
    },
    {
     "name": "stderr",
     "output_type": "stream",
     "text": [
      "/home/josh/cmor462/ropacea/ropacea/Single_factor.py:67: FutureWarning:\n",
      "\n",
      "The behavior of DataFrame concatenation with empty or all-NA entries is deprecated. In a future version, this will no longer exclude empty or all-NA columns when determining the result dtypes. To retain the old behavior, exclude the relevant entries before the concat operation.\n",
      "\n",
      "/home/josh/cmor462/ropacea/ropacea/Single_factor.py:67: FutureWarning:\n",
      "\n",
      "The behavior of DataFrame concatenation with empty or all-NA entries is deprecated. In a future version, this will no longer exclude empty or all-NA columns when determining the result dtypes. To retain the old behavior, exclude the relevant entries before the concat operation.\n",
      "\n"
     ]
    },
    {
     "name": "stdout",
     "output_type": "stream",
     "text": [
      "monthly_portfolio_return = 0.1293\n",
      "risk_free_return = -0.0236\n",
      "mark_date = datetime.date(2018, 2, 1)\n"
     ]
    },
    {
     "name": "stderr",
     "output_type": "stream",
     "text": [
      "/home/josh/cmor462/ropacea/ropacea/Single_factor.py:67: FutureWarning:\n",
      "\n",
      "The behavior of DataFrame concatenation with empty or all-NA entries is deprecated. In a future version, this will no longer exclude empty or all-NA columns when determining the result dtypes. To retain the old behavior, exclude the relevant entries before the concat operation.\n",
      "\n"
     ]
    },
    {
     "name": "stdout",
     "output_type": "stream",
     "text": [
      "monthly_portfolio_return = 0.0115\n",
      "risk_free_return = -0.0130\n",
      "mark_date = datetime.date(2018, 3, 1)\n"
     ]
    },
    {
     "name": "stderr",
     "output_type": "stream",
     "text": [
      "/home/josh/cmor462/ropacea/ropacea/Single_factor.py:67: FutureWarning:\n",
      "\n",
      "The behavior of DataFrame concatenation with empty or all-NA entries is deprecated. In a future version, this will no longer exclude empty or all-NA columns when determining the result dtypes. To retain the old behavior, exclude the relevant entries before the concat operation.\n",
      "\n"
     ]
    },
    {
     "name": "stdout",
     "output_type": "stream",
     "text": [
      "monthly_portfolio_return = -0.0197\n",
      "risk_free_return = 0.0128\n",
      "mark_date = datetime.date(2018, 4, 1)\n"
     ]
    },
    {
     "name": "stderr",
     "output_type": "stream",
     "text": [
      "/home/josh/cmor462/ropacea/ropacea/Single_factor.py:67: FutureWarning:\n",
      "\n",
      "The behavior of DataFrame concatenation with empty or all-NA entries is deprecated. In a future version, this will no longer exclude empty or all-NA columns when determining the result dtypes. To retain the old behavior, exclude the relevant entries before the concat operation.\n",
      "\n"
     ]
    },
    {
     "name": "stdout",
     "output_type": "stream",
     "text": [
      "monthly_portfolio_return = 0.0009\n",
      "risk_free_return = -0.0155\n",
      "mark_date = datetime.date(2018, 5, 1)\n",
      "monthly_portfolio_return = 0.0805\n",
      "risk_free_return = 0.0096\n",
      "mark_date = datetime.date(2018, 6, 1)\n"
     ]
    },
    {
     "name": "stderr",
     "output_type": "stream",
     "text": [
      "/home/josh/cmor462/ropacea/ropacea/Single_factor.py:67: FutureWarning:\n",
      "\n",
      "The behavior of DataFrame concatenation with empty or all-NA entries is deprecated. In a future version, this will no longer exclude empty or all-NA columns when determining the result dtypes. To retain the old behavior, exclude the relevant entries before the concat operation.\n",
      "\n",
      "/home/josh/cmor462/ropacea/ropacea/Single_factor.py:67: FutureWarning:\n",
      "\n",
      "The behavior of DataFrame concatenation with empty or all-NA entries is deprecated. In a future version, this will no longer exclude empty or all-NA columns when determining the result dtypes. To retain the old behavior, exclude the relevant entries before the concat operation.\n",
      "\n"
     ]
    },
    {
     "name": "stdout",
     "output_type": "stream",
     "text": [
      "monthly_portfolio_return = -0.0183\n",
      "risk_free_return = 0.0023\n",
      "mark_date = datetime.date(2018, 7, 1)\n"
     ]
    },
    {
     "name": "stderr",
     "output_type": "stream",
     "text": [
      "/home/josh/cmor462/ropacea/ropacea/Single_factor.py:67: FutureWarning:\n",
      "\n",
      "The behavior of DataFrame concatenation with empty or all-NA entries is deprecated. In a future version, this will no longer exclude empty or all-NA columns when determining the result dtypes. To retain the old behavior, exclude the relevant entries before the concat operation.\n",
      "\n"
     ]
    },
    {
     "name": "stdout",
     "output_type": "stream",
     "text": [
      "monthly_portfolio_return = 0.0263\n",
      "risk_free_return = -0.0051\n",
      "mark_date = datetime.date(2018, 8, 1)\n"
     ]
    },
    {
     "name": "stderr",
     "output_type": "stream",
     "text": [
      "/home/josh/cmor462/ropacea/ropacea/Single_factor.py:67: FutureWarning:\n",
      "\n",
      "The behavior of DataFrame concatenation with empty or all-NA entries is deprecated. In a future version, this will no longer exclude empty or all-NA columns when determining the result dtypes. To retain the old behavior, exclude the relevant entries before the concat operation.\n",
      "\n"
     ]
    },
    {
     "name": "stdout",
     "output_type": "stream",
     "text": [
      "monthly_portfolio_return = 0.0732\n",
      "risk_free_return = 0.0101\n",
      "mark_date = datetime.date(2018, 9, 1)\n"
     ]
    },
    {
     "name": "stderr",
     "output_type": "stream",
     "text": [
      "/home/josh/cmor462/ropacea/ropacea/Single_factor.py:67: FutureWarning:\n",
      "\n",
      "The behavior of DataFrame concatenation with empty or all-NA entries is deprecated. In a future version, this will no longer exclude empty or all-NA columns when determining the result dtypes. To retain the old behavior, exclude the relevant entries before the concat operation.\n",
      "\n"
     ]
    },
    {
     "name": "stdout",
     "output_type": "stream",
     "text": [
      "monthly_portfolio_return = 0.0034\n",
      "risk_free_return = -0.0148\n",
      "mark_date = datetime.date(2018, 10, 1)\n"
     ]
    },
    {
     "name": "stderr",
     "output_type": "stream",
     "text": [
      "/home/josh/cmor462/ropacea/ropacea/Single_factor.py:67: FutureWarning:\n",
      "\n",
      "The behavior of DataFrame concatenation with empty or all-NA entries is deprecated. In a future version, this will no longer exclude empty or all-NA columns when determining the result dtypes. To retain the old behavior, exclude the relevant entries before the concat operation.\n",
      "\n"
     ]
    },
    {
     "name": "stdout",
     "output_type": "stream",
     "text": [
      "monthly_portfolio_return = -0.1087\n",
      "risk_free_return = -0.0043\n",
      "mark_date = datetime.date(2018, 11, 1)\n"
     ]
    },
    {
     "name": "stderr",
     "output_type": "stream",
     "text": [
      "/home/josh/cmor462/ropacea/ropacea/Single_factor.py:67: FutureWarning:\n",
      "\n",
      "The behavior of DataFrame concatenation with empty or all-NA entries is deprecated. In a future version, this will no longer exclude empty or all-NA columns when determining the result dtypes. To retain the old behavior, exclude the relevant entries before the concat operation.\n",
      "\n",
      "/home/josh/cmor462/ropacea/ropacea/Single_factor.py:67: FutureWarning:\n",
      "\n",
      "The behavior of DataFrame concatenation with empty or all-NA entries is deprecated. In a future version, this will no longer exclude empty or all-NA columns when determining the result dtypes. To retain the old behavior, exclude the relevant entries before the concat operation.\n",
      "\n"
     ]
    },
    {
     "name": "stdout",
     "output_type": "stream",
     "text": [
      "monthly_portfolio_return = -0.0241\n",
      "risk_free_return = 0.0149\n",
      "mark_date = datetime.date(2018, 12, 1)\n",
      "monthly_portfolio_return = -0.0977\n",
      "risk_free_return = 0.0286\n",
      "mark_date = datetime.date(2019, 1, 1)\n"
     ]
    },
    {
     "name": "stderr",
     "output_type": "stream",
     "text": [
      "/home/josh/cmor462/ropacea/ropacea/Single_factor.py:67: FutureWarning:\n",
      "\n",
      "The behavior of DataFrame concatenation with empty or all-NA entries is deprecated. In a future version, this will no longer exclude empty or all-NA columns when determining the result dtypes. To retain the old behavior, exclude the relevant entries before the concat operation.\n",
      "\n"
     ]
    },
    {
     "name": "stdout",
     "output_type": "stream",
     "text": [
      "monthly_portfolio_return = 0.0679\n",
      "risk_free_return = 0.0071\n",
      "mark_date = datetime.date(2019, 2, 1)\n",
      "monthly_portfolio_return = 0.0661\n",
      "risk_free_return = -0.0043\n",
      "mark_date = datetime.date(2019, 3, 1)\n"
     ]
    },
    {
     "name": "stderr",
     "output_type": "stream",
     "text": [
      "/home/josh/cmor462/ropacea/ropacea/Single_factor.py:67: FutureWarning:\n",
      "\n",
      "The behavior of DataFrame concatenation with empty or all-NA entries is deprecated. In a future version, this will no longer exclude empty or all-NA columns when determining the result dtypes. To retain the old behavior, exclude the relevant entries before the concat operation.\n",
      "\n",
      "/home/josh/cmor462/ropacea/ropacea/Single_factor.py:67: FutureWarning:\n",
      "\n",
      "The behavior of DataFrame concatenation with empty or all-NA entries is deprecated. In a future version, this will no longer exclude empty or all-NA columns when determining the result dtypes. To retain the old behavior, exclude the relevant entries before the concat operation.\n",
      "\n"
     ]
    },
    {
     "name": "stdout",
     "output_type": "stream",
     "text": [
      "monthly_portfolio_return = 0.0590\n",
      "risk_free_return = 0.0294\n",
      "mark_date = datetime.date(2019, 4, 1)\n"
     ]
    },
    {
     "name": "stderr",
     "output_type": "stream",
     "text": [
      "/home/josh/cmor462/ropacea/ropacea/Single_factor.py:67: FutureWarning:\n",
      "\n",
      "The behavior of DataFrame concatenation with empty or all-NA entries is deprecated. In a future version, this will no longer exclude empty or all-NA columns when determining the result dtypes. To retain the old behavior, exclude the relevant entries before the concat operation.\n",
      "\n"
     ]
    },
    {
     "name": "stdout",
     "output_type": "stream",
     "text": [
      "monthly_portfolio_return = 0.0665\n",
      "risk_free_return = -0.0062\n",
      "mark_date = datetime.date(2019, 5, 1)\n"
     ]
    },
    {
     "name": "stderr",
     "output_type": "stream",
     "text": [
      "/home/josh/cmor462/ropacea/ropacea/Single_factor.py:67: FutureWarning:\n",
      "\n",
      "The behavior of DataFrame concatenation with empty or all-NA entries is deprecated. In a future version, this will no longer exclude empty or all-NA columns when determining the result dtypes. To retain the old behavior, exclude the relevant entries before the concat operation.\n",
      "\n",
      "/home/josh/cmor462/ropacea/ropacea/Single_factor.py:67: FutureWarning:\n",
      "\n",
      "The behavior of DataFrame concatenation with empty or all-NA entries is deprecated. In a future version, this will no longer exclude empty or all-NA columns when determining the result dtypes. To retain the old behavior, exclude the relevant entries before the concat operation.\n",
      "\n"
     ]
    },
    {
     "name": "stdout",
     "output_type": "stream",
     "text": [
      "monthly_portfolio_return = -0.0798\n",
      "risk_free_return = 0.0319\n",
      "mark_date = datetime.date(2019, 6, 1)\n",
      "monthly_portfolio_return = 0.0882\n",
      "risk_free_return = 0.0121\n",
      "mark_date = datetime.date(2019, 7, 1)\n",
      "monthly_portfolio_return = 0.0288\n",
      "risk_free_return = 0.0034\n",
      "mark_date = datetime.date(2019, 8, 1)\n"
     ]
    },
    {
     "name": "stderr",
     "output_type": "stream",
     "text": [
      "/home/josh/cmor462/ropacea/ropacea/Single_factor.py:67: FutureWarning:\n",
      "\n",
      "The behavior of DataFrame concatenation with empty or all-NA entries is deprecated. In a future version, this will no longer exclude empty or all-NA columns when determining the result dtypes. To retain the old behavior, exclude the relevant entries before the concat operation.\n",
      "\n",
      "/home/josh/cmor462/ropacea/ropacea/Single_factor.py:67: FutureWarning:\n",
      "\n",
      "The behavior of DataFrame concatenation with empty or all-NA entries is deprecated. In a future version, this will no longer exclude empty or all-NA columns when determining the result dtypes. To retain the old behavior, exclude the relevant entries before the concat operation.\n",
      "\n"
     ]
    },
    {
     "name": "stdout",
     "output_type": "stream",
     "text": [
      "monthly_portfolio_return = -0.0072\n",
      "risk_free_return = 0.0403\n",
      "mark_date = datetime.date(2019, 9, 1)\n",
      "monthly_portfolio_return = -0.0024\n",
      "risk_free_return = -0.0139\n",
      "mark_date = datetime.date(2019, 10, 1)\n"
     ]
    },
    {
     "name": "stderr",
     "output_type": "stream",
     "text": [
      "/home/josh/cmor462/ropacea/ropacea/Single_factor.py:67: FutureWarning:\n",
      "\n",
      "The behavior of DataFrame concatenation with empty or all-NA entries is deprecated. In a future version, this will no longer exclude empty or all-NA columns when determining the result dtypes. To retain the old behavior, exclude the relevant entries before the concat operation.\n",
      "\n",
      "/home/josh/cmor462/ropacea/ropacea/Single_factor.py:67: FutureWarning:\n",
      "\n",
      "The behavior of DataFrame concatenation with empty or all-NA entries is deprecated. In a future version, this will no longer exclude empty or all-NA columns when determining the result dtypes. To retain the old behavior, exclude the relevant entries before the concat operation.\n",
      "\n"
     ]
    },
    {
     "name": "stdout",
     "output_type": "stream",
     "text": [
      "monthly_portfolio_return = 0.0149\n",
      "risk_free_return = -0.0007\n",
      "mark_date = datetime.date(2019, 11, 1)\n",
      "monthly_portfolio_return = 0.0658\n",
      "risk_free_return = -0.0074\n",
      "mark_date = datetime.date(2019, 12, 1)\n"
     ]
    },
    {
     "name": "stderr",
     "output_type": "stream",
     "text": [
      "/home/josh/cmor462/ropacea/ropacea/Single_factor.py:67: FutureWarning:\n",
      "\n",
      "The behavior of DataFrame concatenation with empty or all-NA entries is deprecated. In a future version, this will no longer exclude empty or all-NA columns when determining the result dtypes. To retain the old behavior, exclude the relevant entries before the concat operation.\n",
      "\n",
      "/home/josh/cmor462/ropacea/ropacea/Single_factor.py:67: FutureWarning:\n",
      "\n",
      "The behavior of DataFrame concatenation with empty or all-NA entries is deprecated. In a future version, this will no longer exclude empty or all-NA columns when determining the result dtypes. To retain the old behavior, exclude the relevant entries before the concat operation.\n",
      "\n"
     ]
    },
    {
     "name": "stdout",
     "output_type": "stream",
     "text": [
      "monthly_portfolio_return = 0.0526\n",
      "risk_free_return = -0.0113\n",
      "mark_date = datetime.date(2020, 1, 1)\n",
      "monthly_portfolio_return = 0.0435\n",
      "risk_free_return = 0.0392\n",
      "mark_date = datetime.date(2020, 2, 1)\n"
     ]
    },
    {
     "name": "stderr",
     "output_type": "stream",
     "text": [
      "/home/josh/cmor462/ropacea/ropacea/Single_factor.py:67: FutureWarning:\n",
      "\n",
      "The behavior of DataFrame concatenation with empty or all-NA entries is deprecated. In a future version, this will no longer exclude empty or all-NA columns when determining the result dtypes. To retain the old behavior, exclude the relevant entries before the concat operation.\n",
      "\n",
      "/home/josh/cmor462/ropacea/ropacea/Single_factor.py:67: FutureWarning:\n",
      "\n",
      "The behavior of DataFrame concatenation with empty or all-NA entries is deprecated. In a future version, this will no longer exclude empty or all-NA columns when determining the result dtypes. To retain the old behavior, exclude the relevant entries before the concat operation.\n",
      "\n"
     ]
    },
    {
     "name": "stdout",
     "output_type": "stream",
     "text": [
      "monthly_portfolio_return = -0.0399\n",
      "risk_free_return = 0.0299\n",
      "mark_date = datetime.date(2020, 3, 1)\n",
      "monthly_portfolio_return = -0.0899\n",
      "risk_free_return = 0.0397\n",
      "mark_date = datetime.date(2020, 4, 1)\n"
     ]
    },
    {
     "name": "stderr",
     "output_type": "stream",
     "text": [
      "/home/josh/cmor462/ropacea/ropacea/Single_factor.py:67: FutureWarning:\n",
      "\n",
      "The behavior of DataFrame concatenation with empty or all-NA entries is deprecated. In a future version, this will no longer exclude empty or all-NA columns when determining the result dtypes. To retain the old behavior, exclude the relevant entries before the concat operation.\n",
      "\n",
      "/home/josh/cmor462/ropacea/ropacea/Single_factor.py:67: FutureWarning:\n",
      "\n",
      "The behavior of DataFrame concatenation with empty or all-NA entries is deprecated. In a future version, this will no longer exclude empty or all-NA columns when determining the result dtypes. To retain the old behavior, exclude the relevant entries before the concat operation.\n",
      "\n"
     ]
    },
    {
     "name": "stdout",
     "output_type": "stream",
     "text": [
      "monthly_portfolio_return = 0.1299\n",
      "risk_free_return = 0.0050\n",
      "mark_date = datetime.date(2020, 5, 1)\n",
      "monthly_portfolio_return = 0.0626\n",
      "risk_free_return = 0.0007\n",
      "mark_date = datetime.date(2020, 6, 1)\n"
     ]
    },
    {
     "name": "stderr",
     "output_type": "stream",
     "text": [
      "/home/josh/cmor462/ropacea/ropacea/Single_factor.py:67: FutureWarning:\n",
      "\n",
      "The behavior of DataFrame concatenation with empty or all-NA entries is deprecated. In a future version, this will no longer exclude empty or all-NA columns when determining the result dtypes. To retain the old behavior, exclude the relevant entries before the concat operation.\n",
      "\n",
      "/home/josh/cmor462/ropacea/ropacea/Single_factor.py:67: FutureWarning:\n",
      "\n",
      "The behavior of DataFrame concatenation with empty or all-NA entries is deprecated. In a future version, this will no longer exclude empty or all-NA columns when determining the result dtypes. To retain the old behavior, exclude the relevant entries before the concat operation.\n",
      "\n"
     ]
    },
    {
     "name": "stdout",
     "output_type": "stream",
     "text": [
      "monthly_portfolio_return = 0.0662\n",
      "risk_free_return = 0.0004\n",
      "mark_date = datetime.date(2020, 7, 1)\n"
     ]
    },
    {
     "name": "stderr",
     "output_type": "stream",
     "text": [
      "/home/josh/cmor462/ropacea/ropacea/Single_factor.py:67: FutureWarning:\n",
      "\n",
      "The behavior of DataFrame concatenation with empty or all-NA entries is deprecated. In a future version, this will no longer exclude empty or all-NA columns when determining the result dtypes. To retain the old behavior, exclude the relevant entries before the concat operation.\n",
      "\n"
     ]
    },
    {
     "name": "stdout",
     "output_type": "stream",
     "text": [
      "monthly_portfolio_return = 0.0438\n",
      "risk_free_return = 0.0128\n",
      "mark_date = datetime.date(2020, 8, 1)\n"
     ]
    },
    {
     "name": "stderr",
     "output_type": "stream",
     "text": [
      "/home/josh/cmor462/ropacea/ropacea/Single_factor.py:67: FutureWarning:\n",
      "\n",
      "The behavior of DataFrame concatenation with empty or all-NA entries is deprecated. In a future version, this will no longer exclude empty or all-NA columns when determining the result dtypes. To retain the old behavior, exclude the relevant entries before the concat operation.\n",
      "\n"
     ]
    },
    {
     "name": "stdout",
     "output_type": "stream",
     "text": [
      "monthly_portfolio_return = 0.1214\n",
      "risk_free_return = -0.0147\n",
      "mark_date = datetime.date(2020, 9, 1)\n"
     ]
    },
    {
     "name": "stderr",
     "output_type": "stream",
     "text": [
      "/home/josh/cmor462/ropacea/ropacea/Single_factor.py:67: FutureWarning:\n",
      "\n",
      "The behavior of DataFrame concatenation with empty or all-NA entries is deprecated. In a future version, this will no longer exclude empty or all-NA columns when determining the result dtypes. To retain the old behavior, exclude the relevant entries before the concat operation.\n",
      "\n"
     ]
    },
    {
     "name": "stdout",
     "output_type": "stream",
     "text": [
      "monthly_portfolio_return = -0.0316\n",
      "risk_free_return = 0.0026\n",
      "mark_date = datetime.date(2020, 10, 1)\n"
     ]
    },
    {
     "name": "stderr",
     "output_type": "stream",
     "text": [
      "/home/josh/cmor462/ropacea/ropacea/Single_factor.py:67: FutureWarning:\n",
      "\n",
      "The behavior of DataFrame concatenation with empty or all-NA entries is deprecated. In a future version, this will no longer exclude empty or all-NA columns when determining the result dtypes. To retain the old behavior, exclude the relevant entries before the concat operation.\n",
      "\n"
     ]
    },
    {
     "name": "stdout",
     "output_type": "stream",
     "text": [
      "monthly_portfolio_return = -0.0458\n",
      "risk_free_return = -0.0173\n",
      "mark_date = datetime.date(2020, 11, 1)\n"
     ]
    },
    {
     "name": "stderr",
     "output_type": "stream",
     "text": [
      "/home/josh/cmor462/ropacea/ropacea/Single_factor.py:67: FutureWarning:\n",
      "\n",
      "The behavior of DataFrame concatenation with empty or all-NA entries is deprecated. In a future version, this will no longer exclude empty or all-NA columns when determining the result dtypes. To retain the old behavior, exclude the relevant entries before the concat operation.\n",
      "\n"
     ]
    },
    {
     "name": "stdout",
     "output_type": "stream",
     "text": [
      "monthly_portfolio_return = 0.0709\n",
      "risk_free_return = 0.0040\n",
      "mark_date = datetime.date(2020, 12, 1)\n"
     ]
    },
    {
     "name": "stderr",
     "output_type": "stream",
     "text": [
      "/home/josh/cmor462/ropacea/ropacea/Single_factor.py:67: FutureWarning:\n",
      "\n",
      "The behavior of DataFrame concatenation with empty or all-NA entries is deprecated. In a future version, this will no longer exclude empty or all-NA columns when determining the result dtypes. To retain the old behavior, exclude the relevant entries before the concat operation.\n",
      "\n"
     ]
    },
    {
     "name": "stdout",
     "output_type": "stream",
     "text": [
      "monthly_portfolio_return = 0.0320\n",
      "risk_free_return = -0.0050\n",
      "mark_date = datetime.date(2021, 1, 1)\n"
     ]
    },
    {
     "name": "stderr",
     "output_type": "stream",
     "text": [
      "/home/josh/cmor462/ropacea/ropacea/Single_factor.py:67: FutureWarning:\n",
      "\n",
      "The behavior of DataFrame concatenation with empty or all-NA entries is deprecated. In a future version, this will no longer exclude empty or all-NA columns when determining the result dtypes. To retain the old behavior, exclude the relevant entries before the concat operation.\n",
      "\n"
     ]
    },
    {
     "name": "stdout",
     "output_type": "stream",
     "text": [
      "monthly_portfolio_return = -0.0179\n",
      "risk_free_return = -0.0107\n",
      "mark_date = datetime.date(2021, 2, 1)\n"
     ]
    },
    {
     "name": "stderr",
     "output_type": "stream",
     "text": [
      "/home/josh/cmor462/ropacea/ropacea/Single_factor.py:67: FutureWarning:\n",
      "\n",
      "The behavior of DataFrame concatenation with empty or all-NA entries is deprecated. In a future version, this will no longer exclude empty or all-NA columns when determining the result dtypes. To retain the old behavior, exclude the relevant entries before the concat operation.\n",
      "\n"
     ]
    },
    {
     "name": "stdout",
     "output_type": "stream",
     "text": [
      "monthly_portfolio_return = 0.0111\n",
      "risk_free_return = -0.0254\n",
      "mark_date = datetime.date(2021, 3, 1)\n",
      "monthly_portfolio_return = 0.0169\n",
      "risk_free_return = -0.0293\n",
      "mark_date = datetime.date(2021, 4, 1)\n"
     ]
    },
    {
     "name": "stderr",
     "output_type": "stream",
     "text": [
      "/home/josh/cmor462/ropacea/ropacea/Single_factor.py:67: FutureWarning:\n",
      "\n",
      "The behavior of DataFrame concatenation with empty or all-NA entries is deprecated. In a future version, this will no longer exclude empty or all-NA columns when determining the result dtypes. To retain the old behavior, exclude the relevant entries before the concat operation.\n",
      "\n",
      "/home/josh/cmor462/ropacea/ropacea/Single_factor.py:67: FutureWarning:\n",
      "\n",
      "The behavior of DataFrame concatenation with empty or all-NA entries is deprecated. In a future version, this will no longer exclude empty or all-NA columns when determining the result dtypes. To retain the old behavior, exclude the relevant entries before the concat operation.\n",
      "\n"
     ]
    },
    {
     "name": "stdout",
     "output_type": "stream",
     "text": [
      "monthly_portfolio_return = 0.0713\n",
      "risk_free_return = 0.0119\n",
      "mark_date = datetime.date(2021, 5, 1)\n",
      "monthly_portfolio_return = -0.0006\n",
      "risk_free_return = 0.0034\n",
      "mark_date = datetime.date(2021, 6, 1)\n"
     ]
    },
    {
     "name": "stderr",
     "output_type": "stream",
     "text": [
      "/home/josh/cmor462/ropacea/ropacea/Single_factor.py:67: FutureWarning:\n",
      "\n",
      "The behavior of DataFrame concatenation with empty or all-NA entries is deprecated. In a future version, this will no longer exclude empty or all-NA columns when determining the result dtypes. To retain the old behavior, exclude the relevant entries before the concat operation.\n",
      "\n",
      "/home/josh/cmor462/ropacea/ropacea/Single_factor.py:67: FutureWarning:\n",
      "\n",
      "The behavior of DataFrame concatenation with empty or all-NA entries is deprecated. In a future version, this will no longer exclude empty or all-NA columns when determining the result dtypes. To retain the old behavior, exclude the relevant entries before the concat operation.\n",
      "\n"
     ]
    },
    {
     "name": "stdout",
     "output_type": "stream",
     "text": [
      "monthly_portfolio_return = 0.1118\n",
      "risk_free_return = 0.0141\n",
      "mark_date = datetime.date(2021, 7, 1)\n"
     ]
    },
    {
     "name": "stderr",
     "output_type": "stream",
     "text": [
      "/home/josh/cmor462/ropacea/ropacea/Single_factor.py:67: FutureWarning:\n",
      "\n",
      "The behavior of DataFrame concatenation with empty or all-NA entries is deprecated. In a future version, this will no longer exclude empty or all-NA columns when determining the result dtypes. To retain the old behavior, exclude the relevant entries before the concat operation.\n",
      "\n"
     ]
    },
    {
     "name": "stdout",
     "output_type": "stream",
     "text": [
      "monthly_portfolio_return = 0.0391\n",
      "risk_free_return = 0.0238\n",
      "mark_date = datetime.date(2021, 8, 1)\n"
     ]
    },
    {
     "name": "stderr",
     "output_type": "stream",
     "text": [
      "/home/josh/cmor462/ropacea/ropacea/Single_factor.py:67: FutureWarning:\n",
      "\n",
      "The behavior of DataFrame concatenation with empty or all-NA entries is deprecated. In a future version, this will no longer exclude empty or all-NA columns when determining the result dtypes. To retain the old behavior, exclude the relevant entries before the concat operation.\n",
      "\n"
     ]
    },
    {
     "name": "stdout",
     "output_type": "stream",
     "text": [
      "monthly_portfolio_return = 0.0536\n",
      "risk_free_return = -0.0048\n",
      "mark_date = datetime.date(2021, 9, 1)\n"
     ]
    },
    {
     "name": "stderr",
     "output_type": "stream",
     "text": [
      "/home/josh/cmor462/ropacea/ropacea/Single_factor.py:67: FutureWarning:\n",
      "\n",
      "The behavior of DataFrame concatenation with empty or all-NA entries is deprecated. In a future version, this will no longer exclude empty or all-NA columns when determining the result dtypes. To retain the old behavior, exclude the relevant entries before the concat operation.\n",
      "\n"
     ]
    },
    {
     "name": "stdout",
     "output_type": "stream",
     "text": [
      "monthly_portfolio_return = -0.0775\n",
      "risk_free_return = -0.0154\n",
      "mark_date = datetime.date(2021, 10, 1)\n"
     ]
    },
    {
     "name": "stderr",
     "output_type": "stream",
     "text": [
      "/home/josh/cmor462/ropacea/ropacea/Single_factor.py:67: FutureWarning:\n",
      "\n",
      "The behavior of DataFrame concatenation with empty or all-NA entries is deprecated. In a future version, this will no longer exclude empty or all-NA columns when determining the result dtypes. To retain the old behavior, exclude the relevant entries before the concat operation.\n",
      "\n"
     ]
    },
    {
     "name": "stdout",
     "output_type": "stream",
     "text": [
      "monthly_portfolio_return = 0.1380\n",
      "risk_free_return = -0.0049\n",
      "mark_date = datetime.date(2021, 11, 1)\n",
      "monthly_portfolio_return = 0.0644\n",
      "risk_free_return = 0.0125\n",
      "mark_date = datetime.date(2021, 12, 1)\n"
     ]
    },
    {
     "name": "stderr",
     "output_type": "stream",
     "text": [
      "/home/josh/cmor462/ropacea/ropacea/Single_factor.py:67: FutureWarning:\n",
      "\n",
      "The behavior of DataFrame concatenation with empty or all-NA entries is deprecated. In a future version, this will no longer exclude empty or all-NA columns when determining the result dtypes. To retain the old behavior, exclude the relevant entries before the concat operation.\n",
      "\n",
      "/home/josh/cmor462/ropacea/ropacea/Single_factor.py:67: FutureWarning:\n",
      "\n",
      "The behavior of DataFrame concatenation with empty or all-NA entries is deprecated. In a future version, this will no longer exclude empty or all-NA columns when determining the result dtypes. To retain the old behavior, exclude the relevant entries before the concat operation.\n",
      "\n"
     ]
    },
    {
     "name": "stdout",
     "output_type": "stream",
     "text": [
      "monthly_portfolio_return = -0.0067\n",
      "risk_free_return = -0.0047\n",
      "========== SUMMARY ==========\n",
      "monthly_returns_bp_mean = 251.25\n",
      "monthly_returns_bp_std = 612.31\n",
      "annualized_mean_pct = 34.69\n",
      "annualized_std_pct = 21.21\n",
      "sharpe_ratio = 1.64\n",
      "mark_date = datetime.date(2017, 1, 1)\n",
      "monthly_portfolio_return = 0.0439\n",
      "risk_free_return = 0.0022\n",
      "mark_date = datetime.date(2017, 2, 1)\n"
     ]
    },
    {
     "name": "stderr",
     "output_type": "stream",
     "text": [
      "/home/josh/cmor462/ropacea/ropacea/Single_factor.py:67: FutureWarning:\n",
      "\n",
      "The behavior of DataFrame concatenation with empty or all-NA entries is deprecated. In a future version, this will no longer exclude empty or all-NA columns when determining the result dtypes. To retain the old behavior, exclude the relevant entries before the concat operation.\n",
      "\n",
      "/home/josh/cmor462/ropacea/ropacea/Single_factor.py:67: FutureWarning:\n",
      "\n",
      "The behavior of DataFrame concatenation with empty or all-NA entries is deprecated. In a future version, this will no longer exclude empty or all-NA columns when determining the result dtypes. To retain the old behavior, exclude the relevant entries before the concat operation.\n",
      "\n"
     ]
    },
    {
     "name": "stdout",
     "output_type": "stream",
     "text": [
      "monthly_portfolio_return = 0.0059\n",
      "risk_free_return = 0.0074\n",
      "mark_date = datetime.date(2017, 3, 1)\n",
      "monthly_portfolio_return = 0.0466\n",
      "risk_free_return = 0.0024\n",
      "mark_date = datetime.date(2017, 4, 1)\n"
     ]
    },
    {
     "name": "stderr",
     "output_type": "stream",
     "text": [
      "/home/josh/cmor462/ropacea/ropacea/Single_factor.py:67: FutureWarning:\n",
      "\n",
      "The behavior of DataFrame concatenation with empty or all-NA entries is deprecated. In a future version, this will no longer exclude empty or all-NA columns when determining the result dtypes. To retain the old behavior, exclude the relevant entries before the concat operation.\n",
      "\n",
      "/home/josh/cmor462/ropacea/ropacea/Single_factor.py:67: FutureWarning:\n",
      "\n",
      "The behavior of DataFrame concatenation with empty or all-NA entries is deprecated. In a future version, this will no longer exclude empty or all-NA columns when determining the result dtypes. To retain the old behavior, exclude the relevant entries before the concat operation.\n",
      "\n"
     ]
    },
    {
     "name": "stdout",
     "output_type": "stream",
     "text": [
      "monthly_portfolio_return = -0.0007\n",
      "risk_free_return = 0.0111\n",
      "mark_date = datetime.date(2017, 5, 1)\n"
     ]
    },
    {
     "name": "stderr",
     "output_type": "stream",
     "text": [
      "/home/josh/cmor462/ropacea/ropacea/Single_factor.py:67: FutureWarning:\n",
      "\n",
      "The behavior of DataFrame concatenation with empty or all-NA entries is deprecated. In a future version, this will no longer exclude empty or all-NA columns when determining the result dtypes. To retain the old behavior, exclude the relevant entries before the concat operation.\n",
      "\n"
     ]
    },
    {
     "name": "stdout",
     "output_type": "stream",
     "text": [
      "monthly_portfolio_return = 0.1222\n",
      "risk_free_return = 0.0079\n",
      "mark_date = datetime.date(2017, 6, 1)\n"
     ]
    },
    {
     "name": "stderr",
     "output_type": "stream",
     "text": [
      "/home/josh/cmor462/ropacea/ropacea/Single_factor.py:67: FutureWarning:\n",
      "\n",
      "The behavior of DataFrame concatenation with empty or all-NA entries is deprecated. In a future version, this will no longer exclude empty or all-NA columns when determining the result dtypes. To retain the old behavior, exclude the relevant entries before the concat operation.\n",
      "\n"
     ]
    },
    {
     "name": "stdout",
     "output_type": "stream",
     "text": [
      "monthly_portfolio_return = -0.0048\n",
      "risk_free_return = -0.0013\n",
      "mark_date = datetime.date(2017, 7, 1)\n",
      "monthly_portfolio_return = 0.0574\n"
     ]
    },
    {
     "name": "stderr",
     "output_type": "stream",
     "text": [
      "/home/josh/cmor462/ropacea/ropacea/Single_factor.py:67: FutureWarning:\n",
      "\n",
      "The behavior of DataFrame concatenation with empty or all-NA entries is deprecated. In a future version, this will no longer exclude empty or all-NA columns when determining the result dtypes. To retain the old behavior, exclude the relevant entries before the concat operation.\n",
      "\n",
      "/home/josh/cmor462/ropacea/ropacea/Single_factor.py:67: FutureWarning:\n",
      "\n",
      "The behavior of DataFrame concatenation with empty or all-NA entries is deprecated. In a future version, this will no longer exclude empty or all-NA columns when determining the result dtypes. To retain the old behavior, exclude the relevant entries before the concat operation.\n",
      "\n"
     ]
    },
    {
     "name": "stdout",
     "output_type": "stream",
     "text": [
      "risk_free_return = -0.0000\n",
      "mark_date = datetime.date(2017, 8, 1)\n",
      "monthly_portfolio_return = 0.0343\n",
      "risk_free_return = 0.0171\n",
      "mark_date = datetime.date(2017, 9, 1)\n"
     ]
    },
    {
     "name": "stderr",
     "output_type": "stream",
     "text": [
      "/home/josh/cmor462/ropacea/ropacea/Single_factor.py:67: FutureWarning:\n",
      "\n",
      "The behavior of DataFrame concatenation with empty or all-NA entries is deprecated. In a future version, this will no longer exclude empty or all-NA columns when determining the result dtypes. To retain the old behavior, exclude the relevant entries before the concat operation.\n",
      "\n"
     ]
    },
    {
     "name": "stdout",
     "output_type": "stream",
     "text": [
      "monthly_portfolio_return = 0.0317\n",
      "risk_free_return = -0.0172\n",
      "mark_date = datetime.date(2017, 10, 1)\n",
      "monthly_portfolio_return = 0.1123\n",
      "risk_free_return = -0.0011\n",
      "mark_date = datetime.date(2017, 11, 1)\n"
     ]
    },
    {
     "name": "stderr",
     "output_type": "stream",
     "text": [
      "/home/josh/cmor462/ropacea/ropacea/Single_factor.py:67: FutureWarning:\n",
      "\n",
      "The behavior of DataFrame concatenation with empty or all-NA entries is deprecated. In a future version, this will no longer exclude empty or all-NA columns when determining the result dtypes. To retain the old behavior, exclude the relevant entries before the concat operation.\n",
      "\n",
      "/home/josh/cmor462/ropacea/ropacea/Single_factor.py:67: FutureWarning:\n",
      "\n",
      "The behavior of DataFrame concatenation with empty or all-NA entries is deprecated. In a future version, this will no longer exclude empty or all-NA columns when determining the result dtypes. To retain the old behavior, exclude the relevant entries before the concat operation.\n",
      "\n"
     ]
    },
    {
     "name": "stdout",
     "output_type": "stream",
     "text": [
      "monthly_portfolio_return = 0.0099\n",
      "risk_free_return = -0.0026\n",
      "mark_date = datetime.date(2017, 12, 1)\n",
      "monthly_portfolio_return = 0.0082\n",
      "risk_free_return = 0.0022\n",
      "mark_date = datetime.date(2018, 1, 1)\n"
     ]
    },
    {
     "name": "stderr",
     "output_type": "stream",
     "text": [
      "/home/josh/cmor462/ropacea/ropacea/Single_factor.py:67: FutureWarning:\n",
      "\n",
      "The behavior of DataFrame concatenation with empty or all-NA entries is deprecated. In a future version, this will no longer exclude empty or all-NA columns when determining the result dtypes. To retain the old behavior, exclude the relevant entries before the concat operation.\n",
      "\n",
      "/home/josh/cmor462/ropacea/ropacea/Single_factor.py:67: FutureWarning:\n",
      "\n",
      "The behavior of DataFrame concatenation with empty or all-NA entries is deprecated. In a future version, this will no longer exclude empty or all-NA columns when determining the result dtypes. To retain the old behavior, exclude the relevant entries before the concat operation.\n",
      "\n"
     ]
    },
    {
     "name": "stdout",
     "output_type": "stream",
     "text": [
      "monthly_portfolio_return = 0.1390\n",
      "risk_free_return = -0.0236\n",
      "mark_date = datetime.date(2018, 2, 1)\n"
     ]
    },
    {
     "name": "stderr",
     "output_type": "stream",
     "text": [
      "/home/josh/cmor462/ropacea/ropacea/Single_factor.py:67: FutureWarning:\n",
      "\n",
      "The behavior of DataFrame concatenation with empty or all-NA entries is deprecated. In a future version, this will no longer exclude empty or all-NA columns when determining the result dtypes. To retain the old behavior, exclude the relevant entries before the concat operation.\n",
      "\n"
     ]
    },
    {
     "name": "stdout",
     "output_type": "stream",
     "text": [
      "monthly_portfolio_return = 0.0105\n",
      "risk_free_return = -0.0130\n",
      "mark_date = datetime.date(2018, 3, 1)\n"
     ]
    },
    {
     "name": "stderr",
     "output_type": "stream",
     "text": [
      "/home/josh/cmor462/ropacea/ropacea/Single_factor.py:67: FutureWarning:\n",
      "\n",
      "The behavior of DataFrame concatenation with empty or all-NA entries is deprecated. In a future version, this will no longer exclude empty or all-NA columns when determining the result dtypes. To retain the old behavior, exclude the relevant entries before the concat operation.\n",
      "\n"
     ]
    },
    {
     "name": "stdout",
     "output_type": "stream",
     "text": [
      "monthly_portfolio_return = -0.0186\n",
      "risk_free_return = 0.0128\n",
      "mark_date = datetime.date(2018, 4, 1)\n"
     ]
    },
    {
     "name": "stderr",
     "output_type": "stream",
     "text": [
      "/home/josh/cmor462/ropacea/ropacea/Single_factor.py:67: FutureWarning:\n",
      "\n",
      "The behavior of DataFrame concatenation with empty or all-NA entries is deprecated. In a future version, this will no longer exclude empty or all-NA columns when determining the result dtypes. To retain the old behavior, exclude the relevant entries before the concat operation.\n",
      "\n",
      "/home/josh/cmor462/ropacea/ropacea/Single_factor.py:67: FutureWarning:\n",
      "\n",
      "The behavior of DataFrame concatenation with empty or all-NA entries is deprecated. In a future version, this will no longer exclude empty or all-NA columns when determining the result dtypes. To retain the old behavior, exclude the relevant entries before the concat operation.\n",
      "\n"
     ]
    },
    {
     "name": "stdout",
     "output_type": "stream",
     "text": [
      "monthly_portfolio_return = 0.0001\n",
      "risk_free_return = -0.0155\n",
      "mark_date = datetime.date(2018, 5, 1)\n",
      "monthly_portfolio_return = 0.0881\n",
      "risk_free_return = 0.0096\n",
      "mark_date = datetime.date(2018, 6, 1)\n",
      "monthly_portfolio_return = -0.0188\n",
      "risk_free_return = 0.0023\n",
      "mark_date = datetime.date(2018, 7, 1)\n"
     ]
    },
    {
     "name": "stderr",
     "output_type": "stream",
     "text": [
      "/home/josh/cmor462/ropacea/ropacea/Single_factor.py:67: FutureWarning:\n",
      "\n",
      "The behavior of DataFrame concatenation with empty or all-NA entries is deprecated. In a future version, this will no longer exclude empty or all-NA columns when determining the result dtypes. To retain the old behavior, exclude the relevant entries before the concat operation.\n",
      "\n",
      "/home/josh/cmor462/ropacea/ropacea/Single_factor.py:67: FutureWarning:\n",
      "\n",
      "The behavior of DataFrame concatenation with empty or all-NA entries is deprecated. In a future version, this will no longer exclude empty or all-NA columns when determining the result dtypes. To retain the old behavior, exclude the relevant entries before the concat operation.\n",
      "\n"
     ]
    },
    {
     "name": "stdout",
     "output_type": "stream",
     "text": [
      "monthly_portfolio_return = 0.0240\n",
      "risk_free_return = -0.0051\n",
      "mark_date = datetime.date(2018, 8, 1)\n",
      "monthly_portfolio_return = 0.0795\n",
      "risk_free_return = 0.0101\n",
      "mark_date = datetime.date(2018, 9, 1)\n"
     ]
    },
    {
     "name": "stderr",
     "output_type": "stream",
     "text": [
      "/home/josh/cmor462/ropacea/ropacea/Single_factor.py:67: FutureWarning:\n",
      "\n",
      "The behavior of DataFrame concatenation with empty or all-NA entries is deprecated. In a future version, this will no longer exclude empty or all-NA columns when determining the result dtypes. To retain the old behavior, exclude the relevant entries before the concat operation.\n",
      "\n",
      "/home/josh/cmor462/ropacea/ropacea/Single_factor.py:67: FutureWarning:\n",
      "\n",
      "The behavior of DataFrame concatenation with empty or all-NA entries is deprecated. In a future version, this will no longer exclude empty or all-NA columns when determining the result dtypes. To retain the old behavior, exclude the relevant entries before the concat operation.\n",
      "\n"
     ]
    },
    {
     "name": "stdout",
     "output_type": "stream",
     "text": [
      "monthly_portfolio_return = 0.0047\n",
      "risk_free_return = -0.0148\n",
      "mark_date = datetime.date(2018, 10, 1)\n"
     ]
    },
    {
     "name": "stderr",
     "output_type": "stream",
     "text": [
      "/home/josh/cmor462/ropacea/ropacea/Single_factor.py:67: FutureWarning:\n",
      "\n",
      "The behavior of DataFrame concatenation with empty or all-NA entries is deprecated. In a future version, this will no longer exclude empty or all-NA columns when determining the result dtypes. To retain the old behavior, exclude the relevant entries before the concat operation.\n",
      "\n",
      "/home/josh/cmor462/ropacea/ropacea/Single_factor.py:67: FutureWarning:\n",
      "\n",
      "The behavior of DataFrame concatenation with empty or all-NA entries is deprecated. In a future version, this will no longer exclude empty or all-NA columns when determining the result dtypes. To retain the old behavior, exclude the relevant entries before the concat operation.\n",
      "\n"
     ]
    },
    {
     "name": "stdout",
     "output_type": "stream",
     "text": [
      "monthly_portfolio_return = -0.1168\n",
      "risk_free_return = -0.0043\n",
      "mark_date = datetime.date(2018, 11, 1)\n",
      "monthly_portfolio_return = -0.0351\n",
      "risk_free_return = 0.0149\n",
      "mark_date = datetime.date(2018, 12, 1)\n"
     ]
    },
    {
     "name": "stderr",
     "output_type": "stream",
     "text": [
      "/home/josh/cmor462/ropacea/ropacea/Single_factor.py:67: FutureWarning:\n",
      "\n",
      "The behavior of DataFrame concatenation with empty or all-NA entries is deprecated. In a future version, this will no longer exclude empty or all-NA columns when determining the result dtypes. To retain the old behavior, exclude the relevant entries before the concat operation.\n",
      "\n",
      "/home/josh/cmor462/ropacea/ropacea/Single_factor.py:67: FutureWarning:\n",
      "\n",
      "The behavior of DataFrame concatenation with empty or all-NA entries is deprecated. In a future version, this will no longer exclude empty or all-NA columns when determining the result dtypes. To retain the old behavior, exclude the relevant entries before the concat operation.\n",
      "\n"
     ]
    },
    {
     "name": "stdout",
     "output_type": "stream",
     "text": [
      "monthly_portfolio_return = -0.1039\n",
      "risk_free_return = 0.0286\n",
      "mark_date = datetime.date(2019, 1, 1)\n",
      "monthly_portfolio_return = 0.0699\n",
      "risk_free_return = 0.0071\n",
      "mark_date = datetime.date(2019, 2, 1)\n"
     ]
    },
    {
     "name": "stderr",
     "output_type": "stream",
     "text": [
      "/home/josh/cmor462/ropacea/ropacea/Single_factor.py:67: FutureWarning:\n",
      "\n",
      "The behavior of DataFrame concatenation with empty or all-NA entries is deprecated. In a future version, this will no longer exclude empty or all-NA columns when determining the result dtypes. To retain the old behavior, exclude the relevant entries before the concat operation.\n",
      "\n"
     ]
    },
    {
     "name": "stdout",
     "output_type": "stream",
     "text": [
      "monthly_portfolio_return = 0.0662\n",
      "risk_free_return = -0.0043\n",
      "mark_date = datetime.date(2019, 3, 1)\n"
     ]
    },
    {
     "name": "stderr",
     "output_type": "stream",
     "text": [
      "/home/josh/cmor462/ropacea/ropacea/Single_factor.py:67: FutureWarning:\n",
      "\n",
      "The behavior of DataFrame concatenation with empty or all-NA entries is deprecated. In a future version, this will no longer exclude empty or all-NA columns when determining the result dtypes. To retain the old behavior, exclude the relevant entries before the concat operation.\n",
      "\n"
     ]
    },
    {
     "name": "stdout",
     "output_type": "stream",
     "text": [
      "monthly_portfolio_return = 0.0650\n",
      "risk_free_return = 0.0294\n",
      "mark_date = datetime.date(2019, 4, 1)\n",
      "monthly_portfolio_return = 0.0695\n",
      "risk_free_return = -0.0062\n",
      "mark_date = datetime.date(2019, 5, 1)\n"
     ]
    },
    {
     "name": "stderr",
     "output_type": "stream",
     "text": [
      "/home/josh/cmor462/ropacea/ropacea/Single_factor.py:67: FutureWarning:\n",
      "\n",
      "The behavior of DataFrame concatenation with empty or all-NA entries is deprecated. In a future version, this will no longer exclude empty or all-NA columns when determining the result dtypes. To retain the old behavior, exclude the relevant entries before the concat operation.\n",
      "\n",
      "/home/josh/cmor462/ropacea/ropacea/Single_factor.py:67: FutureWarning:\n",
      "\n",
      "The behavior of DataFrame concatenation with empty or all-NA entries is deprecated. In a future version, this will no longer exclude empty or all-NA columns when determining the result dtypes. To retain the old behavior, exclude the relevant entries before the concat operation.\n",
      "\n"
     ]
    },
    {
     "name": "stdout",
     "output_type": "stream",
     "text": [
      "monthly_portfolio_return = -0.0841\n",
      "risk_free_return = 0.0319\n",
      "mark_date = datetime.date(2019, 6, 1)\n",
      "monthly_portfolio_return = 0.0925\n",
      "risk_free_return = 0.0121\n",
      "mark_date = datetime.date(2019, 7, 1)\n"
     ]
    },
    {
     "name": "stderr",
     "output_type": "stream",
     "text": [
      "/home/josh/cmor462/ropacea/ropacea/Single_factor.py:67: FutureWarning:\n",
      "\n",
      "The behavior of DataFrame concatenation with empty or all-NA entries is deprecated. In a future version, this will no longer exclude empty or all-NA columns when determining the result dtypes. To retain the old behavior, exclude the relevant entries before the concat operation.\n",
      "\n",
      "/home/josh/cmor462/ropacea/ropacea/Single_factor.py:67: FutureWarning:\n",
      "\n",
      "The behavior of DataFrame concatenation with empty or all-NA entries is deprecated. In a future version, this will no longer exclude empty or all-NA columns when determining the result dtypes. To retain the old behavior, exclude the relevant entries before the concat operation.\n",
      "\n"
     ]
    },
    {
     "name": "stdout",
     "output_type": "stream",
     "text": [
      "monthly_portfolio_return = 0.0275\n",
      "risk_free_return = 0.0034\n",
      "mark_date = datetime.date(2019, 8, 1)\n",
      "monthly_portfolio_return = -0.0050\n",
      "risk_free_return = 0.0403\n",
      "mark_date = datetime.date(2019, 9, 1)\n"
     ]
    },
    {
     "name": "stderr",
     "output_type": "stream",
     "text": [
      "/home/josh/cmor462/ropacea/ropacea/Single_factor.py:67: FutureWarning:\n",
      "\n",
      "The behavior of DataFrame concatenation with empty or all-NA entries is deprecated. In a future version, this will no longer exclude empty or all-NA columns when determining the result dtypes. To retain the old behavior, exclude the relevant entries before the concat operation.\n",
      "\n",
      "/home/josh/cmor462/ropacea/ropacea/Single_factor.py:67: FutureWarning:\n",
      "\n",
      "The behavior of DataFrame concatenation with empty or all-NA entries is deprecated. In a future version, this will no longer exclude empty or all-NA columns when determining the result dtypes. To retain the old behavior, exclude the relevant entries before the concat operation.\n",
      "\n"
     ]
    },
    {
     "name": "stdout",
     "output_type": "stream",
     "text": [
      "monthly_portfolio_return = -0.0047\n",
      "risk_free_return = -0.0139\n",
      "mark_date = datetime.date(2019, 10, 1)\n",
      "monthly_portfolio_return = 0.0255\n",
      "risk_free_return = -0.0007\n",
      "mark_date = datetime.date(2019, 11, 1)\n"
     ]
    },
    {
     "name": "stderr",
     "output_type": "stream",
     "text": [
      "/home/josh/cmor462/ropacea/ropacea/Single_factor.py:67: FutureWarning:\n",
      "\n",
      "The behavior of DataFrame concatenation with empty or all-NA entries is deprecated. In a future version, this will no longer exclude empty or all-NA columns when determining the result dtypes. To retain the old behavior, exclude the relevant entries before the concat operation.\n",
      "\n",
      "/home/josh/cmor462/ropacea/ropacea/Single_factor.py:67: FutureWarning:\n",
      "\n",
      "The behavior of DataFrame concatenation with empty or all-NA entries is deprecated. In a future version, this will no longer exclude empty or all-NA columns when determining the result dtypes. To retain the old behavior, exclude the relevant entries before the concat operation.\n",
      "\n"
     ]
    },
    {
     "name": "stdout",
     "output_type": "stream",
     "text": [
      "monthly_portfolio_return = 0.0724\n",
      "risk_free_return = -0.0074\n",
      "mark_date = datetime.date(2019, 12, 1)\n"
     ]
    },
    {
     "name": "stderr",
     "output_type": "stream",
     "text": [
      "/home/josh/cmor462/ropacea/ropacea/Single_factor.py:67: FutureWarning:\n",
      "\n",
      "The behavior of DataFrame concatenation with empty or all-NA entries is deprecated. In a future version, this will no longer exclude empty or all-NA columns when determining the result dtypes. To retain the old behavior, exclude the relevant entries before the concat operation.\n",
      "\n"
     ]
    },
    {
     "name": "stdout",
     "output_type": "stream",
     "text": [
      "monthly_portfolio_return = 0.0530\n",
      "risk_free_return = -0.0113\n",
      "mark_date = datetime.date(2020, 1, 1)\n",
      "monthly_portfolio_return = 0.0484\n",
      "risk_free_return = 0.0392\n",
      "mark_date = datetime.date(2020, 2, 1)\n"
     ]
    },
    {
     "name": "stderr",
     "output_type": "stream",
     "text": [
      "/home/josh/cmor462/ropacea/ropacea/Single_factor.py:67: FutureWarning:\n",
      "\n",
      "The behavior of DataFrame concatenation with empty or all-NA entries is deprecated. In a future version, this will no longer exclude empty or all-NA columns when determining the result dtypes. To retain the old behavior, exclude the relevant entries before the concat operation.\n",
      "\n",
      "/home/josh/cmor462/ropacea/ropacea/Single_factor.py:67: FutureWarning:\n",
      "\n",
      "The behavior of DataFrame concatenation with empty or all-NA entries is deprecated. In a future version, this will no longer exclude empty or all-NA columns when determining the result dtypes. To retain the old behavior, exclude the relevant entries before the concat operation.\n",
      "\n"
     ]
    },
    {
     "name": "stdout",
     "output_type": "stream",
     "text": [
      "monthly_portfolio_return = -0.0301\n",
      "risk_free_return = 0.0299\n",
      "mark_date = datetime.date(2020, 3, 1)\n",
      "monthly_portfolio_return = -0.0903\n",
      "risk_free_return = 0.0397\n",
      "mark_date = datetime.date(2020, 4, 1)\n"
     ]
    },
    {
     "name": "stderr",
     "output_type": "stream",
     "text": [
      "/home/josh/cmor462/ropacea/ropacea/Single_factor.py:67: FutureWarning:\n",
      "\n",
      "The behavior of DataFrame concatenation with empty or all-NA entries is deprecated. In a future version, this will no longer exclude empty or all-NA columns when determining the result dtypes. To retain the old behavior, exclude the relevant entries before the concat operation.\n",
      "\n",
      "/home/josh/cmor462/ropacea/ropacea/Single_factor.py:67: FutureWarning:\n",
      "\n",
      "The behavior of DataFrame concatenation with empty or all-NA entries is deprecated. In a future version, this will no longer exclude empty or all-NA columns when determining the result dtypes. To retain the old behavior, exclude the relevant entries before the concat operation.\n",
      "\n"
     ]
    },
    {
     "name": "stdout",
     "output_type": "stream",
     "text": [
      "monthly_portfolio_return = 0.1318\n",
      "risk_free_return = 0.0050\n",
      "mark_date = datetime.date(2020, 5, 1)\n"
     ]
    },
    {
     "name": "stderr",
     "output_type": "stream",
     "text": [
      "/home/josh/cmor462/ropacea/ropacea/Single_factor.py:67: FutureWarning:\n",
      "\n",
      "The behavior of DataFrame concatenation with empty or all-NA entries is deprecated. In a future version, this will no longer exclude empty or all-NA columns when determining the result dtypes. To retain the old behavior, exclude the relevant entries before the concat operation.\n",
      "\n"
     ]
    },
    {
     "name": "stdout",
     "output_type": "stream",
     "text": [
      "monthly_portfolio_return = 0.0689\n",
      "risk_free_return = 0.0007\n",
      "mark_date = datetime.date(2020, 6, 1)\n",
      "monthly_portfolio_return = 0.0734\n",
      "risk_free_return = 0.0004\n",
      "mark_date = datetime.date(2020, 7, 1)\n"
     ]
    },
    {
     "name": "stderr",
     "output_type": "stream",
     "text": [
      "/home/josh/cmor462/ropacea/ropacea/Single_factor.py:67: FutureWarning:\n",
      "\n",
      "The behavior of DataFrame concatenation with empty or all-NA entries is deprecated. In a future version, this will no longer exclude empty or all-NA columns when determining the result dtypes. To retain the old behavior, exclude the relevant entries before the concat operation.\n",
      "\n",
      "/home/josh/cmor462/ropacea/ropacea/Single_factor.py:67: FutureWarning:\n",
      "\n",
      "The behavior of DataFrame concatenation with empty or all-NA entries is deprecated. In a future version, this will no longer exclude empty or all-NA columns when determining the result dtypes. To retain the old behavior, exclude the relevant entries before the concat operation.\n",
      "\n"
     ]
    },
    {
     "name": "stdout",
     "output_type": "stream",
     "text": [
      "monthly_portfolio_return = 0.0447\n",
      "risk_free_return = 0.0128\n",
      "mark_date = datetime.date(2020, 8, 1)\n"
     ]
    },
    {
     "name": "stderr",
     "output_type": "stream",
     "text": [
      "/home/josh/cmor462/ropacea/ropacea/Single_factor.py:67: FutureWarning:\n",
      "\n",
      "The behavior of DataFrame concatenation with empty or all-NA entries is deprecated. In a future version, this will no longer exclude empty or all-NA columns when determining the result dtypes. To retain the old behavior, exclude the relevant entries before the concat operation.\n",
      "\n"
     ]
    },
    {
     "name": "stdout",
     "output_type": "stream",
     "text": [
      "monthly_portfolio_return = 0.1299\n",
      "risk_free_return = -0.0147\n",
      "mark_date = datetime.date(2020, 9, 1)\n",
      "monthly_portfolio_return = -0.0371\n",
      "risk_free_return = 0.0026\n",
      "mark_date = datetime.date(2020, 10, 1)\n"
     ]
    },
    {
     "name": "stderr",
     "output_type": "stream",
     "text": [
      "/home/josh/cmor462/ropacea/ropacea/Single_factor.py:67: FutureWarning:\n",
      "\n",
      "The behavior of DataFrame concatenation with empty or all-NA entries is deprecated. In a future version, this will no longer exclude empty or all-NA columns when determining the result dtypes. To retain the old behavior, exclude the relevant entries before the concat operation.\n",
      "\n",
      "/home/josh/cmor462/ropacea/ropacea/Single_factor.py:67: FutureWarning:\n",
      "\n",
      "The behavior of DataFrame concatenation with empty or all-NA entries is deprecated. In a future version, this will no longer exclude empty or all-NA columns when determining the result dtypes. To retain the old behavior, exclude the relevant entries before the concat operation.\n",
      "\n"
     ]
    },
    {
     "name": "stdout",
     "output_type": "stream",
     "text": [
      "monthly_portfolio_return = -0.0522\n",
      "risk_free_return = -0.0173\n",
      "mark_date = datetime.date(2020, 11, 1)\n",
      "monthly_portfolio_return = 0.0719\n",
      "risk_free_return = 0.0040\n",
      "mark_date = datetime.date(2020, 12, 1)\n"
     ]
    },
    {
     "name": "stderr",
     "output_type": "stream",
     "text": [
      "/home/josh/cmor462/ropacea/ropacea/Single_factor.py:67: FutureWarning:\n",
      "\n",
      "The behavior of DataFrame concatenation with empty or all-NA entries is deprecated. In a future version, this will no longer exclude empty or all-NA columns when determining the result dtypes. To retain the old behavior, exclude the relevant entries before the concat operation.\n",
      "\n",
      "/home/josh/cmor462/ropacea/ropacea/Single_factor.py:67: FutureWarning:\n",
      "\n",
      "The behavior of DataFrame concatenation with empty or all-NA entries is deprecated. In a future version, this will no longer exclude empty or all-NA columns when determining the result dtypes. To retain the old behavior, exclude the relevant entries before the concat operation.\n",
      "\n"
     ]
    },
    {
     "name": "stdout",
     "output_type": "stream",
     "text": [
      "monthly_portfolio_return = 0.0350\n",
      "risk_free_return = -0.0050\n",
      "mark_date = datetime.date(2021, 1, 1)\n"
     ]
    },
    {
     "name": "stderr",
     "output_type": "stream",
     "text": [
      "/home/josh/cmor462/ropacea/ropacea/Single_factor.py:67: FutureWarning:\n",
      "\n",
      "The behavior of DataFrame concatenation with empty or all-NA entries is deprecated. In a future version, this will no longer exclude empty or all-NA columns when determining the result dtypes. To retain the old behavior, exclude the relevant entries before the concat operation.\n",
      "\n"
     ]
    },
    {
     "name": "stdout",
     "output_type": "stream",
     "text": [
      "monthly_portfolio_return = -0.0227\n",
      "risk_free_return = -0.0107\n",
      "mark_date = datetime.date(2021, 2, 1)\n",
      "monthly_portfolio_return = 0.0087\n",
      "risk_free_return = -0.0254\n",
      "mark_date = datetime.date(2021, 3, 1)\n"
     ]
    },
    {
     "name": "stderr",
     "output_type": "stream",
     "text": [
      "/home/josh/cmor462/ropacea/ropacea/Single_factor.py:67: FutureWarning:\n",
      "\n",
      "The behavior of DataFrame concatenation with empty or all-NA entries is deprecated. In a future version, this will no longer exclude empty or all-NA columns when determining the result dtypes. To retain the old behavior, exclude the relevant entries before the concat operation.\n",
      "\n",
      "/home/josh/cmor462/ropacea/ropacea/Single_factor.py:67: FutureWarning:\n",
      "\n",
      "The behavior of DataFrame concatenation with empty or all-NA entries is deprecated. In a future version, this will no longer exclude empty or all-NA columns when determining the result dtypes. To retain the old behavior, exclude the relevant entries before the concat operation.\n",
      "\n"
     ]
    },
    {
     "name": "stdout",
     "output_type": "stream",
     "text": [
      "monthly_portfolio_return = 0.0093\n",
      "risk_free_return = -0.0293\n",
      "mark_date = datetime.date(2021, 4, 1)\n",
      "monthly_portfolio_return = 0.0808\n",
      "risk_free_return = 0.0119\n",
      "mark_date = datetime.date(2021, 5, 1)\n"
     ]
    },
    {
     "name": "stderr",
     "output_type": "stream",
     "text": [
      "/home/josh/cmor462/ropacea/ropacea/Single_factor.py:67: FutureWarning:\n",
      "\n",
      "The behavior of DataFrame concatenation with empty or all-NA entries is deprecated. In a future version, this will no longer exclude empty or all-NA columns when determining the result dtypes. To retain the old behavior, exclude the relevant entries before the concat operation.\n",
      "\n",
      "/home/josh/cmor462/ropacea/ropacea/Single_factor.py:67: FutureWarning:\n",
      "\n",
      "The behavior of DataFrame concatenation with empty or all-NA entries is deprecated. In a future version, this will no longer exclude empty or all-NA columns when determining the result dtypes. To retain the old behavior, exclude the relevant entries before the concat operation.\n",
      "\n"
     ]
    },
    {
     "name": "stdout",
     "output_type": "stream",
     "text": [
      "monthly_portfolio_return = -0.0018\n",
      "risk_free_return = 0.0034\n",
      "mark_date = datetime.date(2021, 6, 1)\n",
      "monthly_portfolio_return = 0.1322\n",
      "risk_free_return = 0.0141\n",
      "mark_date = datetime.date(2021, 7, 1)\n"
     ]
    },
    {
     "name": "stderr",
     "output_type": "stream",
     "text": [
      "/home/josh/cmor462/ropacea/ropacea/Single_factor.py:67: FutureWarning:\n",
      "\n",
      "The behavior of DataFrame concatenation with empty or all-NA entries is deprecated. In a future version, this will no longer exclude empty or all-NA columns when determining the result dtypes. To retain the old behavior, exclude the relevant entries before the concat operation.\n",
      "\n",
      "/home/josh/cmor462/ropacea/ropacea/Single_factor.py:67: FutureWarning:\n",
      "\n",
      "The behavior of DataFrame concatenation with empty or all-NA entries is deprecated. In a future version, this will no longer exclude empty or all-NA columns when determining the result dtypes. To retain the old behavior, exclude the relevant entries before the concat operation.\n",
      "\n"
     ]
    },
    {
     "name": "stdout",
     "output_type": "stream",
     "text": [
      "monthly_portfolio_return = 0.0413\n",
      "risk_free_return = 0.0238\n",
      "mark_date = datetime.date(2021, 8, 1)\n",
      "monthly_portfolio_return = 0.0628\n",
      "risk_free_return = -0.0048\n",
      "mark_date = datetime.date(2021, 9, 1)\n"
     ]
    },
    {
     "name": "stderr",
     "output_type": "stream",
     "text": [
      "/home/josh/cmor462/ropacea/ropacea/Single_factor.py:67: FutureWarning:\n",
      "\n",
      "The behavior of DataFrame concatenation with empty or all-NA entries is deprecated. In a future version, this will no longer exclude empty or all-NA columns when determining the result dtypes. To retain the old behavior, exclude the relevant entries before the concat operation.\n",
      "\n",
      "/home/josh/cmor462/ropacea/ropacea/Single_factor.py:67: FutureWarning:\n",
      "\n",
      "The behavior of DataFrame concatenation with empty or all-NA entries is deprecated. In a future version, this will no longer exclude empty or all-NA columns when determining the result dtypes. To retain the old behavior, exclude the relevant entries before the concat operation.\n",
      "\n"
     ]
    },
    {
     "name": "stdout",
     "output_type": "stream",
     "text": [
      "monthly_portfolio_return = -0.0831\n",
      "risk_free_return = -0.0154\n",
      "mark_date = datetime.date(2021, 10, 1)\n",
      "monthly_portfolio_return = 0.1563\n",
      "risk_free_return = -0.0049\n",
      "mark_date = datetime.date(2021, 11, 1)\n"
     ]
    },
    {
     "name": "stderr",
     "output_type": "stream",
     "text": [
      "/home/josh/cmor462/ropacea/ropacea/Single_factor.py:67: FutureWarning:\n",
      "\n",
      "The behavior of DataFrame concatenation with empty or all-NA entries is deprecated. In a future version, this will no longer exclude empty or all-NA columns when determining the result dtypes. To retain the old behavior, exclude the relevant entries before the concat operation.\n",
      "\n",
      "/home/josh/cmor462/ropacea/ropacea/Single_factor.py:67: FutureWarning:\n",
      "\n",
      "The behavior of DataFrame concatenation with empty or all-NA entries is deprecated. In a future version, this will no longer exclude empty or all-NA columns when determining the result dtypes. To retain the old behavior, exclude the relevant entries before the concat operation.\n",
      "\n"
     ]
    },
    {
     "name": "stdout",
     "output_type": "stream",
     "text": [
      "monthly_portfolio_return = 0.0826\n",
      "risk_free_return = 0.0125\n",
      "mark_date = datetime.date(2021, 12, 1)\n",
      "monthly_portfolio_return = -0.0258\n",
      "risk_free_return = -0.0047\n",
      "========== SUMMARY ==========\n",
      "monthly_returns_bp_mean = 270.63\n",
      "monthly_returns_bp_std = 657.60\n",
      "annualized_mean_pct = 37.77\n",
      "annualized_std_pct = 22.78\n",
      "sharpe_ratio = 1.66\n",
      "mark_date = datetime.date(2017, 1, 1)\n"
     ]
    },
    {
     "name": "stderr",
     "output_type": "stream",
     "text": [
      "/home/josh/cmor462/ropacea/ropacea/Single_factor.py:67: FutureWarning:\n",
      "\n",
      "The behavior of DataFrame concatenation with empty or all-NA entries is deprecated. In a future version, this will no longer exclude empty or all-NA columns when determining the result dtypes. To retain the old behavior, exclude the relevant entries before the concat operation.\n",
      "\n",
      "/home/josh/cmor462/ropacea/ropacea/Single_factor.py:67: FutureWarning:\n",
      "\n",
      "The behavior of DataFrame concatenation with empty or all-NA entries is deprecated. In a future version, this will no longer exclude empty or all-NA columns when determining the result dtypes. To retain the old behavior, exclude the relevant entries before the concat operation.\n",
      "\n"
     ]
    },
    {
     "name": "stdout",
     "output_type": "stream",
     "text": [
      "monthly_portfolio_return = 0.0436\n",
      "risk_free_return = 0.0022\n",
      "mark_date = datetime.date(2017, 2, 1)\n",
      "monthly_portfolio_return = -0.0006\n",
      "risk_free_return = 0.0074\n",
      "mark_date = datetime.date(2017, 3, 1)\n"
     ]
    },
    {
     "name": "stderr",
     "output_type": "stream",
     "text": [
      "/home/josh/cmor462/ropacea/ropacea/Single_factor.py:67: FutureWarning:\n",
      "\n",
      "The behavior of DataFrame concatenation with empty or all-NA entries is deprecated. In a future version, this will no longer exclude empty or all-NA columns when determining the result dtypes. To retain the old behavior, exclude the relevant entries before the concat operation.\n",
      "\n",
      "/home/josh/cmor462/ropacea/ropacea/Single_factor.py:67: FutureWarning:\n",
      "\n",
      "The behavior of DataFrame concatenation with empty or all-NA entries is deprecated. In a future version, this will no longer exclude empty or all-NA columns when determining the result dtypes. To retain the old behavior, exclude the relevant entries before the concat operation.\n",
      "\n"
     ]
    },
    {
     "name": "stdout",
     "output_type": "stream",
     "text": [
      "monthly_portfolio_return = 0.0536\n",
      "risk_free_return = 0.0024\n",
      "mark_date = datetime.date(2017, 4, 1)\n",
      "monthly_portfolio_return = -0.0031\n",
      "risk_free_return = 0.0111\n",
      "mark_date = datetime.date(2017, 5, 1)\n"
     ]
    },
    {
     "name": "stderr",
     "output_type": "stream",
     "text": [
      "/home/josh/cmor462/ropacea/ropacea/Single_factor.py:67: FutureWarning:\n",
      "\n",
      "The behavior of DataFrame concatenation with empty or all-NA entries is deprecated. In a future version, this will no longer exclude empty or all-NA columns when determining the result dtypes. To retain the old behavior, exclude the relevant entries before the concat operation.\n",
      "\n",
      "/home/josh/cmor462/ropacea/ropacea/Single_factor.py:67: FutureWarning:\n",
      "\n",
      "The behavior of DataFrame concatenation with empty or all-NA entries is deprecated. In a future version, this will no longer exclude empty or all-NA columns when determining the result dtypes. To retain the old behavior, exclude the relevant entries before the concat operation.\n",
      "\n"
     ]
    },
    {
     "name": "stdout",
     "output_type": "stream",
     "text": [
      "monthly_portfolio_return = 0.1436\n",
      "risk_free_return = 0.0079\n",
      "mark_date = datetime.date(2017, 6, 1)\n",
      "monthly_portfolio_return = -0.0062\n",
      "risk_free_return = -0.0013\n",
      "mark_date = datetime.date(2017, 7, 1)\n"
     ]
    },
    {
     "name": "stderr",
     "output_type": "stream",
     "text": [
      "/home/josh/cmor462/ropacea/ropacea/Single_factor.py:67: FutureWarning:\n",
      "\n",
      "The behavior of DataFrame concatenation with empty or all-NA entries is deprecated. In a future version, this will no longer exclude empty or all-NA columns when determining the result dtypes. To retain the old behavior, exclude the relevant entries before the concat operation.\n",
      "\n",
      "/home/josh/cmor462/ropacea/ropacea/Single_factor.py:67: FutureWarning:\n",
      "\n",
      "The behavior of DataFrame concatenation with empty or all-NA entries is deprecated. In a future version, this will no longer exclude empty or all-NA columns when determining the result dtypes. To retain the old behavior, exclude the relevant entries before the concat operation.\n",
      "\n"
     ]
    },
    {
     "name": "stdout",
     "output_type": "stream",
     "text": [
      "monthly_portfolio_return = 0.0607\n",
      "risk_free_return = -0.0000\n",
      "mark_date = datetime.date(2017, 8, 1)\n"
     ]
    },
    {
     "name": "stderr",
     "output_type": "stream",
     "text": [
      "/home/josh/cmor462/ropacea/ropacea/Single_factor.py:67: FutureWarning:\n",
      "\n",
      "The behavior of DataFrame concatenation with empty or all-NA entries is deprecated. In a future version, this will no longer exclude empty or all-NA columns when determining the result dtypes. To retain the old behavior, exclude the relevant entries before the concat operation.\n",
      "\n"
     ]
    },
    {
     "name": "stdout",
     "output_type": "stream",
     "text": [
      "monthly_portfolio_return = 0.0364\n",
      "risk_free_return = 0.0171\n",
      "mark_date = datetime.date(2017, 9, 1)\n",
      "monthly_portfolio_return = 0.0287\n",
      "risk_free_return = -0.0172\n",
      "mark_date = datetime.date(2017, 10, 1)\n"
     ]
    },
    {
     "name": "stderr",
     "output_type": "stream",
     "text": [
      "/home/josh/cmor462/ropacea/ropacea/Single_factor.py:67: FutureWarning:\n",
      "\n",
      "The behavior of DataFrame concatenation with empty or all-NA entries is deprecated. In a future version, this will no longer exclude empty or all-NA columns when determining the result dtypes. To retain the old behavior, exclude the relevant entries before the concat operation.\n",
      "\n",
      "/home/josh/cmor462/ropacea/ropacea/Single_factor.py:67: FutureWarning:\n",
      "\n",
      "The behavior of DataFrame concatenation with empty or all-NA entries is deprecated. In a future version, this will no longer exclude empty or all-NA columns when determining the result dtypes. To retain the old behavior, exclude the relevant entries before the concat operation.\n",
      "\n"
     ]
    },
    {
     "name": "stdout",
     "output_type": "stream",
     "text": [
      "monthly_portfolio_return = 0.1205\n",
      "risk_free_return = -0.0011\n",
      "mark_date = datetime.date(2017, 11, 1)\n",
      "monthly_portfolio_return = 0.0081\n",
      "risk_free_return = -0.0026\n",
      "mark_date = datetime.date(2017, 12, 1)\n"
     ]
    },
    {
     "name": "stderr",
     "output_type": "stream",
     "text": [
      "/home/josh/cmor462/ropacea/ropacea/Single_factor.py:67: FutureWarning:\n",
      "\n",
      "The behavior of DataFrame concatenation with empty or all-NA entries is deprecated. In a future version, this will no longer exclude empty or all-NA columns when determining the result dtypes. To retain the old behavior, exclude the relevant entries before the concat operation.\n",
      "\n",
      "/home/josh/cmor462/ropacea/ropacea/Single_factor.py:67: FutureWarning:\n",
      "\n",
      "The behavior of DataFrame concatenation with empty or all-NA entries is deprecated. In a future version, this will no longer exclude empty or all-NA columns when determining the result dtypes. To retain the old behavior, exclude the relevant entries before the concat operation.\n",
      "\n"
     ]
    },
    {
     "name": "stdout",
     "output_type": "stream",
     "text": [
      "monthly_portfolio_return = 0.0042\n",
      "risk_free_return = 0.0022\n",
      "mark_date = datetime.date(2018, 1, 1)\n",
      "monthly_portfolio_return = 0.1477\n",
      "risk_free_return = -0.0236\n",
      "mark_date = datetime.date(2018, 2, 1)\n"
     ]
    },
    {
     "name": "stderr",
     "output_type": "stream",
     "text": [
      "/home/josh/cmor462/ropacea/ropacea/Single_factor.py:67: FutureWarning:\n",
      "\n",
      "The behavior of DataFrame concatenation with empty or all-NA entries is deprecated. In a future version, this will no longer exclude empty or all-NA columns when determining the result dtypes. To retain the old behavior, exclude the relevant entries before the concat operation.\n",
      "\n",
      "/home/josh/cmor462/ropacea/ropacea/Single_factor.py:67: FutureWarning:\n",
      "\n",
      "The behavior of DataFrame concatenation with empty or all-NA entries is deprecated. In a future version, this will no longer exclude empty or all-NA columns when determining the result dtypes. To retain the old behavior, exclude the relevant entries before the concat operation.\n",
      "\n"
     ]
    },
    {
     "name": "stdout",
     "output_type": "stream",
     "text": [
      "monthly_portfolio_return = 0.0094\n",
      "risk_free_return = -0.0130\n",
      "mark_date = datetime.date(2018, 3, 1)\n"
     ]
    },
    {
     "name": "stderr",
     "output_type": "stream",
     "text": [
      "/home/josh/cmor462/ropacea/ropacea/Single_factor.py:67: FutureWarning:\n",
      "\n",
      "The behavior of DataFrame concatenation with empty or all-NA entries is deprecated. In a future version, this will no longer exclude empty or all-NA columns when determining the result dtypes. To retain the old behavior, exclude the relevant entries before the concat operation.\n",
      "\n"
     ]
    },
    {
     "name": "stdout",
     "output_type": "stream",
     "text": [
      "monthly_portfolio_return = -0.0181\n",
      "risk_free_return = 0.0128\n",
      "mark_date = datetime.date(2018, 4, 1)\n",
      "monthly_portfolio_return = -0.0006\n",
      "risk_free_return = -0.0155\n",
      "mark_date = datetime.date(2018, 5, 1)\n"
     ]
    },
    {
     "name": "stderr",
     "output_type": "stream",
     "text": [
      "/home/josh/cmor462/ropacea/ropacea/Single_factor.py:67: FutureWarning:\n",
      "\n",
      "The behavior of DataFrame concatenation with empty or all-NA entries is deprecated. In a future version, this will no longer exclude empty or all-NA columns when determining the result dtypes. To retain the old behavior, exclude the relevant entries before the concat operation.\n",
      "\n",
      "/home/josh/cmor462/ropacea/ropacea/Single_factor.py:67: FutureWarning:\n",
      "\n",
      "The behavior of DataFrame concatenation with empty or all-NA entries is deprecated. In a future version, this will no longer exclude empty or all-NA columns when determining the result dtypes. To retain the old behavior, exclude the relevant entries before the concat operation.\n",
      "\n"
     ]
    },
    {
     "name": "stdout",
     "output_type": "stream",
     "text": [
      "monthly_portfolio_return = 0.0944\n",
      "risk_free_return = 0.0096\n",
      "mark_date = datetime.date(2018, 6, 1)\n",
      "monthly_portfolio_return = -0.0185\n",
      "risk_free_return = 0.0023\n",
      "mark_date = datetime.date(2018, 7, 1)\n"
     ]
    },
    {
     "name": "stderr",
     "output_type": "stream",
     "text": [
      "/home/josh/cmor462/ropacea/ropacea/Single_factor.py:67: FutureWarning:\n",
      "\n",
      "The behavior of DataFrame concatenation with empty or all-NA entries is deprecated. In a future version, this will no longer exclude empty or all-NA columns when determining the result dtypes. To retain the old behavior, exclude the relevant entries before the concat operation.\n",
      "\n",
      "/home/josh/cmor462/ropacea/ropacea/Single_factor.py:67: FutureWarning:\n",
      "\n",
      "The behavior of DataFrame concatenation with empty or all-NA entries is deprecated. In a future version, this will no longer exclude empty or all-NA columns when determining the result dtypes. To retain the old behavior, exclude the relevant entries before the concat operation.\n",
      "\n"
     ]
    },
    {
     "name": "stdout",
     "output_type": "stream",
     "text": [
      "monthly_portfolio_return = 0.0218\n",
      "risk_free_return = -0.0051\n",
      "mark_date = datetime.date(2018, 8, 1)\n",
      "monthly_portfolio_return = 0.0861\n",
      "risk_free_return = 0.0101\n",
      "mark_date = datetime.date(2018, 9, 1)\n"
     ]
    },
    {
     "name": "stderr",
     "output_type": "stream",
     "text": [
      "/home/josh/cmor462/ropacea/ropacea/Single_factor.py:67: FutureWarning:\n",
      "\n",
      "The behavior of DataFrame concatenation with empty or all-NA entries is deprecated. In a future version, this will no longer exclude empty or all-NA columns when determining the result dtypes. To retain the old behavior, exclude the relevant entries before the concat operation.\n",
      "\n",
      "/home/josh/cmor462/ropacea/ropacea/Single_factor.py:67: FutureWarning:\n",
      "\n",
      "The behavior of DataFrame concatenation with empty or all-NA entries is deprecated. In a future version, this will no longer exclude empty or all-NA columns when determining the result dtypes. To retain the old behavior, exclude the relevant entries before the concat operation.\n",
      "\n"
     ]
    },
    {
     "name": "stdout",
     "output_type": "stream",
     "text": [
      "monthly_portfolio_return = 0.0070\n",
      "risk_free_return = -0.0148\n",
      "mark_date = datetime.date(2018, 10, 1)\n",
      "monthly_portfolio_return = -0.1224\n",
      "risk_free_return = -0.0043\n",
      "mark_date = datetime.date(2018, 11, 1)\n"
     ]
    },
    {
     "name": "stderr",
     "output_type": "stream",
     "text": [
      "/home/josh/cmor462/ropacea/ropacea/Single_factor.py:67: FutureWarning:\n",
      "\n",
      "The behavior of DataFrame concatenation with empty or all-NA entries is deprecated. In a future version, this will no longer exclude empty or all-NA columns when determining the result dtypes. To retain the old behavior, exclude the relevant entries before the concat operation.\n",
      "\n",
      "/home/josh/cmor462/ropacea/ropacea/Single_factor.py:67: FutureWarning:\n",
      "\n",
      "The behavior of DataFrame concatenation with empty or all-NA entries is deprecated. In a future version, this will no longer exclude empty or all-NA columns when determining the result dtypes. To retain the old behavior, exclude the relevant entries before the concat operation.\n",
      "\n"
     ]
    },
    {
     "name": "stdout",
     "output_type": "stream",
     "text": [
      "monthly_portfolio_return = -0.0463\n",
      "risk_free_return = 0.0149\n",
      "mark_date = datetime.date(2018, 12, 1)\n",
      "monthly_portfolio_return = -0.1099\n",
      "risk_free_return = 0.0286\n",
      "mark_date = datetime.date(2019, 1, 1)\n"
     ]
    },
    {
     "name": "stderr",
     "output_type": "stream",
     "text": [
      "/home/josh/cmor462/ropacea/ropacea/Single_factor.py:67: FutureWarning:\n",
      "\n",
      "The behavior of DataFrame concatenation with empty or all-NA entries is deprecated. In a future version, this will no longer exclude empty or all-NA columns when determining the result dtypes. To retain the old behavior, exclude the relevant entries before the concat operation.\n",
      "\n",
      "/home/josh/cmor462/ropacea/ropacea/Single_factor.py:67: FutureWarning:\n",
      "\n",
      "The behavior of DataFrame concatenation with empty or all-NA entries is deprecated. In a future version, this will no longer exclude empty or all-NA columns when determining the result dtypes. To retain the old behavior, exclude the relevant entries before the concat operation.\n",
      "\n"
     ]
    },
    {
     "name": "stdout",
     "output_type": "stream",
     "text": [
      "monthly_portfolio_return = 0.0689\n",
      "risk_free_return = 0.0071\n",
      "mark_date = datetime.date(2019, 2, 1)\n",
      "monthly_portfolio_return = 0.0663\n",
      "risk_free_return = -0.0043\n",
      "mark_date = datetime.date(2019, 3, 1)\n"
     ]
    },
    {
     "name": "stderr",
     "output_type": "stream",
     "text": [
      "/home/josh/cmor462/ropacea/ropacea/Single_factor.py:67: FutureWarning:\n",
      "\n",
      "The behavior of DataFrame concatenation with empty or all-NA entries is deprecated. In a future version, this will no longer exclude empty or all-NA columns when determining the result dtypes. To retain the old behavior, exclude the relevant entries before the concat operation.\n",
      "\n",
      "/home/josh/cmor462/ropacea/ropacea/Single_factor.py:67: FutureWarning:\n",
      "\n",
      "The behavior of DataFrame concatenation with empty or all-NA entries is deprecated. In a future version, this will no longer exclude empty or all-NA columns when determining the result dtypes. To retain the old behavior, exclude the relevant entries before the concat operation.\n",
      "\n"
     ]
    },
    {
     "name": "stdout",
     "output_type": "stream",
     "text": [
      "monthly_portfolio_return = 0.0706\n",
      "risk_free_return = 0.0294\n",
      "mark_date = datetime.date(2019, 4, 1)\n"
     ]
    },
    {
     "name": "stderr",
     "output_type": "stream",
     "text": [
      "/home/josh/cmor462/ropacea/ropacea/Single_factor.py:67: FutureWarning:\n",
      "\n",
      "The behavior of DataFrame concatenation with empty or all-NA entries is deprecated. In a future version, this will no longer exclude empty or all-NA columns when determining the result dtypes. To retain the old behavior, exclude the relevant entries before the concat operation.\n",
      "\n"
     ]
    },
    {
     "name": "stdout",
     "output_type": "stream",
     "text": [
      "monthly_portfolio_return = 0.0669\n",
      "risk_free_return = -0.0062\n",
      "mark_date = datetime.date(2019, 5, 1)\n",
      "monthly_portfolio_return = -0.0887\n",
      "risk_free_return = 0.0319\n",
      "mark_date = datetime.date(2019, 6, 1)\n"
     ]
    },
    {
     "name": "stderr",
     "output_type": "stream",
     "text": [
      "/home/josh/cmor462/ropacea/ropacea/Single_factor.py:67: FutureWarning:\n",
      "\n",
      "The behavior of DataFrame concatenation with empty or all-NA entries is deprecated. In a future version, this will no longer exclude empty or all-NA columns when determining the result dtypes. To retain the old behavior, exclude the relevant entries before the concat operation.\n",
      "\n",
      "/home/josh/cmor462/ropacea/ropacea/Single_factor.py:67: FutureWarning:\n",
      "\n",
      "The behavior of DataFrame concatenation with empty or all-NA entries is deprecated. In a future version, this will no longer exclude empty or all-NA columns when determining the result dtypes. To retain the old behavior, exclude the relevant entries before the concat operation.\n",
      "\n"
     ]
    },
    {
     "name": "stdout",
     "output_type": "stream",
     "text": [
      "monthly_portfolio_return = 0.0970\n",
      "risk_free_return = 0.0121\n",
      "mark_date = datetime.date(2019, 7, 1)\n",
      "monthly_portfolio_return = 0.0233\n",
      "risk_free_return = 0.0034\n",
      "mark_date = datetime.date(2019, 8, 1)\n"
     ]
    },
    {
     "name": "stderr",
     "output_type": "stream",
     "text": [
      "/home/josh/cmor462/ropacea/ropacea/Single_factor.py:67: FutureWarning:\n",
      "\n",
      "The behavior of DataFrame concatenation with empty or all-NA entries is deprecated. In a future version, this will no longer exclude empty or all-NA columns when determining the result dtypes. To retain the old behavior, exclude the relevant entries before the concat operation.\n",
      "\n",
      "/home/josh/cmor462/ropacea/ropacea/Single_factor.py:67: FutureWarning:\n",
      "\n",
      "The behavior of DataFrame concatenation with empty or all-NA entries is deprecated. In a future version, this will no longer exclude empty or all-NA columns when determining the result dtypes. To retain the old behavior, exclude the relevant entries before the concat operation.\n",
      "\n"
     ]
    },
    {
     "name": "stdout",
     "output_type": "stream",
     "text": [
      "monthly_portfolio_return = -0.0049\n",
      "risk_free_return = 0.0403\n",
      "mark_date = datetime.date(2019, 9, 1)\n",
      "monthly_portfolio_return = -0.0058\n",
      "risk_free_return = -0.0139\n",
      "mark_date = datetime.date(2019, 10, 1)\n"
     ]
    },
    {
     "name": "stderr",
     "output_type": "stream",
     "text": [
      "/home/josh/cmor462/ropacea/ropacea/Single_factor.py:67: FutureWarning:\n",
      "\n",
      "The behavior of DataFrame concatenation with empty or all-NA entries is deprecated. In a future version, this will no longer exclude empty or all-NA columns when determining the result dtypes. To retain the old behavior, exclude the relevant entries before the concat operation.\n",
      "\n",
      "/home/josh/cmor462/ropacea/ropacea/Single_factor.py:67: FutureWarning:\n",
      "\n",
      "The behavior of DataFrame concatenation with empty or all-NA entries is deprecated. In a future version, this will no longer exclude empty or all-NA columns when determining the result dtypes. To retain the old behavior, exclude the relevant entries before the concat operation.\n",
      "\n"
     ]
    },
    {
     "name": "stdout",
     "output_type": "stream",
     "text": [
      "monthly_portfolio_return = 0.0353\n",
      "risk_free_return = -0.0007\n",
      "mark_date = datetime.date(2019, 11, 1)\n",
      "monthly_portfolio_return = 0.0759\n",
      "risk_free_return = -0.0074\n",
      "mark_date = datetime.date(2019, 12, 1)\n"
     ]
    },
    {
     "name": "stderr",
     "output_type": "stream",
     "text": [
      "/home/josh/cmor462/ropacea/ropacea/Single_factor.py:67: FutureWarning:\n",
      "\n",
      "The behavior of DataFrame concatenation with empty or all-NA entries is deprecated. In a future version, this will no longer exclude empty or all-NA columns when determining the result dtypes. To retain the old behavior, exclude the relevant entries before the concat operation.\n",
      "\n",
      "/home/josh/cmor462/ropacea/ropacea/Single_factor.py:67: FutureWarning:\n",
      "\n",
      "The behavior of DataFrame concatenation with empty or all-NA entries is deprecated. In a future version, this will no longer exclude empty or all-NA columns when determining the result dtypes. To retain the old behavior, exclude the relevant entries before the concat operation.\n",
      "\n"
     ]
    },
    {
     "name": "stdout",
     "output_type": "stream",
     "text": [
      "monthly_portfolio_return = 0.0529\n",
      "risk_free_return = -0.0113\n",
      "mark_date = datetime.date(2020, 1, 1)\n",
      "monthly_portfolio_return = 0.0533\n",
      "risk_free_return = 0.0392\n",
      "mark_date = datetime.date(2020, 2, 1)\n"
     ]
    },
    {
     "name": "stderr",
     "output_type": "stream",
     "text": [
      "/home/josh/cmor462/ropacea/ropacea/Single_factor.py:67: FutureWarning:\n",
      "\n",
      "The behavior of DataFrame concatenation with empty or all-NA entries is deprecated. In a future version, this will no longer exclude empty or all-NA columns when determining the result dtypes. To retain the old behavior, exclude the relevant entries before the concat operation.\n",
      "\n",
      "/home/josh/cmor462/ropacea/ropacea/Single_factor.py:67: FutureWarning:\n",
      "\n",
      "The behavior of DataFrame concatenation with empty or all-NA entries is deprecated. In a future version, this will no longer exclude empty or all-NA columns when determining the result dtypes. To retain the old behavior, exclude the relevant entries before the concat operation.\n",
      "\n"
     ]
    },
    {
     "name": "stdout",
     "output_type": "stream",
     "text": [
      "monthly_portfolio_return = -0.0187\n",
      "risk_free_return = 0.0299\n",
      "mark_date = datetime.date(2020, 3, 1)\n",
      "monthly_portfolio_return = -0.0887\n",
      "risk_free_return = 0.0397\n",
      "mark_date = datetime.date(2020, 4, 1)\n"
     ]
    },
    {
     "name": "stderr",
     "output_type": "stream",
     "text": [
      "/home/josh/cmor462/ropacea/ropacea/Single_factor.py:67: FutureWarning:\n",
      "\n",
      "The behavior of DataFrame concatenation with empty or all-NA entries is deprecated. In a future version, this will no longer exclude empty or all-NA columns when determining the result dtypes. To retain the old behavior, exclude the relevant entries before the concat operation.\n",
      "\n",
      "/home/josh/cmor462/ropacea/ropacea/Single_factor.py:67: FutureWarning:\n",
      "\n",
      "The behavior of DataFrame concatenation with empty or all-NA entries is deprecated. In a future version, this will no longer exclude empty or all-NA columns when determining the result dtypes. To retain the old behavior, exclude the relevant entries before the concat operation.\n",
      "\n"
     ]
    },
    {
     "name": "stdout",
     "output_type": "stream",
     "text": [
      "monthly_portfolio_return = 0.1322\n",
      "risk_free_return = 0.0050\n",
      "mark_date = datetime.date(2020, 5, 1)\n",
      "monthly_portfolio_return = 0.0752\n",
      "risk_free_return = 0.0007\n",
      "mark_date = datetime.date(2020, 6, 1)\n"
     ]
    },
    {
     "name": "stderr",
     "output_type": "stream",
     "text": [
      "/home/josh/cmor462/ropacea/ropacea/Single_factor.py:67: FutureWarning:\n",
      "\n",
      "The behavior of DataFrame concatenation with empty or all-NA entries is deprecated. In a future version, this will no longer exclude empty or all-NA columns when determining the result dtypes. To retain the old behavior, exclude the relevant entries before the concat operation.\n",
      "\n",
      "/home/josh/cmor462/ropacea/ropacea/Single_factor.py:67: FutureWarning:\n",
      "\n",
      "The behavior of DataFrame concatenation with empty or all-NA entries is deprecated. In a future version, this will no longer exclude empty or all-NA columns when determining the result dtypes. To retain the old behavior, exclude the relevant entries before the concat operation.\n",
      "\n"
     ]
    },
    {
     "name": "stdout",
     "output_type": "stream",
     "text": [
      "monthly_portfolio_return = 0.0799\n",
      "risk_free_return = 0.0004\n",
      "mark_date = datetime.date(2020, 7, 1)\n",
      "monthly_portfolio_return = 0.0463\n",
      "risk_free_return = 0.0128\n",
      "mark_date = datetime.date(2020, 8, 1)\n"
     ]
    },
    {
     "name": "stderr",
     "output_type": "stream",
     "text": [
      "/home/josh/cmor462/ropacea/ropacea/Single_factor.py:67: FutureWarning:\n",
      "\n",
      "The behavior of DataFrame concatenation with empty or all-NA entries is deprecated. In a future version, this will no longer exclude empty or all-NA columns when determining the result dtypes. To retain the old behavior, exclude the relevant entries before the concat operation.\n",
      "\n",
      "/home/josh/cmor462/ropacea/ropacea/Single_factor.py:67: FutureWarning:\n",
      "\n",
      "The behavior of DataFrame concatenation with empty or all-NA entries is deprecated. In a future version, this will no longer exclude empty or all-NA columns when determining the result dtypes. To retain the old behavior, exclude the relevant entries before the concat operation.\n",
      "\n"
     ]
    },
    {
     "name": "stdout",
     "output_type": "stream",
     "text": [
      "monthly_portfolio_return = 0.1367\n",
      "risk_free_return = -0.0147\n",
      "mark_date = datetime.date(2020, 9, 1)\n",
      "monthly_portfolio_return = -0.0418\n",
      "risk_free_return = 0.0026\n",
      "mark_date = datetime.date(2020, 10, 1)\n"
     ]
    },
    {
     "name": "stderr",
     "output_type": "stream",
     "text": [
      "/home/josh/cmor462/ropacea/ropacea/Single_factor.py:67: FutureWarning:\n",
      "\n",
      "The behavior of DataFrame concatenation with empty or all-NA entries is deprecated. In a future version, this will no longer exclude empty or all-NA columns when determining the result dtypes. To retain the old behavior, exclude the relevant entries before the concat operation.\n",
      "\n",
      "/home/josh/cmor462/ropacea/ropacea/Single_factor.py:67: FutureWarning:\n",
      "\n",
      "The behavior of DataFrame concatenation with empty or all-NA entries is deprecated. In a future version, this will no longer exclude empty or all-NA columns when determining the result dtypes. To retain the old behavior, exclude the relevant entries before the concat operation.\n",
      "\n"
     ]
    },
    {
     "name": "stdout",
     "output_type": "stream",
     "text": [
      "monthly_portfolio_return = -0.0591\n",
      "risk_free_return = -0.0173\n",
      "mark_date = datetime.date(2020, 11, 1)\n",
      "monthly_portfolio_return = 0.0717\n",
      "risk_free_return = 0.0040\n",
      "mark_date = datetime.date(2020, 12, 1)\n"
     ]
    },
    {
     "name": "stderr",
     "output_type": "stream",
     "text": [
      "/home/josh/cmor462/ropacea/ropacea/Single_factor.py:67: FutureWarning:\n",
      "\n",
      "The behavior of DataFrame concatenation with empty or all-NA entries is deprecated. In a future version, this will no longer exclude empty or all-NA columns when determining the result dtypes. To retain the old behavior, exclude the relevant entries before the concat operation.\n",
      "\n",
      "/home/josh/cmor462/ropacea/ropacea/Single_factor.py:67: FutureWarning:\n",
      "\n",
      "The behavior of DataFrame concatenation with empty or all-NA entries is deprecated. In a future version, this will no longer exclude empty or all-NA columns when determining the result dtypes. To retain the old behavior, exclude the relevant entries before the concat operation.\n",
      "\n"
     ]
    },
    {
     "name": "stdout",
     "output_type": "stream",
     "text": [
      "monthly_portfolio_return = 0.0376\n",
      "risk_free_return = -0.0050\n",
      "mark_date = datetime.date(2021, 1, 1)\n",
      "monthly_portfolio_return = -0.0256\n",
      "risk_free_return = -0.0107\n",
      "mark_date = datetime.date(2021, 2, 1)\n"
     ]
    },
    {
     "name": "stderr",
     "output_type": "stream",
     "text": [
      "/home/josh/cmor462/ropacea/ropacea/Single_factor.py:67: FutureWarning:\n",
      "\n",
      "The behavior of DataFrame concatenation with empty or all-NA entries is deprecated. In a future version, this will no longer exclude empty or all-NA columns when determining the result dtypes. To retain the old behavior, exclude the relevant entries before the concat operation.\n",
      "\n",
      "/home/josh/cmor462/ropacea/ropacea/Single_factor.py:67: FutureWarning:\n",
      "\n",
      "The behavior of DataFrame concatenation with empty or all-NA entries is deprecated. In a future version, this will no longer exclude empty or all-NA columns when determining the result dtypes. To retain the old behavior, exclude the relevant entries before the concat operation.\n",
      "\n"
     ]
    },
    {
     "name": "stdout",
     "output_type": "stream",
     "text": [
      "monthly_portfolio_return = 0.0063\n",
      "risk_free_return = -0.0254\n",
      "mark_date = datetime.date(2021, 3, 1)\n",
      "monthly_portfolio_return = 0.0057\n",
      "risk_free_return = -0.0293\n",
      "mark_date = datetime.date(2021, 4, 1)\n"
     ]
    },
    {
     "name": "stderr",
     "output_type": "stream",
     "text": [
      "/home/josh/cmor462/ropacea/ropacea/Single_factor.py:67: FutureWarning:\n",
      "\n",
      "The behavior of DataFrame concatenation with empty or all-NA entries is deprecated. In a future version, this will no longer exclude empty or all-NA columns when determining the result dtypes. To retain the old behavior, exclude the relevant entries before the concat operation.\n",
      "\n",
      "/home/josh/cmor462/ropacea/ropacea/Single_factor.py:67: FutureWarning:\n",
      "\n",
      "The behavior of DataFrame concatenation with empty or all-NA entries is deprecated. In a future version, this will no longer exclude empty or all-NA columns when determining the result dtypes. To retain the old behavior, exclude the relevant entries before the concat operation.\n",
      "\n"
     ]
    },
    {
     "name": "stdout",
     "output_type": "stream",
     "text": [
      "monthly_portfolio_return = 0.0878\n",
      "risk_free_return = 0.0119\n",
      "mark_date = datetime.date(2021, 5, 1)\n",
      "monthly_portfolio_return = 0.0056\n",
      "risk_free_return = 0.0034\n",
      "mark_date = datetime.date(2021, 6, 1)\n"
     ]
    },
    {
     "name": "stderr",
     "output_type": "stream",
     "text": [
      "/home/josh/cmor462/ropacea/ropacea/Single_factor.py:67: FutureWarning:\n",
      "\n",
      "The behavior of DataFrame concatenation with empty or all-NA entries is deprecated. In a future version, this will no longer exclude empty or all-NA columns when determining the result dtypes. To retain the old behavior, exclude the relevant entries before the concat operation.\n",
      "\n",
      "/home/josh/cmor462/ropacea/ropacea/Single_factor.py:67: FutureWarning:\n",
      "\n",
      "The behavior of DataFrame concatenation with empty or all-NA entries is deprecated. In a future version, this will no longer exclude empty or all-NA columns when determining the result dtypes. To retain the old behavior, exclude the relevant entries before the concat operation.\n",
      "\n"
     ]
    },
    {
     "name": "stdout",
     "output_type": "stream",
     "text": [
      "monthly_portfolio_return = 0.1480\n",
      "risk_free_return = 0.0141\n",
      "mark_date = datetime.date(2021, 7, 1)\n",
      "monthly_portfolio_return = 0.0380\n",
      "risk_free_return = 0.0238\n",
      "mark_date = datetime.date(2021, 8, 1)\n"
     ]
    },
    {
     "name": "stderr",
     "output_type": "stream",
     "text": [
      "/home/josh/cmor462/ropacea/ropacea/Single_factor.py:67: FutureWarning:\n",
      "\n",
      "The behavior of DataFrame concatenation with empty or all-NA entries is deprecated. In a future version, this will no longer exclude empty or all-NA columns when determining the result dtypes. To retain the old behavior, exclude the relevant entries before the concat operation.\n",
      "\n",
      "/home/josh/cmor462/ropacea/ropacea/Single_factor.py:67: FutureWarning:\n",
      "\n",
      "The behavior of DataFrame concatenation with empty or all-NA entries is deprecated. In a future version, this will no longer exclude empty or all-NA columns when determining the result dtypes. To retain the old behavior, exclude the relevant entries before the concat operation.\n",
      "\n"
     ]
    },
    {
     "name": "stdout",
     "output_type": "stream",
     "text": [
      "monthly_portfolio_return = 0.0805\n",
      "risk_free_return = -0.0048\n",
      "mark_date = datetime.date(2021, 9, 1)\n",
      "monthly_portfolio_return = -0.0859\n",
      "risk_free_return = -0.0154\n",
      "mark_date = datetime.date(2021, 10, 1)\n"
     ]
    },
    {
     "name": "stderr",
     "output_type": "stream",
     "text": [
      "/home/josh/cmor462/ropacea/ropacea/Single_factor.py:67: FutureWarning:\n",
      "\n",
      "The behavior of DataFrame concatenation with empty or all-NA entries is deprecated. In a future version, this will no longer exclude empty or all-NA columns when determining the result dtypes. To retain the old behavior, exclude the relevant entries before the concat operation.\n",
      "\n",
      "/home/josh/cmor462/ropacea/ropacea/Single_factor.py:67: FutureWarning:\n",
      "\n",
      "The behavior of DataFrame concatenation with empty or all-NA entries is deprecated. In a future version, this will no longer exclude empty or all-NA columns when determining the result dtypes. To retain the old behavior, exclude the relevant entries before the concat operation.\n",
      "\n"
     ]
    },
    {
     "name": "stdout",
     "output_type": "stream",
     "text": [
      "monthly_portfolio_return = 0.1643\n",
      "risk_free_return = -0.0049\n",
      "mark_date = datetime.date(2021, 11, 1)\n",
      "monthly_portfolio_return = 0.1073\n",
      "risk_free_return = 0.0125\n",
      "mark_date = datetime.date(2021, 12, 1)\n"
     ]
    },
    {
     "name": "stderr",
     "output_type": "stream",
     "text": [
      "/home/josh/cmor462/ropacea/ropacea/Single_factor.py:67: FutureWarning:\n",
      "\n",
      "The behavior of DataFrame concatenation with empty or all-NA entries is deprecated. In a future version, this will no longer exclude empty or all-NA columns when determining the result dtypes. To retain the old behavior, exclude the relevant entries before the concat operation.\n",
      "\n",
      "/home/josh/cmor462/ropacea/ropacea/Single_factor.py:67: FutureWarning:\n",
      "\n",
      "The behavior of DataFrame concatenation with empty or all-NA entries is deprecated. In a future version, this will no longer exclude empty or all-NA columns when determining the result dtypes. To retain the old behavior, exclude the relevant entries before the concat operation.\n",
      "\n"
     ]
    },
    {
     "name": "stdout",
     "output_type": "stream",
     "text": [
      "monthly_portfolio_return = -0.0399\n",
      "risk_free_return = -0.0047\n",
      "========== SUMMARY ==========\n",
      "monthly_returns_bp_mean = 289.45\n",
      "monthly_returns_bp_std = 698.02\n",
      "annualized_mean_pct = 40.83\n",
      "annualized_std_pct = 24.18\n",
      "sharpe_ratio = 1.69\n",
      "mark_date = datetime.date(2017, 1, 1)\n",
      "monthly_portfolio_return = 0.0428\n",
      "risk_free_return = 0.0022\n",
      "mark_date = datetime.date(2017, 2, 1)\n"
     ]
    },
    {
     "name": "stderr",
     "output_type": "stream",
     "text": [
      "/home/josh/cmor462/ropacea/ropacea/Single_factor.py:67: FutureWarning:\n",
      "\n",
      "The behavior of DataFrame concatenation with empty or all-NA entries is deprecated. In a future version, this will no longer exclude empty or all-NA columns when determining the result dtypes. To retain the old behavior, exclude the relevant entries before the concat operation.\n",
      "\n",
      "/home/josh/cmor462/ropacea/ropacea/Single_factor.py:67: FutureWarning:\n",
      "\n",
      "The behavior of DataFrame concatenation with empty or all-NA entries is deprecated. In a future version, this will no longer exclude empty or all-NA columns when determining the result dtypes. To retain the old behavior, exclude the relevant entries before the concat operation.\n",
      "\n"
     ]
    },
    {
     "name": "stdout",
     "output_type": "stream",
     "text": [
      "monthly_portfolio_return = -0.0061\n",
      "risk_free_return = 0.0074\n",
      "mark_date = datetime.date(2017, 3, 1)\n",
      "monthly_portfolio_return = 0.0617\n",
      "risk_free_return = 0.0024\n",
      "mark_date = datetime.date(2017, 4, 1)\n"
     ]
    },
    {
     "name": "stderr",
     "output_type": "stream",
     "text": [
      "/home/josh/cmor462/ropacea/ropacea/Single_factor.py:67: FutureWarning:\n",
      "\n",
      "The behavior of DataFrame concatenation with empty or all-NA entries is deprecated. In a future version, this will no longer exclude empty or all-NA columns when determining the result dtypes. To retain the old behavior, exclude the relevant entries before the concat operation.\n",
      "\n",
      "/home/josh/cmor462/ropacea/ropacea/Single_factor.py:67: FutureWarning:\n",
      "\n",
      "The behavior of DataFrame concatenation with empty or all-NA entries is deprecated. In a future version, this will no longer exclude empty or all-NA columns when determining the result dtypes. To retain the old behavior, exclude the relevant entries before the concat operation.\n",
      "\n"
     ]
    },
    {
     "name": "stdout",
     "output_type": "stream",
     "text": [
      "monthly_portfolio_return = -0.0055\n",
      "risk_free_return = 0.0111\n",
      "mark_date = datetime.date(2017, 5, 1)\n",
      "monthly_portfolio_return = 0.1663\n",
      "risk_free_return = 0.0079\n",
      "mark_date = datetime.date(2017, 6, 1)\n"
     ]
    },
    {
     "name": "stderr",
     "output_type": "stream",
     "text": [
      "/home/josh/cmor462/ropacea/ropacea/Single_factor.py:67: FutureWarning:\n",
      "\n",
      "The behavior of DataFrame concatenation with empty or all-NA entries is deprecated. In a future version, this will no longer exclude empty or all-NA columns when determining the result dtypes. To retain the old behavior, exclude the relevant entries before the concat operation.\n",
      "\n",
      "/home/josh/cmor462/ropacea/ropacea/Single_factor.py:67: FutureWarning:\n",
      "\n",
      "The behavior of DataFrame concatenation with empty or all-NA entries is deprecated. In a future version, this will no longer exclude empty or all-NA columns when determining the result dtypes. To retain the old behavior, exclude the relevant entries before the concat operation.\n",
      "\n"
     ]
    },
    {
     "name": "stdout",
     "output_type": "stream",
     "text": [
      "monthly_portfolio_return = -0.0070\n",
      "risk_free_return = -0.0013\n",
      "mark_date = datetime.date(2017, 7, 1)\n",
      "monthly_portfolio_return = 0.0644\n",
      "risk_free_return = -0.0000\n",
      "mark_date = datetime.date(2017, 8, 1)\n"
     ]
    },
    {
     "name": "stderr",
     "output_type": "stream",
     "text": [
      "/home/josh/cmor462/ropacea/ropacea/Single_factor.py:67: FutureWarning:\n",
      "\n",
      "The behavior of DataFrame concatenation with empty or all-NA entries is deprecated. In a future version, this will no longer exclude empty or all-NA columns when determining the result dtypes. To retain the old behavior, exclude the relevant entries before the concat operation.\n",
      "\n",
      "/home/josh/cmor462/ropacea/ropacea/Single_factor.py:67: FutureWarning:\n",
      "\n",
      "The behavior of DataFrame concatenation with empty or all-NA entries is deprecated. In a future version, this will no longer exclude empty or all-NA columns when determining the result dtypes. To retain the old behavior, exclude the relevant entries before the concat operation.\n",
      "\n"
     ]
    },
    {
     "name": "stdout",
     "output_type": "stream",
     "text": [
      "monthly_portfolio_return = 0.0384\n",
      "risk_free_return = 0.0171\n",
      "mark_date = datetime.date(2017, 9, 1)\n",
      "monthly_portfolio_return = 0.0258\n",
      "risk_free_return = -0.0172\n",
      "mark_date = datetime.date(2017, 10, 1)\n"
     ]
    },
    {
     "name": "stderr",
     "output_type": "stream",
     "text": [
      "/home/josh/cmor462/ropacea/ropacea/Single_factor.py:67: FutureWarning:\n",
      "\n",
      "The behavior of DataFrame concatenation with empty or all-NA entries is deprecated. In a future version, this will no longer exclude empty or all-NA columns when determining the result dtypes. To retain the old behavior, exclude the relevant entries before the concat operation.\n",
      "\n",
      "/home/josh/cmor462/ropacea/ropacea/Single_factor.py:67: FutureWarning:\n",
      "\n",
      "The behavior of DataFrame concatenation with empty or all-NA entries is deprecated. In a future version, this will no longer exclude empty or all-NA columns when determining the result dtypes. To retain the old behavior, exclude the relevant entries before the concat operation.\n",
      "\n"
     ]
    },
    {
     "name": "stdout",
     "output_type": "stream",
     "text": [
      "monthly_portfolio_return = 0.1265\n",
      "risk_free_return = -0.0011\n",
      "mark_date = datetime.date(2017, 11, 1)\n",
      "monthly_portfolio_return = 0.0063\n",
      "risk_free_return = -0.0026\n",
      "mark_date = datetime.date(2017, 12, 1)\n"
     ]
    },
    {
     "name": "stderr",
     "output_type": "stream",
     "text": [
      "/home/josh/cmor462/ropacea/ropacea/Single_factor.py:67: FutureWarning:\n",
      "\n",
      "The behavior of DataFrame concatenation with empty or all-NA entries is deprecated. In a future version, this will no longer exclude empty or all-NA columns when determining the result dtypes. To retain the old behavior, exclude the relevant entries before the concat operation.\n",
      "\n",
      "/home/josh/cmor462/ropacea/ropacea/Single_factor.py:67: FutureWarning:\n",
      "\n",
      "The behavior of DataFrame concatenation with empty or all-NA entries is deprecated. In a future version, this will no longer exclude empty or all-NA columns when determining the result dtypes. To retain the old behavior, exclude the relevant entries before the concat operation.\n",
      "\n"
     ]
    },
    {
     "name": "stdout",
     "output_type": "stream",
     "text": [
      "monthly_portfolio_return = 0.0000\n",
      "risk_free_return = 0.0022\n",
      "mark_date = datetime.date(2018, 1, 1)\n"
     ]
    },
    {
     "name": "stderr",
     "output_type": "stream",
     "text": [
      "/home/josh/cmor462/ropacea/ropacea/Single_factor.py:67: FutureWarning:\n",
      "\n",
      "The behavior of DataFrame concatenation with empty or all-NA entries is deprecated. In a future version, this will no longer exclude empty or all-NA columns when determining the result dtypes. To retain the old behavior, exclude the relevant entries before the concat operation.\n",
      "\n"
     ]
    },
    {
     "name": "stdout",
     "output_type": "stream",
     "text": [
      "monthly_portfolio_return = 0.1568\n",
      "risk_free_return = -0.0236\n",
      "mark_date = datetime.date(2018, 2, 1)\n",
      "monthly_portfolio_return = 0.0079\n",
      "risk_free_return = -0.0130\n",
      "mark_date = datetime.date(2018, 3, 1)\n"
     ]
    },
    {
     "name": "stderr",
     "output_type": "stream",
     "text": [
      "/home/josh/cmor462/ropacea/ropacea/Single_factor.py:67: FutureWarning:\n",
      "\n",
      "The behavior of DataFrame concatenation with empty or all-NA entries is deprecated. In a future version, this will no longer exclude empty or all-NA columns when determining the result dtypes. To retain the old behavior, exclude the relevant entries before the concat operation.\n",
      "\n",
      "/home/josh/cmor462/ropacea/ropacea/Single_factor.py:67: FutureWarning:\n",
      "\n",
      "The behavior of DataFrame concatenation with empty or all-NA entries is deprecated. In a future version, this will no longer exclude empty or all-NA columns when determining the result dtypes. To retain the old behavior, exclude the relevant entries before the concat operation.\n",
      "\n"
     ]
    },
    {
     "name": "stdout",
     "output_type": "stream",
     "text": [
      "monthly_portfolio_return = -0.0182\n",
      "risk_free_return = 0.0128\n",
      "mark_date = datetime.date(2018, 4, 1)\n",
      "monthly_portfolio_return = -0.0007\n",
      "risk_free_return = -0.0155\n",
      "mark_date = datetime.date(2018, 5, 1)\n"
     ]
    },
    {
     "name": "stderr",
     "output_type": "stream",
     "text": [
      "/home/josh/cmor462/ropacea/ropacea/Single_factor.py:67: FutureWarning:\n",
      "\n",
      "The behavior of DataFrame concatenation with empty or all-NA entries is deprecated. In a future version, this will no longer exclude empty or all-NA columns when determining the result dtypes. To retain the old behavior, exclude the relevant entries before the concat operation.\n",
      "\n",
      "/home/josh/cmor462/ropacea/ropacea/Single_factor.py:67: FutureWarning:\n",
      "\n",
      "The behavior of DataFrame concatenation with empty or all-NA entries is deprecated. In a future version, this will no longer exclude empty or all-NA columns when determining the result dtypes. To retain the old behavior, exclude the relevant entries before the concat operation.\n",
      "\n"
     ]
    },
    {
     "name": "stdout",
     "output_type": "stream",
     "text": [
      "monthly_portfolio_return = 0.1007\n",
      "risk_free_return = 0.0096\n",
      "mark_date = datetime.date(2018, 6, 1)\n",
      "monthly_portfolio_return = -0.0189\n",
      "risk_free_return = 0.0023\n",
      "mark_date = datetime.date(2018, 7, 1)\n"
     ]
    },
    {
     "name": "stderr",
     "output_type": "stream",
     "text": [
      "/home/josh/cmor462/ropacea/ropacea/Single_factor.py:67: FutureWarning:\n",
      "\n",
      "The behavior of DataFrame concatenation with empty or all-NA entries is deprecated. In a future version, this will no longer exclude empty or all-NA columns when determining the result dtypes. To retain the old behavior, exclude the relevant entries before the concat operation.\n",
      "\n",
      "/home/josh/cmor462/ropacea/ropacea/Single_factor.py:67: FutureWarning:\n",
      "\n",
      "The behavior of DataFrame concatenation with empty or all-NA entries is deprecated. In a future version, this will no longer exclude empty or all-NA columns when determining the result dtypes. To retain the old behavior, exclude the relevant entries before the concat operation.\n",
      "\n"
     ]
    },
    {
     "name": "stdout",
     "output_type": "stream",
     "text": [
      "monthly_portfolio_return = 0.0211\n",
      "risk_free_return = -0.0051\n",
      "mark_date = datetime.date(2018, 8, 1)\n",
      "monthly_portfolio_return = 0.0905\n",
      "risk_free_return = 0.0101\n",
      "mark_date = datetime.date(2018, 9, 1)\n"
     ]
    },
    {
     "name": "stderr",
     "output_type": "stream",
     "text": [
      "/home/josh/cmor462/ropacea/ropacea/Single_factor.py:67: FutureWarning:\n",
      "\n",
      "The behavior of DataFrame concatenation with empty or all-NA entries is deprecated. In a future version, this will no longer exclude empty or all-NA columns when determining the result dtypes. To retain the old behavior, exclude the relevant entries before the concat operation.\n",
      "\n",
      "/home/josh/cmor462/ropacea/ropacea/Single_factor.py:67: FutureWarning:\n",
      "\n",
      "The behavior of DataFrame concatenation with empty or all-NA entries is deprecated. In a future version, this will no longer exclude empty or all-NA columns when determining the result dtypes. To retain the old behavior, exclude the relevant entries before the concat operation.\n",
      "\n"
     ]
    },
    {
     "name": "stdout",
     "output_type": "stream",
     "text": [
      "monthly_portfolio_return = 0.0089\n",
      "risk_free_return = -0.0148\n",
      "mark_date = datetime.date(2018, 10, 1)\n",
      "monthly_portfolio_return = -0.1271\n",
      "risk_free_return = -0.0043\n",
      "mark_date = datetime.date(2018, 11, 1)\n"
     ]
    },
    {
     "name": "stderr",
     "output_type": "stream",
     "text": [
      "/home/josh/cmor462/ropacea/ropacea/Single_factor.py:67: FutureWarning:\n",
      "\n",
      "The behavior of DataFrame concatenation with empty or all-NA entries is deprecated. In a future version, this will no longer exclude empty or all-NA columns when determining the result dtypes. To retain the old behavior, exclude the relevant entries before the concat operation.\n",
      "\n",
      "/home/josh/cmor462/ropacea/ropacea/Single_factor.py:67: FutureWarning:\n",
      "\n",
      "The behavior of DataFrame concatenation with empty or all-NA entries is deprecated. In a future version, this will no longer exclude empty or all-NA columns when determining the result dtypes. To retain the old behavior, exclude the relevant entries before the concat operation.\n",
      "\n"
     ]
    },
    {
     "name": "stdout",
     "output_type": "stream",
     "text": [
      "monthly_portfolio_return = -0.0578\n",
      "risk_free_return = 0.0149\n",
      "mark_date = datetime.date(2018, 12, 1)\n",
      "monthly_portfolio_return = -0.1158\n"
     ]
    },
    {
     "name": "stderr",
     "output_type": "stream",
     "text": [
      "/home/josh/cmor462/ropacea/ropacea/Single_factor.py:67: FutureWarning:\n",
      "\n",
      "The behavior of DataFrame concatenation with empty or all-NA entries is deprecated. In a future version, this will no longer exclude empty or all-NA columns when determining the result dtypes. To retain the old behavior, exclude the relevant entries before the concat operation.\n",
      "\n"
     ]
    },
    {
     "name": "stdout",
     "output_type": "stream",
     "text": [
      "risk_free_return = 0.0286\n",
      "mark_date = datetime.date(2019, 1, 1)\n",
      "monthly_portfolio_return = 0.0676\n",
      "risk_free_return = 0.0071\n",
      "mark_date = datetime.date(2019, 2, 1)\n"
     ]
    },
    {
     "name": "stderr",
     "output_type": "stream",
     "text": [
      "/home/josh/cmor462/ropacea/ropacea/Single_factor.py:67: FutureWarning:\n",
      "\n",
      "The behavior of DataFrame concatenation with empty or all-NA entries is deprecated. In a future version, this will no longer exclude empty or all-NA columns when determining the result dtypes. To retain the old behavior, exclude the relevant entries before the concat operation.\n",
      "\n",
      "/home/josh/cmor462/ropacea/ropacea/Single_factor.py:67: FutureWarning:\n",
      "\n",
      "The behavior of DataFrame concatenation with empty or all-NA entries is deprecated. In a future version, this will no longer exclude empty or all-NA columns when determining the result dtypes. To retain the old behavior, exclude the relevant entries before the concat operation.\n",
      "\n"
     ]
    },
    {
     "name": "stdout",
     "output_type": "stream",
     "text": [
      "monthly_portfolio_return = 0.0671\n",
      "risk_free_return = -0.0043\n",
      "mark_date = datetime.date(2019, 3, 1)\n",
      "monthly_portfolio_return = 0.0762\n",
      "risk_free_return = 0.0294\n",
      "mark_date = datetime.date(2019, 4, 1)\n"
     ]
    },
    {
     "name": "stderr",
     "output_type": "stream",
     "text": [
      "/home/josh/cmor462/ropacea/ropacea/Single_factor.py:67: FutureWarning:\n",
      "\n",
      "The behavior of DataFrame concatenation with empty or all-NA entries is deprecated. In a future version, this will no longer exclude empty or all-NA columns when determining the result dtypes. To retain the old behavior, exclude the relevant entries before the concat operation.\n",
      "\n",
      "/home/josh/cmor462/ropacea/ropacea/Single_factor.py:67: FutureWarning:\n",
      "\n",
      "The behavior of DataFrame concatenation with empty or all-NA entries is deprecated. In a future version, this will no longer exclude empty or all-NA columns when determining the result dtypes. To retain the old behavior, exclude the relevant entries before the concat operation.\n",
      "\n"
     ]
    },
    {
     "name": "stdout",
     "output_type": "stream",
     "text": [
      "monthly_portfolio_return = 0.0649\n",
      "risk_free_return = -0.0062\n",
      "mark_date = datetime.date(2019, 5, 1)\n",
      "monthly_portfolio_return = -0.0978\n",
      "risk_free_return = 0.0319\n",
      "mark_date = datetime.date(2019, 6, 1)\n"
     ]
    },
    {
     "name": "stderr",
     "output_type": "stream",
     "text": [
      "/home/josh/cmor462/ropacea/ropacea/Single_factor.py:67: FutureWarning:\n",
      "\n",
      "The behavior of DataFrame concatenation with empty or all-NA entries is deprecated. In a future version, this will no longer exclude empty or all-NA columns when determining the result dtypes. To retain the old behavior, exclude the relevant entries before the concat operation.\n",
      "\n",
      "/home/josh/cmor462/ropacea/ropacea/Single_factor.py:67: FutureWarning:\n",
      "\n",
      "The behavior of DataFrame concatenation with empty or all-NA entries is deprecated. In a future version, this will no longer exclude empty or all-NA columns when determining the result dtypes. To retain the old behavior, exclude the relevant entries before the concat operation.\n",
      "\n"
     ]
    },
    {
     "name": "stdout",
     "output_type": "stream",
     "text": [
      "monthly_portfolio_return = 0.1046\n",
      "risk_free_return = 0.0121\n",
      "mark_date = datetime.date(2019, 7, 1)\n",
      "monthly_portfolio_return = 0.0224\n",
      "risk_free_return = 0.0034\n",
      "mark_date = datetime.date(2019, 8, 1)\n"
     ]
    },
    {
     "name": "stderr",
     "output_type": "stream",
     "text": [
      "/home/josh/cmor462/ropacea/ropacea/Single_factor.py:67: FutureWarning:\n",
      "\n",
      "The behavior of DataFrame concatenation with empty or all-NA entries is deprecated. In a future version, this will no longer exclude empty or all-NA columns when determining the result dtypes. To retain the old behavior, exclude the relevant entries before the concat operation.\n",
      "\n",
      "/home/josh/cmor462/ropacea/ropacea/Single_factor.py:67: FutureWarning:\n",
      "\n",
      "The behavior of DataFrame concatenation with empty or all-NA entries is deprecated. In a future version, this will no longer exclude empty or all-NA columns when determining the result dtypes. To retain the old behavior, exclude the relevant entries before the concat operation.\n",
      "\n"
     ]
    },
    {
     "name": "stdout",
     "output_type": "stream",
     "text": [
      "monthly_portfolio_return = -0.0064\n",
      "risk_free_return = 0.0403\n",
      "mark_date = datetime.date(2019, 9, 1)\n",
      "monthly_portfolio_return = -0.0074\n",
      "risk_free_return = -0.0139\n",
      "mark_date = datetime.date(2019, 10, 1)\n"
     ]
    },
    {
     "name": "stderr",
     "output_type": "stream",
     "text": [
      "/home/josh/cmor462/ropacea/ropacea/Single_factor.py:67: FutureWarning:\n",
      "\n",
      "The behavior of DataFrame concatenation with empty or all-NA entries is deprecated. In a future version, this will no longer exclude empty or all-NA columns when determining the result dtypes. To retain the old behavior, exclude the relevant entries before the concat operation.\n",
      "\n",
      "/home/josh/cmor462/ropacea/ropacea/Single_factor.py:67: FutureWarning:\n",
      "\n",
      "The behavior of DataFrame concatenation with empty or all-NA entries is deprecated. In a future version, this will no longer exclude empty or all-NA columns when determining the result dtypes. To retain the old behavior, exclude the relevant entries before the concat operation.\n",
      "\n"
     ]
    },
    {
     "name": "stdout",
     "output_type": "stream",
     "text": [
      "monthly_portfolio_return = 0.0471\n",
      "risk_free_return = -0.0007\n",
      "mark_date = datetime.date(2019, 11, 1)\n",
      "monthly_portfolio_return = 0.0795\n",
      "risk_free_return = -0.0074\n",
      "mark_date = datetime.date(2019, 12, 1)\n"
     ]
    },
    {
     "name": "stderr",
     "output_type": "stream",
     "text": [
      "/home/josh/cmor462/ropacea/ropacea/Single_factor.py:67: FutureWarning:\n",
      "\n",
      "The behavior of DataFrame concatenation with empty or all-NA entries is deprecated. In a future version, this will no longer exclude empty or all-NA columns when determining the result dtypes. To retain the old behavior, exclude the relevant entries before the concat operation.\n",
      "\n",
      "/home/josh/cmor462/ropacea/ropacea/Single_factor.py:67: FutureWarning:\n",
      "\n",
      "The behavior of DataFrame concatenation with empty or all-NA entries is deprecated. In a future version, this will no longer exclude empty or all-NA columns when determining the result dtypes. To retain the old behavior, exclude the relevant entries before the concat operation.\n",
      "\n"
     ]
    },
    {
     "name": "stdout",
     "output_type": "stream",
     "text": [
      "monthly_portfolio_return = 0.0545\n",
      "risk_free_return = -0.0113\n",
      "mark_date = datetime.date(2020, 1, 1)\n",
      "monthly_portfolio_return = 0.0520\n",
      "risk_free_return = 0.0392\n",
      "mark_date = datetime.date(2020, 2, 1)\n"
     ]
    },
    {
     "name": "stderr",
     "output_type": "stream",
     "text": [
      "/home/josh/cmor462/ropacea/ropacea/Single_factor.py:67: FutureWarning:\n",
      "\n",
      "The behavior of DataFrame concatenation with empty or all-NA entries is deprecated. In a future version, this will no longer exclude empty or all-NA columns when determining the result dtypes. To retain the old behavior, exclude the relevant entries before the concat operation.\n",
      "\n",
      "/home/josh/cmor462/ropacea/ropacea/Single_factor.py:67: FutureWarning:\n",
      "\n",
      "The behavior of DataFrame concatenation with empty or all-NA entries is deprecated. In a future version, this will no longer exclude empty or all-NA columns when determining the result dtypes. To retain the old behavior, exclude the relevant entries before the concat operation.\n",
      "\n"
     ]
    },
    {
     "name": "stdout",
     "output_type": "stream",
     "text": [
      "monthly_portfolio_return = -0.0047\n",
      "risk_free_return = 0.0299\n",
      "mark_date = datetime.date(2020, 3, 1)\n",
      "monthly_portfolio_return = -0.0845\n",
      "risk_free_return = 0.0397\n",
      "mark_date = datetime.date(2020, 4, 1)\n"
     ]
    },
    {
     "name": "stderr",
     "output_type": "stream",
     "text": [
      "/home/josh/cmor462/ropacea/ropacea/Single_factor.py:67: FutureWarning:\n",
      "\n",
      "The behavior of DataFrame concatenation with empty or all-NA entries is deprecated. In a future version, this will no longer exclude empty or all-NA columns when determining the result dtypes. To retain the old behavior, exclude the relevant entries before the concat operation.\n",
      "\n",
      "/home/josh/cmor462/ropacea/ropacea/Single_factor.py:67: FutureWarning:\n",
      "\n",
      "The behavior of DataFrame concatenation with empty or all-NA entries is deprecated. In a future version, this will no longer exclude empty or all-NA columns when determining the result dtypes. To retain the old behavior, exclude the relevant entries before the concat operation.\n",
      "\n"
     ]
    },
    {
     "name": "stdout",
     "output_type": "stream",
     "text": [
      "monthly_portfolio_return = 0.1324\n",
      "risk_free_return = 0.0050\n",
      "mark_date = datetime.date(2020, 5, 1)\n",
      "monthly_portfolio_return = 0.0818\n",
      "risk_free_return = 0.0007\n",
      "mark_date = datetime.date(2020, 6, 1)\n"
     ]
    },
    {
     "name": "stderr",
     "output_type": "stream",
     "text": [
      "/home/josh/cmor462/ropacea/ropacea/Single_factor.py:67: FutureWarning:\n",
      "\n",
      "The behavior of DataFrame concatenation with empty or all-NA entries is deprecated. In a future version, this will no longer exclude empty or all-NA columns when determining the result dtypes. To retain the old behavior, exclude the relevant entries before the concat operation.\n",
      "\n",
      "/home/josh/cmor462/ropacea/ropacea/Single_factor.py:67: FutureWarning:\n",
      "\n",
      "The behavior of DataFrame concatenation with empty or all-NA entries is deprecated. In a future version, this will no longer exclude empty or all-NA columns when determining the result dtypes. To retain the old behavior, exclude the relevant entries before the concat operation.\n",
      "\n"
     ]
    },
    {
     "name": "stdout",
     "output_type": "stream",
     "text": [
      "monthly_portfolio_return = 0.0843\n",
      "risk_free_return = 0.0004\n",
      "mark_date = datetime.date(2020, 7, 1)\n",
      "monthly_portfolio_return = 0.0488\n",
      "risk_free_return = 0.0128\n",
      "mark_date = datetime.date(2020, 8, 1)\n"
     ]
    },
    {
     "name": "stderr",
     "output_type": "stream",
     "text": [
      "/home/josh/cmor462/ropacea/ropacea/Single_factor.py:67: FutureWarning:\n",
      "\n",
      "The behavior of DataFrame concatenation with empty or all-NA entries is deprecated. In a future version, this will no longer exclude empty or all-NA columns when determining the result dtypes. To retain the old behavior, exclude the relevant entries before the concat operation.\n",
      "\n",
      "/home/josh/cmor462/ropacea/ropacea/Single_factor.py:67: FutureWarning:\n",
      "\n",
      "The behavior of DataFrame concatenation with empty or all-NA entries is deprecated. In a future version, this will no longer exclude empty or all-NA columns when determining the result dtypes. To retain the old behavior, exclude the relevant entries before the concat operation.\n",
      "\n"
     ]
    },
    {
     "name": "stdout",
     "output_type": "stream",
     "text": [
      "monthly_portfolio_return = 0.1436\n",
      "risk_free_return = -0.0147\n",
      "mark_date = datetime.date(2020, 9, 1)\n",
      "monthly_portfolio_return = -0.0463\n",
      "risk_free_return = 0.0026\n",
      "mark_date = datetime.date(2020, 10, 1)\n"
     ]
    },
    {
     "name": "stderr",
     "output_type": "stream",
     "text": [
      "/home/josh/cmor462/ropacea/ropacea/Single_factor.py:67: FutureWarning:\n",
      "\n",
      "The behavior of DataFrame concatenation with empty or all-NA entries is deprecated. In a future version, this will no longer exclude empty or all-NA columns when determining the result dtypes. To retain the old behavior, exclude the relevant entries before the concat operation.\n",
      "\n",
      "/home/josh/cmor462/ropacea/ropacea/Single_factor.py:67: FutureWarning:\n",
      "\n",
      "The behavior of DataFrame concatenation with empty or all-NA entries is deprecated. In a future version, this will no longer exclude empty or all-NA columns when determining the result dtypes. To retain the old behavior, exclude the relevant entries before the concat operation.\n",
      "\n"
     ]
    },
    {
     "name": "stdout",
     "output_type": "stream",
     "text": [
      "monthly_portfolio_return = -0.0655\n",
      "risk_free_return = -0.0173\n",
      "mark_date = datetime.date(2020, 11, 1)\n",
      "monthly_portfolio_return = 0.0708\n",
      "risk_free_return = 0.0040\n",
      "mark_date = datetime.date(2020, 12, 1)\n"
     ]
    },
    {
     "name": "stderr",
     "output_type": "stream",
     "text": [
      "/home/josh/cmor462/ropacea/ropacea/Single_factor.py:67: FutureWarning:\n",
      "\n",
      "The behavior of DataFrame concatenation with empty or all-NA entries is deprecated. In a future version, this will no longer exclude empty or all-NA columns when determining the result dtypes. To retain the old behavior, exclude the relevant entries before the concat operation.\n",
      "\n",
      "/home/josh/cmor462/ropacea/ropacea/Single_factor.py:67: FutureWarning:\n",
      "\n",
      "The behavior of DataFrame concatenation with empty or all-NA entries is deprecated. In a future version, this will no longer exclude empty or all-NA columns when determining the result dtypes. To retain the old behavior, exclude the relevant entries before the concat operation.\n",
      "\n"
     ]
    },
    {
     "name": "stdout",
     "output_type": "stream",
     "text": [
      "monthly_portfolio_return = 0.0381\n",
      "risk_free_return = -0.0050\n",
      "mark_date = datetime.date(2021, 1, 1)\n",
      "monthly_portfolio_return = -0.0255\n",
      "risk_free_return = -0.0107\n",
      "mark_date = datetime.date(2021, 2, 1)\n"
     ]
    },
    {
     "name": "stderr",
     "output_type": "stream",
     "text": [
      "/home/josh/cmor462/ropacea/ropacea/Single_factor.py:67: FutureWarning:\n",
      "\n",
      "The behavior of DataFrame concatenation with empty or all-NA entries is deprecated. In a future version, this will no longer exclude empty or all-NA columns when determining the result dtypes. To retain the old behavior, exclude the relevant entries before the concat operation.\n",
      "\n",
      "/home/josh/cmor462/ropacea/ropacea/Single_factor.py:67: FutureWarning:\n",
      "\n",
      "The behavior of DataFrame concatenation with empty or all-NA entries is deprecated. In a future version, this will no longer exclude empty or all-NA columns when determining the result dtypes. To retain the old behavior, exclude the relevant entries before the concat operation.\n",
      "\n"
     ]
    },
    {
     "name": "stdout",
     "output_type": "stream",
     "text": [
      "monthly_portfolio_return = 0.0030\n",
      "risk_free_return = -0.0254\n",
      "mark_date = datetime.date(2021, 3, 1)\n",
      "monthly_portfolio_return = 0.0036\n",
      "risk_free_return = -0.0293\n",
      "mark_date = datetime.date(2021, 4, 1)\n"
     ]
    },
    {
     "name": "stderr",
     "output_type": "stream",
     "text": [
      "/home/josh/cmor462/ropacea/ropacea/Single_factor.py:67: FutureWarning:\n",
      "\n",
      "The behavior of DataFrame concatenation with empty or all-NA entries is deprecated. In a future version, this will no longer exclude empty or all-NA columns when determining the result dtypes. To retain the old behavior, exclude the relevant entries before the concat operation.\n",
      "\n",
      "/home/josh/cmor462/ropacea/ropacea/Single_factor.py:67: FutureWarning:\n",
      "\n",
      "The behavior of DataFrame concatenation with empty or all-NA entries is deprecated. In a future version, this will no longer exclude empty or all-NA columns when determining the result dtypes. To retain the old behavior, exclude the relevant entries before the concat operation.\n",
      "\n"
     ]
    },
    {
     "name": "stdout",
     "output_type": "stream",
     "text": [
      "monthly_portfolio_return = 0.0913\n",
      "risk_free_return = 0.0119\n",
      "mark_date = datetime.date(2021, 5, 1)\n",
      "monthly_portfolio_return = 0.0119\n",
      "risk_free_return = 0.0034\n",
      "mark_date = datetime.date(2021, 6, 1)\n"
     ]
    },
    {
     "name": "stderr",
     "output_type": "stream",
     "text": [
      "/home/josh/cmor462/ropacea/ropacea/Single_factor.py:67: FutureWarning:\n",
      "\n",
      "The behavior of DataFrame concatenation with empty or all-NA entries is deprecated. In a future version, this will no longer exclude empty or all-NA columns when determining the result dtypes. To retain the old behavior, exclude the relevant entries before the concat operation.\n",
      "\n",
      "/home/josh/cmor462/ropacea/ropacea/Single_factor.py:67: FutureWarning:\n",
      "\n",
      "The behavior of DataFrame concatenation with empty or all-NA entries is deprecated. In a future version, this will no longer exclude empty or all-NA columns when determining the result dtypes. To retain the old behavior, exclude the relevant entries before the concat operation.\n",
      "\n"
     ]
    },
    {
     "name": "stdout",
     "output_type": "stream",
     "text": [
      "monthly_portfolio_return = 0.1583\n",
      "risk_free_return = 0.0141\n",
      "mark_date = datetime.date(2021, 7, 1)\n",
      "monthly_portfolio_return = 0.0326\n",
      "risk_free_return = 0.0238\n",
      "mark_date = datetime.date(2021, 8, 1)\n"
     ]
    },
    {
     "name": "stderr",
     "output_type": "stream",
     "text": [
      "/home/josh/cmor462/ropacea/ropacea/Single_factor.py:67: FutureWarning:\n",
      "\n",
      "The behavior of DataFrame concatenation with empty or all-NA entries is deprecated. In a future version, this will no longer exclude empty or all-NA columns when determining the result dtypes. To retain the old behavior, exclude the relevant entries before the concat operation.\n",
      "\n",
      "/home/josh/cmor462/ropacea/ropacea/Single_factor.py:67: FutureWarning:\n",
      "\n",
      "The behavior of DataFrame concatenation with empty or all-NA entries is deprecated. In a future version, this will no longer exclude empty or all-NA columns when determining the result dtypes. To retain the old behavior, exclude the relevant entries before the concat operation.\n",
      "\n"
     ]
    },
    {
     "name": "stdout",
     "output_type": "stream",
     "text": [
      "monthly_portfolio_return = 0.0872\n",
      "risk_free_return = -0.0048\n",
      "mark_date = datetime.date(2021, 9, 1)\n",
      "monthly_portfolio_return = -0.0875\n",
      "risk_free_return = -0.0154\n",
      "mark_date = datetime.date(2021, 10, 1)\n"
     ]
    },
    {
     "name": "stderr",
     "output_type": "stream",
     "text": [
      "/home/josh/cmor462/ropacea/ropacea/Single_factor.py:67: FutureWarning:\n",
      "\n",
      "The behavior of DataFrame concatenation with empty or all-NA entries is deprecated. In a future version, this will no longer exclude empty or all-NA columns when determining the result dtypes. To retain the old behavior, exclude the relevant entries before the concat operation.\n",
      "\n",
      "/home/josh/cmor462/ropacea/ropacea/Single_factor.py:67: FutureWarning:\n",
      "\n",
      "The behavior of DataFrame concatenation with empty or all-NA entries is deprecated. In a future version, this will no longer exclude empty or all-NA columns when determining the result dtypes. To retain the old behavior, exclude the relevant entries before the concat operation.\n",
      "\n"
     ]
    },
    {
     "name": "stdout",
     "output_type": "stream",
     "text": [
      "monthly_portfolio_return = 0.1690\n",
      "risk_free_return = -0.0049\n",
      "mark_date = datetime.date(2021, 11, 1)\n",
      "monthly_portfolio_return = 0.1320\n",
      "risk_free_return = 0.0125\n",
      "mark_date = datetime.date(2021, 12, 1)\n"
     ]
    },
    {
     "name": "stderr",
     "output_type": "stream",
     "text": [
      "/home/josh/cmor462/ropacea/ropacea/Single_factor.py:67: FutureWarning:\n",
      "\n",
      "The behavior of DataFrame concatenation with empty or all-NA entries is deprecated. In a future version, this will no longer exclude empty or all-NA columns when determining the result dtypes. To retain the old behavior, exclude the relevant entries before the concat operation.\n",
      "\n",
      "/home/josh/cmor462/ropacea/ropacea/Single_factor.py:67: FutureWarning:\n",
      "\n",
      "The behavior of DataFrame concatenation with empty or all-NA entries is deprecated. In a future version, this will no longer exclude empty or all-NA columns when determining the result dtypes. To retain the old behavior, exclude the relevant entries before the concat operation.\n",
      "\n"
     ]
    },
    {
     "name": "stdout",
     "output_type": "stream",
     "text": [
      "monthly_portfolio_return = -0.0505\n",
      "risk_free_return = -0.0047\n",
      "========== SUMMARY ==========\n",
      "monthly_returns_bp_mean = 305.25\n",
      "monthly_returns_bp_std = 737.93\n",
      "annualized_mean_pct = 43.45\n",
      "annualized_std_pct = 25.56\n",
      "sharpe_ratio = 1.70\n",
      "mark_date = datetime.date(2017, 1, 1)\n",
      "monthly_portfolio_return = 0.0417\n",
      "risk_free_return = 0.0022\n",
      "mark_date = datetime.date(2017, 2, 1)\n"
     ]
    },
    {
     "name": "stderr",
     "output_type": "stream",
     "text": [
      "/home/josh/cmor462/ropacea/ropacea/Single_factor.py:67: FutureWarning:\n",
      "\n",
      "The behavior of DataFrame concatenation with empty or all-NA entries is deprecated. In a future version, this will no longer exclude empty or all-NA columns when determining the result dtypes. To retain the old behavior, exclude the relevant entries before the concat operation.\n",
      "\n",
      "/home/josh/cmor462/ropacea/ropacea/Single_factor.py:67: FutureWarning:\n",
      "\n",
      "The behavior of DataFrame concatenation with empty or all-NA entries is deprecated. In a future version, this will no longer exclude empty or all-NA columns when determining the result dtypes. To retain the old behavior, exclude the relevant entries before the concat operation.\n",
      "\n"
     ]
    },
    {
     "name": "stdout",
     "output_type": "stream",
     "text": [
      "monthly_portfolio_return = -0.0116\n",
      "risk_free_return = 0.0074\n",
      "mark_date = datetime.date(2017, 3, 1)\n",
      "monthly_portfolio_return = 0.0674\n",
      "risk_free_return = 0.0024\n",
      "mark_date = datetime.date(2017, 4, 1)\n"
     ]
    },
    {
     "name": "stderr",
     "output_type": "stream",
     "text": [
      "/home/josh/cmor462/ropacea/ropacea/Single_factor.py:67: FutureWarning:\n",
      "\n",
      "The behavior of DataFrame concatenation with empty or all-NA entries is deprecated. In a future version, this will no longer exclude empty or all-NA columns when determining the result dtypes. To retain the old behavior, exclude the relevant entries before the concat operation.\n",
      "\n",
      "/home/josh/cmor462/ropacea/ropacea/Single_factor.py:67: FutureWarning:\n",
      "\n",
      "The behavior of DataFrame concatenation with empty or all-NA entries is deprecated. In a future version, this will no longer exclude empty or all-NA columns when determining the result dtypes. To retain the old behavior, exclude the relevant entries before the concat operation.\n",
      "\n"
     ]
    },
    {
     "name": "stdout",
     "output_type": "stream",
     "text": [
      "monthly_portfolio_return = -0.0079\n",
      "risk_free_return = 0.0111\n",
      "mark_date = datetime.date(2017, 5, 1)\n",
      "monthly_portfolio_return = 0.1915\n",
      "risk_free_return = 0.0079\n",
      "mark_date = datetime.date(2017, 6, 1)\n"
     ]
    },
    {
     "name": "stderr",
     "output_type": "stream",
     "text": [
      "/home/josh/cmor462/ropacea/ropacea/Single_factor.py:67: FutureWarning:\n",
      "\n",
      "The behavior of DataFrame concatenation with empty or all-NA entries is deprecated. In a future version, this will no longer exclude empty or all-NA columns when determining the result dtypes. To retain the old behavior, exclude the relevant entries before the concat operation.\n",
      "\n",
      "/home/josh/cmor462/ropacea/ropacea/Single_factor.py:67: FutureWarning:\n",
      "\n",
      "The behavior of DataFrame concatenation with empty or all-NA entries is deprecated. In a future version, this will no longer exclude empty or all-NA columns when determining the result dtypes. To retain the old behavior, exclude the relevant entries before the concat operation.\n",
      "\n"
     ]
    },
    {
     "name": "stdout",
     "output_type": "stream",
     "text": [
      "monthly_portfolio_return = -0.0044\n",
      "risk_free_return = -0.0013\n",
      "mark_date = datetime.date(2017, 7, 1)\n",
      "monthly_portfolio_return = 0.0678\n",
      "risk_free_return = -0.0000\n",
      "mark_date = datetime.date(2017, 8, 1)\n"
     ]
    },
    {
     "name": "stderr",
     "output_type": "stream",
     "text": [
      "/home/josh/cmor462/ropacea/ropacea/Single_factor.py:67: FutureWarning:\n",
      "\n",
      "The behavior of DataFrame concatenation with empty or all-NA entries is deprecated. In a future version, this will no longer exclude empty or all-NA columns when determining the result dtypes. To retain the old behavior, exclude the relevant entries before the concat operation.\n",
      "\n",
      "/home/josh/cmor462/ropacea/ropacea/Single_factor.py:67: FutureWarning:\n",
      "\n",
      "The behavior of DataFrame concatenation with empty or all-NA entries is deprecated. In a future version, this will no longer exclude empty or all-NA columns when determining the result dtypes. To retain the old behavior, exclude the relevant entries before the concat operation.\n",
      "\n"
     ]
    },
    {
     "name": "stdout",
     "output_type": "stream",
     "text": [
      "monthly_portfolio_return = 0.0406\n",
      "risk_free_return = 0.0171\n",
      "mark_date = datetime.date(2017, 9, 1)\n",
      "monthly_portfolio_return = 0.0225\n",
      "risk_free_return = -0.0172\n",
      "mark_date = datetime.date(2017, 10, 1)\n"
     ]
    },
    {
     "name": "stderr",
     "output_type": "stream",
     "text": [
      "/home/josh/cmor462/ropacea/ropacea/Single_factor.py:67: FutureWarning:\n",
      "\n",
      "The behavior of DataFrame concatenation with empty or all-NA entries is deprecated. In a future version, this will no longer exclude empty or all-NA columns when determining the result dtypes. To retain the old behavior, exclude the relevant entries before the concat operation.\n",
      "\n",
      "/home/josh/cmor462/ropacea/ropacea/Single_factor.py:67: FutureWarning:\n",
      "\n",
      "The behavior of DataFrame concatenation with empty or all-NA entries is deprecated. In a future version, this will no longer exclude empty or all-NA columns when determining the result dtypes. To retain the old behavior, exclude the relevant entries before the concat operation.\n",
      "\n"
     ]
    },
    {
     "name": "stdout",
     "output_type": "stream",
     "text": [
      "monthly_portfolio_return = 0.1322\n",
      "risk_free_return = -0.0011\n",
      "mark_date = datetime.date(2017, 11, 1)\n",
      "monthly_portfolio_return = 0.0048\n",
      "risk_free_return = -0.0026\n",
      "mark_date = datetime.date(2017, 12, 1)\n"
     ]
    },
    {
     "name": "stderr",
     "output_type": "stream",
     "text": [
      "/home/josh/cmor462/ropacea/ropacea/Single_factor.py:67: FutureWarning:\n",
      "\n",
      "The behavior of DataFrame concatenation with empty or all-NA entries is deprecated. In a future version, this will no longer exclude empty or all-NA columns when determining the result dtypes. To retain the old behavior, exclude the relevant entries before the concat operation.\n",
      "\n",
      "/home/josh/cmor462/ropacea/ropacea/Single_factor.py:67: FutureWarning:\n",
      "\n",
      "The behavior of DataFrame concatenation with empty or all-NA entries is deprecated. In a future version, this will no longer exclude empty or all-NA columns when determining the result dtypes. To retain the old behavior, exclude the relevant entries before the concat operation.\n",
      "\n"
     ]
    },
    {
     "name": "stdout",
     "output_type": "stream",
     "text": [
      "monthly_portfolio_return = -0.0045\n",
      "risk_free_return = 0.0022\n",
      "mark_date = datetime.date(2018, 1, 1)\n",
      "monthly_portfolio_return = 0.1674\n",
      "risk_free_return = -0.0236\n",
      "mark_date = datetime.date(2018, 2, 1)\n"
     ]
    },
    {
     "name": "stderr",
     "output_type": "stream",
     "text": [
      "/home/josh/cmor462/ropacea/ropacea/Single_factor.py:67: FutureWarning:\n",
      "\n",
      "The behavior of DataFrame concatenation with empty or all-NA entries is deprecated. In a future version, this will no longer exclude empty or all-NA columns when determining the result dtypes. To retain the old behavior, exclude the relevant entries before the concat operation.\n",
      "\n",
      "/home/josh/cmor462/ropacea/ropacea/Single_factor.py:67: FutureWarning:\n",
      "\n",
      "The behavior of DataFrame concatenation with empty or all-NA entries is deprecated. In a future version, this will no longer exclude empty or all-NA columns when determining the result dtypes. To retain the old behavior, exclude the relevant entries before the concat operation.\n",
      "\n"
     ]
    },
    {
     "name": "stdout",
     "output_type": "stream",
     "text": [
      "monthly_portfolio_return = 0.0072\n",
      "risk_free_return = -0.0130\n",
      "mark_date = datetime.date(2018, 3, 1)\n",
      "monthly_portfolio_return = -0.0170\n",
      "risk_free_return = 0.0128\n",
      "mark_date = datetime.date(2018, 4, 1)\n"
     ]
    },
    {
     "name": "stderr",
     "output_type": "stream",
     "text": [
      "/home/josh/cmor462/ropacea/ropacea/Single_factor.py:67: FutureWarning:\n",
      "\n",
      "The behavior of DataFrame concatenation with empty or all-NA entries is deprecated. In a future version, this will no longer exclude empty or all-NA columns when determining the result dtypes. To retain the old behavior, exclude the relevant entries before the concat operation.\n",
      "\n",
      "/home/josh/cmor462/ropacea/ropacea/Single_factor.py:67: FutureWarning:\n",
      "\n",
      "The behavior of DataFrame concatenation with empty or all-NA entries is deprecated. In a future version, this will no longer exclude empty or all-NA columns when determining the result dtypes. To retain the old behavior, exclude the relevant entries before the concat operation.\n",
      "\n"
     ]
    },
    {
     "name": "stdout",
     "output_type": "stream",
     "text": [
      "monthly_portfolio_return = -0.0007\n",
      "risk_free_return = -0.0155\n",
      "mark_date = datetime.date(2018, 5, 1)\n",
      "monthly_portfolio_return = 0.1051\n",
      "risk_free_return = 0.0096\n",
      "mark_date = datetime.date(2018, 6, 1)\n"
     ]
    },
    {
     "name": "stderr",
     "output_type": "stream",
     "text": [
      "/home/josh/cmor462/ropacea/ropacea/Single_factor.py:67: FutureWarning:\n",
      "\n",
      "The behavior of DataFrame concatenation with empty or all-NA entries is deprecated. In a future version, this will no longer exclude empty or all-NA columns when determining the result dtypes. To retain the old behavior, exclude the relevant entries before the concat operation.\n",
      "\n",
      "/home/josh/cmor462/ropacea/ropacea/Single_factor.py:67: FutureWarning:\n",
      "\n",
      "The behavior of DataFrame concatenation with empty or all-NA entries is deprecated. In a future version, this will no longer exclude empty or all-NA columns when determining the result dtypes. To retain the old behavior, exclude the relevant entries before the concat operation.\n",
      "\n"
     ]
    },
    {
     "name": "stdout",
     "output_type": "stream",
     "text": [
      "monthly_portfolio_return = -0.0196\n",
      "risk_free_return = 0.0023\n",
      "mark_date = datetime.date(2018, 7, 1)\n",
      "monthly_portfolio_return = 0.0205\n",
      "risk_free_return = -0.0051\n",
      "mark_date = datetime.date(2018, 8, 1)\n"
     ]
    },
    {
     "name": "stderr",
     "output_type": "stream",
     "text": [
      "/home/josh/cmor462/ropacea/ropacea/Single_factor.py:67: FutureWarning:\n",
      "\n",
      "The behavior of DataFrame concatenation with empty or all-NA entries is deprecated. In a future version, this will no longer exclude empty or all-NA columns when determining the result dtypes. To retain the old behavior, exclude the relevant entries before the concat operation.\n",
      "\n",
      "/home/josh/cmor462/ropacea/ropacea/Single_factor.py:67: FutureWarning:\n",
      "\n",
      "The behavior of DataFrame concatenation with empty or all-NA entries is deprecated. In a future version, this will no longer exclude empty or all-NA columns when determining the result dtypes. To retain the old behavior, exclude the relevant entries before the concat operation.\n",
      "\n"
     ]
    },
    {
     "name": "stdout",
     "output_type": "stream",
     "text": [
      "monthly_portfolio_return = 0.0944\n",
      "risk_free_return = 0.0101\n",
      "mark_date = datetime.date(2018, 9, 1)\n",
      "monthly_portfolio_return = 0.0107\n",
      "risk_free_return = -0.0148\n",
      "mark_date = datetime.date(2018, 10, 1)\n"
     ]
    },
    {
     "name": "stderr",
     "output_type": "stream",
     "text": [
      "/home/josh/cmor462/ropacea/ropacea/Single_factor.py:67: FutureWarning:\n",
      "\n",
      "The behavior of DataFrame concatenation with empty or all-NA entries is deprecated. In a future version, this will no longer exclude empty or all-NA columns when determining the result dtypes. To retain the old behavior, exclude the relevant entries before the concat operation.\n",
      "\n",
      "/home/josh/cmor462/ropacea/ropacea/Single_factor.py:67: FutureWarning:\n",
      "\n",
      "The behavior of DataFrame concatenation with empty or all-NA entries is deprecated. In a future version, this will no longer exclude empty or all-NA columns when determining the result dtypes. To retain the old behavior, exclude the relevant entries before the concat operation.\n",
      "\n"
     ]
    },
    {
     "name": "stdout",
     "output_type": "stream",
     "text": [
      "monthly_portfolio_return = -0.1319\n",
      "risk_free_return = -0.0043\n",
      "mark_date = datetime.date(2018, 11, 1)\n",
      "monthly_portfolio_return = -0.0682\n",
      "risk_free_return = 0.0149\n",
      "mark_date = datetime.date(2018, 12, 1)\n"
     ]
    },
    {
     "name": "stderr",
     "output_type": "stream",
     "text": [
      "/home/josh/cmor462/ropacea/ropacea/Single_factor.py:67: FutureWarning:\n",
      "\n",
      "The behavior of DataFrame concatenation with empty or all-NA entries is deprecated. In a future version, this will no longer exclude empty or all-NA columns when determining the result dtypes. To retain the old behavior, exclude the relevant entries before the concat operation.\n",
      "\n",
      "/home/josh/cmor462/ropacea/ropacea/Single_factor.py:67: FutureWarning:\n",
      "\n",
      "The behavior of DataFrame concatenation with empty or all-NA entries is deprecated. In a future version, this will no longer exclude empty or all-NA columns when determining the result dtypes. To retain the old behavior, exclude the relevant entries before the concat operation.\n",
      "\n"
     ]
    },
    {
     "name": "stdout",
     "output_type": "stream",
     "text": [
      "monthly_portfolio_return = -0.1220\n",
      "risk_free_return = 0.0286\n",
      "mark_date = datetime.date(2019, 1, 1)\n",
      "monthly_portfolio_return = 0.0684\n",
      "risk_free_return = 0.0071\n",
      "mark_date = datetime.date(2019, 2, 1)\n"
     ]
    },
    {
     "name": "stderr",
     "output_type": "stream",
     "text": [
      "/home/josh/cmor462/ropacea/ropacea/Single_factor.py:67: FutureWarning:\n",
      "\n",
      "The behavior of DataFrame concatenation with empty or all-NA entries is deprecated. In a future version, this will no longer exclude empty or all-NA columns when determining the result dtypes. To retain the old behavior, exclude the relevant entries before the concat operation.\n",
      "\n",
      "/home/josh/cmor462/ropacea/ropacea/Single_factor.py:67: FutureWarning:\n",
      "\n",
      "The behavior of DataFrame concatenation with empty or all-NA entries is deprecated. In a future version, this will no longer exclude empty or all-NA columns when determining the result dtypes. To retain the old behavior, exclude the relevant entries before the concat operation.\n",
      "\n"
     ]
    },
    {
     "name": "stdout",
     "output_type": "stream",
     "text": [
      "monthly_portfolio_return = 0.0679\n",
      "risk_free_return = -0.0043\n",
      "mark_date = datetime.date(2019, 3, 1)\n"
     ]
    },
    {
     "name": "stderr",
     "output_type": "stream",
     "text": [
      "/home/josh/cmor462/ropacea/ropacea/Single_factor.py:67: FutureWarning:\n",
      "\n",
      "The behavior of DataFrame concatenation with empty or all-NA entries is deprecated. In a future version, this will no longer exclude empty or all-NA columns when determining the result dtypes. To retain the old behavior, exclude the relevant entries before the concat operation.\n",
      "\n"
     ]
    },
    {
     "name": "stdout",
     "output_type": "stream",
     "text": [
      "monthly_portfolio_return = 0.0823\n",
      "risk_free_return = 0.0294\n",
      "mark_date = datetime.date(2019, 4, 1)\n",
      "monthly_portfolio_return = 0.0620\n",
      "risk_free_return = -0.0062\n",
      "mark_date = datetime.date(2019, 5, 1)\n"
     ]
    },
    {
     "name": "stderr",
     "output_type": "stream",
     "text": [
      "/home/josh/cmor462/ropacea/ropacea/Single_factor.py:67: FutureWarning:\n",
      "\n",
      "The behavior of DataFrame concatenation with empty or all-NA entries is deprecated. In a future version, this will no longer exclude empty or all-NA columns when determining the result dtypes. To retain the old behavior, exclude the relevant entries before the concat operation.\n",
      "\n",
      "/home/josh/cmor462/ropacea/ropacea/Single_factor.py:67: FutureWarning:\n",
      "\n",
      "The behavior of DataFrame concatenation with empty or all-NA entries is deprecated. In a future version, this will no longer exclude empty or all-NA columns when determining the result dtypes. To retain the old behavior, exclude the relevant entries before the concat operation.\n",
      "\n"
     ]
    },
    {
     "name": "stdout",
     "output_type": "stream",
     "text": [
      "monthly_portfolio_return = -0.1121\n",
      "risk_free_return = 0.0319\n",
      "mark_date = datetime.date(2019, 6, 1)\n",
      "monthly_portfolio_return = 0.1147\n",
      "risk_free_return = 0.0121\n",
      "mark_date = datetime.date(2019, 7, 1)\n"
     ]
    },
    {
     "name": "stderr",
     "output_type": "stream",
     "text": [
      "/home/josh/cmor462/ropacea/ropacea/Single_factor.py:67: FutureWarning:\n",
      "\n",
      "The behavior of DataFrame concatenation with empty or all-NA entries is deprecated. In a future version, this will no longer exclude empty or all-NA columns when determining the result dtypes. To retain the old behavior, exclude the relevant entries before the concat operation.\n",
      "\n",
      "/home/josh/cmor462/ropacea/ropacea/Single_factor.py:67: FutureWarning:\n",
      "\n",
      "The behavior of DataFrame concatenation with empty or all-NA entries is deprecated. In a future version, this will no longer exclude empty or all-NA columns when determining the result dtypes. To retain the old behavior, exclude the relevant entries before the concat operation.\n",
      "\n"
     ]
    },
    {
     "name": "stdout",
     "output_type": "stream",
     "text": [
      "monthly_portfolio_return = 0.0225\n",
      "risk_free_return = 0.0034\n",
      "mark_date = datetime.date(2019, 8, 1)\n",
      "monthly_portfolio_return = -0.0091\n",
      "risk_free_return = 0.0403\n",
      "mark_date = datetime.date(2019, 9, 1)\n"
     ]
    },
    {
     "name": "stderr",
     "output_type": "stream",
     "text": [
      "/home/josh/cmor462/ropacea/ropacea/Single_factor.py:67: FutureWarning:\n",
      "\n",
      "The behavior of DataFrame concatenation with empty or all-NA entries is deprecated. In a future version, this will no longer exclude empty or all-NA columns when determining the result dtypes. To retain the old behavior, exclude the relevant entries before the concat operation.\n",
      "\n",
      "/home/josh/cmor462/ropacea/ropacea/Single_factor.py:67: FutureWarning:\n",
      "\n",
      "The behavior of DataFrame concatenation with empty or all-NA entries is deprecated. In a future version, this will no longer exclude empty or all-NA columns when determining the result dtypes. To retain the old behavior, exclude the relevant entries before the concat operation.\n",
      "\n"
     ]
    },
    {
     "name": "stdout",
     "output_type": "stream",
     "text": [
      "monthly_portfolio_return = -0.0071\n",
      "risk_free_return = -0.0139\n",
      "mark_date = datetime.date(2019, 10, 1)\n",
      "monthly_portfolio_return = 0.0590\n",
      "risk_free_return = -0.0007\n",
      "mark_date = datetime.date(2019, 11, 1)\n"
     ]
    },
    {
     "name": "stderr",
     "output_type": "stream",
     "text": [
      "/home/josh/cmor462/ropacea/ropacea/Single_factor.py:67: FutureWarning:\n",
      "\n",
      "The behavior of DataFrame concatenation with empty or all-NA entries is deprecated. In a future version, this will no longer exclude empty or all-NA columns when determining the result dtypes. To retain the old behavior, exclude the relevant entries before the concat operation.\n",
      "\n",
      "/home/josh/cmor462/ropacea/ropacea/Single_factor.py:67: FutureWarning:\n",
      "\n",
      "The behavior of DataFrame concatenation with empty or all-NA entries is deprecated. In a future version, this will no longer exclude empty or all-NA columns when determining the result dtypes. To retain the old behavior, exclude the relevant entries before the concat operation.\n",
      "\n"
     ]
    },
    {
     "name": "stdout",
     "output_type": "stream",
     "text": [
      "monthly_portfolio_return = 0.0813\n",
      "risk_free_return = -0.0074\n",
      "mark_date = datetime.date(2019, 12, 1)\n",
      "monthly_portfolio_return = 0.0583\n",
      "risk_free_return = -0.0113\n",
      "mark_date = datetime.date(2020, 1, 1)\n"
     ]
    },
    {
     "name": "stderr",
     "output_type": "stream",
     "text": [
      "/home/josh/cmor462/ropacea/ropacea/Single_factor.py:67: FutureWarning:\n",
      "\n",
      "The behavior of DataFrame concatenation with empty or all-NA entries is deprecated. In a future version, this will no longer exclude empty or all-NA columns when determining the result dtypes. To retain the old behavior, exclude the relevant entries before the concat operation.\n",
      "\n",
      "/home/josh/cmor462/ropacea/ropacea/Single_factor.py:67: FutureWarning:\n",
      "\n",
      "The behavior of DataFrame concatenation with empty or all-NA entries is deprecated. In a future version, this will no longer exclude empty or all-NA columns when determining the result dtypes. To retain the old behavior, exclude the relevant entries before the concat operation.\n",
      "\n"
     ]
    },
    {
     "name": "stdout",
     "output_type": "stream",
     "text": [
      "monthly_portfolio_return = 0.0492\n",
      "risk_free_return = 0.0392\n",
      "mark_date = datetime.date(2020, 2, 1)\n",
      "monthly_portfolio_return = 0.0089\n",
      "risk_free_return = 0.0299\n",
      "mark_date = datetime.date(2020, 3, 1)\n"
     ]
    },
    {
     "name": "stderr",
     "output_type": "stream",
     "text": [
      "/home/josh/cmor462/ropacea/ropacea/Single_factor.py:67: FutureWarning:\n",
      "\n",
      "The behavior of DataFrame concatenation with empty or all-NA entries is deprecated. In a future version, this will no longer exclude empty or all-NA columns when determining the result dtypes. To retain the old behavior, exclude the relevant entries before the concat operation.\n",
      "\n",
      "/home/josh/cmor462/ropacea/ropacea/Single_factor.py:67: FutureWarning:\n",
      "\n",
      "The behavior of DataFrame concatenation with empty or all-NA entries is deprecated. In a future version, this will no longer exclude empty or all-NA columns when determining the result dtypes. To retain the old behavior, exclude the relevant entries before the concat operation.\n",
      "\n"
     ]
    },
    {
     "name": "stdout",
     "output_type": "stream",
     "text": [
      "monthly_portfolio_return = -0.0790\n",
      "risk_free_return = 0.0397\n",
      "mark_date = datetime.date(2020, 4, 1)\n",
      "monthly_portfolio_return = 0.1316\n",
      "risk_free_return = 0.0050\n",
      "mark_date = datetime.date(2020, 5, 1)\n"
     ]
    },
    {
     "name": "stderr",
     "output_type": "stream",
     "text": [
      "/home/josh/cmor462/ropacea/ropacea/Single_factor.py:67: FutureWarning:\n",
      "\n",
      "The behavior of DataFrame concatenation with empty or all-NA entries is deprecated. In a future version, this will no longer exclude empty or all-NA columns when determining the result dtypes. To retain the old behavior, exclude the relevant entries before the concat operation.\n",
      "\n",
      "/home/josh/cmor462/ropacea/ropacea/Single_factor.py:67: FutureWarning:\n",
      "\n",
      "The behavior of DataFrame concatenation with empty or all-NA entries is deprecated. In a future version, this will no longer exclude empty or all-NA columns when determining the result dtypes. To retain the old behavior, exclude the relevant entries before the concat operation.\n",
      "\n"
     ]
    },
    {
     "name": "stdout",
     "output_type": "stream",
     "text": [
      "monthly_portfolio_return = 0.0880\n",
      "risk_free_return = 0.0007\n",
      "mark_date = datetime.date(2020, 6, 1)\n",
      "monthly_portfolio_return = 0.0868\n",
      "risk_free_return = 0.0004\n",
      "mark_date = datetime.date(2020, 7, 1)\n"
     ]
    },
    {
     "name": "stderr",
     "output_type": "stream",
     "text": [
      "/home/josh/cmor462/ropacea/ropacea/Single_factor.py:67: FutureWarning:\n",
      "\n",
      "The behavior of DataFrame concatenation with empty or all-NA entries is deprecated. In a future version, this will no longer exclude empty or all-NA columns when determining the result dtypes. To retain the old behavior, exclude the relevant entries before the concat operation.\n",
      "\n",
      "/home/josh/cmor462/ropacea/ropacea/Single_factor.py:67: FutureWarning:\n",
      "\n",
      "The behavior of DataFrame concatenation with empty or all-NA entries is deprecated. In a future version, this will no longer exclude empty or all-NA columns when determining the result dtypes. To retain the old behavior, exclude the relevant entries before the concat operation.\n",
      "\n"
     ]
    },
    {
     "name": "stdout",
     "output_type": "stream",
     "text": [
      "monthly_portfolio_return = 0.0451\n",
      "risk_free_return = 0.0128\n",
      "mark_date = datetime.date(2020, 8, 1)\n",
      "monthly_portfolio_return = 0.1509\n",
      "risk_free_return = -0.0147\n",
      "mark_date = datetime.date(2020, 9, 1)\n"
     ]
    },
    {
     "name": "stderr",
     "output_type": "stream",
     "text": [
      "/home/josh/cmor462/ropacea/ropacea/Single_factor.py:67: FutureWarning:\n",
      "\n",
      "The behavior of DataFrame concatenation with empty or all-NA entries is deprecated. In a future version, this will no longer exclude empty or all-NA columns when determining the result dtypes. To retain the old behavior, exclude the relevant entries before the concat operation.\n",
      "\n",
      "/home/josh/cmor462/ropacea/ropacea/Single_factor.py:67: FutureWarning:\n",
      "\n",
      "The behavior of DataFrame concatenation with empty or all-NA entries is deprecated. In a future version, this will no longer exclude empty or all-NA columns when determining the result dtypes. To retain the old behavior, exclude the relevant entries before the concat operation.\n",
      "\n"
     ]
    },
    {
     "name": "stdout",
     "output_type": "stream",
     "text": [
      "monthly_portfolio_return = -0.0481\n",
      "risk_free_return = 0.0026\n",
      "mark_date = datetime.date(2020, 10, 1)\n",
      "monthly_portfolio_return = -0.0720\n",
      "risk_free_return = -0.0173\n",
      "mark_date = datetime.date(2020, 11, 1)\n"
     ]
    },
    {
     "name": "stderr",
     "output_type": "stream",
     "text": [
      "/home/josh/cmor462/ropacea/ropacea/Single_factor.py:67: FutureWarning:\n",
      "\n",
      "The behavior of DataFrame concatenation with empty or all-NA entries is deprecated. In a future version, this will no longer exclude empty or all-NA columns when determining the result dtypes. To retain the old behavior, exclude the relevant entries before the concat operation.\n",
      "\n",
      "/home/josh/cmor462/ropacea/ropacea/Single_factor.py:67: FutureWarning:\n",
      "\n",
      "The behavior of DataFrame concatenation with empty or all-NA entries is deprecated. In a future version, this will no longer exclude empty or all-NA columns when determining the result dtypes. To retain the old behavior, exclude the relevant entries before the concat operation.\n",
      "\n"
     ]
    },
    {
     "name": "stdout",
     "output_type": "stream",
     "text": [
      "monthly_portfolio_return = 0.0695\n",
      "risk_free_return = 0.0040\n",
      "mark_date = datetime.date(2020, 12, 1)\n",
      "monthly_portfolio_return = 0.0360\n",
      "risk_free_return = -0.0050\n",
      "mark_date = datetime.date(2021, 1, 1)\n"
     ]
    },
    {
     "name": "stderr",
     "output_type": "stream",
     "text": [
      "/home/josh/cmor462/ropacea/ropacea/Single_factor.py:67: FutureWarning:\n",
      "\n",
      "The behavior of DataFrame concatenation with empty or all-NA entries is deprecated. In a future version, this will no longer exclude empty or all-NA columns when determining the result dtypes. To retain the old behavior, exclude the relevant entries before the concat operation.\n",
      "\n",
      "/home/josh/cmor462/ropacea/ropacea/Single_factor.py:67: FutureWarning:\n",
      "\n",
      "The behavior of DataFrame concatenation with empty or all-NA entries is deprecated. In a future version, this will no longer exclude empty or all-NA columns when determining the result dtypes. To retain the old behavior, exclude the relevant entries before the concat operation.\n",
      "\n"
     ]
    },
    {
     "name": "stdout",
     "output_type": "stream",
     "text": [
      "monthly_portfolio_return = -0.0230\n",
      "risk_free_return = -0.0107\n",
      "mark_date = datetime.date(2021, 2, 1)\n",
      "monthly_portfolio_return = 0.0008\n",
      "risk_free_return = -0.0254\n",
      "mark_date = datetime.date(2021, 3, 1)\n"
     ]
    },
    {
     "name": "stderr",
     "output_type": "stream",
     "text": [
      "/home/josh/cmor462/ropacea/ropacea/Single_factor.py:67: FutureWarning:\n",
      "\n",
      "The behavior of DataFrame concatenation with empty or all-NA entries is deprecated. In a future version, this will no longer exclude empty or all-NA columns when determining the result dtypes. To retain the old behavior, exclude the relevant entries before the concat operation.\n",
      "\n",
      "/home/josh/cmor462/ropacea/ropacea/Single_factor.py:67: FutureWarning:\n",
      "\n",
      "The behavior of DataFrame concatenation with empty or all-NA entries is deprecated. In a future version, this will no longer exclude empty or all-NA columns when determining the result dtypes. To retain the old behavior, exclude the relevant entries before the concat operation.\n",
      "\n"
     ]
    },
    {
     "name": "stdout",
     "output_type": "stream",
     "text": [
      "monthly_portfolio_return = 0.0010\n",
      "risk_free_return = -0.0293\n",
      "mark_date = datetime.date(2021, 4, 1)\n",
      "monthly_portfolio_return = 0.0951\n",
      "risk_free_return = 0.0119\n",
      "mark_date = datetime.date(2021, 5, 1)\n"
     ]
    },
    {
     "name": "stderr",
     "output_type": "stream",
     "text": [
      "/home/josh/cmor462/ropacea/ropacea/Single_factor.py:67: FutureWarning:\n",
      "\n",
      "The behavior of DataFrame concatenation with empty or all-NA entries is deprecated. In a future version, this will no longer exclude empty or all-NA columns when determining the result dtypes. To retain the old behavior, exclude the relevant entries before the concat operation.\n",
      "\n",
      "/home/josh/cmor462/ropacea/ropacea/Single_factor.py:67: FutureWarning:\n",
      "\n",
      "The behavior of DataFrame concatenation with empty or all-NA entries is deprecated. In a future version, this will no longer exclude empty or all-NA columns when determining the result dtypes. To retain the old behavior, exclude the relevant entries before the concat operation.\n",
      "\n"
     ]
    },
    {
     "name": "stdout",
     "output_type": "stream",
     "text": [
      "monthly_portfolio_return = 0.0176\n",
      "risk_free_return = 0.0034\n",
      "mark_date = datetime.date(2021, 6, 1)\n",
      "monthly_portfolio_return = 0.1685\n",
      "risk_free_return = 0.0141\n",
      "mark_date = datetime.date(2021, 7, 1)\n"
     ]
    },
    {
     "name": "stderr",
     "output_type": "stream",
     "text": [
      "/home/josh/cmor462/ropacea/ropacea/Single_factor.py:67: FutureWarning:\n",
      "\n",
      "The behavior of DataFrame concatenation with empty or all-NA entries is deprecated. In a future version, this will no longer exclude empty or all-NA columns when determining the result dtypes. To retain the old behavior, exclude the relevant entries before the concat operation.\n",
      "\n",
      "/home/josh/cmor462/ropacea/ropacea/Single_factor.py:67: FutureWarning:\n",
      "\n",
      "The behavior of DataFrame concatenation with empty or all-NA entries is deprecated. In a future version, this will no longer exclude empty or all-NA columns when determining the result dtypes. To retain the old behavior, exclude the relevant entries before the concat operation.\n",
      "\n"
     ]
    },
    {
     "name": "stdout",
     "output_type": "stream",
     "text": [
      "monthly_portfolio_return = 0.0269\n",
      "risk_free_return = 0.0238\n",
      "mark_date = datetime.date(2021, 8, 1)\n",
      "monthly_portfolio_return = 0.0939\n",
      "risk_free_return = -0.0048\n",
      "mark_date = datetime.date(2021, 9, 1)\n"
     ]
    },
    {
     "name": "stderr",
     "output_type": "stream",
     "text": [
      "/home/josh/cmor462/ropacea/ropacea/Single_factor.py:67: FutureWarning:\n",
      "\n",
      "The behavior of DataFrame concatenation with empty or all-NA entries is deprecated. In a future version, this will no longer exclude empty or all-NA columns when determining the result dtypes. To retain the old behavior, exclude the relevant entries before the concat operation.\n",
      "\n",
      "/home/josh/cmor462/ropacea/ropacea/Single_factor.py:67: FutureWarning:\n",
      "\n",
      "The behavior of DataFrame concatenation with empty or all-NA entries is deprecated. In a future version, this will no longer exclude empty or all-NA columns when determining the result dtypes. To retain the old behavior, exclude the relevant entries before the concat operation.\n",
      "\n"
     ]
    },
    {
     "name": "stdout",
     "output_type": "stream",
     "text": [
      "monthly_portfolio_return = -0.0891\n",
      "risk_free_return = -0.0154\n",
      "mark_date = datetime.date(2021, 10, 1)\n",
      "monthly_portfolio_return = 0.1737\n",
      "risk_free_return = -0.0049\n",
      "mark_date = datetime.date(2021, 11, 1)\n"
     ]
    },
    {
     "name": "stderr",
     "output_type": "stream",
     "text": [
      "/home/josh/cmor462/ropacea/ropacea/Single_factor.py:67: FutureWarning:\n",
      "\n",
      "The behavior of DataFrame concatenation with empty or all-NA entries is deprecated. In a future version, this will no longer exclude empty or all-NA columns when determining the result dtypes. To retain the old behavior, exclude the relevant entries before the concat operation.\n",
      "\n",
      "/home/josh/cmor462/ropacea/ropacea/Single_factor.py:67: FutureWarning:\n",
      "\n",
      "The behavior of DataFrame concatenation with empty or all-NA entries is deprecated. In a future version, this will no longer exclude empty or all-NA columns when determining the result dtypes. To retain the old behavior, exclude the relevant entries before the concat operation.\n",
      "\n"
     ]
    },
    {
     "name": "stdout",
     "output_type": "stream",
     "text": [
      "monthly_portfolio_return = 0.1567\n",
      "risk_free_return = 0.0125\n",
      "mark_date = datetime.date(2021, 12, 1)\n",
      "monthly_portfolio_return = -0.0607\n",
      "risk_free_return = -0.0047\n",
      "========== SUMMARY ==========\n",
      "monthly_returns_bp_mean = 320.77\n",
      "monthly_returns_bp_std = 782.44\n",
      "annualized_mean_pct = 46.06\n",
      "annualized_std_pct = 27.10\n",
      "sharpe_ratio = 1.70\n",
      "mark_date = datetime.date(2017, 1, 1)\n"
     ]
    },
    {
     "name": "stderr",
     "output_type": "stream",
     "text": [
      "/home/josh/cmor462/ropacea/ropacea/Single_factor.py:67: FutureWarning:\n",
      "\n",
      "The behavior of DataFrame concatenation with empty or all-NA entries is deprecated. In a future version, this will no longer exclude empty or all-NA columns when determining the result dtypes. To retain the old behavior, exclude the relevant entries before the concat operation.\n",
      "\n",
      "/home/josh/cmor462/ropacea/ropacea/Single_factor.py:67: FutureWarning:\n",
      "\n",
      "The behavior of DataFrame concatenation with empty or all-NA entries is deprecated. In a future version, this will no longer exclude empty or all-NA columns when determining the result dtypes. To retain the old behavior, exclude the relevant entries before the concat operation.\n",
      "\n"
     ]
    },
    {
     "name": "stdout",
     "output_type": "stream",
     "text": [
      "monthly_portfolio_return = 0.0380\n",
      "risk_free_return = 0.0022\n",
      "mark_date = datetime.date(2017, 2, 1)\n",
      "monthly_portfolio_return = -0.0207\n",
      "risk_free_return = 0.0074\n",
      "mark_date = datetime.date(2017, 3, 1)\n"
     ]
    },
    {
     "name": "stderr",
     "output_type": "stream",
     "text": [
      "/home/josh/cmor462/ropacea/ropacea/Single_factor.py:67: FutureWarning:\n",
      "\n",
      "The behavior of DataFrame concatenation with empty or all-NA entries is deprecated. In a future version, this will no longer exclude empty or all-NA columns when determining the result dtypes. To retain the old behavior, exclude the relevant entries before the concat operation.\n",
      "\n",
      "/home/josh/cmor462/ropacea/ropacea/Single_factor.py:67: FutureWarning:\n",
      "\n",
      "The behavior of DataFrame concatenation with empty or all-NA entries is deprecated. In a future version, this will no longer exclude empty or all-NA columns when determining the result dtypes. To retain the old behavior, exclude the relevant entries before the concat operation.\n",
      "\n"
     ]
    },
    {
     "name": "stdout",
     "output_type": "stream",
     "text": [
      "monthly_portfolio_return = 0.0681\n",
      "risk_free_return = 0.0024\n",
      "mark_date = datetime.date(2017, 4, 1)\n",
      "monthly_portfolio_return = -0.0110\n",
      "risk_free_return = 0.0111\n",
      "mark_date = datetime.date(2017, 5, 1)\n"
     ]
    },
    {
     "name": "stderr",
     "output_type": "stream",
     "text": [
      "/home/josh/cmor462/ropacea/ropacea/Single_factor.py:67: FutureWarning:\n",
      "\n",
      "The behavior of DataFrame concatenation with empty or all-NA entries is deprecated. In a future version, this will no longer exclude empty or all-NA columns when determining the result dtypes. To retain the old behavior, exclude the relevant entries before the concat operation.\n",
      "\n",
      "/home/josh/cmor462/ropacea/ropacea/Single_factor.py:67: FutureWarning:\n",
      "\n",
      "The behavior of DataFrame concatenation with empty or all-NA entries is deprecated. In a future version, this will no longer exclude empty or all-NA columns when determining the result dtypes. To retain the old behavior, exclude the relevant entries before the concat operation.\n",
      "\n"
     ]
    },
    {
     "name": "stdout",
     "output_type": "stream",
     "text": [
      "monthly_portfolio_return = 0.2187\n",
      "risk_free_return = 0.0079\n",
      "mark_date = datetime.date(2017, 6, 1)\n",
      "monthly_portfolio_return = -0.0014\n",
      "risk_free_return = -0.0013\n",
      "mark_date = datetime.date(2017, 7, 1)\n"
     ]
    },
    {
     "name": "stderr",
     "output_type": "stream",
     "text": [
      "/home/josh/cmor462/ropacea/ropacea/Single_factor.py:67: FutureWarning:\n",
      "\n",
      "The behavior of DataFrame concatenation with empty or all-NA entries is deprecated. In a future version, this will no longer exclude empty or all-NA columns when determining the result dtypes. To retain the old behavior, exclude the relevant entries before the concat operation.\n",
      "\n",
      "/home/josh/cmor462/ropacea/ropacea/Single_factor.py:67: FutureWarning:\n",
      "\n",
      "The behavior of DataFrame concatenation with empty or all-NA entries is deprecated. In a future version, this will no longer exclude empty or all-NA columns when determining the result dtypes. To retain the old behavior, exclude the relevant entries before the concat operation.\n",
      "\n"
     ]
    },
    {
     "name": "stdout",
     "output_type": "stream",
     "text": [
      "monthly_portfolio_return = 0.0716\n",
      "risk_free_return = -0.0000\n",
      "mark_date = datetime.date(2017, 8, 1)\n",
      "monthly_portfolio_return = 0.0427\n",
      "risk_free_return = 0.0171\n",
      "mark_date = datetime.date(2017, 9, 1)\n"
     ]
    },
    {
     "name": "stderr",
     "output_type": "stream",
     "text": [
      "/home/josh/cmor462/ropacea/ropacea/Single_factor.py:67: FutureWarning:\n",
      "\n",
      "The behavior of DataFrame concatenation with empty or all-NA entries is deprecated. In a future version, this will no longer exclude empty or all-NA columns when determining the result dtypes. To retain the old behavior, exclude the relevant entries before the concat operation.\n",
      "\n",
      "/home/josh/cmor462/ropacea/ropacea/Single_factor.py:67: FutureWarning:\n",
      "\n",
      "The behavior of DataFrame concatenation with empty or all-NA entries is deprecated. In a future version, this will no longer exclude empty or all-NA columns when determining the result dtypes. To retain the old behavior, exclude the relevant entries before the concat operation.\n",
      "\n"
     ]
    },
    {
     "name": "stdout",
     "output_type": "stream",
     "text": [
      "monthly_portfolio_return = 0.0180\n",
      "risk_free_return = -0.0172\n",
      "mark_date = datetime.date(2017, 10, 1)\n",
      "monthly_portfolio_return = 0.1387\n",
      "risk_free_return = -0.0011\n",
      "mark_date = datetime.date(2017, 11, 1)\n"
     ]
    },
    {
     "name": "stderr",
     "output_type": "stream",
     "text": [
      "/home/josh/cmor462/ropacea/ropacea/Single_factor.py:67: FutureWarning:\n",
      "\n",
      "The behavior of DataFrame concatenation with empty or all-NA entries is deprecated. In a future version, this will no longer exclude empty or all-NA columns when determining the result dtypes. To retain the old behavior, exclude the relevant entries before the concat operation.\n",
      "\n",
      "/home/josh/cmor462/ropacea/ropacea/Single_factor.py:67: FutureWarning:\n",
      "\n",
      "The behavior of DataFrame concatenation with empty or all-NA entries is deprecated. In a future version, this will no longer exclude empty or all-NA columns when determining the result dtypes. To retain the old behavior, exclude the relevant entries before the concat operation.\n",
      "\n"
     ]
    },
    {
     "name": "stdout",
     "output_type": "stream",
     "text": [
      "monthly_portfolio_return = 0.0032\n",
      "risk_free_return = -0.0026\n",
      "mark_date = datetime.date(2017, 12, 1)\n",
      "monthly_portfolio_return = -0.0108\n",
      "risk_free_return = 0.0022\n",
      "mark_date = datetime.date(2018, 1, 1)\n"
     ]
    },
    {
     "name": "stderr",
     "output_type": "stream",
     "text": [
      "/home/josh/cmor462/ropacea/ropacea/Single_factor.py:67: FutureWarning:\n",
      "\n",
      "The behavior of DataFrame concatenation with empty or all-NA entries is deprecated. In a future version, this will no longer exclude empty or all-NA columns when determining the result dtypes. To retain the old behavior, exclude the relevant entries before the concat operation.\n",
      "\n",
      "/home/josh/cmor462/ropacea/ropacea/Single_factor.py:67: FutureWarning:\n",
      "\n",
      "The behavior of DataFrame concatenation with empty or all-NA entries is deprecated. In a future version, this will no longer exclude empty or all-NA columns when determining the result dtypes. To retain the old behavior, exclude the relevant entries before the concat operation.\n",
      "\n"
     ]
    },
    {
     "name": "stdout",
     "output_type": "stream",
     "text": [
      "monthly_portfolio_return = 0.1792\n",
      "risk_free_return = -0.0236\n",
      "mark_date = datetime.date(2018, 2, 1)\n",
      "monthly_portfolio_return = 0.0065\n",
      "risk_free_return = -0.0130\n",
      "mark_date = datetime.date(2018, 3, 1)\n"
     ]
    },
    {
     "name": "stderr",
     "output_type": "stream",
     "text": [
      "/home/josh/cmor462/ropacea/ropacea/Single_factor.py:67: FutureWarning:\n",
      "\n",
      "The behavior of DataFrame concatenation with empty or all-NA entries is deprecated. In a future version, this will no longer exclude empty or all-NA columns when determining the result dtypes. To retain the old behavior, exclude the relevant entries before the concat operation.\n",
      "\n",
      "/home/josh/cmor462/ropacea/ropacea/Single_factor.py:67: FutureWarning:\n",
      "\n",
      "The behavior of DataFrame concatenation with empty or all-NA entries is deprecated. In a future version, this will no longer exclude empty or all-NA columns when determining the result dtypes. To retain the old behavior, exclude the relevant entries before the concat operation.\n",
      "\n"
     ]
    },
    {
     "name": "stdout",
     "output_type": "stream",
     "text": [
      "monthly_portfolio_return = -0.0157\n",
      "risk_free_return = 0.0128\n",
      "mark_date = datetime.date(2018, 4, 1)\n"
     ]
    },
    {
     "name": "stderr",
     "output_type": "stream",
     "text": [
      "/home/josh/cmor462/ropacea/ropacea/Single_factor.py:67: FutureWarning:\n",
      "\n",
      "The behavior of DataFrame concatenation with empty or all-NA entries is deprecated. In a future version, this will no longer exclude empty or all-NA columns when determining the result dtypes. To retain the old behavior, exclude the relevant entries before the concat operation.\n",
      "\n",
      "/home/josh/cmor462/ropacea/ropacea/Single_factor.py:67: FutureWarning:\n",
      "\n",
      "The behavior of DataFrame concatenation with empty or all-NA entries is deprecated. In a future version, this will no longer exclude empty or all-NA columns when determining the result dtypes. To retain the old behavior, exclude the relevant entries before the concat operation.\n",
      "\n"
     ]
    },
    {
     "name": "stdout",
     "output_type": "stream",
     "text": [
      "monthly_portfolio_return = -0.0007\n",
      "risk_free_return = -0.0155\n",
      "mark_date = datetime.date(2018, 5, 1)\n",
      "monthly_portfolio_return = 0.1081\n",
      "risk_free_return = 0.0096\n",
      "mark_date = datetime.date(2018, 6, 1)\n"
     ]
    },
    {
     "name": "stderr",
     "output_type": "stream",
     "text": [
      "/home/josh/cmor462/ropacea/ropacea/Single_factor.py:67: FutureWarning:\n",
      "\n",
      "The behavior of DataFrame concatenation with empty or all-NA entries is deprecated. In a future version, this will no longer exclude empty or all-NA columns when determining the result dtypes. To retain the old behavior, exclude the relevant entries before the concat operation.\n",
      "\n",
      "/home/josh/cmor462/ropacea/ropacea/Single_factor.py:67: FutureWarning:\n",
      "\n",
      "The behavior of DataFrame concatenation with empty or all-NA entries is deprecated. In a future version, this will no longer exclude empty or all-NA columns when determining the result dtypes. To retain the old behavior, exclude the relevant entries before the concat operation.\n",
      "\n"
     ]
    },
    {
     "name": "stdout",
     "output_type": "stream",
     "text": [
      "monthly_portfolio_return = -0.0221\n",
      "risk_free_return = 0.0023\n",
      "mark_date = datetime.date(2018, 7, 1)\n",
      "monthly_portfolio_return = 0.0200\n",
      "risk_free_return = -0.0051\n",
      "mark_date = datetime.date(2018, 8, 1)\n"
     ]
    },
    {
     "name": "stderr",
     "output_type": "stream",
     "text": [
      "/home/josh/cmor462/ropacea/ropacea/Single_factor.py:67: FutureWarning:\n",
      "\n",
      "The behavior of DataFrame concatenation with empty or all-NA entries is deprecated. In a future version, this will no longer exclude empty or all-NA columns when determining the result dtypes. To retain the old behavior, exclude the relevant entries before the concat operation.\n",
      "\n",
      "/home/josh/cmor462/ropacea/ropacea/Single_factor.py:67: FutureWarning:\n",
      "\n",
      "The behavior of DataFrame concatenation with empty or all-NA entries is deprecated. In a future version, this will no longer exclude empty or all-NA columns when determining the result dtypes. To retain the old behavior, exclude the relevant entries before the concat operation.\n",
      "\n"
     ]
    },
    {
     "name": "stdout",
     "output_type": "stream",
     "text": [
      "monthly_portfolio_return = 0.0982\n",
      "risk_free_return = 0.0101\n",
      "mark_date = datetime.date(2018, 9, 1)\n",
      "monthly_portfolio_return = 0.0126\n",
      "risk_free_return = -0.0148\n",
      "mark_date = datetime.date(2018, 10, 1)\n"
     ]
    },
    {
     "name": "stderr",
     "output_type": "stream",
     "text": [
      "/home/josh/cmor462/ropacea/ropacea/Single_factor.py:67: FutureWarning:\n",
      "\n",
      "The behavior of DataFrame concatenation with empty or all-NA entries is deprecated. In a future version, this will no longer exclude empty or all-NA columns when determining the result dtypes. To retain the old behavior, exclude the relevant entries before the concat operation.\n",
      "\n",
      "/home/josh/cmor462/ropacea/ropacea/Single_factor.py:67: FutureWarning:\n",
      "\n",
      "The behavior of DataFrame concatenation with empty or all-NA entries is deprecated. In a future version, this will no longer exclude empty or all-NA columns when determining the result dtypes. To retain the old behavior, exclude the relevant entries before the concat operation.\n",
      "\n"
     ]
    },
    {
     "name": "stdout",
     "output_type": "stream",
     "text": [
      "monthly_portfolio_return = -0.1394\n",
      "risk_free_return = -0.0043\n",
      "mark_date = datetime.date(2018, 11, 1)\n",
      "monthly_portfolio_return = -0.0772\n",
      "risk_free_return = 0.0149\n",
      "mark_date = datetime.date(2018, 12, 1)\n"
     ]
    },
    {
     "name": "stderr",
     "output_type": "stream",
     "text": [
      "/home/josh/cmor462/ropacea/ropacea/Single_factor.py:67: FutureWarning:\n",
      "\n",
      "The behavior of DataFrame concatenation with empty or all-NA entries is deprecated. In a future version, this will no longer exclude empty or all-NA columns when determining the result dtypes. To retain the old behavior, exclude the relevant entries before the concat operation.\n",
      "\n",
      "/home/josh/cmor462/ropacea/ropacea/Single_factor.py:67: FutureWarning:\n",
      "\n",
      "The behavior of DataFrame concatenation with empty or all-NA entries is deprecated. In a future version, this will no longer exclude empty or all-NA columns when determining the result dtypes. To retain the old behavior, exclude the relevant entries before the concat operation.\n",
      "\n"
     ]
    },
    {
     "name": "stdout",
     "output_type": "stream",
     "text": [
      "monthly_portfolio_return = -0.1278\n",
      "risk_free_return = 0.0286\n",
      "mark_date = datetime.date(2019, 1, 1)\n",
      "monthly_portfolio_return = 0.0707\n",
      "risk_free_return = 0.0071\n",
      "mark_date = datetime.date(2019, 2, 1)\n"
     ]
    },
    {
     "name": "stderr",
     "output_type": "stream",
     "text": [
      "/home/josh/cmor462/ropacea/ropacea/Single_factor.py:67: FutureWarning:\n",
      "\n",
      "The behavior of DataFrame concatenation with empty or all-NA entries is deprecated. In a future version, this will no longer exclude empty or all-NA columns when determining the result dtypes. To retain the old behavior, exclude the relevant entries before the concat operation.\n",
      "\n"
     ]
    },
    {
     "name": "stdout",
     "output_type": "stream",
     "text": [
      "monthly_portfolio_return = 0.0679\n",
      "risk_free_return = -0.0043\n",
      "mark_date = datetime.date(2019, 3, 1)\n",
      "monthly_portfolio_return = 0.0894\n",
      "risk_free_return = 0.0294\n",
      "mark_date = datetime.date(2019, 4, 1)\n"
     ]
    },
    {
     "name": "stderr",
     "output_type": "stream",
     "text": [
      "/home/josh/cmor462/ropacea/ropacea/Single_factor.py:67: FutureWarning:\n",
      "\n",
      "The behavior of DataFrame concatenation with empty or all-NA entries is deprecated. In a future version, this will no longer exclude empty or all-NA columns when determining the result dtypes. To retain the old behavior, exclude the relevant entries before the concat operation.\n",
      "\n",
      "/home/josh/cmor462/ropacea/ropacea/Single_factor.py:67: FutureWarning:\n",
      "\n",
      "The behavior of DataFrame concatenation with empty or all-NA entries is deprecated. In a future version, this will no longer exclude empty or all-NA columns when determining the result dtypes. To retain the old behavior, exclude the relevant entries before the concat operation.\n",
      "\n"
     ]
    },
    {
     "name": "stdout",
     "output_type": "stream",
     "text": [
      "monthly_portfolio_return = 0.0573\n",
      "risk_free_return = -0.0062\n",
      "mark_date = datetime.date(2019, 5, 1)\n",
      "monthly_portfolio_return = -0.1265\n",
      "risk_free_return = 0.0319\n",
      "mark_date = datetime.date(2019, 6, 1)\n"
     ]
    },
    {
     "name": "stderr",
     "output_type": "stream",
     "text": [
      "/home/josh/cmor462/ropacea/ropacea/Single_factor.py:67: FutureWarning:\n",
      "\n",
      "The behavior of DataFrame concatenation with empty or all-NA entries is deprecated. In a future version, this will no longer exclude empty or all-NA columns when determining the result dtypes. To retain the old behavior, exclude the relevant entries before the concat operation.\n",
      "\n",
      "/home/josh/cmor462/ropacea/ropacea/Single_factor.py:67: FutureWarning:\n",
      "\n",
      "The behavior of DataFrame concatenation with empty or all-NA entries is deprecated. In a future version, this will no longer exclude empty or all-NA columns when determining the result dtypes. To retain the old behavior, exclude the relevant entries before the concat operation.\n",
      "\n"
     ]
    },
    {
     "name": "stdout",
     "output_type": "stream",
     "text": [
      "monthly_portfolio_return = 0.1248\n",
      "risk_free_return = 0.0121\n",
      "mark_date = datetime.date(2019, 7, 1)\n",
      "monthly_portfolio_return = 0.0226\n",
      "risk_free_return = 0.0034\n",
      "mark_date = datetime.date(2019, 8, 1)\n"
     ]
    },
    {
     "name": "stderr",
     "output_type": "stream",
     "text": [
      "/home/josh/cmor462/ropacea/ropacea/Single_factor.py:67: FutureWarning:\n",
      "\n",
      "The behavior of DataFrame concatenation with empty or all-NA entries is deprecated. In a future version, this will no longer exclude empty or all-NA columns when determining the result dtypes. To retain the old behavior, exclude the relevant entries before the concat operation.\n",
      "\n",
      "/home/josh/cmor462/ropacea/ropacea/Single_factor.py:67: FutureWarning:\n",
      "\n",
      "The behavior of DataFrame concatenation with empty or all-NA entries is deprecated. In a future version, this will no longer exclude empty or all-NA columns when determining the result dtypes. To retain the old behavior, exclude the relevant entries before the concat operation.\n",
      "\n"
     ]
    },
    {
     "name": "stdout",
     "output_type": "stream",
     "text": [
      "monthly_portfolio_return = -0.0119\n",
      "risk_free_return = 0.0403\n",
      "mark_date = datetime.date(2019, 9, 1)\n",
      "monthly_portfolio_return = -0.0044\n",
      "risk_free_return = -0.0139\n",
      "mark_date = datetime.date(2019, 10, 1)\n"
     ]
    },
    {
     "name": "stderr",
     "output_type": "stream",
     "text": [
      "/home/josh/cmor462/ropacea/ropacea/Single_factor.py:67: FutureWarning:\n",
      "\n",
      "The behavior of DataFrame concatenation with empty or all-NA entries is deprecated. In a future version, this will no longer exclude empty or all-NA columns when determining the result dtypes. To retain the old behavior, exclude the relevant entries before the concat operation.\n",
      "\n",
      "/home/josh/cmor462/ropacea/ropacea/Single_factor.py:67: FutureWarning:\n",
      "\n",
      "The behavior of DataFrame concatenation with empty or all-NA entries is deprecated. In a future version, this will no longer exclude empty or all-NA columns when determining the result dtypes. To retain the old behavior, exclude the relevant entries before the concat operation.\n",
      "\n"
     ]
    },
    {
     "name": "stdout",
     "output_type": "stream",
     "text": [
      "monthly_portfolio_return = 0.0668\n",
      "risk_free_return = -0.0007\n",
      "mark_date = datetime.date(2019, 11, 1)\n",
      "monthly_portfolio_return = 0.0831\n",
      "risk_free_return = -0.0074\n",
      "mark_date = datetime.date(2019, 12, 1)\n"
     ]
    },
    {
     "name": "stderr",
     "output_type": "stream",
     "text": [
      "/home/josh/cmor462/ropacea/ropacea/Single_factor.py:67: FutureWarning:\n",
      "\n",
      "The behavior of DataFrame concatenation with empty or all-NA entries is deprecated. In a future version, this will no longer exclude empty or all-NA columns when determining the result dtypes. To retain the old behavior, exclude the relevant entries before the concat operation.\n",
      "\n",
      "/home/josh/cmor462/ropacea/ropacea/Single_factor.py:67: FutureWarning:\n",
      "\n",
      "The behavior of DataFrame concatenation with empty or all-NA entries is deprecated. In a future version, this will no longer exclude empty or all-NA columns when determining the result dtypes. To retain the old behavior, exclude the relevant entries before the concat operation.\n",
      "\n"
     ]
    },
    {
     "name": "stdout",
     "output_type": "stream",
     "text": [
      "monthly_portfolio_return = 0.0620\n",
      "risk_free_return = -0.0113\n",
      "mark_date = datetime.date(2020, 1, 1)\n",
      "monthly_portfolio_return = 0.0460\n"
     ]
    },
    {
     "name": "stderr",
     "output_type": "stream",
     "text": [
      "/home/josh/cmor462/ropacea/ropacea/Single_factor.py:67: FutureWarning:\n",
      "\n",
      "The behavior of DataFrame concatenation with empty or all-NA entries is deprecated. In a future version, this will no longer exclude empty or all-NA columns when determining the result dtypes. To retain the old behavior, exclude the relevant entries before the concat operation.\n",
      "\n"
     ]
    },
    {
     "name": "stdout",
     "output_type": "stream",
     "text": [
      "risk_free_return = 0.0392\n",
      "mark_date = datetime.date(2020, 2, 1)\n"
     ]
    },
    {
     "name": "stderr",
     "output_type": "stream",
     "text": [
      "/home/josh/cmor462/ropacea/ropacea/Single_factor.py:67: FutureWarning:\n",
      "\n",
      "The behavior of DataFrame concatenation with empty or all-NA entries is deprecated. In a future version, this will no longer exclude empty or all-NA columns when determining the result dtypes. To retain the old behavior, exclude the relevant entries before the concat operation.\n",
      "\n",
      "/home/josh/cmor462/ropacea/ropacea/Single_factor.py:67: FutureWarning:\n",
      "\n",
      "The behavior of DataFrame concatenation with empty or all-NA entries is deprecated. In a future version, this will no longer exclude empty or all-NA columns when determining the result dtypes. To retain the old behavior, exclude the relevant entries before the concat operation.\n",
      "\n"
     ]
    },
    {
     "name": "stdout",
     "output_type": "stream",
     "text": [
      "monthly_portfolio_return = 0.0226\n",
      "risk_free_return = 0.0299\n",
      "mark_date = datetime.date(2020, 3, 1)\n",
      "monthly_portfolio_return = -0.0734\n",
      "risk_free_return = 0.0397\n",
      "mark_date = datetime.date(2020, 4, 1)\n"
     ]
    },
    {
     "name": "stderr",
     "output_type": "stream",
     "text": [
      "/home/josh/cmor462/ropacea/ropacea/Single_factor.py:67: FutureWarning:\n",
      "\n",
      "The behavior of DataFrame concatenation with empty or all-NA entries is deprecated. In a future version, this will no longer exclude empty or all-NA columns when determining the result dtypes. To retain the old behavior, exclude the relevant entries before the concat operation.\n",
      "\n",
      "/home/josh/cmor462/ropacea/ropacea/Single_factor.py:67: FutureWarning:\n",
      "\n",
      "The behavior of DataFrame concatenation with empty or all-NA entries is deprecated. In a future version, this will no longer exclude empty or all-NA columns when determining the result dtypes. To retain the old behavior, exclude the relevant entries before the concat operation.\n",
      "\n"
     ]
    },
    {
     "name": "stdout",
     "output_type": "stream",
     "text": [
      "monthly_portfolio_return = 0.1298\n",
      "risk_free_return = 0.0050\n",
      "mark_date = datetime.date(2020, 5, 1)\n",
      "monthly_portfolio_return = 0.0932\n",
      "risk_free_return = 0.0007\n",
      "mark_date = datetime.date(2020, 6, 1)\n"
     ]
    },
    {
     "name": "stderr",
     "output_type": "stream",
     "text": [
      "/home/josh/cmor462/ropacea/ropacea/Single_factor.py:67: FutureWarning:\n",
      "\n",
      "The behavior of DataFrame concatenation with empty or all-NA entries is deprecated. In a future version, this will no longer exclude empty or all-NA columns when determining the result dtypes. To retain the old behavior, exclude the relevant entries before the concat operation.\n",
      "\n",
      "/home/josh/cmor462/ropacea/ropacea/Single_factor.py:67: FutureWarning:\n",
      "\n",
      "The behavior of DataFrame concatenation with empty or all-NA entries is deprecated. In a future version, this will no longer exclude empty or all-NA columns when determining the result dtypes. To retain the old behavior, exclude the relevant entries before the concat operation.\n",
      "\n"
     ]
    },
    {
     "name": "stdout",
     "output_type": "stream",
     "text": [
      "monthly_portfolio_return = 0.0895\n",
      "risk_free_return = 0.0004\n",
      "mark_date = datetime.date(2020, 7, 1)\n",
      "monthly_portfolio_return = 0.0413\n",
      "risk_free_return = 0.0128\n",
      "mark_date = datetime.date(2020, 8, 1)\n"
     ]
    },
    {
     "name": "stderr",
     "output_type": "stream",
     "text": [
      "/home/josh/cmor462/ropacea/ropacea/Single_factor.py:67: FutureWarning:\n",
      "\n",
      "The behavior of DataFrame concatenation with empty or all-NA entries is deprecated. In a future version, this will no longer exclude empty or all-NA columns when determining the result dtypes. To retain the old behavior, exclude the relevant entries before the concat operation.\n",
      "\n",
      "/home/josh/cmor462/ropacea/ropacea/Single_factor.py:67: FutureWarning:\n",
      "\n",
      "The behavior of DataFrame concatenation with empty or all-NA entries is deprecated. In a future version, this will no longer exclude empty or all-NA columns when determining the result dtypes. To retain the old behavior, exclude the relevant entries before the concat operation.\n",
      "\n"
     ]
    },
    {
     "name": "stdout",
     "output_type": "stream",
     "text": [
      "monthly_portfolio_return = 0.1582\n",
      "risk_free_return = -0.0147\n",
      "mark_date = datetime.date(2020, 9, 1)\n",
      "monthly_portfolio_return = -0.0460\n",
      "risk_free_return = 0.0026\n",
      "mark_date = datetime.date(2020, 10, 1)\n"
     ]
    },
    {
     "name": "stderr",
     "output_type": "stream",
     "text": [
      "/home/josh/cmor462/ropacea/ropacea/Single_factor.py:67: FutureWarning:\n",
      "\n",
      "The behavior of DataFrame concatenation with empty or all-NA entries is deprecated. In a future version, this will no longer exclude empty or all-NA columns when determining the result dtypes. To retain the old behavior, exclude the relevant entries before the concat operation.\n",
      "\n",
      "/home/josh/cmor462/ropacea/ropacea/Single_factor.py:67: FutureWarning:\n",
      "\n",
      "The behavior of DataFrame concatenation with empty or all-NA entries is deprecated. In a future version, this will no longer exclude empty or all-NA columns when determining the result dtypes. To retain the old behavior, exclude the relevant entries before the concat operation.\n",
      "\n"
     ]
    },
    {
     "name": "stdout",
     "output_type": "stream",
     "text": [
      "monthly_portfolio_return = -0.0689\n",
      "risk_free_return = -0.0173\n",
      "mark_date = datetime.date(2020, 11, 1)\n",
      "monthly_portfolio_return = 0.0677\n",
      "risk_free_return = 0.0040\n",
      "mark_date = datetime.date(2020, 12, 1)\n",
      "monthly_portfolio_return = 0.0324\n",
      "risk_free_return = -0.0050\n",
      "mark_date = datetime.date(2021, 1, 1)\n"
     ]
    },
    {
     "name": "stderr",
     "output_type": "stream",
     "text": [
      "/home/josh/cmor462/ropacea/ropacea/Single_factor.py:67: FutureWarning:\n",
      "\n",
      "The behavior of DataFrame concatenation with empty or all-NA entries is deprecated. In a future version, this will no longer exclude empty or all-NA columns when determining the result dtypes. To retain the old behavior, exclude the relevant entries before the concat operation.\n",
      "\n",
      "/home/josh/cmor462/ropacea/ropacea/Single_factor.py:67: FutureWarning:\n",
      "\n",
      "The behavior of DataFrame concatenation with empty or all-NA entries is deprecated. In a future version, this will no longer exclude empty or all-NA columns when determining the result dtypes. To retain the old behavior, exclude the relevant entries before the concat operation.\n",
      "\n"
     ]
    },
    {
     "name": "stdout",
     "output_type": "stream",
     "text": [
      "monthly_portfolio_return = -0.0225\n",
      "risk_free_return = -0.0107\n",
      "mark_date = datetime.date(2021, 2, 1)\n",
      "monthly_portfolio_return = 0.0024\n",
      "risk_free_return = -0.0254\n",
      "mark_date = datetime.date(2021, 3, 1)\n"
     ]
    },
    {
     "name": "stderr",
     "output_type": "stream",
     "text": [
      "/home/josh/cmor462/ropacea/ropacea/Single_factor.py:67: FutureWarning:\n",
      "\n",
      "The behavior of DataFrame concatenation with empty or all-NA entries is deprecated. In a future version, this will no longer exclude empty or all-NA columns when determining the result dtypes. To retain the old behavior, exclude the relevant entries before the concat operation.\n",
      "\n",
      "/home/josh/cmor462/ropacea/ropacea/Single_factor.py:67: FutureWarning:\n",
      "\n",
      "The behavior of DataFrame concatenation with empty or all-NA entries is deprecated. In a future version, this will no longer exclude empty or all-NA columns when determining the result dtypes. To retain the old behavior, exclude the relevant entries before the concat operation.\n",
      "\n"
     ]
    },
    {
     "name": "stdout",
     "output_type": "stream",
     "text": [
      "monthly_portfolio_return = -0.0019\n",
      "risk_free_return = -0.0293\n",
      "mark_date = datetime.date(2021, 4, 1)\n",
      "monthly_portfolio_return = 0.0990\n",
      "risk_free_return = 0.0119\n",
      "mark_date = datetime.date(2021, 5, 1)\n"
     ]
    },
    {
     "name": "stderr",
     "output_type": "stream",
     "text": [
      "/home/josh/cmor462/ropacea/ropacea/Single_factor.py:67: FutureWarning:\n",
      "\n",
      "The behavior of DataFrame concatenation with empty or all-NA entries is deprecated. In a future version, this will no longer exclude empty or all-NA columns when determining the result dtypes. To retain the old behavior, exclude the relevant entries before the concat operation.\n",
      "\n",
      "/home/josh/cmor462/ropacea/ropacea/Single_factor.py:67: FutureWarning:\n",
      "\n",
      "The behavior of DataFrame concatenation with empty or all-NA entries is deprecated. In a future version, this will no longer exclude empty or all-NA columns when determining the result dtypes. To retain the old behavior, exclude the relevant entries before the concat operation.\n",
      "\n"
     ]
    },
    {
     "name": "stdout",
     "output_type": "stream",
     "text": [
      "monthly_portfolio_return = 0.0233\n",
      "risk_free_return = 0.0034\n",
      "mark_date = datetime.date(2021, 6, 1)\n",
      "monthly_portfolio_return = 0.1788\n",
      "risk_free_return = 0.0141\n",
      "mark_date = datetime.date(2021, 7, 1)\n"
     ]
    },
    {
     "name": "stderr",
     "output_type": "stream",
     "text": [
      "/home/josh/cmor462/ropacea/ropacea/Single_factor.py:67: FutureWarning:\n",
      "\n",
      "The behavior of DataFrame concatenation with empty or all-NA entries is deprecated. In a future version, this will no longer exclude empty or all-NA columns when determining the result dtypes. To retain the old behavior, exclude the relevant entries before the concat operation.\n",
      "\n",
      "/home/josh/cmor462/ropacea/ropacea/Single_factor.py:67: FutureWarning:\n",
      "\n",
      "The behavior of DataFrame concatenation with empty or all-NA entries is deprecated. In a future version, this will no longer exclude empty or all-NA columns when determining the result dtypes. To retain the old behavior, exclude the relevant entries before the concat operation.\n",
      "\n"
     ]
    },
    {
     "name": "stdout",
     "output_type": "stream",
     "text": [
      "monthly_portfolio_return = 0.0212\n",
      "risk_free_return = 0.0238\n",
      "mark_date = datetime.date(2021, 8, 1)\n",
      "monthly_portfolio_return = 0.1008\n",
      "risk_free_return = -0.0048\n",
      "mark_date = datetime.date(2021, 9, 1)\n"
     ]
    },
    {
     "name": "stderr",
     "output_type": "stream",
     "text": [
      "/home/josh/cmor462/ropacea/ropacea/Single_factor.py:67: FutureWarning:\n",
      "\n",
      "The behavior of DataFrame concatenation with empty or all-NA entries is deprecated. In a future version, this will no longer exclude empty or all-NA columns when determining the result dtypes. To retain the old behavior, exclude the relevant entries before the concat operation.\n",
      "\n",
      "/home/josh/cmor462/ropacea/ropacea/Single_factor.py:67: FutureWarning:\n",
      "\n",
      "The behavior of DataFrame concatenation with empty or all-NA entries is deprecated. In a future version, this will no longer exclude empty or all-NA columns when determining the result dtypes. To retain the old behavior, exclude the relevant entries before the concat operation.\n",
      "\n"
     ]
    },
    {
     "name": "stdout",
     "output_type": "stream",
     "text": [
      "monthly_portfolio_return = -0.0907\n",
      "risk_free_return = -0.0154\n",
      "mark_date = datetime.date(2021, 10, 1)\n",
      "monthly_portfolio_return = 0.1784\n",
      "risk_free_return = -0.0049\n",
      "mark_date = datetime.date(2021, 11, 1)\n"
     ]
    },
    {
     "name": "stderr",
     "output_type": "stream",
     "text": [
      "/home/josh/cmor462/ropacea/ropacea/Single_factor.py:67: FutureWarning:\n",
      "\n",
      "The behavior of DataFrame concatenation with empty or all-NA entries is deprecated. In a future version, this will no longer exclude empty or all-NA columns when determining the result dtypes. To retain the old behavior, exclude the relevant entries before the concat operation.\n",
      "\n",
      "/home/josh/cmor462/ropacea/ropacea/Single_factor.py:67: FutureWarning:\n",
      "\n",
      "The behavior of DataFrame concatenation with empty or all-NA entries is deprecated. In a future version, this will no longer exclude empty or all-NA columns when determining the result dtypes. To retain the old behavior, exclude the relevant entries before the concat operation.\n",
      "\n"
     ]
    },
    {
     "name": "stdout",
     "output_type": "stream",
     "text": [
      "monthly_portfolio_return = 0.1814\n",
      "risk_free_return = 0.0125\n",
      "mark_date = datetime.date(2021, 12, 1)\n",
      "monthly_portfolio_return = -0.0709\n",
      "risk_free_return = -0.0047\n",
      "========== SUMMARY ==========\n",
      "monthly_returns_bp_mean = 335.32\n",
      "monthly_returns_bp_std = 829.43\n",
      "annualized_mean_pct = 48.56\n",
      "annualized_std_pct = 28.73\n",
      "sharpe_ratio = 1.69\n"
     ]
    },
    {
     "name": "stderr",
     "output_type": "stream",
     "text": [
      "/home/josh/cmor462/ropacea/ropacea/Single_factor.py:67: FutureWarning:\n",
      "\n",
      "The behavior of DataFrame concatenation with empty or all-NA entries is deprecated. In a future version, this will no longer exclude empty or all-NA columns when determining the result dtypes. To retain the old behavior, exclude the relevant entries before the concat operation.\n",
      "\n"
     ]
    }
   ],
   "source": [
    "results_single_factor = param_tune(1.5, 2.5, 10, PortfolioStrategy.SINGLE_FACTOR)\n",
    "\n",
    "\n"
   ]
  },
  {
   "cell_type": "code",
   "execution_count": 14,
   "metadata": {},
   "outputs": [
    {
     "data": {
      "application/vnd.plotly.v1+json": {
       "config": {
        "plotlyServerURL": "https://plot.ly"
       },
       "data": [
        {
         "hovertemplate": "Minimum Return Ratio=%{x}<br>Sharpe Ratio=%{y}<extra></extra>",
         "legendgroup": "",
         "line": {
          "color": "#636efa",
          "dash": "solid"
         },
         "marker": {
          "symbol": "circle"
         },
         "mode": "lines",
         "name": "",
         "orientation": "v",
         "showlegend": false,
         "type": "scatter",
         "x": [
          1.5,
          1.6111111111111112,
          1.7222222222222223,
          1.8333333333333333,
          1.9444444444444444,
          2.0555555555555554,
          2.1666666666666665,
          2.2777777777777777,
          2.388888888888889,
          2.5
         ],
         "xaxis": "x",
         "y": [
          1.4526830087750628,
          1.50837849856336,
          1.5679525017444975,
          1.603714017296745,
          1.6352933339248117,
          1.6581857564840163,
          1.6887278620455495,
          1.6997486308992138,
          1.6994890498301383,
          1.6899181691180707
         ],
         "yaxis": "y"
        }
       ],
       "layout": {
        "legend": {
         "tracegroupgap": 0
        },
        "template": {
         "data": {
          "bar": [
           {
            "error_x": {
             "color": "#2a3f5f"
            },
            "error_y": {
             "color": "#2a3f5f"
            },
            "marker": {
             "line": {
              "color": "#E5ECF6",
              "width": 0.5
             },
             "pattern": {
              "fillmode": "overlay",
              "size": 10,
              "solidity": 0.2
             }
            },
            "type": "bar"
           }
          ],
          "barpolar": [
           {
            "marker": {
             "line": {
              "color": "#E5ECF6",
              "width": 0.5
             },
             "pattern": {
              "fillmode": "overlay",
              "size": 10,
              "solidity": 0.2
             }
            },
            "type": "barpolar"
           }
          ],
          "carpet": [
           {
            "aaxis": {
             "endlinecolor": "#2a3f5f",
             "gridcolor": "white",
             "linecolor": "white",
             "minorgridcolor": "white",
             "startlinecolor": "#2a3f5f"
            },
            "baxis": {
             "endlinecolor": "#2a3f5f",
             "gridcolor": "white",
             "linecolor": "white",
             "minorgridcolor": "white",
             "startlinecolor": "#2a3f5f"
            },
            "type": "carpet"
           }
          ],
          "choropleth": [
           {
            "colorbar": {
             "outlinewidth": 0,
             "ticks": ""
            },
            "type": "choropleth"
           }
          ],
          "contour": [
           {
            "colorbar": {
             "outlinewidth": 0,
             "ticks": ""
            },
            "colorscale": [
             [
              0,
              "#0d0887"
             ],
             [
              0.1111111111111111,
              "#46039f"
             ],
             [
              0.2222222222222222,
              "#7201a8"
             ],
             [
              0.3333333333333333,
              "#9c179e"
             ],
             [
              0.4444444444444444,
              "#bd3786"
             ],
             [
              0.5555555555555556,
              "#d8576b"
             ],
             [
              0.6666666666666666,
              "#ed7953"
             ],
             [
              0.7777777777777778,
              "#fb9f3a"
             ],
             [
              0.8888888888888888,
              "#fdca26"
             ],
             [
              1,
              "#f0f921"
             ]
            ],
            "type": "contour"
           }
          ],
          "contourcarpet": [
           {
            "colorbar": {
             "outlinewidth": 0,
             "ticks": ""
            },
            "type": "contourcarpet"
           }
          ],
          "heatmap": [
           {
            "colorbar": {
             "outlinewidth": 0,
             "ticks": ""
            },
            "colorscale": [
             [
              0,
              "#0d0887"
             ],
             [
              0.1111111111111111,
              "#46039f"
             ],
             [
              0.2222222222222222,
              "#7201a8"
             ],
             [
              0.3333333333333333,
              "#9c179e"
             ],
             [
              0.4444444444444444,
              "#bd3786"
             ],
             [
              0.5555555555555556,
              "#d8576b"
             ],
             [
              0.6666666666666666,
              "#ed7953"
             ],
             [
              0.7777777777777778,
              "#fb9f3a"
             ],
             [
              0.8888888888888888,
              "#fdca26"
             ],
             [
              1,
              "#f0f921"
             ]
            ],
            "type": "heatmap"
           }
          ],
          "heatmapgl": [
           {
            "colorbar": {
             "outlinewidth": 0,
             "ticks": ""
            },
            "colorscale": [
             [
              0,
              "#0d0887"
             ],
             [
              0.1111111111111111,
              "#46039f"
             ],
             [
              0.2222222222222222,
              "#7201a8"
             ],
             [
              0.3333333333333333,
              "#9c179e"
             ],
             [
              0.4444444444444444,
              "#bd3786"
             ],
             [
              0.5555555555555556,
              "#d8576b"
             ],
             [
              0.6666666666666666,
              "#ed7953"
             ],
             [
              0.7777777777777778,
              "#fb9f3a"
             ],
             [
              0.8888888888888888,
              "#fdca26"
             ],
             [
              1,
              "#f0f921"
             ]
            ],
            "type": "heatmapgl"
           }
          ],
          "histogram": [
           {
            "marker": {
             "pattern": {
              "fillmode": "overlay",
              "size": 10,
              "solidity": 0.2
             }
            },
            "type": "histogram"
           }
          ],
          "histogram2d": [
           {
            "colorbar": {
             "outlinewidth": 0,
             "ticks": ""
            },
            "colorscale": [
             [
              0,
              "#0d0887"
             ],
             [
              0.1111111111111111,
              "#46039f"
             ],
             [
              0.2222222222222222,
              "#7201a8"
             ],
             [
              0.3333333333333333,
              "#9c179e"
             ],
             [
              0.4444444444444444,
              "#bd3786"
             ],
             [
              0.5555555555555556,
              "#d8576b"
             ],
             [
              0.6666666666666666,
              "#ed7953"
             ],
             [
              0.7777777777777778,
              "#fb9f3a"
             ],
             [
              0.8888888888888888,
              "#fdca26"
             ],
             [
              1,
              "#f0f921"
             ]
            ],
            "type": "histogram2d"
           }
          ],
          "histogram2dcontour": [
           {
            "colorbar": {
             "outlinewidth": 0,
             "ticks": ""
            },
            "colorscale": [
             [
              0,
              "#0d0887"
             ],
             [
              0.1111111111111111,
              "#46039f"
             ],
             [
              0.2222222222222222,
              "#7201a8"
             ],
             [
              0.3333333333333333,
              "#9c179e"
             ],
             [
              0.4444444444444444,
              "#bd3786"
             ],
             [
              0.5555555555555556,
              "#d8576b"
             ],
             [
              0.6666666666666666,
              "#ed7953"
             ],
             [
              0.7777777777777778,
              "#fb9f3a"
             ],
             [
              0.8888888888888888,
              "#fdca26"
             ],
             [
              1,
              "#f0f921"
             ]
            ],
            "type": "histogram2dcontour"
           }
          ],
          "mesh3d": [
           {
            "colorbar": {
             "outlinewidth": 0,
             "ticks": ""
            },
            "type": "mesh3d"
           }
          ],
          "parcoords": [
           {
            "line": {
             "colorbar": {
              "outlinewidth": 0,
              "ticks": ""
             }
            },
            "type": "parcoords"
           }
          ],
          "pie": [
           {
            "automargin": true,
            "type": "pie"
           }
          ],
          "scatter": [
           {
            "fillpattern": {
             "fillmode": "overlay",
             "size": 10,
             "solidity": 0.2
            },
            "type": "scatter"
           }
          ],
          "scatter3d": [
           {
            "line": {
             "colorbar": {
              "outlinewidth": 0,
              "ticks": ""
             }
            },
            "marker": {
             "colorbar": {
              "outlinewidth": 0,
              "ticks": ""
             }
            },
            "type": "scatter3d"
           }
          ],
          "scattercarpet": [
           {
            "marker": {
             "colorbar": {
              "outlinewidth": 0,
              "ticks": ""
             }
            },
            "type": "scattercarpet"
           }
          ],
          "scattergeo": [
           {
            "marker": {
             "colorbar": {
              "outlinewidth": 0,
              "ticks": ""
             }
            },
            "type": "scattergeo"
           }
          ],
          "scattergl": [
           {
            "marker": {
             "colorbar": {
              "outlinewidth": 0,
              "ticks": ""
             }
            },
            "type": "scattergl"
           }
          ],
          "scattermapbox": [
           {
            "marker": {
             "colorbar": {
              "outlinewidth": 0,
              "ticks": ""
             }
            },
            "type": "scattermapbox"
           }
          ],
          "scatterpolar": [
           {
            "marker": {
             "colorbar": {
              "outlinewidth": 0,
              "ticks": ""
             }
            },
            "type": "scatterpolar"
           }
          ],
          "scatterpolargl": [
           {
            "marker": {
             "colorbar": {
              "outlinewidth": 0,
              "ticks": ""
             }
            },
            "type": "scatterpolargl"
           }
          ],
          "scatterternary": [
           {
            "marker": {
             "colorbar": {
              "outlinewidth": 0,
              "ticks": ""
             }
            },
            "type": "scatterternary"
           }
          ],
          "surface": [
           {
            "colorbar": {
             "outlinewidth": 0,
             "ticks": ""
            },
            "colorscale": [
             [
              0,
              "#0d0887"
             ],
             [
              0.1111111111111111,
              "#46039f"
             ],
             [
              0.2222222222222222,
              "#7201a8"
             ],
             [
              0.3333333333333333,
              "#9c179e"
             ],
             [
              0.4444444444444444,
              "#bd3786"
             ],
             [
              0.5555555555555556,
              "#d8576b"
             ],
             [
              0.6666666666666666,
              "#ed7953"
             ],
             [
              0.7777777777777778,
              "#fb9f3a"
             ],
             [
              0.8888888888888888,
              "#fdca26"
             ],
             [
              1,
              "#f0f921"
             ]
            ],
            "type": "surface"
           }
          ],
          "table": [
           {
            "cells": {
             "fill": {
              "color": "#EBF0F8"
             },
             "line": {
              "color": "white"
             }
            },
            "header": {
             "fill": {
              "color": "#C8D4E3"
             },
             "line": {
              "color": "white"
             }
            },
            "type": "table"
           }
          ]
         },
         "layout": {
          "annotationdefaults": {
           "arrowcolor": "#2a3f5f",
           "arrowhead": 0,
           "arrowwidth": 1
          },
          "autotypenumbers": "strict",
          "coloraxis": {
           "colorbar": {
            "outlinewidth": 0,
            "ticks": ""
           }
          },
          "colorscale": {
           "diverging": [
            [
             0,
             "#8e0152"
            ],
            [
             0.1,
             "#c51b7d"
            ],
            [
             0.2,
             "#de77ae"
            ],
            [
             0.3,
             "#f1b6da"
            ],
            [
             0.4,
             "#fde0ef"
            ],
            [
             0.5,
             "#f7f7f7"
            ],
            [
             0.6,
             "#e6f5d0"
            ],
            [
             0.7,
             "#b8e186"
            ],
            [
             0.8,
             "#7fbc41"
            ],
            [
             0.9,
             "#4d9221"
            ],
            [
             1,
             "#276419"
            ]
           ],
           "sequential": [
            [
             0,
             "#0d0887"
            ],
            [
             0.1111111111111111,
             "#46039f"
            ],
            [
             0.2222222222222222,
             "#7201a8"
            ],
            [
             0.3333333333333333,
             "#9c179e"
            ],
            [
             0.4444444444444444,
             "#bd3786"
            ],
            [
             0.5555555555555556,
             "#d8576b"
            ],
            [
             0.6666666666666666,
             "#ed7953"
            ],
            [
             0.7777777777777778,
             "#fb9f3a"
            ],
            [
             0.8888888888888888,
             "#fdca26"
            ],
            [
             1,
             "#f0f921"
            ]
           ],
           "sequentialminus": [
            [
             0,
             "#0d0887"
            ],
            [
             0.1111111111111111,
             "#46039f"
            ],
            [
             0.2222222222222222,
             "#7201a8"
            ],
            [
             0.3333333333333333,
             "#9c179e"
            ],
            [
             0.4444444444444444,
             "#bd3786"
            ],
            [
             0.5555555555555556,
             "#d8576b"
            ],
            [
             0.6666666666666666,
             "#ed7953"
            ],
            [
             0.7777777777777778,
             "#fb9f3a"
            ],
            [
             0.8888888888888888,
             "#fdca26"
            ],
            [
             1,
             "#f0f921"
            ]
           ]
          },
          "colorway": [
           "#636efa",
           "#EF553B",
           "#00cc96",
           "#ab63fa",
           "#FFA15A",
           "#19d3f3",
           "#FF6692",
           "#B6E880",
           "#FF97FF",
           "#FECB52"
          ],
          "font": {
           "color": "#2a3f5f"
          },
          "geo": {
           "bgcolor": "white",
           "lakecolor": "white",
           "landcolor": "#E5ECF6",
           "showlakes": true,
           "showland": true,
           "subunitcolor": "white"
          },
          "hoverlabel": {
           "align": "left"
          },
          "hovermode": "closest",
          "mapbox": {
           "style": "light"
          },
          "paper_bgcolor": "white",
          "plot_bgcolor": "#E5ECF6",
          "polar": {
           "angularaxis": {
            "gridcolor": "white",
            "linecolor": "white",
            "ticks": ""
           },
           "bgcolor": "#E5ECF6",
           "radialaxis": {
            "gridcolor": "white",
            "linecolor": "white",
            "ticks": ""
           }
          },
          "scene": {
           "xaxis": {
            "backgroundcolor": "#E5ECF6",
            "gridcolor": "white",
            "gridwidth": 2,
            "linecolor": "white",
            "showbackground": true,
            "ticks": "",
            "zerolinecolor": "white"
           },
           "yaxis": {
            "backgroundcolor": "#E5ECF6",
            "gridcolor": "white",
            "gridwidth": 2,
            "linecolor": "white",
            "showbackground": true,
            "ticks": "",
            "zerolinecolor": "white"
           },
           "zaxis": {
            "backgroundcolor": "#E5ECF6",
            "gridcolor": "white",
            "gridwidth": 2,
            "linecolor": "white",
            "showbackground": true,
            "ticks": "",
            "zerolinecolor": "white"
           }
          },
          "shapedefaults": {
           "line": {
            "color": "#2a3f5f"
           }
          },
          "ternary": {
           "aaxis": {
            "gridcolor": "white",
            "linecolor": "white",
            "ticks": ""
           },
           "baxis": {
            "gridcolor": "white",
            "linecolor": "white",
            "ticks": ""
           },
           "bgcolor": "#E5ECF6",
           "caxis": {
            "gridcolor": "white",
            "linecolor": "white",
            "ticks": ""
           }
          },
          "title": {
           "x": 0.05
          },
          "xaxis": {
           "automargin": true,
           "gridcolor": "white",
           "linecolor": "white",
           "ticks": "",
           "title": {
            "standoff": 15
           },
           "zerolinecolor": "white",
           "zerolinewidth": 2
          },
          "yaxis": {
           "automargin": true,
           "gridcolor": "white",
           "linecolor": "white",
           "ticks": "",
           "title": {
            "standoff": 15
           },
           "zerolinecolor": "white",
           "zerolinewidth": 2
          }
         }
        },
        "title": {
         "text": "Sharpe Ratio vs. Minimum Return Ratio (Single Factor)"
        },
        "xaxis": {
         "anchor": "y",
         "domain": [
          0,
          1
         ],
         "title": {
          "text": "Minimum Return Ratio"
         }
        },
        "yaxis": {
         "anchor": "x",
         "domain": [
          0,
          1
         ],
         "title": {
          "text": "Sharpe Ratio"
         }
        }
       }
      }
     },
     "metadata": {},
     "output_type": "display_data"
    }
   ],
   "source": [
    "\n",
    "fig = px.line(results_single_factor, \n",
    "              x='Minimum Return Ratio', \n",
    "              y=\"Sharpe Ratio\", \n",
    "              title=\"Sharpe Ratio vs. Minimum Return Ratio (Single Factor)\")\n",
    "fig.show()"
   ]
  },
  {
   "cell_type": "code",
   "execution_count": 11,
   "metadata": {},
   "outputs": [
    {
     "name": "stdout",
     "output_type": "stream",
     "text": [
      "mark_date = datetime.date(2017, 1, 1)\n",
      "monthly_portfolio_return = 0.0422\n",
      "risk_free_return = 0.0022\n",
      "mark_date = datetime.date(2017, 2, 1)\n",
      "monthly_portfolio_return = 0.0383\n",
      "risk_free_return = 0.0074\n",
      "mark_date = datetime.date(2017, 3, 1)\n",
      "monthly_portfolio_return = 0.0222\n",
      "risk_free_return = 0.0024\n",
      "mark_date = datetime.date(2017, 4, 1)\n",
      "monthly_portfolio_return = -0.0003\n",
      "risk_free_return = 0.0111\n",
      "mark_date = datetime.date(2017, 5, 1)\n",
      "monthly_portfolio_return = 0.0465\n",
      "risk_free_return = 0.0079\n",
      "mark_date = datetime.date(2017, 6, 1)\n",
      "monthly_portfolio_return = 0.0086\n",
      "risk_free_return = -0.0013\n",
      "mark_date = datetime.date(2017, 7, 1)\n",
      "monthly_portfolio_return = 0.0311\n",
      "risk_free_return = -0.0000\n",
      "mark_date = datetime.date(2017, 8, 1)\n",
      "monthly_portfolio_return = 0.0192\n",
      "risk_free_return = 0.0171\n",
      "mark_date = datetime.date(2017, 9, 1)\n",
      "monthly_portfolio_return = 0.0215\n",
      "risk_free_return = -0.0172\n",
      "mark_date = datetime.date(2017, 10, 1)\n",
      "monthly_portfolio_return = 0.0757\n",
      "risk_free_return = -0.0011\n",
      "mark_date = datetime.date(2017, 11, 1)\n",
      "monthly_portfolio_return = 0.0213\n",
      "risk_free_return = -0.0026\n",
      "mark_date = datetime.date(2017, 12, 1)\n",
      "monthly_portfolio_return = 0.0115\n",
      "risk_free_return = 0.0022\n",
      "mark_date = datetime.date(2018, 1, 1)\n",
      "monthly_portfolio_return = 0.0887\n",
      "risk_free_return = -0.0236\n",
      "mark_date = datetime.date(2018, 2, 1)\n",
      "monthly_portfolio_return = -0.0053\n",
      "risk_free_return = -0.0130\n",
      "mark_date = datetime.date(2018, 3, 1)\n",
      "monthly_portfolio_return = -0.0215\n",
      "risk_free_return = 0.0128\n",
      "mark_date = datetime.date(2018, 4, 1)\n",
      "monthly_portfolio_return = 0.0051\n",
      "risk_free_return = -0.0155\n",
      "mark_date = datetime.date(2018, 5, 1)\n",
      "monthly_portfolio_return = 0.0482\n",
      "risk_free_return = 0.0096\n",
      "mark_date = datetime.date(2018, 6, 1)\n",
      "monthly_portfolio_return = -0.0123\n",
      "risk_free_return = 0.0023\n",
      "mark_date = datetime.date(2018, 7, 1)\n",
      "monthly_portfolio_return = 0.0430\n",
      "risk_free_return = -0.0051\n",
      "mark_date = datetime.date(2018, 8, 1)\n",
      "monthly_portfolio_return = 0.0564\n",
      "risk_free_return = 0.0101\n",
      "mark_date = datetime.date(2018, 9, 1)\n",
      "monthly_portfolio_return = 0.0150\n",
      "risk_free_return = -0.0148\n",
      "mark_date = datetime.date(2018, 10, 1)\n",
      "monthly_portfolio_return = -0.0753\n",
      "risk_free_return = -0.0043\n",
      "mark_date = datetime.date(2018, 11, 1)\n",
      "monthly_portfolio_return = 0.0177\n",
      "risk_free_return = 0.0149\n",
      "mark_date = datetime.date(2018, 12, 1)\n",
      "monthly_portfolio_return = -0.0790\n",
      "risk_free_return = 0.0286\n",
      "mark_date = datetime.date(2019, 1, 1)\n",
      "monthly_portfolio_return = 0.0521\n",
      "risk_free_return = 0.0071\n",
      "mark_date = datetime.date(2019, 2, 1)\n",
      "monthly_portfolio_return = 0.0647\n",
      "risk_free_return = -0.0043\n",
      "mark_date = datetime.date(2019, 3, 1)\n",
      "monthly_portfolio_return = 0.0378\n",
      "risk_free_return = 0.0294\n",
      "mark_date = datetime.date(2019, 4, 1)\n",
      "monthly_portfolio_return = 0.0388\n",
      "risk_free_return = -0.0062\n",
      "mark_date = datetime.date(2019, 5, 1)\n",
      "monthly_portfolio_return = -0.0616\n",
      "risk_free_return = 0.0319\n",
      "mark_date = datetime.date(2019, 6, 1)\n",
      "monthly_portfolio_return = 0.0728\n",
      "risk_free_return = 0.0121\n",
      "mark_date = datetime.date(2019, 7, 1)\n",
      "monthly_portfolio_return = 0.0227\n",
      "risk_free_return = 0.0034\n",
      "mark_date = datetime.date(2019, 8, 1)\n",
      "monthly_portfolio_return = -0.0076\n",
      "risk_free_return = 0.0403\n",
      "mark_date = datetime.date(2019, 9, 1)\n",
      "monthly_portfolio_return = 0.0057\n",
      "risk_free_return = -0.0139\n",
      "mark_date = datetime.date(2019, 10, 1)\n",
      "monthly_portfolio_return = 0.0045\n",
      "risk_free_return = -0.0007\n",
      "mark_date = datetime.date(2019, 11, 1)\n",
      "monthly_portfolio_return = 0.0454\n",
      "risk_free_return = -0.0074\n",
      "mark_date = datetime.date(2019, 12, 1)\n",
      "monthly_portfolio_return = 0.0476\n",
      "risk_free_return = -0.0113\n",
      "mark_date = datetime.date(2020, 1, 1)\n",
      "monthly_portfolio_return = 0.0277\n",
      "risk_free_return = 0.0392\n",
      "mark_date = datetime.date(2020, 2, 1)\n",
      "monthly_portfolio_return = -0.0699\n",
      "risk_free_return = 0.0299\n",
      "mark_date = datetime.date(2020, 3, 1)\n",
      "monthly_portfolio_return = -0.0739\n",
      "risk_free_return = 0.0397\n",
      "mark_date = datetime.date(2020, 4, 1)\n",
      "monthly_portfolio_return = 0.1183\n",
      "risk_free_return = 0.0050\n",
      "mark_date = datetime.date(2020, 5, 1)\n",
      "monthly_portfolio_return = 0.0422\n",
      "risk_free_return = 0.0007\n",
      "mark_date = datetime.date(2020, 6, 1)\n",
      "monthly_portfolio_return = 0.0348\n",
      "risk_free_return = 0.0004\n",
      "mark_date = datetime.date(2020, 7, 1)\n",
      "monthly_portfolio_return = 0.0417\n",
      "risk_free_return = 0.0128\n",
      "mark_date = datetime.date(2020, 8, 1)\n",
      "monthly_portfolio_return = 0.0902\n",
      "risk_free_return = -0.0147\n",
      "mark_date = datetime.date(2020, 9, 1)\n",
      "monthly_portfolio_return = -0.0179\n",
      "risk_free_return = 0.0026\n",
      "mark_date = datetime.date(2020, 10, 1)\n",
      "monthly_portfolio_return = -0.0445\n",
      "risk_free_return = -0.0173\n",
      "mark_date = datetime.date(2020, 11, 1)\n",
      "monthly_portfolio_return = 0.0731\n",
      "risk_free_return = 0.0040\n",
      "mark_date = datetime.date(2020, 12, 1)\n",
      "monthly_portfolio_return = 0.0273\n",
      "risk_free_return = -0.0050\n",
      "mark_date = datetime.date(2021, 1, 1)\n",
      "monthly_portfolio_return = 0.0022\n",
      "risk_free_return = -0.0107\n",
      "mark_date = datetime.date(2021, 2, 1)\n",
      "monthly_portfolio_return = 0.0146\n",
      "risk_free_return = -0.0254\n",
      "mark_date = datetime.date(2021, 3, 1)\n",
      "monthly_portfolio_return = 0.0286\n",
      "risk_free_return = -0.0293\n",
      "mark_date = datetime.date(2021, 4, 1)\n",
      "monthly_portfolio_return = 0.0432\n",
      "risk_free_return = 0.0119\n",
      "mark_date = datetime.date(2021, 5, 1)\n",
      "monthly_portfolio_return = 0.0099\n",
      "risk_free_return = 0.0034\n",
      "mark_date = datetime.date(2021, 6, 1)\n",
      "monthly_portfolio_return = 0.0521\n",
      "risk_free_return = 0.0141\n",
      "mark_date = datetime.date(2021, 7, 1)\n",
      "monthly_portfolio_return = 0.0366\n",
      "risk_free_return = 0.0238\n",
      "mark_date = datetime.date(2021, 8, 1)\n",
      "monthly_portfolio_return = 0.0424\n",
      "risk_free_return = -0.0048\n",
      "mark_date = datetime.date(2021, 9, 1)\n",
      "monthly_portfolio_return = -0.0541\n",
      "risk_free_return = -0.0154\n",
      "mark_date = datetime.date(2021, 10, 1)\n",
      "monthly_portfolio_return = 0.0866\n",
      "risk_free_return = -0.0049\n",
      "mark_date = datetime.date(2021, 11, 1)\n",
      "monthly_portfolio_return = 0.0117\n",
      "risk_free_return = 0.0125\n",
      "mark_date = datetime.date(2021, 12, 1)\n",
      "monthly_portfolio_return = 0.0307\n",
      "risk_free_return = -0.0047\n",
      "========== SUMMARY ==========\n",
      "monthly_returns_bp_mean = 186.12\n",
      "monthly_returns_bp_std = 487.31\n",
      "annualized_mean_pct = 24.77\n",
      "annualized_std_pct = 16.88\n",
      "sharpe_ratio = 1.47\n",
      "mark_date = datetime.date(2017, 1, 1)\n",
      "monthly_portfolio_return = 0.0454\n",
      "risk_free_return = 0.0022\n",
      "mark_date = datetime.date(2017, 2, 1)\n",
      "monthly_portfolio_return = 0.0309\n",
      "risk_free_return = 0.0074\n",
      "mark_date = datetime.date(2017, 3, 1)\n",
      "monthly_portfolio_return = 0.0278\n",
      "risk_free_return = 0.0024\n",
      "mark_date = datetime.date(2017, 4, 1)\n",
      "monthly_portfolio_return = 0.0009\n",
      "risk_free_return = 0.0111\n",
      "mark_date = datetime.date(2017, 5, 1)\n",
      "monthly_portfolio_return = 0.0586\n",
      "risk_free_return = 0.0079\n",
      "mark_date = datetime.date(2017, 6, 1)\n",
      "monthly_portfolio_return = 0.0069\n",
      "risk_free_return = -0.0013\n",
      "mark_date = datetime.date(2017, 7, 1)\n",
      "monthly_portfolio_return = 0.0377\n",
      "risk_free_return = -0.0000\n",
      "mark_date = datetime.date(2017, 8, 1)\n",
      "monthly_portfolio_return = 0.0218\n",
      "risk_free_return = 0.0171\n",
      "mark_date = datetime.date(2017, 9, 1)\n",
      "monthly_portfolio_return = 0.0229\n",
      "risk_free_return = -0.0172\n",
      "mark_date = datetime.date(2017, 10, 1)\n",
      "monthly_portfolio_return = 0.0859\n",
      "risk_free_return = -0.0011\n",
      "mark_date = datetime.date(2017, 11, 1)\n",
      "monthly_portfolio_return = 0.0189\n",
      "risk_free_return = -0.0026\n",
      "mark_date = datetime.date(2017, 12, 1)\n",
      "monthly_portfolio_return = 0.0091\n",
      "risk_free_return = 0.0022\n",
      "mark_date = datetime.date(2018, 1, 1)\n",
      "monthly_portfolio_return = 0.1020\n",
      "risk_free_return = -0.0236\n",
      "mark_date = datetime.date(2018, 2, 1)\n",
      "monthly_portfolio_return = 0.0030\n",
      "risk_free_return = -0.0130\n",
      "mark_date = datetime.date(2018, 3, 1)\n",
      "monthly_portfolio_return = -0.0213\n",
      "risk_free_return = 0.0128\n",
      "mark_date = datetime.date(2018, 4, 1)\n",
      "monthly_portfolio_return = 0.0050\n",
      "risk_free_return = -0.0155\n",
      "mark_date = datetime.date(2018, 5, 1)\n",
      "monthly_portfolio_return = 0.0557\n",
      "risk_free_return = 0.0096\n",
      "mark_date = datetime.date(2018, 6, 1)\n",
      "monthly_portfolio_return = -0.0156\n",
      "risk_free_return = 0.0023\n",
      "mark_date = datetime.date(2018, 7, 1)\n",
      "monthly_portfolio_return = 0.0387\n",
      "risk_free_return = -0.0051\n",
      "mark_date = datetime.date(2018, 8, 1)\n",
      "monthly_portfolio_return = 0.0623\n",
      "risk_free_return = 0.0101\n",
      "mark_date = datetime.date(2018, 9, 1)\n",
      "monthly_portfolio_return = 0.0124\n",
      "risk_free_return = -0.0148\n",
      "mark_date = datetime.date(2018, 10, 1)\n",
      "monthly_portfolio_return = -0.0864\n",
      "risk_free_return = -0.0043\n",
      "mark_date = datetime.date(2018, 11, 1)\n",
      "monthly_portfolio_return = 0.0058\n",
      "risk_free_return = 0.0149\n",
      "mark_date = datetime.date(2018, 12, 1)\n",
      "monthly_portfolio_return = -0.0838\n",
      "risk_free_return = 0.0286\n",
      "mark_date = datetime.date(2019, 1, 1)\n",
      "monthly_portfolio_return = 0.0568\n",
      "risk_free_return = 0.0071\n",
      "mark_date = datetime.date(2019, 2, 1)\n",
      "monthly_portfolio_return = 0.0656\n",
      "risk_free_return = -0.0043\n",
      "mark_date = datetime.date(2019, 3, 1)\n",
      "monthly_portfolio_return = 0.0446\n",
      "risk_free_return = 0.0294\n",
      "mark_date = datetime.date(2019, 4, 1)\n",
      "monthly_portfolio_return = 0.0427\n",
      "risk_free_return = -0.0062\n",
      "mark_date = datetime.date(2019, 5, 1)\n",
      "monthly_portfolio_return = -0.0680\n",
      "risk_free_return = 0.0319\n",
      "mark_date = datetime.date(2019, 6, 1)\n",
      "monthly_portfolio_return = 0.0763\n",
      "risk_free_return = 0.0121\n",
      "mark_date = datetime.date(2019, 7, 1)\n",
      "monthly_portfolio_return = 0.0273\n",
      "risk_free_return = 0.0034\n",
      "mark_date = datetime.date(2019, 8, 1)\n",
      "monthly_portfolio_return = -0.0107\n",
      "risk_free_return = 0.0403\n",
      "mark_date = datetime.date(2019, 9, 1)\n",
      "monthly_portfolio_return = 0.0043\n",
      "risk_free_return = -0.0139\n",
      "mark_date = datetime.date(2019, 10, 1)\n",
      "monthly_portfolio_return = 0.0034\n",
      "risk_free_return = -0.0007\n",
      "mark_date = datetime.date(2019, 11, 1)\n",
      "monthly_portfolio_return = 0.0507\n",
      "risk_free_return = -0.0074\n",
      "mark_date = datetime.date(2019, 12, 1)\n",
      "monthly_portfolio_return = 0.0501\n",
      "risk_free_return = -0.0113\n",
      "mark_date = datetime.date(2020, 1, 1)\n",
      "monthly_portfolio_return = 0.0340\n",
      "risk_free_return = 0.0392\n",
      "mark_date = datetime.date(2020, 2, 1)\n",
      "monthly_portfolio_return = -0.0642\n",
      "risk_free_return = 0.0299\n",
      "mark_date = datetime.date(2020, 3, 1)\n",
      "monthly_portfolio_return = -0.0769\n",
      "risk_free_return = 0.0397\n",
      "mark_date = datetime.date(2020, 4, 1)\n",
      "monthly_portfolio_return = 0.1207\n",
      "risk_free_return = 0.0050\n",
      "mark_date = datetime.date(2020, 5, 1)\n",
      "monthly_portfolio_return = 0.0484\n",
      "risk_free_return = 0.0007\n",
      "mark_date = datetime.date(2020, 6, 1)\n",
      "monthly_portfolio_return = 0.0434\n",
      "risk_free_return = 0.0004\n",
      "mark_date = datetime.date(2020, 7, 1)\n",
      "monthly_portfolio_return = 0.0417\n",
      "risk_free_return = 0.0128\n",
      "mark_date = datetime.date(2020, 8, 1)\n",
      "monthly_portfolio_return = 0.0992\n",
      "risk_free_return = -0.0147\n",
      "mark_date = datetime.date(2020, 9, 1)\n",
      "monthly_portfolio_return = -0.0206\n",
      "risk_free_return = 0.0026\n",
      "mark_date = datetime.date(2020, 10, 1)\n",
      "monthly_portfolio_return = -0.0439\n",
      "risk_free_return = -0.0173\n",
      "mark_date = datetime.date(2020, 11, 1)\n",
      "monthly_portfolio_return = 0.0714\n",
      "risk_free_return = 0.0040\n",
      "mark_date = datetime.date(2020, 12, 1)\n",
      "monthly_portfolio_return = 0.0254\n",
      "risk_free_return = -0.0050\n",
      "mark_date = datetime.date(2021, 1, 1)\n",
      "monthly_portfolio_return = 0.0033\n",
      "risk_free_return = -0.0107\n",
      "mark_date = datetime.date(2021, 2, 1)\n",
      "monthly_portfolio_return = 0.0161\n",
      "risk_free_return = -0.0254\n",
      "mark_date = datetime.date(2021, 3, 1)\n",
      "monthly_portfolio_return = 0.0221\n",
      "risk_free_return = -0.0293\n",
      "mark_date = datetime.date(2021, 4, 1)\n",
      "monthly_portfolio_return = 0.0509\n",
      "risk_free_return = 0.0119\n",
      "mark_date = datetime.date(2021, 5, 1)\n",
      "monthly_portfolio_return = 0.0087\n",
      "risk_free_return = 0.0034\n",
      "mark_date = datetime.date(2021, 6, 1)\n",
      "monthly_portfolio_return = 0.0654\n",
      "risk_free_return = 0.0141\n",
      "mark_date = datetime.date(2021, 7, 1)\n",
      "monthly_portfolio_return = 0.0371\n",
      "risk_free_return = 0.0238\n",
      "mark_date = datetime.date(2021, 8, 1)\n",
      "monthly_portfolio_return = 0.0474\n",
      "risk_free_return = -0.0048\n",
      "mark_date = datetime.date(2021, 9, 1)\n",
      "monthly_portfolio_return = -0.0609\n",
      "risk_free_return = -0.0154\n",
      "mark_date = datetime.date(2021, 10, 1)\n",
      "monthly_portfolio_return = 0.0972\n",
      "risk_free_return = -0.0049\n",
      "mark_date = datetime.date(2021, 11, 1)\n",
      "monthly_portfolio_return = 0.0262\n",
      "risk_free_return = 0.0125\n",
      "mark_date = datetime.date(2021, 12, 1)\n",
      "monthly_portfolio_return = 0.0207\n",
      "risk_free_return = -0.0047\n",
      "========== SUMMARY ==========\n",
      "monthly_returns_bp_mean = 203.70\n",
      "monthly_returns_bp_std = 516.10\n",
      "annualized_mean_pct = 27.38\n",
      "annualized_std_pct = 17.88\n",
      "sharpe_ratio = 1.53\n",
      "mark_date = datetime.date(2017, 1, 1)\n",
      "monthly_portfolio_return = 0.0455\n",
      "risk_free_return = 0.0022\n",
      "mark_date = datetime.date(2017, 2, 1)\n",
      "monthly_portfolio_return = 0.0243\n",
      "risk_free_return = 0.0074\n",
      "mark_date = datetime.date(2017, 3, 1)\n",
      "monthly_portfolio_return = 0.0334\n",
      "risk_free_return = 0.0024\n",
      "mark_date = datetime.date(2017, 4, 1)\n",
      "monthly_portfolio_return = 0.0017\n",
      "risk_free_return = 0.0111\n",
      "mark_date = datetime.date(2017, 5, 1)\n",
      "monthly_portfolio_return = 0.0727\n",
      "risk_free_return = 0.0079\n",
      "mark_date = datetime.date(2017, 6, 1)\n",
      "monthly_portfolio_return = 0.0061\n",
      "risk_free_return = -0.0013\n",
      "mark_date = datetime.date(2017, 7, 1)\n",
      "monthly_portfolio_return = 0.0447\n",
      "risk_free_return = -0.0000\n",
      "mark_date = datetime.date(2017, 8, 1)\n",
      "monthly_portfolio_return = 0.0240\n",
      "risk_free_return = 0.0171\n",
      "mark_date = datetime.date(2017, 9, 1)\n",
      "monthly_portfolio_return = 0.0254\n",
      "risk_free_return = -0.0172\n",
      "mark_date = datetime.date(2017, 10, 1)\n",
      "monthly_portfolio_return = 0.0934\n",
      "risk_free_return = -0.0011\n",
      "mark_date = datetime.date(2017, 11, 1)\n",
      "monthly_portfolio_return = 0.0164\n",
      "risk_free_return = -0.0026\n",
      "mark_date = datetime.date(2017, 12, 1)\n",
      "monthly_portfolio_return = 0.0073\n",
      "risk_free_return = 0.0022\n",
      "mark_date = datetime.date(2018, 1, 1)\n",
      "monthly_portfolio_return = 0.1143\n",
      "risk_free_return = -0.0236\n",
      "mark_date = datetime.date(2018, 2, 1)\n",
      "monthly_portfolio_return = 0.0096\n",
      "risk_free_return = -0.0130\n",
      "mark_date = datetime.date(2018, 3, 1)\n",
      "monthly_portfolio_return = -0.0206\n",
      "risk_free_return = 0.0128\n",
      "mark_date = datetime.date(2018, 4, 1)\n",
      "monthly_portfolio_return = 0.0042\n",
      "risk_free_return = -0.0155\n",
      "mark_date = datetime.date(2018, 5, 1)\n",
      "monthly_portfolio_return = 0.0644\n",
      "risk_free_return = 0.0096\n",
      "mark_date = datetime.date(2018, 6, 1)\n",
      "monthly_portfolio_return = -0.0182\n",
      "risk_free_return = 0.0023\n",
      "mark_date = datetime.date(2018, 7, 1)\n",
      "monthly_portfolio_return = 0.0349\n",
      "risk_free_return = -0.0051\n",
      "mark_date = datetime.date(2018, 8, 1)\n",
      "monthly_portfolio_return = 0.0682\n",
      "risk_free_return = 0.0101\n",
      "mark_date = datetime.date(2018, 9, 1)\n",
      "monthly_portfolio_return = 0.0089\n",
      "risk_free_return = -0.0148\n",
      "mark_date = datetime.date(2018, 10, 1)\n",
      "monthly_portfolio_return = -0.0963\n",
      "risk_free_return = -0.0043\n",
      "mark_date = datetime.date(2018, 11, 1)\n",
      "monthly_portfolio_return = -0.0075\n",
      "risk_free_return = 0.0149\n",
      "mark_date = datetime.date(2018, 12, 1)\n",
      "monthly_portfolio_return = -0.0888\n",
      "risk_free_return = 0.0286\n",
      "mark_date = datetime.date(2019, 1, 1)\n",
      "monthly_portfolio_return = 0.0601\n",
      "risk_free_return = 0.0071\n",
      "mark_date = datetime.date(2019, 2, 1)\n",
      "monthly_portfolio_return = 0.0656\n",
      "risk_free_return = -0.0043\n",
      "mark_date = datetime.date(2019, 3, 1)\n",
      "monthly_portfolio_return = 0.0516\n",
      "risk_free_return = 0.0294\n",
      "mark_date = datetime.date(2019, 4, 1)\n",
      "monthly_portfolio_return = 0.0467\n",
      "risk_free_return = -0.0062\n",
      "mark_date = datetime.date(2019, 5, 1)\n",
      "monthly_portfolio_return = -0.0755\n",
      "risk_free_return = 0.0319\n",
      "mark_date = datetime.date(2019, 6, 1)\n",
      "monthly_portfolio_return = 0.0810\n",
      "risk_free_return = 0.0121\n",
      "mark_date = datetime.date(2019, 7, 1)\n",
      "monthly_portfolio_return = 0.0282\n",
      "risk_free_return = 0.0034\n",
      "mark_date = datetime.date(2019, 8, 1)\n",
      "monthly_portfolio_return = -0.0111\n",
      "risk_free_return = 0.0403\n",
      "mark_date = datetime.date(2019, 9, 1)\n",
      "monthly_portfolio_return = 0.0030\n",
      "risk_free_return = -0.0139\n",
      "mark_date = datetime.date(2019, 10, 1)\n",
      "monthly_portfolio_return = 0.0061\n",
      "risk_free_return = -0.0007\n",
      "mark_date = datetime.date(2019, 11, 1)\n",
      "monthly_portfolio_return = 0.0561\n",
      "risk_free_return = -0.0074\n",
      "mark_date = datetime.date(2019, 12, 1)\n",
      "monthly_portfolio_return = 0.0516\n",
      "risk_free_return = -0.0113\n",
      "mark_date = datetime.date(2020, 1, 1)\n",
      "monthly_portfolio_return = 0.0384\n",
      "risk_free_return = 0.0392\n",
      "mark_date = datetime.date(2020, 2, 1)\n",
      "monthly_portfolio_return = -0.0539\n",
      "risk_free_return = 0.0299\n",
      "mark_date = datetime.date(2020, 3, 1)\n",
      "monthly_portfolio_return = -0.0809\n",
      "risk_free_return = 0.0397\n",
      "mark_date = datetime.date(2020, 4, 1)\n",
      "monthly_portfolio_return = 0.1237\n",
      "risk_free_return = 0.0050\n",
      "mark_date = datetime.date(2020, 5, 1)\n",
      "monthly_portfolio_return = 0.0552\n",
      "risk_free_return = 0.0007\n",
      "mark_date = datetime.date(2020, 6, 1)\n",
      "monthly_portfolio_return = 0.0513\n",
      "risk_free_return = 0.0004\n",
      "mark_date = datetime.date(2020, 7, 1)\n",
      "monthly_portfolio_return = 0.0419\n",
      "risk_free_return = 0.0128\n",
      "mark_date = datetime.date(2020, 8, 1)\n",
      "monthly_portfolio_return = 0.1084\n",
      "risk_free_return = -0.0147\n",
      "mark_date = datetime.date(2020, 9, 1)\n",
      "monthly_portfolio_return = -0.0231\n",
      "risk_free_return = 0.0026\n",
      "mark_date = datetime.date(2020, 10, 1)\n",
      "monthly_portfolio_return = -0.0430\n",
      "risk_free_return = -0.0173\n",
      "mark_date = datetime.date(2020, 11, 1)\n",
      "monthly_portfolio_return = 0.0705\n",
      "risk_free_return = 0.0040\n",
      "mark_date = datetime.date(2020, 12, 1)\n",
      "monthly_portfolio_return = 0.0249\n",
      "risk_free_return = -0.0050\n",
      "mark_date = datetime.date(2021, 1, 1)\n",
      "monthly_portfolio_return = 0.0028\n",
      "risk_free_return = -0.0107\n",
      "mark_date = datetime.date(2021, 2, 1)\n",
      "monthly_portfolio_return = 0.0143\n",
      "risk_free_return = -0.0254\n",
      "mark_date = datetime.date(2021, 3, 1)\n",
      "monthly_portfolio_return = 0.0201\n",
      "risk_free_return = -0.0293\n",
      "mark_date = datetime.date(2021, 4, 1)\n",
      "monthly_portfolio_return = 0.0595\n",
      "risk_free_return = 0.0119\n",
      "mark_date = datetime.date(2021, 5, 1)\n",
      "monthly_portfolio_return = 0.0059\n",
      "risk_free_return = 0.0034\n",
      "mark_date = datetime.date(2021, 6, 1)\n",
      "monthly_portfolio_return = 0.0828\n",
      "risk_free_return = 0.0141\n",
      "mark_date = datetime.date(2021, 7, 1)\n",
      "monthly_portfolio_return = 0.0377\n",
      "risk_free_return = 0.0238\n",
      "mark_date = datetime.date(2021, 8, 1)\n",
      "monthly_portfolio_return = 0.0523\n",
      "risk_free_return = -0.0048\n",
      "mark_date = datetime.date(2021, 9, 1)\n",
      "monthly_portfolio_return = -0.0677\n",
      "risk_free_return = -0.0154\n",
      "mark_date = datetime.date(2021, 10, 1)\n",
      "monthly_portfolio_return = 0.1089\n",
      "risk_free_return = -0.0049\n",
      "mark_date = datetime.date(2021, 11, 1)\n",
      "monthly_portfolio_return = 0.0439\n",
      "risk_free_return = 0.0125\n",
      "mark_date = datetime.date(2021, 12, 1)\n",
      "monthly_portfolio_return = 0.0120\n",
      "risk_free_return = -0.0047\n",
      "========== SUMMARY ==========\n",
      "monthly_returns_bp_mean = 223.17\n",
      "monthly_returns_bp_std = 548.94\n",
      "annualized_mean_pct = 30.32\n",
      "annualized_std_pct = 19.02\n",
      "sharpe_ratio = 1.59\n",
      "mark_date = datetime.date(2017, 1, 1)\n",
      "monthly_portfolio_return = 0.0449\n",
      "risk_free_return = 0.0022\n",
      "mark_date = datetime.date(2017, 2, 1)\n",
      "monthly_portfolio_return = 0.0158\n",
      "risk_free_return = 0.0074\n",
      "mark_date = datetime.date(2017, 3, 1)\n",
      "monthly_portfolio_return = 0.0382\n",
      "risk_free_return = 0.0024\n",
      "mark_date = datetime.date(2017, 4, 1)\n",
      "monthly_portfolio_return = 0.0009\n",
      "risk_free_return = 0.0111\n",
      "mark_date = datetime.date(2017, 5, 1)\n",
      "monthly_portfolio_return = 0.0928\n",
      "risk_free_return = 0.0079\n",
      "mark_date = datetime.date(2017, 6, 1)\n",
      "monthly_portfolio_return = 0.0038\n",
      "risk_free_return = -0.0013\n",
      "mark_date = datetime.date(2017, 7, 1)\n",
      "monthly_portfolio_return = 0.0514\n",
      "risk_free_return = -0.0000\n",
      "mark_date = datetime.date(2017, 8, 1)\n",
      "monthly_portfolio_return = 0.0270\n",
      "risk_free_return = 0.0171\n",
      "mark_date = datetime.date(2017, 9, 1)\n",
      "monthly_portfolio_return = 0.0276\n",
      "risk_free_return = -0.0172\n",
      "mark_date = datetime.date(2017, 10, 1)\n",
      "monthly_portfolio_return = 0.1004\n",
      "risk_free_return = -0.0011\n",
      "mark_date = datetime.date(2017, 11, 1)\n",
      "monthly_portfolio_return = 0.0138\n",
      "risk_free_return = -0.0026\n",
      "mark_date = datetime.date(2017, 12, 1)\n",
      "monthly_portfolio_return = 0.0066\n",
      "risk_free_return = 0.0022\n",
      "mark_date = datetime.date(2018, 1, 1)\n",
      "monthly_portfolio_return = 0.1284\n",
      "risk_free_return = -0.0236\n",
      "mark_date = datetime.date(2018, 2, 1)\n",
      "monthly_portfolio_return = 0.0143\n",
      "risk_free_return = -0.0130\n",
      "mark_date = datetime.date(2018, 3, 1)\n",
      "monthly_portfolio_return = -0.0198\n",
      "risk_free_return = 0.0128\n",
      "mark_date = datetime.date(2018, 4, 1)\n",
      "monthly_portfolio_return = 0.0027\n",
      "risk_free_return = -0.0155\n",
      "mark_date = datetime.date(2018, 5, 1)\n",
      "monthly_portfolio_return = 0.0734\n",
      "risk_free_return = 0.0096\n",
      "mark_date = datetime.date(2018, 6, 1)\n",
      "monthly_portfolio_return = -0.0198\n",
      "risk_free_return = 0.0023\n",
      "mark_date = datetime.date(2018, 7, 1)\n",
      "monthly_portfolio_return = 0.0310\n",
      "risk_free_return = -0.0051\n",
      "mark_date = datetime.date(2018, 8, 1)\n",
      "monthly_portfolio_return = 0.0744\n",
      "risk_free_return = 0.0101\n",
      "mark_date = datetime.date(2018, 9, 1)\n",
      "monthly_portfolio_return = 0.0057\n",
      "risk_free_return = -0.0148\n",
      "mark_date = datetime.date(2018, 10, 1)\n",
      "monthly_portfolio_return = -0.1038\n",
      "risk_free_return = -0.0043\n",
      "mark_date = datetime.date(2018, 11, 1)\n",
      "monthly_portfolio_return = -0.0214\n",
      "risk_free_return = 0.0149\n",
      "mark_date = datetime.date(2018, 12, 1)\n",
      "monthly_portfolio_return = -0.0948\n",
      "risk_free_return = 0.0286\n",
      "mark_date = datetime.date(2019, 1, 1)\n",
      "monthly_portfolio_return = 0.0644\n",
      "risk_free_return = 0.0071\n",
      "mark_date = datetime.date(2019, 2, 1)\n",
      "monthly_portfolio_return = 0.0667\n",
      "risk_free_return = -0.0043\n",
      "mark_date = datetime.date(2019, 3, 1)\n",
      "monthly_portfolio_return = 0.0576\n",
      "risk_free_return = 0.0294\n",
      "mark_date = datetime.date(2019, 4, 1)\n",
      "monthly_portfolio_return = 0.0535\n",
      "risk_free_return = -0.0062\n",
      "mark_date = datetime.date(2019, 5, 1)\n",
      "monthly_portfolio_return = -0.0831\n",
      "risk_free_return = 0.0319\n",
      "mark_date = datetime.date(2019, 6, 1)\n",
      "monthly_portfolio_return = 0.0866\n",
      "risk_free_return = 0.0121\n",
      "mark_date = datetime.date(2019, 7, 1)\n",
      "monthly_portfolio_return = 0.0282\n",
      "risk_free_return = 0.0034\n",
      "mark_date = datetime.date(2019, 8, 1)\n",
      "monthly_portfolio_return = -0.0093\n",
      "risk_free_return = 0.0403\n",
      "mark_date = datetime.date(2019, 9, 1)\n",
      "monthly_portfolio_return = -0.0005\n",
      "risk_free_return = -0.0139\n",
      "mark_date = datetime.date(2019, 10, 1)\n",
      "monthly_portfolio_return = 0.0131\n",
      "risk_free_return = -0.0007\n",
      "mark_date = datetime.date(2019, 11, 1)\n",
      "monthly_portfolio_return = 0.0622\n",
      "risk_free_return = -0.0074\n",
      "mark_date = datetime.date(2019, 12, 1)\n",
      "monthly_portfolio_return = 0.0527\n",
      "risk_free_return = -0.0113\n",
      "mark_date = datetime.date(2020, 1, 1)\n",
      "monthly_portfolio_return = 0.0413\n",
      "risk_free_return = 0.0392\n",
      "mark_date = datetime.date(2020, 2, 1)\n",
      "monthly_portfolio_return = -0.0429\n",
      "risk_free_return = 0.0299\n",
      "mark_date = datetime.date(2020, 3, 1)\n",
      "monthly_portfolio_return = -0.0849\n",
      "risk_free_return = 0.0397\n",
      "mark_date = datetime.date(2020, 4, 1)\n",
      "monthly_portfolio_return = 0.1260\n",
      "risk_free_return = 0.0050\n",
      "mark_date = datetime.date(2020, 5, 1)\n",
      "monthly_portfolio_return = 0.0620\n",
      "risk_free_return = 0.0007\n",
      "mark_date = datetime.date(2020, 6, 1)\n",
      "monthly_portfolio_return = 0.0592\n",
      "risk_free_return = 0.0004\n",
      "mark_date = datetime.date(2020, 7, 1)\n",
      "monthly_portfolio_return = 0.0419\n",
      "risk_free_return = 0.0128\n",
      "mark_date = datetime.date(2020, 8, 1)\n",
      "monthly_portfolio_return = 0.1178\n",
      "risk_free_return = -0.0147\n",
      "mark_date = datetime.date(2020, 9, 1)\n",
      "monthly_portfolio_return = -0.0261\n",
      "risk_free_return = 0.0026\n",
      "mark_date = datetime.date(2020, 10, 1)\n",
      "monthly_portfolio_return = -0.0433\n",
      "risk_free_return = -0.0173\n",
      "mark_date = datetime.date(2020, 11, 1)\n",
      "monthly_portfolio_return = 0.0697\n",
      "risk_free_return = 0.0040\n",
      "mark_date = datetime.date(2020, 12, 1)\n",
      "monthly_portfolio_return = 0.0250\n",
      "risk_free_return = -0.0050\n",
      "mark_date = datetime.date(2021, 1, 1)\n",
      "monthly_portfolio_return = -0.0069\n",
      "risk_free_return = -0.0107\n",
      "mark_date = datetime.date(2021, 2, 1)\n",
      "monthly_portfolio_return = 0.0099\n",
      "risk_free_return = -0.0254\n",
      "mark_date = datetime.date(2021, 3, 1)\n",
      "monthly_portfolio_return = 0.0181\n",
      "risk_free_return = -0.0293\n",
      "mark_date = datetime.date(2021, 4, 1)\n",
      "monthly_portfolio_return = 0.0664\n",
      "risk_free_return = 0.0119\n",
      "mark_date = datetime.date(2021, 5, 1)\n",
      "monthly_portfolio_return = 0.0030\n",
      "risk_free_return = 0.0034\n",
      "mark_date = datetime.date(2021, 6, 1)\n",
      "monthly_portfolio_return = 0.1013\n",
      "risk_free_return = 0.0141\n",
      "mark_date = datetime.date(2021, 7, 1)\n",
      "monthly_portfolio_return = 0.0384\n",
      "risk_free_return = 0.0238\n",
      "mark_date = datetime.date(2021, 8, 1)\n",
      "monthly_portfolio_return = 0.0570\n",
      "risk_free_return = -0.0048\n",
      "mark_date = datetime.date(2021, 9, 1)\n",
      "monthly_portfolio_return = -0.0755\n",
      "risk_free_return = -0.0154\n",
      "mark_date = datetime.date(2021, 10, 1)\n",
      "monthly_portfolio_return = 0.1245\n",
      "risk_free_return = -0.0049\n",
      "mark_date = datetime.date(2021, 11, 1)\n",
      "monthly_portfolio_return = 0.0636\n",
      "risk_free_return = 0.0125\n",
      "mark_date = datetime.date(2021, 12, 1)\n",
      "monthly_portfolio_return = 0.0022\n",
      "risk_free_return = -0.0047\n",
      "========== SUMMARY ==========\n",
      "monthly_returns_bp_mean = 242.56\n",
      "monthly_returns_bp_std = 590.07\n",
      "annualized_mean_pct = 33.32\n",
      "annualized_std_pct = 20.44\n",
      "sharpe_ratio = 1.63\n",
      "mark_date = datetime.date(2017, 1, 1)\n",
      "monthly_portfolio_return = 0.0435\n",
      "risk_free_return = 0.0022\n",
      "mark_date = datetime.date(2017, 2, 1)\n",
      "monthly_portfolio_return = 0.0082\n",
      "risk_free_return = 0.0074\n",
      "mark_date = datetime.date(2017, 3, 1)\n",
      "monthly_portfolio_return = 0.0438\n",
      "risk_free_return = 0.0024\n",
      "mark_date = datetime.date(2017, 4, 1)\n",
      "monthly_portfolio_return = -0.0007\n",
      "risk_free_return = 0.0111\n",
      "mark_date = datetime.date(2017, 5, 1)\n",
      "monthly_portfolio_return = 0.1186\n",
      "risk_free_return = 0.0079\n",
      "mark_date = datetime.date(2017, 6, 1)\n",
      "monthly_portfolio_return = 0.0014\n",
      "risk_free_return = -0.0013\n",
      "mark_date = datetime.date(2017, 7, 1)\n",
      "monthly_portfolio_return = 0.0559\n",
      "risk_free_return = -0.0000\n",
      "mark_date = datetime.date(2017, 8, 1)\n",
      "monthly_portfolio_return = 0.0319\n",
      "risk_free_return = 0.0171\n",
      "mark_date = datetime.date(2017, 9, 1)\n",
      "monthly_portfolio_return = 0.0300\n",
      "risk_free_return = -0.0172\n",
      "mark_date = datetime.date(2017, 10, 1)\n",
      "monthly_portfolio_return = 0.1094\n",
      "risk_free_return = -0.0011\n",
      "mark_date = datetime.date(2017, 11, 1)\n",
      "monthly_portfolio_return = 0.0115\n",
      "risk_free_return = -0.0026\n",
      "mark_date = datetime.date(2017, 12, 1)\n",
      "monthly_portfolio_return = 0.0047\n",
      "risk_free_return = 0.0022\n",
      "mark_date = datetime.date(2018, 1, 1)\n",
      "monthly_portfolio_return = 0.1410\n",
      "risk_free_return = -0.0236\n",
      "mark_date = datetime.date(2018, 2, 1)\n",
      "monthly_portfolio_return = 0.0122\n",
      "risk_free_return = -0.0130\n",
      "mark_date = datetime.date(2018, 3, 1)\n",
      "monthly_portfolio_return = -0.0188\n",
      "risk_free_return = 0.0128\n",
      "mark_date = datetime.date(2018, 4, 1)\n",
      "monthly_portfolio_return = 0.0018\n",
      "risk_free_return = -0.0155\n",
      "mark_date = datetime.date(2018, 5, 1)\n",
      "monthly_portfolio_return = 0.0819\n",
      "risk_free_return = 0.0096\n",
      "mark_date = datetime.date(2018, 6, 1)\n",
      "monthly_portfolio_return = -0.0207\n",
      "risk_free_return = 0.0023\n",
      "mark_date = datetime.date(2018, 7, 1)\n",
      "monthly_portfolio_return = 0.0264\n",
      "risk_free_return = -0.0051\n",
      "mark_date = datetime.date(2018, 8, 1)\n",
      "monthly_portfolio_return = 0.0808\n",
      "risk_free_return = 0.0101\n",
      "mark_date = datetime.date(2018, 9, 1)\n",
      "monthly_portfolio_return = 0.0048\n",
      "risk_free_return = -0.0148\n",
      "mark_date = datetime.date(2018, 10, 1)\n",
      "monthly_portfolio_return = -0.1130\n",
      "risk_free_return = -0.0043\n",
      "mark_date = datetime.date(2018, 11, 1)\n",
      "monthly_portfolio_return = -0.0352\n",
      "risk_free_return = 0.0149\n",
      "mark_date = datetime.date(2018, 12, 1)\n",
      "monthly_portfolio_return = -0.1019\n",
      "risk_free_return = 0.0286\n",
      "mark_date = datetime.date(2019, 1, 1)\n",
      "monthly_portfolio_return = 0.0688\n",
      "risk_free_return = 0.0071\n",
      "mark_date = datetime.date(2019, 2, 1)\n",
      "monthly_portfolio_return = 0.0659\n",
      "risk_free_return = -0.0043\n",
      "mark_date = datetime.date(2019, 3, 1)\n",
      "monthly_portfolio_return = 0.0647\n",
      "risk_free_return = 0.0294\n",
      "mark_date = datetime.date(2019, 4, 1)\n",
      "monthly_portfolio_return = 0.0611\n",
      "risk_free_return = -0.0062\n",
      "mark_date = datetime.date(2019, 5, 1)\n",
      "monthly_portfolio_return = -0.0888\n",
      "risk_free_return = 0.0319\n",
      "mark_date = datetime.date(2019, 6, 1)\n",
      "monthly_portfolio_return = 0.0929\n",
      "risk_free_return = 0.0121\n",
      "mark_date = datetime.date(2019, 7, 1)\n",
      "monthly_portfolio_return = 0.0282\n",
      "risk_free_return = 0.0034\n",
      "mark_date = datetime.date(2019, 8, 1)\n",
      "monthly_portfolio_return = -0.0083\n",
      "risk_free_return = 0.0403\n",
      "mark_date = datetime.date(2019, 9, 1)\n",
      "monthly_portfolio_return = -0.0036\n",
      "risk_free_return = -0.0139\n",
      "mark_date = datetime.date(2019, 10, 1)\n",
      "monthly_portfolio_return = 0.0233\n",
      "risk_free_return = -0.0007\n",
      "mark_date = datetime.date(2019, 11, 1)\n",
      "monthly_portfolio_return = 0.0685\n",
      "risk_free_return = -0.0074\n",
      "mark_date = datetime.date(2019, 12, 1)\n",
      "monthly_portfolio_return = 0.0549\n",
      "risk_free_return = -0.0113\n",
      "mark_date = datetime.date(2020, 1, 1)\n",
      "monthly_portfolio_return = 0.0429\n",
      "risk_free_return = 0.0392\n",
      "mark_date = datetime.date(2020, 2, 1)\n",
      "monthly_portfolio_return = -0.0309\n",
      "risk_free_return = 0.0299\n",
      "mark_date = datetime.date(2020, 3, 1)\n",
      "monthly_portfolio_return = -0.0865\n",
      "risk_free_return = 0.0397\n",
      "mark_date = datetime.date(2020, 4, 1)\n",
      "monthly_portfolio_return = 0.1281\n",
      "risk_free_return = 0.0050\n",
      "mark_date = datetime.date(2020, 5, 1)\n",
      "monthly_portfolio_return = 0.0690\n",
      "risk_free_return = 0.0007\n",
      "mark_date = datetime.date(2020, 6, 1)\n",
      "monthly_portfolio_return = 0.0670\n",
      "risk_free_return = 0.0004\n",
      "mark_date = datetime.date(2020, 7, 1)\n",
      "monthly_portfolio_return = 0.0424\n",
      "risk_free_return = 0.0128\n",
      "mark_date = datetime.date(2020, 8, 1)\n",
      "monthly_portfolio_return = 0.1278\n",
      "risk_free_return = -0.0147\n",
      "mark_date = datetime.date(2020, 9, 1)\n",
      "monthly_portfolio_return = -0.0312\n",
      "risk_free_return = 0.0026\n",
      "mark_date = datetime.date(2020, 10, 1)\n",
      "monthly_portfolio_return = -0.0474\n",
      "risk_free_return = -0.0173\n",
      "mark_date = datetime.date(2020, 11, 1)\n",
      "monthly_portfolio_return = 0.0689\n",
      "risk_free_return = 0.0040\n",
      "mark_date = datetime.date(2020, 12, 1)\n",
      "monthly_portfolio_return = 0.0280\n",
      "risk_free_return = -0.0050\n",
      "mark_date = datetime.date(2021, 1, 1)\n",
      "monthly_portfolio_return = -0.0145\n",
      "risk_free_return = -0.0107\n",
      "mark_date = datetime.date(2021, 2, 1)\n",
      "monthly_portfolio_return = 0.0093\n",
      "risk_free_return = -0.0254\n",
      "mark_date = datetime.date(2021, 3, 1)\n",
      "monthly_portfolio_return = 0.0147\n",
      "risk_free_return = -0.0293\n",
      "mark_date = datetime.date(2021, 4, 1)\n",
      "monthly_portfolio_return = 0.0755\n",
      "risk_free_return = 0.0119\n",
      "mark_date = datetime.date(2021, 5, 1)\n",
      "monthly_portfolio_return = 0.0035\n",
      "risk_free_return = 0.0034\n",
      "mark_date = datetime.date(2021, 6, 1)\n",
      "monthly_portfolio_return = 0.1229\n",
      "risk_free_return = 0.0141\n",
      "mark_date = datetime.date(2021, 7, 1)\n",
      "monthly_portfolio_return = 0.0380\n",
      "risk_free_return = 0.0238\n",
      "mark_date = datetime.date(2021, 8, 1)\n",
      "monthly_portfolio_return = 0.0628\n",
      "risk_free_return = -0.0048\n",
      "mark_date = datetime.date(2021, 9, 1)\n",
      "monthly_portfolio_return = -0.0813\n",
      "risk_free_return = -0.0154\n",
      "mark_date = datetime.date(2021, 10, 1)\n",
      "monthly_portfolio_return = 0.1427\n",
      "risk_free_return = -0.0049\n",
      "mark_date = datetime.date(2021, 11, 1)\n",
      "monthly_portfolio_return = 0.0848\n",
      "risk_free_return = 0.0125\n",
      "mark_date = datetime.date(2021, 12, 1)\n",
      "monthly_portfolio_return = -0.0168\n",
      "risk_free_return = -0.0047\n",
      "========== SUMMARY ==========\n",
      "monthly_returns_bp_mean = 264.47\n",
      "monthly_returns_bp_std = 639.79\n",
      "annualized_mean_pct = 36.78\n",
      "annualized_std_pct = 22.16\n",
      "sharpe_ratio = 1.66\n",
      "mark_date = datetime.date(2017, 1, 1)\n",
      "monthly_portfolio_return = 0.0427\n",
      "risk_free_return = 0.0022\n",
      "mark_date = datetime.date(2017, 2, 1)\n",
      "monthly_portfolio_return = 0.0000\n",
      "risk_free_return = 0.0074\n",
      "mark_date = datetime.date(2017, 3, 1)\n",
      "monthly_portfolio_return = 0.0508\n",
      "risk_free_return = 0.0024\n",
      "mark_date = datetime.date(2017, 4, 1)\n",
      "monthly_portfolio_return = -0.0038\n",
      "risk_free_return = 0.0111\n",
      "mark_date = datetime.date(2017, 5, 1)\n",
      "monthly_portfolio_return = 0.1451\n",
      "risk_free_return = 0.0079\n",
      "mark_date = datetime.date(2017, 6, 1)\n",
      "monthly_portfolio_return = -0.0013\n",
      "risk_free_return = -0.0013\n",
      "mark_date = datetime.date(2017, 7, 1)\n",
      "monthly_portfolio_return = 0.0603\n",
      "risk_free_return = -0.0000\n",
      "mark_date = datetime.date(2017, 8, 1)\n",
      "monthly_portfolio_return = 0.0359\n",
      "risk_free_return = 0.0171\n",
      "mark_date = datetime.date(2017, 9, 1)\n",
      "monthly_portfolio_return = 0.0282\n",
      "risk_free_return = -0.0172\n",
      "mark_date = datetime.date(2017, 10, 1)\n",
      "monthly_portfolio_return = 0.1194\n",
      "risk_free_return = -0.0011\n",
      "mark_date = datetime.date(2017, 11, 1)\n",
      "monthly_portfolio_return = 0.0091\n",
      "risk_free_return = -0.0026\n",
      "mark_date = datetime.date(2017, 12, 1)\n",
      "monthly_portfolio_return = 0.0002\n",
      "risk_free_return = 0.0022\n",
      "mark_date = datetime.date(2018, 1, 1)\n",
      "monthly_portfolio_return = 0.1534\n",
      "risk_free_return = -0.0236\n",
      "mark_date = datetime.date(2018, 2, 1)\n",
      "monthly_portfolio_return = 0.0109\n",
      "risk_free_return = -0.0130\n",
      "mark_date = datetime.date(2018, 3, 1)\n",
      "monthly_portfolio_return = -0.0177\n",
      "risk_free_return = 0.0128\n",
      "mark_date = datetime.date(2018, 4, 1)\n",
      "monthly_portfolio_return = 0.0008\n",
      "risk_free_return = -0.0155\n",
      "mark_date = datetime.date(2018, 5, 1)\n",
      "monthly_portfolio_return = 0.0900\n",
      "risk_free_return = 0.0096\n",
      "mark_date = datetime.date(2018, 6, 1)\n",
      "monthly_portfolio_return = -0.0214\n",
      "risk_free_return = 0.0023\n",
      "mark_date = datetime.date(2018, 7, 1)\n",
      "monthly_portfolio_return = 0.0240\n",
      "risk_free_return = -0.0051\n",
      "mark_date = datetime.date(2018, 8, 1)\n",
      "monthly_portfolio_return = 0.0880\n",
      "risk_free_return = 0.0101\n",
      "mark_date = datetime.date(2018, 9, 1)\n",
      "monthly_portfolio_return = 0.0066\n",
      "risk_free_return = -0.0148\n",
      "mark_date = datetime.date(2018, 10, 1)\n",
      "monthly_portfolio_return = -0.1229\n",
      "risk_free_return = -0.0043\n",
      "mark_date = datetime.date(2018, 11, 1)\n",
      "monthly_portfolio_return = -0.0489\n",
      "risk_free_return = 0.0149\n",
      "mark_date = datetime.date(2018, 12, 1)\n",
      "monthly_portfolio_return = -0.1093\n",
      "risk_free_return = 0.0286\n",
      "mark_date = datetime.date(2019, 1, 1)\n",
      "monthly_portfolio_return = 0.0699\n",
      "risk_free_return = 0.0071\n",
      "mark_date = datetime.date(2019, 2, 1)\n",
      "monthly_portfolio_return = 0.0662\n",
      "risk_free_return = -0.0043\n",
      "mark_date = datetime.date(2019, 3, 1)\n",
      "monthly_portfolio_return = 0.0717\n",
      "risk_free_return = 0.0294\n",
      "mark_date = datetime.date(2019, 4, 1)\n",
      "monthly_portfolio_return = 0.0644\n",
      "risk_free_return = -0.0062\n",
      "mark_date = datetime.date(2019, 5, 1)\n",
      "monthly_portfolio_return = -0.0950\n",
      "risk_free_return = 0.0319\n",
      "mark_date = datetime.date(2019, 6, 1)\n",
      "monthly_portfolio_return = 0.0987\n",
      "risk_free_return = 0.0121\n",
      "mark_date = datetime.date(2019, 7, 1)\n",
      "monthly_portfolio_return = 0.0256\n",
      "risk_free_return = 0.0034\n",
      "mark_date = datetime.date(2019, 8, 1)\n",
      "monthly_portfolio_return = -0.0054\n",
      "risk_free_return = 0.0403\n",
      "mark_date = datetime.date(2019, 9, 1)\n",
      "monthly_portfolio_return = -0.0054\n",
      "risk_free_return = -0.0139\n",
      "mark_date = datetime.date(2019, 10, 1)\n",
      "monthly_portfolio_return = 0.0355\n",
      "risk_free_return = -0.0007\n",
      "mark_date = datetime.date(2019, 11, 1)\n",
      "monthly_portfolio_return = 0.0753\n",
      "risk_free_return = -0.0074\n",
      "mark_date = datetime.date(2019, 12, 1)\n",
      "monthly_portfolio_return = 0.0554\n",
      "risk_free_return = -0.0113\n",
      "mark_date = datetime.date(2020, 1, 1)\n",
      "monthly_portfolio_return = 0.0482\n",
      "risk_free_return = 0.0392\n",
      "mark_date = datetime.date(2020, 2, 1)\n",
      "monthly_portfolio_return = -0.0188\n",
      "risk_free_return = 0.0299\n",
      "mark_date = datetime.date(2020, 3, 1)\n",
      "monthly_portfolio_return = -0.0867\n",
      "risk_free_return = 0.0397\n",
      "mark_date = datetime.date(2020, 4, 1)\n",
      "monthly_portfolio_return = 0.1298\n",
      "risk_free_return = 0.0050\n",
      "mark_date = datetime.date(2020, 5, 1)\n",
      "monthly_portfolio_return = 0.0772\n",
      "risk_free_return = 0.0007\n",
      "mark_date = datetime.date(2020, 6, 1)\n",
      "monthly_portfolio_return = 0.0746\n",
      "risk_free_return = 0.0004\n",
      "mark_date = datetime.date(2020, 7, 1)\n",
      "monthly_portfolio_return = 0.0447\n",
      "risk_free_return = 0.0128\n",
      "mark_date = datetime.date(2020, 8, 1)\n",
      "monthly_portfolio_return = 0.1379\n",
      "risk_free_return = -0.0147\n",
      "mark_date = datetime.date(2020, 9, 1)\n",
      "monthly_portfolio_return = -0.0367\n",
      "risk_free_return = 0.0026\n",
      "mark_date = datetime.date(2020, 10, 1)\n",
      "monthly_portfolio_return = -0.0541\n",
      "risk_free_return = -0.0173\n",
      "mark_date = datetime.date(2020, 11, 1)\n",
      "monthly_portfolio_return = 0.0710\n",
      "risk_free_return = 0.0040\n",
      "mark_date = datetime.date(2020, 12, 1)\n",
      "monthly_portfolio_return = 0.0314\n",
      "risk_free_return = -0.0050\n",
      "mark_date = datetime.date(2021, 1, 1)\n",
      "monthly_portfolio_return = -0.0201\n",
      "risk_free_return = -0.0107\n",
      "mark_date = datetime.date(2021, 2, 1)\n",
      "monthly_portfolio_return = 0.0080\n",
      "risk_free_return = -0.0254\n",
      "mark_date = datetime.date(2021, 3, 1)\n",
      "monthly_portfolio_return = 0.0066\n",
      "risk_free_return = -0.0293\n",
      "mark_date = datetime.date(2021, 4, 1)\n",
      "monthly_portfolio_return = 0.0858\n",
      "risk_free_return = 0.0119\n",
      "mark_date = datetime.date(2021, 5, 1)\n",
      "monthly_portfolio_return = 0.0044\n",
      "risk_free_return = 0.0034\n",
      "mark_date = datetime.date(2021, 6, 1)\n",
      "monthly_portfolio_return = 0.1459\n",
      "risk_free_return = 0.0141\n",
      "mark_date = datetime.date(2021, 7, 1)\n",
      "monthly_portfolio_return = 0.0378\n",
      "risk_free_return = 0.0238\n",
      "mark_date = datetime.date(2021, 8, 1)\n",
      "monthly_portfolio_return = 0.0749\n",
      "risk_free_return = -0.0048\n",
      "mark_date = datetime.date(2021, 9, 1)\n",
      "monthly_portfolio_return = -0.0856\n",
      "risk_free_return = -0.0154\n",
      "mark_date = datetime.date(2021, 10, 1)\n",
      "monthly_portfolio_return = 0.1623\n",
      "risk_free_return = -0.0049\n",
      "mark_date = datetime.date(2021, 11, 1)\n",
      "monthly_portfolio_return = 0.1089\n",
      "risk_free_return = 0.0125\n",
      "mark_date = datetime.date(2021, 12, 1)\n",
      "monthly_portfolio_return = -0.0351\n",
      "risk_free_return = -0.0047\n",
      "========== SUMMARY ==========\n",
      "monthly_returns_bp_mean = 288.55\n",
      "monthly_returns_bp_std = 696.71\n",
      "annualized_mean_pct = 40.69\n",
      "annualized_std_pct = 24.13\n",
      "sharpe_ratio = 1.69\n",
      "mark_date = datetime.date(2017, 1, 1)\n",
      "monthly_portfolio_return = 0.0420\n",
      "risk_free_return = 0.0022\n",
      "mark_date = datetime.date(2017, 2, 1)\n",
      "monthly_portfolio_return = -0.0077\n",
      "risk_free_return = 0.0074\n",
      "mark_date = datetime.date(2017, 3, 1)\n",
      "monthly_portfolio_return = 0.0601\n",
      "risk_free_return = 0.0024\n",
      "mark_date = datetime.date(2017, 4, 1)\n",
      "monthly_portfolio_return = -0.0070\n",
      "risk_free_return = 0.0111\n",
      "mark_date = datetime.date(2017, 5, 1)\n",
      "monthly_portfolio_return = 0.1722\n",
      "risk_free_return = 0.0079\n",
      "mark_date = datetime.date(2017, 6, 1)\n",
      "monthly_portfolio_return = -0.0028\n",
      "risk_free_return = -0.0013\n",
      "mark_date = datetime.date(2017, 7, 1)\n",
      "monthly_portfolio_return = 0.0648\n",
      "risk_free_return = -0.0000\n",
      "mark_date = datetime.date(2017, 8, 1)\n",
      "monthly_portfolio_return = 0.0382\n",
      "risk_free_return = 0.0171\n",
      "mark_date = datetime.date(2017, 9, 1)\n",
      "monthly_portfolio_return = 0.0255\n",
      "risk_free_return = -0.0172\n",
      "mark_date = datetime.date(2017, 10, 1)\n",
      "monthly_portfolio_return = 0.1284\n",
      "risk_free_return = -0.0011\n",
      "mark_date = datetime.date(2017, 11, 1)\n",
      "monthly_portfolio_return = 0.0069\n",
      "risk_free_return = -0.0026\n",
      "mark_date = datetime.date(2017, 12, 1)\n",
      "monthly_portfolio_return = -0.0045\n",
      "risk_free_return = 0.0022\n",
      "mark_date = datetime.date(2018, 1, 1)\n",
      "monthly_portfolio_return = 0.1642\n",
      "risk_free_return = -0.0236\n",
      "mark_date = datetime.date(2018, 2, 1)\n",
      "monthly_portfolio_return = 0.0094\n",
      "risk_free_return = -0.0130\n",
      "mark_date = datetime.date(2018, 3, 1)\n",
      "monthly_portfolio_return = -0.0174\n",
      "risk_free_return = 0.0128\n",
      "mark_date = datetime.date(2018, 4, 1)\n",
      "monthly_portfolio_return = -0.0001\n",
      "risk_free_return = -0.0155\n",
      "mark_date = datetime.date(2018, 5, 1)\n",
      "monthly_portfolio_return = 0.0973\n",
      "risk_free_return = 0.0096\n",
      "mark_date = datetime.date(2018, 6, 1)\n",
      "monthly_portfolio_return = -0.0212\n",
      "risk_free_return = 0.0023\n",
      "mark_date = datetime.date(2018, 7, 1)\n",
      "monthly_portfolio_return = 0.0227\n",
      "risk_free_return = -0.0051\n",
      "mark_date = datetime.date(2018, 8, 1)\n",
      "monthly_portfolio_return = 0.0950\n",
      "risk_free_return = 0.0101\n",
      "mark_date = datetime.date(2018, 9, 1)\n",
      "monthly_portfolio_return = 0.0088\n",
      "risk_free_return = -0.0148\n",
      "mark_date = datetime.date(2018, 10, 1)\n",
      "monthly_portfolio_return = -0.1298\n",
      "risk_free_return = -0.0043\n",
      "mark_date = datetime.date(2018, 11, 1)\n",
      "monthly_portfolio_return = -0.0629\n",
      "risk_free_return = 0.0149\n",
      "mark_date = datetime.date(2018, 12, 1)\n",
      "monthly_portfolio_return = -0.1166\n",
      "risk_free_return = 0.0286\n",
      "mark_date = datetime.date(2019, 1, 1)\n",
      "monthly_portfolio_return = 0.0691\n",
      "risk_free_return = 0.0071\n",
      "mark_date = datetime.date(2019, 2, 1)\n",
      "monthly_portfolio_return = 0.0665\n",
      "risk_free_return = -0.0043\n",
      "mark_date = datetime.date(2019, 3, 1)\n",
      "monthly_portfolio_return = 0.0784\n",
      "risk_free_return = 0.0294\n",
      "mark_date = datetime.date(2019, 4, 1)\n",
      "monthly_portfolio_return = 0.0615\n",
      "risk_free_return = -0.0062\n",
      "mark_date = datetime.date(2019, 5, 1)\n",
      "monthly_portfolio_return = -0.1022\n",
      "risk_free_return = 0.0319\n",
      "mark_date = datetime.date(2019, 6, 1)\n",
      "monthly_portfolio_return = 0.1061\n",
      "risk_free_return = 0.0121\n",
      "mark_date = datetime.date(2019, 7, 1)\n",
      "monthly_portfolio_return = 0.0225\n",
      "risk_free_return = 0.0034\n",
      "mark_date = datetime.date(2019, 8, 1)\n",
      "monthly_portfolio_return = -0.0071\n",
      "risk_free_return = 0.0403\n",
      "mark_date = datetime.date(2019, 9, 1)\n",
      "monthly_portfolio_return = -0.0054\n",
      "risk_free_return = -0.0139\n",
      "mark_date = datetime.date(2019, 10, 1)\n",
      "monthly_portfolio_return = 0.0475\n",
      "risk_free_return = -0.0007\n",
      "mark_date = datetime.date(2019, 11, 1)\n",
      "monthly_portfolio_return = 0.0788\n",
      "risk_free_return = -0.0074\n",
      "mark_date = datetime.date(2019, 12, 1)\n",
      "monthly_portfolio_return = 0.0556\n",
      "risk_free_return = -0.0113\n",
      "mark_date = datetime.date(2020, 1, 1)\n",
      "monthly_portfolio_return = 0.0502\n",
      "risk_free_return = 0.0392\n",
      "mark_date = datetime.date(2020, 2, 1)\n",
      "monthly_portfolio_return = -0.0023\n",
      "risk_free_return = 0.0299\n",
      "mark_date = datetime.date(2020, 3, 1)\n",
      "monthly_portfolio_return = -0.0856\n",
      "risk_free_return = 0.0397\n",
      "mark_date = datetime.date(2020, 4, 1)\n",
      "monthly_portfolio_return = 0.1301\n",
      "risk_free_return = 0.0050\n",
      "mark_date = datetime.date(2020, 5, 1)\n",
      "monthly_portfolio_return = 0.0854\n",
      "risk_free_return = 0.0007\n",
      "mark_date = datetime.date(2020, 6, 1)\n",
      "monthly_portfolio_return = 0.0812\n",
      "risk_free_return = 0.0004\n",
      "mark_date = datetime.date(2020, 7, 1)\n",
      "monthly_portfolio_return = 0.0484\n",
      "risk_free_return = 0.0128\n",
      "mark_date = datetime.date(2020, 8, 1)\n",
      "monthly_portfolio_return = 0.1465\n",
      "risk_free_return = -0.0147\n",
      "mark_date = datetime.date(2020, 9, 1)\n",
      "monthly_portfolio_return = -0.0410\n",
      "risk_free_return = 0.0026\n",
      "mark_date = datetime.date(2020, 10, 1)\n",
      "monthly_portfolio_return = -0.0615\n",
      "risk_free_return = -0.0173\n",
      "mark_date = datetime.date(2020, 11, 1)\n",
      "monthly_portfolio_return = 0.0701\n",
      "risk_free_return = 0.0040\n",
      "mark_date = datetime.date(2020, 12, 1)\n",
      "monthly_portfolio_return = 0.0341\n",
      "risk_free_return = -0.0050\n",
      "mark_date = datetime.date(2021, 1, 1)\n",
      "monthly_portfolio_return = -0.0234\n",
      "risk_free_return = -0.0107\n",
      "mark_date = datetime.date(2021, 2, 1)\n",
      "monthly_portfolio_return = 0.0067\n",
      "risk_free_return = -0.0254\n",
      "mark_date = datetime.date(2021, 3, 1)\n",
      "monthly_portfolio_return = 0.0026\n",
      "risk_free_return = -0.0293\n",
      "mark_date = datetime.date(2021, 4, 1)\n",
      "monthly_portfolio_return = 0.0923\n",
      "risk_free_return = 0.0119\n",
      "mark_date = datetime.date(2021, 5, 1)\n",
      "monthly_portfolio_return = 0.0131\n",
      "risk_free_return = 0.0034\n",
      "mark_date = datetime.date(2021, 6, 1)\n",
      "monthly_portfolio_return = 0.1611\n",
      "risk_free_return = 0.0141\n",
      "mark_date = datetime.date(2021, 7, 1)\n",
      "monthly_portfolio_return = 0.0316\n",
      "risk_free_return = 0.0238\n",
      "mark_date = datetime.date(2021, 8, 1)\n",
      "monthly_portfolio_return = 0.0888\n",
      "risk_free_return = -0.0048\n",
      "mark_date = datetime.date(2021, 9, 1)\n",
      "monthly_portfolio_return = -0.0870\n",
      "risk_free_return = -0.0154\n",
      "mark_date = datetime.date(2021, 10, 1)\n",
      "monthly_portfolio_return = 0.1698\n",
      "risk_free_return = -0.0049\n",
      "mark_date = datetime.date(2021, 11, 1)\n",
      "monthly_portfolio_return = 0.1380\n",
      "risk_free_return = 0.0125\n",
      "mark_date = datetime.date(2021, 12, 1)\n",
      "monthly_portfolio_return = -0.0502\n",
      "risk_free_return = -0.0047\n",
      "========== SUMMARY ==========\n",
      "monthly_returns_bp_mean = 309.64\n",
      "monthly_returns_bp_std = 748.26\n",
      "annualized_mean_pct = 44.19\n",
      "annualized_std_pct = 25.92\n",
      "sharpe_ratio = 1.70\n",
      "mark_date = datetime.date(2017, 1, 1)\n",
      "monthly_portfolio_return = 0.0400\n",
      "risk_free_return = 0.0022\n",
      "mark_date = datetime.date(2017, 2, 1)\n",
      "monthly_portfolio_return = -0.0151\n",
      "risk_free_return = 0.0074\n",
      "mark_date = datetime.date(2017, 3, 1)\n",
      "monthly_portfolio_return = 0.0669\n",
      "risk_free_return = 0.0024\n",
      "mark_date = datetime.date(2017, 4, 1)\n",
      "monthly_portfolio_return = -0.0103\n",
      "risk_free_return = 0.0111\n",
      "mark_date = datetime.date(2017, 5, 1)\n",
      "monthly_portfolio_return = 0.2028\n",
      "risk_free_return = 0.0079\n",
      "mark_date = datetime.date(2017, 6, 1)\n",
      "monthly_portfolio_return = -0.0022\n",
      "risk_free_return = -0.0013\n",
      "mark_date = datetime.date(2017, 7, 1)\n",
      "monthly_portfolio_return = 0.0696\n",
      "risk_free_return = -0.0000\n",
      "mark_date = datetime.date(2017, 8, 1)\n",
      "monthly_portfolio_return = 0.0405\n",
      "risk_free_return = 0.0171\n",
      "mark_date = datetime.date(2017, 9, 1)\n",
      "monthly_portfolio_return = 0.0227\n",
      "risk_free_return = -0.0172\n",
      "mark_date = datetime.date(2017, 10, 1)\n",
      "monthly_portfolio_return = 0.1349\n",
      "risk_free_return = -0.0011\n",
      "mark_date = datetime.date(2017, 11, 1)\n",
      "monthly_portfolio_return = 0.0046\n",
      "risk_free_return = -0.0026\n",
      "mark_date = datetime.date(2017, 12, 1)\n",
      "monthly_portfolio_return = -0.0095\n",
      "risk_free_return = 0.0022\n",
      "mark_date = datetime.date(2018, 1, 1)\n",
      "monthly_portfolio_return = 0.1752\n",
      "risk_free_return = -0.0236\n",
      "mark_date = datetime.date(2018, 2, 1)\n",
      "monthly_portfolio_return = 0.0076\n",
      "risk_free_return = -0.0130\n",
      "mark_date = datetime.date(2018, 3, 1)\n",
      "monthly_portfolio_return = -0.0174\n",
      "risk_free_return = 0.0128\n",
      "mark_date = datetime.date(2018, 4, 1)\n",
      "monthly_portfolio_return = -0.0002\n",
      "risk_free_return = -0.0155\n",
      "mark_date = datetime.date(2018, 5, 1)\n",
      "monthly_portfolio_return = 0.1043\n",
      "risk_free_return = 0.0096\n",
      "mark_date = datetime.date(2018, 6, 1)\n",
      "monthly_portfolio_return = -0.0218\n",
      "risk_free_return = 0.0023\n",
      "mark_date = datetime.date(2018, 7, 1)\n",
      "monthly_portfolio_return = 0.0218\n",
      "risk_free_return = -0.0051\n",
      "mark_date = datetime.date(2018, 8, 1)\n",
      "monthly_portfolio_return = 0.0989\n",
      "risk_free_return = 0.0101\n",
      "mark_date = datetime.date(2018, 9, 1)\n",
      "monthly_portfolio_return = 0.0105\n",
      "risk_free_return = -0.0148\n",
      "mark_date = datetime.date(2018, 10, 1)\n",
      "monthly_portfolio_return = -0.1363\n",
      "risk_free_return = -0.0043\n",
      "mark_date = datetime.date(2018, 11, 1)\n",
      "monthly_portfolio_return = -0.0763\n",
      "risk_free_return = 0.0149\n",
      "mark_date = datetime.date(2018, 12, 1)\n",
      "monthly_portfolio_return = -0.1239\n",
      "risk_free_return = 0.0286\n",
      "mark_date = datetime.date(2019, 1, 1)\n",
      "monthly_portfolio_return = 0.0698\n",
      "risk_free_return = 0.0071\n",
      "mark_date = datetime.date(2019, 2, 1)\n",
      "monthly_portfolio_return = 0.0676\n",
      "risk_free_return = -0.0043\n",
      "mark_date = datetime.date(2019, 3, 1)\n",
      "monthly_portfolio_return = 0.0858\n",
      "risk_free_return = 0.0294\n",
      "mark_date = datetime.date(2019, 4, 1)\n",
      "monthly_portfolio_return = 0.0589\n",
      "risk_free_return = -0.0062\n",
      "mark_date = datetime.date(2019, 5, 1)\n",
      "monthly_portfolio_return = -0.1175\n",
      "risk_free_return = 0.0319\n",
      "mark_date = datetime.date(2019, 6, 1)\n",
      "monthly_portfolio_return = 0.1184\n",
      "risk_free_return = 0.0121\n",
      "mark_date = datetime.date(2019, 7, 1)\n",
      "monthly_portfolio_return = 0.0227\n",
      "risk_free_return = 0.0034\n",
      "mark_date = datetime.date(2019, 8, 1)\n",
      "monthly_portfolio_return = -0.0093\n",
      "risk_free_return = 0.0403\n",
      "mark_date = datetime.date(2019, 9, 1)\n",
      "monthly_portfolio_return = -0.0058\n",
      "risk_free_return = -0.0139\n",
      "mark_date = datetime.date(2019, 10, 1)\n",
      "monthly_portfolio_return = 0.0611\n",
      "risk_free_return = -0.0007\n",
      "mark_date = datetime.date(2019, 11, 1)\n",
      "monthly_portfolio_return = 0.0817\n",
      "risk_free_return = -0.0074\n",
      "mark_date = datetime.date(2019, 12, 1)\n",
      "monthly_portfolio_return = 0.0590\n",
      "risk_free_return = -0.0113\n",
      "mark_date = datetime.date(2020, 1, 1)\n",
      "monthly_portfolio_return = 0.0469\n",
      "risk_free_return = 0.0392\n",
      "mark_date = datetime.date(2020, 2, 1)\n",
      "monthly_portfolio_return = 0.0141\n",
      "risk_free_return = 0.0299\n",
      "mark_date = datetime.date(2020, 3, 1)\n",
      "monthly_portfolio_return = -0.0793\n",
      "risk_free_return = 0.0397\n",
      "mark_date = datetime.date(2020, 4, 1)\n",
      "monthly_portfolio_return = 0.1296\n",
      "risk_free_return = 0.0050\n",
      "mark_date = datetime.date(2020, 5, 1)\n",
      "monthly_portfolio_return = 0.0940\n",
      "risk_free_return = 0.0007\n",
      "mark_date = datetime.date(2020, 6, 1)\n",
      "monthly_portfolio_return = 0.0863\n",
      "risk_free_return = 0.0004\n",
      "mark_date = datetime.date(2020, 7, 1)\n",
      "monthly_portfolio_return = 0.0537\n",
      "risk_free_return = 0.0128\n",
      "mark_date = datetime.date(2020, 8, 1)\n",
      "monthly_portfolio_return = 0.1544\n",
      "risk_free_return = -0.0147\n",
      "mark_date = datetime.date(2020, 9, 1)\n",
      "monthly_portfolio_return = -0.0446\n",
      "risk_free_return = 0.0026\n",
      "mark_date = datetime.date(2020, 10, 1)\n",
      "monthly_portfolio_return = -0.0681\n",
      "risk_free_return = -0.0173\n",
      "mark_date = datetime.date(2020, 11, 1)\n",
      "monthly_portfolio_return = 0.0690\n",
      "risk_free_return = 0.0040\n",
      "mark_date = datetime.date(2020, 12, 1)\n",
      "monthly_portfolio_return = 0.0339\n",
      "risk_free_return = -0.0050\n",
      "mark_date = datetime.date(2021, 1, 1)\n",
      "monthly_portfolio_return = -0.0228\n",
      "risk_free_return = -0.0107\n",
      "mark_date = datetime.date(2021, 2, 1)\n",
      "monthly_portfolio_return = 0.0042\n",
      "risk_free_return = -0.0254\n",
      "mark_date = datetime.date(2021, 3, 1)\n",
      "monthly_portfolio_return = -0.0004\n",
      "risk_free_return = -0.0293\n",
      "mark_date = datetime.date(2021, 4, 1)\n",
      "monthly_portfolio_return = 0.0968\n",
      "risk_free_return = 0.0119\n",
      "mark_date = datetime.date(2021, 5, 1)\n",
      "monthly_portfolio_return = 0.0204\n",
      "risk_free_return = 0.0034\n",
      "mark_date = datetime.date(2021, 6, 1)\n",
      "monthly_portfolio_return = 0.1731\n",
      "risk_free_return = 0.0141\n",
      "mark_date = datetime.date(2021, 7, 1)\n",
      "monthly_portfolio_return = 0.0245\n",
      "risk_free_return = 0.0238\n",
      "mark_date = datetime.date(2021, 8, 1)\n",
      "monthly_portfolio_return = 0.0972\n",
      "risk_free_return = -0.0048\n",
      "mark_date = datetime.date(2021, 9, 1)\n",
      "monthly_portfolio_return = -0.0881\n",
      "risk_free_return = -0.0154\n",
      "mark_date = datetime.date(2021, 10, 1)\n",
      "monthly_portfolio_return = 0.1768\n",
      "risk_free_return = -0.0049\n",
      "mark_date = datetime.date(2021, 11, 1)\n",
      "monthly_portfolio_return = 0.1670\n",
      "risk_free_return = 0.0125\n",
      "mark_date = datetime.date(2021, 12, 1)\n",
      "monthly_portfolio_return = -0.0610\n",
      "risk_free_return = -0.0047\n",
      "========== SUMMARY ==========\n",
      "monthly_returns_bp_mean = 329.88\n",
      "monthly_returns_bp_std = 803.37\n",
      "annualized_mean_pct = 47.62\n",
      "annualized_std_pct = 27.83\n",
      "sharpe_ratio = 1.71\n",
      "mark_date = datetime.date(2017, 1, 1)\n",
      "monthly_portfolio_return = 0.0337\n",
      "risk_free_return = 0.0022\n",
      "mark_date = datetime.date(2017, 2, 1)\n",
      "monthly_portfolio_return = -0.0275\n",
      "risk_free_return = 0.0074\n",
      "mark_date = datetime.date(2017, 3, 1)\n",
      "monthly_portfolio_return = 0.0680\n",
      "risk_free_return = 0.0024\n",
      "mark_date = datetime.date(2017, 4, 1)\n",
      "monthly_portfolio_return = -0.0142\n",
      "risk_free_return = 0.0111\n",
      "mark_date = datetime.date(2017, 5, 1)\n",
      "monthly_portfolio_return = 0.2373\n",
      "risk_free_return = 0.0079\n",
      "mark_date = datetime.date(2017, 6, 1)\n",
      "monthly_portfolio_return = 0.0004\n",
      "risk_free_return = -0.0013\n",
      "mark_date = datetime.date(2017, 7, 1)\n",
      "monthly_portfolio_return = 0.0746\n",
      "risk_free_return = -0.0000\n",
      "mark_date = datetime.date(2017, 8, 1)\n",
      "monthly_portfolio_return = 0.0429\n",
      "risk_free_return = 0.0171\n",
      "mark_date = datetime.date(2017, 9, 1)\n",
      "monthly_portfolio_return = 0.0189\n",
      "risk_free_return = -0.0172\n",
      "mark_date = datetime.date(2017, 10, 1)\n",
      "monthly_portfolio_return = 0.1415\n",
      "risk_free_return = -0.0011\n",
      "mark_date = datetime.date(2017, 11, 1)\n",
      "monthly_portfolio_return = 0.0025\n",
      "risk_free_return = -0.0026\n",
      "mark_date = datetime.date(2017, 12, 1)\n",
      "monthly_portfolio_return = -0.0149\n",
      "risk_free_return = 0.0022\n",
      "mark_date = datetime.date(2018, 1, 1)\n",
      "monthly_portfolio_return = 0.1877\n",
      "risk_free_return = -0.0236\n",
      "mark_date = datetime.date(2018, 2, 1)\n",
      "monthly_portfolio_return = 0.0067\n",
      "risk_free_return = -0.0130\n",
      "mark_date = datetime.date(2018, 3, 1)\n",
      "monthly_portfolio_return = -0.0161\n",
      "risk_free_return = 0.0128\n",
      "mark_date = datetime.date(2018, 4, 1)\n",
      "monthly_portfolio_return = -0.0005\n",
      "risk_free_return = -0.0155\n",
      "mark_date = datetime.date(2018, 5, 1)\n",
      "monthly_portfolio_return = 0.1083\n",
      "risk_free_return = 0.0096\n",
      "mark_date = datetime.date(2018, 6, 1)\n",
      "monthly_portfolio_return = -0.0234\n",
      "risk_free_return = 0.0023\n",
      "mark_date = datetime.date(2018, 7, 1)\n",
      "monthly_portfolio_return = 0.0211\n",
      "risk_free_return = -0.0051\n",
      "mark_date = datetime.date(2018, 8, 1)\n",
      "monthly_portfolio_return = 0.1026\n",
      "risk_free_return = 0.0101\n",
      "mark_date = datetime.date(2018, 9, 1)\n",
      "monthly_portfolio_return = 0.0121\n",
      "risk_free_return = -0.0148\n",
      "mark_date = datetime.date(2018, 10, 1)\n",
      "monthly_portfolio_return = -0.1449\n",
      "risk_free_return = -0.0043\n",
      "mark_date = datetime.date(2018, 11, 1)\n",
      "monthly_portfolio_return = -0.0868\n",
      "risk_free_return = 0.0149\n",
      "mark_date = datetime.date(2018, 12, 1)\n",
      "monthly_portfolio_return = -0.1313\n",
      "risk_free_return = 0.0286\n",
      "mark_date = datetime.date(2019, 1, 1)\n",
      "monthly_portfolio_return = 0.0725\n",
      "risk_free_return = 0.0071\n",
      "mark_date = datetime.date(2019, 2, 1)\n",
      "monthly_portfolio_return = 0.0679\n",
      "risk_free_return = -0.0043\n",
      "mark_date = datetime.date(2019, 3, 1)\n",
      "monthly_portfolio_return = 0.0941\n",
      "risk_free_return = 0.0294\n",
      "mark_date = datetime.date(2019, 4, 1)\n",
      "monthly_portfolio_return = 0.0540\n",
      "risk_free_return = -0.0062\n",
      "mark_date = datetime.date(2019, 5, 1)\n",
      "monthly_portfolio_return = -0.1348\n",
      "risk_free_return = 0.0319\n",
      "mark_date = datetime.date(2019, 6, 1)\n",
      "monthly_portfolio_return = 0.1306\n",
      "risk_free_return = 0.0121\n",
      "mark_date = datetime.date(2019, 7, 1)\n",
      "monthly_portfolio_return = 0.0229\n",
      "risk_free_return = 0.0034\n",
      "mark_date = datetime.date(2019, 8, 1)\n",
      "monthly_portfolio_return = -0.0122\n",
      "risk_free_return = 0.0403\n",
      "mark_date = datetime.date(2019, 9, 1)\n",
      "monthly_portfolio_return = -0.0020\n",
      "risk_free_return = -0.0139\n",
      "mark_date = datetime.date(2019, 10, 1)\n",
      "monthly_portfolio_return = 0.0719\n",
      "risk_free_return = -0.0007\n",
      "mark_date = datetime.date(2019, 11, 1)\n",
      "monthly_portfolio_return = 0.0834\n",
      "risk_free_return = -0.0074\n",
      "mark_date = datetime.date(2019, 12, 1)\n",
      "monthly_portfolio_return = 0.0633\n",
      "risk_free_return = -0.0113\n",
      "mark_date = datetime.date(2020, 1, 1)\n",
      "monthly_portfolio_return = 0.0432\n",
      "risk_free_return = 0.0392\n",
      "mark_date = datetime.date(2020, 2, 1)\n",
      "monthly_portfolio_return = 0.0304\n",
      "risk_free_return = 0.0299\n",
      "mark_date = datetime.date(2020, 3, 1)\n",
      "monthly_portfolio_return = -0.0731\n",
      "risk_free_return = 0.0397\n",
      "mark_date = datetime.date(2020, 4, 1)\n",
      "monthly_portfolio_return = 0.1281\n",
      "risk_free_return = 0.0050\n",
      "mark_date = datetime.date(2020, 5, 1)\n",
      "monthly_portfolio_return = 0.1018\n",
      "risk_free_return = 0.0007\n",
      "mark_date = datetime.date(2020, 6, 1)\n",
      "monthly_portfolio_return = 0.0884\n",
      "risk_free_return = 0.0004\n",
      "mark_date = datetime.date(2020, 7, 1)\n",
      "monthly_portfolio_return = 0.0511\n",
      "risk_free_return = 0.0128\n",
      "mark_date = datetime.date(2020, 8, 1)\n",
      "monthly_portfolio_return = 0.1627\n",
      "risk_free_return = -0.0147\n",
      "mark_date = datetime.date(2020, 9, 1)\n",
      "monthly_portfolio_return = -0.0434\n",
      "risk_free_return = 0.0026\n",
      "mark_date = datetime.date(2020, 10, 1)\n",
      "monthly_portfolio_return = -0.0717\n",
      "risk_free_return = -0.0173\n",
      "mark_date = datetime.date(2020, 11, 1)\n",
      "monthly_portfolio_return = 0.0674\n",
      "risk_free_return = 0.0040\n",
      "mark_date = datetime.date(2020, 12, 1)\n",
      "monthly_portfolio_return = 0.0303\n",
      "risk_free_return = -0.0050\n",
      "mark_date = datetime.date(2021, 1, 1)\n",
      "monthly_portfolio_return = -0.0208\n",
      "risk_free_return = -0.0107\n",
      "mark_date = datetime.date(2021, 2, 1)\n",
      "monthly_portfolio_return = 0.0059\n",
      "risk_free_return = -0.0254\n",
      "mark_date = datetime.date(2021, 3, 1)\n",
      "monthly_portfolio_return = -0.0041\n",
      "risk_free_return = -0.0293\n",
      "mark_date = datetime.date(2021, 4, 1)\n",
      "monthly_portfolio_return = 0.1014\n",
      "risk_free_return = 0.0119\n",
      "mark_date = datetime.date(2021, 5, 1)\n",
      "monthly_portfolio_return = 0.0277\n",
      "risk_free_return = 0.0034\n",
      "mark_date = datetime.date(2021, 6, 1)\n",
      "monthly_portfolio_return = 0.1851\n",
      "risk_free_return = 0.0141\n",
      "mark_date = datetime.date(2021, 7, 1)\n",
      "monthly_portfolio_return = 0.0174\n",
      "risk_free_return = 0.0238\n",
      "mark_date = datetime.date(2021, 8, 1)\n",
      "monthly_portfolio_return = 0.1061\n",
      "risk_free_return = -0.0048\n",
      "mark_date = datetime.date(2021, 9, 1)\n",
      "monthly_portfolio_return = -0.0891\n",
      "risk_free_return = -0.0154\n",
      "mark_date = datetime.date(2021, 10, 1)\n",
      "monthly_portfolio_return = 0.1837\n",
      "risk_free_return = -0.0049\n",
      "mark_date = datetime.date(2021, 11, 1)\n",
      "monthly_portfolio_return = 0.1960\n",
      "risk_free_return = 0.0125\n",
      "mark_date = datetime.date(2021, 12, 1)\n",
      "monthly_portfolio_return = -0.0717\n",
      "risk_free_return = -0.0047\n",
      "========== SUMMARY ==========\n",
      "monthly_returns_bp_mean = 347.54\n",
      "monthly_returns_bp_std = 863.07\n",
      "annualized_mean_pct = 50.68\n",
      "annualized_std_pct = 29.90\n",
      "sharpe_ratio = 1.69\n",
      "mark_date = datetime.date(2017, 1, 1)\n",
      "monthly_portfolio_return = 0.0248\n",
      "risk_free_return = 0.0022\n",
      "mark_date = datetime.date(2017, 2, 1)\n",
      "monthly_portfolio_return = -0.0417\n",
      "risk_free_return = 0.0074\n",
      "mark_date = datetime.date(2017, 3, 1)\n",
      "monthly_portfolio_return = 0.0692\n",
      "risk_free_return = 0.0024\n",
      "mark_date = datetime.date(2017, 4, 1)\n",
      "monthly_portfolio_return = -0.0223\n",
      "risk_free_return = 0.0111\n",
      "mark_date = datetime.date(2017, 5, 1)\n",
      "monthly_portfolio_return = 0.2755\n",
      "risk_free_return = 0.0079\n",
      "mark_date = datetime.date(2017, 6, 1)\n",
      "monthly_portfolio_return = 0.0027\n",
      "risk_free_return = -0.0013\n",
      "mark_date = datetime.date(2017, 7, 1)\n",
      "monthly_portfolio_return = 0.0809\n",
      "risk_free_return = -0.0000\n",
      "mark_date = datetime.date(2017, 8, 1)\n",
      "monthly_portfolio_return = 0.0454\n",
      "risk_free_return = 0.0171\n",
      "mark_date = datetime.date(2017, 9, 1)\n",
      "monthly_portfolio_return = 0.0147\n",
      "risk_free_return = -0.0172\n",
      "mark_date = datetime.date(2017, 10, 1)\n",
      "monthly_portfolio_return = 0.1487\n",
      "risk_free_return = -0.0011\n",
      "mark_date = datetime.date(2017, 11, 1)\n",
      "monthly_portfolio_return = 0.0004\n",
      "risk_free_return = -0.0026\n",
      "mark_date = datetime.date(2017, 12, 1)\n",
      "monthly_portfolio_return = -0.0215\n",
      "risk_free_return = 0.0022\n",
      "mark_date = datetime.date(2018, 1, 1)\n",
      "monthly_portfolio_return = 0.2012\n",
      "risk_free_return = -0.0236\n",
      "mark_date = datetime.date(2018, 2, 1)\n",
      "monthly_portfolio_return = 0.0056\n",
      "risk_free_return = -0.0130\n",
      "mark_date = datetime.date(2018, 3, 1)\n",
      "monthly_portfolio_return = -0.0149\n",
      "risk_free_return = 0.0128\n",
      "mark_date = datetime.date(2018, 4, 1)\n",
      "monthly_portfolio_return = -0.0010\n",
      "risk_free_return = -0.0155\n",
      "mark_date = datetime.date(2018, 5, 1)\n",
      "monthly_portfolio_return = 0.1113\n",
      "risk_free_return = 0.0096\n",
      "mark_date = datetime.date(2018, 6, 1)\n",
      "monthly_portfolio_return = -0.0272\n",
      "risk_free_return = 0.0023\n",
      "mark_date = datetime.date(2018, 7, 1)\n",
      "monthly_portfolio_return = 0.0204\n",
      "risk_free_return = -0.0051\n",
      "mark_date = datetime.date(2018, 8, 1)\n",
      "monthly_portfolio_return = 0.1064\n",
      "risk_free_return = 0.0101\n",
      "mark_date = datetime.date(2018, 9, 1)\n",
      "monthly_portfolio_return = 0.0130\n",
      "risk_free_return = -0.0148\n",
      "mark_date = datetime.date(2018, 10, 1)\n",
      "monthly_portfolio_return = -0.1544\n",
      "risk_free_return = -0.0043\n",
      "mark_date = datetime.date(2018, 11, 1)\n",
      "monthly_portfolio_return = -0.0969\n",
      "risk_free_return = 0.0149\n",
      "mark_date = datetime.date(2018, 12, 1)\n",
      "monthly_portfolio_return = -0.1383\n",
      "risk_free_return = 0.0286\n",
      "mark_date = datetime.date(2019, 1, 1)\n",
      "monthly_portfolio_return = 0.0759\n",
      "risk_free_return = 0.0071\n",
      "mark_date = datetime.date(2019, 2, 1)\n",
      "monthly_portfolio_return = 0.0677\n",
      "risk_free_return = -0.0043\n",
      "mark_date = datetime.date(2019, 3, 1)\n",
      "monthly_portfolio_return = 0.1041\n",
      "risk_free_return = 0.0294\n",
      "mark_date = datetime.date(2019, 4, 1)\n",
      "monthly_portfolio_return = 0.0484\n",
      "risk_free_return = -0.0062\n",
      "mark_date = datetime.date(2019, 5, 1)\n",
      "monthly_portfolio_return = -0.1521\n",
      "risk_free_return = 0.0319\n",
      "mark_date = datetime.date(2019, 6, 1)\n",
      "monthly_portfolio_return = 0.1428\n",
      "risk_free_return = 0.0121\n",
      "mark_date = datetime.date(2019, 7, 1)\n",
      "monthly_portfolio_return = 0.0231\n",
      "risk_free_return = 0.0034\n",
      "mark_date = datetime.date(2019, 8, 1)\n",
      "monthly_portfolio_return = -0.0150\n",
      "risk_free_return = 0.0403\n",
      "mark_date = datetime.date(2019, 9, 1)\n",
      "monthly_portfolio_return = 0.0017\n",
      "risk_free_return = -0.0139\n",
      "mark_date = datetime.date(2019, 10, 1)\n",
      "monthly_portfolio_return = 0.0815\n",
      "risk_free_return = -0.0007\n",
      "mark_date = datetime.date(2019, 11, 1)\n",
      "monthly_portfolio_return = 0.0852\n",
      "risk_free_return = -0.0074\n",
      "mark_date = datetime.date(2019, 12, 1)\n",
      "monthly_portfolio_return = 0.0675\n",
      "risk_free_return = -0.0113\n",
      "mark_date = datetime.date(2020, 1, 1)\n",
      "monthly_portfolio_return = 0.0393\n",
      "risk_free_return = 0.0392\n",
      "mark_date = datetime.date(2020, 2, 1)\n",
      "monthly_portfolio_return = 0.0464\n",
      "risk_free_return = 0.0299\n",
      "mark_date = datetime.date(2020, 3, 1)\n",
      "monthly_portfolio_return = -0.0668\n",
      "risk_free_return = 0.0397\n",
      "mark_date = datetime.date(2020, 4, 1)\n",
      "monthly_portfolio_return = 0.1262\n",
      "risk_free_return = 0.0050\n",
      "mark_date = datetime.date(2020, 5, 1)\n",
      "monthly_portfolio_return = 0.1085\n",
      "risk_free_return = 0.0007\n",
      "mark_date = datetime.date(2020, 6, 1)\n",
      "monthly_portfolio_return = 0.0902\n",
      "risk_free_return = 0.0004\n",
      "mark_date = datetime.date(2020, 7, 1)\n",
      "monthly_portfolio_return = 0.0493\n",
      "risk_free_return = 0.0128\n",
      "mark_date = datetime.date(2020, 8, 1)\n",
      "monthly_portfolio_return = 0.1711\n",
      "risk_free_return = -0.0147\n",
      "mark_date = datetime.date(2020, 9, 1)\n",
      "monthly_portfolio_return = -0.0393\n",
      "risk_free_return = 0.0026\n",
      "mark_date = datetime.date(2020, 10, 1)\n",
      "monthly_portfolio_return = -0.0688\n",
      "risk_free_return = -0.0173\n",
      "mark_date = datetime.date(2020, 11, 1)\n",
      "monthly_portfolio_return = 0.0664\n",
      "risk_free_return = 0.0040\n",
      "mark_date = datetime.date(2020, 12, 1)\n",
      "monthly_portfolio_return = 0.0257\n",
      "risk_free_return = -0.0050\n",
      "mark_date = datetime.date(2021, 1, 1)\n",
      "monthly_portfolio_return = -0.0237\n",
      "risk_free_return = -0.0107\n",
      "mark_date = datetime.date(2021, 2, 1)\n",
      "monthly_portfolio_return = 0.0086\n",
      "risk_free_return = -0.0254\n",
      "mark_date = datetime.date(2021, 3, 1)\n",
      "monthly_portfolio_return = -0.0078\n",
      "risk_free_return = -0.0293\n",
      "mark_date = datetime.date(2021, 4, 1)\n",
      "monthly_portfolio_return = 0.1061\n",
      "risk_free_return = 0.0119\n",
      "mark_date = datetime.date(2021, 5, 1)\n",
      "monthly_portfolio_return = 0.0350\n",
      "risk_free_return = 0.0034\n",
      "mark_date = datetime.date(2021, 6, 1)\n",
      "monthly_portfolio_return = 0.1970\n",
      "risk_free_return = 0.0141\n",
      "mark_date = datetime.date(2021, 7, 1)\n",
      "monthly_portfolio_return = 0.0102\n",
      "risk_free_return = 0.0238\n",
      "mark_date = datetime.date(2021, 8, 1)\n",
      "monthly_portfolio_return = 0.1170\n",
      "risk_free_return = -0.0048\n",
      "mark_date = datetime.date(2021, 9, 1)\n",
      "monthly_portfolio_return = -0.0857\n",
      "risk_free_return = -0.0154\n",
      "mark_date = datetime.date(2021, 10, 1)\n",
      "monthly_portfolio_return = 0.1922\n",
      "risk_free_return = -0.0049\n",
      "mark_date = datetime.date(2021, 11, 1)\n",
      "monthly_portfolio_return = 0.2250\n",
      "risk_free_return = 0.0125\n",
      "mark_date = datetime.date(2021, 12, 1)\n",
      "monthly_portfolio_return = -0.0789\n",
      "risk_free_return = -0.0047\n",
      "========== SUMMARY ==========\n",
      "monthly_returns_bp_mean = 366.33\n",
      "monthly_returns_bp_std = 927.89\n",
      "annualized_mean_pct = 53.99\n",
      "annualized_std_pct = 32.14\n",
      "sharpe_ratio = 1.68\n"
     ]
    }
   ],
   "source": [
    "results_constant_corr = param_tune(1.5, 2.7, 10, PortfolioStrategy.CONSTANT_CORRELATION)\n"
   ]
  },
  {
   "cell_type": "code",
   "execution_count": 15,
   "metadata": {},
   "outputs": [
    {
     "data": {
      "application/vnd.plotly.v1+json": {
       "config": {
        "plotlyServerURL": "https://plot.ly"
       },
       "data": [
        {
         "hovertemplate": "Minimum Return Ratio=%{x}<br>Sharpe Ratio=%{y}<extra></extra>",
         "legendgroup": "",
         "line": {
          "color": "#636efa",
          "dash": "solid"
         },
         "marker": {
          "symbol": "circle"
         },
         "mode": "lines",
         "name": "",
         "orientation": "v",
         "showlegend": false,
         "type": "scatter",
         "x": [
          1.5,
          1.6333333333333333,
          1.7666666666666666,
          1.9000000000000001,
          2.033333333333333,
          2.166666666666667,
          2.3000000000000003,
          2.4333333333333336,
          2.566666666666667,
          2.7
         ],
         "xaxis": "x",
         "y": [
          1.4672419177303253,
          1.531331326810024,
          1.5947125705216982,
          1.6301834386892693,
          1.6597466801403953,
          1.6857923994197832,
          1.7046556050967947,
          1.7110834622201772,
          1.6949880104920907,
          1.6797486557272463
         ],
         "yaxis": "y"
        }
       ],
       "layout": {
        "legend": {
         "tracegroupgap": 0
        },
        "template": {
         "data": {
          "bar": [
           {
            "error_x": {
             "color": "#2a3f5f"
            },
            "error_y": {
             "color": "#2a3f5f"
            },
            "marker": {
             "line": {
              "color": "#E5ECF6",
              "width": 0.5
             },
             "pattern": {
              "fillmode": "overlay",
              "size": 10,
              "solidity": 0.2
             }
            },
            "type": "bar"
           }
          ],
          "barpolar": [
           {
            "marker": {
             "line": {
              "color": "#E5ECF6",
              "width": 0.5
             },
             "pattern": {
              "fillmode": "overlay",
              "size": 10,
              "solidity": 0.2
             }
            },
            "type": "barpolar"
           }
          ],
          "carpet": [
           {
            "aaxis": {
             "endlinecolor": "#2a3f5f",
             "gridcolor": "white",
             "linecolor": "white",
             "minorgridcolor": "white",
             "startlinecolor": "#2a3f5f"
            },
            "baxis": {
             "endlinecolor": "#2a3f5f",
             "gridcolor": "white",
             "linecolor": "white",
             "minorgridcolor": "white",
             "startlinecolor": "#2a3f5f"
            },
            "type": "carpet"
           }
          ],
          "choropleth": [
           {
            "colorbar": {
             "outlinewidth": 0,
             "ticks": ""
            },
            "type": "choropleth"
           }
          ],
          "contour": [
           {
            "colorbar": {
             "outlinewidth": 0,
             "ticks": ""
            },
            "colorscale": [
             [
              0,
              "#0d0887"
             ],
             [
              0.1111111111111111,
              "#46039f"
             ],
             [
              0.2222222222222222,
              "#7201a8"
             ],
             [
              0.3333333333333333,
              "#9c179e"
             ],
             [
              0.4444444444444444,
              "#bd3786"
             ],
             [
              0.5555555555555556,
              "#d8576b"
             ],
             [
              0.6666666666666666,
              "#ed7953"
             ],
             [
              0.7777777777777778,
              "#fb9f3a"
             ],
             [
              0.8888888888888888,
              "#fdca26"
             ],
             [
              1,
              "#f0f921"
             ]
            ],
            "type": "contour"
           }
          ],
          "contourcarpet": [
           {
            "colorbar": {
             "outlinewidth": 0,
             "ticks": ""
            },
            "type": "contourcarpet"
           }
          ],
          "heatmap": [
           {
            "colorbar": {
             "outlinewidth": 0,
             "ticks": ""
            },
            "colorscale": [
             [
              0,
              "#0d0887"
             ],
             [
              0.1111111111111111,
              "#46039f"
             ],
             [
              0.2222222222222222,
              "#7201a8"
             ],
             [
              0.3333333333333333,
              "#9c179e"
             ],
             [
              0.4444444444444444,
              "#bd3786"
             ],
             [
              0.5555555555555556,
              "#d8576b"
             ],
             [
              0.6666666666666666,
              "#ed7953"
             ],
             [
              0.7777777777777778,
              "#fb9f3a"
             ],
             [
              0.8888888888888888,
              "#fdca26"
             ],
             [
              1,
              "#f0f921"
             ]
            ],
            "type": "heatmap"
           }
          ],
          "heatmapgl": [
           {
            "colorbar": {
             "outlinewidth": 0,
             "ticks": ""
            },
            "colorscale": [
             [
              0,
              "#0d0887"
             ],
             [
              0.1111111111111111,
              "#46039f"
             ],
             [
              0.2222222222222222,
              "#7201a8"
             ],
             [
              0.3333333333333333,
              "#9c179e"
             ],
             [
              0.4444444444444444,
              "#bd3786"
             ],
             [
              0.5555555555555556,
              "#d8576b"
             ],
             [
              0.6666666666666666,
              "#ed7953"
             ],
             [
              0.7777777777777778,
              "#fb9f3a"
             ],
             [
              0.8888888888888888,
              "#fdca26"
             ],
             [
              1,
              "#f0f921"
             ]
            ],
            "type": "heatmapgl"
           }
          ],
          "histogram": [
           {
            "marker": {
             "pattern": {
              "fillmode": "overlay",
              "size": 10,
              "solidity": 0.2
             }
            },
            "type": "histogram"
           }
          ],
          "histogram2d": [
           {
            "colorbar": {
             "outlinewidth": 0,
             "ticks": ""
            },
            "colorscale": [
             [
              0,
              "#0d0887"
             ],
             [
              0.1111111111111111,
              "#46039f"
             ],
             [
              0.2222222222222222,
              "#7201a8"
             ],
             [
              0.3333333333333333,
              "#9c179e"
             ],
             [
              0.4444444444444444,
              "#bd3786"
             ],
             [
              0.5555555555555556,
              "#d8576b"
             ],
             [
              0.6666666666666666,
              "#ed7953"
             ],
             [
              0.7777777777777778,
              "#fb9f3a"
             ],
             [
              0.8888888888888888,
              "#fdca26"
             ],
             [
              1,
              "#f0f921"
             ]
            ],
            "type": "histogram2d"
           }
          ],
          "histogram2dcontour": [
           {
            "colorbar": {
             "outlinewidth": 0,
             "ticks": ""
            },
            "colorscale": [
             [
              0,
              "#0d0887"
             ],
             [
              0.1111111111111111,
              "#46039f"
             ],
             [
              0.2222222222222222,
              "#7201a8"
             ],
             [
              0.3333333333333333,
              "#9c179e"
             ],
             [
              0.4444444444444444,
              "#bd3786"
             ],
             [
              0.5555555555555556,
              "#d8576b"
             ],
             [
              0.6666666666666666,
              "#ed7953"
             ],
             [
              0.7777777777777778,
              "#fb9f3a"
             ],
             [
              0.8888888888888888,
              "#fdca26"
             ],
             [
              1,
              "#f0f921"
             ]
            ],
            "type": "histogram2dcontour"
           }
          ],
          "mesh3d": [
           {
            "colorbar": {
             "outlinewidth": 0,
             "ticks": ""
            },
            "type": "mesh3d"
           }
          ],
          "parcoords": [
           {
            "line": {
             "colorbar": {
              "outlinewidth": 0,
              "ticks": ""
             }
            },
            "type": "parcoords"
           }
          ],
          "pie": [
           {
            "automargin": true,
            "type": "pie"
           }
          ],
          "scatter": [
           {
            "fillpattern": {
             "fillmode": "overlay",
             "size": 10,
             "solidity": 0.2
            },
            "type": "scatter"
           }
          ],
          "scatter3d": [
           {
            "line": {
             "colorbar": {
              "outlinewidth": 0,
              "ticks": ""
             }
            },
            "marker": {
             "colorbar": {
              "outlinewidth": 0,
              "ticks": ""
             }
            },
            "type": "scatter3d"
           }
          ],
          "scattercarpet": [
           {
            "marker": {
             "colorbar": {
              "outlinewidth": 0,
              "ticks": ""
             }
            },
            "type": "scattercarpet"
           }
          ],
          "scattergeo": [
           {
            "marker": {
             "colorbar": {
              "outlinewidth": 0,
              "ticks": ""
             }
            },
            "type": "scattergeo"
           }
          ],
          "scattergl": [
           {
            "marker": {
             "colorbar": {
              "outlinewidth": 0,
              "ticks": ""
             }
            },
            "type": "scattergl"
           }
          ],
          "scattermapbox": [
           {
            "marker": {
             "colorbar": {
              "outlinewidth": 0,
              "ticks": ""
             }
            },
            "type": "scattermapbox"
           }
          ],
          "scatterpolar": [
           {
            "marker": {
             "colorbar": {
              "outlinewidth": 0,
              "ticks": ""
             }
            },
            "type": "scatterpolar"
           }
          ],
          "scatterpolargl": [
           {
            "marker": {
             "colorbar": {
              "outlinewidth": 0,
              "ticks": ""
             }
            },
            "type": "scatterpolargl"
           }
          ],
          "scatterternary": [
           {
            "marker": {
             "colorbar": {
              "outlinewidth": 0,
              "ticks": ""
             }
            },
            "type": "scatterternary"
           }
          ],
          "surface": [
           {
            "colorbar": {
             "outlinewidth": 0,
             "ticks": ""
            },
            "colorscale": [
             [
              0,
              "#0d0887"
             ],
             [
              0.1111111111111111,
              "#46039f"
             ],
             [
              0.2222222222222222,
              "#7201a8"
             ],
             [
              0.3333333333333333,
              "#9c179e"
             ],
             [
              0.4444444444444444,
              "#bd3786"
             ],
             [
              0.5555555555555556,
              "#d8576b"
             ],
             [
              0.6666666666666666,
              "#ed7953"
             ],
             [
              0.7777777777777778,
              "#fb9f3a"
             ],
             [
              0.8888888888888888,
              "#fdca26"
             ],
             [
              1,
              "#f0f921"
             ]
            ],
            "type": "surface"
           }
          ],
          "table": [
           {
            "cells": {
             "fill": {
              "color": "#EBF0F8"
             },
             "line": {
              "color": "white"
             }
            },
            "header": {
             "fill": {
              "color": "#C8D4E3"
             },
             "line": {
              "color": "white"
             }
            },
            "type": "table"
           }
          ]
         },
         "layout": {
          "annotationdefaults": {
           "arrowcolor": "#2a3f5f",
           "arrowhead": 0,
           "arrowwidth": 1
          },
          "autotypenumbers": "strict",
          "coloraxis": {
           "colorbar": {
            "outlinewidth": 0,
            "ticks": ""
           }
          },
          "colorscale": {
           "diverging": [
            [
             0,
             "#8e0152"
            ],
            [
             0.1,
             "#c51b7d"
            ],
            [
             0.2,
             "#de77ae"
            ],
            [
             0.3,
             "#f1b6da"
            ],
            [
             0.4,
             "#fde0ef"
            ],
            [
             0.5,
             "#f7f7f7"
            ],
            [
             0.6,
             "#e6f5d0"
            ],
            [
             0.7,
             "#b8e186"
            ],
            [
             0.8,
             "#7fbc41"
            ],
            [
             0.9,
             "#4d9221"
            ],
            [
             1,
             "#276419"
            ]
           ],
           "sequential": [
            [
             0,
             "#0d0887"
            ],
            [
             0.1111111111111111,
             "#46039f"
            ],
            [
             0.2222222222222222,
             "#7201a8"
            ],
            [
             0.3333333333333333,
             "#9c179e"
            ],
            [
             0.4444444444444444,
             "#bd3786"
            ],
            [
             0.5555555555555556,
             "#d8576b"
            ],
            [
             0.6666666666666666,
             "#ed7953"
            ],
            [
             0.7777777777777778,
             "#fb9f3a"
            ],
            [
             0.8888888888888888,
             "#fdca26"
            ],
            [
             1,
             "#f0f921"
            ]
           ],
           "sequentialminus": [
            [
             0,
             "#0d0887"
            ],
            [
             0.1111111111111111,
             "#46039f"
            ],
            [
             0.2222222222222222,
             "#7201a8"
            ],
            [
             0.3333333333333333,
             "#9c179e"
            ],
            [
             0.4444444444444444,
             "#bd3786"
            ],
            [
             0.5555555555555556,
             "#d8576b"
            ],
            [
             0.6666666666666666,
             "#ed7953"
            ],
            [
             0.7777777777777778,
             "#fb9f3a"
            ],
            [
             0.8888888888888888,
             "#fdca26"
            ],
            [
             1,
             "#f0f921"
            ]
           ]
          },
          "colorway": [
           "#636efa",
           "#EF553B",
           "#00cc96",
           "#ab63fa",
           "#FFA15A",
           "#19d3f3",
           "#FF6692",
           "#B6E880",
           "#FF97FF",
           "#FECB52"
          ],
          "font": {
           "color": "#2a3f5f"
          },
          "geo": {
           "bgcolor": "white",
           "lakecolor": "white",
           "landcolor": "#E5ECF6",
           "showlakes": true,
           "showland": true,
           "subunitcolor": "white"
          },
          "hoverlabel": {
           "align": "left"
          },
          "hovermode": "closest",
          "mapbox": {
           "style": "light"
          },
          "paper_bgcolor": "white",
          "plot_bgcolor": "#E5ECF6",
          "polar": {
           "angularaxis": {
            "gridcolor": "white",
            "linecolor": "white",
            "ticks": ""
           },
           "bgcolor": "#E5ECF6",
           "radialaxis": {
            "gridcolor": "white",
            "linecolor": "white",
            "ticks": ""
           }
          },
          "scene": {
           "xaxis": {
            "backgroundcolor": "#E5ECF6",
            "gridcolor": "white",
            "gridwidth": 2,
            "linecolor": "white",
            "showbackground": true,
            "ticks": "",
            "zerolinecolor": "white"
           },
           "yaxis": {
            "backgroundcolor": "#E5ECF6",
            "gridcolor": "white",
            "gridwidth": 2,
            "linecolor": "white",
            "showbackground": true,
            "ticks": "",
            "zerolinecolor": "white"
           },
           "zaxis": {
            "backgroundcolor": "#E5ECF6",
            "gridcolor": "white",
            "gridwidth": 2,
            "linecolor": "white",
            "showbackground": true,
            "ticks": "",
            "zerolinecolor": "white"
           }
          },
          "shapedefaults": {
           "line": {
            "color": "#2a3f5f"
           }
          },
          "ternary": {
           "aaxis": {
            "gridcolor": "white",
            "linecolor": "white",
            "ticks": ""
           },
           "baxis": {
            "gridcolor": "white",
            "linecolor": "white",
            "ticks": ""
           },
           "bgcolor": "#E5ECF6",
           "caxis": {
            "gridcolor": "white",
            "linecolor": "white",
            "ticks": ""
           }
          },
          "title": {
           "x": 0.05
          },
          "xaxis": {
           "automargin": true,
           "gridcolor": "white",
           "linecolor": "white",
           "ticks": "",
           "title": {
            "standoff": 15
           },
           "zerolinecolor": "white",
           "zerolinewidth": 2
          },
          "yaxis": {
           "automargin": true,
           "gridcolor": "white",
           "linecolor": "white",
           "ticks": "",
           "title": {
            "standoff": 15
           },
           "zerolinecolor": "white",
           "zerolinewidth": 2
          }
         }
        },
        "title": {
         "text": "Sharpe Ratio vs. Minimum Return Ratio (Constant Correlation)"
        },
        "xaxis": {
         "anchor": "y",
         "domain": [
          0,
          1
         ],
         "title": {
          "text": "Minimum Return Ratio"
         }
        },
        "yaxis": {
         "anchor": "x",
         "domain": [
          0,
          1
         ],
         "title": {
          "text": "Sharpe Ratio"
         }
        }
       }
      }
     },
     "metadata": {},
     "output_type": "display_data"
    }
   ],
   "source": [
    "\n",
    "fig = px.line(results_constant_corr, \n",
    "              x='Minimum Return Ratio', \n",
    "              y=\"Sharpe Ratio\", \n",
    "              title=\"Sharpe Ratio vs. Minimum Return Ratio (Constant Correlation)\")\n",
    "fig.show()"
   ]
  }
 ],
 "metadata": {
  "kernelspec": {
   "display_name": "Python 3.11.5 ('.venv': venv)",
   "language": "python",
   "name": "python3"
  },
  "language_info": {
   "codemirror_mode": {
    "name": "ipython",
    "version": 3
   },
   "file_extension": ".py",
   "mimetype": "text/x-python",
   "name": "python",
   "nbconvert_exporter": "python",
   "pygments_lexer": "ipython3",
   "version": "3.11.5"
  },
  "orig_nbformat": 4,
  "vscode": {
   "interpreter": {
    "hash": "c5f733a101df528d8f81a2e0a1af755ba0e6b0c64bb72cdb4c36194acb7cf9f0"
   }
  }
 },
 "nbformat": 4,
 "nbformat_minor": 2
}
