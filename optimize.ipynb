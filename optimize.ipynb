{
 "cells": [
  {
   "cell_type": "code",
   "execution_count": 1,
   "metadata": {},
   "outputs": [],
   "source": [
    "from ropacea.backtest import BacktestResult, backtest_loop, summarize_results\n",
    "from ropacea.portfolios import PortfolioStrategy\n",
    "\n",
    "import pandas as pd\n",
    "import numpy as np\n",
    "\n",
    "import plotly.express as px \n",
    "from datetime import date\n",
    "\n",
    "\n",
    "START_DATE = date(2017, 1, 1)\n",
    "END_DATE = date(2022, 1, 1)"
   ]
  },
  {
   "cell_type": "code",
   "execution_count": 8,
   "metadata": {},
   "outputs": [],
   "source": [
    "\n",
    "\n",
    "def param_tune(min, max, num, strategy):\n",
    "    min_return_ratios = np.linspace(min, max, num)\n",
    "\n",
    "\n",
    "    results_df = pd.DataFrame({'min_return_ratio': min_return_ratios})\n",
    "    sharpe_ratios = []\n",
    "\n",
    "    for mrr in min_return_ratios:\n",
    "        backtest_results = backtest_loop(\n",
    "            start_date=START_DATE,\n",
    "            end_date=END_DATE,\n",
    "            strategy=strategy,\n",
    "            min_return_ratio=mrr\n",
    "        )\n",
    "        backtest_summary = summarize_results(backtest_results)\n",
    "        sharpe_ratios.append(backtest_summary.sharpe_ratio)\n",
    "\n",
    "\n",
    "    results_df['Sharpe Ratio'] = sharpe_ratios\n",
    "\n",
    "    return results_df\n"
   ]
  },
  {
   "cell_type": "code",
   "execution_count": 10,
   "metadata": {},
   "outputs": [
    {
     "name": "stdout",
     "output_type": "stream",
     "text": [
      "mark_date = datetime.date(2017, 1, 1)\n",
      "monthly_portfolio_return = 0.0297\n",
      "risk_free_return = 0.0022\n",
      "mark_date = datetime.date(2017, 2, 1)\n",
      "monthly_portfolio_return = 0.0271\n",
      "risk_free_return = 0.0074\n",
      "mark_date = datetime.date(2017, 3, 1)\n",
      "monthly_portfolio_return = 0.0341\n",
      "risk_free_return = 0.0024\n",
      "mark_date = datetime.date(2017, 4, 1)\n",
      "monthly_portfolio_return = -0.0116\n",
      "risk_free_return = 0.0111\n",
      "mark_date = datetime.date(2017, 5, 1)\n"
     ]
    },
    {
     "name": "stderr",
     "output_type": "stream",
     "text": [
      "/home/josh/Documents/GitHub/ropacea/ropacea/scs.py:32: RuntimeWarning:\n",
      "\n",
      "divide by zero encountered in scalar divide\n",
      "\n",
      "/home/josh/Documents/GitHub/ropacea/ropacea/scs.py:32: RuntimeWarning:\n",
      "\n",
      "divide by zero encountered in scalar divide\n",
      "\n",
      "/home/josh/Documents/GitHub/ropacea/ropacea/scs.py:32: RuntimeWarning:\n",
      "\n",
      "divide by zero encountered in scalar divide\n",
      "\n",
      "/home/josh/Documents/GitHub/ropacea/ropacea/scs.py:32: RuntimeWarning:\n",
      "\n",
      "divide by zero encountered in scalar divide\n",
      "\n",
      "/home/josh/Documents/GitHub/ropacea/ropacea/scs.py:32: RuntimeWarning:\n",
      "\n",
      "divide by zero encountered in scalar divide\n",
      "\n",
      "/home/josh/Documents/GitHub/ropacea/ropacea/scs.py:32: RuntimeWarning:\n",
      "\n",
      "divide by zero encountered in scalar divide\n",
      "\n",
      "/home/josh/Documents/GitHub/ropacea/ropacea/scs.py:32: RuntimeWarning:\n",
      "\n",
      "divide by zero encountered in scalar divide\n",
      "\n",
      "/home/josh/Documents/GitHub/ropacea/ropacea/scs.py:32: RuntimeWarning:\n",
      "\n",
      "divide by zero encountered in scalar divide\n",
      "\n"
     ]
    },
    {
     "name": "stdout",
     "output_type": "stream",
     "text": [
      "monthly_portfolio_return = 0.0882\n",
      "risk_free_return = 0.0079\n",
      "mark_date = datetime.date(2017, 6, 1)\n",
      "monthly_portfolio_return = 0.0198\n",
      "risk_free_return = -0.0013\n",
      "mark_date = datetime.date(2017, 7, 1)\n",
      "monthly_portfolio_return = 0.0336\n",
      "risk_free_return = -0.0000\n",
      "mark_date = datetime.date(2017, 8, 1)\n",
      "monthly_portfolio_return = 0.0200\n",
      "risk_free_return = 0.0171\n",
      "mark_date = datetime.date(2017, 9, 1)\n",
      "monthly_portfolio_return = 0.0201\n",
      "risk_free_return = -0.0172\n",
      "mark_date = datetime.date(2017, 10, 1)\n"
     ]
    },
    {
     "name": "stderr",
     "output_type": "stream",
     "text": [
      "/home/josh/Documents/GitHub/ropacea/ropacea/scs.py:32: RuntimeWarning:\n",
      "\n",
      "divide by zero encountered in scalar divide\n",
      "\n",
      "/home/josh/Documents/GitHub/ropacea/ropacea/scs.py:32: RuntimeWarning:\n",
      "\n",
      "divide by zero encountered in scalar divide\n",
      "\n",
      "/home/josh/Documents/GitHub/ropacea/ropacea/scs.py:32: RuntimeWarning:\n",
      "\n",
      "divide by zero encountered in scalar divide\n",
      "\n",
      "/home/josh/Documents/GitHub/ropacea/ropacea/scs.py:32: RuntimeWarning:\n",
      "\n",
      "divide by zero encountered in scalar divide\n",
      "\n",
      "/home/josh/Documents/GitHub/ropacea/ropacea/scs.py:32: RuntimeWarning:\n",
      "\n",
      "divide by zero encountered in scalar divide\n",
      "\n"
     ]
    },
    {
     "name": "stdout",
     "output_type": "stream",
     "text": [
      "monthly_portfolio_return = 0.0665\n",
      "risk_free_return = -0.0011\n",
      "mark_date = datetime.date(2017, 11, 1)\n",
      "monthly_portfolio_return = 0.0216\n",
      "risk_free_return = -0.0026\n",
      "mark_date = datetime.date(2017, 12, 1)\n",
      "monthly_portfolio_return = -0.0059\n",
      "risk_free_return = 0.0022\n",
      "mark_date = datetime.date(2018, 1, 1)\n",
      "monthly_portfolio_return = 0.0875\n",
      "risk_free_return = -0.0236\n",
      "mark_date = datetime.date(2018, 2, 1)\n",
      "monthly_portfolio_return = -0.0348\n",
      "risk_free_return = -0.0130\n",
      "mark_date = datetime.date(2018, 3, 1)\n"
     ]
    },
    {
     "name": "stderr",
     "output_type": "stream",
     "text": [
      "/home/josh/Documents/GitHub/ropacea/ropacea/scs.py:32: RuntimeWarning:\n",
      "\n",
      "divide by zero encountered in scalar divide\n",
      "\n",
      "/home/josh/Documents/GitHub/ropacea/ropacea/scs.py:32: RuntimeWarning:\n",
      "\n",
      "divide by zero encountered in scalar divide\n",
      "\n",
      "/home/josh/Documents/GitHub/ropacea/ropacea/scs.py:32: RuntimeWarning:\n",
      "\n",
      "divide by zero encountered in scalar divide\n",
      "\n",
      "/home/josh/Documents/GitHub/ropacea/ropacea/scs.py:32: RuntimeWarning:\n",
      "\n",
      "divide by zero encountered in scalar divide\n",
      "\n",
      "/home/josh/Documents/GitHub/ropacea/ropacea/scs.py:32: RuntimeWarning:\n",
      "\n",
      "divide by zero encountered in scalar divide\n",
      "\n"
     ]
    },
    {
     "name": "stdout",
     "output_type": "stream",
     "text": [
      "monthly_portfolio_return = -0.0117\n",
      "risk_free_return = 0.0128\n",
      "mark_date = datetime.date(2018, 4, 1)\n",
      "monthly_portfolio_return = 0.0273\n",
      "risk_free_return = -0.0155\n",
      "mark_date = datetime.date(2018, 5, 1)\n",
      "monthly_portfolio_return = 0.0474\n",
      "risk_free_return = 0.0096\n",
      "mark_date = datetime.date(2018, 6, 1)\n",
      "monthly_portfolio_return = -0.0077\n",
      "risk_free_return = 0.0023\n",
      "mark_date = datetime.date(2018, 7, 1)\n",
      "monthly_portfolio_return = 0.0729\n",
      "risk_free_return = -0.0051\n",
      "mark_date = datetime.date(2018, 8, 1)\n"
     ]
    },
    {
     "name": "stderr",
     "output_type": "stream",
     "text": [
      "/home/josh/Documents/GitHub/ropacea/ropacea/scs.py:32: RuntimeWarning:\n",
      "\n",
      "divide by zero encountered in scalar divide\n",
      "\n",
      "/home/josh/Documents/GitHub/ropacea/ropacea/scs.py:32: RuntimeWarning:\n",
      "\n",
      "divide by zero encountered in scalar divide\n",
      "\n",
      "/home/josh/Documents/GitHub/ropacea/ropacea/scs.py:32: RuntimeWarning:\n",
      "\n",
      "divide by zero encountered in scalar divide\n",
      "\n",
      "/home/josh/Documents/GitHub/ropacea/ropacea/scs.py:32: RuntimeWarning:\n",
      "\n",
      "divide by zero encountered in scalar divide\n",
      "\n",
      "/home/josh/Documents/GitHub/ropacea/ropacea/scs.py:32: RuntimeWarning:\n",
      "\n",
      "divide by zero encountered in scalar divide\n",
      "\n"
     ]
    },
    {
     "name": "stdout",
     "output_type": "stream",
     "text": [
      "monthly_portfolio_return = 0.0810\n",
      "risk_free_return = 0.0101\n",
      "mark_date = datetime.date(2018, 9, 1)\n",
      "monthly_portfolio_return = 0.0167\n",
      "risk_free_return = -0.0148\n",
      "mark_date = datetime.date(2018, 10, 1)\n",
      "monthly_portfolio_return = -0.0509\n",
      "risk_free_return = -0.0043\n",
      "mark_date = datetime.date(2018, 11, 1)\n",
      "monthly_portfolio_return = 0.0312\n",
      "risk_free_return = 0.0149\n",
      "mark_date = datetime.date(2018, 12, 1)\n",
      "monthly_portfolio_return = -0.0702\n",
      "risk_free_return = 0.0286\n",
      "mark_date = datetime.date(2019, 1, 1)\n"
     ]
    },
    {
     "name": "stderr",
     "output_type": "stream",
     "text": [
      "/home/josh/Documents/GitHub/ropacea/ropacea/scs.py:32: RuntimeWarning:\n",
      "\n",
      "divide by zero encountered in scalar divide\n",
      "\n",
      "/home/josh/Documents/GitHub/ropacea/ropacea/scs.py:32: RuntimeWarning:\n",
      "\n",
      "divide by zero encountered in scalar divide\n",
      "\n",
      "/home/josh/Documents/GitHub/ropacea/ropacea/scs.py:32: RuntimeWarning:\n",
      "\n",
      "divide by zero encountered in scalar divide\n",
      "\n",
      "/home/josh/Documents/GitHub/ropacea/ropacea/scs.py:32: RuntimeWarning:\n",
      "\n",
      "divide by zero encountered in scalar divide\n",
      "\n",
      "/home/josh/Documents/GitHub/ropacea/ropacea/scs.py:32: RuntimeWarning:\n",
      "\n",
      "divide by zero encountered in scalar divide\n",
      "\n"
     ]
    },
    {
     "name": "stdout",
     "output_type": "stream",
     "text": [
      "monthly_portfolio_return = 0.0394\n",
      "risk_free_return = 0.0071\n",
      "mark_date = datetime.date(2019, 2, 1)\n",
      "monthly_portfolio_return = 0.0574\n",
      "risk_free_return = -0.0043\n",
      "mark_date = datetime.date(2019, 3, 1)\n",
      "monthly_portfolio_return = 0.0511\n",
      "risk_free_return = 0.0294\n",
      "mark_date = datetime.date(2019, 4, 1)\n",
      "monthly_portfolio_return = -0.0104\n",
      "risk_free_return = -0.0062\n",
      "mark_date = datetime.date(2019, 5, 1)\n",
      "monthly_portfolio_return = -0.0411\n",
      "risk_free_return = 0.0319\n",
      "mark_date = datetime.date(2019, 6, 1)\n"
     ]
    },
    {
     "name": "stderr",
     "output_type": "stream",
     "text": [
      "/home/josh/Documents/GitHub/ropacea/ropacea/scs.py:32: RuntimeWarning:\n",
      "\n",
      "divide by zero encountered in scalar divide\n",
      "\n",
      "/home/josh/Documents/GitHub/ropacea/ropacea/scs.py:32: RuntimeWarning:\n",
      "\n",
      "divide by zero encountered in scalar divide\n",
      "\n",
      "/home/josh/Documents/GitHub/ropacea/ropacea/scs.py:32: RuntimeWarning:\n",
      "\n",
      "divide by zero encountered in scalar divide\n",
      "\n",
      "/home/josh/Documents/GitHub/ropacea/ropacea/scs.py:32: RuntimeWarning:\n",
      "\n",
      "divide by zero encountered in scalar divide\n",
      "\n"
     ]
    },
    {
     "name": "stdout",
     "output_type": "stream",
     "text": [
      "monthly_portfolio_return = 0.0375\n",
      "risk_free_return = 0.0121\n",
      "mark_date = datetime.date(2019, 7, 1)\n",
      "monthly_portfolio_return = 0.0118\n",
      "risk_free_return = 0.0034\n",
      "mark_date = datetime.date(2019, 8, 1)\n",
      "monthly_portfolio_return = 0.0288\n",
      "risk_free_return = 0.0403\n",
      "mark_date = datetime.date(2019, 9, 1)\n",
      "monthly_portfolio_return = -0.0119\n",
      "risk_free_return = -0.0139\n",
      "mark_date = datetime.date(2019, 10, 1)\n",
      "monthly_portfolio_return = -0.0027\n",
      "risk_free_return = -0.0007\n",
      "mark_date = datetime.date(2019, 11, 1)\n"
     ]
    },
    {
     "name": "stderr",
     "output_type": "stream",
     "text": [
      "/home/josh/Documents/GitHub/ropacea/ropacea/scs.py:32: RuntimeWarning:\n",
      "\n",
      "divide by zero encountered in scalar divide\n",
      "\n",
      "/home/josh/Documents/GitHub/ropacea/ropacea/scs.py:32: RuntimeWarning:\n",
      "\n",
      "divide by zero encountered in scalar divide\n",
      "\n",
      "/home/josh/Documents/GitHub/ropacea/ropacea/scs.py:32: RuntimeWarning:\n",
      "\n",
      "divide by zero encountered in scalar divide\n",
      "\n",
      "/home/josh/Documents/GitHub/ropacea/ropacea/scs.py:32: RuntimeWarning:\n",
      "\n",
      "divide by zero encountered in scalar divide\n",
      "\n",
      "/home/josh/Documents/GitHub/ropacea/ropacea/scs.py:32: RuntimeWarning:\n",
      "\n",
      "divide by zero encountered in scalar divide\n",
      "\n"
     ]
    },
    {
     "name": "stdout",
     "output_type": "stream",
     "text": [
      "monthly_portfolio_return = 0.0344\n",
      "risk_free_return = -0.0074\n",
      "mark_date = datetime.date(2019, 12, 1)\n",
      "monthly_portfolio_return = 0.0604\n",
      "risk_free_return = -0.0113\n",
      "mark_date = datetime.date(2020, 1, 1)\n",
      "monthly_portfolio_return = 0.0608\n",
      "risk_free_return = 0.0392\n",
      "mark_date = datetime.date(2020, 2, 1)\n",
      "monthly_portfolio_return = -0.0538\n",
      "risk_free_return = 0.0299\n",
      "mark_date = datetime.date(2020, 3, 1)\n",
      "monthly_portfolio_return = -0.0503\n",
      "risk_free_return = 0.0397\n",
      "mark_date = datetime.date(2020, 4, 1)\n"
     ]
    },
    {
     "name": "stderr",
     "output_type": "stream",
     "text": [
      "/home/josh/Documents/GitHub/ropacea/ropacea/scs.py:32: RuntimeWarning:\n",
      "\n",
      "divide by zero encountered in scalar divide\n",
      "\n",
      "/home/josh/Documents/GitHub/ropacea/ropacea/scs.py:32: RuntimeWarning:\n",
      "\n",
      "divide by zero encountered in scalar divide\n",
      "\n",
      "/home/josh/Documents/GitHub/ropacea/ropacea/scs.py:32: RuntimeWarning:\n",
      "\n",
      "divide by zero encountered in scalar divide\n",
      "\n",
      "/home/josh/Documents/GitHub/ropacea/ropacea/scs.py:32: RuntimeWarning:\n",
      "\n",
      "divide by zero encountered in scalar divide\n",
      "\n",
      "/home/josh/Documents/GitHub/ropacea/ropacea/scs.py:32: RuntimeWarning:\n",
      "\n",
      "divide by zero encountered in scalar divide\n",
      "\n"
     ]
    },
    {
     "name": "stdout",
     "output_type": "stream",
     "text": [
      "monthly_portfolio_return = 0.1050\n",
      "risk_free_return = 0.0050\n",
      "mark_date = datetime.date(2020, 5, 1)\n",
      "monthly_portfolio_return = 0.0362\n",
      "risk_free_return = 0.0007\n",
      "mark_date = datetime.date(2020, 6, 1)\n",
      "monthly_portfolio_return = 0.0453\n",
      "risk_free_return = 0.0004\n",
      "mark_date = datetime.date(2020, 7, 1)\n",
      "monthly_portfolio_return = 0.0365\n",
      "risk_free_return = 0.0128\n",
      "mark_date = datetime.date(2020, 8, 1)\n",
      "monthly_portfolio_return = 0.0917\n",
      "risk_free_return = -0.0147\n",
      "mark_date = datetime.date(2020, 9, 1)\n"
     ]
    },
    {
     "name": "stderr",
     "output_type": "stream",
     "text": [
      "/home/josh/Documents/GitHub/ropacea/ropacea/scs.py:32: RuntimeWarning:\n",
      "\n",
      "divide by zero encountered in scalar divide\n",
      "\n",
      "/home/josh/Documents/GitHub/ropacea/ropacea/scs.py:32: RuntimeWarning:\n",
      "\n",
      "divide by zero encountered in scalar divide\n",
      "\n",
      "/home/josh/Documents/GitHub/ropacea/ropacea/scs.py:32: RuntimeWarning:\n",
      "\n",
      "divide by zero encountered in scalar divide\n",
      "\n",
      "/home/josh/Documents/GitHub/ropacea/ropacea/scs.py:32: RuntimeWarning:\n",
      "\n",
      "divide by zero encountered in scalar divide\n",
      "\n",
      "/home/josh/Documents/GitHub/ropacea/ropacea/scs.py:32: RuntimeWarning:\n",
      "\n",
      "divide by zero encountered in scalar divide\n",
      "\n"
     ]
    },
    {
     "name": "stdout",
     "output_type": "stream",
     "text": [
      "monthly_portfolio_return = -0.0095\n",
      "risk_free_return = 0.0026\n",
      "mark_date = datetime.date(2020, 10, 1)\n",
      "monthly_portfolio_return = -0.0541\n",
      "risk_free_return = -0.0173\n",
      "mark_date = datetime.date(2020, 11, 1)\n",
      "monthly_portfolio_return = 0.0600\n",
      "risk_free_return = 0.0040\n",
      "mark_date = datetime.date(2020, 12, 1)\n",
      "monthly_portfolio_return = 0.0138\n",
      "risk_free_return = -0.0050\n",
      "mark_date = datetime.date(2021, 1, 1)\n",
      "monthly_portfolio_return = 0.0216\n",
      "risk_free_return = -0.0107\n",
      "mark_date = datetime.date(2021, 2, 1)\n"
     ]
    },
    {
     "name": "stderr",
     "output_type": "stream",
     "text": [
      "/home/josh/Documents/GitHub/ropacea/ropacea/scs.py:32: RuntimeWarning:\n",
      "\n",
      "divide by zero encountered in scalar divide\n",
      "\n",
      "/home/josh/Documents/GitHub/ropacea/ropacea/scs.py:32: RuntimeWarning:\n",
      "\n",
      "divide by zero encountered in scalar divide\n",
      "\n",
      "/home/josh/Documents/GitHub/ropacea/ropacea/scs.py:32: RuntimeWarning:\n",
      "\n",
      "divide by zero encountered in scalar divide\n",
      "\n",
      "/home/josh/Documents/GitHub/ropacea/ropacea/scs.py:32: RuntimeWarning:\n",
      "\n",
      "divide by zero encountered in scalar divide\n",
      "\n",
      "/home/josh/Documents/GitHub/ropacea/ropacea/scs.py:32: RuntimeWarning:\n",
      "\n",
      "divide by zero encountered in scalar divide\n",
      "\n"
     ]
    },
    {
     "name": "stdout",
     "output_type": "stream",
     "text": [
      "monthly_portfolio_return = -0.0147\n",
      "risk_free_return = -0.0254\n",
      "mark_date = datetime.date(2021, 3, 1)\n",
      "monthly_portfolio_return = -0.0024\n",
      "risk_free_return = -0.0293\n",
      "mark_date = datetime.date(2021, 4, 1)\n",
      "monthly_portfolio_return = 0.0448\n",
      "risk_free_return = 0.0119\n",
      "mark_date = datetime.date(2021, 5, 1)\n",
      "monthly_portfolio_return = 0.0300\n",
      "risk_free_return = 0.0034\n",
      "mark_date = datetime.date(2021, 6, 1)\n",
      "monthly_portfolio_return = 0.0909\n",
      "risk_free_return = 0.0141\n",
      "mark_date = datetime.date(2021, 7, 1)\n"
     ]
    },
    {
     "name": "stderr",
     "output_type": "stream",
     "text": [
      "/home/josh/Documents/GitHub/ropacea/ropacea/scs.py:32: RuntimeWarning:\n",
      "\n",
      "divide by zero encountered in scalar divide\n",
      "\n",
      "/home/josh/Documents/GitHub/ropacea/ropacea/scs.py:32: RuntimeWarning:\n",
      "\n",
      "divide by zero encountered in scalar divide\n",
      "\n",
      "/home/josh/Documents/GitHub/ropacea/ropacea/scs.py:32: RuntimeWarning:\n",
      "\n",
      "divide by zero encountered in scalar divide\n",
      "\n",
      "/home/josh/Documents/GitHub/ropacea/ropacea/scs.py:32: RuntimeWarning:\n",
      "\n",
      "divide by zero encountered in scalar divide\n",
      "\n",
      "/home/josh/Documents/GitHub/ropacea/ropacea/scs.py:32: RuntimeWarning:\n",
      "\n",
      "divide by zero encountered in scalar divide\n",
      "\n"
     ]
    },
    {
     "name": "stdout",
     "output_type": "stream",
     "text": [
      "monthly_portfolio_return = 0.0423\n",
      "risk_free_return = 0.0238\n",
      "mark_date = datetime.date(2021, 8, 1)\n",
      "monthly_portfolio_return = 0.0609\n",
      "risk_free_return = -0.0048\n",
      "mark_date = datetime.date(2021, 9, 1)\n",
      "monthly_portfolio_return = -0.0681\n",
      "risk_free_return = -0.0154\n",
      "mark_date = datetime.date(2021, 10, 1)\n",
      "monthly_portfolio_return = 0.1193\n",
      "risk_free_return = -0.0049\n",
      "mark_date = datetime.date(2021, 11, 1)\n",
      "monthly_portfolio_return = 0.0358\n",
      "risk_free_return = 0.0125\n",
      "mark_date = datetime.date(2021, 12, 1)\n"
     ]
    },
    {
     "name": "stderr",
     "output_type": "stream",
     "text": [
      "/home/josh/Documents/GitHub/ropacea/ropacea/scs.py:32: RuntimeWarning:\n",
      "\n",
      "divide by zero encountered in scalar divide\n",
      "\n",
      "/home/josh/Documents/GitHub/ropacea/ropacea/scs.py:32: RuntimeWarning:\n",
      "\n",
      "divide by zero encountered in scalar divide\n",
      "\n",
      "/home/josh/Documents/GitHub/ropacea/ropacea/scs.py:32: RuntimeWarning:\n",
      "\n",
      "divide by zero encountered in scalar divide\n",
      "\n",
      "/home/josh/Documents/GitHub/ropacea/ropacea/scs.py:32: RuntimeWarning:\n",
      "\n",
      "divide by zero encountered in scalar divide\n",
      "\n",
      "/home/josh/Documents/GitHub/ropacea/ropacea/scs.py:32: RuntimeWarning:\n",
      "\n",
      "divide by zero encountered in scalar divide\n",
      "\n"
     ]
    },
    {
     "name": "stdout",
     "output_type": "stream",
     "text": [
      "monthly_portfolio_return = 0.0524\n",
      "risk_free_return = -0.0047\n",
      "========== SUMMARY ==========\n",
      "monthly_returns_bp_mean = 217.14\n",
      "monthly_returns_bp_std = 470.22\n",
      "annualized_mean_pct = 29.40\n",
      "annualized_std_pct = 16.29\n",
      "sharpe_ratio = 1.81\n",
      "mark_date = datetime.date(2017, 1, 1)\n",
      "monthly_portfolio_return = 0.0309\n",
      "risk_free_return = 0.0022\n",
      "mark_date = datetime.date(2017, 2, 1)\n",
      "monthly_portfolio_return = 0.0262\n",
      "risk_free_return = 0.0074\n",
      "mark_date = datetime.date(2017, 3, 1)\n",
      "monthly_portfolio_return = 0.0350\n",
      "risk_free_return = 0.0024\n",
      "mark_date = datetime.date(2017, 4, 1)\n"
     ]
    },
    {
     "name": "stderr",
     "output_type": "stream",
     "text": [
      "/home/josh/Documents/GitHub/ropacea/ropacea/scs.py:32: RuntimeWarning:\n",
      "\n",
      "divide by zero encountered in scalar divide\n",
      "\n",
      "/home/josh/Documents/GitHub/ropacea/ropacea/scs.py:32: RuntimeWarning:\n",
      "\n",
      "divide by zero encountered in scalar divide\n",
      "\n",
      "/home/josh/Documents/GitHub/ropacea/ropacea/scs.py:32: RuntimeWarning:\n",
      "\n",
      "divide by zero encountered in scalar divide\n",
      "\n",
      "/home/josh/Documents/GitHub/ropacea/ropacea/scs.py:32: RuntimeWarning:\n",
      "\n",
      "divide by zero encountered in scalar divide\n",
      "\n"
     ]
    },
    {
     "name": "stdout",
     "output_type": "stream",
     "text": [
      "monthly_portfolio_return = -0.0116\n",
      "risk_free_return = 0.0111\n",
      "mark_date = datetime.date(2017, 5, 1)\n",
      "monthly_portfolio_return = 0.0903\n",
      "risk_free_return = 0.0079\n",
      "mark_date = datetime.date(2017, 6, 1)\n",
      "monthly_portfolio_return = 0.0202\n",
      "risk_free_return = -0.0013\n",
      "mark_date = datetime.date(2017, 7, 1)\n",
      "monthly_portfolio_return = 0.0339\n",
      "risk_free_return = -0.0000\n",
      "mark_date = datetime.date(2017, 8, 1)\n",
      "monthly_portfolio_return = 0.0204\n",
      "risk_free_return = 0.0171\n",
      "mark_date = datetime.date(2017, 9, 1)\n"
     ]
    },
    {
     "name": "stderr",
     "output_type": "stream",
     "text": [
      "/home/josh/Documents/GitHub/ropacea/ropacea/scs.py:32: RuntimeWarning:\n",
      "\n",
      "divide by zero encountered in scalar divide\n",
      "\n",
      "/home/josh/Documents/GitHub/ropacea/ropacea/scs.py:32: RuntimeWarning:\n",
      "\n",
      "divide by zero encountered in scalar divide\n",
      "\n",
      "/home/josh/Documents/GitHub/ropacea/ropacea/scs.py:32: RuntimeWarning:\n",
      "\n",
      "divide by zero encountered in scalar divide\n",
      "\n",
      "/home/josh/Documents/GitHub/ropacea/ropacea/scs.py:32: RuntimeWarning:\n",
      "\n",
      "divide by zero encountered in scalar divide\n",
      "\n",
      "/home/josh/Documents/GitHub/ropacea/ropacea/scs.py:32: RuntimeWarning:\n",
      "\n",
      "divide by zero encountered in scalar divide\n",
      "\n"
     ]
    },
    {
     "name": "stdout",
     "output_type": "stream",
     "text": [
      "monthly_portfolio_return = 0.0198\n",
      "risk_free_return = -0.0172\n",
      "mark_date = datetime.date(2017, 10, 1)\n",
      "monthly_portfolio_return = 0.0674\n",
      "risk_free_return = -0.0011\n",
      "mark_date = datetime.date(2017, 11, 1)\n",
      "monthly_portfolio_return = 0.0214\n",
      "risk_free_return = -0.0026\n",
      "mark_date = datetime.date(2017, 12, 1)\n",
      "monthly_portfolio_return = -0.0068\n",
      "risk_free_return = 0.0022\n",
      "mark_date = datetime.date(2018, 1, 1)\n",
      "monthly_portfolio_return = 0.0892\n",
      "risk_free_return = -0.0236\n",
      "mark_date = datetime.date(2018, 2, 1)\n"
     ]
    },
    {
     "name": "stderr",
     "output_type": "stream",
     "text": [
      "/home/josh/Documents/GitHub/ropacea/ropacea/scs.py:32: RuntimeWarning:\n",
      "\n",
      "divide by zero encountered in scalar divide\n",
      "\n",
      "/home/josh/Documents/GitHub/ropacea/ropacea/scs.py:32: RuntimeWarning:\n",
      "\n",
      "divide by zero encountered in scalar divide\n",
      "\n",
      "/home/josh/Documents/GitHub/ropacea/ropacea/scs.py:32: RuntimeWarning:\n",
      "\n",
      "divide by zero encountered in scalar divide\n",
      "\n",
      "/home/josh/Documents/GitHub/ropacea/ropacea/scs.py:32: RuntimeWarning:\n",
      "\n",
      "divide by zero encountered in scalar divide\n",
      "\n",
      "/home/josh/Documents/GitHub/ropacea/ropacea/scs.py:32: RuntimeWarning:\n",
      "\n",
      "divide by zero encountered in scalar divide\n",
      "\n"
     ]
    },
    {
     "name": "stdout",
     "output_type": "stream",
     "text": [
      "monthly_portfolio_return = -0.0334\n",
      "risk_free_return = -0.0130\n",
      "mark_date = datetime.date(2018, 3, 1)\n",
      "monthly_portfolio_return = -0.0116\n",
      "risk_free_return = 0.0128\n",
      "mark_date = datetime.date(2018, 4, 1)\n",
      "monthly_portfolio_return = 0.0268\n",
      "risk_free_return = -0.0155\n",
      "mark_date = datetime.date(2018, 5, 1)\n",
      "monthly_portfolio_return = 0.0489\n",
      "risk_free_return = 0.0096\n",
      "mark_date = datetime.date(2018, 6, 1)\n",
      "monthly_portfolio_return = -0.0083\n",
      "risk_free_return = 0.0023\n",
      "mark_date = datetime.date(2018, 7, 1)\n"
     ]
    },
    {
     "name": "stderr",
     "output_type": "stream",
     "text": [
      "/home/josh/Documents/GitHub/ropacea/ropacea/scs.py:32: RuntimeWarning:\n",
      "\n",
      "divide by zero encountered in scalar divide\n",
      "\n",
      "/home/josh/Documents/GitHub/ropacea/ropacea/scs.py:32: RuntimeWarning:\n",
      "\n",
      "divide by zero encountered in scalar divide\n",
      "\n",
      "/home/josh/Documents/GitHub/ropacea/ropacea/scs.py:32: RuntimeWarning:\n",
      "\n",
      "divide by zero encountered in scalar divide\n",
      "\n",
      "/home/josh/Documents/GitHub/ropacea/ropacea/scs.py:32: RuntimeWarning:\n",
      "\n",
      "divide by zero encountered in scalar divide\n",
      "\n",
      "/home/josh/Documents/GitHub/ropacea/ropacea/scs.py:32: RuntimeWarning:\n",
      "\n",
      "divide by zero encountered in scalar divide\n",
      "\n"
     ]
    },
    {
     "name": "stdout",
     "output_type": "stream",
     "text": [
      "monthly_portfolio_return = 0.0729\n",
      "risk_free_return = -0.0051\n",
      "mark_date = datetime.date(2018, 8, 1)\n",
      "monthly_portfolio_return = 0.0814\n",
      "risk_free_return = 0.0101\n",
      "mark_date = datetime.date(2018, 9, 1)\n",
      "monthly_portfolio_return = 0.0168\n",
      "risk_free_return = -0.0148\n",
      "mark_date = datetime.date(2018, 10, 1)\n",
      "monthly_portfolio_return = -0.0528\n",
      "risk_free_return = -0.0043\n",
      "mark_date = datetime.date(2018, 11, 1)\n"
     ]
    },
    {
     "name": "stderr",
     "output_type": "stream",
     "text": [
      "/home/josh/Documents/GitHub/ropacea/ropacea/scs.py:32: RuntimeWarning:\n",
      "\n",
      "divide by zero encountered in scalar divide\n",
      "\n",
      "/home/josh/Documents/GitHub/ropacea/ropacea/scs.py:32: RuntimeWarning:\n",
      "\n",
      "divide by zero encountered in scalar divide\n",
      "\n",
      "/home/josh/Documents/GitHub/ropacea/ropacea/scs.py:32: RuntimeWarning:\n",
      "\n",
      "divide by zero encountered in scalar divide\n",
      "\n",
      "/home/josh/Documents/GitHub/ropacea/ropacea/scs.py:32: RuntimeWarning:\n",
      "\n",
      "divide by zero encountered in scalar divide\n",
      "\n"
     ]
    },
    {
     "name": "stdout",
     "output_type": "stream",
     "text": [
      "monthly_portfolio_return = 0.0294\n",
      "risk_free_return = 0.0149\n",
      "mark_date = datetime.date(2018, 12, 1)\n",
      "monthly_portfolio_return = -0.0709\n",
      "risk_free_return = 0.0286\n",
      "mark_date = datetime.date(2019, 1, 1)\n",
      "monthly_portfolio_return = 0.0393\n",
      "risk_free_return = 0.0071\n",
      "mark_date = datetime.date(2019, 2, 1)\n",
      "monthly_portfolio_return = 0.0576\n",
      "risk_free_return = -0.0043\n",
      "mark_date = datetime.date(2019, 3, 1)\n"
     ]
    },
    {
     "name": "stderr",
     "output_type": "stream",
     "text": [
      "/home/josh/Documents/GitHub/ropacea/ropacea/scs.py:32: RuntimeWarning:\n",
      "\n",
      "divide by zero encountered in scalar divide\n",
      "\n",
      "/home/josh/Documents/GitHub/ropacea/ropacea/scs.py:32: RuntimeWarning:\n",
      "\n",
      "divide by zero encountered in scalar divide\n",
      "\n",
      "/home/josh/Documents/GitHub/ropacea/ropacea/scs.py:32: RuntimeWarning:\n",
      "\n",
      "divide by zero encountered in scalar divide\n",
      "\n",
      "/home/josh/Documents/GitHub/ropacea/ropacea/scs.py:32: RuntimeWarning:\n",
      "\n",
      "divide by zero encountered in scalar divide\n",
      "\n"
     ]
    },
    {
     "name": "stdout",
     "output_type": "stream",
     "text": [
      "monthly_portfolio_return = 0.0520\n",
      "risk_free_return = 0.0294\n",
      "mark_date = datetime.date(2019, 4, 1)\n",
      "monthly_portfolio_return = -0.0111\n",
      "risk_free_return = -0.0062\n",
      "mark_date = datetime.date(2019, 5, 1)\n",
      "monthly_portfolio_return = -0.0428\n",
      "risk_free_return = 0.0319\n",
      "mark_date = datetime.date(2019, 6, 1)\n",
      "monthly_portfolio_return = 0.0388\n",
      "risk_free_return = 0.0121\n",
      "mark_date = datetime.date(2019, 7, 1)\n"
     ]
    },
    {
     "name": "stderr",
     "output_type": "stream",
     "text": [
      "/home/josh/Documents/GitHub/ropacea/ropacea/scs.py:32: RuntimeWarning:\n",
      "\n",
      "divide by zero encountered in scalar divide\n",
      "\n",
      "/home/josh/Documents/GitHub/ropacea/ropacea/scs.py:32: RuntimeWarning:\n",
      "\n",
      "divide by zero encountered in scalar divide\n",
      "\n",
      "/home/josh/Documents/GitHub/ropacea/ropacea/scs.py:32: RuntimeWarning:\n",
      "\n",
      "divide by zero encountered in scalar divide\n",
      "\n"
     ]
    },
    {
     "name": "stdout",
     "output_type": "stream",
     "text": [
      "monthly_portfolio_return = 0.0120\n",
      "risk_free_return = 0.0034\n",
      "mark_date = datetime.date(2019, 8, 1)\n",
      "monthly_portfolio_return = 0.0279\n",
      "risk_free_return = 0.0403\n",
      "mark_date = datetime.date(2019, 9, 1)\n",
      "monthly_portfolio_return = -0.0126\n",
      "risk_free_return = -0.0139\n",
      "mark_date = datetime.date(2019, 10, 1)\n"
     ]
    },
    {
     "name": "stderr",
     "output_type": "stream",
     "text": [
      "/home/josh/Documents/GitHub/ropacea/ropacea/scs.py:32: RuntimeWarning:\n",
      "\n",
      "divide by zero encountered in scalar divide\n",
      "\n",
      "/home/josh/Documents/GitHub/ropacea/ropacea/scs.py:32: RuntimeWarning:\n",
      "\n",
      "divide by zero encountered in scalar divide\n",
      "\n",
      "/home/josh/Documents/GitHub/ropacea/ropacea/scs.py:32: RuntimeWarning:\n",
      "\n",
      "divide by zero encountered in scalar divide\n",
      "\n",
      "/home/josh/Documents/GitHub/ropacea/ropacea/scs.py:32: RuntimeWarning:\n",
      "\n",
      "divide by zero encountered in scalar divide\n",
      "\n"
     ]
    },
    {
     "name": "stdout",
     "output_type": "stream",
     "text": [
      "monthly_portfolio_return = -0.0022\n",
      "risk_free_return = -0.0007\n",
      "mark_date = datetime.date(2019, 11, 1)\n",
      "monthly_portfolio_return = 0.0354\n",
      "risk_free_return = -0.0074\n",
      "mark_date = datetime.date(2019, 12, 1)\n",
      "monthly_portfolio_return = 0.0610\n",
      "risk_free_return = -0.0113\n",
      "mark_date = datetime.date(2020, 1, 1)\n",
      "monthly_portfolio_return = 0.0606\n",
      "risk_free_return = 0.0392\n",
      "mark_date = datetime.date(2020, 2, 1)\n",
      "monthly_portfolio_return = -0.0521\n",
      "risk_free_return = 0.0299\n",
      "mark_date = datetime.date(2020, 3, 1)\n"
     ]
    },
    {
     "name": "stderr",
     "output_type": "stream",
     "text": [
      "/home/josh/Documents/GitHub/ropacea/ropacea/scs.py:32: RuntimeWarning:\n",
      "\n",
      "divide by zero encountered in scalar divide\n",
      "\n",
      "/home/josh/Documents/GitHub/ropacea/ropacea/scs.py:32: RuntimeWarning:\n",
      "\n",
      "divide by zero encountered in scalar divide\n",
      "\n",
      "/home/josh/Documents/GitHub/ropacea/ropacea/scs.py:32: RuntimeWarning:\n",
      "\n",
      "divide by zero encountered in scalar divide\n",
      "\n",
      "/home/josh/Documents/GitHub/ropacea/ropacea/scs.py:32: RuntimeWarning:\n",
      "\n",
      "divide by zero encountered in scalar divide\n",
      "\n",
      "/home/josh/Documents/GitHub/ropacea/ropacea/scs.py:32: RuntimeWarning:\n",
      "\n",
      "divide by zero encountered in scalar divide\n",
      "\n"
     ]
    },
    {
     "name": "stdout",
     "output_type": "stream",
     "text": [
      "monthly_portfolio_return = -0.0504\n",
      "risk_free_return = 0.0397\n",
      "mark_date = datetime.date(2020, 4, 1)\n",
      "monthly_portfolio_return = 0.1057\n",
      "risk_free_return = 0.0050\n",
      "mark_date = datetime.date(2020, 5, 1)\n",
      "monthly_portfolio_return = 0.0371\n",
      "risk_free_return = 0.0007\n",
      "mark_date = datetime.date(2020, 6, 1)\n",
      "monthly_portfolio_return = 0.0467\n",
      "risk_free_return = 0.0004\n",
      "mark_date = datetime.date(2020, 7, 1)\n",
      "monthly_portfolio_return = 0.0359\n",
      "risk_free_return = 0.0128\n",
      "mark_date = datetime.date(2020, 8, 1)\n"
     ]
    },
    {
     "name": "stderr",
     "output_type": "stream",
     "text": [
      "/home/josh/Documents/GitHub/ropacea/ropacea/scs.py:32: RuntimeWarning:\n",
      "\n",
      "divide by zero encountered in scalar divide\n",
      "\n",
      "/home/josh/Documents/GitHub/ropacea/ropacea/scs.py:32: RuntimeWarning:\n",
      "\n",
      "divide by zero encountered in scalar divide\n",
      "\n",
      "/home/josh/Documents/GitHub/ropacea/ropacea/scs.py:32: RuntimeWarning:\n",
      "\n",
      "divide by zero encountered in scalar divide\n",
      "\n",
      "/home/josh/Documents/GitHub/ropacea/ropacea/scs.py:32: RuntimeWarning:\n",
      "\n",
      "divide by zero encountered in scalar divide\n",
      "\n",
      "/home/josh/Documents/GitHub/ropacea/ropacea/scs.py:32: RuntimeWarning:\n",
      "\n",
      "divide by zero encountered in scalar divide\n",
      "\n"
     ]
    },
    {
     "name": "stdout",
     "output_type": "stream",
     "text": [
      "monthly_portfolio_return = 0.0927\n",
      "risk_free_return = -0.0147\n",
      "mark_date = datetime.date(2020, 9, 1)\n",
      "monthly_portfolio_return = -0.0098\n",
      "risk_free_return = 0.0026\n",
      "mark_date = datetime.date(2020, 10, 1)\n",
      "monthly_portfolio_return = -0.0540\n",
      "risk_free_return = -0.0173\n",
      "mark_date = datetime.date(2020, 11, 1)\n",
      "monthly_portfolio_return = 0.0595\n",
      "risk_free_return = 0.0040\n",
      "mark_date = datetime.date(2020, 12, 1)\n",
      "monthly_portfolio_return = 0.0133\n",
      "risk_free_return = -0.0050\n",
      "mark_date = datetime.date(2021, 1, 1)\n"
     ]
    },
    {
     "name": "stderr",
     "output_type": "stream",
     "text": [
      "/home/josh/Documents/GitHub/ropacea/ropacea/scs.py:32: RuntimeWarning:\n",
      "\n",
      "divide by zero encountered in scalar divide\n",
      "\n",
      "/home/josh/Documents/GitHub/ropacea/ropacea/scs.py:32: RuntimeWarning:\n",
      "\n",
      "divide by zero encountered in scalar divide\n",
      "\n",
      "/home/josh/Documents/GitHub/ropacea/ropacea/scs.py:32: RuntimeWarning:\n",
      "\n",
      "divide by zero encountered in scalar divide\n",
      "\n",
      "/home/josh/Documents/GitHub/ropacea/ropacea/scs.py:32: RuntimeWarning:\n",
      "\n",
      "divide by zero encountered in scalar divide\n",
      "\n",
      "/home/josh/Documents/GitHub/ropacea/ropacea/scs.py:32: RuntimeWarning:\n",
      "\n",
      "divide by zero encountered in scalar divide\n",
      "\n"
     ]
    },
    {
     "name": "stdout",
     "output_type": "stream",
     "text": [
      "monthly_portfolio_return = 0.0222\n",
      "risk_free_return = -0.0107\n",
      "mark_date = datetime.date(2021, 2, 1)\n",
      "monthly_portfolio_return = -0.0145\n",
      "risk_free_return = -0.0254\n",
      "mark_date = datetime.date(2021, 3, 1)\n",
      "monthly_portfolio_return = -0.0040\n",
      "risk_free_return = -0.0293\n",
      "mark_date = datetime.date(2021, 4, 1)\n",
      "monthly_portfolio_return = 0.0460\n",
      "risk_free_return = 0.0119\n",
      "mark_date = datetime.date(2021, 5, 1)\n",
      "monthly_portfolio_return = 0.0300\n",
      "risk_free_return = 0.0034\n",
      "mark_date = datetime.date(2021, 6, 1)\n"
     ]
    },
    {
     "name": "stderr",
     "output_type": "stream",
     "text": [
      "/home/josh/Documents/GitHub/ropacea/ropacea/scs.py:32: RuntimeWarning:\n",
      "\n",
      "divide by zero encountered in scalar divide\n",
      "\n",
      "/home/josh/Documents/GitHub/ropacea/ropacea/scs.py:32: RuntimeWarning:\n",
      "\n",
      "divide by zero encountered in scalar divide\n",
      "\n",
      "/home/josh/Documents/GitHub/ropacea/ropacea/scs.py:32: RuntimeWarning:\n",
      "\n",
      "divide by zero encountered in scalar divide\n",
      "\n",
      "/home/josh/Documents/GitHub/ropacea/ropacea/scs.py:32: RuntimeWarning:\n",
      "\n",
      "divide by zero encountered in scalar divide\n",
      "\n",
      "/home/josh/Documents/GitHub/ropacea/ropacea/scs.py:32: RuntimeWarning:\n",
      "\n",
      "divide by zero encountered in scalar divide\n",
      "\n"
     ]
    },
    {
     "name": "stdout",
     "output_type": "stream",
     "text": [
      "monthly_portfolio_return = 0.0935\n",
      "risk_free_return = 0.0141\n",
      "mark_date = datetime.date(2021, 7, 1)\n",
      "monthly_portfolio_return = 0.0424\n",
      "risk_free_return = 0.0238\n",
      "mark_date = datetime.date(2021, 8, 1)\n",
      "monthly_portfolio_return = 0.0625\n",
      "risk_free_return = -0.0048\n",
      "mark_date = datetime.date(2021, 9, 1)\n",
      "monthly_portfolio_return = -0.0690\n",
      "risk_free_return = -0.0154\n",
      "mark_date = datetime.date(2021, 10, 1)\n",
      "monthly_portfolio_return = 0.1217\n",
      "risk_free_return = -0.0049\n",
      "mark_date = datetime.date(2021, 11, 1)\n"
     ]
    },
    {
     "name": "stderr",
     "output_type": "stream",
     "text": [
      "/home/josh/Documents/GitHub/ropacea/ropacea/scs.py:32: RuntimeWarning:\n",
      "\n",
      "divide by zero encountered in scalar divide\n",
      "\n",
      "/home/josh/Documents/GitHub/ropacea/ropacea/scs.py:32: RuntimeWarning:\n",
      "\n",
      "divide by zero encountered in scalar divide\n",
      "\n",
      "/home/josh/Documents/GitHub/ropacea/ropacea/scs.py:32: RuntimeWarning:\n",
      "\n",
      "divide by zero encountered in scalar divide\n",
      "\n",
      "/home/josh/Documents/GitHub/ropacea/ropacea/scs.py:32: RuntimeWarning:\n",
      "\n",
      "divide by zero encountered in scalar divide\n",
      "\n",
      "/home/josh/Documents/GitHub/ropacea/ropacea/scs.py:32: RuntimeWarning:\n",
      "\n",
      "divide by zero encountered in scalar divide\n",
      "\n"
     ]
    },
    {
     "name": "stdout",
     "output_type": "stream",
     "text": [
      "monthly_portfolio_return = 0.0371\n",
      "risk_free_return = 0.0125\n",
      "mark_date = datetime.date(2021, 12, 1)\n",
      "monthly_portfolio_return = 0.0502\n",
      "risk_free_return = -0.0047\n",
      "========== SUMMARY ==========\n",
      "monthly_returns_bp_mean = 219.37\n",
      "monthly_returns_bp_std = 474.90\n",
      "annualized_mean_pct = 29.75\n",
      "annualized_std_pct = 16.45\n",
      "sharpe_ratio = 1.81\n",
      "mark_date = datetime.date(2017, 1, 1)\n",
      "monthly_portfolio_return = 0.0321\n",
      "risk_free_return = 0.0022\n",
      "mark_date = datetime.date(2017, 2, 1)\n",
      "monthly_portfolio_return = 0.0253\n",
      "risk_free_return = 0.0074\n",
      "mark_date = datetime.date(2017, 3, 1)\n",
      "monthly_portfolio_return = 0.0358\n",
      "risk_free_return = 0.0024\n",
      "mark_date = datetime.date(2017, 4, 1)\n"
     ]
    },
    {
     "name": "stderr",
     "output_type": "stream",
     "text": [
      "/home/josh/Documents/GitHub/ropacea/ropacea/scs.py:32: RuntimeWarning:\n",
      "\n",
      "divide by zero encountered in scalar divide\n",
      "\n",
      "/home/josh/Documents/GitHub/ropacea/ropacea/scs.py:32: RuntimeWarning:\n",
      "\n",
      "divide by zero encountered in scalar divide\n",
      "\n",
      "/home/josh/Documents/GitHub/ropacea/ropacea/scs.py:32: RuntimeWarning:\n",
      "\n",
      "divide by zero encountered in scalar divide\n",
      "\n",
      "/home/josh/Documents/GitHub/ropacea/ropacea/scs.py:32: RuntimeWarning:\n",
      "\n",
      "divide by zero encountered in scalar divide\n",
      "\n",
      "/home/josh/Documents/GitHub/ropacea/ropacea/scs.py:32: RuntimeWarning:\n",
      "\n",
      "divide by zero encountered in scalar divide\n",
      "\n"
     ]
    },
    {
     "name": "stdout",
     "output_type": "stream",
     "text": [
      "monthly_portfolio_return = -0.0116\n",
      "risk_free_return = 0.0111\n",
      "mark_date = datetime.date(2017, 5, 1)\n",
      "monthly_portfolio_return = 0.0924\n",
      "risk_free_return = 0.0079\n",
      "mark_date = datetime.date(2017, 6, 1)\n",
      "monthly_portfolio_return = 0.0204\n",
      "risk_free_return = -0.0013\n",
      "mark_date = datetime.date(2017, 7, 1)\n",
      "monthly_portfolio_return = 0.0345\n",
      "risk_free_return = -0.0000\n",
      "mark_date = datetime.date(2017, 8, 1)\n",
      "monthly_portfolio_return = 0.0208\n",
      "risk_free_return = 0.0171\n",
      "mark_date = datetime.date(2017, 9, 1)\n"
     ]
    },
    {
     "name": "stderr",
     "output_type": "stream",
     "text": [
      "/home/josh/Documents/GitHub/ropacea/ropacea/scs.py:32: RuntimeWarning:\n",
      "\n",
      "divide by zero encountered in scalar divide\n",
      "\n",
      "/home/josh/Documents/GitHub/ropacea/ropacea/scs.py:32: RuntimeWarning:\n",
      "\n",
      "divide by zero encountered in scalar divide\n",
      "\n",
      "/home/josh/Documents/GitHub/ropacea/ropacea/scs.py:32: RuntimeWarning:\n",
      "\n",
      "divide by zero encountered in scalar divide\n",
      "\n",
      "/home/josh/Documents/GitHub/ropacea/ropacea/scs.py:32: RuntimeWarning:\n",
      "\n",
      "divide by zero encountered in scalar divide\n",
      "\n",
      "/home/josh/Documents/GitHub/ropacea/ropacea/scs.py:32: RuntimeWarning:\n",
      "\n",
      "divide by zero encountered in scalar divide\n",
      "\n"
     ]
    },
    {
     "name": "stdout",
     "output_type": "stream",
     "text": [
      "monthly_portfolio_return = 0.0196\n",
      "risk_free_return = -0.0172\n",
      "mark_date = datetime.date(2017, 10, 1)\n",
      "monthly_portfolio_return = 0.0683\n",
      "risk_free_return = -0.0011\n",
      "mark_date = datetime.date(2017, 11, 1)\n",
      "monthly_portfolio_return = 0.0212\n",
      "risk_free_return = -0.0026\n",
      "mark_date = datetime.date(2017, 12, 1)\n",
      "monthly_portfolio_return = -0.0076\n",
      "risk_free_return = 0.0022\n",
      "mark_date = datetime.date(2018, 1, 1)\n",
      "monthly_portfolio_return = 0.0908\n",
      "risk_free_return = -0.0236\n",
      "mark_date = datetime.date(2018, 2, 1)\n"
     ]
    },
    {
     "name": "stderr",
     "output_type": "stream",
     "text": [
      "/home/josh/Documents/GitHub/ropacea/ropacea/scs.py:32: RuntimeWarning:\n",
      "\n",
      "divide by zero encountered in scalar divide\n",
      "\n",
      "/home/josh/Documents/GitHub/ropacea/ropacea/scs.py:32: RuntimeWarning:\n",
      "\n",
      "divide by zero encountered in scalar divide\n",
      "\n",
      "/home/josh/Documents/GitHub/ropacea/ropacea/scs.py:32: RuntimeWarning:\n",
      "\n",
      "divide by zero encountered in scalar divide\n",
      "\n",
      "/home/josh/Documents/GitHub/ropacea/ropacea/scs.py:32: RuntimeWarning:\n",
      "\n",
      "divide by zero encountered in scalar divide\n",
      "\n",
      "/home/josh/Documents/GitHub/ropacea/ropacea/scs.py:32: RuntimeWarning:\n",
      "\n",
      "divide by zero encountered in scalar divide\n",
      "\n"
     ]
    },
    {
     "name": "stdout",
     "output_type": "stream",
     "text": [
      "monthly_portfolio_return = -0.0320\n",
      "risk_free_return = -0.0130\n",
      "mark_date = datetime.date(2018, 3, 1)\n",
      "monthly_portfolio_return = -0.0116\n",
      "risk_free_return = 0.0128\n",
      "mark_date = datetime.date(2018, 4, 1)\n",
      "monthly_portfolio_return = 0.0263\n",
      "risk_free_return = -0.0155\n",
      "mark_date = datetime.date(2018, 5, 1)\n",
      "monthly_portfolio_return = 0.0503\n",
      "risk_free_return = 0.0096\n",
      "mark_date = datetime.date(2018, 6, 1)\n",
      "monthly_portfolio_return = -0.0088\n",
      "risk_free_return = 0.0023\n",
      "mark_date = datetime.date(2018, 7, 1)\n"
     ]
    },
    {
     "name": "stderr",
     "output_type": "stream",
     "text": [
      "/home/josh/Documents/GitHub/ropacea/ropacea/scs.py:32: RuntimeWarning:\n",
      "\n",
      "divide by zero encountered in scalar divide\n",
      "\n",
      "/home/josh/Documents/GitHub/ropacea/ropacea/scs.py:32: RuntimeWarning:\n",
      "\n",
      "divide by zero encountered in scalar divide\n",
      "\n",
      "/home/josh/Documents/GitHub/ropacea/ropacea/scs.py:32: RuntimeWarning:\n",
      "\n",
      "divide by zero encountered in scalar divide\n",
      "\n",
      "/home/josh/Documents/GitHub/ropacea/ropacea/scs.py:32: RuntimeWarning:\n",
      "\n",
      "divide by zero encountered in scalar divide\n",
      "\n",
      "/home/josh/Documents/GitHub/ropacea/ropacea/scs.py:32: RuntimeWarning:\n",
      "\n",
      "divide by zero encountered in scalar divide\n",
      "\n"
     ]
    },
    {
     "name": "stdout",
     "output_type": "stream",
     "text": [
      "monthly_portfolio_return = 0.0729\n",
      "risk_free_return = -0.0051\n",
      "mark_date = datetime.date(2018, 8, 1)\n",
      "monthly_portfolio_return = 0.0817\n",
      "risk_free_return = 0.0101\n",
      "mark_date = datetime.date(2018, 9, 1)\n",
      "monthly_portfolio_return = 0.0170\n",
      "risk_free_return = -0.0148\n",
      "mark_date = datetime.date(2018, 10, 1)\n",
      "monthly_portfolio_return = -0.0546\n",
      "risk_free_return = -0.0043\n",
      "mark_date = datetime.date(2018, 11, 1)\n",
      "monthly_portfolio_return = 0.0276\n",
      "risk_free_return = 0.0149\n",
      "mark_date = datetime.date(2018, 12, 1)\n"
     ]
    },
    {
     "name": "stderr",
     "output_type": "stream",
     "text": [
      "/home/josh/Documents/GitHub/ropacea/ropacea/scs.py:32: RuntimeWarning:\n",
      "\n",
      "divide by zero encountered in scalar divide\n",
      "\n",
      "/home/josh/Documents/GitHub/ropacea/ropacea/scs.py:32: RuntimeWarning:\n",
      "\n",
      "divide by zero encountered in scalar divide\n",
      "\n",
      "/home/josh/Documents/GitHub/ropacea/ropacea/scs.py:32: RuntimeWarning:\n",
      "\n",
      "divide by zero encountered in scalar divide\n",
      "\n",
      "/home/josh/Documents/GitHub/ropacea/ropacea/scs.py:32: RuntimeWarning:\n",
      "\n",
      "divide by zero encountered in scalar divide\n",
      "\n"
     ]
    },
    {
     "name": "stdout",
     "output_type": "stream",
     "text": [
      "monthly_portfolio_return = -0.0718\n",
      "risk_free_return = 0.0286\n",
      "mark_date = datetime.date(2019, 1, 1)\n",
      "monthly_portfolio_return = 0.0391\n",
      "risk_free_return = 0.0071\n",
      "mark_date = datetime.date(2019, 2, 1)\n",
      "monthly_portfolio_return = 0.0579\n",
      "risk_free_return = -0.0043\n",
      "mark_date = datetime.date(2019, 3, 1)\n",
      "monthly_portfolio_return = 0.0529\n",
      "risk_free_return = 0.0294\n",
      "mark_date = datetime.date(2019, 4, 1)\n"
     ]
    },
    {
     "name": "stderr",
     "output_type": "stream",
     "text": [
      "/home/josh/Documents/GitHub/ropacea/ropacea/scs.py:32: RuntimeWarning:\n",
      "\n",
      "divide by zero encountered in scalar divide\n",
      "\n",
      "/home/josh/Documents/GitHub/ropacea/ropacea/scs.py:32: RuntimeWarning:\n",
      "\n",
      "divide by zero encountered in scalar divide\n",
      "\n",
      "/home/josh/Documents/GitHub/ropacea/ropacea/scs.py:32: RuntimeWarning:\n",
      "\n",
      "divide by zero encountered in scalar divide\n",
      "\n",
      "/home/josh/Documents/GitHub/ropacea/ropacea/scs.py:32: RuntimeWarning:\n",
      "\n",
      "divide by zero encountered in scalar divide\n",
      "\n"
     ]
    },
    {
     "name": "stdout",
     "output_type": "stream",
     "text": [
      "monthly_portfolio_return = -0.0117\n",
      "risk_free_return = -0.0062\n",
      "mark_date = datetime.date(2019, 5, 1)\n",
      "monthly_portfolio_return = -0.0445\n",
      "risk_free_return = 0.0319\n",
      "mark_date = datetime.date(2019, 6, 1)\n",
      "monthly_portfolio_return = 0.0404\n",
      "risk_free_return = 0.0121\n",
      "mark_date = datetime.date(2019, 7, 1)\n",
      "monthly_portfolio_return = 0.0123\n",
      "risk_free_return = 0.0034\n",
      "mark_date = datetime.date(2019, 8, 1)\n"
     ]
    },
    {
     "name": "stderr",
     "output_type": "stream",
     "text": [
      "/home/josh/Documents/GitHub/ropacea/ropacea/scs.py:32: RuntimeWarning:\n",
      "\n",
      "divide by zero encountered in scalar divide\n",
      "\n",
      "/home/josh/Documents/GitHub/ropacea/ropacea/scs.py:32: RuntimeWarning:\n",
      "\n",
      "divide by zero encountered in scalar divide\n",
      "\n",
      "/home/josh/Documents/GitHub/ropacea/ropacea/scs.py:32: RuntimeWarning:\n",
      "\n",
      "divide by zero encountered in scalar divide\n",
      "\n",
      "/home/josh/Documents/GitHub/ropacea/ropacea/scs.py:32: RuntimeWarning:\n",
      "\n",
      "divide by zero encountered in scalar divide\n",
      "\n",
      "/home/josh/Documents/GitHub/ropacea/ropacea/scs.py:32: RuntimeWarning:\n",
      "\n",
      "divide by zero encountered in scalar divide\n",
      "\n"
     ]
    },
    {
     "name": "stdout",
     "output_type": "stream",
     "text": [
      "monthly_portfolio_return = 0.0271\n",
      "risk_free_return = 0.0403\n",
      "mark_date = datetime.date(2019, 9, 1)\n",
      "monthly_portfolio_return = -0.0130\n",
      "risk_free_return = -0.0139\n",
      "mark_date = datetime.date(2019, 10, 1)\n",
      "monthly_portfolio_return = -0.0012\n",
      "risk_free_return = -0.0007\n",
      "mark_date = datetime.date(2019, 11, 1)\n",
      "monthly_portfolio_return = 0.0364\n",
      "risk_free_return = -0.0074\n",
      "mark_date = datetime.date(2019, 12, 1)\n",
      "monthly_portfolio_return = 0.0615\n",
      "risk_free_return = -0.0113\n",
      "mark_date = datetime.date(2020, 1, 1)\n"
     ]
    },
    {
     "name": "stderr",
     "output_type": "stream",
     "text": [
      "/home/josh/Documents/GitHub/ropacea/ropacea/scs.py:32: RuntimeWarning:\n",
      "\n",
      "divide by zero encountered in scalar divide\n",
      "\n",
      "/home/josh/Documents/GitHub/ropacea/ropacea/scs.py:32: RuntimeWarning:\n",
      "\n",
      "divide by zero encountered in scalar divide\n",
      "\n",
      "/home/josh/Documents/GitHub/ropacea/ropacea/scs.py:32: RuntimeWarning:\n",
      "\n",
      "divide by zero encountered in scalar divide\n",
      "\n",
      "/home/josh/Documents/GitHub/ropacea/ropacea/scs.py:32: RuntimeWarning:\n",
      "\n",
      "divide by zero encountered in scalar divide\n",
      "\n",
      "/home/josh/Documents/GitHub/ropacea/ropacea/scs.py:32: RuntimeWarning:\n",
      "\n",
      "divide by zero encountered in scalar divide\n",
      "\n"
     ]
    },
    {
     "name": "stdout",
     "output_type": "stream",
     "text": [
      "monthly_portfolio_return = 0.0600\n",
      "risk_free_return = 0.0392\n",
      "mark_date = datetime.date(2020, 2, 1)\n",
      "monthly_portfolio_return = -0.0504\n",
      "risk_free_return = 0.0299\n",
      "mark_date = datetime.date(2020, 3, 1)\n",
      "monthly_portfolio_return = -0.0506\n",
      "risk_free_return = 0.0397\n",
      "mark_date = datetime.date(2020, 4, 1)\n",
      "monthly_portfolio_return = 0.1064\n",
      "risk_free_return = 0.0050\n",
      "mark_date = datetime.date(2020, 5, 1)\n",
      "monthly_portfolio_return = 0.0381\n",
      "risk_free_return = 0.0007\n",
      "mark_date = datetime.date(2020, 6, 1)\n"
     ]
    },
    {
     "name": "stderr",
     "output_type": "stream",
     "text": [
      "/home/josh/Documents/GitHub/ropacea/ropacea/scs.py:32: RuntimeWarning:\n",
      "\n",
      "divide by zero encountered in scalar divide\n",
      "\n",
      "/home/josh/Documents/GitHub/ropacea/ropacea/scs.py:32: RuntimeWarning:\n",
      "\n",
      "divide by zero encountered in scalar divide\n",
      "\n",
      "/home/josh/Documents/GitHub/ropacea/ropacea/scs.py:32: RuntimeWarning:\n",
      "\n",
      "divide by zero encountered in scalar divide\n",
      "\n",
      "/home/josh/Documents/GitHub/ropacea/ropacea/scs.py:32: RuntimeWarning:\n",
      "\n",
      "divide by zero encountered in scalar divide\n",
      "\n",
      "/home/josh/Documents/GitHub/ropacea/ropacea/scs.py:32: RuntimeWarning:\n",
      "\n",
      "divide by zero encountered in scalar divide\n",
      "\n"
     ]
    },
    {
     "name": "stdout",
     "output_type": "stream",
     "text": [
      "monthly_portfolio_return = 0.0480\n",
      "risk_free_return = 0.0004\n",
      "mark_date = datetime.date(2020, 7, 1)\n",
      "monthly_portfolio_return = 0.0354\n",
      "risk_free_return = 0.0128\n",
      "mark_date = datetime.date(2020, 8, 1)\n",
      "monthly_portfolio_return = 0.0936\n",
      "risk_free_return = -0.0147\n",
      "mark_date = datetime.date(2020, 9, 1)\n",
      "monthly_portfolio_return = -0.0100\n",
      "risk_free_return = 0.0026\n",
      "mark_date = datetime.date(2020, 10, 1)\n",
      "monthly_portfolio_return = -0.0539\n",
      "risk_free_return = -0.0173\n",
      "mark_date = datetime.date(2020, 11, 1)\n"
     ]
    },
    {
     "name": "stderr",
     "output_type": "stream",
     "text": [
      "/home/josh/Documents/GitHub/ropacea/ropacea/scs.py:32: RuntimeWarning:\n",
      "\n",
      "divide by zero encountered in scalar divide\n",
      "\n",
      "/home/josh/Documents/GitHub/ropacea/ropacea/scs.py:32: RuntimeWarning:\n",
      "\n",
      "divide by zero encountered in scalar divide\n",
      "\n",
      "/home/josh/Documents/GitHub/ropacea/ropacea/scs.py:32: RuntimeWarning:\n",
      "\n",
      "divide by zero encountered in scalar divide\n",
      "\n",
      "/home/josh/Documents/GitHub/ropacea/ropacea/scs.py:32: RuntimeWarning:\n",
      "\n",
      "divide by zero encountered in scalar divide\n",
      "\n",
      "/home/josh/Documents/GitHub/ropacea/ropacea/scs.py:32: RuntimeWarning:\n",
      "\n",
      "divide by zero encountered in scalar divide\n",
      "\n"
     ]
    },
    {
     "name": "stdout",
     "output_type": "stream",
     "text": [
      "monthly_portfolio_return = 0.0590\n",
      "risk_free_return = 0.0040\n",
      "mark_date = datetime.date(2020, 12, 1)\n",
      "monthly_portfolio_return = 0.0127\n",
      "risk_free_return = -0.0050\n",
      "mark_date = datetime.date(2021, 1, 1)\n",
      "monthly_portfolio_return = 0.0228\n",
      "risk_free_return = -0.0107\n",
      "mark_date = datetime.date(2021, 2, 1)\n",
      "monthly_portfolio_return = -0.0143\n",
      "risk_free_return = -0.0254\n",
      "mark_date = datetime.date(2021, 3, 1)\n",
      "monthly_portfolio_return = -0.0056\n",
      "risk_free_return = -0.0293\n",
      "mark_date = datetime.date(2021, 4, 1)\n"
     ]
    },
    {
     "name": "stderr",
     "output_type": "stream",
     "text": [
      "/home/josh/Documents/GitHub/ropacea/ropacea/scs.py:32: RuntimeWarning:\n",
      "\n",
      "divide by zero encountered in scalar divide\n",
      "\n",
      "/home/josh/Documents/GitHub/ropacea/ropacea/scs.py:32: RuntimeWarning:\n",
      "\n",
      "divide by zero encountered in scalar divide\n",
      "\n",
      "/home/josh/Documents/GitHub/ropacea/ropacea/scs.py:32: RuntimeWarning:\n",
      "\n",
      "divide by zero encountered in scalar divide\n",
      "\n",
      "/home/josh/Documents/GitHub/ropacea/ropacea/scs.py:32: RuntimeWarning:\n",
      "\n",
      "divide by zero encountered in scalar divide\n",
      "\n",
      "/home/josh/Documents/GitHub/ropacea/ropacea/scs.py:32: RuntimeWarning:\n",
      "\n",
      "divide by zero encountered in scalar divide\n",
      "\n"
     ]
    },
    {
     "name": "stdout",
     "output_type": "stream",
     "text": [
      "monthly_portfolio_return = 0.0473\n",
      "risk_free_return = 0.0119\n",
      "mark_date = datetime.date(2021, 5, 1)\n",
      "monthly_portfolio_return = 0.0301\n",
      "risk_free_return = 0.0034\n",
      "mark_date = datetime.date(2021, 6, 1)\n",
      "monthly_portfolio_return = 0.0960\n",
      "risk_free_return = 0.0141\n",
      "mark_date = datetime.date(2021, 7, 1)\n",
      "monthly_portfolio_return = 0.0424\n",
      "risk_free_return = 0.0238\n",
      "mark_date = datetime.date(2021, 8, 1)\n",
      "monthly_portfolio_return = 0.0641\n",
      "risk_free_return = -0.0048\n",
      "mark_date = datetime.date(2021, 9, 1)\n"
     ]
    },
    {
     "name": "stderr",
     "output_type": "stream",
     "text": [
      "/home/josh/Documents/GitHub/ropacea/ropacea/scs.py:32: RuntimeWarning:\n",
      "\n",
      "divide by zero encountered in scalar divide\n",
      "\n",
      "/home/josh/Documents/GitHub/ropacea/ropacea/scs.py:32: RuntimeWarning:\n",
      "\n",
      "divide by zero encountered in scalar divide\n",
      "\n",
      "/home/josh/Documents/GitHub/ropacea/ropacea/scs.py:32: RuntimeWarning:\n",
      "\n",
      "divide by zero encountered in scalar divide\n",
      "\n",
      "/home/josh/Documents/GitHub/ropacea/ropacea/scs.py:32: RuntimeWarning:\n",
      "\n",
      "divide by zero encountered in scalar divide\n",
      "\n",
      "/home/josh/Documents/GitHub/ropacea/ropacea/scs.py:32: RuntimeWarning:\n",
      "\n",
      "divide by zero encountered in scalar divide\n",
      "\n"
     ]
    },
    {
     "name": "stdout",
     "output_type": "stream",
     "text": [
      "monthly_portfolio_return = -0.0698\n",
      "risk_free_return = -0.0154\n",
      "mark_date = datetime.date(2021, 10, 1)\n",
      "monthly_portfolio_return = 0.1241\n",
      "risk_free_return = -0.0049\n",
      "mark_date = datetime.date(2021, 11, 1)\n",
      "monthly_portfolio_return = 0.0385\n",
      "risk_free_return = 0.0125\n",
      "mark_date = datetime.date(2021, 12, 1)\n",
      "monthly_portfolio_return = 0.0480\n",
      "risk_free_return = -0.0047\n",
      "========== SUMMARY ==========\n",
      "monthly_returns_bp_mean = 221.69\n",
      "monthly_returns_bp_std = 479.86\n",
      "annualized_mean_pct = 30.10\n",
      "annualized_std_pct = 16.62\n",
      "sharpe_ratio = 1.81\n",
      "mark_date = datetime.date(2017, 1, 1)\n",
      "monthly_portfolio_return = 0.0335\n",
      "risk_free_return = 0.0022\n",
      "mark_date = datetime.date(2017, 2, 1)\n"
     ]
    },
    {
     "name": "stderr",
     "output_type": "stream",
     "text": [
      "/home/josh/Documents/GitHub/ropacea/ropacea/scs.py:32: RuntimeWarning:\n",
      "\n",
      "divide by zero encountered in scalar divide\n",
      "\n",
      "/home/josh/Documents/GitHub/ropacea/ropacea/scs.py:32: RuntimeWarning:\n",
      "\n",
      "divide by zero encountered in scalar divide\n",
      "\n",
      "/home/josh/Documents/GitHub/ropacea/ropacea/scs.py:32: RuntimeWarning:\n",
      "\n",
      "divide by zero encountered in scalar divide\n",
      "\n",
      "/home/josh/Documents/GitHub/ropacea/ropacea/scs.py:32: RuntimeWarning:\n",
      "\n",
      "divide by zero encountered in scalar divide\n",
      "\n",
      "/home/josh/Documents/GitHub/ropacea/ropacea/scs.py:32: RuntimeWarning:\n",
      "\n",
      "divide by zero encountered in scalar divide\n",
      "\n"
     ]
    },
    {
     "name": "stdout",
     "output_type": "stream",
     "text": [
      "monthly_portfolio_return = 0.0244\n",
      "risk_free_return = 0.0074\n",
      "mark_date = datetime.date(2017, 3, 1)\n",
      "monthly_portfolio_return = 0.0365\n",
      "risk_free_return = 0.0024\n",
      "mark_date = datetime.date(2017, 4, 1)\n",
      "monthly_portfolio_return = -0.0120\n",
      "risk_free_return = 0.0111\n",
      "mark_date = datetime.date(2017, 5, 1)\n",
      "monthly_portfolio_return = 0.0945\n",
      "risk_free_return = 0.0079\n",
      "mark_date = datetime.date(2017, 6, 1)\n",
      "monthly_portfolio_return = 0.0204\n",
      "risk_free_return = -0.0013\n",
      "mark_date = datetime.date(2017, 7, 1)\n"
     ]
    },
    {
     "name": "stderr",
     "output_type": "stream",
     "text": [
      "/home/josh/Documents/GitHub/ropacea/ropacea/scs.py:32: RuntimeWarning:\n",
      "\n",
      "divide by zero encountered in scalar divide\n",
      "\n",
      "/home/josh/Documents/GitHub/ropacea/ropacea/scs.py:32: RuntimeWarning:\n",
      "\n",
      "divide by zero encountered in scalar divide\n",
      "\n",
      "/home/josh/Documents/GitHub/ropacea/ropacea/scs.py:32: RuntimeWarning:\n",
      "\n",
      "divide by zero encountered in scalar divide\n",
      "\n",
      "/home/josh/Documents/GitHub/ropacea/ropacea/scs.py:32: RuntimeWarning:\n",
      "\n",
      "divide by zero encountered in scalar divide\n",
      "\n",
      "/home/josh/Documents/GitHub/ropacea/ropacea/scs.py:32: RuntimeWarning:\n",
      "\n",
      "divide by zero encountered in scalar divide\n",
      "\n"
     ]
    },
    {
     "name": "stdout",
     "output_type": "stream",
     "text": [
      "monthly_portfolio_return = 0.0352\n",
      "risk_free_return = -0.0000\n",
      "mark_date = datetime.date(2017, 8, 1)\n",
      "monthly_portfolio_return = 0.0210\n",
      "risk_free_return = 0.0171\n",
      "mark_date = datetime.date(2017, 9, 1)\n",
      "monthly_portfolio_return = 0.0195\n",
      "risk_free_return = -0.0172\n",
      "mark_date = datetime.date(2017, 10, 1)\n",
      "monthly_portfolio_return = 0.0697\n",
      "risk_free_return = -0.0011\n",
      "mark_date = datetime.date(2017, 11, 1)\n",
      "monthly_portfolio_return = 0.0211\n",
      "risk_free_return = -0.0026\n",
      "mark_date = datetime.date(2017, 12, 1)\n"
     ]
    },
    {
     "name": "stderr",
     "output_type": "stream",
     "text": [
      "/home/josh/Documents/GitHub/ropacea/ropacea/scs.py:32: RuntimeWarning:\n",
      "\n",
      "divide by zero encountered in scalar divide\n",
      "\n",
      "/home/josh/Documents/GitHub/ropacea/ropacea/scs.py:32: RuntimeWarning:\n",
      "\n",
      "divide by zero encountered in scalar divide\n",
      "\n",
      "/home/josh/Documents/GitHub/ropacea/ropacea/scs.py:32: RuntimeWarning:\n",
      "\n",
      "divide by zero encountered in scalar divide\n",
      "\n",
      "/home/josh/Documents/GitHub/ropacea/ropacea/scs.py:32: RuntimeWarning:\n",
      "\n",
      "divide by zero encountered in scalar divide\n",
      "\n",
      "/home/josh/Documents/GitHub/ropacea/ropacea/scs.py:32: RuntimeWarning:\n",
      "\n",
      "divide by zero encountered in scalar divide\n",
      "\n"
     ]
    },
    {
     "name": "stdout",
     "output_type": "stream",
     "text": [
      "monthly_portfolio_return = -0.0084\n",
      "risk_free_return = 0.0022\n",
      "mark_date = datetime.date(2018, 1, 1)\n",
      "monthly_portfolio_return = 0.0924\n",
      "risk_free_return = -0.0236\n",
      "mark_date = datetime.date(2018, 2, 1)\n",
      "monthly_portfolio_return = -0.0305\n",
      "risk_free_return = -0.0130\n",
      "mark_date = datetime.date(2018, 3, 1)\n",
      "monthly_portfolio_return = -0.0115\n",
      "risk_free_return = 0.0128\n",
      "mark_date = datetime.date(2018, 4, 1)\n",
      "monthly_portfolio_return = 0.0258\n",
      "risk_free_return = -0.0155\n",
      "mark_date = datetime.date(2018, 5, 1)\n"
     ]
    },
    {
     "name": "stderr",
     "output_type": "stream",
     "text": [
      "/home/josh/Documents/GitHub/ropacea/ropacea/scs.py:32: RuntimeWarning:\n",
      "\n",
      "divide by zero encountered in scalar divide\n",
      "\n",
      "/home/josh/Documents/GitHub/ropacea/ropacea/scs.py:32: RuntimeWarning:\n",
      "\n",
      "divide by zero encountered in scalar divide\n",
      "\n",
      "/home/josh/Documents/GitHub/ropacea/ropacea/scs.py:32: RuntimeWarning:\n",
      "\n",
      "divide by zero encountered in scalar divide\n",
      "\n",
      "/home/josh/Documents/GitHub/ropacea/ropacea/scs.py:32: RuntimeWarning:\n",
      "\n",
      "divide by zero encountered in scalar divide\n",
      "\n",
      "/home/josh/Documents/GitHub/ropacea/ropacea/scs.py:32: RuntimeWarning:\n",
      "\n",
      "divide by zero encountered in scalar divide\n",
      "\n"
     ]
    },
    {
     "name": "stdout",
     "output_type": "stream",
     "text": [
      "monthly_portfolio_return = 0.0518\n",
      "risk_free_return = 0.0096\n",
      "mark_date = datetime.date(2018, 6, 1)\n",
      "monthly_portfolio_return = -0.0094\n",
      "risk_free_return = 0.0023\n",
      "mark_date = datetime.date(2018, 7, 1)\n",
      "monthly_portfolio_return = 0.0728\n",
      "risk_free_return = -0.0051\n",
      "mark_date = datetime.date(2018, 8, 1)\n",
      "monthly_portfolio_return = 0.0822\n",
      "risk_free_return = 0.0101\n",
      "mark_date = datetime.date(2018, 9, 1)\n",
      "monthly_portfolio_return = 0.0172\n",
      "risk_free_return = -0.0148\n",
      "mark_date = datetime.date(2018, 10, 1)\n"
     ]
    },
    {
     "name": "stderr",
     "output_type": "stream",
     "text": [
      "/home/josh/Documents/GitHub/ropacea/ropacea/scs.py:32: RuntimeWarning:\n",
      "\n",
      "divide by zero encountered in scalar divide\n",
      "\n",
      "/home/josh/Documents/GitHub/ropacea/ropacea/scs.py:32: RuntimeWarning:\n",
      "\n",
      "divide by zero encountered in scalar divide\n",
      "\n",
      "/home/josh/Documents/GitHub/ropacea/ropacea/scs.py:32: RuntimeWarning:\n",
      "\n",
      "divide by zero encountered in scalar divide\n",
      "\n",
      "/home/josh/Documents/GitHub/ropacea/ropacea/scs.py:32: RuntimeWarning:\n",
      "\n",
      "divide by zero encountered in scalar divide\n",
      "\n",
      "/home/josh/Documents/GitHub/ropacea/ropacea/scs.py:32: RuntimeWarning:\n",
      "\n",
      "divide by zero encountered in scalar divide\n",
      "\n"
     ]
    },
    {
     "name": "stdout",
     "output_type": "stream",
     "text": [
      "monthly_portfolio_return = -0.0567\n",
      "risk_free_return = -0.0043\n",
      "mark_date = datetime.date(2018, 11, 1)\n",
      "monthly_portfolio_return = 0.0257\n",
      "risk_free_return = 0.0149\n",
      "mark_date = datetime.date(2018, 12, 1)\n",
      "monthly_portfolio_return = -0.0728\n",
      "risk_free_return = 0.0286\n",
      "mark_date = datetime.date(2019, 1, 1)\n",
      "monthly_portfolio_return = 0.0389\n",
      "risk_free_return = 0.0071\n",
      "mark_date = datetime.date(2019, 2, 1)\n",
      "monthly_portfolio_return = 0.0582\n",
      "risk_free_return = -0.0043\n",
      "mark_date = datetime.date(2019, 3, 1)\n"
     ]
    },
    {
     "name": "stderr",
     "output_type": "stream",
     "text": [
      "/home/josh/Documents/GitHub/ropacea/ropacea/scs.py:32: RuntimeWarning:\n",
      "\n",
      "divide by zero encountered in scalar divide\n",
      "\n",
      "/home/josh/Documents/GitHub/ropacea/ropacea/scs.py:32: RuntimeWarning:\n",
      "\n",
      "divide by zero encountered in scalar divide\n",
      "\n",
      "/home/josh/Documents/GitHub/ropacea/ropacea/scs.py:32: RuntimeWarning:\n",
      "\n",
      "divide by zero encountered in scalar divide\n",
      "\n",
      "/home/josh/Documents/GitHub/ropacea/ropacea/scs.py:32: RuntimeWarning:\n",
      "\n",
      "divide by zero encountered in scalar divide\n",
      "\n"
     ]
    },
    {
     "name": "stdout",
     "output_type": "stream",
     "text": [
      "monthly_portfolio_return = 0.0539\n",
      "risk_free_return = 0.0294\n",
      "mark_date = datetime.date(2019, 4, 1)\n",
      "monthly_portfolio_return = -0.0124\n",
      "risk_free_return = -0.0062\n",
      "mark_date = datetime.date(2019, 5, 1)\n",
      "monthly_portfolio_return = -0.0465\n",
      "risk_free_return = 0.0319\n",
      "mark_date = datetime.date(2019, 6, 1)\n",
      "monthly_portfolio_return = 0.0420\n",
      "risk_free_return = 0.0121\n",
      "mark_date = datetime.date(2019, 7, 1)\n"
     ]
    },
    {
     "name": "stderr",
     "output_type": "stream",
     "text": [
      "/home/josh/Documents/GitHub/ropacea/ropacea/scs.py:32: RuntimeWarning:\n",
      "\n",
      "divide by zero encountered in scalar divide\n",
      "\n",
      "/home/josh/Documents/GitHub/ropacea/ropacea/scs.py:32: RuntimeWarning:\n",
      "\n",
      "divide by zero encountered in scalar divide\n",
      "\n",
      "/home/josh/Documents/GitHub/ropacea/ropacea/scs.py:32: RuntimeWarning:\n",
      "\n",
      "divide by zero encountered in scalar divide\n",
      "\n",
      "/home/josh/Documents/GitHub/ropacea/ropacea/scs.py:32: RuntimeWarning:\n",
      "\n",
      "divide by zero encountered in scalar divide\n",
      "\n",
      "/home/josh/Documents/GitHub/ropacea/ropacea/scs.py:32: RuntimeWarning:\n",
      "\n",
      "divide by zero encountered in scalar divide\n",
      "\n"
     ]
    },
    {
     "name": "stdout",
     "output_type": "stream",
     "text": [
      "monthly_portfolio_return = 0.0126\n",
      "risk_free_return = 0.0034\n",
      "mark_date = datetime.date(2019, 8, 1)\n",
      "monthly_portfolio_return = 0.0262\n",
      "risk_free_return = 0.0403\n",
      "mark_date = datetime.date(2019, 9, 1)\n",
      "monthly_portfolio_return = -0.0131\n",
      "risk_free_return = -0.0139\n",
      "mark_date = datetime.date(2019, 10, 1)\n",
      "monthly_portfolio_return = 0.0004\n",
      "risk_free_return = -0.0007\n",
      "mark_date = datetime.date(2019, 11, 1)\n",
      "monthly_portfolio_return = 0.0375\n",
      "risk_free_return = -0.0074\n",
      "mark_date = datetime.date(2019, 12, 1)\n"
     ]
    },
    {
     "name": "stderr",
     "output_type": "stream",
     "text": [
      "/home/josh/Documents/GitHub/ropacea/ropacea/scs.py:32: RuntimeWarning:\n",
      "\n",
      "divide by zero encountered in scalar divide\n",
      "\n",
      "/home/josh/Documents/GitHub/ropacea/ropacea/scs.py:32: RuntimeWarning:\n",
      "\n",
      "divide by zero encountered in scalar divide\n",
      "\n",
      "/home/josh/Documents/GitHub/ropacea/ropacea/scs.py:32: RuntimeWarning:\n",
      "\n",
      "divide by zero encountered in scalar divide\n",
      "\n",
      "/home/josh/Documents/GitHub/ropacea/ropacea/scs.py:32: RuntimeWarning:\n",
      "\n",
      "divide by zero encountered in scalar divide\n",
      "\n",
      "/home/josh/Documents/GitHub/ropacea/ropacea/scs.py:32: RuntimeWarning:\n",
      "\n",
      "divide by zero encountered in scalar divide\n",
      "\n"
     ]
    },
    {
     "name": "stdout",
     "output_type": "stream",
     "text": [
      "monthly_portfolio_return = 0.0620\n",
      "risk_free_return = -0.0113\n",
      "mark_date = datetime.date(2020, 1, 1)\n",
      "monthly_portfolio_return = 0.0595\n",
      "risk_free_return = 0.0392\n",
      "mark_date = datetime.date(2020, 2, 1)\n",
      "monthly_portfolio_return = -0.0487\n",
      "risk_free_return = 0.0299\n",
      "mark_date = datetime.date(2020, 3, 1)\n",
      "monthly_portfolio_return = -0.0507\n",
      "risk_free_return = 0.0397\n",
      "mark_date = datetime.date(2020, 4, 1)\n",
      "monthly_portfolio_return = 0.1070\n",
      "risk_free_return = 0.0050\n",
      "mark_date = datetime.date(2020, 5, 1)\n"
     ]
    },
    {
     "name": "stderr",
     "output_type": "stream",
     "text": [
      "/home/josh/Documents/GitHub/ropacea/ropacea/scs.py:32: RuntimeWarning:\n",
      "\n",
      "divide by zero encountered in scalar divide\n",
      "\n",
      "/home/josh/Documents/GitHub/ropacea/ropacea/scs.py:32: RuntimeWarning:\n",
      "\n",
      "divide by zero encountered in scalar divide\n",
      "\n",
      "/home/josh/Documents/GitHub/ropacea/ropacea/scs.py:32: RuntimeWarning:\n",
      "\n",
      "divide by zero encountered in scalar divide\n",
      "\n",
      "/home/josh/Documents/GitHub/ropacea/ropacea/scs.py:32: RuntimeWarning:\n",
      "\n",
      "divide by zero encountered in scalar divide\n",
      "\n"
     ]
    },
    {
     "name": "stdout",
     "output_type": "stream",
     "text": [
      "monthly_portfolio_return = 0.0390\n",
      "risk_free_return = 0.0007\n",
      "mark_date = datetime.date(2020, 6, 1)\n",
      "monthly_portfolio_return = 0.0493\n",
      "risk_free_return = 0.0004\n",
      "mark_date = datetime.date(2020, 7, 1)\n",
      "monthly_portfolio_return = 0.0348\n",
      "risk_free_return = 0.0128\n",
      "mark_date = datetime.date(2020, 8, 1)\n",
      "monthly_portfolio_return = 0.0945\n",
      "risk_free_return = -0.0147\n",
      "mark_date = datetime.date(2020, 9, 1)\n",
      "monthly_portfolio_return = -0.0102\n",
      "risk_free_return = 0.0026\n",
      "mark_date = datetime.date(2020, 10, 1)\n"
     ]
    },
    {
     "name": "stderr",
     "output_type": "stream",
     "text": [
      "/home/josh/Documents/GitHub/ropacea/ropacea/scs.py:32: RuntimeWarning:\n",
      "\n",
      "divide by zero encountered in scalar divide\n",
      "\n",
      "/home/josh/Documents/GitHub/ropacea/ropacea/scs.py:32: RuntimeWarning:\n",
      "\n",
      "divide by zero encountered in scalar divide\n",
      "\n",
      "/home/josh/Documents/GitHub/ropacea/ropacea/scs.py:32: RuntimeWarning:\n",
      "\n",
      "divide by zero encountered in scalar divide\n",
      "\n",
      "/home/josh/Documents/GitHub/ropacea/ropacea/scs.py:32: RuntimeWarning:\n",
      "\n",
      "divide by zero encountered in scalar divide\n",
      "\n",
      "/home/josh/Documents/GitHub/ropacea/ropacea/scs.py:32: RuntimeWarning:\n",
      "\n",
      "divide by zero encountered in scalar divide\n",
      "\n"
     ]
    },
    {
     "name": "stdout",
     "output_type": "stream",
     "text": [
      "monthly_portfolio_return = -0.0537\n",
      "risk_free_return = -0.0173\n",
      "mark_date = datetime.date(2020, 11, 1)\n",
      "monthly_portfolio_return = 0.0585\n",
      "risk_free_return = 0.0040\n",
      "mark_date = datetime.date(2020, 12, 1)\n",
      "monthly_portfolio_return = 0.0121\n",
      "risk_free_return = -0.0050\n",
      "mark_date = datetime.date(2021, 1, 1)\n",
      "monthly_portfolio_return = 0.0234\n",
      "risk_free_return = -0.0107\n",
      "mark_date = datetime.date(2021, 2, 1)\n",
      "monthly_portfolio_return = -0.0141\n",
      "risk_free_return = -0.0254\n",
      "mark_date = datetime.date(2021, 3, 1)\n"
     ]
    },
    {
     "name": "stderr",
     "output_type": "stream",
     "text": [
      "/home/josh/Documents/GitHub/ropacea/ropacea/scs.py:32: RuntimeWarning:\n",
      "\n",
      "divide by zero encountered in scalar divide\n",
      "\n",
      "/home/josh/Documents/GitHub/ropacea/ropacea/scs.py:32: RuntimeWarning:\n",
      "\n",
      "divide by zero encountered in scalar divide\n",
      "\n",
      "/home/josh/Documents/GitHub/ropacea/ropacea/scs.py:32: RuntimeWarning:\n",
      "\n",
      "divide by zero encountered in scalar divide\n",
      "\n",
      "/home/josh/Documents/GitHub/ropacea/ropacea/scs.py:32: RuntimeWarning:\n",
      "\n",
      "divide by zero encountered in scalar divide\n",
      "\n",
      "/home/josh/Documents/GitHub/ropacea/ropacea/scs.py:32: RuntimeWarning:\n",
      "\n",
      "divide by zero encountered in scalar divide\n",
      "\n"
     ]
    },
    {
     "name": "stdout",
     "output_type": "stream",
     "text": [
      "monthly_portfolio_return = -0.0072\n",
      "risk_free_return = -0.0293\n",
      "mark_date = datetime.date(2021, 4, 1)\n",
      "monthly_portfolio_return = 0.0486\n",
      "risk_free_return = 0.0119\n",
      "mark_date = datetime.date(2021, 5, 1)\n",
      "monthly_portfolio_return = 0.0301\n",
      "risk_free_return = 0.0034\n",
      "mark_date = datetime.date(2021, 6, 1)\n",
      "monthly_portfolio_return = 0.0985\n",
      "risk_free_return = 0.0141\n",
      "mark_date = datetime.date(2021, 7, 1)\n"
     ]
    },
    {
     "name": "stderr",
     "output_type": "stream",
     "text": [
      "/home/josh/Documents/GitHub/ropacea/ropacea/scs.py:32: RuntimeWarning:\n",
      "\n",
      "divide by zero encountered in scalar divide\n",
      "\n",
      "/home/josh/Documents/GitHub/ropacea/ropacea/scs.py:32: RuntimeWarning:\n",
      "\n",
      "divide by zero encountered in scalar divide\n",
      "\n",
      "/home/josh/Documents/GitHub/ropacea/ropacea/scs.py:32: RuntimeWarning:\n",
      "\n",
      "divide by zero encountered in scalar divide\n",
      "\n",
      "/home/josh/Documents/GitHub/ropacea/ropacea/scs.py:32: RuntimeWarning:\n",
      "\n",
      "divide by zero encountered in scalar divide\n",
      "\n"
     ]
    },
    {
     "name": "stdout",
     "output_type": "stream",
     "text": [
      "monthly_portfolio_return = 0.0425\n",
      "risk_free_return = 0.0238\n",
      "mark_date = datetime.date(2021, 8, 1)\n",
      "monthly_portfolio_return = 0.0658\n",
      "risk_free_return = -0.0048\n",
      "mark_date = datetime.date(2021, 9, 1)\n",
      "monthly_portfolio_return = -0.0706\n",
      "risk_free_return = -0.0154\n",
      "mark_date = datetime.date(2021, 10, 1)\n",
      "monthly_portfolio_return = 0.1265\n",
      "risk_free_return = -0.0049\n",
      "mark_date = datetime.date(2021, 11, 1)\n"
     ]
    },
    {
     "name": "stderr",
     "output_type": "stream",
     "text": [
      "/home/josh/Documents/GitHub/ropacea/ropacea/scs.py:32: RuntimeWarning:\n",
      "\n",
      "divide by zero encountered in scalar divide\n",
      "\n",
      "/home/josh/Documents/GitHub/ropacea/ropacea/scs.py:32: RuntimeWarning:\n",
      "\n",
      "divide by zero encountered in scalar divide\n",
      "\n",
      "/home/josh/Documents/GitHub/ropacea/ropacea/scs.py:32: RuntimeWarning:\n",
      "\n",
      "divide by zero encountered in scalar divide\n",
      "\n",
      "/home/josh/Documents/GitHub/ropacea/ropacea/scs.py:32: RuntimeWarning:\n",
      "\n",
      "divide by zero encountered in scalar divide\n",
      "\n",
      "/home/josh/Documents/GitHub/ropacea/ropacea/scs.py:32: RuntimeWarning:\n",
      "\n",
      "divide by zero encountered in scalar divide\n",
      "\n"
     ]
    },
    {
     "name": "stdout",
     "output_type": "stream",
     "text": [
      "monthly_portfolio_return = 0.0398\n",
      "risk_free_return = 0.0125\n",
      "mark_date = datetime.date(2021, 12, 1)\n",
      "monthly_portfolio_return = 0.0458\n",
      "risk_free_return = -0.0047\n",
      "========== SUMMARY ==========\n",
      "monthly_returns_bp_mean = 224.06\n",
      "monthly_returns_bp_std = 485.18\n",
      "annualized_mean_pct = 30.46\n",
      "annualized_std_pct = 16.81\n",
      "sharpe_ratio = 1.81\n",
      "mark_date = datetime.date(2017, 1, 1)\n",
      "monthly_portfolio_return = 0.0348\n",
      "risk_free_return = 0.0022\n",
      "mark_date = datetime.date(2017, 2, 1)\n",
      "monthly_portfolio_return = 0.0236\n",
      "risk_free_return = 0.0074\n",
      "mark_date = datetime.date(2017, 3, 1)\n",
      "monthly_portfolio_return = 0.0373\n",
      "risk_free_return = 0.0024\n",
      "mark_date = datetime.date(2017, 4, 1)\n"
     ]
    },
    {
     "name": "stderr",
     "output_type": "stream",
     "text": [
      "/home/josh/Documents/GitHub/ropacea/ropacea/scs.py:32: RuntimeWarning:\n",
      "\n",
      "divide by zero encountered in scalar divide\n",
      "\n",
      "/home/josh/Documents/GitHub/ropacea/ropacea/scs.py:32: RuntimeWarning:\n",
      "\n",
      "divide by zero encountered in scalar divide\n",
      "\n",
      "/home/josh/Documents/GitHub/ropacea/ropacea/scs.py:32: RuntimeWarning:\n",
      "\n",
      "divide by zero encountered in scalar divide\n",
      "\n",
      "/home/josh/Documents/GitHub/ropacea/ropacea/scs.py:32: RuntimeWarning:\n",
      "\n",
      "divide by zero encountered in scalar divide\n",
      "\n",
      "/home/josh/Documents/GitHub/ropacea/ropacea/scs.py:32: RuntimeWarning:\n",
      "\n",
      "divide by zero encountered in scalar divide\n",
      "\n"
     ]
    },
    {
     "name": "stdout",
     "output_type": "stream",
     "text": [
      "monthly_portfolio_return = -0.0126\n",
      "risk_free_return = 0.0111\n",
      "mark_date = datetime.date(2017, 5, 1)\n",
      "monthly_portfolio_return = 0.0967\n",
      "risk_free_return = 0.0079\n",
      "mark_date = datetime.date(2017, 6, 1)\n",
      "monthly_portfolio_return = 0.0202\n",
      "risk_free_return = -0.0013\n",
      "mark_date = datetime.date(2017, 7, 1)\n",
      "monthly_portfolio_return = 0.0359\n",
      "risk_free_return = -0.0000\n",
      "mark_date = datetime.date(2017, 8, 1)\n"
     ]
    },
    {
     "name": "stderr",
     "output_type": "stream",
     "text": [
      "/home/josh/Documents/GitHub/ropacea/ropacea/scs.py:32: RuntimeWarning:\n",
      "\n",
      "divide by zero encountered in scalar divide\n",
      "\n",
      "/home/josh/Documents/GitHub/ropacea/ropacea/scs.py:32: RuntimeWarning:\n",
      "\n",
      "divide by zero encountered in scalar divide\n",
      "\n",
      "/home/josh/Documents/GitHub/ropacea/ropacea/scs.py:32: RuntimeWarning:\n",
      "\n",
      "divide by zero encountered in scalar divide\n",
      "\n",
      "/home/josh/Documents/GitHub/ropacea/ropacea/scs.py:32: RuntimeWarning:\n",
      "\n",
      "divide by zero encountered in scalar divide\n",
      "\n"
     ]
    },
    {
     "name": "stdout",
     "output_type": "stream",
     "text": [
      "monthly_portfolio_return = 0.0213\n",
      "risk_free_return = 0.0171\n",
      "mark_date = datetime.date(2017, 9, 1)\n",
      "monthly_portfolio_return = 0.0195\n",
      "risk_free_return = -0.0172\n",
      "mark_date = datetime.date(2017, 10, 1)\n",
      "monthly_portfolio_return = 0.0711\n",
      "risk_free_return = -0.0011\n",
      "mark_date = datetime.date(2017, 11, 1)\n",
      "monthly_portfolio_return = 0.0209\n",
      "risk_free_return = -0.0026\n",
      "mark_date = datetime.date(2017, 12, 1)\n"
     ]
    },
    {
     "name": "stderr",
     "output_type": "stream",
     "text": [
      "/home/josh/Documents/GitHub/ropacea/ropacea/scs.py:32: RuntimeWarning:\n",
      "\n",
      "divide by zero encountered in scalar divide\n",
      "\n",
      "/home/josh/Documents/GitHub/ropacea/ropacea/scs.py:32: RuntimeWarning:\n",
      "\n",
      "divide by zero encountered in scalar divide\n",
      "\n",
      "/home/josh/Documents/GitHub/ropacea/ropacea/scs.py:32: RuntimeWarning:\n",
      "\n",
      "divide by zero encountered in scalar divide\n",
      "\n",
      "/home/josh/Documents/GitHub/ropacea/ropacea/scs.py:32: RuntimeWarning:\n",
      "\n",
      "divide by zero encountered in scalar divide\n",
      "\n",
      "/home/josh/Documents/GitHub/ropacea/ropacea/scs.py:32: RuntimeWarning:\n",
      "\n",
      "divide by zero encountered in scalar divide\n",
      "\n"
     ]
    },
    {
     "name": "stdout",
     "output_type": "stream",
     "text": [
      "monthly_portfolio_return = -0.0090\n",
      "risk_free_return = 0.0022\n",
      "mark_date = datetime.date(2018, 1, 1)\n",
      "monthly_portfolio_return = 0.0940\n",
      "risk_free_return = -0.0236\n",
      "mark_date = datetime.date(2018, 2, 1)\n",
      "monthly_portfolio_return = -0.0291\n",
      "risk_free_return = -0.0130\n",
      "mark_date = datetime.date(2018, 3, 1)\n",
      "monthly_portfolio_return = -0.0115\n",
      "risk_free_return = 0.0128\n",
      "mark_date = datetime.date(2018, 4, 1)\n",
      "monthly_portfolio_return = 0.0253\n",
      "risk_free_return = -0.0155\n",
      "mark_date = datetime.date(2018, 5, 1)\n"
     ]
    },
    {
     "name": "stderr",
     "output_type": "stream",
     "text": [
      "/home/josh/Documents/GitHub/ropacea/ropacea/scs.py:32: RuntimeWarning:\n",
      "\n",
      "divide by zero encountered in scalar divide\n",
      "\n",
      "/home/josh/Documents/GitHub/ropacea/ropacea/scs.py:32: RuntimeWarning:\n",
      "\n",
      "divide by zero encountered in scalar divide\n",
      "\n",
      "/home/josh/Documents/GitHub/ropacea/ropacea/scs.py:32: RuntimeWarning:\n",
      "\n",
      "divide by zero encountered in scalar divide\n",
      "\n",
      "/home/josh/Documents/GitHub/ropacea/ropacea/scs.py:32: RuntimeWarning:\n",
      "\n",
      "divide by zero encountered in scalar divide\n",
      "\n",
      "/home/josh/Documents/GitHub/ropacea/ropacea/scs.py:32: RuntimeWarning:\n",
      "\n",
      "divide by zero encountered in scalar divide\n",
      "\n"
     ]
    },
    {
     "name": "stdout",
     "output_type": "stream",
     "text": [
      "monthly_portfolio_return = 0.0532\n",
      "risk_free_return = 0.0096\n",
      "mark_date = datetime.date(2018, 6, 1)\n",
      "monthly_portfolio_return = -0.0100\n",
      "risk_free_return = 0.0023\n",
      "mark_date = datetime.date(2018, 7, 1)\n",
      "monthly_portfolio_return = 0.0728\n",
      "risk_free_return = -0.0051\n",
      "mark_date = datetime.date(2018, 8, 1)\n",
      "monthly_portfolio_return = 0.0826\n",
      "risk_free_return = 0.0101\n",
      "mark_date = datetime.date(2018, 9, 1)\n",
      "monthly_portfolio_return = 0.0173\n",
      "risk_free_return = -0.0148\n",
      "mark_date = datetime.date(2018, 10, 1)\n"
     ]
    },
    {
     "name": "stderr",
     "output_type": "stream",
     "text": [
      "/home/josh/Documents/GitHub/ropacea/ropacea/scs.py:32: RuntimeWarning:\n",
      "\n",
      "divide by zero encountered in scalar divide\n",
      "\n",
      "/home/josh/Documents/GitHub/ropacea/ropacea/scs.py:32: RuntimeWarning:\n",
      "\n",
      "divide by zero encountered in scalar divide\n",
      "\n",
      "/home/josh/Documents/GitHub/ropacea/ropacea/scs.py:32: RuntimeWarning:\n",
      "\n",
      "divide by zero encountered in scalar divide\n",
      "\n",
      "/home/josh/Documents/GitHub/ropacea/ropacea/scs.py:32: RuntimeWarning:\n",
      "\n",
      "divide by zero encountered in scalar divide\n",
      "\n",
      "/home/josh/Documents/GitHub/ropacea/ropacea/scs.py:32: RuntimeWarning:\n",
      "\n",
      "divide by zero encountered in scalar divide\n",
      "\n"
     ]
    },
    {
     "name": "stdout",
     "output_type": "stream",
     "text": [
      "monthly_portfolio_return = -0.0589\n",
      "risk_free_return = -0.0043\n",
      "mark_date = datetime.date(2018, 11, 1)\n",
      "monthly_portfolio_return = 0.0238\n",
      "risk_free_return = 0.0149\n",
      "mark_date = datetime.date(2018, 12, 1)\n",
      "monthly_portfolio_return = -0.0737\n",
      "risk_free_return = 0.0286\n",
      "mark_date = datetime.date(2019, 1, 1)\n",
      "monthly_portfolio_return = 0.0393\n",
      "risk_free_return = 0.0071\n",
      "mark_date = datetime.date(2019, 2, 1)\n",
      "monthly_portfolio_return = 0.0585\n",
      "risk_free_return = -0.0043\n",
      "mark_date = datetime.date(2019, 3, 1)\n"
     ]
    },
    {
     "name": "stderr",
     "output_type": "stream",
     "text": [
      "/home/josh/Documents/GitHub/ropacea/ropacea/scs.py:32: RuntimeWarning:\n",
      "\n",
      "divide by zero encountered in scalar divide\n",
      "\n",
      "/home/josh/Documents/GitHub/ropacea/ropacea/scs.py:32: RuntimeWarning:\n",
      "\n",
      "divide by zero encountered in scalar divide\n",
      "\n",
      "/home/josh/Documents/GitHub/ropacea/ropacea/scs.py:32: RuntimeWarning:\n",
      "\n",
      "divide by zero encountered in scalar divide\n",
      "\n",
      "/home/josh/Documents/GitHub/ropacea/ropacea/scs.py:32: RuntimeWarning:\n",
      "\n",
      "divide by zero encountered in scalar divide\n",
      "\n",
      "/home/josh/Documents/GitHub/ropacea/ropacea/scs.py:32: RuntimeWarning:\n",
      "\n",
      "divide by zero encountered in scalar divide\n",
      "\n"
     ]
    },
    {
     "name": "stdout",
     "output_type": "stream",
     "text": [
      "monthly_portfolio_return = 0.0549\n",
      "risk_free_return = 0.0294\n",
      "mark_date = datetime.date(2019, 4, 1)\n",
      "monthly_portfolio_return = -0.0130\n",
      "risk_free_return = -0.0062\n",
      "mark_date = datetime.date(2019, 5, 1)\n",
      "monthly_portfolio_return = -0.0487\n",
      "risk_free_return = 0.0319\n",
      "mark_date = datetime.date(2019, 6, 1)\n",
      "monthly_portfolio_return = 0.0437\n",
      "risk_free_return = 0.0121\n",
      "mark_date = datetime.date(2019, 7, 1)\n",
      "monthly_portfolio_return = 0.0128\n",
      "risk_free_return = 0.0034\n",
      "mark_date = datetime.date(2019, 8, 1)\n"
     ]
    },
    {
     "name": "stderr",
     "output_type": "stream",
     "text": [
      "/home/josh/Documents/GitHub/ropacea/ropacea/scs.py:32: RuntimeWarning:\n",
      "\n",
      "divide by zero encountered in scalar divide\n",
      "\n",
      "/home/josh/Documents/GitHub/ropacea/ropacea/scs.py:32: RuntimeWarning:\n",
      "\n",
      "divide by zero encountered in scalar divide\n",
      "\n",
      "/home/josh/Documents/GitHub/ropacea/ropacea/scs.py:32: RuntimeWarning:\n",
      "\n",
      "divide by zero encountered in scalar divide\n",
      "\n",
      "/home/josh/Documents/GitHub/ropacea/ropacea/scs.py:32: RuntimeWarning:\n",
      "\n",
      "divide by zero encountered in scalar divide\n",
      "\n",
      "/home/josh/Documents/GitHub/ropacea/ropacea/scs.py:32: RuntimeWarning:\n",
      "\n",
      "divide by zero encountered in scalar divide\n",
      "\n"
     ]
    },
    {
     "name": "stdout",
     "output_type": "stream",
     "text": [
      "monthly_portfolio_return = 0.0253\n",
      "risk_free_return = 0.0403\n",
      "mark_date = datetime.date(2019, 9, 1)\n",
      "monthly_portfolio_return = -0.0128\n",
      "risk_free_return = -0.0139\n",
      "mark_date = datetime.date(2019, 10, 1)\n",
      "monthly_portfolio_return = 0.0021\n",
      "risk_free_return = -0.0007\n",
      "mark_date = datetime.date(2019, 11, 1)\n",
      "monthly_portfolio_return = 0.0384\n",
      "risk_free_return = -0.0074\n",
      "mark_date = datetime.date(2019, 12, 1)\n",
      "monthly_portfolio_return = 0.0624\n",
      "risk_free_return = -0.0113\n",
      "mark_date = datetime.date(2020, 1, 1)\n"
     ]
    },
    {
     "name": "stderr",
     "output_type": "stream",
     "text": [
      "/home/josh/Documents/GitHub/ropacea/ropacea/scs.py:32: RuntimeWarning:\n",
      "\n",
      "divide by zero encountered in scalar divide\n",
      "\n",
      "/home/josh/Documents/GitHub/ropacea/ropacea/scs.py:32: RuntimeWarning:\n",
      "\n",
      "divide by zero encountered in scalar divide\n",
      "\n",
      "/home/josh/Documents/GitHub/ropacea/ropacea/scs.py:32: RuntimeWarning:\n",
      "\n",
      "divide by zero encountered in scalar divide\n",
      "\n",
      "/home/josh/Documents/GitHub/ropacea/ropacea/scs.py:32: RuntimeWarning:\n",
      "\n",
      "divide by zero encountered in scalar divide\n",
      "\n",
      "/home/josh/Documents/GitHub/ropacea/ropacea/scs.py:32: RuntimeWarning:\n",
      "\n",
      "divide by zero encountered in scalar divide\n",
      "\n"
     ]
    },
    {
     "name": "stdout",
     "output_type": "stream",
     "text": [
      "monthly_portfolio_return = 0.0590\n",
      "risk_free_return = 0.0392\n",
      "mark_date = datetime.date(2020, 2, 1)\n",
      "monthly_portfolio_return = -0.0472\n",
      "risk_free_return = 0.0299\n",
      "mark_date = datetime.date(2020, 3, 1)\n",
      "monthly_portfolio_return = -0.0511\n",
      "risk_free_return = 0.0397\n",
      "mark_date = datetime.date(2020, 4, 1)\n",
      "monthly_portfolio_return = 0.1075\n",
      "risk_free_return = 0.0050\n",
      "mark_date = datetime.date(2020, 5, 1)\n",
      "monthly_portfolio_return = 0.0400\n",
      "risk_free_return = 0.0007\n",
      "mark_date = datetime.date(2020, 6, 1)\n"
     ]
    },
    {
     "name": "stderr",
     "output_type": "stream",
     "text": [
      "/home/josh/Documents/GitHub/ropacea/ropacea/scs.py:32: RuntimeWarning:\n",
      "\n",
      "divide by zero encountered in scalar divide\n",
      "\n",
      "/home/josh/Documents/GitHub/ropacea/ropacea/scs.py:32: RuntimeWarning:\n",
      "\n",
      "divide by zero encountered in scalar divide\n",
      "\n",
      "/home/josh/Documents/GitHub/ropacea/ropacea/scs.py:32: RuntimeWarning:\n",
      "\n",
      "divide by zero encountered in scalar divide\n",
      "\n",
      "/home/josh/Documents/GitHub/ropacea/ropacea/scs.py:32: RuntimeWarning:\n",
      "\n",
      "divide by zero encountered in scalar divide\n",
      "\n",
      "/home/josh/Documents/GitHub/ropacea/ropacea/scs.py:32: RuntimeWarning:\n",
      "\n",
      "divide by zero encountered in scalar divide\n",
      "\n"
     ]
    },
    {
     "name": "stdout",
     "output_type": "stream",
     "text": [
      "monthly_portfolio_return = 0.0503\n",
      "risk_free_return = 0.0004\n",
      "mark_date = datetime.date(2020, 7, 1)\n",
      "monthly_portfolio_return = 0.0342\n",
      "risk_free_return = 0.0128\n",
      "mark_date = datetime.date(2020, 8, 1)\n",
      "monthly_portfolio_return = 0.0954\n",
      "risk_free_return = -0.0147\n",
      "mark_date = datetime.date(2020, 9, 1)\n",
      "monthly_portfolio_return = -0.0104\n",
      "risk_free_return = 0.0026\n",
      "mark_date = datetime.date(2020, 10, 1)\n",
      "monthly_portfolio_return = -0.0537\n",
      "risk_free_return = -0.0173\n",
      "mark_date = datetime.date(2020, 11, 1)\n"
     ]
    },
    {
     "name": "stderr",
     "output_type": "stream",
     "text": [
      "/home/josh/Documents/GitHub/ropacea/ropacea/scs.py:32: RuntimeWarning:\n",
      "\n",
      "divide by zero encountered in scalar divide\n",
      "\n",
      "/home/josh/Documents/GitHub/ropacea/ropacea/scs.py:32: RuntimeWarning:\n",
      "\n",
      "divide by zero encountered in scalar divide\n",
      "\n",
      "/home/josh/Documents/GitHub/ropacea/ropacea/scs.py:32: RuntimeWarning:\n",
      "\n",
      "divide by zero encountered in scalar divide\n",
      "\n",
      "/home/josh/Documents/GitHub/ropacea/ropacea/scs.py:32: RuntimeWarning:\n",
      "\n",
      "divide by zero encountered in scalar divide\n",
      "\n",
      "/home/josh/Documents/GitHub/ropacea/ropacea/scs.py:32: RuntimeWarning:\n",
      "\n",
      "divide by zero encountered in scalar divide\n",
      "\n"
     ]
    },
    {
     "name": "stdout",
     "output_type": "stream",
     "text": [
      "monthly_portfolio_return = 0.0580\n",
      "risk_free_return = 0.0040\n",
      "mark_date = datetime.date(2020, 12, 1)\n",
      "monthly_portfolio_return = 0.0116\n",
      "risk_free_return = -0.0050\n",
      "mark_date = datetime.date(2021, 1, 1)\n",
      "monthly_portfolio_return = 0.0240\n",
      "risk_free_return = -0.0107\n",
      "mark_date = datetime.date(2021, 2, 1)\n",
      "monthly_portfolio_return = -0.0140\n",
      "risk_free_return = -0.0254\n",
      "mark_date = datetime.date(2021, 3, 1)\n",
      "monthly_portfolio_return = -0.0088\n",
      "risk_free_return = -0.0293\n",
      "mark_date = datetime.date(2021, 4, 1)\n"
     ]
    },
    {
     "name": "stderr",
     "output_type": "stream",
     "text": [
      "/home/josh/Documents/GitHub/ropacea/ropacea/scs.py:32: RuntimeWarning:\n",
      "\n",
      "divide by zero encountered in scalar divide\n",
      "\n",
      "/home/josh/Documents/GitHub/ropacea/ropacea/scs.py:32: RuntimeWarning:\n",
      "\n",
      "divide by zero encountered in scalar divide\n",
      "\n",
      "/home/josh/Documents/GitHub/ropacea/ropacea/scs.py:32: RuntimeWarning:\n",
      "\n",
      "divide by zero encountered in scalar divide\n",
      "\n",
      "/home/josh/Documents/GitHub/ropacea/ropacea/scs.py:32: RuntimeWarning:\n",
      "\n",
      "divide by zero encountered in scalar divide\n",
      "\n",
      "/home/josh/Documents/GitHub/ropacea/ropacea/scs.py:32: RuntimeWarning:\n",
      "\n",
      "divide by zero encountered in scalar divide\n",
      "\n"
     ]
    },
    {
     "name": "stdout",
     "output_type": "stream",
     "text": [
      "monthly_portfolio_return = 0.0499\n",
      "risk_free_return = 0.0119\n",
      "mark_date = datetime.date(2021, 5, 1)\n",
      "monthly_portfolio_return = 0.0302\n",
      "risk_free_return = 0.0034\n",
      "mark_date = datetime.date(2021, 6, 1)\n",
      "monthly_portfolio_return = 0.1009\n",
      "risk_free_return = 0.0141\n",
      "mark_date = datetime.date(2021, 7, 1)\n",
      "monthly_portfolio_return = 0.0425\n",
      "risk_free_return = 0.0238\n",
      "mark_date = datetime.date(2021, 8, 1)\n",
      "monthly_portfolio_return = 0.0675\n",
      "risk_free_return = -0.0048\n",
      "mark_date = datetime.date(2021, 9, 1)\n"
     ]
    },
    {
     "name": "stderr",
     "output_type": "stream",
     "text": [
      "/home/josh/Documents/GitHub/ropacea/ropacea/scs.py:32: RuntimeWarning:\n",
      "\n",
      "divide by zero encountered in scalar divide\n",
      "\n",
      "/home/josh/Documents/GitHub/ropacea/ropacea/scs.py:32: RuntimeWarning:\n",
      "\n",
      "divide by zero encountered in scalar divide\n",
      "\n",
      "/home/josh/Documents/GitHub/ropacea/ropacea/scs.py:32: RuntimeWarning:\n",
      "\n",
      "divide by zero encountered in scalar divide\n",
      "\n",
      "/home/josh/Documents/GitHub/ropacea/ropacea/scs.py:32: RuntimeWarning:\n",
      "\n",
      "divide by zero encountered in scalar divide\n",
      "\n",
      "/home/josh/Documents/GitHub/ropacea/ropacea/scs.py:32: RuntimeWarning:\n",
      "\n",
      "divide by zero encountered in scalar divide\n",
      "\n"
     ]
    },
    {
     "name": "stdout",
     "output_type": "stream",
     "text": [
      "monthly_portfolio_return = -0.0715\n",
      "risk_free_return = -0.0154\n",
      "mark_date = datetime.date(2021, 10, 1)\n",
      "monthly_portfolio_return = 0.1289\n",
      "risk_free_return = -0.0049\n",
      "mark_date = datetime.date(2021, 11, 1)\n",
      "monthly_portfolio_return = 0.0411\n",
      "risk_free_return = 0.0125\n",
      "mark_date = datetime.date(2021, 12, 1)\n",
      "monthly_portfolio_return = 0.0436\n",
      "risk_free_return = -0.0047\n",
      "========== SUMMARY ==========\n",
      "monthly_returns_bp_mean = 226.45\n",
      "monthly_returns_bp_std = 490.86\n",
      "annualized_mean_pct = 30.83\n",
      "annualized_std_pct = 17.00\n",
      "sharpe_ratio = 1.81\n",
      "mark_date = datetime.date(2017, 1, 1)\n",
      "monthly_portfolio_return = 0.0361\n",
      "risk_free_return = 0.0022\n",
      "mark_date = datetime.date(2017, 2, 1)\n"
     ]
    },
    {
     "name": "stderr",
     "output_type": "stream",
     "text": [
      "/home/josh/Documents/GitHub/ropacea/ropacea/scs.py:32: RuntimeWarning:\n",
      "\n",
      "divide by zero encountered in scalar divide\n",
      "\n",
      "/home/josh/Documents/GitHub/ropacea/ropacea/scs.py:32: RuntimeWarning:\n",
      "\n",
      "divide by zero encountered in scalar divide\n",
      "\n",
      "/home/josh/Documents/GitHub/ropacea/ropacea/scs.py:32: RuntimeWarning:\n",
      "\n",
      "divide by zero encountered in scalar divide\n",
      "\n",
      "/home/josh/Documents/GitHub/ropacea/ropacea/scs.py:32: RuntimeWarning:\n",
      "\n",
      "divide by zero encountered in scalar divide\n",
      "\n",
      "/home/josh/Documents/GitHub/ropacea/ropacea/scs.py:32: RuntimeWarning:\n",
      "\n",
      "divide by zero encountered in scalar divide\n",
      "\n"
     ]
    },
    {
     "name": "stdout",
     "output_type": "stream",
     "text": [
      "monthly_portfolio_return = 0.0226\n",
      "risk_free_return = 0.0074\n",
      "mark_date = datetime.date(2017, 3, 1)\n",
      "monthly_portfolio_return = 0.0380\n",
      "risk_free_return = 0.0024\n",
      "mark_date = datetime.date(2017, 4, 1)\n",
      "monthly_portfolio_return = -0.0132\n",
      "risk_free_return = 0.0111\n",
      "mark_date = datetime.date(2017, 5, 1)\n",
      "monthly_portfolio_return = 0.0989\n",
      "risk_free_return = 0.0079\n",
      "mark_date = datetime.date(2017, 6, 1)\n",
      "monthly_portfolio_return = 0.0201\n",
      "risk_free_return = -0.0013\n",
      "mark_date = datetime.date(2017, 7, 1)\n"
     ]
    },
    {
     "name": "stderr",
     "output_type": "stream",
     "text": [
      "/home/josh/Documents/GitHub/ropacea/ropacea/scs.py:32: RuntimeWarning:\n",
      "\n",
      "divide by zero encountered in scalar divide\n",
      "\n",
      "/home/josh/Documents/GitHub/ropacea/ropacea/scs.py:32: RuntimeWarning:\n",
      "\n",
      "divide by zero encountered in scalar divide\n",
      "\n",
      "/home/josh/Documents/GitHub/ropacea/ropacea/scs.py:32: RuntimeWarning:\n",
      "\n",
      "divide by zero encountered in scalar divide\n",
      "\n",
      "/home/josh/Documents/GitHub/ropacea/ropacea/scs.py:32: RuntimeWarning:\n",
      "\n",
      "divide by zero encountered in scalar divide\n",
      "\n"
     ]
    },
    {
     "name": "stdout",
     "output_type": "stream",
     "text": [
      "monthly_portfolio_return = 0.0366\n",
      "risk_free_return = -0.0000\n",
      "mark_date = datetime.date(2017, 8, 1)\n",
      "monthly_portfolio_return = 0.0215\n",
      "risk_free_return = 0.0171\n",
      "mark_date = datetime.date(2017, 9, 1)\n",
      "monthly_portfolio_return = 0.0195\n",
      "risk_free_return = -0.0172\n",
      "mark_date = datetime.date(2017, 10, 1)\n",
      "monthly_portfolio_return = 0.0725\n",
      "risk_free_return = -0.0011\n",
      "mark_date = datetime.date(2017, 11, 1)\n"
     ]
    },
    {
     "name": "stderr",
     "output_type": "stream",
     "text": [
      "/home/josh/Documents/GitHub/ropacea/ropacea/scs.py:32: RuntimeWarning:\n",
      "\n",
      "divide by zero encountered in scalar divide\n",
      "\n",
      "/home/josh/Documents/GitHub/ropacea/ropacea/scs.py:32: RuntimeWarning:\n",
      "\n",
      "divide by zero encountered in scalar divide\n",
      "\n",
      "/home/josh/Documents/GitHub/ropacea/ropacea/scs.py:32: RuntimeWarning:\n",
      "\n",
      "divide by zero encountered in scalar divide\n",
      "\n",
      "/home/josh/Documents/GitHub/ropacea/ropacea/scs.py:32: RuntimeWarning:\n",
      "\n",
      "divide by zero encountered in scalar divide\n",
      "\n"
     ]
    },
    {
     "name": "stdout",
     "output_type": "stream",
     "text": [
      "monthly_portfolio_return = 0.0206\n",
      "risk_free_return = -0.0026\n",
      "mark_date = datetime.date(2017, 12, 1)\n",
      "monthly_portfolio_return = -0.0095\n",
      "risk_free_return = 0.0022\n",
      "mark_date = datetime.date(2018, 1, 1)\n",
      "monthly_portfolio_return = 0.0957\n",
      "risk_free_return = -0.0236\n",
      "mark_date = datetime.date(2018, 2, 1)\n",
      "monthly_portfolio_return = -0.0277\n",
      "risk_free_return = -0.0130\n",
      "mark_date = datetime.date(2018, 3, 1)\n",
      "monthly_portfolio_return = -0.0114\n",
      "risk_free_return = 0.0128\n",
      "mark_date = datetime.date(2018, 4, 1)\n"
     ]
    },
    {
     "name": "stderr",
     "output_type": "stream",
     "text": [
      "/home/josh/Documents/GitHub/ropacea/ropacea/scs.py:32: RuntimeWarning:\n",
      "\n",
      "divide by zero encountered in scalar divide\n",
      "\n",
      "/home/josh/Documents/GitHub/ropacea/ropacea/scs.py:32: RuntimeWarning:\n",
      "\n",
      "divide by zero encountered in scalar divide\n",
      "\n",
      "/home/josh/Documents/GitHub/ropacea/ropacea/scs.py:32: RuntimeWarning:\n",
      "\n",
      "divide by zero encountered in scalar divide\n",
      "\n",
      "/home/josh/Documents/GitHub/ropacea/ropacea/scs.py:32: RuntimeWarning:\n",
      "\n",
      "divide by zero encountered in scalar divide\n",
      "\n",
      "/home/josh/Documents/GitHub/ropacea/ropacea/scs.py:32: RuntimeWarning:\n",
      "\n",
      "divide by zero encountered in scalar divide\n",
      "\n"
     ]
    },
    {
     "name": "stdout",
     "output_type": "stream",
     "text": [
      "monthly_portfolio_return = 0.0248\n",
      "risk_free_return = -0.0155\n",
      "mark_date = datetime.date(2018, 5, 1)\n",
      "monthly_portfolio_return = 0.0546\n",
      "risk_free_return = 0.0096\n",
      "mark_date = datetime.date(2018, 6, 1)\n",
      "monthly_portfolio_return = -0.0106\n",
      "risk_free_return = 0.0023\n",
      "mark_date = datetime.date(2018, 7, 1)\n",
      "monthly_portfolio_return = 0.0728\n",
      "risk_free_return = -0.0051\n",
      "mark_date = datetime.date(2018, 8, 1)\n",
      "monthly_portfolio_return = 0.0831\n",
      "risk_free_return = 0.0101\n",
      "mark_date = datetime.date(2018, 9, 1)\n"
     ]
    },
    {
     "name": "stderr",
     "output_type": "stream",
     "text": [
      "/home/josh/Documents/GitHub/ropacea/ropacea/scs.py:32: RuntimeWarning:\n",
      "\n",
      "divide by zero encountered in scalar divide\n",
      "\n",
      "/home/josh/Documents/GitHub/ropacea/ropacea/scs.py:32: RuntimeWarning:\n",
      "\n",
      "divide by zero encountered in scalar divide\n",
      "\n",
      "/home/josh/Documents/GitHub/ropacea/ropacea/scs.py:32: RuntimeWarning:\n",
      "\n",
      "divide by zero encountered in scalar divide\n",
      "\n",
      "/home/josh/Documents/GitHub/ropacea/ropacea/scs.py:32: RuntimeWarning:\n",
      "\n",
      "divide by zero encountered in scalar divide\n",
      "\n",
      "/home/josh/Documents/GitHub/ropacea/ropacea/scs.py:32: RuntimeWarning:\n",
      "\n",
      "divide by zero encountered in scalar divide\n",
      "\n"
     ]
    },
    {
     "name": "stdout",
     "output_type": "stream",
     "text": [
      "monthly_portfolio_return = 0.0175\n",
      "risk_free_return = -0.0148\n",
      "mark_date = datetime.date(2018, 10, 1)\n",
      "monthly_portfolio_return = -0.0611\n",
      "risk_free_return = -0.0043\n",
      "mark_date = datetime.date(2018, 11, 1)\n",
      "monthly_portfolio_return = 0.0218\n",
      "risk_free_return = 0.0149\n",
      "mark_date = datetime.date(2018, 12, 1)\n",
      "monthly_portfolio_return = -0.0746\n",
      "risk_free_return = 0.0286\n",
      "mark_date = datetime.date(2019, 1, 1)\n",
      "monthly_portfolio_return = 0.0397\n",
      "risk_free_return = 0.0071\n",
      "mark_date = datetime.date(2019, 2, 1)\n"
     ]
    },
    {
     "name": "stderr",
     "output_type": "stream",
     "text": [
      "/home/josh/Documents/GitHub/ropacea/ropacea/scs.py:32: RuntimeWarning:\n",
      "\n",
      "divide by zero encountered in scalar divide\n",
      "\n",
      "/home/josh/Documents/GitHub/ropacea/ropacea/scs.py:32: RuntimeWarning:\n",
      "\n",
      "divide by zero encountered in scalar divide\n",
      "\n",
      "/home/josh/Documents/GitHub/ropacea/ropacea/scs.py:32: RuntimeWarning:\n",
      "\n",
      "divide by zero encountered in scalar divide\n",
      "\n",
      "/home/josh/Documents/GitHub/ropacea/ropacea/scs.py:32: RuntimeWarning:\n",
      "\n",
      "divide by zero encountered in scalar divide\n",
      "\n",
      "/home/josh/Documents/GitHub/ropacea/ropacea/scs.py:32: RuntimeWarning:\n",
      "\n",
      "divide by zero encountered in scalar divide\n",
      "\n"
     ]
    },
    {
     "name": "stdout",
     "output_type": "stream",
     "text": [
      "monthly_portfolio_return = 0.0587\n",
      "risk_free_return = -0.0043\n",
      "mark_date = datetime.date(2019, 3, 1)\n",
      "monthly_portfolio_return = 0.0559\n",
      "risk_free_return = 0.0294\n",
      "mark_date = datetime.date(2019, 4, 1)\n",
      "monthly_portfolio_return = -0.0136\n",
      "risk_free_return = -0.0062\n",
      "mark_date = datetime.date(2019, 5, 1)\n",
      "monthly_portfolio_return = -0.0509\n",
      "risk_free_return = 0.0319\n",
      "mark_date = datetime.date(2019, 6, 1)\n",
      "monthly_portfolio_return = 0.0453\n",
      "risk_free_return = 0.0121\n",
      "mark_date = datetime.date(2019, 7, 1)\n"
     ]
    },
    {
     "name": "stderr",
     "output_type": "stream",
     "text": [
      "/home/josh/Documents/GitHub/ropacea/ropacea/scs.py:32: RuntimeWarning:\n",
      "\n",
      "divide by zero encountered in scalar divide\n",
      "\n",
      "/home/josh/Documents/GitHub/ropacea/ropacea/scs.py:32: RuntimeWarning:\n",
      "\n",
      "divide by zero encountered in scalar divide\n",
      "\n",
      "/home/josh/Documents/GitHub/ropacea/ropacea/scs.py:32: RuntimeWarning:\n",
      "\n",
      "divide by zero encountered in scalar divide\n",
      "\n",
      "/home/josh/Documents/GitHub/ropacea/ropacea/scs.py:32: RuntimeWarning:\n",
      "\n",
      "divide by zero encountered in scalar divide\n",
      "\n",
      "/home/josh/Documents/GitHub/ropacea/ropacea/scs.py:32: RuntimeWarning:\n",
      "\n",
      "divide by zero encountered in scalar divide\n",
      "\n"
     ]
    },
    {
     "name": "stdout",
     "output_type": "stream",
     "text": [
      "monthly_portfolio_return = 0.0131\n",
      "risk_free_return = 0.0034\n",
      "mark_date = datetime.date(2019, 8, 1)\n",
      "monthly_portfolio_return = 0.0244\n",
      "risk_free_return = 0.0403\n",
      "mark_date = datetime.date(2019, 9, 1)\n",
      "monthly_portfolio_return = -0.0125\n",
      "risk_free_return = -0.0139\n",
      "mark_date = datetime.date(2019, 10, 1)\n",
      "monthly_portfolio_return = 0.0037\n",
      "risk_free_return = -0.0007\n",
      "mark_date = datetime.date(2019, 11, 1)\n",
      "monthly_portfolio_return = 0.0392\n",
      "risk_free_return = -0.0074\n",
      "mark_date = datetime.date(2019, 12, 1)\n"
     ]
    },
    {
     "name": "stderr",
     "output_type": "stream",
     "text": [
      "/home/josh/Documents/GitHub/ropacea/ropacea/scs.py:32: RuntimeWarning:\n",
      "\n",
      "divide by zero encountered in scalar divide\n",
      "\n",
      "/home/josh/Documents/GitHub/ropacea/ropacea/scs.py:32: RuntimeWarning:\n",
      "\n",
      "divide by zero encountered in scalar divide\n",
      "\n",
      "/home/josh/Documents/GitHub/ropacea/ropacea/scs.py:32: RuntimeWarning:\n",
      "\n",
      "divide by zero encountered in scalar divide\n",
      "\n",
      "/home/josh/Documents/GitHub/ropacea/ropacea/scs.py:32: RuntimeWarning:\n",
      "\n",
      "divide by zero encountered in scalar divide\n",
      "\n"
     ]
    },
    {
     "name": "stdout",
     "output_type": "stream",
     "text": [
      "monthly_portfolio_return = 0.0628\n",
      "risk_free_return = -0.0113\n",
      "mark_date = datetime.date(2020, 1, 1)\n",
      "monthly_portfolio_return = 0.0584\n",
      "risk_free_return = 0.0392\n",
      "mark_date = datetime.date(2020, 2, 1)\n",
      "monthly_portfolio_return = -0.0454\n",
      "risk_free_return = 0.0299\n",
      "mark_date = datetime.date(2020, 3, 1)\n",
      "monthly_portfolio_return = -0.0516\n",
      "risk_free_return = 0.0397\n",
      "mark_date = datetime.date(2020, 4, 1)\n"
     ]
    },
    {
     "name": "stderr",
     "output_type": "stream",
     "text": [
      "/home/josh/Documents/GitHub/ropacea/ropacea/scs.py:32: RuntimeWarning:\n",
      "\n",
      "divide by zero encountered in scalar divide\n",
      "\n",
      "/home/josh/Documents/GitHub/ropacea/ropacea/scs.py:32: RuntimeWarning:\n",
      "\n",
      "divide by zero encountered in scalar divide\n",
      "\n",
      "/home/josh/Documents/GitHub/ropacea/ropacea/scs.py:32: RuntimeWarning:\n",
      "\n",
      "divide by zero encountered in scalar divide\n",
      "\n",
      "/home/josh/Documents/GitHub/ropacea/ropacea/scs.py:32: RuntimeWarning:\n",
      "\n",
      "divide by zero encountered in scalar divide\n",
      "\n"
     ]
    },
    {
     "name": "stdout",
     "output_type": "stream",
     "text": [
      "monthly_portfolio_return = 0.1081\n",
      "risk_free_return = 0.0050\n",
      "mark_date = datetime.date(2020, 5, 1)\n",
      "monthly_portfolio_return = 0.0413\n",
      "risk_free_return = 0.0007\n",
      "mark_date = datetime.date(2020, 6, 1)\n",
      "monthly_portfolio_return = 0.0513\n",
      "risk_free_return = 0.0004\n",
      "mark_date = datetime.date(2020, 7, 1)\n",
      "monthly_portfolio_return = 0.0337\n",
      "risk_free_return = 0.0128\n",
      "mark_date = datetime.date(2020, 8, 1)\n"
     ]
    },
    {
     "name": "stderr",
     "output_type": "stream",
     "text": [
      "/home/josh/Documents/GitHub/ropacea/ropacea/scs.py:32: RuntimeWarning:\n",
      "\n",
      "divide by zero encountered in scalar divide\n",
      "\n",
      "/home/josh/Documents/GitHub/ropacea/ropacea/scs.py:32: RuntimeWarning:\n",
      "\n",
      "divide by zero encountered in scalar divide\n",
      "\n",
      "/home/josh/Documents/GitHub/ropacea/ropacea/scs.py:32: RuntimeWarning:\n",
      "\n",
      "divide by zero encountered in scalar divide\n",
      "\n",
      "/home/josh/Documents/GitHub/ropacea/ropacea/scs.py:32: RuntimeWarning:\n",
      "\n",
      "divide by zero encountered in scalar divide\n",
      "\n"
     ]
    },
    {
     "name": "stdout",
     "output_type": "stream",
     "text": [
      "monthly_portfolio_return = 0.0963\n",
      "risk_free_return = -0.0147\n",
      "mark_date = datetime.date(2020, 9, 1)\n",
      "monthly_portfolio_return = -0.0106\n",
      "risk_free_return = 0.0026\n",
      "mark_date = datetime.date(2020, 10, 1)\n",
      "monthly_portfolio_return = -0.0539\n",
      "risk_free_return = -0.0173\n",
      "mark_date = datetime.date(2020, 11, 1)\n",
      "monthly_portfolio_return = 0.0575\n",
      "risk_free_return = 0.0040\n",
      "mark_date = datetime.date(2020, 12, 1)\n",
      "monthly_portfolio_return = 0.0113\n",
      "risk_free_return = -0.0050\n",
      "mark_date = datetime.date(2021, 1, 1)\n"
     ]
    },
    {
     "name": "stderr",
     "output_type": "stream",
     "text": [
      "/home/josh/Documents/GitHub/ropacea/ropacea/scs.py:32: RuntimeWarning:\n",
      "\n",
      "divide by zero encountered in scalar divide\n",
      "\n",
      "/home/josh/Documents/GitHub/ropacea/ropacea/scs.py:32: RuntimeWarning:\n",
      "\n",
      "divide by zero encountered in scalar divide\n",
      "\n",
      "/home/josh/Documents/GitHub/ropacea/ropacea/scs.py:32: RuntimeWarning:\n",
      "\n",
      "divide by zero encountered in scalar divide\n",
      "\n",
      "/home/josh/Documents/GitHub/ropacea/ropacea/scs.py:32: RuntimeWarning:\n",
      "\n",
      "divide by zero encountered in scalar divide\n",
      "\n",
      "/home/josh/Documents/GitHub/ropacea/ropacea/scs.py:32: RuntimeWarning:\n",
      "\n",
      "divide by zero encountered in scalar divide\n",
      "\n"
     ]
    },
    {
     "name": "stdout",
     "output_type": "stream",
     "text": [
      "monthly_portfolio_return = 0.0246\n",
      "risk_free_return = -0.0107\n",
      "mark_date = datetime.date(2021, 2, 1)\n",
      "monthly_portfolio_return = -0.0138\n",
      "risk_free_return = -0.0254\n",
      "mark_date = datetime.date(2021, 3, 1)\n",
      "monthly_portfolio_return = -0.0104\n",
      "risk_free_return = -0.0293\n",
      "mark_date = datetime.date(2021, 4, 1)\n",
      "monthly_portfolio_return = 0.0512\n",
      "risk_free_return = 0.0119\n",
      "mark_date = datetime.date(2021, 5, 1)\n",
      "monthly_portfolio_return = 0.0303\n",
      "risk_free_return = 0.0034\n",
      "mark_date = datetime.date(2021, 6, 1)\n"
     ]
    },
    {
     "name": "stderr",
     "output_type": "stream",
     "text": [
      "/home/josh/Documents/GitHub/ropacea/ropacea/scs.py:32: RuntimeWarning:\n",
      "\n",
      "divide by zero encountered in scalar divide\n",
      "\n",
      "/home/josh/Documents/GitHub/ropacea/ropacea/scs.py:32: RuntimeWarning:\n",
      "\n",
      "divide by zero encountered in scalar divide\n",
      "\n",
      "/home/josh/Documents/GitHub/ropacea/ropacea/scs.py:32: RuntimeWarning:\n",
      "\n",
      "divide by zero encountered in scalar divide\n",
      "\n",
      "/home/josh/Documents/GitHub/ropacea/ropacea/scs.py:32: RuntimeWarning:\n",
      "\n",
      "divide by zero encountered in scalar divide\n",
      "\n",
      "/home/josh/Documents/GitHub/ropacea/ropacea/scs.py:32: RuntimeWarning:\n",
      "\n",
      "divide by zero encountered in scalar divide\n",
      "\n"
     ]
    },
    {
     "name": "stdout",
     "output_type": "stream",
     "text": [
      "monthly_portfolio_return = 0.1034\n",
      "risk_free_return = 0.0141\n",
      "mark_date = datetime.date(2021, 7, 1)\n",
      "monthly_portfolio_return = 0.0425\n",
      "risk_free_return = 0.0238\n",
      "mark_date = datetime.date(2021, 8, 1)\n",
      "monthly_portfolio_return = 0.0690\n",
      "risk_free_return = -0.0048\n",
      "mark_date = datetime.date(2021, 9, 1)\n",
      "monthly_portfolio_return = -0.0723\n",
      "risk_free_return = -0.0154\n",
      "mark_date = datetime.date(2021, 10, 1)\n",
      "monthly_portfolio_return = 0.1313\n",
      "risk_free_return = -0.0049\n",
      "mark_date = datetime.date(2021, 11, 1)\n"
     ]
    },
    {
     "name": "stderr",
     "output_type": "stream",
     "text": [
      "/home/josh/Documents/GitHub/ropacea/ropacea/scs.py:32: RuntimeWarning:\n",
      "\n",
      "divide by zero encountered in scalar divide\n",
      "\n",
      "/home/josh/Documents/GitHub/ropacea/ropacea/scs.py:32: RuntimeWarning:\n",
      "\n",
      "divide by zero encountered in scalar divide\n",
      "\n",
      "/home/josh/Documents/GitHub/ropacea/ropacea/scs.py:32: RuntimeWarning:\n",
      "\n",
      "divide by zero encountered in scalar divide\n",
      "\n",
      "/home/josh/Documents/GitHub/ropacea/ropacea/scs.py:32: RuntimeWarning:\n",
      "\n",
      "divide by zero encountered in scalar divide\n",
      "\n",
      "/home/josh/Documents/GitHub/ropacea/ropacea/scs.py:32: RuntimeWarning:\n",
      "\n",
      "divide by zero encountered in scalar divide\n",
      "\n"
     ]
    },
    {
     "name": "stdout",
     "output_type": "stream",
     "text": [
      "monthly_portfolio_return = 0.0423\n",
      "risk_free_return = 0.0125\n",
      "mark_date = datetime.date(2021, 12, 1)\n",
      "monthly_portfolio_return = 0.0414\n",
      "risk_free_return = -0.0047\n",
      "========== SUMMARY ==========\n",
      "monthly_returns_bp_mean = 228.78\n",
      "monthly_returns_bp_std = 496.86\n",
      "annualized_mean_pct = 31.19\n",
      "annualized_std_pct = 17.21\n",
      "sharpe_ratio = 1.81\n",
      "mark_date = datetime.date(2017, 1, 1)\n",
      "monthly_portfolio_return = 0.0375\n",
      "risk_free_return = 0.0022\n",
      "mark_date = datetime.date(2017, 2, 1)\n",
      "monthly_portfolio_return = 0.0216\n",
      "risk_free_return = 0.0074\n",
      "mark_date = datetime.date(2017, 3, 1)\n",
      "monthly_portfolio_return = 0.0388\n",
      "risk_free_return = 0.0024\n",
      "mark_date = datetime.date(2017, 4, 1)\n"
     ]
    },
    {
     "name": "stderr",
     "output_type": "stream",
     "text": [
      "/home/josh/Documents/GitHub/ropacea/ropacea/scs.py:32: RuntimeWarning:\n",
      "\n",
      "divide by zero encountered in scalar divide\n",
      "\n",
      "/home/josh/Documents/GitHub/ropacea/ropacea/scs.py:32: RuntimeWarning:\n",
      "\n",
      "divide by zero encountered in scalar divide\n",
      "\n",
      "/home/josh/Documents/GitHub/ropacea/ropacea/scs.py:32: RuntimeWarning:\n",
      "\n",
      "divide by zero encountered in scalar divide\n",
      "\n",
      "/home/josh/Documents/GitHub/ropacea/ropacea/scs.py:32: RuntimeWarning:\n",
      "\n",
      "divide by zero encountered in scalar divide\n",
      "\n",
      "/home/josh/Documents/GitHub/ropacea/ropacea/scs.py:32: RuntimeWarning:\n",
      "\n",
      "divide by zero encountered in scalar divide\n",
      "\n"
     ]
    },
    {
     "name": "stdout",
     "output_type": "stream",
     "text": [
      "monthly_portfolio_return = -0.0135\n",
      "risk_free_return = 0.0111\n",
      "mark_date = datetime.date(2017, 5, 1)\n",
      "monthly_portfolio_return = 0.1012\n",
      "risk_free_return = 0.0079\n",
      "mark_date = datetime.date(2017, 6, 1)\n",
      "monthly_portfolio_return = 0.0200\n",
      "risk_free_return = -0.0013\n",
      "mark_date = datetime.date(2017, 7, 1)\n",
      "monthly_portfolio_return = 0.0373\n",
      "risk_free_return = -0.0000\n",
      "mark_date = datetime.date(2017, 8, 1)\n",
      "monthly_portfolio_return = 0.0218\n",
      "risk_free_return = 0.0171\n",
      "mark_date = datetime.date(2017, 9, 1)\n"
     ]
    },
    {
     "name": "stderr",
     "output_type": "stream",
     "text": [
      "/home/josh/Documents/GitHub/ropacea/ropacea/scs.py:32: RuntimeWarning:\n",
      "\n",
      "divide by zero encountered in scalar divide\n",
      "\n",
      "/home/josh/Documents/GitHub/ropacea/ropacea/scs.py:32: RuntimeWarning:\n",
      "\n",
      "divide by zero encountered in scalar divide\n",
      "\n",
      "/home/josh/Documents/GitHub/ropacea/ropacea/scs.py:32: RuntimeWarning:\n",
      "\n",
      "divide by zero encountered in scalar divide\n",
      "\n",
      "/home/josh/Documents/GitHub/ropacea/ropacea/scs.py:32: RuntimeWarning:\n",
      "\n",
      "divide by zero encountered in scalar divide\n",
      "\n",
      "/home/josh/Documents/GitHub/ropacea/ropacea/scs.py:32: RuntimeWarning:\n",
      "\n",
      "divide by zero encountered in scalar divide\n",
      "\n"
     ]
    },
    {
     "name": "stdout",
     "output_type": "stream",
     "text": [
      "monthly_portfolio_return = 0.0195\n",
      "risk_free_return = -0.0172\n",
      "mark_date = datetime.date(2017, 10, 1)\n",
      "monthly_portfolio_return = 0.0740\n",
      "risk_free_return = -0.0011\n",
      "mark_date = datetime.date(2017, 11, 1)\n",
      "monthly_portfolio_return = 0.0202\n",
      "risk_free_return = -0.0026\n",
      "mark_date = datetime.date(2017, 12, 1)\n",
      "monthly_portfolio_return = -0.0100\n",
      "risk_free_return = 0.0022\n",
      "mark_date = datetime.date(2018, 1, 1)\n",
      "monthly_portfolio_return = 0.0977\n",
      "risk_free_return = -0.0236\n",
      "mark_date = datetime.date(2018, 2, 1)\n"
     ]
    },
    {
     "name": "stderr",
     "output_type": "stream",
     "text": [
      "/home/josh/Documents/GitHub/ropacea/ropacea/scs.py:32: RuntimeWarning:\n",
      "\n",
      "divide by zero encountered in scalar divide\n",
      "\n",
      "/home/josh/Documents/GitHub/ropacea/ropacea/scs.py:32: RuntimeWarning:\n",
      "\n",
      "divide by zero encountered in scalar divide\n",
      "\n",
      "/home/josh/Documents/GitHub/ropacea/ropacea/scs.py:32: RuntimeWarning:\n",
      "\n",
      "divide by zero encountered in scalar divide\n",
      "\n",
      "/home/josh/Documents/GitHub/ropacea/ropacea/scs.py:32: RuntimeWarning:\n",
      "\n",
      "divide by zero encountered in scalar divide\n",
      "\n",
      "/home/josh/Documents/GitHub/ropacea/ropacea/scs.py:32: RuntimeWarning:\n",
      "\n",
      "divide by zero encountered in scalar divide\n",
      "\n"
     ]
    },
    {
     "name": "stdout",
     "output_type": "stream",
     "text": [
      "monthly_portfolio_return = -0.0264\n",
      "risk_free_return = -0.0130\n",
      "mark_date = datetime.date(2018, 3, 1)\n",
      "monthly_portfolio_return = -0.0114\n",
      "risk_free_return = 0.0128\n",
      "mark_date = datetime.date(2018, 4, 1)\n",
      "monthly_portfolio_return = 0.0243\n",
      "risk_free_return = -0.0155\n",
      "mark_date = datetime.date(2018, 5, 1)\n",
      "monthly_portfolio_return = 0.0561\n",
      "risk_free_return = 0.0096\n",
      "mark_date = datetime.date(2018, 6, 1)\n",
      "monthly_portfolio_return = -0.0111\n",
      "risk_free_return = 0.0023\n",
      "mark_date = datetime.date(2018, 7, 1)\n"
     ]
    },
    {
     "name": "stderr",
     "output_type": "stream",
     "text": [
      "/home/josh/Documents/GitHub/ropacea/ropacea/scs.py:32: RuntimeWarning:\n",
      "\n",
      "divide by zero encountered in scalar divide\n",
      "\n",
      "/home/josh/Documents/GitHub/ropacea/ropacea/scs.py:32: RuntimeWarning:\n",
      "\n",
      "divide by zero encountered in scalar divide\n",
      "\n",
      "/home/josh/Documents/GitHub/ropacea/ropacea/scs.py:32: RuntimeWarning:\n",
      "\n",
      "divide by zero encountered in scalar divide\n",
      "\n",
      "/home/josh/Documents/GitHub/ropacea/ropacea/scs.py:32: RuntimeWarning:\n",
      "\n",
      "divide by zero encountered in scalar divide\n",
      "\n",
      "/home/josh/Documents/GitHub/ropacea/ropacea/scs.py:32: RuntimeWarning:\n",
      "\n",
      "divide by zero encountered in scalar divide\n",
      "\n"
     ]
    },
    {
     "name": "stdout",
     "output_type": "stream",
     "text": [
      "monthly_portfolio_return = 0.0728\n",
      "risk_free_return = -0.0051\n",
      "mark_date = datetime.date(2018, 8, 1)\n",
      "monthly_portfolio_return = 0.0836\n",
      "risk_free_return = 0.0101\n",
      "mark_date = datetime.date(2018, 9, 1)\n",
      "monthly_portfolio_return = 0.0176\n",
      "risk_free_return = -0.0148\n",
      "mark_date = datetime.date(2018, 10, 1)\n",
      "monthly_portfolio_return = -0.0633\n",
      "risk_free_return = -0.0043\n",
      "mark_date = datetime.date(2018, 11, 1)\n",
      "monthly_portfolio_return = 0.0199\n",
      "risk_free_return = 0.0149\n",
      "mark_date = datetime.date(2018, 12, 1)\n"
     ]
    },
    {
     "name": "stderr",
     "output_type": "stream",
     "text": [
      "/home/josh/Documents/GitHub/ropacea/ropacea/scs.py:32: RuntimeWarning:\n",
      "\n",
      "divide by zero encountered in scalar divide\n",
      "\n",
      "/home/josh/Documents/GitHub/ropacea/ropacea/scs.py:32: RuntimeWarning:\n",
      "\n",
      "divide by zero encountered in scalar divide\n",
      "\n",
      "/home/josh/Documents/GitHub/ropacea/ropacea/scs.py:32: RuntimeWarning:\n",
      "\n",
      "divide by zero encountered in scalar divide\n",
      "\n",
      "/home/josh/Documents/GitHub/ropacea/ropacea/scs.py:32: RuntimeWarning:\n",
      "\n",
      "divide by zero encountered in scalar divide\n",
      "\n",
      "/home/josh/Documents/GitHub/ropacea/ropacea/scs.py:32: RuntimeWarning:\n",
      "\n",
      "divide by zero encountered in scalar divide\n",
      "\n"
     ]
    },
    {
     "name": "stdout",
     "output_type": "stream",
     "text": [
      "monthly_portfolio_return = -0.0756\n",
      "risk_free_return = 0.0286\n",
      "mark_date = datetime.date(2019, 1, 1)\n",
      "monthly_portfolio_return = 0.0402\n",
      "risk_free_return = 0.0071\n",
      "mark_date = datetime.date(2019, 2, 1)\n",
      "monthly_portfolio_return = 0.0590\n",
      "risk_free_return = -0.0043\n",
      "mark_date = datetime.date(2019, 3, 1)\n",
      "monthly_portfolio_return = 0.0569\n",
      "risk_free_return = 0.0294\n",
      "mark_date = datetime.date(2019, 4, 1)\n",
      "monthly_portfolio_return = -0.0142\n",
      "risk_free_return = -0.0062\n",
      "mark_date = datetime.date(2019, 5, 1)\n"
     ]
    },
    {
     "name": "stderr",
     "output_type": "stream",
     "text": [
      "/home/josh/Documents/GitHub/ropacea/ropacea/scs.py:32: RuntimeWarning:\n",
      "\n",
      "divide by zero encountered in scalar divide\n",
      "\n",
      "/home/josh/Documents/GitHub/ropacea/ropacea/scs.py:32: RuntimeWarning:\n",
      "\n",
      "divide by zero encountered in scalar divide\n",
      "\n",
      "/home/josh/Documents/GitHub/ropacea/ropacea/scs.py:32: RuntimeWarning:\n",
      "\n",
      "divide by zero encountered in scalar divide\n",
      "\n",
      "/home/josh/Documents/GitHub/ropacea/ropacea/scs.py:32: RuntimeWarning:\n",
      "\n",
      "divide by zero encountered in scalar divide\n",
      "\n",
      "/home/josh/Documents/GitHub/ropacea/ropacea/scs.py:32: RuntimeWarning:\n",
      "\n",
      "divide by zero encountered in scalar divide\n",
      "\n"
     ]
    },
    {
     "name": "stdout",
     "output_type": "stream",
     "text": [
      "monthly_portfolio_return = -0.0532\n",
      "risk_free_return = 0.0319\n",
      "mark_date = datetime.date(2019, 6, 1)\n",
      "monthly_portfolio_return = 0.0469\n",
      "risk_free_return = 0.0121\n",
      "mark_date = datetime.date(2019, 7, 1)\n",
      "monthly_portfolio_return = 0.0133\n",
      "risk_free_return = 0.0034\n",
      "mark_date = datetime.date(2019, 8, 1)\n",
      "monthly_portfolio_return = 0.0236\n",
      "risk_free_return = 0.0403\n",
      "mark_date = datetime.date(2019, 9, 1)\n",
      "monthly_portfolio_return = -0.0122\n",
      "risk_free_return = -0.0139\n",
      "mark_date = datetime.date(2019, 10, 1)\n"
     ]
    },
    {
     "name": "stderr",
     "output_type": "stream",
     "text": [
      "/home/josh/Documents/GitHub/ropacea/ropacea/scs.py:32: RuntimeWarning:\n",
      "\n",
      "divide by zero encountered in scalar divide\n",
      "\n",
      "/home/josh/Documents/GitHub/ropacea/ropacea/scs.py:32: RuntimeWarning:\n",
      "\n",
      "divide by zero encountered in scalar divide\n",
      "\n",
      "/home/josh/Documents/GitHub/ropacea/ropacea/scs.py:32: RuntimeWarning:\n",
      "\n",
      "divide by zero encountered in scalar divide\n",
      "\n",
      "/home/josh/Documents/GitHub/ropacea/ropacea/scs.py:32: RuntimeWarning:\n",
      "\n",
      "divide by zero encountered in scalar divide\n",
      "\n",
      "/home/josh/Documents/GitHub/ropacea/ropacea/scs.py:32: RuntimeWarning:\n",
      "\n",
      "divide by zero encountered in scalar divide\n",
      "\n"
     ]
    },
    {
     "name": "stdout",
     "output_type": "stream",
     "text": [
      "monthly_portfolio_return = 0.0054\n",
      "risk_free_return = -0.0007\n",
      "mark_date = datetime.date(2019, 11, 1)\n",
      "monthly_portfolio_return = 0.0401\n",
      "risk_free_return = -0.0074\n",
      "mark_date = datetime.date(2019, 12, 1)\n",
      "monthly_portfolio_return = 0.0632\n",
      "risk_free_return = -0.0113\n",
      "mark_date = datetime.date(2020, 1, 1)\n",
      "monthly_portfolio_return = 0.0579\n",
      "risk_free_return = 0.0392\n",
      "mark_date = datetime.date(2020, 2, 1)\n",
      "monthly_portfolio_return = -0.0432\n",
      "risk_free_return = 0.0299\n",
      "mark_date = datetime.date(2020, 3, 1)\n"
     ]
    },
    {
     "name": "stderr",
     "output_type": "stream",
     "text": [
      "/home/josh/Documents/GitHub/ropacea/ropacea/scs.py:32: RuntimeWarning:\n",
      "\n",
      "divide by zero encountered in scalar divide\n",
      "\n",
      "/home/josh/Documents/GitHub/ropacea/ropacea/scs.py:32: RuntimeWarning:\n",
      "\n",
      "divide by zero encountered in scalar divide\n",
      "\n",
      "/home/josh/Documents/GitHub/ropacea/ropacea/scs.py:32: RuntimeWarning:\n",
      "\n",
      "divide by zero encountered in scalar divide\n",
      "\n",
      "/home/josh/Documents/GitHub/ropacea/ropacea/scs.py:32: RuntimeWarning:\n",
      "\n",
      "divide by zero encountered in scalar divide\n",
      "\n",
      "/home/josh/Documents/GitHub/ropacea/ropacea/scs.py:32: RuntimeWarning:\n",
      "\n",
      "divide by zero encountered in scalar divide\n",
      "\n"
     ]
    },
    {
     "name": "stdout",
     "output_type": "stream",
     "text": [
      "monthly_portfolio_return = -0.0522\n",
      "risk_free_return = 0.0397\n",
      "mark_date = datetime.date(2020, 4, 1)\n",
      "monthly_portfolio_return = 0.1084\n",
      "risk_free_return = 0.0050\n",
      "mark_date = datetime.date(2020, 5, 1)\n",
      "monthly_portfolio_return = 0.0426\n",
      "risk_free_return = 0.0007\n",
      "mark_date = datetime.date(2020, 6, 1)\n",
      "monthly_portfolio_return = 0.0522\n",
      "risk_free_return = 0.0004\n",
      "mark_date = datetime.date(2020, 7, 1)\n",
      "monthly_portfolio_return = 0.0331\n",
      "risk_free_return = 0.0128\n",
      "mark_date = datetime.date(2020, 8, 1)\n"
     ]
    },
    {
     "name": "stderr",
     "output_type": "stream",
     "text": [
      "/home/josh/Documents/GitHub/ropacea/ropacea/scs.py:32: RuntimeWarning:\n",
      "\n",
      "divide by zero encountered in scalar divide\n",
      "\n",
      "/home/josh/Documents/GitHub/ropacea/ropacea/scs.py:32: RuntimeWarning:\n",
      "\n",
      "divide by zero encountered in scalar divide\n",
      "\n",
      "/home/josh/Documents/GitHub/ropacea/ropacea/scs.py:32: RuntimeWarning:\n",
      "\n",
      "divide by zero encountered in scalar divide\n",
      "\n",
      "/home/josh/Documents/GitHub/ropacea/ropacea/scs.py:32: RuntimeWarning:\n",
      "\n",
      "divide by zero encountered in scalar divide\n",
      "\n",
      "/home/josh/Documents/GitHub/ropacea/ropacea/scs.py:32: RuntimeWarning:\n",
      "\n",
      "divide by zero encountered in scalar divide\n",
      "\n"
     ]
    },
    {
     "name": "stdout",
     "output_type": "stream",
     "text": [
      "monthly_portfolio_return = 0.0973\n",
      "risk_free_return = -0.0147\n",
      "mark_date = datetime.date(2020, 9, 1)\n",
      "monthly_portfolio_return = -0.0111\n",
      "risk_free_return = 0.0026\n",
      "mark_date = datetime.date(2020, 10, 1)\n",
      "monthly_portfolio_return = -0.0543\n",
      "risk_free_return = -0.0173\n",
      "mark_date = datetime.date(2020, 11, 1)\n",
      "monthly_portfolio_return = 0.0570\n",
      "risk_free_return = 0.0040\n",
      "mark_date = datetime.date(2020, 12, 1)\n",
      "monthly_portfolio_return = 0.0109\n",
      "risk_free_return = -0.0050\n",
      "mark_date = datetime.date(2021, 1, 1)\n"
     ]
    },
    {
     "name": "stderr",
     "output_type": "stream",
     "text": [
      "/home/josh/Documents/GitHub/ropacea/ropacea/scs.py:32: RuntimeWarning:\n",
      "\n",
      "divide by zero encountered in scalar divide\n",
      "\n",
      "/home/josh/Documents/GitHub/ropacea/ropacea/scs.py:32: RuntimeWarning:\n",
      "\n",
      "divide by zero encountered in scalar divide\n",
      "\n",
      "/home/josh/Documents/GitHub/ropacea/ropacea/scs.py:32: RuntimeWarning:\n",
      "\n",
      "divide by zero encountered in scalar divide\n",
      "\n",
      "/home/josh/Documents/GitHub/ropacea/ropacea/scs.py:32: RuntimeWarning:\n",
      "\n",
      "divide by zero encountered in scalar divide\n",
      "\n",
      "/home/josh/Documents/GitHub/ropacea/ropacea/scs.py:32: RuntimeWarning:\n",
      "\n",
      "divide by zero encountered in scalar divide\n",
      "\n"
     ]
    },
    {
     "name": "stdout",
     "output_type": "stream",
     "text": [
      "monthly_portfolio_return = 0.0252\n",
      "risk_free_return = -0.0107\n",
      "mark_date = datetime.date(2021, 2, 1)\n",
      "monthly_portfolio_return = -0.0136\n",
      "risk_free_return = -0.0254\n",
      "mark_date = datetime.date(2021, 3, 1)\n",
      "monthly_portfolio_return = -0.0120\n",
      "risk_free_return = -0.0293\n",
      "mark_date = datetime.date(2021, 4, 1)\n",
      "monthly_portfolio_return = 0.0525\n",
      "risk_free_return = 0.0119\n",
      "mark_date = datetime.date(2021, 5, 1)\n",
      "monthly_portfolio_return = 0.0304\n",
      "risk_free_return = 0.0034\n",
      "mark_date = datetime.date(2021, 6, 1)\n"
     ]
    },
    {
     "name": "stderr",
     "output_type": "stream",
     "text": [
      "/home/josh/Documents/GitHub/ropacea/ropacea/scs.py:32: RuntimeWarning:\n",
      "\n",
      "divide by zero encountered in scalar divide\n",
      "\n",
      "/home/josh/Documents/GitHub/ropacea/ropacea/scs.py:32: RuntimeWarning:\n",
      "\n",
      "divide by zero encountered in scalar divide\n",
      "\n",
      "/home/josh/Documents/GitHub/ropacea/ropacea/scs.py:32: RuntimeWarning:\n",
      "\n",
      "divide by zero encountered in scalar divide\n",
      "\n",
      "/home/josh/Documents/GitHub/ropacea/ropacea/scs.py:32: RuntimeWarning:\n",
      "\n",
      "divide by zero encountered in scalar divide\n",
      "\n",
      "/home/josh/Documents/GitHub/ropacea/ropacea/scs.py:32: RuntimeWarning:\n",
      "\n",
      "divide by zero encountered in scalar divide\n",
      "\n"
     ]
    },
    {
     "name": "stdout",
     "output_type": "stream",
     "text": [
      "monthly_portfolio_return = 0.1058\n",
      "risk_free_return = 0.0141\n",
      "mark_date = datetime.date(2021, 7, 1)\n",
      "monthly_portfolio_return = 0.0423\n",
      "risk_free_return = 0.0238\n",
      "mark_date = datetime.date(2021, 8, 1)\n",
      "monthly_portfolio_return = 0.0705\n",
      "risk_free_return = -0.0048\n",
      "mark_date = datetime.date(2021, 9, 1)\n",
      "monthly_portfolio_return = -0.0731\n",
      "risk_free_return = -0.0154\n",
      "mark_date = datetime.date(2021, 10, 1)\n",
      "monthly_portfolio_return = 0.1337\n",
      "risk_free_return = -0.0049\n",
      "mark_date = datetime.date(2021, 11, 1)\n"
     ]
    },
    {
     "name": "stderr",
     "output_type": "stream",
     "text": [
      "/home/josh/Documents/GitHub/ropacea/ropacea/scs.py:32: RuntimeWarning:\n",
      "\n",
      "divide by zero encountered in scalar divide\n",
      "\n",
      "/home/josh/Documents/GitHub/ropacea/ropacea/scs.py:32: RuntimeWarning:\n",
      "\n",
      "divide by zero encountered in scalar divide\n",
      "\n",
      "/home/josh/Documents/GitHub/ropacea/ropacea/scs.py:32: RuntimeWarning:\n",
      "\n",
      "divide by zero encountered in scalar divide\n",
      "\n",
      "/home/josh/Documents/GitHub/ropacea/ropacea/scs.py:32: RuntimeWarning:\n",
      "\n",
      "divide by zero encountered in scalar divide\n",
      "\n",
      "/home/josh/Documents/GitHub/ropacea/ropacea/scs.py:32: RuntimeWarning:\n",
      "\n",
      "divide by zero encountered in scalar divide\n",
      "\n"
     ]
    },
    {
     "name": "stdout",
     "output_type": "stream",
     "text": [
      "monthly_portfolio_return = 0.0437\n",
      "risk_free_return = 0.0125\n",
      "mark_date = datetime.date(2021, 12, 1)\n",
      "monthly_portfolio_return = 0.0392\n",
      "risk_free_return = -0.0047\n",
      "========== SUMMARY ==========\n",
      "monthly_returns_bp_mean = 231.16\n",
      "monthly_returns_bp_std = 503.04\n",
      "annualized_mean_pct = 31.55\n",
      "annualized_std_pct = 17.43\n",
      "sharpe_ratio = 1.81\n",
      "mark_date = datetime.date(2017, 1, 1)\n",
      "monthly_portfolio_return = 0.0388\n",
      "risk_free_return = 0.0022\n",
      "mark_date = datetime.date(2017, 2, 1)\n",
      "monthly_portfolio_return = 0.0206\n",
      "risk_free_return = 0.0074\n",
      "mark_date = datetime.date(2017, 3, 1)\n",
      "monthly_portfolio_return = 0.0396\n",
      "risk_free_return = 0.0024\n",
      "mark_date = datetime.date(2017, 4, 1)\n"
     ]
    },
    {
     "name": "stderr",
     "output_type": "stream",
     "text": [
      "/home/josh/Documents/GitHub/ropacea/ropacea/scs.py:32: RuntimeWarning:\n",
      "\n",
      "divide by zero encountered in scalar divide\n",
      "\n",
      "/home/josh/Documents/GitHub/ropacea/ropacea/scs.py:32: RuntimeWarning:\n",
      "\n",
      "divide by zero encountered in scalar divide\n",
      "\n",
      "/home/josh/Documents/GitHub/ropacea/ropacea/scs.py:32: RuntimeWarning:\n",
      "\n",
      "divide by zero encountered in scalar divide\n",
      "\n",
      "/home/josh/Documents/GitHub/ropacea/ropacea/scs.py:32: RuntimeWarning:\n",
      "\n",
      "divide by zero encountered in scalar divide\n",
      "\n",
      "/home/josh/Documents/GitHub/ropacea/ropacea/scs.py:32: RuntimeWarning:\n",
      "\n",
      "divide by zero encountered in scalar divide\n",
      "\n"
     ]
    },
    {
     "name": "stdout",
     "output_type": "stream",
     "text": [
      "monthly_portfolio_return = -0.0137\n",
      "risk_free_return = 0.0111\n",
      "mark_date = datetime.date(2017, 5, 1)\n",
      "monthly_portfolio_return = 0.1035\n",
      "risk_free_return = 0.0079\n",
      "mark_date = datetime.date(2017, 6, 1)\n",
      "monthly_portfolio_return = 0.0199\n",
      "risk_free_return = -0.0013\n",
      "mark_date = datetime.date(2017, 7, 1)\n",
      "monthly_portfolio_return = 0.0380\n",
      "risk_free_return = -0.0000\n",
      "mark_date = datetime.date(2017, 8, 1)\n",
      "monthly_portfolio_return = 0.0220\n",
      "risk_free_return = 0.0171\n",
      "mark_date = datetime.date(2017, 9, 1)\n"
     ]
    },
    {
     "name": "stderr",
     "output_type": "stream",
     "text": [
      "/home/josh/Documents/GitHub/ropacea/ropacea/scs.py:32: RuntimeWarning:\n",
      "\n",
      "divide by zero encountered in scalar divide\n",
      "\n",
      "/home/josh/Documents/GitHub/ropacea/ropacea/scs.py:32: RuntimeWarning:\n",
      "\n",
      "divide by zero encountered in scalar divide\n",
      "\n",
      "/home/josh/Documents/GitHub/ropacea/ropacea/scs.py:32: RuntimeWarning:\n",
      "\n",
      "divide by zero encountered in scalar divide\n",
      "\n",
      "/home/josh/Documents/GitHub/ropacea/ropacea/scs.py:32: RuntimeWarning:\n",
      "\n",
      "divide by zero encountered in scalar divide\n",
      "\n",
      "/home/josh/Documents/GitHub/ropacea/ropacea/scs.py:32: RuntimeWarning:\n",
      "\n",
      "divide by zero encountered in scalar divide\n",
      "\n"
     ]
    },
    {
     "name": "stdout",
     "output_type": "stream",
     "text": [
      "monthly_portfolio_return = 0.0195\n",
      "risk_free_return = -0.0172\n",
      "mark_date = datetime.date(2017, 10, 1)\n",
      "monthly_portfolio_return = 0.0754\n",
      "risk_free_return = -0.0011\n",
      "mark_date = datetime.date(2017, 11, 1)\n",
      "monthly_portfolio_return = 0.0198\n",
      "risk_free_return = -0.0026\n",
      "mark_date = datetime.date(2017, 12, 1)\n",
      "monthly_portfolio_return = -0.0105\n",
      "risk_free_return = 0.0022\n",
      "mark_date = datetime.date(2018, 1, 1)\n",
      "monthly_portfolio_return = 0.0998\n",
      "risk_free_return = -0.0236\n",
      "mark_date = datetime.date(2018, 2, 1)\n"
     ]
    },
    {
     "name": "stderr",
     "output_type": "stream",
     "text": [
      "/home/josh/Documents/GitHub/ropacea/ropacea/scs.py:32: RuntimeWarning:\n",
      "\n",
      "divide by zero encountered in scalar divide\n",
      "\n",
      "/home/josh/Documents/GitHub/ropacea/ropacea/scs.py:32: RuntimeWarning:\n",
      "\n",
      "divide by zero encountered in scalar divide\n",
      "\n",
      "/home/josh/Documents/GitHub/ropacea/ropacea/scs.py:32: RuntimeWarning:\n",
      "\n",
      "divide by zero encountered in scalar divide\n",
      "\n",
      "/home/josh/Documents/GitHub/ropacea/ropacea/scs.py:32: RuntimeWarning:\n",
      "\n",
      "divide by zero encountered in scalar divide\n",
      "\n",
      "/home/josh/Documents/GitHub/ropacea/ropacea/scs.py:32: RuntimeWarning:\n",
      "\n",
      "divide by zero encountered in scalar divide\n",
      "\n"
     ]
    },
    {
     "name": "stdout",
     "output_type": "stream",
     "text": [
      "monthly_portfolio_return = -0.0253\n",
      "risk_free_return = -0.0130\n",
      "mark_date = datetime.date(2018, 3, 1)\n",
      "monthly_portfolio_return = -0.0114\n",
      "risk_free_return = 0.0128\n",
      "mark_date = datetime.date(2018, 4, 1)\n",
      "monthly_portfolio_return = 0.0238\n",
      "risk_free_return = -0.0155\n",
      "mark_date = datetime.date(2018, 5, 1)\n",
      "monthly_portfolio_return = 0.0575\n",
      "risk_free_return = 0.0096\n",
      "mark_date = datetime.date(2018, 6, 1)\n",
      "monthly_portfolio_return = -0.0115\n",
      "risk_free_return = 0.0023\n",
      "mark_date = datetime.date(2018, 7, 1)\n"
     ]
    },
    {
     "name": "stderr",
     "output_type": "stream",
     "text": [
      "/home/josh/Documents/GitHub/ropacea/ropacea/scs.py:32: RuntimeWarning:\n",
      "\n",
      "divide by zero encountered in scalar divide\n",
      "\n",
      "/home/josh/Documents/GitHub/ropacea/ropacea/scs.py:32: RuntimeWarning:\n",
      "\n",
      "divide by zero encountered in scalar divide\n",
      "\n",
      "/home/josh/Documents/GitHub/ropacea/ropacea/scs.py:32: RuntimeWarning:\n",
      "\n",
      "divide by zero encountered in scalar divide\n",
      "\n",
      "/home/josh/Documents/GitHub/ropacea/ropacea/scs.py:32: RuntimeWarning:\n",
      "\n",
      "divide by zero encountered in scalar divide\n",
      "\n",
      "/home/josh/Documents/GitHub/ropacea/ropacea/scs.py:32: RuntimeWarning:\n",
      "\n",
      "divide by zero encountered in scalar divide\n",
      "\n"
     ]
    },
    {
     "name": "stdout",
     "output_type": "stream",
     "text": [
      "monthly_portfolio_return = 0.0728\n",
      "risk_free_return = -0.0051\n",
      "mark_date = datetime.date(2018, 8, 1)\n",
      "monthly_portfolio_return = 0.0841\n",
      "risk_free_return = 0.0101\n",
      "mark_date = datetime.date(2018, 9, 1)\n",
      "monthly_portfolio_return = 0.0176\n",
      "risk_free_return = -0.0148\n",
      "mark_date = datetime.date(2018, 10, 1)\n",
      "monthly_portfolio_return = -0.0655\n",
      "risk_free_return = -0.0043\n",
      "mark_date = datetime.date(2018, 11, 1)\n",
      "monthly_portfolio_return = 0.0180\n",
      "risk_free_return = 0.0149\n",
      "mark_date = datetime.date(2018, 12, 1)\n"
     ]
    },
    {
     "name": "stderr",
     "output_type": "stream",
     "text": [
      "/home/josh/Documents/GitHub/ropacea/ropacea/scs.py:32: RuntimeWarning:\n",
      "\n",
      "divide by zero encountered in scalar divide\n",
      "\n",
      "/home/josh/Documents/GitHub/ropacea/ropacea/scs.py:32: RuntimeWarning:\n",
      "\n",
      "divide by zero encountered in scalar divide\n",
      "\n",
      "/home/josh/Documents/GitHub/ropacea/ropacea/scs.py:32: RuntimeWarning:\n",
      "\n",
      "divide by zero encountered in scalar divide\n",
      "\n",
      "/home/josh/Documents/GitHub/ropacea/ropacea/scs.py:32: RuntimeWarning:\n",
      "\n",
      "divide by zero encountered in scalar divide\n",
      "\n",
      "/home/josh/Documents/GitHub/ropacea/ropacea/scs.py:32: RuntimeWarning:\n",
      "\n",
      "divide by zero encountered in scalar divide\n",
      "\n"
     ]
    },
    {
     "name": "stdout",
     "output_type": "stream",
     "text": [
      "monthly_portfolio_return = -0.0765\n",
      "risk_free_return = 0.0286\n",
      "mark_date = datetime.date(2019, 1, 1)\n",
      "monthly_portfolio_return = 0.0406\n",
      "risk_free_return = 0.0071\n",
      "mark_date = datetime.date(2019, 2, 1)\n",
      "monthly_portfolio_return = 0.0592\n",
      "risk_free_return = -0.0043\n",
      "mark_date = datetime.date(2019, 3, 1)\n",
      "monthly_portfolio_return = 0.0580\n",
      "risk_free_return = 0.0294\n",
      "mark_date = datetime.date(2019, 4, 1)\n",
      "monthly_portfolio_return = -0.0148\n",
      "risk_free_return = -0.0062\n",
      "mark_date = datetime.date(2019, 5, 1)\n"
     ]
    },
    {
     "name": "stderr",
     "output_type": "stream",
     "text": [
      "/home/josh/Documents/GitHub/ropacea/ropacea/scs.py:32: RuntimeWarning:\n",
      "\n",
      "divide by zero encountered in scalar divide\n",
      "\n",
      "/home/josh/Documents/GitHub/ropacea/ropacea/scs.py:32: RuntimeWarning:\n",
      "\n",
      "divide by zero encountered in scalar divide\n",
      "\n",
      "/home/josh/Documents/GitHub/ropacea/ropacea/scs.py:32: RuntimeWarning:\n",
      "\n",
      "divide by zero encountered in scalar divide\n",
      "\n",
      "/home/josh/Documents/GitHub/ropacea/ropacea/scs.py:32: RuntimeWarning:\n",
      "\n",
      "divide by zero encountered in scalar divide\n",
      "\n",
      "/home/josh/Documents/GitHub/ropacea/ropacea/scs.py:32: RuntimeWarning:\n",
      "\n",
      "divide by zero encountered in scalar divide\n",
      "\n"
     ]
    },
    {
     "name": "stdout",
     "output_type": "stream",
     "text": [
      "monthly_portfolio_return = -0.0555\n",
      "risk_free_return = 0.0319\n",
      "mark_date = datetime.date(2019, 6, 1)\n",
      "monthly_portfolio_return = 0.0485\n",
      "risk_free_return = 0.0121\n",
      "mark_date = datetime.date(2019, 7, 1)\n",
      "monthly_portfolio_return = 0.0136\n",
      "risk_free_return = 0.0034\n",
      "mark_date = datetime.date(2019, 8, 1)\n",
      "monthly_portfolio_return = 0.0227\n",
      "risk_free_return = 0.0403\n",
      "mark_date = datetime.date(2019, 9, 1)\n",
      "monthly_portfolio_return = -0.0120\n",
      "risk_free_return = -0.0139\n",
      "mark_date = datetime.date(2019, 10, 1)\n"
     ]
    },
    {
     "name": "stderr",
     "output_type": "stream",
     "text": [
      "/home/josh/Documents/GitHub/ropacea/ropacea/scs.py:32: RuntimeWarning:\n",
      "\n",
      "divide by zero encountered in scalar divide\n",
      "\n",
      "/home/josh/Documents/GitHub/ropacea/ropacea/scs.py:32: RuntimeWarning:\n",
      "\n",
      "divide by zero encountered in scalar divide\n",
      "\n",
      "/home/josh/Documents/GitHub/ropacea/ropacea/scs.py:32: RuntimeWarning:\n",
      "\n",
      "divide by zero encountered in scalar divide\n",
      "\n",
      "/home/josh/Documents/GitHub/ropacea/ropacea/scs.py:32: RuntimeWarning:\n",
      "\n",
      "divide by zero encountered in scalar divide\n",
      "\n",
      "/home/josh/Documents/GitHub/ropacea/ropacea/scs.py:32: RuntimeWarning:\n",
      "\n",
      "divide by zero encountered in scalar divide\n",
      "\n"
     ]
    },
    {
     "name": "stdout",
     "output_type": "stream",
     "text": [
      "monthly_portfolio_return = 0.0070\n",
      "risk_free_return = -0.0007\n",
      "mark_date = datetime.date(2019, 11, 1)\n",
      "monthly_portfolio_return = 0.0410\n",
      "risk_free_return = -0.0074\n",
      "mark_date = datetime.date(2019, 12, 1)\n",
      "monthly_portfolio_return = 0.0637\n",
      "risk_free_return = -0.0113\n",
      "mark_date = datetime.date(2020, 1, 1)\n",
      "monthly_portfolio_return = 0.0574\n",
      "risk_free_return = 0.0392\n",
      "mark_date = datetime.date(2020, 2, 1)\n",
      "monthly_portfolio_return = -0.0410\n",
      "risk_free_return = 0.0299\n",
      "mark_date = datetime.date(2020, 3, 1)\n"
     ]
    },
    {
     "name": "stderr",
     "output_type": "stream",
     "text": [
      "/home/josh/Documents/GitHub/ropacea/ropacea/scs.py:32: RuntimeWarning:\n",
      "\n",
      "divide by zero encountered in scalar divide\n",
      "\n",
      "/home/josh/Documents/GitHub/ropacea/ropacea/scs.py:32: RuntimeWarning:\n",
      "\n",
      "divide by zero encountered in scalar divide\n",
      "\n",
      "/home/josh/Documents/GitHub/ropacea/ropacea/scs.py:32: RuntimeWarning:\n",
      "\n",
      "divide by zero encountered in scalar divide\n",
      "\n",
      "/home/josh/Documents/GitHub/ropacea/ropacea/scs.py:32: RuntimeWarning:\n",
      "\n",
      "divide by zero encountered in scalar divide\n",
      "\n",
      "/home/josh/Documents/GitHub/ropacea/ropacea/scs.py:32: RuntimeWarning:\n",
      "\n",
      "divide by zero encountered in scalar divide\n",
      "\n"
     ]
    },
    {
     "name": "stdout",
     "output_type": "stream",
     "text": [
      "monthly_portfolio_return = -0.0528\n",
      "risk_free_return = 0.0397\n",
      "mark_date = datetime.date(2020, 4, 1)\n",
      "monthly_portfolio_return = 0.1087\n",
      "risk_free_return = 0.0050\n",
      "mark_date = datetime.date(2020, 5, 1)\n",
      "monthly_portfolio_return = 0.0439\n",
      "risk_free_return = 0.0007\n",
      "mark_date = datetime.date(2020, 6, 1)\n",
      "monthly_portfolio_return = 0.0532\n",
      "risk_free_return = 0.0004\n",
      "mark_date = datetime.date(2020, 7, 1)\n",
      "monthly_portfolio_return = 0.0326\n",
      "risk_free_return = 0.0128\n",
      "mark_date = datetime.date(2020, 8, 1)\n"
     ]
    },
    {
     "name": "stderr",
     "output_type": "stream",
     "text": [
      "/home/josh/Documents/GitHub/ropacea/ropacea/scs.py:32: RuntimeWarning:\n",
      "\n",
      "divide by zero encountered in scalar divide\n",
      "\n",
      "/home/josh/Documents/GitHub/ropacea/ropacea/scs.py:32: RuntimeWarning:\n",
      "\n",
      "divide by zero encountered in scalar divide\n",
      "\n",
      "/home/josh/Documents/GitHub/ropacea/ropacea/scs.py:32: RuntimeWarning:\n",
      "\n",
      "divide by zero encountered in scalar divide\n",
      "\n",
      "/home/josh/Documents/GitHub/ropacea/ropacea/scs.py:32: RuntimeWarning:\n",
      "\n",
      "divide by zero encountered in scalar divide\n",
      "\n",
      "/home/josh/Documents/GitHub/ropacea/ropacea/scs.py:32: RuntimeWarning:\n",
      "\n",
      "divide by zero encountered in scalar divide\n",
      "\n"
     ]
    },
    {
     "name": "stdout",
     "output_type": "stream",
     "text": [
      "monthly_portfolio_return = 0.0984\n",
      "risk_free_return = -0.0147\n",
      "mark_date = datetime.date(2020, 9, 1)\n",
      "monthly_portfolio_return = -0.0116\n",
      "risk_free_return = 0.0026\n",
      "mark_date = datetime.date(2020, 10, 1)\n",
      "monthly_portfolio_return = -0.0547\n",
      "risk_free_return = -0.0173\n",
      "mark_date = datetime.date(2020, 11, 1)\n",
      "monthly_portfolio_return = 0.0565\n",
      "risk_free_return = 0.0040\n",
      "mark_date = datetime.date(2020, 12, 1)\n",
      "monthly_portfolio_return = 0.0105\n",
      "risk_free_return = -0.0050\n",
      "mark_date = datetime.date(2021, 1, 1)\n"
     ]
    },
    {
     "name": "stderr",
     "output_type": "stream",
     "text": [
      "/home/josh/Documents/GitHub/ropacea/ropacea/scs.py:32: RuntimeWarning:\n",
      "\n",
      "divide by zero encountered in scalar divide\n",
      "\n",
      "/home/josh/Documents/GitHub/ropacea/ropacea/scs.py:32: RuntimeWarning:\n",
      "\n",
      "divide by zero encountered in scalar divide\n",
      "\n",
      "/home/josh/Documents/GitHub/ropacea/ropacea/scs.py:32: RuntimeWarning:\n",
      "\n",
      "divide by zero encountered in scalar divide\n",
      "\n",
      "/home/josh/Documents/GitHub/ropacea/ropacea/scs.py:32: RuntimeWarning:\n",
      "\n",
      "divide by zero encountered in scalar divide\n",
      "\n",
      "/home/josh/Documents/GitHub/ropacea/ropacea/scs.py:32: RuntimeWarning:\n",
      "\n",
      "divide by zero encountered in scalar divide\n",
      "\n"
     ]
    },
    {
     "name": "stdout",
     "output_type": "stream",
     "text": [
      "monthly_portfolio_return = 0.0258\n",
      "risk_free_return = -0.0107\n",
      "mark_date = datetime.date(2021, 2, 1)\n",
      "monthly_portfolio_return = -0.0134\n",
      "risk_free_return = -0.0254\n",
      "mark_date = datetime.date(2021, 3, 1)\n",
      "monthly_portfolio_return = -0.0136\n",
      "risk_free_return = -0.0293\n",
      "mark_date = datetime.date(2021, 4, 1)\n",
      "monthly_portfolio_return = 0.0538\n",
      "risk_free_return = 0.0119\n",
      "mark_date = datetime.date(2021, 5, 1)\n",
      "monthly_portfolio_return = 0.0306\n",
      "risk_free_return = 0.0034\n",
      "mark_date = datetime.date(2021, 6, 1)\n"
     ]
    },
    {
     "name": "stderr",
     "output_type": "stream",
     "text": [
      "/home/josh/Documents/GitHub/ropacea/ropacea/scs.py:32: RuntimeWarning:\n",
      "\n",
      "divide by zero encountered in scalar divide\n",
      "\n",
      "/home/josh/Documents/GitHub/ropacea/ropacea/scs.py:32: RuntimeWarning:\n",
      "\n",
      "divide by zero encountered in scalar divide\n",
      "\n",
      "/home/josh/Documents/GitHub/ropacea/ropacea/scs.py:32: RuntimeWarning:\n",
      "\n",
      "divide by zero encountered in scalar divide\n",
      "\n",
      "/home/josh/Documents/GitHub/ropacea/ropacea/scs.py:32: RuntimeWarning:\n",
      "\n",
      "divide by zero encountered in scalar divide\n",
      "\n",
      "/home/josh/Documents/GitHub/ropacea/ropacea/scs.py:32: RuntimeWarning:\n",
      "\n",
      "divide by zero encountered in scalar divide\n",
      "\n"
     ]
    },
    {
     "name": "stdout",
     "output_type": "stream",
     "text": [
      "monthly_portfolio_return = 0.1083\n",
      "risk_free_return = 0.0141\n",
      "mark_date = datetime.date(2021, 7, 1)\n",
      "monthly_portfolio_return = 0.0420\n",
      "risk_free_return = 0.0238\n",
      "mark_date = datetime.date(2021, 8, 1)\n",
      "monthly_portfolio_return = 0.0719\n",
      "risk_free_return = -0.0048\n",
      "mark_date = datetime.date(2021, 9, 1)\n",
      "monthly_portfolio_return = -0.0740\n",
      "risk_free_return = -0.0154\n",
      "mark_date = datetime.date(2021, 10, 1)\n",
      "monthly_portfolio_return = 0.1362\n",
      "risk_free_return = -0.0049\n",
      "mark_date = datetime.date(2021, 11, 1)\n"
     ]
    },
    {
     "name": "stderr",
     "output_type": "stream",
     "text": [
      "/home/josh/Documents/GitHub/ropacea/ropacea/scs.py:32: RuntimeWarning:\n",
      "\n",
      "divide by zero encountered in scalar divide\n",
      "\n",
      "/home/josh/Documents/GitHub/ropacea/ropacea/scs.py:32: RuntimeWarning:\n",
      "\n",
      "divide by zero encountered in scalar divide\n",
      "\n",
      "/home/josh/Documents/GitHub/ropacea/ropacea/scs.py:32: RuntimeWarning:\n",
      "\n",
      "divide by zero encountered in scalar divide\n",
      "\n",
      "/home/josh/Documents/GitHub/ropacea/ropacea/scs.py:32: RuntimeWarning:\n",
      "\n",
      "divide by zero encountered in scalar divide\n",
      "\n",
      "/home/josh/Documents/GitHub/ropacea/ropacea/scs.py:32: RuntimeWarning:\n",
      "\n",
      "divide by zero encountered in scalar divide\n",
      "\n"
     ]
    },
    {
     "name": "stdout",
     "output_type": "stream",
     "text": [
      "monthly_portfolio_return = 0.0456\n",
      "risk_free_return = 0.0125\n",
      "mark_date = datetime.date(2021, 12, 1)\n",
      "monthly_portfolio_return = 0.0370\n",
      "risk_free_return = -0.0047\n",
      "========== SUMMARY ==========\n",
      "monthly_returns_bp_mean = 233.59\n",
      "monthly_returns_bp_std = 509.43\n",
      "annualized_mean_pct = 31.93\n",
      "annualized_std_pct = 17.65\n",
      "sharpe_ratio = 1.81\n",
      "mark_date = datetime.date(2017, 1, 1)\n",
      "monthly_portfolio_return = 0.0402\n",
      "risk_free_return = 0.0022\n",
      "mark_date = datetime.date(2017, 2, 1)\n",
      "monthly_portfolio_return = 0.0196\n",
      "risk_free_return = 0.0074\n",
      "mark_date = datetime.date(2017, 3, 1)\n",
      "monthly_portfolio_return = 0.0403\n",
      "risk_free_return = 0.0024\n",
      "mark_date = datetime.date(2017, 4, 1)\n"
     ]
    },
    {
     "name": "stderr",
     "output_type": "stream",
     "text": [
      "/home/josh/Documents/GitHub/ropacea/ropacea/scs.py:32: RuntimeWarning:\n",
      "\n",
      "divide by zero encountered in scalar divide\n",
      "\n",
      "/home/josh/Documents/GitHub/ropacea/ropacea/scs.py:32: RuntimeWarning:\n",
      "\n",
      "divide by zero encountered in scalar divide\n",
      "\n",
      "/home/josh/Documents/GitHub/ropacea/ropacea/scs.py:32: RuntimeWarning:\n",
      "\n",
      "divide by zero encountered in scalar divide\n",
      "\n",
      "/home/josh/Documents/GitHub/ropacea/ropacea/scs.py:32: RuntimeWarning:\n",
      "\n",
      "divide by zero encountered in scalar divide\n",
      "\n",
      "/home/josh/Documents/GitHub/ropacea/ropacea/scs.py:32: RuntimeWarning:\n",
      "\n",
      "divide by zero encountered in scalar divide\n",
      "\n"
     ]
    },
    {
     "name": "stdout",
     "output_type": "stream",
     "text": [
      "monthly_portfolio_return = -0.0135\n",
      "risk_free_return = 0.0111\n",
      "mark_date = datetime.date(2017, 5, 1)\n",
      "monthly_portfolio_return = 0.1058\n",
      "risk_free_return = 0.0079\n",
      "mark_date = datetime.date(2017, 6, 1)\n",
      "monthly_portfolio_return = 0.0198\n",
      "risk_free_return = -0.0013\n",
      "mark_date = datetime.date(2017, 7, 1)\n",
      "monthly_portfolio_return = 0.0387\n",
      "risk_free_return = -0.0000\n",
      "mark_date = datetime.date(2017, 8, 1)\n",
      "monthly_portfolio_return = 0.0223\n",
      "risk_free_return = 0.0171\n",
      "mark_date = datetime.date(2017, 9, 1)\n"
     ]
    },
    {
     "name": "stderr",
     "output_type": "stream",
     "text": [
      "/home/josh/Documents/GitHub/ropacea/ropacea/scs.py:32: RuntimeWarning:\n",
      "\n",
      "divide by zero encountered in scalar divide\n",
      "\n",
      "/home/josh/Documents/GitHub/ropacea/ropacea/scs.py:32: RuntimeWarning:\n",
      "\n",
      "divide by zero encountered in scalar divide\n",
      "\n",
      "/home/josh/Documents/GitHub/ropacea/ropacea/scs.py:32: RuntimeWarning:\n",
      "\n",
      "divide by zero encountered in scalar divide\n",
      "\n",
      "/home/josh/Documents/GitHub/ropacea/ropacea/scs.py:32: RuntimeWarning:\n",
      "\n",
      "divide by zero encountered in scalar divide\n",
      "\n",
      "/home/josh/Documents/GitHub/ropacea/ropacea/scs.py:32: RuntimeWarning:\n",
      "\n",
      "divide by zero encountered in scalar divide\n",
      "\n"
     ]
    },
    {
     "name": "stdout",
     "output_type": "stream",
     "text": [
      "monthly_portfolio_return = 0.0195\n",
      "risk_free_return = -0.0172\n",
      "mark_date = datetime.date(2017, 10, 1)\n",
      "monthly_portfolio_return = 0.0768\n",
      "risk_free_return = -0.0011\n",
      "mark_date = datetime.date(2017, 11, 1)\n",
      "monthly_portfolio_return = 0.0194\n",
      "risk_free_return = -0.0026\n",
      "mark_date = datetime.date(2017, 12, 1)\n",
      "monthly_portfolio_return = -0.0110\n",
      "risk_free_return = 0.0022\n",
      "mark_date = datetime.date(2018, 1, 1)\n",
      "monthly_portfolio_return = 0.1018\n",
      "risk_free_return = -0.0236\n",
      "mark_date = datetime.date(2018, 2, 1)\n"
     ]
    },
    {
     "name": "stderr",
     "output_type": "stream",
     "text": [
      "/home/josh/Documents/GitHub/ropacea/ropacea/scs.py:32: RuntimeWarning:\n",
      "\n",
      "divide by zero encountered in scalar divide\n",
      "\n",
      "/home/josh/Documents/GitHub/ropacea/ropacea/scs.py:32: RuntimeWarning:\n",
      "\n",
      "divide by zero encountered in scalar divide\n",
      "\n",
      "/home/josh/Documents/GitHub/ropacea/ropacea/scs.py:32: RuntimeWarning:\n",
      "\n",
      "divide by zero encountered in scalar divide\n",
      "\n",
      "/home/josh/Documents/GitHub/ropacea/ropacea/scs.py:32: RuntimeWarning:\n",
      "\n",
      "divide by zero encountered in scalar divide\n",
      "\n",
      "/home/josh/Documents/GitHub/ropacea/ropacea/scs.py:32: RuntimeWarning:\n",
      "\n",
      "divide by zero encountered in scalar divide\n",
      "\n"
     ]
    },
    {
     "name": "stdout",
     "output_type": "stream",
     "text": [
      "monthly_portfolio_return = -0.0241\n",
      "risk_free_return = -0.0130\n",
      "mark_date = datetime.date(2018, 3, 1)\n",
      "monthly_portfolio_return = -0.0113\n",
      "risk_free_return = 0.0128\n",
      "mark_date = datetime.date(2018, 4, 1)\n",
      "monthly_portfolio_return = 0.0233\n",
      "risk_free_return = -0.0155\n",
      "mark_date = datetime.date(2018, 5, 1)\n",
      "monthly_portfolio_return = 0.0589\n",
      "risk_free_return = 0.0096\n",
      "mark_date = datetime.date(2018, 6, 1)\n",
      "monthly_portfolio_return = -0.0119\n",
      "risk_free_return = 0.0023\n",
      "mark_date = datetime.date(2018, 7, 1)\n"
     ]
    },
    {
     "name": "stderr",
     "output_type": "stream",
     "text": [
      "/home/josh/Documents/GitHub/ropacea/ropacea/scs.py:32: RuntimeWarning:\n",
      "\n",
      "divide by zero encountered in scalar divide\n",
      "\n",
      "/home/josh/Documents/GitHub/ropacea/ropacea/scs.py:32: RuntimeWarning:\n",
      "\n",
      "divide by zero encountered in scalar divide\n",
      "\n",
      "/home/josh/Documents/GitHub/ropacea/ropacea/scs.py:32: RuntimeWarning:\n",
      "\n",
      "divide by zero encountered in scalar divide\n",
      "\n",
      "/home/josh/Documents/GitHub/ropacea/ropacea/scs.py:32: RuntimeWarning:\n",
      "\n",
      "divide by zero encountered in scalar divide\n",
      "\n",
      "/home/josh/Documents/GitHub/ropacea/ropacea/scs.py:32: RuntimeWarning:\n",
      "\n",
      "divide by zero encountered in scalar divide\n",
      "\n"
     ]
    },
    {
     "name": "stdout",
     "output_type": "stream",
     "text": [
      "monthly_portfolio_return = 0.0728\n",
      "risk_free_return = -0.0051\n",
      "mark_date = datetime.date(2018, 8, 1)\n",
      "monthly_portfolio_return = 0.0846\n",
      "risk_free_return = 0.0101\n",
      "mark_date = datetime.date(2018, 9, 1)\n",
      "monthly_portfolio_return = 0.0174\n",
      "risk_free_return = -0.0148\n",
      "mark_date = datetime.date(2018, 10, 1)\n",
      "monthly_portfolio_return = -0.0677\n",
      "risk_free_return = -0.0043\n",
      "mark_date = datetime.date(2018, 11, 1)\n",
      "monthly_portfolio_return = 0.0161\n",
      "risk_free_return = 0.0149\n",
      "mark_date = datetime.date(2018, 12, 1)\n"
     ]
    },
    {
     "name": "stderr",
     "output_type": "stream",
     "text": [
      "/home/josh/Documents/GitHub/ropacea/ropacea/scs.py:32: RuntimeWarning:\n",
      "\n",
      "divide by zero encountered in scalar divide\n",
      "\n",
      "/home/josh/Documents/GitHub/ropacea/ropacea/scs.py:32: RuntimeWarning:\n",
      "\n",
      "divide by zero encountered in scalar divide\n",
      "\n",
      "/home/josh/Documents/GitHub/ropacea/ropacea/scs.py:32: RuntimeWarning:\n",
      "\n",
      "divide by zero encountered in scalar divide\n",
      "\n",
      "/home/josh/Documents/GitHub/ropacea/ropacea/scs.py:32: RuntimeWarning:\n",
      "\n",
      "divide by zero encountered in scalar divide\n",
      "\n",
      "/home/josh/Documents/GitHub/ropacea/ropacea/scs.py:32: RuntimeWarning:\n",
      "\n",
      "divide by zero encountered in scalar divide\n",
      "\n"
     ]
    },
    {
     "name": "stdout",
     "output_type": "stream",
     "text": [
      "monthly_portfolio_return = -0.0775\n",
      "risk_free_return = 0.0286\n",
      "mark_date = datetime.date(2019, 1, 1)\n",
      "monthly_portfolio_return = 0.0411\n",
      "risk_free_return = 0.0071\n",
      "mark_date = datetime.date(2019, 2, 1)\n",
      "monthly_portfolio_return = 0.0594\n",
      "risk_free_return = -0.0043\n",
      "mark_date = datetime.date(2019, 3, 1)\n",
      "monthly_portfolio_return = 0.0590\n",
      "risk_free_return = 0.0294\n",
      "mark_date = datetime.date(2019, 4, 1)\n",
      "monthly_portfolio_return = -0.0155\n",
      "risk_free_return = -0.0062\n",
      "mark_date = datetime.date(2019, 5, 1)\n"
     ]
    },
    {
     "name": "stderr",
     "output_type": "stream",
     "text": [
      "/home/josh/Documents/GitHub/ropacea/ropacea/scs.py:32: RuntimeWarning:\n",
      "\n",
      "divide by zero encountered in scalar divide\n",
      "\n",
      "/home/josh/Documents/GitHub/ropacea/ropacea/scs.py:32: RuntimeWarning:\n",
      "\n",
      "divide by zero encountered in scalar divide\n",
      "\n",
      "/home/josh/Documents/GitHub/ropacea/ropacea/scs.py:32: RuntimeWarning:\n",
      "\n",
      "divide by zero encountered in scalar divide\n",
      "\n",
      "/home/josh/Documents/GitHub/ropacea/ropacea/scs.py:32: RuntimeWarning:\n",
      "\n",
      "divide by zero encountered in scalar divide\n",
      "\n",
      "/home/josh/Documents/GitHub/ropacea/ropacea/scs.py:32: RuntimeWarning:\n",
      "\n",
      "divide by zero encountered in scalar divide\n",
      "\n"
     ]
    },
    {
     "name": "stdout",
     "output_type": "stream",
     "text": [
      "monthly_portfolio_return = -0.0578\n",
      "risk_free_return = 0.0319\n",
      "mark_date = datetime.date(2019, 6, 1)\n",
      "monthly_portfolio_return = 0.0502\n",
      "risk_free_return = 0.0121\n",
      "mark_date = datetime.date(2019, 7, 1)\n",
      "monthly_portfolio_return = 0.0138\n",
      "risk_free_return = 0.0034\n",
      "mark_date = datetime.date(2019, 8, 1)\n",
      "monthly_portfolio_return = 0.0218\n",
      "risk_free_return = 0.0403\n",
      "mark_date = datetime.date(2019, 9, 1)\n",
      "monthly_portfolio_return = -0.0117\n",
      "risk_free_return = -0.0139\n",
      "mark_date = datetime.date(2019, 10, 1)\n"
     ]
    },
    {
     "name": "stderr",
     "output_type": "stream",
     "text": [
      "/home/josh/Documents/GitHub/ropacea/ropacea/scs.py:32: RuntimeWarning:\n",
      "\n",
      "divide by zero encountered in scalar divide\n",
      "\n",
      "/home/josh/Documents/GitHub/ropacea/ropacea/scs.py:32: RuntimeWarning:\n",
      "\n",
      "divide by zero encountered in scalar divide\n",
      "\n",
      "/home/josh/Documents/GitHub/ropacea/ropacea/scs.py:32: RuntimeWarning:\n",
      "\n",
      "divide by zero encountered in scalar divide\n",
      "\n",
      "/home/josh/Documents/GitHub/ropacea/ropacea/scs.py:32: RuntimeWarning:\n",
      "\n",
      "divide by zero encountered in scalar divide\n",
      "\n",
      "/home/josh/Documents/GitHub/ropacea/ropacea/scs.py:32: RuntimeWarning:\n",
      "\n",
      "divide by zero encountered in scalar divide\n",
      "\n"
     ]
    },
    {
     "name": "stdout",
     "output_type": "stream",
     "text": [
      "monthly_portfolio_return = 0.0087\n",
      "risk_free_return = -0.0007\n",
      "mark_date = datetime.date(2019, 11, 1)\n",
      "monthly_portfolio_return = 0.0418\n",
      "risk_free_return = -0.0074\n",
      "mark_date = datetime.date(2019, 12, 1)\n",
      "monthly_portfolio_return = 0.0641\n",
      "risk_free_return = -0.0113\n",
      "mark_date = datetime.date(2020, 1, 1)\n",
      "monthly_portfolio_return = 0.0568\n",
      "risk_free_return = 0.0392\n",
      "mark_date = datetime.date(2020, 2, 1)\n",
      "monthly_portfolio_return = -0.0389\n",
      "risk_free_return = 0.0299\n",
      "mark_date = datetime.date(2020, 3, 1)\n"
     ]
    },
    {
     "name": "stderr",
     "output_type": "stream",
     "text": [
      "/home/josh/Documents/GitHub/ropacea/ropacea/scs.py:32: RuntimeWarning:\n",
      "\n",
      "divide by zero encountered in scalar divide\n",
      "\n",
      "/home/josh/Documents/GitHub/ropacea/ropacea/scs.py:32: RuntimeWarning:\n",
      "\n",
      "divide by zero encountered in scalar divide\n",
      "\n",
      "/home/josh/Documents/GitHub/ropacea/ropacea/scs.py:32: RuntimeWarning:\n",
      "\n",
      "divide by zero encountered in scalar divide\n",
      "\n",
      "/home/josh/Documents/GitHub/ropacea/ropacea/scs.py:32: RuntimeWarning:\n",
      "\n",
      "divide by zero encountered in scalar divide\n",
      "\n",
      "/home/josh/Documents/GitHub/ropacea/ropacea/scs.py:32: RuntimeWarning:\n",
      "\n",
      "divide by zero encountered in scalar divide\n",
      "\n"
     ]
    },
    {
     "name": "stdout",
     "output_type": "stream",
     "text": [
      "monthly_portfolio_return = -0.0535\n",
      "risk_free_return = 0.0397\n",
      "mark_date = datetime.date(2020, 4, 1)\n",
      "monthly_portfolio_return = 0.1090\n",
      "risk_free_return = 0.0050\n",
      "mark_date = datetime.date(2020, 5, 1)\n",
      "monthly_portfolio_return = 0.0452\n",
      "risk_free_return = 0.0007\n",
      "mark_date = datetime.date(2020, 6, 1)\n",
      "monthly_portfolio_return = 0.0543\n",
      "risk_free_return = 0.0004\n",
      "mark_date = datetime.date(2020, 7, 1)\n",
      "monthly_portfolio_return = 0.0320\n",
      "risk_free_return = 0.0128\n",
      "mark_date = datetime.date(2020, 8, 1)\n"
     ]
    },
    {
     "name": "stderr",
     "output_type": "stream",
     "text": [
      "/home/josh/Documents/GitHub/ropacea/ropacea/scs.py:32: RuntimeWarning:\n",
      "\n",
      "divide by zero encountered in scalar divide\n",
      "\n",
      "/home/josh/Documents/GitHub/ropacea/ropacea/scs.py:32: RuntimeWarning:\n",
      "\n",
      "divide by zero encountered in scalar divide\n",
      "\n",
      "/home/josh/Documents/GitHub/ropacea/ropacea/scs.py:32: RuntimeWarning:\n",
      "\n",
      "divide by zero encountered in scalar divide\n",
      "\n",
      "/home/josh/Documents/GitHub/ropacea/ropacea/scs.py:32: RuntimeWarning:\n",
      "\n",
      "divide by zero encountered in scalar divide\n",
      "\n",
      "/home/josh/Documents/GitHub/ropacea/ropacea/scs.py:32: RuntimeWarning:\n",
      "\n",
      "divide by zero encountered in scalar divide\n",
      "\n"
     ]
    },
    {
     "name": "stdout",
     "output_type": "stream",
     "text": [
      "monthly_portfolio_return = 0.0995\n",
      "risk_free_return = -0.0147\n",
      "mark_date = datetime.date(2020, 9, 1)\n",
      "monthly_portfolio_return = -0.0121\n",
      "risk_free_return = 0.0026\n",
      "mark_date = datetime.date(2020, 10, 1)\n",
      "monthly_portfolio_return = -0.0551\n",
      "risk_free_return = -0.0173\n",
      "mark_date = datetime.date(2020, 11, 1)\n",
      "monthly_portfolio_return = 0.0560\n",
      "risk_free_return = 0.0040\n",
      "mark_date = datetime.date(2020, 12, 1)\n",
      "monthly_portfolio_return = 0.0102\n",
      "risk_free_return = -0.0050\n",
      "mark_date = datetime.date(2021, 1, 1)\n"
     ]
    },
    {
     "name": "stderr",
     "output_type": "stream",
     "text": [
      "/home/josh/Documents/GitHub/ropacea/ropacea/scs.py:32: RuntimeWarning:\n",
      "\n",
      "divide by zero encountered in scalar divide\n",
      "\n",
      "/home/josh/Documents/GitHub/ropacea/ropacea/scs.py:32: RuntimeWarning:\n",
      "\n",
      "divide by zero encountered in scalar divide\n",
      "\n",
      "/home/josh/Documents/GitHub/ropacea/ropacea/scs.py:32: RuntimeWarning:\n",
      "\n",
      "divide by zero encountered in scalar divide\n",
      "\n",
      "/home/josh/Documents/GitHub/ropacea/ropacea/scs.py:32: RuntimeWarning:\n",
      "\n",
      "divide by zero encountered in scalar divide\n",
      "\n",
      "/home/josh/Documents/GitHub/ropacea/ropacea/scs.py:32: RuntimeWarning:\n",
      "\n",
      "divide by zero encountered in scalar divide\n",
      "\n"
     ]
    },
    {
     "name": "stdout",
     "output_type": "stream",
     "text": [
      "monthly_portfolio_return = 0.0263\n",
      "risk_free_return = -0.0107\n",
      "mark_date = datetime.date(2021, 2, 1)\n",
      "monthly_portfolio_return = -0.0132\n",
      "risk_free_return = -0.0254\n",
      "mark_date = datetime.date(2021, 3, 1)\n",
      "monthly_portfolio_return = -0.0153\n",
      "risk_free_return = -0.0293\n",
      "mark_date = datetime.date(2021, 4, 1)\n",
      "monthly_portfolio_return = 0.0551\n",
      "risk_free_return = 0.0119\n",
      "mark_date = datetime.date(2021, 5, 1)\n",
      "monthly_portfolio_return = 0.0307\n",
      "risk_free_return = 0.0034\n",
      "mark_date = datetime.date(2021, 6, 1)\n"
     ]
    },
    {
     "name": "stderr",
     "output_type": "stream",
     "text": [
      "/home/josh/Documents/GitHub/ropacea/ropacea/scs.py:32: RuntimeWarning:\n",
      "\n",
      "divide by zero encountered in scalar divide\n",
      "\n",
      "/home/josh/Documents/GitHub/ropacea/ropacea/scs.py:32: RuntimeWarning:\n",
      "\n",
      "divide by zero encountered in scalar divide\n",
      "\n",
      "/home/josh/Documents/GitHub/ropacea/ropacea/scs.py:32: RuntimeWarning:\n",
      "\n",
      "divide by zero encountered in scalar divide\n",
      "\n",
      "/home/josh/Documents/GitHub/ropacea/ropacea/scs.py:32: RuntimeWarning:\n",
      "\n",
      "divide by zero encountered in scalar divide\n",
      "\n",
      "/home/josh/Documents/GitHub/ropacea/ropacea/scs.py:32: RuntimeWarning:\n",
      "\n",
      "divide by zero encountered in scalar divide\n",
      "\n"
     ]
    },
    {
     "name": "stdout",
     "output_type": "stream",
     "text": [
      "monthly_portfolio_return = 0.1108\n",
      "risk_free_return = 0.0141\n",
      "mark_date = datetime.date(2021, 7, 1)\n",
      "monthly_portfolio_return = 0.0418\n",
      "risk_free_return = 0.0238\n",
      "mark_date = datetime.date(2021, 8, 1)\n",
      "monthly_portfolio_return = 0.0734\n",
      "risk_free_return = -0.0048\n",
      "mark_date = datetime.date(2021, 9, 1)\n",
      "monthly_portfolio_return = -0.0748\n",
      "risk_free_return = -0.0154\n",
      "mark_date = datetime.date(2021, 10, 1)\n",
      "monthly_portfolio_return = 0.1388\n",
      "risk_free_return = -0.0049\n",
      "mark_date = datetime.date(2021, 11, 1)\n"
     ]
    },
    {
     "name": "stderr",
     "output_type": "stream",
     "text": [
      "/home/josh/Documents/GitHub/ropacea/ropacea/scs.py:32: RuntimeWarning:\n",
      "\n",
      "divide by zero encountered in scalar divide\n",
      "\n",
      "/home/josh/Documents/GitHub/ropacea/ropacea/scs.py:32: RuntimeWarning:\n",
      "\n",
      "divide by zero encountered in scalar divide\n",
      "\n",
      "/home/josh/Documents/GitHub/ropacea/ropacea/scs.py:32: RuntimeWarning:\n",
      "\n",
      "divide by zero encountered in scalar divide\n",
      "\n",
      "/home/josh/Documents/GitHub/ropacea/ropacea/scs.py:32: RuntimeWarning:\n",
      "\n",
      "divide by zero encountered in scalar divide\n",
      "\n",
      "/home/josh/Documents/GitHub/ropacea/ropacea/scs.py:32: RuntimeWarning:\n",
      "\n",
      "divide by zero encountered in scalar divide\n",
      "\n"
     ]
    },
    {
     "name": "stdout",
     "output_type": "stream",
     "text": [
      "monthly_portfolio_return = 0.0475\n",
      "risk_free_return = 0.0125\n",
      "mark_date = datetime.date(2021, 12, 1)\n",
      "monthly_portfolio_return = 0.0348\n",
      "risk_free_return = -0.0047\n",
      "========== SUMMARY ==========\n",
      "monthly_returns_bp_mean = 236.10\n",
      "monthly_returns_bp_std = 516.03\n",
      "annualized_mean_pct = 32.32\n",
      "annualized_std_pct = 17.88\n",
      "sharpe_ratio = 1.81\n",
      "mark_date = datetime.date(2017, 1, 1)\n",
      "monthly_portfolio_return = 0.0415\n",
      "risk_free_return = 0.0022\n",
      "mark_date = datetime.date(2017, 2, 1)\n",
      "monthly_portfolio_return = 0.0186\n",
      "risk_free_return = 0.0074\n",
      "mark_date = datetime.date(2017, 3, 1)\n",
      "monthly_portfolio_return = 0.0411\n",
      "risk_free_return = 0.0024\n",
      "mark_date = datetime.date(2017, 4, 1)\n"
     ]
    },
    {
     "name": "stderr",
     "output_type": "stream",
     "text": [
      "/home/josh/Documents/GitHub/ropacea/ropacea/scs.py:32: RuntimeWarning:\n",
      "\n",
      "divide by zero encountered in scalar divide\n",
      "\n",
      "/home/josh/Documents/GitHub/ropacea/ropacea/scs.py:32: RuntimeWarning:\n",
      "\n",
      "divide by zero encountered in scalar divide\n",
      "\n",
      "/home/josh/Documents/GitHub/ropacea/ropacea/scs.py:32: RuntimeWarning:\n",
      "\n",
      "divide by zero encountered in scalar divide\n",
      "\n",
      "/home/josh/Documents/GitHub/ropacea/ropacea/scs.py:32: RuntimeWarning:\n",
      "\n",
      "divide by zero encountered in scalar divide\n",
      "\n",
      "/home/josh/Documents/GitHub/ropacea/ropacea/scs.py:32: RuntimeWarning:\n",
      "\n",
      "divide by zero encountered in scalar divide\n",
      "\n"
     ]
    },
    {
     "name": "stdout",
     "output_type": "stream",
     "text": [
      "monthly_portfolio_return = -0.0133\n",
      "risk_free_return = 0.0111\n",
      "mark_date = datetime.date(2017, 5, 1)\n",
      "monthly_portfolio_return = 0.1080\n",
      "risk_free_return = 0.0079\n",
      "mark_date = datetime.date(2017, 6, 1)\n",
      "monthly_portfolio_return = 0.0197\n",
      "risk_free_return = -0.0013\n",
      "mark_date = datetime.date(2017, 7, 1)\n",
      "monthly_portfolio_return = 0.0393\n",
      "risk_free_return = -0.0000\n",
      "mark_date = datetime.date(2017, 8, 1)\n",
      "monthly_portfolio_return = 0.0225\n",
      "risk_free_return = 0.0171\n",
      "mark_date = datetime.date(2017, 9, 1)\n"
     ]
    },
    {
     "name": "stderr",
     "output_type": "stream",
     "text": [
      "/home/josh/Documents/GitHub/ropacea/ropacea/scs.py:32: RuntimeWarning:\n",
      "\n",
      "divide by zero encountered in scalar divide\n",
      "\n",
      "/home/josh/Documents/GitHub/ropacea/ropacea/scs.py:32: RuntimeWarning:\n",
      "\n",
      "divide by zero encountered in scalar divide\n",
      "\n",
      "/home/josh/Documents/GitHub/ropacea/ropacea/scs.py:32: RuntimeWarning:\n",
      "\n",
      "divide by zero encountered in scalar divide\n",
      "\n",
      "/home/josh/Documents/GitHub/ropacea/ropacea/scs.py:32: RuntimeWarning:\n",
      "\n",
      "divide by zero encountered in scalar divide\n",
      "\n",
      "/home/josh/Documents/GitHub/ropacea/ropacea/scs.py:32: RuntimeWarning:\n",
      "\n",
      "divide by zero encountered in scalar divide\n",
      "\n"
     ]
    },
    {
     "name": "stdout",
     "output_type": "stream",
     "text": [
      "monthly_portfolio_return = 0.0195\n",
      "risk_free_return = -0.0172\n",
      "mark_date = datetime.date(2017, 10, 1)\n",
      "monthly_portfolio_return = 0.0783\n",
      "risk_free_return = -0.0011\n",
      "mark_date = datetime.date(2017, 11, 1)\n",
      "monthly_portfolio_return = 0.0190\n",
      "risk_free_return = -0.0026\n",
      "mark_date = datetime.date(2017, 12, 1)\n",
      "monthly_portfolio_return = -0.0115\n",
      "risk_free_return = 0.0022\n",
      "mark_date = datetime.date(2018, 1, 1)\n",
      "monthly_portfolio_return = 0.1038\n",
      "risk_free_return = -0.0236\n",
      "mark_date = datetime.date(2018, 2, 1)\n"
     ]
    },
    {
     "name": "stderr",
     "output_type": "stream",
     "text": [
      "/home/josh/Documents/GitHub/ropacea/ropacea/scs.py:32: RuntimeWarning:\n",
      "\n",
      "divide by zero encountered in scalar divide\n",
      "\n",
      "/home/josh/Documents/GitHub/ropacea/ropacea/scs.py:32: RuntimeWarning:\n",
      "\n",
      "divide by zero encountered in scalar divide\n",
      "\n",
      "/home/josh/Documents/GitHub/ropacea/ropacea/scs.py:32: RuntimeWarning:\n",
      "\n",
      "divide by zero encountered in scalar divide\n",
      "\n",
      "/home/josh/Documents/GitHub/ropacea/ropacea/scs.py:32: RuntimeWarning:\n",
      "\n",
      "divide by zero encountered in scalar divide\n",
      "\n",
      "/home/josh/Documents/GitHub/ropacea/ropacea/scs.py:32: RuntimeWarning:\n",
      "\n",
      "divide by zero encountered in scalar divide\n",
      "\n"
     ]
    },
    {
     "name": "stdout",
     "output_type": "stream",
     "text": [
      "monthly_portfolio_return = -0.0229\n",
      "risk_free_return = -0.0130\n",
      "mark_date = datetime.date(2018, 3, 1)\n",
      "monthly_portfolio_return = -0.0113\n",
      "risk_free_return = 0.0128\n",
      "mark_date = datetime.date(2018, 4, 1)\n",
      "monthly_portfolio_return = 0.0228\n",
      "risk_free_return = -0.0155\n",
      "mark_date = datetime.date(2018, 5, 1)\n",
      "monthly_portfolio_return = 0.0604\n",
      "risk_free_return = 0.0096\n",
      "mark_date = datetime.date(2018, 6, 1)\n",
      "monthly_portfolio_return = -0.0123\n",
      "risk_free_return = 0.0023\n",
      "mark_date = datetime.date(2018, 7, 1)\n"
     ]
    },
    {
     "name": "stderr",
     "output_type": "stream",
     "text": [
      "/home/josh/Documents/GitHub/ropacea/ropacea/scs.py:32: RuntimeWarning:\n",
      "\n",
      "divide by zero encountered in scalar divide\n",
      "\n",
      "/home/josh/Documents/GitHub/ropacea/ropacea/scs.py:32: RuntimeWarning:\n",
      "\n",
      "divide by zero encountered in scalar divide\n",
      "\n",
      "/home/josh/Documents/GitHub/ropacea/ropacea/scs.py:32: RuntimeWarning:\n",
      "\n",
      "divide by zero encountered in scalar divide\n",
      "\n",
      "/home/josh/Documents/GitHub/ropacea/ropacea/scs.py:32: RuntimeWarning:\n",
      "\n",
      "divide by zero encountered in scalar divide\n",
      "\n",
      "/home/josh/Documents/GitHub/ropacea/ropacea/scs.py:32: RuntimeWarning:\n",
      "\n",
      "divide by zero encountered in scalar divide\n",
      "\n"
     ]
    },
    {
     "name": "stdout",
     "output_type": "stream",
     "text": [
      "monthly_portfolio_return = 0.0728\n",
      "risk_free_return = -0.0051\n",
      "mark_date = datetime.date(2018, 8, 1)\n",
      "monthly_portfolio_return = 0.0851\n",
      "risk_free_return = 0.0101\n",
      "mark_date = datetime.date(2018, 9, 1)\n",
      "monthly_portfolio_return = 0.0173\n",
      "risk_free_return = -0.0148\n",
      "mark_date = datetime.date(2018, 10, 1)\n",
      "monthly_portfolio_return = -0.0699\n",
      "risk_free_return = -0.0043\n",
      "mark_date = datetime.date(2018, 11, 1)\n",
      "monthly_portfolio_return = 0.0142\n",
      "risk_free_return = 0.0149\n",
      "mark_date = datetime.date(2018, 12, 1)\n"
     ]
    },
    {
     "name": "stderr",
     "output_type": "stream",
     "text": [
      "/home/josh/Documents/GitHub/ropacea/ropacea/scs.py:32: RuntimeWarning:\n",
      "\n",
      "divide by zero encountered in scalar divide\n",
      "\n",
      "/home/josh/Documents/GitHub/ropacea/ropacea/scs.py:32: RuntimeWarning:\n",
      "\n",
      "divide by zero encountered in scalar divide\n",
      "\n",
      "/home/josh/Documents/GitHub/ropacea/ropacea/scs.py:32: RuntimeWarning:\n",
      "\n",
      "divide by zero encountered in scalar divide\n",
      "\n",
      "/home/josh/Documents/GitHub/ropacea/ropacea/scs.py:32: RuntimeWarning:\n",
      "\n",
      "divide by zero encountered in scalar divide\n",
      "\n",
      "/home/josh/Documents/GitHub/ropacea/ropacea/scs.py:32: RuntimeWarning:\n",
      "\n",
      "divide by zero encountered in scalar divide\n",
      "\n"
     ]
    },
    {
     "name": "stdout",
     "output_type": "stream",
     "text": [
      "monthly_portfolio_return = -0.0784\n",
      "risk_free_return = 0.0286\n",
      "mark_date = datetime.date(2019, 1, 1)\n",
      "monthly_portfolio_return = 0.0415\n",
      "risk_free_return = 0.0071\n",
      "mark_date = datetime.date(2019, 2, 1)\n",
      "monthly_portfolio_return = 0.0596\n",
      "risk_free_return = -0.0043\n",
      "mark_date = datetime.date(2019, 3, 1)\n",
      "monthly_portfolio_return = 0.0600\n",
      "risk_free_return = 0.0294\n",
      "mark_date = datetime.date(2019, 4, 1)\n",
      "monthly_portfolio_return = -0.0161\n",
      "risk_free_return = -0.0062\n",
      "mark_date = datetime.date(2019, 5, 1)\n"
     ]
    },
    {
     "name": "stderr",
     "output_type": "stream",
     "text": [
      "/home/josh/Documents/GitHub/ropacea/ropacea/scs.py:32: RuntimeWarning:\n",
      "\n",
      "divide by zero encountered in scalar divide\n",
      "\n",
      "/home/josh/Documents/GitHub/ropacea/ropacea/scs.py:32: RuntimeWarning:\n",
      "\n",
      "divide by zero encountered in scalar divide\n",
      "\n",
      "/home/josh/Documents/GitHub/ropacea/ropacea/scs.py:32: RuntimeWarning:\n",
      "\n",
      "divide by zero encountered in scalar divide\n",
      "\n",
      "/home/josh/Documents/GitHub/ropacea/ropacea/scs.py:32: RuntimeWarning:\n",
      "\n",
      "divide by zero encountered in scalar divide\n",
      "\n",
      "/home/josh/Documents/GitHub/ropacea/ropacea/scs.py:32: RuntimeWarning:\n",
      "\n",
      "divide by zero encountered in scalar divide\n",
      "\n"
     ]
    },
    {
     "name": "stdout",
     "output_type": "stream",
     "text": [
      "monthly_portfolio_return = -0.0601\n",
      "risk_free_return = 0.0319\n",
      "mark_date = datetime.date(2019, 6, 1)\n",
      "monthly_portfolio_return = 0.0518\n",
      "risk_free_return = 0.0121\n",
      "mark_date = datetime.date(2019, 7, 1)\n",
      "monthly_portfolio_return = 0.0141\n",
      "risk_free_return = 0.0034\n",
      "mark_date = datetime.date(2019, 8, 1)\n",
      "monthly_portfolio_return = 0.0210\n",
      "risk_free_return = 0.0403\n",
      "mark_date = datetime.date(2019, 9, 1)\n",
      "monthly_portfolio_return = -0.0114\n",
      "risk_free_return = -0.0139\n",
      "mark_date = datetime.date(2019, 10, 1)\n"
     ]
    },
    {
     "name": "stderr",
     "output_type": "stream",
     "text": [
      "/home/josh/Documents/GitHub/ropacea/ropacea/scs.py:32: RuntimeWarning:\n",
      "\n",
      "divide by zero encountered in scalar divide\n",
      "\n",
      "/home/josh/Documents/GitHub/ropacea/ropacea/scs.py:32: RuntimeWarning:\n",
      "\n",
      "divide by zero encountered in scalar divide\n",
      "\n",
      "/home/josh/Documents/GitHub/ropacea/ropacea/scs.py:32: RuntimeWarning:\n",
      "\n",
      "divide by zero encountered in scalar divide\n",
      "\n",
      "/home/josh/Documents/GitHub/ropacea/ropacea/scs.py:32: RuntimeWarning:\n",
      "\n",
      "divide by zero encountered in scalar divide\n",
      "\n",
      "/home/josh/Documents/GitHub/ropacea/ropacea/scs.py:32: RuntimeWarning:\n",
      "\n",
      "divide by zero encountered in scalar divide\n",
      "\n"
     ]
    },
    {
     "name": "stdout",
     "output_type": "stream",
     "text": [
      "monthly_portfolio_return = 0.0103\n",
      "risk_free_return = -0.0007\n",
      "mark_date = datetime.date(2019, 11, 1)\n",
      "monthly_portfolio_return = 0.0427\n",
      "risk_free_return = -0.0074\n",
      "mark_date = datetime.date(2019, 12, 1)\n",
      "monthly_portfolio_return = 0.0645\n",
      "risk_free_return = -0.0113\n",
      "mark_date = datetime.date(2020, 1, 1)\n",
      "monthly_portfolio_return = 0.0563\n",
      "risk_free_return = 0.0392\n",
      "mark_date = datetime.date(2020, 2, 1)\n",
      "monthly_portfolio_return = -0.0367\n",
      "risk_free_return = 0.0299\n",
      "mark_date = datetime.date(2020, 3, 1)\n"
     ]
    },
    {
     "name": "stderr",
     "output_type": "stream",
     "text": [
      "/home/josh/Documents/GitHub/ropacea/ropacea/scs.py:32: RuntimeWarning:\n",
      "\n",
      "divide by zero encountered in scalar divide\n",
      "\n",
      "/home/josh/Documents/GitHub/ropacea/ropacea/scs.py:32: RuntimeWarning:\n",
      "\n",
      "divide by zero encountered in scalar divide\n",
      "\n",
      "/home/josh/Documents/GitHub/ropacea/ropacea/scs.py:32: RuntimeWarning:\n",
      "\n",
      "divide by zero encountered in scalar divide\n",
      "\n",
      "/home/josh/Documents/GitHub/ropacea/ropacea/scs.py:32: RuntimeWarning:\n",
      "\n",
      "divide by zero encountered in scalar divide\n",
      "\n",
      "/home/josh/Documents/GitHub/ropacea/ropacea/scs.py:32: RuntimeWarning:\n",
      "\n",
      "divide by zero encountered in scalar divide\n",
      "\n"
     ]
    },
    {
     "name": "stdout",
     "output_type": "stream",
     "text": [
      "monthly_portfolio_return = -0.0532\n",
      "risk_free_return = 0.0397\n",
      "mark_date = datetime.date(2020, 4, 1)\n",
      "monthly_portfolio_return = 0.1092\n",
      "risk_free_return = 0.0050\n",
      "mark_date = datetime.date(2020, 5, 1)\n",
      "monthly_portfolio_return = 0.0465\n",
      "risk_free_return = 0.0007\n",
      "mark_date = datetime.date(2020, 6, 1)\n",
      "monthly_portfolio_return = 0.0553\n",
      "risk_free_return = 0.0004\n",
      "mark_date = datetime.date(2020, 7, 1)\n",
      "monthly_portfolio_return = 0.0314\n",
      "risk_free_return = 0.0128\n",
      "mark_date = datetime.date(2020, 8, 1)\n"
     ]
    },
    {
     "name": "stderr",
     "output_type": "stream",
     "text": [
      "/home/josh/Documents/GitHub/ropacea/ropacea/scs.py:32: RuntimeWarning:\n",
      "\n",
      "divide by zero encountered in scalar divide\n",
      "\n",
      "/home/josh/Documents/GitHub/ropacea/ropacea/scs.py:32: RuntimeWarning:\n",
      "\n",
      "divide by zero encountered in scalar divide\n",
      "\n",
      "/home/josh/Documents/GitHub/ropacea/ropacea/scs.py:32: RuntimeWarning:\n",
      "\n",
      "divide by zero encountered in scalar divide\n",
      "\n",
      "/home/josh/Documents/GitHub/ropacea/ropacea/scs.py:32: RuntimeWarning:\n",
      "\n",
      "divide by zero encountered in scalar divide\n",
      "\n",
      "/home/josh/Documents/GitHub/ropacea/ropacea/scs.py:32: RuntimeWarning:\n",
      "\n",
      "divide by zero encountered in scalar divide\n",
      "\n"
     ]
    },
    {
     "name": "stdout",
     "output_type": "stream",
     "text": [
      "monthly_portfolio_return = 0.1007\n",
      "risk_free_return = -0.0147\n",
      "mark_date = datetime.date(2020, 9, 1)\n",
      "monthly_portfolio_return = -0.0126\n",
      "risk_free_return = 0.0026\n",
      "mark_date = datetime.date(2020, 10, 1)\n",
      "monthly_portfolio_return = -0.0555\n",
      "risk_free_return = -0.0173\n",
      "mark_date = datetime.date(2020, 11, 1)\n",
      "monthly_portfolio_return = 0.0555\n",
      "risk_free_return = 0.0040\n",
      "mark_date = datetime.date(2020, 12, 1)\n",
      "monthly_portfolio_return = 0.0098\n",
      "risk_free_return = -0.0050\n",
      "mark_date = datetime.date(2021, 1, 1)\n"
     ]
    },
    {
     "name": "stderr",
     "output_type": "stream",
     "text": [
      "/home/josh/Documents/GitHub/ropacea/ropacea/scs.py:32: RuntimeWarning:\n",
      "\n",
      "divide by zero encountered in scalar divide\n",
      "\n",
      "/home/josh/Documents/GitHub/ropacea/ropacea/scs.py:32: RuntimeWarning:\n",
      "\n",
      "divide by zero encountered in scalar divide\n",
      "\n",
      "/home/josh/Documents/GitHub/ropacea/ropacea/scs.py:32: RuntimeWarning:\n",
      "\n",
      "divide by zero encountered in scalar divide\n",
      "\n",
      "/home/josh/Documents/GitHub/ropacea/ropacea/scs.py:32: RuntimeWarning:\n",
      "\n",
      "divide by zero encountered in scalar divide\n",
      "\n",
      "/home/josh/Documents/GitHub/ropacea/ropacea/scs.py:32: RuntimeWarning:\n",
      "\n",
      "divide by zero encountered in scalar divide\n",
      "\n"
     ]
    },
    {
     "name": "stdout",
     "output_type": "stream",
     "text": [
      "monthly_portfolio_return = 0.0269\n",
      "risk_free_return = -0.0107\n",
      "mark_date = datetime.date(2021, 2, 1)\n",
      "monthly_portfolio_return = -0.0131\n",
      "risk_free_return = -0.0254\n",
      "mark_date = datetime.date(2021, 3, 1)\n",
      "monthly_portfolio_return = -0.0171\n",
      "risk_free_return = -0.0293\n",
      "mark_date = datetime.date(2021, 4, 1)\n",
      "monthly_portfolio_return = 0.0565\n",
      "risk_free_return = 0.0119\n",
      "mark_date = datetime.date(2021, 5, 1)\n",
      "monthly_portfolio_return = 0.0308\n",
      "risk_free_return = 0.0034\n",
      "mark_date = datetime.date(2021, 6, 1)\n"
     ]
    },
    {
     "name": "stderr",
     "output_type": "stream",
     "text": [
      "/home/josh/Documents/GitHub/ropacea/ropacea/scs.py:32: RuntimeWarning:\n",
      "\n",
      "divide by zero encountered in scalar divide\n",
      "\n",
      "/home/josh/Documents/GitHub/ropacea/ropacea/scs.py:32: RuntimeWarning:\n",
      "\n",
      "divide by zero encountered in scalar divide\n",
      "\n",
      "/home/josh/Documents/GitHub/ropacea/ropacea/scs.py:32: RuntimeWarning:\n",
      "\n",
      "divide by zero encountered in scalar divide\n",
      "\n",
      "/home/josh/Documents/GitHub/ropacea/ropacea/scs.py:32: RuntimeWarning:\n",
      "\n",
      "divide by zero encountered in scalar divide\n",
      "\n",
      "/home/josh/Documents/GitHub/ropacea/ropacea/scs.py:32: RuntimeWarning:\n",
      "\n",
      "divide by zero encountered in scalar divide\n",
      "\n"
     ]
    },
    {
     "name": "stdout",
     "output_type": "stream",
     "text": [
      "monthly_portfolio_return = 0.1132\n",
      "risk_free_return = 0.0141\n",
      "mark_date = datetime.date(2021, 7, 1)\n",
      "monthly_portfolio_return = 0.0415\n",
      "risk_free_return = 0.0238\n",
      "mark_date = datetime.date(2021, 8, 1)\n",
      "monthly_portfolio_return = 0.0748\n",
      "risk_free_return = -0.0048\n",
      "mark_date = datetime.date(2021, 9, 1)\n",
      "monthly_portfolio_return = -0.0755\n",
      "risk_free_return = -0.0154\n",
      "mark_date = datetime.date(2021, 10, 1)\n",
      "monthly_portfolio_return = 0.1418\n",
      "risk_free_return = -0.0049\n",
      "mark_date = datetime.date(2021, 11, 1)\n"
     ]
    },
    {
     "name": "stderr",
     "output_type": "stream",
     "text": [
      "/home/josh/Documents/GitHub/ropacea/ropacea/scs.py:32: RuntimeWarning:\n",
      "\n",
      "divide by zero encountered in scalar divide\n",
      "\n",
      "/home/josh/Documents/GitHub/ropacea/ropacea/scs.py:32: RuntimeWarning:\n",
      "\n",
      "divide by zero encountered in scalar divide\n",
      "\n",
      "/home/josh/Documents/GitHub/ropacea/ropacea/scs.py:32: RuntimeWarning:\n",
      "\n",
      "divide by zero encountered in scalar divide\n",
      "\n",
      "/home/josh/Documents/GitHub/ropacea/ropacea/scs.py:32: RuntimeWarning:\n",
      "\n",
      "divide by zero encountered in scalar divide\n",
      "\n",
      "/home/josh/Documents/GitHub/ropacea/ropacea/scs.py:32: RuntimeWarning:\n",
      "\n",
      "divide by zero encountered in scalar divide\n",
      "\n"
     ]
    },
    {
     "name": "stdout",
     "output_type": "stream",
     "text": [
      "monthly_portfolio_return = 0.0493\n",
      "risk_free_return = 0.0125\n",
      "mark_date = datetime.date(2021, 12, 1)\n",
      "monthly_portfolio_return = 0.0326\n",
      "risk_free_return = -0.0047\n",
      "========== SUMMARY ==========\n",
      "monthly_returns_bp_mean = 238.79\n",
      "monthly_returns_bp_std = 522.62\n",
      "annualized_mean_pct = 32.74\n",
      "annualized_std_pct = 18.10\n",
      "sharpe_ratio = 1.81\n"
     ]
    }
   ],
   "source": [
    "results_df = param_tune(1.6,1.8, 10, PortfolioStrategy.SAMPLE_COVARIANCE)\n"
   ]
  },
  {
   "cell_type": "code",
   "execution_count": 11,
   "metadata": {},
   "outputs": [
    {
     "data": {
      "application/vnd.plotly.v1+json": {
       "config": {
        "plotlyServerURL": "https://plot.ly"
       },
       "data": [
        {
         "hovertemplate": "min_return_ratio=%{x}<br>Sharpe Ratio=%{y}<extra></extra>",
         "legendgroup": "",
         "line": {
          "color": "#636efa",
          "dash": "solid"
         },
         "marker": {
          "symbol": "circle"
         },
         "mode": "lines",
         "name": "",
         "orientation": "v",
         "showlegend": false,
         "type": "scatter",
         "x": [
          1.6,
          1.6222222222222222,
          1.6444444444444446,
          1.6666666666666667,
          1.6888888888888889,
          1.7111111111111112,
          1.7333333333333334,
          1.7555555555555555,
          1.777777777777778,
          1.8
         ],
         "xaxis": "x",
         "y": [
          1.8052293584902843,
          1.8081138473565808,
          1.810620479129715,
          1.812378130160263,
          1.8129421998481636,
          1.811896280798479,
          1.8106339877021642,
          1.8092481717840778,
          1.8078344651194878,
          1.8081527227804717
         ],
         "yaxis": "y"
        }
       ],
       "layout": {
        "legend": {
         "tracegroupgap": 0
        },
        "margin": {
         "t": 60
        },
        "template": {
         "data": {
          "bar": [
           {
            "error_x": {
             "color": "#2a3f5f"
            },
            "error_y": {
             "color": "#2a3f5f"
            },
            "marker": {
             "line": {
              "color": "#E5ECF6",
              "width": 0.5
             },
             "pattern": {
              "fillmode": "overlay",
              "size": 10,
              "solidity": 0.2
             }
            },
            "type": "bar"
           }
          ],
          "barpolar": [
           {
            "marker": {
             "line": {
              "color": "#E5ECF6",
              "width": 0.5
             },
             "pattern": {
              "fillmode": "overlay",
              "size": 10,
              "solidity": 0.2
             }
            },
            "type": "barpolar"
           }
          ],
          "carpet": [
           {
            "aaxis": {
             "endlinecolor": "#2a3f5f",
             "gridcolor": "white",
             "linecolor": "white",
             "minorgridcolor": "white",
             "startlinecolor": "#2a3f5f"
            },
            "baxis": {
             "endlinecolor": "#2a3f5f",
             "gridcolor": "white",
             "linecolor": "white",
             "minorgridcolor": "white",
             "startlinecolor": "#2a3f5f"
            },
            "type": "carpet"
           }
          ],
          "choropleth": [
           {
            "colorbar": {
             "outlinewidth": 0,
             "ticks": ""
            },
            "type": "choropleth"
           }
          ],
          "contour": [
           {
            "colorbar": {
             "outlinewidth": 0,
             "ticks": ""
            },
            "colorscale": [
             [
              0,
              "#0d0887"
             ],
             [
              0.1111111111111111,
              "#46039f"
             ],
             [
              0.2222222222222222,
              "#7201a8"
             ],
             [
              0.3333333333333333,
              "#9c179e"
             ],
             [
              0.4444444444444444,
              "#bd3786"
             ],
             [
              0.5555555555555556,
              "#d8576b"
             ],
             [
              0.6666666666666666,
              "#ed7953"
             ],
             [
              0.7777777777777778,
              "#fb9f3a"
             ],
             [
              0.8888888888888888,
              "#fdca26"
             ],
             [
              1,
              "#f0f921"
             ]
            ],
            "type": "contour"
           }
          ],
          "contourcarpet": [
           {
            "colorbar": {
             "outlinewidth": 0,
             "ticks": ""
            },
            "type": "contourcarpet"
           }
          ],
          "heatmap": [
           {
            "colorbar": {
             "outlinewidth": 0,
             "ticks": ""
            },
            "colorscale": [
             [
              0,
              "#0d0887"
             ],
             [
              0.1111111111111111,
              "#46039f"
             ],
             [
              0.2222222222222222,
              "#7201a8"
             ],
             [
              0.3333333333333333,
              "#9c179e"
             ],
             [
              0.4444444444444444,
              "#bd3786"
             ],
             [
              0.5555555555555556,
              "#d8576b"
             ],
             [
              0.6666666666666666,
              "#ed7953"
             ],
             [
              0.7777777777777778,
              "#fb9f3a"
             ],
             [
              0.8888888888888888,
              "#fdca26"
             ],
             [
              1,
              "#f0f921"
             ]
            ],
            "type": "heatmap"
           }
          ],
          "heatmapgl": [
           {
            "colorbar": {
             "outlinewidth": 0,
             "ticks": ""
            },
            "colorscale": [
             [
              0,
              "#0d0887"
             ],
             [
              0.1111111111111111,
              "#46039f"
             ],
             [
              0.2222222222222222,
              "#7201a8"
             ],
             [
              0.3333333333333333,
              "#9c179e"
             ],
             [
              0.4444444444444444,
              "#bd3786"
             ],
             [
              0.5555555555555556,
              "#d8576b"
             ],
             [
              0.6666666666666666,
              "#ed7953"
             ],
             [
              0.7777777777777778,
              "#fb9f3a"
             ],
             [
              0.8888888888888888,
              "#fdca26"
             ],
             [
              1,
              "#f0f921"
             ]
            ],
            "type": "heatmapgl"
           }
          ],
          "histogram": [
           {
            "marker": {
             "pattern": {
              "fillmode": "overlay",
              "size": 10,
              "solidity": 0.2
             }
            },
            "type": "histogram"
           }
          ],
          "histogram2d": [
           {
            "colorbar": {
             "outlinewidth": 0,
             "ticks": ""
            },
            "colorscale": [
             [
              0,
              "#0d0887"
             ],
             [
              0.1111111111111111,
              "#46039f"
             ],
             [
              0.2222222222222222,
              "#7201a8"
             ],
             [
              0.3333333333333333,
              "#9c179e"
             ],
             [
              0.4444444444444444,
              "#bd3786"
             ],
             [
              0.5555555555555556,
              "#d8576b"
             ],
             [
              0.6666666666666666,
              "#ed7953"
             ],
             [
              0.7777777777777778,
              "#fb9f3a"
             ],
             [
              0.8888888888888888,
              "#fdca26"
             ],
             [
              1,
              "#f0f921"
             ]
            ],
            "type": "histogram2d"
           }
          ],
          "histogram2dcontour": [
           {
            "colorbar": {
             "outlinewidth": 0,
             "ticks": ""
            },
            "colorscale": [
             [
              0,
              "#0d0887"
             ],
             [
              0.1111111111111111,
              "#46039f"
             ],
             [
              0.2222222222222222,
              "#7201a8"
             ],
             [
              0.3333333333333333,
              "#9c179e"
             ],
             [
              0.4444444444444444,
              "#bd3786"
             ],
             [
              0.5555555555555556,
              "#d8576b"
             ],
             [
              0.6666666666666666,
              "#ed7953"
             ],
             [
              0.7777777777777778,
              "#fb9f3a"
             ],
             [
              0.8888888888888888,
              "#fdca26"
             ],
             [
              1,
              "#f0f921"
             ]
            ],
            "type": "histogram2dcontour"
           }
          ],
          "mesh3d": [
           {
            "colorbar": {
             "outlinewidth": 0,
             "ticks": ""
            },
            "type": "mesh3d"
           }
          ],
          "parcoords": [
           {
            "line": {
             "colorbar": {
              "outlinewidth": 0,
              "ticks": ""
             }
            },
            "type": "parcoords"
           }
          ],
          "pie": [
           {
            "automargin": true,
            "type": "pie"
           }
          ],
          "scatter": [
           {
            "fillpattern": {
             "fillmode": "overlay",
             "size": 10,
             "solidity": 0.2
            },
            "type": "scatter"
           }
          ],
          "scatter3d": [
           {
            "line": {
             "colorbar": {
              "outlinewidth": 0,
              "ticks": ""
             }
            },
            "marker": {
             "colorbar": {
              "outlinewidth": 0,
              "ticks": ""
             }
            },
            "type": "scatter3d"
           }
          ],
          "scattercarpet": [
           {
            "marker": {
             "colorbar": {
              "outlinewidth": 0,
              "ticks": ""
             }
            },
            "type": "scattercarpet"
           }
          ],
          "scattergeo": [
           {
            "marker": {
             "colorbar": {
              "outlinewidth": 0,
              "ticks": ""
             }
            },
            "type": "scattergeo"
           }
          ],
          "scattergl": [
           {
            "marker": {
             "colorbar": {
              "outlinewidth": 0,
              "ticks": ""
             }
            },
            "type": "scattergl"
           }
          ],
          "scattermapbox": [
           {
            "marker": {
             "colorbar": {
              "outlinewidth": 0,
              "ticks": ""
             }
            },
            "type": "scattermapbox"
           }
          ],
          "scatterpolar": [
           {
            "marker": {
             "colorbar": {
              "outlinewidth": 0,
              "ticks": ""
             }
            },
            "type": "scatterpolar"
           }
          ],
          "scatterpolargl": [
           {
            "marker": {
             "colorbar": {
              "outlinewidth": 0,
              "ticks": ""
             }
            },
            "type": "scatterpolargl"
           }
          ],
          "scatterternary": [
           {
            "marker": {
             "colorbar": {
              "outlinewidth": 0,
              "ticks": ""
             }
            },
            "type": "scatterternary"
           }
          ],
          "surface": [
           {
            "colorbar": {
             "outlinewidth": 0,
             "ticks": ""
            },
            "colorscale": [
             [
              0,
              "#0d0887"
             ],
             [
              0.1111111111111111,
              "#46039f"
             ],
             [
              0.2222222222222222,
              "#7201a8"
             ],
             [
              0.3333333333333333,
              "#9c179e"
             ],
             [
              0.4444444444444444,
              "#bd3786"
             ],
             [
              0.5555555555555556,
              "#d8576b"
             ],
             [
              0.6666666666666666,
              "#ed7953"
             ],
             [
              0.7777777777777778,
              "#fb9f3a"
             ],
             [
              0.8888888888888888,
              "#fdca26"
             ],
             [
              1,
              "#f0f921"
             ]
            ],
            "type": "surface"
           }
          ],
          "table": [
           {
            "cells": {
             "fill": {
              "color": "#EBF0F8"
             },
             "line": {
              "color": "white"
             }
            },
            "header": {
             "fill": {
              "color": "#C8D4E3"
             },
             "line": {
              "color": "white"
             }
            },
            "type": "table"
           }
          ]
         },
         "layout": {
          "annotationdefaults": {
           "arrowcolor": "#2a3f5f",
           "arrowhead": 0,
           "arrowwidth": 1
          },
          "autotypenumbers": "strict",
          "coloraxis": {
           "colorbar": {
            "outlinewidth": 0,
            "ticks": ""
           }
          },
          "colorscale": {
           "diverging": [
            [
             0,
             "#8e0152"
            ],
            [
             0.1,
             "#c51b7d"
            ],
            [
             0.2,
             "#de77ae"
            ],
            [
             0.3,
             "#f1b6da"
            ],
            [
             0.4,
             "#fde0ef"
            ],
            [
             0.5,
             "#f7f7f7"
            ],
            [
             0.6,
             "#e6f5d0"
            ],
            [
             0.7,
             "#b8e186"
            ],
            [
             0.8,
             "#7fbc41"
            ],
            [
             0.9,
             "#4d9221"
            ],
            [
             1,
             "#276419"
            ]
           ],
           "sequential": [
            [
             0,
             "#0d0887"
            ],
            [
             0.1111111111111111,
             "#46039f"
            ],
            [
             0.2222222222222222,
             "#7201a8"
            ],
            [
             0.3333333333333333,
             "#9c179e"
            ],
            [
             0.4444444444444444,
             "#bd3786"
            ],
            [
             0.5555555555555556,
             "#d8576b"
            ],
            [
             0.6666666666666666,
             "#ed7953"
            ],
            [
             0.7777777777777778,
             "#fb9f3a"
            ],
            [
             0.8888888888888888,
             "#fdca26"
            ],
            [
             1,
             "#f0f921"
            ]
           ],
           "sequentialminus": [
            [
             0,
             "#0d0887"
            ],
            [
             0.1111111111111111,
             "#46039f"
            ],
            [
             0.2222222222222222,
             "#7201a8"
            ],
            [
             0.3333333333333333,
             "#9c179e"
            ],
            [
             0.4444444444444444,
             "#bd3786"
            ],
            [
             0.5555555555555556,
             "#d8576b"
            ],
            [
             0.6666666666666666,
             "#ed7953"
            ],
            [
             0.7777777777777778,
             "#fb9f3a"
            ],
            [
             0.8888888888888888,
             "#fdca26"
            ],
            [
             1,
             "#f0f921"
            ]
           ]
          },
          "colorway": [
           "#636efa",
           "#EF553B",
           "#00cc96",
           "#ab63fa",
           "#FFA15A",
           "#19d3f3",
           "#FF6692",
           "#B6E880",
           "#FF97FF",
           "#FECB52"
          ],
          "font": {
           "color": "#2a3f5f"
          },
          "geo": {
           "bgcolor": "white",
           "lakecolor": "white",
           "landcolor": "#E5ECF6",
           "showlakes": true,
           "showland": true,
           "subunitcolor": "white"
          },
          "hoverlabel": {
           "align": "left"
          },
          "hovermode": "closest",
          "mapbox": {
           "style": "light"
          },
          "paper_bgcolor": "white",
          "plot_bgcolor": "#E5ECF6",
          "polar": {
           "angularaxis": {
            "gridcolor": "white",
            "linecolor": "white",
            "ticks": ""
           },
           "bgcolor": "#E5ECF6",
           "radialaxis": {
            "gridcolor": "white",
            "linecolor": "white",
            "ticks": ""
           }
          },
          "scene": {
           "xaxis": {
            "backgroundcolor": "#E5ECF6",
            "gridcolor": "white",
            "gridwidth": 2,
            "linecolor": "white",
            "showbackground": true,
            "ticks": "",
            "zerolinecolor": "white"
           },
           "yaxis": {
            "backgroundcolor": "#E5ECF6",
            "gridcolor": "white",
            "gridwidth": 2,
            "linecolor": "white",
            "showbackground": true,
            "ticks": "",
            "zerolinecolor": "white"
           },
           "zaxis": {
            "backgroundcolor": "#E5ECF6",
            "gridcolor": "white",
            "gridwidth": 2,
            "linecolor": "white",
            "showbackground": true,
            "ticks": "",
            "zerolinecolor": "white"
           }
          },
          "shapedefaults": {
           "line": {
            "color": "#2a3f5f"
           }
          },
          "ternary": {
           "aaxis": {
            "gridcolor": "white",
            "linecolor": "white",
            "ticks": ""
           },
           "baxis": {
            "gridcolor": "white",
            "linecolor": "white",
            "ticks": ""
           },
           "bgcolor": "#E5ECF6",
           "caxis": {
            "gridcolor": "white",
            "linecolor": "white",
            "ticks": ""
           }
          },
          "title": {
           "x": 0.05
          },
          "xaxis": {
           "automargin": true,
           "gridcolor": "white",
           "linecolor": "white",
           "ticks": "",
           "title": {
            "standoff": 15
           },
           "zerolinecolor": "white",
           "zerolinewidth": 2
          },
          "yaxis": {
           "automargin": true,
           "gridcolor": "white",
           "linecolor": "white",
           "ticks": "",
           "title": {
            "standoff": 15
           },
           "zerolinecolor": "white",
           "zerolinewidth": 2
          }
         }
        },
        "xaxis": {
         "anchor": "y",
         "domain": [
          0,
          1
         ],
         "title": {
          "text": "min_return_ratio"
         }
        },
        "yaxis": {
         "anchor": "x",
         "domain": [
          0,
          1
         ],
         "title": {
          "text": "Sharpe Ratio"
         }
        }
       }
      }
     },
     "metadata": {},
     "output_type": "display_data"
    }
   ],
   "source": [
    "\n",
    "fig = px.line(results_df, x='min_return_ratio', y=\"Sharpe Ratio\")\n",
    "fig.show()"
   ]
  },
  {
   "cell_type": "code",
   "execution_count": null,
   "metadata": {},
   "outputs": [
    {
     "name": "stdout",
     "output_type": "stream",
     "text": [
      "mark_date = datetime.date(2017, 1, 1)\n",
      "monthly_portfolio_return = 0.0435\n",
      "risk_free_return = 0.0022\n",
      "mark_date = datetime.date(2017, 2, 1)\n"
     ]
    },
    {
     "name": "stderr",
     "output_type": "stream",
     "text": [
      "/home/josh/Documents/GitHub/ropacea/ropacea/Single_factor.py:67: FutureWarning:\n",
      "\n",
      "The behavior of DataFrame concatenation with empty or all-NA entries is deprecated. In a future version, this will no longer exclude empty or all-NA columns when determining the result dtypes. To retain the old behavior, exclude the relevant entries before the concat operation.\n",
      "\n",
      "/home/josh/Documents/GitHub/ropacea/ropacea/Single_factor.py:67: FutureWarning:\n",
      "\n",
      "The behavior of DataFrame concatenation with empty or all-NA entries is deprecated. In a future version, this will no longer exclude empty or all-NA columns when determining the result dtypes. To retain the old behavior, exclude the relevant entries before the concat operation.\n",
      "\n"
     ]
    },
    {
     "name": "stdout",
     "output_type": "stream",
     "text": [
      "monthly_portfolio_return = 0.0348\n",
      "risk_free_return = 0.0074\n",
      "mark_date = datetime.date(2017, 3, 1)\n",
      "monthly_portfolio_return = 0.0235\n",
      "risk_free_return = 0.0024\n",
      "mark_date = datetime.date(2017, 4, 1)\n"
     ]
    },
    {
     "name": "stderr",
     "output_type": "stream",
     "text": [
      "/home/josh/Documents/GitHub/ropacea/ropacea/Single_factor.py:67: FutureWarning:\n",
      "\n",
      "The behavior of DataFrame concatenation with empty or all-NA entries is deprecated. In a future version, this will no longer exclude empty or all-NA columns when determining the result dtypes. To retain the old behavior, exclude the relevant entries before the concat operation.\n",
      "\n",
      "/home/josh/Documents/GitHub/ropacea/ropacea/Single_factor.py:67: FutureWarning:\n",
      "\n",
      "The behavior of DataFrame concatenation with empty or all-NA entries is deprecated. In a future version, this will no longer exclude empty or all-NA columns when determining the result dtypes. To retain the old behavior, exclude the relevant entries before the concat operation.\n",
      "\n"
     ]
    },
    {
     "name": "stdout",
     "output_type": "stream",
     "text": [
      "monthly_portfolio_return = 0.0010\n",
      "risk_free_return = 0.0111\n",
      "mark_date = datetime.date(2017, 5, 1)\n",
      "monthly_portfolio_return = 0.0432\n",
      "risk_free_return = 0.0079\n",
      "mark_date = datetime.date(2017, 6, 1)\n"
     ]
    },
    {
     "name": "stderr",
     "output_type": "stream",
     "text": [
      "/home/josh/Documents/GitHub/ropacea/ropacea/Single_factor.py:67: FutureWarning:\n",
      "\n",
      "The behavior of DataFrame concatenation with empty or all-NA entries is deprecated. In a future version, this will no longer exclude empty or all-NA columns when determining the result dtypes. To retain the old behavior, exclude the relevant entries before the concat operation.\n",
      "\n",
      "/home/josh/Documents/GitHub/ropacea/ropacea/Single_factor.py:67: FutureWarning:\n",
      "\n",
      "The behavior of DataFrame concatenation with empty or all-NA entries is deprecated. In a future version, this will no longer exclude empty or all-NA columns when determining the result dtypes. To retain the old behavior, exclude the relevant entries before the concat operation.\n",
      "\n"
     ]
    },
    {
     "name": "stdout",
     "output_type": "stream",
     "text": [
      "monthly_portfolio_return = 0.0045\n",
      "risk_free_return = -0.0013\n",
      "mark_date = datetime.date(2017, 7, 1)\n",
      "monthly_portfolio_return = 0.0326\n",
      "risk_free_return = -0.0000\n",
      "mark_date = datetime.date(2017, 8, 1)\n"
     ]
    },
    {
     "name": "stderr",
     "output_type": "stream",
     "text": [
      "/home/josh/Documents/GitHub/ropacea/ropacea/Single_factor.py:67: FutureWarning:\n",
      "\n",
      "The behavior of DataFrame concatenation with empty or all-NA entries is deprecated. In a future version, this will no longer exclude empty or all-NA columns when determining the result dtypes. To retain the old behavior, exclude the relevant entries before the concat operation.\n",
      "\n",
      "/home/josh/Documents/GitHub/ropacea/ropacea/Single_factor.py:67: FutureWarning:\n",
      "\n",
      "The behavior of DataFrame concatenation with empty or all-NA entries is deprecated. In a future version, this will no longer exclude empty or all-NA columns when determining the result dtypes. To retain the old behavior, exclude the relevant entries before the concat operation.\n",
      "\n"
     ]
    },
    {
     "name": "stdout",
     "output_type": "stream",
     "text": [
      "monthly_portfolio_return = 0.0181\n",
      "risk_free_return = 0.0171\n",
      "mark_date = datetime.date(2017, 9, 1)\n",
      "monthly_portfolio_return = 0.0235\n",
      "risk_free_return = -0.0172\n",
      "mark_date = datetime.date(2017, 10, 1)\n"
     ]
    },
    {
     "name": "stderr",
     "output_type": "stream",
     "text": [
      "/home/josh/Documents/GitHub/ropacea/ropacea/Single_factor.py:67: FutureWarning:\n",
      "\n",
      "The behavior of DataFrame concatenation with empty or all-NA entries is deprecated. In a future version, this will no longer exclude empty or all-NA columns when determining the result dtypes. To retain the old behavior, exclude the relevant entries before the concat operation.\n",
      "\n",
      "/home/josh/Documents/GitHub/ropacea/ropacea/Single_factor.py:67: FutureWarning:\n",
      "\n",
      "The behavior of DataFrame concatenation with empty or all-NA entries is deprecated. In a future version, this will no longer exclude empty or all-NA columns when determining the result dtypes. To retain the old behavior, exclude the relevant entries before the concat operation.\n",
      "\n"
     ]
    },
    {
     "name": "stdout",
     "output_type": "stream",
     "text": [
      "monthly_portfolio_return = 0.0769\n",
      "risk_free_return = -0.0011\n",
      "mark_date = datetime.date(2017, 11, 1)\n",
      "monthly_portfolio_return = 0.0204\n",
      "risk_free_return = -0.0026\n",
      "mark_date = datetime.date(2017, 12, 1)\n"
     ]
    },
    {
     "name": "stderr",
     "output_type": "stream",
     "text": [
      "/home/josh/Documents/GitHub/ropacea/ropacea/Single_factor.py:67: FutureWarning:\n",
      "\n",
      "The behavior of DataFrame concatenation with empty or all-NA entries is deprecated. In a future version, this will no longer exclude empty or all-NA columns when determining the result dtypes. To retain the old behavior, exclude the relevant entries before the concat operation.\n",
      "\n",
      "/home/josh/Documents/GitHub/ropacea/ropacea/Single_factor.py:67: FutureWarning:\n",
      "\n",
      "The behavior of DataFrame concatenation with empty or all-NA entries is deprecated. In a future version, this will no longer exclude empty or all-NA columns when determining the result dtypes. To retain the old behavior, exclude the relevant entries before the concat operation.\n",
      "\n"
     ]
    },
    {
     "name": "stdout",
     "output_type": "stream",
     "text": [
      "monthly_portfolio_return = 0.0150\n",
      "risk_free_return = 0.0022\n",
      "mark_date = datetime.date(2018, 1, 1)\n",
      "monthly_portfolio_return = 0.0880\n",
      "risk_free_return = -0.0236\n",
      "mark_date = datetime.date(2018, 2, 1)\n"
     ]
    },
    {
     "name": "stderr",
     "output_type": "stream",
     "text": [
      "/home/josh/Documents/GitHub/ropacea/ropacea/Single_factor.py:67: FutureWarning:\n",
      "\n",
      "The behavior of DataFrame concatenation with empty or all-NA entries is deprecated. In a future version, this will no longer exclude empty or all-NA columns when determining the result dtypes. To retain the old behavior, exclude the relevant entries before the concat operation.\n",
      "\n",
      "/home/josh/Documents/GitHub/ropacea/ropacea/Single_factor.py:67: FutureWarning:\n",
      "\n",
      "The behavior of DataFrame concatenation with empty or all-NA entries is deprecated. In a future version, this will no longer exclude empty or all-NA columns when determining the result dtypes. To retain the old behavior, exclude the relevant entries before the concat operation.\n",
      "\n"
     ]
    },
    {
     "name": "stdout",
     "output_type": "stream",
     "text": [
      "monthly_portfolio_return = -0.0024\n",
      "risk_free_return = -0.0130\n",
      "mark_date = datetime.date(2018, 3, 1)\n",
      "monthly_portfolio_return = -0.0217\n",
      "risk_free_return = 0.0128\n",
      "mark_date = datetime.date(2018, 4, 1)\n"
     ]
    },
    {
     "name": "stderr",
     "output_type": "stream",
     "text": [
      "/home/josh/Documents/GitHub/ropacea/ropacea/Single_factor.py:67: FutureWarning:\n",
      "\n",
      "The behavior of DataFrame concatenation with empty or all-NA entries is deprecated. In a future version, this will no longer exclude empty or all-NA columns when determining the result dtypes. To retain the old behavior, exclude the relevant entries before the concat operation.\n",
      "\n",
      "/home/josh/Documents/GitHub/ropacea/ropacea/Single_factor.py:67: FutureWarning:\n",
      "\n",
      "The behavior of DataFrame concatenation with empty or all-NA entries is deprecated. In a future version, this will no longer exclude empty or all-NA columns when determining the result dtypes. To retain the old behavior, exclude the relevant entries before the concat operation.\n",
      "\n"
     ]
    },
    {
     "name": "stdout",
     "output_type": "stream",
     "text": [
      "monthly_portfolio_return = 0.0034\n",
      "risk_free_return = -0.0155\n",
      "mark_date = datetime.date(2018, 5, 1)\n",
      "monthly_portfolio_return = 0.0501\n",
      "risk_free_return = 0.0096\n",
      "mark_date = datetime.date(2018, 6, 1)\n"
     ]
    },
    {
     "name": "stderr",
     "output_type": "stream",
     "text": [
      "/home/josh/Documents/GitHub/ropacea/ropacea/Single_factor.py:67: FutureWarning:\n",
      "\n",
      "The behavior of DataFrame concatenation with empty or all-NA entries is deprecated. In a future version, this will no longer exclude empty or all-NA columns when determining the result dtypes. To retain the old behavior, exclude the relevant entries before the concat operation.\n",
      "\n",
      "/home/josh/Documents/GitHub/ropacea/ropacea/Single_factor.py:67: FutureWarning:\n",
      "\n",
      "The behavior of DataFrame concatenation with empty or all-NA entries is deprecated. In a future version, this will no longer exclude empty or all-NA columns when determining the result dtypes. To retain the old behavior, exclude the relevant entries before the concat operation.\n",
      "\n"
     ]
    },
    {
     "name": "stdout",
     "output_type": "stream",
     "text": [
      "monthly_portfolio_return = -0.0120\n",
      "risk_free_return = 0.0023\n",
      "mark_date = datetime.date(2018, 7, 1)\n",
      "monthly_portfolio_return = 0.0404\n",
      "risk_free_return = -0.0051\n",
      "mark_date = datetime.date(2018, 8, 1)\n"
     ]
    },
    {
     "name": "stderr",
     "output_type": "stream",
     "text": [
      "/home/josh/Documents/GitHub/ropacea/ropacea/Single_factor.py:67: FutureWarning:\n",
      "\n",
      "The behavior of DataFrame concatenation with empty or all-NA entries is deprecated. In a future version, this will no longer exclude empty or all-NA columns when determining the result dtypes. To retain the old behavior, exclude the relevant entries before the concat operation.\n",
      "\n",
      "/home/josh/Documents/GitHub/ropacea/ropacea/Single_factor.py:67: FutureWarning:\n",
      "\n",
      "The behavior of DataFrame concatenation with empty or all-NA entries is deprecated. In a future version, this will no longer exclude empty or all-NA columns when determining the result dtypes. To retain the old behavior, exclude the relevant entries before the concat operation.\n",
      "\n"
     ]
    },
    {
     "name": "stdout",
     "output_type": "stream",
     "text": [
      "monthly_portfolio_return = 0.0525\n",
      "risk_free_return = 0.0101\n",
      "mark_date = datetime.date(2018, 9, 1)\n",
      "monthly_portfolio_return = 0.0146\n",
      "risk_free_return = -0.0148\n",
      "mark_date = datetime.date(2018, 10, 1)\n"
     ]
    },
    {
     "name": "stderr",
     "output_type": "stream",
     "text": [
      "/home/josh/Documents/GitHub/ropacea/ropacea/Single_factor.py:67: FutureWarning:\n",
      "\n",
      "The behavior of DataFrame concatenation with empty or all-NA entries is deprecated. In a future version, this will no longer exclude empty or all-NA columns when determining the result dtypes. To retain the old behavior, exclude the relevant entries before the concat operation.\n",
      "\n",
      "/home/josh/Documents/GitHub/ropacea/ropacea/Single_factor.py:67: FutureWarning:\n",
      "\n",
      "The behavior of DataFrame concatenation with empty or all-NA entries is deprecated. In a future version, this will no longer exclude empty or all-NA columns when determining the result dtypes. To retain the old behavior, exclude the relevant entries before the concat operation.\n",
      "\n"
     ]
    },
    {
     "name": "stdout",
     "output_type": "stream",
     "text": [
      "monthly_portfolio_return = -0.0796\n",
      "risk_free_return = -0.0043\n",
      "mark_date = datetime.date(2018, 11, 1)\n",
      "monthly_portfolio_return = 0.0191\n",
      "risk_free_return = 0.0149\n",
      "mark_date = datetime.date(2018, 12, 1)\n"
     ]
    },
    {
     "name": "stderr",
     "output_type": "stream",
     "text": [
      "/home/josh/Documents/GitHub/ropacea/ropacea/Single_factor.py:67: FutureWarning:\n",
      "\n",
      "The behavior of DataFrame concatenation with empty or all-NA entries is deprecated. In a future version, this will no longer exclude empty or all-NA columns when determining the result dtypes. To retain the old behavior, exclude the relevant entries before the concat operation.\n",
      "\n",
      "/home/josh/Documents/GitHub/ropacea/ropacea/Single_factor.py:67: FutureWarning:\n",
      "\n",
      "The behavior of DataFrame concatenation with empty or all-NA entries is deprecated. In a future version, this will no longer exclude empty or all-NA columns when determining the result dtypes. To retain the old behavior, exclude the relevant entries before the concat operation.\n",
      "\n"
     ]
    },
    {
     "name": "stdout",
     "output_type": "stream",
     "text": [
      "monthly_portfolio_return = -0.0786\n",
      "risk_free_return = 0.0286\n",
      "mark_date = datetime.date(2019, 1, 1)\n",
      "monthly_portfolio_return = 0.0548\n",
      "risk_free_return = 0.0071\n",
      "mark_date = datetime.date(2019, 2, 1)\n"
     ]
    },
    {
     "name": "stderr",
     "output_type": "stream",
     "text": [
      "/home/josh/Documents/GitHub/ropacea/ropacea/Single_factor.py:67: FutureWarning:\n",
      "\n",
      "The behavior of DataFrame concatenation with empty or all-NA entries is deprecated. In a future version, this will no longer exclude empty or all-NA columns when determining the result dtypes. To retain the old behavior, exclude the relevant entries before the concat operation.\n",
      "\n",
      "/home/josh/Documents/GitHub/ropacea/ropacea/Single_factor.py:67: FutureWarning:\n",
      "\n",
      "The behavior of DataFrame concatenation with empty or all-NA entries is deprecated. In a future version, this will no longer exclude empty or all-NA columns when determining the result dtypes. To retain the old behavior, exclude the relevant entries before the concat operation.\n",
      "\n"
     ]
    },
    {
     "name": "stdout",
     "output_type": "stream",
     "text": [
      "monthly_portfolio_return = 0.0660\n",
      "risk_free_return = -0.0043\n",
      "mark_date = datetime.date(2019, 3, 1)\n",
      "monthly_portfolio_return = 0.0364\n",
      "risk_free_return = 0.0294\n",
      "mark_date = datetime.date(2019, 4, 1)\n"
     ]
    },
    {
     "name": "stderr",
     "output_type": "stream",
     "text": [
      "/home/josh/Documents/GitHub/ropacea/ropacea/Single_factor.py:67: FutureWarning:\n",
      "\n",
      "The behavior of DataFrame concatenation with empty or all-NA entries is deprecated. In a future version, this will no longer exclude empty or all-NA columns when determining the result dtypes. To retain the old behavior, exclude the relevant entries before the concat operation.\n",
      "\n",
      "/home/josh/Documents/GitHub/ropacea/ropacea/Single_factor.py:67: FutureWarning:\n",
      "\n",
      "The behavior of DataFrame concatenation with empty or all-NA entries is deprecated. In a future version, this will no longer exclude empty or all-NA columns when determining the result dtypes. To retain the old behavior, exclude the relevant entries before the concat operation.\n",
      "\n"
     ]
    },
    {
     "name": "stdout",
     "output_type": "stream",
     "text": [
      "monthly_portfolio_return = 0.0470\n",
      "risk_free_return = -0.0062\n",
      "mark_date = datetime.date(2019, 5, 1)\n",
      "monthly_portfolio_return = -0.0601\n",
      "risk_free_return = 0.0319\n",
      "mark_date = datetime.date(2019, 6, 1)\n"
     ]
    },
    {
     "name": "stderr",
     "output_type": "stream",
     "text": [
      "/home/josh/Documents/GitHub/ropacea/ropacea/Single_factor.py:67: FutureWarning:\n",
      "\n",
      "The behavior of DataFrame concatenation with empty or all-NA entries is deprecated. In a future version, this will no longer exclude empty or all-NA columns when determining the result dtypes. To retain the old behavior, exclude the relevant entries before the concat operation.\n",
      "\n",
      "/home/josh/Documents/GitHub/ropacea/ropacea/Single_factor.py:67: FutureWarning:\n",
      "\n",
      "The behavior of DataFrame concatenation with empty or all-NA entries is deprecated. In a future version, this will no longer exclude empty or all-NA columns when determining the result dtypes. To retain the old behavior, exclude the relevant entries before the concat operation.\n",
      "\n"
     ]
    },
    {
     "name": "stdout",
     "output_type": "stream",
     "text": [
      "monthly_portfolio_return = 0.0754\n",
      "risk_free_return = 0.0121\n",
      "mark_date = datetime.date(2019, 7, 1)\n",
      "monthly_portfolio_return = 0.0242\n",
      "risk_free_return = 0.0034\n",
      "mark_date = datetime.date(2019, 8, 1)\n"
     ]
    },
    {
     "name": "stderr",
     "output_type": "stream",
     "text": [
      "/home/josh/Documents/GitHub/ropacea/ropacea/Single_factor.py:67: FutureWarning:\n",
      "\n",
      "The behavior of DataFrame concatenation with empty or all-NA entries is deprecated. In a future version, this will no longer exclude empty or all-NA columns when determining the result dtypes. To retain the old behavior, exclude the relevant entries before the concat operation.\n",
      "\n",
      "/home/josh/Documents/GitHub/ropacea/ropacea/Single_factor.py:67: FutureWarning:\n",
      "\n",
      "The behavior of DataFrame concatenation with empty or all-NA entries is deprecated. In a future version, this will no longer exclude empty or all-NA columns when determining the result dtypes. To retain the old behavior, exclude the relevant entries before the concat operation.\n",
      "\n"
     ]
    },
    {
     "name": "stdout",
     "output_type": "stream",
     "text": [
      "monthly_portfolio_return = -0.0096\n",
      "risk_free_return = 0.0403\n",
      "mark_date = datetime.date(2019, 9, 1)\n",
      "monthly_portfolio_return = 0.0068\n",
      "risk_free_return = -0.0139\n",
      "mark_date = datetime.date(2019, 10, 1)\n"
     ]
    },
    {
     "name": "stderr",
     "output_type": "stream",
     "text": [
      "/home/josh/Documents/GitHub/ropacea/ropacea/Single_factor.py:67: FutureWarning:\n",
      "\n",
      "The behavior of DataFrame concatenation with empty or all-NA entries is deprecated. In a future version, this will no longer exclude empty or all-NA columns when determining the result dtypes. To retain the old behavior, exclude the relevant entries before the concat operation.\n",
      "\n",
      "/home/josh/Documents/GitHub/ropacea/ropacea/Single_factor.py:67: FutureWarning:\n",
      "\n",
      "The behavior of DataFrame concatenation with empty or all-NA entries is deprecated. In a future version, this will no longer exclude empty or all-NA columns when determining the result dtypes. To retain the old behavior, exclude the relevant entries before the concat operation.\n",
      "\n"
     ]
    },
    {
     "name": "stdout",
     "output_type": "stream",
     "text": [
      "monthly_portfolio_return = 0.0036\n",
      "risk_free_return = -0.0007\n",
      "mark_date = datetime.date(2019, 11, 1)\n",
      "monthly_portfolio_return = 0.0469\n",
      "risk_free_return = -0.0074\n",
      "mark_date = datetime.date(2019, 12, 1)\n"
     ]
    },
    {
     "name": "stderr",
     "output_type": "stream",
     "text": [
      "/home/josh/Documents/GitHub/ropacea/ropacea/Single_factor.py:67: FutureWarning:\n",
      "\n",
      "The behavior of DataFrame concatenation with empty or all-NA entries is deprecated. In a future version, this will no longer exclude empty or all-NA columns when determining the result dtypes. To retain the old behavior, exclude the relevant entries before the concat operation.\n",
      "\n",
      "/home/josh/Documents/GitHub/ropacea/ropacea/Single_factor.py:67: FutureWarning:\n",
      "\n",
      "The behavior of DataFrame concatenation with empty or all-NA entries is deprecated. In a future version, this will no longer exclude empty or all-NA columns when determining the result dtypes. To retain the old behavior, exclude the relevant entries before the concat operation.\n",
      "\n"
     ]
    },
    {
     "name": "stdout",
     "output_type": "stream",
     "text": [
      "monthly_portfolio_return = 0.0462\n",
      "risk_free_return = -0.0113\n",
      "mark_date = datetime.date(2020, 1, 1)\n",
      "monthly_portfolio_return = 0.0262\n",
      "risk_free_return = 0.0392\n",
      "mark_date = datetime.date(2020, 2, 1)\n"
     ]
    },
    {
     "name": "stderr",
     "output_type": "stream",
     "text": [
      "/home/josh/Documents/GitHub/ropacea/ropacea/Single_factor.py:67: FutureWarning:\n",
      "\n",
      "The behavior of DataFrame concatenation with empty or all-NA entries is deprecated. In a future version, this will no longer exclude empty or all-NA columns when determining the result dtypes. To retain the old behavior, exclude the relevant entries before the concat operation.\n",
      "\n",
      "/home/josh/Documents/GitHub/ropacea/ropacea/Single_factor.py:67: FutureWarning:\n",
      "\n",
      "The behavior of DataFrame concatenation with empty or all-NA entries is deprecated. In a future version, this will no longer exclude empty or all-NA columns when determining the result dtypes. To retain the old behavior, exclude the relevant entries before the concat operation.\n",
      "\n"
     ]
    },
    {
     "name": "stdout",
     "output_type": "stream",
     "text": [
      "monthly_portfolio_return = -0.0710\n",
      "risk_free_return = 0.0299\n",
      "mark_date = datetime.date(2020, 3, 1)\n",
      "monthly_portfolio_return = -0.0780\n",
      "risk_free_return = 0.0397\n",
      "mark_date = datetime.date(2020, 4, 1)\n"
     ]
    },
    {
     "name": "stderr",
     "output_type": "stream",
     "text": [
      "/home/josh/Documents/GitHub/ropacea/ropacea/Single_factor.py:67: FutureWarning:\n",
      "\n",
      "The behavior of DataFrame concatenation with empty or all-NA entries is deprecated. In a future version, this will no longer exclude empty or all-NA columns when determining the result dtypes. To retain the old behavior, exclude the relevant entries before the concat operation.\n",
      "\n",
      "/home/josh/Documents/GitHub/ropacea/ropacea/Single_factor.py:67: FutureWarning:\n",
      "\n",
      "The behavior of DataFrame concatenation with empty or all-NA entries is deprecated. In a future version, this will no longer exclude empty or all-NA columns when determining the result dtypes. To retain the old behavior, exclude the relevant entries before the concat operation.\n",
      "\n"
     ]
    },
    {
     "name": "stdout",
     "output_type": "stream",
     "text": [
      "monthly_portfolio_return = 0.1219\n",
      "risk_free_return = 0.0050\n",
      "mark_date = datetime.date(2020, 5, 1)\n",
      "monthly_portfolio_return = 0.0416\n",
      "risk_free_return = 0.0007\n",
      "mark_date = datetime.date(2020, 6, 1)\n"
     ]
    },
    {
     "name": "stderr",
     "output_type": "stream",
     "text": [
      "/home/josh/Documents/GitHub/ropacea/ropacea/Single_factor.py:67: FutureWarning:\n",
      "\n",
      "The behavior of DataFrame concatenation with empty or all-NA entries is deprecated. In a future version, this will no longer exclude empty or all-NA columns when determining the result dtypes. To retain the old behavior, exclude the relevant entries before the concat operation.\n",
      "\n",
      "/home/josh/Documents/GitHub/ropacea/ropacea/Single_factor.py:67: FutureWarning:\n",
      "\n",
      "The behavior of DataFrame concatenation with empty or all-NA entries is deprecated. In a future version, this will no longer exclude empty or all-NA columns when determining the result dtypes. To retain the old behavior, exclude the relevant entries before the concat operation.\n",
      "\n"
     ]
    },
    {
     "name": "stdout",
     "output_type": "stream",
     "text": [
      "monthly_portfolio_return = 0.0364\n",
      "risk_free_return = 0.0004\n",
      "mark_date = datetime.date(2020, 7, 1)\n",
      "monthly_portfolio_return = 0.0436\n",
      "risk_free_return = 0.0128\n",
      "mark_date = datetime.date(2020, 8, 1)\n"
     ]
    },
    {
     "name": "stderr",
     "output_type": "stream",
     "text": [
      "/home/josh/Documents/GitHub/ropacea/ropacea/Single_factor.py:67: FutureWarning:\n",
      "\n",
      "The behavior of DataFrame concatenation with empty or all-NA entries is deprecated. In a future version, this will no longer exclude empty or all-NA columns when determining the result dtypes. To retain the old behavior, exclude the relevant entries before the concat operation.\n",
      "\n",
      "/home/josh/Documents/GitHub/ropacea/ropacea/Single_factor.py:67: FutureWarning:\n",
      "\n",
      "The behavior of DataFrame concatenation with empty or all-NA entries is deprecated. In a future version, this will no longer exclude empty or all-NA columns when determining the result dtypes. To retain the old behavior, exclude the relevant entries before the concat operation.\n",
      "\n"
     ]
    },
    {
     "name": "stdout",
     "output_type": "stream",
     "text": [
      "monthly_portfolio_return = 0.0900\n",
      "risk_free_return = -0.0147\n",
      "mark_date = datetime.date(2020, 9, 1)\n",
      "monthly_portfolio_return = -0.0198\n",
      "risk_free_return = 0.0026\n",
      "mark_date = datetime.date(2020, 10, 1)\n"
     ]
    },
    {
     "name": "stderr",
     "output_type": "stream",
     "text": [
      "/home/josh/Documents/GitHub/ropacea/ropacea/Single_factor.py:67: FutureWarning:\n",
      "\n",
      "The behavior of DataFrame concatenation with empty or all-NA entries is deprecated. In a future version, this will no longer exclude empty or all-NA columns when determining the result dtypes. To retain the old behavior, exclude the relevant entries before the concat operation.\n",
      "\n",
      "/home/josh/Documents/GitHub/ropacea/ropacea/Single_factor.py:67: FutureWarning:\n",
      "\n",
      "The behavior of DataFrame concatenation with empty or all-NA entries is deprecated. In a future version, this will no longer exclude empty or all-NA columns when determining the result dtypes. To retain the old behavior, exclude the relevant entries before the concat operation.\n",
      "\n"
     ]
    },
    {
     "name": "stdout",
     "output_type": "stream",
     "text": [
      "monthly_portfolio_return = -0.0425\n",
      "risk_free_return = -0.0173\n",
      "mark_date = datetime.date(2020, 11, 1)\n",
      "monthly_portfolio_return = 0.0761\n",
      "risk_free_return = 0.0040\n",
      "mark_date = datetime.date(2020, 12, 1)\n"
     ]
    },
    {
     "name": "stderr",
     "output_type": "stream",
     "text": [
      "/home/josh/Documents/GitHub/ropacea/ropacea/Single_factor.py:67: FutureWarning:\n",
      "\n",
      "The behavior of DataFrame concatenation with empty or all-NA entries is deprecated. In a future version, this will no longer exclude empty or all-NA columns when determining the result dtypes. To retain the old behavior, exclude the relevant entries before the concat operation.\n",
      "\n",
      "/home/josh/Documents/GitHub/ropacea/ropacea/Single_factor.py:67: FutureWarning:\n",
      "\n",
      "The behavior of DataFrame concatenation with empty or all-NA entries is deprecated. In a future version, this will no longer exclude empty or all-NA columns when determining the result dtypes. To retain the old behavior, exclude the relevant entries before the concat operation.\n",
      "\n"
     ]
    },
    {
     "name": "stdout",
     "output_type": "stream",
     "text": [
      "monthly_portfolio_return = 0.0318\n",
      "risk_free_return = -0.0050\n",
      "mark_date = datetime.date(2021, 1, 1)\n",
      "monthly_portfolio_return = -0.0011\n",
      "risk_free_return = -0.0107\n",
      "mark_date = datetime.date(2021, 2, 1)\n"
     ]
    },
    {
     "name": "stderr",
     "output_type": "stream",
     "text": [
      "/home/josh/Documents/GitHub/ropacea/ropacea/Single_factor.py:67: FutureWarning:\n",
      "\n",
      "The behavior of DataFrame concatenation with empty or all-NA entries is deprecated. In a future version, this will no longer exclude empty or all-NA columns when determining the result dtypes. To retain the old behavior, exclude the relevant entries before the concat operation.\n",
      "\n",
      "/home/josh/Documents/GitHub/ropacea/ropacea/Single_factor.py:67: FutureWarning:\n",
      "\n",
      "The behavior of DataFrame concatenation with empty or all-NA entries is deprecated. In a future version, this will no longer exclude empty or all-NA columns when determining the result dtypes. To retain the old behavior, exclude the relevant entries before the concat operation.\n",
      "\n"
     ]
    },
    {
     "name": "stdout",
     "output_type": "stream",
     "text": [
      "monthly_portfolio_return = 0.0225\n",
      "risk_free_return = -0.0254\n",
      "mark_date = datetime.date(2021, 3, 1)\n",
      "monthly_portfolio_return = 0.0321\n",
      "risk_free_return = -0.0293\n",
      "mark_date = datetime.date(2021, 4, 1)\n"
     ]
    },
    {
     "name": "stderr",
     "output_type": "stream",
     "text": [
      "/home/josh/Documents/GitHub/ropacea/ropacea/Single_factor.py:67: FutureWarning:\n",
      "\n",
      "The behavior of DataFrame concatenation with empty or all-NA entries is deprecated. In a future version, this will no longer exclude empty or all-NA columns when determining the result dtypes. To retain the old behavior, exclude the relevant entries before the concat operation.\n",
      "\n",
      "/home/josh/Documents/GitHub/ropacea/ropacea/Single_factor.py:67: FutureWarning:\n",
      "\n",
      "The behavior of DataFrame concatenation with empty or all-NA entries is deprecated. In a future version, this will no longer exclude empty or all-NA columns when determining the result dtypes. To retain the old behavior, exclude the relevant entries before the concat operation.\n",
      "\n"
     ]
    },
    {
     "name": "stdout",
     "output_type": "stream",
     "text": [
      "monthly_portfolio_return = 0.0417\n",
      "risk_free_return = 0.0119\n",
      "mark_date = datetime.date(2021, 5, 1)\n",
      "monthly_portfolio_return = 0.0085\n",
      "risk_free_return = 0.0034\n",
      "mark_date = datetime.date(2021, 6, 1)\n"
     ]
    },
    {
     "name": "stderr",
     "output_type": "stream",
     "text": [
      "/home/josh/Documents/GitHub/ropacea/ropacea/Single_factor.py:67: FutureWarning:\n",
      "\n",
      "The behavior of DataFrame concatenation with empty or all-NA entries is deprecated. In a future version, this will no longer exclude empty or all-NA columns when determining the result dtypes. To retain the old behavior, exclude the relevant entries before the concat operation.\n",
      "\n",
      "/home/josh/Documents/GitHub/ropacea/ropacea/Single_factor.py:67: FutureWarning:\n",
      "\n",
      "The behavior of DataFrame concatenation with empty or all-NA entries is deprecated. In a future version, this will no longer exclude empty or all-NA columns when determining the result dtypes. To retain the old behavior, exclude the relevant entries before the concat operation.\n",
      "\n"
     ]
    },
    {
     "name": "stdout",
     "output_type": "stream",
     "text": [
      "monthly_portfolio_return = 0.0469\n",
      "risk_free_return = 0.0141\n",
      "mark_date = datetime.date(2021, 7, 1)\n",
      "monthly_portfolio_return = 0.0335\n",
      "risk_free_return = 0.0238\n",
      "mark_date = datetime.date(2021, 8, 1)\n"
     ]
    },
    {
     "name": "stderr",
     "output_type": "stream",
     "text": [
      "/home/josh/Documents/GitHub/ropacea/ropacea/Single_factor.py:67: FutureWarning:\n",
      "\n",
      "The behavior of DataFrame concatenation with empty or all-NA entries is deprecated. In a future version, this will no longer exclude empty or all-NA columns when determining the result dtypes. To retain the old behavior, exclude the relevant entries before the concat operation.\n",
      "\n",
      "/home/josh/Documents/GitHub/ropacea/ropacea/Single_factor.py:67: FutureWarning:\n",
      "\n",
      "The behavior of DataFrame concatenation with empty or all-NA entries is deprecated. In a future version, this will no longer exclude empty or all-NA columns when determining the result dtypes. To retain the old behavior, exclude the relevant entries before the concat operation.\n",
      "\n"
     ]
    },
    {
     "name": "stdout",
     "output_type": "stream",
     "text": [
      "monthly_portfolio_return = 0.0382\n",
      "risk_free_return = -0.0048\n",
      "mark_date = datetime.date(2021, 9, 1)\n",
      "monthly_portfolio_return = -0.0494\n",
      "risk_free_return = -0.0154\n",
      "mark_date = datetime.date(2021, 10, 1)\n"
     ]
    },
    {
     "name": "stderr",
     "output_type": "stream",
     "text": [
      "/home/josh/Documents/GitHub/ropacea/ropacea/Single_factor.py:67: FutureWarning:\n",
      "\n",
      "The behavior of DataFrame concatenation with empty or all-NA entries is deprecated. In a future version, this will no longer exclude empty or all-NA columns when determining the result dtypes. To retain the old behavior, exclude the relevant entries before the concat operation.\n",
      "\n",
      "/home/josh/Documents/GitHub/ropacea/ropacea/Single_factor.py:67: FutureWarning:\n",
      "\n",
      "The behavior of DataFrame concatenation with empty or all-NA entries is deprecated. In a future version, this will no longer exclude empty or all-NA columns when determining the result dtypes. To retain the old behavior, exclude the relevant entries before the concat operation.\n",
      "\n"
     ]
    },
    {
     "name": "stdout",
     "output_type": "stream",
     "text": [
      "monthly_portfolio_return = 0.0872\n",
      "risk_free_return = -0.0049\n",
      "mark_date = datetime.date(2021, 11, 1)\n",
      "monthly_portfolio_return = 0.0068\n",
      "risk_free_return = 0.0125\n",
      "mark_date = datetime.date(2021, 12, 1)\n"
     ]
    },
    {
     "name": "stderr",
     "output_type": "stream",
     "text": [
      "/home/josh/Documents/GitHub/ropacea/ropacea/Single_factor.py:67: FutureWarning:\n",
      "\n",
      "The behavior of DataFrame concatenation with empty or all-NA entries is deprecated. In a future version, this will no longer exclude empty or all-NA columns when determining the result dtypes. To retain the old behavior, exclude the relevant entries before the concat operation.\n",
      "\n",
      "/home/josh/Documents/GitHub/ropacea/ropacea/Single_factor.py:67: FutureWarning:\n",
      "\n",
      "The behavior of DataFrame concatenation with empty or all-NA entries is deprecated. In a future version, this will no longer exclude empty or all-NA columns when determining the result dtypes. To retain the old behavior, exclude the relevant entries before the concat operation.\n",
      "\n"
     ]
    },
    {
     "name": "stdout",
     "output_type": "stream",
     "text": [
      "monthly_portfolio_return = 0.0272\n",
      "risk_free_return = -0.0047\n",
      "========== SUMMARY ==========\n",
      "monthly_returns_bp_mean = 186.80\n",
      "monthly_returns_bp_std = 494.20\n",
      "annualized_mean_pct = 24.87\n",
      "annualized_std_pct = 17.12\n",
      "sharpe_ratio = 1.45\n",
      "mark_date = datetime.date(2017, 1, 1)\n",
      "monthly_portfolio_return = 0.0454\n",
      "risk_free_return = 0.0022\n",
      "mark_date = datetime.date(2017, 2, 1)\n"
     ]
    },
    {
     "name": "stderr",
     "output_type": "stream",
     "text": [
      "/home/josh/Documents/GitHub/ropacea/ropacea/Single_factor.py:67: FutureWarning:\n",
      "\n",
      "The behavior of DataFrame concatenation with empty or all-NA entries is deprecated. In a future version, this will no longer exclude empty or all-NA columns when determining the result dtypes. To retain the old behavior, exclude the relevant entries before the concat operation.\n",
      "\n",
      "/home/josh/Documents/GitHub/ropacea/ropacea/Single_factor.py:67: FutureWarning:\n",
      "\n",
      "The behavior of DataFrame concatenation with empty or all-NA entries is deprecated. In a future version, this will no longer exclude empty or all-NA columns when determining the result dtypes. To retain the old behavior, exclude the relevant entries before the concat operation.\n",
      "\n"
     ]
    },
    {
     "name": "stdout",
     "output_type": "stream",
     "text": [
      "monthly_portfolio_return = 0.0298\n",
      "risk_free_return = 0.0074\n",
      "mark_date = datetime.date(2017, 3, 1)\n",
      "monthly_portfolio_return = 0.0276\n",
      "risk_free_return = 0.0024\n",
      "mark_date = datetime.date(2017, 4, 1)\n"
     ]
    },
    {
     "name": "stderr",
     "output_type": "stream",
     "text": [
      "/home/josh/Documents/GitHub/ropacea/ropacea/Single_factor.py:67: FutureWarning:\n",
      "\n",
      "The behavior of DataFrame concatenation with empty or all-NA entries is deprecated. In a future version, this will no longer exclude empty or all-NA columns when determining the result dtypes. To retain the old behavior, exclude the relevant entries before the concat operation.\n",
      "\n",
      "/home/josh/Documents/GitHub/ropacea/ropacea/Single_factor.py:67: FutureWarning:\n",
      "\n",
      "The behavior of DataFrame concatenation with empty or all-NA entries is deprecated. In a future version, this will no longer exclude empty or all-NA columns when determining the result dtypes. To retain the old behavior, exclude the relevant entries before the concat operation.\n",
      "\n"
     ]
    },
    {
     "name": "stdout",
     "output_type": "stream",
     "text": [
      "monthly_portfolio_return = 0.0021\n",
      "risk_free_return = 0.0111\n",
      "mark_date = datetime.date(2017, 5, 1)\n",
      "monthly_portfolio_return = 0.0507\n",
      "risk_free_return = 0.0079\n",
      "mark_date = datetime.date(2017, 6, 1)\n"
     ]
    },
    {
     "name": "stderr",
     "output_type": "stream",
     "text": [
      "/home/josh/Documents/GitHub/ropacea/ropacea/Single_factor.py:67: FutureWarning:\n",
      "\n",
      "The behavior of DataFrame concatenation with empty or all-NA entries is deprecated. In a future version, this will no longer exclude empty or all-NA columns when determining the result dtypes. To retain the old behavior, exclude the relevant entries before the concat operation.\n",
      "\n",
      "/home/josh/Documents/GitHub/ropacea/ropacea/Single_factor.py:67: FutureWarning:\n",
      "\n",
      "The behavior of DataFrame concatenation with empty or all-NA entries is deprecated. In a future version, this will no longer exclude empty or all-NA columns when determining the result dtypes. To retain the old behavior, exclude the relevant entries before the concat operation.\n",
      "\n"
     ]
    },
    {
     "name": "stdout",
     "output_type": "stream",
     "text": [
      "monthly_portfolio_return = 0.0036\n",
      "risk_free_return = -0.0013\n",
      "mark_date = datetime.date(2017, 7, 1)\n",
      "monthly_portfolio_return = 0.0373\n",
      "risk_free_return = -0.0000\n",
      "mark_date = datetime.date(2017, 8, 1)\n"
     ]
    },
    {
     "name": "stderr",
     "output_type": "stream",
     "text": [
      "/home/josh/Documents/GitHub/ropacea/ropacea/Single_factor.py:67: FutureWarning:\n",
      "\n",
      "The behavior of DataFrame concatenation with empty or all-NA entries is deprecated. In a future version, this will no longer exclude empty or all-NA columns when determining the result dtypes. To retain the old behavior, exclude the relevant entries before the concat operation.\n",
      "\n",
      "/home/josh/Documents/GitHub/ropacea/ropacea/Single_factor.py:67: FutureWarning:\n",
      "\n",
      "The behavior of DataFrame concatenation with empty or all-NA entries is deprecated. In a future version, this will no longer exclude empty or all-NA columns when determining the result dtypes. To retain the old behavior, exclude the relevant entries before the concat operation.\n",
      "\n"
     ]
    },
    {
     "name": "stdout",
     "output_type": "stream",
     "text": [
      "monthly_portfolio_return = 0.0198\n",
      "risk_free_return = 0.0171\n",
      "mark_date = datetime.date(2017, 9, 1)\n",
      "monthly_portfolio_return = 0.0249\n",
      "risk_free_return = -0.0172\n",
      "mark_date = datetime.date(2017, 10, 1)\n"
     ]
    },
    {
     "name": "stderr",
     "output_type": "stream",
     "text": [
      "/home/josh/Documents/GitHub/ropacea/ropacea/Single_factor.py:67: FutureWarning:\n",
      "\n",
      "The behavior of DataFrame concatenation with empty or all-NA entries is deprecated. In a future version, this will no longer exclude empty or all-NA columns when determining the result dtypes. To retain the old behavior, exclude the relevant entries before the concat operation.\n",
      "\n",
      "/home/josh/Documents/GitHub/ropacea/ropacea/Single_factor.py:67: FutureWarning:\n",
      "\n",
      "The behavior of DataFrame concatenation with empty or all-NA entries is deprecated. In a future version, this will no longer exclude empty or all-NA columns when determining the result dtypes. To retain the old behavior, exclude the relevant entries before the concat operation.\n",
      "\n"
     ]
    },
    {
     "name": "stdout",
     "output_type": "stream",
     "text": [
      "monthly_portfolio_return = 0.0835\n",
      "risk_free_return = -0.0011\n",
      "mark_date = datetime.date(2017, 11, 1)\n",
      "monthly_portfolio_return = 0.0187\n",
      "risk_free_return = -0.0026\n",
      "mark_date = datetime.date(2017, 12, 1)\n"
     ]
    },
    {
     "name": "stderr",
     "output_type": "stream",
     "text": [
      "/home/josh/Documents/GitHub/ropacea/ropacea/Single_factor.py:67: FutureWarning:\n",
      "\n",
      "The behavior of DataFrame concatenation with empty or all-NA entries is deprecated. In a future version, this will no longer exclude empty or all-NA columns when determining the result dtypes. To retain the old behavior, exclude the relevant entries before the concat operation.\n",
      "\n",
      "/home/josh/Documents/GitHub/ropacea/ropacea/Single_factor.py:67: FutureWarning:\n",
      "\n",
      "The behavior of DataFrame concatenation with empty or all-NA entries is deprecated. In a future version, this will no longer exclude empty or all-NA columns when determining the result dtypes. To retain the old behavior, exclude the relevant entries before the concat operation.\n",
      "\n"
     ]
    },
    {
     "name": "stdout",
     "output_type": "stream",
     "text": [
      "monthly_portfolio_return = 0.0139\n",
      "risk_free_return = 0.0022\n",
      "mark_date = datetime.date(2018, 1, 1)\n",
      "monthly_portfolio_return = 0.0960\n",
      "risk_free_return = -0.0236\n",
      "mark_date = datetime.date(2018, 2, 1)\n"
     ]
    },
    {
     "name": "stderr",
     "output_type": "stream",
     "text": [
      "/home/josh/Documents/GitHub/ropacea/ropacea/Single_factor.py:67: FutureWarning:\n",
      "\n",
      "The behavior of DataFrame concatenation with empty or all-NA entries is deprecated. In a future version, this will no longer exclude empty or all-NA columns when determining the result dtypes. To retain the old behavior, exclude the relevant entries before the concat operation.\n",
      "\n",
      "/home/josh/Documents/GitHub/ropacea/ropacea/Single_factor.py:67: FutureWarning:\n",
      "\n",
      "The behavior of DataFrame concatenation with empty or all-NA entries is deprecated. In a future version, this will no longer exclude empty or all-NA columns when determining the result dtypes. To retain the old behavior, exclude the relevant entries before the concat operation.\n",
      "\n"
     ]
    },
    {
     "name": "stdout",
     "output_type": "stream",
     "text": [
      "monthly_portfolio_return = 0.0031\n",
      "risk_free_return = -0.0130\n",
      "mark_date = datetime.date(2018, 3, 1)\n",
      "monthly_portfolio_return = -0.0214\n",
      "risk_free_return = 0.0128\n",
      "mark_date = datetime.date(2018, 4, 1)\n"
     ]
    },
    {
     "name": "stderr",
     "output_type": "stream",
     "text": [
      "/home/josh/Documents/GitHub/ropacea/ropacea/Single_factor.py:67: FutureWarning:\n",
      "\n",
      "The behavior of DataFrame concatenation with empty or all-NA entries is deprecated. In a future version, this will no longer exclude empty or all-NA columns when determining the result dtypes. To retain the old behavior, exclude the relevant entries before the concat operation.\n",
      "\n",
      "/home/josh/Documents/GitHub/ropacea/ropacea/Single_factor.py:67: FutureWarning:\n",
      "\n",
      "The behavior of DataFrame concatenation with empty or all-NA entries is deprecated. In a future version, this will no longer exclude empty or all-NA columns when determining the result dtypes. To retain the old behavior, exclude the relevant entries before the concat operation.\n",
      "\n"
     ]
    },
    {
     "name": "stdout",
     "output_type": "stream",
     "text": [
      "monthly_portfolio_return = 0.0036\n",
      "risk_free_return = -0.0155\n",
      "mark_date = datetime.date(2018, 5, 1)\n",
      "monthly_portfolio_return = 0.0555\n",
      "risk_free_return = 0.0096\n",
      "mark_date = datetime.date(2018, 6, 1)\n"
     ]
    },
    {
     "name": "stderr",
     "output_type": "stream",
     "text": [
      "/home/josh/Documents/GitHub/ropacea/ropacea/Single_factor.py:67: FutureWarning:\n",
      "\n",
      "The behavior of DataFrame concatenation with empty or all-NA entries is deprecated. In a future version, this will no longer exclude empty or all-NA columns when determining the result dtypes. To retain the old behavior, exclude the relevant entries before the concat operation.\n",
      "\n",
      "/home/josh/Documents/GitHub/ropacea/ropacea/Single_factor.py:67: FutureWarning:\n",
      "\n",
      "The behavior of DataFrame concatenation with empty or all-NA entries is deprecated. In a future version, this will no longer exclude empty or all-NA columns when determining the result dtypes. To retain the old behavior, exclude the relevant entries before the concat operation.\n",
      "\n"
     ]
    },
    {
     "name": "stdout",
     "output_type": "stream",
     "text": [
      "monthly_portfolio_return = -0.0141\n",
      "risk_free_return = 0.0023\n",
      "mark_date = datetime.date(2018, 7, 1)\n",
      "monthly_portfolio_return = 0.0373\n",
      "risk_free_return = -0.0051\n",
      "mark_date = datetime.date(2018, 8, 1)\n"
     ]
    },
    {
     "name": "stderr",
     "output_type": "stream",
     "text": [
      "/home/josh/Documents/GitHub/ropacea/ropacea/Single_factor.py:67: FutureWarning:\n",
      "\n",
      "The behavior of DataFrame concatenation with empty or all-NA entries is deprecated. In a future version, this will no longer exclude empty or all-NA columns when determining the result dtypes. To retain the old behavior, exclude the relevant entries before the concat operation.\n",
      "\n",
      "/home/josh/Documents/GitHub/ropacea/ropacea/Single_factor.py:67: FutureWarning:\n",
      "\n",
      "The behavior of DataFrame concatenation with empty or all-NA entries is deprecated. In a future version, this will no longer exclude empty or all-NA columns when determining the result dtypes. To retain the old behavior, exclude the relevant entries before the concat operation.\n",
      "\n"
     ]
    },
    {
     "name": "stdout",
     "output_type": "stream",
     "text": [
      "monthly_portfolio_return = 0.0562\n",
      "risk_free_return = 0.0101\n",
      "mark_date = datetime.date(2018, 9, 1)\n",
      "monthly_portfolio_return = 0.0125\n",
      "risk_free_return = -0.0148\n",
      "mark_date = datetime.date(2018, 10, 1)\n"
     ]
    },
    {
     "name": "stderr",
     "output_type": "stream",
     "text": [
      "/home/josh/Documents/GitHub/ropacea/ropacea/Single_factor.py:67: FutureWarning:\n",
      "\n",
      "The behavior of DataFrame concatenation with empty or all-NA entries is deprecated. In a future version, this will no longer exclude empty or all-NA columns when determining the result dtypes. To retain the old behavior, exclude the relevant entries before the concat operation.\n",
      "\n",
      "/home/josh/Documents/GitHub/ropacea/ropacea/Single_factor.py:67: FutureWarning:\n",
      "\n",
      "The behavior of DataFrame concatenation with empty or all-NA entries is deprecated. In a future version, this will no longer exclude empty or all-NA columns when determining the result dtypes. To retain the old behavior, exclude the relevant entries before the concat operation.\n",
      "\n"
     ]
    },
    {
     "name": "stdout",
     "output_type": "stream",
     "text": [
      "monthly_portfolio_return = -0.0869\n",
      "risk_free_return = -0.0043\n",
      "mark_date = datetime.date(2018, 11, 1)\n",
      "monthly_portfolio_return = 0.0114\n",
      "risk_free_return = 0.0149\n",
      "mark_date = datetime.date(2018, 12, 1)\n"
     ]
    },
    {
     "name": "stderr",
     "output_type": "stream",
     "text": [
      "/home/josh/Documents/GitHub/ropacea/ropacea/Single_factor.py:67: FutureWarning:\n",
      "\n",
      "The behavior of DataFrame concatenation with empty or all-NA entries is deprecated. In a future version, this will no longer exclude empty or all-NA columns when determining the result dtypes. To retain the old behavior, exclude the relevant entries before the concat operation.\n",
      "\n",
      "/home/josh/Documents/GitHub/ropacea/ropacea/Single_factor.py:67: FutureWarning:\n",
      "\n",
      "The behavior of DataFrame concatenation with empty or all-NA entries is deprecated. In a future version, this will no longer exclude empty or all-NA columns when determining the result dtypes. To retain the old behavior, exclude the relevant entries before the concat operation.\n",
      "\n"
     ]
    },
    {
     "name": "stdout",
     "output_type": "stream",
     "text": [
      "monthly_portfolio_return = -0.0822\n",
      "risk_free_return = 0.0286\n",
      "mark_date = datetime.date(2019, 1, 1)\n",
      "monthly_portfolio_return = 0.0577\n",
      "risk_free_return = 0.0071\n",
      "mark_date = datetime.date(2019, 2, 1)\n"
     ]
    },
    {
     "name": "stderr",
     "output_type": "stream",
     "text": [
      "/home/josh/Documents/GitHub/ropacea/ropacea/Single_factor.py:67: FutureWarning:\n",
      "\n",
      "The behavior of DataFrame concatenation with empty or all-NA entries is deprecated. In a future version, this will no longer exclude empty or all-NA columns when determining the result dtypes. To retain the old behavior, exclude the relevant entries before the concat operation.\n",
      "\n",
      "/home/josh/Documents/GitHub/ropacea/ropacea/Single_factor.py:67: FutureWarning:\n",
      "\n",
      "The behavior of DataFrame concatenation with empty or all-NA entries is deprecated. In a future version, this will no longer exclude empty or all-NA columns when determining the result dtypes. To retain the old behavior, exclude the relevant entries before the concat operation.\n",
      "\n"
     ]
    },
    {
     "name": "stdout",
     "output_type": "stream",
     "text": [
      "monthly_portfolio_return = 0.0662\n",
      "risk_free_return = -0.0043\n",
      "mark_date = datetime.date(2019, 3, 1)\n",
      "monthly_portfolio_return = 0.0412\n",
      "risk_free_return = 0.0294\n",
      "mark_date = datetime.date(2019, 4, 1)\n"
     ]
    },
    {
     "name": "stderr",
     "output_type": "stream",
     "text": [
      "/home/josh/Documents/GitHub/ropacea/ropacea/Single_factor.py:67: FutureWarning:\n",
      "\n",
      "The behavior of DataFrame concatenation with empty or all-NA entries is deprecated. In a future version, this will no longer exclude empty or all-NA columns when determining the result dtypes. To retain the old behavior, exclude the relevant entries before the concat operation.\n",
      "\n",
      "/home/josh/Documents/GitHub/ropacea/ropacea/Single_factor.py:67: FutureWarning:\n",
      "\n",
      "The behavior of DataFrame concatenation with empty or all-NA entries is deprecated. In a future version, this will no longer exclude empty or all-NA columns when determining the result dtypes. To retain the old behavior, exclude the relevant entries before the concat operation.\n",
      "\n"
     ]
    },
    {
     "name": "stdout",
     "output_type": "stream",
     "text": [
      "monthly_portfolio_return = 0.0501\n",
      "risk_free_return = -0.0062\n",
      "mark_date = datetime.date(2019, 5, 1)\n",
      "monthly_portfolio_return = -0.0637\n",
      "risk_free_return = 0.0319\n",
      "mark_date = datetime.date(2019, 6, 1)\n"
     ]
    },
    {
     "name": "stderr",
     "output_type": "stream",
     "text": [
      "/home/josh/Documents/GitHub/ropacea/ropacea/Single_factor.py:67: FutureWarning:\n",
      "\n",
      "The behavior of DataFrame concatenation with empty or all-NA entries is deprecated. In a future version, this will no longer exclude empty or all-NA columns when determining the result dtypes. To retain the old behavior, exclude the relevant entries before the concat operation.\n",
      "\n",
      "/home/josh/Documents/GitHub/ropacea/ropacea/Single_factor.py:67: FutureWarning:\n",
      "\n",
      "The behavior of DataFrame concatenation with empty or all-NA entries is deprecated. In a future version, this will no longer exclude empty or all-NA columns when determining the result dtypes. To retain the old behavior, exclude the relevant entries before the concat operation.\n",
      "\n"
     ]
    },
    {
     "name": "stdout",
     "output_type": "stream",
     "text": [
      "monthly_portfolio_return = 0.0772\n",
      "risk_free_return = 0.0121\n",
      "mark_date = datetime.date(2019, 7, 1)\n",
      "monthly_portfolio_return = 0.0270\n",
      "risk_free_return = 0.0034\n",
      "mark_date = datetime.date(2019, 8, 1)\n"
     ]
    },
    {
     "name": "stderr",
     "output_type": "stream",
     "text": [
      "/home/josh/Documents/GitHub/ropacea/ropacea/Single_factor.py:67: FutureWarning:\n",
      "\n",
      "The behavior of DataFrame concatenation with empty or all-NA entries is deprecated. In a future version, this will no longer exclude empty or all-NA columns when determining the result dtypes. To retain the old behavior, exclude the relevant entries before the concat operation.\n",
      "\n",
      "/home/josh/Documents/GitHub/ropacea/ropacea/Single_factor.py:67: FutureWarning:\n",
      "\n",
      "The behavior of DataFrame concatenation with empty or all-NA entries is deprecated. In a future version, this will no longer exclude empty or all-NA columns when determining the result dtypes. To retain the old behavior, exclude the relevant entries before the concat operation.\n",
      "\n"
     ]
    },
    {
     "name": "stdout",
     "output_type": "stream",
     "text": [
      "monthly_portfolio_return = -0.0113\n",
      "risk_free_return = 0.0403\n",
      "mark_date = datetime.date(2019, 9, 1)\n",
      "monthly_portfolio_return = 0.0058\n",
      "risk_free_return = -0.0139\n",
      "mark_date = datetime.date(2019, 10, 1)\n"
     ]
    },
    {
     "name": "stderr",
     "output_type": "stream",
     "text": [
      "/home/josh/Documents/GitHub/ropacea/ropacea/Single_factor.py:67: FutureWarning:\n",
      "\n",
      "The behavior of DataFrame concatenation with empty or all-NA entries is deprecated. In a future version, this will no longer exclude empty or all-NA columns when determining the result dtypes. To retain the old behavior, exclude the relevant entries before the concat operation.\n",
      "\n",
      "/home/josh/Documents/GitHub/ropacea/ropacea/Single_factor.py:67: FutureWarning:\n",
      "\n",
      "The behavior of DataFrame concatenation with empty or all-NA entries is deprecated. In a future version, this will no longer exclude empty or all-NA columns when determining the result dtypes. To retain the old behavior, exclude the relevant entries before the concat operation.\n",
      "\n"
     ]
    },
    {
     "name": "stdout",
     "output_type": "stream",
     "text": [
      "monthly_portfolio_return = 0.0027\n",
      "risk_free_return = -0.0007\n",
      "mark_date = datetime.date(2019, 11, 1)\n",
      "monthly_portfolio_return = 0.0500\n",
      "risk_free_return = -0.0074\n",
      "mark_date = datetime.date(2019, 12, 1)\n"
     ]
    },
    {
     "name": "stderr",
     "output_type": "stream",
     "text": [
      "/home/josh/Documents/GitHub/ropacea/ropacea/Single_factor.py:67: FutureWarning:\n",
      "\n",
      "The behavior of DataFrame concatenation with empty or all-NA entries is deprecated. In a future version, this will no longer exclude empty or all-NA columns when determining the result dtypes. To retain the old behavior, exclude the relevant entries before the concat operation.\n",
      "\n",
      "/home/josh/Documents/GitHub/ropacea/ropacea/Single_factor.py:67: FutureWarning:\n",
      "\n",
      "The behavior of DataFrame concatenation with empty or all-NA entries is deprecated. In a future version, this will no longer exclude empty or all-NA columns when determining the result dtypes. To retain the old behavior, exclude the relevant entries before the concat operation.\n",
      "\n"
     ]
    },
    {
     "name": "stdout",
     "output_type": "stream",
     "text": [
      "monthly_portfolio_return = 0.0482\n",
      "risk_free_return = -0.0113\n",
      "mark_date = datetime.date(2020, 1, 1)\n",
      "monthly_portfolio_return = 0.0304\n",
      "risk_free_return = 0.0392\n",
      "mark_date = datetime.date(2020, 2, 1)\n"
     ]
    },
    {
     "name": "stderr",
     "output_type": "stream",
     "text": [
      "/home/josh/Documents/GitHub/ropacea/ropacea/Single_factor.py:67: FutureWarning:\n",
      "\n",
      "The behavior of DataFrame concatenation with empty or all-NA entries is deprecated. In a future version, this will no longer exclude empty or all-NA columns when determining the result dtypes. To retain the old behavior, exclude the relevant entries before the concat operation.\n",
      "\n",
      "/home/josh/Documents/GitHub/ropacea/ropacea/Single_factor.py:67: FutureWarning:\n",
      "\n",
      "The behavior of DataFrame concatenation with empty or all-NA entries is deprecated. In a future version, this will no longer exclude empty or all-NA columns when determining the result dtypes. To retain the old behavior, exclude the relevant entries before the concat operation.\n",
      "\n"
     ]
    },
    {
     "name": "stdout",
     "output_type": "stream",
     "text": [
      "monthly_portfolio_return = -0.0674\n",
      "risk_free_return = 0.0299\n",
      "mark_date = datetime.date(2020, 3, 1)\n",
      "monthly_portfolio_return = -0.0803\n",
      "risk_free_return = 0.0397\n",
      "mark_date = datetime.date(2020, 4, 1)\n"
     ]
    },
    {
     "name": "stderr",
     "output_type": "stream",
     "text": [
      "/home/josh/Documents/GitHub/ropacea/ropacea/Single_factor.py:67: FutureWarning:\n",
      "\n",
      "The behavior of DataFrame concatenation with empty or all-NA entries is deprecated. In a future version, this will no longer exclude empty or all-NA columns when determining the result dtypes. To retain the old behavior, exclude the relevant entries before the concat operation.\n",
      "\n",
      "/home/josh/Documents/GitHub/ropacea/ropacea/Single_factor.py:67: FutureWarning:\n",
      "\n",
      "The behavior of DataFrame concatenation with empty or all-NA entries is deprecated. In a future version, this will no longer exclude empty or all-NA columns when determining the result dtypes. To retain the old behavior, exclude the relevant entries before the concat operation.\n",
      "\n"
     ]
    },
    {
     "name": "stdout",
     "output_type": "stream",
     "text": [
      "monthly_portfolio_return = 0.1233\n",
      "risk_free_return = 0.0050\n",
      "mark_date = datetime.date(2020, 5, 1)\n",
      "monthly_portfolio_return = 0.0454\n",
      "risk_free_return = 0.0007\n",
      "mark_date = datetime.date(2020, 6, 1)\n"
     ]
    },
    {
     "name": "stderr",
     "output_type": "stream",
     "text": [
      "/home/josh/Documents/GitHub/ropacea/ropacea/Single_factor.py:67: FutureWarning:\n",
      "\n",
      "The behavior of DataFrame concatenation with empty or all-NA entries is deprecated. In a future version, this will no longer exclude empty or all-NA columns when determining the result dtypes. To retain the old behavior, exclude the relevant entries before the concat operation.\n",
      "\n",
      "/home/josh/Documents/GitHub/ropacea/ropacea/Single_factor.py:67: FutureWarning:\n",
      "\n",
      "The behavior of DataFrame concatenation with empty or all-NA entries is deprecated. In a future version, this will no longer exclude empty or all-NA columns when determining the result dtypes. To retain the old behavior, exclude the relevant entries before the concat operation.\n",
      "\n"
     ]
    },
    {
     "name": "stdout",
     "output_type": "stream",
     "text": [
      "monthly_portfolio_return = 0.0426\n",
      "risk_free_return = 0.0004\n",
      "mark_date = datetime.date(2020, 7, 1)\n",
      "monthly_portfolio_return = 0.0438\n",
      "risk_free_return = 0.0128\n",
      "mark_date = datetime.date(2020, 8, 1)\n"
     ]
    },
    {
     "name": "stderr",
     "output_type": "stream",
     "text": [
      "/home/josh/Documents/GitHub/ropacea/ropacea/Single_factor.py:67: FutureWarning:\n",
      "\n",
      "The behavior of DataFrame concatenation with empty or all-NA entries is deprecated. In a future version, this will no longer exclude empty or all-NA columns when determining the result dtypes. To retain the old behavior, exclude the relevant entries before the concat operation.\n",
      "\n",
      "/home/josh/Documents/GitHub/ropacea/ropacea/Single_factor.py:67: FutureWarning:\n",
      "\n",
      "The behavior of DataFrame concatenation with empty or all-NA entries is deprecated. In a future version, this will no longer exclude empty or all-NA columns when determining the result dtypes. To retain the old behavior, exclude the relevant entries before the concat operation.\n",
      "\n"
     ]
    },
    {
     "name": "stdout",
     "output_type": "stream",
     "text": [
      "monthly_portfolio_return = 0.0960\n",
      "risk_free_return = -0.0147\n",
      "mark_date = datetime.date(2020, 9, 1)\n",
      "monthly_portfolio_return = -0.0216\n",
      "risk_free_return = 0.0026\n",
      "mark_date = datetime.date(2020, 10, 1)\n"
     ]
    },
    {
     "name": "stderr",
     "output_type": "stream",
     "text": [
      "/home/josh/Documents/GitHub/ropacea/ropacea/Single_factor.py:67: FutureWarning:\n",
      "\n",
      "The behavior of DataFrame concatenation with empty or all-NA entries is deprecated. In a future version, this will no longer exclude empty or all-NA columns when determining the result dtypes. To retain the old behavior, exclude the relevant entries before the concat operation.\n",
      "\n",
      "/home/josh/Documents/GitHub/ropacea/ropacea/Single_factor.py:67: FutureWarning:\n",
      "\n",
      "The behavior of DataFrame concatenation with empty or all-NA entries is deprecated. In a future version, this will no longer exclude empty or all-NA columns when determining the result dtypes. To retain the old behavior, exclude the relevant entries before the concat operation.\n",
      "\n"
     ]
    },
    {
     "name": "stdout",
     "output_type": "stream",
     "text": [
      "monthly_portfolio_return = -0.0422\n",
      "risk_free_return = -0.0173\n",
      "mark_date = datetime.date(2020, 11, 1)\n",
      "monthly_portfolio_return = 0.0747\n",
      "risk_free_return = 0.0040\n",
      "mark_date = datetime.date(2020, 12, 1)\n"
     ]
    },
    {
     "name": "stderr",
     "output_type": "stream",
     "text": [
      "/home/josh/Documents/GitHub/ropacea/ropacea/Single_factor.py:67: FutureWarning:\n",
      "\n",
      "The behavior of DataFrame concatenation with empty or all-NA entries is deprecated. In a future version, this will no longer exclude empty or all-NA columns when determining the result dtypes. To retain the old behavior, exclude the relevant entries before the concat operation.\n",
      "\n",
      "/home/josh/Documents/GitHub/ropacea/ropacea/Single_factor.py:67: FutureWarning:\n",
      "\n",
      "The behavior of DataFrame concatenation with empty or all-NA entries is deprecated. In a future version, this will no longer exclude empty or all-NA columns when determining the result dtypes. To retain the old behavior, exclude the relevant entries before the concat operation.\n",
      "\n"
     ]
    },
    {
     "name": "stdout",
     "output_type": "stream",
     "text": [
      "monthly_portfolio_return = 0.0302\n",
      "risk_free_return = -0.0050\n",
      "mark_date = datetime.date(2021, 1, 1)\n",
      "monthly_portfolio_return = -0.0010\n",
      "risk_free_return = -0.0107\n",
      "mark_date = datetime.date(2021, 2, 1)\n"
     ]
    },
    {
     "name": "stderr",
     "output_type": "stream",
     "text": [
      "/home/josh/Documents/GitHub/ropacea/ropacea/Single_factor.py:67: FutureWarning:\n",
      "\n",
      "The behavior of DataFrame concatenation with empty or all-NA entries is deprecated. In a future version, this will no longer exclude empty or all-NA columns when determining the result dtypes. To retain the old behavior, exclude the relevant entries before the concat operation.\n",
      "\n",
      "/home/josh/Documents/GitHub/ropacea/ropacea/Single_factor.py:67: FutureWarning:\n",
      "\n",
      "The behavior of DataFrame concatenation with empty or all-NA entries is deprecated. In a future version, this will no longer exclude empty or all-NA columns when determining the result dtypes. To retain the old behavior, exclude the relevant entries before the concat operation.\n",
      "\n"
     ]
    },
    {
     "name": "stdout",
     "output_type": "stream",
     "text": [
      "monthly_portfolio_return = 0.0235\n",
      "risk_free_return = -0.0254\n",
      "mark_date = datetime.date(2021, 3, 1)\n",
      "monthly_portfolio_return = 0.0278\n",
      "risk_free_return = -0.0293\n",
      "mark_date = datetime.date(2021, 4, 1)\n"
     ]
    },
    {
     "name": "stderr",
     "output_type": "stream",
     "text": [
      "/home/josh/Documents/GitHub/ropacea/ropacea/Single_factor.py:67: FutureWarning:\n",
      "\n",
      "The behavior of DataFrame concatenation with empty or all-NA entries is deprecated. In a future version, this will no longer exclude empty or all-NA columns when determining the result dtypes. To retain the old behavior, exclude the relevant entries before the concat operation.\n",
      "\n",
      "/home/josh/Documents/GitHub/ropacea/ropacea/Single_factor.py:67: FutureWarning:\n",
      "\n",
      "The behavior of DataFrame concatenation with empty or all-NA entries is deprecated. In a future version, this will no longer exclude empty or all-NA columns when determining the result dtypes. To retain the old behavior, exclude the relevant entries before the concat operation.\n",
      "\n"
     ]
    },
    {
     "name": "stdout",
     "output_type": "stream",
     "text": [
      "monthly_portfolio_return = 0.0470\n",
      "risk_free_return = 0.0119\n",
      "mark_date = datetime.date(2021, 5, 1)\n",
      "monthly_portfolio_return = 0.0074\n",
      "risk_free_return = 0.0034\n",
      "mark_date = datetime.date(2021, 6, 1)\n"
     ]
    },
    {
     "name": "stderr",
     "output_type": "stream",
     "text": [
      "/home/josh/Documents/GitHub/ropacea/ropacea/Single_factor.py:67: FutureWarning:\n",
      "\n",
      "The behavior of DataFrame concatenation with empty or all-NA entries is deprecated. In a future version, this will no longer exclude empty or all-NA columns when determining the result dtypes. To retain the old behavior, exclude the relevant entries before the concat operation.\n",
      "\n",
      "/home/josh/Documents/GitHub/ropacea/ropacea/Single_factor.py:67: FutureWarning:\n",
      "\n",
      "The behavior of DataFrame concatenation with empty or all-NA entries is deprecated. In a future version, this will no longer exclude empty or all-NA columns when determining the result dtypes. To retain the old behavior, exclude the relevant entries before the concat operation.\n",
      "\n"
     ]
    },
    {
     "name": "stdout",
     "output_type": "stream",
     "text": [
      "monthly_portfolio_return = 0.0556\n",
      "risk_free_return = 0.0141\n",
      "mark_date = datetime.date(2021, 7, 1)\n",
      "monthly_portfolio_return = 0.0338\n",
      "risk_free_return = 0.0238\n",
      "mark_date = datetime.date(2021, 8, 1)\n"
     ]
    },
    {
     "name": "stderr",
     "output_type": "stream",
     "text": [
      "/home/josh/Documents/GitHub/ropacea/ropacea/Single_factor.py:67: FutureWarning:\n",
      "\n",
      "The behavior of DataFrame concatenation with empty or all-NA entries is deprecated. In a future version, this will no longer exclude empty or all-NA columns when determining the result dtypes. To retain the old behavior, exclude the relevant entries before the concat operation.\n",
      "\n",
      "/home/josh/Documents/GitHub/ropacea/ropacea/Single_factor.py:67: FutureWarning:\n",
      "\n",
      "The behavior of DataFrame concatenation with empty or all-NA entries is deprecated. In a future version, this will no longer exclude empty or all-NA columns when determining the result dtypes. To retain the old behavior, exclude the relevant entries before the concat operation.\n",
      "\n"
     ]
    },
    {
     "name": "stdout",
     "output_type": "stream",
     "text": [
      "monthly_portfolio_return = 0.0411\n",
      "risk_free_return = -0.0048\n",
      "mark_date = datetime.date(2021, 9, 1)\n",
      "monthly_portfolio_return = -0.0545\n",
      "risk_free_return = -0.0154\n",
      "mark_date = datetime.date(2021, 10, 1)\n"
     ]
    },
    {
     "name": "stderr",
     "output_type": "stream",
     "text": [
      "/home/josh/Documents/GitHub/ropacea/ropacea/Single_factor.py:67: FutureWarning:\n",
      "\n",
      "The behavior of DataFrame concatenation with empty or all-NA entries is deprecated. In a future version, this will no longer exclude empty or all-NA columns when determining the result dtypes. To retain the old behavior, exclude the relevant entries before the concat operation.\n",
      "\n",
      "/home/josh/Documents/GitHub/ropacea/ropacea/Single_factor.py:67: FutureWarning:\n",
      "\n",
      "The behavior of DataFrame concatenation with empty or all-NA entries is deprecated. In a future version, this will no longer exclude empty or all-NA columns when determining the result dtypes. To retain the old behavior, exclude the relevant entries before the concat operation.\n",
      "\n"
     ]
    },
    {
     "name": "stdout",
     "output_type": "stream",
     "text": [
      "monthly_portfolio_return = 0.0947\n",
      "risk_free_return = -0.0049\n",
      "mark_date = datetime.date(2021, 11, 1)\n",
      "monthly_portfolio_return = 0.0159\n",
      "risk_free_return = 0.0125\n",
      "mark_date = datetime.date(2021, 12, 1)\n"
     ]
    },
    {
     "name": "stderr",
     "output_type": "stream",
     "text": [
      "/home/josh/Documents/GitHub/ropacea/ropacea/Single_factor.py:67: FutureWarning:\n",
      "\n",
      "The behavior of DataFrame concatenation with empty or all-NA entries is deprecated. In a future version, this will no longer exclude empty or all-NA columns when determining the result dtypes. To retain the old behavior, exclude the relevant entries before the concat operation.\n",
      "\n",
      "/home/josh/Documents/GitHub/ropacea/ropacea/Single_factor.py:67: FutureWarning:\n",
      "\n",
      "The behavior of DataFrame concatenation with empty or all-NA entries is deprecated. In a future version, this will no longer exclude empty or all-NA columns when determining the result dtypes. To retain the old behavior, exclude the relevant entries before the concat operation.\n",
      "\n"
     ]
    },
    {
     "name": "stdout",
     "output_type": "stream",
     "text": [
      "monthly_portfolio_return = 0.0208\n",
      "risk_free_return = -0.0047\n",
      "========== SUMMARY ==========\n",
      "monthly_returns_bp_mean = 198.17\n",
      "monthly_returns_bp_std = 511.96\n",
      "annualized_mean_pct = 26.55\n",
      "annualized_std_pct = 17.73\n",
      "sharpe_ratio = 1.50\n",
      "mark_date = datetime.date(2017, 1, 1)\n",
      "monthly_portfolio_return = 0.0460\n",
      "risk_free_return = 0.0022\n",
      "mark_date = datetime.date(2017, 2, 1)\n"
     ]
    },
    {
     "name": "stderr",
     "output_type": "stream",
     "text": [
      "/home/josh/Documents/GitHub/ropacea/ropacea/Single_factor.py:67: FutureWarning:\n",
      "\n",
      "The behavior of DataFrame concatenation with empty or all-NA entries is deprecated. In a future version, this will no longer exclude empty or all-NA columns when determining the result dtypes. To retain the old behavior, exclude the relevant entries before the concat operation.\n",
      "\n",
      "/home/josh/Documents/GitHub/ropacea/ropacea/Single_factor.py:67: FutureWarning:\n",
      "\n",
      "The behavior of DataFrame concatenation with empty or all-NA entries is deprecated. In a future version, this will no longer exclude empty or all-NA columns when determining the result dtypes. To retain the old behavior, exclude the relevant entries before the concat operation.\n",
      "\n"
     ]
    },
    {
     "name": "stdout",
     "output_type": "stream",
     "text": [
      "monthly_portfolio_return = 0.0257\n",
      "risk_free_return = 0.0074\n",
      "mark_date = datetime.date(2017, 3, 1)\n",
      "monthly_portfolio_return = 0.0317\n",
      "risk_free_return = 0.0024\n",
      "mark_date = datetime.date(2017, 4, 1)\n"
     ]
    },
    {
     "name": "stderr",
     "output_type": "stream",
     "text": [
      "/home/josh/Documents/GitHub/ropacea/ropacea/Single_factor.py:67: FutureWarning:\n",
      "\n",
      "The behavior of DataFrame concatenation with empty or all-NA entries is deprecated. In a future version, this will no longer exclude empty or all-NA columns when determining the result dtypes. To retain the old behavior, exclude the relevant entries before the concat operation.\n",
      "\n",
      "/home/josh/Documents/GitHub/ropacea/ropacea/Single_factor.py:67: FutureWarning:\n",
      "\n",
      "The behavior of DataFrame concatenation with empty or all-NA entries is deprecated. In a future version, this will no longer exclude empty or all-NA columns when determining the result dtypes. To retain the old behavior, exclude the relevant entries before the concat operation.\n",
      "\n"
     ]
    },
    {
     "name": "stdout",
     "output_type": "stream",
     "text": [
      "monthly_portfolio_return = 0.0032\n",
      "risk_free_return = 0.0111\n",
      "mark_date = datetime.date(2017, 5, 1)\n",
      "monthly_portfolio_return = 0.0586\n",
      "risk_free_return = 0.0079\n",
      "mark_date = datetime.date(2017, 6, 1)\n",
      "monthly_portfolio_return = 0.0028\n",
      "risk_free_return = -0.0013\n",
      "mark_date = datetime.date(2017, 7, 1)\n"
     ]
    },
    {
     "name": "stderr",
     "output_type": "stream",
     "text": [
      "/home/josh/Documents/GitHub/ropacea/ropacea/Single_factor.py:67: FutureWarning:\n",
      "\n",
      "The behavior of DataFrame concatenation with empty or all-NA entries is deprecated. In a future version, this will no longer exclude empty or all-NA columns when determining the result dtypes. To retain the old behavior, exclude the relevant entries before the concat operation.\n",
      "\n",
      "/home/josh/Documents/GitHub/ropacea/ropacea/Single_factor.py:67: FutureWarning:\n",
      "\n",
      "The behavior of DataFrame concatenation with empty or all-NA entries is deprecated. In a future version, this will no longer exclude empty or all-NA columns when determining the result dtypes. To retain the old behavior, exclude the relevant entries before the concat operation.\n",
      "\n",
      "/home/josh/Documents/GitHub/ropacea/ropacea/Single_factor.py:67: FutureWarning:\n",
      "\n",
      "The behavior of DataFrame concatenation with empty or all-NA entries is deprecated. In a future version, this will no longer exclude empty or all-NA columns when determining the result dtypes. To retain the old behavior, exclude the relevant entries before the concat operation.\n",
      "\n",
      "/home/josh/Documents/GitHub/ropacea/ropacea/Single_factor.py:67: FutureWarning:\n",
      "\n",
      "The behavior of DataFrame concatenation with empty or all-NA entries is deprecated. In a future version, this will no longer exclude empty or all-NA columns when determining the result dtypes. To retain the old behavior, exclude the relevant entries before the concat operation.\n",
      "\n"
     ]
    },
    {
     "name": "stdout",
     "output_type": "stream",
     "text": [
      "monthly_portfolio_return = 0.0423\n",
      "risk_free_return = -0.0000\n",
      "mark_date = datetime.date(2017, 8, 1)\n",
      "monthly_portfolio_return = 0.0215\n",
      "risk_free_return = 0.0171\n",
      "mark_date = datetime.date(2017, 9, 1)\n"
     ]
    },
    {
     "name": "stderr",
     "output_type": "stream",
     "text": [
      "/home/josh/Documents/GitHub/ropacea/ropacea/Single_factor.py:67: FutureWarning:\n",
      "\n",
      "The behavior of DataFrame concatenation with empty or all-NA entries is deprecated. In a future version, this will no longer exclude empty or all-NA columns when determining the result dtypes. To retain the old behavior, exclude the relevant entries before the concat operation.\n",
      "\n",
      "/home/josh/Documents/GitHub/ropacea/ropacea/Single_factor.py:67: FutureWarning:\n",
      "\n",
      "The behavior of DataFrame concatenation with empty or all-NA entries is deprecated. In a future version, this will no longer exclude empty or all-NA columns when determining the result dtypes. To retain the old behavior, exclude the relevant entries before the concat operation.\n",
      "\n"
     ]
    },
    {
     "name": "stdout",
     "output_type": "stream",
     "text": [
      "monthly_portfolio_return = 0.0270\n",
      "risk_free_return = -0.0172\n",
      "mark_date = datetime.date(2017, 10, 1)\n",
      "monthly_portfolio_return = 0.0886\n",
      "risk_free_return = -0.0011\n",
      "mark_date = datetime.date(2017, 11, 1)\n"
     ]
    },
    {
     "name": "stderr",
     "output_type": "stream",
     "text": [
      "/home/josh/Documents/GitHub/ropacea/ropacea/Single_factor.py:67: FutureWarning:\n",
      "\n",
      "The behavior of DataFrame concatenation with empty or all-NA entries is deprecated. In a future version, this will no longer exclude empty or all-NA columns when determining the result dtypes. To retain the old behavior, exclude the relevant entries before the concat operation.\n",
      "\n",
      "/home/josh/Documents/GitHub/ropacea/ropacea/Single_factor.py:67: FutureWarning:\n",
      "\n",
      "The behavior of DataFrame concatenation with empty or all-NA entries is deprecated. In a future version, this will no longer exclude empty or all-NA columns when determining the result dtypes. To retain the old behavior, exclude the relevant entries before the concat operation.\n",
      "\n"
     ]
    },
    {
     "name": "stdout",
     "output_type": "stream",
     "text": [
      "monthly_portfolio_return = 0.0169\n",
      "risk_free_return = -0.0026\n",
      "mark_date = datetime.date(2017, 12, 1)\n",
      "monthly_portfolio_return = 0.0134\n",
      "risk_free_return = 0.0022\n",
      "mark_date = datetime.date(2018, 1, 1)\n"
     ]
    },
    {
     "name": "stderr",
     "output_type": "stream",
     "text": [
      "/home/josh/Documents/GitHub/ropacea/ropacea/Single_factor.py:67: FutureWarning:\n",
      "\n",
      "The behavior of DataFrame concatenation with empty or all-NA entries is deprecated. In a future version, this will no longer exclude empty or all-NA columns when determining the result dtypes. To retain the old behavior, exclude the relevant entries before the concat operation.\n",
      "\n",
      "/home/josh/Documents/GitHub/ropacea/ropacea/Single_factor.py:67: FutureWarning:\n",
      "\n",
      "The behavior of DataFrame concatenation with empty or all-NA entries is deprecated. In a future version, this will no longer exclude empty or all-NA columns when determining the result dtypes. To retain the old behavior, exclude the relevant entries before the concat operation.\n",
      "\n"
     ]
    },
    {
     "name": "stdout",
     "output_type": "stream",
     "text": [
      "monthly_portfolio_return = 0.1035\n",
      "risk_free_return = -0.0236\n",
      "mark_date = datetime.date(2018, 2, 1)\n",
      "monthly_portfolio_return = 0.0077\n",
      "risk_free_return = -0.0130\n",
      "mark_date = datetime.date(2018, 3, 1)\n"
     ]
    },
    {
     "name": "stderr",
     "output_type": "stream",
     "text": [
      "/home/josh/Documents/GitHub/ropacea/ropacea/Single_factor.py:67: FutureWarning:\n",
      "\n",
      "The behavior of DataFrame concatenation with empty or all-NA entries is deprecated. In a future version, this will no longer exclude empty or all-NA columns when determining the result dtypes. To retain the old behavior, exclude the relevant entries before the concat operation.\n",
      "\n",
      "/home/josh/Documents/GitHub/ropacea/ropacea/Single_factor.py:67: FutureWarning:\n",
      "\n",
      "The behavior of DataFrame concatenation with empty or all-NA entries is deprecated. In a future version, this will no longer exclude empty or all-NA columns when determining the result dtypes. To retain the old behavior, exclude the relevant entries before the concat operation.\n",
      "\n"
     ]
    },
    {
     "name": "stdout",
     "output_type": "stream",
     "text": [
      "monthly_portfolio_return = -0.0211\n",
      "risk_free_return = 0.0128\n",
      "mark_date = datetime.date(2018, 4, 1)\n",
      "monthly_portfolio_return = 0.0032\n",
      "risk_free_return = -0.0155\n",
      "mark_date = datetime.date(2018, 5, 1)\n"
     ]
    },
    {
     "name": "stderr",
     "output_type": "stream",
     "text": [
      "/home/josh/Documents/GitHub/ropacea/ropacea/Single_factor.py:67: FutureWarning:\n",
      "\n",
      "The behavior of DataFrame concatenation with empty or all-NA entries is deprecated. In a future version, this will no longer exclude empty or all-NA columns when determining the result dtypes. To retain the old behavior, exclude the relevant entries before the concat operation.\n",
      "\n",
      "/home/josh/Documents/GitHub/ropacea/ropacea/Single_factor.py:67: FutureWarning:\n",
      "\n",
      "The behavior of DataFrame concatenation with empty or all-NA entries is deprecated. In a future version, this will no longer exclude empty or all-NA columns when determining the result dtypes. To retain the old behavior, exclude the relevant entries before the concat operation.\n",
      "\n"
     ]
    },
    {
     "name": "stdout",
     "output_type": "stream",
     "text": [
      "monthly_portfolio_return = 0.0616\n",
      "risk_free_return = 0.0096\n",
      "mark_date = datetime.date(2018, 6, 1)\n",
      "monthly_portfolio_return = -0.0158\n",
      "risk_free_return = 0.0023\n",
      "mark_date = datetime.date(2018, 7, 1)\n"
     ]
    },
    {
     "name": "stderr",
     "output_type": "stream",
     "text": [
      "/home/josh/Documents/GitHub/ropacea/ropacea/Single_factor.py:67: FutureWarning:\n",
      "\n",
      "The behavior of DataFrame concatenation with empty or all-NA entries is deprecated. In a future version, this will no longer exclude empty or all-NA columns when determining the result dtypes. To retain the old behavior, exclude the relevant entries before the concat operation.\n",
      "\n",
      "/home/josh/Documents/GitHub/ropacea/ropacea/Single_factor.py:67: FutureWarning:\n",
      "\n",
      "The behavior of DataFrame concatenation with empty or all-NA entries is deprecated. In a future version, this will no longer exclude empty or all-NA columns when determining the result dtypes. To retain the old behavior, exclude the relevant entries before the concat operation.\n",
      "\n"
     ]
    },
    {
     "name": "stdout",
     "output_type": "stream",
     "text": [
      "monthly_portfolio_return = 0.0346\n",
      "risk_free_return = -0.0051\n",
      "mark_date = datetime.date(2018, 8, 1)\n",
      "monthly_portfolio_return = 0.0601\n",
      "risk_free_return = 0.0101\n",
      "mark_date = datetime.date(2018, 9, 1)\n"
     ]
    },
    {
     "name": "stderr",
     "output_type": "stream",
     "text": [
      "/home/josh/Documents/GitHub/ropacea/ropacea/Single_factor.py:67: FutureWarning:\n",
      "\n",
      "The behavior of DataFrame concatenation with empty or all-NA entries is deprecated. In a future version, this will no longer exclude empty or all-NA columns when determining the result dtypes. To retain the old behavior, exclude the relevant entries before the concat operation.\n",
      "\n",
      "/home/josh/Documents/GitHub/ropacea/ropacea/Single_factor.py:67: FutureWarning:\n",
      "\n",
      "The behavior of DataFrame concatenation with empty or all-NA entries is deprecated. In a future version, this will no longer exclude empty or all-NA columns when determining the result dtypes. To retain the old behavior, exclude the relevant entries before the concat operation.\n",
      "\n"
     ]
    },
    {
     "name": "stdout",
     "output_type": "stream",
     "text": [
      "monthly_portfolio_return = 0.0098\n",
      "risk_free_return = -0.0148\n",
      "mark_date = datetime.date(2018, 10, 1)\n",
      "monthly_portfolio_return = -0.0932\n",
      "risk_free_return = -0.0043\n",
      "mark_date = datetime.date(2018, 11, 1)\n"
     ]
    },
    {
     "name": "stderr",
     "output_type": "stream",
     "text": [
      "/home/josh/Documents/GitHub/ropacea/ropacea/Single_factor.py:67: FutureWarning:\n",
      "\n",
      "The behavior of DataFrame concatenation with empty or all-NA entries is deprecated. In a future version, this will no longer exclude empty or all-NA columns when determining the result dtypes. To retain the old behavior, exclude the relevant entries before the concat operation.\n",
      "\n",
      "/home/josh/Documents/GitHub/ropacea/ropacea/Single_factor.py:67: FutureWarning:\n",
      "\n",
      "The behavior of DataFrame concatenation with empty or all-NA entries is deprecated. In a future version, this will no longer exclude empty or all-NA columns when determining the result dtypes. To retain the old behavior, exclude the relevant entries before the concat operation.\n",
      "\n"
     ]
    },
    {
     "name": "stdout",
     "output_type": "stream",
     "text": [
      "monthly_portfolio_return = 0.0028\n",
      "risk_free_return = 0.0149\n",
      "mark_date = datetime.date(2018, 12, 1)\n",
      "monthly_portfolio_return = -0.0855\n",
      "risk_free_return = 0.0286\n",
      "mark_date = datetime.date(2019, 1, 1)\n"
     ]
    },
    {
     "name": "stderr",
     "output_type": "stream",
     "text": [
      "/home/josh/Documents/GitHub/ropacea/ropacea/Single_factor.py:67: FutureWarning:\n",
      "\n",
      "The behavior of DataFrame concatenation with empty or all-NA entries is deprecated. In a future version, this will no longer exclude empty or all-NA columns when determining the result dtypes. To retain the old behavior, exclude the relevant entries before the concat operation.\n",
      "\n",
      "/home/josh/Documents/GitHub/ropacea/ropacea/Single_factor.py:67: FutureWarning:\n",
      "\n",
      "The behavior of DataFrame concatenation with empty or all-NA entries is deprecated. In a future version, this will no longer exclude empty or all-NA columns when determining the result dtypes. To retain the old behavior, exclude the relevant entries before the concat operation.\n",
      "\n"
     ]
    },
    {
     "name": "stdout",
     "output_type": "stream",
     "text": [
      "monthly_portfolio_return = 0.0599\n",
      "risk_free_return = 0.0071\n",
      "mark_date = datetime.date(2019, 2, 1)\n",
      "monthly_portfolio_return = 0.0651\n",
      "risk_free_return = -0.0043\n",
      "mark_date = datetime.date(2019, 3, 1)\n"
     ]
    },
    {
     "name": "stderr",
     "output_type": "stream",
     "text": [
      "/home/josh/Documents/GitHub/ropacea/ropacea/Single_factor.py:67: FutureWarning:\n",
      "\n",
      "The behavior of DataFrame concatenation with empty or all-NA entries is deprecated. In a future version, this will no longer exclude empty or all-NA columns when determining the result dtypes. To retain the old behavior, exclude the relevant entries before the concat operation.\n",
      "\n",
      "/home/josh/Documents/GitHub/ropacea/ropacea/Single_factor.py:67: FutureWarning:\n",
      "\n",
      "The behavior of DataFrame concatenation with empty or all-NA entries is deprecated. In a future version, this will no longer exclude empty or all-NA columns when determining the result dtypes. To retain the old behavior, exclude the relevant entries before the concat operation.\n",
      "\n"
     ]
    },
    {
     "name": "stdout",
     "output_type": "stream",
     "text": [
      "monthly_portfolio_return = 0.0459\n",
      "risk_free_return = 0.0294\n",
      "mark_date = datetime.date(2019, 4, 1)\n",
      "monthly_portfolio_return = 0.0518\n",
      "risk_free_return = -0.0062\n",
      "mark_date = datetime.date(2019, 5, 1)\n"
     ]
    },
    {
     "name": "stderr",
     "output_type": "stream",
     "text": [
      "/home/josh/Documents/GitHub/ropacea/ropacea/Single_factor.py:67: FutureWarning:\n",
      "\n",
      "The behavior of DataFrame concatenation with empty or all-NA entries is deprecated. In a future version, this will no longer exclude empty or all-NA columns when determining the result dtypes. To retain the old behavior, exclude the relevant entries before the concat operation.\n",
      "\n",
      "/home/josh/Documents/GitHub/ropacea/ropacea/Single_factor.py:67: FutureWarning:\n",
      "\n",
      "The behavior of DataFrame concatenation with empty or all-NA entries is deprecated. In a future version, this will no longer exclude empty or all-NA columns when determining the result dtypes. To retain the old behavior, exclude the relevant entries before the concat operation.\n",
      "\n"
     ]
    },
    {
     "name": "stdout",
     "output_type": "stream",
     "text": [
      "monthly_portfolio_return = -0.0677\n",
      "risk_free_return = 0.0319\n",
      "mark_date = datetime.date(2019, 6, 1)\n",
      "monthly_portfolio_return = 0.0798\n",
      "risk_free_return = 0.0121\n",
      "mark_date = datetime.date(2019, 7, 1)\n"
     ]
    },
    {
     "name": "stderr",
     "output_type": "stream",
     "text": [
      "/home/josh/Documents/GitHub/ropacea/ropacea/Single_factor.py:67: FutureWarning:\n",
      "\n",
      "The behavior of DataFrame concatenation with empty or all-NA entries is deprecated. In a future version, this will no longer exclude empty or all-NA columns when determining the result dtypes. To retain the old behavior, exclude the relevant entries before the concat operation.\n",
      "\n",
      "/home/josh/Documents/GitHub/ropacea/ropacea/Single_factor.py:67: FutureWarning:\n",
      "\n",
      "The behavior of DataFrame concatenation with empty or all-NA entries is deprecated. In a future version, this will no longer exclude empty or all-NA columns when determining the result dtypes. To retain the old behavior, exclude the relevant entries before the concat operation.\n",
      "\n"
     ]
    },
    {
     "name": "stdout",
     "output_type": "stream",
     "text": [
      "monthly_portfolio_return = 0.0287\n",
      "risk_free_return = 0.0034\n",
      "mark_date = datetime.date(2019, 8, 1)\n",
      "monthly_portfolio_return = -0.0117\n",
      "risk_free_return = 0.0403\n",
      "mark_date = datetime.date(2019, 9, 1)\n"
     ]
    },
    {
     "name": "stderr",
     "output_type": "stream",
     "text": [
      "/home/josh/Documents/GitHub/ropacea/ropacea/Single_factor.py:67: FutureWarning:\n",
      "\n",
      "The behavior of DataFrame concatenation with empty or all-NA entries is deprecated. In a future version, this will no longer exclude empty or all-NA columns when determining the result dtypes. To retain the old behavior, exclude the relevant entries before the concat operation.\n",
      "\n",
      "/home/josh/Documents/GitHub/ropacea/ropacea/Single_factor.py:67: FutureWarning:\n",
      "\n",
      "The behavior of DataFrame concatenation with empty or all-NA entries is deprecated. In a future version, this will no longer exclude empty or all-NA columns when determining the result dtypes. To retain the old behavior, exclude the relevant entries before the concat operation.\n",
      "\n"
     ]
    },
    {
     "name": "stdout",
     "output_type": "stream",
     "text": [
      "monthly_portfolio_return = 0.0047\n",
      "risk_free_return = -0.0139\n",
      "mark_date = datetime.date(2019, 10, 1)\n",
      "monthly_portfolio_return = 0.0023\n",
      "risk_free_return = -0.0007\n",
      "mark_date = datetime.date(2019, 11, 1)\n"
     ]
    },
    {
     "name": "stderr",
     "output_type": "stream",
     "text": [
      "/home/josh/Documents/GitHub/ropacea/ropacea/Single_factor.py:67: FutureWarning:\n",
      "\n",
      "The behavior of DataFrame concatenation with empty or all-NA entries is deprecated. In a future version, this will no longer exclude empty or all-NA columns when determining the result dtypes. To retain the old behavior, exclude the relevant entries before the concat operation.\n",
      "\n",
      "/home/josh/Documents/GitHub/ropacea/ropacea/Single_factor.py:67: FutureWarning:\n",
      "\n",
      "The behavior of DataFrame concatenation with empty or all-NA entries is deprecated. In a future version, this will no longer exclude empty or all-NA columns when determining the result dtypes. To retain the old behavior, exclude the relevant entries before the concat operation.\n",
      "\n"
     ]
    },
    {
     "name": "stdout",
     "output_type": "stream",
     "text": [
      "monthly_portfolio_return = 0.0537\n",
      "risk_free_return = -0.0074\n",
      "mark_date = datetime.date(2019, 12, 1)\n",
      "monthly_portfolio_return = 0.0496\n",
      "risk_free_return = -0.0113\n",
      "mark_date = datetime.date(2020, 1, 1)\n"
     ]
    },
    {
     "name": "stderr",
     "output_type": "stream",
     "text": [
      "/home/josh/Documents/GitHub/ropacea/ropacea/Single_factor.py:67: FutureWarning:\n",
      "\n",
      "The behavior of DataFrame concatenation with empty or all-NA entries is deprecated. In a future version, this will no longer exclude empty or all-NA columns when determining the result dtypes. To retain the old behavior, exclude the relevant entries before the concat operation.\n",
      "\n",
      "/home/josh/Documents/GitHub/ropacea/ropacea/Single_factor.py:67: FutureWarning:\n",
      "\n",
      "The behavior of DataFrame concatenation with empty or all-NA entries is deprecated. In a future version, this will no longer exclude empty or all-NA columns when determining the result dtypes. To retain the old behavior, exclude the relevant entries before the concat operation.\n",
      "\n"
     ]
    },
    {
     "name": "stdout",
     "output_type": "stream",
     "text": [
      "monthly_portfolio_return = 0.0352\n",
      "risk_free_return = 0.0392\n",
      "mark_date = datetime.date(2020, 2, 1)\n",
      "monthly_portfolio_return = -0.0621\n",
      "risk_free_return = 0.0299\n",
      "mark_date = datetime.date(2020, 3, 1)\n"
     ]
    },
    {
     "name": "stderr",
     "output_type": "stream",
     "text": [
      "/home/josh/Documents/GitHub/ropacea/ropacea/Single_factor.py:67: FutureWarning:\n",
      "\n",
      "The behavior of DataFrame concatenation with empty or all-NA entries is deprecated. In a future version, this will no longer exclude empty or all-NA columns when determining the result dtypes. To retain the old behavior, exclude the relevant entries before the concat operation.\n",
      "\n",
      "/home/josh/Documents/GitHub/ropacea/ropacea/Single_factor.py:67: FutureWarning:\n",
      "\n",
      "The behavior of DataFrame concatenation with empty or all-NA entries is deprecated. In a future version, this will no longer exclude empty or all-NA columns when determining the result dtypes. To retain the old behavior, exclude the relevant entries before the concat operation.\n",
      "\n"
     ]
    },
    {
     "name": "stdout",
     "output_type": "stream",
     "text": [
      "monthly_portfolio_return = -0.0828\n",
      "risk_free_return = 0.0397\n",
      "mark_date = datetime.date(2020, 4, 1)\n",
      "monthly_portfolio_return = 0.1254\n",
      "risk_free_return = 0.0050\n",
      "mark_date = datetime.date(2020, 5, 1)\n"
     ]
    },
    {
     "name": "stderr",
     "output_type": "stream",
     "text": [
      "/home/josh/Documents/GitHub/ropacea/ropacea/Single_factor.py:67: FutureWarning:\n",
      "\n",
      "The behavior of DataFrame concatenation with empty or all-NA entries is deprecated. In a future version, this will no longer exclude empty or all-NA columns when determining the result dtypes. To retain the old behavior, exclude the relevant entries before the concat operation.\n",
      "\n",
      "/home/josh/Documents/GitHub/ropacea/ropacea/Single_factor.py:67: FutureWarning:\n",
      "\n",
      "The behavior of DataFrame concatenation with empty or all-NA entries is deprecated. In a future version, this will no longer exclude empty or all-NA columns when determining the result dtypes. To retain the old behavior, exclude the relevant entries before the concat operation.\n",
      "\n"
     ]
    },
    {
     "name": "stdout",
     "output_type": "stream",
     "text": [
      "monthly_portfolio_return = 0.0497\n",
      "risk_free_return = 0.0007\n",
      "mark_date = datetime.date(2020, 6, 1)\n",
      "monthly_portfolio_return = 0.0485\n",
      "risk_free_return = 0.0004\n",
      "mark_date = datetime.date(2020, 7, 1)\n"
     ]
    },
    {
     "name": "stderr",
     "output_type": "stream",
     "text": [
      "/home/josh/Documents/GitHub/ropacea/ropacea/Single_factor.py:67: FutureWarning:\n",
      "\n",
      "The behavior of DataFrame concatenation with empty or all-NA entries is deprecated. In a future version, this will no longer exclude empty or all-NA columns when determining the result dtypes. To retain the old behavior, exclude the relevant entries before the concat operation.\n",
      "\n",
      "/home/josh/Documents/GitHub/ropacea/ropacea/Single_factor.py:67: FutureWarning:\n",
      "\n",
      "The behavior of DataFrame concatenation with empty or all-NA entries is deprecated. In a future version, this will no longer exclude empty or all-NA columns when determining the result dtypes. To retain the old behavior, exclude the relevant entries before the concat operation.\n",
      "\n"
     ]
    },
    {
     "name": "stdout",
     "output_type": "stream",
     "text": [
      "monthly_portfolio_return = 0.0440\n",
      "risk_free_return = 0.0128\n",
      "mark_date = datetime.date(2020, 8, 1)\n",
      "monthly_portfolio_return = 0.1021\n",
      "risk_free_return = -0.0147\n",
      "mark_date = datetime.date(2020, 9, 1)\n"
     ]
    },
    {
     "name": "stderr",
     "output_type": "stream",
     "text": [
      "/home/josh/Documents/GitHub/ropacea/ropacea/Single_factor.py:67: FutureWarning:\n",
      "\n",
      "The behavior of DataFrame concatenation with empty or all-NA entries is deprecated. In a future version, this will no longer exclude empty or all-NA columns when determining the result dtypes. To retain the old behavior, exclude the relevant entries before the concat operation.\n",
      "\n",
      "/home/josh/Documents/GitHub/ropacea/ropacea/Single_factor.py:67: FutureWarning:\n",
      "\n",
      "The behavior of DataFrame concatenation with empty or all-NA entries is deprecated. In a future version, this will no longer exclude empty or all-NA columns when determining the result dtypes. To retain the old behavior, exclude the relevant entries before the concat operation.\n",
      "\n"
     ]
    },
    {
     "name": "stdout",
     "output_type": "stream",
     "text": [
      "monthly_portfolio_return = -0.0236\n",
      "risk_free_return = 0.0026\n",
      "mark_date = datetime.date(2020, 10, 1)\n",
      "monthly_portfolio_return = -0.0418\n",
      "risk_free_return = -0.0173\n",
      "mark_date = datetime.date(2020, 11, 1)\n"
     ]
    },
    {
     "name": "stderr",
     "output_type": "stream",
     "text": [
      "/home/josh/Documents/GitHub/ropacea/ropacea/Single_factor.py:67: FutureWarning:\n",
      "\n",
      "The behavior of DataFrame concatenation with empty or all-NA entries is deprecated. In a future version, this will no longer exclude empty or all-NA columns when determining the result dtypes. To retain the old behavior, exclude the relevant entries before the concat operation.\n",
      "\n",
      "/home/josh/Documents/GitHub/ropacea/ropacea/Single_factor.py:67: FutureWarning:\n",
      "\n",
      "The behavior of DataFrame concatenation with empty or all-NA entries is deprecated. In a future version, this will no longer exclude empty or all-NA columns when determining the result dtypes. To retain the old behavior, exclude the relevant entries before the concat operation.\n",
      "\n"
     ]
    },
    {
     "name": "stdout",
     "output_type": "stream",
     "text": [
      "monthly_portfolio_return = 0.0739\n",
      "risk_free_return = 0.0040\n",
      "mark_date = datetime.date(2020, 12, 1)\n",
      "monthly_portfolio_return = 0.0297\n",
      "risk_free_return = -0.0050\n",
      "mark_date = datetime.date(2021, 1, 1)\n"
     ]
    },
    {
     "name": "stderr",
     "output_type": "stream",
     "text": [
      "/home/josh/Documents/GitHub/ropacea/ropacea/Single_factor.py:67: FutureWarning:\n",
      "\n",
      "The behavior of DataFrame concatenation with empty or all-NA entries is deprecated. In a future version, this will no longer exclude empty or all-NA columns when determining the result dtypes. To retain the old behavior, exclude the relevant entries before the concat operation.\n",
      "\n",
      "/home/josh/Documents/GitHub/ropacea/ropacea/Single_factor.py:67: FutureWarning:\n",
      "\n",
      "The behavior of DataFrame concatenation with empty or all-NA entries is deprecated. In a future version, this will no longer exclude empty or all-NA columns when determining the result dtypes. To retain the old behavior, exclude the relevant entries before the concat operation.\n",
      "\n"
     ]
    },
    {
     "name": "stdout",
     "output_type": "stream",
     "text": [
      "monthly_portfolio_return = -0.0008\n",
      "risk_free_return = -0.0107\n",
      "mark_date = datetime.date(2021, 2, 1)\n",
      "monthly_portfolio_return = 0.0210\n",
      "risk_free_return = -0.0254\n",
      "mark_date = datetime.date(2021, 3, 1)\n"
     ]
    },
    {
     "name": "stderr",
     "output_type": "stream",
     "text": [
      "/home/josh/Documents/GitHub/ropacea/ropacea/Single_factor.py:67: FutureWarning:\n",
      "\n",
      "The behavior of DataFrame concatenation with empty or all-NA entries is deprecated. In a future version, this will no longer exclude empty or all-NA columns when determining the result dtypes. To retain the old behavior, exclude the relevant entries before the concat operation.\n",
      "\n",
      "/home/josh/Documents/GitHub/ropacea/ropacea/Single_factor.py:67: FutureWarning:\n",
      "\n",
      "The behavior of DataFrame concatenation with empty or all-NA entries is deprecated. In a future version, this will no longer exclude empty or all-NA columns when determining the result dtypes. To retain the old behavior, exclude the relevant entries before the concat operation.\n",
      "\n"
     ]
    },
    {
     "name": "stdout",
     "output_type": "stream",
     "text": [
      "monthly_portfolio_return = 0.0259\n",
      "risk_free_return = -0.0293\n",
      "mark_date = datetime.date(2021, 4, 1)\n",
      "monthly_portfolio_return = 0.0534\n",
      "risk_free_return = 0.0119\n",
      "mark_date = datetime.date(2021, 5, 1)\n"
     ]
    },
    {
     "name": "stderr",
     "output_type": "stream",
     "text": [
      "/home/josh/Documents/GitHub/ropacea/ropacea/Single_factor.py:67: FutureWarning:\n",
      "\n",
      "The behavior of DataFrame concatenation with empty or all-NA entries is deprecated. In a future version, this will no longer exclude empty or all-NA columns when determining the result dtypes. To retain the old behavior, exclude the relevant entries before the concat operation.\n",
      "\n",
      "/home/josh/Documents/GitHub/ropacea/ropacea/Single_factor.py:67: FutureWarning:\n",
      "\n",
      "The behavior of DataFrame concatenation with empty or all-NA entries is deprecated. In a future version, this will no longer exclude empty or all-NA columns when determining the result dtypes. To retain the old behavior, exclude the relevant entries before the concat operation.\n",
      "\n"
     ]
    },
    {
     "name": "stdout",
     "output_type": "stream",
     "text": [
      "monthly_portfolio_return = 0.0054\n",
      "risk_free_return = 0.0034\n",
      "mark_date = datetime.date(2021, 6, 1)\n",
      "monthly_portfolio_return = 0.0679\n",
      "risk_free_return = 0.0141\n",
      "mark_date = datetime.date(2021, 7, 1)\n"
     ]
    },
    {
     "name": "stderr",
     "output_type": "stream",
     "text": [
      "/home/josh/Documents/GitHub/ropacea/ropacea/Single_factor.py:67: FutureWarning:\n",
      "\n",
      "The behavior of DataFrame concatenation with empty or all-NA entries is deprecated. In a future version, this will no longer exclude empty or all-NA columns when determining the result dtypes. To retain the old behavior, exclude the relevant entries before the concat operation.\n",
      "\n",
      "/home/josh/Documents/GitHub/ropacea/ropacea/Single_factor.py:67: FutureWarning:\n",
      "\n",
      "The behavior of DataFrame concatenation with empty or all-NA entries is deprecated. In a future version, this will no longer exclude empty or all-NA columns when determining the result dtypes. To retain the old behavior, exclude the relevant entries before the concat operation.\n",
      "\n"
     ]
    },
    {
     "name": "stdout",
     "output_type": "stream",
     "text": [
      "monthly_portfolio_return = 0.0345\n",
      "risk_free_return = 0.0238\n",
      "mark_date = datetime.date(2021, 8, 1)\n",
      "monthly_portfolio_return = 0.0436\n",
      "risk_free_return = -0.0048\n",
      "mark_date = datetime.date(2021, 9, 1)\n"
     ]
    },
    {
     "name": "stderr",
     "output_type": "stream",
     "text": [
      "/home/josh/Documents/GitHub/ropacea/ropacea/Single_factor.py:67: FutureWarning:\n",
      "\n",
      "The behavior of DataFrame concatenation with empty or all-NA entries is deprecated. In a future version, this will no longer exclude empty or all-NA columns when determining the result dtypes. To retain the old behavior, exclude the relevant entries before the concat operation.\n",
      "\n",
      "/home/josh/Documents/GitHub/ropacea/ropacea/Single_factor.py:67: FutureWarning:\n",
      "\n",
      "The behavior of DataFrame concatenation with empty or all-NA entries is deprecated. In a future version, this will no longer exclude empty or all-NA columns when determining the result dtypes. To retain the old behavior, exclude the relevant entries before the concat operation.\n",
      "\n"
     ]
    },
    {
     "name": "stdout",
     "output_type": "stream",
     "text": [
      "monthly_portfolio_return = -0.0592\n",
      "risk_free_return = -0.0154\n",
      "mark_date = datetime.date(2021, 10, 1)\n",
      "monthly_portfolio_return = 0.1026\n",
      "risk_free_return = -0.0049\n",
      "mark_date = datetime.date(2021, 11, 1)\n"
     ]
    },
    {
     "name": "stderr",
     "output_type": "stream",
     "text": [
      "/home/josh/Documents/GitHub/ropacea/ropacea/Single_factor.py:67: FutureWarning:\n",
      "\n",
      "The behavior of DataFrame concatenation with empty or all-NA entries is deprecated. In a future version, this will no longer exclude empty or all-NA columns when determining the result dtypes. To retain the old behavior, exclude the relevant entries before the concat operation.\n",
      "\n",
      "/home/josh/Documents/GitHub/ropacea/ropacea/Single_factor.py:67: FutureWarning:\n",
      "\n",
      "The behavior of DataFrame concatenation with empty or all-NA entries is deprecated. In a future version, this will no longer exclude empty or all-NA columns when determining the result dtypes. To retain the old behavior, exclude the relevant entries before the concat operation.\n",
      "\n"
     ]
    },
    {
     "name": "stdout",
     "output_type": "stream",
     "text": [
      "monthly_portfolio_return = 0.0263\n",
      "risk_free_return = 0.0125\n",
      "mark_date = datetime.date(2021, 12, 1)\n",
      "monthly_portfolio_return = 0.0151\n",
      "risk_free_return = -0.0047\n",
      "========== SUMMARY ==========\n",
      "monthly_returns_bp_mean = 210.59\n",
      "monthly_returns_bp_std = 530.90\n",
      "annualized_mean_pct = 28.41\n",
      "annualized_std_pct = 18.39\n",
      "sharpe_ratio = 1.54\n",
      "mark_date = datetime.date(2017, 1, 1)\n"
     ]
    },
    {
     "name": "stderr",
     "output_type": "stream",
     "text": [
      "/home/josh/Documents/GitHub/ropacea/ropacea/Single_factor.py:67: FutureWarning:\n",
      "\n",
      "The behavior of DataFrame concatenation with empty or all-NA entries is deprecated. In a future version, this will no longer exclude empty or all-NA columns when determining the result dtypes. To retain the old behavior, exclude the relevant entries before the concat operation.\n",
      "\n",
      "/home/josh/Documents/GitHub/ropacea/ropacea/Single_factor.py:67: FutureWarning:\n",
      "\n",
      "The behavior of DataFrame concatenation with empty or all-NA entries is deprecated. In a future version, this will no longer exclude empty or all-NA columns when determining the result dtypes. To retain the old behavior, exclude the relevant entries before the concat operation.\n",
      "\n"
     ]
    },
    {
     "name": "stdout",
     "output_type": "stream",
     "text": [
      "monthly_portfolio_return = 0.0455\n",
      "risk_free_return = 0.0022\n",
      "mark_date = datetime.date(2017, 2, 1)\n",
      "monthly_portfolio_return = 0.0212\n",
      "risk_free_return = 0.0074\n",
      "mark_date = datetime.date(2017, 3, 1)\n"
     ]
    },
    {
     "name": "stderr",
     "output_type": "stream",
     "text": [
      "/home/josh/Documents/GitHub/ropacea/ropacea/Single_factor.py:67: FutureWarning:\n",
      "\n",
      "The behavior of DataFrame concatenation with empty or all-NA entries is deprecated. In a future version, this will no longer exclude empty or all-NA columns when determining the result dtypes. To retain the old behavior, exclude the relevant entries before the concat operation.\n",
      "\n",
      "/home/josh/Documents/GitHub/ropacea/ropacea/Single_factor.py:67: FutureWarning:\n",
      "\n",
      "The behavior of DataFrame concatenation with empty or all-NA entries is deprecated. In a future version, this will no longer exclude empty or all-NA columns when determining the result dtypes. To retain the old behavior, exclude the relevant entries before the concat operation.\n",
      "\n"
     ]
    },
    {
     "name": "stdout",
     "output_type": "stream",
     "text": [
      "monthly_portfolio_return = 0.0350\n",
      "risk_free_return = 0.0024\n",
      "mark_date = datetime.date(2017, 4, 1)\n",
      "monthly_portfolio_return = 0.0035\n",
      "risk_free_return = 0.0111\n",
      "mark_date = datetime.date(2017, 5, 1)\n"
     ]
    },
    {
     "name": "stderr",
     "output_type": "stream",
     "text": [
      "/home/josh/Documents/GitHub/ropacea/ropacea/Single_factor.py:67: FutureWarning:\n",
      "\n",
      "The behavior of DataFrame concatenation with empty or all-NA entries is deprecated. In a future version, this will no longer exclude empty or all-NA columns when determining the result dtypes. To retain the old behavior, exclude the relevant entries before the concat operation.\n",
      "\n",
      "/home/josh/Documents/GitHub/ropacea/ropacea/Single_factor.py:67: FutureWarning:\n",
      "\n",
      "The behavior of DataFrame concatenation with empty or all-NA entries is deprecated. In a future version, this will no longer exclude empty or all-NA columns when determining the result dtypes. To retain the old behavior, exclude the relevant entries before the concat operation.\n",
      "\n"
     ]
    },
    {
     "name": "stdout",
     "output_type": "stream",
     "text": [
      "monthly_portfolio_return = 0.0694\n",
      "risk_free_return = 0.0079\n",
      "mark_date = datetime.date(2017, 6, 1)\n",
      "monthly_portfolio_return = 0.0014\n",
      "risk_free_return = -0.0013\n",
      "mark_date = datetime.date(2017, 7, 1)\n",
      "monthly_portfolio_return = 0.0475\n",
      "risk_free_return = -0.0000\n",
      "mark_date = datetime.date(2017, 8, 1)\n"
     ]
    },
    {
     "name": "stderr",
     "output_type": "stream",
     "text": [
      "/home/josh/Documents/GitHub/ropacea/ropacea/Single_factor.py:67: FutureWarning:\n",
      "\n",
      "The behavior of DataFrame concatenation with empty or all-NA entries is deprecated. In a future version, this will no longer exclude empty or all-NA columns when determining the result dtypes. To retain the old behavior, exclude the relevant entries before the concat operation.\n",
      "\n",
      "/home/josh/Documents/GitHub/ropacea/ropacea/Single_factor.py:67: FutureWarning:\n",
      "\n",
      "The behavior of DataFrame concatenation with empty or all-NA entries is deprecated. In a future version, this will no longer exclude empty or all-NA columns when determining the result dtypes. To retain the old behavior, exclude the relevant entries before the concat operation.\n",
      "\n",
      "/home/josh/Documents/GitHub/ropacea/ropacea/Single_factor.py:67: FutureWarning:\n",
      "\n",
      "The behavior of DataFrame concatenation with empty or all-NA entries is deprecated. In a future version, this will no longer exclude empty or all-NA columns when determining the result dtypes. To retain the old behavior, exclude the relevant entries before the concat operation.\n",
      "\n"
     ]
    },
    {
     "name": "stdout",
     "output_type": "stream",
     "text": [
      "monthly_portfolio_return = 0.0228\n",
      "risk_free_return = 0.0171\n",
      "mark_date = datetime.date(2017, 9, 1)\n",
      "monthly_portfolio_return = 0.0288\n",
      "risk_free_return = -0.0172\n",
      "mark_date = datetime.date(2017, 10, 1)\n",
      "monthly_portfolio_return = 0.0931\n",
      "risk_free_return = -0.0011\n",
      "mark_date = datetime.date(2017, 11, 1)\n"
     ]
    },
    {
     "name": "stderr",
     "output_type": "stream",
     "text": [
      "/home/josh/Documents/GitHub/ropacea/ropacea/Single_factor.py:67: FutureWarning:\n",
      "\n",
      "The behavior of DataFrame concatenation with empty or all-NA entries is deprecated. In a future version, this will no longer exclude empty or all-NA columns when determining the result dtypes. To retain the old behavior, exclude the relevant entries before the concat operation.\n",
      "\n",
      "/home/josh/Documents/GitHub/ropacea/ropacea/Single_factor.py:67: FutureWarning:\n",
      "\n",
      "The behavior of DataFrame concatenation with empty or all-NA entries is deprecated. In a future version, this will no longer exclude empty or all-NA columns when determining the result dtypes. To retain the old behavior, exclude the relevant entries before the concat operation.\n",
      "\n",
      "/home/josh/Documents/GitHub/ropacea/ropacea/Single_factor.py:67: FutureWarning:\n",
      "\n",
      "The behavior of DataFrame concatenation with empty or all-NA entries is deprecated. In a future version, this will no longer exclude empty or all-NA columns when determining the result dtypes. To retain the old behavior, exclude the relevant entries before the concat operation.\n",
      "\n"
     ]
    },
    {
     "name": "stdout",
     "output_type": "stream",
     "text": [
      "monthly_portfolio_return = 0.0151\n",
      "risk_free_return = -0.0026\n",
      "mark_date = datetime.date(2017, 12, 1)\n",
      "monthly_portfolio_return = 0.0135\n",
      "risk_free_return = 0.0022\n",
      "mark_date = datetime.date(2018, 1, 1)\n",
      "monthly_portfolio_return = 0.1126\n",
      "risk_free_return = -0.0236\n",
      "mark_date = datetime.date(2018, 2, 1)\n"
     ]
    },
    {
     "name": "stderr",
     "output_type": "stream",
     "text": [
      "/home/josh/Documents/GitHub/ropacea/ropacea/Single_factor.py:67: FutureWarning:\n",
      "\n",
      "The behavior of DataFrame concatenation with empty or all-NA entries is deprecated. In a future version, this will no longer exclude empty or all-NA columns when determining the result dtypes. To retain the old behavior, exclude the relevant entries before the concat operation.\n",
      "\n",
      "/home/josh/Documents/GitHub/ropacea/ropacea/Single_factor.py:67: FutureWarning:\n",
      "\n",
      "The behavior of DataFrame concatenation with empty or all-NA entries is deprecated. In a future version, this will no longer exclude empty or all-NA columns when determining the result dtypes. To retain the old behavior, exclude the relevant entries before the concat operation.\n",
      "\n",
      "/home/josh/Documents/GitHub/ropacea/ropacea/Single_factor.py:67: FutureWarning:\n",
      "\n",
      "The behavior of DataFrame concatenation with empty or all-NA entries is deprecated. In a future version, this will no longer exclude empty or all-NA columns when determining the result dtypes. To retain the old behavior, exclude the relevant entries before the concat operation.\n",
      "\n"
     ]
    },
    {
     "name": "stdout",
     "output_type": "stream",
     "text": [
      "monthly_portfolio_return = 0.0119\n",
      "risk_free_return = -0.0130\n",
      "mark_date = datetime.date(2018, 3, 1)\n",
      "monthly_portfolio_return = -0.0207\n",
      "risk_free_return = 0.0128\n",
      "mark_date = datetime.date(2018, 4, 1)\n"
     ]
    },
    {
     "name": "stderr",
     "output_type": "stream",
     "text": [
      "/home/josh/Documents/GitHub/ropacea/ropacea/Single_factor.py:67: FutureWarning:\n",
      "\n",
      "The behavior of DataFrame concatenation with empty or all-NA entries is deprecated. In a future version, this will no longer exclude empty or all-NA columns when determining the result dtypes. To retain the old behavior, exclude the relevant entries before the concat operation.\n",
      "\n",
      "/home/josh/Documents/GitHub/ropacea/ropacea/Single_factor.py:67: FutureWarning:\n",
      "\n",
      "The behavior of DataFrame concatenation with empty or all-NA entries is deprecated. In a future version, this will no longer exclude empty or all-NA columns when determining the result dtypes. To retain the old behavior, exclude the relevant entries before the concat operation.\n",
      "\n"
     ]
    },
    {
     "name": "stdout",
     "output_type": "stream",
     "text": [
      "monthly_portfolio_return = 0.0023\n",
      "risk_free_return = -0.0155\n",
      "mark_date = datetime.date(2018, 5, 1)\n",
      "monthly_portfolio_return = 0.0678\n",
      "risk_free_return = 0.0096\n",
      "mark_date = datetime.date(2018, 6, 1)\n"
     ]
    },
    {
     "name": "stderr",
     "output_type": "stream",
     "text": [
      "/home/josh/Documents/GitHub/ropacea/ropacea/Single_factor.py:67: FutureWarning:\n",
      "\n",
      "The behavior of DataFrame concatenation with empty or all-NA entries is deprecated. In a future version, this will no longer exclude empty or all-NA columns when determining the result dtypes. To retain the old behavior, exclude the relevant entries before the concat operation.\n",
      "\n",
      "/home/josh/Documents/GitHub/ropacea/ropacea/Single_factor.py:67: FutureWarning:\n",
      "\n",
      "The behavior of DataFrame concatenation with empty or all-NA entries is deprecated. In a future version, this will no longer exclude empty or all-NA columns when determining the result dtypes. To retain the old behavior, exclude the relevant entries before the concat operation.\n",
      "\n"
     ]
    },
    {
     "name": "stdout",
     "output_type": "stream",
     "text": [
      "monthly_portfolio_return = -0.0172\n",
      "risk_free_return = 0.0023\n",
      "mark_date = datetime.date(2018, 7, 1)\n",
      "monthly_portfolio_return = 0.0321\n",
      "risk_free_return = -0.0051\n",
      "mark_date = datetime.date(2018, 8, 1)\n"
     ]
    },
    {
     "name": "stderr",
     "output_type": "stream",
     "text": [
      "/home/josh/Documents/GitHub/ropacea/ropacea/Single_factor.py:67: FutureWarning:\n",
      "\n",
      "The behavior of DataFrame concatenation with empty or all-NA entries is deprecated. In a future version, this will no longer exclude empty or all-NA columns when determining the result dtypes. To retain the old behavior, exclude the relevant entries before the concat operation.\n",
      "\n",
      "/home/josh/Documents/GitHub/ropacea/ropacea/Single_factor.py:67: FutureWarning:\n",
      "\n",
      "The behavior of DataFrame concatenation with empty or all-NA entries is deprecated. In a future version, this will no longer exclude empty or all-NA columns when determining the result dtypes. To retain the old behavior, exclude the relevant entries before the concat operation.\n",
      "\n"
     ]
    },
    {
     "name": "stdout",
     "output_type": "stream",
     "text": [
      "monthly_portfolio_return = 0.0644\n",
      "risk_free_return = 0.0101\n",
      "mark_date = datetime.date(2018, 9, 1)\n",
      "monthly_portfolio_return = 0.0070\n",
      "risk_free_return = -0.0148\n",
      "mark_date = datetime.date(2018, 10, 1)\n"
     ]
    },
    {
     "name": "stderr",
     "output_type": "stream",
     "text": [
      "/home/josh/Documents/GitHub/ropacea/ropacea/Single_factor.py:67: FutureWarning:\n",
      "\n",
      "The behavior of DataFrame concatenation with empty or all-NA entries is deprecated. In a future version, this will no longer exclude empty or all-NA columns when determining the result dtypes. To retain the old behavior, exclude the relevant entries before the concat operation.\n",
      "\n",
      "/home/josh/Documents/GitHub/ropacea/ropacea/Single_factor.py:67: FutureWarning:\n",
      "\n",
      "The behavior of DataFrame concatenation with empty or all-NA entries is deprecated. In a future version, this will no longer exclude empty or all-NA columns when determining the result dtypes. To retain the old behavior, exclude the relevant entries before the concat operation.\n",
      "\n"
     ]
    },
    {
     "name": "stdout",
     "output_type": "stream",
     "text": [
      "monthly_portfolio_return = -0.0981\n",
      "risk_free_return = -0.0043\n",
      "mark_date = datetime.date(2018, 11, 1)\n",
      "monthly_portfolio_return = -0.0061\n",
      "risk_free_return = 0.0149\n",
      "mark_date = datetime.date(2018, 12, 1)\n"
     ]
    },
    {
     "name": "stderr",
     "output_type": "stream",
     "text": [
      "/home/josh/Documents/GitHub/ropacea/ropacea/Single_factor.py:67: FutureWarning:\n",
      "\n",
      "The behavior of DataFrame concatenation with empty or all-NA entries is deprecated. In a future version, this will no longer exclude empty or all-NA columns when determining the result dtypes. To retain the old behavior, exclude the relevant entries before the concat operation.\n",
      "\n",
      "/home/josh/Documents/GitHub/ropacea/ropacea/Single_factor.py:67: FutureWarning:\n",
      "\n",
      "The behavior of DataFrame concatenation with empty or all-NA entries is deprecated. In a future version, this will no longer exclude empty or all-NA columns when determining the result dtypes. To retain the old behavior, exclude the relevant entries before the concat operation.\n",
      "\n"
     ]
    },
    {
     "name": "stdout",
     "output_type": "stream",
     "text": [
      "monthly_portfolio_return = -0.0891\n",
      "risk_free_return = 0.0286\n",
      "mark_date = datetime.date(2019, 1, 1)\n",
      "monthly_portfolio_return = 0.0618\n",
      "risk_free_return = 0.0071\n",
      "mark_date = datetime.date(2019, 2, 1)\n",
      "monthly_portfolio_return = 0.0660\n",
      "risk_free_return = -0.0043\n",
      "mark_date = datetime.date(2019, 3, 1)\n"
     ]
    },
    {
     "name": "stderr",
     "output_type": "stream",
     "text": [
      "/home/josh/Documents/GitHub/ropacea/ropacea/Single_factor.py:67: FutureWarning:\n",
      "\n",
      "The behavior of DataFrame concatenation with empty or all-NA entries is deprecated. In a future version, this will no longer exclude empty or all-NA columns when determining the result dtypes. To retain the old behavior, exclude the relevant entries before the concat operation.\n",
      "\n",
      "/home/josh/Documents/GitHub/ropacea/ropacea/Single_factor.py:67: FutureWarning:\n",
      "\n",
      "The behavior of DataFrame concatenation with empty or all-NA entries is deprecated. In a future version, this will no longer exclude empty or all-NA columns when determining the result dtypes. To retain the old behavior, exclude the relevant entries before the concat operation.\n",
      "\n"
     ]
    },
    {
     "name": "stdout",
     "output_type": "stream",
     "text": [
      "monthly_portfolio_return = 0.0500\n",
      "risk_free_return = 0.0294\n",
      "mark_date = datetime.date(2019, 4, 1)\n",
      "monthly_portfolio_return = 0.0564\n",
      "risk_free_return = -0.0062\n",
      "mark_date = datetime.date(2019, 5, 1)\n"
     ]
    },
    {
     "name": "stderr",
     "output_type": "stream",
     "text": [
      "/home/josh/Documents/GitHub/ropacea/ropacea/Single_factor.py:67: FutureWarning:\n",
      "\n",
      "The behavior of DataFrame concatenation with empty or all-NA entries is deprecated. In a future version, this will no longer exclude empty or all-NA columns when determining the result dtypes. To retain the old behavior, exclude the relevant entries before the concat operation.\n",
      "\n",
      "/home/josh/Documents/GitHub/ropacea/ropacea/Single_factor.py:67: FutureWarning:\n",
      "\n",
      "The behavior of DataFrame concatenation with empty or all-NA entries is deprecated. In a future version, this will no longer exclude empty or all-NA columns when determining the result dtypes. To retain the old behavior, exclude the relevant entries before the concat operation.\n",
      "\n"
     ]
    },
    {
     "name": "stdout",
     "output_type": "stream",
     "text": [
      "monthly_portfolio_return = -0.0722\n",
      "risk_free_return = 0.0319\n",
      "mark_date = datetime.date(2019, 6, 1)\n",
      "monthly_portfolio_return = 0.0823\n",
      "risk_free_return = 0.0121\n",
      "mark_date = datetime.date(2019, 7, 1)\n"
     ]
    },
    {
     "name": "stderr",
     "output_type": "stream",
     "text": [
      "/home/josh/Documents/GitHub/ropacea/ropacea/Single_factor.py:67: FutureWarning:\n",
      "\n",
      "The behavior of DataFrame concatenation with empty or all-NA entries is deprecated. In a future version, this will no longer exclude empty or all-NA columns when determining the result dtypes. To retain the old behavior, exclude the relevant entries before the concat operation.\n",
      "\n",
      "/home/josh/Documents/GitHub/ropacea/ropacea/Single_factor.py:67: FutureWarning:\n",
      "\n",
      "The behavior of DataFrame concatenation with empty or all-NA entries is deprecated. In a future version, this will no longer exclude empty or all-NA columns when determining the result dtypes. To retain the old behavior, exclude the relevant entries before the concat operation.\n",
      "\n"
     ]
    },
    {
     "name": "stdout",
     "output_type": "stream",
     "text": [
      "monthly_portfolio_return = 0.0291\n",
      "risk_free_return = 0.0034\n",
      "mark_date = datetime.date(2019, 8, 1)\n",
      "monthly_portfolio_return = -0.0107\n",
      "risk_free_return = 0.0403\n",
      "mark_date = datetime.date(2019, 9, 1)\n"
     ]
    },
    {
     "name": "stderr",
     "output_type": "stream",
     "text": [
      "/home/josh/Documents/GitHub/ropacea/ropacea/Single_factor.py:67: FutureWarning:\n",
      "\n",
      "The behavior of DataFrame concatenation with empty or all-NA entries is deprecated. In a future version, this will no longer exclude empty or all-NA columns when determining the result dtypes. To retain the old behavior, exclude the relevant entries before the concat operation.\n",
      "\n",
      "/home/josh/Documents/GitHub/ropacea/ropacea/Single_factor.py:67: FutureWarning:\n",
      "\n",
      "The behavior of DataFrame concatenation with empty or all-NA entries is deprecated. In a future version, this will no longer exclude empty or all-NA columns when determining the result dtypes. To retain the old behavior, exclude the relevant entries before the concat operation.\n",
      "\n"
     ]
    },
    {
     "name": "stdout",
     "output_type": "stream",
     "text": [
      "monthly_portfolio_return = 0.0033\n",
      "risk_free_return = -0.0139\n",
      "mark_date = datetime.date(2019, 10, 1)\n",
      "monthly_portfolio_return = 0.0050\n",
      "risk_free_return = -0.0007\n",
      "mark_date = datetime.date(2019, 11, 1)\n"
     ]
    },
    {
     "name": "stderr",
     "output_type": "stream",
     "text": [
      "/home/josh/Documents/GitHub/ropacea/ropacea/Single_factor.py:67: FutureWarning:\n",
      "\n",
      "The behavior of DataFrame concatenation with empty or all-NA entries is deprecated. In a future version, this will no longer exclude empty or all-NA columns when determining the result dtypes. To retain the old behavior, exclude the relevant entries before the concat operation.\n",
      "\n",
      "/home/josh/Documents/GitHub/ropacea/ropacea/Single_factor.py:67: FutureWarning:\n",
      "\n",
      "The behavior of DataFrame concatenation with empty or all-NA entries is deprecated. In a future version, this will no longer exclude empty or all-NA columns when determining the result dtypes. To retain the old behavior, exclude the relevant entries before the concat operation.\n",
      "\n"
     ]
    },
    {
     "name": "stdout",
     "output_type": "stream",
     "text": [
      "monthly_portfolio_return = 0.0575\n",
      "risk_free_return = -0.0074\n",
      "mark_date = datetime.date(2019, 12, 1)\n",
      "monthly_portfolio_return = 0.0504\n",
      "risk_free_return = -0.0113\n",
      "mark_date = datetime.date(2020, 1, 1)\n"
     ]
    },
    {
     "name": "stderr",
     "output_type": "stream",
     "text": [
      "/home/josh/Documents/GitHub/ropacea/ropacea/Single_factor.py:67: FutureWarning:\n",
      "\n",
      "The behavior of DataFrame concatenation with empty or all-NA entries is deprecated. In a future version, this will no longer exclude empty or all-NA columns when determining the result dtypes. To retain the old behavior, exclude the relevant entries before the concat operation.\n",
      "\n",
      "/home/josh/Documents/GitHub/ropacea/ropacea/Single_factor.py:67: FutureWarning:\n",
      "\n",
      "The behavior of DataFrame concatenation with empty or all-NA entries is deprecated. In a future version, this will no longer exclude empty or all-NA columns when determining the result dtypes. To retain the old behavior, exclude the relevant entries before the concat operation.\n",
      "\n"
     ]
    },
    {
     "name": "stdout",
     "output_type": "stream",
     "text": [
      "monthly_portfolio_return = 0.0385\n",
      "risk_free_return = 0.0392\n",
      "mark_date = datetime.date(2020, 2, 1)\n",
      "monthly_portfolio_return = -0.0550\n",
      "risk_free_return = 0.0299\n",
      "mark_date = datetime.date(2020, 3, 1)\n"
     ]
    },
    {
     "name": "stderr",
     "output_type": "stream",
     "text": [
      "/home/josh/Documents/GitHub/ropacea/ropacea/Single_factor.py:67: FutureWarning:\n",
      "\n",
      "The behavior of DataFrame concatenation with empty or all-NA entries is deprecated. In a future version, this will no longer exclude empty or all-NA columns when determining the result dtypes. To retain the old behavior, exclude the relevant entries before the concat operation.\n",
      "\n",
      "/home/josh/Documents/GitHub/ropacea/ropacea/Single_factor.py:67: FutureWarning:\n",
      "\n",
      "The behavior of DataFrame concatenation with empty or all-NA entries is deprecated. In a future version, this will no longer exclude empty or all-NA columns when determining the result dtypes. To retain the old behavior, exclude the relevant entries before the concat operation.\n",
      "\n"
     ]
    },
    {
     "name": "stdout",
     "output_type": "stream",
     "text": [
      "monthly_portfolio_return = -0.0862\n",
      "risk_free_return = 0.0397\n",
      "mark_date = datetime.date(2020, 4, 1)\n",
      "monthly_portfolio_return = 0.1272\n",
      "risk_free_return = 0.0050\n",
      "mark_date = datetime.date(2020, 5, 1)\n"
     ]
    },
    {
     "name": "stderr",
     "output_type": "stream",
     "text": [
      "/home/josh/Documents/GitHub/ropacea/ropacea/Single_factor.py:67: FutureWarning:\n",
      "\n",
      "The behavior of DataFrame concatenation with empty or all-NA entries is deprecated. In a future version, this will no longer exclude empty or all-NA columns when determining the result dtypes. To retain the old behavior, exclude the relevant entries before the concat operation.\n",
      "\n",
      "/home/josh/Documents/GitHub/ropacea/ropacea/Single_factor.py:67: FutureWarning:\n",
      "\n",
      "The behavior of DataFrame concatenation with empty or all-NA entries is deprecated. In a future version, this will no longer exclude empty or all-NA columns when determining the result dtypes. To retain the old behavior, exclude the relevant entries before the concat operation.\n",
      "\n"
     ]
    },
    {
     "name": "stdout",
     "output_type": "stream",
     "text": [
      "monthly_portfolio_return = 0.0540\n",
      "risk_free_return = 0.0007\n",
      "mark_date = datetime.date(2020, 6, 1)\n",
      "monthly_portfolio_return = 0.0544\n",
      "risk_free_return = 0.0004\n",
      "mark_date = datetime.date(2020, 7, 1)\n"
     ]
    },
    {
     "name": "stderr",
     "output_type": "stream",
     "text": [
      "/home/josh/Documents/GitHub/ropacea/ropacea/Single_factor.py:67: FutureWarning:\n",
      "\n",
      "The behavior of DataFrame concatenation with empty or all-NA entries is deprecated. In a future version, this will no longer exclude empty or all-NA columns when determining the result dtypes. To retain the old behavior, exclude the relevant entries before the concat operation.\n",
      "\n",
      "/home/josh/Documents/GitHub/ropacea/ropacea/Single_factor.py:67: FutureWarning:\n",
      "\n",
      "The behavior of DataFrame concatenation with empty or all-NA entries is deprecated. In a future version, this will no longer exclude empty or all-NA columns when determining the result dtypes. To retain the old behavior, exclude the relevant entries before the concat operation.\n",
      "\n"
     ]
    },
    {
     "name": "stdout",
     "output_type": "stream",
     "text": [
      "monthly_portfolio_return = 0.0441\n",
      "risk_free_return = 0.0128\n",
      "mark_date = datetime.date(2020, 8, 1)\n",
      "monthly_portfolio_return = 0.1082\n",
      "risk_free_return = -0.0147\n",
      "mark_date = datetime.date(2020, 9, 1)\n"
     ]
    },
    {
     "name": "stderr",
     "output_type": "stream",
     "text": [
      "/home/josh/Documents/GitHub/ropacea/ropacea/Single_factor.py:67: FutureWarning:\n",
      "\n",
      "The behavior of DataFrame concatenation with empty or all-NA entries is deprecated. In a future version, this will no longer exclude empty or all-NA columns when determining the result dtypes. To retain the old behavior, exclude the relevant entries before the concat operation.\n",
      "\n",
      "/home/josh/Documents/GitHub/ropacea/ropacea/Single_factor.py:67: FutureWarning:\n",
      "\n",
      "The behavior of DataFrame concatenation with empty or all-NA entries is deprecated. In a future version, this will no longer exclude empty or all-NA columns when determining the result dtypes. To retain the old behavior, exclude the relevant entries before the concat operation.\n",
      "\n",
      "/home/josh/Documents/GitHub/ropacea/ropacea/Single_factor.py:67: FutureWarning:\n",
      "\n",
      "The behavior of DataFrame concatenation with empty or all-NA entries is deprecated. In a future version, this will no longer exclude empty or all-NA columns when determining the result dtypes. To retain the old behavior, exclude the relevant entries before the concat operation.\n",
      "\n"
     ]
    },
    {
     "name": "stdout",
     "output_type": "stream",
     "text": [
      "monthly_portfolio_return = -0.0252\n",
      "risk_free_return = 0.0026\n",
      "mark_date = datetime.date(2020, 10, 1)\n",
      "monthly_portfolio_return = -0.0417\n",
      "risk_free_return = -0.0173\n",
      "mark_date = datetime.date(2020, 11, 1)\n"
     ]
    },
    {
     "name": "stderr",
     "output_type": "stream",
     "text": [
      "/home/josh/Documents/GitHub/ropacea/ropacea/Single_factor.py:67: FutureWarning:\n",
      "\n",
      "The behavior of DataFrame concatenation with empty or all-NA entries is deprecated. In a future version, this will no longer exclude empty or all-NA columns when determining the result dtypes. To retain the old behavior, exclude the relevant entries before the concat operation.\n",
      "\n",
      "/home/josh/Documents/GitHub/ropacea/ropacea/Single_factor.py:67: FutureWarning:\n",
      "\n",
      "The behavior of DataFrame concatenation with empty or all-NA entries is deprecated. In a future version, this will no longer exclude empty or all-NA columns when determining the result dtypes. To retain the old behavior, exclude the relevant entries before the concat operation.\n",
      "\n"
     ]
    },
    {
     "name": "stdout",
     "output_type": "stream",
     "text": [
      "monthly_portfolio_return = 0.0733\n",
      "risk_free_return = 0.0040\n",
      "mark_date = datetime.date(2020, 12, 1)\n",
      "monthly_portfolio_return = 0.0294\n",
      "risk_free_return = -0.0050\n",
      "mark_date = datetime.date(2021, 1, 1)\n"
     ]
    },
    {
     "name": "stderr",
     "output_type": "stream",
     "text": [
      "/home/josh/Documents/GitHub/ropacea/ropacea/Single_factor.py:67: FutureWarning:\n",
      "\n",
      "The behavior of DataFrame concatenation with empty or all-NA entries is deprecated. In a future version, this will no longer exclude empty or all-NA columns when determining the result dtypes. To retain the old behavior, exclude the relevant entries before the concat operation.\n",
      "\n",
      "/home/josh/Documents/GitHub/ropacea/ropacea/Single_factor.py:67: FutureWarning:\n",
      "\n",
      "The behavior of DataFrame concatenation with empty or all-NA entries is deprecated. In a future version, this will no longer exclude empty or all-NA columns when determining the result dtypes. To retain the old behavior, exclude the relevant entries before the concat operation.\n",
      "\n"
     ]
    },
    {
     "name": "stdout",
     "output_type": "stream",
     "text": [
      "monthly_portfolio_return = -0.0049\n",
      "risk_free_return = -0.0107\n",
      "mark_date = datetime.date(2021, 2, 1)\n",
      "monthly_portfolio_return = 0.0170\n",
      "risk_free_return = -0.0254\n",
      "mark_date = datetime.date(2021, 3, 1)\n",
      "monthly_portfolio_return = 0.0236\n",
      "risk_free_return = -0.0293\n",
      "mark_date = datetime.date(2021, 4, 1)\n"
     ]
    },
    {
     "name": "stderr",
     "output_type": "stream",
     "text": [
      "/home/josh/Documents/GitHub/ropacea/ropacea/Single_factor.py:67: FutureWarning:\n",
      "\n",
      "The behavior of DataFrame concatenation with empty or all-NA entries is deprecated. In a future version, this will no longer exclude empty or all-NA columns when determining the result dtypes. To retain the old behavior, exclude the relevant entries before the concat operation.\n",
      "\n",
      "/home/josh/Documents/GitHub/ropacea/ropacea/Single_factor.py:67: FutureWarning:\n",
      "\n",
      "The behavior of DataFrame concatenation with empty or all-NA entries is deprecated. In a future version, this will no longer exclude empty or all-NA columns when determining the result dtypes. To retain the old behavior, exclude the relevant entries before the concat operation.\n",
      "\n"
     ]
    },
    {
     "name": "stdout",
     "output_type": "stream",
     "text": [
      "monthly_portfolio_return = 0.0586\n",
      "risk_free_return = 0.0119\n",
      "mark_date = datetime.date(2021, 5, 1)\n",
      "monthly_portfolio_return = 0.0020\n",
      "risk_free_return = 0.0034\n",
      "mark_date = datetime.date(2021, 6, 1)\n"
     ]
    },
    {
     "name": "stderr",
     "output_type": "stream",
     "text": [
      "/home/josh/Documents/GitHub/ropacea/ropacea/Single_factor.py:67: FutureWarning:\n",
      "\n",
      "The behavior of DataFrame concatenation with empty or all-NA entries is deprecated. In a future version, this will no longer exclude empty or all-NA columns when determining the result dtypes. To retain the old behavior, exclude the relevant entries before the concat operation.\n",
      "\n",
      "/home/josh/Documents/GitHub/ropacea/ropacea/Single_factor.py:67: FutureWarning:\n",
      "\n",
      "The behavior of DataFrame concatenation with empty or all-NA entries is deprecated. In a future version, this will no longer exclude empty or all-NA columns when determining the result dtypes. To retain the old behavior, exclude the relevant entries before the concat operation.\n",
      "\n"
     ]
    },
    {
     "name": "stdout",
     "output_type": "stream",
     "text": [
      "monthly_portfolio_return = 0.0819\n",
      "risk_free_return = 0.0141\n",
      "mark_date = datetime.date(2021, 7, 1)\n",
      "monthly_portfolio_return = 0.0362\n",
      "risk_free_return = 0.0238\n",
      "mark_date = datetime.date(2021, 8, 1)\n",
      "monthly_portfolio_return = 0.0467\n",
      "risk_free_return = -0.0048\n",
      "mark_date = datetime.date(2021, 9, 1)\n"
     ]
    },
    {
     "name": "stderr",
     "output_type": "stream",
     "text": [
      "/home/josh/Documents/GitHub/ropacea/ropacea/Single_factor.py:67: FutureWarning:\n",
      "\n",
      "The behavior of DataFrame concatenation with empty or all-NA entries is deprecated. In a future version, this will no longer exclude empty or all-NA columns when determining the result dtypes. To retain the old behavior, exclude the relevant entries before the concat operation.\n",
      "\n",
      "/home/josh/Documents/GitHub/ropacea/ropacea/Single_factor.py:67: FutureWarning:\n",
      "\n",
      "The behavior of DataFrame concatenation with empty or all-NA entries is deprecated. In a future version, this will no longer exclude empty or all-NA columns when determining the result dtypes. To retain the old behavior, exclude the relevant entries before the concat operation.\n",
      "\n",
      "/home/josh/Documents/GitHub/ropacea/ropacea/Single_factor.py:67: FutureWarning:\n",
      "\n",
      "The behavior of DataFrame concatenation with empty or all-NA entries is deprecated. In a future version, this will no longer exclude empty or all-NA columns when determining the result dtypes. To retain the old behavior, exclude the relevant entries before the concat operation.\n",
      "\n"
     ]
    },
    {
     "name": "stdout",
     "output_type": "stream",
     "text": [
      "monthly_portfolio_return = -0.0654\n",
      "risk_free_return = -0.0154\n",
      "mark_date = datetime.date(2021, 10, 1)\n",
      "monthly_portfolio_return = 0.1128\n",
      "risk_free_return = -0.0049\n",
      "mark_date = datetime.date(2021, 11, 1)\n",
      "monthly_portfolio_return = 0.0378\n",
      "risk_free_return = 0.0125\n",
      "mark_date = datetime.date(2021, 12, 1)\n"
     ]
    },
    {
     "name": "stderr",
     "output_type": "stream",
     "text": [
      "/home/josh/Documents/GitHub/ropacea/ropacea/Single_factor.py:67: FutureWarning:\n",
      "\n",
      "The behavior of DataFrame concatenation with empty or all-NA entries is deprecated. In a future version, this will no longer exclude empty or all-NA columns when determining the result dtypes. To retain the old behavior, exclude the relevant entries before the concat operation.\n",
      "\n",
      "/home/josh/Documents/GitHub/ropacea/ropacea/Single_factor.py:67: FutureWarning:\n",
      "\n",
      "The behavior of DataFrame concatenation with empty or all-NA entries is deprecated. In a future version, this will no longer exclude empty or all-NA columns when determining the result dtypes. To retain the old behavior, exclude the relevant entries before the concat operation.\n",
      "\n",
      "/home/josh/Documents/GitHub/ropacea/ropacea/Single_factor.py:67: FutureWarning:\n",
      "\n",
      "The behavior of DataFrame concatenation with empty or all-NA entries is deprecated. In a future version, this will no longer exclude empty or all-NA columns when determining the result dtypes. To retain the old behavior, exclude the relevant entries before the concat operation.\n",
      "\n"
     ]
    },
    {
     "name": "stdout",
     "output_type": "stream",
     "text": [
      "monthly_portfolio_return = 0.0102\n",
      "risk_free_return = -0.0047\n",
      "========== SUMMARY ==========\n",
      "monthly_returns_bp_mean = 223.68\n",
      "monthly_returns_bp_std = 554.24\n",
      "annualized_mean_pct = 30.40\n",
      "annualized_std_pct = 19.20\n",
      "sharpe_ratio = 1.58\n",
      "mark_date = datetime.date(2017, 1, 1)\n",
      "monthly_portfolio_return = 0.0451\n",
      "risk_free_return = 0.0022\n",
      "mark_date = datetime.date(2017, 2, 1)\n",
      "monthly_portfolio_return = 0.0162\n",
      "risk_free_return = 0.0074\n",
      "mark_date = datetime.date(2017, 3, 1)\n"
     ]
    },
    {
     "name": "stderr",
     "output_type": "stream",
     "text": [
      "/home/josh/Documents/GitHub/ropacea/ropacea/Single_factor.py:67: FutureWarning:\n",
      "\n",
      "The behavior of DataFrame concatenation with empty or all-NA entries is deprecated. In a future version, this will no longer exclude empty or all-NA columns when determining the result dtypes. To retain the old behavior, exclude the relevant entries before the concat operation.\n",
      "\n",
      "/home/josh/Documents/GitHub/ropacea/ropacea/Single_factor.py:67: FutureWarning:\n",
      "\n",
      "The behavior of DataFrame concatenation with empty or all-NA entries is deprecated. In a future version, this will no longer exclude empty or all-NA columns when determining the result dtypes. To retain the old behavior, exclude the relevant entries before the concat operation.\n",
      "\n",
      "/home/josh/Documents/GitHub/ropacea/ropacea/Single_factor.py:67: FutureWarning:\n",
      "\n",
      "The behavior of DataFrame concatenation with empty or all-NA entries is deprecated. In a future version, this will no longer exclude empty or all-NA columns when determining the result dtypes. To retain the old behavior, exclude the relevant entries before the concat operation.\n",
      "\n"
     ]
    },
    {
     "name": "stdout",
     "output_type": "stream",
     "text": [
      "monthly_portfolio_return = 0.0382\n",
      "risk_free_return = 0.0024\n",
      "mark_date = datetime.date(2017, 4, 1)\n",
      "monthly_portfolio_return = 0.0027\n",
      "risk_free_return = 0.0111\n",
      "mark_date = datetime.date(2017, 5, 1)\n"
     ]
    },
    {
     "name": "stderr",
     "output_type": "stream",
     "text": [
      "/home/josh/Documents/GitHub/ropacea/ropacea/Single_factor.py:67: FutureWarning:\n",
      "\n",
      "The behavior of DataFrame concatenation with empty or all-NA entries is deprecated. In a future version, this will no longer exclude empty or all-NA columns when determining the result dtypes. To retain the old behavior, exclude the relevant entries before the concat operation.\n",
      "\n",
      "/home/josh/Documents/GitHub/ropacea/ropacea/Single_factor.py:67: FutureWarning:\n",
      "\n",
      "The behavior of DataFrame concatenation with empty or all-NA entries is deprecated. In a future version, this will no longer exclude empty or all-NA columns when determining the result dtypes. To retain the old behavior, exclude the relevant entries before the concat operation.\n",
      "\n"
     ]
    },
    {
     "name": "stdout",
     "output_type": "stream",
     "text": [
      "monthly_portfolio_return = 0.0837\n",
      "risk_free_return = 0.0079\n",
      "mark_date = datetime.date(2017, 6, 1)\n",
      "monthly_portfolio_return = -0.0006\n",
      "risk_free_return = -0.0013\n",
      "mark_date = datetime.date(2017, 7, 1)\n"
     ]
    },
    {
     "name": "stderr",
     "output_type": "stream",
     "text": [
      "/home/josh/Documents/GitHub/ropacea/ropacea/Single_factor.py:67: FutureWarning:\n",
      "\n",
      "The behavior of DataFrame concatenation with empty or all-NA entries is deprecated. In a future version, this will no longer exclude empty or all-NA columns when determining the result dtypes. To retain the old behavior, exclude the relevant entries before the concat operation.\n",
      "\n",
      "/home/josh/Documents/GitHub/ropacea/ropacea/Single_factor.py:67: FutureWarning:\n",
      "\n",
      "The behavior of DataFrame concatenation with empty or all-NA entries is deprecated. In a future version, this will no longer exclude empty or all-NA columns when determining the result dtypes. To retain the old behavior, exclude the relevant entries before the concat operation.\n",
      "\n"
     ]
    },
    {
     "name": "stdout",
     "output_type": "stream",
     "text": [
      "monthly_portfolio_return = 0.0516\n",
      "risk_free_return = -0.0000\n",
      "mark_date = datetime.date(2017, 8, 1)\n",
      "monthly_portfolio_return = 0.0259\n",
      "risk_free_return = 0.0171\n",
      "mark_date = datetime.date(2017, 9, 1)\n",
      "monthly_portfolio_return = 0.0308\n",
      "risk_free_return = -0.0172\n",
      "mark_date = datetime.date(2017, 10, 1)\n"
     ]
    },
    {
     "name": "stderr",
     "output_type": "stream",
     "text": [
      "/home/josh/Documents/GitHub/ropacea/ropacea/Single_factor.py:67: FutureWarning:\n",
      "\n",
      "The behavior of DataFrame concatenation with empty or all-NA entries is deprecated. In a future version, this will no longer exclude empty or all-NA columns when determining the result dtypes. To retain the old behavior, exclude the relevant entries before the concat operation.\n",
      "\n",
      "/home/josh/Documents/GitHub/ropacea/ropacea/Single_factor.py:67: FutureWarning:\n",
      "\n",
      "The behavior of DataFrame concatenation with empty or all-NA entries is deprecated. In a future version, this will no longer exclude empty or all-NA columns when determining the result dtypes. To retain the old behavior, exclude the relevant entries before the concat operation.\n",
      "\n",
      "/home/josh/Documents/GitHub/ropacea/ropacea/Single_factor.py:67: FutureWarning:\n",
      "\n",
      "The behavior of DataFrame concatenation with empty or all-NA entries is deprecated. In a future version, this will no longer exclude empty or all-NA columns when determining the result dtypes. To retain the old behavior, exclude the relevant entries before the concat operation.\n",
      "\n"
     ]
    },
    {
     "name": "stdout",
     "output_type": "stream",
     "text": [
      "monthly_portfolio_return = 0.0976\n",
      "risk_free_return = -0.0011\n",
      "mark_date = datetime.date(2017, 11, 1)\n",
      "monthly_portfolio_return = 0.0134\n",
      "risk_free_return = -0.0026\n",
      "mark_date = datetime.date(2017, 12, 1)\n",
      "monthly_portfolio_return = 0.0137\n",
      "risk_free_return = 0.0022\n",
      "mark_date = datetime.date(2018, 1, 1)\n"
     ]
    },
    {
     "name": "stderr",
     "output_type": "stream",
     "text": [
      "/home/josh/Documents/GitHub/ropacea/ropacea/Single_factor.py:67: FutureWarning:\n",
      "\n",
      "The behavior of DataFrame concatenation with empty or all-NA entries is deprecated. In a future version, this will no longer exclude empty or all-NA columns when determining the result dtypes. To retain the old behavior, exclude the relevant entries before the concat operation.\n",
      "\n",
      "/home/josh/Documents/GitHub/ropacea/ropacea/Single_factor.py:67: FutureWarning:\n",
      "\n",
      "The behavior of DataFrame concatenation with empty or all-NA entries is deprecated. In a future version, this will no longer exclude empty or all-NA columns when determining the result dtypes. To retain the old behavior, exclude the relevant entries before the concat operation.\n",
      "\n",
      "/home/josh/Documents/GitHub/ropacea/ropacea/Single_factor.py:67: FutureWarning:\n",
      "\n",
      "The behavior of DataFrame concatenation with empty or all-NA entries is deprecated. In a future version, this will no longer exclude empty or all-NA columns when determining the result dtypes. To retain the old behavior, exclude the relevant entries before the concat operation.\n",
      "\n",
      "/home/josh/Documents/GitHub/ropacea/ropacea/Single_factor.py:67: FutureWarning:\n",
      "\n",
      "The behavior of DataFrame concatenation with empty or all-NA entries is deprecated. In a future version, this will no longer exclude empty or all-NA columns when determining the result dtypes. To retain the old behavior, exclude the relevant entries before the concat operation.\n",
      "\n",
      "/home/josh/Documents/GitHub/ropacea/ropacea/Single_factor.py:67: FutureWarning:\n",
      "\n",
      "The behavior of DataFrame concatenation with empty or all-NA entries is deprecated. In a future version, this will no longer exclude empty or all-NA columns when determining the result dtypes. To retain the old behavior, exclude the relevant entries before the concat operation.\n",
      "\n"
     ]
    },
    {
     "name": "stdout",
     "output_type": "stream",
     "text": [
      "monthly_portfolio_return = 0.1211\n",
      "risk_free_return = -0.0236\n",
      "mark_date = datetime.date(2018, 2, 1)\n",
      "monthly_portfolio_return = 0.0130\n",
      "risk_free_return = -0.0130\n",
      "mark_date = datetime.date(2018, 3, 1)\n",
      "monthly_portfolio_return = -0.0204\n",
      "risk_free_return = 0.0128\n",
      "mark_date = datetime.date(2018, 4, 1)\n"
     ]
    },
    {
     "name": "stderr",
     "output_type": "stream",
     "text": [
      "/home/josh/Documents/GitHub/ropacea/ropacea/Single_factor.py:67: FutureWarning:\n",
      "\n",
      "The behavior of DataFrame concatenation with empty or all-NA entries is deprecated. In a future version, this will no longer exclude empty or all-NA columns when determining the result dtypes. To retain the old behavior, exclude the relevant entries before the concat operation.\n",
      "\n",
      "/home/josh/Documents/GitHub/ropacea/ropacea/Single_factor.py:67: FutureWarning:\n",
      "\n",
      "The behavior of DataFrame concatenation with empty or all-NA entries is deprecated. In a future version, this will no longer exclude empty or all-NA columns when determining the result dtypes. To retain the old behavior, exclude the relevant entries before the concat operation.\n",
      "\n",
      "/home/josh/Documents/GitHub/ropacea/ropacea/Single_factor.py:67: FutureWarning:\n",
      "\n",
      "The behavior of DataFrame concatenation with empty or all-NA entries is deprecated. In a future version, this will no longer exclude empty or all-NA columns when determining the result dtypes. To retain the old behavior, exclude the relevant entries before the concat operation.\n",
      "\n"
     ]
    },
    {
     "name": "stdout",
     "output_type": "stream",
     "text": [
      "monthly_portfolio_return = 0.0016\n",
      "risk_free_return = -0.0155\n",
      "mark_date = datetime.date(2018, 5, 1)\n",
      "monthly_portfolio_return = 0.0744\n",
      "risk_free_return = 0.0096\n",
      "mark_date = datetime.date(2018, 6, 1)\n",
      "monthly_portfolio_return = -0.0178\n",
      "risk_free_return = 0.0023\n",
      "mark_date = datetime.date(2018, 7, 1)\n"
     ]
    },
    {
     "name": "stderr",
     "output_type": "stream",
     "text": [
      "/home/josh/Documents/GitHub/ropacea/ropacea/Single_factor.py:67: FutureWarning:\n",
      "\n",
      "The behavior of DataFrame concatenation with empty or all-NA entries is deprecated. In a future version, this will no longer exclude empty or all-NA columns when determining the result dtypes. To retain the old behavior, exclude the relevant entries before the concat operation.\n",
      "\n",
      "/home/josh/Documents/GitHub/ropacea/ropacea/Single_factor.py:67: FutureWarning:\n",
      "\n",
      "The behavior of DataFrame concatenation with empty or all-NA entries is deprecated. In a future version, this will no longer exclude empty or all-NA columns when determining the result dtypes. To retain the old behavior, exclude the relevant entries before the concat operation.\n",
      "\n",
      "/home/josh/Documents/GitHub/ropacea/ropacea/Single_factor.py:67: FutureWarning:\n",
      "\n",
      "The behavior of DataFrame concatenation with empty or all-NA entries is deprecated. In a future version, this will no longer exclude empty or all-NA columns when determining the result dtypes. To retain the old behavior, exclude the relevant entries before the concat operation.\n",
      "\n"
     ]
    },
    {
     "name": "stdout",
     "output_type": "stream",
     "text": [
      "monthly_portfolio_return = 0.0293\n",
      "risk_free_return = -0.0051\n",
      "mark_date = datetime.date(2018, 8, 1)\n",
      "monthly_portfolio_return = 0.0688\n",
      "risk_free_return = 0.0101\n",
      "mark_date = datetime.date(2018, 9, 1)\n",
      "monthly_portfolio_return = 0.0045\n",
      "risk_free_return = -0.0148\n",
      "mark_date = datetime.date(2018, 10, 1)\n",
      "monthly_portfolio_return = -0.1030\n",
      "risk_free_return = -0.0043\n",
      "mark_date = datetime.date(2018, 11, 1)\n"
     ]
    },
    {
     "name": "stderr",
     "output_type": "stream",
     "text": [
      "/home/josh/Documents/GitHub/ropacea/ropacea/Single_factor.py:67: FutureWarning:\n",
      "\n",
      "The behavior of DataFrame concatenation with empty or all-NA entries is deprecated. In a future version, this will no longer exclude empty or all-NA columns when determining the result dtypes. To retain the old behavior, exclude the relevant entries before the concat operation.\n",
      "\n",
      "/home/josh/Documents/GitHub/ropacea/ropacea/Single_factor.py:67: FutureWarning:\n",
      "\n",
      "The behavior of DataFrame concatenation with empty or all-NA entries is deprecated. In a future version, this will no longer exclude empty or all-NA columns when determining the result dtypes. To retain the old behavior, exclude the relevant entries before the concat operation.\n",
      "\n"
     ]
    },
    {
     "name": "stdout",
     "output_type": "stream",
     "text": [
      "monthly_portfolio_return = -0.0151\n",
      "risk_free_return = 0.0149\n",
      "mark_date = datetime.date(2018, 12, 1)\n",
      "monthly_portfolio_return = -0.0931\n",
      "risk_free_return = 0.0286\n",
      "mark_date = datetime.date(2019, 1, 1)\n"
     ]
    },
    {
     "name": "stderr",
     "output_type": "stream",
     "text": [
      "/home/josh/Documents/GitHub/ropacea/ropacea/Single_factor.py:67: FutureWarning:\n",
      "\n",
      "The behavior of DataFrame concatenation with empty or all-NA entries is deprecated. In a future version, this will no longer exclude empty or all-NA columns when determining the result dtypes. To retain the old behavior, exclude the relevant entries before the concat operation.\n",
      "\n",
      "/home/josh/Documents/GitHub/ropacea/ropacea/Single_factor.py:67: FutureWarning:\n",
      "\n",
      "The behavior of DataFrame concatenation with empty or all-NA entries is deprecated. In a future version, this will no longer exclude empty or all-NA columns when determining the result dtypes. To retain the old behavior, exclude the relevant entries before the concat operation.\n",
      "\n"
     ]
    },
    {
     "name": "stdout",
     "output_type": "stream",
     "text": [
      "monthly_portfolio_return = 0.0647\n",
      "risk_free_return = 0.0071\n",
      "mark_date = datetime.date(2019, 2, 1)\n",
      "monthly_portfolio_return = 0.0667\n",
      "risk_free_return = -0.0043\n",
      "mark_date = datetime.date(2019, 3, 1)\n"
     ]
    },
    {
     "name": "stderr",
     "output_type": "stream",
     "text": [
      "/home/josh/Documents/GitHub/ropacea/ropacea/Single_factor.py:67: FutureWarning:\n",
      "\n",
      "The behavior of DataFrame concatenation with empty or all-NA entries is deprecated. In a future version, this will no longer exclude empty or all-NA columns when determining the result dtypes. To retain the old behavior, exclude the relevant entries before the concat operation.\n",
      "\n",
      "/home/josh/Documents/GitHub/ropacea/ropacea/Single_factor.py:67: FutureWarning:\n",
      "\n",
      "The behavior of DataFrame concatenation with empty or all-NA entries is deprecated. In a future version, this will no longer exclude empty or all-NA columns when determining the result dtypes. To retain the old behavior, exclude the relevant entries before the concat operation.\n",
      "\n"
     ]
    },
    {
     "name": "stdout",
     "output_type": "stream",
     "text": [
      "monthly_portfolio_return = 0.0541\n",
      "risk_free_return = 0.0294\n",
      "mark_date = datetime.date(2019, 4, 1)\n",
      "monthly_portfolio_return = 0.0614\n",
      "risk_free_return = -0.0062\n",
      "mark_date = datetime.date(2019, 5, 1)\n"
     ]
    },
    {
     "name": "stderr",
     "output_type": "stream",
     "text": [
      "/home/josh/Documents/GitHub/ropacea/ropacea/Single_factor.py:67: FutureWarning:\n",
      "\n",
      "The behavior of DataFrame concatenation with empty or all-NA entries is deprecated. In a future version, this will no longer exclude empty or all-NA columns when determining the result dtypes. To retain the old behavior, exclude the relevant entries before the concat operation.\n",
      "\n",
      "/home/josh/Documents/GitHub/ropacea/ropacea/Single_factor.py:67: FutureWarning:\n",
      "\n",
      "The behavior of DataFrame concatenation with empty or all-NA entries is deprecated. In a future version, this will no longer exclude empty or all-NA columns when determining the result dtypes. To retain the old behavior, exclude the relevant entries before the concat operation.\n",
      "\n"
     ]
    },
    {
     "name": "stdout",
     "output_type": "stream",
     "text": [
      "monthly_portfolio_return = -0.0765\n",
      "risk_free_return = 0.0319\n",
      "mark_date = datetime.date(2019, 6, 1)\n",
      "monthly_portfolio_return = 0.0851\n",
      "risk_free_return = 0.0121\n",
      "mark_date = datetime.date(2019, 7, 1)\n"
     ]
    },
    {
     "name": "stderr",
     "output_type": "stream",
     "text": [
      "/home/josh/Documents/GitHub/ropacea/ropacea/Single_factor.py:67: FutureWarning:\n",
      "\n",
      "The behavior of DataFrame concatenation with empty or all-NA entries is deprecated. In a future version, this will no longer exclude empty or all-NA columns when determining the result dtypes. To retain the old behavior, exclude the relevant entries before the concat operation.\n",
      "\n",
      "/home/josh/Documents/GitHub/ropacea/ropacea/Single_factor.py:67: FutureWarning:\n",
      "\n",
      "The behavior of DataFrame concatenation with empty or all-NA entries is deprecated. In a future version, this will no longer exclude empty or all-NA columns when determining the result dtypes. To retain the old behavior, exclude the relevant entries before the concat operation.\n",
      "\n"
     ]
    },
    {
     "name": "stdout",
     "output_type": "stream",
     "text": [
      "monthly_portfolio_return = 0.0289\n",
      "risk_free_return = 0.0034\n",
      "mark_date = datetime.date(2019, 8, 1)\n",
      "monthly_portfolio_return = -0.0089\n",
      "risk_free_return = 0.0403\n",
      "mark_date = datetime.date(2019, 9, 1)\n"
     ]
    },
    {
     "name": "stderr",
     "output_type": "stream",
     "text": [
      "/home/josh/Documents/GitHub/ropacea/ropacea/Single_factor.py:67: FutureWarning:\n",
      "\n",
      "The behavior of DataFrame concatenation with empty or all-NA entries is deprecated. In a future version, this will no longer exclude empty or all-NA columns when determining the result dtypes. To retain the old behavior, exclude the relevant entries before the concat operation.\n",
      "\n",
      "/home/josh/Documents/GitHub/ropacea/ropacea/Single_factor.py:67: FutureWarning:\n",
      "\n",
      "The behavior of DataFrame concatenation with empty or all-NA entries is deprecated. In a future version, this will no longer exclude empty or all-NA columns when determining the result dtypes. To retain the old behavior, exclude the relevant entries before the concat operation.\n",
      "\n"
     ]
    },
    {
     "name": "stdout",
     "output_type": "stream",
     "text": [
      "monthly_portfolio_return = 0.0004\n",
      "risk_free_return = -0.0139\n",
      "mark_date = datetime.date(2019, 10, 1)\n",
      "monthly_portfolio_return = 0.0094\n",
      "risk_free_return = -0.0007\n",
      "mark_date = datetime.date(2019, 11, 1)\n"
     ]
    },
    {
     "name": "stderr",
     "output_type": "stream",
     "text": [
      "/home/josh/Documents/GitHub/ropacea/ropacea/Single_factor.py:67: FutureWarning:\n",
      "\n",
      "The behavior of DataFrame concatenation with empty or all-NA entries is deprecated. In a future version, this will no longer exclude empty or all-NA columns when determining the result dtypes. To retain the old behavior, exclude the relevant entries before the concat operation.\n",
      "\n",
      "/home/josh/Documents/GitHub/ropacea/ropacea/Single_factor.py:67: FutureWarning:\n",
      "\n",
      "The behavior of DataFrame concatenation with empty or all-NA entries is deprecated. In a future version, this will no longer exclude empty or all-NA columns when determining the result dtypes. To retain the old behavior, exclude the relevant entries before the concat operation.\n",
      "\n"
     ]
    },
    {
     "name": "stdout",
     "output_type": "stream",
     "text": [
      "monthly_portfolio_return = 0.0616\n",
      "risk_free_return = -0.0074\n",
      "mark_date = datetime.date(2019, 12, 1)\n",
      "monthly_portfolio_return = 0.0513\n",
      "risk_free_return = -0.0113\n",
      "mark_date = datetime.date(2020, 1, 1)\n"
     ]
    },
    {
     "name": "stderr",
     "output_type": "stream",
     "text": [
      "/home/josh/Documents/GitHub/ropacea/ropacea/Single_factor.py:67: FutureWarning:\n",
      "\n",
      "The behavior of DataFrame concatenation with empty or all-NA entries is deprecated. In a future version, this will no longer exclude empty or all-NA columns when determining the result dtypes. To retain the old behavior, exclude the relevant entries before the concat operation.\n",
      "\n",
      "/home/josh/Documents/GitHub/ropacea/ropacea/Single_factor.py:67: FutureWarning:\n",
      "\n",
      "The behavior of DataFrame concatenation with empty or all-NA entries is deprecated. In a future version, this will no longer exclude empty or all-NA columns when determining the result dtypes. To retain the old behavior, exclude the relevant entries before the concat operation.\n",
      "\n"
     ]
    },
    {
     "name": "stdout",
     "output_type": "stream",
     "text": [
      "monthly_portfolio_return = 0.0414\n",
      "risk_free_return = 0.0392\n",
      "mark_date = datetime.date(2020, 2, 1)\n",
      "monthly_portfolio_return = -0.0478\n",
      "risk_free_return = 0.0299\n",
      "mark_date = datetime.date(2020, 3, 1)\n"
     ]
    },
    {
     "name": "stderr",
     "output_type": "stream",
     "text": [
      "/home/josh/Documents/GitHub/ropacea/ropacea/Single_factor.py:67: FutureWarning:\n",
      "\n",
      "The behavior of DataFrame concatenation with empty or all-NA entries is deprecated. In a future version, this will no longer exclude empty or all-NA columns when determining the result dtypes. To retain the old behavior, exclude the relevant entries before the concat operation.\n",
      "\n",
      "/home/josh/Documents/GitHub/ropacea/ropacea/Single_factor.py:67: FutureWarning:\n",
      "\n",
      "The behavior of DataFrame concatenation with empty or all-NA entries is deprecated. In a future version, this will no longer exclude empty or all-NA columns when determining the result dtypes. To retain the old behavior, exclude the relevant entries before the concat operation.\n",
      "\n"
     ]
    },
    {
     "name": "stdout",
     "output_type": "stream",
     "text": [
      "monthly_portfolio_return = -0.0888\n",
      "risk_free_return = 0.0397\n",
      "mark_date = datetime.date(2020, 4, 1)\n",
      "monthly_portfolio_return = 0.1286\n",
      "risk_free_return = 0.0050\n",
      "mark_date = datetime.date(2020, 5, 1)\n"
     ]
    },
    {
     "name": "stderr",
     "output_type": "stream",
     "text": [
      "/home/josh/Documents/GitHub/ropacea/ropacea/Single_factor.py:67: FutureWarning:\n",
      "\n",
      "The behavior of DataFrame concatenation with empty or all-NA entries is deprecated. In a future version, this will no longer exclude empty or all-NA columns when determining the result dtypes. To retain the old behavior, exclude the relevant entries before the concat operation.\n",
      "\n",
      "/home/josh/Documents/GitHub/ropacea/ropacea/Single_factor.py:67: FutureWarning:\n",
      "\n",
      "The behavior of DataFrame concatenation with empty or all-NA entries is deprecated. In a future version, this will no longer exclude empty or all-NA columns when determining the result dtypes. To retain the old behavior, exclude the relevant entries before the concat operation.\n",
      "\n"
     ]
    },
    {
     "name": "stdout",
     "output_type": "stream",
     "text": [
      "monthly_portfolio_return = 0.0582\n",
      "risk_free_return = 0.0007\n",
      "mark_date = datetime.date(2020, 6, 1)\n",
      "monthly_portfolio_return = 0.0604\n",
      "risk_free_return = 0.0004\n",
      "mark_date = datetime.date(2020, 7, 1)\n"
     ]
    },
    {
     "name": "stderr",
     "output_type": "stream",
     "text": [
      "/home/josh/Documents/GitHub/ropacea/ropacea/Single_factor.py:67: FutureWarning:\n",
      "\n",
      "The behavior of DataFrame concatenation with empty or all-NA entries is deprecated. In a future version, this will no longer exclude empty or all-NA columns when determining the result dtypes. To retain the old behavior, exclude the relevant entries before the concat operation.\n",
      "\n",
      "/home/josh/Documents/GitHub/ropacea/ropacea/Single_factor.py:67: FutureWarning:\n",
      "\n",
      "The behavior of DataFrame concatenation with empty or all-NA entries is deprecated. In a future version, this will no longer exclude empty or all-NA columns when determining the result dtypes. To retain the old behavior, exclude the relevant entries before the concat operation.\n",
      "\n"
     ]
    },
    {
     "name": "stdout",
     "output_type": "stream",
     "text": [
      "monthly_portfolio_return = 0.0440\n",
      "risk_free_return = 0.0128\n",
      "mark_date = datetime.date(2020, 8, 1)\n",
      "monthly_portfolio_return = 0.1146\n",
      "risk_free_return = -0.0147\n",
      "mark_date = datetime.date(2020, 9, 1)\n"
     ]
    },
    {
     "name": "stderr",
     "output_type": "stream",
     "text": [
      "/home/josh/Documents/GitHub/ropacea/ropacea/Single_factor.py:67: FutureWarning:\n",
      "\n",
      "The behavior of DataFrame concatenation with empty or all-NA entries is deprecated. In a future version, this will no longer exclude empty or all-NA columns when determining the result dtypes. To retain the old behavior, exclude the relevant entries before the concat operation.\n",
      "\n",
      "/home/josh/Documents/GitHub/ropacea/ropacea/Single_factor.py:67: FutureWarning:\n",
      "\n",
      "The behavior of DataFrame concatenation with empty or all-NA entries is deprecated. In a future version, this will no longer exclude empty or all-NA columns when determining the result dtypes. To retain the old behavior, exclude the relevant entries before the concat operation.\n",
      "\n"
     ]
    },
    {
     "name": "stdout",
     "output_type": "stream",
     "text": [
      "monthly_portfolio_return = -0.0276\n",
      "risk_free_return = 0.0026\n",
      "mark_date = datetime.date(2020, 10, 1)\n",
      "monthly_portfolio_return = -0.0425\n",
      "risk_free_return = -0.0173\n",
      "mark_date = datetime.date(2020, 11, 1)\n"
     ]
    },
    {
     "name": "stderr",
     "output_type": "stream",
     "text": [
      "/home/josh/Documents/GitHub/ropacea/ropacea/Single_factor.py:67: FutureWarning:\n",
      "\n",
      "The behavior of DataFrame concatenation with empty or all-NA entries is deprecated. In a future version, this will no longer exclude empty or all-NA columns when determining the result dtypes. To retain the old behavior, exclude the relevant entries before the concat operation.\n",
      "\n",
      "/home/josh/Documents/GitHub/ropacea/ropacea/Single_factor.py:67: FutureWarning:\n",
      "\n",
      "The behavior of DataFrame concatenation with empty or all-NA entries is deprecated. In a future version, this will no longer exclude empty or all-NA columns when determining the result dtypes. To retain the old behavior, exclude the relevant entries before the concat operation.\n",
      "\n"
     ]
    },
    {
     "name": "stdout",
     "output_type": "stream",
     "text": [
      "monthly_portfolio_return = 0.0726\n",
      "risk_free_return = 0.0040\n",
      "mark_date = datetime.date(2020, 12, 1)\n",
      "monthly_portfolio_return = 0.0298\n",
      "risk_free_return = -0.0050\n",
      "mark_date = datetime.date(2021, 1, 1)\n"
     ]
    },
    {
     "name": "stderr",
     "output_type": "stream",
     "text": [
      "/home/josh/Documents/GitHub/ropacea/ropacea/Single_factor.py:67: FutureWarning:\n",
      "\n",
      "The behavior of DataFrame concatenation with empty or all-NA entries is deprecated. In a future version, this will no longer exclude empty or all-NA columns when determining the result dtypes. To retain the old behavior, exclude the relevant entries before the concat operation.\n",
      "\n",
      "/home/josh/Documents/GitHub/ropacea/ropacea/Single_factor.py:67: FutureWarning:\n",
      "\n",
      "The behavior of DataFrame concatenation with empty or all-NA entries is deprecated. In a future version, this will no longer exclude empty or all-NA columns when determining the result dtypes. To retain the old behavior, exclude the relevant entries before the concat operation.\n",
      "\n"
     ]
    },
    {
     "name": "stdout",
     "output_type": "stream",
     "text": [
      "monthly_portfolio_return = -0.0113\n",
      "risk_free_return = -0.0107\n",
      "mark_date = datetime.date(2021, 2, 1)\n",
      "monthly_portfolio_return = 0.0126\n",
      "risk_free_return = -0.0254\n",
      "mark_date = datetime.date(2021, 3, 1)\n"
     ]
    },
    {
     "name": "stderr",
     "output_type": "stream",
     "text": [
      "/home/josh/Documents/GitHub/ropacea/ropacea/Single_factor.py:67: FutureWarning:\n",
      "\n",
      "The behavior of DataFrame concatenation with empty or all-NA entries is deprecated. In a future version, this will no longer exclude empty or all-NA columns when determining the result dtypes. To retain the old behavior, exclude the relevant entries before the concat operation.\n",
      "\n",
      "/home/josh/Documents/GitHub/ropacea/ropacea/Single_factor.py:67: FutureWarning:\n",
      "\n",
      "The behavior of DataFrame concatenation with empty or all-NA entries is deprecated. In a future version, this will no longer exclude empty or all-NA columns when determining the result dtypes. To retain the old behavior, exclude the relevant entries before the concat operation.\n",
      "\n"
     ]
    },
    {
     "name": "stdout",
     "output_type": "stream",
     "text": [
      "monthly_portfolio_return = 0.0213\n",
      "risk_free_return = -0.0293\n",
      "mark_date = datetime.date(2021, 4, 1)\n",
      "monthly_portfolio_return = 0.0639\n",
      "risk_free_return = 0.0119\n",
      "mark_date = datetime.date(2021, 5, 1)\n"
     ]
    },
    {
     "name": "stderr",
     "output_type": "stream",
     "text": [
      "/home/josh/Documents/GitHub/ropacea/ropacea/Single_factor.py:67: FutureWarning:\n",
      "\n",
      "The behavior of DataFrame concatenation with empty or all-NA entries is deprecated. In a future version, this will no longer exclude empty or all-NA columns when determining the result dtypes. To retain the old behavior, exclude the relevant entries before the concat operation.\n",
      "\n",
      "/home/josh/Documents/GitHub/ropacea/ropacea/Single_factor.py:67: FutureWarning:\n",
      "\n",
      "The behavior of DataFrame concatenation with empty or all-NA entries is deprecated. In a future version, this will no longer exclude empty or all-NA columns when determining the result dtypes. To retain the old behavior, exclude the relevant entries before the concat operation.\n",
      "\n",
      "/home/josh/Documents/GitHub/ropacea/ropacea/Single_factor.py:67: FutureWarning:\n",
      "\n",
      "The behavior of DataFrame concatenation with empty or all-NA entries is deprecated. In a future version, this will no longer exclude empty or all-NA columns when determining the result dtypes. To retain the old behavior, exclude the relevant entries before the concat operation.\n",
      "\n"
     ]
    },
    {
     "name": "stdout",
     "output_type": "stream",
     "text": [
      "monthly_portfolio_return = -0.0000\n",
      "risk_free_return = 0.0034\n",
      "mark_date = datetime.date(2021, 6, 1)\n",
      "monthly_portfolio_return = 0.0962\n",
      "risk_free_return = 0.0141\n",
      "mark_date = datetime.date(2021, 7, 1)\n"
     ]
    },
    {
     "name": "stderr",
     "output_type": "stream",
     "text": [
      "/home/josh/Documents/GitHub/ropacea/ropacea/Single_factor.py:67: FutureWarning:\n",
      "\n",
      "The behavior of DataFrame concatenation with empty or all-NA entries is deprecated. In a future version, this will no longer exclude empty or all-NA columns when determining the result dtypes. To retain the old behavior, exclude the relevant entries before the concat operation.\n",
      "\n",
      "/home/josh/Documents/GitHub/ropacea/ropacea/Single_factor.py:67: FutureWarning:\n",
      "\n",
      "The behavior of DataFrame concatenation with empty or all-NA entries is deprecated. In a future version, this will no longer exclude empty or all-NA columns when determining the result dtypes. To retain the old behavior, exclude the relevant entries before the concat operation.\n",
      "\n"
     ]
    },
    {
     "name": "stdout",
     "output_type": "stream",
     "text": [
      "monthly_portfolio_return = 0.0381\n",
      "risk_free_return = 0.0238\n",
      "mark_date = datetime.date(2021, 8, 1)\n",
      "monthly_portfolio_return = 0.0494\n",
      "risk_free_return = -0.0048\n",
      "mark_date = datetime.date(2021, 9, 1)\n"
     ]
    },
    {
     "name": "stderr",
     "output_type": "stream",
     "text": [
      "/home/josh/Documents/GitHub/ropacea/ropacea/Single_factor.py:67: FutureWarning:\n",
      "\n",
      "The behavior of DataFrame concatenation with empty or all-NA entries is deprecated. In a future version, this will no longer exclude empty or all-NA columns when determining the result dtypes. To retain the old behavior, exclude the relevant entries before the concat operation.\n",
      "\n",
      "/home/josh/Documents/GitHub/ropacea/ropacea/Single_factor.py:67: FutureWarning:\n",
      "\n",
      "The behavior of DataFrame concatenation with empty or all-NA entries is deprecated. In a future version, this will no longer exclude empty or all-NA columns when determining the result dtypes. To retain the old behavior, exclude the relevant entries before the concat operation.\n",
      "\n"
     ]
    },
    {
     "name": "stdout",
     "output_type": "stream",
     "text": [
      "monthly_portfolio_return = -0.0719\n",
      "risk_free_return = -0.0154\n",
      "mark_date = datetime.date(2021, 10, 1)\n",
      "monthly_portfolio_return = 0.1246\n",
      "risk_free_return = -0.0049\n",
      "mark_date = datetime.date(2021, 11, 1)\n"
     ]
    },
    {
     "name": "stderr",
     "output_type": "stream",
     "text": [
      "/home/josh/Documents/GitHub/ropacea/ropacea/Single_factor.py:67: FutureWarning:\n",
      "\n",
      "The behavior of DataFrame concatenation with empty or all-NA entries is deprecated. In a future version, this will no longer exclude empty or all-NA columns when determining the result dtypes. To retain the old behavior, exclude the relevant entries before the concat operation.\n",
      "\n",
      "/home/josh/Documents/GitHub/ropacea/ropacea/Single_factor.py:67: FutureWarning:\n",
      "\n",
      "The behavior of DataFrame concatenation with empty or all-NA entries is deprecated. In a future version, this will no longer exclude empty or all-NA columns when determining the result dtypes. To retain the old behavior, exclude the relevant entries before the concat operation.\n",
      "\n"
     ]
    },
    {
     "name": "stdout",
     "output_type": "stream",
     "text": [
      "monthly_portfolio_return = 0.0503\n",
      "risk_free_return = 0.0125\n",
      "mark_date = datetime.date(2021, 12, 1)\n",
      "monthly_portfolio_return = 0.0043\n",
      "risk_free_return = -0.0047\n",
      "========== SUMMARY ==========\n",
      "monthly_returns_bp_mean = 237.03\n",
      "monthly_returns_bp_std = 581.04\n",
      "annualized_mean_pct = 32.46\n",
      "annualized_std_pct = 20.13\n",
      "sharpe_ratio = 1.61\n",
      "mark_date = datetime.date(2017, 1, 1)\n"
     ]
    },
    {
     "name": "stderr",
     "output_type": "stream",
     "text": [
      "/home/josh/Documents/GitHub/ropacea/ropacea/Single_factor.py:67: FutureWarning:\n",
      "\n",
      "The behavior of DataFrame concatenation with empty or all-NA entries is deprecated. In a future version, this will no longer exclude empty or all-NA columns when determining the result dtypes. To retain the old behavior, exclude the relevant entries before the concat operation.\n",
      "\n",
      "/home/josh/Documents/GitHub/ropacea/ropacea/Single_factor.py:67: FutureWarning:\n",
      "\n",
      "The behavior of DataFrame concatenation with empty or all-NA entries is deprecated. In a future version, this will no longer exclude empty or all-NA columns when determining the result dtypes. To retain the old behavior, exclude the relevant entries before the concat operation.\n",
      "\n"
     ]
    },
    {
     "name": "stdout",
     "output_type": "stream",
     "text": [
      "monthly_portfolio_return = 0.0444\n",
      "risk_free_return = 0.0022\n",
      "mark_date = datetime.date(2017, 2, 1)\n",
      "monthly_portfolio_return = 0.0117\n",
      "risk_free_return = 0.0074\n",
      "mark_date = datetime.date(2017, 3, 1)\n"
     ]
    },
    {
     "name": "stderr",
     "output_type": "stream",
     "text": [
      "/home/josh/Documents/GitHub/ropacea/ropacea/Single_factor.py:67: FutureWarning:\n",
      "\n",
      "The behavior of DataFrame concatenation with empty or all-NA entries is deprecated. In a future version, this will no longer exclude empty or all-NA columns when determining the result dtypes. To retain the old behavior, exclude the relevant entries before the concat operation.\n",
      "\n",
      "/home/josh/Documents/GitHub/ropacea/ropacea/Single_factor.py:67: FutureWarning:\n",
      "\n",
      "The behavior of DataFrame concatenation with empty or all-NA entries is deprecated. In a future version, this will no longer exclude empty or all-NA columns when determining the result dtypes. To retain the old behavior, exclude the relevant entries before the concat operation.\n",
      "\n"
     ]
    },
    {
     "name": "stdout",
     "output_type": "stream",
     "text": [
      "monthly_portfolio_return = 0.0417\n",
      "risk_free_return = 0.0024\n",
      "mark_date = datetime.date(2017, 4, 1)\n",
      "monthly_portfolio_return = 0.0015\n",
      "risk_free_return = 0.0111\n",
      "mark_date = datetime.date(2017, 5, 1)\n"
     ]
    },
    {
     "name": "stderr",
     "output_type": "stream",
     "text": [
      "/home/josh/Documents/GitHub/ropacea/ropacea/Single_factor.py:67: FutureWarning:\n",
      "\n",
      "The behavior of DataFrame concatenation with empty or all-NA entries is deprecated. In a future version, this will no longer exclude empty or all-NA columns when determining the result dtypes. To retain the old behavior, exclude the relevant entries before the concat operation.\n",
      "\n",
      "/home/josh/Documents/GitHub/ropacea/ropacea/Single_factor.py:67: FutureWarning:\n",
      "\n",
      "The behavior of DataFrame concatenation with empty or all-NA entries is deprecated. In a future version, this will no longer exclude empty or all-NA columns when determining the result dtypes. To retain the old behavior, exclude the relevant entries before the concat operation.\n",
      "\n"
     ]
    },
    {
     "name": "stdout",
     "output_type": "stream",
     "text": [
      "monthly_portfolio_return = 0.1007\n",
      "risk_free_return = 0.0079\n",
      "mark_date = datetime.date(2017, 6, 1)\n",
      "monthly_portfolio_return = -0.0023\n",
      "risk_free_return = -0.0013\n",
      "mark_date = datetime.date(2017, 7, 1)\n"
     ]
    },
    {
     "name": "stderr",
     "output_type": "stream",
     "text": [
      "/home/josh/Documents/GitHub/ropacea/ropacea/Single_factor.py:67: FutureWarning:\n",
      "\n",
      "The behavior of DataFrame concatenation with empty or all-NA entries is deprecated. In a future version, this will no longer exclude empty or all-NA columns when determining the result dtypes. To retain the old behavior, exclude the relevant entries before the concat operation.\n",
      "\n",
      "/home/josh/Documents/GitHub/ropacea/ropacea/Single_factor.py:67: FutureWarning:\n",
      "\n",
      "The behavior of DataFrame concatenation with empty or all-NA entries is deprecated. In a future version, this will no longer exclude empty or all-NA columns when determining the result dtypes. To retain the old behavior, exclude the relevant entries before the concat operation.\n",
      "\n"
     ]
    },
    {
     "name": "stdout",
     "output_type": "stream",
     "text": [
      "monthly_portfolio_return = 0.0541\n",
      "risk_free_return = -0.0000\n",
      "mark_date = datetime.date(2017, 8, 1)\n",
      "monthly_portfolio_return = 0.0299\n",
      "risk_free_return = 0.0171\n",
      "mark_date = datetime.date(2017, 9, 1)\n"
     ]
    },
    {
     "name": "stderr",
     "output_type": "stream",
     "text": [
      "/home/josh/Documents/GitHub/ropacea/ropacea/Single_factor.py:67: FutureWarning:\n",
      "\n",
      "The behavior of DataFrame concatenation with empty or all-NA entries is deprecated. In a future version, this will no longer exclude empty or all-NA columns when determining the result dtypes. To retain the old behavior, exclude the relevant entries before the concat operation.\n",
      "\n",
      "/home/josh/Documents/GitHub/ropacea/ropacea/Single_factor.py:67: FutureWarning:\n",
      "\n",
      "The behavior of DataFrame concatenation with empty or all-NA entries is deprecated. In a future version, this will no longer exclude empty or all-NA columns when determining the result dtypes. To retain the old behavior, exclude the relevant entries before the concat operation.\n",
      "\n"
     ]
    },
    {
     "name": "stdout",
     "output_type": "stream",
     "text": [
      "monthly_portfolio_return = 0.0329\n",
      "risk_free_return = -0.0172\n",
      "mark_date = datetime.date(2017, 10, 1)\n",
      "monthly_portfolio_return = 0.1035\n",
      "risk_free_return = -0.0011\n",
      "mark_date = datetime.date(2017, 11, 1)\n"
     ]
    },
    {
     "name": "stderr",
     "output_type": "stream",
     "text": [
      "/home/josh/Documents/GitHub/ropacea/ropacea/Single_factor.py:67: FutureWarning:\n",
      "\n",
      "The behavior of DataFrame concatenation with empty or all-NA entries is deprecated. In a future version, this will no longer exclude empty or all-NA columns when determining the result dtypes. To retain the old behavior, exclude the relevant entries before the concat operation.\n",
      "\n",
      "/home/josh/Documents/GitHub/ropacea/ropacea/Single_factor.py:67: FutureWarning:\n",
      "\n",
      "The behavior of DataFrame concatenation with empty or all-NA entries is deprecated. In a future version, this will no longer exclude empty or all-NA columns when determining the result dtypes. To retain the old behavior, exclude the relevant entries before the concat operation.\n",
      "\n"
     ]
    },
    {
     "name": "stdout",
     "output_type": "stream",
     "text": [
      "monthly_portfolio_return = 0.0118\n",
      "risk_free_return = -0.0026\n",
      "mark_date = datetime.date(2017, 12, 1)\n",
      "monthly_portfolio_return = 0.0120\n",
      "risk_free_return = 0.0022\n",
      "mark_date = datetime.date(2018, 1, 1)\n"
     ]
    },
    {
     "name": "stderr",
     "output_type": "stream",
     "text": [
      "/home/josh/Documents/GitHub/ropacea/ropacea/Single_factor.py:67: FutureWarning:\n",
      "\n",
      "The behavior of DataFrame concatenation with empty or all-NA entries is deprecated. In a future version, this will no longer exclude empty or all-NA columns when determining the result dtypes. To retain the old behavior, exclude the relevant entries before the concat operation.\n",
      "\n",
      "/home/josh/Documents/GitHub/ropacea/ropacea/Single_factor.py:67: FutureWarning:\n",
      "\n",
      "The behavior of DataFrame concatenation with empty or all-NA entries is deprecated. In a future version, this will no longer exclude empty or all-NA columns when determining the result dtypes. To retain the old behavior, exclude the relevant entries before the concat operation.\n",
      "\n"
     ]
    },
    {
     "name": "stdout",
     "output_type": "stream",
     "text": [
      "monthly_portfolio_return = 0.1293\n",
      "risk_free_return = -0.0236\n",
      "mark_date = datetime.date(2018, 2, 1)\n",
      "monthly_portfolio_return = 0.0115\n",
      "risk_free_return = -0.0130\n",
      "mark_date = datetime.date(2018, 3, 1)\n"
     ]
    },
    {
     "name": "stderr",
     "output_type": "stream",
     "text": [
      "/home/josh/Documents/GitHub/ropacea/ropacea/Single_factor.py:67: FutureWarning:\n",
      "\n",
      "The behavior of DataFrame concatenation with empty or all-NA entries is deprecated. In a future version, this will no longer exclude empty or all-NA columns when determining the result dtypes. To retain the old behavior, exclude the relevant entries before the concat operation.\n",
      "\n",
      "/home/josh/Documents/GitHub/ropacea/ropacea/Single_factor.py:67: FutureWarning:\n",
      "\n",
      "The behavior of DataFrame concatenation with empty or all-NA entries is deprecated. In a future version, this will no longer exclude empty or all-NA columns when determining the result dtypes. To retain the old behavior, exclude the relevant entries before the concat operation.\n",
      "\n"
     ]
    },
    {
     "name": "stdout",
     "output_type": "stream",
     "text": [
      "monthly_portfolio_return = -0.0197\n",
      "risk_free_return = 0.0128\n",
      "mark_date = datetime.date(2018, 4, 1)\n",
      "monthly_portfolio_return = 0.0009\n",
      "risk_free_return = -0.0155\n",
      "mark_date = datetime.date(2018, 5, 1)\n"
     ]
    },
    {
     "name": "stderr",
     "output_type": "stream",
     "text": [
      "/home/josh/Documents/GitHub/ropacea/ropacea/Single_factor.py:67: FutureWarning:\n",
      "\n",
      "The behavior of DataFrame concatenation with empty or all-NA entries is deprecated. In a future version, this will no longer exclude empty or all-NA columns when determining the result dtypes. To retain the old behavior, exclude the relevant entries before the concat operation.\n",
      "\n",
      "/home/josh/Documents/GitHub/ropacea/ropacea/Single_factor.py:67: FutureWarning:\n",
      "\n",
      "The behavior of DataFrame concatenation with empty or all-NA entries is deprecated. In a future version, this will no longer exclude empty or all-NA columns when determining the result dtypes. To retain the old behavior, exclude the relevant entries before the concat operation.\n",
      "\n"
     ]
    },
    {
     "name": "stdout",
     "output_type": "stream",
     "text": [
      "monthly_portfolio_return = 0.0805\n",
      "risk_free_return = 0.0096\n",
      "mark_date = datetime.date(2018, 6, 1)\n",
      "monthly_portfolio_return = -0.0183\n",
      "risk_free_return = 0.0023\n",
      "mark_date = datetime.date(2018, 7, 1)\n"
     ]
    },
    {
     "name": "stderr",
     "output_type": "stream",
     "text": [
      "/home/josh/Documents/GitHub/ropacea/ropacea/Single_factor.py:67: FutureWarning:\n",
      "\n",
      "The behavior of DataFrame concatenation with empty or all-NA entries is deprecated. In a future version, this will no longer exclude empty or all-NA columns when determining the result dtypes. To retain the old behavior, exclude the relevant entries before the concat operation.\n",
      "\n",
      "/home/josh/Documents/GitHub/ropacea/ropacea/Single_factor.py:67: FutureWarning:\n",
      "\n",
      "The behavior of DataFrame concatenation with empty or all-NA entries is deprecated. In a future version, this will no longer exclude empty or all-NA columns when determining the result dtypes. To retain the old behavior, exclude the relevant entries before the concat operation.\n",
      "\n"
     ]
    },
    {
     "name": "stdout",
     "output_type": "stream",
     "text": [
      "monthly_portfolio_return = 0.0263\n",
      "risk_free_return = -0.0051\n",
      "mark_date = datetime.date(2018, 8, 1)\n",
      "monthly_portfolio_return = 0.0732\n",
      "risk_free_return = 0.0101\n",
      "mark_date = datetime.date(2018, 9, 1)\n"
     ]
    },
    {
     "name": "stderr",
     "output_type": "stream",
     "text": [
      "/home/josh/Documents/GitHub/ropacea/ropacea/Single_factor.py:67: FutureWarning:\n",
      "\n",
      "The behavior of DataFrame concatenation with empty or all-NA entries is deprecated. In a future version, this will no longer exclude empty or all-NA columns when determining the result dtypes. To retain the old behavior, exclude the relevant entries before the concat operation.\n",
      "\n",
      "/home/josh/Documents/GitHub/ropacea/ropacea/Single_factor.py:67: FutureWarning:\n",
      "\n",
      "The behavior of DataFrame concatenation with empty or all-NA entries is deprecated. In a future version, this will no longer exclude empty or all-NA columns when determining the result dtypes. To retain the old behavior, exclude the relevant entries before the concat operation.\n",
      "\n"
     ]
    },
    {
     "name": "stdout",
     "output_type": "stream",
     "text": [
      "monthly_portfolio_return = 0.0034\n",
      "risk_free_return = -0.0148\n",
      "mark_date = datetime.date(2018, 10, 1)\n",
      "monthly_portfolio_return = -0.1087\n",
      "risk_free_return = -0.0043\n",
      "mark_date = datetime.date(2018, 11, 1)\n"
     ]
    },
    {
     "name": "stderr",
     "output_type": "stream",
     "text": [
      "/home/josh/Documents/GitHub/ropacea/ropacea/Single_factor.py:67: FutureWarning:\n",
      "\n",
      "The behavior of DataFrame concatenation with empty or all-NA entries is deprecated. In a future version, this will no longer exclude empty or all-NA columns when determining the result dtypes. To retain the old behavior, exclude the relevant entries before the concat operation.\n",
      "\n",
      "/home/josh/Documents/GitHub/ropacea/ropacea/Single_factor.py:67: FutureWarning:\n",
      "\n",
      "The behavior of DataFrame concatenation with empty or all-NA entries is deprecated. In a future version, this will no longer exclude empty or all-NA columns when determining the result dtypes. To retain the old behavior, exclude the relevant entries before the concat operation.\n",
      "\n"
     ]
    },
    {
     "name": "stdout",
     "output_type": "stream",
     "text": [
      "monthly_portfolio_return = -0.0241\n",
      "risk_free_return = 0.0149\n",
      "mark_date = datetime.date(2018, 12, 1)\n",
      "monthly_portfolio_return = -0.0977\n",
      "risk_free_return = 0.0286\n",
      "mark_date = datetime.date(2019, 1, 1)\n"
     ]
    },
    {
     "name": "stderr",
     "output_type": "stream",
     "text": [
      "/home/josh/Documents/GitHub/ropacea/ropacea/Single_factor.py:67: FutureWarning:\n",
      "\n",
      "The behavior of DataFrame concatenation with empty or all-NA entries is deprecated. In a future version, this will no longer exclude empty or all-NA columns when determining the result dtypes. To retain the old behavior, exclude the relevant entries before the concat operation.\n",
      "\n",
      "/home/josh/Documents/GitHub/ropacea/ropacea/Single_factor.py:67: FutureWarning:\n",
      "\n",
      "The behavior of DataFrame concatenation with empty or all-NA entries is deprecated. In a future version, this will no longer exclude empty or all-NA columns when determining the result dtypes. To retain the old behavior, exclude the relevant entries before the concat operation.\n",
      "\n"
     ]
    },
    {
     "name": "stdout",
     "output_type": "stream",
     "text": [
      "monthly_portfolio_return = 0.0679\n",
      "risk_free_return = 0.0071\n",
      "mark_date = datetime.date(2019, 2, 1)\n",
      "monthly_portfolio_return = 0.0661\n",
      "risk_free_return = -0.0043\n",
      "mark_date = datetime.date(2019, 3, 1)\n"
     ]
    },
    {
     "name": "stderr",
     "output_type": "stream",
     "text": [
      "/home/josh/Documents/GitHub/ropacea/ropacea/Single_factor.py:67: FutureWarning:\n",
      "\n",
      "The behavior of DataFrame concatenation with empty or all-NA entries is deprecated. In a future version, this will no longer exclude empty or all-NA columns when determining the result dtypes. To retain the old behavior, exclude the relevant entries before the concat operation.\n",
      "\n",
      "/home/josh/Documents/GitHub/ropacea/ropacea/Single_factor.py:67: FutureWarning:\n",
      "\n",
      "The behavior of DataFrame concatenation with empty or all-NA entries is deprecated. In a future version, this will no longer exclude empty or all-NA columns when determining the result dtypes. To retain the old behavior, exclude the relevant entries before the concat operation.\n",
      "\n"
     ]
    },
    {
     "name": "stdout",
     "output_type": "stream",
     "text": [
      "monthly_portfolio_return = 0.0590\n",
      "risk_free_return = 0.0294\n",
      "mark_date = datetime.date(2019, 4, 1)\n",
      "monthly_portfolio_return = 0.0665\n",
      "risk_free_return = -0.0062\n",
      "mark_date = datetime.date(2019, 5, 1)\n"
     ]
    },
    {
     "name": "stderr",
     "output_type": "stream",
     "text": [
      "/home/josh/Documents/GitHub/ropacea/ropacea/Single_factor.py:67: FutureWarning:\n",
      "\n",
      "The behavior of DataFrame concatenation with empty or all-NA entries is deprecated. In a future version, this will no longer exclude empty or all-NA columns when determining the result dtypes. To retain the old behavior, exclude the relevant entries before the concat operation.\n",
      "\n",
      "/home/josh/Documents/GitHub/ropacea/ropacea/Single_factor.py:67: FutureWarning:\n",
      "\n",
      "The behavior of DataFrame concatenation with empty or all-NA entries is deprecated. In a future version, this will no longer exclude empty or all-NA columns when determining the result dtypes. To retain the old behavior, exclude the relevant entries before the concat operation.\n",
      "\n"
     ]
    },
    {
     "name": "stdout",
     "output_type": "stream",
     "text": [
      "monthly_portfolio_return = -0.0798\n",
      "risk_free_return = 0.0319\n",
      "mark_date = datetime.date(2019, 6, 1)\n",
      "monthly_portfolio_return = 0.0882\n",
      "risk_free_return = 0.0121\n",
      "mark_date = datetime.date(2019, 7, 1)\n"
     ]
    },
    {
     "name": "stderr",
     "output_type": "stream",
     "text": [
      "/home/josh/Documents/GitHub/ropacea/ropacea/Single_factor.py:67: FutureWarning:\n",
      "\n",
      "The behavior of DataFrame concatenation with empty or all-NA entries is deprecated. In a future version, this will no longer exclude empty or all-NA columns when determining the result dtypes. To retain the old behavior, exclude the relevant entries before the concat operation.\n",
      "\n",
      "/home/josh/Documents/GitHub/ropacea/ropacea/Single_factor.py:67: FutureWarning:\n",
      "\n",
      "The behavior of DataFrame concatenation with empty or all-NA entries is deprecated. In a future version, this will no longer exclude empty or all-NA columns when determining the result dtypes. To retain the old behavior, exclude the relevant entries before the concat operation.\n",
      "\n"
     ]
    },
    {
     "name": "stdout",
     "output_type": "stream",
     "text": [
      "monthly_portfolio_return = 0.0288\n",
      "risk_free_return = 0.0034\n",
      "mark_date = datetime.date(2019, 8, 1)\n",
      "monthly_portfolio_return = -0.0072\n",
      "risk_free_return = 0.0403\n",
      "mark_date = datetime.date(2019, 9, 1)\n"
     ]
    },
    {
     "name": "stderr",
     "output_type": "stream",
     "text": [
      "/home/josh/Documents/GitHub/ropacea/ropacea/Single_factor.py:67: FutureWarning:\n",
      "\n",
      "The behavior of DataFrame concatenation with empty or all-NA entries is deprecated. In a future version, this will no longer exclude empty or all-NA columns when determining the result dtypes. To retain the old behavior, exclude the relevant entries before the concat operation.\n",
      "\n",
      "/home/josh/Documents/GitHub/ropacea/ropacea/Single_factor.py:67: FutureWarning:\n",
      "\n",
      "The behavior of DataFrame concatenation with empty or all-NA entries is deprecated. In a future version, this will no longer exclude empty or all-NA columns when determining the result dtypes. To retain the old behavior, exclude the relevant entries before the concat operation.\n",
      "\n"
     ]
    },
    {
     "name": "stdout",
     "output_type": "stream",
     "text": [
      "monthly_portfolio_return = -0.0024\n",
      "risk_free_return = -0.0139\n",
      "mark_date = datetime.date(2019, 10, 1)\n",
      "monthly_portfolio_return = 0.0149\n",
      "risk_free_return = -0.0007\n",
      "mark_date = datetime.date(2019, 11, 1)\n"
     ]
    },
    {
     "name": "stderr",
     "output_type": "stream",
     "text": [
      "/home/josh/Documents/GitHub/ropacea/ropacea/Single_factor.py:67: FutureWarning:\n",
      "\n",
      "The behavior of DataFrame concatenation with empty or all-NA entries is deprecated. In a future version, this will no longer exclude empty or all-NA columns when determining the result dtypes. To retain the old behavior, exclude the relevant entries before the concat operation.\n",
      "\n",
      "/home/josh/Documents/GitHub/ropacea/ropacea/Single_factor.py:67: FutureWarning:\n",
      "\n",
      "The behavior of DataFrame concatenation with empty or all-NA entries is deprecated. In a future version, this will no longer exclude empty or all-NA columns when determining the result dtypes. To retain the old behavior, exclude the relevant entries before the concat operation.\n",
      "\n"
     ]
    },
    {
     "name": "stdout",
     "output_type": "stream",
     "text": [
      "monthly_portfolio_return = 0.0658\n",
      "risk_free_return = -0.0074\n",
      "mark_date = datetime.date(2019, 12, 1)\n",
      "monthly_portfolio_return = 0.0526\n",
      "risk_free_return = -0.0113\n",
      "mark_date = datetime.date(2020, 1, 1)\n"
     ]
    },
    {
     "name": "stderr",
     "output_type": "stream",
     "text": [
      "/home/josh/Documents/GitHub/ropacea/ropacea/Single_factor.py:67: FutureWarning:\n",
      "\n",
      "The behavior of DataFrame concatenation with empty or all-NA entries is deprecated. In a future version, this will no longer exclude empty or all-NA columns when determining the result dtypes. To retain the old behavior, exclude the relevant entries before the concat operation.\n",
      "\n",
      "/home/josh/Documents/GitHub/ropacea/ropacea/Single_factor.py:67: FutureWarning:\n",
      "\n",
      "The behavior of DataFrame concatenation with empty or all-NA entries is deprecated. In a future version, this will no longer exclude empty or all-NA columns when determining the result dtypes. To retain the old behavior, exclude the relevant entries before the concat operation.\n",
      "\n"
     ]
    },
    {
     "name": "stdout",
     "output_type": "stream",
     "text": [
      "monthly_portfolio_return = 0.0435\n",
      "risk_free_return = 0.0392\n",
      "mark_date = datetime.date(2020, 2, 1)\n",
      "monthly_portfolio_return = -0.0399\n",
      "risk_free_return = 0.0299\n",
      "mark_date = datetime.date(2020, 3, 1)\n"
     ]
    },
    {
     "name": "stderr",
     "output_type": "stream",
     "text": [
      "/home/josh/Documents/GitHub/ropacea/ropacea/Single_factor.py:67: FutureWarning:\n",
      "\n",
      "The behavior of DataFrame concatenation with empty or all-NA entries is deprecated. In a future version, this will no longer exclude empty or all-NA columns when determining the result dtypes. To retain the old behavior, exclude the relevant entries before the concat operation.\n",
      "\n",
      "/home/josh/Documents/GitHub/ropacea/ropacea/Single_factor.py:67: FutureWarning:\n",
      "\n",
      "The behavior of DataFrame concatenation with empty or all-NA entries is deprecated. In a future version, this will no longer exclude empty or all-NA columns when determining the result dtypes. To retain the old behavior, exclude the relevant entries before the concat operation.\n",
      "\n"
     ]
    },
    {
     "name": "stdout",
     "output_type": "stream",
     "text": [
      "monthly_portfolio_return = -0.0899\n",
      "risk_free_return = 0.0397\n",
      "mark_date = datetime.date(2020, 4, 1)\n",
      "monthly_portfolio_return = 0.1299\n",
      "risk_free_return = 0.0050\n",
      "mark_date = datetime.date(2020, 5, 1)\n"
     ]
    },
    {
     "name": "stderr",
     "output_type": "stream",
     "text": [
      "/home/josh/Documents/GitHub/ropacea/ropacea/Single_factor.py:67: FutureWarning:\n",
      "\n",
      "The behavior of DataFrame concatenation with empty or all-NA entries is deprecated. In a future version, this will no longer exclude empty or all-NA columns when determining the result dtypes. To retain the old behavior, exclude the relevant entries before the concat operation.\n",
      "\n",
      "/home/josh/Documents/GitHub/ropacea/ropacea/Single_factor.py:67: FutureWarning:\n",
      "\n",
      "The behavior of DataFrame concatenation with empty or all-NA entries is deprecated. In a future version, this will no longer exclude empty or all-NA columns when determining the result dtypes. To retain the old behavior, exclude the relevant entries before the concat operation.\n",
      "\n"
     ]
    },
    {
     "name": "stdout",
     "output_type": "stream",
     "text": [
      "monthly_portfolio_return = 0.0626\n",
      "risk_free_return = 0.0007\n",
      "mark_date = datetime.date(2020, 6, 1)\n",
      "monthly_portfolio_return = 0.0662\n",
      "risk_free_return = 0.0004\n",
      "mark_date = datetime.date(2020, 7, 1)\n"
     ]
    },
    {
     "name": "stderr",
     "output_type": "stream",
     "text": [
      "/home/josh/Documents/GitHub/ropacea/ropacea/Single_factor.py:67: FutureWarning:\n",
      "\n",
      "The behavior of DataFrame concatenation with empty or all-NA entries is deprecated. In a future version, this will no longer exclude empty or all-NA columns when determining the result dtypes. To retain the old behavior, exclude the relevant entries before the concat operation.\n",
      "\n",
      "/home/josh/Documents/GitHub/ropacea/ropacea/Single_factor.py:67: FutureWarning:\n",
      "\n",
      "The behavior of DataFrame concatenation with empty or all-NA entries is deprecated. In a future version, this will no longer exclude empty or all-NA columns when determining the result dtypes. To retain the old behavior, exclude the relevant entries before the concat operation.\n",
      "\n"
     ]
    },
    {
     "name": "stdout",
     "output_type": "stream",
     "text": [
      "monthly_portfolio_return = 0.0438\n",
      "risk_free_return = 0.0128\n",
      "mark_date = datetime.date(2020, 8, 1)\n",
      "monthly_portfolio_return = 0.1214\n",
      "risk_free_return = -0.0147\n",
      "mark_date = datetime.date(2020, 9, 1)\n"
     ]
    },
    {
     "name": "stderr",
     "output_type": "stream",
     "text": [
      "/home/josh/Documents/GitHub/ropacea/ropacea/Single_factor.py:67: FutureWarning:\n",
      "\n",
      "The behavior of DataFrame concatenation with empty or all-NA entries is deprecated. In a future version, this will no longer exclude empty or all-NA columns when determining the result dtypes. To retain the old behavior, exclude the relevant entries before the concat operation.\n",
      "\n",
      "/home/josh/Documents/GitHub/ropacea/ropacea/Single_factor.py:67: FutureWarning:\n",
      "\n",
      "The behavior of DataFrame concatenation with empty or all-NA entries is deprecated. In a future version, this will no longer exclude empty or all-NA columns when determining the result dtypes. To retain the old behavior, exclude the relevant entries before the concat operation.\n",
      "\n"
     ]
    },
    {
     "name": "stdout",
     "output_type": "stream",
     "text": [
      "monthly_portfolio_return = -0.0316\n",
      "risk_free_return = 0.0026\n",
      "mark_date = datetime.date(2020, 10, 1)\n",
      "monthly_portfolio_return = -0.0458\n",
      "risk_free_return = -0.0173\n",
      "mark_date = datetime.date(2020, 11, 1)\n"
     ]
    },
    {
     "name": "stderr",
     "output_type": "stream",
     "text": [
      "/home/josh/Documents/GitHub/ropacea/ropacea/Single_factor.py:67: FutureWarning:\n",
      "\n",
      "The behavior of DataFrame concatenation with empty or all-NA entries is deprecated. In a future version, this will no longer exclude empty or all-NA columns when determining the result dtypes. To retain the old behavior, exclude the relevant entries before the concat operation.\n",
      "\n",
      "/home/josh/Documents/GitHub/ropacea/ropacea/Single_factor.py:67: FutureWarning:\n",
      "\n",
      "The behavior of DataFrame concatenation with empty or all-NA entries is deprecated. In a future version, this will no longer exclude empty or all-NA columns when determining the result dtypes. To retain the old behavior, exclude the relevant entries before the concat operation.\n",
      "\n"
     ]
    },
    {
     "name": "stdout",
     "output_type": "stream",
     "text": [
      "monthly_portfolio_return = 0.0709\n",
      "risk_free_return = 0.0040\n",
      "mark_date = datetime.date(2020, 12, 1)\n",
      "monthly_portfolio_return = 0.0320\n",
      "risk_free_return = -0.0050\n",
      "mark_date = datetime.date(2021, 1, 1)\n"
     ]
    },
    {
     "name": "stderr",
     "output_type": "stream",
     "text": [
      "/home/josh/Documents/GitHub/ropacea/ropacea/Single_factor.py:67: FutureWarning:\n",
      "\n",
      "The behavior of DataFrame concatenation with empty or all-NA entries is deprecated. In a future version, this will no longer exclude empty or all-NA columns when determining the result dtypes. To retain the old behavior, exclude the relevant entries before the concat operation.\n",
      "\n",
      "/home/josh/Documents/GitHub/ropacea/ropacea/Single_factor.py:67: FutureWarning:\n",
      "\n",
      "The behavior of DataFrame concatenation with empty or all-NA entries is deprecated. In a future version, this will no longer exclude empty or all-NA columns when determining the result dtypes. To retain the old behavior, exclude the relevant entries before the concat operation.\n",
      "\n"
     ]
    },
    {
     "name": "stdout",
     "output_type": "stream",
     "text": [
      "monthly_portfolio_return = -0.0179\n",
      "risk_free_return = -0.0107\n",
      "mark_date = datetime.date(2021, 2, 1)\n",
      "monthly_portfolio_return = 0.0111\n",
      "risk_free_return = -0.0254\n",
      "mark_date = datetime.date(2021, 3, 1)\n"
     ]
    },
    {
     "name": "stderr",
     "output_type": "stream",
     "text": [
      "/home/josh/Documents/GitHub/ropacea/ropacea/Single_factor.py:67: FutureWarning:\n",
      "\n",
      "The behavior of DataFrame concatenation with empty or all-NA entries is deprecated. In a future version, this will no longer exclude empty or all-NA columns when determining the result dtypes. To retain the old behavior, exclude the relevant entries before the concat operation.\n",
      "\n",
      "/home/josh/Documents/GitHub/ropacea/ropacea/Single_factor.py:67: FutureWarning:\n",
      "\n",
      "The behavior of DataFrame concatenation with empty or all-NA entries is deprecated. In a future version, this will no longer exclude empty or all-NA columns when determining the result dtypes. To retain the old behavior, exclude the relevant entries before the concat operation.\n",
      "\n"
     ]
    },
    {
     "name": "stdout",
     "output_type": "stream",
     "text": [
      "monthly_portfolio_return = 0.0169\n",
      "risk_free_return = -0.0293\n",
      "mark_date = datetime.date(2021, 4, 1)\n",
      "monthly_portfolio_return = 0.0713\n",
      "risk_free_return = 0.0119\n",
      "mark_date = datetime.date(2021, 5, 1)\n"
     ]
    },
    {
     "name": "stderr",
     "output_type": "stream",
     "text": [
      "/home/josh/Documents/GitHub/ropacea/ropacea/Single_factor.py:67: FutureWarning:\n",
      "\n",
      "The behavior of DataFrame concatenation with empty or all-NA entries is deprecated. In a future version, this will no longer exclude empty or all-NA columns when determining the result dtypes. To retain the old behavior, exclude the relevant entries before the concat operation.\n",
      "\n",
      "/home/josh/Documents/GitHub/ropacea/ropacea/Single_factor.py:67: FutureWarning:\n",
      "\n",
      "The behavior of DataFrame concatenation with empty or all-NA entries is deprecated. In a future version, this will no longer exclude empty or all-NA columns when determining the result dtypes. To retain the old behavior, exclude the relevant entries before the concat operation.\n",
      "\n"
     ]
    },
    {
     "name": "stdout",
     "output_type": "stream",
     "text": [
      "monthly_portfolio_return = -0.0006\n",
      "risk_free_return = 0.0034\n",
      "mark_date = datetime.date(2021, 6, 1)\n",
      "monthly_portfolio_return = 0.1118\n",
      "risk_free_return = 0.0141\n",
      "mark_date = datetime.date(2021, 7, 1)\n"
     ]
    },
    {
     "name": "stderr",
     "output_type": "stream",
     "text": [
      "/home/josh/Documents/GitHub/ropacea/ropacea/Single_factor.py:67: FutureWarning:\n",
      "\n",
      "The behavior of DataFrame concatenation with empty or all-NA entries is deprecated. In a future version, this will no longer exclude empty or all-NA columns when determining the result dtypes. To retain the old behavior, exclude the relevant entries before the concat operation.\n",
      "\n",
      "/home/josh/Documents/GitHub/ropacea/ropacea/Single_factor.py:67: FutureWarning:\n",
      "\n",
      "The behavior of DataFrame concatenation with empty or all-NA entries is deprecated. In a future version, this will no longer exclude empty or all-NA columns when determining the result dtypes. To retain the old behavior, exclude the relevant entries before the concat operation.\n",
      "\n"
     ]
    },
    {
     "name": "stdout",
     "output_type": "stream",
     "text": [
      "monthly_portfolio_return = 0.0391\n",
      "risk_free_return = 0.0238\n",
      "mark_date = datetime.date(2021, 8, 1)\n",
      "monthly_portfolio_return = 0.0536\n",
      "risk_free_return = -0.0048\n",
      "mark_date = datetime.date(2021, 9, 1)\n"
     ]
    },
    {
     "name": "stderr",
     "output_type": "stream",
     "text": [
      "/home/josh/Documents/GitHub/ropacea/ropacea/Single_factor.py:67: FutureWarning:\n",
      "\n",
      "The behavior of DataFrame concatenation with empty or all-NA entries is deprecated. In a future version, this will no longer exclude empty or all-NA columns when determining the result dtypes. To retain the old behavior, exclude the relevant entries before the concat operation.\n",
      "\n",
      "/home/josh/Documents/GitHub/ropacea/ropacea/Single_factor.py:67: FutureWarning:\n",
      "\n",
      "The behavior of DataFrame concatenation with empty or all-NA entries is deprecated. In a future version, this will no longer exclude empty or all-NA columns when determining the result dtypes. To retain the old behavior, exclude the relevant entries before the concat operation.\n",
      "\n"
     ]
    },
    {
     "name": "stdout",
     "output_type": "stream",
     "text": [
      "monthly_portfolio_return = -0.0775\n",
      "risk_free_return = -0.0154\n",
      "mark_date = datetime.date(2021, 10, 1)\n",
      "monthly_portfolio_return = 0.1380\n",
      "risk_free_return = -0.0049\n",
      "mark_date = datetime.date(2021, 11, 1)\n"
     ]
    },
    {
     "name": "stderr",
     "output_type": "stream",
     "text": [
      "/home/josh/Documents/GitHub/ropacea/ropacea/Single_factor.py:67: FutureWarning:\n",
      "\n",
      "The behavior of DataFrame concatenation with empty or all-NA entries is deprecated. In a future version, this will no longer exclude empty or all-NA columns when determining the result dtypes. To retain the old behavior, exclude the relevant entries before the concat operation.\n",
      "\n",
      "/home/josh/Documents/GitHub/ropacea/ropacea/Single_factor.py:67: FutureWarning:\n",
      "\n",
      "The behavior of DataFrame concatenation with empty or all-NA entries is deprecated. In a future version, this will no longer exclude empty or all-NA columns when determining the result dtypes. To retain the old behavior, exclude the relevant entries before the concat operation.\n",
      "\n"
     ]
    },
    {
     "name": "stdout",
     "output_type": "stream",
     "text": [
      "monthly_portfolio_return = 0.0644\n",
      "risk_free_return = 0.0125\n",
      "mark_date = datetime.date(2021, 12, 1)\n",
      "monthly_portfolio_return = -0.0067\n",
      "risk_free_return = -0.0047\n",
      "========== SUMMARY ==========\n",
      "monthly_returns_bp_mean = 251.26\n",
      "monthly_returns_bp_std = 612.31\n",
      "annualized_mean_pct = 34.69\n",
      "annualized_std_pct = 21.21\n",
      "sharpe_ratio = 1.64\n",
      "mark_date = datetime.date(2017, 1, 1)\n"
     ]
    },
    {
     "name": "stderr",
     "output_type": "stream",
     "text": [
      "/home/josh/Documents/GitHub/ropacea/ropacea/Single_factor.py:67: FutureWarning:\n",
      "\n",
      "The behavior of DataFrame concatenation with empty or all-NA entries is deprecated. In a future version, this will no longer exclude empty or all-NA columns when determining the result dtypes. To retain the old behavior, exclude the relevant entries before the concat operation.\n",
      "\n",
      "/home/josh/Documents/GitHub/ropacea/ropacea/Single_factor.py:67: FutureWarning:\n",
      "\n",
      "The behavior of DataFrame concatenation with empty or all-NA entries is deprecated. In a future version, this will no longer exclude empty or all-NA columns when determining the result dtypes. To retain the old behavior, exclude the relevant entries before the concat operation.\n",
      "\n"
     ]
    },
    {
     "name": "stdout",
     "output_type": "stream",
     "text": [
      "monthly_portfolio_return = 0.0440\n",
      "risk_free_return = 0.0022\n",
      "mark_date = datetime.date(2017, 2, 1)\n",
      "monthly_portfolio_return = 0.0072\n",
      "risk_free_return = 0.0074\n",
      "mark_date = datetime.date(2017, 3, 1)\n"
     ]
    },
    {
     "name": "stderr",
     "output_type": "stream",
     "text": [
      "/home/josh/Documents/GitHub/ropacea/ropacea/Single_factor.py:67: FutureWarning:\n",
      "\n",
      "The behavior of DataFrame concatenation with empty or all-NA entries is deprecated. In a future version, this will no longer exclude empty or all-NA columns when determining the result dtypes. To retain the old behavior, exclude the relevant entries before the concat operation.\n",
      "\n",
      "/home/josh/Documents/GitHub/ropacea/ropacea/Single_factor.py:67: FutureWarning:\n",
      "\n",
      "The behavior of DataFrame concatenation with empty or all-NA entries is deprecated. In a future version, this will no longer exclude empty or all-NA columns when determining the result dtypes. To retain the old behavior, exclude the relevant entries before the concat operation.\n",
      "\n"
     ]
    },
    {
     "name": "stdout",
     "output_type": "stream",
     "text": [
      "monthly_portfolio_return = 0.0453\n",
      "risk_free_return = 0.0024\n",
      "mark_date = datetime.date(2017, 4, 1)\n",
      "monthly_portfolio_return = -0.0002\n",
      "risk_free_return = 0.0111\n",
      "mark_date = datetime.date(2017, 5, 1)\n"
     ]
    },
    {
     "name": "stderr",
     "output_type": "stream",
     "text": [
      "/home/josh/Documents/GitHub/ropacea/ropacea/Single_factor.py:67: FutureWarning:\n",
      "\n",
      "The behavior of DataFrame concatenation with empty or all-NA entries is deprecated. In a future version, this will no longer exclude empty or all-NA columns when determining the result dtypes. To retain the old behavior, exclude the relevant entries before the concat operation.\n",
      "\n",
      "/home/josh/Documents/GitHub/ropacea/ropacea/Single_factor.py:67: FutureWarning:\n",
      "\n",
      "The behavior of DataFrame concatenation with empty or all-NA entries is deprecated. In a future version, this will no longer exclude empty or all-NA columns when determining the result dtypes. To retain the old behavior, exclude the relevant entries before the concat operation.\n",
      "\n"
     ]
    },
    {
     "name": "stdout",
     "output_type": "stream",
     "text": [
      "monthly_portfolio_return = 0.1180\n",
      "risk_free_return = 0.0079\n",
      "mark_date = datetime.date(2017, 6, 1)\n",
      "monthly_portfolio_return = -0.0045\n",
      "risk_free_return = -0.0013\n",
      "mark_date = datetime.date(2017, 7, 1)\n"
     ]
    },
    {
     "name": "stderr",
     "output_type": "stream",
     "text": [
      "/home/josh/Documents/GitHub/ropacea/ropacea/Single_factor.py:67: FutureWarning:\n",
      "\n",
      "The behavior of DataFrame concatenation with empty or all-NA entries is deprecated. In a future version, this will no longer exclude empty or all-NA columns when determining the result dtypes. To retain the old behavior, exclude the relevant entries before the concat operation.\n",
      "\n",
      "/home/josh/Documents/GitHub/ropacea/ropacea/Single_factor.py:67: FutureWarning:\n",
      "\n",
      "The behavior of DataFrame concatenation with empty or all-NA entries is deprecated. In a future version, this will no longer exclude empty or all-NA columns when determining the result dtypes. To retain the old behavior, exclude the relevant entries before the concat operation.\n",
      "\n"
     ]
    },
    {
     "name": "stdout",
     "output_type": "stream",
     "text": [
      "monthly_portfolio_return = 0.0567\n",
      "risk_free_return = -0.0000\n",
      "mark_date = datetime.date(2017, 8, 1)\n",
      "monthly_portfolio_return = 0.0339\n",
      "risk_free_return = 0.0171\n",
      "mark_date = datetime.date(2017, 9, 1)\n"
     ]
    },
    {
     "name": "stderr",
     "output_type": "stream",
     "text": [
      "/home/josh/Documents/GitHub/ropacea/ropacea/Single_factor.py:67: FutureWarning:\n",
      "\n",
      "The behavior of DataFrame concatenation with empty or all-NA entries is deprecated. In a future version, this will no longer exclude empty or all-NA columns when determining the result dtypes. To retain the old behavior, exclude the relevant entries before the concat operation.\n",
      "\n",
      "/home/josh/Documents/GitHub/ropacea/ropacea/Single_factor.py:67: FutureWarning:\n",
      "\n",
      "The behavior of DataFrame concatenation with empty or all-NA entries is deprecated. In a future version, this will no longer exclude empty or all-NA columns when determining the result dtypes. To retain the old behavior, exclude the relevant entries before the concat operation.\n",
      "\n"
     ]
    },
    {
     "name": "stdout",
     "output_type": "stream",
     "text": [
      "monthly_portfolio_return = 0.0322\n",
      "risk_free_return = -0.0172\n",
      "mark_date = datetime.date(2017, 10, 1)\n",
      "monthly_portfolio_return = 0.1106\n",
      "risk_free_return = -0.0011\n",
      "mark_date = datetime.date(2017, 11, 1)\n"
     ]
    },
    {
     "name": "stderr",
     "output_type": "stream",
     "text": [
      "/home/josh/Documents/GitHub/ropacea/ropacea/Single_factor.py:67: FutureWarning:\n",
      "\n",
      "The behavior of DataFrame concatenation with empty or all-NA entries is deprecated. In a future version, this will no longer exclude empty or all-NA columns when determining the result dtypes. To retain the old behavior, exclude the relevant entries before the concat operation.\n",
      "\n",
      "/home/josh/Documents/GitHub/ropacea/ropacea/Single_factor.py:67: FutureWarning:\n",
      "\n",
      "The behavior of DataFrame concatenation with empty or all-NA entries is deprecated. In a future version, this will no longer exclude empty or all-NA columns when determining the result dtypes. To retain the old behavior, exclude the relevant entries before the concat operation.\n",
      "\n"
     ]
    },
    {
     "name": "stdout",
     "output_type": "stream",
     "text": [
      "monthly_portfolio_return = 0.0101\n",
      "risk_free_return = -0.0026\n",
      "mark_date = datetime.date(2017, 12, 1)\n",
      "monthly_portfolio_return = 0.0090\n",
      "risk_free_return = 0.0022\n",
      "mark_date = datetime.date(2018, 1, 1)\n"
     ]
    },
    {
     "name": "stderr",
     "output_type": "stream",
     "text": [
      "/home/josh/Documents/GitHub/ropacea/ropacea/Single_factor.py:67: FutureWarning:\n",
      "\n",
      "The behavior of DataFrame concatenation with empty or all-NA entries is deprecated. In a future version, this will no longer exclude empty or all-NA columns when determining the result dtypes. To retain the old behavior, exclude the relevant entries before the concat operation.\n",
      "\n",
      "/home/josh/Documents/GitHub/ropacea/ropacea/Single_factor.py:67: FutureWarning:\n",
      "\n",
      "The behavior of DataFrame concatenation with empty or all-NA entries is deprecated. In a future version, this will no longer exclude empty or all-NA columns when determining the result dtypes. To retain the old behavior, exclude the relevant entries before the concat operation.\n",
      "\n"
     ]
    },
    {
     "name": "stdout",
     "output_type": "stream",
     "text": [
      "monthly_portfolio_return = 0.1372\n",
      "risk_free_return = -0.0236\n",
      "mark_date = datetime.date(2018, 2, 1)\n",
      "monthly_portfolio_return = 0.0107\n",
      "risk_free_return = -0.0130\n",
      "mark_date = datetime.date(2018, 3, 1)\n"
     ]
    },
    {
     "name": "stderr",
     "output_type": "stream",
     "text": [
      "/home/josh/Documents/GitHub/ropacea/ropacea/Single_factor.py:67: FutureWarning:\n",
      "\n",
      "The behavior of DataFrame concatenation with empty or all-NA entries is deprecated. In a future version, this will no longer exclude empty or all-NA columns when determining the result dtypes. To retain the old behavior, exclude the relevant entries before the concat operation.\n",
      "\n",
      "/home/josh/Documents/GitHub/ropacea/ropacea/Single_factor.py:67: FutureWarning:\n",
      "\n",
      "The behavior of DataFrame concatenation with empty or all-NA entries is deprecated. In a future version, this will no longer exclude empty or all-NA columns when determining the result dtypes. To retain the old behavior, exclude the relevant entries before the concat operation.\n",
      "\n"
     ]
    },
    {
     "name": "stdout",
     "output_type": "stream",
     "text": [
      "monthly_portfolio_return = -0.0187\n",
      "risk_free_return = 0.0128\n",
      "mark_date = datetime.date(2018, 4, 1)\n",
      "monthly_portfolio_return = 0.0002\n",
      "risk_free_return = -0.0155\n",
      "mark_date = datetime.date(2018, 5, 1)\n"
     ]
    },
    {
     "name": "stderr",
     "output_type": "stream",
     "text": [
      "/home/josh/Documents/GitHub/ropacea/ropacea/Single_factor.py:67: FutureWarning:\n",
      "\n",
      "The behavior of DataFrame concatenation with empty or all-NA entries is deprecated. In a future version, this will no longer exclude empty or all-NA columns when determining the result dtypes. To retain the old behavior, exclude the relevant entries before the concat operation.\n",
      "\n",
      "/home/josh/Documents/GitHub/ropacea/ropacea/Single_factor.py:67: FutureWarning:\n",
      "\n",
      "The behavior of DataFrame concatenation with empty or all-NA entries is deprecated. In a future version, this will no longer exclude empty or all-NA columns when determining the result dtypes. To retain the old behavior, exclude the relevant entries before the concat operation.\n",
      "\n"
     ]
    },
    {
     "name": "stdout",
     "output_type": "stream",
     "text": [
      "monthly_portfolio_return = 0.0868\n",
      "risk_free_return = 0.0096\n",
      "mark_date = datetime.date(2018, 6, 1)\n",
      "monthly_portfolio_return = -0.0187\n",
      "risk_free_return = 0.0023\n",
      "mark_date = datetime.date(2018, 7, 1)\n"
     ]
    },
    {
     "name": "stderr",
     "output_type": "stream",
     "text": [
      "/home/josh/Documents/GitHub/ropacea/ropacea/Single_factor.py:67: FutureWarning:\n",
      "\n",
      "The behavior of DataFrame concatenation with empty or all-NA entries is deprecated. In a future version, this will no longer exclude empty or all-NA columns when determining the result dtypes. To retain the old behavior, exclude the relevant entries before the concat operation.\n",
      "\n",
      "/home/josh/Documents/GitHub/ropacea/ropacea/Single_factor.py:67: FutureWarning:\n",
      "\n",
      "The behavior of DataFrame concatenation with empty or all-NA entries is deprecated. In a future version, this will no longer exclude empty or all-NA columns when determining the result dtypes. To retain the old behavior, exclude the relevant entries before the concat operation.\n",
      "\n"
     ]
    },
    {
     "name": "stdout",
     "output_type": "stream",
     "text": [
      "monthly_portfolio_return = 0.0245\n",
      "risk_free_return = -0.0051\n",
      "mark_date = datetime.date(2018, 8, 1)\n",
      "monthly_portfolio_return = 0.0782\n",
      "risk_free_return = 0.0101\n",
      "mark_date = datetime.date(2018, 9, 1)\n"
     ]
    },
    {
     "name": "stderr",
     "output_type": "stream",
     "text": [
      "/home/josh/Documents/GitHub/ropacea/ropacea/Single_factor.py:67: FutureWarning:\n",
      "\n",
      "The behavior of DataFrame concatenation with empty or all-NA entries is deprecated. In a future version, this will no longer exclude empty or all-NA columns when determining the result dtypes. To retain the old behavior, exclude the relevant entries before the concat operation.\n",
      "\n",
      "/home/josh/Documents/GitHub/ropacea/ropacea/Single_factor.py:67: FutureWarning:\n",
      "\n",
      "The behavior of DataFrame concatenation with empty or all-NA entries is deprecated. In a future version, this will no longer exclude empty or all-NA columns when determining the result dtypes. To retain the old behavior, exclude the relevant entries before the concat operation.\n",
      "\n"
     ]
    },
    {
     "name": "stdout",
     "output_type": "stream",
     "text": [
      "monthly_portfolio_return = 0.0043\n",
      "risk_free_return = -0.0148\n",
      "mark_date = datetime.date(2018, 10, 1)\n",
      "monthly_portfolio_return = -0.1152\n",
      "risk_free_return = -0.0043\n",
      "mark_date = datetime.date(2018, 11, 1)\n"
     ]
    },
    {
     "name": "stderr",
     "output_type": "stream",
     "text": [
      "/home/josh/Documents/GitHub/ropacea/ropacea/Single_factor.py:67: FutureWarning:\n",
      "\n",
      "The behavior of DataFrame concatenation with empty or all-NA entries is deprecated. In a future version, this will no longer exclude empty or all-NA columns when determining the result dtypes. To retain the old behavior, exclude the relevant entries before the concat operation.\n",
      "\n",
      "/home/josh/Documents/GitHub/ropacea/ropacea/Single_factor.py:67: FutureWarning:\n",
      "\n",
      "The behavior of DataFrame concatenation with empty or all-NA entries is deprecated. In a future version, this will no longer exclude empty or all-NA columns when determining the result dtypes. To retain the old behavior, exclude the relevant entries before the concat operation.\n",
      "\n"
     ]
    },
    {
     "name": "stdout",
     "output_type": "stream",
     "text": [
      "monthly_portfolio_return = -0.0329\n",
      "risk_free_return = 0.0149\n",
      "mark_date = datetime.date(2018, 12, 1)\n",
      "monthly_portfolio_return = -0.1027\n",
      "risk_free_return = 0.0286\n",
      "mark_date = datetime.date(2019, 1, 1)\n"
     ]
    },
    {
     "name": "stderr",
     "output_type": "stream",
     "text": [
      "/home/josh/Documents/GitHub/ropacea/ropacea/Single_factor.py:67: FutureWarning:\n",
      "\n",
      "The behavior of DataFrame concatenation with empty or all-NA entries is deprecated. In a future version, this will no longer exclude empty or all-NA columns when determining the result dtypes. To retain the old behavior, exclude the relevant entries before the concat operation.\n",
      "\n",
      "/home/josh/Documents/GitHub/ropacea/ropacea/Single_factor.py:67: FutureWarning:\n",
      "\n",
      "The behavior of DataFrame concatenation with empty or all-NA entries is deprecated. In a future version, this will no longer exclude empty or all-NA columns when determining the result dtypes. To retain the old behavior, exclude the relevant entries before the concat operation.\n",
      "\n"
     ]
    },
    {
     "name": "stdout",
     "output_type": "stream",
     "text": [
      "monthly_portfolio_return = 0.0696\n",
      "risk_free_return = 0.0071\n",
      "mark_date = datetime.date(2019, 2, 1)\n",
      "monthly_portfolio_return = 0.0662\n",
      "risk_free_return = -0.0043\n",
      "mark_date = datetime.date(2019, 3, 1)\n"
     ]
    },
    {
     "name": "stderr",
     "output_type": "stream",
     "text": [
      "/home/josh/Documents/GitHub/ropacea/ropacea/Single_factor.py:67: FutureWarning:\n",
      "\n",
      "The behavior of DataFrame concatenation with empty or all-NA entries is deprecated. In a future version, this will no longer exclude empty or all-NA columns when determining the result dtypes. To retain the old behavior, exclude the relevant entries before the concat operation.\n",
      "\n",
      "/home/josh/Documents/GitHub/ropacea/ropacea/Single_factor.py:67: FutureWarning:\n",
      "\n",
      "The behavior of DataFrame concatenation with empty or all-NA entries is deprecated. In a future version, this will no longer exclude empty or all-NA columns when determining the result dtypes. To retain the old behavior, exclude the relevant entries before the concat operation.\n",
      "\n"
     ]
    },
    {
     "name": "stdout",
     "output_type": "stream",
     "text": [
      "monthly_portfolio_return = 0.0638\n",
      "risk_free_return = 0.0294\n",
      "mark_date = datetime.date(2019, 4, 1)\n",
      "monthly_portfolio_return = 0.0699\n",
      "risk_free_return = -0.0062\n",
      "mark_date = datetime.date(2019, 5, 1)\n"
     ]
    },
    {
     "name": "stderr",
     "output_type": "stream",
     "text": [
      "/home/josh/Documents/GitHub/ropacea/ropacea/Single_factor.py:67: FutureWarning:\n",
      "\n",
      "The behavior of DataFrame concatenation with empty or all-NA entries is deprecated. In a future version, this will no longer exclude empty or all-NA columns when determining the result dtypes. To retain the old behavior, exclude the relevant entries before the concat operation.\n",
      "\n",
      "/home/josh/Documents/GitHub/ropacea/ropacea/Single_factor.py:67: FutureWarning:\n",
      "\n",
      "The behavior of DataFrame concatenation with empty or all-NA entries is deprecated. In a future version, this will no longer exclude empty or all-NA columns when determining the result dtypes. To retain the old behavior, exclude the relevant entries before the concat operation.\n",
      "\n"
     ]
    },
    {
     "name": "stdout",
     "output_type": "stream",
     "text": [
      "monthly_portfolio_return = -0.0833\n",
      "risk_free_return = 0.0319\n",
      "mark_date = datetime.date(2019, 6, 1)\n",
      "monthly_portfolio_return = 0.0918\n",
      "risk_free_return = 0.0121\n",
      "mark_date = datetime.date(2019, 7, 1)\n"
     ]
    },
    {
     "name": "stderr",
     "output_type": "stream",
     "text": [
      "/home/josh/Documents/GitHub/ropacea/ropacea/Single_factor.py:67: FutureWarning:\n",
      "\n",
      "The behavior of DataFrame concatenation with empty or all-NA entries is deprecated. In a future version, this will no longer exclude empty or all-NA columns when determining the result dtypes. To retain the old behavior, exclude the relevant entries before the concat operation.\n",
      "\n",
      "/home/josh/Documents/GitHub/ropacea/ropacea/Single_factor.py:67: FutureWarning:\n",
      "\n",
      "The behavior of DataFrame concatenation with empty or all-NA entries is deprecated. In a future version, this will no longer exclude empty or all-NA columns when determining the result dtypes. To retain the old behavior, exclude the relevant entries before the concat operation.\n",
      "\n"
     ]
    },
    {
     "name": "stdout",
     "output_type": "stream",
     "text": [
      "monthly_portfolio_return = 0.0283\n",
      "risk_free_return = 0.0034\n",
      "mark_date = datetime.date(2019, 8, 1)\n",
      "monthly_portfolio_return = -0.0063\n",
      "risk_free_return = 0.0403\n",
      "mark_date = datetime.date(2019, 9, 1)\n"
     ]
    },
    {
     "name": "stderr",
     "output_type": "stream",
     "text": [
      "/home/josh/Documents/GitHub/ropacea/ropacea/Single_factor.py:67: FutureWarning:\n",
      "\n",
      "The behavior of DataFrame concatenation with empty or all-NA entries is deprecated. In a future version, this will no longer exclude empty or all-NA columns when determining the result dtypes. To retain the old behavior, exclude the relevant entries before the concat operation.\n",
      "\n",
      "/home/josh/Documents/GitHub/ropacea/ropacea/Single_factor.py:67: FutureWarning:\n",
      "\n",
      "The behavior of DataFrame concatenation with empty or all-NA entries is deprecated. In a future version, this will no longer exclude empty or all-NA columns when determining the result dtypes. To retain the old behavior, exclude the relevant entries before the concat operation.\n",
      "\n"
     ]
    },
    {
     "name": "stdout",
     "output_type": "stream",
     "text": [
      "monthly_portfolio_return = -0.0043\n",
      "risk_free_return = -0.0139\n",
      "mark_date = datetime.date(2019, 10, 1)\n",
      "monthly_portfolio_return = 0.0234\n",
      "risk_free_return = -0.0007\n",
      "mark_date = datetime.date(2019, 11, 1)\n"
     ]
    },
    {
     "name": "stderr",
     "output_type": "stream",
     "text": [
      "/home/josh/Documents/GitHub/ropacea/ropacea/Single_factor.py:67: FutureWarning:\n",
      "\n",
      "The behavior of DataFrame concatenation with empty or all-NA entries is deprecated. In a future version, this will no longer exclude empty or all-NA columns when determining the result dtypes. To retain the old behavior, exclude the relevant entries before the concat operation.\n",
      "\n",
      "/home/josh/Documents/GitHub/ropacea/ropacea/Single_factor.py:67: FutureWarning:\n",
      "\n",
      "The behavior of DataFrame concatenation with empty or all-NA entries is deprecated. In a future version, this will no longer exclude empty or all-NA columns when determining the result dtypes. To retain the old behavior, exclude the relevant entries before the concat operation.\n",
      "\n"
     ]
    },
    {
     "name": "stdout",
     "output_type": "stream",
     "text": [
      "monthly_portfolio_return = 0.0710\n",
      "risk_free_return = -0.0074\n",
      "mark_date = datetime.date(2019, 12, 1)\n",
      "monthly_portfolio_return = 0.0530\n",
      "risk_free_return = -0.0113\n",
      "mark_date = datetime.date(2020, 1, 1)\n"
     ]
    },
    {
     "name": "stderr",
     "output_type": "stream",
     "text": [
      "/home/josh/Documents/GitHub/ropacea/ropacea/Single_factor.py:67: FutureWarning:\n",
      "\n",
      "The behavior of DataFrame concatenation with empty or all-NA entries is deprecated. In a future version, this will no longer exclude empty or all-NA columns when determining the result dtypes. To retain the old behavior, exclude the relevant entries before the concat operation.\n",
      "\n",
      "/home/josh/Documents/GitHub/ropacea/ropacea/Single_factor.py:67: FutureWarning:\n",
      "\n",
      "The behavior of DataFrame concatenation with empty or all-NA entries is deprecated. In a future version, this will no longer exclude empty or all-NA columns when determining the result dtypes. To retain the old behavior, exclude the relevant entries before the concat operation.\n",
      "\n"
     ]
    },
    {
     "name": "stdout",
     "output_type": "stream",
     "text": [
      "monthly_portfolio_return = 0.0471\n",
      "risk_free_return = 0.0392\n",
      "mark_date = datetime.date(2020, 2, 1)\n",
      "monthly_portfolio_return = -0.0320\n",
      "risk_free_return = 0.0299\n",
      "mark_date = datetime.date(2020, 3, 1)\n"
     ]
    },
    {
     "name": "stderr",
     "output_type": "stream",
     "text": [
      "/home/josh/Documents/GitHub/ropacea/ropacea/Single_factor.py:67: FutureWarning:\n",
      "\n",
      "The behavior of DataFrame concatenation with empty or all-NA entries is deprecated. In a future version, this will no longer exclude empty or all-NA columns when determining the result dtypes. To retain the old behavior, exclude the relevant entries before the concat operation.\n",
      "\n",
      "/home/josh/Documents/GitHub/ropacea/ropacea/Single_factor.py:67: FutureWarning:\n",
      "\n",
      "The behavior of DataFrame concatenation with empty or all-NA entries is deprecated. In a future version, this will no longer exclude empty or all-NA columns when determining the result dtypes. To retain the old behavior, exclude the relevant entries before the concat operation.\n",
      "\n"
     ]
    },
    {
     "name": "stdout",
     "output_type": "stream",
     "text": [
      "monthly_portfolio_return = -0.0905\n",
      "risk_free_return = 0.0397\n",
      "mark_date = datetime.date(2020, 4, 1)\n",
      "monthly_portfolio_return = 0.1315\n",
      "risk_free_return = 0.0050\n",
      "mark_date = datetime.date(2020, 5, 1)\n"
     ]
    },
    {
     "name": "stderr",
     "output_type": "stream",
     "text": [
      "/home/josh/Documents/GitHub/ropacea/ropacea/Single_factor.py:67: FutureWarning:\n",
      "\n",
      "The behavior of DataFrame concatenation with empty or all-NA entries is deprecated. In a future version, this will no longer exclude empty or all-NA columns when determining the result dtypes. To retain the old behavior, exclude the relevant entries before the concat operation.\n",
      "\n",
      "/home/josh/Documents/GitHub/ropacea/ropacea/Single_factor.py:67: FutureWarning:\n",
      "\n",
      "The behavior of DataFrame concatenation with empty or all-NA entries is deprecated. In a future version, this will no longer exclude empty or all-NA columns when determining the result dtypes. To retain the old behavior, exclude the relevant entries before the concat operation.\n",
      "\n"
     ]
    },
    {
     "name": "stdout",
     "output_type": "stream",
     "text": [
      "monthly_portfolio_return = 0.0677\n",
      "risk_free_return = 0.0007\n",
      "mark_date = datetime.date(2020, 6, 1)\n",
      "monthly_portfolio_return = 0.0720\n",
      "risk_free_return = 0.0004\n",
      "mark_date = datetime.date(2020, 7, 1)\n"
     ]
    },
    {
     "name": "stderr",
     "output_type": "stream",
     "text": [
      "/home/josh/Documents/GitHub/ropacea/ropacea/Single_factor.py:67: FutureWarning:\n",
      "\n",
      "The behavior of DataFrame concatenation with empty or all-NA entries is deprecated. In a future version, this will no longer exclude empty or all-NA columns when determining the result dtypes. To retain the old behavior, exclude the relevant entries before the concat operation.\n",
      "\n",
      "/home/josh/Documents/GitHub/ropacea/ropacea/Single_factor.py:67: FutureWarning:\n",
      "\n",
      "The behavior of DataFrame concatenation with empty or all-NA entries is deprecated. In a future version, this will no longer exclude empty or all-NA columns when determining the result dtypes. To retain the old behavior, exclude the relevant entries before the concat operation.\n",
      "\n"
     ]
    },
    {
     "name": "stdout",
     "output_type": "stream",
     "text": [
      "monthly_portfolio_return = 0.0444\n",
      "risk_free_return = 0.0128\n",
      "mark_date = datetime.date(2020, 8, 1)\n",
      "monthly_portfolio_return = 0.1282\n",
      "risk_free_return = -0.0147\n",
      "mark_date = datetime.date(2020, 9, 1)\n"
     ]
    },
    {
     "name": "stderr",
     "output_type": "stream",
     "text": [
      "/home/josh/Documents/GitHub/ropacea/ropacea/Single_factor.py:67: FutureWarning:\n",
      "\n",
      "The behavior of DataFrame concatenation with empty or all-NA entries is deprecated. In a future version, this will no longer exclude empty or all-NA columns when determining the result dtypes. To retain the old behavior, exclude the relevant entries before the concat operation.\n",
      "\n",
      "/home/josh/Documents/GitHub/ropacea/ropacea/Single_factor.py:67: FutureWarning:\n",
      "\n",
      "The behavior of DataFrame concatenation with empty or all-NA entries is deprecated. In a future version, this will no longer exclude empty or all-NA columns when determining the result dtypes. To retain the old behavior, exclude the relevant entries before the concat operation.\n",
      "\n"
     ]
    },
    {
     "name": "stdout",
     "output_type": "stream",
     "text": [
      "monthly_portfolio_return = -0.0360\n",
      "risk_free_return = 0.0026\n",
      "mark_date = datetime.date(2020, 10, 1)\n",
      "monthly_portfolio_return = -0.0507\n",
      "risk_free_return = -0.0173\n",
      "mark_date = datetime.date(2020, 11, 1)\n"
     ]
    },
    {
     "name": "stderr",
     "output_type": "stream",
     "text": [
      "/home/josh/Documents/GitHub/ropacea/ropacea/Single_factor.py:67: FutureWarning:\n",
      "\n",
      "The behavior of DataFrame concatenation with empty or all-NA entries is deprecated. In a future version, this will no longer exclude empty or all-NA columns when determining the result dtypes. To retain the old behavior, exclude the relevant entries before the concat operation.\n",
      "\n",
      "/home/josh/Documents/GitHub/ropacea/ropacea/Single_factor.py:67: FutureWarning:\n",
      "\n",
      "The behavior of DataFrame concatenation with empty or all-NA entries is deprecated. In a future version, this will no longer exclude empty or all-NA columns when determining the result dtypes. To retain the old behavior, exclude the relevant entries before the concat operation.\n",
      "\n"
     ]
    },
    {
     "name": "stdout",
     "output_type": "stream",
     "text": [
      "monthly_portfolio_return = 0.0715\n",
      "risk_free_return = 0.0040\n",
      "mark_date = datetime.date(2020, 12, 1)\n",
      "monthly_portfolio_return = 0.0344\n",
      "risk_free_return = -0.0050\n",
      "mark_date = datetime.date(2021, 1, 1)\n"
     ]
    },
    {
     "name": "stderr",
     "output_type": "stream",
     "text": [
      "/home/josh/Documents/GitHub/ropacea/ropacea/Single_factor.py:67: FutureWarning:\n",
      "\n",
      "The behavior of DataFrame concatenation with empty or all-NA entries is deprecated. In a future version, this will no longer exclude empty or all-NA columns when determining the result dtypes. To retain the old behavior, exclude the relevant entries before the concat operation.\n",
      "\n",
      "/home/josh/Documents/GitHub/ropacea/ropacea/Single_factor.py:67: FutureWarning:\n",
      "\n",
      "The behavior of DataFrame concatenation with empty or all-NA entries is deprecated. In a future version, this will no longer exclude empty or all-NA columns when determining the result dtypes. To retain the old behavior, exclude the relevant entries before the concat operation.\n",
      "\n"
     ]
    },
    {
     "name": "stdout",
     "output_type": "stream",
     "text": [
      "monthly_portfolio_return = -0.0218\n",
      "risk_free_return = -0.0107\n",
      "mark_date = datetime.date(2021, 2, 1)\n",
      "monthly_portfolio_return = 0.0092\n",
      "risk_free_return = -0.0254\n",
      "mark_date = datetime.date(2021, 3, 1)\n"
     ]
    },
    {
     "name": "stderr",
     "output_type": "stream",
     "text": [
      "/home/josh/Documents/GitHub/ropacea/ropacea/Single_factor.py:67: FutureWarning:\n",
      "\n",
      "The behavior of DataFrame concatenation with empty or all-NA entries is deprecated. In a future version, this will no longer exclude empty or all-NA columns when determining the result dtypes. To retain the old behavior, exclude the relevant entries before the concat operation.\n",
      "\n",
      "/home/josh/Documents/GitHub/ropacea/ropacea/Single_factor.py:67: FutureWarning:\n",
      "\n",
      "The behavior of DataFrame concatenation with empty or all-NA entries is deprecated. In a future version, this will no longer exclude empty or all-NA columns when determining the result dtypes. To retain the old behavior, exclude the relevant entries before the concat operation.\n",
      "\n"
     ]
    },
    {
     "name": "stdout",
     "output_type": "stream",
     "text": [
      "monthly_portfolio_return = 0.0107\n",
      "risk_free_return = -0.0293\n",
      "mark_date = datetime.date(2021, 4, 1)\n",
      "monthly_portfolio_return = 0.0788\n",
      "risk_free_return = 0.0119\n",
      "mark_date = datetime.date(2021, 5, 1)\n"
     ]
    },
    {
     "name": "stderr",
     "output_type": "stream",
     "text": [
      "/home/josh/Documents/GitHub/ropacea/ropacea/Single_factor.py:67: FutureWarning:\n",
      "\n",
      "The behavior of DataFrame concatenation with empty or all-NA entries is deprecated. In a future version, this will no longer exclude empty or all-NA columns when determining the result dtypes. To retain the old behavior, exclude the relevant entries before the concat operation.\n",
      "\n",
      "/home/josh/Documents/GitHub/ropacea/ropacea/Single_factor.py:67: FutureWarning:\n",
      "\n",
      "The behavior of DataFrame concatenation with empty or all-NA entries is deprecated. In a future version, this will no longer exclude empty or all-NA columns when determining the result dtypes. To retain the old behavior, exclude the relevant entries before the concat operation.\n",
      "\n"
     ]
    },
    {
     "name": "stdout",
     "output_type": "stream",
     "text": [
      "monthly_portfolio_return = -0.0019\n",
      "risk_free_return = 0.0034\n",
      "mark_date = datetime.date(2021, 6, 1)\n",
      "monthly_portfolio_return = 0.1281\n",
      "risk_free_return = 0.0141\n",
      "mark_date = datetime.date(2021, 7, 1)\n"
     ]
    },
    {
     "name": "stderr",
     "output_type": "stream",
     "text": [
      "/home/josh/Documents/GitHub/ropacea/ropacea/Single_factor.py:67: FutureWarning:\n",
      "\n",
      "The behavior of DataFrame concatenation with empty or all-NA entries is deprecated. In a future version, this will no longer exclude empty or all-NA columns when determining the result dtypes. To retain the old behavior, exclude the relevant entries before the concat operation.\n",
      "\n",
      "/home/josh/Documents/GitHub/ropacea/ropacea/Single_factor.py:67: FutureWarning:\n",
      "\n",
      "The behavior of DataFrame concatenation with empty or all-NA entries is deprecated. In a future version, this will no longer exclude empty or all-NA columns when determining the result dtypes. To retain the old behavior, exclude the relevant entries before the concat operation.\n",
      "\n"
     ]
    },
    {
     "name": "stdout",
     "output_type": "stream",
     "text": [
      "monthly_portfolio_return = 0.0409\n",
      "risk_free_return = 0.0238\n",
      "mark_date = datetime.date(2021, 8, 1)\n",
      "monthly_portfolio_return = 0.0599\n",
      "risk_free_return = -0.0048\n",
      "mark_date = datetime.date(2021, 9, 1)\n"
     ]
    },
    {
     "name": "stderr",
     "output_type": "stream",
     "text": [
      "/home/josh/Documents/GitHub/ropacea/ropacea/Single_factor.py:67: FutureWarning:\n",
      "\n",
      "The behavior of DataFrame concatenation with empty or all-NA entries is deprecated. In a future version, this will no longer exclude empty or all-NA columns when determining the result dtypes. To retain the old behavior, exclude the relevant entries before the concat operation.\n",
      "\n",
      "/home/josh/Documents/GitHub/ropacea/ropacea/Single_factor.py:67: FutureWarning:\n",
      "\n",
      "The behavior of DataFrame concatenation with empty or all-NA entries is deprecated. In a future version, this will no longer exclude empty or all-NA columns when determining the result dtypes. To retain the old behavior, exclude the relevant entries before the concat operation.\n",
      "\n"
     ]
    },
    {
     "name": "stdout",
     "output_type": "stream",
     "text": [
      "monthly_portfolio_return = -0.0820\n",
      "risk_free_return = -0.0154\n",
      "mark_date = datetime.date(2021, 10, 1)\n",
      "monthly_portfolio_return = 0.1535\n",
      "risk_free_return = -0.0049\n",
      "mark_date = datetime.date(2021, 11, 1)\n"
     ]
    },
    {
     "name": "stderr",
     "output_type": "stream",
     "text": [
      "/home/josh/Documents/GitHub/ropacea/ropacea/Single_factor.py:67: FutureWarning:\n",
      "\n",
      "The behavior of DataFrame concatenation with empty or all-NA entries is deprecated. In a future version, this will no longer exclude empty or all-NA columns when determining the result dtypes. To retain the old behavior, exclude the relevant entries before the concat operation.\n",
      "\n",
      "/home/josh/Documents/GitHub/ropacea/ropacea/Single_factor.py:67: FutureWarning:\n",
      "\n",
      "The behavior of DataFrame concatenation with empty or all-NA entries is deprecated. In a future version, this will no longer exclude empty or all-NA columns when determining the result dtypes. To retain the old behavior, exclude the relevant entries before the concat operation.\n",
      "\n"
     ]
    },
    {
     "name": "stdout",
     "output_type": "stream",
     "text": [
      "monthly_portfolio_return = 0.0781\n",
      "risk_free_return = 0.0125\n",
      "mark_date = datetime.date(2021, 12, 1)\n",
      "monthly_portfolio_return = -0.0224\n",
      "risk_free_return = -0.0047\n",
      "========== SUMMARY ==========\n",
      "monthly_returns_bp_mean = 266.60\n",
      "monthly_returns_bp_std = 648.88\n",
      "annualized_mean_pct = 37.13\n",
      "annualized_std_pct = 22.48\n",
      "sharpe_ratio = 1.65\n",
      "mark_date = datetime.date(2017, 1, 1)\n"
     ]
    },
    {
     "name": "stderr",
     "output_type": "stream",
     "text": [
      "/home/josh/Documents/GitHub/ropacea/ropacea/Single_factor.py:67: FutureWarning:\n",
      "\n",
      "The behavior of DataFrame concatenation with empty or all-NA entries is deprecated. In a future version, this will no longer exclude empty or all-NA columns when determining the result dtypes. To retain the old behavior, exclude the relevant entries before the concat operation.\n",
      "\n",
      "/home/josh/Documents/GitHub/ropacea/ropacea/Single_factor.py:67: FutureWarning:\n",
      "\n",
      "The behavior of DataFrame concatenation with empty or all-NA entries is deprecated. In a future version, this will no longer exclude empty or all-NA columns when determining the result dtypes. To retain the old behavior, exclude the relevant entries before the concat operation.\n",
      "\n"
     ]
    },
    {
     "name": "stdout",
     "output_type": "stream",
     "text": [
      "monthly_portfolio_return = 0.0437\n",
      "risk_free_return = 0.0022\n",
      "mark_date = datetime.date(2017, 2, 1)\n",
      "monthly_portfolio_return = 0.0019\n",
      "risk_free_return = 0.0074\n",
      "mark_date = datetime.date(2017, 3, 1)\n"
     ]
    },
    {
     "name": "stderr",
     "output_type": "stream",
     "text": [
      "/home/josh/Documents/GitHub/ropacea/ropacea/Single_factor.py:67: FutureWarning:\n",
      "\n",
      "The behavior of DataFrame concatenation with empty or all-NA entries is deprecated. In a future version, this will no longer exclude empty or all-NA columns when determining the result dtypes. To retain the old behavior, exclude the relevant entries before the concat operation.\n",
      "\n",
      "/home/josh/Documents/GitHub/ropacea/ropacea/Single_factor.py:67: FutureWarning:\n",
      "\n",
      "The behavior of DataFrame concatenation with empty or all-NA entries is deprecated. In a future version, this will no longer exclude empty or all-NA columns when determining the result dtypes. To retain the old behavior, exclude the relevant entries before the concat operation.\n",
      "\n"
     ]
    },
    {
     "name": "stdout",
     "output_type": "stream",
     "text": [
      "monthly_portfolio_return = 0.0506\n",
      "risk_free_return = 0.0024\n",
      "mark_date = datetime.date(2017, 4, 1)\n",
      "monthly_portfolio_return = -0.0022\n",
      "risk_free_return = 0.0111\n",
      "mark_date = datetime.date(2017, 5, 1)\n"
     ]
    },
    {
     "name": "stderr",
     "output_type": "stream",
     "text": [
      "/home/josh/Documents/GitHub/ropacea/ropacea/Single_factor.py:67: FutureWarning:\n",
      "\n",
      "The behavior of DataFrame concatenation with empty or all-NA entries is deprecated. In a future version, this will no longer exclude empty or all-NA columns when determining the result dtypes. To retain the old behavior, exclude the relevant entries before the concat operation.\n",
      "\n",
      "/home/josh/Documents/GitHub/ropacea/ropacea/Single_factor.py:67: FutureWarning:\n",
      "\n",
      "The behavior of DataFrame concatenation with empty or all-NA entries is deprecated. In a future version, this will no longer exclude empty or all-NA columns when determining the result dtypes. To retain the old behavior, exclude the relevant entries before the concat operation.\n",
      "\n"
     ]
    },
    {
     "name": "stdout",
     "output_type": "stream",
     "text": [
      "monthly_portfolio_return = 0.1348\n",
      "risk_free_return = 0.0079\n",
      "mark_date = datetime.date(2017, 6, 1)\n",
      "monthly_portfolio_return = -0.0056\n",
      "risk_free_return = -0.0013\n",
      "mark_date = datetime.date(2017, 7, 1)\n"
     ]
    },
    {
     "name": "stderr",
     "output_type": "stream",
     "text": [
      "/home/josh/Documents/GitHub/ropacea/ropacea/Single_factor.py:67: FutureWarning:\n",
      "\n",
      "The behavior of DataFrame concatenation with empty or all-NA entries is deprecated. In a future version, this will no longer exclude empty or all-NA columns when determining the result dtypes. To retain the old behavior, exclude the relevant entries before the concat operation.\n",
      "\n",
      "/home/josh/Documents/GitHub/ropacea/ropacea/Single_factor.py:67: FutureWarning:\n",
      "\n",
      "The behavior of DataFrame concatenation with empty or all-NA entries is deprecated. In a future version, this will no longer exclude empty or all-NA columns when determining the result dtypes. To retain the old behavior, exclude the relevant entries before the concat operation.\n",
      "\n"
     ]
    },
    {
     "name": "stdout",
     "output_type": "stream",
     "text": [
      "monthly_portfolio_return = 0.0594\n",
      "risk_free_return = -0.0000\n",
      "mark_date = datetime.date(2017, 8, 1)\n",
      "monthly_portfolio_return = 0.0355\n",
      "risk_free_return = 0.0171\n",
      "mark_date = datetime.date(2017, 9, 1)\n"
     ]
    },
    {
     "name": "stderr",
     "output_type": "stream",
     "text": [
      "/home/josh/Documents/GitHub/ropacea/ropacea/Single_factor.py:67: FutureWarning:\n",
      "\n",
      "The behavior of DataFrame concatenation with empty or all-NA entries is deprecated. In a future version, this will no longer exclude empty or all-NA columns when determining the result dtypes. To retain the old behavior, exclude the relevant entries before the concat operation.\n",
      "\n",
      "/home/josh/Documents/GitHub/ropacea/ropacea/Single_factor.py:67: FutureWarning:\n",
      "\n",
      "The behavior of DataFrame concatenation with empty or all-NA entries is deprecated. In a future version, this will no longer exclude empty or all-NA columns when determining the result dtypes. To retain the old behavior, exclude the relevant entries before the concat operation.\n",
      "\n"
     ]
    },
    {
     "name": "stdout",
     "output_type": "stream",
     "text": [
      "monthly_portfolio_return = 0.0299\n",
      "risk_free_return = -0.0172\n",
      "mark_date = datetime.date(2017, 10, 1)\n",
      "monthly_portfolio_return = 0.1176\n",
      "risk_free_return = -0.0011\n",
      "mark_date = datetime.date(2017, 11, 1)\n"
     ]
    },
    {
     "name": "stderr",
     "output_type": "stream",
     "text": [
      "/home/josh/Documents/GitHub/ropacea/ropacea/Single_factor.py:67: FutureWarning:\n",
      "\n",
      "The behavior of DataFrame concatenation with empty or all-NA entries is deprecated. In a future version, this will no longer exclude empty or all-NA columns when determining the result dtypes. To retain the old behavior, exclude the relevant entries before the concat operation.\n",
      "\n",
      "/home/josh/Documents/GitHub/ropacea/ropacea/Single_factor.py:67: FutureWarning:\n",
      "\n",
      "The behavior of DataFrame concatenation with empty or all-NA entries is deprecated. In a future version, this will no longer exclude empty or all-NA columns when determining the result dtypes. To retain the old behavior, exclude the relevant entries before the concat operation.\n",
      "\n"
     ]
    },
    {
     "name": "stdout",
     "output_type": "stream",
     "text": [
      "monthly_portfolio_return = 0.0089\n",
      "risk_free_return = -0.0026\n",
      "mark_date = datetime.date(2017, 12, 1)\n",
      "monthly_portfolio_return = 0.0059\n",
      "risk_free_return = 0.0022\n",
      "mark_date = datetime.date(2018, 1, 1)\n"
     ]
    },
    {
     "name": "stderr",
     "output_type": "stream",
     "text": [
      "/home/josh/Documents/GitHub/ropacea/ropacea/Single_factor.py:67: FutureWarning:\n",
      "\n",
      "The behavior of DataFrame concatenation with empty or all-NA entries is deprecated. In a future version, this will no longer exclude empty or all-NA columns when determining the result dtypes. To retain the old behavior, exclude the relevant entries before the concat operation.\n",
      "\n",
      "/home/josh/Documents/GitHub/ropacea/ropacea/Single_factor.py:67: FutureWarning:\n",
      "\n",
      "The behavior of DataFrame concatenation with empty or all-NA entries is deprecated. In a future version, this will no longer exclude empty or all-NA columns when determining the result dtypes. To retain the old behavior, exclude the relevant entries before the concat operation.\n",
      "\n"
     ]
    },
    {
     "name": "stdout",
     "output_type": "stream",
     "text": [
      "monthly_portfolio_return = 0.1441\n",
      "risk_free_return = -0.0236\n",
      "mark_date = datetime.date(2018, 2, 1)\n",
      "monthly_portfolio_return = 0.0098\n",
      "risk_free_return = -0.0130\n",
      "mark_date = datetime.date(2018, 3, 1)\n"
     ]
    },
    {
     "name": "stderr",
     "output_type": "stream",
     "text": [
      "/home/josh/Documents/GitHub/ropacea/ropacea/Single_factor.py:67: FutureWarning:\n",
      "\n",
      "The behavior of DataFrame concatenation with empty or all-NA entries is deprecated. In a future version, this will no longer exclude empty or all-NA columns when determining the result dtypes. To retain the old behavior, exclude the relevant entries before the concat operation.\n",
      "\n",
      "/home/josh/Documents/GitHub/ropacea/ropacea/Single_factor.py:67: FutureWarning:\n",
      "\n",
      "The behavior of DataFrame concatenation with empty or all-NA entries is deprecated. In a future version, this will no longer exclude empty or all-NA columns when determining the result dtypes. To retain the old behavior, exclude the relevant entries before the concat operation.\n",
      "\n"
     ]
    },
    {
     "name": "stdout",
     "output_type": "stream",
     "text": [
      "monthly_portfolio_return = -0.0182\n",
      "risk_free_return = 0.0128\n",
      "mark_date = datetime.date(2018, 4, 1)\n",
      "monthly_portfolio_return = -0.0003\n",
      "risk_free_return = -0.0155\n",
      "mark_date = datetime.date(2018, 5, 1)\n"
     ]
    },
    {
     "name": "stderr",
     "output_type": "stream",
     "text": [
      "/home/josh/Documents/GitHub/ropacea/ropacea/Single_factor.py:67: FutureWarning:\n",
      "\n",
      "The behavior of DataFrame concatenation with empty or all-NA entries is deprecated. In a future version, this will no longer exclude empty or all-NA columns when determining the result dtypes. To retain the old behavior, exclude the relevant entries before the concat operation.\n",
      "\n",
      "/home/josh/Documents/GitHub/ropacea/ropacea/Single_factor.py:67: FutureWarning:\n",
      "\n",
      "The behavior of DataFrame concatenation with empty or all-NA entries is deprecated. In a future version, this will no longer exclude empty or all-NA columns when determining the result dtypes. To retain the old behavior, exclude the relevant entries before the concat operation.\n",
      "\n"
     ]
    },
    {
     "name": "stdout",
     "output_type": "stream",
     "text": [
      "monthly_portfolio_return = 0.0919\n",
      "risk_free_return = 0.0096\n",
      "mark_date = datetime.date(2018, 6, 1)\n",
      "monthly_portfolio_return = -0.0188\n",
      "risk_free_return = 0.0023\n",
      "mark_date = datetime.date(2018, 7, 1)\n"
     ]
    },
    {
     "name": "stderr",
     "output_type": "stream",
     "text": [
      "/home/josh/Documents/GitHub/ropacea/ropacea/Single_factor.py:67: FutureWarning:\n",
      "\n",
      "The behavior of DataFrame concatenation with empty or all-NA entries is deprecated. In a future version, this will no longer exclude empty or all-NA columns when determining the result dtypes. To retain the old behavior, exclude the relevant entries before the concat operation.\n",
      "\n",
      "/home/josh/Documents/GitHub/ropacea/ropacea/Single_factor.py:67: FutureWarning:\n",
      "\n",
      "The behavior of DataFrame concatenation with empty or all-NA entries is deprecated. In a future version, this will no longer exclude empty or all-NA columns when determining the result dtypes. To retain the old behavior, exclude the relevant entries before the concat operation.\n",
      "\n"
     ]
    },
    {
     "name": "stdout",
     "output_type": "stream",
     "text": [
      "monthly_portfolio_return = 0.0222\n",
      "risk_free_return = -0.0051\n",
      "mark_date = datetime.date(2018, 8, 1)\n",
      "monthly_portfolio_return = 0.0835\n",
      "risk_free_return = 0.0101\n",
      "mark_date = datetime.date(2018, 9, 1)\n"
     ]
    },
    {
     "name": "stderr",
     "output_type": "stream",
     "text": [
      "/home/josh/Documents/GitHub/ropacea/ropacea/Single_factor.py:67: FutureWarning:\n",
      "\n",
      "The behavior of DataFrame concatenation with empty or all-NA entries is deprecated. In a future version, this will no longer exclude empty or all-NA columns when determining the result dtypes. To retain the old behavior, exclude the relevant entries before the concat operation.\n",
      "\n",
      "/home/josh/Documents/GitHub/ropacea/ropacea/Single_factor.py:67: FutureWarning:\n",
      "\n",
      "The behavior of DataFrame concatenation with empty or all-NA entries is deprecated. In a future version, this will no longer exclude empty or all-NA columns when determining the result dtypes. To retain the old behavior, exclude the relevant entries before the concat operation.\n",
      "\n"
     ]
    },
    {
     "name": "stdout",
     "output_type": "stream",
     "text": [
      "monthly_portfolio_return = 0.0062\n",
      "risk_free_return = -0.0148\n",
      "mark_date = datetime.date(2018, 10, 1)\n",
      "monthly_portfolio_return = -0.1205\n",
      "risk_free_return = -0.0043\n",
      "mark_date = datetime.date(2018, 11, 1)\n"
     ]
    },
    {
     "name": "stderr",
     "output_type": "stream",
     "text": [
      "/home/josh/Documents/GitHub/ropacea/ropacea/Single_factor.py:67: FutureWarning:\n",
      "\n",
      "The behavior of DataFrame concatenation with empty or all-NA entries is deprecated. In a future version, this will no longer exclude empty or all-NA columns when determining the result dtypes. To retain the old behavior, exclude the relevant entries before the concat operation.\n",
      "\n",
      "/home/josh/Documents/GitHub/ropacea/ropacea/Single_factor.py:67: FutureWarning:\n",
      "\n",
      "The behavior of DataFrame concatenation with empty or all-NA entries is deprecated. In a future version, this will no longer exclude empty or all-NA columns when determining the result dtypes. To retain the old behavior, exclude the relevant entries before the concat operation.\n",
      "\n"
     ]
    },
    {
     "name": "stdout",
     "output_type": "stream",
     "text": [
      "monthly_portfolio_return = -0.0418\n",
      "risk_free_return = 0.0149\n",
      "mark_date = datetime.date(2018, 12, 1)\n",
      "monthly_portfolio_return = -0.1075\n",
      "risk_free_return = 0.0286\n",
      "mark_date = datetime.date(2019, 1, 1)\n"
     ]
    },
    {
     "name": "stderr",
     "output_type": "stream",
     "text": [
      "/home/josh/Documents/GitHub/ropacea/ropacea/Single_factor.py:67: FutureWarning:\n",
      "\n",
      "The behavior of DataFrame concatenation with empty or all-NA entries is deprecated. In a future version, this will no longer exclude empty or all-NA columns when determining the result dtypes. To retain the old behavior, exclude the relevant entries before the concat operation.\n",
      "\n",
      "/home/josh/Documents/GitHub/ropacea/ropacea/Single_factor.py:67: FutureWarning:\n",
      "\n",
      "The behavior of DataFrame concatenation with empty or all-NA entries is deprecated. In a future version, this will no longer exclude empty or all-NA columns when determining the result dtypes. To retain the old behavior, exclude the relevant entries before the concat operation.\n",
      "\n"
     ]
    },
    {
     "name": "stdout",
     "output_type": "stream",
     "text": [
      "monthly_portfolio_return = 0.0694\n",
      "risk_free_return = 0.0071\n",
      "mark_date = datetime.date(2019, 2, 1)\n",
      "monthly_portfolio_return = 0.0663\n",
      "risk_free_return = -0.0043\n",
      "mark_date = datetime.date(2019, 3, 1)\n"
     ]
    },
    {
     "name": "stderr",
     "output_type": "stream",
     "text": [
      "/home/josh/Documents/GitHub/ropacea/ropacea/Single_factor.py:67: FutureWarning:\n",
      "\n",
      "The behavior of DataFrame concatenation with empty or all-NA entries is deprecated. In a future version, this will no longer exclude empty or all-NA columns when determining the result dtypes. To retain the old behavior, exclude the relevant entries before the concat operation.\n",
      "\n",
      "/home/josh/Documents/GitHub/ropacea/ropacea/Single_factor.py:67: FutureWarning:\n",
      "\n",
      "The behavior of DataFrame concatenation with empty or all-NA entries is deprecated. In a future version, this will no longer exclude empty or all-NA columns when determining the result dtypes. To retain the old behavior, exclude the relevant entries before the concat operation.\n",
      "\n"
     ]
    },
    {
     "name": "stdout",
     "output_type": "stream",
     "text": [
      "monthly_portfolio_return = 0.0686\n",
      "risk_free_return = 0.0294\n",
      "mark_date = datetime.date(2019, 4, 1)\n",
      "monthly_portfolio_return = 0.0677\n",
      "risk_free_return = -0.0062\n",
      "mark_date = datetime.date(2019, 5, 1)\n"
     ]
    },
    {
     "name": "stderr",
     "output_type": "stream",
     "text": [
      "/home/josh/Documents/GitHub/ropacea/ropacea/Single_factor.py:67: FutureWarning:\n",
      "\n",
      "The behavior of DataFrame concatenation with empty or all-NA entries is deprecated. In a future version, this will no longer exclude empty or all-NA columns when determining the result dtypes. To retain the old behavior, exclude the relevant entries before the concat operation.\n",
      "\n",
      "/home/josh/Documents/GitHub/ropacea/ropacea/Single_factor.py:67: FutureWarning:\n",
      "\n",
      "The behavior of DataFrame concatenation with empty or all-NA entries is deprecated. In a future version, this will no longer exclude empty or all-NA columns when determining the result dtypes. To retain the old behavior, exclude the relevant entries before the concat operation.\n",
      "\n"
     ]
    },
    {
     "name": "stdout",
     "output_type": "stream",
     "text": [
      "monthly_portfolio_return = -0.0867\n",
      "risk_free_return = 0.0319\n",
      "mark_date = datetime.date(2019, 6, 1)\n",
      "monthly_portfolio_return = 0.0950\n",
      "risk_free_return = 0.0121\n",
      "mark_date = datetime.date(2019, 7, 1)\n"
     ]
    },
    {
     "name": "stderr",
     "output_type": "stream",
     "text": [
      "/home/josh/Documents/GitHub/ropacea/ropacea/Single_factor.py:67: FutureWarning:\n",
      "\n",
      "The behavior of DataFrame concatenation with empty or all-NA entries is deprecated. In a future version, this will no longer exclude empty or all-NA columns when determining the result dtypes. To retain the old behavior, exclude the relevant entries before the concat operation.\n",
      "\n",
      "/home/josh/Documents/GitHub/ropacea/ropacea/Single_factor.py:67: FutureWarning:\n",
      "\n",
      "The behavior of DataFrame concatenation with empty or all-NA entries is deprecated. In a future version, this will no longer exclude empty or all-NA columns when determining the result dtypes. To retain the old behavior, exclude the relevant entries before the concat operation.\n",
      "\n"
     ]
    },
    {
     "name": "stdout",
     "output_type": "stream",
     "text": [
      "monthly_portfolio_return = 0.0254\n",
      "risk_free_return = 0.0034\n",
      "mark_date = datetime.date(2019, 8, 1)\n",
      "monthly_portfolio_return = -0.0043\n",
      "risk_free_return = 0.0403\n",
      "mark_date = datetime.date(2019, 9, 1)\n"
     ]
    },
    {
     "name": "stderr",
     "output_type": "stream",
     "text": [
      "/home/josh/Documents/GitHub/ropacea/ropacea/Single_factor.py:67: FutureWarning:\n",
      "\n",
      "The behavior of DataFrame concatenation with empty or all-NA entries is deprecated. In a future version, this will no longer exclude empty or all-NA columns when determining the result dtypes. To retain the old behavior, exclude the relevant entries before the concat operation.\n",
      "\n",
      "/home/josh/Documents/GitHub/ropacea/ropacea/Single_factor.py:67: FutureWarning:\n",
      "\n",
      "The behavior of DataFrame concatenation with empty or all-NA entries is deprecated. In a future version, this will no longer exclude empty or all-NA columns when determining the result dtypes. To retain the old behavior, exclude the relevant entries before the concat operation.\n",
      "\n"
     ]
    },
    {
     "name": "stdout",
     "output_type": "stream",
     "text": [
      "monthly_portfolio_return = -0.0057\n",
      "risk_free_return = -0.0139\n",
      "mark_date = datetime.date(2019, 10, 1)\n",
      "monthly_portfolio_return = 0.0306\n",
      "risk_free_return = -0.0007\n",
      "mark_date = datetime.date(2019, 11, 1)\n"
     ]
    },
    {
     "name": "stderr",
     "output_type": "stream",
     "text": [
      "/home/josh/Documents/GitHub/ropacea/ropacea/Single_factor.py:67: FutureWarning:\n",
      "\n",
      "The behavior of DataFrame concatenation with empty or all-NA entries is deprecated. In a future version, this will no longer exclude empty or all-NA columns when determining the result dtypes. To retain the old behavior, exclude the relevant entries before the concat operation.\n",
      "\n",
      "/home/josh/Documents/GitHub/ropacea/ropacea/Single_factor.py:67: FutureWarning:\n",
      "\n",
      "The behavior of DataFrame concatenation with empty or all-NA entries is deprecated. In a future version, this will no longer exclude empty or all-NA columns when determining the result dtypes. To retain the old behavior, exclude the relevant entries before the concat operation.\n",
      "\n"
     ]
    },
    {
     "name": "stdout",
     "output_type": "stream",
     "text": [
      "monthly_portfolio_return = 0.0745\n",
      "risk_free_return = -0.0074\n",
      "mark_date = datetime.date(2019, 12, 1)\n",
      "monthly_portfolio_return = 0.0529\n",
      "risk_free_return = -0.0113\n",
      "mark_date = datetime.date(2020, 1, 1)\n"
     ]
    },
    {
     "name": "stderr",
     "output_type": "stream",
     "text": [
      "/home/josh/Documents/GitHub/ropacea/ropacea/Single_factor.py:67: FutureWarning:\n",
      "\n",
      "The behavior of DataFrame concatenation with empty or all-NA entries is deprecated. In a future version, this will no longer exclude empty or all-NA columns when determining the result dtypes. To retain the old behavior, exclude the relevant entries before the concat operation.\n",
      "\n",
      "/home/josh/Documents/GitHub/ropacea/ropacea/Single_factor.py:67: FutureWarning:\n",
      "\n",
      "The behavior of DataFrame concatenation with empty or all-NA entries is deprecated. In a future version, this will no longer exclude empty or all-NA columns when determining the result dtypes. To retain the old behavior, exclude the relevant entries before the concat operation.\n",
      "\n"
     ]
    },
    {
     "name": "stdout",
     "output_type": "stream",
     "text": [
      "monthly_portfolio_return = 0.0519\n",
      "risk_free_return = 0.0392\n",
      "mark_date = datetime.date(2020, 2, 1)\n",
      "monthly_portfolio_return = -0.0241\n",
      "risk_free_return = 0.0299\n",
      "mark_date = datetime.date(2020, 3, 1)\n"
     ]
    },
    {
     "name": "stderr",
     "output_type": "stream",
     "text": [
      "/home/josh/Documents/GitHub/ropacea/ropacea/Single_factor.py:67: FutureWarning:\n",
      "\n",
      "The behavior of DataFrame concatenation with empty or all-NA entries is deprecated. In a future version, this will no longer exclude empty or all-NA columns when determining the result dtypes. To retain the old behavior, exclude the relevant entries before the concat operation.\n",
      "\n",
      "/home/josh/Documents/GitHub/ropacea/ropacea/Single_factor.py:67: FutureWarning:\n",
      "\n",
      "The behavior of DataFrame concatenation with empty or all-NA entries is deprecated. In a future version, this will no longer exclude empty or all-NA columns when determining the result dtypes. To retain the old behavior, exclude the relevant entries before the concat operation.\n",
      "\n"
     ]
    },
    {
     "name": "stdout",
     "output_type": "stream",
     "text": [
      "monthly_portfolio_return = -0.0894\n",
      "risk_free_return = 0.0397\n",
      "mark_date = datetime.date(2020, 4, 1)\n",
      "monthly_portfolio_return = 0.1321\n",
      "risk_free_return = 0.0050\n",
      "mark_date = datetime.date(2020, 5, 1)\n"
     ]
    },
    {
     "name": "stderr",
     "output_type": "stream",
     "text": [
      "/home/josh/Documents/GitHub/ropacea/ropacea/Single_factor.py:67: FutureWarning:\n",
      "\n",
      "The behavior of DataFrame concatenation with empty or all-NA entries is deprecated. In a future version, this will no longer exclude empty or all-NA columns when determining the result dtypes. To retain the old behavior, exclude the relevant entries before the concat operation.\n",
      "\n",
      "/home/josh/Documents/GitHub/ropacea/ropacea/Single_factor.py:67: FutureWarning:\n",
      "\n",
      "The behavior of DataFrame concatenation with empty or all-NA entries is deprecated. In a future version, this will no longer exclude empty or all-NA columns when determining the result dtypes. To retain the old behavior, exclude the relevant entries before the concat operation.\n",
      "\n"
     ]
    },
    {
     "name": "stdout",
     "output_type": "stream",
     "text": [
      "monthly_portfolio_return = 0.0727\n",
      "risk_free_return = 0.0007\n",
      "mark_date = datetime.date(2020, 6, 1)\n",
      "monthly_portfolio_return = 0.0773\n",
      "risk_free_return = 0.0004\n",
      "mark_date = datetime.date(2020, 7, 1)\n"
     ]
    },
    {
     "name": "stderr",
     "output_type": "stream",
     "text": [
      "/home/josh/Documents/GitHub/ropacea/ropacea/Single_factor.py:67: FutureWarning:\n",
      "\n",
      "The behavior of DataFrame concatenation with empty or all-NA entries is deprecated. In a future version, this will no longer exclude empty or all-NA columns when determining the result dtypes. To retain the old behavior, exclude the relevant entries before the concat operation.\n",
      "\n",
      "/home/josh/Documents/GitHub/ropacea/ropacea/Single_factor.py:67: FutureWarning:\n",
      "\n",
      "The behavior of DataFrame concatenation with empty or all-NA entries is deprecated. In a future version, this will no longer exclude empty or all-NA columns when determining the result dtypes. To retain the old behavior, exclude the relevant entries before the concat operation.\n",
      "\n"
     ]
    },
    {
     "name": "stdout",
     "output_type": "stream",
     "text": [
      "monthly_portfolio_return = 0.0456\n",
      "risk_free_return = 0.0128\n",
      "mark_date = datetime.date(2020, 8, 1)\n",
      "monthly_portfolio_return = 0.1343\n",
      "risk_free_return = -0.0147\n",
      "mark_date = datetime.date(2020, 9, 1)\n"
     ]
    },
    {
     "name": "stderr",
     "output_type": "stream",
     "text": [
      "/home/josh/Documents/GitHub/ropacea/ropacea/Single_factor.py:67: FutureWarning:\n",
      "\n",
      "The behavior of DataFrame concatenation with empty or all-NA entries is deprecated. In a future version, this will no longer exclude empty or all-NA columns when determining the result dtypes. To retain the old behavior, exclude the relevant entries before the concat operation.\n",
      "\n",
      "/home/josh/Documents/GitHub/ropacea/ropacea/Single_factor.py:67: FutureWarning:\n",
      "\n",
      "The behavior of DataFrame concatenation with empty or all-NA entries is deprecated. In a future version, this will no longer exclude empty or all-NA columns when determining the result dtypes. To retain the old behavior, exclude the relevant entries before the concat operation.\n",
      "\n"
     ]
    },
    {
     "name": "stdout",
     "output_type": "stream",
     "text": [
      "monthly_portfolio_return = -0.0400\n",
      "risk_free_return = 0.0026\n",
      "mark_date = datetime.date(2020, 10, 1)\n",
      "monthly_portfolio_return = -0.0565\n",
      "risk_free_return = -0.0173\n",
      "mark_date = datetime.date(2020, 11, 1)\n"
     ]
    },
    {
     "name": "stderr",
     "output_type": "stream",
     "text": [
      "/home/josh/Documents/GitHub/ropacea/ropacea/Single_factor.py:67: FutureWarning:\n",
      "\n",
      "The behavior of DataFrame concatenation with empty or all-NA entries is deprecated. In a future version, this will no longer exclude empty or all-NA columns when determining the result dtypes. To retain the old behavior, exclude the relevant entries before the concat operation.\n",
      "\n",
      "/home/josh/Documents/GitHub/ropacea/ropacea/Single_factor.py:67: FutureWarning:\n",
      "\n",
      "The behavior of DataFrame concatenation with empty or all-NA entries is deprecated. In a future version, this will no longer exclude empty or all-NA columns when determining the result dtypes. To retain the old behavior, exclude the relevant entries before the concat operation.\n",
      "\n"
     ]
    },
    {
     "name": "stdout",
     "output_type": "stream",
     "text": [
      "monthly_portfolio_return = 0.0721\n",
      "risk_free_return = 0.0040\n",
      "mark_date = datetime.date(2020, 12, 1)\n",
      "monthly_portfolio_return = 0.0368\n",
      "risk_free_return = -0.0050\n",
      "mark_date = datetime.date(2021, 1, 1)\n"
     ]
    },
    {
     "name": "stderr",
     "output_type": "stream",
     "text": [
      "/home/josh/Documents/GitHub/ropacea/ropacea/Single_factor.py:67: FutureWarning:\n",
      "\n",
      "The behavior of DataFrame concatenation with empty or all-NA entries is deprecated. In a future version, this will no longer exclude empty or all-NA columns when determining the result dtypes. To retain the old behavior, exclude the relevant entries before the concat operation.\n",
      "\n",
      "/home/josh/Documents/GitHub/ropacea/ropacea/Single_factor.py:67: FutureWarning:\n",
      "\n",
      "The behavior of DataFrame concatenation with empty or all-NA entries is deprecated. In a future version, this will no longer exclude empty or all-NA columns when determining the result dtypes. To retain the old behavior, exclude the relevant entries before the concat operation.\n",
      "\n"
     ]
    },
    {
     "name": "stdout",
     "output_type": "stream",
     "text": [
      "monthly_portfolio_return = -0.0251\n",
      "risk_free_return = -0.0107\n",
      "mark_date = datetime.date(2021, 2, 1)\n",
      "monthly_portfolio_return = 0.0073\n",
      "risk_free_return = -0.0254\n",
      "mark_date = datetime.date(2021, 3, 1)\n"
     ]
    },
    {
     "name": "stderr",
     "output_type": "stream",
     "text": [
      "/home/josh/Documents/GitHub/ropacea/ropacea/Single_factor.py:67: FutureWarning:\n",
      "\n",
      "The behavior of DataFrame concatenation with empty or all-NA entries is deprecated. In a future version, this will no longer exclude empty or all-NA columns when determining the result dtypes. To retain the old behavior, exclude the relevant entries before the concat operation.\n",
      "\n",
      "/home/josh/Documents/GitHub/ropacea/ropacea/Single_factor.py:67: FutureWarning:\n",
      "\n",
      "The behavior of DataFrame concatenation with empty or all-NA entries is deprecated. In a future version, this will no longer exclude empty or all-NA columns when determining the result dtypes. To retain the old behavior, exclude the relevant entries before the concat operation.\n",
      "\n"
     ]
    },
    {
     "name": "stdout",
     "output_type": "stream",
     "text": [
      "monthly_portfolio_return = 0.0066\n",
      "risk_free_return = -0.0293\n",
      "mark_date = datetime.date(2021, 4, 1)\n",
      "monthly_portfolio_return = 0.0863\n",
      "risk_free_return = 0.0119\n",
      "mark_date = datetime.date(2021, 5, 1)\n"
     ]
    },
    {
     "name": "stderr",
     "output_type": "stream",
     "text": [
      "/home/josh/Documents/GitHub/ropacea/ropacea/Single_factor.py:67: FutureWarning:\n",
      "\n",
      "The behavior of DataFrame concatenation with empty or all-NA entries is deprecated. In a future version, this will no longer exclude empty or all-NA columns when determining the result dtypes. To retain the old behavior, exclude the relevant entries before the concat operation.\n",
      "\n",
      "/home/josh/Documents/GitHub/ropacea/ropacea/Single_factor.py:67: FutureWarning:\n",
      "\n",
      "The behavior of DataFrame concatenation with empty or all-NA entries is deprecated. In a future version, this will no longer exclude empty or all-NA columns when determining the result dtypes. To retain the old behavior, exclude the relevant entries before the concat operation.\n",
      "\n"
     ]
    },
    {
     "name": "stdout",
     "output_type": "stream",
     "text": [
      "monthly_portfolio_return = 0.0026\n",
      "risk_free_return = 0.0034\n",
      "mark_date = datetime.date(2021, 6, 1)\n",
      "monthly_portfolio_return = 0.1439\n",
      "risk_free_return = 0.0141\n",
      "mark_date = datetime.date(2021, 7, 1)\n"
     ]
    },
    {
     "name": "stderr",
     "output_type": "stream",
     "text": [
      "/home/josh/Documents/GitHub/ropacea/ropacea/Single_factor.py:67: FutureWarning:\n",
      "\n",
      "The behavior of DataFrame concatenation with empty or all-NA entries is deprecated. In a future version, this will no longer exclude empty or all-NA columns when determining the result dtypes. To retain the old behavior, exclude the relevant entries before the concat operation.\n",
      "\n",
      "/home/josh/Documents/GitHub/ropacea/ropacea/Single_factor.py:67: FutureWarning:\n",
      "\n",
      "The behavior of DataFrame concatenation with empty or all-NA entries is deprecated. In a future version, this will no longer exclude empty or all-NA columns when determining the result dtypes. To retain the old behavior, exclude the relevant entries before the concat operation.\n",
      "\n"
     ]
    },
    {
     "name": "stdout",
     "output_type": "stream",
     "text": [
      "monthly_portfolio_return = 0.0400\n",
      "risk_free_return = 0.0238\n",
      "mark_date = datetime.date(2021, 8, 1)\n",
      "monthly_portfolio_return = 0.0739\n",
      "risk_free_return = -0.0048\n",
      "mark_date = datetime.date(2021, 9, 1)\n"
     ]
    },
    {
     "name": "stderr",
     "output_type": "stream",
     "text": [
      "/home/josh/Documents/GitHub/ropacea/ropacea/Single_factor.py:67: FutureWarning:\n",
      "\n",
      "The behavior of DataFrame concatenation with empty or all-NA entries is deprecated. In a future version, this will no longer exclude empty or all-NA columns when determining the result dtypes. To retain the old behavior, exclude the relevant entries before the concat operation.\n",
      "\n",
      "/home/josh/Documents/GitHub/ropacea/ropacea/Single_factor.py:67: FutureWarning:\n",
      "\n",
      "The behavior of DataFrame concatenation with empty or all-NA entries is deprecated. In a future version, this will no longer exclude empty or all-NA columns when determining the result dtypes. To retain the old behavior, exclude the relevant entries before the concat operation.\n",
      "\n"
     ]
    },
    {
     "name": "stdout",
     "output_type": "stream",
     "text": [
      "monthly_portfolio_return = -0.0853\n",
      "risk_free_return = -0.0154\n",
      "mark_date = datetime.date(2021, 10, 1)\n",
      "monthly_portfolio_return = 0.1624\n",
      "risk_free_return = -0.0049\n",
      "mark_date = datetime.date(2021, 11, 1)\n"
     ]
    },
    {
     "name": "stderr",
     "output_type": "stream",
     "text": [
      "/home/josh/Documents/GitHub/ropacea/ropacea/Single_factor.py:67: FutureWarning:\n",
      "\n",
      "The behavior of DataFrame concatenation with empty or all-NA entries is deprecated. In a future version, this will no longer exclude empty or all-NA columns when determining the result dtypes. To retain the old behavior, exclude the relevant entries before the concat operation.\n",
      "\n",
      "/home/josh/Documents/GitHub/ropacea/ropacea/Single_factor.py:67: FutureWarning:\n",
      "\n",
      "The behavior of DataFrame concatenation with empty or all-NA entries is deprecated. In a future version, this will no longer exclude empty or all-NA columns when determining the result dtypes. To retain the old behavior, exclude the relevant entries before the concat operation.\n",
      "\n"
     ]
    },
    {
     "name": "stdout",
     "output_type": "stream",
     "text": [
      "monthly_portfolio_return = 0.0974\n",
      "risk_free_return = 0.0125\n",
      "mark_date = datetime.date(2021, 12, 1)\n",
      "monthly_portfolio_return = -0.0342\n",
      "risk_free_return = -0.0047\n",
      "========== SUMMARY ==========\n",
      "monthly_returns_bp_mean = 282.52\n",
      "monthly_returns_bp_std = 682.92\n",
      "annualized_mean_pct = 39.70\n",
      "annualized_std_pct = 23.66\n",
      "sharpe_ratio = 1.68\n",
      "mark_date = datetime.date(2017, 1, 1)\n"
     ]
    },
    {
     "name": "stderr",
     "output_type": "stream",
     "text": [
      "/home/josh/Documents/GitHub/ropacea/ropacea/Single_factor.py:67: FutureWarning:\n",
      "\n",
      "The behavior of DataFrame concatenation with empty or all-NA entries is deprecated. In a future version, this will no longer exclude empty or all-NA columns when determining the result dtypes. To retain the old behavior, exclude the relevant entries before the concat operation.\n",
      "\n",
      "/home/josh/Documents/GitHub/ropacea/ropacea/Single_factor.py:67: FutureWarning:\n",
      "\n",
      "The behavior of DataFrame concatenation with empty or all-NA entries is deprecated. In a future version, this will no longer exclude empty or all-NA columns when determining the result dtypes. To retain the old behavior, exclude the relevant entries before the concat operation.\n",
      "\n"
     ]
    },
    {
     "name": "stdout",
     "output_type": "stream",
     "text": [
      "monthly_portfolio_return = 0.0434\n",
      "risk_free_return = 0.0022\n",
      "mark_date = datetime.date(2017, 2, 1)\n",
      "monthly_portfolio_return = -0.0028\n",
      "risk_free_return = 0.0074\n",
      "mark_date = datetime.date(2017, 3, 1)\n"
     ]
    },
    {
     "name": "stderr",
     "output_type": "stream",
     "text": [
      "/home/josh/Documents/GitHub/ropacea/ropacea/Single_factor.py:67: FutureWarning:\n",
      "\n",
      "The behavior of DataFrame concatenation with empty or all-NA entries is deprecated. In a future version, this will no longer exclude empty or all-NA columns when determining the result dtypes. To retain the old behavior, exclude the relevant entries before the concat operation.\n",
      "\n",
      "/home/josh/Documents/GitHub/ropacea/ropacea/Single_factor.py:67: FutureWarning:\n",
      "\n",
      "The behavior of DataFrame concatenation with empty or all-NA entries is deprecated. In a future version, this will no longer exclude empty or all-NA columns when determining the result dtypes. To retain the old behavior, exclude the relevant entries before the concat operation.\n",
      "\n"
     ]
    },
    {
     "name": "stdout",
     "output_type": "stream",
     "text": [
      "monthly_portfolio_return = 0.0566\n",
      "risk_free_return = 0.0024\n",
      "mark_date = datetime.date(2017, 4, 1)\n",
      "monthly_portfolio_return = -0.0041\n",
      "risk_free_return = 0.0111\n",
      "mark_date = datetime.date(2017, 5, 1)\n"
     ]
    },
    {
     "name": "stderr",
     "output_type": "stream",
     "text": [
      "/home/josh/Documents/GitHub/ropacea/ropacea/Single_factor.py:67: FutureWarning:\n",
      "\n",
      "The behavior of DataFrame concatenation with empty or all-NA entries is deprecated. In a future version, this will no longer exclude empty or all-NA columns when determining the result dtypes. To retain the old behavior, exclude the relevant entries before the concat operation.\n",
      "\n",
      "/home/josh/Documents/GitHub/ropacea/ropacea/Single_factor.py:67: FutureWarning:\n",
      "\n",
      "The behavior of DataFrame concatenation with empty or all-NA entries is deprecated. In a future version, this will no longer exclude empty or all-NA columns when determining the result dtypes. To retain the old behavior, exclude the relevant entries before the concat operation.\n",
      "\n"
     ]
    },
    {
     "name": "stdout",
     "output_type": "stream",
     "text": [
      "monthly_portfolio_return = 0.1524\n",
      "risk_free_return = 0.0079\n",
      "mark_date = datetime.date(2017, 6, 1)\n",
      "monthly_portfolio_return = -0.0067\n",
      "risk_free_return = -0.0013\n",
      "mark_date = datetime.date(2017, 7, 1)\n"
     ]
    },
    {
     "name": "stderr",
     "output_type": "stream",
     "text": [
      "/home/josh/Documents/GitHub/ropacea/ropacea/Single_factor.py:67: FutureWarning:\n",
      "\n",
      "The behavior of DataFrame concatenation with empty or all-NA entries is deprecated. In a future version, this will no longer exclude empty or all-NA columns when determining the result dtypes. To retain the old behavior, exclude the relevant entries before the concat operation.\n",
      "\n",
      "/home/josh/Documents/GitHub/ropacea/ropacea/Single_factor.py:67: FutureWarning:\n",
      "\n",
      "The behavior of DataFrame concatenation with empty or all-NA entries is deprecated. In a future version, this will no longer exclude empty or all-NA columns when determining the result dtypes. To retain the old behavior, exclude the relevant entries before the concat operation.\n",
      "\n"
     ]
    },
    {
     "name": "stdout",
     "output_type": "stream",
     "text": [
      "monthly_portfolio_return = 0.0621\n",
      "risk_free_return = -0.0000\n",
      "mark_date = datetime.date(2017, 8, 1)\n",
      "monthly_portfolio_return = 0.0372\n",
      "risk_free_return = 0.0171\n",
      "mark_date = datetime.date(2017, 9, 1)\n"
     ]
    },
    {
     "name": "stderr",
     "output_type": "stream",
     "text": [
      "/home/josh/Documents/GitHub/ropacea/ropacea/Single_factor.py:67: FutureWarning:\n",
      "\n",
      "The behavior of DataFrame concatenation with empty or all-NA entries is deprecated. In a future version, this will no longer exclude empty or all-NA columns when determining the result dtypes. To retain the old behavior, exclude the relevant entries before the concat operation.\n",
      "\n",
      "/home/josh/Documents/GitHub/ropacea/ropacea/Single_factor.py:67: FutureWarning:\n",
      "\n",
      "The behavior of DataFrame concatenation with empty or all-NA entries is deprecated. In a future version, this will no longer exclude empty or all-NA columns when determining the result dtypes. To retain the old behavior, exclude the relevant entries before the concat operation.\n",
      "\n"
     ]
    },
    {
     "name": "stdout",
     "output_type": "stream",
     "text": [
      "monthly_portfolio_return = 0.0276\n",
      "risk_free_return = -0.0172\n",
      "mark_date = datetime.date(2017, 10, 1)\n",
      "monthly_portfolio_return = 0.1230\n",
      "risk_free_return = -0.0011\n",
      "mark_date = datetime.date(2017, 11, 1)\n"
     ]
    },
    {
     "name": "stderr",
     "output_type": "stream",
     "text": [
      "/home/josh/Documents/GitHub/ropacea/ropacea/Single_factor.py:67: FutureWarning:\n",
      "\n",
      "The behavior of DataFrame concatenation with empty or all-NA entries is deprecated. In a future version, this will no longer exclude empty or all-NA columns when determining the result dtypes. To retain the old behavior, exclude the relevant entries before the concat operation.\n",
      "\n",
      "/home/josh/Documents/GitHub/ropacea/ropacea/Single_factor.py:67: FutureWarning:\n",
      "\n",
      "The behavior of DataFrame concatenation with empty or all-NA entries is deprecated. In a future version, this will no longer exclude empty or all-NA columns when determining the result dtypes. To retain the old behavior, exclude the relevant entries before the concat operation.\n",
      "\n"
     ]
    },
    {
     "name": "stdout",
     "output_type": "stream",
     "text": [
      "monthly_portfolio_return = 0.0073\n",
      "risk_free_return = -0.0026\n",
      "mark_date = datetime.date(2017, 12, 1)\n",
      "monthly_portfolio_return = 0.0026\n",
      "risk_free_return = 0.0022\n",
      "mark_date = datetime.date(2018, 1, 1)\n"
     ]
    },
    {
     "name": "stderr",
     "output_type": "stream",
     "text": [
      "/home/josh/Documents/GitHub/ropacea/ropacea/Single_factor.py:67: FutureWarning:\n",
      "\n",
      "The behavior of DataFrame concatenation with empty or all-NA entries is deprecated. In a future version, this will no longer exclude empty or all-NA columns when determining the result dtypes. To retain the old behavior, exclude the relevant entries before the concat operation.\n",
      "\n",
      "/home/josh/Documents/GitHub/ropacea/ropacea/Single_factor.py:67: FutureWarning:\n",
      "\n",
      "The behavior of DataFrame concatenation with empty or all-NA entries is deprecated. In a future version, this will no longer exclude empty or all-NA columns when determining the result dtypes. To retain the old behavior, exclude the relevant entries before the concat operation.\n",
      "\n"
     ]
    },
    {
     "name": "stdout",
     "output_type": "stream",
     "text": [
      "monthly_portfolio_return = 0.1513\n",
      "risk_free_return = -0.0236\n",
      "mark_date = datetime.date(2018, 2, 1)\n",
      "monthly_portfolio_return = 0.0088\n",
      "risk_free_return = -0.0130\n",
      "mark_date = datetime.date(2018, 3, 1)\n"
     ]
    },
    {
     "name": "stderr",
     "output_type": "stream",
     "text": [
      "/home/josh/Documents/GitHub/ropacea/ropacea/Single_factor.py:67: FutureWarning:\n",
      "\n",
      "The behavior of DataFrame concatenation with empty or all-NA entries is deprecated. In a future version, this will no longer exclude empty or all-NA columns when determining the result dtypes. To retain the old behavior, exclude the relevant entries before the concat operation.\n",
      "\n",
      "/home/josh/Documents/GitHub/ropacea/ropacea/Single_factor.py:67: FutureWarning:\n",
      "\n",
      "The behavior of DataFrame concatenation with empty or all-NA entries is deprecated. In a future version, this will no longer exclude empty or all-NA columns when determining the result dtypes. To retain the old behavior, exclude the relevant entries before the concat operation.\n",
      "\n"
     ]
    },
    {
     "name": "stdout",
     "output_type": "stream",
     "text": [
      "monthly_portfolio_return = -0.0180\n",
      "risk_free_return = 0.0128\n",
      "mark_date = datetime.date(2018, 4, 1)\n",
      "monthly_portfolio_return = -0.0007\n",
      "risk_free_return = -0.0155\n",
      "mark_date = datetime.date(2018, 5, 1)\n"
     ]
    },
    {
     "name": "stderr",
     "output_type": "stream",
     "text": [
      "/home/josh/Documents/GitHub/ropacea/ropacea/Single_factor.py:67: FutureWarning:\n",
      "\n",
      "The behavior of DataFrame concatenation with empty or all-NA entries is deprecated. In a future version, this will no longer exclude empty or all-NA columns when determining the result dtypes. To retain the old behavior, exclude the relevant entries before the concat operation.\n",
      "\n",
      "/home/josh/Documents/GitHub/ropacea/ropacea/Single_factor.py:67: FutureWarning:\n",
      "\n",
      "The behavior of DataFrame concatenation with empty or all-NA entries is deprecated. In a future version, this will no longer exclude empty or all-NA columns when determining the result dtypes. To retain the old behavior, exclude the relevant entries before the concat operation.\n",
      "\n"
     ]
    },
    {
     "name": "stdout",
     "output_type": "stream",
     "text": [
      "monthly_portfolio_return = 0.0970\n",
      "risk_free_return = 0.0096\n",
      "mark_date = datetime.date(2018, 6, 1)\n",
      "monthly_portfolio_return = -0.0186\n",
      "risk_free_return = 0.0023\n",
      "mark_date = datetime.date(2018, 7, 1)\n"
     ]
    },
    {
     "name": "stderr",
     "output_type": "stream",
     "text": [
      "/home/josh/Documents/GitHub/ropacea/ropacea/Single_factor.py:67: FutureWarning:\n",
      "\n",
      "The behavior of DataFrame concatenation with empty or all-NA entries is deprecated. In a future version, this will no longer exclude empty or all-NA columns when determining the result dtypes. To retain the old behavior, exclude the relevant entries before the concat operation.\n",
      "\n",
      "/home/josh/Documents/GitHub/ropacea/ropacea/Single_factor.py:67: FutureWarning:\n",
      "\n",
      "The behavior of DataFrame concatenation with empty or all-NA entries is deprecated. In a future version, this will no longer exclude empty or all-NA columns when determining the result dtypes. To retain the old behavior, exclude the relevant entries before the concat operation.\n",
      "\n"
     ]
    },
    {
     "name": "stdout",
     "output_type": "stream",
     "text": [
      "monthly_portfolio_return = 0.0217\n",
      "risk_free_return = -0.0051\n",
      "mark_date = datetime.date(2018, 8, 1)\n",
      "monthly_portfolio_return = 0.0882\n",
      "risk_free_return = 0.0101\n",
      "mark_date = datetime.date(2018, 9, 1)\n"
     ]
    },
    {
     "name": "stderr",
     "output_type": "stream",
     "text": [
      "/home/josh/Documents/GitHub/ropacea/ropacea/Single_factor.py:67: FutureWarning:\n",
      "\n",
      "The behavior of DataFrame concatenation with empty or all-NA entries is deprecated. In a future version, this will no longer exclude empty or all-NA columns when determining the result dtypes. To retain the old behavior, exclude the relevant entries before the concat operation.\n",
      "\n",
      "/home/josh/Documents/GitHub/ropacea/ropacea/Single_factor.py:67: FutureWarning:\n",
      "\n",
      "The behavior of DataFrame concatenation with empty or all-NA entries is deprecated. In a future version, this will no longer exclude empty or all-NA columns when determining the result dtypes. To retain the old behavior, exclude the relevant entries before the concat operation.\n",
      "\n"
     ]
    },
    {
     "name": "stdout",
     "output_type": "stream",
     "text": [
      "monthly_portfolio_return = 0.0078\n",
      "risk_free_return = -0.0148\n",
      "mark_date = datetime.date(2018, 10, 1)\n",
      "monthly_portfolio_return = -0.1243\n",
      "risk_free_return = -0.0043\n",
      "mark_date = datetime.date(2018, 11, 1)\n"
     ]
    },
    {
     "name": "stderr",
     "output_type": "stream",
     "text": [
      "/home/josh/Documents/GitHub/ropacea/ropacea/Single_factor.py:67: FutureWarning:\n",
      "\n",
      "The behavior of DataFrame concatenation with empty or all-NA entries is deprecated. In a future version, this will no longer exclude empty or all-NA columns when determining the result dtypes. To retain the old behavior, exclude the relevant entries before the concat operation.\n",
      "\n",
      "/home/josh/Documents/GitHub/ropacea/ropacea/Single_factor.py:67: FutureWarning:\n",
      "\n",
      "The behavior of DataFrame concatenation with empty or all-NA entries is deprecated. In a future version, this will no longer exclude empty or all-NA columns when determining the result dtypes. To retain the old behavior, exclude the relevant entries before the concat operation.\n",
      "\n"
     ]
    },
    {
     "name": "stdout",
     "output_type": "stream",
     "text": [
      "monthly_portfolio_return = -0.0508\n",
      "risk_free_return = 0.0149\n",
      "mark_date = datetime.date(2018, 12, 1)\n",
      "monthly_portfolio_return = -0.1122\n",
      "risk_free_return = 0.0286\n",
      "mark_date = datetime.date(2019, 1, 1)\n"
     ]
    },
    {
     "name": "stderr",
     "output_type": "stream",
     "text": [
      "/home/josh/Documents/GitHub/ropacea/ropacea/Single_factor.py:67: FutureWarning:\n",
      "\n",
      "The behavior of DataFrame concatenation with empty or all-NA entries is deprecated. In a future version, this will no longer exclude empty or all-NA columns when determining the result dtypes. To retain the old behavior, exclude the relevant entries before the concat operation.\n",
      "\n",
      "/home/josh/Documents/GitHub/ropacea/ropacea/Single_factor.py:67: FutureWarning:\n",
      "\n",
      "The behavior of DataFrame concatenation with empty or all-NA entries is deprecated. In a future version, this will no longer exclude empty or all-NA columns when determining the result dtypes. To retain the old behavior, exclude the relevant entries before the concat operation.\n",
      "\n"
     ]
    },
    {
     "name": "stdout",
     "output_type": "stream",
     "text": [
      "monthly_portfolio_return = 0.0684\n",
      "risk_free_return = 0.0071\n",
      "mark_date = datetime.date(2019, 2, 1)\n",
      "monthly_portfolio_return = 0.0665\n",
      "risk_free_return = -0.0043\n",
      "mark_date = datetime.date(2019, 3, 1)\n"
     ]
    },
    {
     "name": "stderr",
     "output_type": "stream",
     "text": [
      "/home/josh/Documents/GitHub/ropacea/ropacea/Single_factor.py:67: FutureWarning:\n",
      "\n",
      "The behavior of DataFrame concatenation with empty or all-NA entries is deprecated. In a future version, this will no longer exclude empty or all-NA columns when determining the result dtypes. To retain the old behavior, exclude the relevant entries before the concat operation.\n",
      "\n",
      "/home/josh/Documents/GitHub/ropacea/ropacea/Single_factor.py:67: FutureWarning:\n",
      "\n",
      "The behavior of DataFrame concatenation with empty or all-NA entries is deprecated. In a future version, this will no longer exclude empty or all-NA columns when determining the result dtypes. To retain the old behavior, exclude the relevant entries before the concat operation.\n",
      "\n"
     ]
    },
    {
     "name": "stdout",
     "output_type": "stream",
     "text": [
      "monthly_portfolio_return = 0.0729\n",
      "risk_free_return = 0.0294\n",
      "mark_date = datetime.date(2019, 4, 1)\n",
      "monthly_portfolio_return = 0.0661\n",
      "risk_free_return = -0.0062\n",
      "mark_date = datetime.date(2019, 5, 1)\n"
     ]
    },
    {
     "name": "stderr",
     "output_type": "stream",
     "text": [
      "/home/josh/Documents/GitHub/ropacea/ropacea/Single_factor.py:67: FutureWarning:\n",
      "\n",
      "The behavior of DataFrame concatenation with empty or all-NA entries is deprecated. In a future version, this will no longer exclude empty or all-NA columns when determining the result dtypes. To retain the old behavior, exclude the relevant entries before the concat operation.\n",
      "\n",
      "/home/josh/Documents/GitHub/ropacea/ropacea/Single_factor.py:67: FutureWarning:\n",
      "\n",
      "The behavior of DataFrame concatenation with empty or all-NA entries is deprecated. In a future version, this will no longer exclude empty or all-NA columns when determining the result dtypes. To retain the old behavior, exclude the relevant entries before the concat operation.\n",
      "\n"
     ]
    },
    {
     "name": "stdout",
     "output_type": "stream",
     "text": [
      "monthly_portfolio_return = -0.0910\n",
      "risk_free_return = 0.0319\n",
      "mark_date = datetime.date(2019, 6, 1)\n",
      "monthly_portfolio_return = 0.0990\n",
      "risk_free_return = 0.0121\n",
      "mark_date = datetime.date(2019, 7, 1)\n"
     ]
    },
    {
     "name": "stderr",
     "output_type": "stream",
     "text": [
      "/home/josh/Documents/GitHub/ropacea/ropacea/Single_factor.py:67: FutureWarning:\n",
      "\n",
      "The behavior of DataFrame concatenation with empty or all-NA entries is deprecated. In a future version, this will no longer exclude empty or all-NA columns when determining the result dtypes. To retain the old behavior, exclude the relevant entries before the concat operation.\n",
      "\n",
      "/home/josh/Documents/GitHub/ropacea/ropacea/Single_factor.py:67: FutureWarning:\n",
      "\n",
      "The behavior of DataFrame concatenation with empty or all-NA entries is deprecated. In a future version, this will no longer exclude empty or all-NA columns when determining the result dtypes. To retain the old behavior, exclude the relevant entries before the concat operation.\n",
      "\n"
     ]
    },
    {
     "name": "stdout",
     "output_type": "stream",
     "text": [
      "monthly_portfolio_return = 0.0223\n",
      "risk_free_return = 0.0034\n",
      "mark_date = datetime.date(2019, 8, 1)\n",
      "monthly_portfolio_return = -0.0055\n",
      "risk_free_return = 0.0403\n",
      "mark_date = datetime.date(2019, 9, 1)\n"
     ]
    },
    {
     "name": "stderr",
     "output_type": "stream",
     "text": [
      "/home/josh/Documents/GitHub/ropacea/ropacea/Single_factor.py:67: FutureWarning:\n",
      "\n",
      "The behavior of DataFrame concatenation with empty or all-NA entries is deprecated. In a future version, this will no longer exclude empty or all-NA columns when determining the result dtypes. To retain the old behavior, exclude the relevant entries before the concat operation.\n",
      "\n",
      "/home/josh/Documents/GitHub/ropacea/ropacea/Single_factor.py:67: FutureWarning:\n",
      "\n",
      "The behavior of DataFrame concatenation with empty or all-NA entries is deprecated. In a future version, this will no longer exclude empty or all-NA columns when determining the result dtypes. To retain the old behavior, exclude the relevant entries before the concat operation.\n",
      "\n"
     ]
    },
    {
     "name": "stdout",
     "output_type": "stream",
     "text": [
      "monthly_portfolio_return = -0.0064\n",
      "risk_free_return = -0.0139\n",
      "mark_date = datetime.date(2019, 10, 1)\n",
      "monthly_portfolio_return = 0.0400\n",
      "risk_free_return = -0.0007\n",
      "mark_date = datetime.date(2019, 11, 1)\n"
     ]
    },
    {
     "name": "stderr",
     "output_type": "stream",
     "text": [
      "/home/josh/Documents/GitHub/ropacea/ropacea/Single_factor.py:67: FutureWarning:\n",
      "\n",
      "The behavior of DataFrame concatenation with empty or all-NA entries is deprecated. In a future version, this will no longer exclude empty or all-NA columns when determining the result dtypes. To retain the old behavior, exclude the relevant entries before the concat operation.\n",
      "\n",
      "/home/josh/Documents/GitHub/ropacea/ropacea/Single_factor.py:67: FutureWarning:\n",
      "\n",
      "The behavior of DataFrame concatenation with empty or all-NA entries is deprecated. In a future version, this will no longer exclude empty or all-NA columns when determining the result dtypes. To retain the old behavior, exclude the relevant entries before the concat operation.\n",
      "\n"
     ]
    },
    {
     "name": "stdout",
     "output_type": "stream",
     "text": [
      "monthly_portfolio_return = 0.0773\n",
      "risk_free_return = -0.0074\n",
      "mark_date = datetime.date(2019, 12, 1)\n",
      "monthly_portfolio_return = 0.0530\n",
      "risk_free_return = -0.0113\n",
      "mark_date = datetime.date(2020, 1, 1)\n"
     ]
    },
    {
     "name": "stderr",
     "output_type": "stream",
     "text": [
      "/home/josh/Documents/GitHub/ropacea/ropacea/Single_factor.py:67: FutureWarning:\n",
      "\n",
      "The behavior of DataFrame concatenation with empty or all-NA entries is deprecated. In a future version, this will no longer exclude empty or all-NA columns when determining the result dtypes. To retain the old behavior, exclude the relevant entries before the concat operation.\n",
      "\n",
      "/home/josh/Documents/GitHub/ropacea/ropacea/Single_factor.py:67: FutureWarning:\n",
      "\n",
      "The behavior of DataFrame concatenation with empty or all-NA entries is deprecated. In a future version, this will no longer exclude empty or all-NA columns when determining the result dtypes. To retain the old behavior, exclude the relevant entries before the concat operation.\n",
      "\n"
     ]
    },
    {
     "name": "stdout",
     "output_type": "stream",
     "text": [
      "monthly_portfolio_return = 0.0536\n",
      "risk_free_return = 0.0392\n",
      "mark_date = datetime.date(2020, 2, 1)\n",
      "monthly_portfolio_return = -0.0131\n",
      "risk_free_return = 0.0299\n",
      "mark_date = datetime.date(2020, 3, 1)\n"
     ]
    },
    {
     "name": "stderr",
     "output_type": "stream",
     "text": [
      "/home/josh/Documents/GitHub/ropacea/ropacea/Single_factor.py:67: FutureWarning:\n",
      "\n",
      "The behavior of DataFrame concatenation with empty or all-NA entries is deprecated. In a future version, this will no longer exclude empty or all-NA columns when determining the result dtypes. To retain the old behavior, exclude the relevant entries before the concat operation.\n",
      "\n",
      "/home/josh/Documents/GitHub/ropacea/ropacea/Single_factor.py:67: FutureWarning:\n",
      "\n",
      "The behavior of DataFrame concatenation with empty or all-NA entries is deprecated. In a future version, this will no longer exclude empty or all-NA columns when determining the result dtypes. To retain the old behavior, exclude the relevant entries before the concat operation.\n",
      "\n"
     ]
    },
    {
     "name": "stdout",
     "output_type": "stream",
     "text": [
      "monthly_portfolio_return = -0.0876\n",
      "risk_free_return = 0.0397\n",
      "mark_date = datetime.date(2020, 4, 1)\n",
      "monthly_portfolio_return = 0.1324\n",
      "risk_free_return = 0.0050\n",
      "mark_date = datetime.date(2020, 5, 1)\n"
     ]
    },
    {
     "name": "stderr",
     "output_type": "stream",
     "text": [
      "/home/josh/Documents/GitHub/ropacea/ropacea/Single_factor.py:67: FutureWarning:\n",
      "\n",
      "The behavior of DataFrame concatenation with empty or all-NA entries is deprecated. In a future version, this will no longer exclude empty or all-NA columns when determining the result dtypes. To retain the old behavior, exclude the relevant entries before the concat operation.\n",
      "\n",
      "/home/josh/Documents/GitHub/ropacea/ropacea/Single_factor.py:67: FutureWarning:\n",
      "\n",
      "The behavior of DataFrame concatenation with empty or all-NA entries is deprecated. In a future version, this will no longer exclude empty or all-NA columns when determining the result dtypes. To retain the old behavior, exclude the relevant entries before the concat operation.\n",
      "\n"
     ]
    },
    {
     "name": "stdout",
     "output_type": "stream",
     "text": [
      "monthly_portfolio_return = 0.0779\n",
      "risk_free_return = 0.0007\n",
      "mark_date = datetime.date(2020, 6, 1)\n",
      "monthly_portfolio_return = 0.0823\n",
      "risk_free_return = 0.0004\n",
      "mark_date = datetime.date(2020, 7, 1)\n"
     ]
    },
    {
     "name": "stderr",
     "output_type": "stream",
     "text": [
      "/home/josh/Documents/GitHub/ropacea/ropacea/Single_factor.py:67: FutureWarning:\n",
      "\n",
      "The behavior of DataFrame concatenation with empty or all-NA entries is deprecated. In a future version, this will no longer exclude empty or all-NA columns when determining the result dtypes. To retain the old behavior, exclude the relevant entries before the concat operation.\n",
      "\n",
      "/home/josh/Documents/GitHub/ropacea/ropacea/Single_factor.py:67: FutureWarning:\n",
      "\n",
      "The behavior of DataFrame concatenation with empty or all-NA entries is deprecated. In a future version, this will no longer exclude empty or all-NA columns when determining the result dtypes. To retain the old behavior, exclude the relevant entries before the concat operation.\n",
      "\n"
     ]
    },
    {
     "name": "stdout",
     "output_type": "stream",
     "text": [
      "monthly_portfolio_return = 0.0475\n",
      "risk_free_return = 0.0128\n",
      "mark_date = datetime.date(2020, 8, 1)\n",
      "monthly_portfolio_return = 0.1392\n",
      "risk_free_return = -0.0147\n",
      "mark_date = datetime.date(2020, 9, 1)\n"
     ]
    },
    {
     "name": "stderr",
     "output_type": "stream",
     "text": [
      "/home/josh/Documents/GitHub/ropacea/ropacea/Single_factor.py:67: FutureWarning:\n",
      "\n",
      "The behavior of DataFrame concatenation with empty or all-NA entries is deprecated. In a future version, this will no longer exclude empty or all-NA columns when determining the result dtypes. To retain the old behavior, exclude the relevant entries before the concat operation.\n",
      "\n",
      "/home/josh/Documents/GitHub/ropacea/ropacea/Single_factor.py:67: FutureWarning:\n",
      "\n",
      "The behavior of DataFrame concatenation with empty or all-NA entries is deprecated. In a future version, this will no longer exclude empty or all-NA columns when determining the result dtypes. To retain the old behavior, exclude the relevant entries before the concat operation.\n",
      "\n"
     ]
    },
    {
     "name": "stdout",
     "output_type": "stream",
     "text": [
      "monthly_portfolio_return = -0.0436\n",
      "risk_free_return = 0.0026\n",
      "mark_date = datetime.date(2020, 10, 1)\n",
      "monthly_portfolio_return = -0.0615\n",
      "risk_free_return = -0.0173\n",
      "mark_date = datetime.date(2020, 11, 1)\n"
     ]
    },
    {
     "name": "stderr",
     "output_type": "stream",
     "text": [
      "/home/josh/Documents/GitHub/ropacea/ropacea/Single_factor.py:67: FutureWarning:\n",
      "\n",
      "The behavior of DataFrame concatenation with empty or all-NA entries is deprecated. In a future version, this will no longer exclude empty or all-NA columns when determining the result dtypes. To retain the old behavior, exclude the relevant entries before the concat operation.\n",
      "\n",
      "/home/josh/Documents/GitHub/ropacea/ropacea/Single_factor.py:67: FutureWarning:\n",
      "\n",
      "The behavior of DataFrame concatenation with empty or all-NA entries is deprecated. In a future version, this will no longer exclude empty or all-NA columns when determining the result dtypes. To retain the old behavior, exclude the relevant entries before the concat operation.\n",
      "\n",
      "/home/josh/Documents/GitHub/ropacea/ropacea/Single_factor.py:67: FutureWarning:\n",
      "\n",
      "The behavior of DataFrame concatenation with empty or all-NA entries is deprecated. In a future version, this will no longer exclude empty or all-NA columns when determining the result dtypes. To retain the old behavior, exclude the relevant entries before the concat operation.\n",
      "\n"
     ]
    },
    {
     "name": "stdout",
     "output_type": "stream",
     "text": [
      "monthly_portfolio_return = 0.0713\n",
      "risk_free_return = 0.0040\n",
      "mark_date = datetime.date(2020, 12, 1)\n",
      "monthly_portfolio_return = 0.0378\n",
      "risk_free_return = -0.0050\n",
      "mark_date = datetime.date(2021, 1, 1)\n",
      "monthly_portfolio_return = -0.0259\n",
      "risk_free_return = -0.0107\n",
      "mark_date = datetime.date(2021, 2, 1)\n",
      "monthly_portfolio_return = 0.0053\n",
      "risk_free_return = -0.0254\n",
      "mark_date = datetime.date(2021, 3, 1)\n",
      "monthly_portfolio_return = 0.0049\n",
      "risk_free_return = -0.0293\n",
      "mark_date = datetime.date(2021, 4, 1)\n"
     ]
    },
    {
     "name": "stderr",
     "output_type": "stream",
     "text": [
      "/home/josh/Documents/GitHub/ropacea/ropacea/Single_factor.py:67: FutureWarning:\n",
      "\n",
      "The behavior of DataFrame concatenation with empty or all-NA entries is deprecated. In a future version, this will no longer exclude empty or all-NA columns when determining the result dtypes. To retain the old behavior, exclude the relevant entries before the concat operation.\n",
      "\n",
      "/home/josh/Documents/GitHub/ropacea/ropacea/Single_factor.py:67: FutureWarning:\n",
      "\n",
      "The behavior of DataFrame concatenation with empty or all-NA entries is deprecated. In a future version, this will no longer exclude empty or all-NA columns when determining the result dtypes. To retain the old behavior, exclude the relevant entries before the concat operation.\n",
      "\n",
      "/home/josh/Documents/GitHub/ropacea/ropacea/Single_factor.py:67: FutureWarning:\n",
      "\n",
      "The behavior of DataFrame concatenation with empty or all-NA entries is deprecated. In a future version, this will no longer exclude empty or all-NA columns when determining the result dtypes. To retain the old behavior, exclude the relevant entries before the concat operation.\n",
      "\n"
     ]
    },
    {
     "name": "stdout",
     "output_type": "stream",
     "text": [
      "monthly_portfolio_return = 0.0891\n",
      "risk_free_return = 0.0119\n",
      "mark_date = datetime.date(2021, 5, 1)\n",
      "monthly_portfolio_return = 0.0084\n",
      "risk_free_return = 0.0034\n",
      "mark_date = datetime.date(2021, 6, 1)\n"
     ]
    },
    {
     "name": "stderr",
     "output_type": "stream",
     "text": [
      "/home/josh/Documents/GitHub/ropacea/ropacea/Single_factor.py:67: FutureWarning:\n",
      "\n",
      "The behavior of DataFrame concatenation with empty or all-NA entries is deprecated. In a future version, this will no longer exclude empty or all-NA columns when determining the result dtypes. To retain the old behavior, exclude the relevant entries before the concat operation.\n",
      "\n",
      "/home/josh/Documents/GitHub/ropacea/ropacea/Single_factor.py:67: FutureWarning:\n",
      "\n",
      "The behavior of DataFrame concatenation with empty or all-NA entries is deprecated. In a future version, this will no longer exclude empty or all-NA columns when determining the result dtypes. To retain the old behavior, exclude the relevant entries before the concat operation.\n",
      "\n"
     ]
    },
    {
     "name": "stdout",
     "output_type": "stream",
     "text": [
      "monthly_portfolio_return = 0.1521\n",
      "risk_free_return = 0.0141\n",
      "mark_date = datetime.date(2021, 7, 1)\n",
      "monthly_portfolio_return = 0.0360\n",
      "risk_free_return = 0.0238\n",
      "mark_date = datetime.date(2021, 8, 1)\n"
     ]
    },
    {
     "name": "stderr",
     "output_type": "stream",
     "text": [
      "/home/josh/Documents/GitHub/ropacea/ropacea/Single_factor.py:67: FutureWarning:\n",
      "\n",
      "The behavior of DataFrame concatenation with empty or all-NA entries is deprecated. In a future version, this will no longer exclude empty or all-NA columns when determining the result dtypes. To retain the old behavior, exclude the relevant entries before the concat operation.\n",
      "\n",
      "/home/josh/Documents/GitHub/ropacea/ropacea/Single_factor.py:67: FutureWarning:\n",
      "\n",
      "The behavior of DataFrame concatenation with empty or all-NA entries is deprecated. In a future version, this will no longer exclude empty or all-NA columns when determining the result dtypes. To retain the old behavior, exclude the relevant entries before the concat operation.\n",
      "\n"
     ]
    },
    {
     "name": "stdout",
     "output_type": "stream",
     "text": [
      "monthly_portfolio_return = 0.0832\n",
      "risk_free_return = -0.0048\n",
      "mark_date = datetime.date(2021, 9, 1)\n",
      "monthly_portfolio_return = -0.0866\n",
      "risk_free_return = -0.0154\n",
      "mark_date = datetime.date(2021, 10, 1)\n"
     ]
    },
    {
     "name": "stderr",
     "output_type": "stream",
     "text": [
      "/home/josh/Documents/GitHub/ropacea/ropacea/Single_factor.py:67: FutureWarning:\n",
      "\n",
      "The behavior of DataFrame concatenation with empty or all-NA entries is deprecated. In a future version, this will no longer exclude empty or all-NA columns when determining the result dtypes. To retain the old behavior, exclude the relevant entries before the concat operation.\n",
      "\n",
      "/home/josh/Documents/GitHub/ropacea/ropacea/Single_factor.py:67: FutureWarning:\n",
      "\n",
      "The behavior of DataFrame concatenation with empty or all-NA entries is deprecated. In a future version, this will no longer exclude empty or all-NA columns when determining the result dtypes. To retain the old behavior, exclude the relevant entries before the concat operation.\n",
      "\n"
     ]
    },
    {
     "name": "stdout",
     "output_type": "stream",
     "text": [
      "monthly_portfolio_return = 0.1662\n",
      "risk_free_return = -0.0049\n",
      "mark_date = datetime.date(2021, 11, 1)\n",
      "monthly_portfolio_return = 0.1171\n",
      "risk_free_return = 0.0125\n",
      "mark_date = datetime.date(2021, 12, 1)\n"
     ]
    },
    {
     "name": "stderr",
     "output_type": "stream",
     "text": [
      "/home/josh/Documents/GitHub/ropacea/ropacea/Single_factor.py:67: FutureWarning:\n",
      "\n",
      "The behavior of DataFrame concatenation with empty or all-NA entries is deprecated. In a future version, this will no longer exclude empty or all-NA columns when determining the result dtypes. To retain the old behavior, exclude the relevant entries before the concat operation.\n",
      "\n",
      "/home/josh/Documents/GitHub/ropacea/ropacea/Single_factor.py:67: FutureWarning:\n",
      "\n",
      "The behavior of DataFrame concatenation with empty or all-NA entries is deprecated. In a future version, this will no longer exclude empty or all-NA columns when determining the result dtypes. To retain the old behavior, exclude the relevant entries before the concat operation.\n",
      "\n"
     ]
    },
    {
     "name": "stdout",
     "output_type": "stream",
     "text": [
      "monthly_portfolio_return = -0.0444\n",
      "risk_free_return = -0.0047\n",
      "========== SUMMARY ==========\n",
      "monthly_returns_bp_mean = 295.81\n",
      "monthly_returns_bp_std = 713.05\n",
      "annualized_mean_pct = 41.88\n",
      "annualized_std_pct = 24.70\n",
      "sharpe_ratio = 1.70\n",
      "mark_date = datetime.date(2017, 1, 1)\n",
      "monthly_portfolio_return = 0.0425\n",
      "risk_free_return = 0.0022\n",
      "mark_date = datetime.date(2017, 2, 1)\n"
     ]
    },
    {
     "name": "stderr",
     "output_type": "stream",
     "text": [
      "/home/josh/Documents/GitHub/ropacea/ropacea/Single_factor.py:67: FutureWarning:\n",
      "\n",
      "The behavior of DataFrame concatenation with empty or all-NA entries is deprecated. In a future version, this will no longer exclude empty or all-NA columns when determining the result dtypes. To retain the old behavior, exclude the relevant entries before the concat operation.\n",
      "\n",
      "/home/josh/Documents/GitHub/ropacea/ropacea/Single_factor.py:67: FutureWarning:\n",
      "\n",
      "The behavior of DataFrame concatenation with empty or all-NA entries is deprecated. In a future version, this will no longer exclude empty or all-NA columns when determining the result dtypes. To retain the old behavior, exclude the relevant entries before the concat operation.\n",
      "\n"
     ]
    },
    {
     "name": "stdout",
     "output_type": "stream",
     "text": [
      "monthly_portfolio_return = -0.0072\n",
      "risk_free_return = 0.0074\n",
      "mark_date = datetime.date(2017, 3, 1)\n",
      "monthly_portfolio_return = 0.0495\n",
      "risk_free_return = 0.0024\n",
      "mark_date = datetime.date(2017, 4, 1)\n"
     ]
    },
    {
     "name": "stderr",
     "output_type": "stream",
     "text": [
      "/home/josh/Documents/GitHub/ropacea/ropacea/Single_factor.py:67: FutureWarning:\n",
      "\n",
      "The behavior of DataFrame concatenation with empty or all-NA entries is deprecated. In a future version, this will no longer exclude empty or all-NA columns when determining the result dtypes. To retain the old behavior, exclude the relevant entries before the concat operation.\n",
      "\n",
      "/home/josh/Documents/GitHub/ropacea/ropacea/Single_factor.py:67: FutureWarning:\n",
      "\n",
      "The behavior of DataFrame concatenation with empty or all-NA entries is deprecated. In a future version, this will no longer exclude empty or all-NA columns when determining the result dtypes. To retain the old behavior, exclude the relevant entries before the concat operation.\n",
      "\n"
     ]
    },
    {
     "name": "stdout",
     "output_type": "stream",
     "text": [
      "monthly_portfolio_return = -0.0060\n",
      "risk_free_return = 0.0111\n",
      "mark_date = datetime.date(2017, 5, 1)\n",
      "monthly_portfolio_return = 0.1713\n",
      "risk_free_return = 0.0079\n",
      "mark_date = datetime.date(2017, 6, 1)\n"
     ]
    },
    {
     "name": "stderr",
     "output_type": "stream",
     "text": [
      "/home/josh/Documents/GitHub/ropacea/ropacea/Single_factor.py:67: FutureWarning:\n",
      "\n",
      "The behavior of DataFrame concatenation with empty or all-NA entries is deprecated. In a future version, this will no longer exclude empty or all-NA columns when determining the result dtypes. To retain the old behavior, exclude the relevant entries before the concat operation.\n",
      "\n",
      "/home/josh/Documents/GitHub/ropacea/ropacea/Single_factor.py:67: FutureWarning:\n",
      "\n",
      "The behavior of DataFrame concatenation with empty or all-NA entries is deprecated. In a future version, this will no longer exclude empty or all-NA columns when determining the result dtypes. To retain the old behavior, exclude the relevant entries before the concat operation.\n",
      "\n"
     ]
    },
    {
     "name": "stdout",
     "output_type": "stream",
     "text": [
      "monthly_portfolio_return = -0.0065\n",
      "risk_free_return = -0.0013\n",
      "mark_date = datetime.date(2017, 7, 1)\n",
      "monthly_portfolio_return = 0.0651\n",
      "risk_free_return = -0.0000\n",
      "mark_date = datetime.date(2017, 8, 1)\n"
     ]
    },
    {
     "name": "stderr",
     "output_type": "stream",
     "text": [
      "/home/josh/Documents/GitHub/ropacea/ropacea/Single_factor.py:67: FutureWarning:\n",
      "\n",
      "The behavior of DataFrame concatenation with empty or all-NA entries is deprecated. In a future version, this will no longer exclude empty or all-NA columns when determining the result dtypes. To retain the old behavior, exclude the relevant entries before the concat operation.\n",
      "\n",
      "/home/josh/Documents/GitHub/ropacea/ropacea/Single_factor.py:67: FutureWarning:\n",
      "\n",
      "The behavior of DataFrame concatenation with empty or all-NA entries is deprecated. In a future version, this will no longer exclude empty or all-NA columns when determining the result dtypes. To retain the old behavior, exclude the relevant entries before the concat operation.\n",
      "\n"
     ]
    },
    {
     "name": "stdout",
     "output_type": "stream",
     "text": [
      "monthly_portfolio_return = 0.0389\n",
      "risk_free_return = 0.0171\n",
      "mark_date = datetime.date(2017, 9, 1)\n",
      "monthly_portfolio_return = 0.0252\n",
      "risk_free_return = -0.0172\n",
      "mark_date = datetime.date(2017, 10, 1)\n"
     ]
    },
    {
     "name": "stderr",
     "output_type": "stream",
     "text": [
      "/home/josh/Documents/GitHub/ropacea/ropacea/Single_factor.py:67: FutureWarning:\n",
      "\n",
      "The behavior of DataFrame concatenation with empty or all-NA entries is deprecated. In a future version, this will no longer exclude empty or all-NA columns when determining the result dtypes. To retain the old behavior, exclude the relevant entries before the concat operation.\n",
      "\n",
      "/home/josh/Documents/GitHub/ropacea/ropacea/Single_factor.py:67: FutureWarning:\n",
      "\n",
      "The behavior of DataFrame concatenation with empty or all-NA entries is deprecated. In a future version, this will no longer exclude empty or all-NA columns when determining the result dtypes. To retain the old behavior, exclude the relevant entries before the concat operation.\n",
      "\n"
     ]
    },
    {
     "name": "stdout",
     "output_type": "stream",
     "text": [
      "monthly_portfolio_return = 0.1276\n",
      "risk_free_return = -0.0011\n",
      "mark_date = datetime.date(2017, 11, 1)\n",
      "monthly_portfolio_return = 0.0060\n",
      "risk_free_return = -0.0026\n",
      "mark_date = datetime.date(2017, 12, 1)\n"
     ]
    },
    {
     "name": "stderr",
     "output_type": "stream",
     "text": [
      "/home/josh/Documents/GitHub/ropacea/ropacea/Single_factor.py:67: FutureWarning:\n",
      "\n",
      "The behavior of DataFrame concatenation with empty or all-NA entries is deprecated. In a future version, this will no longer exclude empty or all-NA columns when determining the result dtypes. To retain the old behavior, exclude the relevant entries before the concat operation.\n",
      "\n",
      "/home/josh/Documents/GitHub/ropacea/ropacea/Single_factor.py:67: FutureWarning:\n",
      "\n",
      "The behavior of DataFrame concatenation with empty or all-NA entries is deprecated. In a future version, this will no longer exclude empty or all-NA columns when determining the result dtypes. To retain the old behavior, exclude the relevant entries before the concat operation.\n",
      "\n"
     ]
    },
    {
     "name": "stdout",
     "output_type": "stream",
     "text": [
      "monthly_portfolio_return = -0.0009\n",
      "risk_free_return = 0.0022\n",
      "mark_date = datetime.date(2018, 1, 1)\n",
      "monthly_portfolio_return = 0.1586\n",
      "risk_free_return = -0.0236\n",
      "mark_date = datetime.date(2018, 2, 1)\n"
     ]
    },
    {
     "name": "stderr",
     "output_type": "stream",
     "text": [
      "/home/josh/Documents/GitHub/ropacea/ropacea/Single_factor.py:67: FutureWarning:\n",
      "\n",
      "The behavior of DataFrame concatenation with empty or all-NA entries is deprecated. In a future version, this will no longer exclude empty or all-NA columns when determining the result dtypes. To retain the old behavior, exclude the relevant entries before the concat operation.\n",
      "\n",
      "/home/josh/Documents/GitHub/ropacea/ropacea/Single_factor.py:67: FutureWarning:\n",
      "\n",
      "The behavior of DataFrame concatenation with empty or all-NA entries is deprecated. In a future version, this will no longer exclude empty or all-NA columns when determining the result dtypes. To retain the old behavior, exclude the relevant entries before the concat operation.\n",
      "\n"
     ]
    },
    {
     "name": "stdout",
     "output_type": "stream",
     "text": [
      "monthly_portfolio_return = 0.0078\n",
      "risk_free_return = -0.0130\n",
      "mark_date = datetime.date(2018, 3, 1)\n",
      "monthly_portfolio_return = -0.0180\n",
      "risk_free_return = 0.0128\n",
      "mark_date = datetime.date(2018, 4, 1)\n"
     ]
    },
    {
     "name": "stderr",
     "output_type": "stream",
     "text": [
      "/home/josh/Documents/GitHub/ropacea/ropacea/Single_factor.py:67: FutureWarning:\n",
      "\n",
      "The behavior of DataFrame concatenation with empty or all-NA entries is deprecated. In a future version, this will no longer exclude empty or all-NA columns when determining the result dtypes. To retain the old behavior, exclude the relevant entries before the concat operation.\n",
      "\n",
      "/home/josh/Documents/GitHub/ropacea/ropacea/Single_factor.py:67: FutureWarning:\n",
      "\n",
      "The behavior of DataFrame concatenation with empty or all-NA entries is deprecated. In a future version, this will no longer exclude empty or all-NA columns when determining the result dtypes. To retain the old behavior, exclude the relevant entries before the concat operation.\n",
      "\n"
     ]
    },
    {
     "name": "stdout",
     "output_type": "stream",
     "text": [
      "monthly_portfolio_return = -0.0007\n",
      "risk_free_return = -0.0155\n",
      "mark_date = datetime.date(2018, 5, 1)\n",
      "monthly_portfolio_return = 0.1020\n",
      "risk_free_return = 0.0096\n",
      "mark_date = datetime.date(2018, 6, 1)\n"
     ]
    },
    {
     "name": "stderr",
     "output_type": "stream",
     "text": [
      "/home/josh/Documents/GitHub/ropacea/ropacea/Single_factor.py:67: FutureWarning:\n",
      "\n",
      "The behavior of DataFrame concatenation with empty or all-NA entries is deprecated. In a future version, this will no longer exclude empty or all-NA columns when determining the result dtypes. To retain the old behavior, exclude the relevant entries before the concat operation.\n",
      "\n",
      "/home/josh/Documents/GitHub/ropacea/ropacea/Single_factor.py:67: FutureWarning:\n",
      "\n",
      "The behavior of DataFrame concatenation with empty or all-NA entries is deprecated. In a future version, this will no longer exclude empty or all-NA columns when determining the result dtypes. To retain the old behavior, exclude the relevant entries before the concat operation.\n",
      "\n"
     ]
    },
    {
     "name": "stdout",
     "output_type": "stream",
     "text": [
      "monthly_portfolio_return = -0.0190\n",
      "risk_free_return = 0.0023\n",
      "mark_date = datetime.date(2018, 7, 1)\n",
      "monthly_portfolio_return = 0.0210\n",
      "risk_free_return = -0.0051\n",
      "mark_date = datetime.date(2018, 8, 1)\n"
     ]
    },
    {
     "name": "stderr",
     "output_type": "stream",
     "text": [
      "/home/josh/Documents/GitHub/ropacea/ropacea/Single_factor.py:67: FutureWarning:\n",
      "\n",
      "The behavior of DataFrame concatenation with empty or all-NA entries is deprecated. In a future version, this will no longer exclude empty or all-NA columns when determining the result dtypes. To retain the old behavior, exclude the relevant entries before the concat operation.\n",
      "\n",
      "/home/josh/Documents/GitHub/ropacea/ropacea/Single_factor.py:67: FutureWarning:\n",
      "\n",
      "The behavior of DataFrame concatenation with empty or all-NA entries is deprecated. In a future version, this will no longer exclude empty or all-NA columns when determining the result dtypes. To retain the old behavior, exclude the relevant entries before the concat operation.\n",
      "\n"
     ]
    },
    {
     "name": "stdout",
     "output_type": "stream",
     "text": [
      "monthly_portfolio_return = 0.0913\n",
      "risk_free_return = 0.0101\n",
      "mark_date = datetime.date(2018, 9, 1)\n",
      "monthly_portfolio_return = 0.0093\n",
      "risk_free_return = -0.0148\n",
      "mark_date = datetime.date(2018, 10, 1)\n"
     ]
    },
    {
     "name": "stderr",
     "output_type": "stream",
     "text": [
      "/home/josh/Documents/GitHub/ropacea/ropacea/Single_factor.py:67: FutureWarning:\n",
      "\n",
      "The behavior of DataFrame concatenation with empty or all-NA entries is deprecated. In a future version, this will no longer exclude empty or all-NA columns when determining the result dtypes. To retain the old behavior, exclude the relevant entries before the concat operation.\n",
      "\n",
      "/home/josh/Documents/GitHub/ropacea/ropacea/Single_factor.py:67: FutureWarning:\n",
      "\n",
      "The behavior of DataFrame concatenation with empty or all-NA entries is deprecated. In a future version, this will no longer exclude empty or all-NA columns when determining the result dtypes. To retain the old behavior, exclude the relevant entries before the concat operation.\n",
      "\n"
     ]
    },
    {
     "name": "stdout",
     "output_type": "stream",
     "text": [
      "monthly_portfolio_return = -0.1280\n",
      "risk_free_return = -0.0043\n",
      "mark_date = datetime.date(2018, 11, 1)\n",
      "monthly_portfolio_return = -0.0603\n",
      "risk_free_return = 0.0149\n",
      "mark_date = datetime.date(2018, 12, 1)\n"
     ]
    },
    {
     "name": "stderr",
     "output_type": "stream",
     "text": [
      "/home/josh/Documents/GitHub/ropacea/ropacea/Single_factor.py:67: FutureWarning:\n",
      "\n",
      "The behavior of DataFrame concatenation with empty or all-NA entries is deprecated. In a future version, this will no longer exclude empty or all-NA columns when determining the result dtypes. To retain the old behavior, exclude the relevant entries before the concat operation.\n",
      "\n",
      "/home/josh/Documents/GitHub/ropacea/ropacea/Single_factor.py:67: FutureWarning:\n",
      "\n",
      "The behavior of DataFrame concatenation with empty or all-NA entries is deprecated. In a future version, this will no longer exclude empty or all-NA columns when determining the result dtypes. To retain the old behavior, exclude the relevant entries before the concat operation.\n",
      "\n"
     ]
    },
    {
     "name": "stdout",
     "output_type": "stream",
     "text": [
      "monthly_portfolio_return = -0.1170\n",
      "risk_free_return = 0.0286\n",
      "mark_date = datetime.date(2019, 1, 1)\n",
      "monthly_portfolio_return = 0.0675\n",
      "risk_free_return = 0.0071\n",
      "mark_date = datetime.date(2019, 2, 1)\n"
     ]
    },
    {
     "name": "stderr",
     "output_type": "stream",
     "text": [
      "/home/josh/Documents/GitHub/ropacea/ropacea/Single_factor.py:67: FutureWarning:\n",
      "\n",
      "The behavior of DataFrame concatenation with empty or all-NA entries is deprecated. In a future version, this will no longer exclude empty or all-NA columns when determining the result dtypes. To retain the old behavior, exclude the relevant entries before the concat operation.\n",
      "\n",
      "/home/josh/Documents/GitHub/ropacea/ropacea/Single_factor.py:67: FutureWarning:\n",
      "\n",
      "The behavior of DataFrame concatenation with empty or all-NA entries is deprecated. In a future version, this will no longer exclude empty or all-NA columns when determining the result dtypes. To retain the old behavior, exclude the relevant entries before the concat operation.\n",
      "\n"
     ]
    },
    {
     "name": "stdout",
     "output_type": "stream",
     "text": [
      "monthly_portfolio_return = 0.0673\n",
      "risk_free_return = -0.0043\n",
      "mark_date = datetime.date(2019, 3, 1)\n",
      "monthly_portfolio_return = 0.0774\n",
      "risk_free_return = 0.0294\n",
      "mark_date = datetime.date(2019, 4, 1)\n"
     ]
    },
    {
     "name": "stderr",
     "output_type": "stream",
     "text": [
      "/home/josh/Documents/GitHub/ropacea/ropacea/Single_factor.py:67: FutureWarning:\n",
      "\n",
      "The behavior of DataFrame concatenation with empty or all-NA entries is deprecated. In a future version, this will no longer exclude empty or all-NA columns when determining the result dtypes. To retain the old behavior, exclude the relevant entries before the concat operation.\n",
      "\n",
      "/home/josh/Documents/GitHub/ropacea/ropacea/Single_factor.py:67: FutureWarning:\n",
      "\n",
      "The behavior of DataFrame concatenation with empty or all-NA entries is deprecated. In a future version, this will no longer exclude empty or all-NA columns when determining the result dtypes. To retain the old behavior, exclude the relevant entries before the concat operation.\n",
      "\n"
     ]
    },
    {
     "name": "stdout",
     "output_type": "stream",
     "text": [
      "monthly_portfolio_return = 0.0645\n",
      "risk_free_return = -0.0062\n",
      "mark_date = datetime.date(2019, 5, 1)\n",
      "monthly_portfolio_return = -0.1007\n",
      "risk_free_return = 0.0319\n",
      "mark_date = datetime.date(2019, 6, 1)\n"
     ]
    },
    {
     "name": "stderr",
     "output_type": "stream",
     "text": [
      "/home/josh/Documents/GitHub/ropacea/ropacea/Single_factor.py:67: FutureWarning:\n",
      "\n",
      "The behavior of DataFrame concatenation with empty or all-NA entries is deprecated. In a future version, this will no longer exclude empty or all-NA columns when determining the result dtypes. To retain the old behavior, exclude the relevant entries before the concat operation.\n",
      "\n",
      "/home/josh/Documents/GitHub/ropacea/ropacea/Single_factor.py:67: FutureWarning:\n",
      "\n",
      "The behavior of DataFrame concatenation with empty or all-NA entries is deprecated. In a future version, this will no longer exclude empty or all-NA columns when determining the result dtypes. To retain the old behavior, exclude the relevant entries before the concat operation.\n",
      "\n"
     ]
    },
    {
     "name": "stdout",
     "output_type": "stream",
     "text": [
      "monthly_portfolio_return = 0.1066\n",
      "risk_free_return = 0.0121\n",
      "mark_date = datetime.date(2019, 7, 1)\n",
      "monthly_portfolio_return = 0.0224\n",
      "risk_free_return = 0.0034\n",
      "mark_date = datetime.date(2019, 8, 1)\n"
     ]
    },
    {
     "name": "stderr",
     "output_type": "stream",
     "text": [
      "/home/josh/Documents/GitHub/ropacea/ropacea/Single_factor.py:67: FutureWarning:\n",
      "\n",
      "The behavior of DataFrame concatenation with empty or all-NA entries is deprecated. In a future version, this will no longer exclude empty or all-NA columns when determining the result dtypes. To retain the old behavior, exclude the relevant entries before the concat operation.\n",
      "\n",
      "/home/josh/Documents/GitHub/ropacea/ropacea/Single_factor.py:67: FutureWarning:\n",
      "\n",
      "The behavior of DataFrame concatenation with empty or all-NA entries is deprecated. In a future version, this will no longer exclude empty or all-NA columns when determining the result dtypes. To retain the old behavior, exclude the relevant entries before the concat operation.\n",
      "\n"
     ]
    },
    {
     "name": "stdout",
     "output_type": "stream",
     "text": [
      "monthly_portfolio_return = -0.0068\n",
      "risk_free_return = 0.0403\n",
      "mark_date = datetime.date(2019, 9, 1)\n",
      "monthly_portfolio_return = -0.0077\n",
      "risk_free_return = -0.0139\n",
      "mark_date = datetime.date(2019, 10, 1)\n"
     ]
    },
    {
     "name": "stderr",
     "output_type": "stream",
     "text": [
      "/home/josh/Documents/GitHub/ropacea/ropacea/Single_factor.py:67: FutureWarning:\n",
      "\n",
      "The behavior of DataFrame concatenation with empty or all-NA entries is deprecated. In a future version, this will no longer exclude empty or all-NA columns when determining the result dtypes. To retain the old behavior, exclude the relevant entries before the concat operation.\n",
      "\n",
      "/home/josh/Documents/GitHub/ropacea/ropacea/Single_factor.py:67: FutureWarning:\n",
      "\n",
      "The behavior of DataFrame concatenation with empty or all-NA entries is deprecated. In a future version, this will no longer exclude empty or all-NA columns when determining the result dtypes. To retain the old behavior, exclude the relevant entries before the concat operation.\n",
      "\n"
     ]
    },
    {
     "name": "stdout",
     "output_type": "stream",
     "text": [
      "monthly_portfolio_return = 0.0495\n",
      "risk_free_return = -0.0007\n",
      "mark_date = datetime.date(2019, 11, 1)\n",
      "monthly_portfolio_return = 0.0800\n",
      "risk_free_return = -0.0074\n",
      "mark_date = datetime.date(2019, 12, 1)\n"
     ]
    },
    {
     "name": "stderr",
     "output_type": "stream",
     "text": [
      "/home/josh/Documents/GitHub/ropacea/ropacea/Single_factor.py:67: FutureWarning:\n",
      "\n",
      "The behavior of DataFrame concatenation with empty or all-NA entries is deprecated. In a future version, this will no longer exclude empty or all-NA columns when determining the result dtypes. To retain the old behavior, exclude the relevant entries before the concat operation.\n",
      "\n",
      "/home/josh/Documents/GitHub/ropacea/ropacea/Single_factor.py:67: FutureWarning:\n",
      "\n",
      "The behavior of DataFrame concatenation with empty or all-NA entries is deprecated. In a future version, this will no longer exclude empty or all-NA columns when determining the result dtypes. To retain the old behavior, exclude the relevant entries before the concat operation.\n",
      "\n"
     ]
    },
    {
     "name": "stdout",
     "output_type": "stream",
     "text": [
      "monthly_portfolio_return = 0.0553\n",
      "risk_free_return = -0.0113\n",
      "mark_date = datetime.date(2020, 1, 1)\n",
      "monthly_portfolio_return = 0.0515\n",
      "risk_free_return = 0.0392\n",
      "mark_date = datetime.date(2020, 2, 1)\n"
     ]
    },
    {
     "name": "stderr",
     "output_type": "stream",
     "text": [
      "/home/josh/Documents/GitHub/ropacea/ropacea/Single_factor.py:67: FutureWarning:\n",
      "\n",
      "The behavior of DataFrame concatenation with empty or all-NA entries is deprecated. In a future version, this will no longer exclude empty or all-NA columns when determining the result dtypes. To retain the old behavior, exclude the relevant entries before the concat operation.\n",
      "\n",
      "/home/josh/Documents/GitHub/ropacea/ropacea/Single_factor.py:67: FutureWarning:\n",
      "\n",
      "The behavior of DataFrame concatenation with empty or all-NA entries is deprecated. In a future version, this will no longer exclude empty or all-NA columns when determining the result dtypes. To retain the old behavior, exclude the relevant entries before the concat operation.\n",
      "\n"
     ]
    },
    {
     "name": "stdout",
     "output_type": "stream",
     "text": [
      "monthly_portfolio_return = -0.0020\n",
      "risk_free_return = 0.0299\n",
      "mark_date = datetime.date(2020, 3, 1)\n",
      "monthly_portfolio_return = -0.0833\n",
      "risk_free_return = 0.0397\n",
      "mark_date = datetime.date(2020, 4, 1)\n"
     ]
    },
    {
     "name": "stderr",
     "output_type": "stream",
     "text": [
      "/home/josh/Documents/GitHub/ropacea/ropacea/Single_factor.py:67: FutureWarning:\n",
      "\n",
      "The behavior of DataFrame concatenation with empty or all-NA entries is deprecated. In a future version, this will no longer exclude empty or all-NA columns when determining the result dtypes. To retain the old behavior, exclude the relevant entries before the concat operation.\n",
      "\n",
      "/home/josh/Documents/GitHub/ropacea/ropacea/Single_factor.py:67: FutureWarning:\n",
      "\n",
      "The behavior of DataFrame concatenation with empty or all-NA entries is deprecated. In a future version, this will no longer exclude empty or all-NA columns when determining the result dtypes. To retain the old behavior, exclude the relevant entries before the concat operation.\n",
      "\n"
     ]
    },
    {
     "name": "stdout",
     "output_type": "stream",
     "text": [
      "monthly_portfolio_return = 0.1323\n",
      "risk_free_return = 0.0050\n",
      "mark_date = datetime.date(2020, 5, 1)\n",
      "monthly_portfolio_return = 0.0831\n",
      "risk_free_return = 0.0007\n",
      "mark_date = datetime.date(2020, 6, 1)\n"
     ]
    },
    {
     "name": "stderr",
     "output_type": "stream",
     "text": [
      "/home/josh/Documents/GitHub/ropacea/ropacea/Single_factor.py:67: FutureWarning:\n",
      "\n",
      "The behavior of DataFrame concatenation with empty or all-NA entries is deprecated. In a future version, this will no longer exclude empty or all-NA columns when determining the result dtypes. To retain the old behavior, exclude the relevant entries before the concat operation.\n",
      "\n",
      "/home/josh/Documents/GitHub/ropacea/ropacea/Single_factor.py:67: FutureWarning:\n",
      "\n",
      "The behavior of DataFrame concatenation with empty or all-NA entries is deprecated. In a future version, this will no longer exclude empty or all-NA columns when determining the result dtypes. To retain the old behavior, exclude the relevant entries before the concat operation.\n",
      "\n"
     ]
    },
    {
     "name": "stdout",
     "output_type": "stream",
     "text": [
      "monthly_portfolio_return = 0.0848\n",
      "risk_free_return = 0.0004\n",
      "mark_date = datetime.date(2020, 7, 1)\n",
      "monthly_portfolio_return = 0.0481\n",
      "risk_free_return = 0.0128\n",
      "mark_date = datetime.date(2020, 8, 1)\n"
     ]
    },
    {
     "name": "stderr",
     "output_type": "stream",
     "text": [
      "/home/josh/Documents/GitHub/ropacea/ropacea/Single_factor.py:67: FutureWarning:\n",
      "\n",
      "The behavior of DataFrame concatenation with empty or all-NA entries is deprecated. In a future version, this will no longer exclude empty or all-NA columns when determining the result dtypes. To retain the old behavior, exclude the relevant entries before the concat operation.\n",
      "\n",
      "/home/josh/Documents/GitHub/ropacea/ropacea/Single_factor.py:67: FutureWarning:\n",
      "\n",
      "The behavior of DataFrame concatenation with empty or all-NA entries is deprecated. In a future version, this will no longer exclude empty or all-NA columns when determining the result dtypes. To retain the old behavior, exclude the relevant entries before the concat operation.\n",
      "\n"
     ]
    },
    {
     "name": "stdout",
     "output_type": "stream",
     "text": [
      "monthly_portfolio_return = 0.1451\n",
      "risk_free_return = -0.0147\n",
      "mark_date = datetime.date(2020, 9, 1)\n",
      "monthly_portfolio_return = -0.0472\n",
      "risk_free_return = 0.0026\n",
      "mark_date = datetime.date(2020, 10, 1)\n"
     ]
    },
    {
     "name": "stderr",
     "output_type": "stream",
     "text": [
      "/home/josh/Documents/GitHub/ropacea/ropacea/Single_factor.py:67: FutureWarning:\n",
      "\n",
      "The behavior of DataFrame concatenation with empty or all-NA entries is deprecated. In a future version, this will no longer exclude empty or all-NA columns when determining the result dtypes. To retain the old behavior, exclude the relevant entries before the concat operation.\n",
      "\n",
      "/home/josh/Documents/GitHub/ropacea/ropacea/Single_factor.py:67: FutureWarning:\n",
      "\n",
      "The behavior of DataFrame concatenation with empty or all-NA entries is deprecated. In a future version, this will no longer exclude empty or all-NA columns when determining the result dtypes. To retain the old behavior, exclude the relevant entries before the concat operation.\n",
      "\n"
     ]
    },
    {
     "name": "stdout",
     "output_type": "stream",
     "text": [
      "monthly_portfolio_return = -0.0669\n",
      "risk_free_return = -0.0173\n",
      "mark_date = datetime.date(2020, 11, 1)\n",
      "monthly_portfolio_return = 0.0706\n",
      "risk_free_return = 0.0040\n",
      "mark_date = datetime.date(2020, 12, 1)\n"
     ]
    },
    {
     "name": "stderr",
     "output_type": "stream",
     "text": [
      "/home/josh/Documents/GitHub/ropacea/ropacea/Single_factor.py:67: FutureWarning:\n",
      "\n",
      "The behavior of DataFrame concatenation with empty or all-NA entries is deprecated. In a future version, this will no longer exclude empty or all-NA columns when determining the result dtypes. To retain the old behavior, exclude the relevant entries before the concat operation.\n",
      "\n",
      "/home/josh/Documents/GitHub/ropacea/ropacea/Single_factor.py:67: FutureWarning:\n",
      "\n",
      "The behavior of DataFrame concatenation with empty or all-NA entries is deprecated. In a future version, this will no longer exclude empty or all-NA columns when determining the result dtypes. To retain the old behavior, exclude the relevant entries before the concat operation.\n",
      "\n"
     ]
    },
    {
     "name": "stdout",
     "output_type": "stream",
     "text": [
      "monthly_portfolio_return = 0.0379\n",
      "risk_free_return = -0.0050\n",
      "mark_date = datetime.date(2021, 1, 1)\n",
      "monthly_portfolio_return = -0.0250\n",
      "risk_free_return = -0.0107\n",
      "mark_date = datetime.date(2021, 2, 1)\n"
     ]
    },
    {
     "name": "stderr",
     "output_type": "stream",
     "text": [
      "/home/josh/Documents/GitHub/ropacea/ropacea/Single_factor.py:67: FutureWarning:\n",
      "\n",
      "The behavior of DataFrame concatenation with empty or all-NA entries is deprecated. In a future version, this will no longer exclude empty or all-NA columns when determining the result dtypes. To retain the old behavior, exclude the relevant entries before the concat operation.\n",
      "\n",
      "/home/josh/Documents/GitHub/ropacea/ropacea/Single_factor.py:67: FutureWarning:\n",
      "\n",
      "The behavior of DataFrame concatenation with empty or all-NA entries is deprecated. In a future version, this will no longer exclude empty or all-NA columns when determining the result dtypes. To retain the old behavior, exclude the relevant entries before the concat operation.\n",
      "\n"
     ]
    },
    {
     "name": "stdout",
     "output_type": "stream",
     "text": [
      "monthly_portfolio_return = 0.0020\n",
      "risk_free_return = -0.0254\n",
      "mark_date = datetime.date(2021, 3, 1)\n",
      "monthly_portfolio_return = 0.0032\n",
      "risk_free_return = -0.0293\n",
      "mark_date = datetime.date(2021, 4, 1)\n"
     ]
    },
    {
     "name": "stderr",
     "output_type": "stream",
     "text": [
      "/home/josh/Documents/GitHub/ropacea/ropacea/Single_factor.py:67: FutureWarning:\n",
      "\n",
      "The behavior of DataFrame concatenation with empty or all-NA entries is deprecated. In a future version, this will no longer exclude empty or all-NA columns when determining the result dtypes. To retain the old behavior, exclude the relevant entries before the concat operation.\n",
      "\n",
      "/home/josh/Documents/GitHub/ropacea/ropacea/Single_factor.py:67: FutureWarning:\n",
      "\n",
      "The behavior of DataFrame concatenation with empty or all-NA entries is deprecated. In a future version, this will no longer exclude empty or all-NA columns when determining the result dtypes. To retain the old behavior, exclude the relevant entries before the concat operation.\n",
      "\n"
     ]
    },
    {
     "name": "stdout",
     "output_type": "stream",
     "text": [
      "monthly_portfolio_return = 0.0921\n",
      "risk_free_return = 0.0119\n",
      "mark_date = datetime.date(2021, 5, 1)\n",
      "monthly_portfolio_return = 0.0130\n",
      "risk_free_return = 0.0034\n",
      "mark_date = datetime.date(2021, 6, 1)\n"
     ]
    },
    {
     "name": "stderr",
     "output_type": "stream",
     "text": [
      "/home/josh/Documents/GitHub/ropacea/ropacea/Single_factor.py:67: FutureWarning:\n",
      "\n",
      "The behavior of DataFrame concatenation with empty or all-NA entries is deprecated. In a future version, this will no longer exclude empty or all-NA columns when determining the result dtypes. To retain the old behavior, exclude the relevant entries before the concat operation.\n",
      "\n",
      "/home/josh/Documents/GitHub/ropacea/ropacea/Single_factor.py:67: FutureWarning:\n",
      "\n",
      "The behavior of DataFrame concatenation with empty or all-NA entries is deprecated. In a future version, this will no longer exclude empty or all-NA columns when determining the result dtypes. To retain the old behavior, exclude the relevant entries before the concat operation.\n",
      "\n"
     ]
    },
    {
     "name": "stdout",
     "output_type": "stream",
     "text": [
      "monthly_portfolio_return = 0.1603\n",
      "risk_free_return = 0.0141\n",
      "mark_date = datetime.date(2021, 7, 1)\n",
      "monthly_portfolio_return = 0.0315\n",
      "risk_free_return = 0.0238\n",
      "mark_date = datetime.date(2021, 8, 1)\n"
     ]
    },
    {
     "name": "stderr",
     "output_type": "stream",
     "text": [
      "/home/josh/Documents/GitHub/ropacea/ropacea/Single_factor.py:67: FutureWarning:\n",
      "\n",
      "The behavior of DataFrame concatenation with empty or all-NA entries is deprecated. In a future version, this will no longer exclude empty or all-NA columns when determining the result dtypes. To retain the old behavior, exclude the relevant entries before the concat operation.\n",
      "\n",
      "/home/josh/Documents/GitHub/ropacea/ropacea/Single_factor.py:67: FutureWarning:\n",
      "\n",
      "The behavior of DataFrame concatenation with empty or all-NA entries is deprecated. In a future version, this will no longer exclude empty or all-NA columns when determining the result dtypes. To retain the old behavior, exclude the relevant entries before the concat operation.\n",
      "\n"
     ]
    },
    {
     "name": "stdout",
     "output_type": "stream",
     "text": [
      "monthly_portfolio_return = 0.0886\n",
      "risk_free_return = -0.0048\n",
      "mark_date = datetime.date(2021, 9, 1)\n",
      "monthly_portfolio_return = -0.0878\n",
      "risk_free_return = -0.0154\n",
      "mark_date = datetime.date(2021, 10, 1)\n"
     ]
    },
    {
     "name": "stderr",
     "output_type": "stream",
     "text": [
      "/home/josh/Documents/GitHub/ropacea/ropacea/Single_factor.py:67: FutureWarning:\n",
      "\n",
      "The behavior of DataFrame concatenation with empty or all-NA entries is deprecated. In a future version, this will no longer exclude empty or all-NA columns when determining the result dtypes. To retain the old behavior, exclude the relevant entries before the concat operation.\n",
      "\n",
      "/home/josh/Documents/GitHub/ropacea/ropacea/Single_factor.py:67: FutureWarning:\n",
      "\n",
      "The behavior of DataFrame concatenation with empty or all-NA entries is deprecated. In a future version, this will no longer exclude empty or all-NA columns when determining the result dtypes. To retain the old behavior, exclude the relevant entries before the concat operation.\n",
      "\n"
     ]
    },
    {
     "name": "stdout",
     "output_type": "stream",
     "text": [
      "monthly_portfolio_return = 0.1699\n",
      "risk_free_return = -0.0049\n",
      "mark_date = datetime.date(2021, 11, 1)\n",
      "monthly_portfolio_return = 0.1369\n",
      "risk_free_return = 0.0125\n",
      "mark_date = datetime.date(2021, 12, 1)\n",
      "monthly_portfolio_return = -0.0526\n",
      "risk_free_return = -0.0047\n",
      "========== SUMMARY ==========\n",
      "monthly_returns_bp_mean = 305.95\n",
      "monthly_returns_bp_std = 745.97\n",
      "annualized_mean_pct = 43.57\n",
      "annualized_std_pct = 25.84\n",
      "sharpe_ratio = 1.69\n"
     ]
    },
    {
     "name": "stderr",
     "output_type": "stream",
     "text": [
      "/home/josh/Documents/GitHub/ropacea/ropacea/Single_factor.py:67: FutureWarning:\n",
      "\n",
      "The behavior of DataFrame concatenation with empty or all-NA entries is deprecated. In a future version, this will no longer exclude empty or all-NA columns when determining the result dtypes. To retain the old behavior, exclude the relevant entries before the concat operation.\n",
      "\n",
      "/home/josh/Documents/GitHub/ropacea/ropacea/Single_factor.py:67: FutureWarning:\n",
      "\n",
      "The behavior of DataFrame concatenation with empty or all-NA entries is deprecated. In a future version, this will no longer exclude empty or all-NA columns when determining the result dtypes. To retain the old behavior, exclude the relevant entries before the concat operation.\n",
      "\n"
     ]
    }
   ],
   "source": [
    "results_single_factor = param_tune(1.5, 2.3, 10, PortfolioStrategy.SINGLE_FACTOR)\n",
    "\n",
    "\n"
   ]
  },
  {
   "cell_type": "code",
   "execution_count": null,
   "metadata": {},
   "outputs": [
    {
     "data": {
      "application/vnd.plotly.v1+json": {
       "config": {
        "plotlyServerURL": "https://plot.ly"
       },
       "data": [
        {
         "hovertemplate": "min_return_ratio=%{x}<br>Sharpe Ratio=%{y}<extra></extra>",
         "legendgroup": "",
         "line": {
          "color": "#636efa",
          "dash": "solid"
         },
         "marker": {
          "symbol": "circle"
         },
         "mode": "lines",
         "name": "",
         "orientation": "v",
         "showlegend": false,
         "type": "scatter",
         "x": [
          1.5,
          1.5888888888888888,
          1.6777777777777778,
          1.7666666666666666,
          1.8555555555555554,
          1.9444444444444442,
          2.033333333333333,
          2.122222222222222,
          2.211111111111111,
          2.3
         ],
         "xaxis": "x",
         "y": [
          1.4526555374501384,
          1.4971079115916786,
          1.5449775589346382,
          1.5834899596349619,
          1.6127429594963574,
          1.6353329072280482,
          1.651690598181695,
          1.6781253364777589,
          1.6955429420195283,
          1.6859920230097443
         ],
         "yaxis": "y"
        }
       ],
       "layout": {
        "legend": {
         "tracegroupgap": 0
        },
        "margin": {
         "t": 60
        },
        "template": {
         "data": {
          "bar": [
           {
            "error_x": {
             "color": "#2a3f5f"
            },
            "error_y": {
             "color": "#2a3f5f"
            },
            "marker": {
             "line": {
              "color": "#E5ECF6",
              "width": 0.5
             },
             "pattern": {
              "fillmode": "overlay",
              "size": 10,
              "solidity": 0.2
             }
            },
            "type": "bar"
           }
          ],
          "barpolar": [
           {
            "marker": {
             "line": {
              "color": "#E5ECF6",
              "width": 0.5
             },
             "pattern": {
              "fillmode": "overlay",
              "size": 10,
              "solidity": 0.2
             }
            },
            "type": "barpolar"
           }
          ],
          "carpet": [
           {
            "aaxis": {
             "endlinecolor": "#2a3f5f",
             "gridcolor": "white",
             "linecolor": "white",
             "minorgridcolor": "white",
             "startlinecolor": "#2a3f5f"
            },
            "baxis": {
             "endlinecolor": "#2a3f5f",
             "gridcolor": "white",
             "linecolor": "white",
             "minorgridcolor": "white",
             "startlinecolor": "#2a3f5f"
            },
            "type": "carpet"
           }
          ],
          "choropleth": [
           {
            "colorbar": {
             "outlinewidth": 0,
             "ticks": ""
            },
            "type": "choropleth"
           }
          ],
          "contour": [
           {
            "colorbar": {
             "outlinewidth": 0,
             "ticks": ""
            },
            "colorscale": [
             [
              0,
              "#0d0887"
             ],
             [
              0.1111111111111111,
              "#46039f"
             ],
             [
              0.2222222222222222,
              "#7201a8"
             ],
             [
              0.3333333333333333,
              "#9c179e"
             ],
             [
              0.4444444444444444,
              "#bd3786"
             ],
             [
              0.5555555555555556,
              "#d8576b"
             ],
             [
              0.6666666666666666,
              "#ed7953"
             ],
             [
              0.7777777777777778,
              "#fb9f3a"
             ],
             [
              0.8888888888888888,
              "#fdca26"
             ],
             [
              1,
              "#f0f921"
             ]
            ],
            "type": "contour"
           }
          ],
          "contourcarpet": [
           {
            "colorbar": {
             "outlinewidth": 0,
             "ticks": ""
            },
            "type": "contourcarpet"
           }
          ],
          "heatmap": [
           {
            "colorbar": {
             "outlinewidth": 0,
             "ticks": ""
            },
            "colorscale": [
             [
              0,
              "#0d0887"
             ],
             [
              0.1111111111111111,
              "#46039f"
             ],
             [
              0.2222222222222222,
              "#7201a8"
             ],
             [
              0.3333333333333333,
              "#9c179e"
             ],
             [
              0.4444444444444444,
              "#bd3786"
             ],
             [
              0.5555555555555556,
              "#d8576b"
             ],
             [
              0.6666666666666666,
              "#ed7953"
             ],
             [
              0.7777777777777778,
              "#fb9f3a"
             ],
             [
              0.8888888888888888,
              "#fdca26"
             ],
             [
              1,
              "#f0f921"
             ]
            ],
            "type": "heatmap"
           }
          ],
          "heatmapgl": [
           {
            "colorbar": {
             "outlinewidth": 0,
             "ticks": ""
            },
            "colorscale": [
             [
              0,
              "#0d0887"
             ],
             [
              0.1111111111111111,
              "#46039f"
             ],
             [
              0.2222222222222222,
              "#7201a8"
             ],
             [
              0.3333333333333333,
              "#9c179e"
             ],
             [
              0.4444444444444444,
              "#bd3786"
             ],
             [
              0.5555555555555556,
              "#d8576b"
             ],
             [
              0.6666666666666666,
              "#ed7953"
             ],
             [
              0.7777777777777778,
              "#fb9f3a"
             ],
             [
              0.8888888888888888,
              "#fdca26"
             ],
             [
              1,
              "#f0f921"
             ]
            ],
            "type": "heatmapgl"
           }
          ],
          "histogram": [
           {
            "marker": {
             "pattern": {
              "fillmode": "overlay",
              "size": 10,
              "solidity": 0.2
             }
            },
            "type": "histogram"
           }
          ],
          "histogram2d": [
           {
            "colorbar": {
             "outlinewidth": 0,
             "ticks": ""
            },
            "colorscale": [
             [
              0,
              "#0d0887"
             ],
             [
              0.1111111111111111,
              "#46039f"
             ],
             [
              0.2222222222222222,
              "#7201a8"
             ],
             [
              0.3333333333333333,
              "#9c179e"
             ],
             [
              0.4444444444444444,
              "#bd3786"
             ],
             [
              0.5555555555555556,
              "#d8576b"
             ],
             [
              0.6666666666666666,
              "#ed7953"
             ],
             [
              0.7777777777777778,
              "#fb9f3a"
             ],
             [
              0.8888888888888888,
              "#fdca26"
             ],
             [
              1,
              "#f0f921"
             ]
            ],
            "type": "histogram2d"
           }
          ],
          "histogram2dcontour": [
           {
            "colorbar": {
             "outlinewidth": 0,
             "ticks": ""
            },
            "colorscale": [
             [
              0,
              "#0d0887"
             ],
             [
              0.1111111111111111,
              "#46039f"
             ],
             [
              0.2222222222222222,
              "#7201a8"
             ],
             [
              0.3333333333333333,
              "#9c179e"
             ],
             [
              0.4444444444444444,
              "#bd3786"
             ],
             [
              0.5555555555555556,
              "#d8576b"
             ],
             [
              0.6666666666666666,
              "#ed7953"
             ],
             [
              0.7777777777777778,
              "#fb9f3a"
             ],
             [
              0.8888888888888888,
              "#fdca26"
             ],
             [
              1,
              "#f0f921"
             ]
            ],
            "type": "histogram2dcontour"
           }
          ],
          "mesh3d": [
           {
            "colorbar": {
             "outlinewidth": 0,
             "ticks": ""
            },
            "type": "mesh3d"
           }
          ],
          "parcoords": [
           {
            "line": {
             "colorbar": {
              "outlinewidth": 0,
              "ticks": ""
             }
            },
            "type": "parcoords"
           }
          ],
          "pie": [
           {
            "automargin": true,
            "type": "pie"
           }
          ],
          "scatter": [
           {
            "fillpattern": {
             "fillmode": "overlay",
             "size": 10,
             "solidity": 0.2
            },
            "type": "scatter"
           }
          ],
          "scatter3d": [
           {
            "line": {
             "colorbar": {
              "outlinewidth": 0,
              "ticks": ""
             }
            },
            "marker": {
             "colorbar": {
              "outlinewidth": 0,
              "ticks": ""
             }
            },
            "type": "scatter3d"
           }
          ],
          "scattercarpet": [
           {
            "marker": {
             "colorbar": {
              "outlinewidth": 0,
              "ticks": ""
             }
            },
            "type": "scattercarpet"
           }
          ],
          "scattergeo": [
           {
            "marker": {
             "colorbar": {
              "outlinewidth": 0,
              "ticks": ""
             }
            },
            "type": "scattergeo"
           }
          ],
          "scattergl": [
           {
            "marker": {
             "colorbar": {
              "outlinewidth": 0,
              "ticks": ""
             }
            },
            "type": "scattergl"
           }
          ],
          "scattermapbox": [
           {
            "marker": {
             "colorbar": {
              "outlinewidth": 0,
              "ticks": ""
             }
            },
            "type": "scattermapbox"
           }
          ],
          "scatterpolar": [
           {
            "marker": {
             "colorbar": {
              "outlinewidth": 0,
              "ticks": ""
             }
            },
            "type": "scatterpolar"
           }
          ],
          "scatterpolargl": [
           {
            "marker": {
             "colorbar": {
              "outlinewidth": 0,
              "ticks": ""
             }
            },
            "type": "scatterpolargl"
           }
          ],
          "scatterternary": [
           {
            "marker": {
             "colorbar": {
              "outlinewidth": 0,
              "ticks": ""
             }
            },
            "type": "scatterternary"
           }
          ],
          "surface": [
           {
            "colorbar": {
             "outlinewidth": 0,
             "ticks": ""
            },
            "colorscale": [
             [
              0,
              "#0d0887"
             ],
             [
              0.1111111111111111,
              "#46039f"
             ],
             [
              0.2222222222222222,
              "#7201a8"
             ],
             [
              0.3333333333333333,
              "#9c179e"
             ],
             [
              0.4444444444444444,
              "#bd3786"
             ],
             [
              0.5555555555555556,
              "#d8576b"
             ],
             [
              0.6666666666666666,
              "#ed7953"
             ],
             [
              0.7777777777777778,
              "#fb9f3a"
             ],
             [
              0.8888888888888888,
              "#fdca26"
             ],
             [
              1,
              "#f0f921"
             ]
            ],
            "type": "surface"
           }
          ],
          "table": [
           {
            "cells": {
             "fill": {
              "color": "#EBF0F8"
             },
             "line": {
              "color": "white"
             }
            },
            "header": {
             "fill": {
              "color": "#C8D4E3"
             },
             "line": {
              "color": "white"
             }
            },
            "type": "table"
           }
          ]
         },
         "layout": {
          "annotationdefaults": {
           "arrowcolor": "#2a3f5f",
           "arrowhead": 0,
           "arrowwidth": 1
          },
          "autotypenumbers": "strict",
          "coloraxis": {
           "colorbar": {
            "outlinewidth": 0,
            "ticks": ""
           }
          },
          "colorscale": {
           "diverging": [
            [
             0,
             "#8e0152"
            ],
            [
             0.1,
             "#c51b7d"
            ],
            [
             0.2,
             "#de77ae"
            ],
            [
             0.3,
             "#f1b6da"
            ],
            [
             0.4,
             "#fde0ef"
            ],
            [
             0.5,
             "#f7f7f7"
            ],
            [
             0.6,
             "#e6f5d0"
            ],
            [
             0.7,
             "#b8e186"
            ],
            [
             0.8,
             "#7fbc41"
            ],
            [
             0.9,
             "#4d9221"
            ],
            [
             1,
             "#276419"
            ]
           ],
           "sequential": [
            [
             0,
             "#0d0887"
            ],
            [
             0.1111111111111111,
             "#46039f"
            ],
            [
             0.2222222222222222,
             "#7201a8"
            ],
            [
             0.3333333333333333,
             "#9c179e"
            ],
            [
             0.4444444444444444,
             "#bd3786"
            ],
            [
             0.5555555555555556,
             "#d8576b"
            ],
            [
             0.6666666666666666,
             "#ed7953"
            ],
            [
             0.7777777777777778,
             "#fb9f3a"
            ],
            [
             0.8888888888888888,
             "#fdca26"
            ],
            [
             1,
             "#f0f921"
            ]
           ],
           "sequentialminus": [
            [
             0,
             "#0d0887"
            ],
            [
             0.1111111111111111,
             "#46039f"
            ],
            [
             0.2222222222222222,
             "#7201a8"
            ],
            [
             0.3333333333333333,
             "#9c179e"
            ],
            [
             0.4444444444444444,
             "#bd3786"
            ],
            [
             0.5555555555555556,
             "#d8576b"
            ],
            [
             0.6666666666666666,
             "#ed7953"
            ],
            [
             0.7777777777777778,
             "#fb9f3a"
            ],
            [
             0.8888888888888888,
             "#fdca26"
            ],
            [
             1,
             "#f0f921"
            ]
           ]
          },
          "colorway": [
           "#636efa",
           "#EF553B",
           "#00cc96",
           "#ab63fa",
           "#FFA15A",
           "#19d3f3",
           "#FF6692",
           "#B6E880",
           "#FF97FF",
           "#FECB52"
          ],
          "font": {
           "color": "#2a3f5f"
          },
          "geo": {
           "bgcolor": "white",
           "lakecolor": "white",
           "landcolor": "#E5ECF6",
           "showlakes": true,
           "showland": true,
           "subunitcolor": "white"
          },
          "hoverlabel": {
           "align": "left"
          },
          "hovermode": "closest",
          "mapbox": {
           "style": "light"
          },
          "paper_bgcolor": "white",
          "plot_bgcolor": "#E5ECF6",
          "polar": {
           "angularaxis": {
            "gridcolor": "white",
            "linecolor": "white",
            "ticks": ""
           },
           "bgcolor": "#E5ECF6",
           "radialaxis": {
            "gridcolor": "white",
            "linecolor": "white",
            "ticks": ""
           }
          },
          "scene": {
           "xaxis": {
            "backgroundcolor": "#E5ECF6",
            "gridcolor": "white",
            "gridwidth": 2,
            "linecolor": "white",
            "showbackground": true,
            "ticks": "",
            "zerolinecolor": "white"
           },
           "yaxis": {
            "backgroundcolor": "#E5ECF6",
            "gridcolor": "white",
            "gridwidth": 2,
            "linecolor": "white",
            "showbackground": true,
            "ticks": "",
            "zerolinecolor": "white"
           },
           "zaxis": {
            "backgroundcolor": "#E5ECF6",
            "gridcolor": "white",
            "gridwidth": 2,
            "linecolor": "white",
            "showbackground": true,
            "ticks": "",
            "zerolinecolor": "white"
           }
          },
          "shapedefaults": {
           "line": {
            "color": "#2a3f5f"
           }
          },
          "ternary": {
           "aaxis": {
            "gridcolor": "white",
            "linecolor": "white",
            "ticks": ""
           },
           "baxis": {
            "gridcolor": "white",
            "linecolor": "white",
            "ticks": ""
           },
           "bgcolor": "#E5ECF6",
           "caxis": {
            "gridcolor": "white",
            "linecolor": "white",
            "ticks": ""
           }
          },
          "title": {
           "x": 0.05
          },
          "xaxis": {
           "automargin": true,
           "gridcolor": "white",
           "linecolor": "white",
           "ticks": "",
           "title": {
            "standoff": 15
           },
           "zerolinecolor": "white",
           "zerolinewidth": 2
          },
          "yaxis": {
           "automargin": true,
           "gridcolor": "white",
           "linecolor": "white",
           "ticks": "",
           "title": {
            "standoff": 15
           },
           "zerolinecolor": "white",
           "zerolinewidth": 2
          }
         }
        },
        "xaxis": {
         "anchor": "y",
         "domain": [
          0,
          1
         ],
         "title": {
          "text": "min_return_ratio"
         }
        },
        "yaxis": {
         "anchor": "x",
         "domain": [
          0,
          1
         ],
         "title": {
          "text": "Sharpe Ratio"
         }
        }
       }
      }
     },
     "metadata": {},
     "output_type": "display_data"
    }
   ],
   "source": [
    "\n",
    "fig = px.line(results_single_factor, x='min_return_ratio', y=\"Sharpe Ratio\")\n",
    "fig.show()"
   ]
  },
  {
   "cell_type": "code",
   "execution_count": 23,
   "metadata": {},
   "outputs": [
    {
     "name": "stdout",
     "output_type": "stream",
     "text": [
      "mark_date = datetime.date(2017, 1, 1)\n",
      "monthly_portfolio_return = 0.0422\n",
      "risk_free_return = 0.0022\n",
      "mark_date = datetime.date(2017, 2, 1)\n",
      "monthly_portfolio_return = 0.0383\n",
      "risk_free_return = 0.0074\n",
      "mark_date = datetime.date(2017, 3, 1)\n",
      "monthly_portfolio_return = 0.0222\n",
      "risk_free_return = 0.0024\n",
      "mark_date = datetime.date(2017, 4, 1)\n",
      "monthly_portfolio_return = -0.0003\n",
      "risk_free_return = 0.0111\n",
      "mark_date = datetime.date(2017, 5, 1)\n",
      "monthly_portfolio_return = 0.0464\n",
      "risk_free_return = 0.0079\n",
      "mark_date = datetime.date(2017, 6, 1)\n",
      "monthly_portfolio_return = 0.0086\n",
      "risk_free_return = -0.0013\n",
      "mark_date = datetime.date(2017, 7, 1)\n",
      "monthly_portfolio_return = 0.0311\n",
      "risk_free_return = -0.0000\n",
      "mark_date = datetime.date(2017, 8, 1)\n",
      "monthly_portfolio_return = 0.0192\n",
      "risk_free_return = 0.0171\n",
      "mark_date = datetime.date(2017, 9, 1)\n",
      "monthly_portfolio_return = 0.0215\n",
      "risk_free_return = -0.0172\n",
      "mark_date = datetime.date(2017, 10, 1)\n",
      "monthly_portfolio_return = 0.0757\n",
      "risk_free_return = -0.0011\n",
      "mark_date = datetime.date(2017, 11, 1)\n",
      "monthly_portfolio_return = 0.0213\n",
      "risk_free_return = -0.0026\n",
      "mark_date = datetime.date(2017, 12, 1)\n",
      "monthly_portfolio_return = 0.0115\n",
      "risk_free_return = 0.0022\n",
      "mark_date = datetime.date(2018, 1, 1)\n",
      "monthly_portfolio_return = 0.0887\n",
      "risk_free_return = -0.0236\n",
      "mark_date = datetime.date(2018, 2, 1)\n",
      "monthly_portfolio_return = -0.0053\n",
      "risk_free_return = -0.0130\n",
      "mark_date = datetime.date(2018, 3, 1)\n",
      "monthly_portfolio_return = -0.0214\n",
      "risk_free_return = 0.0128\n",
      "mark_date = datetime.date(2018, 4, 1)\n",
      "monthly_portfolio_return = 0.0051\n",
      "risk_free_return = -0.0155\n",
      "mark_date = datetime.date(2018, 5, 1)\n",
      "monthly_portfolio_return = 0.0481\n",
      "risk_free_return = 0.0096\n",
      "mark_date = datetime.date(2018, 6, 1)\n",
      "monthly_portfolio_return = -0.0123\n",
      "risk_free_return = 0.0023\n",
      "mark_date = datetime.date(2018, 7, 1)\n",
      "monthly_portfolio_return = 0.0430\n",
      "risk_free_return = -0.0051\n",
      "mark_date = datetime.date(2018, 8, 1)\n",
      "monthly_portfolio_return = 0.0564\n",
      "risk_free_return = 0.0101\n",
      "mark_date = datetime.date(2018, 9, 1)\n",
      "monthly_portfolio_return = 0.0150\n",
      "risk_free_return = -0.0148\n",
      "mark_date = datetime.date(2018, 10, 1)\n",
      "monthly_portfolio_return = -0.0753\n",
      "risk_free_return = -0.0043\n",
      "mark_date = datetime.date(2018, 11, 1)\n",
      "monthly_portfolio_return = 0.0177\n",
      "risk_free_return = 0.0149\n",
      "mark_date = datetime.date(2018, 12, 1)\n",
      "monthly_portfolio_return = -0.0790\n",
      "risk_free_return = 0.0286\n",
      "mark_date = datetime.date(2019, 1, 1)\n",
      "monthly_portfolio_return = 0.0521\n",
      "risk_free_return = 0.0071\n",
      "mark_date = datetime.date(2019, 2, 1)\n",
      "monthly_portfolio_return = 0.0647\n",
      "risk_free_return = -0.0043\n",
      "mark_date = datetime.date(2019, 3, 1)\n",
      "monthly_portfolio_return = 0.0378\n",
      "risk_free_return = 0.0294\n",
      "mark_date = datetime.date(2019, 4, 1)\n",
      "monthly_portfolio_return = 0.0387\n",
      "risk_free_return = -0.0062\n",
      "mark_date = datetime.date(2019, 5, 1)\n",
      "monthly_portfolio_return = -0.0616\n",
      "risk_free_return = 0.0319\n",
      "mark_date = datetime.date(2019, 6, 1)\n",
      "monthly_portfolio_return = 0.0728\n",
      "risk_free_return = 0.0121\n",
      "mark_date = datetime.date(2019, 7, 1)\n",
      "monthly_portfolio_return = 0.0227\n",
      "risk_free_return = 0.0034\n",
      "mark_date = datetime.date(2019, 8, 1)\n",
      "monthly_portfolio_return = -0.0076\n",
      "risk_free_return = 0.0403\n",
      "mark_date = datetime.date(2019, 9, 1)\n",
      "monthly_portfolio_return = 0.0057\n",
      "risk_free_return = -0.0139\n",
      "mark_date = datetime.date(2019, 10, 1)\n",
      "monthly_portfolio_return = 0.0045\n",
      "risk_free_return = -0.0007\n",
      "mark_date = datetime.date(2019, 11, 1)\n",
      "monthly_portfolio_return = 0.0455\n",
      "risk_free_return = -0.0074\n",
      "mark_date = datetime.date(2019, 12, 1)\n",
      "monthly_portfolio_return = 0.0476\n",
      "risk_free_return = -0.0113\n",
      "mark_date = datetime.date(2020, 1, 1)\n",
      "monthly_portfolio_return = 0.0277\n",
      "risk_free_return = 0.0392\n",
      "mark_date = datetime.date(2020, 2, 1)\n",
      "monthly_portfolio_return = -0.0699\n",
      "risk_free_return = 0.0299\n",
      "mark_date = datetime.date(2020, 3, 1)\n",
      "monthly_portfolio_return = -0.0739\n",
      "risk_free_return = 0.0397\n",
      "mark_date = datetime.date(2020, 4, 1)\n",
      "monthly_portfolio_return = 0.1183\n",
      "risk_free_return = 0.0050\n",
      "mark_date = datetime.date(2020, 5, 1)\n",
      "monthly_portfolio_return = 0.0422\n",
      "risk_free_return = 0.0007\n",
      "mark_date = datetime.date(2020, 6, 1)\n",
      "monthly_portfolio_return = 0.0348\n",
      "risk_free_return = 0.0004\n",
      "mark_date = datetime.date(2020, 7, 1)\n",
      "monthly_portfolio_return = 0.0417\n",
      "risk_free_return = 0.0128\n",
      "mark_date = datetime.date(2020, 8, 1)\n",
      "monthly_portfolio_return = 0.0902\n",
      "risk_free_return = -0.0147\n",
      "mark_date = datetime.date(2020, 9, 1)\n",
      "monthly_portfolio_return = -0.0179\n",
      "risk_free_return = 0.0026\n",
      "mark_date = datetime.date(2020, 10, 1)\n",
      "monthly_portfolio_return = -0.0445\n",
      "risk_free_return = -0.0173\n",
      "mark_date = datetime.date(2020, 11, 1)\n",
      "monthly_portfolio_return = 0.0731\n",
      "risk_free_return = 0.0040\n",
      "mark_date = datetime.date(2020, 12, 1)\n",
      "monthly_portfolio_return = 0.0273\n",
      "risk_free_return = -0.0050\n",
      "mark_date = datetime.date(2021, 1, 1)\n",
      "monthly_portfolio_return = 0.0022\n",
      "risk_free_return = -0.0107\n",
      "mark_date = datetime.date(2021, 2, 1)\n",
      "monthly_portfolio_return = 0.0146\n",
      "risk_free_return = -0.0254\n",
      "mark_date = datetime.date(2021, 3, 1)\n",
      "monthly_portfolio_return = 0.0286\n",
      "risk_free_return = -0.0293\n",
      "mark_date = datetime.date(2021, 4, 1)\n",
      "monthly_portfolio_return = 0.0432\n",
      "risk_free_return = 0.0119\n",
      "mark_date = datetime.date(2021, 5, 1)\n",
      "monthly_portfolio_return = 0.0099\n",
      "risk_free_return = 0.0034\n",
      "mark_date = datetime.date(2021, 6, 1)\n",
      "monthly_portfolio_return = 0.0521\n",
      "risk_free_return = 0.0141\n",
      "mark_date = datetime.date(2021, 7, 1)\n",
      "monthly_portfolio_return = 0.0366\n",
      "risk_free_return = 0.0238\n",
      "mark_date = datetime.date(2021, 8, 1)\n",
      "monthly_portfolio_return = 0.0424\n",
      "risk_free_return = -0.0048\n",
      "mark_date = datetime.date(2021, 9, 1)\n",
      "monthly_portfolio_return = -0.0542\n",
      "risk_free_return = -0.0154\n",
      "mark_date = datetime.date(2021, 10, 1)\n",
      "monthly_portfolio_return = 0.0866\n",
      "risk_free_return = -0.0049\n",
      "mark_date = datetime.date(2021, 11, 1)\n",
      "monthly_portfolio_return = 0.0117\n",
      "risk_free_return = 0.0125\n",
      "mark_date = datetime.date(2021, 12, 1)\n",
      "monthly_portfolio_return = 0.0307\n",
      "risk_free_return = -0.0047\n",
      "========== SUMMARY ==========\n",
      "monthly_returns_bp_mean = 186.10\n",
      "monthly_returns_bp_std = 487.31\n",
      "annualized_mean_pct = 24.77\n",
      "annualized_std_pct = 16.88\n",
      "sharpe_ratio = 1.47\n",
      "mark_date = datetime.date(2017, 1, 1)\n",
      "monthly_portfolio_return = 0.0446\n",
      "risk_free_return = 0.0022\n",
      "mark_date = datetime.date(2017, 2, 1)\n",
      "monthly_portfolio_return = 0.0334\n",
      "risk_free_return = 0.0074\n",
      "mark_date = datetime.date(2017, 3, 1)\n",
      "monthly_portfolio_return = 0.0257\n",
      "risk_free_return = 0.0024\n",
      "mark_date = datetime.date(2017, 4, 1)\n",
      "monthly_portfolio_return = 0.0005\n",
      "risk_free_return = 0.0111\n",
      "mark_date = datetime.date(2017, 5, 1)\n",
      "monthly_portfolio_return = 0.0545\n",
      "risk_free_return = 0.0079\n",
      "mark_date = datetime.date(2017, 6, 1)\n",
      "monthly_portfolio_return = 0.0070\n",
      "risk_free_return = -0.0013\n",
      "mark_date = datetime.date(2017, 7, 1)\n",
      "monthly_portfolio_return = 0.0354\n",
      "risk_free_return = -0.0000\n",
      "mark_date = datetime.date(2017, 8, 1)\n",
      "monthly_portfolio_return = 0.0208\n",
      "risk_free_return = 0.0171\n",
      "mark_date = datetime.date(2017, 9, 1)\n",
      "monthly_portfolio_return = 0.0224\n",
      "risk_free_return = -0.0172\n",
      "mark_date = datetime.date(2017, 10, 1)\n",
      "monthly_portfolio_return = 0.0829\n",
      "risk_free_return = -0.0011\n",
      "mark_date = datetime.date(2017, 11, 1)\n",
      "monthly_portfolio_return = 0.0197\n",
      "risk_free_return = -0.0026\n",
      "mark_date = datetime.date(2017, 12, 1)\n",
      "monthly_portfolio_return = 0.0098\n",
      "risk_free_return = 0.0022\n",
      "mark_date = datetime.date(2018, 1, 1)\n",
      "monthly_portfolio_return = 0.0976\n",
      "risk_free_return = -0.0236\n",
      "mark_date = datetime.date(2018, 2, 1)\n",
      "monthly_portfolio_return = 0.0006\n",
      "risk_free_return = -0.0130\n",
      "mark_date = datetime.date(2018, 3, 1)\n",
      "monthly_portfolio_return = -0.0213\n",
      "risk_free_return = 0.0128\n",
      "mark_date = datetime.date(2018, 4, 1)\n",
      "monthly_portfolio_return = 0.0048\n",
      "risk_free_return = -0.0155\n",
      "mark_date = datetime.date(2018, 5, 1)\n",
      "monthly_portfolio_return = 0.0532\n",
      "risk_free_return = 0.0096\n",
      "mark_date = datetime.date(2018, 6, 1)\n",
      "monthly_portfolio_return = -0.0148\n",
      "risk_free_return = 0.0023\n",
      "mark_date = datetime.date(2018, 7, 1)\n",
      "monthly_portfolio_return = 0.0402\n",
      "risk_free_return = -0.0051\n",
      "mark_date = datetime.date(2018, 8, 1)\n",
      "monthly_portfolio_return = 0.0604\n",
      "risk_free_return = 0.0101\n",
      "mark_date = datetime.date(2018, 9, 1)\n",
      "monthly_portfolio_return = 0.0135\n",
      "risk_free_return = -0.0148\n",
      "mark_date = datetime.date(2018, 10, 1)\n",
      "monthly_portfolio_return = -0.0828\n",
      "risk_free_return = -0.0043\n",
      "mark_date = datetime.date(2018, 11, 1)\n",
      "monthly_portfolio_return = 0.0101\n",
      "risk_free_return = 0.0149\n",
      "mark_date = datetime.date(2018, 12, 1)\n",
      "monthly_portfolio_return = -0.0820\n",
      "risk_free_return = 0.0286\n",
      "mark_date = datetime.date(2019, 1, 1)\n",
      "monthly_portfolio_return = 0.0552\n",
      "risk_free_return = 0.0071\n",
      "mark_date = datetime.date(2019, 2, 1)\n",
      "monthly_portfolio_return = 0.0656\n",
      "risk_free_return = -0.0043\n",
      "mark_date = datetime.date(2019, 3, 1)\n",
      "monthly_portfolio_return = 0.0422\n",
      "risk_free_return = 0.0294\n",
      "mark_date = datetime.date(2019, 4, 1)\n",
      "monthly_portfolio_return = 0.0417\n",
      "risk_free_return = -0.0062\n",
      "mark_date = datetime.date(2019, 5, 1)\n",
      "monthly_portfolio_return = -0.0658\n",
      "risk_free_return = 0.0319\n",
      "mark_date = datetime.date(2019, 6, 1)\n",
      "monthly_portfolio_return = 0.0748\n",
      "risk_free_return = 0.0121\n",
      "mark_date = datetime.date(2019, 7, 1)\n",
      "monthly_portfolio_return = 0.0257\n",
      "risk_free_return = 0.0034\n",
      "mark_date = datetime.date(2019, 8, 1)\n",
      "monthly_portfolio_return = -0.0098\n",
      "risk_free_return = 0.0403\n",
      "mark_date = datetime.date(2019, 9, 1)\n",
      "monthly_portfolio_return = 0.0048\n",
      "risk_free_return = -0.0139\n",
      "mark_date = datetime.date(2019, 10, 1)\n",
      "monthly_portfolio_return = 0.0038\n",
      "risk_free_return = -0.0007\n",
      "mark_date = datetime.date(2019, 11, 1)\n",
      "monthly_portfolio_return = 0.0487\n",
      "risk_free_return = -0.0074\n",
      "mark_date = datetime.date(2019, 12, 1)\n",
      "monthly_portfolio_return = 0.0495\n",
      "risk_free_return = -0.0113\n",
      "mark_date = datetime.date(2020, 1, 1)\n",
      "monthly_portfolio_return = 0.0317\n",
      "risk_free_return = 0.0392\n",
      "mark_date = datetime.date(2020, 2, 1)\n",
      "monthly_portfolio_return = -0.0663\n",
      "risk_free_return = 0.0299\n",
      "mark_date = datetime.date(2020, 3, 1)\n",
      "monthly_portfolio_return = -0.0758\n",
      "risk_free_return = 0.0397\n",
      "mark_date = datetime.date(2020, 4, 1)\n",
      "monthly_portfolio_return = 0.1197\n",
      "risk_free_return = 0.0050\n",
      "mark_date = datetime.date(2020, 5, 1)\n",
      "monthly_portfolio_return = 0.0462\n",
      "risk_free_return = 0.0007\n",
      "mark_date = datetime.date(2020, 6, 1)\n",
      "monthly_portfolio_return = 0.0408\n",
      "risk_free_return = 0.0004\n",
      "mark_date = datetime.date(2020, 7, 1)\n",
      "monthly_portfolio_return = 0.0417\n",
      "risk_free_return = 0.0128\n",
      "mark_date = datetime.date(2020, 8, 1)\n",
      "monthly_portfolio_return = 0.0962\n",
      "risk_free_return = -0.0147\n",
      "mark_date = datetime.date(2020, 9, 1)\n",
      "monthly_portfolio_return = -0.0196\n",
      "risk_free_return = 0.0026\n",
      "mark_date = datetime.date(2020, 10, 1)\n",
      "monthly_portfolio_return = -0.0441\n",
      "risk_free_return = -0.0173\n",
      "mark_date = datetime.date(2020, 11, 1)\n",
      "monthly_portfolio_return = 0.0718\n",
      "risk_free_return = 0.0040\n",
      "mark_date = datetime.date(2020, 12, 1)\n",
      "monthly_portfolio_return = 0.0260\n",
      "risk_free_return = -0.0050\n",
      "mark_date = datetime.date(2021, 1, 1)\n",
      "monthly_portfolio_return = 0.0030\n",
      "risk_free_return = -0.0107\n",
      "mark_date = datetime.date(2021, 2, 1)\n",
      "monthly_portfolio_return = 0.0161\n",
      "risk_free_return = -0.0254\n",
      "mark_date = datetime.date(2021, 3, 1)\n",
      "monthly_portfolio_return = 0.0237\n",
      "risk_free_return = -0.0293\n",
      "mark_date = datetime.date(2021, 4, 1)\n",
      "monthly_portfolio_return = 0.0479\n",
      "risk_free_return = 0.0119\n",
      "mark_date = datetime.date(2021, 5, 1)\n",
      "monthly_portfolio_return = 0.0092\n",
      "risk_free_return = 0.0034\n",
      "mark_date = datetime.date(2021, 6, 1)\n",
      "monthly_portfolio_return = 0.0606\n",
      "risk_free_return = 0.0141\n",
      "mark_date = datetime.date(2021, 7, 1)\n",
      "monthly_portfolio_return = 0.0368\n",
      "risk_free_return = 0.0238\n",
      "mark_date = datetime.date(2021, 8, 1)\n",
      "monthly_portfolio_return = 0.0459\n",
      "risk_free_return = -0.0048\n",
      "mark_date = datetime.date(2021, 9, 1)\n",
      "monthly_portfolio_return = -0.0585\n",
      "risk_free_return = -0.0154\n",
      "mark_date = datetime.date(2021, 10, 1)\n",
      "monthly_portfolio_return = 0.0937\n",
      "risk_free_return = -0.0049\n",
      "mark_date = datetime.date(2021, 11, 1)\n",
      "monthly_portfolio_return = 0.0214\n",
      "risk_free_return = 0.0125\n",
      "mark_date = datetime.date(2021, 12, 1)\n",
      "monthly_portfolio_return = 0.0241\n",
      "risk_free_return = -0.0047\n",
      "========== SUMMARY ==========\n",
      "monthly_returns_bp_mean = 197.80\n",
      "monthly_returns_bp_std = 505.87\n",
      "annualized_mean_pct = 26.50\n",
      "annualized_std_pct = 17.52\n",
      "sharpe_ratio = 1.51\n",
      "mark_date = datetime.date(2017, 1, 1)\n",
      "monthly_portfolio_return = 0.0461\n",
      "risk_free_return = 0.0022\n",
      "mark_date = datetime.date(2017, 2, 1)\n",
      "monthly_portfolio_return = 0.0285\n",
      "risk_free_return = 0.0074\n",
      "mark_date = datetime.date(2017, 3, 1)\n",
      "monthly_portfolio_return = 0.0298\n",
      "risk_free_return = 0.0024\n",
      "mark_date = datetime.date(2017, 4, 1)\n",
      "monthly_portfolio_return = 0.0012\n",
      "risk_free_return = 0.0111\n",
      "mark_date = datetime.date(2017, 5, 1)\n",
      "monthly_portfolio_return = 0.0626\n",
      "risk_free_return = 0.0079\n",
      "mark_date = datetime.date(2017, 6, 1)\n",
      "monthly_portfolio_return = 0.0067\n",
      "risk_free_return = -0.0013\n",
      "mark_date = datetime.date(2017, 7, 1)\n",
      "monthly_portfolio_return = 0.0401\n",
      "risk_free_return = -0.0000\n",
      "mark_date = datetime.date(2017, 8, 1)\n",
      "monthly_portfolio_return = 0.0227\n",
      "risk_free_return = 0.0171\n",
      "mark_date = datetime.date(2017, 9, 1)\n",
      "monthly_portfolio_return = 0.0240\n",
      "risk_free_return = -0.0172\n",
      "mark_date = datetime.date(2017, 10, 1)\n",
      "monthly_portfolio_return = 0.0886\n",
      "risk_free_return = -0.0011\n",
      "mark_date = datetime.date(2017, 11, 1)\n",
      "monthly_portfolio_return = 0.0181\n",
      "risk_free_return = -0.0026\n",
      "mark_date = datetime.date(2017, 12, 1)\n",
      "monthly_portfolio_return = 0.0083\n",
      "risk_free_return = 0.0022\n",
      "mark_date = datetime.date(2018, 1, 1)\n",
      "monthly_portfolio_return = 0.1059\n",
      "risk_free_return = -0.0236\n",
      "mark_date = datetime.date(2018, 2, 1)\n",
      "monthly_portfolio_return = 0.0052\n",
      "risk_free_return = -0.0130\n",
      "mark_date = datetime.date(2018, 3, 1)\n",
      "monthly_portfolio_return = -0.0210\n",
      "risk_free_return = 0.0128\n",
      "mark_date = datetime.date(2018, 4, 1)\n",
      "monthly_portfolio_return = 0.0050\n",
      "risk_free_return = -0.0155\n",
      "mark_date = datetime.date(2018, 5, 1)\n",
      "monthly_portfolio_return = 0.0585\n",
      "risk_free_return = 0.0096\n",
      "mark_date = datetime.date(2018, 6, 1)\n",
      "monthly_portfolio_return = -0.0165\n",
      "risk_free_return = 0.0023\n",
      "mark_date = datetime.date(2018, 7, 1)\n",
      "monthly_portfolio_return = 0.0373\n",
      "risk_free_return = -0.0051\n",
      "mark_date = datetime.date(2018, 8, 1)\n",
      "monthly_portfolio_return = 0.0641\n",
      "risk_free_return = 0.0101\n",
      "mark_date = datetime.date(2018, 9, 1)\n",
      "monthly_portfolio_return = 0.0112\n",
      "risk_free_return = -0.0148\n",
      "mark_date = datetime.date(2018, 10, 1)\n",
      "monthly_portfolio_return = -0.0898\n",
      "risk_free_return = -0.0043\n",
      "mark_date = datetime.date(2018, 11, 1)\n",
      "monthly_portfolio_return = 0.0015\n",
      "risk_free_return = 0.0149\n",
      "mark_date = datetime.date(2018, 12, 1)\n",
      "monthly_portfolio_return = -0.0855\n",
      "risk_free_return = 0.0286\n",
      "mark_date = datetime.date(2019, 1, 1)\n",
      "monthly_portfolio_return = 0.0580\n",
      "risk_free_return = 0.0071\n",
      "mark_date = datetime.date(2019, 2, 1)\n",
      "monthly_portfolio_return = 0.0653\n",
      "risk_free_return = -0.0043\n",
      "mark_date = datetime.date(2019, 3, 1)\n",
      "monthly_portfolio_return = 0.0470\n",
      "risk_free_return = 0.0294\n",
      "mark_date = datetime.date(2019, 4, 1)\n",
      "monthly_portfolio_return = 0.0434\n",
      "risk_free_return = -0.0062\n",
      "mark_date = datetime.date(2019, 5, 1)\n",
      "monthly_portfolio_return = -0.0704\n",
      "risk_free_return = 0.0319\n",
      "mark_date = datetime.date(2019, 6, 1)\n",
      "monthly_portfolio_return = 0.0777\n",
      "risk_free_return = 0.0121\n",
      "mark_date = datetime.date(2019, 7, 1)\n",
      "monthly_portfolio_return = 0.0275\n",
      "risk_free_return = 0.0034\n",
      "mark_date = datetime.date(2019, 8, 1)\n",
      "monthly_portfolio_return = -0.0109\n",
      "risk_free_return = 0.0403\n",
      "mark_date = datetime.date(2019, 9, 1)\n",
      "monthly_portfolio_return = 0.0039\n",
      "risk_free_return = -0.0139\n",
      "mark_date = datetime.date(2019, 10, 1)\n",
      "monthly_portfolio_return = 0.0037\n",
      "risk_free_return = -0.0007\n",
      "mark_date = datetime.date(2019, 11, 1)\n",
      "monthly_portfolio_return = 0.0525\n",
      "risk_free_return = -0.0074\n",
      "mark_date = datetime.date(2019, 12, 1)\n",
      "monthly_portfolio_return = 0.0507\n",
      "risk_free_return = -0.0113\n",
      "mark_date = datetime.date(2020, 1, 1)\n",
      "monthly_portfolio_return = 0.0361\n",
      "risk_free_return = 0.0392\n",
      "mark_date = datetime.date(2020, 2, 1)\n",
      "monthly_portfolio_return = -0.0611\n",
      "risk_free_return = 0.0299\n",
      "mark_date = datetime.date(2020, 3, 1)\n",
      "monthly_portfolio_return = -0.0780\n",
      "risk_free_return = 0.0397\n",
      "mark_date = datetime.date(2020, 4, 1)\n",
      "monthly_portfolio_return = 0.1218\n",
      "risk_free_return = 0.0050\n",
      "mark_date = datetime.date(2020, 5, 1)\n",
      "monthly_portfolio_return = 0.0506\n",
      "risk_free_return = 0.0007\n",
      "mark_date = datetime.date(2020, 6, 1)\n",
      "monthly_portfolio_return = 0.0461\n",
      "risk_free_return = 0.0004\n",
      "mark_date = datetime.date(2020, 7, 1)\n",
      "monthly_portfolio_return = 0.0418\n",
      "risk_free_return = 0.0128\n",
      "mark_date = datetime.date(2020, 8, 1)\n",
      "monthly_portfolio_return = 0.1023\n",
      "risk_free_return = -0.0147\n",
      "mark_date = datetime.date(2020, 9, 1)\n",
      "monthly_portfolio_return = -0.0215\n",
      "risk_free_return = 0.0026\n",
      "mark_date = datetime.date(2020, 10, 1)\n",
      "monthly_portfolio_return = -0.0436\n",
      "risk_free_return = -0.0173\n",
      "mark_date = datetime.date(2020, 11, 1)\n",
      "monthly_portfolio_return = 0.0711\n",
      "risk_free_return = 0.0040\n",
      "mark_date = datetime.date(2020, 12, 1)\n",
      "monthly_portfolio_return = 0.0253\n",
      "risk_free_return = -0.0050\n",
      "mark_date = datetime.date(2021, 1, 1)\n",
      "monthly_portfolio_return = 0.0036\n",
      "risk_free_return = -0.0107\n",
      "mark_date = datetime.date(2021, 2, 1)\n",
      "monthly_portfolio_return = 0.0155\n",
      "risk_free_return = -0.0254\n",
      "mark_date = datetime.date(2021, 3, 1)\n",
      "monthly_portfolio_return = 0.0216\n",
      "risk_free_return = -0.0293\n",
      "mark_date = datetime.date(2021, 4, 1)\n",
      "monthly_portfolio_return = 0.0545\n",
      "risk_free_return = 0.0119\n",
      "mark_date = datetime.date(2021, 5, 1)\n",
      "monthly_portfolio_return = 0.0081\n",
      "risk_free_return = 0.0034\n",
      "mark_date = datetime.date(2021, 6, 1)\n",
      "monthly_portfolio_return = 0.0707\n",
      "risk_free_return = 0.0141\n",
      "mark_date = datetime.date(2021, 7, 1)\n",
      "monthly_portfolio_return = 0.0372\n",
      "risk_free_return = 0.0238\n",
      "mark_date = datetime.date(2021, 8, 1)\n",
      "monthly_portfolio_return = 0.0488\n",
      "risk_free_return = -0.0048\n",
      "mark_date = datetime.date(2021, 9, 1)\n",
      "monthly_portfolio_return = -0.0631\n",
      "risk_free_return = -0.0154\n",
      "mark_date = datetime.date(2021, 10, 1)\n",
      "monthly_portfolio_return = 0.1008\n",
      "risk_free_return = -0.0049\n",
      "mark_date = datetime.date(2021, 11, 1)\n",
      "monthly_portfolio_return = 0.0317\n",
      "risk_free_return = 0.0125\n",
      "mark_date = datetime.date(2021, 12, 1)\n",
      "monthly_portfolio_return = 0.0177\n",
      "risk_free_return = -0.0047\n",
      "========== SUMMARY ==========\n",
      "monthly_returns_bp_mean = 210.20\n",
      "monthly_returns_bp_std = 526.08\n",
      "annualized_mean_pct = 28.35\n",
      "annualized_std_pct = 18.22\n",
      "sharpe_ratio = 1.56\n",
      "mark_date = datetime.date(2017, 1, 1)\n",
      "monthly_portfolio_return = 0.0455\n",
      "risk_free_return = 0.0022\n",
      "mark_date = datetime.date(2017, 2, 1)\n",
      "monthly_portfolio_return = 0.0243\n",
      "risk_free_return = 0.0074\n",
      "mark_date = datetime.date(2017, 3, 1)\n",
      "monthly_portfolio_return = 0.0334\n",
      "risk_free_return = 0.0024\n",
      "mark_date = datetime.date(2017, 4, 1)\n",
      "monthly_portfolio_return = 0.0017\n",
      "risk_free_return = 0.0111\n",
      "mark_date = datetime.date(2017, 5, 1)\n",
      "monthly_portfolio_return = 0.0727\n",
      "risk_free_return = 0.0079\n",
      "mark_date = datetime.date(2017, 6, 1)\n",
      "monthly_portfolio_return = 0.0061\n",
      "risk_free_return = -0.0013\n",
      "mark_date = datetime.date(2017, 7, 1)\n",
      "monthly_portfolio_return = 0.0447\n",
      "risk_free_return = -0.0000\n",
      "mark_date = datetime.date(2017, 8, 1)\n",
      "monthly_portfolio_return = 0.0240\n",
      "risk_free_return = 0.0171\n",
      "mark_date = datetime.date(2017, 9, 1)\n",
      "monthly_portfolio_return = 0.0254\n",
      "risk_free_return = -0.0172\n",
      "mark_date = datetime.date(2017, 10, 1)\n",
      "monthly_portfolio_return = 0.0934\n",
      "risk_free_return = -0.0011\n",
      "mark_date = datetime.date(2017, 11, 1)\n",
      "monthly_portfolio_return = 0.0164\n",
      "risk_free_return = -0.0026\n",
      "mark_date = datetime.date(2017, 12, 1)\n",
      "monthly_portfolio_return = 0.0073\n",
      "risk_free_return = 0.0022\n",
      "mark_date = datetime.date(2018, 1, 1)\n",
      "monthly_portfolio_return = 0.1143\n",
      "risk_free_return = -0.0236\n",
      "mark_date = datetime.date(2018, 2, 1)\n",
      "monthly_portfolio_return = 0.0097\n",
      "risk_free_return = -0.0130\n",
      "mark_date = datetime.date(2018, 3, 1)\n",
      "monthly_portfolio_return = -0.0206\n",
      "risk_free_return = 0.0128\n",
      "mark_date = datetime.date(2018, 4, 1)\n",
      "monthly_portfolio_return = 0.0042\n",
      "risk_free_return = -0.0155\n",
      "mark_date = datetime.date(2018, 5, 1)\n",
      "monthly_portfolio_return = 0.0644\n",
      "risk_free_return = 0.0096\n",
      "mark_date = datetime.date(2018, 6, 1)\n",
      "monthly_portfolio_return = -0.0182\n",
      "risk_free_return = 0.0023\n",
      "mark_date = datetime.date(2018, 7, 1)\n",
      "monthly_portfolio_return = 0.0349\n",
      "risk_free_return = -0.0051\n",
      "mark_date = datetime.date(2018, 8, 1)\n",
      "monthly_portfolio_return = 0.0682\n",
      "risk_free_return = 0.0101\n",
      "mark_date = datetime.date(2018, 9, 1)\n",
      "monthly_portfolio_return = 0.0089\n",
      "risk_free_return = -0.0148\n",
      "mark_date = datetime.date(2018, 10, 1)\n",
      "monthly_portfolio_return = -0.0963\n",
      "risk_free_return = -0.0043\n",
      "mark_date = datetime.date(2018, 11, 1)\n",
      "monthly_portfolio_return = -0.0075\n",
      "risk_free_return = 0.0149\n",
      "mark_date = datetime.date(2018, 12, 1)\n",
      "monthly_portfolio_return = -0.0888\n",
      "risk_free_return = 0.0286\n",
      "mark_date = datetime.date(2019, 1, 1)\n",
      "monthly_portfolio_return = 0.0601\n",
      "risk_free_return = 0.0071\n",
      "mark_date = datetime.date(2019, 2, 1)\n",
      "monthly_portfolio_return = 0.0656\n",
      "risk_free_return = -0.0043\n",
      "mark_date = datetime.date(2019, 3, 1)\n",
      "monthly_portfolio_return = 0.0516\n",
      "risk_free_return = 0.0294\n",
      "mark_date = datetime.date(2019, 4, 1)\n",
      "monthly_portfolio_return = 0.0467\n",
      "risk_free_return = -0.0062\n",
      "mark_date = datetime.date(2019, 5, 1)\n",
      "monthly_portfolio_return = -0.0755\n",
      "risk_free_return = 0.0319\n",
      "mark_date = datetime.date(2019, 6, 1)\n",
      "monthly_portfolio_return = 0.0810\n",
      "risk_free_return = 0.0121\n",
      "mark_date = datetime.date(2019, 7, 1)\n",
      "monthly_portfolio_return = 0.0282\n",
      "risk_free_return = 0.0034\n",
      "mark_date = datetime.date(2019, 8, 1)\n",
      "monthly_portfolio_return = -0.0112\n",
      "risk_free_return = 0.0403\n",
      "mark_date = datetime.date(2019, 9, 1)\n",
      "monthly_portfolio_return = 0.0030\n",
      "risk_free_return = -0.0139\n",
      "mark_date = datetime.date(2019, 10, 1)\n",
      "monthly_portfolio_return = 0.0060\n",
      "risk_free_return = -0.0007\n",
      "mark_date = datetime.date(2019, 11, 1)\n",
      "monthly_portfolio_return = 0.0561\n",
      "risk_free_return = -0.0074\n",
      "mark_date = datetime.date(2019, 12, 1)\n",
      "monthly_portfolio_return = 0.0516\n",
      "risk_free_return = -0.0113\n",
      "mark_date = datetime.date(2020, 1, 1)\n",
      "monthly_portfolio_return = 0.0384\n",
      "risk_free_return = 0.0392\n",
      "mark_date = datetime.date(2020, 2, 1)\n",
      "monthly_portfolio_return = -0.0539\n",
      "risk_free_return = 0.0299\n",
      "mark_date = datetime.date(2020, 3, 1)\n",
      "monthly_portfolio_return = -0.0809\n",
      "risk_free_return = 0.0397\n",
      "mark_date = datetime.date(2020, 4, 1)\n",
      "monthly_portfolio_return = 0.1237\n",
      "risk_free_return = 0.0050\n",
      "mark_date = datetime.date(2020, 5, 1)\n",
      "monthly_portfolio_return = 0.0552\n",
      "risk_free_return = 0.0007\n",
      "mark_date = datetime.date(2020, 6, 1)\n",
      "monthly_portfolio_return = 0.0513\n",
      "risk_free_return = 0.0004\n",
      "mark_date = datetime.date(2020, 7, 1)\n",
      "monthly_portfolio_return = 0.0419\n",
      "risk_free_return = 0.0128\n",
      "mark_date = datetime.date(2020, 8, 1)\n",
      "monthly_portfolio_return = 0.1084\n",
      "risk_free_return = -0.0147\n",
      "mark_date = datetime.date(2020, 9, 1)\n",
      "monthly_portfolio_return = -0.0231\n",
      "risk_free_return = 0.0026\n",
      "mark_date = datetime.date(2020, 10, 1)\n",
      "monthly_portfolio_return = -0.0430\n",
      "risk_free_return = -0.0173\n",
      "mark_date = datetime.date(2020, 11, 1)\n",
      "monthly_portfolio_return = 0.0705\n",
      "risk_free_return = 0.0040\n",
      "mark_date = datetime.date(2020, 12, 1)\n",
      "monthly_portfolio_return = 0.0249\n",
      "risk_free_return = -0.0050\n",
      "mark_date = datetime.date(2021, 1, 1)\n",
      "monthly_portfolio_return = 0.0028\n",
      "risk_free_return = -0.0107\n",
      "mark_date = datetime.date(2021, 2, 1)\n",
      "monthly_portfolio_return = 0.0144\n",
      "risk_free_return = -0.0254\n",
      "mark_date = datetime.date(2021, 3, 1)\n",
      "monthly_portfolio_return = 0.0201\n",
      "risk_free_return = -0.0293\n",
      "mark_date = datetime.date(2021, 4, 1)\n",
      "monthly_portfolio_return = 0.0595\n",
      "risk_free_return = 0.0119\n",
      "mark_date = datetime.date(2021, 5, 1)\n",
      "monthly_portfolio_return = 0.0059\n",
      "risk_free_return = 0.0034\n",
      "mark_date = datetime.date(2021, 6, 1)\n",
      "monthly_portfolio_return = 0.0828\n",
      "risk_free_return = 0.0141\n",
      "mark_date = datetime.date(2021, 7, 1)\n",
      "monthly_portfolio_return = 0.0377\n",
      "risk_free_return = 0.0238\n",
      "mark_date = datetime.date(2021, 8, 1)\n",
      "monthly_portfolio_return = 0.0523\n",
      "risk_free_return = -0.0048\n",
      "mark_date = datetime.date(2021, 9, 1)\n",
      "monthly_portfolio_return = -0.0677\n",
      "risk_free_return = -0.0154\n",
      "mark_date = datetime.date(2021, 10, 1)\n",
      "monthly_portfolio_return = 0.1089\n",
      "risk_free_return = -0.0049\n",
      "mark_date = datetime.date(2021, 11, 1)\n",
      "monthly_portfolio_return = 0.0439\n",
      "risk_free_return = 0.0125\n",
      "mark_date = datetime.date(2021, 12, 1)\n",
      "monthly_portfolio_return = 0.0120\n",
      "risk_free_return = -0.0047\n",
      "========== SUMMARY ==========\n",
      "monthly_returns_bp_mean = 223.19\n",
      "monthly_returns_bp_std = 548.93\n",
      "annualized_mean_pct = 30.33\n",
      "annualized_std_pct = 19.02\n",
      "sharpe_ratio = 1.59\n",
      "mark_date = datetime.date(2017, 1, 1)\n",
      "monthly_portfolio_return = 0.0454\n",
      "risk_free_return = 0.0022\n",
      "mark_date = datetime.date(2017, 2, 1)\n",
      "monthly_portfolio_return = 0.0184\n",
      "risk_free_return = 0.0074\n",
      "mark_date = datetime.date(2017, 3, 1)\n",
      "monthly_portfolio_return = 0.0366\n",
      "risk_free_return = 0.0024\n",
      "mark_date = datetime.date(2017, 4, 1)\n",
      "monthly_portfolio_return = 0.0013\n",
      "risk_free_return = 0.0111\n",
      "mark_date = datetime.date(2017, 5, 1)\n",
      "monthly_portfolio_return = 0.0854\n",
      "risk_free_return = 0.0079\n",
      "mark_date = datetime.date(2017, 6, 1)\n",
      "monthly_portfolio_return = 0.0047\n",
      "risk_free_return = -0.0013\n",
      "mark_date = datetime.date(2017, 7, 1)\n",
      "monthly_portfolio_return = 0.0495\n",
      "risk_free_return = -0.0000\n",
      "mark_date = datetime.date(2017, 8, 1)\n",
      "monthly_portfolio_return = 0.0255\n",
      "risk_free_return = 0.0171\n",
      "mark_date = datetime.date(2017, 9, 1)\n",
      "monthly_portfolio_return = 0.0269\n",
      "risk_free_return = -0.0172\n",
      "mark_date = datetime.date(2017, 10, 1)\n",
      "monthly_portfolio_return = 0.0980\n",
      "risk_free_return = -0.0011\n",
      "mark_date = datetime.date(2017, 11, 1)\n",
      "monthly_portfolio_return = 0.0147\n",
      "risk_free_return = -0.0026\n",
      "mark_date = datetime.date(2017, 12, 1)\n",
      "monthly_portfolio_return = 0.0069\n",
      "risk_free_return = 0.0022\n",
      "mark_date = datetime.date(2018, 1, 1)\n",
      "monthly_portfolio_return = 0.1239\n",
      "risk_free_return = -0.0236\n",
      "mark_date = datetime.date(2018, 2, 1)\n",
      "monthly_portfolio_return = 0.0132\n",
      "risk_free_return = -0.0130\n",
      "mark_date = datetime.date(2018, 3, 1)\n",
      "monthly_portfolio_return = -0.0199\n",
      "risk_free_return = 0.0128\n",
      "mark_date = datetime.date(2018, 4, 1)\n",
      "monthly_portfolio_return = 0.0031\n",
      "risk_free_return = -0.0155\n",
      "mark_date = datetime.date(2018, 5, 1)\n",
      "monthly_portfolio_return = 0.0702\n",
      "risk_free_return = 0.0096\n",
      "mark_date = datetime.date(2018, 6, 1)\n",
      "monthly_portfolio_return = -0.0194\n",
      "risk_free_return = 0.0023\n",
      "mark_date = datetime.date(2018, 7, 1)\n",
      "monthly_portfolio_return = 0.0325\n",
      "risk_free_return = -0.0051\n",
      "mark_date = datetime.date(2018, 8, 1)\n",
      "monthly_portfolio_return = 0.0723\n",
      "risk_free_return = 0.0101\n",
      "mark_date = datetime.date(2018, 9, 1)\n",
      "monthly_portfolio_return = 0.0067\n",
      "risk_free_return = -0.0148\n",
      "mark_date = datetime.date(2018, 10, 1)\n",
      "monthly_portfolio_return = -0.1012\n",
      "risk_free_return = -0.0043\n",
      "mark_date = datetime.date(2018, 11, 1)\n",
      "monthly_portfolio_return = -0.0168\n",
      "risk_free_return = 0.0149\n",
      "mark_date = datetime.date(2018, 12, 1)\n",
      "monthly_portfolio_return = -0.0928\n",
      "risk_free_return = 0.0286\n",
      "mark_date = datetime.date(2019, 1, 1)\n",
      "monthly_portfolio_return = 0.0627\n",
      "risk_free_return = 0.0071\n",
      "mark_date = datetime.date(2019, 2, 1)\n",
      "monthly_portfolio_return = 0.0667\n",
      "risk_free_return = -0.0043\n",
      "mark_date = datetime.date(2019, 3, 1)\n",
      "monthly_portfolio_return = 0.0554\n",
      "risk_free_return = 0.0294\n",
      "mark_date = datetime.date(2019, 4, 1)\n",
      "monthly_portfolio_return = 0.0509\n",
      "risk_free_return = -0.0062\n",
      "mark_date = datetime.date(2019, 5, 1)\n",
      "monthly_portfolio_return = -0.0807\n",
      "risk_free_return = 0.0319\n",
      "mark_date = datetime.date(2019, 6, 1)\n",
      "monthly_portfolio_return = 0.0846\n",
      "risk_free_return = 0.0121\n",
      "mark_date = datetime.date(2019, 7, 1)\n",
      "monthly_portfolio_return = 0.0283\n",
      "risk_free_return = 0.0034\n",
      "mark_date = datetime.date(2019, 8, 1)\n",
      "monthly_portfolio_return = -0.0099\n",
      "risk_free_return = 0.0403\n",
      "mark_date = datetime.date(2019, 9, 1)\n",
      "monthly_portfolio_return = 0.0008\n",
      "risk_free_return = -0.0139\n",
      "mark_date = datetime.date(2019, 10, 1)\n",
      "monthly_portfolio_return = 0.0105\n",
      "risk_free_return = -0.0007\n",
      "mark_date = datetime.date(2019, 11, 1)\n",
      "monthly_portfolio_return = 0.0601\n",
      "risk_free_return = -0.0074\n",
      "mark_date = datetime.date(2019, 12, 1)\n",
      "monthly_portfolio_return = 0.0519\n",
      "risk_free_return = -0.0113\n",
      "mark_date = datetime.date(2020, 1, 1)\n",
      "monthly_portfolio_return = 0.0408\n",
      "risk_free_return = 0.0392\n",
      "mark_date = datetime.date(2020, 2, 1)\n",
      "monthly_portfolio_return = -0.0467\n",
      "risk_free_return = 0.0299\n",
      "mark_date = datetime.date(2020, 3, 1)\n",
      "monthly_portfolio_return = -0.0841\n",
      "risk_free_return = 0.0397\n",
      "mark_date = datetime.date(2020, 4, 1)\n",
      "monthly_portfolio_return = 0.1253\n",
      "risk_free_return = 0.0050\n",
      "mark_date = datetime.date(2020, 5, 1)\n",
      "monthly_portfolio_return = 0.0597\n",
      "risk_free_return = 0.0007\n",
      "mark_date = datetime.date(2020, 6, 1)\n",
      "monthly_portfolio_return = 0.0566\n",
      "risk_free_return = 0.0004\n",
      "mark_date = datetime.date(2020, 7, 1)\n",
      "monthly_portfolio_return = 0.0420\n",
      "risk_free_return = 0.0128\n",
      "mark_date = datetime.date(2020, 8, 1)\n",
      "monthly_portfolio_return = 0.1146\n",
      "risk_free_return = -0.0147\n",
      "mark_date = datetime.date(2020, 9, 1)\n",
      "monthly_portfolio_return = -0.0249\n",
      "risk_free_return = 0.0026\n",
      "mark_date = datetime.date(2020, 10, 1)\n",
      "monthly_portfolio_return = -0.0429\n",
      "risk_free_return = -0.0173\n",
      "mark_date = datetime.date(2020, 11, 1)\n",
      "monthly_portfolio_return = 0.0700\n",
      "risk_free_return = 0.0040\n",
      "mark_date = datetime.date(2020, 12, 1)\n",
      "monthly_portfolio_return = 0.0245\n",
      "risk_free_return = -0.0050\n",
      "mark_date = datetime.date(2021, 1, 1)\n",
      "monthly_portfolio_return = -0.0039\n",
      "risk_free_return = -0.0107\n",
      "mark_date = datetime.date(2021, 2, 1)\n",
      "monthly_portfolio_return = 0.0108\n",
      "risk_free_return = -0.0254\n",
      "mark_date = datetime.date(2021, 3, 1)\n",
      "monthly_portfolio_return = 0.0188\n",
      "risk_free_return = -0.0293\n",
      "mark_date = datetime.date(2021, 4, 1)\n",
      "monthly_portfolio_return = 0.0642\n",
      "risk_free_return = 0.0119\n",
      "mark_date = datetime.date(2021, 5, 1)\n",
      "monthly_portfolio_return = 0.0033\n",
      "risk_free_return = 0.0034\n",
      "mark_date = datetime.date(2021, 6, 1)\n",
      "monthly_portfolio_return = 0.0948\n",
      "risk_free_return = 0.0141\n",
      "mark_date = datetime.date(2021, 7, 1)\n",
      "monthly_portfolio_return = 0.0382\n",
      "risk_free_return = 0.0238\n",
      "mark_date = datetime.date(2021, 8, 1)\n",
      "monthly_portfolio_return = 0.0554\n",
      "risk_free_return = -0.0048\n",
      "mark_date = datetime.date(2021, 9, 1)\n",
      "monthly_portfolio_return = -0.0731\n",
      "risk_free_return = -0.0154\n",
      "mark_date = datetime.date(2021, 10, 1)\n",
      "monthly_portfolio_return = 0.1192\n",
      "risk_free_return = -0.0049\n",
      "mark_date = datetime.date(2021, 11, 1)\n",
      "monthly_portfolio_return = 0.0564\n",
      "risk_free_return = 0.0125\n",
      "mark_date = datetime.date(2021, 12, 1)\n",
      "monthly_portfolio_return = 0.0070\n",
      "risk_free_return = -0.0047\n",
      "========== SUMMARY ==========\n",
      "monthly_returns_bp_mean = 235.72\n",
      "monthly_returns_bp_std = 575.62\n",
      "annualized_mean_pct = 32.26\n",
      "annualized_std_pct = 19.94\n",
      "sharpe_ratio = 1.62\n",
      "mark_date = datetime.date(2017, 1, 1)\n",
      "monthly_portfolio_return = 0.0444\n",
      "risk_free_return = 0.0022\n",
      "mark_date = datetime.date(2017, 2, 1)\n",
      "monthly_portfolio_return = 0.0133\n",
      "risk_free_return = 0.0074\n",
      "mark_date = datetime.date(2017, 3, 1)\n",
      "monthly_portfolio_return = 0.0400\n",
      "risk_free_return = 0.0024\n",
      "mark_date = datetime.date(2017, 4, 1)\n",
      "monthly_portfolio_return = 0.0004\n",
      "risk_free_return = 0.0111\n",
      "mark_date = datetime.date(2017, 5, 1)\n",
      "monthly_portfolio_return = 0.1013\n",
      "risk_free_return = 0.0079\n",
      "mark_date = datetime.date(2017, 6, 1)\n",
      "monthly_portfolio_return = 0.0030\n",
      "risk_free_return = -0.0013\n",
      "mark_date = datetime.date(2017, 7, 1)\n",
      "monthly_portfolio_return = 0.0533\n",
      "risk_free_return = -0.0000\n",
      "mark_date = datetime.date(2017, 8, 1)\n",
      "monthly_portfolio_return = 0.0286\n",
      "risk_free_return = 0.0171\n",
      "mark_date = datetime.date(2017, 9, 1)\n",
      "monthly_portfolio_return = 0.0284\n",
      "risk_free_return = -0.0172\n",
      "mark_date = datetime.date(2017, 10, 1)\n",
      "monthly_portfolio_return = 0.1030\n",
      "risk_free_return = -0.0011\n",
      "mark_date = datetime.date(2017, 11, 1)\n",
      "monthly_portfolio_return = 0.0130\n",
      "risk_free_return = -0.0026\n",
      "mark_date = datetime.date(2017, 12, 1)\n",
      "monthly_portfolio_return = 0.0064\n",
      "risk_free_return = 0.0022\n",
      "mark_date = datetime.date(2018, 1, 1)\n",
      "monthly_portfolio_return = 0.1325\n",
      "risk_free_return = -0.0236\n",
      "mark_date = datetime.date(2018, 2, 1)\n",
      "monthly_portfolio_return = 0.0138\n",
      "risk_free_return = -0.0130\n",
      "mark_date = datetime.date(2018, 3, 1)\n",
      "monthly_portfolio_return = -0.0197\n",
      "risk_free_return = 0.0128\n",
      "mark_date = datetime.date(2018, 4, 1)\n",
      "monthly_portfolio_return = 0.0026\n",
      "risk_free_return = -0.0155\n",
      "mark_date = datetime.date(2018, 5, 1)\n",
      "monthly_portfolio_return = 0.0764\n",
      "risk_free_return = 0.0096\n",
      "mark_date = datetime.date(2018, 6, 1)\n",
      "monthly_portfolio_return = -0.0201\n",
      "risk_free_return = 0.0023\n",
      "mark_date = datetime.date(2018, 7, 1)\n",
      "monthly_portfolio_return = 0.0294\n",
      "risk_free_return = -0.0051\n",
      "mark_date = datetime.date(2018, 8, 1)\n",
      "monthly_portfolio_return = 0.0765\n",
      "risk_free_return = 0.0101\n",
      "mark_date = datetime.date(2018, 9, 1)\n",
      "monthly_portfolio_return = 0.0053\n",
      "risk_free_return = -0.0148\n",
      "mark_date = datetime.date(2018, 10, 1)\n",
      "monthly_portfolio_return = -0.1066\n",
      "risk_free_return = -0.0043\n",
      "mark_date = datetime.date(2018, 11, 1)\n",
      "monthly_portfolio_return = -0.0260\n",
      "risk_free_return = 0.0149\n",
      "mark_date = datetime.date(2018, 12, 1)\n",
      "monthly_portfolio_return = -0.0969\n",
      "risk_free_return = 0.0286\n",
      "mark_date = datetime.date(2019, 1, 1)\n",
      "monthly_portfolio_return = 0.0661\n",
      "risk_free_return = 0.0071\n",
      "mark_date = datetime.date(2019, 2, 1)\n",
      "monthly_portfolio_return = 0.0662\n",
      "risk_free_return = -0.0043\n",
      "mark_date = datetime.date(2019, 3, 1)\n",
      "monthly_portfolio_return = 0.0599\n",
      "risk_free_return = 0.0294\n",
      "mark_date = datetime.date(2019, 4, 1)\n",
      "monthly_portfolio_return = 0.0561\n",
      "risk_free_return = -0.0062\n",
      "mark_date = datetime.date(2019, 5, 1)\n",
      "monthly_portfolio_return = -0.0849\n",
      "risk_free_return = 0.0319\n",
      "mark_date = datetime.date(2019, 6, 1)\n",
      "monthly_portfolio_return = 0.0885\n",
      "risk_free_return = 0.0121\n",
      "mark_date = datetime.date(2019, 7, 1)\n",
      "monthly_portfolio_return = 0.0281\n",
      "risk_free_return = 0.0034\n",
      "mark_date = datetime.date(2019, 8, 1)\n",
      "monthly_portfolio_return = -0.0087\n",
      "risk_free_return = 0.0403\n",
      "mark_date = datetime.date(2019, 9, 1)\n",
      "monthly_portfolio_return = -0.0018\n",
      "risk_free_return = -0.0139\n",
      "mark_date = datetime.date(2019, 10, 1)\n",
      "monthly_portfolio_return = 0.0158\n",
      "risk_free_return = -0.0007\n",
      "mark_date = datetime.date(2019, 11, 1)\n",
      "monthly_portfolio_return = 0.0642\n",
      "risk_free_return = -0.0074\n",
      "mark_date = datetime.date(2019, 12, 1)\n",
      "monthly_portfolio_return = 0.0535\n",
      "risk_free_return = -0.0113\n",
      "mark_date = datetime.date(2020, 1, 1)\n",
      "monthly_portfolio_return = 0.0418\n",
      "risk_free_return = 0.0392\n",
      "mark_date = datetime.date(2020, 2, 1)\n",
      "monthly_portfolio_return = -0.0389\n",
      "risk_free_return = 0.0299\n",
      "mark_date = datetime.date(2020, 3, 1)\n",
      "monthly_portfolio_return = -0.0856\n",
      "risk_free_return = 0.0397\n",
      "mark_date = datetime.date(2020, 4, 1)\n",
      "monthly_portfolio_return = 0.1266\n",
      "risk_free_return = 0.0050\n",
      "mark_date = datetime.date(2020, 5, 1)\n",
      "monthly_portfolio_return = 0.0640\n",
      "risk_free_return = 0.0007\n",
      "mark_date = datetime.date(2020, 6, 1)\n",
      "monthly_portfolio_return = 0.0618\n",
      "risk_free_return = 0.0004\n",
      "mark_date = datetime.date(2020, 7, 1)\n",
      "monthly_portfolio_return = 0.0419\n",
      "risk_free_return = 0.0128\n",
      "mark_date = datetime.date(2020, 8, 1)\n",
      "monthly_portfolio_return = 0.1211\n",
      "risk_free_return = -0.0147\n",
      "mark_date = datetime.date(2020, 9, 1)\n",
      "monthly_portfolio_return = -0.0276\n",
      "risk_free_return = 0.0026\n",
      "mark_date = datetime.date(2020, 10, 1)\n",
      "monthly_portfolio_return = -0.0442\n",
      "risk_free_return = -0.0173\n",
      "mark_date = datetime.date(2020, 11, 1)\n",
      "monthly_portfolio_return = 0.0692\n",
      "risk_free_return = 0.0040\n",
      "mark_date = datetime.date(2020, 12, 1)\n",
      "monthly_portfolio_return = 0.0258\n",
      "risk_free_return = -0.0050\n",
      "mark_date = datetime.date(2021, 1, 1)\n",
      "monthly_portfolio_return = -0.0091\n",
      "risk_free_return = -0.0107\n",
      "mark_date = datetime.date(2021, 2, 1)\n",
      "monthly_portfolio_return = 0.0097\n",
      "risk_free_return = -0.0254\n",
      "mark_date = datetime.date(2021, 3, 1)\n",
      "monthly_portfolio_return = 0.0175\n",
      "risk_free_return = -0.0293\n",
      "mark_date = datetime.date(2021, 4, 1)\n",
      "monthly_portfolio_return = 0.0687\n",
      "risk_free_return = 0.0119\n",
      "mark_date = datetime.date(2021, 5, 1)\n",
      "monthly_portfolio_return = 0.0031\n",
      "risk_free_return = 0.0034\n",
      "mark_date = datetime.date(2021, 6, 1)\n",
      "monthly_portfolio_return = 0.1082\n",
      "risk_free_return = 0.0141\n",
      "mark_date = datetime.date(2021, 7, 1)\n",
      "monthly_portfolio_return = 0.0383\n",
      "risk_free_return = 0.0238\n",
      "mark_date = datetime.date(2021, 8, 1)\n",
      "monthly_portfolio_return = 0.0590\n",
      "risk_free_return = -0.0048\n",
      "mark_date = datetime.date(2021, 9, 1)\n",
      "monthly_portfolio_return = -0.0776\n",
      "risk_free_return = -0.0154\n",
      "mark_date = datetime.date(2021, 10, 1)\n",
      "monthly_portfolio_return = 0.1308\n",
      "risk_free_return = -0.0049\n",
      "mark_date = datetime.date(2021, 11, 1)\n",
      "monthly_portfolio_return = 0.0707\n",
      "risk_free_return = 0.0125\n",
      "mark_date = datetime.date(2021, 12, 1)\n",
      "monthly_portfolio_return = -0.0029\n",
      "risk_free_return = -0.0047\n",
      "========== SUMMARY ==========\n",
      "monthly_returns_bp_mean = 249.94\n",
      "monthly_returns_bp_std = 605.36\n",
      "annualized_mean_pct = 34.48\n",
      "annualized_std_pct = 20.97\n",
      "sharpe_ratio = 1.64\n",
      "mark_date = datetime.date(2017, 1, 1)\n",
      "monthly_portfolio_return = 0.0435\n",
      "risk_free_return = 0.0022\n",
      "mark_date = datetime.date(2017, 2, 1)\n",
      "monthly_portfolio_return = 0.0082\n",
      "risk_free_return = 0.0074\n",
      "mark_date = datetime.date(2017, 3, 1)\n",
      "monthly_portfolio_return = 0.0438\n",
      "risk_free_return = 0.0024\n",
      "mark_date = datetime.date(2017, 4, 1)\n",
      "monthly_portfolio_return = -0.0007\n",
      "risk_free_return = 0.0111\n",
      "mark_date = datetime.date(2017, 5, 1)\n",
      "monthly_portfolio_return = 0.1186\n",
      "risk_free_return = 0.0079\n",
      "mark_date = datetime.date(2017, 6, 1)\n",
      "monthly_portfolio_return = 0.0014\n",
      "risk_free_return = -0.0013\n",
      "mark_date = datetime.date(2017, 7, 1)\n",
      "monthly_portfolio_return = 0.0559\n",
      "risk_free_return = -0.0000\n",
      "mark_date = datetime.date(2017, 8, 1)\n",
      "monthly_portfolio_return = 0.0319\n",
      "risk_free_return = 0.0171\n",
      "mark_date = datetime.date(2017, 9, 1)\n",
      "monthly_portfolio_return = 0.0300\n",
      "risk_free_return = -0.0172\n",
      "mark_date = datetime.date(2017, 10, 1)\n",
      "monthly_portfolio_return = 0.1094\n",
      "risk_free_return = -0.0011\n",
      "mark_date = datetime.date(2017, 11, 1)\n",
      "monthly_portfolio_return = 0.0115\n",
      "risk_free_return = -0.0026\n",
      "mark_date = datetime.date(2017, 12, 1)\n",
      "monthly_portfolio_return = 0.0047\n",
      "risk_free_return = 0.0022\n",
      "mark_date = datetime.date(2018, 1, 1)\n",
      "monthly_portfolio_return = 0.1410\n",
      "risk_free_return = -0.0236\n",
      "mark_date = datetime.date(2018, 2, 1)\n",
      "monthly_portfolio_return = 0.0122\n",
      "risk_free_return = -0.0130\n",
      "mark_date = datetime.date(2018, 3, 1)\n",
      "monthly_portfolio_return = -0.0188\n",
      "risk_free_return = 0.0128\n",
      "mark_date = datetime.date(2018, 4, 1)\n",
      "monthly_portfolio_return = 0.0018\n",
      "risk_free_return = -0.0155\n",
      "mark_date = datetime.date(2018, 5, 1)\n",
      "monthly_portfolio_return = 0.0819\n",
      "risk_free_return = 0.0096\n",
      "mark_date = datetime.date(2018, 6, 1)\n",
      "monthly_portfolio_return = -0.0207\n",
      "risk_free_return = 0.0023\n",
      "mark_date = datetime.date(2018, 7, 1)\n",
      "monthly_portfolio_return = 0.0264\n",
      "risk_free_return = -0.0051\n",
      "mark_date = datetime.date(2018, 8, 1)\n",
      "monthly_portfolio_return = 0.0808\n",
      "risk_free_return = 0.0101\n",
      "mark_date = datetime.date(2018, 9, 1)\n",
      "monthly_portfolio_return = 0.0048\n",
      "risk_free_return = -0.0148\n",
      "mark_date = datetime.date(2018, 10, 1)\n",
      "monthly_portfolio_return = -0.1130\n",
      "risk_free_return = -0.0043\n",
      "mark_date = datetime.date(2018, 11, 1)\n",
      "monthly_portfolio_return = -0.0352\n",
      "risk_free_return = 0.0149\n",
      "mark_date = datetime.date(2018, 12, 1)\n",
      "monthly_portfolio_return = -0.1019\n",
      "risk_free_return = 0.0286\n",
      "mark_date = datetime.date(2019, 1, 1)\n",
      "monthly_portfolio_return = 0.0689\n",
      "risk_free_return = 0.0071\n",
      "mark_date = datetime.date(2019, 2, 1)\n",
      "monthly_portfolio_return = 0.0659\n",
      "risk_free_return = -0.0043\n",
      "mark_date = datetime.date(2019, 3, 1)\n",
      "monthly_portfolio_return = 0.0647\n",
      "risk_free_return = 0.0294\n",
      "mark_date = datetime.date(2019, 4, 1)\n",
      "monthly_portfolio_return = 0.0611\n",
      "risk_free_return = -0.0062\n",
      "mark_date = datetime.date(2019, 5, 1)\n",
      "monthly_portfolio_return = -0.0888\n",
      "risk_free_return = 0.0319\n",
      "mark_date = datetime.date(2019, 6, 1)\n",
      "monthly_portfolio_return = 0.0929\n",
      "risk_free_return = 0.0121\n",
      "mark_date = datetime.date(2019, 7, 1)\n",
      "monthly_portfolio_return = 0.0282\n",
      "risk_free_return = 0.0034\n",
      "mark_date = datetime.date(2019, 8, 1)\n",
      "monthly_portfolio_return = -0.0083\n",
      "risk_free_return = 0.0403\n",
      "mark_date = datetime.date(2019, 9, 1)\n",
      "monthly_portfolio_return = -0.0036\n",
      "risk_free_return = -0.0139\n",
      "mark_date = datetime.date(2019, 10, 1)\n",
      "monthly_portfolio_return = 0.0233\n",
      "risk_free_return = -0.0007\n",
      "mark_date = datetime.date(2019, 11, 1)\n",
      "monthly_portfolio_return = 0.0685\n",
      "risk_free_return = -0.0074\n",
      "mark_date = datetime.date(2019, 12, 1)\n",
      "monthly_portfolio_return = 0.0549\n",
      "risk_free_return = -0.0113\n",
      "mark_date = datetime.date(2020, 1, 1)\n",
      "monthly_portfolio_return = 0.0429\n",
      "risk_free_return = 0.0392\n",
      "mark_date = datetime.date(2020, 2, 1)\n",
      "monthly_portfolio_return = -0.0309\n",
      "risk_free_return = 0.0299\n",
      "mark_date = datetime.date(2020, 3, 1)\n",
      "monthly_portfolio_return = -0.0865\n",
      "risk_free_return = 0.0397\n",
      "mark_date = datetime.date(2020, 4, 1)\n",
      "monthly_portfolio_return = 0.1281\n",
      "risk_free_return = 0.0050\n",
      "mark_date = datetime.date(2020, 5, 1)\n",
      "monthly_portfolio_return = 0.0690\n",
      "risk_free_return = 0.0007\n",
      "mark_date = datetime.date(2020, 6, 1)\n",
      "monthly_portfolio_return = 0.0670\n",
      "risk_free_return = 0.0004\n",
      "mark_date = datetime.date(2020, 7, 1)\n",
      "monthly_portfolio_return = 0.0424\n",
      "risk_free_return = 0.0128\n",
      "mark_date = datetime.date(2020, 8, 1)\n",
      "monthly_portfolio_return = 0.1278\n",
      "risk_free_return = -0.0147\n",
      "mark_date = datetime.date(2020, 9, 1)\n",
      "monthly_portfolio_return = -0.0312\n",
      "risk_free_return = 0.0026\n",
      "mark_date = datetime.date(2020, 10, 1)\n",
      "monthly_portfolio_return = -0.0474\n",
      "risk_free_return = -0.0173\n",
      "mark_date = datetime.date(2020, 11, 1)\n",
      "monthly_portfolio_return = 0.0689\n",
      "risk_free_return = 0.0040\n",
      "mark_date = datetime.date(2020, 12, 1)\n",
      "monthly_portfolio_return = 0.0280\n",
      "risk_free_return = -0.0050\n",
      "mark_date = datetime.date(2021, 1, 1)\n",
      "monthly_portfolio_return = -0.0145\n",
      "risk_free_return = -0.0107\n",
      "mark_date = datetime.date(2021, 2, 1)\n",
      "monthly_portfolio_return = 0.0093\n",
      "risk_free_return = -0.0254\n",
      "mark_date = datetime.date(2021, 3, 1)\n",
      "monthly_portfolio_return = 0.0147\n",
      "risk_free_return = -0.0293\n",
      "mark_date = datetime.date(2021, 4, 1)\n",
      "monthly_portfolio_return = 0.0755\n",
      "risk_free_return = 0.0119\n",
      "mark_date = datetime.date(2021, 5, 1)\n",
      "monthly_portfolio_return = 0.0035\n",
      "risk_free_return = 0.0034\n",
      "mark_date = datetime.date(2021, 6, 1)\n",
      "monthly_portfolio_return = 0.1229\n",
      "risk_free_return = 0.0141\n",
      "mark_date = datetime.date(2021, 7, 1)\n",
      "monthly_portfolio_return = 0.0380\n",
      "risk_free_return = 0.0238\n",
      "mark_date = datetime.date(2021, 8, 1)\n",
      "monthly_portfolio_return = 0.0628\n",
      "risk_free_return = -0.0048\n",
      "mark_date = datetime.date(2021, 9, 1)\n",
      "monthly_portfolio_return = -0.0813\n",
      "risk_free_return = -0.0154\n",
      "mark_date = datetime.date(2021, 10, 1)\n",
      "monthly_portfolio_return = 0.1427\n",
      "risk_free_return = -0.0049\n",
      "mark_date = datetime.date(2021, 11, 1)\n",
      "monthly_portfolio_return = 0.0848\n",
      "risk_free_return = 0.0125\n",
      "mark_date = datetime.date(2021, 12, 1)\n",
      "monthly_portfolio_return = -0.0168\n",
      "risk_free_return = -0.0047\n",
      "========== SUMMARY ==========\n",
      "monthly_returns_bp_mean = 264.46\n",
      "monthly_returns_bp_std = 639.78\n",
      "annualized_mean_pct = 36.78\n",
      "annualized_std_pct = 22.16\n",
      "sharpe_ratio = 1.66\n",
      "mark_date = datetime.date(2017, 1, 1)\n",
      "monthly_portfolio_return = 0.0430\n",
      "risk_free_return = 0.0022\n",
      "mark_date = datetime.date(2017, 2, 1)\n",
      "monthly_portfolio_return = 0.0029\n",
      "risk_free_return = 0.0074\n",
      "mark_date = datetime.date(2017, 3, 1)\n",
      "monthly_portfolio_return = 0.0482\n",
      "risk_free_return = 0.0024\n",
      "mark_date = datetime.date(2017, 4, 1)\n",
      "monthly_portfolio_return = -0.0027\n",
      "risk_free_return = 0.0111\n",
      "mark_date = datetime.date(2017, 5, 1)\n",
      "monthly_portfolio_return = 0.1363\n",
      "risk_free_return = 0.0079\n",
      "mark_date = datetime.date(2017, 6, 1)\n",
      "monthly_portfolio_return = -0.0007\n",
      "risk_free_return = -0.0013\n",
      "mark_date = datetime.date(2017, 7, 1)\n",
      "monthly_portfolio_return = 0.0588\n",
      "risk_free_return = -0.0000\n",
      "mark_date = datetime.date(2017, 8, 1)\n",
      "monthly_portfolio_return = 0.0351\n",
      "risk_free_return = 0.0171\n",
      "mark_date = datetime.date(2017, 9, 1)\n",
      "monthly_portfolio_return = 0.0291\n",
      "risk_free_return = -0.0172\n",
      "mark_date = datetime.date(2017, 10, 1)\n",
      "monthly_portfolio_return = 0.1161\n",
      "risk_free_return = -0.0011\n",
      "mark_date = datetime.date(2017, 11, 1)\n",
      "monthly_portfolio_return = 0.0097\n",
      "risk_free_return = -0.0026\n",
      "mark_date = datetime.date(2017, 12, 1)\n",
      "monthly_portfolio_return = 0.0018\n",
      "risk_free_return = 0.0022\n",
      "mark_date = datetime.date(2018, 1, 1)\n",
      "monthly_portfolio_return = 0.1495\n",
      "risk_free_return = -0.0236\n",
      "mark_date = datetime.date(2018, 2, 1)\n",
      "monthly_portfolio_return = 0.0115\n",
      "risk_free_return = -0.0130\n",
      "mark_date = datetime.date(2018, 3, 1)\n",
      "monthly_portfolio_return = -0.0179\n",
      "risk_free_return = 0.0128\n",
      "mark_date = datetime.date(2018, 4, 1)\n",
      "monthly_portfolio_return = 0.0012\n",
      "risk_free_return = -0.0155\n",
      "mark_date = datetime.date(2018, 5, 1)\n",
      "monthly_portfolio_return = 0.0876\n",
      "risk_free_return = 0.0096\n",
      "mark_date = datetime.date(2018, 6, 1)\n",
      "monthly_portfolio_return = -0.0212\n",
      "risk_free_return = 0.0023\n",
      "mark_date = datetime.date(2018, 7, 1)\n",
      "monthly_portfolio_return = 0.0250\n",
      "risk_free_return = -0.0051\n",
      "mark_date = datetime.date(2018, 8, 1)\n",
      "monthly_portfolio_return = 0.0855\n",
      "risk_free_return = 0.0101\n",
      "mark_date = datetime.date(2018, 9, 1)\n",
      "monthly_portfolio_return = 0.0058\n",
      "risk_free_return = -0.0148\n",
      "mark_date = datetime.date(2018, 10, 1)\n",
      "monthly_portfolio_return = -0.1199\n",
      "risk_free_return = -0.0043\n",
      "mark_date = datetime.date(2018, 11, 1)\n",
      "monthly_portfolio_return = -0.0443\n",
      "risk_free_return = 0.0149\n",
      "mark_date = datetime.date(2018, 12, 1)\n",
      "monthly_portfolio_return = -0.1069\n",
      "risk_free_return = 0.0286\n",
      "mark_date = datetime.date(2019, 1, 1)\n",
      "monthly_portfolio_return = 0.0701\n",
      "risk_free_return = 0.0071\n",
      "mark_date = datetime.date(2019, 2, 1)\n",
      "monthly_portfolio_return = 0.0661\n",
      "risk_free_return = -0.0043\n",
      "mark_date = datetime.date(2019, 3, 1)\n",
      "monthly_portfolio_return = 0.0695\n",
      "risk_free_return = 0.0294\n",
      "mark_date = datetime.date(2019, 4, 1)\n",
      "monthly_portfolio_return = 0.0655\n",
      "risk_free_return = -0.0062\n",
      "mark_date = datetime.date(2019, 5, 1)\n",
      "monthly_portfolio_return = -0.0929\n",
      "risk_free_return = 0.0319\n",
      "mark_date = datetime.date(2019, 6, 1)\n",
      "monthly_portfolio_return = 0.0969\n",
      "risk_free_return = 0.0121\n",
      "mark_date = datetime.date(2019, 7, 1)\n",
      "monthly_portfolio_return = 0.0268\n",
      "risk_free_return = 0.0034\n",
      "mark_date = datetime.date(2019, 8, 1)\n",
      "monthly_portfolio_return = -0.0067\n",
      "risk_free_return = 0.0403\n",
      "mark_date = datetime.date(2019, 9, 1)\n",
      "monthly_portfolio_return = -0.0050\n",
      "risk_free_return = -0.0139\n",
      "mark_date = datetime.date(2019, 10, 1)\n",
      "monthly_portfolio_return = 0.0319\n",
      "risk_free_return = -0.0007\n",
      "mark_date = datetime.date(2019, 11, 1)\n",
      "monthly_portfolio_return = 0.0740\n",
      "risk_free_return = -0.0074\n",
      "mark_date = datetime.date(2019, 12, 1)\n",
      "monthly_portfolio_return = 0.0553\n",
      "risk_free_return = -0.0113\n",
      "mark_date = datetime.date(2020, 1, 1)\n",
      "monthly_portfolio_return = 0.0463\n",
      "risk_free_return = 0.0392\n",
      "mark_date = datetime.date(2020, 2, 1)\n",
      "monthly_portfolio_return = -0.0230\n",
      "risk_free_return = 0.0299\n",
      "mark_date = datetime.date(2020, 3, 1)\n",
      "monthly_portfolio_return = -0.0869\n",
      "risk_free_return = 0.0397\n",
      "mark_date = datetime.date(2020, 4, 1)\n",
      "monthly_portfolio_return = 0.1297\n",
      "risk_free_return = 0.0050\n",
      "mark_date = datetime.date(2020, 5, 1)\n",
      "monthly_portfolio_return = 0.0745\n",
      "risk_free_return = 0.0007\n",
      "mark_date = datetime.date(2020, 6, 1)\n",
      "monthly_portfolio_return = 0.0722\n",
      "risk_free_return = 0.0004\n",
      "mark_date = datetime.date(2020, 7, 1)\n",
      "monthly_portfolio_return = 0.0436\n",
      "risk_free_return = 0.0128\n",
      "mark_date = datetime.date(2020, 8, 1)\n",
      "monthly_portfolio_return = 0.1345\n",
      "risk_free_return = -0.0147\n",
      "mark_date = datetime.date(2020, 9, 1)\n",
      "monthly_portfolio_return = -0.0349\n",
      "risk_free_return = 0.0026\n",
      "mark_date = datetime.date(2020, 10, 1)\n",
      "monthly_portfolio_return = -0.0515\n",
      "risk_free_return = -0.0173\n",
      "mark_date = datetime.date(2020, 11, 1)\n",
      "monthly_portfolio_return = 0.0707\n",
      "risk_free_return = 0.0040\n",
      "mark_date = datetime.date(2020, 12, 1)\n",
      "monthly_portfolio_return = 0.0302\n",
      "risk_free_return = -0.0050\n",
      "mark_date = datetime.date(2021, 1, 1)\n",
      "monthly_portfolio_return = -0.0183\n",
      "risk_free_return = -0.0107\n",
      "mark_date = datetime.date(2021, 2, 1)\n",
      "monthly_portfolio_return = 0.0084\n",
      "risk_free_return = -0.0254\n",
      "mark_date = datetime.date(2021, 3, 1)\n",
      "monthly_portfolio_return = 0.0091\n",
      "risk_free_return = -0.0293\n",
      "mark_date = datetime.date(2021, 4, 1)\n",
      "monthly_portfolio_return = 0.0823\n",
      "risk_free_return = 0.0119\n",
      "mark_date = datetime.date(2021, 5, 1)\n",
      "monthly_portfolio_return = 0.0031\n",
      "risk_free_return = 0.0034\n",
      "mark_date = datetime.date(2021, 6, 1)\n",
      "monthly_portfolio_return = 0.1382\n",
      "risk_free_return = 0.0141\n",
      "mark_date = datetime.date(2021, 7, 1)\n",
      "monthly_portfolio_return = 0.0380\n",
      "risk_free_return = 0.0238\n",
      "mark_date = datetime.date(2021, 8, 1)\n",
      "monthly_portfolio_return = 0.0685\n",
      "risk_free_return = -0.0048\n",
      "mark_date = datetime.date(2021, 9, 1)\n",
      "monthly_portfolio_return = -0.0845\n",
      "risk_free_return = -0.0154\n",
      "mark_date = datetime.date(2021, 10, 1)\n",
      "monthly_portfolio_return = 0.1567\n",
      "risk_free_return = -0.0049\n",
      "mark_date = datetime.date(2021, 11, 1)\n",
      "monthly_portfolio_return = 0.0993\n",
      "risk_free_return = 0.0125\n",
      "mark_date = datetime.date(2021, 12, 1)\n",
      "monthly_portfolio_return = -0.0297\n",
      "risk_free_return = -0.0047\n",
      "========== SUMMARY ==========\n",
      "monthly_returns_bp_mean = 280.58\n",
      "monthly_returns_bp_std = 678.02\n",
      "annualized_mean_pct = 39.38\n",
      "annualized_std_pct = 23.49\n",
      "sharpe_ratio = 1.68\n",
      "mark_date = datetime.date(2017, 1, 1)\n",
      "monthly_portfolio_return = 0.0425\n",
      "risk_free_return = 0.0022\n",
      "mark_date = datetime.date(2017, 2, 1)\n",
      "monthly_portfolio_return = -0.0028\n",
      "risk_free_return = 0.0074\n",
      "mark_date = datetime.date(2017, 3, 1)\n",
      "monthly_portfolio_return = 0.0537\n",
      "risk_free_return = 0.0024\n",
      "mark_date = datetime.date(2017, 4, 1)\n",
      "monthly_portfolio_return = -0.0049\n",
      "risk_free_return = 0.0111\n",
      "mark_date = datetime.date(2017, 5, 1)\n",
      "monthly_portfolio_return = 0.1538\n",
      "risk_free_return = 0.0079\n",
      "mark_date = datetime.date(2017, 6, 1)\n",
      "monthly_portfolio_return = -0.0018\n",
      "risk_free_return = -0.0013\n",
      "mark_date = datetime.date(2017, 7, 1)\n",
      "monthly_portfolio_return = 0.0617\n",
      "risk_free_return = -0.0000\n",
      "mark_date = datetime.date(2017, 8, 1)\n",
      "monthly_portfolio_return = 0.0367\n",
      "risk_free_return = 0.0171\n",
      "mark_date = datetime.date(2017, 9, 1)\n",
      "monthly_portfolio_return = 0.0273\n",
      "risk_free_return = -0.0172\n",
      "mark_date = datetime.date(2017, 10, 1)\n",
      "monthly_portfolio_return = 0.1227\n",
      "risk_free_return = -0.0011\n",
      "mark_date = datetime.date(2017, 11, 1)\n",
      "monthly_portfolio_return = 0.0085\n",
      "risk_free_return = -0.0026\n",
      "mark_date = datetime.date(2017, 12, 1)\n",
      "monthly_portfolio_return = -0.0013\n",
      "risk_free_return = 0.0022\n",
      "mark_date = datetime.date(2018, 1, 1)\n",
      "monthly_portfolio_return = 0.1570\n",
      "risk_free_return = -0.0236\n",
      "mark_date = datetime.date(2018, 2, 1)\n",
      "monthly_portfolio_return = 0.0104\n",
      "risk_free_return = -0.0130\n",
      "mark_date = datetime.date(2018, 3, 1)\n",
      "monthly_portfolio_return = -0.0174\n",
      "risk_free_return = 0.0128\n",
      "mark_date = datetime.date(2018, 4, 1)\n",
      "monthly_portfolio_return = 0.0005\n",
      "risk_free_return = -0.0155\n",
      "mark_date = datetime.date(2018, 5, 1)\n",
      "monthly_portfolio_return = 0.0924\n",
      "risk_free_return = 0.0096\n",
      "mark_date = datetime.date(2018, 6, 1)\n",
      "monthly_portfolio_return = -0.0213\n",
      "risk_free_return = 0.0023\n",
      "mark_date = datetime.date(2018, 7, 1)\n",
      "monthly_portfolio_return = 0.0230\n",
      "risk_free_return = -0.0051\n",
      "mark_date = datetime.date(2018, 8, 1)\n",
      "monthly_portfolio_return = 0.0904\n",
      "risk_free_return = 0.0101\n",
      "mark_date = datetime.date(2018, 9, 1)\n",
      "monthly_portfolio_return = 0.0075\n",
      "risk_free_return = -0.0148\n",
      "mark_date = datetime.date(2018, 10, 1)\n",
      "monthly_portfolio_return = -0.1255\n",
      "risk_free_return = -0.0043\n",
      "mark_date = datetime.date(2018, 11, 1)\n",
      "monthly_portfolio_return = -0.0536\n",
      "risk_free_return = 0.0149\n",
      "mark_date = datetime.date(2018, 12, 1)\n",
      "monthly_portfolio_return = -0.1118\n",
      "risk_free_return = 0.0286\n",
      "mark_date = datetime.date(2019, 1, 1)\n",
      "monthly_portfolio_return = 0.0697\n",
      "risk_free_return = 0.0071\n",
      "mark_date = datetime.date(2019, 2, 1)\n",
      "monthly_portfolio_return = 0.0662\n",
      "risk_free_return = -0.0043\n",
      "mark_date = datetime.date(2019, 3, 1)\n",
      "monthly_portfolio_return = 0.0740\n",
      "risk_free_return = 0.0294\n",
      "mark_date = datetime.date(2019, 4, 1)\n",
      "monthly_portfolio_return = 0.0633\n",
      "risk_free_return = -0.0062\n",
      "mark_date = datetime.date(2019, 5, 1)\n",
      "monthly_portfolio_return = -0.0971\n",
      "risk_free_return = 0.0319\n",
      "mark_date = datetime.date(2019, 6, 1)\n",
      "monthly_portfolio_return = 0.1010\n",
      "risk_free_return = 0.0121\n",
      "mark_date = datetime.date(2019, 7, 1)\n",
      "monthly_portfolio_return = 0.0244\n",
      "risk_free_return = 0.0034\n",
      "mark_date = datetime.date(2019, 8, 1)\n",
      "monthly_portfolio_return = -0.0059\n",
      "risk_free_return = 0.0403\n",
      "mark_date = datetime.date(2019, 9, 1)\n",
      "monthly_portfolio_return = -0.0052\n",
      "risk_free_return = -0.0139\n",
      "mark_date = datetime.date(2019, 10, 1)\n",
      "monthly_portfolio_return = 0.0384\n",
      "risk_free_return = -0.0007\n",
      "mark_date = datetime.date(2019, 11, 1)\n",
      "monthly_portfolio_return = 0.0765\n",
      "risk_free_return = -0.0074\n",
      "mark_date = datetime.date(2019, 12, 1)\n",
      "monthly_portfolio_return = 0.0554\n",
      "risk_free_return = -0.0113\n",
      "mark_date = datetime.date(2020, 1, 1)\n",
      "monthly_portfolio_return = 0.0496\n",
      "risk_free_return = 0.0392\n",
      "mark_date = datetime.date(2020, 2, 1)\n",
      "monthly_portfolio_return = -0.0134\n",
      "risk_free_return = 0.0299\n",
      "mark_date = datetime.date(2020, 3, 1)\n",
      "monthly_portfolio_return = -0.0865\n",
      "risk_free_return = 0.0397\n",
      "mark_date = datetime.date(2020, 4, 1)\n",
      "monthly_portfolio_return = 0.1299\n",
      "risk_free_return = 0.0050\n",
      "mark_date = datetime.date(2020, 5, 1)\n",
      "monthly_portfolio_return = 0.0799\n",
      "risk_free_return = 0.0007\n",
      "mark_date = datetime.date(2020, 6, 1)\n",
      "monthly_portfolio_return = 0.0769\n",
      "risk_free_return = 0.0004\n",
      "mark_date = datetime.date(2020, 7, 1)\n",
      "monthly_portfolio_return = 0.0459\n",
      "risk_free_return = 0.0128\n",
      "mark_date = datetime.date(2020, 8, 1)\n",
      "monthly_portfolio_return = 0.1414\n",
      "risk_free_return = -0.0147\n",
      "mark_date = datetime.date(2020, 9, 1)\n",
      "monthly_portfolio_return = -0.0384\n",
      "risk_free_return = 0.0026\n",
      "mark_date = datetime.date(2020, 10, 1)\n",
      "monthly_portfolio_return = -0.0566\n",
      "risk_free_return = -0.0173\n",
      "mark_date = datetime.date(2020, 11, 1)\n",
      "monthly_portfolio_return = 0.0708\n",
      "risk_free_return = 0.0040\n",
      "mark_date = datetime.date(2020, 12, 1)\n",
      "monthly_portfolio_return = 0.0325\n",
      "risk_free_return = -0.0050\n",
      "mark_date = datetime.date(2021, 1, 1)\n",
      "monthly_portfolio_return = -0.0219\n",
      "risk_free_return = -0.0107\n",
      "mark_date = datetime.date(2021, 2, 1)\n",
      "monthly_portfolio_return = 0.0076\n",
      "risk_free_return = -0.0254\n",
      "mark_date = datetime.date(2021, 3, 1)\n",
      "monthly_portfolio_return = 0.0049\n",
      "risk_free_return = -0.0293\n",
      "mark_date = datetime.date(2021, 4, 1)\n",
      "monthly_portfolio_return = 0.0890\n",
      "risk_free_return = 0.0119\n",
      "mark_date = datetime.date(2021, 5, 1)\n",
      "monthly_portfolio_return = 0.0073\n",
      "risk_free_return = 0.0034\n",
      "mark_date = datetime.date(2021, 6, 1)\n",
      "monthly_portfolio_return = 0.1531\n",
      "risk_free_return = 0.0141\n",
      "mark_date = datetime.date(2021, 7, 1)\n",
      "monthly_portfolio_return = 0.0359\n",
      "risk_free_return = 0.0238\n",
      "mark_date = datetime.date(2021, 8, 1)\n",
      "monthly_portfolio_return = 0.0812\n",
      "risk_free_return = -0.0048\n",
      "mark_date = datetime.date(2021, 9, 1)\n",
      "monthly_portfolio_return = -0.0863\n",
      "risk_free_return = -0.0154\n",
      "mark_date = datetime.date(2021, 10, 1)\n",
      "monthly_portfolio_return = 0.1652\n",
      "risk_free_return = -0.0049\n",
      "mark_date = datetime.date(2021, 11, 1)\n",
      "monthly_portfolio_return = 0.1186\n",
      "risk_free_return = 0.0125\n",
      "mark_date = datetime.date(2021, 12, 1)\n",
      "monthly_portfolio_return = -0.0406\n",
      "risk_free_return = -0.0047\n",
      "========== SUMMARY ==========\n",
      "monthly_returns_bp_mean = 296.06\n",
      "monthly_returns_bp_std = 714.67\n",
      "annualized_mean_pct = 41.92\n",
      "annualized_std_pct = 24.76\n",
      "sharpe_ratio = 1.69\n",
      "mark_date = datetime.date(2017, 1, 1)\n",
      "monthly_portfolio_return = 0.0420\n",
      "risk_free_return = 0.0022\n",
      "mark_date = datetime.date(2017, 2, 1)\n",
      "monthly_portfolio_return = -0.0077\n",
      "risk_free_return = 0.0074\n",
      "mark_date = datetime.date(2017, 3, 1)\n",
      "monthly_portfolio_return = 0.0495\n",
      "risk_free_return = 0.0024\n",
      "mark_date = datetime.date(2017, 4, 1)\n",
      "monthly_portfolio_return = -0.0070\n",
      "risk_free_return = 0.0111\n",
      "mark_date = datetime.date(2017, 5, 1)\n",
      "monthly_portfolio_return = 0.1722\n",
      "risk_free_return = 0.0079\n",
      "mark_date = datetime.date(2017, 6, 1)\n",
      "monthly_portfolio_return = -0.0028\n",
      "risk_free_return = -0.0013\n",
      "mark_date = datetime.date(2017, 7, 1)\n",
      "monthly_portfolio_return = 0.0648\n",
      "risk_free_return = -0.0000\n",
      "mark_date = datetime.date(2017, 8, 1)\n",
      "monthly_portfolio_return = 0.0382\n",
      "risk_free_return = 0.0171\n",
      "mark_date = datetime.date(2017, 9, 1)\n",
      "monthly_portfolio_return = 0.0255\n",
      "risk_free_return = -0.0172\n",
      "mark_date = datetime.date(2017, 10, 1)\n",
      "monthly_portfolio_return = 0.1284\n",
      "risk_free_return = -0.0011\n",
      "mark_date = datetime.date(2017, 11, 1)\n",
      "monthly_portfolio_return = 0.0069\n",
      "risk_free_return = -0.0026\n",
      "mark_date = datetime.date(2017, 12, 1)\n",
      "monthly_portfolio_return = -0.0045\n",
      "risk_free_return = 0.0022\n",
      "mark_date = datetime.date(2018, 1, 1)\n",
      "monthly_portfolio_return = 0.1642\n",
      "risk_free_return = -0.0236\n",
      "mark_date = datetime.date(2018, 2, 1)\n",
      "monthly_portfolio_return = 0.0094\n",
      "risk_free_return = -0.0130\n",
      "mark_date = datetime.date(2018, 3, 1)\n",
      "monthly_portfolio_return = -0.0174\n",
      "risk_free_return = 0.0128\n",
      "mark_date = datetime.date(2018, 4, 1)\n",
      "monthly_portfolio_return = -0.0001\n",
      "risk_free_return = -0.0155\n",
      "mark_date = datetime.date(2018, 5, 1)\n",
      "monthly_portfolio_return = 0.0973\n",
      "risk_free_return = 0.0096\n",
      "mark_date = datetime.date(2018, 6, 1)\n",
      "monthly_portfolio_return = -0.0212\n",
      "risk_free_return = 0.0023\n",
      "mark_date = datetime.date(2018, 7, 1)\n",
      "monthly_portfolio_return = 0.0227\n",
      "risk_free_return = -0.0051\n",
      "mark_date = datetime.date(2018, 8, 1)\n",
      "monthly_portfolio_return = 0.0950\n",
      "risk_free_return = 0.0101\n",
      "mark_date = datetime.date(2018, 9, 1)\n",
      "monthly_portfolio_return = 0.0088\n",
      "risk_free_return = -0.0148\n",
      "mark_date = datetime.date(2018, 10, 1)\n",
      "monthly_portfolio_return = -0.1298\n",
      "risk_free_return = -0.0043\n",
      "mark_date = datetime.date(2018, 11, 1)\n",
      "monthly_portfolio_return = -0.0629\n",
      "risk_free_return = 0.0149\n",
      "mark_date = datetime.date(2018, 12, 1)\n",
      "monthly_portfolio_return = -0.1166\n",
      "risk_free_return = 0.0286\n",
      "mark_date = datetime.date(2019, 1, 1)\n",
      "monthly_portfolio_return = 0.0691\n",
      "risk_free_return = 0.0071\n",
      "mark_date = datetime.date(2019, 2, 1)\n",
      "monthly_portfolio_return = 0.0665\n",
      "risk_free_return = -0.0043\n",
      "mark_date = datetime.date(2019, 3, 1)\n",
      "monthly_portfolio_return = 0.0784\n",
      "risk_free_return = 0.0294\n",
      "mark_date = datetime.date(2019, 4, 1)\n",
      "monthly_portfolio_return = 0.0615\n",
      "risk_free_return = -0.0062\n",
      "mark_date = datetime.date(2019, 5, 1)\n",
      "monthly_portfolio_return = -0.1022\n",
      "risk_free_return = 0.0319\n",
      "mark_date = datetime.date(2019, 6, 1)\n",
      "monthly_portfolio_return = 0.1061\n",
      "risk_free_return = 0.0121\n",
      "mark_date = datetime.date(2019, 7, 1)\n",
      "monthly_portfolio_return = 0.0225\n",
      "risk_free_return = 0.0034\n",
      "mark_date = datetime.date(2019, 8, 1)\n",
      "monthly_portfolio_return = -0.0071\n",
      "risk_free_return = 0.0403\n",
      "mark_date = datetime.date(2019, 9, 1)\n",
      "monthly_portfolio_return = -0.0054\n",
      "risk_free_return = -0.0139\n",
      "mark_date = datetime.date(2019, 10, 1)\n",
      "monthly_portfolio_return = 0.0475\n",
      "risk_free_return = -0.0007\n",
      "mark_date = datetime.date(2019, 11, 1)\n",
      "monthly_portfolio_return = 0.0788\n",
      "risk_free_return = -0.0074\n",
      "mark_date = datetime.date(2019, 12, 1)\n",
      "monthly_portfolio_return = 0.0556\n",
      "risk_free_return = -0.0113\n",
      "mark_date = datetime.date(2020, 1, 1)\n",
      "monthly_portfolio_return = 0.0502\n",
      "risk_free_return = 0.0392\n",
      "mark_date = datetime.date(2020, 2, 1)\n",
      "monthly_portfolio_return = -0.0023\n",
      "risk_free_return = 0.0299\n",
      "mark_date = datetime.date(2020, 3, 1)\n",
      "monthly_portfolio_return = -0.0856\n",
      "risk_free_return = 0.0397\n",
      "mark_date = datetime.date(2020, 4, 1)\n",
      "monthly_portfolio_return = 0.1300\n",
      "risk_free_return = 0.0050\n",
      "mark_date = datetime.date(2020, 5, 1)\n",
      "monthly_portfolio_return = 0.0854\n",
      "risk_free_return = 0.0007\n",
      "mark_date = datetime.date(2020, 6, 1)\n",
      "monthly_portfolio_return = 0.0812\n",
      "risk_free_return = 0.0004\n",
      "mark_date = datetime.date(2020, 7, 1)\n",
      "monthly_portfolio_return = 0.0484\n",
      "risk_free_return = 0.0128\n",
      "mark_date = datetime.date(2020, 8, 1)\n",
      "monthly_portfolio_return = 0.1465\n",
      "risk_free_return = -0.0147\n",
      "mark_date = datetime.date(2020, 9, 1)\n",
      "monthly_portfolio_return = -0.0410\n",
      "risk_free_return = 0.0026\n",
      "mark_date = datetime.date(2020, 10, 1)\n",
      "monthly_portfolio_return = -0.0615\n",
      "risk_free_return = -0.0173\n",
      "mark_date = datetime.date(2020, 11, 1)\n",
      "monthly_portfolio_return = 0.0701\n",
      "risk_free_return = 0.0040\n",
      "mark_date = datetime.date(2020, 12, 1)\n",
      "monthly_portfolio_return = 0.0341\n",
      "risk_free_return = -0.0050\n",
      "mark_date = datetime.date(2021, 1, 1)\n",
      "monthly_portfolio_return = -0.0234\n",
      "risk_free_return = -0.0107\n",
      "mark_date = datetime.date(2021, 2, 1)\n",
      "monthly_portfolio_return = 0.0067\n",
      "risk_free_return = -0.0254\n",
      "mark_date = datetime.date(2021, 3, 1)\n",
      "monthly_portfolio_return = 0.0026\n",
      "risk_free_return = -0.0293\n",
      "mark_date = datetime.date(2021, 4, 1)\n",
      "monthly_portfolio_return = 0.0923\n",
      "risk_free_return = 0.0119\n",
      "mark_date = datetime.date(2021, 5, 1)\n",
      "monthly_portfolio_return = 0.0131\n",
      "risk_free_return = 0.0034\n",
      "mark_date = datetime.date(2021, 6, 1)\n",
      "monthly_portfolio_return = 0.1611\n",
      "risk_free_return = 0.0141\n",
      "mark_date = datetime.date(2021, 7, 1)\n",
      "monthly_portfolio_return = 0.0316\n",
      "risk_free_return = 0.0238\n",
      "mark_date = datetime.date(2021, 8, 1)\n",
      "monthly_portfolio_return = 0.0888\n",
      "risk_free_return = -0.0048\n",
      "mark_date = datetime.date(2021, 9, 1)\n",
      "monthly_portfolio_return = -0.0870\n",
      "risk_free_return = -0.0154\n",
      "mark_date = datetime.date(2021, 10, 1)\n",
      "monthly_portfolio_return = 0.1698\n",
      "risk_free_return = -0.0049\n",
      "mark_date = datetime.date(2021, 11, 1)\n",
      "monthly_portfolio_return = 0.1380\n",
      "risk_free_return = 0.0125\n",
      "mark_date = datetime.date(2021, 12, 1)\n",
      "monthly_portfolio_return = -0.0502\n",
      "risk_free_return = -0.0047\n",
      "========== SUMMARY ==========\n",
      "monthly_returns_bp_mean = 307.88\n",
      "monthly_returns_bp_std = 747.75\n",
      "annualized_mean_pct = 43.89\n",
      "annualized_std_pct = 25.90\n",
      "sharpe_ratio = 1.69\n"
     ]
    }
   ],
   "source": [
    "results_constant_corr = param_tune(1.5, 2.3, 10, PortfolioStrategy.CONSTANT_CORRELATION)\n",
    "\n",
    "\n"
   ]
  },
  {
   "cell_type": "code",
   "execution_count": 24,
   "metadata": {},
   "outputs": [
    {
     "data": {
      "application/vnd.plotly.v1+json": {
       "config": {
        "plotlyServerURL": "https://plot.ly"
       },
       "data": [
        {
         "hovertemplate": "min_return_ratio=%{x}<br>Sharpe Ratio=%{y}<extra></extra>",
         "legendgroup": "",
         "line": {
          "color": "#636efa",
          "dash": "solid"
         },
         "marker": {
          "symbol": "circle"
         },
         "mode": "lines",
         "name": "",
         "orientation": "v",
         "showlegend": false,
         "type": "scatter",
         "x": [
          1.5,
          1.5888888888888888,
          1.6777777777777778,
          1.7666666666666666,
          1.8555555555555554,
          1.9444444444444442,
          2.033333333333333,
          2.122222222222222,
          2.211111111111111,
          2.3
         ],
         "xaxis": "x",
         "y": [
          1.4671269695650888,
          1.512057312715505,
          1.5559068054315206,
          1.5949350997931862,
          1.617700694750966,
          1.6442303716330466,
          1.6596611939226074,
          1.676795447842174,
          1.6934107919379435,
          1.6944093117945067
         ],
         "yaxis": "y"
        }
       ],
       "layout": {
        "legend": {
         "tracegroupgap": 0
        },
        "margin": {
         "t": 60
        },
        "template": {
         "data": {
          "bar": [
           {
            "error_x": {
             "color": "#2a3f5f"
            },
            "error_y": {
             "color": "#2a3f5f"
            },
            "marker": {
             "line": {
              "color": "#E5ECF6",
              "width": 0.5
             },
             "pattern": {
              "fillmode": "overlay",
              "size": 10,
              "solidity": 0.2
             }
            },
            "type": "bar"
           }
          ],
          "barpolar": [
           {
            "marker": {
             "line": {
              "color": "#E5ECF6",
              "width": 0.5
             },
             "pattern": {
              "fillmode": "overlay",
              "size": 10,
              "solidity": 0.2
             }
            },
            "type": "barpolar"
           }
          ],
          "carpet": [
           {
            "aaxis": {
             "endlinecolor": "#2a3f5f",
             "gridcolor": "white",
             "linecolor": "white",
             "minorgridcolor": "white",
             "startlinecolor": "#2a3f5f"
            },
            "baxis": {
             "endlinecolor": "#2a3f5f",
             "gridcolor": "white",
             "linecolor": "white",
             "minorgridcolor": "white",
             "startlinecolor": "#2a3f5f"
            },
            "type": "carpet"
           }
          ],
          "choropleth": [
           {
            "colorbar": {
             "outlinewidth": 0,
             "ticks": ""
            },
            "type": "choropleth"
           }
          ],
          "contour": [
           {
            "colorbar": {
             "outlinewidth": 0,
             "ticks": ""
            },
            "colorscale": [
             [
              0,
              "#0d0887"
             ],
             [
              0.1111111111111111,
              "#46039f"
             ],
             [
              0.2222222222222222,
              "#7201a8"
             ],
             [
              0.3333333333333333,
              "#9c179e"
             ],
             [
              0.4444444444444444,
              "#bd3786"
             ],
             [
              0.5555555555555556,
              "#d8576b"
             ],
             [
              0.6666666666666666,
              "#ed7953"
             ],
             [
              0.7777777777777778,
              "#fb9f3a"
             ],
             [
              0.8888888888888888,
              "#fdca26"
             ],
             [
              1,
              "#f0f921"
             ]
            ],
            "type": "contour"
           }
          ],
          "contourcarpet": [
           {
            "colorbar": {
             "outlinewidth": 0,
             "ticks": ""
            },
            "type": "contourcarpet"
           }
          ],
          "heatmap": [
           {
            "colorbar": {
             "outlinewidth": 0,
             "ticks": ""
            },
            "colorscale": [
             [
              0,
              "#0d0887"
             ],
             [
              0.1111111111111111,
              "#46039f"
             ],
             [
              0.2222222222222222,
              "#7201a8"
             ],
             [
              0.3333333333333333,
              "#9c179e"
             ],
             [
              0.4444444444444444,
              "#bd3786"
             ],
             [
              0.5555555555555556,
              "#d8576b"
             ],
             [
              0.6666666666666666,
              "#ed7953"
             ],
             [
              0.7777777777777778,
              "#fb9f3a"
             ],
             [
              0.8888888888888888,
              "#fdca26"
             ],
             [
              1,
              "#f0f921"
             ]
            ],
            "type": "heatmap"
           }
          ],
          "heatmapgl": [
           {
            "colorbar": {
             "outlinewidth": 0,
             "ticks": ""
            },
            "colorscale": [
             [
              0,
              "#0d0887"
             ],
             [
              0.1111111111111111,
              "#46039f"
             ],
             [
              0.2222222222222222,
              "#7201a8"
             ],
             [
              0.3333333333333333,
              "#9c179e"
             ],
             [
              0.4444444444444444,
              "#bd3786"
             ],
             [
              0.5555555555555556,
              "#d8576b"
             ],
             [
              0.6666666666666666,
              "#ed7953"
             ],
             [
              0.7777777777777778,
              "#fb9f3a"
             ],
             [
              0.8888888888888888,
              "#fdca26"
             ],
             [
              1,
              "#f0f921"
             ]
            ],
            "type": "heatmapgl"
           }
          ],
          "histogram": [
           {
            "marker": {
             "pattern": {
              "fillmode": "overlay",
              "size": 10,
              "solidity": 0.2
             }
            },
            "type": "histogram"
           }
          ],
          "histogram2d": [
           {
            "colorbar": {
             "outlinewidth": 0,
             "ticks": ""
            },
            "colorscale": [
             [
              0,
              "#0d0887"
             ],
             [
              0.1111111111111111,
              "#46039f"
             ],
             [
              0.2222222222222222,
              "#7201a8"
             ],
             [
              0.3333333333333333,
              "#9c179e"
             ],
             [
              0.4444444444444444,
              "#bd3786"
             ],
             [
              0.5555555555555556,
              "#d8576b"
             ],
             [
              0.6666666666666666,
              "#ed7953"
             ],
             [
              0.7777777777777778,
              "#fb9f3a"
             ],
             [
              0.8888888888888888,
              "#fdca26"
             ],
             [
              1,
              "#f0f921"
             ]
            ],
            "type": "histogram2d"
           }
          ],
          "histogram2dcontour": [
           {
            "colorbar": {
             "outlinewidth": 0,
             "ticks": ""
            },
            "colorscale": [
             [
              0,
              "#0d0887"
             ],
             [
              0.1111111111111111,
              "#46039f"
             ],
             [
              0.2222222222222222,
              "#7201a8"
             ],
             [
              0.3333333333333333,
              "#9c179e"
             ],
             [
              0.4444444444444444,
              "#bd3786"
             ],
             [
              0.5555555555555556,
              "#d8576b"
             ],
             [
              0.6666666666666666,
              "#ed7953"
             ],
             [
              0.7777777777777778,
              "#fb9f3a"
             ],
             [
              0.8888888888888888,
              "#fdca26"
             ],
             [
              1,
              "#f0f921"
             ]
            ],
            "type": "histogram2dcontour"
           }
          ],
          "mesh3d": [
           {
            "colorbar": {
             "outlinewidth": 0,
             "ticks": ""
            },
            "type": "mesh3d"
           }
          ],
          "parcoords": [
           {
            "line": {
             "colorbar": {
              "outlinewidth": 0,
              "ticks": ""
             }
            },
            "type": "parcoords"
           }
          ],
          "pie": [
           {
            "automargin": true,
            "type": "pie"
           }
          ],
          "scatter": [
           {
            "fillpattern": {
             "fillmode": "overlay",
             "size": 10,
             "solidity": 0.2
            },
            "type": "scatter"
           }
          ],
          "scatter3d": [
           {
            "line": {
             "colorbar": {
              "outlinewidth": 0,
              "ticks": ""
             }
            },
            "marker": {
             "colorbar": {
              "outlinewidth": 0,
              "ticks": ""
             }
            },
            "type": "scatter3d"
           }
          ],
          "scattercarpet": [
           {
            "marker": {
             "colorbar": {
              "outlinewidth": 0,
              "ticks": ""
             }
            },
            "type": "scattercarpet"
           }
          ],
          "scattergeo": [
           {
            "marker": {
             "colorbar": {
              "outlinewidth": 0,
              "ticks": ""
             }
            },
            "type": "scattergeo"
           }
          ],
          "scattergl": [
           {
            "marker": {
             "colorbar": {
              "outlinewidth": 0,
              "ticks": ""
             }
            },
            "type": "scattergl"
           }
          ],
          "scattermapbox": [
           {
            "marker": {
             "colorbar": {
              "outlinewidth": 0,
              "ticks": ""
             }
            },
            "type": "scattermapbox"
           }
          ],
          "scatterpolar": [
           {
            "marker": {
             "colorbar": {
              "outlinewidth": 0,
              "ticks": ""
             }
            },
            "type": "scatterpolar"
           }
          ],
          "scatterpolargl": [
           {
            "marker": {
             "colorbar": {
              "outlinewidth": 0,
              "ticks": ""
             }
            },
            "type": "scatterpolargl"
           }
          ],
          "scatterternary": [
           {
            "marker": {
             "colorbar": {
              "outlinewidth": 0,
              "ticks": ""
             }
            },
            "type": "scatterternary"
           }
          ],
          "surface": [
           {
            "colorbar": {
             "outlinewidth": 0,
             "ticks": ""
            },
            "colorscale": [
             [
              0,
              "#0d0887"
             ],
             [
              0.1111111111111111,
              "#46039f"
             ],
             [
              0.2222222222222222,
              "#7201a8"
             ],
             [
              0.3333333333333333,
              "#9c179e"
             ],
             [
              0.4444444444444444,
              "#bd3786"
             ],
             [
              0.5555555555555556,
              "#d8576b"
             ],
             [
              0.6666666666666666,
              "#ed7953"
             ],
             [
              0.7777777777777778,
              "#fb9f3a"
             ],
             [
              0.8888888888888888,
              "#fdca26"
             ],
             [
              1,
              "#f0f921"
             ]
            ],
            "type": "surface"
           }
          ],
          "table": [
           {
            "cells": {
             "fill": {
              "color": "#EBF0F8"
             },
             "line": {
              "color": "white"
             }
            },
            "header": {
             "fill": {
              "color": "#C8D4E3"
             },
             "line": {
              "color": "white"
             }
            },
            "type": "table"
           }
          ]
         },
         "layout": {
          "annotationdefaults": {
           "arrowcolor": "#2a3f5f",
           "arrowhead": 0,
           "arrowwidth": 1
          },
          "autotypenumbers": "strict",
          "coloraxis": {
           "colorbar": {
            "outlinewidth": 0,
            "ticks": ""
           }
          },
          "colorscale": {
           "diverging": [
            [
             0,
             "#8e0152"
            ],
            [
             0.1,
             "#c51b7d"
            ],
            [
             0.2,
             "#de77ae"
            ],
            [
             0.3,
             "#f1b6da"
            ],
            [
             0.4,
             "#fde0ef"
            ],
            [
             0.5,
             "#f7f7f7"
            ],
            [
             0.6,
             "#e6f5d0"
            ],
            [
             0.7,
             "#b8e186"
            ],
            [
             0.8,
             "#7fbc41"
            ],
            [
             0.9,
             "#4d9221"
            ],
            [
             1,
             "#276419"
            ]
           ],
           "sequential": [
            [
             0,
             "#0d0887"
            ],
            [
             0.1111111111111111,
             "#46039f"
            ],
            [
             0.2222222222222222,
             "#7201a8"
            ],
            [
             0.3333333333333333,
             "#9c179e"
            ],
            [
             0.4444444444444444,
             "#bd3786"
            ],
            [
             0.5555555555555556,
             "#d8576b"
            ],
            [
             0.6666666666666666,
             "#ed7953"
            ],
            [
             0.7777777777777778,
             "#fb9f3a"
            ],
            [
             0.8888888888888888,
             "#fdca26"
            ],
            [
             1,
             "#f0f921"
            ]
           ],
           "sequentialminus": [
            [
             0,
             "#0d0887"
            ],
            [
             0.1111111111111111,
             "#46039f"
            ],
            [
             0.2222222222222222,
             "#7201a8"
            ],
            [
             0.3333333333333333,
             "#9c179e"
            ],
            [
             0.4444444444444444,
             "#bd3786"
            ],
            [
             0.5555555555555556,
             "#d8576b"
            ],
            [
             0.6666666666666666,
             "#ed7953"
            ],
            [
             0.7777777777777778,
             "#fb9f3a"
            ],
            [
             0.8888888888888888,
             "#fdca26"
            ],
            [
             1,
             "#f0f921"
            ]
           ]
          },
          "colorway": [
           "#636efa",
           "#EF553B",
           "#00cc96",
           "#ab63fa",
           "#FFA15A",
           "#19d3f3",
           "#FF6692",
           "#B6E880",
           "#FF97FF",
           "#FECB52"
          ],
          "font": {
           "color": "#2a3f5f"
          },
          "geo": {
           "bgcolor": "white",
           "lakecolor": "white",
           "landcolor": "#E5ECF6",
           "showlakes": true,
           "showland": true,
           "subunitcolor": "white"
          },
          "hoverlabel": {
           "align": "left"
          },
          "hovermode": "closest",
          "mapbox": {
           "style": "light"
          },
          "paper_bgcolor": "white",
          "plot_bgcolor": "#E5ECF6",
          "polar": {
           "angularaxis": {
            "gridcolor": "white",
            "linecolor": "white",
            "ticks": ""
           },
           "bgcolor": "#E5ECF6",
           "radialaxis": {
            "gridcolor": "white",
            "linecolor": "white",
            "ticks": ""
           }
          },
          "scene": {
           "xaxis": {
            "backgroundcolor": "#E5ECF6",
            "gridcolor": "white",
            "gridwidth": 2,
            "linecolor": "white",
            "showbackground": true,
            "ticks": "",
            "zerolinecolor": "white"
           },
           "yaxis": {
            "backgroundcolor": "#E5ECF6",
            "gridcolor": "white",
            "gridwidth": 2,
            "linecolor": "white",
            "showbackground": true,
            "ticks": "",
            "zerolinecolor": "white"
           },
           "zaxis": {
            "backgroundcolor": "#E5ECF6",
            "gridcolor": "white",
            "gridwidth": 2,
            "linecolor": "white",
            "showbackground": true,
            "ticks": "",
            "zerolinecolor": "white"
           }
          },
          "shapedefaults": {
           "line": {
            "color": "#2a3f5f"
           }
          },
          "ternary": {
           "aaxis": {
            "gridcolor": "white",
            "linecolor": "white",
            "ticks": ""
           },
           "baxis": {
            "gridcolor": "white",
            "linecolor": "white",
            "ticks": ""
           },
           "bgcolor": "#E5ECF6",
           "caxis": {
            "gridcolor": "white",
            "linecolor": "white",
            "ticks": ""
           }
          },
          "title": {
           "x": 0.05
          },
          "xaxis": {
           "automargin": true,
           "gridcolor": "white",
           "linecolor": "white",
           "ticks": "",
           "title": {
            "standoff": 15
           },
           "zerolinecolor": "white",
           "zerolinewidth": 2
          },
          "yaxis": {
           "automargin": true,
           "gridcolor": "white",
           "linecolor": "white",
           "ticks": "",
           "title": {
            "standoff": 15
           },
           "zerolinecolor": "white",
           "zerolinewidth": 2
          }
         }
        },
        "xaxis": {
         "anchor": "y",
         "domain": [
          0,
          1
         ],
         "title": {
          "text": "min_return_ratio"
         }
        },
        "yaxis": {
         "anchor": "x",
         "domain": [
          0,
          1
         ],
         "title": {
          "text": "Sharpe Ratio"
         }
        }
       }
      }
     },
     "metadata": {},
     "output_type": "display_data"
    }
   ],
   "source": [
    "\n",
    "fig = px.line(results_constant_corr, x='min_return_ratio', y=\"Sharpe Ratio\")\n",
    "fig.show()"
   ]
  }
 ],
 "metadata": {
  "kernelspec": {
   "display_name": "Python 3.11.5 ('.venv': venv)",
   "language": "python",
   "name": "python3"
  },
  "language_info": {
   "codemirror_mode": {
    "name": "ipython",
    "version": 3
   },
   "file_extension": ".py",
   "mimetype": "text/x-python",
   "name": "python",
   "nbconvert_exporter": "python",
   "pygments_lexer": "ipython3",
   "version": "3.11.5"
  },
  "orig_nbformat": 4,
  "vscode": {
   "interpreter": {
    "hash": "99a701d0436cf635a089e7b881d4b76e76c29ad9e3222377ea144bd8b2c2f336"
   }
  }
 },
 "nbformat": 4,
 "nbformat_minor": 2
}
