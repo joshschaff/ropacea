{
 "cells": [
  {
   "cell_type": "code",
   "execution_count": 1,
   "metadata": {},
   "outputs": [],
   "source": [
    "from ropacea.backtest import BacktestResult, backtest_loop, summarize_results\n",
    "from ropacea.portfolios import PortfolioStrategy\n",
    "\n",
    "import pandas as pd\n",
    "import numpy as np\n",
    "\n",
    "import plotly.express as px \n",
    "from datetime import date\n",
    "\n",
    "\n",
    "START_DATE = date(2017, 1, 1)\n",
    "END_DATE = date(2022, 1, 1)"
   ]
  },
  {
   "cell_type": "code",
   "execution_count": 8,
   "metadata": {},
   "outputs": [],
   "source": [
    "\n",
    "\n",
    "def param_tune(min, max, num, strategy):\n",
    "    min_return_ratios = np.linspace(min, max, num)\n",
    "\n",
    "\n",
    "    results_df = pd.DataFrame({'min_return_ratio': min_return_ratios})\n",
    "    sharpe_ratios = []\n",
    "\n",
    "    for mrr in min_return_ratios:\n",
    "        backtest_results = backtest_loop(\n",
    "            start_date=START_DATE,\n",
    "            end_date=END_DATE,\n",
    "            strategy=strategy,\n",
    "            min_return_ratio=mrr\n",
    "        )\n",
    "        backtest_summary = summarize_results(backtest_results)\n",
    "        sharpe_ratios.append(backtest_summary.sharpe_ratio)\n",
    "\n",
    "\n",
    "    results_df['Sharpe Ratio'] = sharpe_ratios\n",
    "\n",
    "    return results_df\n"
   ]
  },
  {
   "cell_type": "code",
   "execution_count": 10,
   "metadata": {},
   "outputs": [
    {
     "name": "stdout",
     "output_type": "stream",
     "text": [
      "mark_date = datetime.date(2017, 1, 1)\n",
      "monthly_portfolio_return = 0.0297\n",
      "risk_free_return = 0.0022\n",
      "mark_date = datetime.date(2017, 2, 1)\n",
      "monthly_portfolio_return = 0.0271\n",
      "risk_free_return = 0.0074\n",
      "mark_date = datetime.date(2017, 3, 1)\n",
      "monthly_portfolio_return = 0.0341\n",
      "risk_free_return = 0.0024\n",
      "mark_date = datetime.date(2017, 4, 1)\n",
      "monthly_portfolio_return = -0.0116\n",
      "risk_free_return = 0.0111\n",
      "mark_date = datetime.date(2017, 5, 1)\n"
     ]
    },
    {
     "name": "stderr",
     "output_type": "stream",
     "text": [
      "/home/josh/Documents/GitHub/ropacea/ropacea/scs.py:32: RuntimeWarning:\n",
      "\n",
      "divide by zero encountered in scalar divide\n",
      "\n",
      "/home/josh/Documents/GitHub/ropacea/ropacea/scs.py:32: RuntimeWarning:\n",
      "\n",
      "divide by zero encountered in scalar divide\n",
      "\n",
      "/home/josh/Documents/GitHub/ropacea/ropacea/scs.py:32: RuntimeWarning:\n",
      "\n",
      "divide by zero encountered in scalar divide\n",
      "\n",
      "/home/josh/Documents/GitHub/ropacea/ropacea/scs.py:32: RuntimeWarning:\n",
      "\n",
      "divide by zero encountered in scalar divide\n",
      "\n",
      "/home/josh/Documents/GitHub/ropacea/ropacea/scs.py:32: RuntimeWarning:\n",
      "\n",
      "divide by zero encountered in scalar divide\n",
      "\n",
      "/home/josh/Documents/GitHub/ropacea/ropacea/scs.py:32: RuntimeWarning:\n",
      "\n",
      "divide by zero encountered in scalar divide\n",
      "\n",
      "/home/josh/Documents/GitHub/ropacea/ropacea/scs.py:32: RuntimeWarning:\n",
      "\n",
      "divide by zero encountered in scalar divide\n",
      "\n",
      "/home/josh/Documents/GitHub/ropacea/ropacea/scs.py:32: RuntimeWarning:\n",
      "\n",
      "divide by zero encountered in scalar divide\n",
      "\n"
     ]
    },
    {
     "name": "stdout",
     "output_type": "stream",
     "text": [
      "monthly_portfolio_return = 0.0882\n",
      "risk_free_return = 0.0079\n",
      "mark_date = datetime.date(2017, 6, 1)\n",
      "monthly_portfolio_return = 0.0198\n",
      "risk_free_return = -0.0013\n",
      "mark_date = datetime.date(2017, 7, 1)\n",
      "monthly_portfolio_return = 0.0336\n",
      "risk_free_return = -0.0000\n",
      "mark_date = datetime.date(2017, 8, 1)\n",
      "monthly_portfolio_return = 0.0200\n",
      "risk_free_return = 0.0171\n",
      "mark_date = datetime.date(2017, 9, 1)\n",
      "monthly_portfolio_return = 0.0201\n",
      "risk_free_return = -0.0172\n",
      "mark_date = datetime.date(2017, 10, 1)\n"
     ]
    },
    {
     "name": "stderr",
     "output_type": "stream",
     "text": [
      "/home/josh/Documents/GitHub/ropacea/ropacea/scs.py:32: RuntimeWarning:\n",
      "\n",
      "divide by zero encountered in scalar divide\n",
      "\n",
      "/home/josh/Documents/GitHub/ropacea/ropacea/scs.py:32: RuntimeWarning:\n",
      "\n",
      "divide by zero encountered in scalar divide\n",
      "\n",
      "/home/josh/Documents/GitHub/ropacea/ropacea/scs.py:32: RuntimeWarning:\n",
      "\n",
      "divide by zero encountered in scalar divide\n",
      "\n",
      "/home/josh/Documents/GitHub/ropacea/ropacea/scs.py:32: RuntimeWarning:\n",
      "\n",
      "divide by zero encountered in scalar divide\n",
      "\n",
      "/home/josh/Documents/GitHub/ropacea/ropacea/scs.py:32: RuntimeWarning:\n",
      "\n",
      "divide by zero encountered in scalar divide\n",
      "\n"
     ]
    },
    {
     "name": "stdout",
     "output_type": "stream",
     "text": [
      "monthly_portfolio_return = 0.0665\n",
      "risk_free_return = -0.0011\n",
      "mark_date = datetime.date(2017, 11, 1)\n",
      "monthly_portfolio_return = 0.0216\n",
      "risk_free_return = -0.0026\n",
      "mark_date = datetime.date(2017, 12, 1)\n",
      "monthly_portfolio_return = -0.0059\n",
      "risk_free_return = 0.0022\n",
      "mark_date = datetime.date(2018, 1, 1)\n",
      "monthly_portfolio_return = 0.0875\n",
      "risk_free_return = -0.0236\n",
      "mark_date = datetime.date(2018, 2, 1)\n",
      "monthly_portfolio_return = -0.0348\n",
      "risk_free_return = -0.0130\n",
      "mark_date = datetime.date(2018, 3, 1)\n"
     ]
    },
    {
     "name": "stderr",
     "output_type": "stream",
     "text": [
      "/home/josh/Documents/GitHub/ropacea/ropacea/scs.py:32: RuntimeWarning:\n",
      "\n",
      "divide by zero encountered in scalar divide\n",
      "\n",
      "/home/josh/Documents/GitHub/ropacea/ropacea/scs.py:32: RuntimeWarning:\n",
      "\n",
      "divide by zero encountered in scalar divide\n",
      "\n",
      "/home/josh/Documents/GitHub/ropacea/ropacea/scs.py:32: RuntimeWarning:\n",
      "\n",
      "divide by zero encountered in scalar divide\n",
      "\n",
      "/home/josh/Documents/GitHub/ropacea/ropacea/scs.py:32: RuntimeWarning:\n",
      "\n",
      "divide by zero encountered in scalar divide\n",
      "\n",
      "/home/josh/Documents/GitHub/ropacea/ropacea/scs.py:32: RuntimeWarning:\n",
      "\n",
      "divide by zero encountered in scalar divide\n",
      "\n"
     ]
    },
    {
     "name": "stdout",
     "output_type": "stream",
     "text": [
      "monthly_portfolio_return = -0.0117\n",
      "risk_free_return = 0.0128\n",
      "mark_date = datetime.date(2018, 4, 1)\n",
      "monthly_portfolio_return = 0.0273\n",
      "risk_free_return = -0.0155\n",
      "mark_date = datetime.date(2018, 5, 1)\n",
      "monthly_portfolio_return = 0.0474\n",
      "risk_free_return = 0.0096\n",
      "mark_date = datetime.date(2018, 6, 1)\n",
      "monthly_portfolio_return = -0.0077\n",
      "risk_free_return = 0.0023\n",
      "mark_date = datetime.date(2018, 7, 1)\n",
      "monthly_portfolio_return = 0.0729\n",
      "risk_free_return = -0.0051\n",
      "mark_date = datetime.date(2018, 8, 1)\n"
     ]
    },
    {
     "name": "stderr",
     "output_type": "stream",
     "text": [
      "/home/josh/Documents/GitHub/ropacea/ropacea/scs.py:32: RuntimeWarning:\n",
      "\n",
      "divide by zero encountered in scalar divide\n",
      "\n",
      "/home/josh/Documents/GitHub/ropacea/ropacea/scs.py:32: RuntimeWarning:\n",
      "\n",
      "divide by zero encountered in scalar divide\n",
      "\n",
      "/home/josh/Documents/GitHub/ropacea/ropacea/scs.py:32: RuntimeWarning:\n",
      "\n",
      "divide by zero encountered in scalar divide\n",
      "\n",
      "/home/josh/Documents/GitHub/ropacea/ropacea/scs.py:32: RuntimeWarning:\n",
      "\n",
      "divide by zero encountered in scalar divide\n",
      "\n",
      "/home/josh/Documents/GitHub/ropacea/ropacea/scs.py:32: RuntimeWarning:\n",
      "\n",
      "divide by zero encountered in scalar divide\n",
      "\n"
     ]
    },
    {
     "name": "stdout",
     "output_type": "stream",
     "text": [
      "monthly_portfolio_return = 0.0810\n",
      "risk_free_return = 0.0101\n",
      "mark_date = datetime.date(2018, 9, 1)\n",
      "monthly_portfolio_return = 0.0167\n",
      "risk_free_return = -0.0148\n",
      "mark_date = datetime.date(2018, 10, 1)\n",
      "monthly_portfolio_return = -0.0509\n",
      "risk_free_return = -0.0043\n",
      "mark_date = datetime.date(2018, 11, 1)\n",
      "monthly_portfolio_return = 0.0312\n",
      "risk_free_return = 0.0149\n",
      "mark_date = datetime.date(2018, 12, 1)\n",
      "monthly_portfolio_return = -0.0702\n",
      "risk_free_return = 0.0286\n",
      "mark_date = datetime.date(2019, 1, 1)\n"
     ]
    },
    {
     "name": "stderr",
     "output_type": "stream",
     "text": [
      "/home/josh/Documents/GitHub/ropacea/ropacea/scs.py:32: RuntimeWarning:\n",
      "\n",
      "divide by zero encountered in scalar divide\n",
      "\n",
      "/home/josh/Documents/GitHub/ropacea/ropacea/scs.py:32: RuntimeWarning:\n",
      "\n",
      "divide by zero encountered in scalar divide\n",
      "\n",
      "/home/josh/Documents/GitHub/ropacea/ropacea/scs.py:32: RuntimeWarning:\n",
      "\n",
      "divide by zero encountered in scalar divide\n",
      "\n",
      "/home/josh/Documents/GitHub/ropacea/ropacea/scs.py:32: RuntimeWarning:\n",
      "\n",
      "divide by zero encountered in scalar divide\n",
      "\n",
      "/home/josh/Documents/GitHub/ropacea/ropacea/scs.py:32: RuntimeWarning:\n",
      "\n",
      "divide by zero encountered in scalar divide\n",
      "\n"
     ]
    },
    {
     "name": "stdout",
     "output_type": "stream",
     "text": [
      "monthly_portfolio_return = 0.0394\n",
      "risk_free_return = 0.0071\n",
      "mark_date = datetime.date(2019, 2, 1)\n",
      "monthly_portfolio_return = 0.0574\n",
      "risk_free_return = -0.0043\n",
      "mark_date = datetime.date(2019, 3, 1)\n",
      "monthly_portfolio_return = 0.0511\n",
      "risk_free_return = 0.0294\n",
      "mark_date = datetime.date(2019, 4, 1)\n",
      "monthly_portfolio_return = -0.0104\n",
      "risk_free_return = -0.0062\n",
      "mark_date = datetime.date(2019, 5, 1)\n",
      "monthly_portfolio_return = -0.0411\n",
      "risk_free_return = 0.0319\n",
      "mark_date = datetime.date(2019, 6, 1)\n"
     ]
    },
    {
     "name": "stderr",
     "output_type": "stream",
     "text": [
      "/home/josh/Documents/GitHub/ropacea/ropacea/scs.py:32: RuntimeWarning:\n",
      "\n",
      "divide by zero encountered in scalar divide\n",
      "\n",
      "/home/josh/Documents/GitHub/ropacea/ropacea/scs.py:32: RuntimeWarning:\n",
      "\n",
      "divide by zero encountered in scalar divide\n",
      "\n",
      "/home/josh/Documents/GitHub/ropacea/ropacea/scs.py:32: RuntimeWarning:\n",
      "\n",
      "divide by zero encountered in scalar divide\n",
      "\n",
      "/home/josh/Documents/GitHub/ropacea/ropacea/scs.py:32: RuntimeWarning:\n",
      "\n",
      "divide by zero encountered in scalar divide\n",
      "\n"
     ]
    },
    {
     "name": "stdout",
     "output_type": "stream",
     "text": [
      "monthly_portfolio_return = 0.0375\n",
      "risk_free_return = 0.0121\n",
      "mark_date = datetime.date(2019, 7, 1)\n",
      "monthly_portfolio_return = 0.0118\n",
      "risk_free_return = 0.0034\n",
      "mark_date = datetime.date(2019, 8, 1)\n",
      "monthly_portfolio_return = 0.0288\n",
      "risk_free_return = 0.0403\n",
      "mark_date = datetime.date(2019, 9, 1)\n",
      "monthly_portfolio_return = -0.0119\n",
      "risk_free_return = -0.0139\n",
      "mark_date = datetime.date(2019, 10, 1)\n",
      "monthly_portfolio_return = -0.0027\n",
      "risk_free_return = -0.0007\n",
      "mark_date = datetime.date(2019, 11, 1)\n"
     ]
    },
    {
     "name": "stderr",
     "output_type": "stream",
     "text": [
      "/home/josh/Documents/GitHub/ropacea/ropacea/scs.py:32: RuntimeWarning:\n",
      "\n",
      "divide by zero encountered in scalar divide\n",
      "\n",
      "/home/josh/Documents/GitHub/ropacea/ropacea/scs.py:32: RuntimeWarning:\n",
      "\n",
      "divide by zero encountered in scalar divide\n",
      "\n",
      "/home/josh/Documents/GitHub/ropacea/ropacea/scs.py:32: RuntimeWarning:\n",
      "\n",
      "divide by zero encountered in scalar divide\n",
      "\n",
      "/home/josh/Documents/GitHub/ropacea/ropacea/scs.py:32: RuntimeWarning:\n",
      "\n",
      "divide by zero encountered in scalar divide\n",
      "\n",
      "/home/josh/Documents/GitHub/ropacea/ropacea/scs.py:32: RuntimeWarning:\n",
      "\n",
      "divide by zero encountered in scalar divide\n",
      "\n"
     ]
    },
    {
     "name": "stdout",
     "output_type": "stream",
     "text": [
      "monthly_portfolio_return = 0.0344\n",
      "risk_free_return = -0.0074\n",
      "mark_date = datetime.date(2019, 12, 1)\n",
      "monthly_portfolio_return = 0.0604\n",
      "risk_free_return = -0.0113\n",
      "mark_date = datetime.date(2020, 1, 1)\n",
      "monthly_portfolio_return = 0.0608\n",
      "risk_free_return = 0.0392\n",
      "mark_date = datetime.date(2020, 2, 1)\n",
      "monthly_portfolio_return = -0.0538\n",
      "risk_free_return = 0.0299\n",
      "mark_date = datetime.date(2020, 3, 1)\n",
      "monthly_portfolio_return = -0.0503\n",
      "risk_free_return = 0.0397\n",
      "mark_date = datetime.date(2020, 4, 1)\n"
     ]
    },
    {
     "name": "stderr",
     "output_type": "stream",
     "text": [
      "/home/josh/Documents/GitHub/ropacea/ropacea/scs.py:32: RuntimeWarning:\n",
      "\n",
      "divide by zero encountered in scalar divide\n",
      "\n",
      "/home/josh/Documents/GitHub/ropacea/ropacea/scs.py:32: RuntimeWarning:\n",
      "\n",
      "divide by zero encountered in scalar divide\n",
      "\n",
      "/home/josh/Documents/GitHub/ropacea/ropacea/scs.py:32: RuntimeWarning:\n",
      "\n",
      "divide by zero encountered in scalar divide\n",
      "\n",
      "/home/josh/Documents/GitHub/ropacea/ropacea/scs.py:32: RuntimeWarning:\n",
      "\n",
      "divide by zero encountered in scalar divide\n",
      "\n",
      "/home/josh/Documents/GitHub/ropacea/ropacea/scs.py:32: RuntimeWarning:\n",
      "\n",
      "divide by zero encountered in scalar divide\n",
      "\n"
     ]
    },
    {
     "name": "stdout",
     "output_type": "stream",
     "text": [
      "monthly_portfolio_return = 0.1050\n",
      "risk_free_return = 0.0050\n",
      "mark_date = datetime.date(2020, 5, 1)\n",
      "monthly_portfolio_return = 0.0362\n",
      "risk_free_return = 0.0007\n",
      "mark_date = datetime.date(2020, 6, 1)\n",
      "monthly_portfolio_return = 0.0453\n",
      "risk_free_return = 0.0004\n",
      "mark_date = datetime.date(2020, 7, 1)\n",
      "monthly_portfolio_return = 0.0365\n",
      "risk_free_return = 0.0128\n",
      "mark_date = datetime.date(2020, 8, 1)\n",
      "monthly_portfolio_return = 0.0917\n",
      "risk_free_return = -0.0147\n",
      "mark_date = datetime.date(2020, 9, 1)\n"
     ]
    },
    {
     "name": "stderr",
     "output_type": "stream",
     "text": [
      "/home/josh/Documents/GitHub/ropacea/ropacea/scs.py:32: RuntimeWarning:\n",
      "\n",
      "divide by zero encountered in scalar divide\n",
      "\n",
      "/home/josh/Documents/GitHub/ropacea/ropacea/scs.py:32: RuntimeWarning:\n",
      "\n",
      "divide by zero encountered in scalar divide\n",
      "\n",
      "/home/josh/Documents/GitHub/ropacea/ropacea/scs.py:32: RuntimeWarning:\n",
      "\n",
      "divide by zero encountered in scalar divide\n",
      "\n",
      "/home/josh/Documents/GitHub/ropacea/ropacea/scs.py:32: RuntimeWarning:\n",
      "\n",
      "divide by zero encountered in scalar divide\n",
      "\n",
      "/home/josh/Documents/GitHub/ropacea/ropacea/scs.py:32: RuntimeWarning:\n",
      "\n",
      "divide by zero encountered in scalar divide\n",
      "\n"
     ]
    },
    {
     "name": "stdout",
     "output_type": "stream",
     "text": [
      "monthly_portfolio_return = -0.0095\n",
      "risk_free_return = 0.0026\n",
      "mark_date = datetime.date(2020, 10, 1)\n",
      "monthly_portfolio_return = -0.0541\n",
      "risk_free_return = -0.0173\n",
      "mark_date = datetime.date(2020, 11, 1)\n",
      "monthly_portfolio_return = 0.0600\n",
      "risk_free_return = 0.0040\n",
      "mark_date = datetime.date(2020, 12, 1)\n",
      "monthly_portfolio_return = 0.0138\n",
      "risk_free_return = -0.0050\n",
      "mark_date = datetime.date(2021, 1, 1)\n",
      "monthly_portfolio_return = 0.0216\n",
      "risk_free_return = -0.0107\n",
      "mark_date = datetime.date(2021, 2, 1)\n"
     ]
    },
    {
     "name": "stderr",
     "output_type": "stream",
     "text": [
      "/home/josh/Documents/GitHub/ropacea/ropacea/scs.py:32: RuntimeWarning:\n",
      "\n",
      "divide by zero encountered in scalar divide\n",
      "\n",
      "/home/josh/Documents/GitHub/ropacea/ropacea/scs.py:32: RuntimeWarning:\n",
      "\n",
      "divide by zero encountered in scalar divide\n",
      "\n",
      "/home/josh/Documents/GitHub/ropacea/ropacea/scs.py:32: RuntimeWarning:\n",
      "\n",
      "divide by zero encountered in scalar divide\n",
      "\n",
      "/home/josh/Documents/GitHub/ropacea/ropacea/scs.py:32: RuntimeWarning:\n",
      "\n",
      "divide by zero encountered in scalar divide\n",
      "\n",
      "/home/josh/Documents/GitHub/ropacea/ropacea/scs.py:32: RuntimeWarning:\n",
      "\n",
      "divide by zero encountered in scalar divide\n",
      "\n"
     ]
    },
    {
     "name": "stdout",
     "output_type": "stream",
     "text": [
      "monthly_portfolio_return = -0.0147\n",
      "risk_free_return = -0.0254\n",
      "mark_date = datetime.date(2021, 3, 1)\n",
      "monthly_portfolio_return = -0.0024\n",
      "risk_free_return = -0.0293\n",
      "mark_date = datetime.date(2021, 4, 1)\n",
      "monthly_portfolio_return = 0.0448\n",
      "risk_free_return = 0.0119\n",
      "mark_date = datetime.date(2021, 5, 1)\n",
      "monthly_portfolio_return = 0.0300\n",
      "risk_free_return = 0.0034\n",
      "mark_date = datetime.date(2021, 6, 1)\n",
      "monthly_portfolio_return = 0.0909\n",
      "risk_free_return = 0.0141\n",
      "mark_date = datetime.date(2021, 7, 1)\n"
     ]
    },
    {
     "name": "stderr",
     "output_type": "stream",
     "text": [
      "/home/josh/Documents/GitHub/ropacea/ropacea/scs.py:32: RuntimeWarning:\n",
      "\n",
      "divide by zero encountered in scalar divide\n",
      "\n",
      "/home/josh/Documents/GitHub/ropacea/ropacea/scs.py:32: RuntimeWarning:\n",
      "\n",
      "divide by zero encountered in scalar divide\n",
      "\n",
      "/home/josh/Documents/GitHub/ropacea/ropacea/scs.py:32: RuntimeWarning:\n",
      "\n",
      "divide by zero encountered in scalar divide\n",
      "\n",
      "/home/josh/Documents/GitHub/ropacea/ropacea/scs.py:32: RuntimeWarning:\n",
      "\n",
      "divide by zero encountered in scalar divide\n",
      "\n",
      "/home/josh/Documents/GitHub/ropacea/ropacea/scs.py:32: RuntimeWarning:\n",
      "\n",
      "divide by zero encountered in scalar divide\n",
      "\n"
     ]
    },
    {
     "name": "stdout",
     "output_type": "stream",
     "text": [
      "monthly_portfolio_return = 0.0423\n",
      "risk_free_return = 0.0238\n",
      "mark_date = datetime.date(2021, 8, 1)\n",
      "monthly_portfolio_return = 0.0609\n",
      "risk_free_return = -0.0048\n",
      "mark_date = datetime.date(2021, 9, 1)\n",
      "monthly_portfolio_return = -0.0681\n",
      "risk_free_return = -0.0154\n",
      "mark_date = datetime.date(2021, 10, 1)\n",
      "monthly_portfolio_return = 0.1193\n",
      "risk_free_return = -0.0049\n",
      "mark_date = datetime.date(2021, 11, 1)\n",
      "monthly_portfolio_return = 0.0358\n",
      "risk_free_return = 0.0125\n",
      "mark_date = datetime.date(2021, 12, 1)\n"
     ]
    },
    {
     "name": "stderr",
     "output_type": "stream",
     "text": [
      "/home/josh/Documents/GitHub/ropacea/ropacea/scs.py:32: RuntimeWarning:\n",
      "\n",
      "divide by zero encountered in scalar divide\n",
      "\n",
      "/home/josh/Documents/GitHub/ropacea/ropacea/scs.py:32: RuntimeWarning:\n",
      "\n",
      "divide by zero encountered in scalar divide\n",
      "\n",
      "/home/josh/Documents/GitHub/ropacea/ropacea/scs.py:32: RuntimeWarning:\n",
      "\n",
      "divide by zero encountered in scalar divide\n",
      "\n",
      "/home/josh/Documents/GitHub/ropacea/ropacea/scs.py:32: RuntimeWarning:\n",
      "\n",
      "divide by zero encountered in scalar divide\n",
      "\n",
      "/home/josh/Documents/GitHub/ropacea/ropacea/scs.py:32: RuntimeWarning:\n",
      "\n",
      "divide by zero encountered in scalar divide\n",
      "\n"
     ]
    },
    {
     "name": "stdout",
     "output_type": "stream",
     "text": [
      "monthly_portfolio_return = 0.0524\n",
      "risk_free_return = -0.0047\n",
      "========== SUMMARY ==========\n",
      "monthly_returns_bp_mean = 217.14\n",
      "monthly_returns_bp_std = 470.22\n",
      "annualized_mean_pct = 29.40\n",
      "annualized_std_pct = 16.29\n",
      "sharpe_ratio = 1.81\n",
      "mark_date = datetime.date(2017, 1, 1)\n",
      "monthly_portfolio_return = 0.0309\n",
      "risk_free_return = 0.0022\n",
      "mark_date = datetime.date(2017, 2, 1)\n",
      "monthly_portfolio_return = 0.0262\n",
      "risk_free_return = 0.0074\n",
      "mark_date = datetime.date(2017, 3, 1)\n",
      "monthly_portfolio_return = 0.0350\n",
      "risk_free_return = 0.0024\n",
      "mark_date = datetime.date(2017, 4, 1)\n"
     ]
    },
    {
     "name": "stderr",
     "output_type": "stream",
     "text": [
      "/home/josh/Documents/GitHub/ropacea/ropacea/scs.py:32: RuntimeWarning:\n",
      "\n",
      "divide by zero encountered in scalar divide\n",
      "\n",
      "/home/josh/Documents/GitHub/ropacea/ropacea/scs.py:32: RuntimeWarning:\n",
      "\n",
      "divide by zero encountered in scalar divide\n",
      "\n",
      "/home/josh/Documents/GitHub/ropacea/ropacea/scs.py:32: RuntimeWarning:\n",
      "\n",
      "divide by zero encountered in scalar divide\n",
      "\n",
      "/home/josh/Documents/GitHub/ropacea/ropacea/scs.py:32: RuntimeWarning:\n",
      "\n",
      "divide by zero encountered in scalar divide\n",
      "\n"
     ]
    },
    {
     "name": "stdout",
     "output_type": "stream",
     "text": [
      "monthly_portfolio_return = -0.0116\n",
      "risk_free_return = 0.0111\n",
      "mark_date = datetime.date(2017, 5, 1)\n",
      "monthly_portfolio_return = 0.0903\n",
      "risk_free_return = 0.0079\n",
      "mark_date = datetime.date(2017, 6, 1)\n",
      "monthly_portfolio_return = 0.0202\n",
      "risk_free_return = -0.0013\n",
      "mark_date = datetime.date(2017, 7, 1)\n",
      "monthly_portfolio_return = 0.0339\n",
      "risk_free_return = -0.0000\n",
      "mark_date = datetime.date(2017, 8, 1)\n",
      "monthly_portfolio_return = 0.0204\n",
      "risk_free_return = 0.0171\n",
      "mark_date = datetime.date(2017, 9, 1)\n"
     ]
    },
    {
     "name": "stderr",
     "output_type": "stream",
     "text": [
      "/home/josh/Documents/GitHub/ropacea/ropacea/scs.py:32: RuntimeWarning:\n",
      "\n",
      "divide by zero encountered in scalar divide\n",
      "\n",
      "/home/josh/Documents/GitHub/ropacea/ropacea/scs.py:32: RuntimeWarning:\n",
      "\n",
      "divide by zero encountered in scalar divide\n",
      "\n",
      "/home/josh/Documents/GitHub/ropacea/ropacea/scs.py:32: RuntimeWarning:\n",
      "\n",
      "divide by zero encountered in scalar divide\n",
      "\n",
      "/home/josh/Documents/GitHub/ropacea/ropacea/scs.py:32: RuntimeWarning:\n",
      "\n",
      "divide by zero encountered in scalar divide\n",
      "\n",
      "/home/josh/Documents/GitHub/ropacea/ropacea/scs.py:32: RuntimeWarning:\n",
      "\n",
      "divide by zero encountered in scalar divide\n",
      "\n"
     ]
    },
    {
     "name": "stdout",
     "output_type": "stream",
     "text": [
      "monthly_portfolio_return = 0.0198\n",
      "risk_free_return = -0.0172\n",
      "mark_date = datetime.date(2017, 10, 1)\n",
      "monthly_portfolio_return = 0.0674\n",
      "risk_free_return = -0.0011\n",
      "mark_date = datetime.date(2017, 11, 1)\n",
      "monthly_portfolio_return = 0.0214\n",
      "risk_free_return = -0.0026\n",
      "mark_date = datetime.date(2017, 12, 1)\n",
      "monthly_portfolio_return = -0.0068\n",
      "risk_free_return = 0.0022\n",
      "mark_date = datetime.date(2018, 1, 1)\n",
      "monthly_portfolio_return = 0.0892\n",
      "risk_free_return = -0.0236\n",
      "mark_date = datetime.date(2018, 2, 1)\n"
     ]
    },
    {
     "name": "stderr",
     "output_type": "stream",
     "text": [
      "/home/josh/Documents/GitHub/ropacea/ropacea/scs.py:32: RuntimeWarning:\n",
      "\n",
      "divide by zero encountered in scalar divide\n",
      "\n",
      "/home/josh/Documents/GitHub/ropacea/ropacea/scs.py:32: RuntimeWarning:\n",
      "\n",
      "divide by zero encountered in scalar divide\n",
      "\n",
      "/home/josh/Documents/GitHub/ropacea/ropacea/scs.py:32: RuntimeWarning:\n",
      "\n",
      "divide by zero encountered in scalar divide\n",
      "\n",
      "/home/josh/Documents/GitHub/ropacea/ropacea/scs.py:32: RuntimeWarning:\n",
      "\n",
      "divide by zero encountered in scalar divide\n",
      "\n",
      "/home/josh/Documents/GitHub/ropacea/ropacea/scs.py:32: RuntimeWarning:\n",
      "\n",
      "divide by zero encountered in scalar divide\n",
      "\n"
     ]
    },
    {
     "name": "stdout",
     "output_type": "stream",
     "text": [
      "monthly_portfolio_return = -0.0334\n",
      "risk_free_return = -0.0130\n",
      "mark_date = datetime.date(2018, 3, 1)\n",
      "monthly_portfolio_return = -0.0116\n",
      "risk_free_return = 0.0128\n",
      "mark_date = datetime.date(2018, 4, 1)\n",
      "monthly_portfolio_return = 0.0268\n",
      "risk_free_return = -0.0155\n",
      "mark_date = datetime.date(2018, 5, 1)\n",
      "monthly_portfolio_return = 0.0489\n",
      "risk_free_return = 0.0096\n",
      "mark_date = datetime.date(2018, 6, 1)\n",
      "monthly_portfolio_return = -0.0083\n",
      "risk_free_return = 0.0023\n",
      "mark_date = datetime.date(2018, 7, 1)\n"
     ]
    },
    {
     "name": "stderr",
     "output_type": "stream",
     "text": [
      "/home/josh/Documents/GitHub/ropacea/ropacea/scs.py:32: RuntimeWarning:\n",
      "\n",
      "divide by zero encountered in scalar divide\n",
      "\n",
      "/home/josh/Documents/GitHub/ropacea/ropacea/scs.py:32: RuntimeWarning:\n",
      "\n",
      "divide by zero encountered in scalar divide\n",
      "\n",
      "/home/josh/Documents/GitHub/ropacea/ropacea/scs.py:32: RuntimeWarning:\n",
      "\n",
      "divide by zero encountered in scalar divide\n",
      "\n",
      "/home/josh/Documents/GitHub/ropacea/ropacea/scs.py:32: RuntimeWarning:\n",
      "\n",
      "divide by zero encountered in scalar divide\n",
      "\n",
      "/home/josh/Documents/GitHub/ropacea/ropacea/scs.py:32: RuntimeWarning:\n",
      "\n",
      "divide by zero encountered in scalar divide\n",
      "\n"
     ]
    },
    {
     "name": "stdout",
     "output_type": "stream",
     "text": [
      "monthly_portfolio_return = 0.0729\n",
      "risk_free_return = -0.0051\n",
      "mark_date = datetime.date(2018, 8, 1)\n",
      "monthly_portfolio_return = 0.0814\n",
      "risk_free_return = 0.0101\n",
      "mark_date = datetime.date(2018, 9, 1)\n",
      "monthly_portfolio_return = 0.0168\n",
      "risk_free_return = -0.0148\n",
      "mark_date = datetime.date(2018, 10, 1)\n",
      "monthly_portfolio_return = -0.0528\n",
      "risk_free_return = -0.0043\n",
      "mark_date = datetime.date(2018, 11, 1)\n"
     ]
    },
    {
     "name": "stderr",
     "output_type": "stream",
     "text": [
      "/home/josh/Documents/GitHub/ropacea/ropacea/scs.py:32: RuntimeWarning:\n",
      "\n",
      "divide by zero encountered in scalar divide\n",
      "\n",
      "/home/josh/Documents/GitHub/ropacea/ropacea/scs.py:32: RuntimeWarning:\n",
      "\n",
      "divide by zero encountered in scalar divide\n",
      "\n",
      "/home/josh/Documents/GitHub/ropacea/ropacea/scs.py:32: RuntimeWarning:\n",
      "\n",
      "divide by zero encountered in scalar divide\n",
      "\n",
      "/home/josh/Documents/GitHub/ropacea/ropacea/scs.py:32: RuntimeWarning:\n",
      "\n",
      "divide by zero encountered in scalar divide\n",
      "\n"
     ]
    },
    {
     "name": "stdout",
     "output_type": "stream",
     "text": [
      "monthly_portfolio_return = 0.0294\n",
      "risk_free_return = 0.0149\n",
      "mark_date = datetime.date(2018, 12, 1)\n",
      "monthly_portfolio_return = -0.0709\n",
      "risk_free_return = 0.0286\n",
      "mark_date = datetime.date(2019, 1, 1)\n",
      "monthly_portfolio_return = 0.0393\n",
      "risk_free_return = 0.0071\n",
      "mark_date = datetime.date(2019, 2, 1)\n",
      "monthly_portfolio_return = 0.0576\n",
      "risk_free_return = -0.0043\n",
      "mark_date = datetime.date(2019, 3, 1)\n"
     ]
    },
    {
     "name": "stderr",
     "output_type": "stream",
     "text": [
      "/home/josh/Documents/GitHub/ropacea/ropacea/scs.py:32: RuntimeWarning:\n",
      "\n",
      "divide by zero encountered in scalar divide\n",
      "\n",
      "/home/josh/Documents/GitHub/ropacea/ropacea/scs.py:32: RuntimeWarning:\n",
      "\n",
      "divide by zero encountered in scalar divide\n",
      "\n",
      "/home/josh/Documents/GitHub/ropacea/ropacea/scs.py:32: RuntimeWarning:\n",
      "\n",
      "divide by zero encountered in scalar divide\n",
      "\n",
      "/home/josh/Documents/GitHub/ropacea/ropacea/scs.py:32: RuntimeWarning:\n",
      "\n",
      "divide by zero encountered in scalar divide\n",
      "\n"
     ]
    },
    {
     "name": "stdout",
     "output_type": "stream",
     "text": [
      "monthly_portfolio_return = 0.0520\n",
      "risk_free_return = 0.0294\n",
      "mark_date = datetime.date(2019, 4, 1)\n",
      "monthly_portfolio_return = -0.0111\n",
      "risk_free_return = -0.0062\n",
      "mark_date = datetime.date(2019, 5, 1)\n",
      "monthly_portfolio_return = -0.0428\n",
      "risk_free_return = 0.0319\n",
      "mark_date = datetime.date(2019, 6, 1)\n",
      "monthly_portfolio_return = 0.0388\n",
      "risk_free_return = 0.0121\n",
      "mark_date = datetime.date(2019, 7, 1)\n"
     ]
    },
    {
     "name": "stderr",
     "output_type": "stream",
     "text": [
      "/home/josh/Documents/GitHub/ropacea/ropacea/scs.py:32: RuntimeWarning:\n",
      "\n",
      "divide by zero encountered in scalar divide\n",
      "\n",
      "/home/josh/Documents/GitHub/ropacea/ropacea/scs.py:32: RuntimeWarning:\n",
      "\n",
      "divide by zero encountered in scalar divide\n",
      "\n",
      "/home/josh/Documents/GitHub/ropacea/ropacea/scs.py:32: RuntimeWarning:\n",
      "\n",
      "divide by zero encountered in scalar divide\n",
      "\n"
     ]
    },
    {
     "name": "stdout",
     "output_type": "stream",
     "text": [
      "monthly_portfolio_return = 0.0120\n",
      "risk_free_return = 0.0034\n",
      "mark_date = datetime.date(2019, 8, 1)\n",
      "monthly_portfolio_return = 0.0279\n",
      "risk_free_return = 0.0403\n",
      "mark_date = datetime.date(2019, 9, 1)\n",
      "monthly_portfolio_return = -0.0126\n",
      "risk_free_return = -0.0139\n",
      "mark_date = datetime.date(2019, 10, 1)\n"
     ]
    },
    {
     "name": "stderr",
     "output_type": "stream",
     "text": [
      "/home/josh/Documents/GitHub/ropacea/ropacea/scs.py:32: RuntimeWarning:\n",
      "\n",
      "divide by zero encountered in scalar divide\n",
      "\n",
      "/home/josh/Documents/GitHub/ropacea/ropacea/scs.py:32: RuntimeWarning:\n",
      "\n",
      "divide by zero encountered in scalar divide\n",
      "\n",
      "/home/josh/Documents/GitHub/ropacea/ropacea/scs.py:32: RuntimeWarning:\n",
      "\n",
      "divide by zero encountered in scalar divide\n",
      "\n",
      "/home/josh/Documents/GitHub/ropacea/ropacea/scs.py:32: RuntimeWarning:\n",
      "\n",
      "divide by zero encountered in scalar divide\n",
      "\n"
     ]
    },
    {
     "name": "stdout",
     "output_type": "stream",
     "text": [
      "monthly_portfolio_return = -0.0022\n",
      "risk_free_return = -0.0007\n",
      "mark_date = datetime.date(2019, 11, 1)\n",
      "monthly_portfolio_return = 0.0354\n",
      "risk_free_return = -0.0074\n",
      "mark_date = datetime.date(2019, 12, 1)\n",
      "monthly_portfolio_return = 0.0610\n",
      "risk_free_return = -0.0113\n",
      "mark_date = datetime.date(2020, 1, 1)\n",
      "monthly_portfolio_return = 0.0606\n",
      "risk_free_return = 0.0392\n",
      "mark_date = datetime.date(2020, 2, 1)\n",
      "monthly_portfolio_return = -0.0521\n",
      "risk_free_return = 0.0299\n",
      "mark_date = datetime.date(2020, 3, 1)\n"
     ]
    },
    {
     "name": "stderr",
     "output_type": "stream",
     "text": [
      "/home/josh/Documents/GitHub/ropacea/ropacea/scs.py:32: RuntimeWarning:\n",
      "\n",
      "divide by zero encountered in scalar divide\n",
      "\n",
      "/home/josh/Documents/GitHub/ropacea/ropacea/scs.py:32: RuntimeWarning:\n",
      "\n",
      "divide by zero encountered in scalar divide\n",
      "\n",
      "/home/josh/Documents/GitHub/ropacea/ropacea/scs.py:32: RuntimeWarning:\n",
      "\n",
      "divide by zero encountered in scalar divide\n",
      "\n",
      "/home/josh/Documents/GitHub/ropacea/ropacea/scs.py:32: RuntimeWarning:\n",
      "\n",
      "divide by zero encountered in scalar divide\n",
      "\n",
      "/home/josh/Documents/GitHub/ropacea/ropacea/scs.py:32: RuntimeWarning:\n",
      "\n",
      "divide by zero encountered in scalar divide\n",
      "\n"
     ]
    },
    {
     "name": "stdout",
     "output_type": "stream",
     "text": [
      "monthly_portfolio_return = -0.0504\n",
      "risk_free_return = 0.0397\n",
      "mark_date = datetime.date(2020, 4, 1)\n",
      "monthly_portfolio_return = 0.1057\n",
      "risk_free_return = 0.0050\n",
      "mark_date = datetime.date(2020, 5, 1)\n",
      "monthly_portfolio_return = 0.0371\n",
      "risk_free_return = 0.0007\n",
      "mark_date = datetime.date(2020, 6, 1)\n",
      "monthly_portfolio_return = 0.0467\n",
      "risk_free_return = 0.0004\n",
      "mark_date = datetime.date(2020, 7, 1)\n",
      "monthly_portfolio_return = 0.0359\n",
      "risk_free_return = 0.0128\n",
      "mark_date = datetime.date(2020, 8, 1)\n"
     ]
    },
    {
     "name": "stderr",
     "output_type": "stream",
     "text": [
      "/home/josh/Documents/GitHub/ropacea/ropacea/scs.py:32: RuntimeWarning:\n",
      "\n",
      "divide by zero encountered in scalar divide\n",
      "\n",
      "/home/josh/Documents/GitHub/ropacea/ropacea/scs.py:32: RuntimeWarning:\n",
      "\n",
      "divide by zero encountered in scalar divide\n",
      "\n",
      "/home/josh/Documents/GitHub/ropacea/ropacea/scs.py:32: RuntimeWarning:\n",
      "\n",
      "divide by zero encountered in scalar divide\n",
      "\n",
      "/home/josh/Documents/GitHub/ropacea/ropacea/scs.py:32: RuntimeWarning:\n",
      "\n",
      "divide by zero encountered in scalar divide\n",
      "\n",
      "/home/josh/Documents/GitHub/ropacea/ropacea/scs.py:32: RuntimeWarning:\n",
      "\n",
      "divide by zero encountered in scalar divide\n",
      "\n"
     ]
    },
    {
     "name": "stdout",
     "output_type": "stream",
     "text": [
      "monthly_portfolio_return = 0.0927\n",
      "risk_free_return = -0.0147\n",
      "mark_date = datetime.date(2020, 9, 1)\n",
      "monthly_portfolio_return = -0.0098\n",
      "risk_free_return = 0.0026\n",
      "mark_date = datetime.date(2020, 10, 1)\n",
      "monthly_portfolio_return = -0.0540\n",
      "risk_free_return = -0.0173\n",
      "mark_date = datetime.date(2020, 11, 1)\n",
      "monthly_portfolio_return = 0.0595\n",
      "risk_free_return = 0.0040\n",
      "mark_date = datetime.date(2020, 12, 1)\n",
      "monthly_portfolio_return = 0.0133\n",
      "risk_free_return = -0.0050\n",
      "mark_date = datetime.date(2021, 1, 1)\n"
     ]
    },
    {
     "name": "stderr",
     "output_type": "stream",
     "text": [
      "/home/josh/Documents/GitHub/ropacea/ropacea/scs.py:32: RuntimeWarning:\n",
      "\n",
      "divide by zero encountered in scalar divide\n",
      "\n",
      "/home/josh/Documents/GitHub/ropacea/ropacea/scs.py:32: RuntimeWarning:\n",
      "\n",
      "divide by zero encountered in scalar divide\n",
      "\n",
      "/home/josh/Documents/GitHub/ropacea/ropacea/scs.py:32: RuntimeWarning:\n",
      "\n",
      "divide by zero encountered in scalar divide\n",
      "\n",
      "/home/josh/Documents/GitHub/ropacea/ropacea/scs.py:32: RuntimeWarning:\n",
      "\n",
      "divide by zero encountered in scalar divide\n",
      "\n",
      "/home/josh/Documents/GitHub/ropacea/ropacea/scs.py:32: RuntimeWarning:\n",
      "\n",
      "divide by zero encountered in scalar divide\n",
      "\n"
     ]
    },
    {
     "name": "stdout",
     "output_type": "stream",
     "text": [
      "monthly_portfolio_return = 0.0222\n",
      "risk_free_return = -0.0107\n",
      "mark_date = datetime.date(2021, 2, 1)\n",
      "monthly_portfolio_return = -0.0145\n",
      "risk_free_return = -0.0254\n",
      "mark_date = datetime.date(2021, 3, 1)\n",
      "monthly_portfolio_return = -0.0040\n",
      "risk_free_return = -0.0293\n",
      "mark_date = datetime.date(2021, 4, 1)\n",
      "monthly_portfolio_return = 0.0460\n",
      "risk_free_return = 0.0119\n",
      "mark_date = datetime.date(2021, 5, 1)\n",
      "monthly_portfolio_return = 0.0300\n",
      "risk_free_return = 0.0034\n",
      "mark_date = datetime.date(2021, 6, 1)\n"
     ]
    },
    {
     "name": "stderr",
     "output_type": "stream",
     "text": [
      "/home/josh/Documents/GitHub/ropacea/ropacea/scs.py:32: RuntimeWarning:\n",
      "\n",
      "divide by zero encountered in scalar divide\n",
      "\n",
      "/home/josh/Documents/GitHub/ropacea/ropacea/scs.py:32: RuntimeWarning:\n",
      "\n",
      "divide by zero encountered in scalar divide\n",
      "\n",
      "/home/josh/Documents/GitHub/ropacea/ropacea/scs.py:32: RuntimeWarning:\n",
      "\n",
      "divide by zero encountered in scalar divide\n",
      "\n",
      "/home/josh/Documents/GitHub/ropacea/ropacea/scs.py:32: RuntimeWarning:\n",
      "\n",
      "divide by zero encountered in scalar divide\n",
      "\n",
      "/home/josh/Documents/GitHub/ropacea/ropacea/scs.py:32: RuntimeWarning:\n",
      "\n",
      "divide by zero encountered in scalar divide\n",
      "\n"
     ]
    },
    {
     "name": "stdout",
     "output_type": "stream",
     "text": [
      "monthly_portfolio_return = 0.0935\n",
      "risk_free_return = 0.0141\n",
      "mark_date = datetime.date(2021, 7, 1)\n",
      "monthly_portfolio_return = 0.0424\n",
      "risk_free_return = 0.0238\n",
      "mark_date = datetime.date(2021, 8, 1)\n",
      "monthly_portfolio_return = 0.0625\n",
      "risk_free_return = -0.0048\n",
      "mark_date = datetime.date(2021, 9, 1)\n",
      "monthly_portfolio_return = -0.0690\n",
      "risk_free_return = -0.0154\n",
      "mark_date = datetime.date(2021, 10, 1)\n",
      "monthly_portfolio_return = 0.1217\n",
      "risk_free_return = -0.0049\n",
      "mark_date = datetime.date(2021, 11, 1)\n"
     ]
    },
    {
     "name": "stderr",
     "output_type": "stream",
     "text": [
      "/home/josh/Documents/GitHub/ropacea/ropacea/scs.py:32: RuntimeWarning:\n",
      "\n",
      "divide by zero encountered in scalar divide\n",
      "\n",
      "/home/josh/Documents/GitHub/ropacea/ropacea/scs.py:32: RuntimeWarning:\n",
      "\n",
      "divide by zero encountered in scalar divide\n",
      "\n",
      "/home/josh/Documents/GitHub/ropacea/ropacea/scs.py:32: RuntimeWarning:\n",
      "\n",
      "divide by zero encountered in scalar divide\n",
      "\n",
      "/home/josh/Documents/GitHub/ropacea/ropacea/scs.py:32: RuntimeWarning:\n",
      "\n",
      "divide by zero encountered in scalar divide\n",
      "\n",
      "/home/josh/Documents/GitHub/ropacea/ropacea/scs.py:32: RuntimeWarning:\n",
      "\n",
      "divide by zero encountered in scalar divide\n",
      "\n"
     ]
    },
    {
     "name": "stdout",
     "output_type": "stream",
     "text": [
      "monthly_portfolio_return = 0.0371\n",
      "risk_free_return = 0.0125\n",
      "mark_date = datetime.date(2021, 12, 1)\n",
      "monthly_portfolio_return = 0.0502\n",
      "risk_free_return = -0.0047\n",
      "========== SUMMARY ==========\n",
      "monthly_returns_bp_mean = 219.37\n",
      "monthly_returns_bp_std = 474.90\n",
      "annualized_mean_pct = 29.75\n",
      "annualized_std_pct = 16.45\n",
      "sharpe_ratio = 1.81\n",
      "mark_date = datetime.date(2017, 1, 1)\n",
      "monthly_portfolio_return = 0.0321\n",
      "risk_free_return = 0.0022\n",
      "mark_date = datetime.date(2017, 2, 1)\n",
      "monthly_portfolio_return = 0.0253\n",
      "risk_free_return = 0.0074\n",
      "mark_date = datetime.date(2017, 3, 1)\n",
      "monthly_portfolio_return = 0.0358\n",
      "risk_free_return = 0.0024\n",
      "mark_date = datetime.date(2017, 4, 1)\n"
     ]
    },
    {
     "name": "stderr",
     "output_type": "stream",
     "text": [
      "/home/josh/Documents/GitHub/ropacea/ropacea/scs.py:32: RuntimeWarning:\n",
      "\n",
      "divide by zero encountered in scalar divide\n",
      "\n",
      "/home/josh/Documents/GitHub/ropacea/ropacea/scs.py:32: RuntimeWarning:\n",
      "\n",
      "divide by zero encountered in scalar divide\n",
      "\n",
      "/home/josh/Documents/GitHub/ropacea/ropacea/scs.py:32: RuntimeWarning:\n",
      "\n",
      "divide by zero encountered in scalar divide\n",
      "\n",
      "/home/josh/Documents/GitHub/ropacea/ropacea/scs.py:32: RuntimeWarning:\n",
      "\n",
      "divide by zero encountered in scalar divide\n",
      "\n",
      "/home/josh/Documents/GitHub/ropacea/ropacea/scs.py:32: RuntimeWarning:\n",
      "\n",
      "divide by zero encountered in scalar divide\n",
      "\n"
     ]
    },
    {
     "name": "stdout",
     "output_type": "stream",
     "text": [
      "monthly_portfolio_return = -0.0116\n",
      "risk_free_return = 0.0111\n",
      "mark_date = datetime.date(2017, 5, 1)\n",
      "monthly_portfolio_return = 0.0924\n",
      "risk_free_return = 0.0079\n",
      "mark_date = datetime.date(2017, 6, 1)\n",
      "monthly_portfolio_return = 0.0204\n",
      "risk_free_return = -0.0013\n",
      "mark_date = datetime.date(2017, 7, 1)\n",
      "monthly_portfolio_return = 0.0345\n",
      "risk_free_return = -0.0000\n",
      "mark_date = datetime.date(2017, 8, 1)\n",
      "monthly_portfolio_return = 0.0208\n",
      "risk_free_return = 0.0171\n",
      "mark_date = datetime.date(2017, 9, 1)\n"
     ]
    },
    {
     "name": "stderr",
     "output_type": "stream",
     "text": [
      "/home/josh/Documents/GitHub/ropacea/ropacea/scs.py:32: RuntimeWarning:\n",
      "\n",
      "divide by zero encountered in scalar divide\n",
      "\n",
      "/home/josh/Documents/GitHub/ropacea/ropacea/scs.py:32: RuntimeWarning:\n",
      "\n",
      "divide by zero encountered in scalar divide\n",
      "\n",
      "/home/josh/Documents/GitHub/ropacea/ropacea/scs.py:32: RuntimeWarning:\n",
      "\n",
      "divide by zero encountered in scalar divide\n",
      "\n",
      "/home/josh/Documents/GitHub/ropacea/ropacea/scs.py:32: RuntimeWarning:\n",
      "\n",
      "divide by zero encountered in scalar divide\n",
      "\n",
      "/home/josh/Documents/GitHub/ropacea/ropacea/scs.py:32: RuntimeWarning:\n",
      "\n",
      "divide by zero encountered in scalar divide\n",
      "\n"
     ]
    },
    {
     "name": "stdout",
     "output_type": "stream",
     "text": [
      "monthly_portfolio_return = 0.0196\n",
      "risk_free_return = -0.0172\n",
      "mark_date = datetime.date(2017, 10, 1)\n",
      "monthly_portfolio_return = 0.0683\n",
      "risk_free_return = -0.0011\n",
      "mark_date = datetime.date(2017, 11, 1)\n",
      "monthly_portfolio_return = 0.0212\n",
      "risk_free_return = -0.0026\n",
      "mark_date = datetime.date(2017, 12, 1)\n",
      "monthly_portfolio_return = -0.0076\n",
      "risk_free_return = 0.0022\n",
      "mark_date = datetime.date(2018, 1, 1)\n",
      "monthly_portfolio_return = 0.0908\n",
      "risk_free_return = -0.0236\n",
      "mark_date = datetime.date(2018, 2, 1)\n"
     ]
    },
    {
     "name": "stderr",
     "output_type": "stream",
     "text": [
      "/home/josh/Documents/GitHub/ropacea/ropacea/scs.py:32: RuntimeWarning:\n",
      "\n",
      "divide by zero encountered in scalar divide\n",
      "\n",
      "/home/josh/Documents/GitHub/ropacea/ropacea/scs.py:32: RuntimeWarning:\n",
      "\n",
      "divide by zero encountered in scalar divide\n",
      "\n",
      "/home/josh/Documents/GitHub/ropacea/ropacea/scs.py:32: RuntimeWarning:\n",
      "\n",
      "divide by zero encountered in scalar divide\n",
      "\n",
      "/home/josh/Documents/GitHub/ropacea/ropacea/scs.py:32: RuntimeWarning:\n",
      "\n",
      "divide by zero encountered in scalar divide\n",
      "\n",
      "/home/josh/Documents/GitHub/ropacea/ropacea/scs.py:32: RuntimeWarning:\n",
      "\n",
      "divide by zero encountered in scalar divide\n",
      "\n"
     ]
    },
    {
     "name": "stdout",
     "output_type": "stream",
     "text": [
      "monthly_portfolio_return = -0.0320\n",
      "risk_free_return = -0.0130\n",
      "mark_date = datetime.date(2018, 3, 1)\n",
      "monthly_portfolio_return = -0.0116\n",
      "risk_free_return = 0.0128\n",
      "mark_date = datetime.date(2018, 4, 1)\n",
      "monthly_portfolio_return = 0.0263\n",
      "risk_free_return = -0.0155\n",
      "mark_date = datetime.date(2018, 5, 1)\n",
      "monthly_portfolio_return = 0.0503\n",
      "risk_free_return = 0.0096\n",
      "mark_date = datetime.date(2018, 6, 1)\n",
      "monthly_portfolio_return = -0.0088\n",
      "risk_free_return = 0.0023\n",
      "mark_date = datetime.date(2018, 7, 1)\n"
     ]
    },
    {
     "name": "stderr",
     "output_type": "stream",
     "text": [
      "/home/josh/Documents/GitHub/ropacea/ropacea/scs.py:32: RuntimeWarning:\n",
      "\n",
      "divide by zero encountered in scalar divide\n",
      "\n",
      "/home/josh/Documents/GitHub/ropacea/ropacea/scs.py:32: RuntimeWarning:\n",
      "\n",
      "divide by zero encountered in scalar divide\n",
      "\n",
      "/home/josh/Documents/GitHub/ropacea/ropacea/scs.py:32: RuntimeWarning:\n",
      "\n",
      "divide by zero encountered in scalar divide\n",
      "\n",
      "/home/josh/Documents/GitHub/ropacea/ropacea/scs.py:32: RuntimeWarning:\n",
      "\n",
      "divide by zero encountered in scalar divide\n",
      "\n",
      "/home/josh/Documents/GitHub/ropacea/ropacea/scs.py:32: RuntimeWarning:\n",
      "\n",
      "divide by zero encountered in scalar divide\n",
      "\n"
     ]
    },
    {
     "name": "stdout",
     "output_type": "stream",
     "text": [
      "monthly_portfolio_return = 0.0729\n",
      "risk_free_return = -0.0051\n",
      "mark_date = datetime.date(2018, 8, 1)\n",
      "monthly_portfolio_return = 0.0817\n",
      "risk_free_return = 0.0101\n",
      "mark_date = datetime.date(2018, 9, 1)\n",
      "monthly_portfolio_return = 0.0170\n",
      "risk_free_return = -0.0148\n",
      "mark_date = datetime.date(2018, 10, 1)\n",
      "monthly_portfolio_return = -0.0546\n",
      "risk_free_return = -0.0043\n",
      "mark_date = datetime.date(2018, 11, 1)\n",
      "monthly_portfolio_return = 0.0276\n",
      "risk_free_return = 0.0149\n",
      "mark_date = datetime.date(2018, 12, 1)\n"
     ]
    },
    {
     "name": "stderr",
     "output_type": "stream",
     "text": [
      "/home/josh/Documents/GitHub/ropacea/ropacea/scs.py:32: RuntimeWarning:\n",
      "\n",
      "divide by zero encountered in scalar divide\n",
      "\n",
      "/home/josh/Documents/GitHub/ropacea/ropacea/scs.py:32: RuntimeWarning:\n",
      "\n",
      "divide by zero encountered in scalar divide\n",
      "\n",
      "/home/josh/Documents/GitHub/ropacea/ropacea/scs.py:32: RuntimeWarning:\n",
      "\n",
      "divide by zero encountered in scalar divide\n",
      "\n",
      "/home/josh/Documents/GitHub/ropacea/ropacea/scs.py:32: RuntimeWarning:\n",
      "\n",
      "divide by zero encountered in scalar divide\n",
      "\n"
     ]
    },
    {
     "name": "stdout",
     "output_type": "stream",
     "text": [
      "monthly_portfolio_return = -0.0718\n",
      "risk_free_return = 0.0286\n",
      "mark_date = datetime.date(2019, 1, 1)\n",
      "monthly_portfolio_return = 0.0391\n",
      "risk_free_return = 0.0071\n",
      "mark_date = datetime.date(2019, 2, 1)\n",
      "monthly_portfolio_return = 0.0579\n",
      "risk_free_return = -0.0043\n",
      "mark_date = datetime.date(2019, 3, 1)\n",
      "monthly_portfolio_return = 0.0529\n",
      "risk_free_return = 0.0294\n",
      "mark_date = datetime.date(2019, 4, 1)\n"
     ]
    },
    {
     "name": "stderr",
     "output_type": "stream",
     "text": [
      "/home/josh/Documents/GitHub/ropacea/ropacea/scs.py:32: RuntimeWarning:\n",
      "\n",
      "divide by zero encountered in scalar divide\n",
      "\n",
      "/home/josh/Documents/GitHub/ropacea/ropacea/scs.py:32: RuntimeWarning:\n",
      "\n",
      "divide by zero encountered in scalar divide\n",
      "\n",
      "/home/josh/Documents/GitHub/ropacea/ropacea/scs.py:32: RuntimeWarning:\n",
      "\n",
      "divide by zero encountered in scalar divide\n",
      "\n",
      "/home/josh/Documents/GitHub/ropacea/ropacea/scs.py:32: RuntimeWarning:\n",
      "\n",
      "divide by zero encountered in scalar divide\n",
      "\n"
     ]
    },
    {
     "name": "stdout",
     "output_type": "stream",
     "text": [
      "monthly_portfolio_return = -0.0117\n",
      "risk_free_return = -0.0062\n",
      "mark_date = datetime.date(2019, 5, 1)\n",
      "monthly_portfolio_return = -0.0445\n",
      "risk_free_return = 0.0319\n",
      "mark_date = datetime.date(2019, 6, 1)\n",
      "monthly_portfolio_return = 0.0404\n",
      "risk_free_return = 0.0121\n",
      "mark_date = datetime.date(2019, 7, 1)\n",
      "monthly_portfolio_return = 0.0123\n",
      "risk_free_return = 0.0034\n",
      "mark_date = datetime.date(2019, 8, 1)\n"
     ]
    },
    {
     "name": "stderr",
     "output_type": "stream",
     "text": [
      "/home/josh/Documents/GitHub/ropacea/ropacea/scs.py:32: RuntimeWarning:\n",
      "\n",
      "divide by zero encountered in scalar divide\n",
      "\n",
      "/home/josh/Documents/GitHub/ropacea/ropacea/scs.py:32: RuntimeWarning:\n",
      "\n",
      "divide by zero encountered in scalar divide\n",
      "\n",
      "/home/josh/Documents/GitHub/ropacea/ropacea/scs.py:32: RuntimeWarning:\n",
      "\n",
      "divide by zero encountered in scalar divide\n",
      "\n",
      "/home/josh/Documents/GitHub/ropacea/ropacea/scs.py:32: RuntimeWarning:\n",
      "\n",
      "divide by zero encountered in scalar divide\n",
      "\n",
      "/home/josh/Documents/GitHub/ropacea/ropacea/scs.py:32: RuntimeWarning:\n",
      "\n",
      "divide by zero encountered in scalar divide\n",
      "\n"
     ]
    },
    {
     "name": "stdout",
     "output_type": "stream",
     "text": [
      "monthly_portfolio_return = 0.0271\n",
      "risk_free_return = 0.0403\n",
      "mark_date = datetime.date(2019, 9, 1)\n",
      "monthly_portfolio_return = -0.0130\n",
      "risk_free_return = -0.0139\n",
      "mark_date = datetime.date(2019, 10, 1)\n",
      "monthly_portfolio_return = -0.0012\n",
      "risk_free_return = -0.0007\n",
      "mark_date = datetime.date(2019, 11, 1)\n",
      "monthly_portfolio_return = 0.0364\n",
      "risk_free_return = -0.0074\n",
      "mark_date = datetime.date(2019, 12, 1)\n",
      "monthly_portfolio_return = 0.0615\n",
      "risk_free_return = -0.0113\n",
      "mark_date = datetime.date(2020, 1, 1)\n"
     ]
    },
    {
     "name": "stderr",
     "output_type": "stream",
     "text": [
      "/home/josh/Documents/GitHub/ropacea/ropacea/scs.py:32: RuntimeWarning:\n",
      "\n",
      "divide by zero encountered in scalar divide\n",
      "\n",
      "/home/josh/Documents/GitHub/ropacea/ropacea/scs.py:32: RuntimeWarning:\n",
      "\n",
      "divide by zero encountered in scalar divide\n",
      "\n",
      "/home/josh/Documents/GitHub/ropacea/ropacea/scs.py:32: RuntimeWarning:\n",
      "\n",
      "divide by zero encountered in scalar divide\n",
      "\n",
      "/home/josh/Documents/GitHub/ropacea/ropacea/scs.py:32: RuntimeWarning:\n",
      "\n",
      "divide by zero encountered in scalar divide\n",
      "\n",
      "/home/josh/Documents/GitHub/ropacea/ropacea/scs.py:32: RuntimeWarning:\n",
      "\n",
      "divide by zero encountered in scalar divide\n",
      "\n"
     ]
    },
    {
     "name": "stdout",
     "output_type": "stream",
     "text": [
      "monthly_portfolio_return = 0.0600\n",
      "risk_free_return = 0.0392\n",
      "mark_date = datetime.date(2020, 2, 1)\n",
      "monthly_portfolio_return = -0.0504\n",
      "risk_free_return = 0.0299\n",
      "mark_date = datetime.date(2020, 3, 1)\n",
      "monthly_portfolio_return = -0.0506\n",
      "risk_free_return = 0.0397\n",
      "mark_date = datetime.date(2020, 4, 1)\n",
      "monthly_portfolio_return = 0.1064\n",
      "risk_free_return = 0.0050\n",
      "mark_date = datetime.date(2020, 5, 1)\n",
      "monthly_portfolio_return = 0.0381\n",
      "risk_free_return = 0.0007\n",
      "mark_date = datetime.date(2020, 6, 1)\n"
     ]
    },
    {
     "name": "stderr",
     "output_type": "stream",
     "text": [
      "/home/josh/Documents/GitHub/ropacea/ropacea/scs.py:32: RuntimeWarning:\n",
      "\n",
      "divide by zero encountered in scalar divide\n",
      "\n",
      "/home/josh/Documents/GitHub/ropacea/ropacea/scs.py:32: RuntimeWarning:\n",
      "\n",
      "divide by zero encountered in scalar divide\n",
      "\n",
      "/home/josh/Documents/GitHub/ropacea/ropacea/scs.py:32: RuntimeWarning:\n",
      "\n",
      "divide by zero encountered in scalar divide\n",
      "\n",
      "/home/josh/Documents/GitHub/ropacea/ropacea/scs.py:32: RuntimeWarning:\n",
      "\n",
      "divide by zero encountered in scalar divide\n",
      "\n",
      "/home/josh/Documents/GitHub/ropacea/ropacea/scs.py:32: RuntimeWarning:\n",
      "\n",
      "divide by zero encountered in scalar divide\n",
      "\n"
     ]
    },
    {
     "name": "stdout",
     "output_type": "stream",
     "text": [
      "monthly_portfolio_return = 0.0480\n",
      "risk_free_return = 0.0004\n",
      "mark_date = datetime.date(2020, 7, 1)\n",
      "monthly_portfolio_return = 0.0354\n",
      "risk_free_return = 0.0128\n",
      "mark_date = datetime.date(2020, 8, 1)\n",
      "monthly_portfolio_return = 0.0936\n",
      "risk_free_return = -0.0147\n",
      "mark_date = datetime.date(2020, 9, 1)\n",
      "monthly_portfolio_return = -0.0100\n",
      "risk_free_return = 0.0026\n",
      "mark_date = datetime.date(2020, 10, 1)\n",
      "monthly_portfolio_return = -0.0539\n",
      "risk_free_return = -0.0173\n",
      "mark_date = datetime.date(2020, 11, 1)\n"
     ]
    },
    {
     "name": "stderr",
     "output_type": "stream",
     "text": [
      "/home/josh/Documents/GitHub/ropacea/ropacea/scs.py:32: RuntimeWarning:\n",
      "\n",
      "divide by zero encountered in scalar divide\n",
      "\n",
      "/home/josh/Documents/GitHub/ropacea/ropacea/scs.py:32: RuntimeWarning:\n",
      "\n",
      "divide by zero encountered in scalar divide\n",
      "\n",
      "/home/josh/Documents/GitHub/ropacea/ropacea/scs.py:32: RuntimeWarning:\n",
      "\n",
      "divide by zero encountered in scalar divide\n",
      "\n",
      "/home/josh/Documents/GitHub/ropacea/ropacea/scs.py:32: RuntimeWarning:\n",
      "\n",
      "divide by zero encountered in scalar divide\n",
      "\n",
      "/home/josh/Documents/GitHub/ropacea/ropacea/scs.py:32: RuntimeWarning:\n",
      "\n",
      "divide by zero encountered in scalar divide\n",
      "\n"
     ]
    },
    {
     "name": "stdout",
     "output_type": "stream",
     "text": [
      "monthly_portfolio_return = 0.0590\n",
      "risk_free_return = 0.0040\n",
      "mark_date = datetime.date(2020, 12, 1)\n",
      "monthly_portfolio_return = 0.0127\n",
      "risk_free_return = -0.0050\n",
      "mark_date = datetime.date(2021, 1, 1)\n",
      "monthly_portfolio_return = 0.0228\n",
      "risk_free_return = -0.0107\n",
      "mark_date = datetime.date(2021, 2, 1)\n",
      "monthly_portfolio_return = -0.0143\n",
      "risk_free_return = -0.0254\n",
      "mark_date = datetime.date(2021, 3, 1)\n",
      "monthly_portfolio_return = -0.0056\n",
      "risk_free_return = -0.0293\n",
      "mark_date = datetime.date(2021, 4, 1)\n"
     ]
    },
    {
     "name": "stderr",
     "output_type": "stream",
     "text": [
      "/home/josh/Documents/GitHub/ropacea/ropacea/scs.py:32: RuntimeWarning:\n",
      "\n",
      "divide by zero encountered in scalar divide\n",
      "\n",
      "/home/josh/Documents/GitHub/ropacea/ropacea/scs.py:32: RuntimeWarning:\n",
      "\n",
      "divide by zero encountered in scalar divide\n",
      "\n",
      "/home/josh/Documents/GitHub/ropacea/ropacea/scs.py:32: RuntimeWarning:\n",
      "\n",
      "divide by zero encountered in scalar divide\n",
      "\n",
      "/home/josh/Documents/GitHub/ropacea/ropacea/scs.py:32: RuntimeWarning:\n",
      "\n",
      "divide by zero encountered in scalar divide\n",
      "\n",
      "/home/josh/Documents/GitHub/ropacea/ropacea/scs.py:32: RuntimeWarning:\n",
      "\n",
      "divide by zero encountered in scalar divide\n",
      "\n"
     ]
    },
    {
     "name": "stdout",
     "output_type": "stream",
     "text": [
      "monthly_portfolio_return = 0.0473\n",
      "risk_free_return = 0.0119\n",
      "mark_date = datetime.date(2021, 5, 1)\n",
      "monthly_portfolio_return = 0.0301\n",
      "risk_free_return = 0.0034\n",
      "mark_date = datetime.date(2021, 6, 1)\n",
      "monthly_portfolio_return = 0.0960\n",
      "risk_free_return = 0.0141\n",
      "mark_date = datetime.date(2021, 7, 1)\n",
      "monthly_portfolio_return = 0.0424\n",
      "risk_free_return = 0.0238\n",
      "mark_date = datetime.date(2021, 8, 1)\n",
      "monthly_portfolio_return = 0.0641\n",
      "risk_free_return = -0.0048\n",
      "mark_date = datetime.date(2021, 9, 1)\n"
     ]
    },
    {
     "name": "stderr",
     "output_type": "stream",
     "text": [
      "/home/josh/Documents/GitHub/ropacea/ropacea/scs.py:32: RuntimeWarning:\n",
      "\n",
      "divide by zero encountered in scalar divide\n",
      "\n",
      "/home/josh/Documents/GitHub/ropacea/ropacea/scs.py:32: RuntimeWarning:\n",
      "\n",
      "divide by zero encountered in scalar divide\n",
      "\n",
      "/home/josh/Documents/GitHub/ropacea/ropacea/scs.py:32: RuntimeWarning:\n",
      "\n",
      "divide by zero encountered in scalar divide\n",
      "\n",
      "/home/josh/Documents/GitHub/ropacea/ropacea/scs.py:32: RuntimeWarning:\n",
      "\n",
      "divide by zero encountered in scalar divide\n",
      "\n",
      "/home/josh/Documents/GitHub/ropacea/ropacea/scs.py:32: RuntimeWarning:\n",
      "\n",
      "divide by zero encountered in scalar divide\n",
      "\n"
     ]
    },
    {
     "name": "stdout",
     "output_type": "stream",
     "text": [
      "monthly_portfolio_return = -0.0698\n",
      "risk_free_return = -0.0154\n",
      "mark_date = datetime.date(2021, 10, 1)\n",
      "monthly_portfolio_return = 0.1241\n",
      "risk_free_return = -0.0049\n",
      "mark_date = datetime.date(2021, 11, 1)\n",
      "monthly_portfolio_return = 0.0385\n",
      "risk_free_return = 0.0125\n",
      "mark_date = datetime.date(2021, 12, 1)\n",
      "monthly_portfolio_return = 0.0480\n",
      "risk_free_return = -0.0047\n",
      "========== SUMMARY ==========\n",
      "monthly_returns_bp_mean = 221.69\n",
      "monthly_returns_bp_std = 479.86\n",
      "annualized_mean_pct = 30.10\n",
      "annualized_std_pct = 16.62\n",
      "sharpe_ratio = 1.81\n",
      "mark_date = datetime.date(2017, 1, 1)\n",
      "monthly_portfolio_return = 0.0335\n",
      "risk_free_return = 0.0022\n",
      "mark_date = datetime.date(2017, 2, 1)\n"
     ]
    },
    {
     "name": "stderr",
     "output_type": "stream",
     "text": [
      "/home/josh/Documents/GitHub/ropacea/ropacea/scs.py:32: RuntimeWarning:\n",
      "\n",
      "divide by zero encountered in scalar divide\n",
      "\n",
      "/home/josh/Documents/GitHub/ropacea/ropacea/scs.py:32: RuntimeWarning:\n",
      "\n",
      "divide by zero encountered in scalar divide\n",
      "\n",
      "/home/josh/Documents/GitHub/ropacea/ropacea/scs.py:32: RuntimeWarning:\n",
      "\n",
      "divide by zero encountered in scalar divide\n",
      "\n",
      "/home/josh/Documents/GitHub/ropacea/ropacea/scs.py:32: RuntimeWarning:\n",
      "\n",
      "divide by zero encountered in scalar divide\n",
      "\n",
      "/home/josh/Documents/GitHub/ropacea/ropacea/scs.py:32: RuntimeWarning:\n",
      "\n",
      "divide by zero encountered in scalar divide\n",
      "\n"
     ]
    },
    {
     "name": "stdout",
     "output_type": "stream",
     "text": [
      "monthly_portfolio_return = 0.0244\n",
      "risk_free_return = 0.0074\n",
      "mark_date = datetime.date(2017, 3, 1)\n",
      "monthly_portfolio_return = 0.0365\n",
      "risk_free_return = 0.0024\n",
      "mark_date = datetime.date(2017, 4, 1)\n",
      "monthly_portfolio_return = -0.0120\n",
      "risk_free_return = 0.0111\n",
      "mark_date = datetime.date(2017, 5, 1)\n",
      "monthly_portfolio_return = 0.0945\n",
      "risk_free_return = 0.0079\n",
      "mark_date = datetime.date(2017, 6, 1)\n",
      "monthly_portfolio_return = 0.0204\n",
      "risk_free_return = -0.0013\n",
      "mark_date = datetime.date(2017, 7, 1)\n"
     ]
    },
    {
     "name": "stderr",
     "output_type": "stream",
     "text": [
      "/home/josh/Documents/GitHub/ropacea/ropacea/scs.py:32: RuntimeWarning:\n",
      "\n",
      "divide by zero encountered in scalar divide\n",
      "\n",
      "/home/josh/Documents/GitHub/ropacea/ropacea/scs.py:32: RuntimeWarning:\n",
      "\n",
      "divide by zero encountered in scalar divide\n",
      "\n",
      "/home/josh/Documents/GitHub/ropacea/ropacea/scs.py:32: RuntimeWarning:\n",
      "\n",
      "divide by zero encountered in scalar divide\n",
      "\n",
      "/home/josh/Documents/GitHub/ropacea/ropacea/scs.py:32: RuntimeWarning:\n",
      "\n",
      "divide by zero encountered in scalar divide\n",
      "\n",
      "/home/josh/Documents/GitHub/ropacea/ropacea/scs.py:32: RuntimeWarning:\n",
      "\n",
      "divide by zero encountered in scalar divide\n",
      "\n"
     ]
    },
    {
     "name": "stdout",
     "output_type": "stream",
     "text": [
      "monthly_portfolio_return = 0.0352\n",
      "risk_free_return = -0.0000\n",
      "mark_date = datetime.date(2017, 8, 1)\n",
      "monthly_portfolio_return = 0.0210\n",
      "risk_free_return = 0.0171\n",
      "mark_date = datetime.date(2017, 9, 1)\n",
      "monthly_portfolio_return = 0.0195\n",
      "risk_free_return = -0.0172\n",
      "mark_date = datetime.date(2017, 10, 1)\n",
      "monthly_portfolio_return = 0.0697\n",
      "risk_free_return = -0.0011\n",
      "mark_date = datetime.date(2017, 11, 1)\n",
      "monthly_portfolio_return = 0.0211\n",
      "risk_free_return = -0.0026\n",
      "mark_date = datetime.date(2017, 12, 1)\n"
     ]
    },
    {
     "name": "stderr",
     "output_type": "stream",
     "text": [
      "/home/josh/Documents/GitHub/ropacea/ropacea/scs.py:32: RuntimeWarning:\n",
      "\n",
      "divide by zero encountered in scalar divide\n",
      "\n",
      "/home/josh/Documents/GitHub/ropacea/ropacea/scs.py:32: RuntimeWarning:\n",
      "\n",
      "divide by zero encountered in scalar divide\n",
      "\n",
      "/home/josh/Documents/GitHub/ropacea/ropacea/scs.py:32: RuntimeWarning:\n",
      "\n",
      "divide by zero encountered in scalar divide\n",
      "\n",
      "/home/josh/Documents/GitHub/ropacea/ropacea/scs.py:32: RuntimeWarning:\n",
      "\n",
      "divide by zero encountered in scalar divide\n",
      "\n",
      "/home/josh/Documents/GitHub/ropacea/ropacea/scs.py:32: RuntimeWarning:\n",
      "\n",
      "divide by zero encountered in scalar divide\n",
      "\n"
     ]
    },
    {
     "name": "stdout",
     "output_type": "stream",
     "text": [
      "monthly_portfolio_return = -0.0084\n",
      "risk_free_return = 0.0022\n",
      "mark_date = datetime.date(2018, 1, 1)\n",
      "monthly_portfolio_return = 0.0924\n",
      "risk_free_return = -0.0236\n",
      "mark_date = datetime.date(2018, 2, 1)\n",
      "monthly_portfolio_return = -0.0305\n",
      "risk_free_return = -0.0130\n",
      "mark_date = datetime.date(2018, 3, 1)\n",
      "monthly_portfolio_return = -0.0115\n",
      "risk_free_return = 0.0128\n",
      "mark_date = datetime.date(2018, 4, 1)\n",
      "monthly_portfolio_return = 0.0258\n",
      "risk_free_return = -0.0155\n",
      "mark_date = datetime.date(2018, 5, 1)\n"
     ]
    },
    {
     "name": "stderr",
     "output_type": "stream",
     "text": [
      "/home/josh/Documents/GitHub/ropacea/ropacea/scs.py:32: RuntimeWarning:\n",
      "\n",
      "divide by zero encountered in scalar divide\n",
      "\n",
      "/home/josh/Documents/GitHub/ropacea/ropacea/scs.py:32: RuntimeWarning:\n",
      "\n",
      "divide by zero encountered in scalar divide\n",
      "\n",
      "/home/josh/Documents/GitHub/ropacea/ropacea/scs.py:32: RuntimeWarning:\n",
      "\n",
      "divide by zero encountered in scalar divide\n",
      "\n",
      "/home/josh/Documents/GitHub/ropacea/ropacea/scs.py:32: RuntimeWarning:\n",
      "\n",
      "divide by zero encountered in scalar divide\n",
      "\n",
      "/home/josh/Documents/GitHub/ropacea/ropacea/scs.py:32: RuntimeWarning:\n",
      "\n",
      "divide by zero encountered in scalar divide\n",
      "\n"
     ]
    },
    {
     "name": "stdout",
     "output_type": "stream",
     "text": [
      "monthly_portfolio_return = 0.0518\n",
      "risk_free_return = 0.0096\n",
      "mark_date = datetime.date(2018, 6, 1)\n",
      "monthly_portfolio_return = -0.0094\n",
      "risk_free_return = 0.0023\n",
      "mark_date = datetime.date(2018, 7, 1)\n",
      "monthly_portfolio_return = 0.0728\n",
      "risk_free_return = -0.0051\n",
      "mark_date = datetime.date(2018, 8, 1)\n",
      "monthly_portfolio_return = 0.0822\n",
      "risk_free_return = 0.0101\n",
      "mark_date = datetime.date(2018, 9, 1)\n",
      "monthly_portfolio_return = 0.0172\n",
      "risk_free_return = -0.0148\n",
      "mark_date = datetime.date(2018, 10, 1)\n"
     ]
    },
    {
     "name": "stderr",
     "output_type": "stream",
     "text": [
      "/home/josh/Documents/GitHub/ropacea/ropacea/scs.py:32: RuntimeWarning:\n",
      "\n",
      "divide by zero encountered in scalar divide\n",
      "\n",
      "/home/josh/Documents/GitHub/ropacea/ropacea/scs.py:32: RuntimeWarning:\n",
      "\n",
      "divide by zero encountered in scalar divide\n",
      "\n",
      "/home/josh/Documents/GitHub/ropacea/ropacea/scs.py:32: RuntimeWarning:\n",
      "\n",
      "divide by zero encountered in scalar divide\n",
      "\n",
      "/home/josh/Documents/GitHub/ropacea/ropacea/scs.py:32: RuntimeWarning:\n",
      "\n",
      "divide by zero encountered in scalar divide\n",
      "\n",
      "/home/josh/Documents/GitHub/ropacea/ropacea/scs.py:32: RuntimeWarning:\n",
      "\n",
      "divide by zero encountered in scalar divide\n",
      "\n"
     ]
    },
    {
     "name": "stdout",
     "output_type": "stream",
     "text": [
      "monthly_portfolio_return = -0.0567\n",
      "risk_free_return = -0.0043\n",
      "mark_date = datetime.date(2018, 11, 1)\n",
      "monthly_portfolio_return = 0.0257\n",
      "risk_free_return = 0.0149\n",
      "mark_date = datetime.date(2018, 12, 1)\n",
      "monthly_portfolio_return = -0.0728\n",
      "risk_free_return = 0.0286\n",
      "mark_date = datetime.date(2019, 1, 1)\n",
      "monthly_portfolio_return = 0.0389\n",
      "risk_free_return = 0.0071\n",
      "mark_date = datetime.date(2019, 2, 1)\n",
      "monthly_portfolio_return = 0.0582\n",
      "risk_free_return = -0.0043\n",
      "mark_date = datetime.date(2019, 3, 1)\n"
     ]
    },
    {
     "name": "stderr",
     "output_type": "stream",
     "text": [
      "/home/josh/Documents/GitHub/ropacea/ropacea/scs.py:32: RuntimeWarning:\n",
      "\n",
      "divide by zero encountered in scalar divide\n",
      "\n",
      "/home/josh/Documents/GitHub/ropacea/ropacea/scs.py:32: RuntimeWarning:\n",
      "\n",
      "divide by zero encountered in scalar divide\n",
      "\n",
      "/home/josh/Documents/GitHub/ropacea/ropacea/scs.py:32: RuntimeWarning:\n",
      "\n",
      "divide by zero encountered in scalar divide\n",
      "\n",
      "/home/josh/Documents/GitHub/ropacea/ropacea/scs.py:32: RuntimeWarning:\n",
      "\n",
      "divide by zero encountered in scalar divide\n",
      "\n"
     ]
    },
    {
     "name": "stdout",
     "output_type": "stream",
     "text": [
      "monthly_portfolio_return = 0.0539\n",
      "risk_free_return = 0.0294\n",
      "mark_date = datetime.date(2019, 4, 1)\n",
      "monthly_portfolio_return = -0.0124\n",
      "risk_free_return = -0.0062\n",
      "mark_date = datetime.date(2019, 5, 1)\n",
      "monthly_portfolio_return = -0.0465\n",
      "risk_free_return = 0.0319\n",
      "mark_date = datetime.date(2019, 6, 1)\n",
      "monthly_portfolio_return = 0.0420\n",
      "risk_free_return = 0.0121\n",
      "mark_date = datetime.date(2019, 7, 1)\n"
     ]
    },
    {
     "name": "stderr",
     "output_type": "stream",
     "text": [
      "/home/josh/Documents/GitHub/ropacea/ropacea/scs.py:32: RuntimeWarning:\n",
      "\n",
      "divide by zero encountered in scalar divide\n",
      "\n",
      "/home/josh/Documents/GitHub/ropacea/ropacea/scs.py:32: RuntimeWarning:\n",
      "\n",
      "divide by zero encountered in scalar divide\n",
      "\n",
      "/home/josh/Documents/GitHub/ropacea/ropacea/scs.py:32: RuntimeWarning:\n",
      "\n",
      "divide by zero encountered in scalar divide\n",
      "\n",
      "/home/josh/Documents/GitHub/ropacea/ropacea/scs.py:32: RuntimeWarning:\n",
      "\n",
      "divide by zero encountered in scalar divide\n",
      "\n",
      "/home/josh/Documents/GitHub/ropacea/ropacea/scs.py:32: RuntimeWarning:\n",
      "\n",
      "divide by zero encountered in scalar divide\n",
      "\n"
     ]
    },
    {
     "name": "stdout",
     "output_type": "stream",
     "text": [
      "monthly_portfolio_return = 0.0126\n",
      "risk_free_return = 0.0034\n",
      "mark_date = datetime.date(2019, 8, 1)\n",
      "monthly_portfolio_return = 0.0262\n",
      "risk_free_return = 0.0403\n",
      "mark_date = datetime.date(2019, 9, 1)\n",
      "monthly_portfolio_return = -0.0131\n",
      "risk_free_return = -0.0139\n",
      "mark_date = datetime.date(2019, 10, 1)\n",
      "monthly_portfolio_return = 0.0004\n",
      "risk_free_return = -0.0007\n",
      "mark_date = datetime.date(2019, 11, 1)\n",
      "monthly_portfolio_return = 0.0375\n",
      "risk_free_return = -0.0074\n",
      "mark_date = datetime.date(2019, 12, 1)\n"
     ]
    },
    {
     "name": "stderr",
     "output_type": "stream",
     "text": [
      "/home/josh/Documents/GitHub/ropacea/ropacea/scs.py:32: RuntimeWarning:\n",
      "\n",
      "divide by zero encountered in scalar divide\n",
      "\n",
      "/home/josh/Documents/GitHub/ropacea/ropacea/scs.py:32: RuntimeWarning:\n",
      "\n",
      "divide by zero encountered in scalar divide\n",
      "\n",
      "/home/josh/Documents/GitHub/ropacea/ropacea/scs.py:32: RuntimeWarning:\n",
      "\n",
      "divide by zero encountered in scalar divide\n",
      "\n",
      "/home/josh/Documents/GitHub/ropacea/ropacea/scs.py:32: RuntimeWarning:\n",
      "\n",
      "divide by zero encountered in scalar divide\n",
      "\n",
      "/home/josh/Documents/GitHub/ropacea/ropacea/scs.py:32: RuntimeWarning:\n",
      "\n",
      "divide by zero encountered in scalar divide\n",
      "\n"
     ]
    },
    {
     "name": "stdout",
     "output_type": "stream",
     "text": [
      "monthly_portfolio_return = 0.0620\n",
      "risk_free_return = -0.0113\n",
      "mark_date = datetime.date(2020, 1, 1)\n",
      "monthly_portfolio_return = 0.0595\n",
      "risk_free_return = 0.0392\n",
      "mark_date = datetime.date(2020, 2, 1)\n",
      "monthly_portfolio_return = -0.0487\n",
      "risk_free_return = 0.0299\n",
      "mark_date = datetime.date(2020, 3, 1)\n",
      "monthly_portfolio_return = -0.0507\n",
      "risk_free_return = 0.0397\n",
      "mark_date = datetime.date(2020, 4, 1)\n",
      "monthly_portfolio_return = 0.1070\n",
      "risk_free_return = 0.0050\n",
      "mark_date = datetime.date(2020, 5, 1)\n"
     ]
    },
    {
     "name": "stderr",
     "output_type": "stream",
     "text": [
      "/home/josh/Documents/GitHub/ropacea/ropacea/scs.py:32: RuntimeWarning:\n",
      "\n",
      "divide by zero encountered in scalar divide\n",
      "\n",
      "/home/josh/Documents/GitHub/ropacea/ropacea/scs.py:32: RuntimeWarning:\n",
      "\n",
      "divide by zero encountered in scalar divide\n",
      "\n",
      "/home/josh/Documents/GitHub/ropacea/ropacea/scs.py:32: RuntimeWarning:\n",
      "\n",
      "divide by zero encountered in scalar divide\n",
      "\n",
      "/home/josh/Documents/GitHub/ropacea/ropacea/scs.py:32: RuntimeWarning:\n",
      "\n",
      "divide by zero encountered in scalar divide\n",
      "\n"
     ]
    },
    {
     "name": "stdout",
     "output_type": "stream",
     "text": [
      "monthly_portfolio_return = 0.0390\n",
      "risk_free_return = 0.0007\n",
      "mark_date = datetime.date(2020, 6, 1)\n",
      "monthly_portfolio_return = 0.0493\n",
      "risk_free_return = 0.0004\n",
      "mark_date = datetime.date(2020, 7, 1)\n",
      "monthly_portfolio_return = 0.0348\n",
      "risk_free_return = 0.0128\n",
      "mark_date = datetime.date(2020, 8, 1)\n",
      "monthly_portfolio_return = 0.0945\n",
      "risk_free_return = -0.0147\n",
      "mark_date = datetime.date(2020, 9, 1)\n",
      "monthly_portfolio_return = -0.0102\n",
      "risk_free_return = 0.0026\n",
      "mark_date = datetime.date(2020, 10, 1)\n"
     ]
    },
    {
     "name": "stderr",
     "output_type": "stream",
     "text": [
      "/home/josh/Documents/GitHub/ropacea/ropacea/scs.py:32: RuntimeWarning:\n",
      "\n",
      "divide by zero encountered in scalar divide\n",
      "\n",
      "/home/josh/Documents/GitHub/ropacea/ropacea/scs.py:32: RuntimeWarning:\n",
      "\n",
      "divide by zero encountered in scalar divide\n",
      "\n",
      "/home/josh/Documents/GitHub/ropacea/ropacea/scs.py:32: RuntimeWarning:\n",
      "\n",
      "divide by zero encountered in scalar divide\n",
      "\n",
      "/home/josh/Documents/GitHub/ropacea/ropacea/scs.py:32: RuntimeWarning:\n",
      "\n",
      "divide by zero encountered in scalar divide\n",
      "\n",
      "/home/josh/Documents/GitHub/ropacea/ropacea/scs.py:32: RuntimeWarning:\n",
      "\n",
      "divide by zero encountered in scalar divide\n",
      "\n"
     ]
    },
    {
     "name": "stdout",
     "output_type": "stream",
     "text": [
      "monthly_portfolio_return = -0.0537\n",
      "risk_free_return = -0.0173\n",
      "mark_date = datetime.date(2020, 11, 1)\n",
      "monthly_portfolio_return = 0.0585\n",
      "risk_free_return = 0.0040\n",
      "mark_date = datetime.date(2020, 12, 1)\n",
      "monthly_portfolio_return = 0.0121\n",
      "risk_free_return = -0.0050\n",
      "mark_date = datetime.date(2021, 1, 1)\n",
      "monthly_portfolio_return = 0.0234\n",
      "risk_free_return = -0.0107\n",
      "mark_date = datetime.date(2021, 2, 1)\n",
      "monthly_portfolio_return = -0.0141\n",
      "risk_free_return = -0.0254\n",
      "mark_date = datetime.date(2021, 3, 1)\n"
     ]
    },
    {
     "name": "stderr",
     "output_type": "stream",
     "text": [
      "/home/josh/Documents/GitHub/ropacea/ropacea/scs.py:32: RuntimeWarning:\n",
      "\n",
      "divide by zero encountered in scalar divide\n",
      "\n",
      "/home/josh/Documents/GitHub/ropacea/ropacea/scs.py:32: RuntimeWarning:\n",
      "\n",
      "divide by zero encountered in scalar divide\n",
      "\n",
      "/home/josh/Documents/GitHub/ropacea/ropacea/scs.py:32: RuntimeWarning:\n",
      "\n",
      "divide by zero encountered in scalar divide\n",
      "\n",
      "/home/josh/Documents/GitHub/ropacea/ropacea/scs.py:32: RuntimeWarning:\n",
      "\n",
      "divide by zero encountered in scalar divide\n",
      "\n",
      "/home/josh/Documents/GitHub/ropacea/ropacea/scs.py:32: RuntimeWarning:\n",
      "\n",
      "divide by zero encountered in scalar divide\n",
      "\n"
     ]
    },
    {
     "name": "stdout",
     "output_type": "stream",
     "text": [
      "monthly_portfolio_return = -0.0072\n",
      "risk_free_return = -0.0293\n",
      "mark_date = datetime.date(2021, 4, 1)\n",
      "monthly_portfolio_return = 0.0486\n",
      "risk_free_return = 0.0119\n",
      "mark_date = datetime.date(2021, 5, 1)\n",
      "monthly_portfolio_return = 0.0301\n",
      "risk_free_return = 0.0034\n",
      "mark_date = datetime.date(2021, 6, 1)\n",
      "monthly_portfolio_return = 0.0985\n",
      "risk_free_return = 0.0141\n",
      "mark_date = datetime.date(2021, 7, 1)\n"
     ]
    },
    {
     "name": "stderr",
     "output_type": "stream",
     "text": [
      "/home/josh/Documents/GitHub/ropacea/ropacea/scs.py:32: RuntimeWarning:\n",
      "\n",
      "divide by zero encountered in scalar divide\n",
      "\n",
      "/home/josh/Documents/GitHub/ropacea/ropacea/scs.py:32: RuntimeWarning:\n",
      "\n",
      "divide by zero encountered in scalar divide\n",
      "\n",
      "/home/josh/Documents/GitHub/ropacea/ropacea/scs.py:32: RuntimeWarning:\n",
      "\n",
      "divide by zero encountered in scalar divide\n",
      "\n",
      "/home/josh/Documents/GitHub/ropacea/ropacea/scs.py:32: RuntimeWarning:\n",
      "\n",
      "divide by zero encountered in scalar divide\n",
      "\n"
     ]
    },
    {
     "name": "stdout",
     "output_type": "stream",
     "text": [
      "monthly_portfolio_return = 0.0425\n",
      "risk_free_return = 0.0238\n",
      "mark_date = datetime.date(2021, 8, 1)\n",
      "monthly_portfolio_return = 0.0658\n",
      "risk_free_return = -0.0048\n",
      "mark_date = datetime.date(2021, 9, 1)\n",
      "monthly_portfolio_return = -0.0706\n",
      "risk_free_return = -0.0154\n",
      "mark_date = datetime.date(2021, 10, 1)\n",
      "monthly_portfolio_return = 0.1265\n",
      "risk_free_return = -0.0049\n",
      "mark_date = datetime.date(2021, 11, 1)\n"
     ]
    },
    {
     "name": "stderr",
     "output_type": "stream",
     "text": [
      "/home/josh/Documents/GitHub/ropacea/ropacea/scs.py:32: RuntimeWarning:\n",
      "\n",
      "divide by zero encountered in scalar divide\n",
      "\n",
      "/home/josh/Documents/GitHub/ropacea/ropacea/scs.py:32: RuntimeWarning:\n",
      "\n",
      "divide by zero encountered in scalar divide\n",
      "\n",
      "/home/josh/Documents/GitHub/ropacea/ropacea/scs.py:32: RuntimeWarning:\n",
      "\n",
      "divide by zero encountered in scalar divide\n",
      "\n",
      "/home/josh/Documents/GitHub/ropacea/ropacea/scs.py:32: RuntimeWarning:\n",
      "\n",
      "divide by zero encountered in scalar divide\n",
      "\n",
      "/home/josh/Documents/GitHub/ropacea/ropacea/scs.py:32: RuntimeWarning:\n",
      "\n",
      "divide by zero encountered in scalar divide\n",
      "\n"
     ]
    },
    {
     "name": "stdout",
     "output_type": "stream",
     "text": [
      "monthly_portfolio_return = 0.0398\n",
      "risk_free_return = 0.0125\n",
      "mark_date = datetime.date(2021, 12, 1)\n",
      "monthly_portfolio_return = 0.0458\n",
      "risk_free_return = -0.0047\n",
      "========== SUMMARY ==========\n",
      "monthly_returns_bp_mean = 224.06\n",
      "monthly_returns_bp_std = 485.18\n",
      "annualized_mean_pct = 30.46\n",
      "annualized_std_pct = 16.81\n",
      "sharpe_ratio = 1.81\n",
      "mark_date = datetime.date(2017, 1, 1)\n",
      "monthly_portfolio_return = 0.0348\n",
      "risk_free_return = 0.0022\n",
      "mark_date = datetime.date(2017, 2, 1)\n",
      "monthly_portfolio_return = 0.0236\n",
      "risk_free_return = 0.0074\n",
      "mark_date = datetime.date(2017, 3, 1)\n",
      "monthly_portfolio_return = 0.0373\n",
      "risk_free_return = 0.0024\n",
      "mark_date = datetime.date(2017, 4, 1)\n"
     ]
    },
    {
     "name": "stderr",
     "output_type": "stream",
     "text": [
      "/home/josh/Documents/GitHub/ropacea/ropacea/scs.py:32: RuntimeWarning:\n",
      "\n",
      "divide by zero encountered in scalar divide\n",
      "\n",
      "/home/josh/Documents/GitHub/ropacea/ropacea/scs.py:32: RuntimeWarning:\n",
      "\n",
      "divide by zero encountered in scalar divide\n",
      "\n",
      "/home/josh/Documents/GitHub/ropacea/ropacea/scs.py:32: RuntimeWarning:\n",
      "\n",
      "divide by zero encountered in scalar divide\n",
      "\n",
      "/home/josh/Documents/GitHub/ropacea/ropacea/scs.py:32: RuntimeWarning:\n",
      "\n",
      "divide by zero encountered in scalar divide\n",
      "\n",
      "/home/josh/Documents/GitHub/ropacea/ropacea/scs.py:32: RuntimeWarning:\n",
      "\n",
      "divide by zero encountered in scalar divide\n",
      "\n"
     ]
    },
    {
     "name": "stdout",
     "output_type": "stream",
     "text": [
      "monthly_portfolio_return = -0.0126\n",
      "risk_free_return = 0.0111\n",
      "mark_date = datetime.date(2017, 5, 1)\n",
      "monthly_portfolio_return = 0.0967\n",
      "risk_free_return = 0.0079\n",
      "mark_date = datetime.date(2017, 6, 1)\n",
      "monthly_portfolio_return = 0.0202\n",
      "risk_free_return = -0.0013\n",
      "mark_date = datetime.date(2017, 7, 1)\n",
      "monthly_portfolio_return = 0.0359\n",
      "risk_free_return = -0.0000\n",
      "mark_date = datetime.date(2017, 8, 1)\n"
     ]
    },
    {
     "name": "stderr",
     "output_type": "stream",
     "text": [
      "/home/josh/Documents/GitHub/ropacea/ropacea/scs.py:32: RuntimeWarning:\n",
      "\n",
      "divide by zero encountered in scalar divide\n",
      "\n",
      "/home/josh/Documents/GitHub/ropacea/ropacea/scs.py:32: RuntimeWarning:\n",
      "\n",
      "divide by zero encountered in scalar divide\n",
      "\n",
      "/home/josh/Documents/GitHub/ropacea/ropacea/scs.py:32: RuntimeWarning:\n",
      "\n",
      "divide by zero encountered in scalar divide\n",
      "\n",
      "/home/josh/Documents/GitHub/ropacea/ropacea/scs.py:32: RuntimeWarning:\n",
      "\n",
      "divide by zero encountered in scalar divide\n",
      "\n"
     ]
    },
    {
     "name": "stdout",
     "output_type": "stream",
     "text": [
      "monthly_portfolio_return = 0.0213\n",
      "risk_free_return = 0.0171\n",
      "mark_date = datetime.date(2017, 9, 1)\n",
      "monthly_portfolio_return = 0.0195\n",
      "risk_free_return = -0.0172\n",
      "mark_date = datetime.date(2017, 10, 1)\n",
      "monthly_portfolio_return = 0.0711\n",
      "risk_free_return = -0.0011\n",
      "mark_date = datetime.date(2017, 11, 1)\n",
      "monthly_portfolio_return = 0.0209\n",
      "risk_free_return = -0.0026\n",
      "mark_date = datetime.date(2017, 12, 1)\n"
     ]
    },
    {
     "name": "stderr",
     "output_type": "stream",
     "text": [
      "/home/josh/Documents/GitHub/ropacea/ropacea/scs.py:32: RuntimeWarning:\n",
      "\n",
      "divide by zero encountered in scalar divide\n",
      "\n",
      "/home/josh/Documents/GitHub/ropacea/ropacea/scs.py:32: RuntimeWarning:\n",
      "\n",
      "divide by zero encountered in scalar divide\n",
      "\n",
      "/home/josh/Documents/GitHub/ropacea/ropacea/scs.py:32: RuntimeWarning:\n",
      "\n",
      "divide by zero encountered in scalar divide\n",
      "\n",
      "/home/josh/Documents/GitHub/ropacea/ropacea/scs.py:32: RuntimeWarning:\n",
      "\n",
      "divide by zero encountered in scalar divide\n",
      "\n",
      "/home/josh/Documents/GitHub/ropacea/ropacea/scs.py:32: RuntimeWarning:\n",
      "\n",
      "divide by zero encountered in scalar divide\n",
      "\n"
     ]
    },
    {
     "name": "stdout",
     "output_type": "stream",
     "text": [
      "monthly_portfolio_return = -0.0090\n",
      "risk_free_return = 0.0022\n",
      "mark_date = datetime.date(2018, 1, 1)\n",
      "monthly_portfolio_return = 0.0940\n",
      "risk_free_return = -0.0236\n",
      "mark_date = datetime.date(2018, 2, 1)\n",
      "monthly_portfolio_return = -0.0291\n",
      "risk_free_return = -0.0130\n",
      "mark_date = datetime.date(2018, 3, 1)\n",
      "monthly_portfolio_return = -0.0115\n",
      "risk_free_return = 0.0128\n",
      "mark_date = datetime.date(2018, 4, 1)\n",
      "monthly_portfolio_return = 0.0253\n",
      "risk_free_return = -0.0155\n",
      "mark_date = datetime.date(2018, 5, 1)\n"
     ]
    },
    {
     "name": "stderr",
     "output_type": "stream",
     "text": [
      "/home/josh/Documents/GitHub/ropacea/ropacea/scs.py:32: RuntimeWarning:\n",
      "\n",
      "divide by zero encountered in scalar divide\n",
      "\n",
      "/home/josh/Documents/GitHub/ropacea/ropacea/scs.py:32: RuntimeWarning:\n",
      "\n",
      "divide by zero encountered in scalar divide\n",
      "\n",
      "/home/josh/Documents/GitHub/ropacea/ropacea/scs.py:32: RuntimeWarning:\n",
      "\n",
      "divide by zero encountered in scalar divide\n",
      "\n",
      "/home/josh/Documents/GitHub/ropacea/ropacea/scs.py:32: RuntimeWarning:\n",
      "\n",
      "divide by zero encountered in scalar divide\n",
      "\n",
      "/home/josh/Documents/GitHub/ropacea/ropacea/scs.py:32: RuntimeWarning:\n",
      "\n",
      "divide by zero encountered in scalar divide\n",
      "\n"
     ]
    },
    {
     "name": "stdout",
     "output_type": "stream",
     "text": [
      "monthly_portfolio_return = 0.0532\n",
      "risk_free_return = 0.0096\n",
      "mark_date = datetime.date(2018, 6, 1)\n",
      "monthly_portfolio_return = -0.0100\n",
      "risk_free_return = 0.0023\n",
      "mark_date = datetime.date(2018, 7, 1)\n",
      "monthly_portfolio_return = 0.0728\n",
      "risk_free_return = -0.0051\n",
      "mark_date = datetime.date(2018, 8, 1)\n",
      "monthly_portfolio_return = 0.0826\n",
      "risk_free_return = 0.0101\n",
      "mark_date = datetime.date(2018, 9, 1)\n",
      "monthly_portfolio_return = 0.0173\n",
      "risk_free_return = -0.0148\n",
      "mark_date = datetime.date(2018, 10, 1)\n"
     ]
    },
    {
     "name": "stderr",
     "output_type": "stream",
     "text": [
      "/home/josh/Documents/GitHub/ropacea/ropacea/scs.py:32: RuntimeWarning:\n",
      "\n",
      "divide by zero encountered in scalar divide\n",
      "\n",
      "/home/josh/Documents/GitHub/ropacea/ropacea/scs.py:32: RuntimeWarning:\n",
      "\n",
      "divide by zero encountered in scalar divide\n",
      "\n",
      "/home/josh/Documents/GitHub/ropacea/ropacea/scs.py:32: RuntimeWarning:\n",
      "\n",
      "divide by zero encountered in scalar divide\n",
      "\n",
      "/home/josh/Documents/GitHub/ropacea/ropacea/scs.py:32: RuntimeWarning:\n",
      "\n",
      "divide by zero encountered in scalar divide\n",
      "\n",
      "/home/josh/Documents/GitHub/ropacea/ropacea/scs.py:32: RuntimeWarning:\n",
      "\n",
      "divide by zero encountered in scalar divide\n",
      "\n"
     ]
    },
    {
     "name": "stdout",
     "output_type": "stream",
     "text": [
      "monthly_portfolio_return = -0.0589\n",
      "risk_free_return = -0.0043\n",
      "mark_date = datetime.date(2018, 11, 1)\n",
      "monthly_portfolio_return = 0.0238\n",
      "risk_free_return = 0.0149\n",
      "mark_date = datetime.date(2018, 12, 1)\n",
      "monthly_portfolio_return = -0.0737\n",
      "risk_free_return = 0.0286\n",
      "mark_date = datetime.date(2019, 1, 1)\n",
      "monthly_portfolio_return = 0.0393\n",
      "risk_free_return = 0.0071\n",
      "mark_date = datetime.date(2019, 2, 1)\n",
      "monthly_portfolio_return = 0.0585\n",
      "risk_free_return = -0.0043\n",
      "mark_date = datetime.date(2019, 3, 1)\n"
     ]
    },
    {
     "name": "stderr",
     "output_type": "stream",
     "text": [
      "/home/josh/Documents/GitHub/ropacea/ropacea/scs.py:32: RuntimeWarning:\n",
      "\n",
      "divide by zero encountered in scalar divide\n",
      "\n",
      "/home/josh/Documents/GitHub/ropacea/ropacea/scs.py:32: RuntimeWarning:\n",
      "\n",
      "divide by zero encountered in scalar divide\n",
      "\n",
      "/home/josh/Documents/GitHub/ropacea/ropacea/scs.py:32: RuntimeWarning:\n",
      "\n",
      "divide by zero encountered in scalar divide\n",
      "\n",
      "/home/josh/Documents/GitHub/ropacea/ropacea/scs.py:32: RuntimeWarning:\n",
      "\n",
      "divide by zero encountered in scalar divide\n",
      "\n",
      "/home/josh/Documents/GitHub/ropacea/ropacea/scs.py:32: RuntimeWarning:\n",
      "\n",
      "divide by zero encountered in scalar divide\n",
      "\n"
     ]
    },
    {
     "name": "stdout",
     "output_type": "stream",
     "text": [
      "monthly_portfolio_return = 0.0549\n",
      "risk_free_return = 0.0294\n",
      "mark_date = datetime.date(2019, 4, 1)\n",
      "monthly_portfolio_return = -0.0130\n",
      "risk_free_return = -0.0062\n",
      "mark_date = datetime.date(2019, 5, 1)\n",
      "monthly_portfolio_return = -0.0487\n",
      "risk_free_return = 0.0319\n",
      "mark_date = datetime.date(2019, 6, 1)\n",
      "monthly_portfolio_return = 0.0437\n",
      "risk_free_return = 0.0121\n",
      "mark_date = datetime.date(2019, 7, 1)\n",
      "monthly_portfolio_return = 0.0128\n",
      "risk_free_return = 0.0034\n",
      "mark_date = datetime.date(2019, 8, 1)\n"
     ]
    },
    {
     "name": "stderr",
     "output_type": "stream",
     "text": [
      "/home/josh/Documents/GitHub/ropacea/ropacea/scs.py:32: RuntimeWarning:\n",
      "\n",
      "divide by zero encountered in scalar divide\n",
      "\n",
      "/home/josh/Documents/GitHub/ropacea/ropacea/scs.py:32: RuntimeWarning:\n",
      "\n",
      "divide by zero encountered in scalar divide\n",
      "\n",
      "/home/josh/Documents/GitHub/ropacea/ropacea/scs.py:32: RuntimeWarning:\n",
      "\n",
      "divide by zero encountered in scalar divide\n",
      "\n",
      "/home/josh/Documents/GitHub/ropacea/ropacea/scs.py:32: RuntimeWarning:\n",
      "\n",
      "divide by zero encountered in scalar divide\n",
      "\n",
      "/home/josh/Documents/GitHub/ropacea/ropacea/scs.py:32: RuntimeWarning:\n",
      "\n",
      "divide by zero encountered in scalar divide\n",
      "\n"
     ]
    },
    {
     "name": "stdout",
     "output_type": "stream",
     "text": [
      "monthly_portfolio_return = 0.0253\n",
      "risk_free_return = 0.0403\n",
      "mark_date = datetime.date(2019, 9, 1)\n",
      "monthly_portfolio_return = -0.0128\n",
      "risk_free_return = -0.0139\n",
      "mark_date = datetime.date(2019, 10, 1)\n",
      "monthly_portfolio_return = 0.0021\n",
      "risk_free_return = -0.0007\n",
      "mark_date = datetime.date(2019, 11, 1)\n",
      "monthly_portfolio_return = 0.0384\n",
      "risk_free_return = -0.0074\n",
      "mark_date = datetime.date(2019, 12, 1)\n",
      "monthly_portfolio_return = 0.0624\n",
      "risk_free_return = -0.0113\n",
      "mark_date = datetime.date(2020, 1, 1)\n"
     ]
    },
    {
     "name": "stderr",
     "output_type": "stream",
     "text": [
      "/home/josh/Documents/GitHub/ropacea/ropacea/scs.py:32: RuntimeWarning:\n",
      "\n",
      "divide by zero encountered in scalar divide\n",
      "\n",
      "/home/josh/Documents/GitHub/ropacea/ropacea/scs.py:32: RuntimeWarning:\n",
      "\n",
      "divide by zero encountered in scalar divide\n",
      "\n",
      "/home/josh/Documents/GitHub/ropacea/ropacea/scs.py:32: RuntimeWarning:\n",
      "\n",
      "divide by zero encountered in scalar divide\n",
      "\n",
      "/home/josh/Documents/GitHub/ropacea/ropacea/scs.py:32: RuntimeWarning:\n",
      "\n",
      "divide by zero encountered in scalar divide\n",
      "\n",
      "/home/josh/Documents/GitHub/ropacea/ropacea/scs.py:32: RuntimeWarning:\n",
      "\n",
      "divide by zero encountered in scalar divide\n",
      "\n"
     ]
    },
    {
     "name": "stdout",
     "output_type": "stream",
     "text": [
      "monthly_portfolio_return = 0.0590\n",
      "risk_free_return = 0.0392\n",
      "mark_date = datetime.date(2020, 2, 1)\n",
      "monthly_portfolio_return = -0.0472\n",
      "risk_free_return = 0.0299\n",
      "mark_date = datetime.date(2020, 3, 1)\n",
      "monthly_portfolio_return = -0.0511\n",
      "risk_free_return = 0.0397\n",
      "mark_date = datetime.date(2020, 4, 1)\n",
      "monthly_portfolio_return = 0.1075\n",
      "risk_free_return = 0.0050\n",
      "mark_date = datetime.date(2020, 5, 1)\n",
      "monthly_portfolio_return = 0.0400\n",
      "risk_free_return = 0.0007\n",
      "mark_date = datetime.date(2020, 6, 1)\n"
     ]
    },
    {
     "name": "stderr",
     "output_type": "stream",
     "text": [
      "/home/josh/Documents/GitHub/ropacea/ropacea/scs.py:32: RuntimeWarning:\n",
      "\n",
      "divide by zero encountered in scalar divide\n",
      "\n",
      "/home/josh/Documents/GitHub/ropacea/ropacea/scs.py:32: RuntimeWarning:\n",
      "\n",
      "divide by zero encountered in scalar divide\n",
      "\n",
      "/home/josh/Documents/GitHub/ropacea/ropacea/scs.py:32: RuntimeWarning:\n",
      "\n",
      "divide by zero encountered in scalar divide\n",
      "\n",
      "/home/josh/Documents/GitHub/ropacea/ropacea/scs.py:32: RuntimeWarning:\n",
      "\n",
      "divide by zero encountered in scalar divide\n",
      "\n",
      "/home/josh/Documents/GitHub/ropacea/ropacea/scs.py:32: RuntimeWarning:\n",
      "\n",
      "divide by zero encountered in scalar divide\n",
      "\n"
     ]
    },
    {
     "name": "stdout",
     "output_type": "stream",
     "text": [
      "monthly_portfolio_return = 0.0503\n",
      "risk_free_return = 0.0004\n",
      "mark_date = datetime.date(2020, 7, 1)\n",
      "monthly_portfolio_return = 0.0342\n",
      "risk_free_return = 0.0128\n",
      "mark_date = datetime.date(2020, 8, 1)\n",
      "monthly_portfolio_return = 0.0954\n",
      "risk_free_return = -0.0147\n",
      "mark_date = datetime.date(2020, 9, 1)\n",
      "monthly_portfolio_return = -0.0104\n",
      "risk_free_return = 0.0026\n",
      "mark_date = datetime.date(2020, 10, 1)\n",
      "monthly_portfolio_return = -0.0537\n",
      "risk_free_return = -0.0173\n",
      "mark_date = datetime.date(2020, 11, 1)\n"
     ]
    },
    {
     "name": "stderr",
     "output_type": "stream",
     "text": [
      "/home/josh/Documents/GitHub/ropacea/ropacea/scs.py:32: RuntimeWarning:\n",
      "\n",
      "divide by zero encountered in scalar divide\n",
      "\n",
      "/home/josh/Documents/GitHub/ropacea/ropacea/scs.py:32: RuntimeWarning:\n",
      "\n",
      "divide by zero encountered in scalar divide\n",
      "\n",
      "/home/josh/Documents/GitHub/ropacea/ropacea/scs.py:32: RuntimeWarning:\n",
      "\n",
      "divide by zero encountered in scalar divide\n",
      "\n",
      "/home/josh/Documents/GitHub/ropacea/ropacea/scs.py:32: RuntimeWarning:\n",
      "\n",
      "divide by zero encountered in scalar divide\n",
      "\n",
      "/home/josh/Documents/GitHub/ropacea/ropacea/scs.py:32: RuntimeWarning:\n",
      "\n",
      "divide by zero encountered in scalar divide\n",
      "\n"
     ]
    },
    {
     "name": "stdout",
     "output_type": "stream",
     "text": [
      "monthly_portfolio_return = 0.0580\n",
      "risk_free_return = 0.0040\n",
      "mark_date = datetime.date(2020, 12, 1)\n",
      "monthly_portfolio_return = 0.0116\n",
      "risk_free_return = -0.0050\n",
      "mark_date = datetime.date(2021, 1, 1)\n",
      "monthly_portfolio_return = 0.0240\n",
      "risk_free_return = -0.0107\n",
      "mark_date = datetime.date(2021, 2, 1)\n",
      "monthly_portfolio_return = -0.0140\n",
      "risk_free_return = -0.0254\n",
      "mark_date = datetime.date(2021, 3, 1)\n",
      "monthly_portfolio_return = -0.0088\n",
      "risk_free_return = -0.0293\n",
      "mark_date = datetime.date(2021, 4, 1)\n"
     ]
    },
    {
     "name": "stderr",
     "output_type": "stream",
     "text": [
      "/home/josh/Documents/GitHub/ropacea/ropacea/scs.py:32: RuntimeWarning:\n",
      "\n",
      "divide by zero encountered in scalar divide\n",
      "\n",
      "/home/josh/Documents/GitHub/ropacea/ropacea/scs.py:32: RuntimeWarning:\n",
      "\n",
      "divide by zero encountered in scalar divide\n",
      "\n",
      "/home/josh/Documents/GitHub/ropacea/ropacea/scs.py:32: RuntimeWarning:\n",
      "\n",
      "divide by zero encountered in scalar divide\n",
      "\n",
      "/home/josh/Documents/GitHub/ropacea/ropacea/scs.py:32: RuntimeWarning:\n",
      "\n",
      "divide by zero encountered in scalar divide\n",
      "\n",
      "/home/josh/Documents/GitHub/ropacea/ropacea/scs.py:32: RuntimeWarning:\n",
      "\n",
      "divide by zero encountered in scalar divide\n",
      "\n"
     ]
    },
    {
     "name": "stdout",
     "output_type": "stream",
     "text": [
      "monthly_portfolio_return = 0.0499\n",
      "risk_free_return = 0.0119\n",
      "mark_date = datetime.date(2021, 5, 1)\n",
      "monthly_portfolio_return = 0.0302\n",
      "risk_free_return = 0.0034\n",
      "mark_date = datetime.date(2021, 6, 1)\n",
      "monthly_portfolio_return = 0.1009\n",
      "risk_free_return = 0.0141\n",
      "mark_date = datetime.date(2021, 7, 1)\n",
      "monthly_portfolio_return = 0.0425\n",
      "risk_free_return = 0.0238\n",
      "mark_date = datetime.date(2021, 8, 1)\n",
      "monthly_portfolio_return = 0.0675\n",
      "risk_free_return = -0.0048\n",
      "mark_date = datetime.date(2021, 9, 1)\n"
     ]
    },
    {
     "name": "stderr",
     "output_type": "stream",
     "text": [
      "/home/josh/Documents/GitHub/ropacea/ropacea/scs.py:32: RuntimeWarning:\n",
      "\n",
      "divide by zero encountered in scalar divide\n",
      "\n",
      "/home/josh/Documents/GitHub/ropacea/ropacea/scs.py:32: RuntimeWarning:\n",
      "\n",
      "divide by zero encountered in scalar divide\n",
      "\n",
      "/home/josh/Documents/GitHub/ropacea/ropacea/scs.py:32: RuntimeWarning:\n",
      "\n",
      "divide by zero encountered in scalar divide\n",
      "\n",
      "/home/josh/Documents/GitHub/ropacea/ropacea/scs.py:32: RuntimeWarning:\n",
      "\n",
      "divide by zero encountered in scalar divide\n",
      "\n",
      "/home/josh/Documents/GitHub/ropacea/ropacea/scs.py:32: RuntimeWarning:\n",
      "\n",
      "divide by zero encountered in scalar divide\n",
      "\n"
     ]
    },
    {
     "name": "stdout",
     "output_type": "stream",
     "text": [
      "monthly_portfolio_return = -0.0715\n",
      "risk_free_return = -0.0154\n",
      "mark_date = datetime.date(2021, 10, 1)\n",
      "monthly_portfolio_return = 0.1289\n",
      "risk_free_return = -0.0049\n",
      "mark_date = datetime.date(2021, 11, 1)\n",
      "monthly_portfolio_return = 0.0411\n",
      "risk_free_return = 0.0125\n",
      "mark_date = datetime.date(2021, 12, 1)\n",
      "monthly_portfolio_return = 0.0436\n",
      "risk_free_return = -0.0047\n",
      "========== SUMMARY ==========\n",
      "monthly_returns_bp_mean = 226.45\n",
      "monthly_returns_bp_std = 490.86\n",
      "annualized_mean_pct = 30.83\n",
      "annualized_std_pct = 17.00\n",
      "sharpe_ratio = 1.81\n",
      "mark_date = datetime.date(2017, 1, 1)\n",
      "monthly_portfolio_return = 0.0361\n",
      "risk_free_return = 0.0022\n",
      "mark_date = datetime.date(2017, 2, 1)\n"
     ]
    },
    {
     "name": "stderr",
     "output_type": "stream",
     "text": [
      "/home/josh/Documents/GitHub/ropacea/ropacea/scs.py:32: RuntimeWarning:\n",
      "\n",
      "divide by zero encountered in scalar divide\n",
      "\n",
      "/home/josh/Documents/GitHub/ropacea/ropacea/scs.py:32: RuntimeWarning:\n",
      "\n",
      "divide by zero encountered in scalar divide\n",
      "\n",
      "/home/josh/Documents/GitHub/ropacea/ropacea/scs.py:32: RuntimeWarning:\n",
      "\n",
      "divide by zero encountered in scalar divide\n",
      "\n",
      "/home/josh/Documents/GitHub/ropacea/ropacea/scs.py:32: RuntimeWarning:\n",
      "\n",
      "divide by zero encountered in scalar divide\n",
      "\n",
      "/home/josh/Documents/GitHub/ropacea/ropacea/scs.py:32: RuntimeWarning:\n",
      "\n",
      "divide by zero encountered in scalar divide\n",
      "\n"
     ]
    },
    {
     "name": "stdout",
     "output_type": "stream",
     "text": [
      "monthly_portfolio_return = 0.0226\n",
      "risk_free_return = 0.0074\n",
      "mark_date = datetime.date(2017, 3, 1)\n",
      "monthly_portfolio_return = 0.0380\n",
      "risk_free_return = 0.0024\n",
      "mark_date = datetime.date(2017, 4, 1)\n",
      "monthly_portfolio_return = -0.0132\n",
      "risk_free_return = 0.0111\n",
      "mark_date = datetime.date(2017, 5, 1)\n",
      "monthly_portfolio_return = 0.0989\n",
      "risk_free_return = 0.0079\n",
      "mark_date = datetime.date(2017, 6, 1)\n",
      "monthly_portfolio_return = 0.0201\n",
      "risk_free_return = -0.0013\n",
      "mark_date = datetime.date(2017, 7, 1)\n"
     ]
    },
    {
     "name": "stderr",
     "output_type": "stream",
     "text": [
      "/home/josh/Documents/GitHub/ropacea/ropacea/scs.py:32: RuntimeWarning:\n",
      "\n",
      "divide by zero encountered in scalar divide\n",
      "\n",
      "/home/josh/Documents/GitHub/ropacea/ropacea/scs.py:32: RuntimeWarning:\n",
      "\n",
      "divide by zero encountered in scalar divide\n",
      "\n",
      "/home/josh/Documents/GitHub/ropacea/ropacea/scs.py:32: RuntimeWarning:\n",
      "\n",
      "divide by zero encountered in scalar divide\n",
      "\n",
      "/home/josh/Documents/GitHub/ropacea/ropacea/scs.py:32: RuntimeWarning:\n",
      "\n",
      "divide by zero encountered in scalar divide\n",
      "\n"
     ]
    },
    {
     "name": "stdout",
     "output_type": "stream",
     "text": [
      "monthly_portfolio_return = 0.0366\n",
      "risk_free_return = -0.0000\n",
      "mark_date = datetime.date(2017, 8, 1)\n",
      "monthly_portfolio_return = 0.0215\n",
      "risk_free_return = 0.0171\n",
      "mark_date = datetime.date(2017, 9, 1)\n",
      "monthly_portfolio_return = 0.0195\n",
      "risk_free_return = -0.0172\n",
      "mark_date = datetime.date(2017, 10, 1)\n",
      "monthly_portfolio_return = 0.0725\n",
      "risk_free_return = -0.0011\n",
      "mark_date = datetime.date(2017, 11, 1)\n"
     ]
    },
    {
     "name": "stderr",
     "output_type": "stream",
     "text": [
      "/home/josh/Documents/GitHub/ropacea/ropacea/scs.py:32: RuntimeWarning:\n",
      "\n",
      "divide by zero encountered in scalar divide\n",
      "\n",
      "/home/josh/Documents/GitHub/ropacea/ropacea/scs.py:32: RuntimeWarning:\n",
      "\n",
      "divide by zero encountered in scalar divide\n",
      "\n",
      "/home/josh/Documents/GitHub/ropacea/ropacea/scs.py:32: RuntimeWarning:\n",
      "\n",
      "divide by zero encountered in scalar divide\n",
      "\n",
      "/home/josh/Documents/GitHub/ropacea/ropacea/scs.py:32: RuntimeWarning:\n",
      "\n",
      "divide by zero encountered in scalar divide\n",
      "\n"
     ]
    },
    {
     "name": "stdout",
     "output_type": "stream",
     "text": [
      "monthly_portfolio_return = 0.0206\n",
      "risk_free_return = -0.0026\n",
      "mark_date = datetime.date(2017, 12, 1)\n",
      "monthly_portfolio_return = -0.0095\n",
      "risk_free_return = 0.0022\n",
      "mark_date = datetime.date(2018, 1, 1)\n",
      "monthly_portfolio_return = 0.0957\n",
      "risk_free_return = -0.0236\n",
      "mark_date = datetime.date(2018, 2, 1)\n",
      "monthly_portfolio_return = -0.0277\n",
      "risk_free_return = -0.0130\n",
      "mark_date = datetime.date(2018, 3, 1)\n",
      "monthly_portfolio_return = -0.0114\n",
      "risk_free_return = 0.0128\n",
      "mark_date = datetime.date(2018, 4, 1)\n"
     ]
    },
    {
     "name": "stderr",
     "output_type": "stream",
     "text": [
      "/home/josh/Documents/GitHub/ropacea/ropacea/scs.py:32: RuntimeWarning:\n",
      "\n",
      "divide by zero encountered in scalar divide\n",
      "\n",
      "/home/josh/Documents/GitHub/ropacea/ropacea/scs.py:32: RuntimeWarning:\n",
      "\n",
      "divide by zero encountered in scalar divide\n",
      "\n",
      "/home/josh/Documents/GitHub/ropacea/ropacea/scs.py:32: RuntimeWarning:\n",
      "\n",
      "divide by zero encountered in scalar divide\n",
      "\n",
      "/home/josh/Documents/GitHub/ropacea/ropacea/scs.py:32: RuntimeWarning:\n",
      "\n",
      "divide by zero encountered in scalar divide\n",
      "\n",
      "/home/josh/Documents/GitHub/ropacea/ropacea/scs.py:32: RuntimeWarning:\n",
      "\n",
      "divide by zero encountered in scalar divide\n",
      "\n"
     ]
    },
    {
     "name": "stdout",
     "output_type": "stream",
     "text": [
      "monthly_portfolio_return = 0.0248\n",
      "risk_free_return = -0.0155\n",
      "mark_date = datetime.date(2018, 5, 1)\n",
      "monthly_portfolio_return = 0.0546\n",
      "risk_free_return = 0.0096\n",
      "mark_date = datetime.date(2018, 6, 1)\n",
      "monthly_portfolio_return = -0.0106\n",
      "risk_free_return = 0.0023\n",
      "mark_date = datetime.date(2018, 7, 1)\n",
      "monthly_portfolio_return = 0.0728\n",
      "risk_free_return = -0.0051\n",
      "mark_date = datetime.date(2018, 8, 1)\n",
      "monthly_portfolio_return = 0.0831\n",
      "risk_free_return = 0.0101\n",
      "mark_date = datetime.date(2018, 9, 1)\n"
     ]
    },
    {
     "name": "stderr",
     "output_type": "stream",
     "text": [
      "/home/josh/Documents/GitHub/ropacea/ropacea/scs.py:32: RuntimeWarning:\n",
      "\n",
      "divide by zero encountered in scalar divide\n",
      "\n",
      "/home/josh/Documents/GitHub/ropacea/ropacea/scs.py:32: RuntimeWarning:\n",
      "\n",
      "divide by zero encountered in scalar divide\n",
      "\n",
      "/home/josh/Documents/GitHub/ropacea/ropacea/scs.py:32: RuntimeWarning:\n",
      "\n",
      "divide by zero encountered in scalar divide\n",
      "\n",
      "/home/josh/Documents/GitHub/ropacea/ropacea/scs.py:32: RuntimeWarning:\n",
      "\n",
      "divide by zero encountered in scalar divide\n",
      "\n",
      "/home/josh/Documents/GitHub/ropacea/ropacea/scs.py:32: RuntimeWarning:\n",
      "\n",
      "divide by zero encountered in scalar divide\n",
      "\n"
     ]
    },
    {
     "name": "stdout",
     "output_type": "stream",
     "text": [
      "monthly_portfolio_return = 0.0175\n",
      "risk_free_return = -0.0148\n",
      "mark_date = datetime.date(2018, 10, 1)\n",
      "monthly_portfolio_return = -0.0611\n",
      "risk_free_return = -0.0043\n",
      "mark_date = datetime.date(2018, 11, 1)\n",
      "monthly_portfolio_return = 0.0218\n",
      "risk_free_return = 0.0149\n",
      "mark_date = datetime.date(2018, 12, 1)\n",
      "monthly_portfolio_return = -0.0746\n",
      "risk_free_return = 0.0286\n",
      "mark_date = datetime.date(2019, 1, 1)\n",
      "monthly_portfolio_return = 0.0397\n",
      "risk_free_return = 0.0071\n",
      "mark_date = datetime.date(2019, 2, 1)\n"
     ]
    },
    {
     "name": "stderr",
     "output_type": "stream",
     "text": [
      "/home/josh/Documents/GitHub/ropacea/ropacea/scs.py:32: RuntimeWarning:\n",
      "\n",
      "divide by zero encountered in scalar divide\n",
      "\n",
      "/home/josh/Documents/GitHub/ropacea/ropacea/scs.py:32: RuntimeWarning:\n",
      "\n",
      "divide by zero encountered in scalar divide\n",
      "\n",
      "/home/josh/Documents/GitHub/ropacea/ropacea/scs.py:32: RuntimeWarning:\n",
      "\n",
      "divide by zero encountered in scalar divide\n",
      "\n",
      "/home/josh/Documents/GitHub/ropacea/ropacea/scs.py:32: RuntimeWarning:\n",
      "\n",
      "divide by zero encountered in scalar divide\n",
      "\n",
      "/home/josh/Documents/GitHub/ropacea/ropacea/scs.py:32: RuntimeWarning:\n",
      "\n",
      "divide by zero encountered in scalar divide\n",
      "\n"
     ]
    },
    {
     "name": "stdout",
     "output_type": "stream",
     "text": [
      "monthly_portfolio_return = 0.0587\n",
      "risk_free_return = -0.0043\n",
      "mark_date = datetime.date(2019, 3, 1)\n",
      "monthly_portfolio_return = 0.0559\n",
      "risk_free_return = 0.0294\n",
      "mark_date = datetime.date(2019, 4, 1)\n",
      "monthly_portfolio_return = -0.0136\n",
      "risk_free_return = -0.0062\n",
      "mark_date = datetime.date(2019, 5, 1)\n",
      "monthly_portfolio_return = -0.0509\n",
      "risk_free_return = 0.0319\n",
      "mark_date = datetime.date(2019, 6, 1)\n",
      "monthly_portfolio_return = 0.0453\n",
      "risk_free_return = 0.0121\n",
      "mark_date = datetime.date(2019, 7, 1)\n"
     ]
    },
    {
     "name": "stderr",
     "output_type": "stream",
     "text": [
      "/home/josh/Documents/GitHub/ropacea/ropacea/scs.py:32: RuntimeWarning:\n",
      "\n",
      "divide by zero encountered in scalar divide\n",
      "\n",
      "/home/josh/Documents/GitHub/ropacea/ropacea/scs.py:32: RuntimeWarning:\n",
      "\n",
      "divide by zero encountered in scalar divide\n",
      "\n",
      "/home/josh/Documents/GitHub/ropacea/ropacea/scs.py:32: RuntimeWarning:\n",
      "\n",
      "divide by zero encountered in scalar divide\n",
      "\n",
      "/home/josh/Documents/GitHub/ropacea/ropacea/scs.py:32: RuntimeWarning:\n",
      "\n",
      "divide by zero encountered in scalar divide\n",
      "\n",
      "/home/josh/Documents/GitHub/ropacea/ropacea/scs.py:32: RuntimeWarning:\n",
      "\n",
      "divide by zero encountered in scalar divide\n",
      "\n"
     ]
    },
    {
     "name": "stdout",
     "output_type": "stream",
     "text": [
      "monthly_portfolio_return = 0.0131\n",
      "risk_free_return = 0.0034\n",
      "mark_date = datetime.date(2019, 8, 1)\n",
      "monthly_portfolio_return = 0.0244\n",
      "risk_free_return = 0.0403\n",
      "mark_date = datetime.date(2019, 9, 1)\n",
      "monthly_portfolio_return = -0.0125\n",
      "risk_free_return = -0.0139\n",
      "mark_date = datetime.date(2019, 10, 1)\n",
      "monthly_portfolio_return = 0.0037\n",
      "risk_free_return = -0.0007\n",
      "mark_date = datetime.date(2019, 11, 1)\n",
      "monthly_portfolio_return = 0.0392\n",
      "risk_free_return = -0.0074\n",
      "mark_date = datetime.date(2019, 12, 1)\n"
     ]
    },
    {
     "name": "stderr",
     "output_type": "stream",
     "text": [
      "/home/josh/Documents/GitHub/ropacea/ropacea/scs.py:32: RuntimeWarning:\n",
      "\n",
      "divide by zero encountered in scalar divide\n",
      "\n",
      "/home/josh/Documents/GitHub/ropacea/ropacea/scs.py:32: RuntimeWarning:\n",
      "\n",
      "divide by zero encountered in scalar divide\n",
      "\n",
      "/home/josh/Documents/GitHub/ropacea/ropacea/scs.py:32: RuntimeWarning:\n",
      "\n",
      "divide by zero encountered in scalar divide\n",
      "\n",
      "/home/josh/Documents/GitHub/ropacea/ropacea/scs.py:32: RuntimeWarning:\n",
      "\n",
      "divide by zero encountered in scalar divide\n",
      "\n"
     ]
    },
    {
     "name": "stdout",
     "output_type": "stream",
     "text": [
      "monthly_portfolio_return = 0.0628\n",
      "risk_free_return = -0.0113\n",
      "mark_date = datetime.date(2020, 1, 1)\n",
      "monthly_portfolio_return = 0.0584\n",
      "risk_free_return = 0.0392\n",
      "mark_date = datetime.date(2020, 2, 1)\n",
      "monthly_portfolio_return = -0.0454\n",
      "risk_free_return = 0.0299\n",
      "mark_date = datetime.date(2020, 3, 1)\n",
      "monthly_portfolio_return = -0.0516\n",
      "risk_free_return = 0.0397\n",
      "mark_date = datetime.date(2020, 4, 1)\n"
     ]
    },
    {
     "name": "stderr",
     "output_type": "stream",
     "text": [
      "/home/josh/Documents/GitHub/ropacea/ropacea/scs.py:32: RuntimeWarning:\n",
      "\n",
      "divide by zero encountered in scalar divide\n",
      "\n",
      "/home/josh/Documents/GitHub/ropacea/ropacea/scs.py:32: RuntimeWarning:\n",
      "\n",
      "divide by zero encountered in scalar divide\n",
      "\n",
      "/home/josh/Documents/GitHub/ropacea/ropacea/scs.py:32: RuntimeWarning:\n",
      "\n",
      "divide by zero encountered in scalar divide\n",
      "\n",
      "/home/josh/Documents/GitHub/ropacea/ropacea/scs.py:32: RuntimeWarning:\n",
      "\n",
      "divide by zero encountered in scalar divide\n",
      "\n"
     ]
    },
    {
     "name": "stdout",
     "output_type": "stream",
     "text": [
      "monthly_portfolio_return = 0.1081\n",
      "risk_free_return = 0.0050\n",
      "mark_date = datetime.date(2020, 5, 1)\n",
      "monthly_portfolio_return = 0.0413\n",
      "risk_free_return = 0.0007\n",
      "mark_date = datetime.date(2020, 6, 1)\n",
      "monthly_portfolio_return = 0.0513\n",
      "risk_free_return = 0.0004\n",
      "mark_date = datetime.date(2020, 7, 1)\n",
      "monthly_portfolio_return = 0.0337\n",
      "risk_free_return = 0.0128\n",
      "mark_date = datetime.date(2020, 8, 1)\n"
     ]
    },
    {
     "name": "stderr",
     "output_type": "stream",
     "text": [
      "/home/josh/Documents/GitHub/ropacea/ropacea/scs.py:32: RuntimeWarning:\n",
      "\n",
      "divide by zero encountered in scalar divide\n",
      "\n",
      "/home/josh/Documents/GitHub/ropacea/ropacea/scs.py:32: RuntimeWarning:\n",
      "\n",
      "divide by zero encountered in scalar divide\n",
      "\n",
      "/home/josh/Documents/GitHub/ropacea/ropacea/scs.py:32: RuntimeWarning:\n",
      "\n",
      "divide by zero encountered in scalar divide\n",
      "\n",
      "/home/josh/Documents/GitHub/ropacea/ropacea/scs.py:32: RuntimeWarning:\n",
      "\n",
      "divide by zero encountered in scalar divide\n",
      "\n"
     ]
    },
    {
     "name": "stdout",
     "output_type": "stream",
     "text": [
      "monthly_portfolio_return = 0.0963\n",
      "risk_free_return = -0.0147\n",
      "mark_date = datetime.date(2020, 9, 1)\n",
      "monthly_portfolio_return = -0.0106\n",
      "risk_free_return = 0.0026\n",
      "mark_date = datetime.date(2020, 10, 1)\n",
      "monthly_portfolio_return = -0.0539\n",
      "risk_free_return = -0.0173\n",
      "mark_date = datetime.date(2020, 11, 1)\n",
      "monthly_portfolio_return = 0.0575\n",
      "risk_free_return = 0.0040\n",
      "mark_date = datetime.date(2020, 12, 1)\n",
      "monthly_portfolio_return = 0.0113\n",
      "risk_free_return = -0.0050\n",
      "mark_date = datetime.date(2021, 1, 1)\n"
     ]
    },
    {
     "name": "stderr",
     "output_type": "stream",
     "text": [
      "/home/josh/Documents/GitHub/ropacea/ropacea/scs.py:32: RuntimeWarning:\n",
      "\n",
      "divide by zero encountered in scalar divide\n",
      "\n",
      "/home/josh/Documents/GitHub/ropacea/ropacea/scs.py:32: RuntimeWarning:\n",
      "\n",
      "divide by zero encountered in scalar divide\n",
      "\n",
      "/home/josh/Documents/GitHub/ropacea/ropacea/scs.py:32: RuntimeWarning:\n",
      "\n",
      "divide by zero encountered in scalar divide\n",
      "\n",
      "/home/josh/Documents/GitHub/ropacea/ropacea/scs.py:32: RuntimeWarning:\n",
      "\n",
      "divide by zero encountered in scalar divide\n",
      "\n",
      "/home/josh/Documents/GitHub/ropacea/ropacea/scs.py:32: RuntimeWarning:\n",
      "\n",
      "divide by zero encountered in scalar divide\n",
      "\n"
     ]
    },
    {
     "name": "stdout",
     "output_type": "stream",
     "text": [
      "monthly_portfolio_return = 0.0246\n",
      "risk_free_return = -0.0107\n",
      "mark_date = datetime.date(2021, 2, 1)\n",
      "monthly_portfolio_return = -0.0138\n",
      "risk_free_return = -0.0254\n",
      "mark_date = datetime.date(2021, 3, 1)\n",
      "monthly_portfolio_return = -0.0104\n",
      "risk_free_return = -0.0293\n",
      "mark_date = datetime.date(2021, 4, 1)\n",
      "monthly_portfolio_return = 0.0512\n",
      "risk_free_return = 0.0119\n",
      "mark_date = datetime.date(2021, 5, 1)\n",
      "monthly_portfolio_return = 0.0303\n",
      "risk_free_return = 0.0034\n",
      "mark_date = datetime.date(2021, 6, 1)\n"
     ]
    },
    {
     "name": "stderr",
     "output_type": "stream",
     "text": [
      "/home/josh/Documents/GitHub/ropacea/ropacea/scs.py:32: RuntimeWarning:\n",
      "\n",
      "divide by zero encountered in scalar divide\n",
      "\n",
      "/home/josh/Documents/GitHub/ropacea/ropacea/scs.py:32: RuntimeWarning:\n",
      "\n",
      "divide by zero encountered in scalar divide\n",
      "\n",
      "/home/josh/Documents/GitHub/ropacea/ropacea/scs.py:32: RuntimeWarning:\n",
      "\n",
      "divide by zero encountered in scalar divide\n",
      "\n",
      "/home/josh/Documents/GitHub/ropacea/ropacea/scs.py:32: RuntimeWarning:\n",
      "\n",
      "divide by zero encountered in scalar divide\n",
      "\n",
      "/home/josh/Documents/GitHub/ropacea/ropacea/scs.py:32: RuntimeWarning:\n",
      "\n",
      "divide by zero encountered in scalar divide\n",
      "\n"
     ]
    },
    {
     "name": "stdout",
     "output_type": "stream",
     "text": [
      "monthly_portfolio_return = 0.1034\n",
      "risk_free_return = 0.0141\n",
      "mark_date = datetime.date(2021, 7, 1)\n",
      "monthly_portfolio_return = 0.0425\n",
      "risk_free_return = 0.0238\n",
      "mark_date = datetime.date(2021, 8, 1)\n",
      "monthly_portfolio_return = 0.0690\n",
      "risk_free_return = -0.0048\n",
      "mark_date = datetime.date(2021, 9, 1)\n",
      "monthly_portfolio_return = -0.0723\n",
      "risk_free_return = -0.0154\n",
      "mark_date = datetime.date(2021, 10, 1)\n",
      "monthly_portfolio_return = 0.1313\n",
      "risk_free_return = -0.0049\n",
      "mark_date = datetime.date(2021, 11, 1)\n"
     ]
    },
    {
     "name": "stderr",
     "output_type": "stream",
     "text": [
      "/home/josh/Documents/GitHub/ropacea/ropacea/scs.py:32: RuntimeWarning:\n",
      "\n",
      "divide by zero encountered in scalar divide\n",
      "\n",
      "/home/josh/Documents/GitHub/ropacea/ropacea/scs.py:32: RuntimeWarning:\n",
      "\n",
      "divide by zero encountered in scalar divide\n",
      "\n",
      "/home/josh/Documents/GitHub/ropacea/ropacea/scs.py:32: RuntimeWarning:\n",
      "\n",
      "divide by zero encountered in scalar divide\n",
      "\n",
      "/home/josh/Documents/GitHub/ropacea/ropacea/scs.py:32: RuntimeWarning:\n",
      "\n",
      "divide by zero encountered in scalar divide\n",
      "\n",
      "/home/josh/Documents/GitHub/ropacea/ropacea/scs.py:32: RuntimeWarning:\n",
      "\n",
      "divide by zero encountered in scalar divide\n",
      "\n"
     ]
    },
    {
     "name": "stdout",
     "output_type": "stream",
     "text": [
      "monthly_portfolio_return = 0.0423\n",
      "risk_free_return = 0.0125\n",
      "mark_date = datetime.date(2021, 12, 1)\n",
      "monthly_portfolio_return = 0.0414\n",
      "risk_free_return = -0.0047\n",
      "========== SUMMARY ==========\n",
      "monthly_returns_bp_mean = 228.78\n",
      "monthly_returns_bp_std = 496.86\n",
      "annualized_mean_pct = 31.19\n",
      "annualized_std_pct = 17.21\n",
      "sharpe_ratio = 1.81\n",
      "mark_date = datetime.date(2017, 1, 1)\n",
      "monthly_portfolio_return = 0.0375\n",
      "risk_free_return = 0.0022\n",
      "mark_date = datetime.date(2017, 2, 1)\n",
      "monthly_portfolio_return = 0.0216\n",
      "risk_free_return = 0.0074\n",
      "mark_date = datetime.date(2017, 3, 1)\n",
      "monthly_portfolio_return = 0.0388\n",
      "risk_free_return = 0.0024\n",
      "mark_date = datetime.date(2017, 4, 1)\n"
     ]
    },
    {
     "name": "stderr",
     "output_type": "stream",
     "text": [
      "/home/josh/Documents/GitHub/ropacea/ropacea/scs.py:32: RuntimeWarning:\n",
      "\n",
      "divide by zero encountered in scalar divide\n",
      "\n",
      "/home/josh/Documents/GitHub/ropacea/ropacea/scs.py:32: RuntimeWarning:\n",
      "\n",
      "divide by zero encountered in scalar divide\n",
      "\n",
      "/home/josh/Documents/GitHub/ropacea/ropacea/scs.py:32: RuntimeWarning:\n",
      "\n",
      "divide by zero encountered in scalar divide\n",
      "\n",
      "/home/josh/Documents/GitHub/ropacea/ropacea/scs.py:32: RuntimeWarning:\n",
      "\n",
      "divide by zero encountered in scalar divide\n",
      "\n",
      "/home/josh/Documents/GitHub/ropacea/ropacea/scs.py:32: RuntimeWarning:\n",
      "\n",
      "divide by zero encountered in scalar divide\n",
      "\n"
     ]
    },
    {
     "name": "stdout",
     "output_type": "stream",
     "text": [
      "monthly_portfolio_return = -0.0135\n",
      "risk_free_return = 0.0111\n",
      "mark_date = datetime.date(2017, 5, 1)\n",
      "monthly_portfolio_return = 0.1012\n",
      "risk_free_return = 0.0079\n",
      "mark_date = datetime.date(2017, 6, 1)\n",
      "monthly_portfolio_return = 0.0200\n",
      "risk_free_return = -0.0013\n",
      "mark_date = datetime.date(2017, 7, 1)\n",
      "monthly_portfolio_return = 0.0373\n",
      "risk_free_return = -0.0000\n",
      "mark_date = datetime.date(2017, 8, 1)\n",
      "monthly_portfolio_return = 0.0218\n",
      "risk_free_return = 0.0171\n",
      "mark_date = datetime.date(2017, 9, 1)\n"
     ]
    },
    {
     "name": "stderr",
     "output_type": "stream",
     "text": [
      "/home/josh/Documents/GitHub/ropacea/ropacea/scs.py:32: RuntimeWarning:\n",
      "\n",
      "divide by zero encountered in scalar divide\n",
      "\n",
      "/home/josh/Documents/GitHub/ropacea/ropacea/scs.py:32: RuntimeWarning:\n",
      "\n",
      "divide by zero encountered in scalar divide\n",
      "\n",
      "/home/josh/Documents/GitHub/ropacea/ropacea/scs.py:32: RuntimeWarning:\n",
      "\n",
      "divide by zero encountered in scalar divide\n",
      "\n",
      "/home/josh/Documents/GitHub/ropacea/ropacea/scs.py:32: RuntimeWarning:\n",
      "\n",
      "divide by zero encountered in scalar divide\n",
      "\n",
      "/home/josh/Documents/GitHub/ropacea/ropacea/scs.py:32: RuntimeWarning:\n",
      "\n",
      "divide by zero encountered in scalar divide\n",
      "\n"
     ]
    },
    {
     "name": "stdout",
     "output_type": "stream",
     "text": [
      "monthly_portfolio_return = 0.0195\n",
      "risk_free_return = -0.0172\n",
      "mark_date = datetime.date(2017, 10, 1)\n",
      "monthly_portfolio_return = 0.0740\n",
      "risk_free_return = -0.0011\n",
      "mark_date = datetime.date(2017, 11, 1)\n",
      "monthly_portfolio_return = 0.0202\n",
      "risk_free_return = -0.0026\n",
      "mark_date = datetime.date(2017, 12, 1)\n",
      "monthly_portfolio_return = -0.0100\n",
      "risk_free_return = 0.0022\n",
      "mark_date = datetime.date(2018, 1, 1)\n",
      "monthly_portfolio_return = 0.0977\n",
      "risk_free_return = -0.0236\n",
      "mark_date = datetime.date(2018, 2, 1)\n"
     ]
    },
    {
     "name": "stderr",
     "output_type": "stream",
     "text": [
      "/home/josh/Documents/GitHub/ropacea/ropacea/scs.py:32: RuntimeWarning:\n",
      "\n",
      "divide by zero encountered in scalar divide\n",
      "\n",
      "/home/josh/Documents/GitHub/ropacea/ropacea/scs.py:32: RuntimeWarning:\n",
      "\n",
      "divide by zero encountered in scalar divide\n",
      "\n",
      "/home/josh/Documents/GitHub/ropacea/ropacea/scs.py:32: RuntimeWarning:\n",
      "\n",
      "divide by zero encountered in scalar divide\n",
      "\n",
      "/home/josh/Documents/GitHub/ropacea/ropacea/scs.py:32: RuntimeWarning:\n",
      "\n",
      "divide by zero encountered in scalar divide\n",
      "\n",
      "/home/josh/Documents/GitHub/ropacea/ropacea/scs.py:32: RuntimeWarning:\n",
      "\n",
      "divide by zero encountered in scalar divide\n",
      "\n"
     ]
    },
    {
     "name": "stdout",
     "output_type": "stream",
     "text": [
      "monthly_portfolio_return = -0.0264\n",
      "risk_free_return = -0.0130\n",
      "mark_date = datetime.date(2018, 3, 1)\n",
      "monthly_portfolio_return = -0.0114\n",
      "risk_free_return = 0.0128\n",
      "mark_date = datetime.date(2018, 4, 1)\n",
      "monthly_portfolio_return = 0.0243\n",
      "risk_free_return = -0.0155\n",
      "mark_date = datetime.date(2018, 5, 1)\n",
      "monthly_portfolio_return = 0.0561\n",
      "risk_free_return = 0.0096\n",
      "mark_date = datetime.date(2018, 6, 1)\n",
      "monthly_portfolio_return = -0.0111\n",
      "risk_free_return = 0.0023\n",
      "mark_date = datetime.date(2018, 7, 1)\n"
     ]
    },
    {
     "name": "stderr",
     "output_type": "stream",
     "text": [
      "/home/josh/Documents/GitHub/ropacea/ropacea/scs.py:32: RuntimeWarning:\n",
      "\n",
      "divide by zero encountered in scalar divide\n",
      "\n",
      "/home/josh/Documents/GitHub/ropacea/ropacea/scs.py:32: RuntimeWarning:\n",
      "\n",
      "divide by zero encountered in scalar divide\n",
      "\n",
      "/home/josh/Documents/GitHub/ropacea/ropacea/scs.py:32: RuntimeWarning:\n",
      "\n",
      "divide by zero encountered in scalar divide\n",
      "\n",
      "/home/josh/Documents/GitHub/ropacea/ropacea/scs.py:32: RuntimeWarning:\n",
      "\n",
      "divide by zero encountered in scalar divide\n",
      "\n",
      "/home/josh/Documents/GitHub/ropacea/ropacea/scs.py:32: RuntimeWarning:\n",
      "\n",
      "divide by zero encountered in scalar divide\n",
      "\n"
     ]
    },
    {
     "name": "stdout",
     "output_type": "stream",
     "text": [
      "monthly_portfolio_return = 0.0728\n",
      "risk_free_return = -0.0051\n",
      "mark_date = datetime.date(2018, 8, 1)\n",
      "monthly_portfolio_return = 0.0836\n",
      "risk_free_return = 0.0101\n",
      "mark_date = datetime.date(2018, 9, 1)\n",
      "monthly_portfolio_return = 0.0176\n",
      "risk_free_return = -0.0148\n",
      "mark_date = datetime.date(2018, 10, 1)\n",
      "monthly_portfolio_return = -0.0633\n",
      "risk_free_return = -0.0043\n",
      "mark_date = datetime.date(2018, 11, 1)\n",
      "monthly_portfolio_return = 0.0199\n",
      "risk_free_return = 0.0149\n",
      "mark_date = datetime.date(2018, 12, 1)\n"
     ]
    },
    {
     "name": "stderr",
     "output_type": "stream",
     "text": [
      "/home/josh/Documents/GitHub/ropacea/ropacea/scs.py:32: RuntimeWarning:\n",
      "\n",
      "divide by zero encountered in scalar divide\n",
      "\n",
      "/home/josh/Documents/GitHub/ropacea/ropacea/scs.py:32: RuntimeWarning:\n",
      "\n",
      "divide by zero encountered in scalar divide\n",
      "\n",
      "/home/josh/Documents/GitHub/ropacea/ropacea/scs.py:32: RuntimeWarning:\n",
      "\n",
      "divide by zero encountered in scalar divide\n",
      "\n",
      "/home/josh/Documents/GitHub/ropacea/ropacea/scs.py:32: RuntimeWarning:\n",
      "\n",
      "divide by zero encountered in scalar divide\n",
      "\n",
      "/home/josh/Documents/GitHub/ropacea/ropacea/scs.py:32: RuntimeWarning:\n",
      "\n",
      "divide by zero encountered in scalar divide\n",
      "\n"
     ]
    },
    {
     "name": "stdout",
     "output_type": "stream",
     "text": [
      "monthly_portfolio_return = -0.0756\n",
      "risk_free_return = 0.0286\n",
      "mark_date = datetime.date(2019, 1, 1)\n",
      "monthly_portfolio_return = 0.0402\n",
      "risk_free_return = 0.0071\n",
      "mark_date = datetime.date(2019, 2, 1)\n",
      "monthly_portfolio_return = 0.0590\n",
      "risk_free_return = -0.0043\n",
      "mark_date = datetime.date(2019, 3, 1)\n",
      "monthly_portfolio_return = 0.0569\n",
      "risk_free_return = 0.0294\n",
      "mark_date = datetime.date(2019, 4, 1)\n",
      "monthly_portfolio_return = -0.0142\n",
      "risk_free_return = -0.0062\n",
      "mark_date = datetime.date(2019, 5, 1)\n"
     ]
    },
    {
     "name": "stderr",
     "output_type": "stream",
     "text": [
      "/home/josh/Documents/GitHub/ropacea/ropacea/scs.py:32: RuntimeWarning:\n",
      "\n",
      "divide by zero encountered in scalar divide\n",
      "\n",
      "/home/josh/Documents/GitHub/ropacea/ropacea/scs.py:32: RuntimeWarning:\n",
      "\n",
      "divide by zero encountered in scalar divide\n",
      "\n",
      "/home/josh/Documents/GitHub/ropacea/ropacea/scs.py:32: RuntimeWarning:\n",
      "\n",
      "divide by zero encountered in scalar divide\n",
      "\n",
      "/home/josh/Documents/GitHub/ropacea/ropacea/scs.py:32: RuntimeWarning:\n",
      "\n",
      "divide by zero encountered in scalar divide\n",
      "\n",
      "/home/josh/Documents/GitHub/ropacea/ropacea/scs.py:32: RuntimeWarning:\n",
      "\n",
      "divide by zero encountered in scalar divide\n",
      "\n"
     ]
    },
    {
     "name": "stdout",
     "output_type": "stream",
     "text": [
      "monthly_portfolio_return = -0.0532\n",
      "risk_free_return = 0.0319\n",
      "mark_date = datetime.date(2019, 6, 1)\n",
      "monthly_portfolio_return = 0.0469\n",
      "risk_free_return = 0.0121\n",
      "mark_date = datetime.date(2019, 7, 1)\n",
      "monthly_portfolio_return = 0.0133\n",
      "risk_free_return = 0.0034\n",
      "mark_date = datetime.date(2019, 8, 1)\n",
      "monthly_portfolio_return = 0.0236\n",
      "risk_free_return = 0.0403\n",
      "mark_date = datetime.date(2019, 9, 1)\n",
      "monthly_portfolio_return = -0.0122\n",
      "risk_free_return = -0.0139\n",
      "mark_date = datetime.date(2019, 10, 1)\n"
     ]
    },
    {
     "name": "stderr",
     "output_type": "stream",
     "text": [
      "/home/josh/Documents/GitHub/ropacea/ropacea/scs.py:32: RuntimeWarning:\n",
      "\n",
      "divide by zero encountered in scalar divide\n",
      "\n",
      "/home/josh/Documents/GitHub/ropacea/ropacea/scs.py:32: RuntimeWarning:\n",
      "\n",
      "divide by zero encountered in scalar divide\n",
      "\n",
      "/home/josh/Documents/GitHub/ropacea/ropacea/scs.py:32: RuntimeWarning:\n",
      "\n",
      "divide by zero encountered in scalar divide\n",
      "\n",
      "/home/josh/Documents/GitHub/ropacea/ropacea/scs.py:32: RuntimeWarning:\n",
      "\n",
      "divide by zero encountered in scalar divide\n",
      "\n",
      "/home/josh/Documents/GitHub/ropacea/ropacea/scs.py:32: RuntimeWarning:\n",
      "\n",
      "divide by zero encountered in scalar divide\n",
      "\n"
     ]
    },
    {
     "name": "stdout",
     "output_type": "stream",
     "text": [
      "monthly_portfolio_return = 0.0054\n",
      "risk_free_return = -0.0007\n",
      "mark_date = datetime.date(2019, 11, 1)\n",
      "monthly_portfolio_return = 0.0401\n",
      "risk_free_return = -0.0074\n",
      "mark_date = datetime.date(2019, 12, 1)\n",
      "monthly_portfolio_return = 0.0632\n",
      "risk_free_return = -0.0113\n",
      "mark_date = datetime.date(2020, 1, 1)\n",
      "monthly_portfolio_return = 0.0579\n",
      "risk_free_return = 0.0392\n",
      "mark_date = datetime.date(2020, 2, 1)\n",
      "monthly_portfolio_return = -0.0432\n",
      "risk_free_return = 0.0299\n",
      "mark_date = datetime.date(2020, 3, 1)\n"
     ]
    },
    {
     "name": "stderr",
     "output_type": "stream",
     "text": [
      "/home/josh/Documents/GitHub/ropacea/ropacea/scs.py:32: RuntimeWarning:\n",
      "\n",
      "divide by zero encountered in scalar divide\n",
      "\n",
      "/home/josh/Documents/GitHub/ropacea/ropacea/scs.py:32: RuntimeWarning:\n",
      "\n",
      "divide by zero encountered in scalar divide\n",
      "\n",
      "/home/josh/Documents/GitHub/ropacea/ropacea/scs.py:32: RuntimeWarning:\n",
      "\n",
      "divide by zero encountered in scalar divide\n",
      "\n",
      "/home/josh/Documents/GitHub/ropacea/ropacea/scs.py:32: RuntimeWarning:\n",
      "\n",
      "divide by zero encountered in scalar divide\n",
      "\n",
      "/home/josh/Documents/GitHub/ropacea/ropacea/scs.py:32: RuntimeWarning:\n",
      "\n",
      "divide by zero encountered in scalar divide\n",
      "\n"
     ]
    },
    {
     "name": "stdout",
     "output_type": "stream",
     "text": [
      "monthly_portfolio_return = -0.0522\n",
      "risk_free_return = 0.0397\n",
      "mark_date = datetime.date(2020, 4, 1)\n",
      "monthly_portfolio_return = 0.1084\n",
      "risk_free_return = 0.0050\n",
      "mark_date = datetime.date(2020, 5, 1)\n",
      "monthly_portfolio_return = 0.0426\n",
      "risk_free_return = 0.0007\n",
      "mark_date = datetime.date(2020, 6, 1)\n",
      "monthly_portfolio_return = 0.0522\n",
      "risk_free_return = 0.0004\n",
      "mark_date = datetime.date(2020, 7, 1)\n",
      "monthly_portfolio_return = 0.0331\n",
      "risk_free_return = 0.0128\n",
      "mark_date = datetime.date(2020, 8, 1)\n"
     ]
    },
    {
     "name": "stderr",
     "output_type": "stream",
     "text": [
      "/home/josh/Documents/GitHub/ropacea/ropacea/scs.py:32: RuntimeWarning:\n",
      "\n",
      "divide by zero encountered in scalar divide\n",
      "\n",
      "/home/josh/Documents/GitHub/ropacea/ropacea/scs.py:32: RuntimeWarning:\n",
      "\n",
      "divide by zero encountered in scalar divide\n",
      "\n",
      "/home/josh/Documents/GitHub/ropacea/ropacea/scs.py:32: RuntimeWarning:\n",
      "\n",
      "divide by zero encountered in scalar divide\n",
      "\n",
      "/home/josh/Documents/GitHub/ropacea/ropacea/scs.py:32: RuntimeWarning:\n",
      "\n",
      "divide by zero encountered in scalar divide\n",
      "\n",
      "/home/josh/Documents/GitHub/ropacea/ropacea/scs.py:32: RuntimeWarning:\n",
      "\n",
      "divide by zero encountered in scalar divide\n",
      "\n"
     ]
    },
    {
     "name": "stdout",
     "output_type": "stream",
     "text": [
      "monthly_portfolio_return = 0.0973\n",
      "risk_free_return = -0.0147\n",
      "mark_date = datetime.date(2020, 9, 1)\n",
      "monthly_portfolio_return = -0.0111\n",
      "risk_free_return = 0.0026\n",
      "mark_date = datetime.date(2020, 10, 1)\n",
      "monthly_portfolio_return = -0.0543\n",
      "risk_free_return = -0.0173\n",
      "mark_date = datetime.date(2020, 11, 1)\n",
      "monthly_portfolio_return = 0.0570\n",
      "risk_free_return = 0.0040\n",
      "mark_date = datetime.date(2020, 12, 1)\n",
      "monthly_portfolio_return = 0.0109\n",
      "risk_free_return = -0.0050\n",
      "mark_date = datetime.date(2021, 1, 1)\n"
     ]
    },
    {
     "name": "stderr",
     "output_type": "stream",
     "text": [
      "/home/josh/Documents/GitHub/ropacea/ropacea/scs.py:32: RuntimeWarning:\n",
      "\n",
      "divide by zero encountered in scalar divide\n",
      "\n",
      "/home/josh/Documents/GitHub/ropacea/ropacea/scs.py:32: RuntimeWarning:\n",
      "\n",
      "divide by zero encountered in scalar divide\n",
      "\n",
      "/home/josh/Documents/GitHub/ropacea/ropacea/scs.py:32: RuntimeWarning:\n",
      "\n",
      "divide by zero encountered in scalar divide\n",
      "\n",
      "/home/josh/Documents/GitHub/ropacea/ropacea/scs.py:32: RuntimeWarning:\n",
      "\n",
      "divide by zero encountered in scalar divide\n",
      "\n",
      "/home/josh/Documents/GitHub/ropacea/ropacea/scs.py:32: RuntimeWarning:\n",
      "\n",
      "divide by zero encountered in scalar divide\n",
      "\n"
     ]
    },
    {
     "name": "stdout",
     "output_type": "stream",
     "text": [
      "monthly_portfolio_return = 0.0252\n",
      "risk_free_return = -0.0107\n",
      "mark_date = datetime.date(2021, 2, 1)\n",
      "monthly_portfolio_return = -0.0136\n",
      "risk_free_return = -0.0254\n",
      "mark_date = datetime.date(2021, 3, 1)\n",
      "monthly_portfolio_return = -0.0120\n",
      "risk_free_return = -0.0293\n",
      "mark_date = datetime.date(2021, 4, 1)\n",
      "monthly_portfolio_return = 0.0525\n",
      "risk_free_return = 0.0119\n",
      "mark_date = datetime.date(2021, 5, 1)\n",
      "monthly_portfolio_return = 0.0304\n",
      "risk_free_return = 0.0034\n",
      "mark_date = datetime.date(2021, 6, 1)\n"
     ]
    },
    {
     "name": "stderr",
     "output_type": "stream",
     "text": [
      "/home/josh/Documents/GitHub/ropacea/ropacea/scs.py:32: RuntimeWarning:\n",
      "\n",
      "divide by zero encountered in scalar divide\n",
      "\n",
      "/home/josh/Documents/GitHub/ropacea/ropacea/scs.py:32: RuntimeWarning:\n",
      "\n",
      "divide by zero encountered in scalar divide\n",
      "\n",
      "/home/josh/Documents/GitHub/ropacea/ropacea/scs.py:32: RuntimeWarning:\n",
      "\n",
      "divide by zero encountered in scalar divide\n",
      "\n",
      "/home/josh/Documents/GitHub/ropacea/ropacea/scs.py:32: RuntimeWarning:\n",
      "\n",
      "divide by zero encountered in scalar divide\n",
      "\n",
      "/home/josh/Documents/GitHub/ropacea/ropacea/scs.py:32: RuntimeWarning:\n",
      "\n",
      "divide by zero encountered in scalar divide\n",
      "\n"
     ]
    },
    {
     "name": "stdout",
     "output_type": "stream",
     "text": [
      "monthly_portfolio_return = 0.1058\n",
      "risk_free_return = 0.0141\n",
      "mark_date = datetime.date(2021, 7, 1)\n",
      "monthly_portfolio_return = 0.0423\n",
      "risk_free_return = 0.0238\n",
      "mark_date = datetime.date(2021, 8, 1)\n",
      "monthly_portfolio_return = 0.0705\n",
      "risk_free_return = -0.0048\n",
      "mark_date = datetime.date(2021, 9, 1)\n",
      "monthly_portfolio_return = -0.0731\n",
      "risk_free_return = -0.0154\n",
      "mark_date = datetime.date(2021, 10, 1)\n",
      "monthly_portfolio_return = 0.1337\n",
      "risk_free_return = -0.0049\n",
      "mark_date = datetime.date(2021, 11, 1)\n"
     ]
    },
    {
     "name": "stderr",
     "output_type": "stream",
     "text": [
      "/home/josh/Documents/GitHub/ropacea/ropacea/scs.py:32: RuntimeWarning:\n",
      "\n",
      "divide by zero encountered in scalar divide\n",
      "\n",
      "/home/josh/Documents/GitHub/ropacea/ropacea/scs.py:32: RuntimeWarning:\n",
      "\n",
      "divide by zero encountered in scalar divide\n",
      "\n",
      "/home/josh/Documents/GitHub/ropacea/ropacea/scs.py:32: RuntimeWarning:\n",
      "\n",
      "divide by zero encountered in scalar divide\n",
      "\n",
      "/home/josh/Documents/GitHub/ropacea/ropacea/scs.py:32: RuntimeWarning:\n",
      "\n",
      "divide by zero encountered in scalar divide\n",
      "\n",
      "/home/josh/Documents/GitHub/ropacea/ropacea/scs.py:32: RuntimeWarning:\n",
      "\n",
      "divide by zero encountered in scalar divide\n",
      "\n"
     ]
    },
    {
     "name": "stdout",
     "output_type": "stream",
     "text": [
      "monthly_portfolio_return = 0.0437\n",
      "risk_free_return = 0.0125\n",
      "mark_date = datetime.date(2021, 12, 1)\n",
      "monthly_portfolio_return = 0.0392\n",
      "risk_free_return = -0.0047\n",
      "========== SUMMARY ==========\n",
      "monthly_returns_bp_mean = 231.16\n",
      "monthly_returns_bp_std = 503.04\n",
      "annualized_mean_pct = 31.55\n",
      "annualized_std_pct = 17.43\n",
      "sharpe_ratio = 1.81\n",
      "mark_date = datetime.date(2017, 1, 1)\n",
      "monthly_portfolio_return = 0.0388\n",
      "risk_free_return = 0.0022\n",
      "mark_date = datetime.date(2017, 2, 1)\n",
      "monthly_portfolio_return = 0.0206\n",
      "risk_free_return = 0.0074\n",
      "mark_date = datetime.date(2017, 3, 1)\n",
      "monthly_portfolio_return = 0.0396\n",
      "risk_free_return = 0.0024\n",
      "mark_date = datetime.date(2017, 4, 1)\n"
     ]
    },
    {
     "name": "stderr",
     "output_type": "stream",
     "text": [
      "/home/josh/Documents/GitHub/ropacea/ropacea/scs.py:32: RuntimeWarning:\n",
      "\n",
      "divide by zero encountered in scalar divide\n",
      "\n",
      "/home/josh/Documents/GitHub/ropacea/ropacea/scs.py:32: RuntimeWarning:\n",
      "\n",
      "divide by zero encountered in scalar divide\n",
      "\n",
      "/home/josh/Documents/GitHub/ropacea/ropacea/scs.py:32: RuntimeWarning:\n",
      "\n",
      "divide by zero encountered in scalar divide\n",
      "\n",
      "/home/josh/Documents/GitHub/ropacea/ropacea/scs.py:32: RuntimeWarning:\n",
      "\n",
      "divide by zero encountered in scalar divide\n",
      "\n",
      "/home/josh/Documents/GitHub/ropacea/ropacea/scs.py:32: RuntimeWarning:\n",
      "\n",
      "divide by zero encountered in scalar divide\n",
      "\n"
     ]
    },
    {
     "name": "stdout",
     "output_type": "stream",
     "text": [
      "monthly_portfolio_return = -0.0137\n",
      "risk_free_return = 0.0111\n",
      "mark_date = datetime.date(2017, 5, 1)\n",
      "monthly_portfolio_return = 0.1035\n",
      "risk_free_return = 0.0079\n",
      "mark_date = datetime.date(2017, 6, 1)\n",
      "monthly_portfolio_return = 0.0199\n",
      "risk_free_return = -0.0013\n",
      "mark_date = datetime.date(2017, 7, 1)\n",
      "monthly_portfolio_return = 0.0380\n",
      "risk_free_return = -0.0000\n",
      "mark_date = datetime.date(2017, 8, 1)\n",
      "monthly_portfolio_return = 0.0220\n",
      "risk_free_return = 0.0171\n",
      "mark_date = datetime.date(2017, 9, 1)\n"
     ]
    },
    {
     "name": "stderr",
     "output_type": "stream",
     "text": [
      "/home/josh/Documents/GitHub/ropacea/ropacea/scs.py:32: RuntimeWarning:\n",
      "\n",
      "divide by zero encountered in scalar divide\n",
      "\n",
      "/home/josh/Documents/GitHub/ropacea/ropacea/scs.py:32: RuntimeWarning:\n",
      "\n",
      "divide by zero encountered in scalar divide\n",
      "\n",
      "/home/josh/Documents/GitHub/ropacea/ropacea/scs.py:32: RuntimeWarning:\n",
      "\n",
      "divide by zero encountered in scalar divide\n",
      "\n",
      "/home/josh/Documents/GitHub/ropacea/ropacea/scs.py:32: RuntimeWarning:\n",
      "\n",
      "divide by zero encountered in scalar divide\n",
      "\n",
      "/home/josh/Documents/GitHub/ropacea/ropacea/scs.py:32: RuntimeWarning:\n",
      "\n",
      "divide by zero encountered in scalar divide\n",
      "\n"
     ]
    },
    {
     "name": "stdout",
     "output_type": "stream",
     "text": [
      "monthly_portfolio_return = 0.0195\n",
      "risk_free_return = -0.0172\n",
      "mark_date = datetime.date(2017, 10, 1)\n",
      "monthly_portfolio_return = 0.0754\n",
      "risk_free_return = -0.0011\n",
      "mark_date = datetime.date(2017, 11, 1)\n",
      "monthly_portfolio_return = 0.0198\n",
      "risk_free_return = -0.0026\n",
      "mark_date = datetime.date(2017, 12, 1)\n",
      "monthly_portfolio_return = -0.0105\n",
      "risk_free_return = 0.0022\n",
      "mark_date = datetime.date(2018, 1, 1)\n",
      "monthly_portfolio_return = 0.0998\n",
      "risk_free_return = -0.0236\n",
      "mark_date = datetime.date(2018, 2, 1)\n"
     ]
    },
    {
     "name": "stderr",
     "output_type": "stream",
     "text": [
      "/home/josh/Documents/GitHub/ropacea/ropacea/scs.py:32: RuntimeWarning:\n",
      "\n",
      "divide by zero encountered in scalar divide\n",
      "\n",
      "/home/josh/Documents/GitHub/ropacea/ropacea/scs.py:32: RuntimeWarning:\n",
      "\n",
      "divide by zero encountered in scalar divide\n",
      "\n",
      "/home/josh/Documents/GitHub/ropacea/ropacea/scs.py:32: RuntimeWarning:\n",
      "\n",
      "divide by zero encountered in scalar divide\n",
      "\n",
      "/home/josh/Documents/GitHub/ropacea/ropacea/scs.py:32: RuntimeWarning:\n",
      "\n",
      "divide by zero encountered in scalar divide\n",
      "\n",
      "/home/josh/Documents/GitHub/ropacea/ropacea/scs.py:32: RuntimeWarning:\n",
      "\n",
      "divide by zero encountered in scalar divide\n",
      "\n"
     ]
    },
    {
     "name": "stdout",
     "output_type": "stream",
     "text": [
      "monthly_portfolio_return = -0.0253\n",
      "risk_free_return = -0.0130\n",
      "mark_date = datetime.date(2018, 3, 1)\n",
      "monthly_portfolio_return = -0.0114\n",
      "risk_free_return = 0.0128\n",
      "mark_date = datetime.date(2018, 4, 1)\n",
      "monthly_portfolio_return = 0.0238\n",
      "risk_free_return = -0.0155\n",
      "mark_date = datetime.date(2018, 5, 1)\n",
      "monthly_portfolio_return = 0.0575\n",
      "risk_free_return = 0.0096\n",
      "mark_date = datetime.date(2018, 6, 1)\n",
      "monthly_portfolio_return = -0.0115\n",
      "risk_free_return = 0.0023\n",
      "mark_date = datetime.date(2018, 7, 1)\n"
     ]
    },
    {
     "name": "stderr",
     "output_type": "stream",
     "text": [
      "/home/josh/Documents/GitHub/ropacea/ropacea/scs.py:32: RuntimeWarning:\n",
      "\n",
      "divide by zero encountered in scalar divide\n",
      "\n",
      "/home/josh/Documents/GitHub/ropacea/ropacea/scs.py:32: RuntimeWarning:\n",
      "\n",
      "divide by zero encountered in scalar divide\n",
      "\n",
      "/home/josh/Documents/GitHub/ropacea/ropacea/scs.py:32: RuntimeWarning:\n",
      "\n",
      "divide by zero encountered in scalar divide\n",
      "\n",
      "/home/josh/Documents/GitHub/ropacea/ropacea/scs.py:32: RuntimeWarning:\n",
      "\n",
      "divide by zero encountered in scalar divide\n",
      "\n",
      "/home/josh/Documents/GitHub/ropacea/ropacea/scs.py:32: RuntimeWarning:\n",
      "\n",
      "divide by zero encountered in scalar divide\n",
      "\n"
     ]
    },
    {
     "name": "stdout",
     "output_type": "stream",
     "text": [
      "monthly_portfolio_return = 0.0728\n",
      "risk_free_return = -0.0051\n",
      "mark_date = datetime.date(2018, 8, 1)\n",
      "monthly_portfolio_return = 0.0841\n",
      "risk_free_return = 0.0101\n",
      "mark_date = datetime.date(2018, 9, 1)\n",
      "monthly_portfolio_return = 0.0176\n",
      "risk_free_return = -0.0148\n",
      "mark_date = datetime.date(2018, 10, 1)\n",
      "monthly_portfolio_return = -0.0655\n",
      "risk_free_return = -0.0043\n",
      "mark_date = datetime.date(2018, 11, 1)\n",
      "monthly_portfolio_return = 0.0180\n",
      "risk_free_return = 0.0149\n",
      "mark_date = datetime.date(2018, 12, 1)\n"
     ]
    },
    {
     "name": "stderr",
     "output_type": "stream",
     "text": [
      "/home/josh/Documents/GitHub/ropacea/ropacea/scs.py:32: RuntimeWarning:\n",
      "\n",
      "divide by zero encountered in scalar divide\n",
      "\n",
      "/home/josh/Documents/GitHub/ropacea/ropacea/scs.py:32: RuntimeWarning:\n",
      "\n",
      "divide by zero encountered in scalar divide\n",
      "\n",
      "/home/josh/Documents/GitHub/ropacea/ropacea/scs.py:32: RuntimeWarning:\n",
      "\n",
      "divide by zero encountered in scalar divide\n",
      "\n",
      "/home/josh/Documents/GitHub/ropacea/ropacea/scs.py:32: RuntimeWarning:\n",
      "\n",
      "divide by zero encountered in scalar divide\n",
      "\n",
      "/home/josh/Documents/GitHub/ropacea/ropacea/scs.py:32: RuntimeWarning:\n",
      "\n",
      "divide by zero encountered in scalar divide\n",
      "\n"
     ]
    },
    {
     "name": "stdout",
     "output_type": "stream",
     "text": [
      "monthly_portfolio_return = -0.0765\n",
      "risk_free_return = 0.0286\n",
      "mark_date = datetime.date(2019, 1, 1)\n",
      "monthly_portfolio_return = 0.0406\n",
      "risk_free_return = 0.0071\n",
      "mark_date = datetime.date(2019, 2, 1)\n",
      "monthly_portfolio_return = 0.0592\n",
      "risk_free_return = -0.0043\n",
      "mark_date = datetime.date(2019, 3, 1)\n",
      "monthly_portfolio_return = 0.0580\n",
      "risk_free_return = 0.0294\n",
      "mark_date = datetime.date(2019, 4, 1)\n",
      "monthly_portfolio_return = -0.0148\n",
      "risk_free_return = -0.0062\n",
      "mark_date = datetime.date(2019, 5, 1)\n"
     ]
    },
    {
     "name": "stderr",
     "output_type": "stream",
     "text": [
      "/home/josh/Documents/GitHub/ropacea/ropacea/scs.py:32: RuntimeWarning:\n",
      "\n",
      "divide by zero encountered in scalar divide\n",
      "\n",
      "/home/josh/Documents/GitHub/ropacea/ropacea/scs.py:32: RuntimeWarning:\n",
      "\n",
      "divide by zero encountered in scalar divide\n",
      "\n",
      "/home/josh/Documents/GitHub/ropacea/ropacea/scs.py:32: RuntimeWarning:\n",
      "\n",
      "divide by zero encountered in scalar divide\n",
      "\n",
      "/home/josh/Documents/GitHub/ropacea/ropacea/scs.py:32: RuntimeWarning:\n",
      "\n",
      "divide by zero encountered in scalar divide\n",
      "\n",
      "/home/josh/Documents/GitHub/ropacea/ropacea/scs.py:32: RuntimeWarning:\n",
      "\n",
      "divide by zero encountered in scalar divide\n",
      "\n"
     ]
    },
    {
     "name": "stdout",
     "output_type": "stream",
     "text": [
      "monthly_portfolio_return = -0.0555\n",
      "risk_free_return = 0.0319\n",
      "mark_date = datetime.date(2019, 6, 1)\n",
      "monthly_portfolio_return = 0.0485\n",
      "risk_free_return = 0.0121\n",
      "mark_date = datetime.date(2019, 7, 1)\n",
      "monthly_portfolio_return = 0.0136\n",
      "risk_free_return = 0.0034\n",
      "mark_date = datetime.date(2019, 8, 1)\n",
      "monthly_portfolio_return = 0.0227\n",
      "risk_free_return = 0.0403\n",
      "mark_date = datetime.date(2019, 9, 1)\n",
      "monthly_portfolio_return = -0.0120\n",
      "risk_free_return = -0.0139\n",
      "mark_date = datetime.date(2019, 10, 1)\n"
     ]
    },
    {
     "name": "stderr",
     "output_type": "stream",
     "text": [
      "/home/josh/Documents/GitHub/ropacea/ropacea/scs.py:32: RuntimeWarning:\n",
      "\n",
      "divide by zero encountered in scalar divide\n",
      "\n",
      "/home/josh/Documents/GitHub/ropacea/ropacea/scs.py:32: RuntimeWarning:\n",
      "\n",
      "divide by zero encountered in scalar divide\n",
      "\n",
      "/home/josh/Documents/GitHub/ropacea/ropacea/scs.py:32: RuntimeWarning:\n",
      "\n",
      "divide by zero encountered in scalar divide\n",
      "\n",
      "/home/josh/Documents/GitHub/ropacea/ropacea/scs.py:32: RuntimeWarning:\n",
      "\n",
      "divide by zero encountered in scalar divide\n",
      "\n",
      "/home/josh/Documents/GitHub/ropacea/ropacea/scs.py:32: RuntimeWarning:\n",
      "\n",
      "divide by zero encountered in scalar divide\n",
      "\n"
     ]
    },
    {
     "name": "stdout",
     "output_type": "stream",
     "text": [
      "monthly_portfolio_return = 0.0070\n",
      "risk_free_return = -0.0007\n",
      "mark_date = datetime.date(2019, 11, 1)\n",
      "monthly_portfolio_return = 0.0410\n",
      "risk_free_return = -0.0074\n",
      "mark_date = datetime.date(2019, 12, 1)\n",
      "monthly_portfolio_return = 0.0637\n",
      "risk_free_return = -0.0113\n",
      "mark_date = datetime.date(2020, 1, 1)\n",
      "monthly_portfolio_return = 0.0574\n",
      "risk_free_return = 0.0392\n",
      "mark_date = datetime.date(2020, 2, 1)\n",
      "monthly_portfolio_return = -0.0410\n",
      "risk_free_return = 0.0299\n",
      "mark_date = datetime.date(2020, 3, 1)\n"
     ]
    },
    {
     "name": "stderr",
     "output_type": "stream",
     "text": [
      "/home/josh/Documents/GitHub/ropacea/ropacea/scs.py:32: RuntimeWarning:\n",
      "\n",
      "divide by zero encountered in scalar divide\n",
      "\n",
      "/home/josh/Documents/GitHub/ropacea/ropacea/scs.py:32: RuntimeWarning:\n",
      "\n",
      "divide by zero encountered in scalar divide\n",
      "\n",
      "/home/josh/Documents/GitHub/ropacea/ropacea/scs.py:32: RuntimeWarning:\n",
      "\n",
      "divide by zero encountered in scalar divide\n",
      "\n",
      "/home/josh/Documents/GitHub/ropacea/ropacea/scs.py:32: RuntimeWarning:\n",
      "\n",
      "divide by zero encountered in scalar divide\n",
      "\n",
      "/home/josh/Documents/GitHub/ropacea/ropacea/scs.py:32: RuntimeWarning:\n",
      "\n",
      "divide by zero encountered in scalar divide\n",
      "\n"
     ]
    },
    {
     "name": "stdout",
     "output_type": "stream",
     "text": [
      "monthly_portfolio_return = -0.0528\n",
      "risk_free_return = 0.0397\n",
      "mark_date = datetime.date(2020, 4, 1)\n",
      "monthly_portfolio_return = 0.1087\n",
      "risk_free_return = 0.0050\n",
      "mark_date = datetime.date(2020, 5, 1)\n",
      "monthly_portfolio_return = 0.0439\n",
      "risk_free_return = 0.0007\n",
      "mark_date = datetime.date(2020, 6, 1)\n",
      "monthly_portfolio_return = 0.0532\n",
      "risk_free_return = 0.0004\n",
      "mark_date = datetime.date(2020, 7, 1)\n",
      "monthly_portfolio_return = 0.0326\n",
      "risk_free_return = 0.0128\n",
      "mark_date = datetime.date(2020, 8, 1)\n"
     ]
    },
    {
     "name": "stderr",
     "output_type": "stream",
     "text": [
      "/home/josh/Documents/GitHub/ropacea/ropacea/scs.py:32: RuntimeWarning:\n",
      "\n",
      "divide by zero encountered in scalar divide\n",
      "\n",
      "/home/josh/Documents/GitHub/ropacea/ropacea/scs.py:32: RuntimeWarning:\n",
      "\n",
      "divide by zero encountered in scalar divide\n",
      "\n",
      "/home/josh/Documents/GitHub/ropacea/ropacea/scs.py:32: RuntimeWarning:\n",
      "\n",
      "divide by zero encountered in scalar divide\n",
      "\n",
      "/home/josh/Documents/GitHub/ropacea/ropacea/scs.py:32: RuntimeWarning:\n",
      "\n",
      "divide by zero encountered in scalar divide\n",
      "\n",
      "/home/josh/Documents/GitHub/ropacea/ropacea/scs.py:32: RuntimeWarning:\n",
      "\n",
      "divide by zero encountered in scalar divide\n",
      "\n"
     ]
    },
    {
     "name": "stdout",
     "output_type": "stream",
     "text": [
      "monthly_portfolio_return = 0.0984\n",
      "risk_free_return = -0.0147\n",
      "mark_date = datetime.date(2020, 9, 1)\n",
      "monthly_portfolio_return = -0.0116\n",
      "risk_free_return = 0.0026\n",
      "mark_date = datetime.date(2020, 10, 1)\n",
      "monthly_portfolio_return = -0.0547\n",
      "risk_free_return = -0.0173\n",
      "mark_date = datetime.date(2020, 11, 1)\n",
      "monthly_portfolio_return = 0.0565\n",
      "risk_free_return = 0.0040\n",
      "mark_date = datetime.date(2020, 12, 1)\n",
      "monthly_portfolio_return = 0.0105\n",
      "risk_free_return = -0.0050\n",
      "mark_date = datetime.date(2021, 1, 1)\n"
     ]
    },
    {
     "name": "stderr",
     "output_type": "stream",
     "text": [
      "/home/josh/Documents/GitHub/ropacea/ropacea/scs.py:32: RuntimeWarning:\n",
      "\n",
      "divide by zero encountered in scalar divide\n",
      "\n",
      "/home/josh/Documents/GitHub/ropacea/ropacea/scs.py:32: RuntimeWarning:\n",
      "\n",
      "divide by zero encountered in scalar divide\n",
      "\n",
      "/home/josh/Documents/GitHub/ropacea/ropacea/scs.py:32: RuntimeWarning:\n",
      "\n",
      "divide by zero encountered in scalar divide\n",
      "\n",
      "/home/josh/Documents/GitHub/ropacea/ropacea/scs.py:32: RuntimeWarning:\n",
      "\n",
      "divide by zero encountered in scalar divide\n",
      "\n",
      "/home/josh/Documents/GitHub/ropacea/ropacea/scs.py:32: RuntimeWarning:\n",
      "\n",
      "divide by zero encountered in scalar divide\n",
      "\n"
     ]
    },
    {
     "name": "stdout",
     "output_type": "stream",
     "text": [
      "monthly_portfolio_return = 0.0258\n",
      "risk_free_return = -0.0107\n",
      "mark_date = datetime.date(2021, 2, 1)\n",
      "monthly_portfolio_return = -0.0134\n",
      "risk_free_return = -0.0254\n",
      "mark_date = datetime.date(2021, 3, 1)\n",
      "monthly_portfolio_return = -0.0136\n",
      "risk_free_return = -0.0293\n",
      "mark_date = datetime.date(2021, 4, 1)\n",
      "monthly_portfolio_return = 0.0538\n",
      "risk_free_return = 0.0119\n",
      "mark_date = datetime.date(2021, 5, 1)\n",
      "monthly_portfolio_return = 0.0306\n",
      "risk_free_return = 0.0034\n",
      "mark_date = datetime.date(2021, 6, 1)\n"
     ]
    },
    {
     "name": "stderr",
     "output_type": "stream",
     "text": [
      "/home/josh/Documents/GitHub/ropacea/ropacea/scs.py:32: RuntimeWarning:\n",
      "\n",
      "divide by zero encountered in scalar divide\n",
      "\n",
      "/home/josh/Documents/GitHub/ropacea/ropacea/scs.py:32: RuntimeWarning:\n",
      "\n",
      "divide by zero encountered in scalar divide\n",
      "\n",
      "/home/josh/Documents/GitHub/ropacea/ropacea/scs.py:32: RuntimeWarning:\n",
      "\n",
      "divide by zero encountered in scalar divide\n",
      "\n",
      "/home/josh/Documents/GitHub/ropacea/ropacea/scs.py:32: RuntimeWarning:\n",
      "\n",
      "divide by zero encountered in scalar divide\n",
      "\n",
      "/home/josh/Documents/GitHub/ropacea/ropacea/scs.py:32: RuntimeWarning:\n",
      "\n",
      "divide by zero encountered in scalar divide\n",
      "\n"
     ]
    },
    {
     "name": "stdout",
     "output_type": "stream",
     "text": [
      "monthly_portfolio_return = 0.1083\n",
      "risk_free_return = 0.0141\n",
      "mark_date = datetime.date(2021, 7, 1)\n",
      "monthly_portfolio_return = 0.0420\n",
      "risk_free_return = 0.0238\n",
      "mark_date = datetime.date(2021, 8, 1)\n",
      "monthly_portfolio_return = 0.0719\n",
      "risk_free_return = -0.0048\n",
      "mark_date = datetime.date(2021, 9, 1)\n",
      "monthly_portfolio_return = -0.0740\n",
      "risk_free_return = -0.0154\n",
      "mark_date = datetime.date(2021, 10, 1)\n",
      "monthly_portfolio_return = 0.1362\n",
      "risk_free_return = -0.0049\n",
      "mark_date = datetime.date(2021, 11, 1)\n"
     ]
    },
    {
     "name": "stderr",
     "output_type": "stream",
     "text": [
      "/home/josh/Documents/GitHub/ropacea/ropacea/scs.py:32: RuntimeWarning:\n",
      "\n",
      "divide by zero encountered in scalar divide\n",
      "\n",
      "/home/josh/Documents/GitHub/ropacea/ropacea/scs.py:32: RuntimeWarning:\n",
      "\n",
      "divide by zero encountered in scalar divide\n",
      "\n",
      "/home/josh/Documents/GitHub/ropacea/ropacea/scs.py:32: RuntimeWarning:\n",
      "\n",
      "divide by zero encountered in scalar divide\n",
      "\n",
      "/home/josh/Documents/GitHub/ropacea/ropacea/scs.py:32: RuntimeWarning:\n",
      "\n",
      "divide by zero encountered in scalar divide\n",
      "\n",
      "/home/josh/Documents/GitHub/ropacea/ropacea/scs.py:32: RuntimeWarning:\n",
      "\n",
      "divide by zero encountered in scalar divide\n",
      "\n"
     ]
    },
    {
     "name": "stdout",
     "output_type": "stream",
     "text": [
      "monthly_portfolio_return = 0.0456\n",
      "risk_free_return = 0.0125\n",
      "mark_date = datetime.date(2021, 12, 1)\n",
      "monthly_portfolio_return = 0.0370\n",
      "risk_free_return = -0.0047\n",
      "========== SUMMARY ==========\n",
      "monthly_returns_bp_mean = 233.59\n",
      "monthly_returns_bp_std = 509.43\n",
      "annualized_mean_pct = 31.93\n",
      "annualized_std_pct = 17.65\n",
      "sharpe_ratio = 1.81\n",
      "mark_date = datetime.date(2017, 1, 1)\n",
      "monthly_portfolio_return = 0.0402\n",
      "risk_free_return = 0.0022\n",
      "mark_date = datetime.date(2017, 2, 1)\n",
      "monthly_portfolio_return = 0.0196\n",
      "risk_free_return = 0.0074\n",
      "mark_date = datetime.date(2017, 3, 1)\n",
      "monthly_portfolio_return = 0.0403\n",
      "risk_free_return = 0.0024\n",
      "mark_date = datetime.date(2017, 4, 1)\n"
     ]
    },
    {
     "name": "stderr",
     "output_type": "stream",
     "text": [
      "/home/josh/Documents/GitHub/ropacea/ropacea/scs.py:32: RuntimeWarning:\n",
      "\n",
      "divide by zero encountered in scalar divide\n",
      "\n",
      "/home/josh/Documents/GitHub/ropacea/ropacea/scs.py:32: RuntimeWarning:\n",
      "\n",
      "divide by zero encountered in scalar divide\n",
      "\n",
      "/home/josh/Documents/GitHub/ropacea/ropacea/scs.py:32: RuntimeWarning:\n",
      "\n",
      "divide by zero encountered in scalar divide\n",
      "\n",
      "/home/josh/Documents/GitHub/ropacea/ropacea/scs.py:32: RuntimeWarning:\n",
      "\n",
      "divide by zero encountered in scalar divide\n",
      "\n",
      "/home/josh/Documents/GitHub/ropacea/ropacea/scs.py:32: RuntimeWarning:\n",
      "\n",
      "divide by zero encountered in scalar divide\n",
      "\n"
     ]
    },
    {
     "name": "stdout",
     "output_type": "stream",
     "text": [
      "monthly_portfolio_return = -0.0135\n",
      "risk_free_return = 0.0111\n",
      "mark_date = datetime.date(2017, 5, 1)\n",
      "monthly_portfolio_return = 0.1058\n",
      "risk_free_return = 0.0079\n",
      "mark_date = datetime.date(2017, 6, 1)\n",
      "monthly_portfolio_return = 0.0198\n",
      "risk_free_return = -0.0013\n",
      "mark_date = datetime.date(2017, 7, 1)\n",
      "monthly_portfolio_return = 0.0387\n",
      "risk_free_return = -0.0000\n",
      "mark_date = datetime.date(2017, 8, 1)\n",
      "monthly_portfolio_return = 0.0223\n",
      "risk_free_return = 0.0171\n",
      "mark_date = datetime.date(2017, 9, 1)\n"
     ]
    },
    {
     "name": "stderr",
     "output_type": "stream",
     "text": [
      "/home/josh/Documents/GitHub/ropacea/ropacea/scs.py:32: RuntimeWarning:\n",
      "\n",
      "divide by zero encountered in scalar divide\n",
      "\n",
      "/home/josh/Documents/GitHub/ropacea/ropacea/scs.py:32: RuntimeWarning:\n",
      "\n",
      "divide by zero encountered in scalar divide\n",
      "\n",
      "/home/josh/Documents/GitHub/ropacea/ropacea/scs.py:32: RuntimeWarning:\n",
      "\n",
      "divide by zero encountered in scalar divide\n",
      "\n",
      "/home/josh/Documents/GitHub/ropacea/ropacea/scs.py:32: RuntimeWarning:\n",
      "\n",
      "divide by zero encountered in scalar divide\n",
      "\n",
      "/home/josh/Documents/GitHub/ropacea/ropacea/scs.py:32: RuntimeWarning:\n",
      "\n",
      "divide by zero encountered in scalar divide\n",
      "\n"
     ]
    },
    {
     "name": "stdout",
     "output_type": "stream",
     "text": [
      "monthly_portfolio_return = 0.0195\n",
      "risk_free_return = -0.0172\n",
      "mark_date = datetime.date(2017, 10, 1)\n",
      "monthly_portfolio_return = 0.0768\n",
      "risk_free_return = -0.0011\n",
      "mark_date = datetime.date(2017, 11, 1)\n",
      "monthly_portfolio_return = 0.0194\n",
      "risk_free_return = -0.0026\n",
      "mark_date = datetime.date(2017, 12, 1)\n",
      "monthly_portfolio_return = -0.0110\n",
      "risk_free_return = 0.0022\n",
      "mark_date = datetime.date(2018, 1, 1)\n",
      "monthly_portfolio_return = 0.1018\n",
      "risk_free_return = -0.0236\n",
      "mark_date = datetime.date(2018, 2, 1)\n"
     ]
    },
    {
     "name": "stderr",
     "output_type": "stream",
     "text": [
      "/home/josh/Documents/GitHub/ropacea/ropacea/scs.py:32: RuntimeWarning:\n",
      "\n",
      "divide by zero encountered in scalar divide\n",
      "\n",
      "/home/josh/Documents/GitHub/ropacea/ropacea/scs.py:32: RuntimeWarning:\n",
      "\n",
      "divide by zero encountered in scalar divide\n",
      "\n",
      "/home/josh/Documents/GitHub/ropacea/ropacea/scs.py:32: RuntimeWarning:\n",
      "\n",
      "divide by zero encountered in scalar divide\n",
      "\n",
      "/home/josh/Documents/GitHub/ropacea/ropacea/scs.py:32: RuntimeWarning:\n",
      "\n",
      "divide by zero encountered in scalar divide\n",
      "\n",
      "/home/josh/Documents/GitHub/ropacea/ropacea/scs.py:32: RuntimeWarning:\n",
      "\n",
      "divide by zero encountered in scalar divide\n",
      "\n"
     ]
    },
    {
     "name": "stdout",
     "output_type": "stream",
     "text": [
      "monthly_portfolio_return = -0.0241\n",
      "risk_free_return = -0.0130\n",
      "mark_date = datetime.date(2018, 3, 1)\n",
      "monthly_portfolio_return = -0.0113\n",
      "risk_free_return = 0.0128\n",
      "mark_date = datetime.date(2018, 4, 1)\n",
      "monthly_portfolio_return = 0.0233\n",
      "risk_free_return = -0.0155\n",
      "mark_date = datetime.date(2018, 5, 1)\n",
      "monthly_portfolio_return = 0.0589\n",
      "risk_free_return = 0.0096\n",
      "mark_date = datetime.date(2018, 6, 1)\n",
      "monthly_portfolio_return = -0.0119\n",
      "risk_free_return = 0.0023\n",
      "mark_date = datetime.date(2018, 7, 1)\n"
     ]
    },
    {
     "name": "stderr",
     "output_type": "stream",
     "text": [
      "/home/josh/Documents/GitHub/ropacea/ropacea/scs.py:32: RuntimeWarning:\n",
      "\n",
      "divide by zero encountered in scalar divide\n",
      "\n",
      "/home/josh/Documents/GitHub/ropacea/ropacea/scs.py:32: RuntimeWarning:\n",
      "\n",
      "divide by zero encountered in scalar divide\n",
      "\n",
      "/home/josh/Documents/GitHub/ropacea/ropacea/scs.py:32: RuntimeWarning:\n",
      "\n",
      "divide by zero encountered in scalar divide\n",
      "\n",
      "/home/josh/Documents/GitHub/ropacea/ropacea/scs.py:32: RuntimeWarning:\n",
      "\n",
      "divide by zero encountered in scalar divide\n",
      "\n",
      "/home/josh/Documents/GitHub/ropacea/ropacea/scs.py:32: RuntimeWarning:\n",
      "\n",
      "divide by zero encountered in scalar divide\n",
      "\n"
     ]
    },
    {
     "name": "stdout",
     "output_type": "stream",
     "text": [
      "monthly_portfolio_return = 0.0728\n",
      "risk_free_return = -0.0051\n",
      "mark_date = datetime.date(2018, 8, 1)\n",
      "monthly_portfolio_return = 0.0846\n",
      "risk_free_return = 0.0101\n",
      "mark_date = datetime.date(2018, 9, 1)\n",
      "monthly_portfolio_return = 0.0174\n",
      "risk_free_return = -0.0148\n",
      "mark_date = datetime.date(2018, 10, 1)\n",
      "monthly_portfolio_return = -0.0677\n",
      "risk_free_return = -0.0043\n",
      "mark_date = datetime.date(2018, 11, 1)\n",
      "monthly_portfolio_return = 0.0161\n",
      "risk_free_return = 0.0149\n",
      "mark_date = datetime.date(2018, 12, 1)\n"
     ]
    },
    {
     "name": "stderr",
     "output_type": "stream",
     "text": [
      "/home/josh/Documents/GitHub/ropacea/ropacea/scs.py:32: RuntimeWarning:\n",
      "\n",
      "divide by zero encountered in scalar divide\n",
      "\n",
      "/home/josh/Documents/GitHub/ropacea/ropacea/scs.py:32: RuntimeWarning:\n",
      "\n",
      "divide by zero encountered in scalar divide\n",
      "\n",
      "/home/josh/Documents/GitHub/ropacea/ropacea/scs.py:32: RuntimeWarning:\n",
      "\n",
      "divide by zero encountered in scalar divide\n",
      "\n",
      "/home/josh/Documents/GitHub/ropacea/ropacea/scs.py:32: RuntimeWarning:\n",
      "\n",
      "divide by zero encountered in scalar divide\n",
      "\n",
      "/home/josh/Documents/GitHub/ropacea/ropacea/scs.py:32: RuntimeWarning:\n",
      "\n",
      "divide by zero encountered in scalar divide\n",
      "\n"
     ]
    },
    {
     "name": "stdout",
     "output_type": "stream",
     "text": [
      "monthly_portfolio_return = -0.0775\n",
      "risk_free_return = 0.0286\n",
      "mark_date = datetime.date(2019, 1, 1)\n",
      "monthly_portfolio_return = 0.0411\n",
      "risk_free_return = 0.0071\n",
      "mark_date = datetime.date(2019, 2, 1)\n",
      "monthly_portfolio_return = 0.0594\n",
      "risk_free_return = -0.0043\n",
      "mark_date = datetime.date(2019, 3, 1)\n",
      "monthly_portfolio_return = 0.0590\n",
      "risk_free_return = 0.0294\n",
      "mark_date = datetime.date(2019, 4, 1)\n",
      "monthly_portfolio_return = -0.0155\n",
      "risk_free_return = -0.0062\n",
      "mark_date = datetime.date(2019, 5, 1)\n"
     ]
    },
    {
     "name": "stderr",
     "output_type": "stream",
     "text": [
      "/home/josh/Documents/GitHub/ropacea/ropacea/scs.py:32: RuntimeWarning:\n",
      "\n",
      "divide by zero encountered in scalar divide\n",
      "\n",
      "/home/josh/Documents/GitHub/ropacea/ropacea/scs.py:32: RuntimeWarning:\n",
      "\n",
      "divide by zero encountered in scalar divide\n",
      "\n",
      "/home/josh/Documents/GitHub/ropacea/ropacea/scs.py:32: RuntimeWarning:\n",
      "\n",
      "divide by zero encountered in scalar divide\n",
      "\n",
      "/home/josh/Documents/GitHub/ropacea/ropacea/scs.py:32: RuntimeWarning:\n",
      "\n",
      "divide by zero encountered in scalar divide\n",
      "\n",
      "/home/josh/Documents/GitHub/ropacea/ropacea/scs.py:32: RuntimeWarning:\n",
      "\n",
      "divide by zero encountered in scalar divide\n",
      "\n"
     ]
    },
    {
     "name": "stdout",
     "output_type": "stream",
     "text": [
      "monthly_portfolio_return = -0.0578\n",
      "risk_free_return = 0.0319\n",
      "mark_date = datetime.date(2019, 6, 1)\n",
      "monthly_portfolio_return = 0.0502\n",
      "risk_free_return = 0.0121\n",
      "mark_date = datetime.date(2019, 7, 1)\n",
      "monthly_portfolio_return = 0.0138\n",
      "risk_free_return = 0.0034\n",
      "mark_date = datetime.date(2019, 8, 1)\n",
      "monthly_portfolio_return = 0.0218\n",
      "risk_free_return = 0.0403\n",
      "mark_date = datetime.date(2019, 9, 1)\n",
      "monthly_portfolio_return = -0.0117\n",
      "risk_free_return = -0.0139\n",
      "mark_date = datetime.date(2019, 10, 1)\n"
     ]
    },
    {
     "name": "stderr",
     "output_type": "stream",
     "text": [
      "/home/josh/Documents/GitHub/ropacea/ropacea/scs.py:32: RuntimeWarning:\n",
      "\n",
      "divide by zero encountered in scalar divide\n",
      "\n",
      "/home/josh/Documents/GitHub/ropacea/ropacea/scs.py:32: RuntimeWarning:\n",
      "\n",
      "divide by zero encountered in scalar divide\n",
      "\n",
      "/home/josh/Documents/GitHub/ropacea/ropacea/scs.py:32: RuntimeWarning:\n",
      "\n",
      "divide by zero encountered in scalar divide\n",
      "\n",
      "/home/josh/Documents/GitHub/ropacea/ropacea/scs.py:32: RuntimeWarning:\n",
      "\n",
      "divide by zero encountered in scalar divide\n",
      "\n",
      "/home/josh/Documents/GitHub/ropacea/ropacea/scs.py:32: RuntimeWarning:\n",
      "\n",
      "divide by zero encountered in scalar divide\n",
      "\n"
     ]
    },
    {
     "name": "stdout",
     "output_type": "stream",
     "text": [
      "monthly_portfolio_return = 0.0087\n",
      "risk_free_return = -0.0007\n",
      "mark_date = datetime.date(2019, 11, 1)\n",
      "monthly_portfolio_return = 0.0418\n",
      "risk_free_return = -0.0074\n",
      "mark_date = datetime.date(2019, 12, 1)\n",
      "monthly_portfolio_return = 0.0641\n",
      "risk_free_return = -0.0113\n",
      "mark_date = datetime.date(2020, 1, 1)\n",
      "monthly_portfolio_return = 0.0568\n",
      "risk_free_return = 0.0392\n",
      "mark_date = datetime.date(2020, 2, 1)\n",
      "monthly_portfolio_return = -0.0389\n",
      "risk_free_return = 0.0299\n",
      "mark_date = datetime.date(2020, 3, 1)\n"
     ]
    },
    {
     "name": "stderr",
     "output_type": "stream",
     "text": [
      "/home/josh/Documents/GitHub/ropacea/ropacea/scs.py:32: RuntimeWarning:\n",
      "\n",
      "divide by zero encountered in scalar divide\n",
      "\n",
      "/home/josh/Documents/GitHub/ropacea/ropacea/scs.py:32: RuntimeWarning:\n",
      "\n",
      "divide by zero encountered in scalar divide\n",
      "\n",
      "/home/josh/Documents/GitHub/ropacea/ropacea/scs.py:32: RuntimeWarning:\n",
      "\n",
      "divide by zero encountered in scalar divide\n",
      "\n",
      "/home/josh/Documents/GitHub/ropacea/ropacea/scs.py:32: RuntimeWarning:\n",
      "\n",
      "divide by zero encountered in scalar divide\n",
      "\n",
      "/home/josh/Documents/GitHub/ropacea/ropacea/scs.py:32: RuntimeWarning:\n",
      "\n",
      "divide by zero encountered in scalar divide\n",
      "\n"
     ]
    },
    {
     "name": "stdout",
     "output_type": "stream",
     "text": [
      "monthly_portfolio_return = -0.0535\n",
      "risk_free_return = 0.0397\n",
      "mark_date = datetime.date(2020, 4, 1)\n",
      "monthly_portfolio_return = 0.1090\n",
      "risk_free_return = 0.0050\n",
      "mark_date = datetime.date(2020, 5, 1)\n",
      "monthly_portfolio_return = 0.0452\n",
      "risk_free_return = 0.0007\n",
      "mark_date = datetime.date(2020, 6, 1)\n",
      "monthly_portfolio_return = 0.0543\n",
      "risk_free_return = 0.0004\n",
      "mark_date = datetime.date(2020, 7, 1)\n",
      "monthly_portfolio_return = 0.0320\n",
      "risk_free_return = 0.0128\n",
      "mark_date = datetime.date(2020, 8, 1)\n"
     ]
    },
    {
     "name": "stderr",
     "output_type": "stream",
     "text": [
      "/home/josh/Documents/GitHub/ropacea/ropacea/scs.py:32: RuntimeWarning:\n",
      "\n",
      "divide by zero encountered in scalar divide\n",
      "\n",
      "/home/josh/Documents/GitHub/ropacea/ropacea/scs.py:32: RuntimeWarning:\n",
      "\n",
      "divide by zero encountered in scalar divide\n",
      "\n",
      "/home/josh/Documents/GitHub/ropacea/ropacea/scs.py:32: RuntimeWarning:\n",
      "\n",
      "divide by zero encountered in scalar divide\n",
      "\n",
      "/home/josh/Documents/GitHub/ropacea/ropacea/scs.py:32: RuntimeWarning:\n",
      "\n",
      "divide by zero encountered in scalar divide\n",
      "\n",
      "/home/josh/Documents/GitHub/ropacea/ropacea/scs.py:32: RuntimeWarning:\n",
      "\n",
      "divide by zero encountered in scalar divide\n",
      "\n"
     ]
    },
    {
     "name": "stdout",
     "output_type": "stream",
     "text": [
      "monthly_portfolio_return = 0.0995\n",
      "risk_free_return = -0.0147\n",
      "mark_date = datetime.date(2020, 9, 1)\n",
      "monthly_portfolio_return = -0.0121\n",
      "risk_free_return = 0.0026\n",
      "mark_date = datetime.date(2020, 10, 1)\n",
      "monthly_portfolio_return = -0.0551\n",
      "risk_free_return = -0.0173\n",
      "mark_date = datetime.date(2020, 11, 1)\n",
      "monthly_portfolio_return = 0.0560\n",
      "risk_free_return = 0.0040\n",
      "mark_date = datetime.date(2020, 12, 1)\n",
      "monthly_portfolio_return = 0.0102\n",
      "risk_free_return = -0.0050\n",
      "mark_date = datetime.date(2021, 1, 1)\n"
     ]
    },
    {
     "name": "stderr",
     "output_type": "stream",
     "text": [
      "/home/josh/Documents/GitHub/ropacea/ropacea/scs.py:32: RuntimeWarning:\n",
      "\n",
      "divide by zero encountered in scalar divide\n",
      "\n",
      "/home/josh/Documents/GitHub/ropacea/ropacea/scs.py:32: RuntimeWarning:\n",
      "\n",
      "divide by zero encountered in scalar divide\n",
      "\n",
      "/home/josh/Documents/GitHub/ropacea/ropacea/scs.py:32: RuntimeWarning:\n",
      "\n",
      "divide by zero encountered in scalar divide\n",
      "\n",
      "/home/josh/Documents/GitHub/ropacea/ropacea/scs.py:32: RuntimeWarning:\n",
      "\n",
      "divide by zero encountered in scalar divide\n",
      "\n",
      "/home/josh/Documents/GitHub/ropacea/ropacea/scs.py:32: RuntimeWarning:\n",
      "\n",
      "divide by zero encountered in scalar divide\n",
      "\n"
     ]
    },
    {
     "name": "stdout",
     "output_type": "stream",
     "text": [
      "monthly_portfolio_return = 0.0263\n",
      "risk_free_return = -0.0107\n",
      "mark_date = datetime.date(2021, 2, 1)\n",
      "monthly_portfolio_return = -0.0132\n",
      "risk_free_return = -0.0254\n",
      "mark_date = datetime.date(2021, 3, 1)\n",
      "monthly_portfolio_return = -0.0153\n",
      "risk_free_return = -0.0293\n",
      "mark_date = datetime.date(2021, 4, 1)\n",
      "monthly_portfolio_return = 0.0551\n",
      "risk_free_return = 0.0119\n",
      "mark_date = datetime.date(2021, 5, 1)\n",
      "monthly_portfolio_return = 0.0307\n",
      "risk_free_return = 0.0034\n",
      "mark_date = datetime.date(2021, 6, 1)\n"
     ]
    },
    {
     "name": "stderr",
     "output_type": "stream",
     "text": [
      "/home/josh/Documents/GitHub/ropacea/ropacea/scs.py:32: RuntimeWarning:\n",
      "\n",
      "divide by zero encountered in scalar divide\n",
      "\n",
      "/home/josh/Documents/GitHub/ropacea/ropacea/scs.py:32: RuntimeWarning:\n",
      "\n",
      "divide by zero encountered in scalar divide\n",
      "\n",
      "/home/josh/Documents/GitHub/ropacea/ropacea/scs.py:32: RuntimeWarning:\n",
      "\n",
      "divide by zero encountered in scalar divide\n",
      "\n",
      "/home/josh/Documents/GitHub/ropacea/ropacea/scs.py:32: RuntimeWarning:\n",
      "\n",
      "divide by zero encountered in scalar divide\n",
      "\n",
      "/home/josh/Documents/GitHub/ropacea/ropacea/scs.py:32: RuntimeWarning:\n",
      "\n",
      "divide by zero encountered in scalar divide\n",
      "\n"
     ]
    },
    {
     "name": "stdout",
     "output_type": "stream",
     "text": [
      "monthly_portfolio_return = 0.1108\n",
      "risk_free_return = 0.0141\n",
      "mark_date = datetime.date(2021, 7, 1)\n",
      "monthly_portfolio_return = 0.0418\n",
      "risk_free_return = 0.0238\n",
      "mark_date = datetime.date(2021, 8, 1)\n",
      "monthly_portfolio_return = 0.0734\n",
      "risk_free_return = -0.0048\n",
      "mark_date = datetime.date(2021, 9, 1)\n",
      "monthly_portfolio_return = -0.0748\n",
      "risk_free_return = -0.0154\n",
      "mark_date = datetime.date(2021, 10, 1)\n",
      "monthly_portfolio_return = 0.1388\n",
      "risk_free_return = -0.0049\n",
      "mark_date = datetime.date(2021, 11, 1)\n"
     ]
    },
    {
     "name": "stderr",
     "output_type": "stream",
     "text": [
      "/home/josh/Documents/GitHub/ropacea/ropacea/scs.py:32: RuntimeWarning:\n",
      "\n",
      "divide by zero encountered in scalar divide\n",
      "\n",
      "/home/josh/Documents/GitHub/ropacea/ropacea/scs.py:32: RuntimeWarning:\n",
      "\n",
      "divide by zero encountered in scalar divide\n",
      "\n",
      "/home/josh/Documents/GitHub/ropacea/ropacea/scs.py:32: RuntimeWarning:\n",
      "\n",
      "divide by zero encountered in scalar divide\n",
      "\n",
      "/home/josh/Documents/GitHub/ropacea/ropacea/scs.py:32: RuntimeWarning:\n",
      "\n",
      "divide by zero encountered in scalar divide\n",
      "\n",
      "/home/josh/Documents/GitHub/ropacea/ropacea/scs.py:32: RuntimeWarning:\n",
      "\n",
      "divide by zero encountered in scalar divide\n",
      "\n"
     ]
    },
    {
     "name": "stdout",
     "output_type": "stream",
     "text": [
      "monthly_portfolio_return = 0.0475\n",
      "risk_free_return = 0.0125\n",
      "mark_date = datetime.date(2021, 12, 1)\n",
      "monthly_portfolio_return = 0.0348\n",
      "risk_free_return = -0.0047\n",
      "========== SUMMARY ==========\n",
      "monthly_returns_bp_mean = 236.10\n",
      "monthly_returns_bp_std = 516.03\n",
      "annualized_mean_pct = 32.32\n",
      "annualized_std_pct = 17.88\n",
      "sharpe_ratio = 1.81\n",
      "mark_date = datetime.date(2017, 1, 1)\n",
      "monthly_portfolio_return = 0.0415\n",
      "risk_free_return = 0.0022\n",
      "mark_date = datetime.date(2017, 2, 1)\n",
      "monthly_portfolio_return = 0.0186\n",
      "risk_free_return = 0.0074\n",
      "mark_date = datetime.date(2017, 3, 1)\n",
      "monthly_portfolio_return = 0.0411\n",
      "risk_free_return = 0.0024\n",
      "mark_date = datetime.date(2017, 4, 1)\n"
     ]
    },
    {
     "name": "stderr",
     "output_type": "stream",
     "text": [
      "/home/josh/Documents/GitHub/ropacea/ropacea/scs.py:32: RuntimeWarning:\n",
      "\n",
      "divide by zero encountered in scalar divide\n",
      "\n",
      "/home/josh/Documents/GitHub/ropacea/ropacea/scs.py:32: RuntimeWarning:\n",
      "\n",
      "divide by zero encountered in scalar divide\n",
      "\n",
      "/home/josh/Documents/GitHub/ropacea/ropacea/scs.py:32: RuntimeWarning:\n",
      "\n",
      "divide by zero encountered in scalar divide\n",
      "\n",
      "/home/josh/Documents/GitHub/ropacea/ropacea/scs.py:32: RuntimeWarning:\n",
      "\n",
      "divide by zero encountered in scalar divide\n",
      "\n",
      "/home/josh/Documents/GitHub/ropacea/ropacea/scs.py:32: RuntimeWarning:\n",
      "\n",
      "divide by zero encountered in scalar divide\n",
      "\n"
     ]
    },
    {
     "name": "stdout",
     "output_type": "stream",
     "text": [
      "monthly_portfolio_return = -0.0133\n",
      "risk_free_return = 0.0111\n",
      "mark_date = datetime.date(2017, 5, 1)\n",
      "monthly_portfolio_return = 0.1080\n",
      "risk_free_return = 0.0079\n",
      "mark_date = datetime.date(2017, 6, 1)\n",
      "monthly_portfolio_return = 0.0197\n",
      "risk_free_return = -0.0013\n",
      "mark_date = datetime.date(2017, 7, 1)\n",
      "monthly_portfolio_return = 0.0393\n",
      "risk_free_return = -0.0000\n",
      "mark_date = datetime.date(2017, 8, 1)\n",
      "monthly_portfolio_return = 0.0225\n",
      "risk_free_return = 0.0171\n",
      "mark_date = datetime.date(2017, 9, 1)\n"
     ]
    },
    {
     "name": "stderr",
     "output_type": "stream",
     "text": [
      "/home/josh/Documents/GitHub/ropacea/ropacea/scs.py:32: RuntimeWarning:\n",
      "\n",
      "divide by zero encountered in scalar divide\n",
      "\n",
      "/home/josh/Documents/GitHub/ropacea/ropacea/scs.py:32: RuntimeWarning:\n",
      "\n",
      "divide by zero encountered in scalar divide\n",
      "\n",
      "/home/josh/Documents/GitHub/ropacea/ropacea/scs.py:32: RuntimeWarning:\n",
      "\n",
      "divide by zero encountered in scalar divide\n",
      "\n",
      "/home/josh/Documents/GitHub/ropacea/ropacea/scs.py:32: RuntimeWarning:\n",
      "\n",
      "divide by zero encountered in scalar divide\n",
      "\n",
      "/home/josh/Documents/GitHub/ropacea/ropacea/scs.py:32: RuntimeWarning:\n",
      "\n",
      "divide by zero encountered in scalar divide\n",
      "\n"
     ]
    },
    {
     "name": "stdout",
     "output_type": "stream",
     "text": [
      "monthly_portfolio_return = 0.0195\n",
      "risk_free_return = -0.0172\n",
      "mark_date = datetime.date(2017, 10, 1)\n",
      "monthly_portfolio_return = 0.0783\n",
      "risk_free_return = -0.0011\n",
      "mark_date = datetime.date(2017, 11, 1)\n",
      "monthly_portfolio_return = 0.0190\n",
      "risk_free_return = -0.0026\n",
      "mark_date = datetime.date(2017, 12, 1)\n",
      "monthly_portfolio_return = -0.0115\n",
      "risk_free_return = 0.0022\n",
      "mark_date = datetime.date(2018, 1, 1)\n",
      "monthly_portfolio_return = 0.1038\n",
      "risk_free_return = -0.0236\n",
      "mark_date = datetime.date(2018, 2, 1)\n"
     ]
    },
    {
     "name": "stderr",
     "output_type": "stream",
     "text": [
      "/home/josh/Documents/GitHub/ropacea/ropacea/scs.py:32: RuntimeWarning:\n",
      "\n",
      "divide by zero encountered in scalar divide\n",
      "\n",
      "/home/josh/Documents/GitHub/ropacea/ropacea/scs.py:32: RuntimeWarning:\n",
      "\n",
      "divide by zero encountered in scalar divide\n",
      "\n",
      "/home/josh/Documents/GitHub/ropacea/ropacea/scs.py:32: RuntimeWarning:\n",
      "\n",
      "divide by zero encountered in scalar divide\n",
      "\n",
      "/home/josh/Documents/GitHub/ropacea/ropacea/scs.py:32: RuntimeWarning:\n",
      "\n",
      "divide by zero encountered in scalar divide\n",
      "\n",
      "/home/josh/Documents/GitHub/ropacea/ropacea/scs.py:32: RuntimeWarning:\n",
      "\n",
      "divide by zero encountered in scalar divide\n",
      "\n"
     ]
    },
    {
     "name": "stdout",
     "output_type": "stream",
     "text": [
      "monthly_portfolio_return = -0.0229\n",
      "risk_free_return = -0.0130\n",
      "mark_date = datetime.date(2018, 3, 1)\n",
      "monthly_portfolio_return = -0.0113\n",
      "risk_free_return = 0.0128\n",
      "mark_date = datetime.date(2018, 4, 1)\n",
      "monthly_portfolio_return = 0.0228\n",
      "risk_free_return = -0.0155\n",
      "mark_date = datetime.date(2018, 5, 1)\n",
      "monthly_portfolio_return = 0.0604\n",
      "risk_free_return = 0.0096\n",
      "mark_date = datetime.date(2018, 6, 1)\n",
      "monthly_portfolio_return = -0.0123\n",
      "risk_free_return = 0.0023\n",
      "mark_date = datetime.date(2018, 7, 1)\n"
     ]
    },
    {
     "name": "stderr",
     "output_type": "stream",
     "text": [
      "/home/josh/Documents/GitHub/ropacea/ropacea/scs.py:32: RuntimeWarning:\n",
      "\n",
      "divide by zero encountered in scalar divide\n",
      "\n",
      "/home/josh/Documents/GitHub/ropacea/ropacea/scs.py:32: RuntimeWarning:\n",
      "\n",
      "divide by zero encountered in scalar divide\n",
      "\n",
      "/home/josh/Documents/GitHub/ropacea/ropacea/scs.py:32: RuntimeWarning:\n",
      "\n",
      "divide by zero encountered in scalar divide\n",
      "\n",
      "/home/josh/Documents/GitHub/ropacea/ropacea/scs.py:32: RuntimeWarning:\n",
      "\n",
      "divide by zero encountered in scalar divide\n",
      "\n",
      "/home/josh/Documents/GitHub/ropacea/ropacea/scs.py:32: RuntimeWarning:\n",
      "\n",
      "divide by zero encountered in scalar divide\n",
      "\n"
     ]
    },
    {
     "name": "stdout",
     "output_type": "stream",
     "text": [
      "monthly_portfolio_return = 0.0728\n",
      "risk_free_return = -0.0051\n",
      "mark_date = datetime.date(2018, 8, 1)\n",
      "monthly_portfolio_return = 0.0851\n",
      "risk_free_return = 0.0101\n",
      "mark_date = datetime.date(2018, 9, 1)\n",
      "monthly_portfolio_return = 0.0173\n",
      "risk_free_return = -0.0148\n",
      "mark_date = datetime.date(2018, 10, 1)\n",
      "monthly_portfolio_return = -0.0699\n",
      "risk_free_return = -0.0043\n",
      "mark_date = datetime.date(2018, 11, 1)\n",
      "monthly_portfolio_return = 0.0142\n",
      "risk_free_return = 0.0149\n",
      "mark_date = datetime.date(2018, 12, 1)\n"
     ]
    },
    {
     "name": "stderr",
     "output_type": "stream",
     "text": [
      "/home/josh/Documents/GitHub/ropacea/ropacea/scs.py:32: RuntimeWarning:\n",
      "\n",
      "divide by zero encountered in scalar divide\n",
      "\n",
      "/home/josh/Documents/GitHub/ropacea/ropacea/scs.py:32: RuntimeWarning:\n",
      "\n",
      "divide by zero encountered in scalar divide\n",
      "\n",
      "/home/josh/Documents/GitHub/ropacea/ropacea/scs.py:32: RuntimeWarning:\n",
      "\n",
      "divide by zero encountered in scalar divide\n",
      "\n",
      "/home/josh/Documents/GitHub/ropacea/ropacea/scs.py:32: RuntimeWarning:\n",
      "\n",
      "divide by zero encountered in scalar divide\n",
      "\n",
      "/home/josh/Documents/GitHub/ropacea/ropacea/scs.py:32: RuntimeWarning:\n",
      "\n",
      "divide by zero encountered in scalar divide\n",
      "\n"
     ]
    },
    {
     "name": "stdout",
     "output_type": "stream",
     "text": [
      "monthly_portfolio_return = -0.0784\n",
      "risk_free_return = 0.0286\n",
      "mark_date = datetime.date(2019, 1, 1)\n",
      "monthly_portfolio_return = 0.0415\n",
      "risk_free_return = 0.0071\n",
      "mark_date = datetime.date(2019, 2, 1)\n",
      "monthly_portfolio_return = 0.0596\n",
      "risk_free_return = -0.0043\n",
      "mark_date = datetime.date(2019, 3, 1)\n",
      "monthly_portfolio_return = 0.0600\n",
      "risk_free_return = 0.0294\n",
      "mark_date = datetime.date(2019, 4, 1)\n",
      "monthly_portfolio_return = -0.0161\n",
      "risk_free_return = -0.0062\n",
      "mark_date = datetime.date(2019, 5, 1)\n"
     ]
    },
    {
     "name": "stderr",
     "output_type": "stream",
     "text": [
      "/home/josh/Documents/GitHub/ropacea/ropacea/scs.py:32: RuntimeWarning:\n",
      "\n",
      "divide by zero encountered in scalar divide\n",
      "\n",
      "/home/josh/Documents/GitHub/ropacea/ropacea/scs.py:32: RuntimeWarning:\n",
      "\n",
      "divide by zero encountered in scalar divide\n",
      "\n",
      "/home/josh/Documents/GitHub/ropacea/ropacea/scs.py:32: RuntimeWarning:\n",
      "\n",
      "divide by zero encountered in scalar divide\n",
      "\n",
      "/home/josh/Documents/GitHub/ropacea/ropacea/scs.py:32: RuntimeWarning:\n",
      "\n",
      "divide by zero encountered in scalar divide\n",
      "\n",
      "/home/josh/Documents/GitHub/ropacea/ropacea/scs.py:32: RuntimeWarning:\n",
      "\n",
      "divide by zero encountered in scalar divide\n",
      "\n"
     ]
    },
    {
     "name": "stdout",
     "output_type": "stream",
     "text": [
      "monthly_portfolio_return = -0.0601\n",
      "risk_free_return = 0.0319\n",
      "mark_date = datetime.date(2019, 6, 1)\n",
      "monthly_portfolio_return = 0.0518\n",
      "risk_free_return = 0.0121\n",
      "mark_date = datetime.date(2019, 7, 1)\n",
      "monthly_portfolio_return = 0.0141\n",
      "risk_free_return = 0.0034\n",
      "mark_date = datetime.date(2019, 8, 1)\n",
      "monthly_portfolio_return = 0.0210\n",
      "risk_free_return = 0.0403\n",
      "mark_date = datetime.date(2019, 9, 1)\n",
      "monthly_portfolio_return = -0.0114\n",
      "risk_free_return = -0.0139\n",
      "mark_date = datetime.date(2019, 10, 1)\n"
     ]
    },
    {
     "name": "stderr",
     "output_type": "stream",
     "text": [
      "/home/josh/Documents/GitHub/ropacea/ropacea/scs.py:32: RuntimeWarning:\n",
      "\n",
      "divide by zero encountered in scalar divide\n",
      "\n",
      "/home/josh/Documents/GitHub/ropacea/ropacea/scs.py:32: RuntimeWarning:\n",
      "\n",
      "divide by zero encountered in scalar divide\n",
      "\n",
      "/home/josh/Documents/GitHub/ropacea/ropacea/scs.py:32: RuntimeWarning:\n",
      "\n",
      "divide by zero encountered in scalar divide\n",
      "\n",
      "/home/josh/Documents/GitHub/ropacea/ropacea/scs.py:32: RuntimeWarning:\n",
      "\n",
      "divide by zero encountered in scalar divide\n",
      "\n",
      "/home/josh/Documents/GitHub/ropacea/ropacea/scs.py:32: RuntimeWarning:\n",
      "\n",
      "divide by zero encountered in scalar divide\n",
      "\n"
     ]
    },
    {
     "name": "stdout",
     "output_type": "stream",
     "text": [
      "monthly_portfolio_return = 0.0103\n",
      "risk_free_return = -0.0007\n",
      "mark_date = datetime.date(2019, 11, 1)\n",
      "monthly_portfolio_return = 0.0427\n",
      "risk_free_return = -0.0074\n",
      "mark_date = datetime.date(2019, 12, 1)\n",
      "monthly_portfolio_return = 0.0645\n",
      "risk_free_return = -0.0113\n",
      "mark_date = datetime.date(2020, 1, 1)\n",
      "monthly_portfolio_return = 0.0563\n",
      "risk_free_return = 0.0392\n",
      "mark_date = datetime.date(2020, 2, 1)\n",
      "monthly_portfolio_return = -0.0367\n",
      "risk_free_return = 0.0299\n",
      "mark_date = datetime.date(2020, 3, 1)\n"
     ]
    },
    {
     "name": "stderr",
     "output_type": "stream",
     "text": [
      "/home/josh/Documents/GitHub/ropacea/ropacea/scs.py:32: RuntimeWarning:\n",
      "\n",
      "divide by zero encountered in scalar divide\n",
      "\n",
      "/home/josh/Documents/GitHub/ropacea/ropacea/scs.py:32: RuntimeWarning:\n",
      "\n",
      "divide by zero encountered in scalar divide\n",
      "\n",
      "/home/josh/Documents/GitHub/ropacea/ropacea/scs.py:32: RuntimeWarning:\n",
      "\n",
      "divide by zero encountered in scalar divide\n",
      "\n",
      "/home/josh/Documents/GitHub/ropacea/ropacea/scs.py:32: RuntimeWarning:\n",
      "\n",
      "divide by zero encountered in scalar divide\n",
      "\n",
      "/home/josh/Documents/GitHub/ropacea/ropacea/scs.py:32: RuntimeWarning:\n",
      "\n",
      "divide by zero encountered in scalar divide\n",
      "\n"
     ]
    },
    {
     "name": "stdout",
     "output_type": "stream",
     "text": [
      "monthly_portfolio_return = -0.0532\n",
      "risk_free_return = 0.0397\n",
      "mark_date = datetime.date(2020, 4, 1)\n",
      "monthly_portfolio_return = 0.1092\n",
      "risk_free_return = 0.0050\n",
      "mark_date = datetime.date(2020, 5, 1)\n",
      "monthly_portfolio_return = 0.0465\n",
      "risk_free_return = 0.0007\n",
      "mark_date = datetime.date(2020, 6, 1)\n",
      "monthly_portfolio_return = 0.0553\n",
      "risk_free_return = 0.0004\n",
      "mark_date = datetime.date(2020, 7, 1)\n",
      "monthly_portfolio_return = 0.0314\n",
      "risk_free_return = 0.0128\n",
      "mark_date = datetime.date(2020, 8, 1)\n"
     ]
    },
    {
     "name": "stderr",
     "output_type": "stream",
     "text": [
      "/home/josh/Documents/GitHub/ropacea/ropacea/scs.py:32: RuntimeWarning:\n",
      "\n",
      "divide by zero encountered in scalar divide\n",
      "\n",
      "/home/josh/Documents/GitHub/ropacea/ropacea/scs.py:32: RuntimeWarning:\n",
      "\n",
      "divide by zero encountered in scalar divide\n",
      "\n",
      "/home/josh/Documents/GitHub/ropacea/ropacea/scs.py:32: RuntimeWarning:\n",
      "\n",
      "divide by zero encountered in scalar divide\n",
      "\n",
      "/home/josh/Documents/GitHub/ropacea/ropacea/scs.py:32: RuntimeWarning:\n",
      "\n",
      "divide by zero encountered in scalar divide\n",
      "\n",
      "/home/josh/Documents/GitHub/ropacea/ropacea/scs.py:32: RuntimeWarning:\n",
      "\n",
      "divide by zero encountered in scalar divide\n",
      "\n"
     ]
    },
    {
     "name": "stdout",
     "output_type": "stream",
     "text": [
      "monthly_portfolio_return = 0.1007\n",
      "risk_free_return = -0.0147\n",
      "mark_date = datetime.date(2020, 9, 1)\n",
      "monthly_portfolio_return = -0.0126\n",
      "risk_free_return = 0.0026\n",
      "mark_date = datetime.date(2020, 10, 1)\n",
      "monthly_portfolio_return = -0.0555\n",
      "risk_free_return = -0.0173\n",
      "mark_date = datetime.date(2020, 11, 1)\n",
      "monthly_portfolio_return = 0.0555\n",
      "risk_free_return = 0.0040\n",
      "mark_date = datetime.date(2020, 12, 1)\n",
      "monthly_portfolio_return = 0.0098\n",
      "risk_free_return = -0.0050\n",
      "mark_date = datetime.date(2021, 1, 1)\n"
     ]
    },
    {
     "name": "stderr",
     "output_type": "stream",
     "text": [
      "/home/josh/Documents/GitHub/ropacea/ropacea/scs.py:32: RuntimeWarning:\n",
      "\n",
      "divide by zero encountered in scalar divide\n",
      "\n",
      "/home/josh/Documents/GitHub/ropacea/ropacea/scs.py:32: RuntimeWarning:\n",
      "\n",
      "divide by zero encountered in scalar divide\n",
      "\n",
      "/home/josh/Documents/GitHub/ropacea/ropacea/scs.py:32: RuntimeWarning:\n",
      "\n",
      "divide by zero encountered in scalar divide\n",
      "\n",
      "/home/josh/Documents/GitHub/ropacea/ropacea/scs.py:32: RuntimeWarning:\n",
      "\n",
      "divide by zero encountered in scalar divide\n",
      "\n",
      "/home/josh/Documents/GitHub/ropacea/ropacea/scs.py:32: RuntimeWarning:\n",
      "\n",
      "divide by zero encountered in scalar divide\n",
      "\n"
     ]
    },
    {
     "name": "stdout",
     "output_type": "stream",
     "text": [
      "monthly_portfolio_return = 0.0269\n",
      "risk_free_return = -0.0107\n",
      "mark_date = datetime.date(2021, 2, 1)\n",
      "monthly_portfolio_return = -0.0131\n",
      "risk_free_return = -0.0254\n",
      "mark_date = datetime.date(2021, 3, 1)\n",
      "monthly_portfolio_return = -0.0171\n",
      "risk_free_return = -0.0293\n",
      "mark_date = datetime.date(2021, 4, 1)\n",
      "monthly_portfolio_return = 0.0565\n",
      "risk_free_return = 0.0119\n",
      "mark_date = datetime.date(2021, 5, 1)\n",
      "monthly_portfolio_return = 0.0308\n",
      "risk_free_return = 0.0034\n",
      "mark_date = datetime.date(2021, 6, 1)\n"
     ]
    },
    {
     "name": "stderr",
     "output_type": "stream",
     "text": [
      "/home/josh/Documents/GitHub/ropacea/ropacea/scs.py:32: RuntimeWarning:\n",
      "\n",
      "divide by zero encountered in scalar divide\n",
      "\n",
      "/home/josh/Documents/GitHub/ropacea/ropacea/scs.py:32: RuntimeWarning:\n",
      "\n",
      "divide by zero encountered in scalar divide\n",
      "\n",
      "/home/josh/Documents/GitHub/ropacea/ropacea/scs.py:32: RuntimeWarning:\n",
      "\n",
      "divide by zero encountered in scalar divide\n",
      "\n",
      "/home/josh/Documents/GitHub/ropacea/ropacea/scs.py:32: RuntimeWarning:\n",
      "\n",
      "divide by zero encountered in scalar divide\n",
      "\n",
      "/home/josh/Documents/GitHub/ropacea/ropacea/scs.py:32: RuntimeWarning:\n",
      "\n",
      "divide by zero encountered in scalar divide\n",
      "\n"
     ]
    },
    {
     "name": "stdout",
     "output_type": "stream",
     "text": [
      "monthly_portfolio_return = 0.1132\n",
      "risk_free_return = 0.0141\n",
      "mark_date = datetime.date(2021, 7, 1)\n",
      "monthly_portfolio_return = 0.0415\n",
      "risk_free_return = 0.0238\n",
      "mark_date = datetime.date(2021, 8, 1)\n",
      "monthly_portfolio_return = 0.0748\n",
      "risk_free_return = -0.0048\n",
      "mark_date = datetime.date(2021, 9, 1)\n",
      "monthly_portfolio_return = -0.0755\n",
      "risk_free_return = -0.0154\n",
      "mark_date = datetime.date(2021, 10, 1)\n",
      "monthly_portfolio_return = 0.1418\n",
      "risk_free_return = -0.0049\n",
      "mark_date = datetime.date(2021, 11, 1)\n"
     ]
    },
    {
     "name": "stderr",
     "output_type": "stream",
     "text": [
      "/home/josh/Documents/GitHub/ropacea/ropacea/scs.py:32: RuntimeWarning:\n",
      "\n",
      "divide by zero encountered in scalar divide\n",
      "\n",
      "/home/josh/Documents/GitHub/ropacea/ropacea/scs.py:32: RuntimeWarning:\n",
      "\n",
      "divide by zero encountered in scalar divide\n",
      "\n",
      "/home/josh/Documents/GitHub/ropacea/ropacea/scs.py:32: RuntimeWarning:\n",
      "\n",
      "divide by zero encountered in scalar divide\n",
      "\n",
      "/home/josh/Documents/GitHub/ropacea/ropacea/scs.py:32: RuntimeWarning:\n",
      "\n",
      "divide by zero encountered in scalar divide\n",
      "\n",
      "/home/josh/Documents/GitHub/ropacea/ropacea/scs.py:32: RuntimeWarning:\n",
      "\n",
      "divide by zero encountered in scalar divide\n",
      "\n"
     ]
    },
    {
     "name": "stdout",
     "output_type": "stream",
     "text": [
      "monthly_portfolio_return = 0.0493\n",
      "risk_free_return = 0.0125\n",
      "mark_date = datetime.date(2021, 12, 1)\n",
      "monthly_portfolio_return = 0.0326\n",
      "risk_free_return = -0.0047\n",
      "========== SUMMARY ==========\n",
      "monthly_returns_bp_mean = 238.79\n",
      "monthly_returns_bp_std = 522.62\n",
      "annualized_mean_pct = 32.74\n",
      "annualized_std_pct = 18.10\n",
      "sharpe_ratio = 1.81\n"
     ]
    }
   ],
   "source": [
    "results_df = param_tune(1.6,1.8, 10, PortfolioStrategy.SAMPLE_COVARIANCE)\n"
   ]
  },
  {
   "cell_type": "code",
   "execution_count": 11,
   "metadata": {},
   "outputs": [
    {
     "data": {
      "application/vnd.plotly.v1+json": {
       "config": {
        "plotlyServerURL": "https://plot.ly"
       },
       "data": [
        {
         "hovertemplate": "min_return_ratio=%{x}<br>Sharpe Ratio=%{y}<extra></extra>",
         "legendgroup": "",
         "line": {
          "color": "#636efa",
          "dash": "solid"
         },
         "marker": {
          "symbol": "circle"
         },
         "mode": "lines",
         "name": "",
         "orientation": "v",
         "showlegend": false,
         "type": "scatter",
         "x": [
          1.6,
          1.6222222222222222,
          1.6444444444444446,
          1.6666666666666667,
          1.6888888888888889,
          1.7111111111111112,
          1.7333333333333334,
          1.7555555555555555,
          1.777777777777778,
          1.8
         ],
         "xaxis": "x",
         "y": [
          1.8052293584902843,
          1.8081138473565808,
          1.810620479129715,
          1.812378130160263,
          1.8129421998481636,
          1.811896280798479,
          1.8106339877021642,
          1.8092481717840778,
          1.8078344651194878,
          1.8081527227804717
         ],
         "yaxis": "y"
        }
       ],
       "layout": {
        "legend": {
         "tracegroupgap": 0
        },
        "margin": {
         "t": 60
        },
        "template": {
         "data": {
          "bar": [
           {
            "error_x": {
             "color": "#2a3f5f"
            },
            "error_y": {
             "color": "#2a3f5f"
            },
            "marker": {
             "line": {
              "color": "#E5ECF6",
              "width": 0.5
             },
             "pattern": {
              "fillmode": "overlay",
              "size": 10,
              "solidity": 0.2
             }
            },
            "type": "bar"
           }
          ],
          "barpolar": [
           {
            "marker": {
             "line": {
              "color": "#E5ECF6",
              "width": 0.5
             },
             "pattern": {
              "fillmode": "overlay",
              "size": 10,
              "solidity": 0.2
             }
            },
            "type": "barpolar"
           }
          ],
          "carpet": [
           {
            "aaxis": {
             "endlinecolor": "#2a3f5f",
             "gridcolor": "white",
             "linecolor": "white",
             "minorgridcolor": "white",
             "startlinecolor": "#2a3f5f"
            },
            "baxis": {
             "endlinecolor": "#2a3f5f",
             "gridcolor": "white",
             "linecolor": "white",
             "minorgridcolor": "white",
             "startlinecolor": "#2a3f5f"
            },
            "type": "carpet"
           }
          ],
          "choropleth": [
           {
            "colorbar": {
             "outlinewidth": 0,
             "ticks": ""
            },
            "type": "choropleth"
           }
          ],
          "contour": [
           {
            "colorbar": {
             "outlinewidth": 0,
             "ticks": ""
            },
            "colorscale": [
             [
              0,
              "#0d0887"
             ],
             [
              0.1111111111111111,
              "#46039f"
             ],
             [
              0.2222222222222222,
              "#7201a8"
             ],
             [
              0.3333333333333333,
              "#9c179e"
             ],
             [
              0.4444444444444444,
              "#bd3786"
             ],
             [
              0.5555555555555556,
              "#d8576b"
             ],
             [
              0.6666666666666666,
              "#ed7953"
             ],
             [
              0.7777777777777778,
              "#fb9f3a"
             ],
             [
              0.8888888888888888,
              "#fdca26"
             ],
             [
              1,
              "#f0f921"
             ]
            ],
            "type": "contour"
           }
          ],
          "contourcarpet": [
           {
            "colorbar": {
             "outlinewidth": 0,
             "ticks": ""
            },
            "type": "contourcarpet"
           }
          ],
          "heatmap": [
           {
            "colorbar": {
             "outlinewidth": 0,
             "ticks": ""
            },
            "colorscale": [
             [
              0,
              "#0d0887"
             ],
             [
              0.1111111111111111,
              "#46039f"
             ],
             [
              0.2222222222222222,
              "#7201a8"
             ],
             [
              0.3333333333333333,
              "#9c179e"
             ],
             [
              0.4444444444444444,
              "#bd3786"
             ],
             [
              0.5555555555555556,
              "#d8576b"
             ],
             [
              0.6666666666666666,
              "#ed7953"
             ],
             [
              0.7777777777777778,
              "#fb9f3a"
             ],
             [
              0.8888888888888888,
              "#fdca26"
             ],
             [
              1,
              "#f0f921"
             ]
            ],
            "type": "heatmap"
           }
          ],
          "heatmapgl": [
           {
            "colorbar": {
             "outlinewidth": 0,
             "ticks": ""
            },
            "colorscale": [
             [
              0,
              "#0d0887"
             ],
             [
              0.1111111111111111,
              "#46039f"
             ],
             [
              0.2222222222222222,
              "#7201a8"
             ],
             [
              0.3333333333333333,
              "#9c179e"
             ],
             [
              0.4444444444444444,
              "#bd3786"
             ],
             [
              0.5555555555555556,
              "#d8576b"
             ],
             [
              0.6666666666666666,
              "#ed7953"
             ],
             [
              0.7777777777777778,
              "#fb9f3a"
             ],
             [
              0.8888888888888888,
              "#fdca26"
             ],
             [
              1,
              "#f0f921"
             ]
            ],
            "type": "heatmapgl"
           }
          ],
          "histogram": [
           {
            "marker": {
             "pattern": {
              "fillmode": "overlay",
              "size": 10,
              "solidity": 0.2
             }
            },
            "type": "histogram"
           }
          ],
          "histogram2d": [
           {
            "colorbar": {
             "outlinewidth": 0,
             "ticks": ""
            },
            "colorscale": [
             [
              0,
              "#0d0887"
             ],
             [
              0.1111111111111111,
              "#46039f"
             ],
             [
              0.2222222222222222,
              "#7201a8"
             ],
             [
              0.3333333333333333,
              "#9c179e"
             ],
             [
              0.4444444444444444,
              "#bd3786"
             ],
             [
              0.5555555555555556,
              "#d8576b"
             ],
             [
              0.6666666666666666,
              "#ed7953"
             ],
             [
              0.7777777777777778,
              "#fb9f3a"
             ],
             [
              0.8888888888888888,
              "#fdca26"
             ],
             [
              1,
              "#f0f921"
             ]
            ],
            "type": "histogram2d"
           }
          ],
          "histogram2dcontour": [
           {
            "colorbar": {
             "outlinewidth": 0,
             "ticks": ""
            },
            "colorscale": [
             [
              0,
              "#0d0887"
             ],
             [
              0.1111111111111111,
              "#46039f"
             ],
             [
              0.2222222222222222,
              "#7201a8"
             ],
             [
              0.3333333333333333,
              "#9c179e"
             ],
             [
              0.4444444444444444,
              "#bd3786"
             ],
             [
              0.5555555555555556,
              "#d8576b"
             ],
             [
              0.6666666666666666,
              "#ed7953"
             ],
             [
              0.7777777777777778,
              "#fb9f3a"
             ],
             [
              0.8888888888888888,
              "#fdca26"
             ],
             [
              1,
              "#f0f921"
             ]
            ],
            "type": "histogram2dcontour"
           }
          ],
          "mesh3d": [
           {
            "colorbar": {
             "outlinewidth": 0,
             "ticks": ""
            },
            "type": "mesh3d"
           }
          ],
          "parcoords": [
           {
            "line": {
             "colorbar": {
              "outlinewidth": 0,
              "ticks": ""
             }
            },
            "type": "parcoords"
           }
          ],
          "pie": [
           {
            "automargin": true,
            "type": "pie"
           }
          ],
          "scatter": [
           {
            "fillpattern": {
             "fillmode": "overlay",
             "size": 10,
             "solidity": 0.2
            },
            "type": "scatter"
           }
          ],
          "scatter3d": [
           {
            "line": {
             "colorbar": {
              "outlinewidth": 0,
              "ticks": ""
             }
            },
            "marker": {
             "colorbar": {
              "outlinewidth": 0,
              "ticks": ""
             }
            },
            "type": "scatter3d"
           }
          ],
          "scattercarpet": [
           {
            "marker": {
             "colorbar": {
              "outlinewidth": 0,
              "ticks": ""
             }
            },
            "type": "scattercarpet"
           }
          ],
          "scattergeo": [
           {
            "marker": {
             "colorbar": {
              "outlinewidth": 0,
              "ticks": ""
             }
            },
            "type": "scattergeo"
           }
          ],
          "scattergl": [
           {
            "marker": {
             "colorbar": {
              "outlinewidth": 0,
              "ticks": ""
             }
            },
            "type": "scattergl"
           }
          ],
          "scattermapbox": [
           {
            "marker": {
             "colorbar": {
              "outlinewidth": 0,
              "ticks": ""
             }
            },
            "type": "scattermapbox"
           }
          ],
          "scatterpolar": [
           {
            "marker": {
             "colorbar": {
              "outlinewidth": 0,
              "ticks": ""
             }
            },
            "type": "scatterpolar"
           }
          ],
          "scatterpolargl": [
           {
            "marker": {
             "colorbar": {
              "outlinewidth": 0,
              "ticks": ""
             }
            },
            "type": "scatterpolargl"
           }
          ],
          "scatterternary": [
           {
            "marker": {
             "colorbar": {
              "outlinewidth": 0,
              "ticks": ""
             }
            },
            "type": "scatterternary"
           }
          ],
          "surface": [
           {
            "colorbar": {
             "outlinewidth": 0,
             "ticks": ""
            },
            "colorscale": [
             [
              0,
              "#0d0887"
             ],
             [
              0.1111111111111111,
              "#46039f"
             ],
             [
              0.2222222222222222,
              "#7201a8"
             ],
             [
              0.3333333333333333,
              "#9c179e"
             ],
             [
              0.4444444444444444,
              "#bd3786"
             ],
             [
              0.5555555555555556,
              "#d8576b"
             ],
             [
              0.6666666666666666,
              "#ed7953"
             ],
             [
              0.7777777777777778,
              "#fb9f3a"
             ],
             [
              0.8888888888888888,
              "#fdca26"
             ],
             [
              1,
              "#f0f921"
             ]
            ],
            "type": "surface"
           }
          ],
          "table": [
           {
            "cells": {
             "fill": {
              "color": "#EBF0F8"
             },
             "line": {
              "color": "white"
             }
            },
            "header": {
             "fill": {
              "color": "#C8D4E3"
             },
             "line": {
              "color": "white"
             }
            },
            "type": "table"
           }
          ]
         },
         "layout": {
          "annotationdefaults": {
           "arrowcolor": "#2a3f5f",
           "arrowhead": 0,
           "arrowwidth": 1
          },
          "autotypenumbers": "strict",
          "coloraxis": {
           "colorbar": {
            "outlinewidth": 0,
            "ticks": ""
           }
          },
          "colorscale": {
           "diverging": [
            [
             0,
             "#8e0152"
            ],
            [
             0.1,
             "#c51b7d"
            ],
            [
             0.2,
             "#de77ae"
            ],
            [
             0.3,
             "#f1b6da"
            ],
            [
             0.4,
             "#fde0ef"
            ],
            [
             0.5,
             "#f7f7f7"
            ],
            [
             0.6,
             "#e6f5d0"
            ],
            [
             0.7,
             "#b8e186"
            ],
            [
             0.8,
             "#7fbc41"
            ],
            [
             0.9,
             "#4d9221"
            ],
            [
             1,
             "#276419"
            ]
           ],
           "sequential": [
            [
             0,
             "#0d0887"
            ],
            [
             0.1111111111111111,
             "#46039f"
            ],
            [
             0.2222222222222222,
             "#7201a8"
            ],
            [
             0.3333333333333333,
             "#9c179e"
            ],
            [
             0.4444444444444444,
             "#bd3786"
            ],
            [
             0.5555555555555556,
             "#d8576b"
            ],
            [
             0.6666666666666666,
             "#ed7953"
            ],
            [
             0.7777777777777778,
             "#fb9f3a"
            ],
            [
             0.8888888888888888,
             "#fdca26"
            ],
            [
             1,
             "#f0f921"
            ]
           ],
           "sequentialminus": [
            [
             0,
             "#0d0887"
            ],
            [
             0.1111111111111111,
             "#46039f"
            ],
            [
             0.2222222222222222,
             "#7201a8"
            ],
            [
             0.3333333333333333,
             "#9c179e"
            ],
            [
             0.4444444444444444,
             "#bd3786"
            ],
            [
             0.5555555555555556,
             "#d8576b"
            ],
            [
             0.6666666666666666,
             "#ed7953"
            ],
            [
             0.7777777777777778,
             "#fb9f3a"
            ],
            [
             0.8888888888888888,
             "#fdca26"
            ],
            [
             1,
             "#f0f921"
            ]
           ]
          },
          "colorway": [
           "#636efa",
           "#EF553B",
           "#00cc96",
           "#ab63fa",
           "#FFA15A",
           "#19d3f3",
           "#FF6692",
           "#B6E880",
           "#FF97FF",
           "#FECB52"
          ],
          "font": {
           "color": "#2a3f5f"
          },
          "geo": {
           "bgcolor": "white",
           "lakecolor": "white",
           "landcolor": "#E5ECF6",
           "showlakes": true,
           "showland": true,
           "subunitcolor": "white"
          },
          "hoverlabel": {
           "align": "left"
          },
          "hovermode": "closest",
          "mapbox": {
           "style": "light"
          },
          "paper_bgcolor": "white",
          "plot_bgcolor": "#E5ECF6",
          "polar": {
           "angularaxis": {
            "gridcolor": "white",
            "linecolor": "white",
            "ticks": ""
           },
           "bgcolor": "#E5ECF6",
           "radialaxis": {
            "gridcolor": "white",
            "linecolor": "white",
            "ticks": ""
           }
          },
          "scene": {
           "xaxis": {
            "backgroundcolor": "#E5ECF6",
            "gridcolor": "white",
            "gridwidth": 2,
            "linecolor": "white",
            "showbackground": true,
            "ticks": "",
            "zerolinecolor": "white"
           },
           "yaxis": {
            "backgroundcolor": "#E5ECF6",
            "gridcolor": "white",
            "gridwidth": 2,
            "linecolor": "white",
            "showbackground": true,
            "ticks": "",
            "zerolinecolor": "white"
           },
           "zaxis": {
            "backgroundcolor": "#E5ECF6",
            "gridcolor": "white",
            "gridwidth": 2,
            "linecolor": "white",
            "showbackground": true,
            "ticks": "",
            "zerolinecolor": "white"
           }
          },
          "shapedefaults": {
           "line": {
            "color": "#2a3f5f"
           }
          },
          "ternary": {
           "aaxis": {
            "gridcolor": "white",
            "linecolor": "white",
            "ticks": ""
           },
           "baxis": {
            "gridcolor": "white",
            "linecolor": "white",
            "ticks": ""
           },
           "bgcolor": "#E5ECF6",
           "caxis": {
            "gridcolor": "white",
            "linecolor": "white",
            "ticks": ""
           }
          },
          "title": {
           "x": 0.05
          },
          "xaxis": {
           "automargin": true,
           "gridcolor": "white",
           "linecolor": "white",
           "ticks": "",
           "title": {
            "standoff": 15
           },
           "zerolinecolor": "white",
           "zerolinewidth": 2
          },
          "yaxis": {
           "automargin": true,
           "gridcolor": "white",
           "linecolor": "white",
           "ticks": "",
           "title": {
            "standoff": 15
           },
           "zerolinecolor": "white",
           "zerolinewidth": 2
          }
         }
        },
        "xaxis": {
         "anchor": "y",
         "domain": [
          0,
          1
         ],
         "title": {
          "text": "min_return_ratio"
         }
        },
        "yaxis": {
         "anchor": "x",
         "domain": [
          0,
          1
         ],
         "title": {
          "text": "Sharpe Ratio"
         }
        }
       }
      }
     },
     "metadata": {},
     "output_type": "display_data"
    }
   ],
   "source": [
    "\n",
    "fig = px.line(results_df, x='min_return_ratio', y=\"Sharpe Ratio\")\n",
    "fig.show()"
   ]
  },
  {
   "cell_type": "code",
   "execution_count": null,
   "metadata": {},
   "outputs": [],
   "source": [
    "results_df = param_tune(1.0, 2.5, 10, PortfolioStrategy.SINGLE_FACTOR)\n"
   ]
  }
 ],
 "metadata": {
  "kernelspec": {
   "display_name": "Python 3.11.5 ('.venv': venv)",
   "language": "python",
   "name": "python3"
  },
  "language_info": {
   "codemirror_mode": {
    "name": "ipython",
    "version": 3
   },
   "file_extension": ".py",
   "mimetype": "text/x-python",
   "name": "python",
   "nbconvert_exporter": "python",
   "pygments_lexer": "ipython3",
   "version": "3.11.5"
  },
  "orig_nbformat": 4,
  "vscode": {
   "interpreter": {
    "hash": "99a701d0436cf635a089e7b881d4b76e76c29ad9e3222377ea144bd8b2c2f336"
   }
  }
 },
 "nbformat": 4,
 "nbformat_minor": 2
}
