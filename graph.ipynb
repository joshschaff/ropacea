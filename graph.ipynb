{
 "cells": [
  {
   "cell_type": "code",
   "execution_count": 1,
   "metadata": {},
   "outputs": [],
   "source": [
    "from datetime import date\n",
    "\n",
    "from ropacea.backtest import BacktestResult, backtest_loop, summarize_results\n",
    "from ropacea.portfolios import PortfolioStrategy\n",
    "\n",
    "import pandas as pd\n",
    "\n",
    "import plotly.express as px \n",
    "\n",
    "\n",
    "START_DATE = date(2017, 1, 1)\n",
    "END_DATE = date(2022, 1, 1)"
   ]
  },
  {
   "cell_type": "code",
   "execution_count": 2,
   "metadata": {},
   "outputs": [
    {
     "name": "stdout",
     "output_type": "stream",
     "text": [
      "mark_date = datetime.date(2017, 1, 1)\n",
      "monthly_portfolio_return = 0.0113\n",
      "risk_free_return = 0.0022\n",
      "mark_date = datetime.date(2017, 2, 1)\n",
      "monthly_portfolio_return = 0.0499\n",
      "risk_free_return = 0.0074\n",
      "mark_date = datetime.date(2017, 3, 1)\n",
      "monthly_portfolio_return = 0.0066\n",
      "risk_free_return = 0.0024\n",
      "mark_date = datetime.date(2017, 4, 1)\n",
      "monthly_portfolio_return = 0.0026\n",
      "risk_free_return = 0.0111\n",
      "mark_date = datetime.date(2017, 5, 1)\n",
      "monthly_portfolio_return = 0.0155\n",
      "risk_free_return = 0.0079\n",
      "mark_date = datetime.date(2017, 6, 1)\n",
      "monthly_portfolio_return = 0.0060\n",
      "risk_free_return = -0.0013\n",
      "mark_date = datetime.date(2017, 7, 1)\n",
      "monthly_portfolio_return = 0.0252\n",
      "risk_free_return = -0.0000\n",
      "mark_date = datetime.date(2017, 8, 1)\n",
      "monthly_portfolio_return = 0.0152\n",
      "risk_free_return = 0.0171\n",
      "mark_date = datetime.date(2017, 9, 1)\n",
      "monthly_portfolio_return = 0.0155\n",
      "risk_free_return = -0.0172\n",
      "mark_date = datetime.date(2017, 10, 1)\n",
      "monthly_portfolio_return = 0.0492\n",
      "risk_free_return = -0.0011\n",
      "mark_date = datetime.date(2017, 11, 1)\n",
      "monthly_portfolio_return = 0.0266\n",
      "risk_free_return = -0.0026\n",
      "mark_date = datetime.date(2017, 12, 1)\n",
      "monthly_portfolio_return = 0.0157\n",
      "risk_free_return = 0.0022\n",
      "mark_date = datetime.date(2018, 1, 1)\n",
      "monthly_portfolio_return = 0.0498\n",
      "risk_free_return = -0.0236\n",
      "mark_date = datetime.date(2018, 2, 1)\n",
      "monthly_portfolio_return = -0.0317\n",
      "risk_free_return = -0.0130\n",
      "mark_date = datetime.date(2018, 3, 1)\n",
      "monthly_portfolio_return = -0.0265\n",
      "risk_free_return = 0.0128\n",
      "mark_date = datetime.date(2018, 4, 1)\n",
      "monthly_portfolio_return = 0.0081\n",
      "risk_free_return = -0.0155\n",
      "mark_date = datetime.date(2018, 5, 1)\n",
      "monthly_portfolio_return = 0.0322\n",
      "risk_free_return = 0.0096\n",
      "mark_date = datetime.date(2018, 6, 1)\n",
      "monthly_portfolio_return = 0.0013\n",
      "risk_free_return = 0.0023\n",
      "mark_date = datetime.date(2018, 7, 1)\n",
      "monthly_portfolio_return = 0.0491\n",
      "risk_free_return = -0.0051\n",
      "mark_date = datetime.date(2018, 8, 1)\n",
      "monthly_portfolio_return = 0.0524\n",
      "risk_free_return = 0.0101\n",
      "mark_date = datetime.date(2018, 9, 1)\n",
      "monthly_portfolio_return = 0.0108\n",
      "risk_free_return = -0.0148\n",
      "mark_date = datetime.date(2018, 10, 1)\n",
      "monthly_portfolio_return = -0.0337\n",
      "risk_free_return = -0.0043\n",
      "mark_date = datetime.date(2018, 11, 1)\n",
      "monthly_portfolio_return = 0.0070\n",
      "risk_free_return = 0.0149\n",
      "mark_date = datetime.date(2018, 12, 1)\n",
      "monthly_portfolio_return = -0.0861\n",
      "risk_free_return = 0.0286\n",
      "mark_date = datetime.date(2019, 1, 1)\n",
      "monthly_portfolio_return = 0.0459\n",
      "risk_free_return = 0.0071\n",
      "mark_date = datetime.date(2019, 2, 1)\n",
      "monthly_portfolio_return = 0.0477\n",
      "risk_free_return = -0.0043\n",
      "mark_date = datetime.date(2019, 3, 1)\n",
      "monthly_portfolio_return = 0.0297\n",
      "risk_free_return = 0.0294\n",
      "mark_date = datetime.date(2019, 4, 1)\n",
      "monthly_portfolio_return = 0.0427\n",
      "risk_free_return = -0.0062\n",
      "mark_date = datetime.date(2019, 5, 1)\n",
      "monthly_portfolio_return = -0.0637\n",
      "risk_free_return = 0.0319\n",
      "mark_date = datetime.date(2019, 6, 1)\n",
      "monthly_portfolio_return = 0.0788\n",
      "risk_free_return = 0.0121\n",
      "mark_date = datetime.date(2019, 7, 1)\n",
      "monthly_portfolio_return = 0.0167\n",
      "risk_free_return = 0.0034\n",
      "mark_date = datetime.date(2019, 8, 1)\n",
      "monthly_portfolio_return = -0.0137\n",
      "risk_free_return = 0.0403\n",
      "mark_date = datetime.date(2019, 9, 1)\n",
      "monthly_portfolio_return = 0.0261\n",
      "risk_free_return = -0.0139\n",
      "mark_date = datetime.date(2019, 10, 1)\n",
      "monthly_portfolio_return = 0.0300\n",
      "risk_free_return = -0.0007\n",
      "mark_date = datetime.date(2019, 11, 1)\n",
      "monthly_portfolio_return = 0.0439\n",
      "risk_free_return = -0.0074\n",
      "mark_date = datetime.date(2019, 12, 1)\n",
      "monthly_portfolio_return = 0.0418\n",
      "risk_free_return = -0.0113\n",
      "mark_date = datetime.date(2020, 1, 1)\n",
      "monthly_portfolio_return = 0.0051\n",
      "risk_free_return = 0.0392\n",
      "mark_date = datetime.date(2020, 2, 1)\n",
      "monthly_portfolio_return = -0.0903\n",
      "risk_free_return = 0.0299\n",
      "mark_date = datetime.date(2020, 3, 1)\n",
      "monthly_portfolio_return = -0.0797\n",
      "risk_free_return = 0.0397\n",
      "mark_date = datetime.date(2020, 4, 1)\n",
      "monthly_portfolio_return = 0.1250\n",
      "risk_free_return = 0.0050\n",
      "mark_date = datetime.date(2020, 5, 1)\n",
      "monthly_portfolio_return = 0.0368\n",
      "risk_free_return = 0.0007\n",
      "mark_date = datetime.date(2020, 6, 1)\n",
      "monthly_portfolio_return = 0.0353\n",
      "risk_free_return = 0.0004\n",
      "mark_date = datetime.date(2020, 7, 1)\n",
      "monthly_portfolio_return = 0.0528\n",
      "risk_free_return = 0.0128\n",
      "mark_date = datetime.date(2020, 8, 1)\n",
      "monthly_portfolio_return = 0.1002\n",
      "risk_free_return = -0.0147\n",
      "mark_date = datetime.date(2020, 9, 1)\n",
      "monthly_portfolio_return = -0.0471\n",
      "risk_free_return = 0.0026\n",
      "mark_date = datetime.date(2020, 10, 1)\n",
      "monthly_portfolio_return = -0.0498\n",
      "risk_free_return = -0.0173\n",
      "mark_date = datetime.date(2020, 11, 1)\n",
      "monthly_portfolio_return = 0.0963\n",
      "risk_free_return = 0.0040\n",
      "mark_date = datetime.date(2020, 12, 1)\n",
      "monthly_portfolio_return = 0.0550\n",
      "risk_free_return = -0.0050\n",
      "mark_date = datetime.date(2021, 1, 1)\n",
      "monthly_portfolio_return = -0.0010\n",
      "risk_free_return = -0.0107\n",
      "mark_date = datetime.date(2021, 2, 1)\n",
      "monthly_portfolio_return = 0.0091\n",
      "risk_free_return = -0.0254\n",
      "mark_date = datetime.date(2021, 3, 1)\n",
      "monthly_portfolio_return = 0.0341\n",
      "risk_free_return = -0.0293\n",
      "mark_date = datetime.date(2021, 4, 1)\n",
      "monthly_portfolio_return = 0.0413\n",
      "risk_free_return = 0.0119\n",
      "mark_date = datetime.date(2021, 5, 1)\n",
      "monthly_portfolio_return = 0.0027\n",
      "risk_free_return = 0.0034\n",
      "mark_date = datetime.date(2021, 6, 1)\n",
      "monthly_portfolio_return = 0.0461\n",
      "risk_free_return = 0.0141\n",
      "mark_date = datetime.date(2021, 7, 1)\n",
      "monthly_portfolio_return = 0.0330\n",
      "risk_free_return = 0.0238\n",
      "mark_date = datetime.date(2021, 8, 1)\n",
      "monthly_portfolio_return = 0.0359\n",
      "risk_free_return = -0.0048\n",
      "mark_date = datetime.date(2021, 9, 1)\n",
      "monthly_portfolio_return = -0.0460\n",
      "risk_free_return = -0.0154\n",
      "mark_date = datetime.date(2021, 10, 1)\n",
      "monthly_portfolio_return = 0.0840\n",
      "risk_free_return = -0.0049\n",
      "mark_date = datetime.date(2021, 11, 1)\n",
      "monthly_portfolio_return = 0.0173\n",
      "risk_free_return = 0.0125\n",
      "mark_date = datetime.date(2021, 12, 1)\n",
      "monthly_portfolio_return = 0.0405\n",
      "risk_free_return = -0.0047\n"
     ]
    }
   ],
   "source": [
    "market_results = backtest_loop(\n",
    "    start_date=START_DATE,\n",
    "    end_date=END_DATE,\n",
    "    strategy=PortfolioStrategy.VALUE_WEGHTED\n",
    ")"
   ]
  },
  {
   "cell_type": "code",
   "execution_count": 3,
   "metadata": {},
   "outputs": [
    {
     "name": "stdout",
     "output_type": "stream",
     "text": [
      "mark_date = datetime.date(2017, 1, 1)\n",
      "Set parameter Username\n",
      "monthly_portfolio_return = 0.0033\n",
      "risk_free_return = 0.0022\n",
      "mark_date = datetime.date(2017, 2, 1)\n",
      "monthly_portfolio_return = 0.0447\n",
      "risk_free_return = 0.0074\n",
      "mark_date = datetime.date(2017, 3, 1)\n"
     ]
    },
    {
     "name": "stderr",
     "output_type": "stream",
     "text": [
      "/home/josh/Documents/GitHub/ropacea/ropacea/scs.py:32: RuntimeWarning: divide by zero encountered in scalar divide\n",
      "  alpha = max(0, (gamma - n_assets) / (delta * n_obs))\n",
      "/home/josh/Documents/GitHub/ropacea/ropacea/scs.py:32: RuntimeWarning: divide by zero encountered in scalar divide\n",
      "  alpha = max(0, (gamma - n_assets) / (delta * n_obs))\n",
      "/home/josh/Documents/GitHub/ropacea/ropacea/scs.py:32: RuntimeWarning: divide by zero encountered in scalar divide\n",
      "  alpha = max(0, (gamma - n_assets) / (delta * n_obs))\n"
     ]
    },
    {
     "name": "stdout",
     "output_type": "stream",
     "text": [
      "monthly_portfolio_return = 0.0067\n",
      "risk_free_return = 0.0024\n",
      "mark_date = datetime.date(2017, 4, 1)\n",
      "monthly_portfolio_return = 0.0035\n",
      "risk_free_return = 0.0111\n",
      "mark_date = datetime.date(2017, 5, 1)\n",
      "monthly_portfolio_return = 0.0132\n",
      "risk_free_return = 0.0079\n",
      "mark_date = datetime.date(2017, 6, 1)\n"
     ]
    },
    {
     "name": "stderr",
     "output_type": "stream",
     "text": [
      "/home/josh/Documents/GitHub/ropacea/ropacea/scs.py:32: RuntimeWarning: divide by zero encountered in scalar divide\n",
      "  alpha = max(0, (gamma - n_assets) / (delta * n_obs))\n",
      "/home/josh/Documents/GitHub/ropacea/ropacea/scs.py:32: RuntimeWarning: divide by zero encountered in scalar divide\n",
      "  alpha = max(0, (gamma - n_assets) / (delta * n_obs))\n",
      "/home/josh/Documents/GitHub/ropacea/ropacea/scs.py:32: RuntimeWarning: divide by zero encountered in scalar divide\n",
      "  alpha = max(0, (gamma - n_assets) / (delta * n_obs))\n"
     ]
    },
    {
     "name": "stdout",
     "output_type": "stream",
     "text": [
      "monthly_portfolio_return = 0.0077\n",
      "risk_free_return = -0.0013\n",
      "mark_date = datetime.date(2017, 7, 1)\n",
      "monthly_portfolio_return = 0.0195\n",
      "risk_free_return = -0.0000\n",
      "mark_date = datetime.date(2017, 8, 1)\n",
      "monthly_portfolio_return = -0.0090\n",
      "risk_free_return = 0.0171\n",
      "mark_date = datetime.date(2017, 9, 1)\n"
     ]
    },
    {
     "name": "stderr",
     "output_type": "stream",
     "text": [
      "/home/josh/Documents/GitHub/ropacea/ropacea/scs.py:32: RuntimeWarning: divide by zero encountered in scalar divide\n",
      "  alpha = max(0, (gamma - n_assets) / (delta * n_obs))\n",
      "/home/josh/Documents/GitHub/ropacea/ropacea/scs.py:32: RuntimeWarning: divide by zero encountered in scalar divide\n",
      "  alpha = max(0, (gamma - n_assets) / (delta * n_obs))\n",
      "/home/josh/Documents/GitHub/ropacea/ropacea/scs.py:32: RuntimeWarning: divide by zero encountered in scalar divide\n",
      "  alpha = max(0, (gamma - n_assets) / (delta * n_obs))\n"
     ]
    },
    {
     "name": "stdout",
     "output_type": "stream",
     "text": [
      "monthly_portfolio_return = 0.0351\n",
      "risk_free_return = -0.0172\n",
      "mark_date = datetime.date(2017, 10, 1)\n",
      "monthly_portfolio_return = 0.0389\n",
      "risk_free_return = -0.0011\n",
      "mark_date = datetime.date(2017, 11, 1)\n",
      "monthly_portfolio_return = 0.0433\n",
      "risk_free_return = -0.0026\n",
      "mark_date = datetime.date(2017, 12, 1)\n"
     ]
    },
    {
     "name": "stderr",
     "output_type": "stream",
     "text": [
      "/home/josh/Documents/GitHub/ropacea/ropacea/scs.py:32: RuntimeWarning: divide by zero encountered in scalar divide\n",
      "  alpha = max(0, (gamma - n_assets) / (delta * n_obs))\n",
      "/home/josh/Documents/GitHub/ropacea/ropacea/scs.py:32: RuntimeWarning: divide by zero encountered in scalar divide\n",
      "  alpha = max(0, (gamma - n_assets) / (delta * n_obs))\n",
      "/home/josh/Documents/GitHub/ropacea/ropacea/scs.py:32: RuntimeWarning: divide by zero encountered in scalar divide\n",
      "  alpha = max(0, (gamma - n_assets) / (delta * n_obs))\n"
     ]
    },
    {
     "name": "stdout",
     "output_type": "stream",
     "text": [
      "monthly_portfolio_return = 0.0134\n",
      "risk_free_return = 0.0022\n",
      "mark_date = datetime.date(2018, 1, 1)\n",
      "monthly_portfolio_return = 0.0375\n",
      "risk_free_return = -0.0236\n",
      "mark_date = datetime.date(2018, 2, 1)\n",
      "monthly_portfolio_return = -0.0825\n",
      "risk_free_return = -0.0130\n",
      "mark_date = datetime.date(2018, 3, 1)\n"
     ]
    },
    {
     "name": "stderr",
     "output_type": "stream",
     "text": [
      "/home/josh/Documents/GitHub/ropacea/ropacea/scs.py:32: RuntimeWarning: divide by zero encountered in scalar divide\n",
      "  alpha = max(0, (gamma - n_assets) / (delta * n_obs))\n",
      "/home/josh/Documents/GitHub/ropacea/ropacea/scs.py:32: RuntimeWarning: divide by zero encountered in scalar divide\n",
      "  alpha = max(0, (gamma - n_assets) / (delta * n_obs))\n",
      "/home/josh/Documents/GitHub/ropacea/ropacea/scs.py:32: RuntimeWarning: divide by zero encountered in scalar divide\n",
      "  alpha = max(0, (gamma - n_assets) / (delta * n_obs))\n"
     ]
    },
    {
     "name": "stdout",
     "output_type": "stream",
     "text": [
      "monthly_portfolio_return = -0.0123\n",
      "risk_free_return = 0.0128\n",
      "mark_date = datetime.date(2018, 4, 1)\n",
      "monthly_portfolio_return = 0.0342\n",
      "risk_free_return = -0.0155\n",
      "mark_date = datetime.date(2018, 5, 1)\n",
      "monthly_portfolio_return = 0.0162\n",
      "risk_free_return = 0.0096\n",
      "mark_date = datetime.date(2018, 6, 1)\n"
     ]
    },
    {
     "name": "stderr",
     "output_type": "stream",
     "text": [
      "/home/josh/Documents/GitHub/ropacea/ropacea/scs.py:32: RuntimeWarning: divide by zero encountered in scalar divide\n",
      "  alpha = max(0, (gamma - n_assets) / (delta * n_obs))\n",
      "/home/josh/Documents/GitHub/ropacea/ropacea/scs.py:32: RuntimeWarning: divide by zero encountered in scalar divide\n",
      "  alpha = max(0, (gamma - n_assets) / (delta * n_obs))\n",
      "/home/josh/Documents/GitHub/ropacea/ropacea/scs.py:32: RuntimeWarning: divide by zero encountered in scalar divide\n",
      "  alpha = max(0, (gamma - n_assets) / (delta * n_obs))\n"
     ]
    },
    {
     "name": "stdout",
     "output_type": "stream",
     "text": [
      "monthly_portfolio_return = 0.0105\n",
      "risk_free_return = 0.0023\n",
      "mark_date = datetime.date(2018, 7, 1)\n",
      "monthly_portfolio_return = 0.0649\n",
      "risk_free_return = -0.0051\n",
      "mark_date = datetime.date(2018, 8, 1)\n",
      "monthly_portfolio_return = 0.0501\n",
      "risk_free_return = 0.0101\n",
      "mark_date = datetime.date(2018, 9, 1)\n"
     ]
    },
    {
     "name": "stderr",
     "output_type": "stream",
     "text": [
      "/home/josh/Documents/GitHub/ropacea/ropacea/scs.py:32: RuntimeWarning: divide by zero encountered in scalar divide\n",
      "  alpha = max(0, (gamma - n_assets) / (delta * n_obs))\n",
      "/home/josh/Documents/GitHub/ropacea/ropacea/scs.py:32: RuntimeWarning: divide by zero encountered in scalar divide\n",
      "  alpha = max(0, (gamma - n_assets) / (delta * n_obs))\n",
      "/home/josh/Documents/GitHub/ropacea/ropacea/scs.py:32: RuntimeWarning: divide by zero encountered in scalar divide\n",
      "  alpha = max(0, (gamma - n_assets) / (delta * n_obs))\n"
     ]
    },
    {
     "name": "stdout",
     "output_type": "stream",
     "text": [
      "monthly_portfolio_return = 0.0184\n",
      "risk_free_return = -0.0148\n",
      "mark_date = datetime.date(2018, 10, 1)\n",
      "monthly_portfolio_return = 0.0036\n",
      "risk_free_return = -0.0043\n",
      "mark_date = datetime.date(2018, 11, 1)\n",
      "monthly_portfolio_return = 0.0594\n",
      "risk_free_return = 0.0149\n",
      "mark_date = datetime.date(2018, 12, 1)\n"
     ]
    },
    {
     "name": "stderr",
     "output_type": "stream",
     "text": [
      "/home/josh/Documents/GitHub/ropacea/ropacea/scs.py:32: RuntimeWarning: divide by zero encountered in scalar divide\n",
      "  alpha = max(0, (gamma - n_assets) / (delta * n_obs))\n",
      "/home/josh/Documents/GitHub/ropacea/ropacea/scs.py:32: RuntimeWarning: divide by zero encountered in scalar divide\n",
      "  alpha = max(0, (gamma - n_assets) / (delta * n_obs))\n",
      "/home/josh/Documents/GitHub/ropacea/ropacea/scs.py:32: RuntimeWarning: divide by zero encountered in scalar divide\n",
      "  alpha = max(0, (gamma - n_assets) / (delta * n_obs))\n"
     ]
    },
    {
     "name": "stdout",
     "output_type": "stream",
     "text": [
      "monthly_portfolio_return = -0.0661\n",
      "risk_free_return = 0.0286\n",
      "mark_date = datetime.date(2019, 1, 1)\n",
      "monthly_portfolio_return = 0.0476\n",
      "risk_free_return = 0.0071\n",
      "mark_date = datetime.date(2019, 2, 1)\n",
      "monthly_portfolio_return = 0.0520\n",
      "risk_free_return = -0.0043\n",
      "mark_date = datetime.date(2019, 3, 1)\n"
     ]
    },
    {
     "name": "stderr",
     "output_type": "stream",
     "text": [
      "/home/josh/Documents/GitHub/ropacea/ropacea/scs.py:32: RuntimeWarning: divide by zero encountered in scalar divide\n",
      "  alpha = max(0, (gamma - n_assets) / (delta * n_obs))\n",
      "/home/josh/Documents/GitHub/ropacea/ropacea/scs.py:32: RuntimeWarning: divide by zero encountered in scalar divide\n",
      "  alpha = max(0, (gamma - n_assets) / (delta * n_obs))\n",
      "/home/josh/Documents/GitHub/ropacea/ropacea/scs.py:32: RuntimeWarning: divide by zero encountered in scalar divide\n",
      "  alpha = max(0, (gamma - n_assets) / (delta * n_obs))\n"
     ]
    },
    {
     "name": "stdout",
     "output_type": "stream",
     "text": [
      "monthly_portfolio_return = 0.0277\n",
      "risk_free_return = 0.0294\n",
      "mark_date = datetime.date(2019, 4, 1)\n",
      "monthly_portfolio_return = 0.0171\n",
      "risk_free_return = -0.0062\n",
      "mark_date = datetime.date(2019, 5, 1)\n",
      "monthly_portfolio_return = -0.0282\n",
      "risk_free_return = 0.0319\n",
      "mark_date = datetime.date(2019, 6, 1)\n"
     ]
    },
    {
     "name": "stderr",
     "output_type": "stream",
     "text": [
      "/home/josh/Documents/GitHub/ropacea/ropacea/scs.py:32: RuntimeWarning: divide by zero encountered in scalar divide\n",
      "  alpha = max(0, (gamma - n_assets) / (delta * n_obs))\n",
      "/home/josh/Documents/GitHub/ropacea/ropacea/scs.py:32: RuntimeWarning: divide by zero encountered in scalar divide\n",
      "  alpha = max(0, (gamma - n_assets) / (delta * n_obs))\n",
      "/home/josh/Documents/GitHub/ropacea/ropacea/scs.py:32: RuntimeWarning: divide by zero encountered in scalar divide\n",
      "  alpha = max(0, (gamma - n_assets) / (delta * n_obs))\n"
     ]
    },
    {
     "name": "stdout",
     "output_type": "stream",
     "text": [
      "monthly_portfolio_return = 0.0415\n",
      "risk_free_return = 0.0121\n",
      "mark_date = datetime.date(2019, 7, 1)\n",
      "monthly_portfolio_return = 0.0159\n",
      "risk_free_return = 0.0034\n",
      "mark_date = datetime.date(2019, 8, 1)\n",
      "monthly_portfolio_return = 0.0248\n",
      "risk_free_return = 0.0403\n",
      "mark_date = datetime.date(2019, 9, 1)\n"
     ]
    },
    {
     "name": "stderr",
     "output_type": "stream",
     "text": [
      "/home/josh/Documents/GitHub/ropacea/ropacea/scs.py:32: RuntimeWarning: divide by zero encountered in scalar divide\n",
      "  alpha = max(0, (gamma - n_assets) / (delta * n_obs))\n",
      "/home/josh/Documents/GitHub/ropacea/ropacea/scs.py:32: RuntimeWarning: divide by zero encountered in scalar divide\n",
      "  alpha = max(0, (gamma - n_assets) / (delta * n_obs))\n",
      "/home/josh/Documents/GitHub/ropacea/ropacea/scs.py:32: RuntimeWarning: divide by zero encountered in scalar divide\n",
      "  alpha = max(0, (gamma - n_assets) / (delta * n_obs))\n"
     ]
    },
    {
     "name": "stdout",
     "output_type": "stream",
     "text": [
      "monthly_portfolio_return = 0.0066\n",
      "risk_free_return = -0.0139\n",
      "mark_date = datetime.date(2019, 10, 1)\n",
      "monthly_portfolio_return = -0.0021\n",
      "risk_free_return = -0.0007\n",
      "mark_date = datetime.date(2019, 11, 1)\n",
      "monthly_portfolio_return = 0.0162\n",
      "risk_free_return = -0.0074\n",
      "mark_date = datetime.date(2019, 12, 1)\n"
     ]
    },
    {
     "name": "stderr",
     "output_type": "stream",
     "text": [
      "/home/josh/Documents/GitHub/ropacea/ropacea/scs.py:32: RuntimeWarning: divide by zero encountered in scalar divide\n",
      "  alpha = max(0, (gamma - n_assets) / (delta * n_obs))\n",
      "/home/josh/Documents/GitHub/ropacea/ropacea/scs.py:32: RuntimeWarning: divide by zero encountered in scalar divide\n",
      "  alpha = max(0, (gamma - n_assets) / (delta * n_obs))\n",
      "/home/josh/Documents/GitHub/ropacea/ropacea/scs.py:32: RuntimeWarning: divide by zero encountered in scalar divide\n",
      "  alpha = max(0, (gamma - n_assets) / (delta * n_obs))\n"
     ]
    },
    {
     "name": "stdout",
     "output_type": "stream",
     "text": [
      "monthly_portfolio_return = 0.0427\n",
      "risk_free_return = -0.0113\n",
      "mark_date = datetime.date(2020, 1, 1)\n",
      "monthly_portfolio_return = 0.0296\n",
      "risk_free_return = 0.0392\n",
      "mark_date = datetime.date(2020, 2, 1)\n",
      "monthly_portfolio_return = -0.0903\n",
      "risk_free_return = 0.0299\n",
      "mark_date = datetime.date(2020, 3, 1)\n"
     ]
    },
    {
     "name": "stderr",
     "output_type": "stream",
     "text": [
      "/home/josh/Documents/GitHub/ropacea/ropacea/scs.py:32: RuntimeWarning: divide by zero encountered in scalar divide\n",
      "  alpha = max(0, (gamma - n_assets) / (delta * n_obs))\n",
      "/home/josh/Documents/GitHub/ropacea/ropacea/scs.py:32: RuntimeWarning: divide by zero encountered in scalar divide\n",
      "  alpha = max(0, (gamma - n_assets) / (delta * n_obs))\n",
      "/home/josh/Documents/GitHub/ropacea/ropacea/scs.py:32: RuntimeWarning: divide by zero encountered in scalar divide\n",
      "  alpha = max(0, (gamma - n_assets) / (delta * n_obs))\n",
      "/home/josh/Documents/GitHub/ropacea/ropacea/scs.py:32: RuntimeWarning: divide by zero encountered in scalar divide\n",
      "  alpha = max(0, (gamma - n_assets) / (delta * n_obs))\n",
      "/home/josh/Documents/GitHub/ropacea/ropacea/scs.py:32: RuntimeWarning: divide by zero encountered in scalar divide\n",
      "  alpha = max(0, (gamma - n_assets) / (delta * n_obs))\n"
     ]
    },
    {
     "name": "stdout",
     "output_type": "stream",
     "text": [
      "monthly_portfolio_return = -0.0593\n",
      "risk_free_return = 0.0397\n",
      "mark_date = datetime.date(2020, 4, 1)\n",
      "monthly_portfolio_return = 0.0969\n",
      "risk_free_return = 0.0050\n",
      "mark_date = datetime.date(2020, 5, 1)\n",
      "monthly_portfolio_return = 0.0209\n",
      "risk_free_return = 0.0007\n",
      "mark_date = datetime.date(2020, 6, 1)\n"
     ]
    },
    {
     "name": "stderr",
     "output_type": "stream",
     "text": [
      "/home/josh/Documents/GitHub/ropacea/ropacea/scs.py:32: RuntimeWarning: divide by zero encountered in scalar divide\n",
      "  alpha = max(0, (gamma - n_assets) / (delta * n_obs))\n",
      "/home/josh/Documents/GitHub/ropacea/ropacea/scs.py:32: RuntimeWarning: divide by zero encountered in scalar divide\n",
      "  alpha = max(0, (gamma - n_assets) / (delta * n_obs))\n",
      "/home/josh/Documents/GitHub/ropacea/ropacea/scs.py:32: RuntimeWarning: divide by zero encountered in scalar divide\n",
      "  alpha = max(0, (gamma - n_assets) / (delta * n_obs))\n"
     ]
    },
    {
     "name": "stdout",
     "output_type": "stream",
     "text": [
      "monthly_portfolio_return = 0.0153\n",
      "risk_free_return = 0.0004\n",
      "mark_date = datetime.date(2020, 7, 1)\n",
      "monthly_portfolio_return = 0.0336\n",
      "risk_free_return = 0.0128\n",
      "mark_date = datetime.date(2020, 8, 1)\n",
      "monthly_portfolio_return = 0.0558\n",
      "risk_free_return = -0.0147\n",
      "mark_date = datetime.date(2020, 9, 1)\n"
     ]
    },
    {
     "name": "stderr",
     "output_type": "stream",
     "text": [
      "/home/josh/Documents/GitHub/ropacea/ropacea/scs.py:32: RuntimeWarning: divide by zero encountered in scalar divide\n",
      "  alpha = max(0, (gamma - n_assets) / (delta * n_obs))\n",
      "/home/josh/Documents/GitHub/ropacea/ropacea/scs.py:32: RuntimeWarning: divide by zero encountered in scalar divide\n",
      "  alpha = max(0, (gamma - n_assets) / (delta * n_obs))\n",
      "/home/josh/Documents/GitHub/ropacea/ropacea/scs.py:32: RuntimeWarning: divide by zero encountered in scalar divide\n",
      "  alpha = max(0, (gamma - n_assets) / (delta * n_obs))\n"
     ]
    },
    {
     "name": "stdout",
     "output_type": "stream",
     "text": [
      "monthly_portfolio_return = 0.0002\n",
      "risk_free_return = 0.0026\n",
      "mark_date = datetime.date(2020, 10, 1)\n",
      "monthly_portfolio_return = -0.0517\n",
      "risk_free_return = -0.0173\n",
      "mark_date = datetime.date(2020, 11, 1)\n",
      "monthly_portfolio_return = 0.0832\n",
      "risk_free_return = 0.0040\n",
      "mark_date = datetime.date(2020, 12, 1)\n"
     ]
    },
    {
     "name": "stderr",
     "output_type": "stream",
     "text": [
      "/home/josh/Documents/GitHub/ropacea/ropacea/scs.py:32: RuntimeWarning: divide by zero encountered in scalar divide\n",
      "  alpha = max(0, (gamma - n_assets) / (delta * n_obs))\n",
      "/home/josh/Documents/GitHub/ropacea/ropacea/scs.py:32: RuntimeWarning: divide by zero encountered in scalar divide\n",
      "  alpha = max(0, (gamma - n_assets) / (delta * n_obs))\n",
      "/home/josh/Documents/GitHub/ropacea/ropacea/scs.py:32: RuntimeWarning: divide by zero encountered in scalar divide\n",
      "  alpha = max(0, (gamma - n_assets) / (delta * n_obs))\n"
     ]
    },
    {
     "name": "stdout",
     "output_type": "stream",
     "text": [
      "monthly_portfolio_return = 0.0415\n",
      "risk_free_return = -0.0050\n",
      "mark_date = datetime.date(2021, 1, 1)\n",
      "monthly_portfolio_return = -0.0203\n",
      "risk_free_return = -0.0107\n",
      "mark_date = datetime.date(2021, 2, 1)\n",
      "monthly_portfolio_return = -0.0116\n",
      "risk_free_return = -0.0254\n",
      "mark_date = datetime.date(2021, 3, 1)\n"
     ]
    },
    {
     "name": "stderr",
     "output_type": "stream",
     "text": [
      "/home/josh/Documents/GitHub/ropacea/ropacea/scs.py:32: RuntimeWarning: divide by zero encountered in scalar divide\n",
      "  alpha = max(0, (gamma - n_assets) / (delta * n_obs))\n",
      "/home/josh/Documents/GitHub/ropacea/ropacea/scs.py:32: RuntimeWarning: divide by zero encountered in scalar divide\n",
      "  alpha = max(0, (gamma - n_assets) / (delta * n_obs))\n",
      "/home/josh/Documents/GitHub/ropacea/ropacea/scs.py:32: RuntimeWarning: divide by zero encountered in scalar divide\n",
      "  alpha = max(0, (gamma - n_assets) / (delta * n_obs))\n"
     ]
    },
    {
     "name": "stdout",
     "output_type": "stream",
     "text": [
      "monthly_portfolio_return = 0.0491\n",
      "risk_free_return = -0.0293\n",
      "mark_date = datetime.date(2021, 4, 1)\n",
      "monthly_portfolio_return = 0.0165\n",
      "risk_free_return = 0.0119\n",
      "mark_date = datetime.date(2021, 5, 1)\n",
      "monthly_portfolio_return = 0.0287\n",
      "risk_free_return = 0.0034\n",
      "mark_date = datetime.date(2021, 6, 1)\n",
      "monthly_portfolio_return = 0.0281\n",
      "risk_free_return = 0.0141\n",
      "mark_date = datetime.date(2021, 7, 1)\n"
     ]
    },
    {
     "name": "stderr",
     "output_type": "stream",
     "text": [
      "/home/josh/Documents/GitHub/ropacea/ropacea/scs.py:32: RuntimeWarning: divide by zero encountered in scalar divide\n",
      "  alpha = max(0, (gamma - n_assets) / (delta * n_obs))\n",
      "/home/josh/Documents/GitHub/ropacea/ropacea/scs.py:32: RuntimeWarning: divide by zero encountered in scalar divide\n",
      "  alpha = max(0, (gamma - n_assets) / (delta * n_obs))\n",
      "/home/josh/Documents/GitHub/ropacea/ropacea/scs.py:32: RuntimeWarning: divide by zero encountered in scalar divide\n",
      "  alpha = max(0, (gamma - n_assets) / (delta * n_obs))\n"
     ]
    },
    {
     "name": "stdout",
     "output_type": "stream",
     "text": [
      "monthly_portfolio_return = 0.0423\n",
      "risk_free_return = 0.0238\n",
      "mark_date = datetime.date(2021, 8, 1)\n",
      "monthly_portfolio_return = 0.0245\n",
      "risk_free_return = -0.0048\n",
      "mark_date = datetime.date(2021, 9, 1)\n",
      "monthly_portfolio_return = -0.0511\n",
      "risk_free_return = -0.0154\n",
      "mark_date = datetime.date(2021, 10, 1)\n"
     ]
    },
    {
     "name": "stderr",
     "output_type": "stream",
     "text": [
      "/home/josh/Documents/GitHub/ropacea/ropacea/scs.py:32: RuntimeWarning: divide by zero encountered in scalar divide\n",
      "  alpha = max(0, (gamma - n_assets) / (delta * n_obs))\n",
      "/home/josh/Documents/GitHub/ropacea/ropacea/scs.py:32: RuntimeWarning: divide by zero encountered in scalar divide\n",
      "  alpha = max(0, (gamma - n_assets) / (delta * n_obs))\n",
      "/home/josh/Documents/GitHub/ropacea/ropacea/scs.py:32: RuntimeWarning: divide by zero encountered in scalar divide\n",
      "  alpha = max(0, (gamma - n_assets) / (delta * n_obs))\n"
     ]
    },
    {
     "name": "stdout",
     "output_type": "stream",
     "text": [
      "monthly_portfolio_return = 0.0692\n",
      "risk_free_return = -0.0049\n",
      "mark_date = datetime.date(2021, 11, 1)\n",
      "monthly_portfolio_return = -0.0233\n",
      "risk_free_return = 0.0125\n",
      "mark_date = datetime.date(2021, 12, 1)\n",
      "monthly_portfolio_return = 0.0797\n",
      "risk_free_return = -0.0047\n"
     ]
    },
    {
     "name": "stderr",
     "output_type": "stream",
     "text": [
      "/home/josh/Documents/GitHub/ropacea/ropacea/scs.py:32: RuntimeWarning: divide by zero encountered in scalar divide\n",
      "  alpha = max(0, (gamma - n_assets) / (delta * n_obs))\n"
     ]
    }
   ],
   "source": [
    "min_risk_results = backtest_loop(\n",
    "    start_date=START_DATE,\n",
    "    end_date=END_DATE,\n",
    "    strategy=PortfolioStrategy.SAMPLE_COVARIANCE\n",
    ")"
   ]
  },
  {
   "cell_type": "code",
   "execution_count": 4,
   "metadata": {},
   "outputs": [
    {
     "name": "stdout",
     "output_type": "stream",
     "text": [
      "========== SUMMARY ==========\n",
      "monthly_returns_bp_mean = 140.87\n",
      "monthly_returns_bp_std = 439.36\n",
      "annualized_mean_pct = 18.28\n",
      "annualized_std_pct = 15.22\n",
      "sharpe_ratio = 1.20\n"
     ]
    }
   ],
   "source": [
    "summarize_results(min_risk_results)"
   ]
  },
  {
   "cell_type": "code",
   "execution_count": 5,
   "metadata": {},
   "outputs": [
    {
     "name": "stdout",
     "output_type": "stream",
     "text": [
      "========== SUMMARY ==========\n",
      "monthly_returns_bp_mean = 159.40\n",
      "monthly_returns_bp_std = 501.31\n",
      "annualized_mean_pct = 20.90\n",
      "annualized_std_pct = 17.37\n",
      "sharpe_ratio = 1.20\n"
     ]
    }
   ],
   "source": [
    "summarize_results(market_results)"
   ]
  },
  {
   "cell_type": "code",
   "execution_count": 6,
   "metadata": {},
   "outputs": [],
   "source": [
    "\n",
    "mark_dates = [result.mark_date for result in market_results]\n",
    "results = pd.DataFrame({'Mark Date': mark_dates})"
   ]
  },
  {
   "cell_type": "code",
   "execution_count": 7,
   "metadata": {},
   "outputs": [],
   "source": [
    "\n",
    "cumulative_market = 1\n",
    "cumulative_maret_returns = []\n",
    "for result in market_results:\n",
    "    cumulative_market *= (1+result.excess_return)\n",
    "    cumulative_maret_returns.append(cumulative_market -1)\n",
    "\n",
    "results['Market'] = cumulative_maret_returns\n",
    "\n",
    "\n",
    "cumulative_min_risk = 1\n",
    "cumulative_min_risk_returns = []\n",
    "for result in min_risk_results:\n",
    "    cumulative_min_risk *= (1+result.excess_return)\n",
    "    cumulative_min_risk_returns.append(cumulative_min_risk -1)\n",
    "\n",
    "results['Min Var'] = cumulative_min_risk_returns"
   ]
  },
  {
   "cell_type": "code",
   "execution_count": 8,
   "metadata": {},
   "outputs": [
    {
     "data": {
      "application/vnd.plotly.v1+json": {
       "config": {
        "plotlyServerURL": "https://plot.ly"
       },
       "data": [
        {
         "hovertemplate": "variable=Min Var<br>Mark Date=%{x}<br>value=%{y}<extra></extra>",
         "legendgroup": "Min Var",
         "line": {
          "color": "#636efa",
          "dash": "solid"
         },
         "marker": {
          "symbol": "circle"
         },
         "mode": "lines",
         "name": "Min Var",
         "orientation": "v",
         "showlegend": true,
         "type": "scatter",
         "x": [
          "2017-01-01",
          "2017-02-01",
          "2017-03-01",
          "2017-04-01",
          "2017-05-01",
          "2017-06-01",
          "2017-07-01",
          "2017-08-01",
          "2017-09-01",
          "2017-10-01",
          "2017-11-01",
          "2017-12-01",
          "2018-01-01",
          "2018-02-01",
          "2018-03-01",
          "2018-04-01",
          "2018-05-01",
          "2018-06-01",
          "2018-07-01",
          "2018-08-01",
          "2018-09-01",
          "2018-10-01",
          "2018-11-01",
          "2018-12-01",
          "2019-01-01",
          "2019-02-01",
          "2019-03-01",
          "2019-04-01",
          "2019-05-01",
          "2019-06-01",
          "2019-07-01",
          "2019-08-01",
          "2019-09-01",
          "2019-10-01",
          "2019-11-01",
          "2019-12-01",
          "2020-01-01",
          "2020-02-01",
          "2020-03-01",
          "2020-04-01",
          "2020-05-01",
          "2020-06-01",
          "2020-07-01",
          "2020-08-01",
          "2020-09-01",
          "2020-10-01",
          "2020-11-01",
          "2020-12-01",
          "2021-01-01",
          "2021-02-01",
          "2021-03-01",
          "2021-04-01",
          "2021-05-01",
          "2021-06-01",
          "2021-07-01",
          "2021-08-01",
          "2021-09-01",
          "2021-10-01",
          "2021-11-01",
          "2021-12-01"
         ],
         "xaxis": "x",
         "y": [
          0.0011247924764554718,
          0.03847204417111061,
          0.042897355576528406,
          0.03504784441909248,
          0.040585125074046324,
          0.04997640358439104,
          0.07047059519473287,
          0.04249130187541472,
          0.09692668406435478,
          0.14080171163119304,
          0.19314107332630992,
          0.20645533811889627,
          0.2802119026799126,
          0.1911778932945758,
          0.16133341737728468,
          0.21900638771683822,
          0.22704197254610947,
          0.2371023743651206,
          0.3237341189197771,
          0.3767313682347837,
          0.42239478969735234,
          0.43366071815421847,
          0.4974686539206019,
          0.3556943477240311,
          0.41049657437470377,
          0.489909774749953,
          0.4873438831456087,
          0.5219731216840737,
          0.43059653152830246,
          0.4727565735600159,
          0.49114575217917733,
          0.4679406259637653,
          0.4979247012706509,
          0.4959582632657371,
          0.5313097451545519,
          0.613976371456229,
          0.5985055049764532,
          0.406350709713601,
          0.26704960364150265,
          0.38344272012476455,
          0.41142578026387255,
          0.4324551098219038,
          0.4622846264543372,
          0.5653691292935166,
          0.5616922043917689,
          0.508042876474998,
          0.6274469784497463,
          0.7029940799009016,
          0.6866915950539727,
          0.7099209686803736,
          0.8440975068702516,
          0.852643606771547,
          0.8993561416839317,
          0.9259526565371725,
          0.9614583204010867,
          1.018922273273787,
          0.9469699273704602,
          1.09131115367683,
          1.0164718939823532,
          1.1866694498492603
         ],
         "yaxis": "y"
        },
        {
         "hovertemplate": "variable=Market<br>Mark Date=%{x}<br>value=%{y}<extra></extra>",
         "legendgroup": "Market",
         "line": {
          "color": "#EF553B",
          "dash": "solid"
         },
         "marker": {
          "symbol": "circle"
         },
         "mode": "lines",
         "name": "Market",
         "orientation": "v",
         "showlegend": true,
         "type": "scatter",
         "x": [
          "2017-01-01",
          "2017-02-01",
          "2017-03-01",
          "2017-04-01",
          "2017-05-01",
          "2017-06-01",
          "2017-07-01",
          "2017-08-01",
          "2017-09-01",
          "2017-10-01",
          "2017-11-01",
          "2017-12-01",
          "2018-01-01",
          "2018-02-01",
          "2018-03-01",
          "2018-04-01",
          "2018-05-01",
          "2018-06-01",
          "2018-07-01",
          "2018-08-01",
          "2018-09-01",
          "2018-10-01",
          "2018-11-01",
          "2018-12-01",
          "2019-01-01",
          "2019-02-01",
          "2019-03-01",
          "2019-04-01",
          "2019-05-01",
          "2019-06-01",
          "2019-07-01",
          "2019-08-01",
          "2019-09-01",
          "2019-10-01",
          "2019-11-01",
          "2019-12-01",
          "2020-01-01",
          "2020-02-01",
          "2020-03-01",
          "2020-04-01",
          "2020-05-01",
          "2020-06-01",
          "2020-07-01",
          "2020-08-01",
          "2020-09-01",
          "2020-10-01",
          "2020-11-01",
          "2020-12-01",
          "2021-01-01",
          "2021-02-01",
          "2021-03-01",
          "2021-04-01",
          "2021-05-01",
          "2021-06-01",
          "2021-07-01",
          "2021-08-01",
          "2021-09-01",
          "2021-10-01",
          "2021-11-01",
          "2021-12-01"
         ],
         "xaxis": "x",
         "y": [
          0.009091627248426049,
          0.051983076973447506,
          0.056385972721283206,
          0.04742030722374113,
          0.05541701929743814,
          0.06311012676286687,
          0.08989129599641354,
          0.08777491267650439,
          0.12325149745773656,
          0.17975018642621765,
          0.21424727085908857,
          0.23057853969045294,
          0.3209558699140014,
          0.29629415861106434,
          0.2453816659325141,
          0.2747465306204282,
          0.30360041910222324,
          0.30241138029606107,
          0.37300324309657973,
          0.43111664168735886,
          0.4677434523905235,
          0.4246679035729177,
          0.4134155581026595,
          0.25138457715745965,
          0.2998292823977162,
          0.3673244888615139,
          0.3677384971357385,
          0.43457845743884094,
          0.297532305177852,
          0.38413991308337203,
          0.40247399103482895,
          0.3266419780646066,
          0.37965426354140264,
          0.422013728405664,
          0.495015142551156,
          0.5744565829664758,
          0.520833812012812,
          0.33796325430259366,
          0.17824103007165593,
          0.31962883357779215,
          0.36718817991820796,
          0.41490270654970995,
          0.47144914611699895,
          0.6405752536665321,
          0.5591742206444368,
          0.5084489046119212,
          0.6477200417031403,
          0.7465263931033643,
          0.7634716339347563,
          0.8242000218876209,
          0.939871771049702,
          0.9970417314647932,
          0.9956144907502607,
          1.0594871326681603,
          1.0783125972883605,
          1.16303624316674,
          1.0968624674591845,
          1.2833620119515103,
          1.294318060458783,
          1.3982271309879675
         ],
         "yaxis": "y"
        }
       ],
       "layout": {
        "legend": {
         "title": {
          "text": "variable"
         },
         "tracegroupgap": 0
        },
        "margin": {
         "t": 60
        },
        "template": {
         "data": {
          "bar": [
           {
            "error_x": {
             "color": "#2a3f5f"
            },
            "error_y": {
             "color": "#2a3f5f"
            },
            "marker": {
             "line": {
              "color": "#E5ECF6",
              "width": 0.5
             },
             "pattern": {
              "fillmode": "overlay",
              "size": 10,
              "solidity": 0.2
             }
            },
            "type": "bar"
           }
          ],
          "barpolar": [
           {
            "marker": {
             "line": {
              "color": "#E5ECF6",
              "width": 0.5
             },
             "pattern": {
              "fillmode": "overlay",
              "size": 10,
              "solidity": 0.2
             }
            },
            "type": "barpolar"
           }
          ],
          "carpet": [
           {
            "aaxis": {
             "endlinecolor": "#2a3f5f",
             "gridcolor": "white",
             "linecolor": "white",
             "minorgridcolor": "white",
             "startlinecolor": "#2a3f5f"
            },
            "baxis": {
             "endlinecolor": "#2a3f5f",
             "gridcolor": "white",
             "linecolor": "white",
             "minorgridcolor": "white",
             "startlinecolor": "#2a3f5f"
            },
            "type": "carpet"
           }
          ],
          "choropleth": [
           {
            "colorbar": {
             "outlinewidth": 0,
             "ticks": ""
            },
            "type": "choropleth"
           }
          ],
          "contour": [
           {
            "colorbar": {
             "outlinewidth": 0,
             "ticks": ""
            },
            "colorscale": [
             [
              0,
              "#0d0887"
             ],
             [
              0.1111111111111111,
              "#46039f"
             ],
             [
              0.2222222222222222,
              "#7201a8"
             ],
             [
              0.3333333333333333,
              "#9c179e"
             ],
             [
              0.4444444444444444,
              "#bd3786"
             ],
             [
              0.5555555555555556,
              "#d8576b"
             ],
             [
              0.6666666666666666,
              "#ed7953"
             ],
             [
              0.7777777777777778,
              "#fb9f3a"
             ],
             [
              0.8888888888888888,
              "#fdca26"
             ],
             [
              1,
              "#f0f921"
             ]
            ],
            "type": "contour"
           }
          ],
          "contourcarpet": [
           {
            "colorbar": {
             "outlinewidth": 0,
             "ticks": ""
            },
            "type": "contourcarpet"
           }
          ],
          "heatmap": [
           {
            "colorbar": {
             "outlinewidth": 0,
             "ticks": ""
            },
            "colorscale": [
             [
              0,
              "#0d0887"
             ],
             [
              0.1111111111111111,
              "#46039f"
             ],
             [
              0.2222222222222222,
              "#7201a8"
             ],
             [
              0.3333333333333333,
              "#9c179e"
             ],
             [
              0.4444444444444444,
              "#bd3786"
             ],
             [
              0.5555555555555556,
              "#d8576b"
             ],
             [
              0.6666666666666666,
              "#ed7953"
             ],
             [
              0.7777777777777778,
              "#fb9f3a"
             ],
             [
              0.8888888888888888,
              "#fdca26"
             ],
             [
              1,
              "#f0f921"
             ]
            ],
            "type": "heatmap"
           }
          ],
          "heatmapgl": [
           {
            "colorbar": {
             "outlinewidth": 0,
             "ticks": ""
            },
            "colorscale": [
             [
              0,
              "#0d0887"
             ],
             [
              0.1111111111111111,
              "#46039f"
             ],
             [
              0.2222222222222222,
              "#7201a8"
             ],
             [
              0.3333333333333333,
              "#9c179e"
             ],
             [
              0.4444444444444444,
              "#bd3786"
             ],
             [
              0.5555555555555556,
              "#d8576b"
             ],
             [
              0.6666666666666666,
              "#ed7953"
             ],
             [
              0.7777777777777778,
              "#fb9f3a"
             ],
             [
              0.8888888888888888,
              "#fdca26"
             ],
             [
              1,
              "#f0f921"
             ]
            ],
            "type": "heatmapgl"
           }
          ],
          "histogram": [
           {
            "marker": {
             "pattern": {
              "fillmode": "overlay",
              "size": 10,
              "solidity": 0.2
             }
            },
            "type": "histogram"
           }
          ],
          "histogram2d": [
           {
            "colorbar": {
             "outlinewidth": 0,
             "ticks": ""
            },
            "colorscale": [
             [
              0,
              "#0d0887"
             ],
             [
              0.1111111111111111,
              "#46039f"
             ],
             [
              0.2222222222222222,
              "#7201a8"
             ],
             [
              0.3333333333333333,
              "#9c179e"
             ],
             [
              0.4444444444444444,
              "#bd3786"
             ],
             [
              0.5555555555555556,
              "#d8576b"
             ],
             [
              0.6666666666666666,
              "#ed7953"
             ],
             [
              0.7777777777777778,
              "#fb9f3a"
             ],
             [
              0.8888888888888888,
              "#fdca26"
             ],
             [
              1,
              "#f0f921"
             ]
            ],
            "type": "histogram2d"
           }
          ],
          "histogram2dcontour": [
           {
            "colorbar": {
             "outlinewidth": 0,
             "ticks": ""
            },
            "colorscale": [
             [
              0,
              "#0d0887"
             ],
             [
              0.1111111111111111,
              "#46039f"
             ],
             [
              0.2222222222222222,
              "#7201a8"
             ],
             [
              0.3333333333333333,
              "#9c179e"
             ],
             [
              0.4444444444444444,
              "#bd3786"
             ],
             [
              0.5555555555555556,
              "#d8576b"
             ],
             [
              0.6666666666666666,
              "#ed7953"
             ],
             [
              0.7777777777777778,
              "#fb9f3a"
             ],
             [
              0.8888888888888888,
              "#fdca26"
             ],
             [
              1,
              "#f0f921"
             ]
            ],
            "type": "histogram2dcontour"
           }
          ],
          "mesh3d": [
           {
            "colorbar": {
             "outlinewidth": 0,
             "ticks": ""
            },
            "type": "mesh3d"
           }
          ],
          "parcoords": [
           {
            "line": {
             "colorbar": {
              "outlinewidth": 0,
              "ticks": ""
             }
            },
            "type": "parcoords"
           }
          ],
          "pie": [
           {
            "automargin": true,
            "type": "pie"
           }
          ],
          "scatter": [
           {
            "fillpattern": {
             "fillmode": "overlay",
             "size": 10,
             "solidity": 0.2
            },
            "type": "scatter"
           }
          ],
          "scatter3d": [
           {
            "line": {
             "colorbar": {
              "outlinewidth": 0,
              "ticks": ""
             }
            },
            "marker": {
             "colorbar": {
              "outlinewidth": 0,
              "ticks": ""
             }
            },
            "type": "scatter3d"
           }
          ],
          "scattercarpet": [
           {
            "marker": {
             "colorbar": {
              "outlinewidth": 0,
              "ticks": ""
             }
            },
            "type": "scattercarpet"
           }
          ],
          "scattergeo": [
           {
            "marker": {
             "colorbar": {
              "outlinewidth": 0,
              "ticks": ""
             }
            },
            "type": "scattergeo"
           }
          ],
          "scattergl": [
           {
            "marker": {
             "colorbar": {
              "outlinewidth": 0,
              "ticks": ""
             }
            },
            "type": "scattergl"
           }
          ],
          "scattermapbox": [
           {
            "marker": {
             "colorbar": {
              "outlinewidth": 0,
              "ticks": ""
             }
            },
            "type": "scattermapbox"
           }
          ],
          "scatterpolar": [
           {
            "marker": {
             "colorbar": {
              "outlinewidth": 0,
              "ticks": ""
             }
            },
            "type": "scatterpolar"
           }
          ],
          "scatterpolargl": [
           {
            "marker": {
             "colorbar": {
              "outlinewidth": 0,
              "ticks": ""
             }
            },
            "type": "scatterpolargl"
           }
          ],
          "scatterternary": [
           {
            "marker": {
             "colorbar": {
              "outlinewidth": 0,
              "ticks": ""
             }
            },
            "type": "scatterternary"
           }
          ],
          "surface": [
           {
            "colorbar": {
             "outlinewidth": 0,
             "ticks": ""
            },
            "colorscale": [
             [
              0,
              "#0d0887"
             ],
             [
              0.1111111111111111,
              "#46039f"
             ],
             [
              0.2222222222222222,
              "#7201a8"
             ],
             [
              0.3333333333333333,
              "#9c179e"
             ],
             [
              0.4444444444444444,
              "#bd3786"
             ],
             [
              0.5555555555555556,
              "#d8576b"
             ],
             [
              0.6666666666666666,
              "#ed7953"
             ],
             [
              0.7777777777777778,
              "#fb9f3a"
             ],
             [
              0.8888888888888888,
              "#fdca26"
             ],
             [
              1,
              "#f0f921"
             ]
            ],
            "type": "surface"
           }
          ],
          "table": [
           {
            "cells": {
             "fill": {
              "color": "#EBF0F8"
             },
             "line": {
              "color": "white"
             }
            },
            "header": {
             "fill": {
              "color": "#C8D4E3"
             },
             "line": {
              "color": "white"
             }
            },
            "type": "table"
           }
          ]
         },
         "layout": {
          "annotationdefaults": {
           "arrowcolor": "#2a3f5f",
           "arrowhead": 0,
           "arrowwidth": 1
          },
          "autotypenumbers": "strict",
          "coloraxis": {
           "colorbar": {
            "outlinewidth": 0,
            "ticks": ""
           }
          },
          "colorscale": {
           "diverging": [
            [
             0,
             "#8e0152"
            ],
            [
             0.1,
             "#c51b7d"
            ],
            [
             0.2,
             "#de77ae"
            ],
            [
             0.3,
             "#f1b6da"
            ],
            [
             0.4,
             "#fde0ef"
            ],
            [
             0.5,
             "#f7f7f7"
            ],
            [
             0.6,
             "#e6f5d0"
            ],
            [
             0.7,
             "#b8e186"
            ],
            [
             0.8,
             "#7fbc41"
            ],
            [
             0.9,
             "#4d9221"
            ],
            [
             1,
             "#276419"
            ]
           ],
           "sequential": [
            [
             0,
             "#0d0887"
            ],
            [
             0.1111111111111111,
             "#46039f"
            ],
            [
             0.2222222222222222,
             "#7201a8"
            ],
            [
             0.3333333333333333,
             "#9c179e"
            ],
            [
             0.4444444444444444,
             "#bd3786"
            ],
            [
             0.5555555555555556,
             "#d8576b"
            ],
            [
             0.6666666666666666,
             "#ed7953"
            ],
            [
             0.7777777777777778,
             "#fb9f3a"
            ],
            [
             0.8888888888888888,
             "#fdca26"
            ],
            [
             1,
             "#f0f921"
            ]
           ],
           "sequentialminus": [
            [
             0,
             "#0d0887"
            ],
            [
             0.1111111111111111,
             "#46039f"
            ],
            [
             0.2222222222222222,
             "#7201a8"
            ],
            [
             0.3333333333333333,
             "#9c179e"
            ],
            [
             0.4444444444444444,
             "#bd3786"
            ],
            [
             0.5555555555555556,
             "#d8576b"
            ],
            [
             0.6666666666666666,
             "#ed7953"
            ],
            [
             0.7777777777777778,
             "#fb9f3a"
            ],
            [
             0.8888888888888888,
             "#fdca26"
            ],
            [
             1,
             "#f0f921"
            ]
           ]
          },
          "colorway": [
           "#636efa",
           "#EF553B",
           "#00cc96",
           "#ab63fa",
           "#FFA15A",
           "#19d3f3",
           "#FF6692",
           "#B6E880",
           "#FF97FF",
           "#FECB52"
          ],
          "font": {
           "color": "#2a3f5f"
          },
          "geo": {
           "bgcolor": "white",
           "lakecolor": "white",
           "landcolor": "#E5ECF6",
           "showlakes": true,
           "showland": true,
           "subunitcolor": "white"
          },
          "hoverlabel": {
           "align": "left"
          },
          "hovermode": "closest",
          "mapbox": {
           "style": "light"
          },
          "paper_bgcolor": "white",
          "plot_bgcolor": "#E5ECF6",
          "polar": {
           "angularaxis": {
            "gridcolor": "white",
            "linecolor": "white",
            "ticks": ""
           },
           "bgcolor": "#E5ECF6",
           "radialaxis": {
            "gridcolor": "white",
            "linecolor": "white",
            "ticks": ""
           }
          },
          "scene": {
           "xaxis": {
            "backgroundcolor": "#E5ECF6",
            "gridcolor": "white",
            "gridwidth": 2,
            "linecolor": "white",
            "showbackground": true,
            "ticks": "",
            "zerolinecolor": "white"
           },
           "yaxis": {
            "backgroundcolor": "#E5ECF6",
            "gridcolor": "white",
            "gridwidth": 2,
            "linecolor": "white",
            "showbackground": true,
            "ticks": "",
            "zerolinecolor": "white"
           },
           "zaxis": {
            "backgroundcolor": "#E5ECF6",
            "gridcolor": "white",
            "gridwidth": 2,
            "linecolor": "white",
            "showbackground": true,
            "ticks": "",
            "zerolinecolor": "white"
           }
          },
          "shapedefaults": {
           "line": {
            "color": "#2a3f5f"
           }
          },
          "ternary": {
           "aaxis": {
            "gridcolor": "white",
            "linecolor": "white",
            "ticks": ""
           },
           "baxis": {
            "gridcolor": "white",
            "linecolor": "white",
            "ticks": ""
           },
           "bgcolor": "#E5ECF6",
           "caxis": {
            "gridcolor": "white",
            "linecolor": "white",
            "ticks": ""
           }
          },
          "title": {
           "x": 0.05
          },
          "xaxis": {
           "automargin": true,
           "gridcolor": "white",
           "linecolor": "white",
           "ticks": "",
           "title": {
            "standoff": 15
           },
           "zerolinecolor": "white",
           "zerolinewidth": 2
          },
          "yaxis": {
           "automargin": true,
           "gridcolor": "white",
           "linecolor": "white",
           "ticks": "",
           "title": {
            "standoff": 15
           },
           "zerolinecolor": "white",
           "zerolinewidth": 2
          }
         }
        },
        "xaxis": {
         "anchor": "y",
         "domain": [
          0,
          1
         ],
         "title": {
          "text": "Mark Date"
         }
        },
        "yaxis": {
         "anchor": "x",
         "domain": [
          0,
          1
         ],
         "title": {
          "text": "value"
         }
        }
       }
      }
     },
     "metadata": {},
     "output_type": "display_data"
    }
   ],
   "source": [
    "fig = px.line(results, x='Mark Date', y=[\"Min Var\", \"Market\"])\n",
    "fig.show()\n"
   ]
  },
  {
   "cell_type": "code",
   "execution_count": null,
   "metadata": {},
   "outputs": [],
   "source": []
  }
 ],
 "metadata": {
  "kernelspec": {
   "display_name": "Python 3.11.5 ('.venv': venv)",
   "language": "python",
   "name": "python3"
  },
  "language_info": {
   "codemirror_mode": {
    "name": "ipython",
    "version": 3
   },
   "file_extension": ".py",
   "mimetype": "text/x-python",
   "name": "python",
   "nbconvert_exporter": "python",
   "pygments_lexer": "ipython3",
   "version": "3.11.5"
  },
  "orig_nbformat": 4,
  "vscode": {
   "interpreter": {
    "hash": "99a701d0436cf635a089e7b881d4b76e76c29ad9e3222377ea144bd8b2c2f336"
   }
  }
 },
 "nbformat": 4,
 "nbformat_minor": 2
}
